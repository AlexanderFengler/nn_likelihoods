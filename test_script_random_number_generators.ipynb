{
 "cells": [
  {
   "cell_type": "code",
   "execution_count": null,
   "metadata": {},
   "outputs": [],
   "source": [
    "import pickle\n",
    "import os\n",
    "from glob import glob\n",
    "from tqdm import tqdm\n",
    "import numpy as np\n",
    "import matplotlib.pyplot as plt"
   ]
  },
  {
   "cell_type": "code",
   "execution_count": 10,
   "metadata": {},
   "outputs": [],
   "source": [
    "folder = '/media/data_cifs/lakshmi/projectABC/data/rdgp/'\n",
    "files = os.listdir(folder)\n",
    "full_files = [folder + file_ for file_ in files]"
   ]
  },
  {
   "cell_type": "code",
   "execution_count": 11,
   "metadata": {},
   "outputs": [],
   "source": [
    "X = [pickle.load(open(file_, 'rb')) for file_ in full_files]"
   ]
  },
  {
   "cell_type": "code",
   "execution_count": 28,
   "metadata": {},
   "outputs": [],
   "source": [
    "for i in range(len(X)):\n",
    "    tmp = X[i][2]\n",
    "    tmp_id = 0\n",
    "    tmp_cnt = 0\n",
    "    for tmp_tmp in tmp:\n",
    "        X[i][1][tmp_id : (tmp_id + tmp_tmp.shape[0])] = tmp_cnt\n",
    "        tmp_cnt += 1\n",
    "        tmp_id += tmp_tmp.shape[0]"
   ]
  },
  {
   "cell_type": "code",
   "execution_count": 13,
   "metadata": {},
   "outputs": [],
   "source": [
    "Y = X.copy()"
   ]
  },
  {
   "cell_type": "code",
   "execution_count": 37,
   "metadata": {},
   "outputs": [
    {
     "name": "stderr",
     "output_type": "stream",
     "text": [
      "100%|██████████| 100/100 [02:22<00:00,  1.42s/it]\n"
     ]
    }
   ],
   "source": [
    "for i in tqdm(range(len(X))):\n",
    "    pickle.dump(X[i], open(full_files[i], 'wb'), protocol = 2)"
   ]
  },
  {
   "cell_type": "code",
   "execution_count": 39,
   "metadata": {},
   "outputs": [
    {
     "data": {
      "text/plain": [
       "100"
      ]
     },
     "execution_count": 39,
     "metadata": {},
     "output_type": "execute_result"
    }
   ],
   "source": [
    "len(X)"
   ]
  },
  {
   "cell_type": "code",
   "execution_count": 68,
   "metadata": {},
   "outputs": [],
   "source": [
    "a = np.zeros((100, 1))"
   ]
  },
  {
   "cell_type": "code",
   "execution_count": 60,
   "metadata": {},
   "outputs": [],
   "source": [
    "a = np.random.choice(5, size = (20000, 1))"
   ]
  },
  {
   "cell_type": "code",
   "execution_count": 64,
   "metadata": {},
   "outputs": [],
   "source": [
    "a.sort(axis = 0)"
   ]
  },
  {
   "cell_type": "code",
   "execution_count": 69,
   "metadata": {},
   "outputs": [
    {
     "data": {
      "text/plain": [
       "numpy.ndarray"
      ]
     },
     "execution_count": 69,
     "metadata": {},
     "output_type": "execute_result"
    }
   ],
   "source": [
    "type(a)"
   ]
  },
  {
   "cell_type": "code",
   "execution_count": 65,
   "metadata": {},
   "outputs": [
    {
     "data": {
      "text/plain": [
       "array([[0],\n",
       "       [0],\n",
       "       [0],\n",
       "       ...,\n",
       "       [4],\n",
       "       [4],\n",
       "       [4]])"
      ]
     },
     "execution_count": 65,
     "metadata": {},
     "output_type": "execute_result"
    }
   ],
   "source": [
    "a"
   ]
  },
  {
   "cell_type": "code",
   "execution_count": 70,
   "metadata": {},
   "outputs": [],
   "source": [
    "import pandas as pd\n"
   ]
  },
  {
   "cell_type": "code",
   "execution_count": 72,
   "metadata": {},
   "outputs": [],
   "source": [
    "x = pd.DataFrame(np.zeros((100, 10)))"
   ]
  },
  {
   "cell_type": "code",
   "execution_count": 76,
   "metadata": {},
   "outputs": [],
   "source": [
    "a = np.unique(np.array([1, -1]))"
   ]
  },
  {
   "cell_type": "code",
   "execution_count": 78,
   "metadata": {},
   "outputs": [],
   "source": [
    "a.sort()"
   ]
  },
  {
   "cell_type": "code",
   "execution_count": 80,
   "metadata": {},
   "outputs": [],
   "source": [
    "a = np.zeros((200000000, 10))"
   ]
  },
  {
   "cell_type": "code",
   "execution_count": 82,
   "metadata": {},
   "outputs": [
    {
     "data": {
      "text/plain": [
       "16000000112"
      ]
     },
     "execution_count": 82,
     "metadata": {},
     "output_type": "execute_result"
    }
   ],
   "source": [
    "from sys import getsizeof\n",
    "getsizeof(a)"
   ]
  },
  {
   "cell_type": "code",
   "execution_count": 77,
   "metadata": {},
   "outputs": [
    {
     "data": {
      "text/plain": [
       "(array([1.65490e+00, 1.11035e+00, 7.34450e-01, 4.96200e-01, 3.31350e-01,\n",
       "        2.18350e-01, 1.46850e-01, 9.99000e-02, 7.04000e-02, 4.42000e-02,\n",
       "        3.02000e-02, 2.22000e-02, 1.36000e-02, 8.80000e-03, 6.50000e-03,\n",
       "        4.05000e-03, 2.45000e-03, 1.50000e-03, 1.00000e-03, 9.00000e-04,\n",
       "        7.00000e-04, 5.00000e-04, 2.00000e-04, 1.00000e-04, 5.00000e-05,\n",
       "        5.00000e-05, 1.00000e-04, 0.00000e+00, 1.50000e-04, 0.00000e+00,\n",
       "        0.00000e+00, 0.00000e+00, 0.00000e+00, 0.00000e+00, 0.00000e+00,\n",
       "        0.00000e+00, 0.00000e+00, 0.00000e+00, 0.00000e+00, 0.00000e+00,\n",
       "        0.00000e+00, 0.00000e+00, 0.00000e+00, 0.00000e+00, 0.00000e+00,\n",
       "        0.00000e+00, 0.00000e+00, 0.00000e+00, 0.00000e+00]),\n",
       " array([0. , 0.2, 0.4, 0.6, 0.8, 1. , 1.2, 1.4, 1.6, 1.8, 2. , 2.2, 2.4,\n",
       "        2.6, 2.8, 3. , 3.2, 3.4, 3.6, 3.8, 4. , 4.2, 4.4, 4.6, 4.8, 5. ,\n",
       "        5.2, 5.4, 5.6, 5.8, 6. , 6.2, 6.4, 6.6, 6.8, 7. , 7.2, 7.4, 7.6,\n",
       "        7.8, 8. , 8.2, 8.4, 8.6, 8.8, 9. , 9.2, 9.4, 9.6, 9.8]),\n",
       " <a list of 49 Patch objects>)"
      ]
     },
     "execution_count": 77,
     "metadata": {},
     "output_type": "execute_result"
    },
    {
     "data": {
      "image/png": "[encoded data removed]",
      "text/plain": [
       "<Figure size 432x288 with 1 Axes>"
      ]
     },
     "metadata": {
      "needs_background": "light"
     },
     "output_type": "display_data"
    }
   ],
   "source": [
    "l = 2\n",
    "plt.hist(np.random.exponential(scale = 1 / l, size = 100000), bins = np.arange(0, 10, 0.2), alpha = 0.2, color = 'green', density = True)\n",
    "plt.hist(-(1/l) * np.log(np.random.uniform(size = 100000)), bins = np.arange(0, 10, 0.2), alpha = 0.2, color = 'red', density = True)"
   ]
  },
  {
   "cell_type": "code",
   "execution_count": 17,
   "metadata": {},
   "outputs": [
    {
     "data": {
      "text/plain": [
       "(array([9., 5., 8., 6., 8., 4., 5., 3., 6., 2., 3., 3., 2., 2., 2., 1., 2.,\n",
       "        6., 2., 1., 2., 3., 1., 1., 1., 1., 0., 0., 1., 2., 0., 1., 0., 0.,\n",
       "        0., 0., 1., 0., 3., 0., 0., 0., 0., 1., 1., 0., 0., 0., 0., 1.]),\n",
       " array([1.33937208e-02, 7.12920522e-01, 1.41244732e+00, 2.11197413e+00,\n",
       "        2.81150093e+00, 3.51102773e+00, 4.21055453e+00, 4.91008133e+00,\n",
       "        5.60960813e+00, 6.30913493e+00, 7.00866174e+00, 7.70818854e+00,\n",
       "        8.40771534e+00, 9.10724214e+00, 9.80676894e+00, 1.05062957e+01,\n",
       "        1.12058225e+01, 1.19053493e+01, 1.26048761e+01, 1.33044029e+01,\n",
       "        1.40039297e+01, 1.47034566e+01, 1.54029834e+01, 1.61025102e+01,\n",
       "        1.68020370e+01, 1.75015638e+01, 1.82010906e+01, 1.89006174e+01,\n",
       "        1.96001442e+01, 2.02996710e+01, 2.09991978e+01, 2.16987246e+01,\n",
       "        2.23982514e+01, 2.30977782e+01, 2.37973050e+01, 2.44968318e+01,\n",
       "        2.51963586e+01, 2.58958854e+01, 2.65954122e+01, 2.72949390e+01,\n",
       "        2.79944658e+01, 2.86939926e+01, 2.93935194e+01, 3.00930462e+01,\n",
       "        3.07925730e+01, 3.14920998e+01, 3.21916266e+01, 3.28911534e+01,\n",
       "        3.35906802e+01, 3.42902070e+01, 3.49897338e+01]),\n",
       " <a list of 50 Patch objects>)"
      ]
     },
     "execution_count": 17,
     "metadata": {},
     "output_type": "execute_result"
    },
    {
     "data": {
      "image/png": "[encoded data removed]",
      "text/plain": [
       "<Figure size 432x288 with 1 Axes>"
      ]
     },
     "metadata": {
      "needs_background": "light"
     },
     "output_type": "display_data"
    }
   ],
   "source": [
    "plt.hist(np.random.exponential(scale = l, size = 100), bins = 50, alpha = 0.2, color = 'green')"
   ]
  },
  {
   "cell_type": "code",
   "execution_count": 73,
   "metadata": {},
   "outputs": [],
   "source": [
    "def assign_random_gaussian_pair():\n",
    "    w = 2\n",
    "    while w >= 1:\n",
    "        x1 = (2.0 * np.random.uniform()) - 1.0\n",
    "        x2 = (2.0 * np.random.uniform()) - 1.0\n",
    "        w = (x1 * x1) + (x2 * x2)\n",
    "    w = np.sqrt(((-2.0 * np.log(w) / w)))\n",
    "    x1 = x1 * w\n",
    "    x2 = x2 * w\n",
    "    return [x1, x2]\n",
    "\n",
    "def gauss_vec(n = 1000):\n",
    "    my_vec = np.zeros((n))\n",
    "    for i in range(0, n, 2):\n",
    "        my_vec[i], my_vec[i + 1] = assign_random_gaussian_pair()\n",
    "    return my_vec"
   ]
  },
  {
   "cell_type": "code",
   "execution_count": 170,
   "metadata": {},
   "outputs": [],
   "source": [
    "def random_stable(alpha = 1.0):\n",
    "    #chi = - np.tan(np.pi / 2 * alpha)\n",
    "\n",
    "    u = np.pi * (np.random.uniform() - 0.5)\n",
    "    w = - np.log(np.random.uniform()) # lognp.random.exponential()\n",
    "\n",
    "    if alpha == 1.0:\n",
    "        eta = np.pi / 2\n",
    "        x = (1.0 / eta) * ((np.pi / 2) * np.tan(u)) # - np.log((np.pi / 2 * w * np.cos(u)) / (np.pi / 2 + u)))\n",
    "    else:\n",
    "        #eta = (1.0 / alpha) * np.atan(- chi)\n",
    "        x = (np.sin(alpha * (u)) / np.power(np.cos(u), 1.0 / alpha)) * \\\n",
    "                np.power(np.cos(u - (alpha * u)) / w, (1.0 - alpha) / alpha)\n",
    "    return x\n",
    "\n",
    "def random_stable_vec(alpha = 1.0, n = 10000):\n",
    "    my_vec = np.zeros((n))\n",
    "    for i in range(n):\n",
    "        my_vec[i] = random_stable(alpha = alpha)\n",
    "    return my_vec"
   ]
  },
  {
   "cell_type": "code",
   "execution_count": 168,
   "metadata": {},
   "outputs": [],
   "source": [
    "stable_ = random_stable_vec(alpha = 0.5, n = 100000)"
   ]
  },
  {
   "cell_type": "code",
   "execution_count": 169,
   "metadata": {},
   "outputs": [
    {
     "data": {
      "text/plain": [
       "(array([0.0060599 , 0.00618884, 0.00599544, 0.00593097, 0.00780051,\n",
       "        0.00696244, 0.00870305, 0.00850965, 0.00883199, 0.00850965,\n",
       "        0.00857412, 0.00883199, 0.00896092, 0.00915432, 0.01050813,\n",
       "        0.01250661, 0.01005686, 0.01147514, 0.01302234, 0.01160407,\n",
       "        0.01083046, 0.01373148, 0.01315128, 0.01424722, 0.01553656,\n",
       "        0.01734164, 0.01785737, 0.01695483, 0.01908225, 0.02062946,\n",
       "        0.02043606, 0.0219188 , 0.02862337, 0.02585129, 0.0272051 ,\n",
       "        0.02984824, 0.03655282, 0.03829343, 0.0399051 , 0.04847922,\n",
       "        0.05292745, 0.06362898, 0.0731701 , 0.08458077, 0.10282495,\n",
       "        0.12416354, 0.16039402, 0.22009051, 0.34186877, 0.61733648,\n",
       "        0.62758674, 0.34154644, 0.22357173, 0.16400418, 0.12577522,\n",
       "        0.10205134, 0.08013254, 0.06897974, 0.05853608, 0.05208938,\n",
       "        0.04435333, 0.04241932, 0.0387447 , 0.03616602, 0.03390967,\n",
       "        0.02791423, 0.02636702, 0.02598022, 0.02533555, 0.02178986,\n",
       "        0.02095179, 0.01875991, 0.01689037, 0.01695483, 0.01753504,\n",
       "        0.01521422, 0.01566549, 0.01469849, 0.01289341, 0.01347361,\n",
       "        0.01353808, 0.01141067, 0.011733  , 0.0109594 , 0.01083046,\n",
       "        0.01018579, 0.00986346, 0.01025026, 0.00934772, 0.00921879,\n",
       "        0.00992793, 0.00747818, 0.00876752, 0.00696244, 0.00676904,\n",
       "        0.00838072, 0.00670457, 0.00593097, 0.00580203]),\n",
       " array([-1.00000000e+01, -9.80000000e+00, -9.60000000e+00, -9.40000000e+00,\n",
       "        -9.20000000e+00, -9.00000000e+00, -8.80000000e+00, -8.60000000e+00,\n",
       "        -8.40000000e+00, -8.20000000e+00, -8.00000000e+00, -7.80000000e+00,\n",
       "        -7.60000000e+00, -7.40000000e+00, -7.20000000e+00, -7.00000000e+00,\n",
       "        -6.80000000e+00, -6.60000000e+00, -6.40000000e+00, -6.20000000e+00,\n",
       "        -6.00000000e+00, -5.80000000e+00, -5.60000000e+00, -5.40000000e+00,\n",
       "        -5.20000000e+00, -5.00000000e+00, -4.80000000e+00, -4.60000000e+00,\n",
       "        -4.40000000e+00, -4.20000000e+00, -4.00000000e+00, -3.80000000e+00,\n",
       "        -3.60000000e+00, -3.40000000e+00, -3.20000000e+00, -3.00000000e+00,\n",
       "        -2.80000000e+00, -2.60000000e+00, -2.40000000e+00, -2.20000000e+00,\n",
       "        -2.00000000e+00, -1.80000000e+00, -1.60000000e+00, -1.40000000e+00,\n",
       "        -1.20000000e+00, -1.00000000e+00, -8.00000000e-01, -6.00000000e-01,\n",
       "        -4.00000000e-01, -2.00000000e-01, -3.55271368e-14,  2.00000000e-01,\n",
       "         4.00000000e-01,  6.00000000e-01,  8.00000000e-01,  1.00000000e+00,\n",
       "         1.20000000e+00,  1.40000000e+00,  1.60000000e+00,  1.80000000e+00,\n",
       "         2.00000000e+00,  2.20000000e+00,  2.40000000e+00,  2.60000000e+00,\n",
       "         2.80000000e+00,  3.00000000e+00,  3.20000000e+00,  3.40000000e+00,\n",
       "         3.60000000e+00,  3.80000000e+00,  4.00000000e+00,  4.20000000e+00,\n",
       "         4.40000000e+00,  4.60000000e+00,  4.80000000e+00,  5.00000000e+00,\n",
       "         5.20000000e+00,  5.40000000e+00,  5.60000000e+00,  5.80000000e+00,\n",
       "         6.00000000e+00,  6.20000000e+00,  6.40000000e+00,  6.60000000e+00,\n",
       "         6.80000000e+00,  7.00000000e+00,  7.20000000e+00,  7.40000000e+00,\n",
       "         7.60000000e+00,  7.80000000e+00,  8.00000000e+00,  8.20000000e+00,\n",
       "         8.40000000e+00,  8.60000000e+00,  8.80000000e+00,  9.00000000e+00,\n",
       "         9.20000000e+00,  9.40000000e+00,  9.60000000e+00,  9.80000000e+00]),\n",
       " <a list of 99 Patch objects>)"
      ]
     },
     "execution_count": 169,
     "metadata": {},
     "output_type": "execute_result"
    },
    {
     "data": {
      "image/png": "[encoded data removed]",
      "text/plain": [
       "<Figure size 432x288 with 1 Axes>"
      ]
     },
     "metadata": {
      "needs_background": "light"
     },
     "output_type": "display_data"
    }
   ],
   "source": [
    "plt.hist(stable_, bins = np.arange(-10, 10, 0.2), density = True)"
   ]
  },
  {
   "cell_type": "code",
   "execution_count": 74,
   "metadata": {},
   "outputs": [],
   "source": [
    "gauss_ = gauss_vec(n = 100000)"
   ]
  },
  {
   "cell_type": "code",
   "execution_count": 129,
   "metadata": {},
   "outputs": [
    {
     "data": {
      "text/plain": [
       "(array([1.20013201e-04, 9.20101211e-04, 1.08011881e-03, 2.84031243e-03,\n",
       "        6.44070848e-03, 1.38415226e-02, 2.50027503e-02, 4.44048845e-02,\n",
       "        6.95276480e-02, 1.07051776e-01, 1.52056726e-01, 2.08862975e-01,\n",
       "        2.69389633e-01, 3.33236656e-01, 3.78361620e-01, 3.95323486e-01,\n",
       "        3.93523288e-01, 3.75921351e-01, 3.29756273e-01, 2.69309624e-01,\n",
       "        2.06302693e-01, 1.51456660e-01, 1.06251688e-01, 7.16078769e-02,\n",
       "        4.13645501e-02, 2.19624159e-02, 1.26413906e-02, 6.40070408e-03,\n",
       "        3.20035204e-03, 1.16012761e-03, 6.80074808e-04]),\n",
       " array([-4.  , -3.75, -3.5 , -3.25, -3.  , -2.75, -2.5 , -2.25, -2.  ,\n",
       "        -1.75, -1.5 , -1.25, -1.  , -0.75, -0.5 , -0.25,  0.  ,  0.25,\n",
       "         0.5 ,  0.75,  1.  ,  1.25,  1.5 ,  1.75,  2.  ,  2.25,  2.5 ,\n",
       "         2.75,  3.  ,  3.25,  3.5 ,  3.75]),\n",
       " <a list of 31 Patch objects>)"
      ]
     },
     "execution_count": 129,
     "metadata": {},
     "output_type": "execute_result"
    },
    {
     "data": {
      "image/png": "[encoded data removed]",
      "text/plain": [
       "<Figure size 432x288 with 1 Axes>"
      ]
     },
     "metadata": {
      "needs_background": "light"
     },
     "output_type": "display_data"
    }
   ],
   "source": [
    "plt.hist(gauss_, bins = np.arange(-4, 4, 0.25), density = True)"
   ]
  },
  {
   "cell_type": "code",
   "execution_count": 134,
   "metadata": {},
   "outputs": [
    {
     "data": {
      "text/plain": [
       "(array([2.40043208e-04, 3.60064812e-04, 1.12020164e-03, 3.00054010e-03,\n",
       "        5.80104419e-03, 1.21221820e-02, 2.44444000e-02, 4.28477126e-02,\n",
       "        6.84523214e-02, 1.06819227e-01, 1.55828049e-01, 2.03916705e-01,\n",
       "        2.72529055e-01, 3.23858294e-01, 3.75387570e-01, 3.99711948e-01,\n",
       "        3.87309716e-01, 3.78668160e-01, 3.27738993e-01, 2.70168630e-01,\n",
       "        2.11558080e-01, 1.57508352e-01, 1.08579544e-01, 6.94925087e-02,\n",
       "        4.40479286e-02, 2.32441840e-02, 1.36824628e-02, 6.40115221e-03,\n",
       "        3.52063371e-03, 1.20021604e-03, 4.40079214e-04]),\n",
       " array([-4.  , -3.75, -3.5 , -3.25, -3.  , -2.75, -2.5 , -2.25, -2.  ,\n",
       "        -1.75, -1.5 , -1.25, -1.  , -0.75, -0.5 , -0.25,  0.  ,  0.25,\n",
       "         0.5 ,  0.75,  1.  ,  1.25,  1.5 ,  1.75,  2.  ,  2.25,  2.5 ,\n",
       "         2.75,  3.  ,  3.25,  3.5 ,  3.75]),\n",
       " <a list of 31 Patch objects>)"
      ]
     },
     "execution_count": 134,
     "metadata": {},
     "output_type": "execute_result"
    },
    {
     "data": {
      "image/png": "[encoded data removed]",
      "text/plain": [
       "<Figure size 432x288 with 1 Axes>"
      ]
     },
     "metadata": {
      "needs_background": "light"
     },
     "output_type": "display_data"
    }
   ],
   "source": [
    "plt.hist(np.random.normal(size = 100000), bins = np.arange(-4, 4, 0.25), density = True)"
   ]
  },
  {
   "cell_type": "code",
   "execution_count": 76,
   "metadata": {},
   "outputs": [
    {
     "data": {
      "text/plain": [
       "array([0. , 0.1, 0.2, 0.3, 0.4, 0.5, 0.6, 0.7, 0.8, 0.9, 1. , 1.1, 1.2,\n",
       "       1.3, 1.4, 1.5, 1.6, 1.7, 1.8, 1.9, 2. , 2.1, 2.2, 2.3, 2.4, 2.5,\n",
       "       2.6, 2.7, 2.8, 2.9, 3. , 3.1, 3.2, 3.3, 3.4, 3.5, 3.6, 3.7, 3.8,\n",
       "       3.9, 4. , 4.1, 4.2, 4.3, 4.4, 4.5, 4.6, 4.7, 4.8, 4.9, 5. , 5.1,\n",
       "       5.2, 5.3, 5.4, 5.5, 5.6, 5.7, 5.8, 5.9, 6. , 6.1, 6.2, 6.3, 6.4,\n",
       "       6.5, 6.6, 6.7, 6.8, 6.9, 7. , 7.1, 7.2, 7.3, 7.4, 7.5, 7.6, 7.7,\n",
       "       7.8, 7.9, 8. , 8.1, 8.2, 8.3, 8.4, 8.5, 8.6, 8.7, 8.8, 8.9, 9. ,\n",
       "       9.1, 9.2, 9.3, 9.4, 9.5, 9.6, 9.7, 9.8, 9.9])"
      ]
     },
     "execution_count": 76,
     "metadata": {},
     "output_type": "execute_result"
    }
   ],
   "source": [
    "np.arange(0, 10, 0.1)"
   ]
  },
  {
   "cell_type": "code",
   "execution_count": 98,
   "metadata": {},
   "outputs": [
    {
     "data": {
      "text/plain": [
       "array([0.82947635, 0.86925712, 0.0956282 , 0.74167118, 0.04928841,\n",
       "       0.08148664, 0.76690136, 0.7593671 , 0.54340455, 0.11537967,\n",
       "       0.73486125, 0.05055741, 0.61551006, 0.79297287, 0.2415867 ,\n",
       "       0.82039148, 0.77268772, 0.60936672, 0.9979804 , 0.75682287,\n",
       "       0.54634666, 0.5760159 , 0.99388096, 0.81502489, 0.78452434,\n",
       "       0.9365287 , 0.20607237, 0.35066631, 0.76390578, 0.67281694,\n",
       "       0.28343064, 0.71107525, 0.70321129, 0.16557274, 0.19763608,\n",
       "       0.46087519, 0.19059219, 0.35811839, 0.52678292, 0.85861075,\n",
       "       0.58603676, 0.33682223, 0.72152469, 0.15586839, 0.82339441,\n",
       "       0.69858352, 0.30494963, 0.39155689, 0.02462299, 0.60934576,\n",
       "       0.16533058, 0.96277186, 0.81803035, 0.82990329, 0.24266656,\n",
       "       0.75872938, 0.94748347, 0.19109218, 0.45069619, 0.0118327 ,\n",
       "       0.83295111, 0.26449206, 0.31587694, 0.5057625 , 0.80955566,\n",
       "       0.22005296, 0.12564615, 0.79997527, 0.77188926, 0.82390537,\n",
       "       0.50486926, 0.0722978 , 0.80342489, 0.44917385, 0.53180292,\n",
       "       0.52562994, 0.01865315, 0.40706515, 0.70233453, 0.39151815,\n",
       "       0.13664852, 0.55632946, 0.05410395, 0.32938032, 0.00861507,\n",
       "       0.83194099, 0.40479264, 0.68401958, 0.98909805, 0.06791647,\n",
       "       0.75007267, 0.34570079, 0.58360467, 0.97783014, 0.71727649,\n",
       "       0.84888525, 0.14783136, 0.31802961, 0.58873666, 0.67852323])"
      ]
     },
     "execution_count": 98,
     "metadata": {},
     "output_type": "execute_result"
    }
   ],
   "source": [
    "np.random.uniform(size = (100))"
   ]
  },
  {
   "cell_type": "code",
   "execution_count": 138,
   "metadata": {},
   "outputs": [
    {
     "data": {
      "text/plain": [
       "1.0095606517663749"
      ]
     },
     "execution_count": 138,
     "metadata": {},
     "output_type": "execute_result"
    }
   ],
   "source": [
    "np.mean(np.random.exponential(size = (10000)))"
   ]
  },
  {
   "cell_type": "code",
   "execution_count": 140,
   "metadata": {},
   "outputs": [
    {
     "data": {
      "text/plain": [
       "(array([2526., 2568., 2410., 2504., 2596., 2507., 2494., 2496., 2534.,\n",
       "        2550., 2456., 2473., 2514., 2554., 2520., 2576., 2525., 2558.,\n",
       "        2429., 2429., 2509., 2410., 2423., 2567., 2536., 2537., 2486.,\n",
       "        2447., 2565., 2431., 2523., 2489., 2438., 2470., 2520., 2493.,\n",
       "        2507., 2436., 2483., 2511.]),\n",
       " array([-1.57076855e+00, -1.49223017e+00, -1.41369180e+00, -1.33515342e+00,\n",
       "        -1.25661505e+00, -1.17807667e+00, -1.09953830e+00, -1.02099992e+00,\n",
       "        -9.42461550e-01, -8.63923175e-01, -7.85384801e-01, -7.06846426e-01,\n",
       "        -6.28308051e-01, -5.49769677e-01, -4.71231302e-01, -3.92692928e-01,\n",
       "        -3.14154553e-01, -2.35616179e-01, -1.57077804e-01, -7.85394299e-02,\n",
       "        -1.05535546e-06,  7.85373192e-02,  1.57075694e-01,  2.35614068e-01,\n",
       "         3.14152443e-01,  3.92690817e-01,  4.71229192e-01,  5.49767566e-01,\n",
       "         6.28305941e-01,  7.06844315e-01,  7.85382690e-01,  8.63921064e-01,\n",
       "         9.42459439e-01,  1.02099781e+00,  1.09953619e+00,  1.17807456e+00,\n",
       "         1.25661294e+00,  1.33515131e+00,  1.41368969e+00,  1.49222806e+00,\n",
       "         1.57076643e+00]),\n",
       " <a list of 40 Patch objects>)"
      ]
     },
     "execution_count": 140,
     "metadata": {},
     "output_type": "execute_result"
    },
    {
     "data": {
      "image/png": "[encoded data removed]",
      "text/plain": [
       "<Figure size 432x288 with 1 Axes>"
      ]
     },
     "metadata": {
      "needs_background": "light"
     },
     "output_type": "display_data"
    }
   ],
   "source": [
    "plt.hist(np.pi * (np.random.uniform(size = (100000)) - 0.5), bins = 40)"
   ]
  },
  {
   "cell_type": "code",
   "execution_count": 149,
   "metadata": {},
   "outputs": [
    {
     "data": {
      "text/plain": [
       "0.49688658081328557"
      ]
     },
     "execution_count": 149,
     "metadata": {},
     "output_type": "execute_result"
    }
   ],
   "source": [
    "np.mean(- (1/2 * np.log(np.random.uniform(size = 10000))))"
   ]
  },
  {
   "cell_type": "code",
   "execution_count": 172,
   "metadata": {},
   "outputs": [
    {
     "data": {
      "text/plain": [
       "array([0., 0., 0., 0., 0., 0., 0., 0., 0., 0.])"
      ]
     },
     "execution_count": 172,
     "metadata": {},
     "output_type": "execute_result"
    }
   ],
   "source": [
    "np.linspace(0,0, 10)"
   ]
  },
  {
   "cell_type": "code",
   "execution_count": null,
   "metadata": {},
   "outputs": [],
   "source": []
  }
 ],
 "metadata": {
  "kernelspec": {
   "display_name": "Python 3",
   "language": "python",
   "name": "python3"
  },
  "language_info": {
   "codemirror_mode": {
    "name": "ipython",
    "version": 3
   },
   "file_extension": ".py",
   "mimetype": "text/x-python",
   "name": "python",
   "nbconvert_exporter": "python",
   "pygments_lexer": "ipython3",
   "version": "3.7.4"
  }
 },
 "nbformat": 4,
 "nbformat_minor": 4
}
