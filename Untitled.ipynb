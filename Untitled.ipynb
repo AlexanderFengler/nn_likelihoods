{
 "cells": [
  {
   "cell_type": "code",
   "execution_count": 9,
   "metadata": {},
   "outputs": [],
   "source": [
    "import os\n",
    "import drugowitsch_wfpt as simulator_d\n",
    "import ddm_data_simulation as simulator_e\n",
    "import numpy as np"
   ]
  },
  {
   "cell_type": "code",
   "execution_count": 2,
   "metadata": {},
   "outputs": [
    {
     "name": "stdout",
     "output_type": "stream",
     "text": [
      "0  datapoints sampled\n",
      "1000  datapoints sampled\n",
      "2000  datapoints sampled\n",
      "3000  datapoints sampled\n",
      "4000  datapoints sampled\n",
      "5000  datapoints sampled\n",
      "6000  datapoints sampled\n",
      "7000  datapoints sampled\n",
      "8000  datapoints sampled\n",
      "9000  datapoints sampled\n"
     ]
    }
   ],
   "source": [
    "data = simulator_e.ddm_simulate_rts(n_samples = 10000)"
   ]
  },
  {
   "cell_type": "code",
   "execution_count": 3,
   "metadata": {},
   "outputs": [],
   "source": [
    "drug_simulator = simulator_d.ddm_data_simulator()"
   ]
  },
  {
   "cell_type": "code",
   "execution_count": 4,
   "metadata": {},
   "outputs": [
    {
     "name": "stdout",
     "output_type": "stream",
     "text": [
      "0  data points sampled\n",
      "1000  data points sampled\n",
      "2000  data points sampled\n",
      "3000  data points sampled\n",
      "4000  data points sampled\n",
      "5000  data points sampled\n",
      "6000  data points sampled\n",
      "7000  data points sampled\n",
      "8000  data points sampled\n",
      "9000  data points sampled\n"
     ]
    }
   ],
   "source": [
    "drug_simulator.model_params['mu'] = 0\n",
    "data_drug = drug_simulator.make_data()"
   ]
  },
  {
   "cell_type": "code",
   "execution_count": 5,
   "metadata": {},
   "outputs": [],
   "source": [
    "data_drug = (data_drug[:,0] * data_drug[:,1]).T"
   ]
  },
  {
   "cell_type": "code",
   "execution_count": 11,
   "metadata": {},
   "outputs": [
    {
     "data": {
      "image/png": "[encoded data removed]",
      "text/plain": [
       "<Figure size 432x288 with 1 Axes>"
      ]
     },
     "metadata": {},
     "output_type": "display_data"
    }
   ],
   "source": [
    "import matplotlib.pyplot as plt\n",
    "bins = np.linspace(-10, 10, 100)\n",
    "plt.hist(data, bins = bins, alpha = 0.5, label = 'euler_maruyama', color = 'blue')\n",
    "plt.hist(data_drug, bins = bins, alpha = 0.5, label = 'drugowitsch', color = 'orange')\n",
    "#plt.legend(loc = 'upper right')\n",
    "plt.show()"
   ]
  }
 ],
 "metadata": {
  "kernelspec": {
   "display_name": "Python [default]",
   "language": "python",
   "name": "python3"
  },
  "language_info": {
   "codemirror_mode": {
    "name": "ipython",
    "version": 3
   },
   "file_extension": ".py",
   "mimetype": "text/x-python",
   "name": "python",
   "nbconvert_exporter": "python",
   "pygments_lexer": "ipython3",
   "version": "3.6.1"
  }
 },
 "nbformat": 4,
 "nbformat_minor": 2
}
