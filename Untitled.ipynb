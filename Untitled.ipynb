{
 "cells": [
  {
   "cell_type": "code",
   "execution_count": 67,
   "metadata": {},
   "outputs": [],
   "source": [
    "# Load packages\n",
    "import tensorflow as tf\n",
    "import pandas as pd\n",
    "from tensorflow import keras\n",
    "import numpy as np\n",
    "import pandas as pd\n",
    "import os\n",
    "import scipy as scp\n",
    "import scipy.stats as scps\n",
    "import pickle\n",
    "import matplotlib.pyplot as plt\n",
    "import matplotlib\n",
    "import seaborn as sns\n",
    "from datetime import datetime\n",
    "import time\n",
    "import scipy.optimize as scp_opt\n",
    "from scipy.stats import mode\n",
    "from statsmodels.distributions.empirical_distribution import ECDF"
   ]
  },
  {
   "cell_type": "code",
   "execution_count": 22,
   "metadata": {},
   "outputs": [
    {
     "data": {
      "text/plain": [
       "['full_ddm2', 'levy', 'ddm', 'angle2', 'ddm_sdv', 'ornstein', 'weibull_cdf2']"
      ]
     },
     "execution_count": 22,
     "metadata": {},
     "output_type": "execute_result"
    }
   ],
   "source": [
    "n = str(1024)\n",
    "base_folder = '/users/afengler/OneDrive/project_nn_likelihoods/data/timings/elife_param_recovery/'\n",
    "dir_ = os.listdir(base_folder)\n",
    "\n",
    "file_list = []\n",
    "for tmp_dir_ in dir_:\n",
    "    file_list_tmp = os.listdir(base_folder + tmp_dir_)\n",
    "    print(file_list_tmp)\n",
    "    for file_ in file_list_tmp:\n",
    "        if n in file_:\n",
    "            file_list.append(pickle.load(open(base_folder + tmp_dir_ + '/' + file_, 'rb')))\n",
    "\n",
    "my_columns = []\n",
    "for dir_tmp in dir_:\n",
    "    if dir_tmp == 'full_ddm2':\n",
    "        my_columns.append('Full-DDM'.upper())\n",
    "    elif dir_tmp == 'weibull_cdf2':\n",
    "        my_columns.append('Weibull'.upper())\n",
    "    elif dir_tmp == 'angle2':\n",
    "        my_columns.append('Angle'.upper())\n",
    "    elif dir_tmp == 'ddm_sdv':\n",
    "        my_columns.append('ddm-sdv'.upper())\n",
    "    else:\n",
    "        my_columns.append(dir_tmp.upper())\n",
    "        \n",
    "            \n",
    "mlp_timings_1024 = pd.DataFrame(np.array([file_list[i][3] for i in range(len(file_list))]).T, columns = my_columns)"
   ]
  },
  {
   "cell_type": "code",
   "execution_count": 110,
   "metadata": {},
   "outputs": [],
   "source": [
    "base_folder = '/users/afengler/OneDrive/project_nn_likelihoods/eLIFE_exps/summaries/'\n",
    "dir_ = os.listdir(base_folder)"
   ]
  },
  {
   "cell_type": "code",
   "execution_count": 138,
   "metadata": {},
   "outputs": [
    {
     "name": "stdout",
     "output_type": "stream",
     "text": [
      "IS_summary_levy_N_1024.pickle\n",
      "IS_summary_ornstein_N_1024.pickle\n",
      "IS_summary_lca_4_N_1024.pickle\n",
      "IS_summary_weibull_cdf_N_1024.pickle\n",
      "IS_summary_lca_3_N_1024.pickle\n",
      "IS_summary_angle_N_1024.pickle\n",
      "IS_summary_ddm_sdv_N_1024.pickle\n",
      "IS_summary_ddm_N_1024.pickle\n",
      "IS_summary_race_model_4_N_1024.pickle\n",
      "IS_summary_race_model_3_N_1024.pickle\n",
      "IS_summary_full_ddm2_N_1024.pickle\n"
     ]
    }
   ],
   "source": [
    "file_list_cnn = []\n",
    "model_names = []\n",
    "for file_ in dir_:\n",
    "    if n in file_:\n",
    "        print(file_)\n",
    "        tmp_file = file_[11:-14].replace('_', '-').upper()\n",
    "        model_names.append(tmp_file)\n",
    "        file_list_cnn.append(pickle.load(open(base_folder + '/' + file_, 'rb')))"
   ]
  },
  {
   "cell_type": "code",
   "execution_count": 129,
   "metadata": {},
   "outputs": [],
   "source": [
    "timings_list_cnn = [file_list_cnn[i]['timings'] for i in range(len(file_list_cnn))]\n",
    "timings_list_cnn_clean = np.array([timings_list_cnn[i][np.random.choice(900, size = 500)] for i in range(len(timings_list_cnn))]).T"
   ]
  },
  {
   "cell_type": "code",
   "execution_count": 140,
   "metadata": {},
   "outputs": [],
   "source": [
    "cnn_timings_1024 = pd.DataFrame(timings_list_cnn_clean, columns = model_names)"
   ]
  },
  {
   "cell_type": "code",
   "execution_count": 141,
   "metadata": {},
   "outputs": [],
   "source": [
    "caterpillar_plot(cnn_timings_1024)"
   ]
  },
  {
   "cell_type": "code",
   "execution_count": 137,
   "metadata": {},
   "outputs": [
    {
     "data": {
      "text/plain": [
       "'full-ddm'"
      ]
     },
     "execution_count": 137,
     "metadata": {},
     "output_type": "execute_result"
    }
   ],
   "source": [
    "'full_ddm'.replace('_', '-')"
   ]
  },
  {
   "cell_type": "code",
   "execution_count": 55,
   "metadata": {},
   "outputs": [
    {
     "data": {
      "text/plain": [
       "array([522.17518425, 496.33227634, 465.77886891, 435.33959436,\n",
       "       500.82519531, 548.85311604, 477.65065312, 562.45103908,\n",
       "       424.00797653, 485.77831507, 446.22027278, 518.0483036 ,\n",
       "       439.96224284, 453.73910069, 475.91813302, 431.4078505 ,\n",
       "       517.63594222, 482.25996661, 566.36954141, 612.60740709,\n",
       "       426.27878904, 496.82897997, 406.687114  , 432.0515871 ,\n",
       "       416.72319746, 522.58646417, 479.12149858, 426.2594974 ,\n",
       "       596.16129017, 475.50721741, 525.46558857, 699.66987133,\n",
       "       405.89367175, 467.99181032, 472.55274796, 436.28461313,\n",
       "       423.74889803, 740.84865355, 538.1891048 , 460.89044404,\n",
       "       438.89460874, 444.66296339, 507.61404777, 543.59035921,\n",
       "       444.40838146, 431.25248551, 423.92348909, 486.85229206,\n",
       "       448.11129141, 596.45736337, 464.03630686, 426.90097523,\n",
       "       435.16443038, 435.80117369, 440.40150166, 434.29962564,\n",
       "       510.26358104, 532.42599392, 415.99705815, 561.10296392,\n",
       "       504.02409935, 477.88556218, 415.17696381, 422.3799479 ,\n",
       "       438.31896591, 470.89125276, 469.28147101, 429.66429949,\n",
       "       430.67013931, 457.04177809, 484.98929381, 449.43981719,\n",
       "       502.76339912, 416.56613874, 614.10371923, 428.12097883,\n",
       "       469.70252395, 409.80213165, 451.95174932, 450.79639554,\n",
       "       420.27872157, 457.07057047, 424.9542942 , 469.68616748,\n",
       "       458.27473426, 413.18974423, 487.17544222, 484.48795843,\n",
       "       428.96986938, 709.57651997, 429.57813883, 461.09160709,\n",
       "       491.69876409, 418.752249  , 423.41502047, 422.99485135,\n",
       "       464.22377586, 432.75649524, 508.4157691 , 477.62057853])"
      ]
     },
     "execution_count": 55,
     "metadata": {},
     "output_type": "execute_result"
    }
   ],
   "source": [
    "x[x.keys()[0]].values"
   ]
  },
  {
   "cell_type": "code",
   "execution_count": 102,
   "metadata": {},
   "outputs": [],
   "source": [
    "def caterpillar_plot(timings = None,\n",
    "                     machine = 'home',\n",
    "                     method = 'MLP',\n",
    "                     sampler = 'slice',\n",
    "                     n = 1024\n",
    "                     save = True,\n",
    "                     plot_format = 'svg'):\n",
    "    \n",
    "    matplotlib.rcParams['text.usetex'] = True\n",
    "    #matplotlib.rcParams['pdf.fonttype'] = 42\n",
    "    matplotlib.rcParams['svg.fonttype'] = 'none'\n",
    "    \n",
    "    sns.set(style = \"white\", \n",
    "            palette = \"muted\", \n",
    "            color_codes = True,\n",
    "            font_scale = 2)\n",
    "\n",
    "    fig, ax = plt.subplots(1, 1, \n",
    "                           figsize = (10, 10), \n",
    "                           sharex = False, \n",
    "                           sharey = False)\n",
    "    \n",
    "    my_suptitle = fig.suptitle('Timings in seconds : ' + method.upper(), \n",
    "                               fontsize = 40)\n",
    "    \n",
    "    sns.despine(right = True)\n",
    "           \n",
    "    ecdfs = {}\n",
    "    plot_vals = {} # [0.01, 0.9], [0.01, 0.99], [mean]\n",
    "    \n",
    "    for k in timings.keys():\n",
    "        ecdfs[k] = ECDF(timings[k].values)\n",
    "        tmp_sorted = sorted(timings[k])\n",
    "        _p01 =  tmp_sorted[np.sum(ecdfs[k](tmp_sorted) <= 0.01) - 1]\n",
    "        _p99 = tmp_sorted[np.sum(ecdfs[k](tmp_sorted) <= 0.99) - 1]\n",
    "        _p1 = tmp_sorted[np.sum(ecdfs[k](tmp_sorted) <= 0.1) - 1]\n",
    "        _p9 = tmp_sorted[np.sum(ecdfs[k](tmp_sorted) <= 0.9) - 1]\n",
    "        _pmean = timings[k].mean()\n",
    "        plot_vals[k] = [[_p01, _p99], [_p1, _p9], _pmean]\n",
    "        \n",
    "    x = [plot_vals[k][2] for k in plot_vals.keys()]\n",
    "    ax.scatter(x, plot_vals.keys(), c = 'black', marker = 's', alpha = .5)\n",
    "    \n",
    "    for k in plot_vals.keys():\n",
    "        ax.plot(plot_vals[k][1], [k, k], c = 'grey', zorder = -1, linewidth = 5)\n",
    "        ax.plot(plot_vals[k][0] , [k, k], c = 'black', zorder = -1)\n",
    "        #ax.scatter(ground_truths[config[model]['params'].index(k)], k,  c = 'red', marker = \"|\")\n",
    "                                 \n",
    "    if save == True:\n",
    "        if machine == 'home':\n",
    "            fig_dir = \"/users/afengler/OneDrive/git_repos/nn_likelihoods/figures/\" + method + \"/timings/\"\n",
    "            if not os.path.isdir(fig_dir):\n",
    "                os.mkdir(fig_dir)\n",
    "        \n",
    "        if plot_format == 'png':\n",
    "            plt.savefig(fig_dir + '/' + 'timings_' + sampler + '_' + str(n) + '.png', \n",
    "                        dpi = 300, \n",
    "                        transparent = False,\n",
    "                        bbox_inches = 'tight',\n",
    "                        bbox_extra_artists = [my_suptitle])\n",
    "        if plot_format == 'svg':\n",
    "            plt.savefig(fig_dir + '/' + 'timings_' + sampler + '_' + str(n) + '.svg',\n",
    "                            format = 'svg', \n",
    "                            transparent = True,\n",
    "                            bbox_inches = 'tight',\n",
    "                            bbox_extra_artists = [my_suptitle],\n",
    "                            frameon = False)\n",
    "        \n",
    "        plt.close()\n",
    "    \n",
    "    # Show\n",
    "    return #plt.show(block = False)\n",
    "\n",
    "    return plt.show()"
   ]
  },
  {
   "cell_type": "code",
   "execution_count": 103,
   "metadata": {},
   "outputs": [],
   "source": [
    "caterpillar_plot(x)"
   ]
  },
  {
   "cell_type": "code",
   "execution_count": null,
   "metadata": {},
   "outputs": [],
   "source": []
  }
 ],
 "metadata": {
  "kernelspec": {
   "display_name": "Python 3",
   "language": "python",
   "name": "python3"
  },
  "language_info": {
   "codemirror_mode": {
    "name": "ipython",
    "version": 3
   },
   "file_extension": ".py",
   "mimetype": "text/x-python",
   "name": "python",
   "nbconvert_exporter": "python",
   "pygments_lexer": "ipython3",
   "version": "3.7.4"
  }
 },
 "nbformat": 4,
 "nbformat_minor": 4
}
