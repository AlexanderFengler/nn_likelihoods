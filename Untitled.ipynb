{
 "cells": [
  {
   "cell_type": "code",
   "execution_count": 1,
   "metadata": {},
   "outputs": [],
   "source": [
    "# Load packages\n",
    "import tensorflow as tf\n",
    "import pandas as pd\n",
    "from tensorflow import keras\n",
    "import numpy as np\n",
    "import pandas as pd\n",
    "import os\n",
    "import scipy as scp\n",
    "import scipy.stats as scps\n",
    "import pickle\n",
    "import matplotlib.pyplot as plt\n",
    "from datetime import datetime\n",
    "import time\n",
    "import scipy.optimize as scp_opt\n",
    "from scipy.stats import mode"
   ]
  },
  {
   "cell_type": "code",
   "execution_count": 20,
   "metadata": {},
   "outputs": [],
   "source": [
    "n = str(1024)\n",
    "base_folder = '/users/afengler/OneDrive/project_nn_likelihoods/data/timings/elife_param_recovery/'\n",
    "dir_ = os.listdir(base_folder)"
   ]
  },
  {
   "cell_type": "code",
   "execution_count": 34,
   "metadata": {},
   "outputs": [
    {
     "data": {
      "text/plain": [
       "['full_ddm2', 'levy', 'ddm', 'angle2', 'ddm_sdv', 'ornstein', 'weibull_cdf2']"
      ]
     },
     "execution_count": 34,
     "metadata": {},
     "output_type": "execute_result"
    }
   ],
   "source": [
    "dir_"
   ]
  },
  {
   "cell_type": "code",
   "execution_count": 33,
   "metadata": {},
   "outputs": [
    {
     "name": "stdout",
     "output_type": "stream",
     "text": [
      "[]\n",
      "['elife_slice_post_samp_data_param_recov_unif_reps_1_n_4096_init_mle_1_1.pickle', 'elife_slice_post_samp_data_param_recov_unif_reps_1_n_1024_init_mle_1_1.pickle']\n",
      "['elife_slice_post_samp_data_param_recov_unif_reps_1_n_4096_init_mle_1_1.pickle', 'elife_slice_post_samp_data_param_recov_unif_reps_1_n_1024_init_mle_1_1.pickle']\n",
      "['elife_slice_post_samp_data_param_recov_unif_reps_1_n_4096_init_mle_1_1.pickle', 'elife_post_samp_data_param_recov_unif_reps_1_n_1024_init_mle_1_1.pickle']\n",
      "['elife_slice_post_samp_data_param_recov_unif_reps_1_n_4096_init_mle_1_1.pickle', 'elife_slice_post_samp_data_param_recov_unif_reps_1_n_1024_init_mle_1_1.pickle']\n",
      "['elife_slice_post_samp_data_param_recov_unif_reps_1_n_4096_init_mle_1_1.pickle', 'elife_slice_post_samp_data_param_recov_unif_reps_1_n_1024_init_mle_1_1.pickle']\n",
      "['elife_slice_post_samp_data_param_recov_unif_reps_1_n_4096_init_mle_1_1.pickle', 'elife_slice_post_samp_data_param_recov_unif_reps_1_n_1024_init_mle_1_1.pickle']\n"
     ]
    }
   ],
   "source": [
    "file_list = []\n",
    "for tmp_dir_ in dir_:\n",
    "    file_list_tmp = os.listdir(base_folder + tmp_dir_)\n",
    "    print(file_list_tmp)\n",
    "    for file_ in file_list_tmp:\n",
    "        if n in file_:\n",
    "            file_list.append(pickle.load(open(base_folder + tmp_dir_ + '/' + file_, 'rb')))"
   ]
  },
  {
   "cell_type": "code",
   "execution_count": 22,
   "metadata": {},
   "outputs": [
    {
     "data": {
      "text/plain": [
       "['full_ddm2', 'levy', 'ddm', 'angle2', 'ddm_sdv', 'ornstein', 'weibull_cdf2']"
      ]
     },
     "execution_count": 22,
     "metadata": {},
     "output_type": "execute_result"
    }
   ],
   "source": [
    "dir_"
   ]
  },
  {
   "cell_type": "code",
   "execution_count": 31,
   "metadata": {},
   "outputs": [
    {
     "data": {
      "text/plain": [
       "6"
      ]
     },
     "execution_count": 31,
     "metadata": {},
     "output_type": "execute_result"
    }
   ],
   "source": [
    "len(file_list)"
   ]
  },
  {
   "cell_type": "code",
   "execution_count": 30,
   "metadata": {},
   "outputs": [
    {
     "ename": "IndexError",
     "evalue": "list index out of range",
     "output_type": "error",
     "traceback": [
      "\u001b[0;31m---------------------------------------------------------------------------\u001b[0m",
      "\u001b[0;31mIndexError\u001b[0m                                Traceback (most recent call last)",
      "\u001b[0;32m<ipython-input-30-f64149f03bc6>\u001b[0m in \u001b[0;36m<module>\u001b[0;34m\u001b[0m\n\u001b[0;32m----> 1\u001b[0;31m \u001b[0mfile_list\u001b[0m\u001b[0;34m[\u001b[0m\u001b[0;36m6\u001b[0m\u001b[0;34m]\u001b[0m\u001b[0;34m[\u001b[0m\u001b[0;36m3\u001b[0m\u001b[0;34m]\u001b[0m\u001b[0;34m\u001b[0m\u001b[0;34m\u001b[0m\u001b[0m\n\u001b[0m",
      "\u001b[0;31mIndexError\u001b[0m: list index out of range"
     ]
    }
   ],
   "source": [
    "file_list[6][3]"
   ]
  },
  {
   "cell_type": "code",
   "execution_count": null,
   "metadata": {},
   "outputs": [],
   "source": [
    "def caterpillar_plot(timings = \n",
    "                     data_signature = '',\n",
    "                     train_data_type = '',\n",
    "                     machine = 'home',\n",
    "                     method = 'cnn',\n",
    "                     save = True,\n",
    "                     plot_format = 'svg'):\n",
    "    \n",
    "    matplotlib.rcParams['text.usetex'] = True\n",
    "    #matplotlib.rcParams['pdf.fonttype'] = 42\n",
    "    matplotlib.rcParams['svg.fonttype'] = 'none'\n",
    "    \n",
    "    sns.set(style = \"white\", \n",
    "            palette = \"muted\", \n",
    "            color_codes = True,\n",
    "            font_scale = 2)\n",
    "\n",
    "    fig, ax = plt.subplots(1, 1, \n",
    "                           figsize = (10, 10), \n",
    "                           sharex = False, \n",
    "                           sharey = False)\n",
    "    \n",
    "    my_suptitle = fig.suptitle('Caterpillar plot: ' + model.upper(), \n",
    "                               fontsize = 40)\n",
    "    \n",
    "    sns.despine(right = True)\n",
    "           \n",
    "    ecdfs = {}\n",
    "    plot_vals = {} # [0.01, 0.9], [0.01, 0.99], [mean]\n",
    "    \n",
    "    for k in config[model]['params']:\n",
    "        ecdfs[k] = ECDF(posterior_samples[:, config[model]['params'].index(k)])\n",
    "        tmp_sorted = sorted(trace[k])\n",
    "        _p01 =  tmp_sorted[np.sum(ecdfs[k](tmp_sorted) <= 0.01) - 1]\n",
    "        _p99 = tmp_sorted[np.sum(ecdfs[k](tmp_sorted) <= 0.99) - 1]\n",
    "        _p1 = tmp_sorted[np.sum(ecdfs[k](tmp_sorted) <= 0.1) - 1]\n",
    "        _p9 = tmp_sorted[np.sum(ecdfs[k](tmp_sorted) <= 0.9) - 1]\n",
    "        _pmean = trace[k].mean()\n",
    "        plot_vals[k] = [[_p01, _p99], [_p1, _p9], _pmean]\n",
    "        \n",
    "    x = [plot_vals[k][2] for k in plot_vals.keys()]\n",
    "    ax.scatter(x, plot_vals.keys(), c = 'black', marker = 's', alpha = 0)\n",
    "    \n",
    "    for k in plot_vals.keys():\n",
    "        ax.plot(plot_vals[k][1], [k, k], c = 'grey', zorder = -1, linewidth = 5)\n",
    "        ax.plot(plot_vals[k][0] , [k, k], c = 'black', zorder = -1)\n",
    "        ax.scatter(ground_truths[config[model]['params'].index(k)], k,  c = 'red', marker = \"|\")\n",
    "                                 \n",
    "    if save == True:\n",
    "        if machine == 'home':\n",
    "            fig_dir = \"/users/afengler/OneDrive/git_repos/nn_likelihoods/figures/\" + method + \"/caterpillar\"\n",
    "            if not os.path.isdir(fig_dir):\n",
    "                os.mkdir(fig_dir)\n",
    "        \n",
    "        if plot_format == 'png':\n",
    "            plt.savefig(fig_dir + '/' + 'caterpillar_' + model + data_signature + '_' + train_data_type + '.png', \n",
    "                        dpi = 300, \n",
    "                        transparent = False,\n",
    "                        bbox_inches = 'tight',\n",
    "                        bbox_extra_artists = [my_suptitle])\n",
    "        if plot_format == 'svg':\n",
    "            plt.savefig(fig_dir + '/' + 'caterpillar_' + model + data_signature + '_' + train_data_type + '.svg',\n",
    "                            format = 'svg', \n",
    "                            transparent = True,\n",
    "                            bbox_inches = 'tight',\n",
    "                            bbox_extra_artists = [my_suptitle],\n",
    "                            frameon = False)\n",
    "        \n",
    "        plt.close()\n",
    "    # Show\n",
    "    return #plt.show(block = False)\n",
    "\n",
    "    return plt.show()\n"
   ]
  }
 ],
 "metadata": {
  "kernelspec": {
   "display_name": "Python 3",
   "language": "python",
   "name": "python3"
  },
  "language_info": {
   "codemirror_mode": {
    "name": "ipython",
    "version": 3
   },
   "file_extension": ".py",
   "mimetype": "text/x-python",
   "name": "python",
   "nbconvert_exporter": "python",
   "pygments_lexer": "ipython3",
   "version": "3.7.4"
  }
 },
 "nbformat": 4,
 "nbformat_minor": 4
}
