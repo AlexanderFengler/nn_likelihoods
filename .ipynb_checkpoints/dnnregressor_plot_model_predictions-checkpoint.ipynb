{
 "cells": [
  {
   "cell_type": "markdown",
   "metadata": {},
   "source": [
    "# Plotting Model Predictions "
   ]
  },
  {
   "cell_type": "code",
   "execution_count": 9,
   "metadata": {},
   "outputs": [],
   "source": [
    "# Import necessary packages\n",
    "import numpy as np\n",
    "import pandas as pd\n",
    "import tensorflow as tf\n",
    "import scipy as scp\n",
    "import matplotlib.pyplot as plt\n",
    "import os\n",
    "import dnnregressor_predictor as dnn_pred\n",
    "import dnnregressor_model_and_input_fn as dnn_model_input\n",
    "import make_data_wfpt as mdw"
   ]
  },
  {
   "cell_type": "code",
   "execution_count": 10,
   "metadata": {},
   "outputs": [],
   "source": [
    "hyper_params = pd.read_csv('/Users/admin/OneDrive/git_repos/nn_likelihoods/tensorflow_models/dnnregressor_mse_0/model_params.csv',\n",
    "                          converters = {'hidden_units':eval,\n",
    "                                        'activations':eval})\n",
    "\n",
    "model_params = hyper_params.to_dict(orient = 'list')\n",
    "for key in model_params.keys():\n",
    "    model_params[key] = model_params[key][0]"
   ]
  },
  {
   "cell_type": "code",
   "execution_count": 11,
   "metadata": {},
   "outputs": [],
   "source": [
    "# Generate a dataset \n",
    "dataset = mdw.make_data(v_range = [0.5,0.5], \n",
    "                        a_range = [0.5,0.5],\n",
    "                        w_range = [0.5, 0.5], \n",
    "                        rt_params = [1,2],\n",
    "                        n_samples = 10000)"
   ]
  },
  {
   "cell_type": "code",
   "execution_count": 12,
   "metadata": {},
   "outputs": [],
   "source": [
    "# Make dataset feedable to tensorflow\n",
    "features, labels, __, ___ = mdw.train_test_split(data = dataset,\n",
    "                                              p_train = 1,\n",
    "                                              write_to_file = False)\n",
    "\n",
    "# Make feature columns\n",
    "feature_columns = dnn_model_input.make_feature_columns_numeric(features = features)\n",
    "model_params['feature_columns'] = feature_columns\n",
    "\n",
    "# Reinstantiate model\n",
    "my_predictor = dnn_pred.get_dnnreg_predictor(model_directory = '/Users/admin/OneDrive/git_repos/nn_likelihoods/tensorflow_models/dnnregressor_mse_0',\n",
    "                                             params = model_params)"
   ]
  },
  {
   "cell_type": "code",
   "execution_count": 13,
   "metadata": {},
   "outputs": [],
   "source": [
    "# Get Predictions\n",
    "my_predictions = dnn_pred.get_predictions(regressor = my_predictor,\n",
    "                                         features =  features,\n",
    "                                         labels = labels)"
   ]
  },
  {
   "cell_type": "code",
   "execution_count": 14,
   "metadata": {},
   "outputs": [
    {
     "data": {
      "image/png": "[encoded data removed]",
      "text/plain": [
       "<Figure size 432x288 with 1 Axes>"
      ]
     },
     "metadata": {},
     "output_type": "display_data"
    }
   ],
   "source": [
    "# Plot outcome\n",
    "plt.plot(dataset['rt'], dataset['nf_likelihood'], '.')\n",
    "plt.plot(dataset['rt'], my_predictions, '.')\n",
    "plt.xlim((-3,3))\n",
    "plt.show()"
   ]
  },
  {
   "cell_type": "code",
   "execution_count": 20,
   "metadata": {},
   "outputs": [
    {
     "data": {
      "text/plain": [
       "array([[-0.09470009]], dtype=float32)"
      ]
     },
     "execution_count": 20,
     "metadata": {},
     "output_type": "execute_result"
    }
   ],
   "source": [
    "min(my_predictions['output'])"
   ]
  },
  {
   "cell_type": "code",
   "execution_count": 2,
   "metadata": {},
   "outputs": [
    {
     "data": {
      "text/plain": [
       "'/Users/admin/OneDrive/git_repos/nn_likelihoods'"
      ]
     },
     "execution_count": 2,
     "metadata": {},
     "output_type": "execute_result"
    }
   ],
   "source": [
    "os.getcwd()"
   ]
  },
  {
   "cell_type": "code",
   "execution_count": null,
   "metadata": {},
   "outputs": [],
   "source": []
  }
 ],
 "metadata": {
  "kernelspec": {
   "display_name": "Python 3",
   "language": "python",
   "name": "python3"
  },
  "language_info": {
   "codemirror_mode": {
    "name": "ipython",
    "version": 3
   },
   "file_extension": ".py",
   "mimetype": "text/x-python",
   "name": "python",
   "nbconvert_exporter": "python",
   "pygments_lexer": "ipython3",
   "version": "3.6.5"
  }
 },
 "nbformat": 4,
 "nbformat_minor": 2
}
