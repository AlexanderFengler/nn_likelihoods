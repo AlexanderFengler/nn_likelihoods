{
 "cells": [
  {
   "cell_type": "code",
   "execution_count": 9,
   "metadata": {},
   "outputs": [],
   "source": [
    "# Basic python utilities\n",
    "import numpy as np\n",
    "import scipy as scp \n",
    "\n",
    "# Parallelization\n",
    "import multiprocessing as mp\n",
    "from  multiprocessing import Process\n",
    "from  multiprocessing import Pool\n",
    "import psutil\n",
    "\n",
    "# System utilities\n",
    "from datetime import datetime\n",
    "import time\n",
    "import os\n",
    "import pickle \n",
    "import uuid\n",
    "\n",
    "# My own code\n",
    "import kde_class as kde\n",
    "import ddm_data_simulation as ddm_simulator "
   ]
  },
  {
   "cell_type": "code",
   "execution_count": 10,
   "metadata": {},
   "outputs": [],
   "source": [
    "# Get cpu cnt\n",
    "n_cpus = psutil.cpu_count(logical = False)"
   ]
  },
  {
   "cell_type": "code",
   "execution_count": 11,
   "metadata": {},
   "outputs": [],
   "source": [
    "# Parameter ranges (for the simulator)\n",
    "v = [-2.5, 2.5]\n",
    "w = [0.15, 0.85]\n",
    "a = [0.5, 3]\n",
    "c1 = [0, 3]\n",
    "c2 = [1/3, 1]\n",
    "\n",
    "# Simulator parameters \n",
    "simulator = 'ddm_flexbound_'\n",
    "s = 1\n",
    "delta_t = 0.01\n",
    "max_t = 20\n",
    "n_samples = 10000\n",
    "print_info = False\n",
    "boundary_fun_type = 'exp_c1_c2'\n",
    "\n",
    "# Number of kdes to generate\n",
    "n_kdes = 50000"
   ]
  },
  {
   "cell_type": "code",
   "execution_count": 12,
   "metadata": {},
   "outputs": [],
   "source": [
    "# Define boundary function \n",
    "def exp_c1_c2(t = 1, \n",
    "              c1 = 1,\n",
    "              c2 = 1):\n",
    "    \n",
    "    b = np.exp(- c2*(t-c1))\n",
    "    \n",
    "    if t >= c1:\n",
    "        \n",
    "        return [b, -b]\n",
    "        \n",
    "    else:\n",
    "        return [1, -1]"
   ]
  },
  {
   "cell_type": "code",
   "execution_count": 13,
   "metadata": {},
   "outputs": [],
   "source": [
    "# Make function input tuples\n",
    "v_sample = np.random.uniform(low = v[0], high = v[1], size = n_kdes)\n",
    "w_sample = np.random.uniform(low = w[0], high = w[1], size = n_kdes)\n",
    "a_sample = np.random.uniform(low = a[0], high = a[1], size = n_kdes)\n",
    "c1_sample = np.random.uniform(low = c1[0], high = c1[1], size = n_kdes)\n",
    "c2_sample = np.random.uniform(low = c2[0], high = c2[1], size = n_kdes)\n",
    "\n",
    "args_list = []\n",
    "for i in range(0, n_kdes, 1):\n",
    "    args_list.append((v_sample[i], \n",
    "                      a_sample[i],\n",
    "                      w_sample[i], \n",
    "                      s, \n",
    "                      delta_t, \n",
    "                      max_t, \n",
    "                      n_samples, \n",
    "                      print_info, \n",
    "                      exp_c1_c2,  \n",
    "                      boundary_fun_type,\n",
    "                      c1_sample[i],\n",
    "                      c2_sample[i]))"
   ]
  },
  {
   "cell_type": "code",
   "execution_count": null,
   "metadata": {},
   "outputs": [],
   "source": [
    "simulator_test = ddm_simu"
   ]
  },
  {
   "cell_type": "code",
   "execution_count": null,
   "metadata": {},
   "outputs": [],
   "source": [
    "# Defining main function to iterate over:\n",
    "# Folder in which we would like to dump files\n",
    "\n",
    "def data_generator(*args):\n",
    "    simulator_data = ddm_simulator.ddm_simulate(*args)\n",
    "    file_dir =  'data_storage/kde/base_simulations/'\n",
    "    print('# Data Files Detected:', len(os.listdir('data_storage/kde/base_simulations/')))\n",
    "    # file_name = file_dir + simulator + '_' + datetime.now().strftime('%m_%d_%y_%H_%M_%S') + '_' + uuid.uuid1().hex\n",
    "    # I actually want to use the code above for file_names... there is currently no underscore separating the 'seconds'\n",
    "    # of current time from the 'uuid hex'\n",
    "    file_name = file_dir + simulator + '_' + uuid.uuid1().hex \n",
    "    pickle.dump(simulator_data, open( file_name + '.pickle', \"wb\" ) )"
   ]
  },
  {
   "cell_type": "code",
   "execution_count": null,
   "metadata": {},
   "outputs": [],
   "source": [
    "# Parallel Loop\n",
    "with Pool(processes = n_cpus) as pool:\n",
    "    res = pool.starmap(data_generator, args_list)"
   ]
  },
  {
   "cell_type": "code",
   "execution_count": 7,
   "metadata": {},
   "outputs": [],
   "source": [
    "# For reference\n",
    "test = pickle.load( open( os.getcwd() + \"/data_storage/kde/base_simulations/ddm_04_02_19_00_18_56_6e94dfca54fe11e9a642538a99cae90e.pickle\", \"rb\" ) )\n",
    "\n",
    "\n"
   ]
  },
  {
   "cell_type": "code",
   "execution_count": null,
   "metadata": {},
   "outputs": [],
   "source": [
    "pickle.dump('hello',  open(os.getcwd() + '/data_storage/kde/base_simulations/' data_storage/kde/base_simulations/hello.pickle', 'wb') )\n",
    "                           \n",
    "                           "
   ]
  },
  {
   "cell_type": "code",
   "execution_count": null,
   "metadata": {},
   "outputs": [],
   "source": [
    "print('# Data Files Detected:', len(os.listdir('data_storage/kde/base_simulations/')))"
   ]
  },
  {
   "cell_type": "code",
   "execution_count": null,
   "metadata": {},
   "outputs": [],
   "source": [
    "a = [1,2,3]\n",
    "str(a)"
   ]
  },
  {
   "cell_type": "code",
   "execution_count": 6,
   "metadata": {},
   "outputs": [
    {
     "data": {
      "text/plain": [
       "'/home/afengler/git_repos/nn_likelihoods'"
      ]
     },
     "execution_count": 6,
     "metadata": {},
     "output_type": "execute_result"
    }
   ],
   "source": [
    "os.getcwd()"
   ]
  },
  {
   "cell_type": "code",
   "execution_count": 10,
   "metadata": {},
   "outputs": [
    {
     "data": {
      "text/plain": [
       "(10000, 1)"
      ]
     },
     "execution_count": 10,
     "metadata": {},
     "output_type": "execute_result"
    }
   ],
   "source": [
    "test[0].shape"
   ]
  },
  {
   "cell_type": "code",
   "execution_count": null,
   "metadata": {},
   "outputs": [],
   "source": []
  }
 ],
 "metadata": {
  "kernelspec": {
   "display_name": "Python 3",
   "language": "python",
   "name": "python3"
  },
  "language_info": {
   "codemirror_mode": {
    "name": "ipython",
    "version": 3
   },
   "file_extension": ".py",
   "mimetype": "text/x-python",
   "name": "python",
   "nbconvert_exporter": "python",
   "pygments_lexer": "ipython3",
   "version": "3.7.3"
  }
 },
 "nbformat": 4,
 "nbformat_minor": 2
}
