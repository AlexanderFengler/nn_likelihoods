{
 "cells": [
  {
   "cell_type": "markdown",
   "metadata": {},
   "source": [
    "# Plotting Model Predictions "
   ]
  },
  {
   "cell_type": "code",
   "execution_count": 1,
   "metadata": {},
   "outputs": [],
   "source": [
    "# Import necessary packages\n",
    "import numpy as np\n",
    "import pandas as pd\n",
    "import tensorflow as tf\n",
    "import scipy as scp\n",
    "import matplotlib.pyplot as plt\n",
    "import os\n",
    "import dnnregressor_predictor as dnn_pred\n",
    "import dnnregressor_model_and_input_fn as dnn_model_input\n",
    "import make_data_wfpt as mdw\n",
    "import make_data_sin as mds"
   ]
  },
  {
   "cell_type": "code",
   "execution_count": 2,
   "metadata": {},
   "outputs": [],
   "source": [
    "hyper_params = pd.read_csv('/Users/admin/OneDrive/git_repos/nn_likelihoods/tensorflow_models/dnnregressor_mse_08_09_18_21_38_46/dnn_training_results_08_09_18_21_38_46.csv',\n",
    "                          converters = {'hidden_units':eval,\n",
    "                                        'activations':eval})\n",
    "\n",
    "model_params = hyper_params.to_dict(orient = 'list')\n",
    "for key in model_params.keys():\n",
    "    model_params[key] = model_params[key][0]"
   ]
  },
  {
   "cell_type": "code",
   "execution_count": null,
   "metadata": {},
   "outputs": [],
   "source": [
    "# Get best checkpoint\n",
    "with open('/Users/admin/OneDrive/git_repos/nn_likelihoods/tensorflow_models/dnnregressor_mse_08_06_18_17_40_28/best_checkpoint.txt', 'r') as myfile:\n",
    "    best_checkpoint = myfile.read().replace('\\n', '')"
   ]
  },
  {
   "cell_type": "code",
   "execution_count": 15,
   "metadata": {},
   "outputs": [
    {
     "name": "stdout",
     "output_type": "stream",
     "text": [
      "datapoint 0 generated\n",
      "datapoint 1000 generated\n",
      "datapoint 2000 generated\n",
      "datapoint 3000 generated\n",
      "datapoint 4000 generated\n",
      "datapoint 5000 generated\n",
      "datapoint 6000 generated\n",
      "datapoint 7000 generated\n",
      "datapoint 8000 generated\n",
      "datapoint 9000 generated\n",
      "label 0 generated\n",
      "label 1000 generated\n",
      "label 2000 generated\n",
      "label 3000 generated\n",
      "label 4000 generated\n",
      "label 5000 generated\n",
      "label 6000 generated\n",
      "label 7000 generated\n",
      "label 8000 generated\n",
      "label 9000 generated\n"
     ]
    }
   ],
   "source": [
    "# Generate a dataset wfpt\n",
    "dataset,_, __ = mdw.make_data_rt_choice(v_range = [3,3], # uniform [0.6, 0.6]\n",
    "                              a_range = [0.1,0.1], # unifor\n",
    "                              w_range = [0.9, 0.9],  # uniform\n",
    "                              rt_params = [1,2], # gamma(1,2)\n",
    "                              n_samples = 10000,\n",
    "                              write_to_file = False)\n",
    "\n",
    "# Generate a dataset sin\n",
    "features_sin, labels_sin = mds.make_data()"
   ]
  },
  {
   "cell_type": "code",
   "execution_count": 16,
   "metadata": {},
   "outputs": [],
   "source": [
    "# Make dataset feedable to tensorflow (wfpt)\n",
    "features, labels, __, ___ = mdw.train_test_split_rt_choice(data = dataset,\n",
    "                                                           p_train = 1,\n",
    "                                                           write_to_file = False,\n",
    "                                                           from_file = False)\n",
    "\n",
    "# Make dataset feedable to tensorflow (sin)\n",
    "# features_sin, labels_sin, __, __ = mds.train_test_split(features_sin, \n",
    "#                                                        labels_sin, \n",
    "#                                                        p = 1)"
   ]
  },
  {
   "cell_type": "code",
   "execution_count": 17,
   "metadata": {},
   "outputs": [],
   "source": [
    "# Make feature columns (wfpt)\n",
    "feature_columns = dnn_model_input.make_feature_columns_numeric(features = features)\n",
    "model_params['feature_columns'] = feature_columns"
   ]
  },
  {
   "cell_type": "code",
   "execution_count": null,
   "metadata": {},
   "outputs": [],
   "source": [
    "# Make feature columns (sin)\n",
    "feature_columns_sin = dnn_model_input.make_feature_columns_numeric(features = features_sin)\n",
    "model_params['feature_columns'] = feature_columns_sin"
   ]
  },
  {
   "cell_type": "code",
   "execution_count": 18,
   "metadata": {},
   "outputs": [],
   "source": [
    "# Reinstantiate model\n",
    "my_predictor = dnn_pred.get_dnnreg_predictor(model_directory = '/Users/admin/OneDrive/git_repos/nn_likelihoods/tensorflow_models/dnnregressor_mse_08_09_18_21_38_46/',\n",
    "                                             params = model_params)"
   ]
  },
  {
   "cell_type": "code",
   "execution_count": 19,
   "metadata": {},
   "outputs": [],
   "source": [
    "# Get Predictions (wfpt)\n",
    "my_predictions = dnn_pred.get_predictions(regressor = my_predictor,\n",
    "                                         features = features,\n",
    "                                         labels = labels,\n",
    "                                         checkpoint = \"/Users/admin/OneDrive/git_repos/nn_likelihoods/tensorflow_models/dnnregressor_mse_08_09_18_21_38_46/model.ckpt-96000\")\n",
    "\n",
    "\n",
    "\n"
   ]
  },
  {
   "cell_type": "code",
   "execution_count": 20,
   "metadata": {},
   "outputs": [
    {
     "data": {
      "image/png": "[encoded data removed]",
      "text/plain": [
       "<Figure size 432x288 with 1 Axes>"
      ]
     },
     "metadata": {},
     "output_type": "display_data"
    }
   ],
   "source": [
    "# Plot outcome (wfpt)\n",
    "plt.plot(dataset['rt'], dataset['nf_likelihood'], '.')\n",
    "plt.plot(dataset['rt'], my_predictions.flatten(), '.')\n",
    "plt.xlim((0,0.2))\n",
    "plt.show()"
   ]
  },
  {
   "cell_type": "code",
   "execution_count": null,
   "metadata": {},
   "outputs": [],
   "source": [
    "# Get Predictions (sin)\n",
    "my_predictions = dnn_pred.get_predictions(regressor = my_predictor,\n",
    "                                         features = features_sin,\n",
    "                                         labels = labels_sin)"
   ]
  },
  {
   "cell_type": "code",
   "execution_count": null,
   "metadata": {},
   "outputs": [],
   "source": [
    "# Plot outcome (sin)\n",
    "plt.plot(features_sin['x_0'][features_sin['x_1'] == 0], labels_sin[features_sin['x_1'] == 0], '.')\n",
    "plt.plot(features_sin['x_0'][features_sin['x_1'] == 1], labels_sin[features_sin['x_1'] == 1], '.')\n",
    "plt.plot(features_sin['x_0'], my_predictions.flatten(), '.', color = 'yellow')\n",
    "plt.xlim((-10,10))\n",
    "plt.show()"
   ]
  },
  {
   "cell_type": "code",
   "execution_count": null,
   "metadata": {},
   "outputs": [],
   "source": []
  }
 ],
 "metadata": {
  "kernelspec": {
   "display_name": "Python [conda env:tensorflow]",
   "language": "python",
   "name": "conda-env-tensorflow-py"
  },
  "language_info": {
   "codemirror_mode": {
    "name": "ipython",
    "version": 3
   },
   "file_extension": ".py",
   "mimetype": "text/x-python",
   "name": "python",
   "nbconvert_exporter": "python",
   "pygments_lexer": "ipython3",
   "version": "3.6.5"
  }
 },
 "nbformat": 4,
 "nbformat_minor": 2
}
