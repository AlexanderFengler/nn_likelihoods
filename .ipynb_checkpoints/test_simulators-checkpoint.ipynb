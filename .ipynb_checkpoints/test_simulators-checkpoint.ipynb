{
 "cells": [
  {
   "cell_type": "code",
   "execution_count": null,
   "metadata": {},
   "outputs": [],
   "source": [
    "# Environ\n",
    "import scipy as scp\n",
    "import tensorflow as tf\n",
    "from scipy.stats import gamma\n",
    "import numpy as np\n",
    "import pandas as pd\n",
    "import matplotlib.pyplot as plt\n",
    "from sklearn.neighbors import KernelDensity\n",
    "import random\n",
    "import multiprocessing as mp\n",
    "import psutil\n",
    "import pickle\n",
    "import os\n",
    "import re\n",
    "import time\n",
    "\n",
    "# import dataset_generator as dg\n",
    "# import make_data_lba as mdlba\n",
    "# from tqdm import tqdm\n",
    "\n",
    "# Own\n",
    "#import ddm_data_simulation as ds\n",
    "import cddm_data_simulation as cds\n",
    "import kde_training_utilities as kde_util\n",
    "import kde_class as kde\n",
    "import boundary_functions as bf\n",
    "\n",
    "from cdwiener import batch_fptd\n",
    "from cdwiener import fptd"
   ]
  },
  {
   "cell_type": "code",
   "execution_count": null,
   "metadata": {},
   "outputs": [],
   "source": [
    "x = [[0, 1, 2], [0, 1, 2]]"
   ]
  },
  {
   "cell_type": "code",
   "execution_count": 3,
   "metadata": {},
   "outputs": [
    {
     "name": "stdout",
     "output_type": "stream",
     "text": [
      "[0, 0]\n",
      "[1, 1]\n",
      "[2, 2]\n"
     ]
    }
   ],
   "source": [
    "for i in zip(x[0], x[1]):\n",
    "    print(list(i))"
   ]
  },
  {
   "cell_type": "code",
   "execution_count": 35,
   "metadata": {},
   "outputs": [],
   "source": [
    "\n",
    "angle_simulator(theta = [0, 1, 1, 0])\n",
    "weibull_sima\n",
    "    return cds.ddm_flexbound(v = theta[0],\n",
    "                            a = 2.0,\n",
    "                            w = 0.6,\n",
    "                            ndt = 0.9,\n",
    "                            delta_t = 0.01, \n",
    "                            s = 1,\n",
    "                            max_t = 20, \n",
    "                            n_samples = 20000,\n",
    "                            boundary_fun = bf.angle,\n",
    "                            boundary_multiplicative = False,\n",
    "                            boundary_params = {'theta': 0.5})"
   ]
  },
  {
   "cell_type": "code",
   "execution_count": 37,
   "metadata": {},
   "outputs": [
    {
     "data": {
      "text/plain": [
       "array([[1.6999996],\n",
       "       [1.5699997],\n",
       "       [2.4399989],\n",
       "       ...,\n",
       "       [1.3499998],\n",
       "       [2.6499987],\n",
       "       [2.269999 ]], dtype=float32)"
      ]
     },
     "execution_count": 37,
     "metadata": {},
     "output_type": "execute_result"
    }
   ],
   "source": [
    "out[0]"
   ]
  },
  {
   "cell_type": "code",
   "execution_count": 18,
   "metadata": {},
   "outputs": [
    {
     "name": "stdout",
     "output_type": "stream",
     "text": [
      "0\n",
      "10\n",
      "20\n",
      "30\n",
      "40\n",
      "50\n",
      "60\n",
      "70\n",
      "80\n",
      "90\n",
      "0.12956177234649657\n"
     ]
    }
   ],
   "source": [
    "repeats = 100\n",
    "now = time.time()\n",
    "\n",
    "for i in range(repeats):\n",
    "    out = cds.ddm_flexbound_pre(v = 0.0, \n",
    "                                 a = 3.0,\n",
    "                                 w = 0.5,\n",
    "                                 ndt = 0.0, \n",
    "                                 delta_t = 0.001, \n",
    "                                 s = 1,  #np.sqrt(2),\n",
    "                                 max_t = 20,\n",
    "                                 n_samples = 1000,\n",
    "                                 boundary_fun = bf.angle,\n",
    "                                 boundary_multiplicative = False, \n",
    "                                 boundary_params = {'theta': 0.0})\n",
    "                                 #boundary_params = {\"theta\": 0.01})\n",
    "    if i % 10 == 0:\n",
    "        print(i)\n",
    "\n",
    "print((time.time() - now) / repeats)"
   ]
  },
  {
   "cell_type": "code",
   "execution_count": null,
   "metadata": {},
   "outputs": [],
   "source": []
  },
  {
   "cell_type": "code",
   "execution_count": 19,
   "metadata": {},
   "outputs": [
    {
     "data": {
      "text/plain": [
       "(array([3.000e+00, 1.000e+00, 5.000e+00, 2.000e+00, 2.000e+00, 8.000e+00,\n",
       "        1.600e+01, 3.100e+01, 3.700e+01, 3.900e+01, 7.100e+01, 8.800e+01,\n",
       "        1.330e+02, 1.400e+02, 2.280e+02, 2.470e+02, 2.930e+02, 3.610e+02,\n",
       "        4.280e+02, 5.090e+02, 5.440e+02, 6.580e+02, 7.690e+02, 9.190e+02,\n",
       "        1.120e+03, 1.338e+03, 1.532e+03, 1.923e+03, 2.020e+03, 1.354e+03,\n",
       "        6.900e+01, 0.000e+00, 0.000e+00, 0.000e+00, 0.000e+00, 0.000e+00,\n",
       "        0.000e+00, 0.000e+00, 0.000e+00, 0.000e+00, 0.000e+00, 0.000e+00,\n",
       "        0.000e+00, 0.000e+00, 0.000e+00, 0.000e+00, 0.000e+00, 0.000e+00,\n",
       "        0.000e+00, 0.000e+00, 0.000e+00, 0.000e+00, 0.000e+00, 0.000e+00,\n",
       "        0.000e+00, 0.000e+00, 0.000e+00, 0.000e+00, 0.000e+00, 0.000e+00,\n",
       "        0.000e+00, 0.000e+00, 0.000e+00, 0.000e+00, 0.000e+00, 0.000e+00,\n",
       "        0.000e+00, 0.000e+00, 0.000e+00, 0.000e+00, 1.000e+00, 9.400e+01,\n",
       "        3.120e+02, 4.560e+02, 4.580e+02, 4.670e+02, 5.050e+02, 3.830e+02,\n",
       "        3.720e+02, 3.770e+02, 3.170e+02, 2.490e+02, 2.050e+02, 1.820e+02,\n",
       "        1.830e+02, 1.270e+02, 1.050e+02, 7.800e+01, 7.700e+01, 4.800e+01,\n",
       "        2.900e+01, 2.300e+01, 2.600e+01, 1.700e+01, 9.000e+00, 4.000e+00,\n",
       "        2.000e+00, 2.000e+00, 2.000e+00, 2.000e+00]),\n",
       " array([-2.38801217, -2.34058194, -2.29315172, -2.24572149, -2.19829126,\n",
       "        -2.15086104, -2.10343081, -2.05600058, -2.00857036, -1.96114013,\n",
       "        -1.9137099 , -1.86627968, -1.81884945, -1.77141922, -1.723989  ,\n",
       "        -1.67655877, -1.62912854, -1.58169832, -1.53426809, -1.48683786,\n",
       "        -1.43940763, -1.39197741, -1.34454718, -1.29711695, -1.24968673,\n",
       "        -1.2022565 , -1.15482627, -1.10739605, -1.05996582, -1.01253559,\n",
       "        -0.96510537, -0.91767514, -0.87024491, -0.82281469, -0.77538446,\n",
       "        -0.72795423, -0.68052401, -0.63309378, -0.58566355, -0.53823333,\n",
       "        -0.4908031 , -0.44337287, -0.39594265, -0.34851242, -0.30108219,\n",
       "        -0.25365196, -0.20622174, -0.15879151, -0.11136128, -0.06393106,\n",
       "        -0.01650083,  0.0309294 ,  0.07835962,  0.12578985,  0.17322008,\n",
       "         0.2206503 ,  0.26808053,  0.31551076,  0.36294098,  0.41037121,\n",
       "         0.45780144,  0.50523166,  0.55266189,  0.60009212,  0.64752234,\n",
       "         0.69495257,  0.7423828 ,  0.78981302,  0.83724325,  0.88467348,\n",
       "         0.93210371,  0.97953393,  1.02696416,  1.07439439,  1.12182461,\n",
       "         1.16925484,  1.21668507,  1.26411529,  1.31154552,  1.35897575,\n",
       "         1.40640597,  1.4538362 ,  1.50126643,  1.54869665,  1.59612688,\n",
       "         1.64355711,  1.69098733,  1.73841756,  1.78584779,  1.83327801,\n",
       "         1.88070824,  1.92813847,  1.9755687 ,  2.02299892,  2.07042915,\n",
       "         2.11785938,  2.1652896 ,  2.21271983,  2.26015006,  2.30758028,\n",
       "         2.35501051]),\n",
       " <a list of 100 Patch objects>)"
      ]
     },
     "execution_count": 19,
     "metadata": {},
     "output_type": "execute_result"
    },
    {
     "data": {
      "image/png": "[encoded data removed]",
      "text/plain": [
       "<Figure size 432x288 with 1 Axes>"
      ]
     },
     "metadata": {
      "needs_background": "light"
     },
     "output_type": "display_data"
    }
   ],
   "source": [
    "plt.hist(out[0]*out[1], bins = 100)"
   ]
  },
  {
   "cell_type": "code",
   "execution_count": 20,
   "metadata": {},
   "outputs": [
    {
     "name": "stdout",
     "output_type": "stream",
     "text": [
      "0\n",
      "0.20710887908935546\n"
     ]
    }
   ],
   "source": [
    "repeats = 10\n",
    "now = time.time()\n",
    "\n",
    "for i in range(repeats):\n",
    "    out = cds.ddm_flexbound(v = -0.5, \n",
    "                            a = 0.7,\n",
    "                            w = 0.4,\n",
    "                            ndt = 0.93, \n",
    "                            delta_t = 0.001, \n",
    "                            s = 1,  #np.sqrt(2),\n",
    "                            max_t = 20,\n",
    "                            n_samples = 20000,\n",
    "                            boundary_fun = bf.angle,\n",
    "                            boundary_multiplicative = False, \n",
    "                            boundary_params = {'theta': 0.3})\n",
    "                            #boundary_params = {\"theta\": 0.01})\n",
    "    if i % 10 == 0:\n",
    "        print(i)\n",
    "  \n",
    "print((time.time() - now) / repeats)"
   ]
  },
  {
   "cell_type": "code",
   "execution_count": 21,
   "metadata": {},
   "outputs": [
    {
     "data": {
      "text/plain": [
       "(array([4.000e+00, 1.000e+00, 2.000e+00, 6.000e+00, 8.000e+00, 1.100e+01,\n",
       "        2.200e+01, 3.000e+01, 3.800e+01, 5.000e+01, 5.900e+01, 1.150e+02,\n",
       "        1.260e+02, 1.480e+02, 1.820e+02, 2.370e+02, 2.770e+02, 3.620e+02,\n",
       "        4.440e+02, 5.730e+02, 6.280e+02, 7.520e+02, 8.710e+02, 1.039e+03,\n",
       "        1.280e+03, 1.492e+03, 1.700e+03, 2.017e+03, 1.771e+03, 4.610e+02,\n",
       "        0.000e+00, 0.000e+00, 0.000e+00, 0.000e+00, 0.000e+00, 0.000e+00,\n",
       "        0.000e+00, 0.000e+00, 0.000e+00, 0.000e+00, 0.000e+00, 0.000e+00,\n",
       "        0.000e+00, 0.000e+00, 0.000e+00, 0.000e+00, 0.000e+00, 0.000e+00,\n",
       "        0.000e+00, 0.000e+00, 0.000e+00, 0.000e+00, 0.000e+00, 0.000e+00,\n",
       "        0.000e+00, 0.000e+00, 0.000e+00, 0.000e+00, 0.000e+00, 0.000e+00,\n",
       "        0.000e+00, 0.000e+00, 0.000e+00, 0.000e+00, 0.000e+00, 0.000e+00,\n",
       "        0.000e+00, 0.000e+00, 0.000e+00, 0.000e+00, 6.800e+01, 3.020e+02,\n",
       "        4.480e+02, 5.170e+02, 5.120e+02, 4.760e+02, 4.680e+02, 4.060e+02,\n",
       "        3.670e+02, 3.270e+02, 2.700e+02, 2.630e+02, 1.530e+02, 1.410e+02,\n",
       "        1.350e+02, 1.140e+02, 8.300e+01, 5.800e+01, 5.200e+01, 3.700e+01,\n",
       "        3.300e+01, 1.700e+01, 2.000e+01, 1.600e+01, 5.000e+00, 2.000e+00,\n",
       "        3.000e+00, 0.000e+00, 0.000e+00, 1.000e+00]),\n",
       " array([-2.37201142, -2.32424118, -2.27647094, -2.2287007 , -2.18093045,\n",
       "        -2.13316021, -2.08538997, -2.03761972, -1.98984948, -1.94207924,\n",
       "        -1.894309  , -1.84653875, -1.79876851, -1.75099827, -1.70322803,\n",
       "        -1.65545778, -1.60768754, -1.5599173 , -1.51214705, -1.46437681,\n",
       "        -1.41660657, -1.36883633, -1.32106608, -1.27329584, -1.2255256 ,\n",
       "        -1.17775536, -1.12998511, -1.08221487, -1.03444463, -0.98667439,\n",
       "        -0.93890414, -0.8911339 , -0.84336366, -0.79559341, -0.74782317,\n",
       "        -0.70005293, -0.65228269, -0.60451244, -0.5567422 , -0.50897196,\n",
       "        -0.46120172, -0.41343147, -0.36566123, -0.31789099, -0.27012074,\n",
       "        -0.2223505 , -0.17458026, -0.12681002, -0.07903977, -0.03126953,\n",
       "         0.01650071,  0.06427095,  0.1120412 ,  0.15981144,  0.20758168,\n",
       "         0.25535192,  0.30312217,  0.35089241,  0.39866265,  0.4464329 ,\n",
       "         0.49420314,  0.54197338,  0.58974362,  0.63751387,  0.68528411,\n",
       "         0.73305435,  0.78082459,  0.82859484,  0.87636508,  0.92413532,\n",
       "         0.97190557,  1.01967581,  1.06744605,  1.11521629,  1.16298654,\n",
       "         1.21075678,  1.25852702,  1.30629726,  1.35406751,  1.40183775,\n",
       "         1.44960799,  1.49737823,  1.54514848,  1.59291872,  1.64068896,\n",
       "         1.68845921,  1.73622945,  1.78399969,  1.83176993,  1.87954018,\n",
       "         1.92731042,  1.97508066,  2.0228509 ,  2.07062115,  2.11839139,\n",
       "         2.16616163,  2.21393188,  2.26170212,  2.30947236,  2.3572426 ,\n",
       "         2.40501285]),\n",
       " <a list of 100 Patch objects>)"
      ]
     },
     "execution_count": 21,
     "metadata": {},
     "output_type": "execute_result"
    },
    {
     "data": {
      "image/png": "[encoded data removed]",
      "text/plain": [
       "<Figure size 432x288 with 1 Axes>"
      ]
     },
     "metadata": {
      "needs_background": "light"
     },
     "output_type": "display_data"
    }
   ],
   "source": [
    "plt.hist(out[0]*out[1], bins = 100)"
   ]
  },
  {
   "cell_type": "code",
   "execution_count": 11,
   "metadata": {},
   "outputs": [
    {
     "name": "stdout",
     "output_type": "stream",
     "text": [
      "0\n",
      "0.1838829517364502\n"
     ]
    }
   ],
   "source": [
    "# DDM\n",
    "now = time.time()\n",
    "repeats = 1\n",
    "my_means = np.zeros(repeats)\n",
    "\n",
    "v_vec = np.random.uniform(low = -3, high = 3, size = 5000)\n",
    "a_vec = np.random.uniform(low = 0.5, high = 2.5, size = 5000)\n",
    "w_vec = np.random.uniform(low = 0.2, high = 0.8, size = 5000)\n",
    "dw_vec = np.random.uniform(low = 0.05, high = 0.1, size = 5000)\n",
    "sdv_vec = np.random.uniform(low = -2.5, high = -2.5, size = 5000)\n",
    "dndt = 0.1\n",
    "ndt = 1\n",
    "\n",
    "\n",
    "\n",
    "for i in range(repeats):\n",
    "    out = cds.full_ddm(v = -0.12, \n",
    "                       a = 2.0,\n",
    "                       w = 0.99,\n",
    "                       ndt = 0.93, \n",
    "                       dw = 0,\n",
    "                       sdv = 0,\n",
    "                       dndt = 0,\n",
    "                       delta_t = 0.001, \n",
    "                       s = 1,  #np.sqrt(2),\n",
    "                       max_t = 20,\n",
    "                       n_samples = 20000,\n",
    "                       boundary_fun = bf.constant,\n",
    "                       boundary_multiplicative = True, \n",
    "                       boundary_params = {})\n",
    "                       #boundary_params = {\"theta\": 0.01})\n",
    "    if i % 100 == 0:\n",
    "        print(i)\n",
    "    \n",
    "    my_means[i] = np.mean(out[0][out[1] == 1])\n",
    "    \n",
    "print(time.time() - now)"
   ]
  },
  {
   "cell_type": "code",
   "execution_count": 7,
   "metadata": {},
   "outputs": [
    {
     "data": {
      "text/plain": [
       "array([ 9.68210300e-02, -2.50630771e-02,  6.32613612e-01, -5.41730074e-01,\n",
       "        4.92690684e-01, -5.27362446e-02, -9.45719158e-01, -6.00292601e-01,\n",
       "        1.03545782e+00, -4.51041286e-01, -5.92502382e-01, -7.73231594e-01,\n",
       "        4.22952152e-01, -9.03050808e-01,  9.13081343e-01,  7.73354314e-01,\n",
       "        1.95701594e-02,  1.45641079e+00,  1.12542351e+00,  1.82689034e+00,\n",
       "        1.88653215e+00, -2.35638584e-01,  3.07012865e-01,  7.25416684e-01,\n",
       "        1.54732993e+00,  4.17456462e-03, -8.27312168e-01,  1.39098540e+00,\n",
       "        6.45691376e-01,  1.76191991e+00, -5.35368453e-01,  8.49760735e-03,\n",
       "        1.04095366e+00, -7.38055654e-01, -2.93444344e-01,  4.86806733e-01,\n",
       "       -9.98708438e-01,  1.60121484e-01,  1.49868414e+00, -7.70565600e-01,\n",
       "        1.99795810e+00, -6.85388104e-01,  1.13876486e+00,  6.79229751e-01,\n",
       "       -7.83968061e-01, -7.96254508e-01,  1.30805971e+00, -4.58494793e-01,\n",
       "        3.09233865e-01,  4.19219572e-01,  4.99748299e-01,  8.78974332e-01,\n",
       "       -8.84283350e-01, -2.97773226e-01, -3.44555110e-01,  1.67246713e+00,\n",
       "        7.62224250e-02,  1.33326253e+00,  1.15270092e+00,  1.95543274e+00,\n",
       "       -8.97205705e-02,  1.18177714e+00, -1.60003046e-01,  3.95676419e-01,\n",
       "        1.90602719e+00,  1.00439473e+00,  6.91625286e-01, -5.84883681e-01,\n",
       "        9.57559153e-01,  1.47383367e+00,  6.15765804e-01,  5.33212816e-02,\n",
       "        1.61101334e+00,  2.03232409e-01,  1.25413241e+00, -6.95052214e-01,\n",
       "       -3.31798929e-01,  1.29377223e+00,  1.08247765e+00,  1.08586779e+00,\n",
       "       -3.47483588e-01,  1.10805910e+00, -3.10723012e-01,  6.90987080e-01,\n",
       "       -7.59221759e-01,  1.35123627e+00,  1.68566857e+00, -8.40521488e-01,\n",
       "       -9.43409364e-02,  1.73216549e+00, -6.16612238e-01, -2.41022814e-01,\n",
       "        1.90362123e+00,  1.49466694e+00, -4.03725040e-01,  5.81099811e-02,\n",
       "        1.97115133e+00, -3.05093201e-02,  1.39657251e+00,  4.78135459e-01,\n",
       "       -5.84598856e-01,  3.72523741e-01,  1.52555773e-01, -2.30432824e-01,\n",
       "       -9.03970709e-01,  1.23556437e+00,  1.30973790e+00,  1.81423403e+00,\n",
       "       -4.17872380e-01,  1.68471756e+00,  1.62011055e+00,  6.08412736e-01,\n",
       "       -5.59150483e-01,  1.60938456e+00,  1.53929495e+00,  5.55175536e-01,\n",
       "        8.56032894e-01,  8.06054504e-01, -2.55605486e-01,  8.86361573e-01,\n",
       "        1.41488547e+00,  1.50847494e-01,  1.50670357e+00, -8.25578833e-01,\n",
       "        4.86396668e-01, -5.39347833e-01,  2.25137784e-01,  6.70681606e-01,\n",
       "        1.65331602e-01,  1.34230078e+00,  1.46459395e+00,  1.69029347e+00,\n",
       "        1.37912244e+00,  6.05829214e-01, -4.19189033e-01,  7.80674250e-01,\n",
       "        1.99774876e+00, -7.17814429e-01, -1.27834672e-02,  4.62990189e-01,\n",
       "        1.39602527e+00,  8.58395492e-01,  6.17425475e-01,  3.90234478e-01,\n",
       "        1.33116234e+00, -4.59818582e-01,  3.99986155e-01,  1.19185178e+00,\n",
       "       -2.75646774e-01,  1.94647178e+00,  1.86566213e+00,  9.99098787e-01,\n",
       "        1.56251179e+00, -2.47484102e-01, -3.27005497e-02,  1.14523829e+00,\n",
       "        1.70537402e+00, -5.33605645e-01, -6.84324833e-02,  4.77597177e-01,\n",
       "       -5.17723155e-01, -4.65162363e-01, -9.70906626e-01,  7.70024504e-01,\n",
       "       -6.91219158e-01,  9.77816684e-01,  1.32415767e-01, -5.13641856e-01,\n",
       "        1.90460244e+00, -3.42961145e-01,  1.08360799e+00, -9.15997560e-01,\n",
       "       -5.23282214e-01,  1.18293911e+00,  2.28378212e-02,  1.09555129e-01,\n",
       "        1.45835811e+00, -8.79751460e-01,  1.24623209e+00, -8.12491136e-01,\n",
       "        1.09707048e+00,  1.30719341e+00,  1.80022170e+00,  7.35134979e-01,\n",
       "       -7.00720776e-01,  1.97074547e+00,  1.21856401e+00, -4.80578973e-03,\n",
       "       -8.03798762e-01,  5.58519831e-01, -6.70624927e-01, -9.93205435e-01,\n",
       "        1.48592172e-01,  4.25164990e-01,  1.77072419e+00, -8.94119824e-01,\n",
       "        1.52920684e+00, -1.11572217e-01,  3.90022072e-01, -7.11612509e-01,\n",
       "       -1.18097785e-01,  1.65645391e+00,  8.59814882e-01,  1.01631888e+00,\n",
       "        9.79452510e-01,  1.69495327e+00, -3.64238496e-01,  5.31254096e-01,\n",
       "        1.86934734e+00, -1.98968203e-01,  1.18208974e+00,  7.45702594e-01,\n",
       "       -8.98132687e-01,  8.63462958e-01,  1.77867750e+00, -9.36992752e-01,\n",
       "        1.56249945e+00,  1.42733255e+00,  8.32628616e-01,  9.28320894e-01,\n",
       "       -3.65604626e-01, -2.92520872e-01, -9.51158228e-01, -8.93902212e-01,\n",
       "        1.40602515e+00,  1.46626036e+00,  1.08856455e+00,  1.84572386e+00,\n",
       "        2.72207327e-02,  1.38519550e-01,  4.39634357e-01,  1.18694484e+00,\n",
       "        5.74843549e-01, -6.61842774e-03,  1.14292504e+00,  1.06720158e+00,\n",
       "       -7.92082992e-01,  2.48431923e-01,  6.03351121e-01, -6.24737320e-01,\n",
       "       -9.16280696e-01,  1.05744548e+00,  1.48872760e+00, -3.77375456e-01,\n",
       "        1.22942904e+00,  1.85889614e+00,  1.85712086e+00, -5.88262231e-01,\n",
       "       -7.23325765e-01, -9.20087546e-01,  1.79337991e-01, -5.73175798e-01,\n",
       "       -2.10772254e-01,  3.23689408e-01,  9.22360166e-01, -8.76904584e-01,\n",
       "        1.81675084e+00, -7.95634891e-01,  1.22278061e+00,  6.74046772e-01,\n",
       "       -2.39094698e-01, -4.14694995e-01,  5.64655547e-01,  1.48095832e+00,\n",
       "        2.28023103e-01,  1.06712493e+00,  1.23296817e+00,  5.33240068e-01,\n",
       "        8.15723092e-01,  7.71231602e-01,  8.67466209e-01,  1.46044038e+00,\n",
       "        1.40768094e+00,  1.16101782e+00,  1.54113928e+00, -2.60451325e-01,\n",
       "        7.11438203e-01,  1.18450272e-01,  1.89535781e+00, -4.57715271e-01,\n",
       "        1.04161065e+00,  3.53264767e-01, -1.20459200e-04,  9.21403127e-01,\n",
       "        8.95213475e-01, -5.59997060e-01,  3.62210451e-01,  8.09489772e-01,\n",
       "       -1.34783961e-01,  1.58373125e-01,  8.87133059e-01,  9.05489743e-01,\n",
       "        1.78650237e+00, -8.01079009e-01, -3.47286370e-01,  3.52611822e-01,\n",
       "        9.32291526e-01,  7.84567344e-02, -1.22918905e-01,  1.89645734e+00,\n",
       "        1.08759481e+00,  1.55345098e-01,  2.32776701e-01,  1.16608812e+00,\n",
       "        7.64677968e-01,  2.85951239e-02,  1.94830456e+00, -6.85443456e-01,\n",
       "        1.64846037e+00, -8.15586981e-01, -1.80323487e-01, -2.31356727e-01,\n",
       "        7.55171004e-01,  4.80957300e-01, -6.98575377e-02,  2.75319555e-01,\n",
       "        1.21269260e+00, -6.06965015e-01, -2.49164859e-01,  1.09942826e-01,\n",
       "        1.70066224e+00,  4.48340112e-01,  1.40481427e+00, -1.93455968e-01,\n",
       "        1.37042541e+00,  1.53205459e-01, -3.61538950e-02, -6.55304768e-01,\n",
       "        6.98222470e-01,  4.32252818e-02,  1.11323081e+00, -1.03803703e-01,\n",
       "        1.79594358e+00,  1.21357401e+00,  3.22179073e-01,  2.45920596e-01,\n",
       "       -7.98686010e-01,  1.02472374e+00,  1.90714926e+00,  1.11817840e+00,\n",
       "        1.64229609e+00,  1.77144833e+00,  1.41729645e+00,  6.30648825e-01,\n",
       "       -3.19803280e-01,  1.23998938e-01, -1.00878765e-01, -9.52833033e-01,\n",
       "       -6.75024936e-01, -1.13838476e-03, -7.41793724e-01,  1.08767009e+00,\n",
       "       -1.84382844e-01,  4.31616419e-01,  1.96120576e+00,  8.15154166e-01,\n",
       "        6.00873804e-01,  1.97755676e+00, -2.40212008e-01, -2.90725493e-01,\n",
       "       -1.35865242e-01,  7.63933598e-01,  1.51845712e+00, -7.62461393e-01,\n",
       "       -1.51103809e-01, -2.11593709e-01,  2.50732500e-02,  1.34123652e+00,\n",
       "        8.58478257e-01,  6.01319719e-01,  1.62945826e+00, -3.20667704e-01,\n",
       "        5.00453019e-01, -5.88460053e-01,  7.36216128e-01,  1.69460326e+00,\n",
       "        1.09857823e+00,  7.26433254e-01,  1.48788190e+00, -8.99682855e-01,\n",
       "       -1.73906710e-01,  3.08070069e-01,  6.48177399e-01,  9.14077995e-02,\n",
       "       -5.32956807e-01, -3.91197615e-01, -1.15438594e-01,  9.46770517e-01,\n",
       "        1.50040562e-02,  1.00841540e+00,  1.68550876e-01,  3.75044537e-01,\n",
       "       -1.72583949e-01,  4.76081856e-01,  1.91172621e+00,  6.24400118e-01,\n",
       "       -1.44244193e-01, -4.42602500e-01, -9.73693557e-01, -8.51801311e-02,\n",
       "        6.07343956e-01,  1.71233194e-01,  1.98545078e+00,  1.57200328e+00,\n",
       "        1.48486730e+00,  1.01910305e+00, -7.56261474e-01,  6.46710059e-01,\n",
       "        1.57489930e+00, -5.36264617e-01, -6.33825958e-02,  7.70552370e-01,\n",
       "       -3.96530825e-02,  1.47937970e+00,  1.73397145e+00,  1.27065216e+00,\n",
       "        1.37530243e+00, -7.07896573e-01,  1.35675568e+00, -6.72412164e-01,\n",
       "        7.27213578e-01,  1.97197478e+00,  7.88297354e-01,  1.02030588e+00,\n",
       "        1.33272358e+00, -7.55259169e-02,  1.50676833e+00,  4.00440828e-01,\n",
       "        7.90488739e-01, -5.04481484e-01,  7.75777834e-01,  1.95224766e+00,\n",
       "        1.80677878e+00,  4.97525905e-01,  5.99461676e-01, -4.48334277e-01,\n",
       "        1.78000350e+00,  1.59248752e+00,  2.45113471e-01,  1.50894333e+00,\n",
       "       -7.47287439e-01,  1.20362426e+00,  1.18287294e+00,  1.66554150e+00,\n",
       "       -3.18933786e-01,  1.97669104e+00,  9.82701783e-01,  1.98401674e+00,\n",
       "       -6.69606851e-01, -6.25605364e-01,  6.18241124e-01, -4.11322016e-01,\n",
       "        9.47544047e-01,  1.74978673e+00,  1.91622941e+00,  1.06505043e+00,\n",
       "       -8.99739817e-01,  7.12886394e-02, -2.65726578e-01,  1.18053499e+00,\n",
       "        1.28992639e+00,  8.92218863e-01, -1.38104569e-01,  1.33871170e+00,\n",
       "        6.25275572e-01,  7.00265694e-01,  1.97792298e+00,  7.64376202e-01,\n",
       "        1.28659951e+00, -2.90231721e-01,  1.12790260e+00,  1.81382951e-01,\n",
       "        5.23852654e-01, -7.63215193e-01, -4.03351030e-01, -6.95591093e-01,\n",
       "        6.98954244e-01, -5.18777787e-01,  1.76953392e+00,  1.26742166e-01,\n",
       "       -4.40699884e-01, -3.71814693e-01,  1.18084613e+00, -5.60463672e-01,\n",
       "        1.19027691e+00,  2.33228118e-01, -1.97466271e-01, -3.50193895e-01,\n",
       "       -6.93049674e-01,  3.89521489e-01,  1.46500603e+00, -6.48830663e-01,\n",
       "        1.28761255e+00,  1.23344598e-01,  1.11753141e-01,  1.01545838e+00,\n",
       "       -4.13679375e-01,  4.52551170e-01,  1.98238529e-01,  1.34311182e+00,\n",
       "       -3.28602875e-01,  1.20164545e+00,  1.39954721e+00,  1.70680540e+00,\n",
       "        1.81676425e+00,  1.09435864e+00,  1.93674700e+00, -3.97622271e-01,\n",
       "       -8.80660082e-02, -7.35347102e-01, -2.37391811e-01,  1.28016701e+00,\n",
       "        6.53503057e-01,  1.21312295e+00,  1.38175856e+00, -9.51111286e-01,\n",
       "        1.73178767e+00,  1.21679957e+00,  2.05181127e-01, -3.56447442e-01,\n",
       "        3.36150987e-01,  7.28994158e-01, -7.05223185e-01,  2.48736383e-01,\n",
       "        1.17413043e+00,  1.14725998e+00,  4.93299280e-02,  5.56543383e-01,\n",
       "        6.46693904e-01,  1.74216310e+00, -9.31778208e-01,  1.94447766e+00,\n",
       "        1.79145973e+00, -1.99848107e-01, -3.36348131e-01,  1.21621235e+00,\n",
       "        1.66093678e+00,  1.12760082e+00,  1.24113146e+00,  1.25885123e+00,\n",
       "       -1.35596353e-01, -4.45570329e-01,  3.70400173e-01, -6.74404028e-01,\n",
       "        1.93824964e+00, -1.59160914e-01,  3.45697077e-01,  2.68046481e-01,\n",
       "       -6.00810219e-02, -9.02128762e-01, -1.64805472e-01,  2.06103631e-01,\n",
       "        1.28209018e+00, -3.90990723e-01, -1.07834871e-01,  1.54652369e-01,\n",
       "        1.43658539e+00,  7.80223215e-01,  1.17344717e+00,  8.07554565e-01,\n",
       "        1.35382716e+00,  6.28312002e-01,  8.51038312e-01,  1.97691711e+00,\n",
       "       -4.25516724e-01,  9.80381215e-01,  1.31404372e+00, -6.90286292e-01,\n",
       "        2.09095234e-01,  1.33122120e+00,  1.65778443e+00,  3.52658014e-01,\n",
       "        1.40473535e+00,  1.91207045e+00, -1.53546196e-01, -4.05109039e-01,\n",
       "        7.76969467e-01,  4.56306635e-01, -2.84700362e-01,  8.30231243e-01,\n",
       "        1.69203620e+00,  1.80575233e+00, -1.29062158e-01,  1.05710946e-01,\n",
       "        8.76610211e-01,  1.74133386e+00,  1.12086030e+00,  1.77721545e-01,\n",
       "        1.51279082e+00,  1.99743197e+00,  1.06412422e+00, -9.51237625e-01,\n",
       "        2.96603977e-01,  1.13108075e+00,  5.37301390e-01, -9.92602952e-01,\n",
       "        1.05268366e+00,  1.51528212e+00,  1.73208415e+00,  9.51376785e-01,\n",
       "        1.01096224e+00, -5.58722885e-01,  1.40059430e+00,  1.98200876e+00,\n",
       "        1.60315046e+00,  3.60912097e-01, -6.14511703e-01, -8.79336706e-01,\n",
       "        7.25194381e-01,  6.13090587e-01,  1.92890520e+00, -5.04484737e-01,\n",
       "        1.96631854e+00, -1.45732321e-01, -6.12867554e-01,  1.23203526e+00,\n",
       "        6.47255264e-01, -5.06739467e-01,  1.34702824e+00,  1.29608571e-01,\n",
       "        8.48310048e-01,  1.70574443e+00,  4.51791243e-01,  4.44786808e-01,\n",
       "        1.68828796e+00,  4.58173372e-01, -7.41016881e-01, -8.99313441e-01,\n",
       "       -6.86363843e-01,  2.99751032e-01, -7.95317755e-01,  1.15423979e+00,\n",
       "        4.19084210e-01,  8.69820120e-01,  1.47514244e+00, -1.49927369e-01,\n",
       "       -7.81837118e-01, -6.54741955e-01, -7.82418636e-02, -7.79737484e-02,\n",
       "        8.31683207e-01,  1.68312331e-02,  1.40593313e+00, -5.34835066e-01,\n",
       "        2.69160164e-01,  9.13913479e-01, -2.39204375e-01,  1.74042523e+00,\n",
       "        1.05049372e+00,  6.65412126e-01,  1.59298842e+00,  1.32222107e+00,\n",
       "        1.86971094e+00,  1.83992837e+00,  1.62001203e+00,  1.86732180e+00,\n",
       "       -8.10161111e-01,  1.73075884e+00, -7.60115910e-02,  1.57274920e+00,\n",
       "        1.89464946e+00,  6.08221600e-01,  6.22951365e-01,  5.24181766e-01,\n",
       "        1.35693039e+00, -9.26371656e-02,  6.36455512e-01, -4.18567659e-01,\n",
       "        1.82992948e+00,  2.64683425e-01, -1.95226429e-01, -6.93269020e-01,\n",
       "        7.80271015e-01,  4.40630808e-01,  1.72684885e+00,  2.23704191e-03,\n",
       "        1.89822546e+00, -3.15485520e-01,  1.60260546e+00,  1.28349672e+00,\n",
       "       -5.17768141e-01,  1.19796450e+00,  4.97933962e-01,  1.90822250e+00,\n",
       "        1.72147306e+00,  1.72904057e+00,  1.29481788e+00,  1.94453961e+00,\n",
       "        7.37824772e-01,  5.84411889e-01, -5.79230313e-01,  2.58701307e-01,\n",
       "        5.95245742e-01,  7.32245162e-02, -6.44187110e-01,  1.15779811e+00,\n",
       "        7.84268807e-01,  1.05569041e+00,  4.64126462e-01, -5.98669415e-01,\n",
       "        1.23574282e+00,  2.17054484e-01,  1.08550760e+00,  1.11889441e+00,\n",
       "        1.33635719e+00, -4.20192709e-01,  1.16926068e+00,  5.33819195e-01,\n",
       "        1.96633048e+00,  7.94767210e-01,  3.61089441e-01, -7.08096832e-01,\n",
       "        8.53344054e-01,  8.33271032e-01,  1.19785392e+00,  1.99906089e+00,\n",
       "        9.86709449e-01, -1.30057323e-01,  2.16187172e-01,  7.65751629e-02,\n",
       "        1.97563426e-02,  3.30317695e-01, -1.96363292e-01,  1.38674840e+00,\n",
       "        1.94765628e+00, -9.27713926e-01,  1.57418985e+00,  1.22810198e+00,\n",
       "        1.64654245e+00,  1.09452180e+00, -9.92067406e-01,  1.99691447e+00,\n",
       "       -6.75457551e-01,  4.13498462e-01,  1.67657015e+00,  1.95940841e+00,\n",
       "       -5.99005960e-01, -2.62781427e-01,  1.90935475e+00,  1.86101764e+00,\n",
       "       -9.50626660e-02,  1.63904901e+00,  1.62583940e+00, -6.18328849e-02,\n",
       "       -9.07251034e-01,  1.50424501e+00, -5.16918707e-01,  3.59192346e-01,\n",
       "       -1.55927513e-01,  1.02080809e+00,  1.98439047e+00,  1.10987065e+00,\n",
       "        6.53924031e-01,  5.85772262e-01,  1.59808046e+00, -9.05947166e-01,\n",
       "        2.07589791e-01,  1.29766177e-01, -7.00969880e-01,  1.56792778e+00,\n",
       "        1.94953895e+00,  1.50729122e+00,  1.95928374e+00,  9.71827271e-01,\n",
       "       -8.21241940e-02,  5.46109183e-01,  8.40616721e-02,  6.69973326e-01,\n",
       "       -4.32399588e-02,  1.22007192e-01,  1.07307825e+00,  9.38773849e-01,\n",
       "       -6.28715068e-01, -1.11423980e-01,  4.94656212e-01,  1.54648573e+00,\n",
       "       -8.42086929e-01,  1.81650432e-02,  9.79315624e-01,  2.41754444e-01,\n",
       "        1.42231870e+00,  1.97080856e+00, -7.86465511e-01,  8.35144407e-01,\n",
       "       -1.94675828e-01,  1.14015087e+00, -5.08351715e-01, -7.45011951e-01,\n",
       "       -7.42853004e-01, -5.41524161e-01,  7.24613286e-01, -8.01007720e-01,\n",
       "       -9.10999389e-01,  3.71378350e-01,  5.68240499e-01,  1.40235030e+00,\n",
       "        1.51882403e+00,  5.10446013e-01, -3.33614162e-01,  8.92601032e-01,\n",
       "        1.16874973e+00,  5.53714118e-02, -6.05502464e-02, -9.05561990e-01,\n",
       "       -4.66185676e-01, -6.66335428e-01,  9.34679338e-01, -4.24756449e-01,\n",
       "       -8.90214172e-01,  1.83123782e+00, -7.69956813e-01,  5.58626629e-01,\n",
       "        1.37598156e+00, -7.67762136e-01,  1.44268883e+00, -8.44554634e-02,\n",
       "        1.72273228e+00,  1.03168448e-01,  1.61261517e+00, -9.95885044e-01,\n",
       "       -7.57144108e-01, -9.12353424e-01,  9.16488183e-01,  3.32983726e-01,\n",
       "        4.68430102e-01,  1.78635226e+00, -2.24156638e-01,  1.27812813e-01,\n",
       "        4.70914784e-01, -8.27562120e-02,  1.87763058e+00,  2.28797689e-01,\n",
       "        1.43253545e+00,  1.69080930e+00,  1.22987431e+00,  1.39281051e+00,\n",
       "       -6.56523256e-01, -9.23365147e-01,  1.10174599e+00, -2.30194473e-01,\n",
       "        1.66151200e+00,  1.26344515e+00, -3.40403036e-01, -7.80719471e-01,\n",
       "        4.43522187e-01,  9.36408215e-01,  1.80328228e+00,  3.82838700e-01,\n",
       "       -5.19996838e-01,  9.35480837e-01,  1.39018376e+00,  5.56312168e-01,\n",
       "       -3.96123955e-01,  9.88864399e-01, -5.71816734e-02, -8.71959777e-01,\n",
       "        4.76185127e-02,  1.57658498e+00,  1.39638030e+00,  1.05767980e+00,\n",
       "        3.38897582e-01,  1.12208469e+00,  5.62187837e-01,  1.62083958e+00,\n",
       "       -5.49356912e-01, -2.91904814e-01, -6.85199992e-01, -2.20575114e-03,\n",
       "        2.76635434e-02, -1.02224517e-01,  7.24264671e-01,  4.56714631e-01,\n",
       "        5.86230081e-01,  1.32708277e+00,  1.99010350e+00, -3.36761413e-01,\n",
       "        1.00693756e+00,  1.57071095e+00,  1.47022503e+00,  1.09151691e+00,\n",
       "        9.96601898e-01, -3.69053694e-01, -6.26062206e-02, -4.25257269e-02,\n",
       "        6.13860772e-01,  3.15972955e-01, -6.49278076e-01,  7.29357245e-01,\n",
       "       -7.80513344e-01,  1.76628207e+00, -3.93834854e-01,  8.70112539e-01,\n",
       "        1.30261390e+00, -9.62131425e-01, -1.71433556e-01, -8.09578563e-01,\n",
       "       -3.90271492e-01,  5.89363663e-02,  1.62218583e-01,  2.56473876e-01,\n",
       "        4.31252899e-01, -7.49967355e-01,  6.82247937e-01, -7.40347202e-01,\n",
       "        1.22802169e+00, -2.89958003e-01,  1.22201283e+00, -3.07532495e-01,\n",
       "        1.26771802e+00, -9.86197788e-02,  2.51564845e-01,  1.60681232e-01,\n",
       "        4.10284328e-01,  9.04892923e-01,  9.51560256e-01,  7.40055799e-01,\n",
       "        3.25293714e-01, -6.33334273e-01, -4.93261265e-01,  6.03597481e-01,\n",
       "        1.90509521e+00,  1.01690484e+00,  7.58252932e-01,  1.22627191e+00,\n",
       "        5.84058128e-01,  1.89880647e+00, -7.59509103e-01, -9.38919117e-01,\n",
       "        1.68345012e+00, -5.76453035e-01, -1.49224801e-01,  9.97487896e-01,\n",
       "        2.79467647e-01,  3.55200026e-01,  2.80040140e-01,  1.39375738e+00,\n",
       "       -4.22420493e-01, -4.81918330e-01,  5.48359140e-01,  3.21366718e-02,\n",
       "        1.16972495e+00,  4.04325772e-01,  1.21937033e+00, -8.09325764e-01,\n",
       "       -1.77276452e-01,  3.96061833e-01, -1.18420836e-01, -5.12261589e-01,\n",
       "        1.02490681e+00,  1.07823053e+00,  1.80664924e+00,  1.96168503e-01,\n",
       "        1.77534202e+00,  8.66132028e-02, -8.11713838e-01, -8.90187978e-01,\n",
       "        1.47210261e-01,  3.53233659e-01, -1.83206590e-01, -1.89767189e-01,\n",
       "        1.90313748e+00, -3.42239241e-01, -9.74368620e-01, -1.34827487e-01,\n",
       "        1.26499054e+00, -8.98352665e-01,  6.19907222e-01,  3.56108369e-01,\n",
       "        1.44121709e+00,  1.92995021e+00,  1.02698731e+00,  1.67517575e+00,\n",
       "       -6.54058655e-01,  1.94285219e+00,  1.90252491e+00,  1.96835374e+00,\n",
       "        1.06956780e+00,  4.35537828e-01,  3.27541315e-01,  1.58004286e+00,\n",
       "        1.72600971e+00,  4.61645430e-01,  1.07292186e+00,  1.24504651e+00,\n",
       "        1.94860772e+00, -4.69460434e-01,  8.33228857e-01,  8.69104672e-01,\n",
       "       -3.66258801e-01,  1.38223061e+00,  1.81476914e-01,  1.61265172e+00,\n",
       "        1.58507561e+00,  6.44712635e-01, -6.98460863e-01,  1.05312270e+00,\n",
       "       -9.25611536e-01, -9.31964912e-01, -2.52110983e-01, -6.53413234e-01])"
      ]
     },
     "execution_count": 7,
     "metadata": {},
     "output_type": "execute_result"
    }
   ],
   "source": [
    "np.random.uniform(low= -1, high = 2, size = 1000)"
   ]
  },
  {
   "cell_type": "code",
   "execution_count": 12,
   "metadata": {},
   "outputs": [
    {
     "data": {
      "text/plain": [
       "(array([1.65165165e-04, 0.00000000e+00, 4.95495495e-04, 0.00000000e+00,\n",
       "        8.25825826e-04, 0.00000000e+00, 6.60660661e-04, 3.30330330e-04,\n",
       "        3.30330330e-04, 4.95495495e-04, 4.95495495e-04, 3.30330330e-04,\n",
       "        8.25825826e-04, 9.90990991e-04, 9.90990991e-04, 3.30330330e-04,\n",
       "        9.90990991e-04, 1.32132132e-03, 8.25825826e-04, 8.25825826e-04,\n",
       "        9.90990991e-04, 1.48648649e-03, 9.90990991e-04, 1.15615616e-03,\n",
       "        1.98198198e-03, 1.98198198e-03, 2.47747748e-03, 2.97297297e-03,\n",
       "        2.80780781e-03, 2.80780781e-03, 4.12912913e-03, 2.97297297e-03,\n",
       "        3.13813814e-03, 2.64264264e-03, 5.45045045e-03, 2.80780781e-03,\n",
       "        3.30330330e-03, 4.78978979e-03, 6.44144144e-03, 3.79879880e-03,\n",
       "        2.97297297e-03, 2.31231231e-03, 6.60660661e-04, 0.00000000e+00,\n",
       "        0.00000000e+00, 0.00000000e+00, 0.00000000e+00, 0.00000000e+00,\n",
       "        0.00000000e+00, 0.00000000e+00, 0.00000000e+00, 0.00000000e+00,\n",
       "        2.84843844e+00, 1.91096096e-01, 5.05405405e-02, 2.92342342e-02,\n",
       "        1.93243243e-02, 1.46996997e-02, 9.57957958e-03, 7.26726727e-03,\n",
       "        5.94594595e-03, 6.27627628e-03, 2.97297297e-03, 5.94594595e-03,\n",
       "        3.79879880e-03, 4.12912913e-03, 2.97297297e-03, 2.97297297e-03,\n",
       "        2.80780781e-03, 1.48648649e-03, 9.90990991e-04, 1.32132132e-03,\n",
       "        8.25825826e-04, 1.81681682e-03, 4.95495495e-04, 9.90990991e-04,\n",
       "        1.32132132e-03, 1.32132132e-03, 3.30330330e-04, 4.95495495e-04,\n",
       "        1.65165165e-04, 3.30330330e-04, 4.95495495e-04, 1.65165165e-04,\n",
       "        3.30330330e-04, 1.65165165e-04, 4.95495495e-04, 0.00000000e+00,\n",
       "        3.30330330e-04, 0.00000000e+00, 0.00000000e+00, 3.30330330e-04,\n",
       "        0.00000000e+00, 4.95495495e-04, 6.60660661e-04, 3.30330330e-04,\n",
       "        0.00000000e+00, 0.00000000e+00, 0.00000000e+00]),\n",
       " array([-15.        , -14.6969697 , -14.39393939, -14.09090909,\n",
       "        -13.78787879, -13.48484848, -13.18181818, -12.87878788,\n",
       "        -12.57575758, -12.27272727, -11.96969697, -11.66666667,\n",
       "        -11.36363636, -11.06060606, -10.75757576, -10.45454545,\n",
       "        -10.15151515,  -9.84848485,  -9.54545455,  -9.24242424,\n",
       "         -8.93939394,  -8.63636364,  -8.33333333,  -8.03030303,\n",
       "         -7.72727273,  -7.42424242,  -7.12121212,  -6.81818182,\n",
       "         -6.51515152,  -6.21212121,  -5.90909091,  -5.60606061,\n",
       "         -5.3030303 ,  -5.        ,  -4.6969697 ,  -4.39393939,\n",
       "         -4.09090909,  -3.78787879,  -3.48484848,  -3.18181818,\n",
       "         -2.87878788,  -2.57575758,  -2.27272727,  -1.96969697,\n",
       "         -1.66666667,  -1.36363636,  -1.06060606,  -0.75757576,\n",
       "         -0.45454545,  -0.15151515,   0.15151515,   0.45454545,\n",
       "          0.75757576,   1.06060606,   1.36363636,   1.66666667,\n",
       "          1.96969697,   2.27272727,   2.57575758,   2.87878788,\n",
       "          3.18181818,   3.48484848,   3.78787879,   4.09090909,\n",
       "          4.39393939,   4.6969697 ,   5.        ,   5.3030303 ,\n",
       "          5.60606061,   5.90909091,   6.21212121,   6.51515152,\n",
       "          6.81818182,   7.12121212,   7.42424242,   7.72727273,\n",
       "          8.03030303,   8.33333333,   8.63636364,   8.93939394,\n",
       "          9.24242424,   9.54545455,   9.84848485,  10.15151515,\n",
       "         10.45454545,  10.75757576,  11.06060606,  11.36363636,\n",
       "         11.66666667,  11.96969697,  12.27272727,  12.57575758,\n",
       "         12.87878788,  13.18181818,  13.48484848,  13.78787879,\n",
       "         14.09090909,  14.39393939,  14.6969697 ,  15.        ]),\n",
       " <a list of 99 Patch objects>)"
      ]
     },
     "execution_count": 12,
     "metadata": {},
     "output_type": "execute_result"
    },
    {
     "data": {
      "image/png": "[encoded data removed]",
      "text/plain": [
       "<Figure size 432x288 with 1 Axes>"
      ]
     },
     "metadata": {
      "needs_background": "light"
     },
     "output_type": "display_data"
    }
   ],
   "source": [
    "plt.hist(out[0] * out[1], bins = np.linspace(-15, 15, 100), density = True)"
   ]
  },
  {
   "cell_type": "code",
   "execution_count": 6,
   "metadata": {},
   "outputs": [],
   "source": [
    "out = cds.ddm_sdv(v = -3,\n",
    "                  a = 2.5, \n",
    "                  w = 0.3,\n",
    "                  ndt = 1,\n",
    "                  sdv = 0,\n",
    "                  s = 1,\n",
    "                  boundary_fun = bf.constant, \n",
    "                  delta_t = 0.001,\n",
    "                  n_samples = 100000)"
   ]
  },
  {
   "cell_type": "code",
   "execution_count": 4,
   "metadata": {},
   "outputs": [
    {
     "data": {
      "text/plain": [
       "array([[-2.64002061],\n",
       "       [-1.83699274],\n",
       "       [-2.17499876],\n",
       "       ...,\n",
       "       [-2.72102451],\n",
       "       [-2.14299726],\n",
       "       [-3.4240067 ]])"
      ]
     },
     "execution_count": 4,
     "metadata": {},
     "output_type": "execute_result"
    }
   ],
   "source": [
    "out[0] * out[1]"
   ]
  },
  {
   "cell_type": "code",
   "execution_count": 2,
   "metadata": {},
   "outputs": [],
   "source": [
    "my_bins = np.arange(- 512, 513) * 20 / 1024"
   ]
  },
  {
   "cell_type": "code",
   "execution_count": 7,
   "metadata": {},
   "outputs": [],
   "source": [
    "analy_out = batch_fptd(t = my_bins.copy(),\n",
    "                       v = 3,\n",
    "                       a = 5,\n",
    "                       w = 0.7,\n",
    "                       ndt = 1,\n",
    "                       sdv = 0,\n",
    "                       eps = 1e-50)"
   ]
  },
  {
   "cell_type": "code",
   "execution_count": 11,
   "metadata": {},
   "outputs": [
    {
     "data": {
      "text/plain": [
       "(array([500, 501, 502, 512, 513, 514, 515, 527, 528, 529, 530, 531, 532,\n",
       "        533, 534, 535, 536, 537, 538, 539, 540, 541, 564, 565, 566, 567,\n",
       "        568, 569, 570, 571]),)"
      ]
     },
     "execution_count": 11,
     "metadata": {},
     "output_type": "execute_result"
    }
   ],
   "source": [
    "(analy_out <= 1e-48).nonzero()"
   ]
  },
  {
   "cell_type": "code",
   "execution_count": 6,
   "metadata": {},
   "outputs": [
    {
     "data": {
      "text/plain": [
       "array([1.00000000e-48, 1.00000000e-48, 1.00000000e-48, 5.50616556e-01,\n",
       "       3.22339017e-01, 1.53733429e-01, 5.36728989e-02, 1.12941078e-02,\n",
       "       9.67429341e-04, 1.33839486e-05, 1.81829580e-09, 1.74461203e-21,\n",
       "       1.00000000e-48, 1.00000000e-48, 1.00000000e-48, 1.00000000e-48,\n",
       "       1.10747000e-37, 4.68310627e-31, 1.13088050e-26, 1.43733582e-23,\n",
       "       2.91372804e-21, 1.74238274e-19, 5.35018169e-07, 3.96000533e-07,\n",
       "       2.92625196e-07, 2.15883993e-07, 3.69686945e-09, 1.00000000e-48,\n",
       "       1.00000000e-48, 1.00000000e-48, 1.00000000e-48, 1.00000000e-48,\n",
       "       1.00000000e-48, 1.00000000e-48, 1.00000000e-48, 1.00000000e-48,\n",
       "       1.00000000e-48, 1.00000000e-48, 1.00000000e-48, 1.00000000e-48,\n",
       "       1.00000000e-48, 1.00000000e-48, 5.44773932e-08, 4.58746556e-08,\n",
       "       3.86317258e-08, 3.25389056e-08, 2.74179696e-08, 2.31175490e-08,\n",
       "       1.95091806e-08, 1.64839255e-08])"
      ]
     },
     "execution_count": 6,
     "metadata": {},
     "output_type": "execute_result"
    }
   ],
   "source": [
    "analy_out[500:550]"
   ]
  },
  {
   "cell_type": "code",
   "execution_count": 37,
   "metadata": {},
   "outputs": [
    {
     "data": {
      "text/plain": [
       "[<matplotlib.lines.Line2D at 0x1a3efccd50>]"
      ]
     },
     "execution_count": 37,
     "metadata": {},
     "output_type": "execute_result"
    },
    {
     "data": {
      "image/png": "[encoded data removed]",
      "text/plain": [
       "<Figure size 432x288 with 1 Axes>"
      ]
     },
     "metadata": {
      "needs_background": "light"
     },
     "output_type": "display_data"
    }
   ],
   "source": [
    "plt.plot(my_bins, analy_out)"
   ]
  },
  {
   "cell_type": "code",
   "execution_count": 8,
   "metadata": {},
   "outputs": [
    {
     "data": {
      "text/plain": [
       "[<matplotlib.lines.Line2D at 0x1a40493510>]"
      ]
     },
     "execution_count": 8,
     "metadata": {},
     "output_type": "execute_result"
    },
    {
     "data": {
      "image/png": "[encoded data removed]",
      "text/plain": [
       "<Figure size 432x288 with 1 Axes>"
      ]
     },
     "metadata": {
      "needs_background": "light"
     },
     "output_type": "display_data"
    }
   ],
   "source": [
    "plt.hist(out[0] * out[1], \n",
    "         bins = np.arange(-512, 513) * 20/1024 , \n",
    "         alpha = 0.2, \n",
    "         color = 'red', \n",
    "         density = 1)\n",
    "\n",
    "plt.plot(my_bins, analy_out)"
   ]
  },
  {
   "cell_type": "code",
   "execution_count": 9,
   "metadata": {},
   "outputs": [],
   "source": [
    "cumsum = 0\n",
    "for i in range(1, analy_out.shape[0], 1):\n",
    "    cumsum += ((analy_out[i - 1] + analy_out[i]) / 2) * (my_bins[1] - my_bins[0])"
   ]
  },
  {
   "cell_type": "code",
   "execution_count": 10,
   "metadata": {},
   "outputs": [
    {
     "data": {
      "text/plain": [
       "0.999999999705487"
      ]
     },
     "execution_count": 10,
     "metadata": {},
     "output_type": "execute_result"
    }
   ],
   "source": [
    "cumsum"
   ]
  },
  {
   "cell_type": "code",
   "execution_count": 61,
   "metadata": {},
   "outputs": [
    {
     "data": {
      "text/plain": [
       "72004899337.38588"
      ]
     },
     "execution_count": 61,
     "metadata": {},
     "output_type": "execute_result"
    }
   ],
   "source": [
    "np.exp(25)"
   ]
  },
  {
   "cell_type": "code",
   "execution_count": 61,
   "metadata": {},
   "outputs": [
    {
     "data": {
      "text/plain": [
       "(1025,)"
      ]
     },
     "execution_count": 61,
     "metadata": {},
     "output_type": "execute_result"
    }
   ],
   "source": [
    "analy_out.shape"
   ]
  },
  {
   "cell_type": "code",
   "execution_count": 16,
   "metadata": {},
   "outputs": [
    {
     "data": {
      "text/plain": [
       "(array([  0.,   0.,   0.,   0.,   0.,   0.,   0.,   0.,   0.,   0.,   0.,\n",
       "          0.,   0.,   0.,   0.,   0.,   0.,   0.,   0.,   0.,   0.,   0.,\n",
       "          0.,   0.,   0.,   0.,   0.,  42., 213., 411., 644., 701., 840.,\n",
       "        836., 840., 742., 779., 755., 679., 620., 597., 557., 549., 540.,\n",
       "        482., 412., 448., 388., 341., 351., 268., 294., 260., 267., 232.,\n",
       "        214., 230., 181., 176., 183., 169., 158., 143., 129., 116., 135.,\n",
       "        139., 124.,  93., 104.,  82.,  93.,  73.,  87.,  63.,  63.,  62.,\n",
       "         61.,  57.,  49.,  53.,  43.,  44.,  35.,  31.,  26.,  21.,  23.,\n",
       "         31.,  32.,  19.,  19.,  21.,  15.,  15.,  11.,  20.,  21.,  12.,\n",
       "         18.,   5.,  11.,   8.,   6.,   7.,  10.,   7.,   5.,   6.,   1.,\n",
       "          2.,   7.,   5.,   5.,   7.,   2.,   4.,   3.,   3.,   4.,   4.,\n",
       "          2.,   3.,   6.,   2.,   1.,   4.,   1.,   0.,   3.,   2.,   4.,\n",
       "          2.,   2.,   2.,   0.,   1.,   1.,   3.,   0.,   1.,   1.,   0.,\n",
       "          0.,   1.,   1.,   0.,   0.,   1.,   0.,   1.,   0.,   0.,   0.,\n",
       "          0.,   0.,   1.,   0.,   0.,   0.,   0.,   1.,   0.,   0.,   0.,\n",
       "          0.,   0.,   0.,   0.,   0.,   0.,   0.,   0.,   0.,   0.,   0.,\n",
       "          0.,   0.,   0.,   0.,   0.,   0.,   0.,   0.,   0.,   0.,   0.,\n",
       "          0.,   0.,   0.,   0.,   0.,   0.,   0.,   0.,   0.,   1.,   0.,\n",
       "          0.,   0.,   0.,   0.,   0.,   0.,   0.,   0.,   0.,   0.,   0.,\n",
       "          0.,   0.,   0.,   0.,   0.,   0.,   0.,   0.,   0.,   0.,   0.,\n",
       "          0.,   0.,   0.,   0.,   0.,   0.,   0.,   0.,   0.,   0.,   0.,\n",
       "          0.,   0.,   0.,   0.,   0.,   0.,   0.,   0.,   0.,   0.,   0.,\n",
       "          0.,   0.,   0.,   0.,   0.,   0.,   0.,   0.,   0.,   0.,   0.,\n",
       "          0.,   0.,   0.,   0.,   0.,   0.,   0.,   0.,   0.,   0.,   0.,\n",
       "          0.,   0.,   0.,   0.,   0.,   0.,   0.,   0.,   0.,   0.,   0.,\n",
       "          0.,   0.,   0.,   0.,   0.,   0.,   0.,   0.,   0.,   0.,   0.,\n",
       "          0.,   0.,   0.,   0.,   0.,   0.,   0.,   0.,   0.,   0.,   0.,\n",
       "          0.,   0.,   0.,   0.,   0.,   0.,   0.,   0.,   0.,   0.,   0.,\n",
       "          0.,   0.,   0.,   0.,   0.,   0.,   0.,   0.,   0.,   0.,   0.,\n",
       "          0.,   0.,   0.,   0.,   0.,   0.,   0.,   0.,   0.,   0.,   0.,\n",
       "          0.,   0.,   0.,   0.,   0.,   0.,   0.,   0.,   0.,   0.,   0.,\n",
       "          0.,   0.,   0.,   0.,   0.,   0.,   0.,   0.,   0.,   0.,   0.,\n",
       "          0.,   0.,   0.,   0.,   0.,   0.,   0.,   0.,   0.,   0.,   0.,\n",
       "          0.,   0.,   0.,   0.,   0.,   0.,   0.,   0.,   0.,   0.,   0.,\n",
       "          0.,   0.,   0.,   0.,   0.,   0.,   0.,   0.,   0.,   0.,   0.,\n",
       "          0.,   0.,   0.,   0.,   0.,   0.,   0.,   0.,   0.,   0.,   0.,\n",
       "          0.,   0.,   0.,   0.,   0.,   0.,   0.,   0.,   0.,   0.,   0.,\n",
       "          0.,   0.,   0.,   0.,   0.,   0.,   0.,   0.,   0.,   0.,   0.,\n",
       "          0.,   0.,   0.,   0.,   0.,   0.,   0.,   0.,   0.,   0.,   0.,\n",
       "          0.,   0.,   0.,   0.,   0.,   0.,   0.,   0.,   0.,   0.,   0.,\n",
       "          0.,   0.,   0.,   0.,   0.,   0.,   0.,   0.,   0.,   0.,   0.,\n",
       "          0.,   0.,   0.,   0.,   0.,   0.,   0.,   0.,   0.,   0.,   0.,\n",
       "          0.,   0.,   0.,   0.,   0.,   0.,   0.,   0.,   0.,   0.,   0.,\n",
       "          0.,   0.,   0.,   0.,   0.,   0.,   0.,   0.,   0.,   0.,   0.,\n",
       "          0.,   0.,   0.,   0.,   0.,   0.,   0.,   0.,   0.,   0.,   0.,\n",
       "          0.,   0.,   0.,   0.,   0.,   0.,   0.,   0.,   0.,   0.,   0.,\n",
       "          0.,   0.,   0.,   0.,   0.]),\n",
       " array([ 0.       ,  0.0390625,  0.078125 ,  0.1171875,  0.15625  ,\n",
       "         0.1953125,  0.234375 ,  0.2734375,  0.3125   ,  0.3515625,\n",
       "         0.390625 ,  0.4296875,  0.46875  ,  0.5078125,  0.546875 ,\n",
       "         0.5859375,  0.625    ,  0.6640625,  0.703125 ,  0.7421875,\n",
       "         0.78125  ,  0.8203125,  0.859375 ,  0.8984375,  0.9375   ,\n",
       "         0.9765625,  1.015625 ,  1.0546875,  1.09375  ,  1.1328125,\n",
       "         1.171875 ,  1.2109375,  1.25     ,  1.2890625,  1.328125 ,\n",
       "         1.3671875,  1.40625  ,  1.4453125,  1.484375 ,  1.5234375,\n",
       "         1.5625   ,  1.6015625,  1.640625 ,  1.6796875,  1.71875  ,\n",
       "         1.7578125,  1.796875 ,  1.8359375,  1.875    ,  1.9140625,\n",
       "         1.953125 ,  1.9921875,  2.03125  ,  2.0703125,  2.109375 ,\n",
       "         2.1484375,  2.1875   ,  2.2265625,  2.265625 ,  2.3046875,\n",
       "         2.34375  ,  2.3828125,  2.421875 ,  2.4609375,  2.5      ,\n",
       "         2.5390625,  2.578125 ,  2.6171875,  2.65625  ,  2.6953125,\n",
       "         2.734375 ,  2.7734375,  2.8125   ,  2.8515625,  2.890625 ,\n",
       "         2.9296875,  2.96875  ,  3.0078125,  3.046875 ,  3.0859375,\n",
       "         3.125    ,  3.1640625,  3.203125 ,  3.2421875,  3.28125  ,\n",
       "         3.3203125,  3.359375 ,  3.3984375,  3.4375   ,  3.4765625,\n",
       "         3.515625 ,  3.5546875,  3.59375  ,  3.6328125,  3.671875 ,\n",
       "         3.7109375,  3.75     ,  3.7890625,  3.828125 ,  3.8671875,\n",
       "         3.90625  ,  3.9453125,  3.984375 ,  4.0234375,  4.0625   ,\n",
       "         4.1015625,  4.140625 ,  4.1796875,  4.21875  ,  4.2578125,\n",
       "         4.296875 ,  4.3359375,  4.375    ,  4.4140625,  4.453125 ,\n",
       "         4.4921875,  4.53125  ,  4.5703125,  4.609375 ,  4.6484375,\n",
       "         4.6875   ,  4.7265625,  4.765625 ,  4.8046875,  4.84375  ,\n",
       "         4.8828125,  4.921875 ,  4.9609375,  5.       ,  5.0390625,\n",
       "         5.078125 ,  5.1171875,  5.15625  ,  5.1953125,  5.234375 ,\n",
       "         5.2734375,  5.3125   ,  5.3515625,  5.390625 ,  5.4296875,\n",
       "         5.46875  ,  5.5078125,  5.546875 ,  5.5859375,  5.625    ,\n",
       "         5.6640625,  5.703125 ,  5.7421875,  5.78125  ,  5.8203125,\n",
       "         5.859375 ,  5.8984375,  5.9375   ,  5.9765625,  6.015625 ,\n",
       "         6.0546875,  6.09375  ,  6.1328125,  6.171875 ,  6.2109375,\n",
       "         6.25     ,  6.2890625,  6.328125 ,  6.3671875,  6.40625  ,\n",
       "         6.4453125,  6.484375 ,  6.5234375,  6.5625   ,  6.6015625,\n",
       "         6.640625 ,  6.6796875,  6.71875  ,  6.7578125,  6.796875 ,\n",
       "         6.8359375,  6.875    ,  6.9140625,  6.953125 ,  6.9921875,\n",
       "         7.03125  ,  7.0703125,  7.109375 ,  7.1484375,  7.1875   ,\n",
       "         7.2265625,  7.265625 ,  7.3046875,  7.34375  ,  7.3828125,\n",
       "         7.421875 ,  7.4609375,  7.5      ,  7.5390625,  7.578125 ,\n",
       "         7.6171875,  7.65625  ,  7.6953125,  7.734375 ,  7.7734375,\n",
       "         7.8125   ,  7.8515625,  7.890625 ,  7.9296875,  7.96875  ,\n",
       "         8.0078125,  8.046875 ,  8.0859375,  8.125    ,  8.1640625,\n",
       "         8.203125 ,  8.2421875,  8.28125  ,  8.3203125,  8.359375 ,\n",
       "         8.3984375,  8.4375   ,  8.4765625,  8.515625 ,  8.5546875,\n",
       "         8.59375  ,  8.6328125,  8.671875 ,  8.7109375,  8.75     ,\n",
       "         8.7890625,  8.828125 ,  8.8671875,  8.90625  ,  8.9453125,\n",
       "         8.984375 ,  9.0234375,  9.0625   ,  9.1015625,  9.140625 ,\n",
       "         9.1796875,  9.21875  ,  9.2578125,  9.296875 ,  9.3359375,\n",
       "         9.375    ,  9.4140625,  9.453125 ,  9.4921875,  9.53125  ,\n",
       "         9.5703125,  9.609375 ,  9.6484375,  9.6875   ,  9.7265625,\n",
       "         9.765625 ,  9.8046875,  9.84375  ,  9.8828125,  9.921875 ,\n",
       "         9.9609375, 10.       , 10.0390625, 10.078125 , 10.1171875,\n",
       "        10.15625  , 10.1953125, 10.234375 , 10.2734375, 10.3125   ,\n",
       "        10.3515625, 10.390625 , 10.4296875, 10.46875  , 10.5078125,\n",
       "        10.546875 , 10.5859375, 10.625    , 10.6640625, 10.703125 ,\n",
       "        10.7421875, 10.78125  , 10.8203125, 10.859375 , 10.8984375,\n",
       "        10.9375   , 10.9765625, 11.015625 , 11.0546875, 11.09375  ,\n",
       "        11.1328125, 11.171875 , 11.2109375, 11.25     , 11.2890625,\n",
       "        11.328125 , 11.3671875, 11.40625  , 11.4453125, 11.484375 ,\n",
       "        11.5234375, 11.5625   , 11.6015625, 11.640625 , 11.6796875,\n",
       "        11.71875  , 11.7578125, 11.796875 , 11.8359375, 11.875    ,\n",
       "        11.9140625, 11.953125 , 11.9921875, 12.03125  , 12.0703125,\n",
       "        12.109375 , 12.1484375, 12.1875   , 12.2265625, 12.265625 ,\n",
       "        12.3046875, 12.34375  , 12.3828125, 12.421875 , 12.4609375,\n",
       "        12.5      , 12.5390625, 12.578125 , 12.6171875, 12.65625  ,\n",
       "        12.6953125, 12.734375 , 12.7734375, 12.8125   , 12.8515625,\n",
       "        12.890625 , 12.9296875, 12.96875  , 13.0078125, 13.046875 ,\n",
       "        13.0859375, 13.125    , 13.1640625, 13.203125 , 13.2421875,\n",
       "        13.28125  , 13.3203125, 13.359375 , 13.3984375, 13.4375   ,\n",
       "        13.4765625, 13.515625 , 13.5546875, 13.59375  , 13.6328125,\n",
       "        13.671875 , 13.7109375, 13.75     , 13.7890625, 13.828125 ,\n",
       "        13.8671875, 13.90625  , 13.9453125, 13.984375 , 14.0234375,\n",
       "        14.0625   , 14.1015625, 14.140625 , 14.1796875, 14.21875  ,\n",
       "        14.2578125, 14.296875 , 14.3359375, 14.375    , 14.4140625,\n",
       "        14.453125 , 14.4921875, 14.53125  , 14.5703125, 14.609375 ,\n",
       "        14.6484375, 14.6875   , 14.7265625, 14.765625 , 14.8046875,\n",
       "        14.84375  , 14.8828125, 14.921875 , 14.9609375, 15.       ,\n",
       "        15.0390625, 15.078125 , 15.1171875, 15.15625  , 15.1953125,\n",
       "        15.234375 , 15.2734375, 15.3125   , 15.3515625, 15.390625 ,\n",
       "        15.4296875, 15.46875  , 15.5078125, 15.546875 , 15.5859375,\n",
       "        15.625    , 15.6640625, 15.703125 , 15.7421875, 15.78125  ,\n",
       "        15.8203125, 15.859375 , 15.8984375, 15.9375   , 15.9765625,\n",
       "        16.015625 , 16.0546875, 16.09375  , 16.1328125, 16.171875 ,\n",
       "        16.2109375, 16.25     , 16.2890625, 16.328125 , 16.3671875,\n",
       "        16.40625  , 16.4453125, 16.484375 , 16.5234375, 16.5625   ,\n",
       "        16.6015625, 16.640625 , 16.6796875, 16.71875  , 16.7578125,\n",
       "        16.796875 , 16.8359375, 16.875    , 16.9140625, 16.953125 ,\n",
       "        16.9921875, 17.03125  , 17.0703125, 17.109375 , 17.1484375,\n",
       "        17.1875   , 17.2265625, 17.265625 , 17.3046875, 17.34375  ,\n",
       "        17.3828125, 17.421875 , 17.4609375, 17.5      , 17.5390625,\n",
       "        17.578125 , 17.6171875, 17.65625  , 17.6953125, 17.734375 ,\n",
       "        17.7734375, 17.8125   , 17.8515625, 17.890625 , 17.9296875,\n",
       "        17.96875  , 18.0078125, 18.046875 , 18.0859375, 18.125    ,\n",
       "        18.1640625, 18.203125 , 18.2421875, 18.28125  , 18.3203125,\n",
       "        18.359375 , 18.3984375, 18.4375   , 18.4765625, 18.515625 ,\n",
       "        18.5546875, 18.59375  , 18.6328125, 18.671875 , 18.7109375,\n",
       "        18.75     , 18.7890625, 18.828125 , 18.8671875, 18.90625  ,\n",
       "        18.9453125, 18.984375 , 19.0234375, 19.0625   , 19.1015625,\n",
       "        19.140625 , 19.1796875, 19.21875  , 19.2578125, 19.296875 ,\n",
       "        19.3359375, 19.375    , 19.4140625, 19.453125 , 19.4921875,\n",
       "        19.53125  , 19.5703125, 19.609375 , 19.6484375, 19.6875   ,\n",
       "        19.7265625, 19.765625 , 19.8046875, 19.84375  , 19.8828125,\n",
       "        19.921875 , 19.9609375]),\n",
       " <a list of 511 Patch objects>)"
      ]
     },
     "execution_count": 16,
     "metadata": {},
     "output_type": "execute_result"
    },
    {
     "data": {
      "image/png": "[encoded data removed]",
      "text/plain": [
       "<Figure size 432x288 with 1 Axes>"
      ]
     },
     "metadata": {
      "needs_background": "light"
     },
     "output_type": "display_data"
    }
   ],
   "source": [
    "plt.hist(out[0][out[1][:, 0] == -1, 0], bins = np.arange(512) * 20/512 , alpha = 0.2, color = 'red')\n",
    "plt.hist(out[0][out[1][:, 0] == 1, 0], bins = np.arange(512) * 20/512 , alpha = 0.2, color = 'green')"
   ]
  },
  {
   "cell_type": "code",
   "execution_count": 23,
   "metadata": {},
   "outputs": [
    {
     "name": "stdout",
     "output_type": "stream",
     "text": [
      "2.0\n",
      "1.01\n"
     ]
    },
    {
     "data": {
      "image/png": "[encoded data removed]",
      "text/plain": [
       "<Figure size 432x288 with 1 Axes>"
      ]
     },
     "metadata": {
      "needs_background": "light"
     },
     "output_type": "display_data"
    }
   ],
   "source": [
    "# DDM  \n",
    "repeats = 1\n",
    "colors = ['green', 'red']\n",
    "my_means = np.zeros(repeats)\n",
    "cnt = 0\n",
    "for i in np.linspace(2, 1.01, 2):\n",
    "    out = cds.levy_flexbound(v = 0, \n",
    "                             a = 2.5,\n",
    "                             w = 0.5,\n",
    "                             alpha_diff = i,\n",
    "                             ndt = 0.5,\n",
    "                             delta_t = 0.001, \n",
    "                             max_t = 20,\n",
    "                             n_samples = 10000,\n",
    "                             boundary_fun = bf.constant,\n",
    "                             boundary_multiplicative = True, \n",
    "                             boundary_params = {})\n",
    "                            #boundary_params = {\"theta\": 0.01})\n",
    "    plt.hist(out[0] * out[1], bins = np.linspace(-15, 15, 100), density = True, alpha = 0.2, color = colors[cnt])\n",
    "    print(i)\n",
    "    cnt += 1\n",
    "    \n",
    "    #my_means[i] = np.mean(out[0][out[1] == 1])\n",
    "plt.show()"
   ]
  },
  {
   "cell_type": "code",
   "execution_count": 12,
   "metadata": {},
   "outputs": [],
   "source": [
    "def bin_simulator_output(out = [0, 0],\n",
    "                         bin_dt = 0.04,\n",
    "                         n_bins = 0,\n",
    "                         eps_correction = 1e-7, # min p for a bin\n",
    "                         params = ['v', 'a', 'w', 'ndt']\n",
    "                        ): # ['v', 'a', 'w', 'ndt', 'angle']\n",
    "\n",
    "    # Generate bins\n",
    "    if n_bins == 0:\n",
    "        n_bins = int(out[2]['max_t'] / bin_dt)\n",
    "        bins = np.linspace(0, out[2]['max_t'], n_bins)\n",
    "    else:    \n",
    "        bins = np.linspace(0, out[2]['max_t'], n_bins)\n",
    "        bins = np.append(bins, [100])\n",
    "        print(bins)\n",
    "    counts = []\n",
    "    cnt = 0\n",
    "    counts = np.zeros( (n_bins, len(out[2]['possible_choices']) ) )\n",
    "    counts_size = counts.shape[0] * counts.shape[1]\n",
    "    \n",
    "    for choice in out[2]['possible_choices']:\n",
    "        counts[:, cnt] = np.histogram(out[0][out[1] == choice], bins = bins)[0] / out[2]['n_samples']\n",
    "        cnt += 1\n",
    "    \n",
    "    # Apply correction for empty bins\n",
    "    n_small = 0\n",
    "    n_big = 0\n",
    "    n_small = np.sum(counts < eps_correction)\n",
    "    n_big = counts_size - n_small \n",
    "    \n",
    "    if eps_correction > 0:\n",
    "        counts[counts <= eps_correction] = eps_correction\n",
    "        counts[counts > eps_correction] -= (eps_correction * (n_small / n_big))\n",
    "\n",
    "    return ([out[2][param] for param in params], # features\n",
    "            counts, # labels\n",
    "            {'max_t': out[2]['max_t'], \n",
    "             'bin_dt': bin_dt, \n",
    "             'n_samples': out[2]['n_samples']} # meta data\n",
    "           )\n",
    "\n",
    "\n",
    "def bin_simulator_output(self, \n",
    "                         out = [0, 0],\n",
    "                         bin_dt = 0.04,\n",
    "                             nbins = 0): # ['v', 'a', 'w', 'ndt', 'angle']\n",
    "        \n",
    "        # Generate bins\n",
    "        if nbins == 0:\n",
    "            nbins = int(out[2]['max_t'] / bin_dt)\n",
    "            bins = np.zeros(nbins + 1)\n",
    "            bins[:nbins] = np.linspace(0, out[2]['max_t'], nbins)\n",
    "            bins[nbins] = np.inf\n",
    "        else:  \n",
    "            bins = np.zeros(nbins + 1)\n",
    "            bins[:nbins] = np.linspace(0, out[2]['max_t'], nbins)\n",
    "            bins[nbins] = np.inf\n",
    "\n",
    "        cnt = 0\n",
    "        counts = np.zeros( (nbins, len(out[2]['possible_choices']) ) )\n",
    "\n",
    "        for choice in out[2]['possible_choices']:\n",
    "            counts[:, cnt] = np.histogram(out[0][out[1] == choice], bins = bins)[0] / out[2]['n_samples']\n",
    "            cnt += 1\n",
    "        return counts"
   ]
  },
  {
   "cell_type": "code",
   "execution_count": null,
   "metadata": {},
   "outputs": [],
   "source": [
    "#%%timeit -n 1 -r 5\n",
    "a, b = bin_simulator_output(out = out)"
   ]
  },
  {
   "cell_type": "code",
   "execution_count": 184,
   "metadata": {},
   "outputs": [
    {
     "name": "stdout",
     "output_type": "stream",
     "text": [
      "36.2 s ± 0 ns per loop (mean ± std. dev. of 1 run, 5 loops each)\n"
     ]
    }
   ],
   "source": [
    "%%timeit -n 5 -r 1\n",
    "out = cds.ornstein_uhlenbeck(v = 0.0,\n",
    "                             a = 1.5,\n",
    "                             w = 0.5,\n",
    "                             g = 0,\n",
    "                             ndt = 0.92,\n",
    "                             delta_t = 0.001,\n",
    "                             boundary_fun = bf.constant,\n",
    "                             n_samples = 100000)"
   ]
  },
  {
   "cell_type": "code",
   "execution_count": null,
   "metadata": {},
   "outputs": [],
   "source": [
    "binned_sims = bin_simulator_output(out = out,\n",
    "                                   n_bins = 256,\n",
    "                                   eps_correction = 1e-7,\n",
    "                                   params = ['v', 'a', 'w', 'g', 'ndt'])"
   ]
  },
  {
   "cell_type": "code",
   "execution_count": 181,
   "metadata": {},
   "outputs": [
    {
     "name": "stdout",
     "output_type": "stream",
     "text": [
      "1min 10s ± 0 ns per loop (mean ± std. dev. of 1 run, 5 loops each)\n"
     ]
    }
   ],
   "source": [
    "%%timeit -n 5 -r 1\n",
    "out = cds.ddm_flexbound_seq2(v_h = 0,\n",
    "                             v_l_1 = 0,\n",
    "                             v_l_2 = 0,\n",
    "                             a = 1.5,\n",
    "                             w_h = 0.5,\n",
    "                             w_l_1 = 0.5,\n",
    "                             w_l_2 = 0.5,\n",
    "                             ndt = 0.5,\n",
    "                             s = 1,\n",
    "                             delta_t = 0.001,\n",
    "                             max_t = 20,\n",
    "                             n_samples = 100000,\n",
    "                             print_info = True,\n",
    "                             boundary_fun = bf.constant, # function of t (and potentially other parameters) that takes in (t, *args)\n",
    "                             boundary_multiplicative = True,\n",
    "                             boundary_params = {})"
   ]
  },
  {
   "cell_type": "code",
   "execution_count": 180,
   "metadata": {},
   "outputs": [
    {
     "name": "stdout",
     "output_type": "stream",
     "text": [
      "1min 9s ± 0 ns per loop (mean ± std. dev. of 1 run, 5 loops each)\n"
     ]
    }
   ],
   "source": [
    "%%timeit -n 5 -r 1\n",
    "out = cds.ddm_flexbound_par2(v_h = 0,\n",
    "                             v_l_1 = 0,\n",
    "                             v_l_2 = 0,\n",
    "                             a = 1.5,\n",
    "                             w_h = 0.5,\n",
    "                             w_l_1 = 0.5,\n",
    "                             w_l_2 = 0.5,\n",
    "                             ndt = 0.5,\n",
    "                             s = 1,\n",
    "                             delta_t = 0.001,\n",
    "                             max_t = 20,\n",
    "                             n_samples = 100000,\n",
    "                             print_info = True,\n",
    "                             boundary_fun = bf.constant, # function of t (and potentially other parameters) that takes in (t, *args)\n",
    "                             boundary_multiplicative = True,\n",
    "                             boundary_params = {})"
   ]
  },
  {
   "cell_type": "code",
   "execution_count": 178,
   "metadata": {},
   "outputs": [
    {
     "name": "stdout",
     "output_type": "stream",
     "text": [
      "1min 12s ± 0 ns per loop (mean ± std. dev. of 1 run, 5 loops each)\n"
     ]
    }
   ],
   "source": [
    "%%timeit -n 5 -r 1 \n",
    "out = cds.ddm_flexbound_mic2(v_h = 0.0,\n",
    "                             v_l_1 = 0.0,\n",
    "                             v_l_2 = 0.0,\n",
    "                             a = 1.5,\n",
    "                             w_h = 0.5,\n",
    "                             w_l_1 = 0.5,\n",
    "                             w_l_2 = 0.5,\n",
    "                             d = 1.0, \n",
    "                             ndt = 0.5,\n",
    "                             s = 1,\n",
    "                             delta_t = 0.001,\n",
    "                             max_t = 20,\n",
    "                             n_samples = 100000,\n",
    "                             print_info = True,\n",
    "                             boundary_fun = bf.constant, # function of t (and potentially other parameters) that takes in (t, *args)\n",
    "                             boundary_multiplicative = True,\n",
    "                             boundary_params = {})"
   ]
  },
  {
   "cell_type": "code",
   "execution_count": 217,
   "metadata": {},
   "outputs": [
    {
     "data": {
      "text/plain": [
       "(array([ 0.,  0.,  0.,  0.,  0.,  0.,  0.,  0.,  0.,  0.,  0.,  0.,  0.,\n",
       "         0.,  0.,  0.,  0.,  0.,  0.,  0.,  0.,  0.,  0.,  0.,  0.,  0.,\n",
       "         0.,  0.,  0.,  2.,  3.,  1.,  1.,  4.,  6.,  6.,  4., 10., 10.,\n",
       "         3., 10., 13.,  6., 11., 19., 19., 23., 20., 33., 22., 27., 17.,\n",
       "        33., 21., 31., 33., 17., 27., 21., 38., 24., 26., 35., 24., 19.,\n",
       "        24., 44., 33., 30., 39., 34., 52., 34., 35., 38., 43., 37., 34.,\n",
       "        36., 32., 37., 43., 28., 58., 30., 27., 46., 40., 46., 45., 36.,\n",
       "        44., 39., 41., 31., 51., 29., 44., 40., 36., 38., 37., 43., 37.,\n",
       "        34., 29., 25., 50., 44., 49., 41., 43., 42., 29., 41., 23., 36.,\n",
       "        27., 39., 35., 43., 36., 37., 37., 28., 39., 33., 25., 49., 35.,\n",
       "        52., 26., 31., 34., 44., 38., 49., 38., 30., 29., 34., 32., 26.,\n",
       "        26., 28., 33., 29., 35., 30., 32., 34., 40., 26., 32., 26., 29.,\n",
       "        38., 42., 32., 28., 30., 34., 26., 33., 28., 24., 40., 30., 24.,\n",
       "        29., 32., 28., 36., 34., 23., 30., 30., 26., 29., 27., 34., 17.,\n",
       "        30., 40., 34., 35., 30., 32., 24., 20., 26., 19., 32., 33., 27.,\n",
       "        27., 21., 20., 31., 17., 17., 28., 17., 27., 26., 33., 21., 18.,\n",
       "        20., 25., 25., 24., 29., 23., 27., 15., 19., 28., 19., 17., 32.,\n",
       "        27., 22., 12., 29., 18., 20., 25., 20., 25., 21., 23., 20., 23.,\n",
       "        20., 14., 24., 26., 20., 29., 17., 16., 10., 18., 14., 11., 15.,\n",
       "        21., 18., 24., 15., 21., 24., 21., 20., 11., 20., 19., 20., 14.,\n",
       "        15., 19., 13., 14., 19., 19., 14., 13., 18., 17., 15., 20., 12.,\n",
       "        22., 10., 14., 25., 12., 18., 12., 13.,  9., 17., 15., 14., 21.,\n",
       "        17., 16., 16., 12., 21., 17., 15., 21., 17., 20.,  9.,  9., 13.,\n",
       "        17., 13., 17., 15., 17., 16.,  9., 11., 21., 16., 17., 10., 20.,\n",
       "        16., 20.,  7., 15.,  9., 13., 12., 12., 14., 11., 11., 19., 11.,\n",
       "        13., 20., 14., 15., 10., 13., 15., 13., 16., 11.,  9., 10., 10.,\n",
       "        10.,  9., 10.,  9.,  8., 12., 13., 17.,  8., 13., 18.,  9., 11.,\n",
       "         8.,  9., 18., 10., 10.,  7., 11.,  8., 11.,  5., 13., 11., 10.,\n",
       "        13.,  8., 12., 12., 10., 13.,  9., 15.,  9.,  4., 12., 13., 13.,\n",
       "        10.,  8.,  9., 13., 12., 10., 12., 11.,  6., 14., 13.,  9., 14.,\n",
       "        11., 11., 11.,  7., 10.,  6., 13.,  9., 10., 13.,  8.,  5.,  9.,\n",
       "         8.,  6.,  3., 16.,  9.,  9.,  6.,  6., 11.,  3.,  5.,  5., 10.,\n",
       "         4., 13., 10.,  6., 12.,  8., 10.,  4.,  5., 10., 11., 10.,  5.,\n",
       "        11.,  3.,  7.,  8.,  6., 11.,  5.,  5.,  7.,  8.,  7.,  7.,  6.,\n",
       "         8.,  9., 10.,  6.,  3.,  2.,  6.,  9., 10.,  4.,  5.,  7.,  6.,\n",
       "         9.,  5.,  7.,  6.,  8.,  5.,  4.,  2.,  7., 11.,  8.,  4.,  6.,\n",
       "         3.,  6.,  7., 10.,  5.,  6.,  3.,  7.,  2.,  4.,  5.,  5.,  6.,\n",
       "         9.,  2.,  8.,  3.,  5.,  4.,  4.,  5.,  4.,  3.,  3.,  4.,  8.,\n",
       "         6.,  5.,  6.,  5.,  4.,  4.,  6.,  5.,  7.,  9.,  9.,  4.,  7.,\n",
       "         8.,  6.,  6.,  5.]),\n",
       " array([ 0.       ,  0.0390625,  0.078125 ,  0.1171875,  0.15625  ,\n",
       "         0.1953125,  0.234375 ,  0.2734375,  0.3125   ,  0.3515625,\n",
       "         0.390625 ,  0.4296875,  0.46875  ,  0.5078125,  0.546875 ,\n",
       "         0.5859375,  0.625    ,  0.6640625,  0.703125 ,  0.7421875,\n",
       "         0.78125  ,  0.8203125,  0.859375 ,  0.8984375,  0.9375   ,\n",
       "         0.9765625,  1.015625 ,  1.0546875,  1.09375  ,  1.1328125,\n",
       "         1.171875 ,  1.2109375,  1.25     ,  1.2890625,  1.328125 ,\n",
       "         1.3671875,  1.40625  ,  1.4453125,  1.484375 ,  1.5234375,\n",
       "         1.5625   ,  1.6015625,  1.640625 ,  1.6796875,  1.71875  ,\n",
       "         1.7578125,  1.796875 ,  1.8359375,  1.875    ,  1.9140625,\n",
       "         1.953125 ,  1.9921875,  2.03125  ,  2.0703125,  2.109375 ,\n",
       "         2.1484375,  2.1875   ,  2.2265625,  2.265625 ,  2.3046875,\n",
       "         2.34375  ,  2.3828125,  2.421875 ,  2.4609375,  2.5      ,\n",
       "         2.5390625,  2.578125 ,  2.6171875,  2.65625  ,  2.6953125,\n",
       "         2.734375 ,  2.7734375,  2.8125   ,  2.8515625,  2.890625 ,\n",
       "         2.9296875,  2.96875  ,  3.0078125,  3.046875 ,  3.0859375,\n",
       "         3.125    ,  3.1640625,  3.203125 ,  3.2421875,  3.28125  ,\n",
       "         3.3203125,  3.359375 ,  3.3984375,  3.4375   ,  3.4765625,\n",
       "         3.515625 ,  3.5546875,  3.59375  ,  3.6328125,  3.671875 ,\n",
       "         3.7109375,  3.75     ,  3.7890625,  3.828125 ,  3.8671875,\n",
       "         3.90625  ,  3.9453125,  3.984375 ,  4.0234375,  4.0625   ,\n",
       "         4.1015625,  4.140625 ,  4.1796875,  4.21875  ,  4.2578125,\n",
       "         4.296875 ,  4.3359375,  4.375    ,  4.4140625,  4.453125 ,\n",
       "         4.4921875,  4.53125  ,  4.5703125,  4.609375 ,  4.6484375,\n",
       "         4.6875   ,  4.7265625,  4.765625 ,  4.8046875,  4.84375  ,\n",
       "         4.8828125,  4.921875 ,  4.9609375,  5.       ,  5.0390625,\n",
       "         5.078125 ,  5.1171875,  5.15625  ,  5.1953125,  5.234375 ,\n",
       "         5.2734375,  5.3125   ,  5.3515625,  5.390625 ,  5.4296875,\n",
       "         5.46875  ,  5.5078125,  5.546875 ,  5.5859375,  5.625    ,\n",
       "         5.6640625,  5.703125 ,  5.7421875,  5.78125  ,  5.8203125,\n",
       "         5.859375 ,  5.8984375,  5.9375   ,  5.9765625,  6.015625 ,\n",
       "         6.0546875,  6.09375  ,  6.1328125,  6.171875 ,  6.2109375,\n",
       "         6.25     ,  6.2890625,  6.328125 ,  6.3671875,  6.40625  ,\n",
       "         6.4453125,  6.484375 ,  6.5234375,  6.5625   ,  6.6015625,\n",
       "         6.640625 ,  6.6796875,  6.71875  ,  6.7578125,  6.796875 ,\n",
       "         6.8359375,  6.875    ,  6.9140625,  6.953125 ,  6.9921875,\n",
       "         7.03125  ,  7.0703125,  7.109375 ,  7.1484375,  7.1875   ,\n",
       "         7.2265625,  7.265625 ,  7.3046875,  7.34375  ,  7.3828125,\n",
       "         7.421875 ,  7.4609375,  7.5      ,  7.5390625,  7.578125 ,\n",
       "         7.6171875,  7.65625  ,  7.6953125,  7.734375 ,  7.7734375,\n",
       "         7.8125   ,  7.8515625,  7.890625 ,  7.9296875,  7.96875  ,\n",
       "         8.0078125,  8.046875 ,  8.0859375,  8.125    ,  8.1640625,\n",
       "         8.203125 ,  8.2421875,  8.28125  ,  8.3203125,  8.359375 ,\n",
       "         8.3984375,  8.4375   ,  8.4765625,  8.515625 ,  8.5546875,\n",
       "         8.59375  ,  8.6328125,  8.671875 ,  8.7109375,  8.75     ,\n",
       "         8.7890625,  8.828125 ,  8.8671875,  8.90625  ,  8.9453125,\n",
       "         8.984375 ,  9.0234375,  9.0625   ,  9.1015625,  9.140625 ,\n",
       "         9.1796875,  9.21875  ,  9.2578125,  9.296875 ,  9.3359375,\n",
       "         9.375    ,  9.4140625,  9.453125 ,  9.4921875,  9.53125  ,\n",
       "         9.5703125,  9.609375 ,  9.6484375,  9.6875   ,  9.7265625,\n",
       "         9.765625 ,  9.8046875,  9.84375  ,  9.8828125,  9.921875 ,\n",
       "         9.9609375, 10.       , 10.0390625, 10.078125 , 10.1171875,\n",
       "        10.15625  , 10.1953125, 10.234375 , 10.2734375, 10.3125   ,\n",
       "        10.3515625, 10.390625 , 10.4296875, 10.46875  , 10.5078125,\n",
       "        10.546875 , 10.5859375, 10.625    , 10.6640625, 10.703125 ,\n",
       "        10.7421875, 10.78125  , 10.8203125, 10.859375 , 10.8984375,\n",
       "        10.9375   , 10.9765625, 11.015625 , 11.0546875, 11.09375  ,\n",
       "        11.1328125, 11.171875 , 11.2109375, 11.25     , 11.2890625,\n",
       "        11.328125 , 11.3671875, 11.40625  , 11.4453125, 11.484375 ,\n",
       "        11.5234375, 11.5625   , 11.6015625, 11.640625 , 11.6796875,\n",
       "        11.71875  , 11.7578125, 11.796875 , 11.8359375, 11.875    ,\n",
       "        11.9140625, 11.953125 , 11.9921875, 12.03125  , 12.0703125,\n",
       "        12.109375 , 12.1484375, 12.1875   , 12.2265625, 12.265625 ,\n",
       "        12.3046875, 12.34375  , 12.3828125, 12.421875 , 12.4609375,\n",
       "        12.5      , 12.5390625, 12.578125 , 12.6171875, 12.65625  ,\n",
       "        12.6953125, 12.734375 , 12.7734375, 12.8125   , 12.8515625,\n",
       "        12.890625 , 12.9296875, 12.96875  , 13.0078125, 13.046875 ,\n",
       "        13.0859375, 13.125    , 13.1640625, 13.203125 , 13.2421875,\n",
       "        13.28125  , 13.3203125, 13.359375 , 13.3984375, 13.4375   ,\n",
       "        13.4765625, 13.515625 , 13.5546875, 13.59375  , 13.6328125,\n",
       "        13.671875 , 13.7109375, 13.75     , 13.7890625, 13.828125 ,\n",
       "        13.8671875, 13.90625  , 13.9453125, 13.984375 , 14.0234375,\n",
       "        14.0625   , 14.1015625, 14.140625 , 14.1796875, 14.21875  ,\n",
       "        14.2578125, 14.296875 , 14.3359375, 14.375    , 14.4140625,\n",
       "        14.453125 , 14.4921875, 14.53125  , 14.5703125, 14.609375 ,\n",
       "        14.6484375, 14.6875   , 14.7265625, 14.765625 , 14.8046875,\n",
       "        14.84375  , 14.8828125, 14.921875 , 14.9609375, 15.       ,\n",
       "        15.0390625, 15.078125 , 15.1171875, 15.15625  , 15.1953125,\n",
       "        15.234375 , 15.2734375, 15.3125   , 15.3515625, 15.390625 ,\n",
       "        15.4296875, 15.46875  , 15.5078125, 15.546875 , 15.5859375,\n",
       "        15.625    , 15.6640625, 15.703125 , 15.7421875, 15.78125  ,\n",
       "        15.8203125, 15.859375 , 15.8984375, 15.9375   , 15.9765625,\n",
       "        16.015625 , 16.0546875, 16.09375  , 16.1328125, 16.171875 ,\n",
       "        16.2109375, 16.25     , 16.2890625, 16.328125 , 16.3671875,\n",
       "        16.40625  , 16.4453125, 16.484375 , 16.5234375, 16.5625   ,\n",
       "        16.6015625, 16.640625 , 16.6796875, 16.71875  , 16.7578125,\n",
       "        16.796875 , 16.8359375, 16.875    , 16.9140625, 16.953125 ,\n",
       "        16.9921875, 17.03125  , 17.0703125, 17.109375 , 17.1484375,\n",
       "        17.1875   , 17.2265625, 17.265625 , 17.3046875, 17.34375  ,\n",
       "        17.3828125, 17.421875 , 17.4609375, 17.5      , 17.5390625,\n",
       "        17.578125 , 17.6171875, 17.65625  , 17.6953125, 17.734375 ,\n",
       "        17.7734375, 17.8125   , 17.8515625, 17.890625 , 17.9296875,\n",
       "        17.96875  , 18.0078125, 18.046875 , 18.0859375, 18.125    ,\n",
       "        18.1640625, 18.203125 , 18.2421875, 18.28125  , 18.3203125,\n",
       "        18.359375 , 18.3984375, 18.4375   , 18.4765625, 18.515625 ,\n",
       "        18.5546875, 18.59375  , 18.6328125, 18.671875 , 18.7109375,\n",
       "        18.75     , 18.7890625, 18.828125 , 18.8671875, 18.90625  ,\n",
       "        18.9453125, 18.984375 , 19.0234375, 19.0625   , 19.1015625,\n",
       "        19.140625 , 19.1796875, 19.21875  , 19.2578125, 19.296875 ,\n",
       "        19.3359375, 19.375    , 19.4140625, 19.453125 , 19.4921875,\n",
       "        19.53125  , 19.5703125, 19.609375 , 19.6484375, 19.6875   ,\n",
       "        19.7265625, 19.765625 , 19.8046875, 19.84375  , 19.8828125,\n",
       "        19.921875 , 19.9609375]),\n",
       " <a list of 511 Patch objects>)"
      ]
     },
     "execution_count": 217,
     "metadata": {},
     "output_type": "execute_result"
    },
    {
     "data": {
      "image/png": "[encoded data removed]",
      "text/plain": [
       "<Figure size 432x288 with 1 Axes>"
      ]
     },
     "metadata": {
      "needs_background": "light"
     },
     "output_type": "display_data"
    }
   ],
   "source": [
    "plt.hist(out[0][out[1][:, 0] == 0, 0], bins = np.arange(512) * 20/512 , alpha = 0.2, color = 'red')\n",
    "plt.hist(out[0][out[1][:, 0] == 1, 0], bins = np.arange(512) * 20/512 , alpha = 0.2, color = 'green')\n",
    "#plt.hist(out[0][out[1][:, 0] == 2, 0], bins = np.arange(512) * 20/512 , alpha = 0.2, color = 'red')\n",
    "#plt.hist(out[0][out[1][:, 0] == 3, 0], bins = np.arange(512) * 20/512 , alpha = 0.2, color = 'green')"
   ]
  },
  {
   "cell_type": "code",
   "execution_count": 185,
   "metadata": {},
   "outputs": [],
   "source": [
    "import pickle\n",
    "import os\n"
   ]
  },
  {
   "cell_type": "code",
   "execution_count": 188,
   "metadata": {},
   "outputs": [
    {
     "data": {
      "text/plain": [
       "['ddm_seq2_nchoices_2_train_data_binned_1_nbins_512_n_100000_999.pickle']"
      ]
     },
     "execution_count": 188,
     "metadata": {},
     "output_type": "execute_result"
    }
   ],
   "source": [
    "os.listdir('/media/data_cifs/afengler/data/kde/ddm_seq2/training_data_binned_1_nbins_512_n_100000')"
   ]
  },
  {
   "cell_type": "code",
   "execution_count": 211,
   "metadata": {},
   "outputs": [],
   "source": [
    "tt = pickle.load(open('/media/data_cifs/afengler/data/kde/ddm_mic2/training_data_binned_1_nbins_512_n_100000/ddm_mic2_nchoices_2_train_data_binned_1_nbins_512_n_100000_999.pickle', 'rb'))"
   ]
  },
  {
   "cell_type": "code",
   "execution_count": 195,
   "metadata": {},
   "outputs": [
    {
     "data": {
      "text/plain": [
       "array([0.000e+00, 0.000e+00, 0.000e+00, 0.000e+00, 0.000e+00, 0.000e+00,\n",
       "       0.000e+00, 0.000e+00, 0.000e+00, 0.000e+00, 0.000e+00, 0.000e+00,\n",
       "       0.000e+00, 0.000e+00, 0.000e+00, 0.000e+00, 0.000e+00, 0.000e+00,\n",
       "       0.000e+00, 0.000e+00, 0.000e+00, 0.000e+00, 8.000e-05, 2.300e-04,\n",
       "       7.500e-04, 1.630e-03, 2.620e-03, 3.470e-03, 5.330e-03, 5.970e-03,\n",
       "       7.820e-03, 8.140e-03, 9.420e-03, 9.680e-03, 1.008e-02, 1.038e-02,\n",
       "       1.083e-02, 1.139e-02, 1.050e-02, 1.050e-02, 1.000e-02, 1.021e-02,\n",
       "       9.690e-03, 9.210e-03, 8.560e-03, 8.420e-03, 7.900e-03, 6.960e-03,\n",
       "       6.720e-03, 6.960e-03, 6.690e-03, 6.050e-03, 5.490e-03, 5.400e-03,\n",
       "       5.210e-03, 4.600e-03, 4.820e-03, 4.620e-03, 4.070e-03, 3.630e-03,\n",
       "       3.420e-03, 2.790e-03, 3.010e-03, 3.260e-03, 2.740e-03, 2.280e-03,\n",
       "       2.180e-03, 2.040e-03, 1.880e-03, 1.860e-03, 1.610e-03, 1.450e-03,\n",
       "       1.450e-03, 1.540e-03, 1.210e-03, 1.060e-03, 1.100e-03, 1.100e-03,\n",
       "       1.040e-03, 1.060e-03, 7.500e-04, 8.500e-04, 7.400e-04, 8.000e-04,\n",
       "       5.600e-04, 5.700e-04, 4.400e-04, 5.400e-04, 4.400e-04, 4.400e-04,\n",
       "       5.900e-04, 3.100e-04, 3.200e-04, 2.600e-04, 2.600e-04, 3.000e-04,\n",
       "       3.000e-04, 1.500e-04, 3.400e-04, 1.900e-04, 2.500e-04, 1.400e-04,\n",
       "       1.700e-04, 1.900e-04, 1.800e-04, 1.100e-04, 1.300e-04, 6.000e-05,\n",
       "       1.100e-04, 8.000e-05, 1.100e-04, 7.000e-05, 8.000e-05, 1.000e-05,\n",
       "       1.200e-04, 6.000e-05, 7.000e-05, 8.000e-05, 5.000e-05, 5.000e-05,\n",
       "       4.000e-05, 5.000e-05, 1.000e-05, 2.000e-05, 1.000e-05, 1.000e-05,\n",
       "       2.000e-05, 6.000e-05, 4.000e-05, 3.000e-05, 3.000e-05, 2.000e-05,\n",
       "       0.000e+00, 2.000e-05, 1.000e-05, 0.000e+00, 2.000e-05, 3.000e-05,\n",
       "       0.000e+00, 1.000e-05, 2.000e-05, 0.000e+00, 1.000e-05, 3.000e-05,\n",
       "       1.000e-05, 2.000e-05, 0.000e+00, 0.000e+00, 1.000e-05, 0.000e+00,\n",
       "       1.000e-05, 0.000e+00, 1.000e-05, 1.000e-05, 0.000e+00, 0.000e+00,\n",
       "       0.000e+00, 0.000e+00, 0.000e+00, 1.000e-05, 0.000e+00, 0.000e+00,\n",
       "       0.000e+00, 1.000e-05, 0.000e+00, 0.000e+00, 1.000e-05, 0.000e+00,\n",
       "       0.000e+00, 0.000e+00, 2.000e-05, 0.000e+00, 1.000e-05, 0.000e+00,\n",
       "       0.000e+00, 1.000e-05, 0.000e+00, 0.000e+00, 0.000e+00, 0.000e+00,\n",
       "       0.000e+00, 0.000e+00, 0.000e+00, 0.000e+00, 0.000e+00, 1.000e-05,\n",
       "       0.000e+00, 0.000e+00, 0.000e+00, 0.000e+00, 0.000e+00, 0.000e+00,\n",
       "       0.000e+00, 0.000e+00, 0.000e+00, 0.000e+00, 0.000e+00, 0.000e+00,\n",
       "       0.000e+00, 1.000e-05, 0.000e+00, 0.000e+00, 0.000e+00, 0.000e+00,\n",
       "       0.000e+00, 0.000e+00, 0.000e+00, 0.000e+00, 0.000e+00, 0.000e+00,\n",
       "       0.000e+00, 0.000e+00, 0.000e+00, 0.000e+00, 0.000e+00, 0.000e+00,\n",
       "       0.000e+00, 0.000e+00, 0.000e+00, 0.000e+00, 0.000e+00, 0.000e+00,\n",
       "       0.000e+00, 0.000e+00, 0.000e+00, 0.000e+00, 0.000e+00, 0.000e+00,\n",
       "       0.000e+00, 0.000e+00, 0.000e+00, 0.000e+00, 0.000e+00, 0.000e+00,\n",
       "       0.000e+00, 0.000e+00, 0.000e+00, 0.000e+00, 0.000e+00, 0.000e+00,\n",
       "       0.000e+00, 0.000e+00, 0.000e+00, 0.000e+00, 0.000e+00, 0.000e+00,\n",
       "       0.000e+00, 0.000e+00, 0.000e+00, 0.000e+00, 0.000e+00, 0.000e+00,\n",
       "       0.000e+00, 0.000e+00, 0.000e+00, 0.000e+00, 0.000e+00, 0.000e+00,\n",
       "       0.000e+00, 0.000e+00, 0.000e+00, 0.000e+00, 0.000e+00, 0.000e+00,\n",
       "       0.000e+00, 0.000e+00, 0.000e+00, 0.000e+00, 0.000e+00, 0.000e+00,\n",
       "       0.000e+00, 0.000e+00, 0.000e+00, 0.000e+00, 0.000e+00, 0.000e+00,\n",
       "       0.000e+00, 0.000e+00, 0.000e+00, 0.000e+00, 0.000e+00, 0.000e+00,\n",
       "       0.000e+00, 0.000e+00, 0.000e+00, 0.000e+00, 0.000e+00, 0.000e+00,\n",
       "       0.000e+00, 0.000e+00, 0.000e+00, 0.000e+00, 0.000e+00, 0.000e+00,\n",
       "       0.000e+00, 0.000e+00, 0.000e+00, 0.000e+00, 0.000e+00, 0.000e+00,\n",
       "       0.000e+00, 0.000e+00, 0.000e+00, 0.000e+00, 0.000e+00, 0.000e+00,\n",
       "       0.000e+00, 0.000e+00, 0.000e+00, 0.000e+00, 0.000e+00, 0.000e+00,\n",
       "       0.000e+00, 0.000e+00, 0.000e+00, 0.000e+00, 0.000e+00, 0.000e+00,\n",
       "       0.000e+00, 0.000e+00, 0.000e+00, 0.000e+00, 0.000e+00, 0.000e+00,\n",
       "       0.000e+00, 0.000e+00, 0.000e+00, 0.000e+00, 0.000e+00, 0.000e+00,\n",
       "       0.000e+00, 0.000e+00, 0.000e+00, 0.000e+00, 0.000e+00, 0.000e+00,\n",
       "       0.000e+00, 0.000e+00, 0.000e+00, 0.000e+00, 0.000e+00, 0.000e+00,\n",
       "       0.000e+00, 0.000e+00, 0.000e+00, 0.000e+00, 0.000e+00, 0.000e+00,\n",
       "       0.000e+00, 0.000e+00, 0.000e+00, 0.000e+00, 0.000e+00, 0.000e+00,\n",
       "       0.000e+00, 0.000e+00, 0.000e+00, 0.000e+00, 0.000e+00, 0.000e+00,\n",
       "       0.000e+00, 0.000e+00, 0.000e+00, 0.000e+00, 0.000e+00, 0.000e+00,\n",
       "       0.000e+00, 0.000e+00, 0.000e+00, 0.000e+00, 0.000e+00, 0.000e+00,\n",
       "       0.000e+00, 0.000e+00, 0.000e+00, 0.000e+00, 0.000e+00, 0.000e+00,\n",
       "       0.000e+00, 0.000e+00, 0.000e+00, 0.000e+00, 0.000e+00, 0.000e+00,\n",
       "       0.000e+00, 0.000e+00, 0.000e+00, 0.000e+00, 0.000e+00, 0.000e+00,\n",
       "       0.000e+00, 0.000e+00, 0.000e+00, 0.000e+00, 0.000e+00, 0.000e+00,\n",
       "       0.000e+00, 0.000e+00, 0.000e+00, 0.000e+00, 0.000e+00, 0.000e+00,\n",
       "       0.000e+00, 0.000e+00, 0.000e+00, 0.000e+00, 0.000e+00, 0.000e+00,\n",
       "       0.000e+00, 0.000e+00, 0.000e+00, 0.000e+00, 0.000e+00, 0.000e+00,\n",
       "       0.000e+00, 0.000e+00, 0.000e+00, 0.000e+00, 0.000e+00, 0.000e+00,\n",
       "       0.000e+00, 0.000e+00, 0.000e+00, 0.000e+00, 0.000e+00, 0.000e+00,\n",
       "       0.000e+00, 0.000e+00, 0.000e+00, 0.000e+00, 0.000e+00, 0.000e+00,\n",
       "       0.000e+00, 0.000e+00, 0.000e+00, 0.000e+00, 0.000e+00, 0.000e+00,\n",
       "       0.000e+00, 0.000e+00, 0.000e+00, 0.000e+00, 0.000e+00, 0.000e+00,\n",
       "       0.000e+00, 0.000e+00, 0.000e+00, 0.000e+00, 0.000e+00, 0.000e+00,\n",
       "       0.000e+00, 0.000e+00, 0.000e+00, 0.000e+00, 0.000e+00, 0.000e+00,\n",
       "       0.000e+00, 0.000e+00, 0.000e+00, 0.000e+00, 0.000e+00, 0.000e+00,\n",
       "       0.000e+00, 0.000e+00, 0.000e+00, 0.000e+00, 0.000e+00, 0.000e+00,\n",
       "       0.000e+00, 0.000e+00, 0.000e+00, 0.000e+00, 0.000e+00, 0.000e+00,\n",
       "       0.000e+00, 0.000e+00, 0.000e+00, 0.000e+00, 0.000e+00, 0.000e+00,\n",
       "       0.000e+00, 0.000e+00, 0.000e+00, 0.000e+00, 0.000e+00, 0.000e+00,\n",
       "       0.000e+00, 0.000e+00, 0.000e+00, 0.000e+00, 0.000e+00, 0.000e+00,\n",
       "       0.000e+00, 0.000e+00, 0.000e+00, 0.000e+00, 0.000e+00, 0.000e+00,\n",
       "       0.000e+00, 0.000e+00, 0.000e+00, 0.000e+00, 0.000e+00, 0.000e+00,\n",
       "       0.000e+00, 0.000e+00, 0.000e+00, 0.000e+00, 0.000e+00, 0.000e+00,\n",
       "       0.000e+00, 0.000e+00])"
      ]
     },
     "execution_count": 195,
     "metadata": {},
     "output_type": "execute_result"
    }
   ],
   "source": [
    "tt[1][0][:,0]"
   ]
  },
  {
   "cell_type": "code",
   "execution_count": 215,
   "metadata": {},
   "outputs": [
    {
     "data": {
      "text/plain": [
       "[<matplotlib.lines.Line2D at 0x7f6ccdd1ffd0>]"
      ]
     },
     "execution_count": 215,
     "metadata": {},
     "output_type": "execute_result"
    },
    {
     "data": {
      "image/png": "[encoded data removed]",
      "text/plain": [
       "<Figure size 432x288 with 1 Axes>"
      ]
     },
     "metadata": {
      "needs_background": "light"
     },
     "output_type": "display_data"
    }
   ],
   "source": [
    "plt.plot(tt[1][2, :,0])\n",
    "plt.plot(tt[1][2, :,1])\n",
    "plt.plot(tt[1][2, :,2])\n",
    "plt.plot(tt[1][2, :,3])"
   ]
  },
  {
   "cell_type": "code",
   "execution_count": 145,
   "metadata": {},
   "outputs": [
    {
     "name": "stdout",
     "output_type": "stream",
     "text": [
      "1.9529729\n",
      "1.9603328\n"
     ]
    }
   ],
   "source": [
    "print(np.mean(out[0][out[1][:, 0] == 0, 0]))\n",
    "print(np.mean(out[0][out[1][:, 0] == 1, 0]))\n",
    "#print(np.mean(out[0][out[1][:, 0] == 2, 0]))\n",
    "#print(np.mean(out[0][out[1][:, 0] == 3, 0]))"
   ]
  },
  {
   "cell_type": "code",
   "execution_count": 146,
   "metadata": {},
   "outputs": [
    {
     "name": "stdout",
     "output_type": "stream",
     "text": [
      "(24981,)\n",
      "(24776,)\n"
     ]
    }
   ],
   "source": [
    "print(np.shape(out[0][out[1][:, 0] == 0, 0]))\n",
    "print(np.shape(out[0][out[1][:, 0] == 1, 0]))\n",
    "#print(np.shape(out[0][out[1][:, 0] == 2, 0]))\n",
    "#print(np.shape(out[0][out[1][:, 0] == 3, 0]))"
   ]
  },
  {
   "cell_type": "code",
   "execution_count": 143,
   "metadata": {},
   "outputs": [
    {
     "data": {
      "text/plain": [
       "array([ 0.6530001,  0.6530001,  0.6530001, ...,  9.054827 ,  9.446985 ,\n",
       "       13.031434 ], dtype=float32)"
      ]
     },
     "execution_count": 143,
     "metadata": {},
     "output_type": "execute_result"
    }
   ],
   "source": [
    "np.sort(out[0][out[1][:,0] == 1, 0])"
   ]
  },
  {
   "cell_type": "code",
   "execution_count": 121,
   "metadata": {},
   "outputs": [
    {
     "data": {
      "text/plain": [
       "(array([5.660e+02, 2.480e+03, 3.954e+03, 4.277e+03, 4.152e+03, 3.769e+03,\n",
       "        3.262e+03, 2.780e+03, 2.322e+03, 1.880e+03, 1.455e+03, 1.157e+03,\n",
       "        9.380e+02, 7.480e+02, 5.870e+02, 4.720e+02, 3.540e+02, 2.990e+02,\n",
       "        2.170e+02, 1.910e+02, 1.350e+02, 1.160e+02, 7.500e+01, 8.600e+01,\n",
       "        6.700e+01, 4.800e+01, 2.800e+01, 4.000e+01, 2.600e+01, 1.200e+01,\n",
       "        1.100e+01, 1.000e+01, 7.000e+00, 8.000e+00, 1.000e+01, 4.000e+00,\n",
       "        5.000e+00, 5.000e+00, 3.000e+00, 0.000e+00, 3.000e+00, 3.000e+00,\n",
       "        1.000e+00, 0.000e+00, 1.000e+00, 1.000e+00, 0.000e+00, 0.000e+00,\n",
       "        0.000e+00, 1.000e+00]),\n",
       " array([ 0.7490003,  1.0663557,  1.3837112,  1.7010666,  2.0184221,\n",
       "         2.3357775,  2.653133 ,  2.9704883,  3.2878437,  3.605199 ,\n",
       "         3.9225545,  4.23991  ,  4.5572653,  4.874621 ,  5.191976 ,\n",
       "         5.5093317,  5.8266873,  6.1440425,  6.461398 ,  6.7787533,\n",
       "         7.096109 ,  7.413464 ,  7.7308197,  8.048175 ,  8.365531 ,\n",
       "         8.682886 ,  9.000241 ,  9.317596 ,  9.634953 ,  9.952308 ,\n",
       "        10.269663 , 10.587019 , 10.904374 , 11.221729 , 11.539084 ,\n",
       "        11.856441 , 12.173796 , 12.491151 , 12.808507 , 13.125862 ,\n",
       "        13.443217 , 13.760572 , 14.077929 , 14.395284 , 14.712639 ,\n",
       "        15.029995 , 15.34735  , 15.664705 , 15.98206  , 16.299416 ,\n",
       "        16.616772 ], dtype=float32),\n",
       " <a list of 50 Patch objects>)"
      ]
     },
     "execution_count": 121,
     "metadata": {},
     "output_type": "execute_result"
    },
    {
     "data": {
      "image/png": "[encoded data removed]",
      "text/plain": [
       "<Figure size 432x288 with 1 Axes>"
      ]
     },
     "metadata": {
      "needs_background": "light"
     },
     "output_type": "display_data"
    }
   ],
   "source": [
    "plt.hist(out[0][out[1][:, 0] == 0, 0], bins = 50, alpha = 0.5, color = 'green')\n",
    "plt.hist(out[0][out[1][:, 0] == 1, 0], bins = 50, alpha = 0.2, color = 'green')\n",
    "plt.hist(out[0][out[1][:, 0] == 2, 0], bins = 50, alpha = 0.2, color = 'blue')\n",
    "plt.hist(out[0][out[1][:, 0] == 3, 0], bins = 50, alpha = 0.2, color = 'red')"
   ]
  },
  {
   "cell_type": "code",
   "execution_count": 122,
   "metadata": {},
   "outputs": [
    {
     "name": "stdout",
     "output_type": "stream",
     "text": [
      "20.500637\n",
      "17.52927\n",
      "14.810153\n",
      "16.616772\n"
     ]
    }
   ],
   "source": [
    "print(np.max(out[0][out[1][:, 0] == 0, 0]))\n",
    "print(np.max(out[0][out[1][:, 0] == 1, 0]))\n",
    "print(np.max(out[0][out[1][:, 0] == 2, 0]))\n",
    "print(np.max(out[0][out[1][:, 0] == 3, 0]))"
   ]
  },
  {
   "cell_type": "code",
   "execution_count": null,
   "metadata": {},
   "outputs": [],
   "source": [
    "binned_sims = bin_simulator_output(out = out,\n",
    "                                   n_bins = 256,\n",
    "                                   eps_correction = 1e-7,\n",
    "                                   params = ['v', 'a', 'w', 'g', 'ndt'])"
   ]
  },
  {
   "cell_type": "code",
   "execution_count": null,
   "metadata": {},
   "outputs": [],
   "source": [
    "plt.plot(binned_sims[1][:, 1])\n",
    "plt.plot(binned_sims[1][:, 0])"
   ]
  },
  {
   "cell_type": "code",
   "execution_count": null,
   "metadata": {},
   "outputs": [],
   "source": [
    "binned_sims[1][255, 1]"
   ]
  },
  {
   "cell_type": "code",
   "execution_count": null,
   "metadata": {},
   "outputs": [],
   "source": [
    "files_ = os.listdir('/media/data_cifs/afengler/data/kde/ddm/base_simulations_20000')"
   ]
  },
  {
   "cell_type": "code",
   "execution_count": null,
   "metadata": {},
   "outputs": [],
   "source": [
    "labels = np.zeros((250000, 500, 2))\n",
    "features = np.zeros((250000, 3))\n",
    "\n",
    "cnt = 0\n",
    "i = 0\n",
    "file_dim = 100\n",
    "for file_ in files_[:1000]:\n",
    "    if file_[:8] == 'ddm_flex':\n",
    "        out = pickle.load(open('/media/data_cifs/afengler/data/kde/ddm/base_simulations_20000/' + file_, 'rb'))\n",
    "        features[cnt], labels[cnt] = bin_simulator_output(out = out)\n",
    "        if cnt % file_dim == 0:\n",
    "            print(cnt)\n",
    "            pickle.dump((labels[(i * file_dim):((i + 1) * file_dim)], features[(i * file_dim):((i + 1) * file_dim)]), open('/media/data_cifs/afengler/data/kde/ddm/base_simulations_20000_binned/dataset_' + str(i), 'wb'))\n",
    "            i += 1\n",
    "        cnt += 1\n"
   ]
  },
  {
   "cell_type": "code",
   "execution_count": null,
   "metadata": {},
   "outputs": [],
   "source": [
    "# FULL DDM  \n",
    "repeats = 50\n",
    "my_means = np.zeros(repeats)\n",
    "for i in range(repeats):\n",
    "    out = cds.full_ddm(v = 0, \n",
    "                       a = 0.96,\n",
    "                       w = 0.5,\n",
    "                       ndt = 0.5,\n",
    "                       dw = 0.0,\n",
    "                       sdv = 0.0,\n",
    "                       dndt = 0.5,\n",
    "                       delta_t = 0.01, \n",
    "                       max_t = 20,\n",
    "                       n_samples = 10000,\n",
    "                       boundary_fun = bf.constant,\n",
    "                       boundary_multiplicative = True, \n",
    "                       boundary_params = {})\n",
    "    print(i)\n",
    "    \n",
    "    my_means[i] = np.mean(out[0][out[1] == 1])"
   ]
  },
  {
   "cell_type": "code",
   "execution_count": null,
   "metadata": {},
   "outputs": [],
   "source": [
    "plt.hist(out[0] * out[1], bins = 50)"
   ]
  },
  {
   "cell_type": "code",
   "execution_count": null,
   "metadata": {},
   "outputs": [],
   "source": [
    "int(50 / out[2]['delta_t'] + 1)"
   ]
  },
  {
   "cell_type": "code",
   "execution_count": null,
   "metadata": {},
   "outputs": [],
   "source": [
    "# LCA \n",
    "repeats = 1\n",
    "my_means = np.zeros(repeats)\n",
    "for i in range(repeats):\n",
    "    out = cds.lca(v = np.array([0, 0], dtype = np.float32), \n",
    "                  a = 2, \n",
    "                  w = np.array([0.5, 0.5], dtype = np.float32), \n",
    "                  ndt = np.array([1.0, 1.0], dtype = np.float32),\n",
    "                  g = -1.0,\n",
    "                  b = 1.0,\n",
    "                  delta_t = 0.01, \n",
    "                  max_t = 40,\n",
    "                  n_samples = 10000,\n",
    "                  boundary_fun = bf.constant,\n",
    "                  boundary_multiplicative = True, \n",
    "                  boundary_params = {})\n",
    "    print(i)\n",
    "    my_means[i] = np.mean(out[0][out[1] == 1])"
   ]
  },
  {
   "cell_type": "code",
   "execution_count": null,
   "metadata": {},
   "outputs": [],
   "source": [
    "out[1][out[1] == 0] = -1\n",
    "plt.hist(out[0] * out[1], bins = 50)"
   ]
  },
  {
   "cell_type": "code",
   "execution_count": null,
   "metadata": {},
   "outputs": [],
   "source": [
    "# LCA \n",
    "repeats = 10\n",
    "my_means = np.zeros(repeats)\n",
    "for i in range(repeats):\n",
    "    out = cds.ddm_flexbound(v = 0.0, \n",
    "                            a = 1.5, \n",
    "                            w = 0.5, \n",
    "                            ndt = 0.1,\n",
    "                            delta_t = 0.01, \n",
    "                            max_t = 40,\n",
    "                            n_samples = 10000,\n",
    "                            boundary_fun = bf.constant,\n",
    "                            boundary_multiplicative = True, \n",
    "                            boundary_params = {})\n",
    "    print(i)\n",
    "    my_means[i] = np.mean(out[0][out[1] == 1])"
   ]
  },
  {
   "cell_type": "code",
   "execution_count": null,
   "metadata": {},
   "outputs": [],
   "source": [
    "def foo(name, *args, **kwargs):\n",
    "    print (\"args: \", args)\n",
    "    print (\"Type of args: \", type(args))\n",
    "    if len(args)>2:\n",
    "        args = args[0], args[1]     #- Created Same name variable.\n",
    "    print (\"Temp args:\", args)"
   ]
  },
  {
   "cell_type": "code",
   "execution_count": null,
   "metadata": {},
   "outputs": [],
   "source": [
    "my_keys = []\n",
    "for key in test_dat.keys():\n",
    "    if key[0] == 'v':\n",
    "        my_keys.append(key)\n",
    "np.array(test_dat.loc[1, ['v_0', 'v_1']])"
   ]
  },
  {
   "cell_type": "code",
   "execution_count": null,
   "metadata": {},
   "outputs": [],
   "source": [
    "my_dat = mdlba.make_data_rt_choice(target_folder = my_target_folder)"
   ]
  },
  {
   "cell_type": "code",
   "execution_count": null,
   "metadata": {},
   "outputs": [],
   "source": [
    "np.max(my_dat['log_likelihood'])"
   ]
  },
  {
   "cell_type": "code",
   "execution_count": null,
   "metadata": {},
   "outputs": [],
   "source": [
    "data = np.concatenate([out[0], out[1]], axis = 1)"
   ]
  },
  {
   "cell_type": "code",
   "execution_count": null,
   "metadata": {},
   "outputs": [],
   "source": [
    "###\n",
    "cds.race_model(boundary_fun = bf.constant,\n",
    "              n_samples = 100000)"
   ]
  },
  {
   "cell_type": "code",
   "execution_count": null,
   "metadata": {},
   "outputs": [],
   "source": [
    "np.quantile(np.random.uniform(size = (10000,4)), q = [0.05, 0.10, 0.9, 0.95], axis = 0)"
   ]
  },
  {
   "cell_type": "code",
   "execution_count": null,
   "metadata": {},
   "outputs": [],
   "source": [
    "tuple(map(tuple, a))"
   ]
  },
  {
   "cell_type": "code",
   "execution_count": null,
   "metadata": {},
   "outputs": [],
   "source": [
    "tuple(np.apply_along_axis(my_func, 0, a, key_vec))"
   ]
  },
  {
   "cell_type": "code",
   "execution_count": null,
   "metadata": {},
   "outputs": [],
   "source": [
    "dict(zip(a[0,:], ['a' ,'b', 'c']))"
   ]
  },
  {
   "cell_type": "code",
   "execution_count": null,
   "metadata": {},
   "outputs": [],
   "source": [
    "def my_func(x = 0, key_vec = ['a' ,'b', 'c']):\n",
    "    return dict(zip(key_vec, x))"
   ]
  },
  {
   "cell_type": "code",
   "execution_count": null,
   "metadata": {},
   "outputs": [],
   "source": [
    "my_func_init = my_func(key_vec = ['d', 'e', 'f'])"
   ]
  },
  {
   "cell_type": "code",
   "execution_count": null,
   "metadata": {},
   "outputs": [],
   "source": [
    "test = yaml.load(open('config_files/config_data_generator.yaml'))"
   ]
  },
  {
   "cell_type": "code",
   "execution_count": 22,
   "metadata": {},
   "outputs": [
    {
     "name": "stderr",
     "output_type": "stream",
     "text": [
      "\n",
      "\n",
      "\n",
      "\n",
      "\n",
      "  0%|          | 0/100 [00:00<?, ?it/s]\u001b[A\u001b[A\u001b[A\u001b[A\u001b[A"
     ]
    },
    {
     "ename": "TypeError",
     "evalue": "starmap() got an unexpected keyword argument 'callback'",
     "output_type": "error",
     "traceback": [
      "\u001b[0;31m---------------------------------------------------------------------------\u001b[0m",
      "\u001b[0;31mTypeError\u001b[0m                                 Traceback (most recent call last)",
      "\u001b[0;32m<ipython-input-22-b1b17a601579>\u001b[0m in \u001b[0;36m<module>\u001b[0;34m\u001b[0m\n\u001b[1;32m     12\u001b[0m \u001b[0;34m\u001b[0m\u001b[0m\n\u001b[1;32m     13\u001b[0m \u001b[0mpool\u001b[0m \u001b[0;34m=\u001b[0m \u001b[0mPool\u001b[0m\u001b[0;34m(\u001b[0m\u001b[0;36m4\u001b[0m\u001b[0;34m)\u001b[0m\u001b[0;34m\u001b[0m\u001b[0;34m\u001b[0m\u001b[0m\n\u001b[0;32m---> 14\u001b[0;31m \u001b[0mpool\u001b[0m\u001b[0;34m.\u001b[0m\u001b[0mstarmap\u001b[0m\u001b[0;34m(\u001b[0m\u001b[0mmyfunc\u001b[0m\u001b[0;34m,\u001b[0m \u001b[0ma\u001b[0m\u001b[0;34m,\u001b[0m \u001b[0mcallback\u001b[0m \u001b[0;34m=\u001b[0m \u001b[0mupdate\u001b[0m\u001b[0;34m)\u001b[0m\u001b[0;34m\u001b[0m\u001b[0;34m\u001b[0m\u001b[0m\n\u001b[0m\u001b[1;32m     15\u001b[0m \u001b[0mpool\u001b[0m\u001b[0;34m.\u001b[0m\u001b[0mclose\u001b[0m\u001b[0;34m(\u001b[0m\u001b[0;34m)\u001b[0m\u001b[0;34m\u001b[0m\u001b[0;34m\u001b[0m\u001b[0m\n\u001b[1;32m     16\u001b[0m \u001b[0mpool\u001b[0m\u001b[0;34m.\u001b[0m\u001b[0mjoin\u001b[0m\u001b[0;34m(\u001b[0m\u001b[0;34m)\u001b[0m\u001b[0;34m\u001b[0m\u001b[0;34m\u001b[0m\u001b[0m\n",
      "\u001b[0;31mTypeError\u001b[0m: starmap() got an unexpected keyword argument 'callback'"
     ]
    }
   ],
   "source": [
    "from multiprocessing import Pool\n",
    "\n",
    "def myfunc(a):\n",
    "    return a ** 2\n",
    "pbar = tqdm(total = 100)\n",
    "def update():\n",
    "    pbar.update\n",
    "\n",
    "a = tuple()\n",
    "for i in range(pbar.total):\n",
    "    a += ((1, ), )\n",
    "    \n",
    "pool = Pool(4)\n",
    "pool.starmap(myfunc, a, callback = update)\n",
    "pool.close()\n",
    "pool.join()"
   ]
  },
  {
   "cell_type": "code",
   "execution_count": null,
   "metadata": {},
   "outputs": [],
   "source": [
    "def my_fun(*args):\n",
    "    print(args)"
   ]
  },
  {
   "cell_type": "code",
   "execution_count": null,
   "metadata": {},
   "outputs": [],
   "source": [
    "help(dg.make_dataset_r_dgp)"
   ]
  },
  {
   "cell_type": "code",
   "execution_count": null,
   "metadata": {},
   "outputs": [],
   "source": [
    "def zip_dict(x = [], \n",
    "             key_vec = ['a', 'b', 'c']):\n",
    "    return dict(zip(key_vec, x))"
   ]
  },
  {
   "cell_type": "code",
   "execution_count": null,
   "metadata": {},
   "outputs": [],
   "source": [
    "my_dg = dg.data_generator(file_id = 'TEST')"
   ]
  },
  {
   "cell_type": "code",
   "execution_count": null,
   "metadata": {},
   "outputs": [],
   "source": [
    "out = my_dg.make_dataset_perturbation_experiment(save = False)"
   ]
  },
  {
   "cell_type": "code",
   "execution_count": null,
   "metadata": {},
   "outputs": [],
   "source": [
    "out = my_dg.make_dataset_uniform(save = False)"
   ]
  },
  {
   "cell_type": "code",
   "execution_count": null,
   "metadata": {},
   "outputs": [],
   "source": [
    "my_dg.param_grid_perturbation_experiment()"
   ]
  },
  {
   "cell_type": "code",
   "execution_count": null,
   "metadata": {},
   "outputs": [],
   "source": [
    "param_grid = my_dg.param_grid_uniform()"
   ]
  },
  {
   "cell_type": "code",
   "execution_count": null,
   "metadata": {},
   "outputs": [],
   "source": [
    "%%timeit -n 1 -r 1\n",
    "tt = my_dg.generate_data_grid_parallel(param_grid = param_grid)"
   ]
  },
  {
   "cell_type": "code",
   "execution_count": 22,
   "metadata": {},
   "outputs": [
    {
     "data": {
      "text/plain": [
       "27"
      ]
     },
     "execution_count": 22,
     "metadata": {},
     "output_type": "execute_result"
    }
   ],
   "source": [
    "3**3"
   ]
  },
  {
   "cell_type": "code",
   "execution_count": null,
   "metadata": {},
   "outputs": [],
   "source": [
    "a = np.random.choice(10, size = (1000,1))"
   ]
  },
  {
   "cell_type": "code",
   "execution_count": 25,
   "metadata": {},
   "outputs": [
    {
     "name": "stdout",
     "output_type": "stream",
     "text": [
      "(1, 1, 1)\n"
     ]
    }
   ],
   "source": [
    "for i in zip([1,2,3], [1, 2, 3], [1]):\n",
    "    print( i )"
   ]
  },
  {
   "cell_type": "code",
   "execution_count": 13,
   "metadata": {},
   "outputs": [],
   "source": [
    "from scipy.stats import truncnorm"
   ]
  },
  {
   "cell_type": "code",
   "execution_count": 19,
   "metadata": {},
   "outputs": [],
   "source": [
    "x = truncnorm.rvs(-1, 3, size = 10000)"
   ]
  },
  {
   "cell_type": "code",
   "execution_count": 22,
   "metadata": {},
   "outputs": [
    {
     "data": {
      "text/plain": [
       "(array([1365., 1729., 1850., 1708., 1387.,  969.,  552.,  276.,  122.,\n",
       "          42.]),\n",
       " array([ 9.50002079,  9.69642827,  9.89283574, 10.08924321, 10.28565068,\n",
       "        10.48205815, 10.67846562, 10.87487309, 11.07128056, 11.26768803,\n",
       "        11.4640955 ]),\n",
       " <a list of 10 Patch objects>)"
      ]
     },
     "execution_count": 22,
     "metadata": {},
     "output_type": "execute_result"
    },
    {
     "data": {
      "image/png": "[encoded data removed]",
      "text/plain": [
       "<Figure size 432x288 with 1 Axes>"
      ]
     },
     "metadata": {
      "needs_background": "light"
     },
     "output_type": "display_data"
    }
   ],
   "source": [
    "plt.hist(10 + x * 0.5)"
   ]
  },
  {
   "cell_type": "code",
   "execution_count": null,
   "metadata": {},
   "outputs": [],
   "source": [
    "plt.hist"
   ]
  }
 ],
 "metadata": {
  "kernelspec": {
   "display_name": "Python 3",
   "language": "python",
   "name": "python3"
  },
  "language_info": {
   "codemirror_mode": {
    "name": "ipython",
    "version": 3
   },
   "file_extension": ".py",
   "mimetype": "text/x-python",
   "name": "python",
   "nbconvert_exporter": "python",
   "pygments_lexer": "ipython3",
   "version": "3.7.4"
  }
 },
 "nbformat": 4,
 "nbformat_minor": 4
}
