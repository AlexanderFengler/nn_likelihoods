{
 "cells": [
  {
   "cell_type": "code",
   "execution_count": 1,
   "metadata": {},
   "outputs": [],
   "source": [
    "# Imports\n",
    "import numpy as np\n",
    "import pandas as pd\n",
    "import scipy as scp\n",
    "import pickle \n",
    "import os\n",
    "from scipy.io import loadmat\n",
    "import matplotlib.pyplot as plt"
   ]
  },
  {
   "cell_type": "code",
   "execution_count": null,
   "metadata": {},
   "outputs": [],
   "source": [
    "# Support function\n",
    "def bin_arbitrary_fptd(out = [0, 0],\n",
    "                       bin_dt = 0.04,\n",
    "                       nbins = 256,\n",
    "                       nchoices = 2,\n",
    "                       choice_codes = [-1.0, 1.0],\n",
    "                       max_t = 10.0): # ['v', 'a', 'w', 'ndt', 'angle']\n",
    "\n",
    "    # Generate bins\n",
    "    if nbins == 0:\n",
    "        nbins = int(max_t / bin_dt)\n",
    "        bins = np.zeros(nbins + 1)\n",
    "        bins[:nbins] = np.linspace(0, max_t, nbins)\n",
    "        bins[nbins] = np.inf\n",
    "    else:    \n",
    "        bins = np.zeros(nbins + 1)\n",
    "        bins[:nbins] = np.linspace(0, max_t, nbins)\n",
    "        bins[nbins] = np.inf\n",
    "\n",
    "    cnt = 0\n",
    "    counts = np.zeros( (nbins, nchoices) ) \n",
    "\n",
    "    for choice in choice_codes:\n",
    "        counts[:, cnt] = np.histogram(out[:, 0][out[:, 1] == choice], bins = bins)[0] \n",
    "        #print(np.histogram(out[:, 0][out[:, 1] == choice], bins = bins)[1])\n",
    "        cnt += 1\n",
    "    return counts"
   ]
  },
  {
   "cell_type": "code",
   "execution_count": 17,
   "metadata": {},
   "outputs": [],
   "source": [
    "tt = pd.read_csv('/media/data_cifs/afengler/data/real/chong/chongdata.csv')"
   ]
  },
  {
   "cell_type": "code",
   "execution_count": 209,
   "metadata": {},
   "outputs": [],
   "source": [
    "# Process original dataframe\n",
    "\n",
    "# reorder the columns for readability\n",
    "tt_2 = tt[['subj', 'blockN', 'rxtime',\n",
    "           'response', 'correct', 'isHighCorrect', \n",
    "           'isLowCorrect', 'highDim', 'lowDim', 'irrDim', \n",
    "           'highDimCoh', 'lowDimCoh', 'irrDimCoh', \n",
    "           'lineCoh', 'colorPer', 'anglePer', 'lineOption', 'colorOption', 'angleOption']]\n",
    "\n",
    "\n",
    "# recode the stimulus dimension option level from 1,2 to 0,1\n",
    "tt_2['lineOption'] = tt_2['lineOption'] - 1\n",
    "tt_2['colorOption'] = tt_2['colorOption'] - 1\n",
    "tt_2['angleOption'] = (tt_2['anglePer'] > 0.5) * 1"
   ]
  },
  {
   "cell_type": "code",
   "execution_count": 237,
   "metadata": {},
   "outputs": [
    {
     "name": "stdout",
     "output_type": "stream",
     "text": [
      "0\n",
      "1000\n",
      "2000\n",
      "3000\n",
      "4000\n",
      "5000\n",
      "6000\n",
      "7000\n",
      "8000\n",
      "9000\n",
      "10000\n",
      "11000\n",
      "12000\n",
      "13000\n",
      "14000\n",
      "15000\n",
      "16000\n",
      "17000\n",
      "18000\n"
     ]
    }
   ],
   "source": [
    "# Add a bunch of columns concerning response coding (previously unusable for me)\n",
    "\n",
    "N = tt_2.shape[0]\n",
    "\n",
    "tt_2['cr_af'] = 0 # correct response --> constently coded deriving from stimulus properties\n",
    "tt_2['sr_af'] = 0 # synthetic response --> coded taking into account stimulus properties and subject being wrong on high / low dim\n",
    "tt_2['sar_af'] = 0 # synthetic accuracy coded response (0: high wrong, low wrong 1: high wrong, low right, 2: high right, low wrong, 3: high right, low right)\n",
    "\n",
    "for i in range(N):\n",
    "    # highdim\n",
    "    h = tt_2.iloc[i, 7]\n",
    "\n",
    "    # lowdim\n",
    "    l = tt_2.iloc[i, 8]\n",
    "\n",
    "    # code 'correct response'\n",
    "    tt_2.loc[i, ['cr_af']] = tt_2.iloc[i, 15 + l] + (tt_2.iloc[i, 15 + h] * 2)\n",
    "    \n",
    "    # code synthetic (subject-) response\n",
    "    tt_2.loc[i, ['sr_af']] = int((tt_2.iloc[i, 15 + l] + (1 - tt_2.iloc[i, 6])) % 2) + int((tt_2.iloc[i, 15 + h] + (1 - tt_2.iloc[i, 5])) % 2) * 2 \n",
    "    \n",
    "    # code synthetic accuracy coded response\n",
    "    tt_2.loc[i, ['sar_af']] = tt_2.iloc[i, 6] + (tt_2.iloc[i, 5] * 2) \n",
    "\n",
    "    if (i % 1000) == 0:\n",
    "        print(i)"
   ]
  },
  {
   "cell_type": "code",
   "execution_count": 267,
   "metadata": {},
   "outputs": [],
   "source": [
    "# save my new dataframe\n",
    "pickle.dump(tt_2, open('/media/data_cifs/afengler/data/real/chong/chong_preprocessed_af.pickle', 'wb'))"
   ]
  },
  {
   "cell_type": "code",
   "execution_count": 266,
   "metadata": {},
   "outputs": [],
   "source": [
    "# Prep data for mlp (split by stimulus coherence)\n",
    "\n",
    "tt_ll = tt_2.loc[(tt_2['highDimCoh'].values == 1) * (tt_2['lowDimCoh'].values == 1)][['rxtime', 'sar_af']].values\n",
    "tt_hh = tt_2.loc[(tt_2['highDimCoh'].values == 2) * (tt_2['lowDimCoh'].values == 2)][['rxtime', 'sar_af']].values\n",
    "tt_lh = tt_2.loc[(tt_2['highDimCoh'].values == 1) * (tt_2['lowDimCoh'].values == 2)][['rxtime', 'sar_af']].values\n",
    "tt_hl = tt_2.loc[(tt_2['highDimCoh'].values == 2) * (tt_2['lowDimCoh'].values == 1)][['rxtime', 'sar_af']].values\n",
    "\n",
    "\n",
    "tt_mlp_coh_dict = {0: tt_ll, 1: tt_lh, 2: tt_hl, 3: tt_hh}\n",
    "\n",
    "tt_base_mlp = tt_2\n",
    "tt_info_pd = pd.DataFrame(data = {'highCoh': [0, 0, 1, 1], 'lowCoh': [0, 1, 0, 1]})\n",
    "\n",
    "tt_full_mlp_coh = [tt_base_mlp, tt_cnn_coh, tt_info_pd]\n",
    "pickle.dump(tt_full_mlp_coh, open('/media/data_cifs/afengler/data/real/chong/chong_full_mlp_coh.pickle', 'wb'))"
   ]
  },
  {
   "cell_type": "code",
   "execution_count": 268,
   "metadata": {},
   "outputs": [],
   "source": [
    "# Prep data for cnn (split by stimulus coherence)\n",
    "\n",
    "tt_ll = tt_2.loc[(tt_2['highDimCoh'].values == 1) * (tt_2['lowDimCoh'].values == 1)][['rxtime', 'sar_af']].values\n",
    "tt_hh = tt_2.loc[(tt_2['highDimCoh'].values == 2) * (tt_2['lowDimCoh'].values == 2)][['rxtime', 'sar_af']].values\n",
    "tt_lh = tt_2.loc[(tt_2['highDimCoh'].values == 1) * (tt_2['lowDimCoh'].values == 2)][['rxtime', 'sar_af']].values\n",
    "tt_hl = tt_2.loc[(tt_2['highDimCoh'].values == 2) * (tt_2['lowDimCoh'].values == 1)][['rxtime', 'sar_af']].values\n",
    "\n",
    "tt_ll_binned = bin_arbitrary_fptd(out = tt_ll,\n",
    "                                  nbins = 512,\n",
    "                                  nchoices = 4,\n",
    "                                  choice_codes = [0, 1, 2, 3],\n",
    "                                  max_t = 20)\n",
    "tt_hh_binned = bin_arbitrary_fptd(out = tt_hh,\n",
    "                                  nbins = 512,\n",
    "                                  nchoices = 4,\n",
    "                                  choice_codes = [0, 1, 2, 3],\n",
    "                                  max_t = 20)\n",
    "tt_lh_binned = bin_arbitrary_fptd(out = tt_lh,\n",
    "                                  nbins = 512,\n",
    "                                  nchoices = 4,\n",
    "                                  choice_codes = [0, 1, 2, 3],\n",
    "                                  max_t = 20)\n",
    "tt_hl_binned = bin_arbitrary_fptd(out = tt_hl,\n",
    "                                  nbins = 512,\n",
    "                                  nchoices = 4,\n",
    "                                  choice_codes = [0, 1, 2, 3],\n",
    "                                  max_t = 20)\n",
    "\n",
    "tt_cnn_coh = np.zeros((4, 512, 4))\n",
    "\n",
    "tt_cnn_coh[0, :, :] = tt_ll_binned\n",
    "tt_cnn_coh[1, :, :] = tt_lh_binned\n",
    "tt_cnn_coh[2, :, :] = tt_hl_binned\n",
    "tt_cnn_coh[3, :, :] = tt_hh_binned\n",
    "\n",
    "\n",
    "tt_base_cnn = tt_2\n",
    "tt_info_pd = pd.DataFrame(data = {'highCoh': [0, 0, 1, 1], 'lowCoh': [0, 1, 0, 1]})\n",
    "\n",
    "tt_full_cnn_coh = [tt_base_cnn, tt_cnn_coh, tt_info_pd]\n",
    "pickle.dump(tt_full_cnn_coh, open('/media/data_cifs/afengler/data/real/chong/chong_full_cnn_coh.pickle', 'wb'), protocol = 2)"
   ]
  },
  {
   "cell_type": "code",
   "execution_count": 270,
   "metadata": {},
   "outputs": [],
   "source": [
    "# Test loading of data\n",
    "mlp_test = pickle.load(open('/media/data_cifs/afengler/data/real/chong/chong_full_mlp_coh.pickle', 'rb'))\n",
    "cnn_test = pickle.load(open('/media/data_cifs/afengler/data/real/chong/chong_full_cnn_coh.pickle', 'rb'), encoding = 'latin1')"
   ]
  },
  {
   "cell_type": "code",
   "execution_count": 277,
   "metadata": {},
   "outputs": [
    {
     "data": {
      "text/plain": [
       "<matplotlib.image.AxesImage at 0x7f4a1105eb00>"
      ]
     },
     "execution_count": 277,
     "metadata": {},
     "output_type": "execute_result"
    },
    {
     "data": {
      "image/png": "[encoded data removed]",
      "text/plain": [
       "<Figure size 432x288 with 4 Axes>"
      ]
     },
     "metadata": {
      "needs_background": "light"
     },
     "output_type": "display_data"
    }
   ],
   "source": [
    "# Graph illustrating (rt, choice) behavior across conditions\n",
    "f, (ax1, ax2, ax3, ax4) = plt.subplots(1, 4, sharey = True)\n",
    "ax1.imshow(cnn_test[1][0,:,:], aspect = 'auto')\n",
    "ax2.imshow(cnn_test[1][1,:,:], aspect = 'auto')\n",
    "ax3.imshow(cnn_test[1][2,:,:], aspect = 'auto')\n",
    "ax4.imshow(cnn_test[1][3,:,:], aspect = 'auto')"
   ]
  },
  {
   "cell_type": "code",
   "execution_count": 48,
   "metadata": {},
   "outputs": [
    {
     "data": {
      "image/png": "[encoded data removed]",
      "text/plain": [
       "<Figure size 432x288 with 1 Axes>"
      ]
     },
     "metadata": {
      "needs_background": "light"
     },
     "output_type": "display_data"
    }
   ],
   "source": [
    "# some basic plots (not used)\n",
    "color = ['blue', 'red', 'green']\n",
    "for i in [1,2]:\n",
    "    plt.hist(tt.loc[(tt['lowDimCoh'] == i) & (tt['highDimCoh'] == 2) & ]['rxtime'], bins = 50, alpha = 0.2, color = color[i - 1])"
   ]
  },
  {
   "cell_type": "code",
   "execution_count": null,
   "metadata": {},
   "outputs": [],
   "source": [
    "# some basic stats (not used)\n",
    "for i in [1, 2]:\n",
    "    for j in [1, 2]:\n",
    "        print(tt.loc[(tt['lowDimCoh'] == i) & (tt['highDimCoh'] == j) & (tt['subj'] == 3)]['rxtime'].mean())"
   ]
  }
 ],
 "metadata": {
  "kernelspec": {
   "display_name": "Python 3",
   "language": "python",
   "name": "python3"
  },
  "language_info": {
   "codemirror_mode": {
    "name": "ipython",
    "version": 3
   },
   "file_extension": ".py",
   "mimetype": "text/x-python",
   "name": "python",
   "nbconvert_exporter": "python",
   "pygments_lexer": "ipython3",
   "version": "3.7.3"
  }
 },
 "nbformat": 4,
 "nbformat_minor": 4
}
