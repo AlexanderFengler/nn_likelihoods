{
 "cells": [
  {
   "cell_type": "code",
   "execution_count": 4,
   "metadata": {},
   "outputs": [],
   "source": [
    "import pandas as pd\n",
    "import numpy as np\n",
    "import hddm\n",
    "import sys\n",
    "import seaborn as sns\n",
    "import matplotlib.pyplot as plt\n",
    "from scipy import stats\n",
    "%matplotlib inline\n",
    "pd.options.display.max_columns = None"
   ]
  },
  {
   "cell_type": "code",
   "execution_count": 5,
   "metadata": {},
   "outputs": [],
   "source": [
    "#generate data\n",
    "data, params = hddm.generate.gen_rand_data(params={'a': 2, 't': .4, 'v': .5},\n",
    "                                                   size=200)"
   ]
  },
  {
   "cell_type": "code",
   "execution_count": 6,
   "metadata": {},
   "outputs": [
    {
     "data": {
      "text/html": [
       "<div>\n",
       "<style scoped>\n",
       "    .dataframe tbody tr th:only-of-type {\n",
       "        vertical-align: middle;\n",
       "    }\n",
       "\n",
       "    .dataframe tbody tr th {\n",
       "        vertical-align: top;\n",
       "    }\n",
       "\n",
       "    .dataframe thead th {\n",
       "        text-align: right;\n",
       "    }\n",
       "</style>\n",
       "<table border=\"1\" class=\"dataframe\">\n",
       "  <thead>\n",
       "    <tr style=\"text-align: right;\">\n",
       "      <th></th>\n",
       "      <th>rt</th>\n",
       "      <th>response</th>\n",
       "      <th>subj_idx</th>\n",
       "      <th>condition</th>\n",
       "      <th>nn_response</th>\n",
       "    </tr>\n",
       "  </thead>\n",
       "  <tbody>\n",
       "    <tr>\n",
       "      <th>0</th>\n",
       "      <td>1.101</td>\n",
       "      <td>0.0</td>\n",
       "      <td>0</td>\n",
       "      <td>none</td>\n",
       "      <td>-1.0</td>\n",
       "    </tr>\n",
       "    <tr>\n",
       "      <th>1</th>\n",
       "      <td>0.493</td>\n",
       "      <td>1.0</td>\n",
       "      <td>0</td>\n",
       "      <td>none</td>\n",
       "      <td>1.0</td>\n",
       "    </tr>\n",
       "    <tr>\n",
       "      <th>2</th>\n",
       "      <td>1.603</td>\n",
       "      <td>1.0</td>\n",
       "      <td>0</td>\n",
       "      <td>none</td>\n",
       "      <td>1.0</td>\n",
       "    </tr>\n",
       "    <tr>\n",
       "      <th>3</th>\n",
       "      <td>1.213</td>\n",
       "      <td>1.0</td>\n",
       "      <td>0</td>\n",
       "      <td>none</td>\n",
       "      <td>1.0</td>\n",
       "    </tr>\n",
       "    <tr>\n",
       "      <th>4</th>\n",
       "      <td>0.860</td>\n",
       "      <td>1.0</td>\n",
       "      <td>0</td>\n",
       "      <td>none</td>\n",
       "      <td>1.0</td>\n",
       "    </tr>\n",
       "    <tr>\n",
       "      <th>5</th>\n",
       "      <td>2.824</td>\n",
       "      <td>1.0</td>\n",
       "      <td>0</td>\n",
       "      <td>none</td>\n",
       "      <td>1.0</td>\n",
       "    </tr>\n",
       "    <tr>\n",
       "      <th>6</th>\n",
       "      <td>0.772</td>\n",
       "      <td>1.0</td>\n",
       "      <td>0</td>\n",
       "      <td>none</td>\n",
       "      <td>1.0</td>\n",
       "    </tr>\n",
       "    <tr>\n",
       "      <th>7</th>\n",
       "      <td>1.331</td>\n",
       "      <td>0.0</td>\n",
       "      <td>0</td>\n",
       "      <td>none</td>\n",
       "      <td>-1.0</td>\n",
       "    </tr>\n",
       "    <tr>\n",
       "      <th>8</th>\n",
       "      <td>0.672</td>\n",
       "      <td>1.0</td>\n",
       "      <td>0</td>\n",
       "      <td>none</td>\n",
       "      <td>1.0</td>\n",
       "    </tr>\n",
       "    <tr>\n",
       "      <th>9</th>\n",
       "      <td>2.116</td>\n",
       "      <td>0.0</td>\n",
       "      <td>0</td>\n",
       "      <td>none</td>\n",
       "      <td>-1.0</td>\n",
       "    </tr>\n",
       "  </tbody>\n",
       "</table>\n",
       "</div>"
      ],
      "text/plain": [
       "      rt  response  subj_idx condition  nn_response\n",
       "0  1.101       0.0         0      none         -1.0\n",
       "1  0.493       1.0         0      none          1.0\n",
       "2  1.603       1.0         0      none          1.0\n",
       "3  1.213       1.0         0      none          1.0\n",
       "4  0.860       1.0         0      none          1.0\n",
       "5  2.824       1.0         0      none          1.0\n",
       "6  0.772       1.0         0      none          1.0\n",
       "7  1.331       0.0         0      none         -1.0\n",
       "8  0.672       1.0         0      none          1.0\n",
       "9  2.116       0.0         0      none         -1.0"
      ]
     },
     "execution_count": 6,
     "metadata": {},
     "output_type": "execute_result"
    }
   ],
   "source": [
    "#create column called nn_response with choice coded as -1 (lower bound) and 1 (upper bound)\n",
    "data['nn_response'] = np.where(data.response==0,-1,data.response)\n",
    "data.head(10)"
   ]
  },
  {
   "cell_type": "code",
   "execution_count": null,
   "metadata": {},
   "outputs": [
    {
     "name": "stdout",
     "output_type": "stream",
     "text": [
      " [-------------    34%                  ] 347 of 1000 complete in 84.7 sec"
     ]
    }
   ],
   "source": [
    "#run nn_likelihood\n",
    "m = hddm.HDDMnn(data,include='z')\n",
    "m.sample(1000,burn=500)\n",
    "m.print_stats()"
   ]
  },
  {
   "cell_type": "code",
   "execution_count": 9,
   "metadata": {},
   "outputs": [
    {
     "name": "stdout",
     "output_type": "stream",
     "text": [
      " [-----------------100%-----------------] 1000 of 1000 complete in 6.7 sec       mean        std      2.5q       25q       50q       75q     97.5q      mc err\n",
      "a   1.96895  0.0783988   1.82263   1.91883   1.96589   2.01172   2.14657  0.00436581\n",
      "v  0.418922  0.0999454  0.217197  0.353212  0.415389  0.488372  0.606653  0.00610022\n",
      "t   0.41962  0.0210211   0.37506  0.404827  0.422416  0.434806  0.454405  0.00120707\n",
      "z  0.505646  0.0281094  0.452737  0.487164  0.506072  0.526035   0.56137  0.00183156\n",
      "DIC: 594.013194\n",
      "deviance: 589.778147\n",
      "pD: 4.235047\n"
     ]
    }
   ],
   "source": [
    "#compare to normal HDDM\n",
    "m = hddm.HDDM(data,include='all')\n",
    "m.sample(1000,burn=500)\n",
    "m.print_stats()"
   ]
  },
  {
   "cell_type": "code",
   "execution_count": null,
   "metadata": {},
   "outputs": [],
   "source": []
  }
 ],
 "metadata": {
  "kernelspec": {
   "display_name": "Python 3",
   "language": "python",
   "name": "python3"
  },
  "language_info": {
   "codemirror_mode": {
    "name": "ipython",
    "version": 3
   },
   "file_extension": ".py",
   "mimetype": "text/x-python",
   "name": "python",
   "nbconvert_exporter": "python",
   "pygments_lexer": "ipython3",
   "version": "3.6.10"
  }
 },
 "nbformat": 4,
 "nbformat_minor": 4
}
