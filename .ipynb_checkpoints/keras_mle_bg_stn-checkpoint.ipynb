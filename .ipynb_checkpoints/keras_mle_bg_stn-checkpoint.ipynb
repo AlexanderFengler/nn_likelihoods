{
 "cells": [
  {
   "cell_type": "code",
   "execution_count": 22,
   "metadata": {},
   "outputs": [],
   "source": [
    "# Load packages\n",
    "import tensorflow as tf\n",
    "from tensorflow import keras\n",
    "import numpy as np\n",
    "import pandas as pd\n",
    "import os\n",
    "import scipy as scp\n",
    "import scipy.stats as scps\n",
    "from scipy.optimize import differential_evolution\n",
    "from scipy.optimize import minimize\n",
    "from datetime import datetime\n",
    "import matplotlib.pyplot as plt\n",
    "from sklearn.linear_model import LinearRegression\n",
    "import pickle\n",
    "\n",
    "# Load my own functions\n",
    "import dnnregressor_train_eval_keras as dnnk\n",
    "import make_data_wfpt as mdw\n",
    "from kde_training_utilities import kde_load_data\n",
    "import ddm_data_simulation as ddm_sim\n",
    "import boundary_functions as bf"
   ]
  },
  {
   "cell_type": "code",
   "execution_count": 2,
   "metadata": {},
   "outputs": [
    {
     "data": {
      "text/plain": [
       "'1.1.0'"
      ]
     },
     "execution_count": 2,
     "metadata": {},
     "output_type": "execute_result"
    }
   ],
   "source": [
    "# Enable cuda\n",
    "os.environ['CUDA_VISIBLE_DEVICES'] = '2'\n",
    "scp.__version__"
   ]
  },
  {
   "cell_type": "code",
   "execution_count": 23,
   "metadata": {},
   "outputs": [
    {
     "data": {
      "text/plain": [
       "<tensorflow.python.training.checkpointable.util.CheckpointLoadStatus at 0x7f1d8c1d6588>"
      ]
     },
     "execution_count": 23,
     "metadata": {},
     "output_type": "execute_result"
    }
   ],
   "source": [
    "# Load Model\n",
    "model_path = '/home/afengler/git_repos/nn_likelihoods/keras_models/dnnregressor_kde_ddm_weibull_06_05_19_14_07_16/model_0' \n",
    "ckpt_path = '/home/afengler/git_repos/nn_likelihoods/keras_models/dnnregressor_kde_ddm_weibull_06_05_19_14_07_16/ckpt_0_final'\n",
    "model = keras.models.load_model(model_path)\n",
    "model.load_weights(ckpt_path)"
   ]
  },
  {
   "cell_type": "code",
   "execution_count": 24,
   "metadata": {},
   "outputs": [],
   "source": [
    " # Initializations -----\n",
    "n_runs = 300\n",
    "n_samples = 2500\n",
    "v_range = [-2.5, 2.5]\n",
    "a_range = [0.5, 4] # previous [1,2] # previous [2, 3]\n",
    "w_range = [0.15, 0.85]\n",
    "node_range = [0, 5]\n",
    "shape_range = [1.11, 49]\n",
    "scale_range = [0.11, 9.9]\n",
    "\n",
    "my_optim_columns = ['file', 'nde', 'n_samples', 'v_mle', 'a_mle', 'w_mle', 'node_mle', 'shape_mle', 'scale_mle']\n",
    "\n",
    "# Get parameter names in correct ordering:\n",
    "dat = pickle.load(open('/home/afengler/git_repos/nn_likelihoods/data_storage/kde/weibull/train_test_data/test_features.pickle' , \n",
    "                       'rb'))\n",
    "\n",
    "parameter_names = list(dat.keys())[:-2] # :-1 to get rid of 'rt' and 'choice' here\n",
    "\n",
    "# Make columns for optimizer result table\n",
    "p_sim = []\n",
    "p_mle = []\n",
    "\n",
    "for parameter_name in parameter_names:\n",
    "    p_sim.append(parameter_name + '_sim')\n",
    "    p_mle.append(parameter_name + '_mle')\n",
    "    \n",
    "my_optim_columns = p_sim + p_mle + ['n_samples']\n",
    "\n",
    "# Initialize the data frame in which to store optimizer results\n",
    "optim_results = pd.DataFrame(np.zeros((n_runs, len(my_optim_columns))), columns = my_optim_columns)\n",
    "\n",
    "# define boundary\n",
    "boundary = bf.weibull_bnd\n",
    "boundary_multiplicative = False\n",
    "\n",
    "# Define the likelihood function\n",
    "def log_p(params = [0, 1, 0.9], model = [], data = [], parameter_names = []):\n",
    "    # Make feature array\n",
    "    feature_array = np.zeros((data[0].shape[0], len(parameter_names) + 2))\n",
    "    \n",
    "    # Store parameters\n",
    "    cnt = 0\n",
    "    for i in range(0, len(parameter_names), 1):\n",
    "        feature_array[:, i] = params[i]\n",
    "        cnt += 1\n",
    "    \n",
    "    # Store rts and choices\n",
    "    feature_array[:, cnt] = data[0].ravel() # rts\n",
    "    feature_array[:, cnt + 1] = data[1].ravel() # choices\n",
    "    \n",
    "    # Get model predictions\n",
    "    prediction = model.predict(feature_array)\n",
    "    \n",
    "    # Some post-processing of predictions\n",
    "    prediction[prediction < 1e-29] = 1e-29\n",
    "    \n",
    "    return(- np.sum(np.log(prediction)))  \n",
    "# ---------------------"
   ]
  },
  {
   "cell_type": "code",
   "execution_count": 25,
   "metadata": {},
   "outputs": [],
   "source": [
    "# READING IN DATA -- (in case we use real data)\n",
    "ddm_model = 'flexbound'\n",
    "data_file = os.getcwd() + '/data_storage/michael_bg_nn_data/bg_stn_full.csv'\n",
    "data = pd.read_csv(data_file)\n",
    "files_ = np.unique(data['file'])"
   ]
  },
  {
   "cell_type": "code",
   "execution_count": 6,
   "metadata": {},
   "outputs": [
    {
     "name": "stdout",
     "output_type": "stream",
     "text": [
      "[3.14080390e-01 8.32063784e-01 4.99464862e-01 1.24795744e-04\n",
      " 1.16636605e+00]\n",
      "hiconf_go_stnhi.txt\n",
      "0\n",
      "[0.16694752 0.74377952 0.50098321 0.         1.17385442]\n",
      "hiconf_go_stnlo.txt\n",
      "1\n",
      "[3.76491698e-01 7.42336566e-01 4.99089751e-01 1.19320669e-04\n",
      " 1.23782273e+00]\n",
      "hiconf_go_stnmid.txt\n",
      "2\n",
      "[1.59282166 0.84817546 0.49901256 0.19183599 1.49640757]\n",
      "loconf7_go_stnhi.txt\n",
      "3\n",
      "[1.17293613 0.69468607 0.49912211 0.13622018 1.45112962]\n",
      "loconf7_go_stnlo.txt\n",
      "4\n",
      "[1.53621597 0.81027668 0.499      0.18202996 1.49884704]\n",
      "loconf7_go_stnmid.txt\n",
      "5\n"
     ]
    }
   ],
   "source": [
    "# Main loop ----------- TD: Parallelize\n",
    "cnt = 0\n",
    "for file_ in files_: \n",
    "    \n",
    "    # Print some info \n",
    "    print('Now running: ')\n",
    "    print(file_)\n",
    "    \n",
    "    # Get start time\n",
    "    start_time = time.time()\n",
    "    \n",
    "    # Handle data\n",
    "    data_tmp = data.loc[data['file'] == file_,].copy()\n",
    "    ndt = (min(data_tmp['avg_cycles'])) - 0.05 \n",
    "    data_tmp['avg_cycles'] = data_tmp['avg_cycles'] - ndt\n",
    "    data_feed_tmp = [data_tmp['avg_cycles'].values, data_tmp['cnt_err'].values]\n",
    "\n",
    "    # Store file, ndt and n_samples in optim_results output\n",
    "    optim_results.iloc[cnt, 0] = file_\n",
    "    optim_results.iloc[cnt, 1] = ndt\n",
    "    optim_results.iloc[cnt, 2] = data_tmp.shape[0]\n",
    "\n",
    "    # Run differential evolution\n",
    "    out = differential_evolution(log_p, \n",
    "                                 bounds = [(v_range[0],v_range[1]), \n",
    "                                           (a_range[0], a_range[1]), \n",
    "                                           (w_range[0], w_range[1]),\n",
    "                                           (c1_range[0], c1_range[1]),\n",
    "                                           (c2_range[0], c2_range[1])], \n",
    "                                 args = (model, data_feed_tmp, columns), \n",
    "                                 popsize = 30,\n",
    "                                 disp = True)\n",
    "    \n",
    "    # Print some info\n",
    "    print('Solution vector of current run: ')\n",
    "    print(out.x)\n",
    "    \n",
    "    # Store optimization results\n",
    "    optim_results.iloc[cnt, 2:len(my_optim_columns)] = out.x\n",
    "    \n",
    "    # Print some info\n",
    "    print('The run took: ')\n",
    "    elapsed_time = time.time() - start_time\n",
    "    print(time.strftime(\"%H:%M:%S\", time.gmtime(elapsed_time)))\n",
    "# -----------------------\n",
    "\n",
    "# Save optimization results to file\n",
    "optim_results.to_csv(os.getcwd() + '/experiments/ddm_flexbound_kde_bg_stn_full_ndt_minrt/optim_results_c1_c2_extended_params.csv')"
   ]
  },
  {
   "cell_type": "code",
   "execution_count": null,
   "metadata": {},
   "outputs": [],
   "source": [
    "for i in range(0, n_runs, 1): \n",
    "    \n",
    "    # Get start time\n",
    "    start_time = time.time()\n",
    "    \n",
    "    # Sample parameters\n",
    "    v_sim = np.random.uniform(high = v_range[1], low = v_range[0])\n",
    "    a_sim = np.random.uniform(high = a_range[1], low = a_range[0])\n",
    "    w_sim = np.random.uniform(high = w_range[1], low = w_range[0])\n",
    "\n",
    "    #c1_sim = np.random.uniform(high = c1_range[1], low = c1_range[0])\n",
    "    #c2_sim = np.random.uniform(high = c2_range[1], low = c2_range[0])\n",
    "    node_sim = np.random.uniform(high = node_range[1], low = node_range[0])\n",
    "    shape_sim = np.random.uniform(high = shape_range[1], low = shape_range[0])\n",
    "    scale_sim = np.random.uniform(high = scale_range[1], low = scale_range[0])\n",
    "\n",
    "    # Store in output file\n",
    "    optim_results.iloc[i, :len(parameter_names)] = [v_sim, a_sim, w_sim, node_sim, shape_sim, scale_sim]\n",
    "    optim_results.iloc[i, 2 * len(parameter_names)] = n_samples\n",
    "    \n",
    "    # Print some info on run\n",
    "    print('Parameters for run ' + str(i) + ': ')\n",
    "    print([v_sim, a_sim, w_sim, node_sim, shape_sim, scale_sim])\n",
    "    \n",
    "    # Run model simulations\n",
    "    ddm_dat_tmp = ddm_sim.ddm_flexbound_simulate(v = v_sim,\n",
    "                                                 a = a_sim,\n",
    "                                                 w = w_sim,\n",
    "                                                 s = 1,\n",
    "                                                 delta_t = 0.001,\n",
    "                                                 max_t = 20,\n",
    "                                                 n_samples = n_samples,\n",
    "                                                 boundary_fun = boundary, # function of t (and potentially other parameters) that takes in (t, *args)\n",
    "                                                 boundary_multiplicative = boundary_multiplicative, # CAREFUL: CHECK IF BOUND\n",
    "                                                 boundary_params = {'node': node_sim, \n",
    "                                                                    'shape': shape_sim,\n",
    "                                                                    'scale': scale_sim})\n",
    "        \n",
    "    # Print some info on run\n",
    "    print('Mean rt for current run: ')\n",
    "    print(np.mean(ddm_dat_tmp[0]))\n",
    "    \n",
    "    # Run optimizer\n",
    "    out = differential_evolution(log_p, \n",
    "                                 bounds = [(v_range[0],v_range[1]), \n",
    "                                           (a_range[0], a_range[1]), \n",
    "                                           (w_range[0], w_range[1]),\n",
    "                                           (node_range[0], node_range[1]),\n",
    "                                           (shape_range[0], shape_range[1]),\n",
    "                                           (scale_range[0], scale_range[1])], \n",
    "                                 args = (model, feature_array, parameter_names), \n",
    "                                 popsize = 30,\n",
    "                                 disp = True)\n",
    "    \n",
    "    # Print some info\n",
    "    print('Solution vector of current run: ')\n",
    "    print(out.x)\n",
    "    \n",
    "    print('The run took: ')\n",
    "    elapsed_time = time.time() - start_time\n",
    "    print(time.strftime(\"%H:%M:%S\", time.gmtime(elapsed_time)))\n",
    "    \n",
    "    # Store result in output file\n",
    "    optim_results.iloc[i, len(parameter_names):(2*len(parameter_names))] = out.x\n",
    "# -----------------------\n",
    "\n",
    "# Save optimization results to file\n",
    "optim_results.to_csv(os.getcwd() + '/experiments/kde_ddm_weibull_mle/optim_results.csv')"
   ]
  },
  {
   "cell_type": "code",
   "execution_count": 15,
   "metadata": {},
   "outputs": [
    {
     "name": "stdout",
     "output_type": "stream",
     "text": [
      "0  datapoints sampled\n",
      "1000  datapoints sampled\n",
      "2000  datapoints sampled\n"
     ]
    }
   ],
   "source": [
    "# NEW DIAGNOSTIC GRAPHS HERE\n",
    "ddm_dat_tmp = ddm_sim.ddm_flexbound_simulate(v = optim_results.iloc[4, 2],\n",
    "                                             a = optim_results.iloc[4, 3],\n",
    "                                             w = optim_results.iloc[4, 4],\n",
    "                                             s = 1,\n",
    "                                             delta_t = 0.001,\n",
    "                                             max_t = 20,\n",
    "                                             n_samples = 3000,\n",
    "                                             boundary_fun = exp_c1_c2, # function of t (and potentially other parameters) that takes in (t, *args)\n",
    "                                             boundary_multiplicative = True,\n",
    "                                             boundary_params = {'c1': optim_results.iloc[4, 5], \n",
    "                                                                'c2': optim_results.iloc[4, 6]})"
   ]
  },
  {
   "cell_type": "code",
   "execution_count": 16,
   "metadata": {},
   "outputs": [
    {
     "data": {
      "text/plain": [
       "(0, 5)"
      ]
     },
     "execution_count": 16,
     "metadata": {},
     "output_type": "execute_result"
    },
    {
     "data": {
      "image/png": "[encoded data removed]",
      "text/plain": [
       "<Figure size 432x288 with 1 Axes>"
      ]
     },
     "metadata": {
      "needs_background": "light"
     },
     "output_type": "display_data"
    }
   ],
   "source": [
    "dat_tmp = data.loc[data['file'] == optim_results.iloc[4, 0], ]\n",
    "plt.hist(dat_tmp['avg_cycles'] * dat_tmp['cnt_err'], bins = 30, color = 'green', density=True, alpha= 0.5)\n",
    "plt.ylim((0, 5))\n",
    "\n",
    "plt.hist((ddm_dat_tmp[0] + optim_results.iloc[4, 1]) * ddm_dat_tmp[1], bins = 30, color = 'blue', density = True, alpha = 0.5)\n",
    "plt.ylim((0, 5))"
   ]
  },
  {
   "cell_type": "code",
   "execution_count": null,
   "metadata": {},
   "outputs": [],
   "source": [
    "optim_results.iloc[3,3]"
   ]
  },
  {
   "cell_type": "code",
   "execution_count": 11,
   "metadata": {},
   "outputs": [
    {
     "data": {
      "image/png": "[encoded data removed]",
      "text/plain": [
       "<Figure size 432x288 with 1 Axes>"
      ]
     },
     "metadata": {
      "needs_background": "light"
     },
     "output_type": "display_data"
    }
   ],
   "source": [
    "# Boundary plots\n",
    "t_s = np.arange(0, 3, 0.01)\n",
    "boundary = np.zeros((len(t_s),2))\n",
    "colors = ['red', 'green', 'blue']\n",
    "a = optim_results.iloc[0,3]\n",
    "color_cnt = 0\n",
    "for c2 in optim_results.iloc[3:6,6]:\n",
    "    cnt = 0\n",
    "    for i in t_s:\n",
    "        b = a * exp_c1_c2(t = i, c1 = optim_results.iloc[0, 5], c2 = optim_results.iloc[0, 6])\n",
    "        if b <= 0:\n",
    "            boundary[cnt, 0] = 0\n",
    "            boundary[cnt, 1] = 0\n",
    "        else: \n",
    "            boundary[cnt, 0] = b\n",
    "            boundary[cnt, 1] = - boundary[cnt, 0]\n",
    "        cnt += 1\n",
    "\n",
    "    plt.plot(t_s, boundary[:, 0], color = colors[color_cnt])\n",
    "    plt.plot(t_s, boundary[:, 1], color = colors[color_cnt]) \n",
    "    color_cnt += 1"
   ]
  },
  {
   "cell_type": "code",
   "execution_count": 12,
   "metadata": {},
   "outputs": [
    {
     "data": {
      "text/plain": [
       "(0, 5)"
      ]
     },
     "execution_count": 12,
     "metadata": {},
     "output_type": "execute_result"
    },
    {
     "data": {
      "image/png": "[encoded data removed]",
      "text/plain": [
       "<Figure size 432x288 with 1 Axes>"
      ]
     },
     "metadata": {
      "needs_background": "light"
     },
     "output_type": "display_data"
    }
   ],
   "source": [
    "dat_tmp = data.loc[data['file'] == optim_results.iloc[0, 0], ]\n",
    "plt.hist(dat_tmp['avg_cycles'] * dat_tmp['cnt_err'], bins = 30, color = 'blue', density=True)\n",
    "plt.ylim((0, 5))"
   ]
  },
  {
   "cell_type": "code",
   "execution_count": 7,
   "metadata": {},
   "outputs": [
    {
     "data": {
      "text/html": [
       "<div>\n",
       "<style scoped>\n",
       "    .dataframe tbody tr th:only-of-type {\n",
       "        vertical-align: middle;\n",
       "    }\n",
       "\n",
       "    .dataframe tbody tr th {\n",
       "        vertical-align: top;\n",
       "    }\n",
       "\n",
       "    .dataframe thead th {\n",
       "        text-align: right;\n",
       "    }\n",
       "</style>\n",
       "<table border=\"1\" class=\"dataframe\">\n",
       "  <thead>\n",
       "    <tr style=\"text-align: right;\">\n",
       "      <th></th>\n",
       "      <th>file</th>\n",
       "      <th>ndt</th>\n",
       "      <th>v_mle</th>\n",
       "      <th>a_mle</th>\n",
       "      <th>w_mle</th>\n",
       "      <th>c1_mle</th>\n",
       "      <th>c2_mle</th>\n",
       "      <th>n_samples</th>\n",
       "    </tr>\n",
       "  </thead>\n",
       "  <tbody>\n",
       "    <tr>\n",
       "      <th>0</th>\n",
       "      <td>hiconf_go_stnhi.txt</td>\n",
       "      <td>0.27</td>\n",
       "      <td>0.314080</td>\n",
       "      <td>0.832064</td>\n",
       "      <td>0.499465</td>\n",
       "      <td>0.000125</td>\n",
       "      <td>1.166366</td>\n",
       "      <td>5000.0</td>\n",
       "    </tr>\n",
       "    <tr>\n",
       "      <th>1</th>\n",
       "      <td>hiconf_go_stnlo.txt</td>\n",
       "      <td>0.18</td>\n",
       "      <td>0.166948</td>\n",
       "      <td>0.743780</td>\n",
       "      <td>0.500983</td>\n",
       "      <td>0.000000</td>\n",
       "      <td>1.173854</td>\n",
       "      <td>5000.0</td>\n",
       "    </tr>\n",
       "    <tr>\n",
       "      <th>2</th>\n",
       "      <td>hiconf_go_stnmid.txt</td>\n",
       "      <td>0.24</td>\n",
       "      <td>0.376492</td>\n",
       "      <td>0.742337</td>\n",
       "      <td>0.499090</td>\n",
       "      <td>0.000119</td>\n",
       "      <td>1.237823</td>\n",
       "      <td>5000.0</td>\n",
       "    </tr>\n",
       "    <tr>\n",
       "      <th>3</th>\n",
       "      <td>loconf7_go_stnhi.txt</td>\n",
       "      <td>0.23</td>\n",
       "      <td>1.592822</td>\n",
       "      <td>0.848175</td>\n",
       "      <td>0.499013</td>\n",
       "      <td>0.191836</td>\n",
       "      <td>1.496408</td>\n",
       "      <td>5000.0</td>\n",
       "    </tr>\n",
       "    <tr>\n",
       "      <th>4</th>\n",
       "      <td>loconf7_go_stnlo.txt</td>\n",
       "      <td>0.20</td>\n",
       "      <td>1.172936</td>\n",
       "      <td>0.694686</td>\n",
       "      <td>0.499122</td>\n",
       "      <td>0.136220</td>\n",
       "      <td>1.451130</td>\n",
       "      <td>5000.0</td>\n",
       "    </tr>\n",
       "    <tr>\n",
       "      <th>5</th>\n",
       "      <td>loconf7_go_stnmid.txt</td>\n",
       "      <td>0.20</td>\n",
       "      <td>1.536216</td>\n",
       "      <td>0.810277</td>\n",
       "      <td>0.499000</td>\n",
       "      <td>0.182030</td>\n",
       "      <td>1.498847</td>\n",
       "      <td>5000.0</td>\n",
       "    </tr>\n",
       "  </tbody>\n",
       "</table>\n",
       "</div>"
      ],
      "text/plain": [
       "                    file   ndt     v_mle     a_mle     w_mle    c1_mle  \\\n",
       "0    hiconf_go_stnhi.txt  0.27  0.314080  0.832064  0.499465  0.000125   \n",
       "1    hiconf_go_stnlo.txt  0.18  0.166948  0.743780  0.500983  0.000000   \n",
       "2   hiconf_go_stnmid.txt  0.24  0.376492  0.742337  0.499090  0.000119   \n",
       "3   loconf7_go_stnhi.txt  0.23  1.592822  0.848175  0.499013  0.191836   \n",
       "4   loconf7_go_stnlo.txt  0.20  1.172936  0.694686  0.499122  0.136220   \n",
       "5  loconf7_go_stnmid.txt  0.20  1.536216  0.810277  0.499000  0.182030   \n",
       "\n",
       "     c2_mle  n_samples  \n",
       "0  1.166366     5000.0  \n",
       "1  1.173854     5000.0  \n",
       "2  1.237823     5000.0  \n",
       "3  1.496408     5000.0  \n",
       "4  1.451130     5000.0  \n",
       "5  1.498847     5000.0  "
      ]
     },
     "execution_count": 7,
     "metadata": {},
     "output_type": "execute_result"
    }
   ],
   "source": [
    "optim_results"
   ]
  },
  {
   "cell_type": "code",
   "execution_count": null,
   "metadata": {},
   "outputs": [],
   "source": []
  }
 ],
 "metadata": {
  "kernelspec": {
   "display_name": "tf",
   "language": "python",
   "name": "tf"
  },
  "language_info": {
   "codemirror_mode": {
    "name": "ipython",
    "version": 3
   },
   "file_extension": ".py",
   "mimetype": "text/x-python",
   "name": "python",
   "nbconvert_exporter": "python",
   "pygments_lexer": "ipython3",
   "version": "3.6.5"
  }
 },
 "nbformat": 4,
 "nbformat_minor": 2
}
