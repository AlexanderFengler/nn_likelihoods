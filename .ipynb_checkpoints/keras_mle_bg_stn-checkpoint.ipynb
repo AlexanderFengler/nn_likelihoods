{
 "cells": [
  {
   "cell_type": "code",
   "execution_count": 1,
   "metadata": {},
   "outputs": [],
   "source": [
    "# Load packages\n",
    "import tensorflow as tf\n",
    "from tensorflow import keras\n",
    "import numpy as np\n",
    "import pandas as pd\n",
    "import os\n",
    "import scipy as scp\n",
    "import scipy.stats as scps\n",
    "from scipy.optimize import differential_evolution\n",
    "from scipy.optimize import minimize\n",
    "from datetime import datetime\n",
    "import matplotlib.pyplot as plt\n",
    "from sklearn.linear_model import LinearRegression\n",
    "\n",
    "# Load my own functions\n",
    "import dnnregressor_train_eval_keras as dnnk\n",
    "import make_data_wfpt as mdw\n",
    "from kde_training_utilities import kde_load_data\n",
    "import ddm_data_simulation as ddm_sim"
   ]
  },
  {
   "cell_type": "code",
   "execution_count": 2,
   "metadata": {},
   "outputs": [
    {
     "data": {
      "text/plain": [
       "<tensorflow.python.training.checkpointable.util.CheckpointLoadStatus at 0x7f5e4d874080>"
      ]
     },
     "execution_count": 2,
     "metadata": {},
     "output_type": "execute_result"
    }
   ],
   "source": [
    "# Load Model\n",
    "model_path = os.getcwd() + '/keras_models/dnnregressor_kde_ddm_flexbound_05_03_19_20_15_59/model_0' \n",
    "ckpt_path = os.getcwd() + '/keras_models/dnnregressor_kde_ddm_flexbound_05_03_19_20_15_59/ckpt_0_80'\n",
    "model = keras.models.load_model(model_path)\n",
    "model.load_weights(ckpt_path)"
   ]
  },
  {
   "cell_type": "code",
   "execution_count": 3,
   "metadata": {},
   "outputs": [],
   "source": [
    "# Define the likelihood function DDM\n",
    "def log_p_ddm(params = [0, 1, 0.9], model = [], data = []):\n",
    "    feature_pd = pd.DataFrame(np.zeros((data[0].shape[0], 5)), columns = ['v', 'a', 'w', 'rt', 'choice'])\n",
    "    feature_pd['rt'] = data[0]\n",
    "    feature_pd['choice'] = data[1]\n",
    "    feature_pd['v'] = params[0]\n",
    "    feature_pd['a'] = params[1]\n",
    "    feature_pd['w'] = params[2]\n",
    "    prediction = model.predict(feature_pd)\n",
    "    prediction[prediction < 1e-29] = 1e-29\n",
    "    return(- np.sum(np.log(prediction)))"
   ]
  },
  {
   "cell_type": "code",
   "execution_count": 4,
   "metadata": {},
   "outputs": [],
   "source": [
    "# Define the likelihood function DDM-FLEXBOUND\n",
    "def log_p_flexbound(params = [0, 1, 0.9], model = [], data = []):\n",
    "    feature_pd = pd.DataFrame(np.zeros((data[0].shape[0], 7)), columns = ['v', 'a', 'w', 'c1', 'c2', 'rt', 'choice'])\n",
    "    feature_pd['rt'] = data[0]\n",
    "    feature_pd['choice'] = data[1]\n",
    "    feature_pd['v'] = params[0]\n",
    "    feature_pd['a'] = params[1]\n",
    "    feature_pd['w'] = params[2]\n",
    "    feature_pd['c1'] = params[3]\n",
    "    feature_pd['c2'] = params[4]\n",
    "    prediction = model.predict(feature_pd)\n",
    "    prediction[prediction < 1e-29] = 1e-29\n",
    "    return(- np.sum(np.log(prediction)))"
   ]
  },
  {
   "cell_type": "code",
   "execution_count": 5,
   "metadata": {},
   "outputs": [],
   "source": [
    "ddm_model = 'flexbound'\n",
    "data_file = os.getcwd() + '/data_storage/michael_bg_nn_data/bg_stn_full.csv'\n",
    "data = pd.read_csv(data_file)\n",
    "files_ = np.unique(data['file'])"
   ]
  },
  {
   "cell_type": "code",
   "execution_count": 6,
   "metadata": {},
   "outputs": [],
   "source": [
    "data_tmp = data.loc[data['file'] == files_[0],].copy()"
   ]
  },
  {
   "cell_type": "code",
   "execution_count": 51,
   "metadata": {},
   "outputs": [
    {
     "name": "stdout",
     "output_type": "stream",
     "text": [
      "[4.32764357e-01 6.59524613e-01 4.99409515e-01 9.45183600e-05\n",
      " 9.80239207e-01]\n",
      "hiconf_go_stnhi.txt\n",
      "0\n",
      "[3.18593730e-01 6.08776861e-01 4.99550759e-01 2.28627396e-05\n",
      " 9.99748996e-01]\n",
      "hiconf_go_stnlo.txt\n",
      "1\n",
      "[4.92969450e-01 5.87286747e-01 4.99024645e-01 2.03237684e-05\n",
      " 9.99477080e-01]\n",
      "hiconf_go_stnmid.txt\n",
      "2\n",
      "[1.27879811e+00 7.16732202e-01 4.99009947e-01 6.81399933e-05\n",
      " 9.98300591e-01]\n",
      "loconf7_go_stnhi.txt\n",
      "3\n",
      "[1.24398459e+00 6.11009241e-01 4.99040208e-01 8.09689535e-05\n",
      " 9.98874466e-01]\n",
      "loconf7_go_stnlo.txt\n",
      "4\n",
      "[1.26379916e+00 6.81907437e-01 4.99093805e-01 5.13041281e-05\n",
      " 9.98818285e-01]\n",
      "loconf7_go_stnmid.txt\n",
      "5\n"
     ]
    }
   ],
   "source": [
    "# Run MLE on real data\n",
    "ddm_model = 'flexbound'\n",
    "data_file = os.getcwd() + '/data_storage/michael_bg_nn_data/bg_stn_full.csv'\n",
    "data = pd.read_csv(data_file)\n",
    "files_ = np.unique(data['file'])\n",
    "\n",
    "# Initializations -----\n",
    "v_range = [-2, 2]\n",
    "a_range = [0.5, 3] # previous [1,2] # previous [2, 3]\n",
    "w_range = [0.499, 0.501]\n",
    "\n",
    "if ddm_model == 'ddm':\n",
    "    optim_results = pd.DataFrame(np.zeros((len(files_), 6)), columns = ['file',\n",
    "                                                                        'ndt',\n",
    "                                                                   'v_mle', \n",
    "                                                                   'a_mle', \n",
    "                                                                   'w_mle', \n",
    "                                                                   'n_samples'])\n",
    "\n",
    "if ddm_model == 'flexbound':\n",
    "    optim_results = pd.DataFrame(np.zeros((len(files_), 8)), columns = ['file',\n",
    "                                                                        'ndt',\n",
    "                                                                   'v_mle', \n",
    "                                                                   'a_mle', \n",
    "                                                                   'w_mle', \n",
    "                                                                   'c1_mle',\n",
    "                                                                   'c2_mle',\n",
    "                                                                   'n_samples'])\n",
    "    \n",
    "    # Define boundary function \n",
    "    def exp_c1_c2(t = 1, \n",
    "                  c1 = 1,\n",
    "                  c2 = 1):\n",
    "\n",
    "        b = np.exp(- c2*(t-c1))\n",
    "\n",
    "        if t >= c1:\n",
    "\n",
    "            return b\n",
    "\n",
    "        else:\n",
    "            return 1\n",
    "        \n",
    "    # Define appropriate range of parameters\n",
    "    c1_range = [0, 0.0001]\n",
    "    c2_range = [1/3, 1]\n",
    "# ---------------------\n",
    "\n",
    "# Main loop ----------- TD: Parallelize\n",
    "cnt = 0\n",
    "for file_ in files_: \n",
    "    \n",
    "    data_tmp = data.loc[data['file'] == file_,].copy()\n",
    "    ndt = (min(data_tmp['avg_cycles'])) # - 0.1)\n",
    "    data_tmp['avg_cycles'] = data_tmp['avg_cycles'] - ndt\n",
    "    data_feed_tmp = [data_tmp['avg_cycles'].values, data_tmp['cnt_err'].values]\n",
    "\n",
    "    # Sample parameters\n",
    "    v_sim = np.random.uniform(high = v_range[1], low = v_range[0])\n",
    "    a_sim = np.random.uniform(high = a_range[1], low = a_range[0])\n",
    "    w_sim = np.random.uniform(high = w_range[1], low = w_range[0])\n",
    "    \n",
    "    if ddm_model == 'ddm':\n",
    "        optim_results.iloc[cnt, 0] = file_\n",
    "        optim_results.iloc[cnt, 1] = ndt\n",
    "        optim_results.iloc[cnt, 5] = n_samples\n",
    "        \n",
    "    if ddm_model == 'flexbound':\n",
    "        c1_sim = np.random.uniform(high = c1_range[1], low = c1_range[0])\n",
    "        c2_sim = np.random.uniform(high = c2_range[1], low = c2_range[0])\n",
    "        \n",
    "        # Store in output file\n",
    "        optim_results.iloc[cnt, 0] = file_\n",
    "        optim_results.iloc[cnt, 1] = ndt\n",
    "        optim_results.iloc[cnt, 7] = data_tmp.shape[0]\n",
    "\n",
    "\n",
    "    # Run optimizer\n",
    "    if ddm_model == 'ddm':\n",
    "        out = differential_evolution(log_p_ddm, \n",
    "                                     bounds = [(v_range[0],v_range[1]), \n",
    "                                               (a_range[0], a_range[1]), \n",
    "                                               (w_range[0], w_range[1]),\n",
    "                                               (c1_range[0], c1_range[1]),\n",
    "                                               (c2_range[0], c2_range[1])], \n",
    "                                     args = (model, data_feed_tmp), \n",
    "                                     popsize = 30)\n",
    "    \n",
    "    if ddm_model == 'flexbound':\n",
    "        out = differential_evolution(log_p_flexbound, \n",
    "                                     bounds = [(v_range[0],v_range[1]), \n",
    "                                               (a_range[0], a_range[1]), \n",
    "                                               (w_range[0], w_range[1]),\n",
    "                                               (c1_range[0], c1_range[1]),\n",
    "                                               (c2_range[0], c2_range[1])], \n",
    "                                     args = (model, data_feed_tmp), \n",
    "                                     popsize = 30)\n",
    "    \n",
    "    print(out.x)\n",
    "    \n",
    "    # Store result in output file\n",
    "    if ddm_model == 'ddm':\n",
    "        optim_results.iloc[cnt, 2:5] = out.x\n",
    "        \n",
    "    if ddm_model == 'flexbound':\n",
    "        optim_results.iloc[cnt, 2:7] = out.x\n",
    "    \n",
    "    #Print and update counter\n",
    "    print(file_)\n",
    "    print(cnt)\n",
    "    cnt += 1\n",
    "# -----------------------\n",
    "\n",
    "\n",
    "# Save optimization results to file\n",
    "optim_results.to_csv(os.getcwd() + '/experiments/ddm_flexbound_kde_bg_stn_full_ndt_minrt/optim_results.csv')"
   ]
  },
  {
   "cell_type": "code",
   "execution_count": 25,
   "metadata": {},
   "outputs": [
    {
     "data": {
      "text/html": [
       "<div>\n",
       "<style scoped>\n",
       "    .dataframe tbody tr th:only-of-type {\n",
       "        vertical-align: middle;\n",
       "    }\n",
       "\n",
       "    .dataframe tbody tr th {\n",
       "        vertical-align: top;\n",
       "    }\n",
       "\n",
       "    .dataframe thead th {\n",
       "        text-align: right;\n",
       "    }\n",
       "</style>\n",
       "<table border=\"1\" class=\"dataframe\">\n",
       "  <thead>\n",
       "    <tr style=\"text-align: right;\">\n",
       "      <th></th>\n",
       "      <th>file</th>\n",
       "      <th>ndt</th>\n",
       "      <th>v_mle</th>\n",
       "      <th>a_mle</th>\n",
       "      <th>w_mle</th>\n",
       "      <th>c1_mle</th>\n",
       "      <th>c2_mle</th>\n",
       "      <th>n_samples</th>\n",
       "    </tr>\n",
       "  </thead>\n",
       "  <tbody>\n",
       "    <tr>\n",
       "      <th>0</th>\n",
       "      <td>hiconf_go_stnhi.txt</td>\n",
       "      <td>0.22</td>\n",
       "      <td>0.196480</td>\n",
       "      <td>0.599956</td>\n",
       "      <td>0.500661</td>\n",
       "      <td>0.000016</td>\n",
       "      <td>0.694915</td>\n",
       "      <td>5000.0</td>\n",
       "    </tr>\n",
       "    <tr>\n",
       "      <th>1</th>\n",
       "      <td>hiconf_go_stnlo.txt</td>\n",
       "      <td>0.13</td>\n",
       "      <td>0.203105</td>\n",
       "      <td>0.599965</td>\n",
       "      <td>0.499632</td>\n",
       "      <td>0.000037</td>\n",
       "      <td>0.888505</td>\n",
       "      <td>5000.0</td>\n",
       "    </tr>\n",
       "    <tr>\n",
       "      <th>2</th>\n",
       "      <td>hiconf_go_stnmid.txt</td>\n",
       "      <td>0.19</td>\n",
       "      <td>0.244590</td>\n",
       "      <td>0.599801</td>\n",
       "      <td>0.499240</td>\n",
       "      <td>0.000078</td>\n",
       "      <td>0.878999</td>\n",
       "      <td>5000.0</td>\n",
       "    </tr>\n",
       "    <tr>\n",
       "      <th>3</th>\n",
       "      <td>loconf7_go_stnhi.txt</td>\n",
       "      <td>0.18</td>\n",
       "      <td>0.542415</td>\n",
       "      <td>0.599998</td>\n",
       "      <td>0.499577</td>\n",
       "      <td>0.000075</td>\n",
       "      <td>0.783897</td>\n",
       "      <td>5000.0</td>\n",
       "    </tr>\n",
       "    <tr>\n",
       "      <th>4</th>\n",
       "      <td>loconf7_go_stnlo.txt</td>\n",
       "      <td>0.15</td>\n",
       "      <td>0.461858</td>\n",
       "      <td>0.599998</td>\n",
       "      <td>0.499012</td>\n",
       "      <td>0.000098</td>\n",
       "      <td>0.977315</td>\n",
       "      <td>5000.0</td>\n",
       "    </tr>\n",
       "    <tr>\n",
       "      <th>5</th>\n",
       "      <td>loconf7_go_stnmid.txt</td>\n",
       "      <td>0.15</td>\n",
       "      <td>0.483445</td>\n",
       "      <td>0.599995</td>\n",
       "      <td>0.499175</td>\n",
       "      <td>0.000034</td>\n",
       "      <td>0.898917</td>\n",
       "      <td>5000.0</td>\n",
       "    </tr>\n",
       "  </tbody>\n",
       "</table>\n",
       "</div>"
      ],
      "text/plain": [
       "                    file   ndt     v_mle     a_mle     w_mle    c1_mle  \\\n",
       "0    hiconf_go_stnhi.txt  0.22  0.196480  0.599956  0.500661  0.000016   \n",
       "1    hiconf_go_stnlo.txt  0.13  0.203105  0.599965  0.499632  0.000037   \n",
       "2   hiconf_go_stnmid.txt  0.19  0.244590  0.599801  0.499240  0.000078   \n",
       "3   loconf7_go_stnhi.txt  0.18  0.542415  0.599998  0.499577  0.000075   \n",
       "4   loconf7_go_stnlo.txt  0.15  0.461858  0.599998  0.499012  0.000098   \n",
       "5  loconf7_go_stnmid.txt  0.15  0.483445  0.599995  0.499175  0.000034   \n",
       "\n",
       "     c2_mle  n_samples  \n",
       "0  0.694915     5000.0  \n",
       "1  0.888505     5000.0  \n",
       "2  0.878999     5000.0  \n",
       "3  0.783897     5000.0  \n",
       "4  0.977315     5000.0  \n",
       "5  0.898917     5000.0  "
      ]
     },
     "execution_count": 25,
     "metadata": {},
     "output_type": "execute_result"
    }
   ],
   "source": [
    "optim_results"
   ]
  },
  {
   "cell_type": "code",
   "execution_count": 48,
   "metadata": {},
   "outputs": [
    {
     "name": "stdout",
     "output_type": "stream",
     "text": [
      "{'boundary_fun': <function exp_c1_c2 at 0x7f5e28231bf8>}\n",
      "(20001, 2)\n",
      "0  datapoints sampled\n",
      "1000  datapoints sampled\n"
     ]
    }
   ],
   "source": [
    "# NEW DIAGNOSTIC GRAPHS HERE\n",
    "ddm_dat_tmp = ddm_sim.ddm_flexbound_simulate(v = optim_results.iloc[5, 2],\n",
    "                                                     a = optim_results.iloc[5, 3],\n",
    "                                                     w = optim_results.iloc[5, 4],\n",
    "                                                     s = 1,\n",
    "                                                     delta_t = 0.001,\n",
    "                                                     max_t = 20,\n",
    "                                                     n_samples = 2000,\n",
    "                                                     boundary_fun = exp_c1_c2, # function of t (and potentially other parameters) that takes in (t, *args)\n",
    "                                                     boundary_fun_type = 'exp_c1_c2',\n",
    "                                                     boundary_params = {'c1': optim_results.iloc[0, 5], 'c2': optim_results.iloc[0, 6]})"
   ]
  },
  {
   "cell_type": "code",
   "execution_count": 49,
   "metadata": {},
   "outputs": [
    {
     "data": {
      "text/plain": [
       "(0, 5)"
      ]
     },
     "execution_count": 49,
     "metadata": {},
     "output_type": "execute_result"
    },
    {
     "data": {
      "image/png": "[encoded data removed]",
      "text/plain": [
       "<Figure size 432x288 with 1 Axes>"
      ]
     },
     "metadata": {
      "needs_background": "light"
     },
     "output_type": "display_data"
    }
   ],
   "source": [
    "plt.hist((ddm_dat_tmp[0] + optim_results.iloc[0, 1]) * ddm_dat_tmp[1], bins = 30, color = 'blue', density = True)\n",
    "plt.ylim((0,5))"
   ]
  },
  {
   "cell_type": "code",
   "execution_count": 32,
   "metadata": {},
   "outputs": [
    {
     "data": {
      "text/plain": [
       "0.5999975643865362"
      ]
     },
     "execution_count": 32,
     "metadata": {},
     "output_type": "execute_result"
    }
   ],
   "source": [
    "optim_results.iloc[3,3]"
   ]
  },
  {
   "cell_type": "code",
   "execution_count": 35,
   "metadata": {},
   "outputs": [
    {
     "data": {
      "image/png": "[encoded data removed]",
      "text/plain": [
       "<Figure size 432x288 with 1 Axes>"
      ]
     },
     "metadata": {
      "needs_background": "light"
     },
     "output_type": "display_data"
    }
   ],
   "source": [
    "# Boundary plots\n",
    "t_s = np.arange(0, 3, 0.01)\n",
    "boundary = np.zeros((len(t_s),2))\n",
    "colors = ['red', 'green', 'blue']\n",
    "a = optim_results.iloc[3,3]\n",
    "color_cnt = 0\n",
    "for c2 in optim_results.iloc[3:6,6]:\n",
    "    cnt = 0\n",
    "    for i in t_s:\n",
    "        b = a * exp_c1_c2(t = i, c1 = 0, c2 = c2)\n",
    "        if b <= 0:\n",
    "            boundary[cnt, 0] = 0\n",
    "            boundary[cnt, 1] = 0\n",
    "        else: \n",
    "            boundary[cnt, 0] = b\n",
    "            boundary[cnt, 1] = - boundary[cnt, 0]\n",
    "        cnt += 1\n",
    "\n",
    "    plt.plot(t_s, boundary[:, 0], color = colors[color_cnt])\n",
    "    plt.plot(t_s, boundary[:, 1], color = colors[color_cnt]) \n",
    "    color_cnt += 1"
   ]
  },
  {
   "cell_type": "code",
   "execution_count": 50,
   "metadata": {},
   "outputs": [
    {
     "data": {
      "text/plain": [
       "(0, 5)"
      ]
     },
     "execution_count": 50,
     "metadata": {},
     "output_type": "execute_result"
    },
    {
     "data": {
      "image/png": "[encoded data removed]",
      "text/plain": [
       "<Figure size 432x288 with 1 Axes>"
      ]
     },
     "metadata": {
      "needs_background": "light"
     },
     "output_type": "display_data"
    }
   ],
   "source": [
    "dat_tmp = data.loc[data['file'] == optim_results.iloc[5, 0], ]\n",
    "plt.hist(dat_tmp['avg_cycles'] * dat_tmp['cnt_err'], bins = 30, color = 'blue', density=True)\n",
    "plt.ylim((0, 5))"
   ]
  },
  {
   "cell_type": "code",
   "execution_count": null,
   "metadata": {},
   "outputs": [],
   "source": [
    "- (min(dat_tmp['avg_cycles']) - 0.1)"
   ]
  },
  {
   "cell_type": "code",
   "execution_count": null,
   "metadata": {},
   "outputs": [],
   "source": [
    "dat_tmp = data.loc[data['file'] == optim_results.iloc[6, 0], ]"
   ]
  },
  {
   "cell_type": "code",
   "execution_count": null,
   "metadata": {},
   "outputs": [],
   "source": [
    "optim_results = pd.read_csv(os.getcwd() + '/experiments/ddm_flexbound_kde_mle_restricted_range_a_1_2/optim_results.csv')"
   ]
  },
  {
   "cell_type": "code",
   "execution_count": null,
   "metadata": {},
   "outputs": [],
   "source": [
    "optim_results"
   ]
  },
  {
   "cell_type": "code",
   "execution_count": null,
   "metadata": {},
   "outputs": [],
   "source": [
    "plt.scatter(optim_results['v_sim'], optim_results['v_mle'])"
   ]
  },
  {
   "cell_type": "code",
   "execution_count": null,
   "metadata": {},
   "outputs": [],
   "source": [
    "# Regression for v\n",
    "reg = LinearRegression().fit(np.expand_dims(optim_results['v_mle'], 1), np.expand_dims(optim_results['v_sim'], 1))\n",
    "reg.score(np.expand_dims(optim_results['v_mle'], 1), np.expand_dims(optim_results['v_sim'], 1))"
   ]
  },
  {
   "cell_type": "code",
   "execution_count": null,
   "metadata": {},
   "outputs": [],
   "source": [
    "plt.scatter(optim_results['a_sim'], optim_results['a_mle'])"
   ]
  },
  {
   "cell_type": "code",
   "execution_count": null,
   "metadata": {},
   "outputs": [],
   "source": [
    "# Regression for a\n",
    "reg = LinearRegression().fit(np.expand_dims(optim_results['a_mle'], 1), np.expand_dims(optim_results['a_sim'], 1))\n",
    "reg.score(np.expand_dims(optim_results['a_mle'], 1), np.expand_dims(optim_results['a_sim'], 1))"
   ]
  },
  {
   "cell_type": "code",
   "execution_count": null,
   "metadata": {},
   "outputs": [],
   "source": [
    "plt.scatter(optim_results['w_sim'], optim_results['w_mle'])"
   ]
  },
  {
   "cell_type": "code",
   "execution_count": null,
   "metadata": {},
   "outputs": [],
   "source": [
    "# Regression for w\n",
    "reg = LinearRegression().fit(np.expand_dims(optim_results['w_mle'], 1), np.expand_dims(optim_results['w_sim'], 1))\n",
    "reg.score(np.expand_dims(optim_results['w_mle'], 1), np.expand_dims(optim_results['w_sim'], 1))"
   ]
  },
  {
   "cell_type": "code",
   "execution_count": null,
   "metadata": {},
   "outputs": [],
   "source": [
    "plt.scatter(optim_results['c1_sim'], optim_results['c1_mle'])"
   ]
  },
  {
   "cell_type": "code",
   "execution_count": null,
   "metadata": {},
   "outputs": [],
   "source": [
    "# Regression for c1\n",
    "reg = LinearRegression().fit(np.expand_dims(optim_results['c1_mle'], 1), np.expand_dims(optim_results['c1_sim'], 1))\n",
    "reg.score(np.expand_dims(optim_results['c1_mle'], 1), np.expand_dims(optim_results['c1_sim'], 1))"
   ]
  },
  {
   "cell_type": "code",
   "execution_count": null,
   "metadata": {},
   "outputs": [],
   "source": [
    "plt.scatter(optim_results['c2_sim'], optim_results['c2_mle'])"
   ]
  },
  {
   "cell_type": "code",
   "execution_count": null,
   "metadata": {},
   "outputs": [],
   "source": [
    "# Regression for w\n",
    "reg = LinearRegression().fit(np.expand_dims(optim_results['c2_mle'], 1), np.expand_dims(optim_results['c2_sim'], 1))\n",
    "reg.score(np.expand_dims(optim_results['c2_mle'], 1), np.expand_dims(optim_results['c2_sim'], 1))"
   ]
  },
  {
   "cell_type": "code",
   "execution_count": null,
   "metadata": {},
   "outputs": [],
   "source": [
    "# Code for running other optimization methods... (didn't work though)\n",
    "#     out = minimize(log_p,\n",
    "    #                    x0 = np.array([0, 1, 0.5]),\n",
    "    #                    bounds = [(v_range[0],v_range[1]), \n",
    "    #                                            (a_range[0], a_range[1]), \n",
    "    #                                            (w_range[0], w_range[1])],\n",
    "    #                   args = (model, ddm_dat_tmp),\n",
    "    #                   method = 'Nelder-Mead'\n",
    "    #                   )\n",
    "    \n",
    "    # Print current result"
   ]
  }
 ],
 "metadata": {
  "kernelspec": {
   "display_name": "tf",
   "language": "python",
   "name": "tf"
  },
  "language_info": {
   "codemirror_mode": {
    "name": "ipython",
    "version": 3
   },
   "file_extension": ".py",
   "mimetype": "text/x-python",
   "name": "python",
   "nbconvert_exporter": "python",
   "pygments_lexer": "ipython3",
   "version": "3.6.5"
  }
 },
 "nbformat": 4,
 "nbformat_minor": 2
}
