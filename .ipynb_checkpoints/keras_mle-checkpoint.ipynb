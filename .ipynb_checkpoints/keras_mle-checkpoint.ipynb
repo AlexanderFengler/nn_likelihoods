{
 "cells": [
  {
   "cell_type": "code",
   "execution_count": 51,
   "metadata": {},
   "outputs": [],
   "source": [
    "# Load packages\n",
    "import tensorflow as tf\n",
    "from tensorflow import keras\n",
    "import numpy as np\n",
    "import pandas as pd\n",
    "import os\n",
    "import scipy as scp\n",
    "import scipy.stats as scps\n",
    "from scipy.optimize import differential_evolution\n",
    "from scipy.optimize import minimize\n",
    "from datetime import datetime\n",
    "import matplotlib.pyplot as plt\n",
    "from sklearn.linear_model import LinearRegression\n",
    "\n",
    "# Load my own functions\n",
    "import dnnregressor_train_eval_keras as dnnk\n",
    "import make_data_wfpt as mdw\n",
    "from kde_training_utilities import kde_load_data\n",
    "import ddm_data_simulation as ddm_sim"
   ]
  },
  {
   "cell_type": "code",
   "execution_count": 52,
   "metadata": {},
   "outputs": [
    {
     "data": {
      "text/plain": [
       "<tensorflow.python.training.checkpointable.util.CheckpointLoadStatus at 0x7fca39d0d940>"
      ]
     },
     "execution_count": 52,
     "metadata": {},
     "output_type": "execute_result"
    }
   ],
   "source": [
    "# Load Model\n",
    "model_path = os.getcwd() + '/keras_models/dnnregressor_kde_ddm_flexbound_05_03_19_20_15_59/model_0' \n",
    "ckpt_path = os.getcwd() + '/keras_models/dnnregressor_kde_ddm_flexbound_05_03_19_20_15_59/ckpt_0_80'\n",
    "model = keras.models.load_model(model_path)\n",
    "model.load_weights(ckpt_path)"
   ]
  },
  {
   "cell_type": "code",
   "execution_count": null,
   "metadata": {},
   "outputs": [],
   "source": [
    "# Define the likelihood function DDM\n",
    "def log_p_ddm(params = [0, 1, 0.9], model = [], data = []):\n",
    "    feature_pd = pd.DataFrame(np.zeros((data[0].shape[0], 5)), columns = ['v', 'a', 'w', 'rt', 'choice'])\n",
    "    feature_pd['rt'] = data[0]\n",
    "    feature_pd['choice'] = data[1]\n",
    "    feature_pd['v'] = params[0]\n",
    "    feature_pd['a'] = params[1]\n",
    "    feature_pd['w'] = params[2]\n",
    "    prediction = model.predict(feature_pd)\n",
    "    prediction[prediction < 1e-29] = 1e-29\n",
    "    return(- np.sum(np.log(prediction)))"
   ]
  },
  {
   "cell_type": "code",
   "execution_count": 53,
   "metadata": {},
   "outputs": [],
   "source": [
    "# Define the likelihood function DDM-FLEXBOUND\n",
    "def log_p_flexbound(params = [0, 1, 0.9], model = [], data = []):\n",
    "    feature_pd = pd.DataFrame(np.zeros((data[0].shape[0], 7)), columns = ['v', 'a', 'w', 'c1', 'c2', 'rt', 'choice'])\n",
    "    feature_pd['rt'] = data[0]\n",
    "    feature_pd['choice'] = data[1]\n",
    "    feature_pd['v'] = params[0]\n",
    "    feature_pd['a'] = params[1]\n",
    "    feature_pd['w'] = params[2]\n",
    "    feature_pd['c1'] = params[3]\n",
    "    feature_pd['c2'] = params[4]\n",
    "    prediction = model.predict(feature_pd)\n",
    "    prediction[prediction < 1e-29] = 1e-29\n",
    "    return(- np.sum(np.log(prediction)))"
   ]
  },
  {
   "cell_type": "code",
   "execution_count": null,
   "metadata": {},
   "outputs": [
    {
     "name": "stdout",
     "output_type": "stream",
     "text": [
      "{'boundary_fun': <function exp_c1_c2 at 0x7fcab06ce8c8>}\n",
      "0  datapoints sampled\n",
      "1000  datapoints sampled\n",
      "2000  datapoints sampled\n",
      "[-7.25069374e-01  2.99975325e+00  4.99354110e-01  5.19757487e-04\n",
      "  4.66823509e-01]\n",
      "1\n",
      "{'boundary_fun': <function exp_c1_c2 at 0x7fcab06ce8c8>}\n",
      "0  datapoints sampled\n",
      "1000  datapoints sampled\n",
      "2000  datapoints sampled\n",
      "[-1.89222556e+00  2.99912169e+00  4.99002748e-01  2.81071385e-06\n",
      "  6.47679885e-01]\n",
      "2\n",
      "{'boundary_fun': <function exp_c1_c2 at 0x7fcab06ce8c8>}\n",
      "0  datapoints sampled\n",
      "1000  datapoints sampled\n",
      "2000  datapoints sampled\n",
      "[-1.49278306e+00  2.99900390e+00  4.99015471e-01  9.46075396e-04\n",
      "  6.60681016e-01]\n",
      "3\n",
      "{'boundary_fun': <function exp_c1_c2 at 0x7fcab06ce8c8>}\n",
      "0  datapoints sampled\n",
      "1000  datapoints sampled\n",
      "2000  datapoints sampled\n",
      "[8.27100830e-01 3.00050431e+00 5.00612869e-01 8.07295361e-04\n",
      " 5.35201533e-01]\n",
      "4\n",
      "{'boundary_fun': <function exp_c1_c2 at 0x7fcab06ce8c8>}\n",
      "0  datapoints sampled\n",
      "1000  datapoints sampled\n",
      "2000  datapoints sampled\n",
      "[1.28069942e+00 2.99979539e+00 5.00929059e-01 1.50155305e-04\n",
      " 8.92514840e-01]\n",
      "5\n",
      "{'boundary_fun': <function exp_c1_c2 at 0x7fcab06ce8c8>}\n",
      "0  datapoints sampled\n",
      "1000  datapoints sampled\n",
      "2000  datapoints sampled\n",
      "[-4.33464365e-01  2.99922202e+00  5.00474250e-01  8.78838734e-04\n",
      "  5.52395037e-01]\n",
      "6\n",
      "{'boundary_fun': <function exp_c1_c2 at 0x7fcab06ce8c8>}\n",
      "0  datapoints sampled\n",
      "1000  datapoints sampled\n",
      "2000  datapoints sampled\n",
      "[-4.21625980e-01  2.99914150e+00  4.99877990e-01  7.55869217e-04\n",
      "  7.28498374e-01]\n",
      "7\n",
      "{'boundary_fun': <function exp_c1_c2 at 0x7fcab06ce8c8>}\n",
      "0  datapoints sampled\n",
      "1000  datapoints sampled\n",
      "2000  datapoints sampled\n",
      "[-8.27081700e-01  2.99914322e+00  4.99657783e-01  9.71953226e-04\n",
      "  4.86234306e-01]\n",
      "8\n",
      "{'boundary_fun': <function exp_c1_c2 at 0x7fcab06ce8c8>}\n",
      "0  datapoints sampled\n",
      "1000  datapoints sampled\n",
      "2000  datapoints sampled\n",
      "[1.18299594e-02 2.99979379e+00 5.00454945e-01 4.28335128e-04\n",
      " 8.86980247e-01]\n",
      "9\n",
      "{'boundary_fun': <function exp_c1_c2 at 0x7fcab06ce8c8>}\n",
      "0  datapoints sampled\n",
      "1000  datapoints sampled\n",
      "2000  datapoints sampled\n",
      "[7.22195112e-01 2.99904352e+00 5.00812275e-01 7.27077100e-04\n",
      " 3.90762390e-01]\n",
      "10\n",
      "{'boundary_fun': <function exp_c1_c2 at 0x7fcab06ce8c8>}\n",
      "0  datapoints sampled\n",
      "1000  datapoints sampled\n",
      "2000  datapoints sampled\n",
      "[7.69889380e-02 2.99914453e+00 5.00991872e-01 6.76885061e-04\n",
      " 7.13611650e-01]\n",
      "11\n",
      "{'boundary_fun': <function exp_c1_c2 at 0x7fcab06ce8c8>}\n",
      "0  datapoints sampled\n",
      "1000  datapoints sampled\n",
      "2000  datapoints sampled\n",
      "[1.06126772e+00 2.99958233e+00 5.00988783e-01 1.46595612e-04\n",
      " 9.99975005e-01]\n",
      "12\n",
      "{'boundary_fun': <function exp_c1_c2 at 0x7fcab06ce8c8>}\n",
      "0  datapoints sampled\n",
      "1000  datapoints sampled\n",
      "2000  datapoints sampled\n",
      "[-1.00067650e+00  2.99924282e+00  4.99106978e-01  6.78332240e-04\n",
      "  6.48001311e-01]\n",
      "13\n",
      "{'boundary_fun': <function exp_c1_c2 at 0x7fcab06ce8c8>}\n",
      "0  datapoints sampled\n",
      "1000  datapoints sampled\n",
      "2000  datapoints sampled\n",
      "[5.10110318e-01 3.00074513e+00 5.00998020e-01 7.38241735e-04\n",
      " 9.36434689e-01]\n",
      "14\n",
      "{'boundary_fun': <function exp_c1_c2 at 0x7fcab06ce8c8>}\n",
      "0  datapoints sampled\n",
      "1000  datapoints sampled\n",
      "2000  datapoints sampled\n",
      "[1.06084613e+00 2.99929533e+00 5.00863982e-01 4.70788045e-04\n",
      " 9.82136895e-01]\n",
      "15\n",
      "{'boundary_fun': <function exp_c1_c2 at 0x7fcab06ce8c8>}\n",
      "0  datapoints sampled\n",
      "1000  datapoints sampled\n",
      "2000  datapoints sampled\n",
      "[5.56838898e-01 2.99940228e+00 5.00965011e-01 4.09575663e-05\n",
      " 9.96970552e-01]\n",
      "16\n",
      "{'boundary_fun': <function exp_c1_c2 at 0x7fcab06ce8c8>}\n",
      "0  datapoints sampled\n",
      "1000  datapoints sampled\n",
      "2000  datapoints sampled\n",
      "[-9.95394642e-01  2.99930821e+00  4.99036827e-01  8.31993839e-04\n",
      "  6.43575569e-01]\n",
      "17\n",
      "{'boundary_fun': <function exp_c1_c2 at 0x7fcab06ce8c8>}\n",
      "0  datapoints sampled\n",
      "1000  datapoints sampled\n",
      "2000  datapoints sampled\n",
      "[-3.58569090e-01  2.99940483e+00  5.00994427e-01  3.49459612e-04\n",
      "  7.24758731e-01]\n",
      "18\n",
      "{'boundary_fun': <function exp_c1_c2 at 0x7fcab06ce8c8>}\n",
      "0  datapoints sampled\n",
      "1000  datapoints sampled\n",
      "2000  datapoints sampled\n",
      "[-9.26105481e-01  2.99916512e+00  4.99190289e-01  4.59598011e-04\n",
      "  4.39425269e-01]\n",
      "19\n",
      "{'boundary_fun': <function exp_c1_c2 at 0x7fcab06ce8c8>}\n",
      "0  datapoints sampled\n",
      "1000  datapoints sampled\n",
      "2000  datapoints sampled\n",
      "[-1.45264677e+00  2.99919479e+00  4.99000278e-01  7.56258363e-05\n",
      "  9.13725034e-01]\n",
      "20\n",
      "{'boundary_fun': <function exp_c1_c2 at 0x7fcab06ce8c8>}\n",
      "0  datapoints sampled\n",
      "1000  datapoints sampled\n",
      "2000  datapoints sampled\n",
      "[-5.83786772e-01  2.99988184e+00  5.00268754e-01  8.17674775e-04\n",
      "  6.12687057e-01]\n",
      "21\n",
      "{'boundary_fun': <function exp_c1_c2 at 0x7fcab06ce8c8>}\n",
      "0  datapoints sampled\n",
      "1000  datapoints sampled\n",
      "2000  datapoints sampled\n",
      "[-1.21608005e+00  2.99914676e+00  4.99040001e-01  3.31338594e-04\n",
      "  5.97349141e-01]\n",
      "22\n",
      "{'boundary_fun': <function exp_c1_c2 at 0x7fcab06ce8c8>}\n",
      "0  datapoints sampled\n",
      "1000  datapoints sampled\n",
      "2000  datapoints sampled\n",
      "[6.10304293e-01 2.99903470e+00 5.00950535e-01 6.01379791e-05\n",
      " 8.48469914e-01]\n",
      "23\n",
      "{'boundary_fun': <function exp_c1_c2 at 0x7fcab06ce8c8>}\n",
      "0  datapoints sampled\n",
      "1000  datapoints sampled\n",
      "2000  datapoints sampled\n",
      "[3.12102858e-01 2.99965632e+00 5.01000000e-01 2.05099810e-04\n",
      " 5.07789252e-01]\n",
      "24\n",
      "{'boundary_fun': <function exp_c1_c2 at 0x7fcab06ce8c8>}\n",
      "0  datapoints sampled\n",
      "1000  datapoints sampled\n",
      "2000  datapoints sampled\n",
      "[-8.23288267e-01  2.99964225e+00  4.99738532e-01  2.91399822e-04\n",
      "  5.03007243e-01]\n",
      "25\n",
      "{'boundary_fun': <function exp_c1_c2 at 0x7fcab06ce8c8>}\n",
      "0  datapoints sampled\n",
      "1000  datapoints sampled\n",
      "2000  datapoints sampled\n",
      "[-9.35213904e-01  2.99932794e+00  4.99247049e-01  1.63524275e-04\n",
      "  8.96606080e-01]\n",
      "26\n",
      "{'boundary_fun': <function exp_c1_c2 at 0x7fcab06ce8c8>}\n",
      "0  datapoints sampled\n",
      "1000  datapoints sampled\n",
      "2000  datapoints sampled\n",
      "[7.37420726e-01 2.99931853e+00 5.00953752e-01 8.16272239e-04\n",
      " 3.86309823e-01]\n",
      "27\n",
      "{'boundary_fun': <function exp_c1_c2 at 0x7fcab06ce8c8>}\n",
      "0  datapoints sampled\n",
      "1000  datapoints sampled\n",
      "2000  datapoints sampled\n",
      "[-2.07390015e-01  2.99982349e+00  5.00980726e-01  5.79164083e-04\n",
      "  4.60324071e-01]\n",
      "28\n",
      "{'boundary_fun': <function exp_c1_c2 at 0x7fcab06ce8c8>}\n",
      "0  datapoints sampled\n",
      "1000  datapoints sampled\n",
      "2000  datapoints sampled\n",
      "[-2.44970992e-01  3.00088049e+00  5.00797091e-01  6.24919798e-04\n",
      "  6.11204202e-01]\n",
      "29\n",
      "{'boundary_fun': <function exp_c1_c2 at 0x7fcab06ce8c8>}\n",
      "0  datapoints sampled\n"
     ]
    }
   ],
   "source": [
    "# Run MLE \n",
    "ddm_model = 'flexbound'\n",
    "\n",
    "# Initializations -----\n",
    "n_runs = 200\n",
    "n_samples = 2500\n",
    "v_range = [-2, 2]\n",
    "a_range = [2.999, 3.001] # previous [1,2] # previous [2, 3]\n",
    "w_range = [0.499, 0.501]\n",
    "\n",
    "if ddm_model == 'ddm':\n",
    "    optim_results = pd.DataFrame(np.zeros((n_runs, 7)), columns = ['v_sim', \n",
    "                                                                   'a_sim', \n",
    "                                                                   'w_sim', \n",
    "                                                                   'v_mle', \n",
    "                                                                   'a_mle', \n",
    "                                                                   'w_mle', \n",
    "                                                                   'n_samples'])\n",
    "\n",
    "if ddm_model == 'flexbound':\n",
    "    optim_results = pd.DataFrame(np.zeros((n_runs, 11)), columns = ['v_sim', \n",
    "                                                                   'a_sim', \n",
    "                                                                   'w_sim',\n",
    "                                                                   'c1_sim', # note these are boundary function parameters\n",
    "                                                                   'c2_sim', # which ones go here depends on the boundary function\n",
    "                                                                   'v_mle', \n",
    "                                                                   'a_mle', \n",
    "                                                                   'w_mle', \n",
    "                                                                   'c1_mle',\n",
    "                                                                   'c2_mle',\n",
    "                                                                   'n_samples'])\n",
    "    \n",
    "    # Define boundary function \n",
    "    def exp_c1_c2(t = 1, \n",
    "                  c1 = 1,\n",
    "                  c2 = 1):\n",
    "\n",
    "        b = np.exp(- c2*(t-c1))\n",
    "\n",
    "        if t >= c1:\n",
    "\n",
    "            return b\n",
    "\n",
    "        else:\n",
    "            return 1\n",
    "        \n",
    "    # Define appropriate range of parameters\n",
    "    c1_range = [0, 0.001]\n",
    "    c2_range = [1/3, 1]\n",
    "# ---------------------\n",
    "\n",
    "# Main loop ----------- TD: Parallelize\n",
    "cnt = 1\n",
    "for i in range(0, n_runs, 1): \n",
    "    \n",
    "    # Sample parameters\n",
    "    v_sim = np.random.uniform(high = v_range[1], low = v_range[0])\n",
    "    a_sim = np.random.uniform(high = a_range[1], low = a_range[0])\n",
    "    w_sim = np.random.uniform(high = w_range[1], low = w_range[0])\n",
    "    \n",
    "    if ddm_model == 'ddm':\n",
    "        optim_results.iloc[i, 0:3] = [v_sim, a_sim, w_sim,]\n",
    "        optim_results.iloc[i, 6] = n_samples\n",
    "        \n",
    "    if ddm_model == 'flexbound':\n",
    "        c1_sim = np.random.uniform(high = c1_range[1], low = c1_range[0])\n",
    "        c2_sim = np.random.uniform(high = c2_range[1], low = c2_range[0])\n",
    "        \n",
    "        # Store in output file\n",
    "        optim_results.iloc[i, 0:5] = [v_sim, a_sim, w_sim, c1_sim, c2_sim]\n",
    "        optim_results.iloc[i, 10] = n_samples\n",
    "        \n",
    "    \n",
    "    if ddm_model == 'ddm':\n",
    "        ddm_dat_tmp = ddm_sim.ddm_simulate(a = a_sim, \n",
    "                                           v = v_sim, \n",
    "                                           w = w_sim, \n",
    "                                           n_samples = n_samples)\n",
    "    \n",
    "    if ddm_model == 'flexbound':\n",
    "        ddm_dat_tmp = ddm_sim.ddm_flexbound_simulate(v = v_sim,\n",
    "                                                     a = a_sim,\n",
    "                                                     w = w_sim,\n",
    "                                                     s = 1,\n",
    "                                                     delta_t = 0.001,\n",
    "                                                     max_t = 20,\n",
    "                                                     n_samples = n_samples,\n",
    "                                                     boundary_fun = exp_c1_c2, # function of t (and potentially other parameters) that takes in (t, *args)\n",
    "                                                     boundary_fun_type = 'exp_c1_c2',\n",
    "                                                     boundary_params = {'c1': c1_sim, 'c2': c2_sim})\n",
    "    \n",
    "    # Run optimizer\n",
    "    if ddm_model == 'ddm':\n",
    "        out = differential_evolution(log_p_ddm, \n",
    "                                     bounds = [(v_range[0],v_range[1]), \n",
    "                                               (a_range[0], a_range[1]), \n",
    "                                               (w_range[0], w_range[1]),\n",
    "                                               (c1_range[0], c1_range[1]),\n",
    "                                               (c2_range[0], c2_range[1])], \n",
    "                                     args = (model, ddm_dat_tmp), \n",
    "                                     popsize = 30)\n",
    "    if ddm_model == 'flexbound':\n",
    "        out = differential_evolution(log_p_flexbound, \n",
    "                                     bounds = [(v_range[0],v_range[1]), \n",
    "                                               (a_range[0], a_range[1]), \n",
    "                                               (w_range[0], w_range[1]),\n",
    "                                               (c1_range[0], c1_range[1]),\n",
    "                                               (c2_range[0], c2_range[1])], \n",
    "                                     args = (model, ddm_dat_tmp), \n",
    "                                     popsize = 30)\n",
    "    \n",
    "    print(out.x)\n",
    "    \n",
    "    # Store result in output file\n",
    "    if ddm_model == 'ddm':\n",
    "        optim_results.iloc[i, 3:6] = out.x\n",
    "        \n",
    "    if ddm_model == 'flexbound':\n",
    "        optim_results.iloc[i, 5:10] = out.x\n",
    "    \n",
    "    #Print and update counter\n",
    "    print(cnt)\n",
    "    cnt += 1\n",
    "# -----------------------\n",
    "\n",
    "\n",
    "# Save optimization results to file\n",
    "optim_results.to_csv(os.getcwd() + '/experiments/ddm_flexbound_kde_mle_fix_a_3_c1_0_w_unbiased_vrange_large/optim_results.csv')"
   ]
  },
  {
   "cell_type": "code",
   "execution_count": null,
   "metadata": {},
   "outputs": [],
   "source": [
    "# Run MLE on real data\n",
    "ddm_model = 'flexbound'\n",
    "data_file = os.getcwd() + 'data_storage/michael_bg_nn_data/bg_stn_full.csv'\n",
    "data = pd.read_csv(data_file)\n",
    "files_ = np.unique(data['file'])\n",
    "\n",
    "# Initializations -----\n",
    "v_range = [-2, 2]\n",
    "a_range = [1, 3] # previous [1,2] # previous [2, 3]\n",
    "w_range = [0.499, 0.501]\n",
    "\n",
    "if ddm_model == 'ddm':\n",
    "    optim_results = pd.DataFrame(np.zeros((n_runs, 7)), columns = ['file',\n",
    "                                                                   'v_mle', \n",
    "                                                                   'a_mle', \n",
    "                                                                   'w_mle', \n",
    "                                                                   'n_samples'])\n",
    "\n",
    "if ddm_model == 'flexbound':\n",
    "    optim_results = pd.DataFrame(np.zeros((n_runs, 11)), columns = ['file'\n",
    "                                                                   'v_mle', \n",
    "                                                                   'a_mle', \n",
    "                                                                   'w_mle', \n",
    "                                                                   'c1_mle',\n",
    "                                                                   'c2_mle',\n",
    "                                                                   'n_samples'])\n",
    "    \n",
    "    # Define boundary function \n",
    "    def exp_c1_c2(t = 1, \n",
    "                  c1 = 1,\n",
    "                  c2 = 1):\n",
    "\n",
    "        b = np.exp(- c2*(t-c1))\n",
    "\n",
    "        if t >= c1:\n",
    "\n",
    "            return b\n",
    "\n",
    "        else:\n",
    "            return 1\n",
    "        \n",
    "    # Define appropriate range of parameters\n",
    "    c1_range = [0, 0.0001]\n",
    "    c2_range = [1/3, 1]\n",
    "# ---------------------\n",
    "\n",
    "# Main loop ----------- TD: Parallelize\n",
    "cnt = 1\n",
    "for file_ in files_: \n",
    "    \n",
    "    data_tmp = data.loc[data['file'] == file_,]\n",
    "    data_feed_tmp = [data_tmp['avg_cycle'].values, data_tmp['cnt_err'].values]\n",
    "\n",
    "    # Sample parameters\n",
    "    v_sim = np.random.uniform(high = v_range[1], low = v_range[0])\n",
    "    a_sim = np.random.uniform(high = a_range[1], low = a_range[0])\n",
    "    w_sim = np.random.uniform(high = w_range[1], low = w_range[0])\n",
    "    \n",
    "    if ddm_model == 'ddm':\n",
    "        optim_results.iloc[i, 0] = file_\n",
    "        optim_results.iloc[i, 4] = n_samples\n",
    "        \n",
    "    if ddm_model == 'flexbound':\n",
    "        c1_sim = np.random.uniform(high = c1_range[1], low = c1_range[0])\n",
    "        c2_sim = np.random.uniform(high = c2_range[1], low = c2_range[0])\n",
    "        \n",
    "        # Store in output file\n",
    "        optim_results.iloc[i, 0] = file_\n",
    "        optim_results.iloc[i, 6] = data_tmp.shape[0]\n",
    "\n",
    "\n",
    "    # Run optimizer\n",
    "    if ddm_model == 'ddm':\n",
    "        out = differential_evolution(log_p_ddm, \n",
    "                                     bounds = [(v_range[0],v_range[1]), \n",
    "                                               (a_range[0], a_range[1]), \n",
    "                                               (w_range[0], w_range[1]),\n",
    "                                               (c1_range[0], c1_range[1]),\n",
    "                                               (c2_range[0], c2_range[1])], \n",
    "                                     args = (model, data_feed_tmp), \n",
    "                                     popsize = 30)\n",
    "    \n",
    "    if ddm_model == 'flexbound':\n",
    "        out = differential_evolution(log_p_flexbound, \n",
    "                                     bounds = [(v_range[0],v_range[1]), \n",
    "                                               (a_range[0], a_range[1]), \n",
    "                                               (w_range[0], w_range[1]),\n",
    "                                               (c1_range[0], c1_range[1]),\n",
    "                                               (c2_range[0], c2_range[1])], \n",
    "                                     args = (model, data_feed_tmp), \n",
    "                                     popsize = 30)\n",
    "    \n",
    "    print(out.x)\n",
    "    \n",
    "    # Store result in output file\n",
    "    if ddm_model == 'ddm':\n",
    "        optim_results.iloc[i, 1:4] = out.x\n",
    "        \n",
    "    if ddm_model == 'flexbound':\n",
    "        optim_results.iloc[i, 1:6] = out.x\n",
    "    \n",
    "    #Print and update counter\n",
    "    print(cnt)\n",
    "    cnt += 1\n",
    "# -----------------------\n",
    "\n",
    "\n",
    "# Save optimization results to file\n",
    "optim_results.to_csv(os.getcwd() + '/experiments/ddm_flexbound_kde_mle_fix_a_3_c1_0_v_0_w_unbiased/optim_results.csv')"
   ]
  },
  {
   "cell_type": "code",
   "execution_count": 5,
   "metadata": {},
   "outputs": [],
   "source": [
    "optim_results.to_csv(os.getcwd() + '/experiments/optim_results.csv')"
   ]
  },
  {
   "cell_type": "code",
   "execution_count": 81,
   "metadata": {},
   "outputs": [],
   "source": [
    "optim_results = pd.read_csv(os.getcwd() + '/experiments/ddm_flexbound_kde_mle_restricted_range_a_1_2/optim_results.csv')"
   ]
  },
  {
   "cell_type": "code",
   "execution_count": 103,
   "metadata": {},
   "outputs": [],
   "source": [
    "optim_results.to_csv(os.getcwd() + '/experiments/ddm_flexbound_kde_mle_fix_a_3_c1_0_v_0_w_unbiased/optim_results.csv')"
   ]
  },
  {
   "cell_type": "code",
   "execution_count": 112,
   "metadata": {},
   "outputs": [
    {
     "data": {
      "text/plain": [
       "<matplotlib.collections.PathCollection at 0x7fca391854a8>"
      ]
     },
     "execution_count": 112,
     "metadata": {},
     "output_type": "execute_result"
    },
    {
     "data": {
      "image/png": "[encoded data removed]",
      "text/plain": [
       "<Figure size 432x288 with 1 Axes>"
      ]
     },
     "metadata": {},
     "output_type": "display_data"
    }
   ],
   "source": [
    "plt.scatter(optim_results['v_sim'], optim_results['v_mle'])"
   ]
  },
  {
   "cell_type": "code",
   "execution_count": 113,
   "metadata": {},
   "outputs": [
    {
     "data": {
      "text/plain": [
       "0.9497498518193398"
      ]
     },
     "execution_count": 113,
     "metadata": {},
     "output_type": "execute_result"
    }
   ],
   "source": [
    "# Regression for v\n",
    "reg = LinearRegression().fit(np.expand_dims(optim_results['v_mle'], 1), np.expand_dims(optim_results['v_sim'], 1))\n",
    "reg.score(np.expand_dims(optim_results['v_mle'], 1), np.expand_dims(optim_results['v_sim'], 1))"
   ]
  },
  {
   "cell_type": "code",
   "execution_count": 114,
   "metadata": {},
   "outputs": [
    {
     "data": {
      "text/plain": [
       "<matplotlib.collections.PathCollection at 0x7fca38689438>"
      ]
     },
     "execution_count": 114,
     "metadata": {},
     "output_type": "execute_result"
    },
    {
     "data": {
      "image/png": "[encoded data removed]",
      "text/plain": [
       "<Figure size 432x288 with 1 Axes>"
      ]
     },
     "metadata": {},
     "output_type": "display_data"
    }
   ],
   "source": [
    "plt.scatter(optim_results['a_sim'], optim_results['a_mle'])"
   ]
  },
  {
   "cell_type": "code",
   "execution_count": 85,
   "metadata": {},
   "outputs": [
    {
     "data": {
      "text/plain": [
       "0.6443843705736809"
      ]
     },
     "execution_count": 85,
     "metadata": {},
     "output_type": "execute_result"
    }
   ],
   "source": [
    "# Regression for a\n",
    "reg = LinearRegression().fit(np.expand_dims(optim_results['a_mle'], 1), np.expand_dims(optim_results['a_sim'], 1))\n",
    "reg.score(np.expand_dims(optim_results['a_mle'], 1), np.expand_dims(optim_results['a_sim'], 1))"
   ]
  },
  {
   "cell_type": "code",
   "execution_count": 115,
   "metadata": {},
   "outputs": [
    {
     "data": {
      "text/plain": [
       "<matplotlib.collections.PathCollection at 0x7fca386692e8>"
      ]
     },
     "execution_count": 115,
     "metadata": {},
     "output_type": "execute_result"
    },
    {
     "data": {
      "image/png": "[encoded data removed]",
      "text/plain": [
       "<Figure size 432x288 with 1 Axes>"
      ]
     },
     "metadata": {},
     "output_type": "display_data"
    }
   ],
   "source": [
    "plt.scatter(optim_results['w_sim'], optim_results['w_mle'])"
   ]
  },
  {
   "cell_type": "code",
   "execution_count": 95,
   "metadata": {},
   "outputs": [
    {
     "data": {
      "text/plain": [
       "0.9537800734751378"
      ]
     },
     "execution_count": 95,
     "metadata": {},
     "output_type": "execute_result"
    }
   ],
   "source": [
    "# Regression for w\n",
    "reg = LinearRegression().fit(np.expand_dims(optim_results['w_mle'], 1), np.expand_dims(optim_results['w_sim'], 1))\n",
    "reg.score(np.expand_dims(optim_results['w_mle'], 1), np.expand_dims(optim_results['w_sim'], 1))"
   ]
  },
  {
   "cell_type": "code",
   "execution_count": 116,
   "metadata": {},
   "outputs": [
    {
     "data": {
      "text/plain": [
       "<matplotlib.collections.PathCollection at 0x7fca385ca198>"
      ]
     },
     "execution_count": 116,
     "metadata": {},
     "output_type": "execute_result"
    },
    {
     "data": {
      "image/png": "[encoded data removed]",
      "text/plain": [
       "<Figure size 432x288 with 1 Axes>"
      ]
     },
     "metadata": {},
     "output_type": "display_data"
    }
   ],
   "source": [
    "plt.scatter(optim_results['c1_sim'], optim_results['c1_mle'])"
   ]
  },
  {
   "cell_type": "code",
   "execution_count": 96,
   "metadata": {},
   "outputs": [
    {
     "data": {
      "text/plain": [
       "0.5987484115699703"
      ]
     },
     "execution_count": 96,
     "metadata": {},
     "output_type": "execute_result"
    }
   ],
   "source": [
    "# Regression for c1\n",
    "reg = LinearRegression().fit(np.expand_dims(optim_results['c1_mle'], 1), np.expand_dims(optim_results['c1_sim'], 1))\n",
    "reg.score(np.expand_dims(optim_results['c1_mle'], 1), np.expand_dims(optim_results['c1_sim'], 1))"
   ]
  },
  {
   "cell_type": "code",
   "execution_count": 117,
   "metadata": {},
   "outputs": [
    {
     "data": {
      "text/plain": [
       "<matplotlib.collections.PathCollection at 0x7fca385a2c50>"
      ]
     },
     "execution_count": 117,
     "metadata": {},
     "output_type": "execute_result"
    },
    {
     "data": {
      "image/png": "[encoded data removed]",
      "text/plain": [
       "<Figure size 432x288 with 1 Axes>"
      ]
     },
     "metadata": {},
     "output_type": "display_data"
    }
   ],
   "source": [
    "plt.scatter(optim_results['c2_sim'], optim_results['c2_mle'])"
   ]
  },
  {
   "cell_type": "code",
   "execution_count": 118,
   "metadata": {},
   "outputs": [
    {
     "data": {
      "text/plain": [
       "0.9331910158215198"
      ]
     },
     "execution_count": 118,
     "metadata": {},
     "output_type": "execute_result"
    }
   ],
   "source": [
    "# Regression for w\n",
    "reg = LinearRegression().fit(np.expand_dims(optim_results['c2_mle'], 1), np.expand_dims(optim_results['c2_sim'], 1))\n",
    "reg.score(np.expand_dims(optim_results['c2_mle'], 1), np.expand_dims(optim_results['c2_sim'], 1))"
   ]
  },
  {
   "cell_type": "code",
   "execution_count": null,
   "metadata": {},
   "outputs": [],
   "source": [
    "# Code for running other optimization methods... (didn't work though)\n",
    "#     out = minimize(log_p,\n",
    "    #                    x0 = np.array([0, 1, 0.5]),\n",
    "    #                    bounds = [(v_range[0],v_range[1]), \n",
    "    #                                            (a_range[0], a_range[1]), \n",
    "    #                                            (w_range[0], w_range[1])],\n",
    "    #                   args = (model, ddm_dat_tmp),\n",
    "    #                   method = 'Nelder-Mead'\n",
    "    #                   )\n",
    "    \n",
    "    # Print current result"
   ]
  }
 ],
 "metadata": {
  "kernelspec": {
   "display_name": "tf-gpu",
   "language": "python",
   "name": "tf-gpu"
  },
  "language_info": {
   "codemirror_mode": {
    "name": "ipython",
    "version": 3
   },
   "file_extension": ".py",
   "mimetype": "text/x-python",
   "name": "python",
   "nbconvert_exporter": "python",
   "pygments_lexer": "ipython3",
   "version": "3.6.6"
  }
 },
 "nbformat": 4,
 "nbformat_minor": 2
}
