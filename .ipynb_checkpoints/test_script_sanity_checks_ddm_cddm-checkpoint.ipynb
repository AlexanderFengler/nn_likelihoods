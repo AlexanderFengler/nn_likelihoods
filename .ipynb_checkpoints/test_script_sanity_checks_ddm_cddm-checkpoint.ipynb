{
 "cells": [
  {
   "cell_type": "code",
   "execution_count": 2,
   "metadata": {},
   "outputs": [],
   "source": [
    "import cddm_data_simulation as cds\n",
    "import ddm_data_simulation as ds\n",
    "import numpy as np\n",
    "import matplotlib.pyplot as plt\n",
    "import boundary_functions as bf"
   ]
  },
  {
   "cell_type": "code",
   "execution_count": null,
   "metadata": {},
   "outputs": [],
   "source": [
    "# DDM\n",
    "cdat = cds.ddm_simulate(a = 3, v = 1, n_samples = 5000)\n",
    "dat = ds.ddm_simulate(a = 3, v = 1, n_samples = 5000)"
   ]
  },
  {
   "cell_type": "code",
   "execution_count": null,
   "metadata": {},
   "outputs": [],
   "source": [
    "plt.hist(cdat[0] * cdat[1], bins = np.arange(-15, 15, 0.5))\n",
    "plt.xlim(- 15, 15)"
   ]
  },
  {
   "cell_type": "code",
   "execution_count": null,
   "metadata": {},
   "outputs": [],
   "source": [
    "plt.hist(dat[0] * dat[1], bins = np.arange(-15, 15, 0.5))\n",
    "plt.xlim(- 15, 15)"
   ]
  },
  {
   "cell_type": "code",
   "execution_count": null,
   "metadata": {},
   "outputs": [],
   "source": [
    "# DDM Flexbound\n",
    "cdat = cds.ddm_flexbound_simulate(a = 1, boundary_fun = bf.constant, n_samples = 5000)"
   ]
  },
  {
   "cell_type": "code",
   "execution_count": null,
   "metadata": {},
   "outputs": [],
   "source": [
    "dat = ds.ddm_flexbound_simulate(a = 1, boundary_fun = bf.constant, boundary_params = {}, n_samples = 5000)"
   ]
  },
  {
   "cell_type": "code",
   "execution_count": null,
   "metadata": {},
   "outputs": [],
   "source": [
    "plt.hist(cdat[0] * cdat[1], bins = np.arange(-15, 15, 0.5))"
   ]
  },
  {
   "cell_type": "code",
   "execution_count": null,
   "metadata": {},
   "outputs": [],
   "source": [
    "plt.hist(dat[0] * dat[1], bins = np.arange(-15, 15, 0.5))"
   ]
  },
  {
   "cell_type": "code",
   "execution_count": null,
   "metadata": {},
   "outputs": [],
   "source": [
    "# Full ddm\n",
    "dat = ds.full_ddm(boundary_fun = bf.constant,\n",
    "                  boundary_params = {}, n_samples = 5000)"
   ]
  },
  {
   "cell_type": "code",
   "execution_count": null,
   "metadata": {},
   "outputs": [],
   "source": [
    "cdat = cds.full_ddm(boundary_fun = bf.constant, \n",
    "                    boundary_params = {}, n_samples = 2000,\n",
    "                    w = 0.7, v = 0.5, a = 2, dw = 0.05)"
   ]
  },
  {
   "cell_type": "code",
   "execution_count": null,
   "metadata": {},
   "outputs": [],
   "source": [
    "plt.hist(dat[0] * dat[1], bins = np.arange(-5, 5, 0.25))"
   ]
  },
  {
   "cell_type": "code",
   "execution_count": null,
   "metadata": {},
   "outputs": [],
   "source": [
    "plt.hist(cdat[0] * cdat[1], bins = np.arange(-10, 10, 0.25))"
   ]
  },
  {
   "cell_type": "code",
   "execution_count": null,
   "metadata": {},
   "outputs": [],
   "source": [
    "# Ornstein\n",
    "np.unique(cdat[1])"
   ]
  },
  {
   "cell_type": "code",
   "execution_count": null,
   "metadata": {},
   "outputs": [],
   "source": [
    "samp = np.zeros(100000)\n",
    "for i in range(100000):\n",
    "    samp[i] = 2 * (cds.samp_unif() - 0.5) * 0.05"
   ]
  },
  {
   "cell_type": "code",
   "execution_count": null,
   "metadata": {},
   "outputs": [],
   "source": [
    "plt.hist(samp)"
   ]
  },
  {
   "cell_type": "code",
   "execution_count": null,
   "metadata": {},
   "outputs": [],
   "source": []
  }
 ],
 "metadata": {
  "kernelspec": {
   "display_name": "Python 3",
   "language": "python",
   "name": "python3"
  },
  "language_info": {
   "codemirror_mode": {
    "name": "ipython",
    "version": 3
   },
   "file_extension": ".py",
   "mimetype": "text/x-python",
   "name": "python",
   "nbconvert_exporter": "python",
   "pygments_lexer": "ipython3",
   "version": "3.7.3"
  }
 },
 "nbformat": 4,
 "nbformat_minor": 2
}
