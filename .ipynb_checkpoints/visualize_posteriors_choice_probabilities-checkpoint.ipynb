{
 "cells": [
  {
   "cell_type": "code",
   "execution_count": 2,
   "metadata": {},
   "outputs": [],
   "source": [
    "import choice_probabilities_mcmc as cpmcmc\n",
    "import numpy as np\n",
    "import seaborn as sns\n",
    "import scipy.stats as scps\n",
    "import matplotlib.pyplot as plt\n",
    "import pandas as pd\n",
    "import statsmodels as statm"
   ]
  },
  {
   "cell_type": "code",
   "execution_count": 3,
   "metadata": {},
   "outputs": [],
   "source": [
    "cl = cpmcmc.choice_probabilities_analytic_mh()"
   ]
  },
  {
   "cell_type": "code",
   "execution_count": 4,
   "metadata": {},
   "outputs": [],
   "source": [
    "# Model parameters\n",
    "cl.model_num = 0\n",
    "cl.model_time = '09_03_18_17_28_21'\n",
    "cl.model_signature = '_choice_probabilities_analytic_'\n",
    "cl.model_checkpoint = 'final'"
   ]
  },
  {
   "cell_type": "code",
   "execution_count": 5,
   "metadata": {},
   "outputs": [],
   "source": [
    "# Data simulation parameters\n",
    "cl.data_sim_params['v'] = -1\n",
    "cl.data_sim_params['a'] = 1\n",
    "cl.data_sim_params['n_samples'] = 1000"
   ]
  },
  {
   "cell_type": "code",
   "execution_count": 6,
   "metadata": {},
   "outputs": [
    {
     "data": {
      "text/plain": [
       "'/home/afengler/git_repos/nn_likelihoods/keras_models/dnnregressor_choice_probabilities_analytic_09_03_18_17_28_21/model_0'"
      ]
     },
     "execution_count": 6,
     "metadata": {},
     "output_type": "execute_result"
    }
   ],
   "source": [
    "# Make paths\n",
    "cl.make_checkpoint_path()\n",
    "cl.make_model_path()\n",
    "cl.model_path"
   ]
  },
  {
   "cell_type": "code",
   "execution_count": 7,
   "metadata": {},
   "outputs": [
    {
     "name": "stdout",
     "output_type": "stream",
     "text": [
      "datapoint 0 generated\n",
      "label 0 generated\n"
     ]
    }
   ],
   "source": [
    "# Make dataset\n",
    "cl.make_data_set()"
   ]
  },
  {
   "cell_type": "code",
   "execution_count": 8,
   "metadata": {},
   "outputs": [],
   "source": [
    "# Get predictor\n",
    "cl.get_dnn_keras()"
   ]
  },
  {
   "cell_type": "code",
   "execution_count": 9,
   "metadata": {},
   "outputs": [
    {
     "data": {
      "text/plain": [
       "array([[-500.40198737]])"
      ]
     },
     "execution_count": 9,
     "metadata": {},
     "output_type": "execute_result"
    }
   ],
   "source": [
    "cl.get_log_posterior()"
   ]
  },
  {
   "cell_type": "code",
   "execution_count": null,
   "metadata": {},
   "outputs": [
    {
     "name": "stdout",
     "output_type": "stream",
     "text": [
      "0\n",
      "1000\n",
      "2000\n",
      "3000\n",
      "4000\n",
      "5000\n"
     ]
    }
   ],
   "source": [
    "cl.mcmc_params['n_samples'] = 10000\n",
    "cl.mcmc_params['cov_init'] = np.array([[0.1, 0.0], [0, 0.1]])\n",
    "cl.metropolis_hastings_custom(method = 'dnn',\n",
    "                              variance_scale_param = 0.5,\n",
    "                              variance_epsilon = 0.05,\n",
    "                              write_to_file = True,\n",
    "                              print_steps = False)"
   ]
  },
  {
   "cell_type": "code",
   "execution_count": 11,
   "metadata": {},
   "outputs": [
    {
     "data": {
      "text/plain": [
       "{'acc_cnt': 1401}"
      ]
     },
     "execution_count": 11,
     "metadata": {},
     "output_type": "execute_result"
    }
   ],
   "source": [
    "cl.chain_stats"
   ]
  },
  {
   "cell_type": "code",
   "execution_count": null,
   "metadata": {},
   "outputs": [],
   "source": []
  },
  {
   "cell_type": "code",
   "execution_count": null,
   "metadata": {},
   "outputs": [],
   "source": [
    "def v_a_curve(x = 0.5, sign = 1):\n",
    "    curve = pd.DataFrame(np.zeros((999, 2)), columns = ['v', 'a'])\n",
    "    cnt = 0\n",
    "    for v_tmp in np.arange(0.01 * sign, 10 * sign, 0.01 * sign):\n",
    "        a_tmp = np.log((1 - x) / x) / v_tmp\n",
    "        curve.loc[cnt] = [v_tmp, a_tmp]\n",
    "        cnt += 1\n",
    "    return curve\n",
    "\n",
    "def v_a_curve_prime(x = 0.5, v_star = 1):\n",
    "    curve_prime = pd.DataFrame(np.zeros((999, 2)), columns = ['v', 'a'])\n",
    "    cnt = 0\n",
    "    for v_tmp in np.arange(0.01 * np.sign(v_star), 10 * np.sign(v_star), 0.01 * np.sign(v_star)):\n",
    "        a_tmp = - (np.log((1 - x) / x) / np.power(v_star, 2)) * v_tmp + (2 * (np.log((1-x)/x)) / v_star)\n",
    "        curve_prime.loc[cnt] = [v_tmp, a_tmp]\n",
    "        cnt += 1\n",
    "        \n",
    "    return curve_prime"
   ]
  },
  {
   "cell_type": "code",
   "execution_count": null,
   "metadata": {},
   "outputs": [],
   "source": [
    "chain_nn = cl.chain.copy()\n",
    "chain_nn['id'] = chain_nn.index.get_values()\n",
    "\n",
    "curve = v_a_curve(x = cl.data_sim['n_choice_lower'] / cl.data_sim['n_samples'], \n",
    "                  sign = -1)\n",
    "curve = curve.loc[curve['a'] < np.max(chain_nn['a'])].copy()\n",
    "curve = curve.loc[curve['a'] > np.min(chain_nn['a'])].copy()\n",
    "curve = curve.loc[curve['v'] < np.max(chain_nn['v'])].copy()\n",
    "curve = curve.loc[curve['v'] > np.min(chain_nn['v'])].copy()\n",
    "\n",
    "\n",
    "#curve_prime = v_a_curve_prime(x = cl.data_sim['n_choice_lower'] / cl.data_sim['n_samples'], v_star = 1)\n",
    "#curve_prime = curve_prime.loc[curve_prime['a'] < np.max(chain_nn['a'])].copy()\n",
    "#curve_prime = curve_prime.loc[curve_prime['v'] < np.max(chain_nn['v'])].copy()\n",
    "\n",
    "g = sns.jointplot('v', 'a', data = chain_nn, kind = 'kde', space = 0, color = 'g')\n",
    "x0, x1 = g.ax_joint.get_xlim()\n",
    "y0, y1 = g.ax_joint.get_ylim()\n",
    "lims = [max(x0, y0), min(x1, y1)]\n",
    "g.ax_joint.plot(curve['v'], curve['a'], 'r-')\n",
    "#g.ax_joint.plot(curve_prime['v'], curve_prime['a'], 'b-')\n",
    "plt.show()"
   ]
  },
  {
   "cell_type": "code",
   "execution_count": null,
   "metadata": {},
   "outputs": [],
   "source": [
    "# trace plot v\n",
    "ax = sns.lineplot(x = 'id', y = 'v', data = chain_nn)"
   ]
  },
  {
   "cell_type": "code",
   "execution_count": null,
   "metadata": {},
   "outputs": [],
   "source": [
    "# trace plot a\n",
    "ax = sns.lineplot(x = 'id', y = 'a', data = chain_nn)"
   ]
  },
  {
   "cell_type": "code",
   "execution_count": null,
   "metadata": {},
   "outputs": [],
   "source": [
    "# Now sample from actual model\n",
    "cl.priors = {'v': scps.norm(loc = 0, scale = 10),\n",
    "             'a': scps.uniform(loc = 0, scale = 10)}\n",
    "\n",
    "cl.mcmc_params['n_samples'] = 50000\n",
    "cl.mcmc_params['cov_init'] = np.array([[0.1, 0.0], [0, 0.1]])\n",
    "cl.metropolis_hastings(method = 'wfpt')"
   ]
  },
  {
   "cell_type": "code",
   "execution_count": null,
   "metadata": {
    "scrolled": true
   },
   "outputs": [],
   "source": [
    "chain_wfpt = cl.chain.copy()\n",
    "chain_wfpt['id'] = chain_wfpt.index.get_values()\n",
    "\n",
    "curve = v_a_curve(x = cl.data_sim['n_choice_lower'] / cl.data_sim['n_samples'])\n",
    "curve = curve.loc[curve['a'] < np.max(chain_wfpt['a'])].copy()\n",
    "curve = curve.loc[curve['v'] < np.max(chain_wfpt['v'])].copy()\n",
    "\n",
    "# Drawing posterior plot with \n",
    "g = sns.jointplot('v', 'a', data = chain_wfpt, kind = 'kde', space = 0, color = 'g')\n",
    "x0, x1 = g.ax_joint.get_xlim()\n",
    "y0, y1 = g.ax_joint.get_ylim()\n",
    "lims = [max(x0, y0), min(x1, y1)]\n",
    "g.ax_joint.plot(curve['v'], curve['a'], 'r-')\n",
    "plt.show()"
   ]
  },
  {
   "cell_type": "code",
   "execution_count": null,
   "metadata": {},
   "outputs": [],
   "source": [
    "cl.chain.shape"
   ]
  },
  {
   "cell_type": "code",
   "execution_count": null,
   "metadata": {},
   "outputs": [],
   "source": [
    "# trace plot v\n",
    "ax = sns.lineplot(x = 'id', y = 'v', data = chain_wfpt)"
   ]
  },
  {
   "cell_type": "code",
   "execution_count": null,
   "metadata": {},
   "outputs": [],
   "source": [
    "# trace plot a\n",
    "ax = sns.lineplot(x = 'id', y = 'a', data = chain_wfpt)"
   ]
  }
 ],
 "metadata": {
  "kernelspec": {
   "display_name": "tf",
   "language": "python",
   "name": "tf"
  },
  "language_info": {
   "codemirror_mode": {
    "name": "ipython",
    "version": 3
   },
   "file_extension": ".py",
   "mimetype": "text/x-python",
   "name": "python",
   "nbconvert_exporter": "python",
   "pygments_lexer": "ipython3",
   "version": "3.6.5"
  }
 },
 "nbformat": 4,
 "nbformat_minor": 2
}
