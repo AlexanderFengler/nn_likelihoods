{
 "cells": [
  {
   "cell_type": "code",
   "execution_count": null,
   "metadata": {},
   "outputs": [],
   "source": [
    "# Use this notebook as a convenient interface to the ddm data generation functions\n",
    "# For convenience, we can plot aspects of the data to make sure it is suitable as a training set\n",
    "\n",
    "# Loading necessary packages\n",
    "import make_data_wfpt as mdw\n",
    "import matplotlib.pyplot as plt"
   ]
  },
  {
   "cell_type": "code",
   "execution_count": null,
   "metadata": {},
   "outputs": [],
   "source": [
    "# The data generator (rt and choice coming from actual model simulation)\n",
    "data_sim, time_stamp_sim, _ = mdw.make_data_rt_choice(v_range = [-3, 3],\n",
    "                                                    a_range = [0.1, 3],\n",
    "                                                    w_range = [0, 1],\n",
    "                                                    n_samples = 3000000,\n",
    "                                                    f_signature = '_from_simulator_',\n",
    "                                                    method = 'sim',\n",
    "                                                    write_to_file = True,\n",
    "                                                    print_detailed_cnt = False\n",
    "                                                    )"
   ]
  },
  {
   "cell_type": "code",
   "execution_count": null,
   "metadata": {},
   "outputs": [],
   "source": [
    "# The data generator (rt and choices randomly sampled (exact distributions in specified in .py file)\n",
    "data_rand, time_stamp_rand, _ = mdw.make_data_rt_choice(v_range = [-3, 3],\n",
    "                                                        a_range = [0.1, 3],\n",
    "                                                        w_range = [0, 1],\n",
    "                                                        n_samples = 50000,\n",
    "                                                        f_signature = '',\n",
    "                                                        method = 'random',\n",
    "                                                        write_to_file = True,\n",
    "                                                        print_detailed_cnt = False\n",
    "                                                        )"
   ]
  },
  {
   "cell_type": "code",
   "execution_count": null,
   "metadata": {},
   "outputs": [],
   "source": [
    "# Histogram of Likelihood Values (data from model simulations)\n",
    "plt.hist(data_sim['nf_likelihood'])\n",
    "plt.xlim((0,150))"
   ]
  },
  {
   "cell_type": "code",
   "execution_count": null,
   "metadata": {},
   "outputs": [],
   "source": [
    "# Histogram of Likelihood Values (data generated randomly)\n",
    "plt.hist(data_rand['nf_likelihood'])\n",
    "plt.xlim((0,150))"
   ]
  },
  {
   "cell_type": "code",
   "execution_count": null,
   "metadata": {},
   "outputs": [],
   "source": []
  }
 ],
 "metadata": {
  "kernelspec": {
   "display_name": "Python [conda root]",
   "language": "python",
   "name": "conda-root-py"
  },
  "language_info": {
   "codemirror_mode": {
    "name": "ipython",
    "version": 3
   },
   "file_extension": ".py",
   "mimetype": "text/x-python",
   "name": "python",
   "nbconvert_exporter": "python",
   "pygments_lexer": "ipython3",
   "version": "3.6.1"
  }
 },
 "nbformat": 4,
 "nbformat_minor": 2
}
