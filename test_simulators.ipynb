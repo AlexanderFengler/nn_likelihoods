{
 "cells": [
  {
   "cell_type": "code",
   "execution_count": 6,
   "metadata": {},
   "outputs": [],
   "source": [
    "# Environ\n",
    "import scipy as scp\n",
    "import tensorflow as tf\n",
    "from scipy.stats import gamma\n",
    "import numpy as np\n",
    "import pandas as pd\n",
    "import matplotlib.pyplot as plt\n",
    "from sklearn.neighbors import KernelDensity\n",
    "import random\n",
    "import multiprocessing as mp\n",
    "import psutil\n",
    "import pickle\n",
    "import os\n",
    "import re\n",
    "\n",
    "\n",
    "# import dataset_generator as dg\n",
    "# import make_data_lba as mdlba\n",
    "# from tqdm import tqdm\n",
    "\n",
    "# Own\n",
    "import ddm_data_simulation as ds\n",
    "import cddm_data_simulation as cds\n",
    "import kde_training_utilities as kde_util\n",
    "import kde_class as kde\n",
    "import boundary_functions as bf"
   ]
  },
  {
   "cell_type": "code",
   "execution_count": null,
   "metadata": {},
   "outputs": [],
   "source": [
    "# DDM  \n",
    "repeats = 1\n",
    "my_means = np.zeros(repeats)\n",
    "for i in range(repeats):\n",
    "    out = cds.ddm_flexbound(v = 0, \n",
    "                            a = 0.96,\n",
    "                            w = 0.5,\n",
    "                            ndt = 0.5,\n",
    "                            delta_t = 0.01, \n",
    "                            max_t = 20,\n",
    "                            n_samples = 20000,\n",
    "                            boundary_fun = bf.weibull_cdf,\n",
    "                            boundary_multiplicative = False, \n",
    "                            boundary_params = {'a': 1, 'beta': 2})\n",
    "                            #boundary_params = {\"theta\": 0.01})\n",
    "    print(i)\n",
    "    \n",
    "    my_means[i] = np.mean(out[0][out[1] == 1])"
   ]
  },
  {
   "cell_type": "code",
   "execution_count": null,
   "metadata": {},
   "outputs": [],
   "source": [
    "def bin_simulator_output(out = [0, 0],\n",
    "                         bin_dt = 0.04,\n",
    "                         n_bins = 0,\n",
    "                         eps_correction = 1e-7, # min p for a bin\n",
    "                         params = ['v', 'a', 'w', 'ndt']\n",
    "                        ): # ['v', 'a', 'w', 'ndt', 'angle']\n",
    "\n",
    "    # Generate bins\n",
    "    if n_bins == 0:\n",
    "        n_bins = int(out[2]['max_t'] / bin_dt)\n",
    "        bins = np.linspace(0, out[2]['max_t'], n_bins)\n",
    "    else:    \n",
    "        bins = np.linspace(0, out[2]['max_t'], n_bins)\n",
    "        bins = np.append(bins, [100])\n",
    "        print(bins)\n",
    "    counts = []\n",
    "    cnt = 0\n",
    "    counts = np.zeros( (n_bins, len(out[2]['possible_choices']) ) )\n",
    "    counts_size = counts.shape[0] * counts.shape[1]\n",
    "    \n",
    "    for choice in out[2]['possible_choices']:\n",
    "        counts[:, cnt] = np.histogram(out[0][out[1] == choice], bins = bins)[0] / out[2]['n_samples']\n",
    "        cnt += 1\n",
    "    \n",
    "    # Apply correction for empty bins\n",
    "    n_small = 0\n",
    "    n_big = 0\n",
    "    n_small = np.sum(counts < eps_correction)\n",
    "    n_big = counts_size - n_small \n",
    "    \n",
    "    if eps_correction > 0:\n",
    "        counts[counts <= eps_correction] = eps_correction\n",
    "        counts[counts > eps_correction] -= (eps_correction * (n_small / n_big))\n",
    "\n",
    "    return ([out[2][param] for param in params], # features\n",
    "            counts, # labels\n",
    "            {'max_t': out[2]['max_t'], \n",
    "             'bin_dt': bin_dt, \n",
    "             'n_samples': out[2]['n_samples']} # meta data\n",
    "           )"
   ]
  },
  {
   "cell_type": "code",
   "execution_count": null,
   "metadata": {},
   "outputs": [],
   "source": [
    "#%%timeit -n 1 -r 5\n",
    "a, b = bin_simulator_output(out = out)"
   ]
  },
  {
   "cell_type": "code",
   "execution_count": 184,
   "metadata": {},
   "outputs": [
    {
     "name": "stdout",
     "output_type": "stream",
     "text": [
      "36.2 s ± 0 ns per loop (mean ± std. dev. of 1 run, 5 loops each)\n"
     ]
    }
   ],
   "source": [
    "%%timeit -n 5 -r 1\n",
    "out = cds.ornstein_uhlenbeck(v = 0.0,\n",
    "                             a = 1.5,\n",
    "                             w = 0.5,\n",
    "                             g = 0,\n",
    "                             ndt = 0.92,\n",
    "                             delta_t = 0.001,\n",
    "                             boundary_fun = bf.constant,\n",
    "                             n_samples = 100000)"
   ]
  },
  {
   "cell_type": "code",
   "execution_count": null,
   "metadata": {},
   "outputs": [],
   "source": []
  },
  {
   "cell_type": "code",
   "execution_count": null,
   "metadata": {},
   "outputs": [],
   "source": [
    "binned_sims = bin_simulator_output(out = out,\n",
    "                                   n_bins = 256,\n",
    "                                   eps_correction = 1e-7,\n",
    "                                   params = ['v', 'a', 'w', 'g', 'ndt'])"
   ]
  },
  {
   "cell_type": "code",
   "execution_count": 181,
   "metadata": {},
   "outputs": [
    {
     "name": "stdout",
     "output_type": "stream",
     "text": [
      "1min 10s ± 0 ns per loop (mean ± std. dev. of 1 run, 5 loops each)\n"
     ]
    }
   ],
   "source": [
    "%%timeit -n 5 -r 1\n",
    "out = cds.ddm_flexbound_seq2(v_h = 0,\n",
    "                             v_l_1 = 0,\n",
    "                             v_l_2 = 0,\n",
    "                             a = 1.5,\n",
    "                             w_h = 0.5,\n",
    "                             w_l_1 = 0.5,\n",
    "                             w_l_2 = 0.5,\n",
    "                             ndt = 0.5,\n",
    "                             s = 1,\n",
    "                             delta_t = 0.001,\n",
    "                             max_t = 20,\n",
    "                             n_samples = 100000,\n",
    "                             print_info = True,\n",
    "                             boundary_fun = bf.constant, # function of t (and potentially other parameters) that takes in (t, *args)\n",
    "                             boundary_multiplicative = True,\n",
    "                             boundary_params = {})"
   ]
  },
  {
   "cell_type": "code",
   "execution_count": 180,
   "metadata": {},
   "outputs": [
    {
     "name": "stdout",
     "output_type": "stream",
     "text": [
      "1min 9s ± 0 ns per loop (mean ± std. dev. of 1 run, 5 loops each)\n"
     ]
    }
   ],
   "source": [
    "%%timeit -n 5 -r 1\n",
    "out = cds.ddm_flexbound_par2(v_h = 0,\n",
    "                             v_l_1 = 0,\n",
    "                             v_l_2 = 0,\n",
    "                             a = 1.5,\n",
    "                             w_h = 0.5,\n",
    "                             w_l_1 = 0.5,\n",
    "                             w_l_2 = 0.5,\n",
    "                             ndt = 0.5,\n",
    "                             s = 1,\n",
    "                             delta_t = 0.001,\n",
    "                             max_t = 20,\n",
    "                             n_samples = 100000,\n",
    "                             print_info = True,\n",
    "                             boundary_fun = bf.constant, # function of t (and potentially other parameters) that takes in (t, *args)\n",
    "                             boundary_multiplicative = True,\n",
    "                             boundary_params = {})"
   ]
  },
  {
   "cell_type": "code",
   "execution_count": 178,
   "metadata": {},
   "outputs": [
    {
     "name": "stdout",
     "output_type": "stream",
     "text": [
      "1min 12s ± 0 ns per loop (mean ± std. dev. of 1 run, 5 loops each)\n"
     ]
    }
   ],
   "source": [
    "%%timeit -n 5 -r 1 \n",
    "out = cds.ddm_flexbound_mic2(v_h = 0.0,\n",
    "                             v_l_1 = 0.0,\n",
    "                             v_l_2 = 0.0,\n",
    "                             a = 1.5,\n",
    "                             w_h = 0.5,\n",
    "                             w_l_1 = 0.5,\n",
    "                             w_l_2 = 0.5,\n",
    "                             d = 1.0, \n",
    "                             ndt = 0.5,\n",
    "                             s = 1,\n",
    "                             delta_t = 0.001,\n",
    "                             max_t = 20,\n",
    "                             n_samples = 100000,\n",
    "                             print_info = True,\n",
    "                             boundary_fun = bf.constant, # function of t (and potentially other parameters) that takes in (t, *args)\n",
    "                             boundary_multiplicative = True,\n",
    "                             boundary_params = {})"
   ]
  },
  {
   "cell_type": "code",
   "execution_count": 179,
   "metadata": {},
   "outputs": [
    {
     "data": {
      "text/plain": [
       "(array([  0.,   0.,   0.,   0.,   0.,   0.,   0.,   0.,   0.,   0.,   0.,\n",
       "          0.,   0.,   0.,   0.,   0.,   0.,   0.,   0.,   3.,   0.,   7.,\n",
       "         18.,  24.,  26.,  40.,  37.,  66.,  79.,  82., 116., 115., 119.,\n",
       "        143., 166., 179., 176., 189., 203., 195., 217., 215., 239., 208.,\n",
       "        218., 233., 240., 232., 230., 252., 264., 254., 271., 283., 275.,\n",
       "        280., 270., 266., 283., 282., 293., 246., 250., 252., 273., 276.,\n",
       "        261., 263., 265., 236., 250., 279., 216., 248., 220., 240., 232.,\n",
       "        221., 246., 231., 213., 218., 214., 210., 196., 230., 202., 205.,\n",
       "        195., 222., 216., 185., 183., 161., 177., 188., 173., 177., 174.,\n",
       "        176., 166., 172., 176., 161., 158., 149., 158., 138., 185., 148.,\n",
       "        140., 145., 156., 139., 129., 130., 105., 119., 141., 104., 116.,\n",
       "        112., 121., 106., 117., 109.,  96.,  95.,  93., 116., 110.,  99.,\n",
       "         97.,  88.,  96.,  88.,  93.,  84.,  80.,  77.,  86.,  71.,  73.,\n",
       "         88.,  70.,  81.,  91.,  68.,  66.,  84.,  65.,  60.,  67.,  55.,\n",
       "         75.,  68.,  67.,  49.,  56.,  47.,  52.,  61.,  52.,  43.,  56.,\n",
       "         54.,  53.,  53.,  50.,  40.,  59.,  41.,  43.,  38.,  33.,  42.,\n",
       "         41.,  42.,  24.,  41.,  33.,  44.,  43.,  42.,  33.,  42.,  41.,\n",
       "         39.,  29.,  39.,  32.,  30.,  26.,  33.,  34.,  31.,  24.,  31.,\n",
       "         23.,  23.,  29.,  24.,  35.,  27.,  29.,  26.,  19.,  24.,  15.,\n",
       "         29.,  19.,  18.,  16.,  21.,  23.,  16.,  16.,  21.,  11.,  15.,\n",
       "         17.,  14.,  18.,  17.,  20.,  16.,  21.,  14.,  15.,  14.,  16.,\n",
       "         12.,  13.,  12.,  10.,  15.,  11.,  15.,   8.,   7.,  14.,  15.,\n",
       "         14.,  12.,   7.,  13.,   6.,  12.,  11.,   8.,   6.,  14.,  15.,\n",
       "          5.,   8.,   7.,   8.,   8.,   7.,   5.,   5.,   7.,   7.,   8.,\n",
       "          6.,   9.,   6.,  11.,  11.,   7.,   6.,   8.,   5.,   7.,   3.,\n",
       "          5.,   2.,   3.,   1.,   4.,  10.,   7.,   5.,   2.,   2.,   4.,\n",
       "          5.,   6.,   3.,   1.,   3.,   2.,   2.,   7.,   3.,   4.,   2.,\n",
       "          7.,   2.,   1.,   4.,   5.,   8.,   0.,   1.,   1.,   1.,   2.,\n",
       "          3.,   1.,   2.,   1.,   2.,   0.,   1.,   0.,   1.,   3.,   1.,\n",
       "          2.,   1.,   3.,   3.,   3.,   1.,   4.,   3.,   3.,   2.,   1.,\n",
       "          1.,   0.,   0.,   1.,   2.,   1.,   1.,   1.,   1.,   1.,   1.,\n",
       "          0.,   1.,   0.,   2.,   0.,   3.,   0.,   0.,   2.,   0.,   1.,\n",
       "          4.,   1.,   0.,   1.,   3.,   1.,   3.,   1.,   2.,   0.,   1.,\n",
       "          0.,   2.,   0.,   1.,   1.,   2.,   2.,   1.,   0.,   2.,   0.,\n",
       "          0.,   0.,   1.,   0.,   1.,   1.,   1.,   1.,   1.,   0.,   1.,\n",
       "          0.,   1.,   1.,   0.,   0.,   0.,   1.,   0.,   0.,   0.,   1.,\n",
       "          0.,   1.,   2.,   0.,   1.,   0.,   0.,   0.,   0.,   2.,   1.,\n",
       "          0.,   1.,   1.,   0.,   0.,   0.,   0.,   1.,   0.,   1.,   0.,\n",
       "          0.,   1.,   1.,   2.,   1.,   0.,   0.,   1.,   0.,   1.,   1.,\n",
       "          0.,   0.,   1.,   0.,   0.,   0.,   0.,   0.,   0.,   1.,   1.,\n",
       "          0.,   0.,   0.,   0.,   0.,   0.,   0.,   0.,   1.,   0.,   0.,\n",
       "          0.,   1.,   0.,   0.,   0.,   0.,   0.,   0.,   0.,   0.,   0.,\n",
       "          0.,   0.,   0.,   0.,   0.,   0.,   0.,   0.,   0.,   0.,   0.,\n",
       "          0.,   0.,   0.,   0.,   0.,   0.,   0.,   0.,   0.,   0.,   0.,\n",
       "          0.,   0.,   0.,   0.,   0.,   1.,   0.,   0.,   0.,   0.,   0.,\n",
       "          0.,   0.,   0.,   0.,   0.,   0.,   0.,   1.,   0.,   0.,   0.,\n",
       "          0.,   0.,   0.,   0.,   0.]),\n",
       " array([ 0.       ,  0.0390625,  0.078125 ,  0.1171875,  0.15625  ,\n",
       "         0.1953125,  0.234375 ,  0.2734375,  0.3125   ,  0.3515625,\n",
       "         0.390625 ,  0.4296875,  0.46875  ,  0.5078125,  0.546875 ,\n",
       "         0.5859375,  0.625    ,  0.6640625,  0.703125 ,  0.7421875,\n",
       "         0.78125  ,  0.8203125,  0.859375 ,  0.8984375,  0.9375   ,\n",
       "         0.9765625,  1.015625 ,  1.0546875,  1.09375  ,  1.1328125,\n",
       "         1.171875 ,  1.2109375,  1.25     ,  1.2890625,  1.328125 ,\n",
       "         1.3671875,  1.40625  ,  1.4453125,  1.484375 ,  1.5234375,\n",
       "         1.5625   ,  1.6015625,  1.640625 ,  1.6796875,  1.71875  ,\n",
       "         1.7578125,  1.796875 ,  1.8359375,  1.875    ,  1.9140625,\n",
       "         1.953125 ,  1.9921875,  2.03125  ,  2.0703125,  2.109375 ,\n",
       "         2.1484375,  2.1875   ,  2.2265625,  2.265625 ,  2.3046875,\n",
       "         2.34375  ,  2.3828125,  2.421875 ,  2.4609375,  2.5      ,\n",
       "         2.5390625,  2.578125 ,  2.6171875,  2.65625  ,  2.6953125,\n",
       "         2.734375 ,  2.7734375,  2.8125   ,  2.8515625,  2.890625 ,\n",
       "         2.9296875,  2.96875  ,  3.0078125,  3.046875 ,  3.0859375,\n",
       "         3.125    ,  3.1640625,  3.203125 ,  3.2421875,  3.28125  ,\n",
       "         3.3203125,  3.359375 ,  3.3984375,  3.4375   ,  3.4765625,\n",
       "         3.515625 ,  3.5546875,  3.59375  ,  3.6328125,  3.671875 ,\n",
       "         3.7109375,  3.75     ,  3.7890625,  3.828125 ,  3.8671875,\n",
       "         3.90625  ,  3.9453125,  3.984375 ,  4.0234375,  4.0625   ,\n",
       "         4.1015625,  4.140625 ,  4.1796875,  4.21875  ,  4.2578125,\n",
       "         4.296875 ,  4.3359375,  4.375    ,  4.4140625,  4.453125 ,\n",
       "         4.4921875,  4.53125  ,  4.5703125,  4.609375 ,  4.6484375,\n",
       "         4.6875   ,  4.7265625,  4.765625 ,  4.8046875,  4.84375  ,\n",
       "         4.8828125,  4.921875 ,  4.9609375,  5.       ,  5.0390625,\n",
       "         5.078125 ,  5.1171875,  5.15625  ,  5.1953125,  5.234375 ,\n",
       "         5.2734375,  5.3125   ,  5.3515625,  5.390625 ,  5.4296875,\n",
       "         5.46875  ,  5.5078125,  5.546875 ,  5.5859375,  5.625    ,\n",
       "         5.6640625,  5.703125 ,  5.7421875,  5.78125  ,  5.8203125,\n",
       "         5.859375 ,  5.8984375,  5.9375   ,  5.9765625,  6.015625 ,\n",
       "         6.0546875,  6.09375  ,  6.1328125,  6.171875 ,  6.2109375,\n",
       "         6.25     ,  6.2890625,  6.328125 ,  6.3671875,  6.40625  ,\n",
       "         6.4453125,  6.484375 ,  6.5234375,  6.5625   ,  6.6015625,\n",
       "         6.640625 ,  6.6796875,  6.71875  ,  6.7578125,  6.796875 ,\n",
       "         6.8359375,  6.875    ,  6.9140625,  6.953125 ,  6.9921875,\n",
       "         7.03125  ,  7.0703125,  7.109375 ,  7.1484375,  7.1875   ,\n",
       "         7.2265625,  7.265625 ,  7.3046875,  7.34375  ,  7.3828125,\n",
       "         7.421875 ,  7.4609375,  7.5      ,  7.5390625,  7.578125 ,\n",
       "         7.6171875,  7.65625  ,  7.6953125,  7.734375 ,  7.7734375,\n",
       "         7.8125   ,  7.8515625,  7.890625 ,  7.9296875,  7.96875  ,\n",
       "         8.0078125,  8.046875 ,  8.0859375,  8.125    ,  8.1640625,\n",
       "         8.203125 ,  8.2421875,  8.28125  ,  8.3203125,  8.359375 ,\n",
       "         8.3984375,  8.4375   ,  8.4765625,  8.515625 ,  8.5546875,\n",
       "         8.59375  ,  8.6328125,  8.671875 ,  8.7109375,  8.75     ,\n",
       "         8.7890625,  8.828125 ,  8.8671875,  8.90625  ,  8.9453125,\n",
       "         8.984375 ,  9.0234375,  9.0625   ,  9.1015625,  9.140625 ,\n",
       "         9.1796875,  9.21875  ,  9.2578125,  9.296875 ,  9.3359375,\n",
       "         9.375    ,  9.4140625,  9.453125 ,  9.4921875,  9.53125  ,\n",
       "         9.5703125,  9.609375 ,  9.6484375,  9.6875   ,  9.7265625,\n",
       "         9.765625 ,  9.8046875,  9.84375  ,  9.8828125,  9.921875 ,\n",
       "         9.9609375, 10.       , 10.0390625, 10.078125 , 10.1171875,\n",
       "        10.15625  , 10.1953125, 10.234375 , 10.2734375, 10.3125   ,\n",
       "        10.3515625, 10.390625 , 10.4296875, 10.46875  , 10.5078125,\n",
       "        10.546875 , 10.5859375, 10.625    , 10.6640625, 10.703125 ,\n",
       "        10.7421875, 10.78125  , 10.8203125, 10.859375 , 10.8984375,\n",
       "        10.9375   , 10.9765625, 11.015625 , 11.0546875, 11.09375  ,\n",
       "        11.1328125, 11.171875 , 11.2109375, 11.25     , 11.2890625,\n",
       "        11.328125 , 11.3671875, 11.40625  , 11.4453125, 11.484375 ,\n",
       "        11.5234375, 11.5625   , 11.6015625, 11.640625 , 11.6796875,\n",
       "        11.71875  , 11.7578125, 11.796875 , 11.8359375, 11.875    ,\n",
       "        11.9140625, 11.953125 , 11.9921875, 12.03125  , 12.0703125,\n",
       "        12.109375 , 12.1484375, 12.1875   , 12.2265625, 12.265625 ,\n",
       "        12.3046875, 12.34375  , 12.3828125, 12.421875 , 12.4609375,\n",
       "        12.5      , 12.5390625, 12.578125 , 12.6171875, 12.65625  ,\n",
       "        12.6953125, 12.734375 , 12.7734375, 12.8125   , 12.8515625,\n",
       "        12.890625 , 12.9296875, 12.96875  , 13.0078125, 13.046875 ,\n",
       "        13.0859375, 13.125    , 13.1640625, 13.203125 , 13.2421875,\n",
       "        13.28125  , 13.3203125, 13.359375 , 13.3984375, 13.4375   ,\n",
       "        13.4765625, 13.515625 , 13.5546875, 13.59375  , 13.6328125,\n",
       "        13.671875 , 13.7109375, 13.75     , 13.7890625, 13.828125 ,\n",
       "        13.8671875, 13.90625  , 13.9453125, 13.984375 , 14.0234375,\n",
       "        14.0625   , 14.1015625, 14.140625 , 14.1796875, 14.21875  ,\n",
       "        14.2578125, 14.296875 , 14.3359375, 14.375    , 14.4140625,\n",
       "        14.453125 , 14.4921875, 14.53125  , 14.5703125, 14.609375 ,\n",
       "        14.6484375, 14.6875   , 14.7265625, 14.765625 , 14.8046875,\n",
       "        14.84375  , 14.8828125, 14.921875 , 14.9609375, 15.       ,\n",
       "        15.0390625, 15.078125 , 15.1171875, 15.15625  , 15.1953125,\n",
       "        15.234375 , 15.2734375, 15.3125   , 15.3515625, 15.390625 ,\n",
       "        15.4296875, 15.46875  , 15.5078125, 15.546875 , 15.5859375,\n",
       "        15.625    , 15.6640625, 15.703125 , 15.7421875, 15.78125  ,\n",
       "        15.8203125, 15.859375 , 15.8984375, 15.9375   , 15.9765625,\n",
       "        16.015625 , 16.0546875, 16.09375  , 16.1328125, 16.171875 ,\n",
       "        16.2109375, 16.25     , 16.2890625, 16.328125 , 16.3671875,\n",
       "        16.40625  , 16.4453125, 16.484375 , 16.5234375, 16.5625   ,\n",
       "        16.6015625, 16.640625 , 16.6796875, 16.71875  , 16.7578125,\n",
       "        16.796875 , 16.8359375, 16.875    , 16.9140625, 16.953125 ,\n",
       "        16.9921875, 17.03125  , 17.0703125, 17.109375 , 17.1484375,\n",
       "        17.1875   , 17.2265625, 17.265625 , 17.3046875, 17.34375  ,\n",
       "        17.3828125, 17.421875 , 17.4609375, 17.5      , 17.5390625,\n",
       "        17.578125 , 17.6171875, 17.65625  , 17.6953125, 17.734375 ,\n",
       "        17.7734375, 17.8125   , 17.8515625, 17.890625 , 17.9296875,\n",
       "        17.96875  , 18.0078125, 18.046875 , 18.0859375, 18.125    ,\n",
       "        18.1640625, 18.203125 , 18.2421875, 18.28125  , 18.3203125,\n",
       "        18.359375 , 18.3984375, 18.4375   , 18.4765625, 18.515625 ,\n",
       "        18.5546875, 18.59375  , 18.6328125, 18.671875 , 18.7109375,\n",
       "        18.75     , 18.7890625, 18.828125 , 18.8671875, 18.90625  ,\n",
       "        18.9453125, 18.984375 , 19.0234375, 19.0625   , 19.1015625,\n",
       "        19.140625 , 19.1796875, 19.21875  , 19.2578125, 19.296875 ,\n",
       "        19.3359375, 19.375    , 19.4140625, 19.453125 , 19.4921875,\n",
       "        19.53125  , 19.5703125, 19.609375 , 19.6484375, 19.6875   ,\n",
       "        19.7265625, 19.765625 , 19.8046875, 19.84375  , 19.8828125,\n",
       "        19.921875 , 19.9609375]),\n",
       " <a list of 511 Patch objects>)"
      ]
     },
     "execution_count": 179,
     "metadata": {},
     "output_type": "execute_result"
    },
    {
     "data": {
      "image/png": "[encoded data removed]",
      "text/plain": [
       "<Figure size 432x288 with 1 Axes>"
      ]
     },
     "metadata": {
      "needs_background": "light"
     },
     "output_type": "display_data"
    }
   ],
   "source": [
    "plt.hist(out[0][out[1][:, 0] == 0, 0], bins = np.arange(512) * 20/512 , alpha = 0.2, color = 'red')\n",
    "plt.hist(out[0][out[1][:, 0] == 1, 0], bins = np.arange(512) * 20/512 , alpha = 0.2, color = 'green')\n",
    "plt.hist(out[0][out[1][:, 0] == 2, 0], bins = np.arange(512) * 20/512 , alpha = 0.2, color = 'red')\n",
    "plt.hist(out[0][out[1][:, 0] == 3, 0], bins = np.arange(512) * 20/512 , alpha = 0.2, color = 'green')"
   ]
  },
  {
   "cell_type": "code",
   "execution_count": 185,
   "metadata": {},
   "outputs": [],
   "source": [
    "import pickle\n",
    "import os\n"
   ]
  },
  {
   "cell_type": "code",
   "execution_count": 188,
   "metadata": {},
   "outputs": [
    {
     "data": {
      "text/plain": [
       "['ddm_seq2_nchoices_2_train_data_binned_1_nbins_512_n_100000_999.pickle']"
      ]
     },
     "execution_count": 188,
     "metadata": {},
     "output_type": "execute_result"
    }
   ],
   "source": [
    "os.listdir('/media/data_cifs/afengler/data/kde/ddm_seq2/training_data_binned_1_nbins_512_n_100000')"
   ]
  },
  {
   "cell_type": "code",
   "execution_count": 211,
   "metadata": {},
   "outputs": [],
   "source": [
    "tt = pickle.load(open('/media/data_cifs/afengler/data/kde/ddm_mic2/training_data_binned_1_nbins_512_n_100000/ddm_mic2_nchoices_2_train_data_binned_1_nbins_512_n_100000_999.pickle', 'rb'))"
   ]
  },
  {
   "cell_type": "code",
   "execution_count": 195,
   "metadata": {},
   "outputs": [
    {
     "data": {
      "text/plain": [
       "array([0.000e+00, 0.000e+00, 0.000e+00, 0.000e+00, 0.000e+00, 0.000e+00,\n",
       "       0.000e+00, 0.000e+00, 0.000e+00, 0.000e+00, 0.000e+00, 0.000e+00,\n",
       "       0.000e+00, 0.000e+00, 0.000e+00, 0.000e+00, 0.000e+00, 0.000e+00,\n",
       "       0.000e+00, 0.000e+00, 0.000e+00, 0.000e+00, 8.000e-05, 2.300e-04,\n",
       "       7.500e-04, 1.630e-03, 2.620e-03, 3.470e-03, 5.330e-03, 5.970e-03,\n",
       "       7.820e-03, 8.140e-03, 9.420e-03, 9.680e-03, 1.008e-02, 1.038e-02,\n",
       "       1.083e-02, 1.139e-02, 1.050e-02, 1.050e-02, 1.000e-02, 1.021e-02,\n",
       "       9.690e-03, 9.210e-03, 8.560e-03, 8.420e-03, 7.900e-03, 6.960e-03,\n",
       "       6.720e-03, 6.960e-03, 6.690e-03, 6.050e-03, 5.490e-03, 5.400e-03,\n",
       "       5.210e-03, 4.600e-03, 4.820e-03, 4.620e-03, 4.070e-03, 3.630e-03,\n",
       "       3.420e-03, 2.790e-03, 3.010e-03, 3.260e-03, 2.740e-03, 2.280e-03,\n",
       "       2.180e-03, 2.040e-03, 1.880e-03, 1.860e-03, 1.610e-03, 1.450e-03,\n",
       "       1.450e-03, 1.540e-03, 1.210e-03, 1.060e-03, 1.100e-03, 1.100e-03,\n",
       "       1.040e-03, 1.060e-03, 7.500e-04, 8.500e-04, 7.400e-04, 8.000e-04,\n",
       "       5.600e-04, 5.700e-04, 4.400e-04, 5.400e-04, 4.400e-04, 4.400e-04,\n",
       "       5.900e-04, 3.100e-04, 3.200e-04, 2.600e-04, 2.600e-04, 3.000e-04,\n",
       "       3.000e-04, 1.500e-04, 3.400e-04, 1.900e-04, 2.500e-04, 1.400e-04,\n",
       "       1.700e-04, 1.900e-04, 1.800e-04, 1.100e-04, 1.300e-04, 6.000e-05,\n",
       "       1.100e-04, 8.000e-05, 1.100e-04, 7.000e-05, 8.000e-05, 1.000e-05,\n",
       "       1.200e-04, 6.000e-05, 7.000e-05, 8.000e-05, 5.000e-05, 5.000e-05,\n",
       "       4.000e-05, 5.000e-05, 1.000e-05, 2.000e-05, 1.000e-05, 1.000e-05,\n",
       "       2.000e-05, 6.000e-05, 4.000e-05, 3.000e-05, 3.000e-05, 2.000e-05,\n",
       "       0.000e+00, 2.000e-05, 1.000e-05, 0.000e+00, 2.000e-05, 3.000e-05,\n",
       "       0.000e+00, 1.000e-05, 2.000e-05, 0.000e+00, 1.000e-05, 3.000e-05,\n",
       "       1.000e-05, 2.000e-05, 0.000e+00, 0.000e+00, 1.000e-05, 0.000e+00,\n",
       "       1.000e-05, 0.000e+00, 1.000e-05, 1.000e-05, 0.000e+00, 0.000e+00,\n",
       "       0.000e+00, 0.000e+00, 0.000e+00, 1.000e-05, 0.000e+00, 0.000e+00,\n",
       "       0.000e+00, 1.000e-05, 0.000e+00, 0.000e+00, 1.000e-05, 0.000e+00,\n",
       "       0.000e+00, 0.000e+00, 2.000e-05, 0.000e+00, 1.000e-05, 0.000e+00,\n",
       "       0.000e+00, 1.000e-05, 0.000e+00, 0.000e+00, 0.000e+00, 0.000e+00,\n",
       "       0.000e+00, 0.000e+00, 0.000e+00, 0.000e+00, 0.000e+00, 1.000e-05,\n",
       "       0.000e+00, 0.000e+00, 0.000e+00, 0.000e+00, 0.000e+00, 0.000e+00,\n",
       "       0.000e+00, 0.000e+00, 0.000e+00, 0.000e+00, 0.000e+00, 0.000e+00,\n",
       "       0.000e+00, 1.000e-05, 0.000e+00, 0.000e+00, 0.000e+00, 0.000e+00,\n",
       "       0.000e+00, 0.000e+00, 0.000e+00, 0.000e+00, 0.000e+00, 0.000e+00,\n",
       "       0.000e+00, 0.000e+00, 0.000e+00, 0.000e+00, 0.000e+00, 0.000e+00,\n",
       "       0.000e+00, 0.000e+00, 0.000e+00, 0.000e+00, 0.000e+00, 0.000e+00,\n",
       "       0.000e+00, 0.000e+00, 0.000e+00, 0.000e+00, 0.000e+00, 0.000e+00,\n",
       "       0.000e+00, 0.000e+00, 0.000e+00, 0.000e+00, 0.000e+00, 0.000e+00,\n",
       "       0.000e+00, 0.000e+00, 0.000e+00, 0.000e+00, 0.000e+00, 0.000e+00,\n",
       "       0.000e+00, 0.000e+00, 0.000e+00, 0.000e+00, 0.000e+00, 0.000e+00,\n",
       "       0.000e+00, 0.000e+00, 0.000e+00, 0.000e+00, 0.000e+00, 0.000e+00,\n",
       "       0.000e+00, 0.000e+00, 0.000e+00, 0.000e+00, 0.000e+00, 0.000e+00,\n",
       "       0.000e+00, 0.000e+00, 0.000e+00, 0.000e+00, 0.000e+00, 0.000e+00,\n",
       "       0.000e+00, 0.000e+00, 0.000e+00, 0.000e+00, 0.000e+00, 0.000e+00,\n",
       "       0.000e+00, 0.000e+00, 0.000e+00, 0.000e+00, 0.000e+00, 0.000e+00,\n",
       "       0.000e+00, 0.000e+00, 0.000e+00, 0.000e+00, 0.000e+00, 0.000e+00,\n",
       "       0.000e+00, 0.000e+00, 0.000e+00, 0.000e+00, 0.000e+00, 0.000e+00,\n",
       "       0.000e+00, 0.000e+00, 0.000e+00, 0.000e+00, 0.000e+00, 0.000e+00,\n",
       "       0.000e+00, 0.000e+00, 0.000e+00, 0.000e+00, 0.000e+00, 0.000e+00,\n",
       "       0.000e+00, 0.000e+00, 0.000e+00, 0.000e+00, 0.000e+00, 0.000e+00,\n",
       "       0.000e+00, 0.000e+00, 0.000e+00, 0.000e+00, 0.000e+00, 0.000e+00,\n",
       "       0.000e+00, 0.000e+00, 0.000e+00, 0.000e+00, 0.000e+00, 0.000e+00,\n",
       "       0.000e+00, 0.000e+00, 0.000e+00, 0.000e+00, 0.000e+00, 0.000e+00,\n",
       "       0.000e+00, 0.000e+00, 0.000e+00, 0.000e+00, 0.000e+00, 0.000e+00,\n",
       "       0.000e+00, 0.000e+00, 0.000e+00, 0.000e+00, 0.000e+00, 0.000e+00,\n",
       "       0.000e+00, 0.000e+00, 0.000e+00, 0.000e+00, 0.000e+00, 0.000e+00,\n",
       "       0.000e+00, 0.000e+00, 0.000e+00, 0.000e+00, 0.000e+00, 0.000e+00,\n",
       "       0.000e+00, 0.000e+00, 0.000e+00, 0.000e+00, 0.000e+00, 0.000e+00,\n",
       "       0.000e+00, 0.000e+00, 0.000e+00, 0.000e+00, 0.000e+00, 0.000e+00,\n",
       "       0.000e+00, 0.000e+00, 0.000e+00, 0.000e+00, 0.000e+00, 0.000e+00,\n",
       "       0.000e+00, 0.000e+00, 0.000e+00, 0.000e+00, 0.000e+00, 0.000e+00,\n",
       "       0.000e+00, 0.000e+00, 0.000e+00, 0.000e+00, 0.000e+00, 0.000e+00,\n",
       "       0.000e+00, 0.000e+00, 0.000e+00, 0.000e+00, 0.000e+00, 0.000e+00,\n",
       "       0.000e+00, 0.000e+00, 0.000e+00, 0.000e+00, 0.000e+00, 0.000e+00,\n",
       "       0.000e+00, 0.000e+00, 0.000e+00, 0.000e+00, 0.000e+00, 0.000e+00,\n",
       "       0.000e+00, 0.000e+00, 0.000e+00, 0.000e+00, 0.000e+00, 0.000e+00,\n",
       "       0.000e+00, 0.000e+00, 0.000e+00, 0.000e+00, 0.000e+00, 0.000e+00,\n",
       "       0.000e+00, 0.000e+00, 0.000e+00, 0.000e+00, 0.000e+00, 0.000e+00,\n",
       "       0.000e+00, 0.000e+00, 0.000e+00, 0.000e+00, 0.000e+00, 0.000e+00,\n",
       "       0.000e+00, 0.000e+00, 0.000e+00, 0.000e+00, 0.000e+00, 0.000e+00,\n",
       "       0.000e+00, 0.000e+00, 0.000e+00, 0.000e+00, 0.000e+00, 0.000e+00,\n",
       "       0.000e+00, 0.000e+00, 0.000e+00, 0.000e+00, 0.000e+00, 0.000e+00,\n",
       "       0.000e+00, 0.000e+00, 0.000e+00, 0.000e+00, 0.000e+00, 0.000e+00,\n",
       "       0.000e+00, 0.000e+00, 0.000e+00, 0.000e+00, 0.000e+00, 0.000e+00,\n",
       "       0.000e+00, 0.000e+00, 0.000e+00, 0.000e+00, 0.000e+00, 0.000e+00,\n",
       "       0.000e+00, 0.000e+00, 0.000e+00, 0.000e+00, 0.000e+00, 0.000e+00,\n",
       "       0.000e+00, 0.000e+00, 0.000e+00, 0.000e+00, 0.000e+00, 0.000e+00,\n",
       "       0.000e+00, 0.000e+00, 0.000e+00, 0.000e+00, 0.000e+00, 0.000e+00,\n",
       "       0.000e+00, 0.000e+00, 0.000e+00, 0.000e+00, 0.000e+00, 0.000e+00,\n",
       "       0.000e+00, 0.000e+00, 0.000e+00, 0.000e+00, 0.000e+00, 0.000e+00,\n",
       "       0.000e+00, 0.000e+00, 0.000e+00, 0.000e+00, 0.000e+00, 0.000e+00,\n",
       "       0.000e+00, 0.000e+00, 0.000e+00, 0.000e+00, 0.000e+00, 0.000e+00,\n",
       "       0.000e+00, 0.000e+00, 0.000e+00, 0.000e+00, 0.000e+00, 0.000e+00,\n",
       "       0.000e+00, 0.000e+00, 0.000e+00, 0.000e+00, 0.000e+00, 0.000e+00,\n",
       "       0.000e+00, 0.000e+00])"
      ]
     },
     "execution_count": 195,
     "metadata": {},
     "output_type": "execute_result"
    }
   ],
   "source": [
    "tt[1][0][:,0]"
   ]
  },
  {
   "cell_type": "code",
   "execution_count": 215,
   "metadata": {},
   "outputs": [
    {
     "data": {
      "text/plain": [
       "[<matplotlib.lines.Line2D at 0x7f6ccdd1ffd0>]"
      ]
     },
     "execution_count": 215,
     "metadata": {},
     "output_type": "execute_result"
    },
    {
     "data": {
      "image/png": "[encoded data removed]",
      "text/plain": [
       "<Figure size 432x288 with 1 Axes>"
      ]
     },
     "metadata": {
      "needs_background": "light"
     },
     "output_type": "display_data"
    }
   ],
   "source": [
    "plt.plot(tt[1][2, :,0])\n",
    "plt.plot(tt[1][2, :,1])\n",
    "plt.plot(tt[1][2, :,2])\n",
    "plt.plot(tt[1][2, :,3])"
   ]
  },
  {
   "cell_type": "code",
   "execution_count": 145,
   "metadata": {},
   "outputs": [
    {
     "name": "stdout",
     "output_type": "stream",
     "text": [
      "1.9529729\n",
      "1.9603328\n"
     ]
    }
   ],
   "source": [
    "print(np.mean(out[0][out[1][:, 0] == 0, 0]))\n",
    "print(np.mean(out[0][out[1][:, 0] == 1, 0]))\n",
    "#print(np.mean(out[0][out[1][:, 0] == 2, 0]))\n",
    "#print(np.mean(out[0][out[1][:, 0] == 3, 0]))"
   ]
  },
  {
   "cell_type": "code",
   "execution_count": 146,
   "metadata": {},
   "outputs": [
    {
     "name": "stdout",
     "output_type": "stream",
     "text": [
      "(24981,)\n",
      "(24776,)\n"
     ]
    }
   ],
   "source": [
    "print(np.shape(out[0][out[1][:, 0] == 0, 0]))\n",
    "print(np.shape(out[0][out[1][:, 0] == 1, 0]))\n",
    "#print(np.shape(out[0][out[1][:, 0] == 2, 0]))\n",
    "#print(np.shape(out[0][out[1][:, 0] == 3, 0]))"
   ]
  },
  {
   "cell_type": "code",
   "execution_count": 143,
   "metadata": {},
   "outputs": [
    {
     "data": {
      "text/plain": [
       "array([ 0.6530001,  0.6530001,  0.6530001, ...,  9.054827 ,  9.446985 ,\n",
       "       13.031434 ], dtype=float32)"
      ]
     },
     "execution_count": 143,
     "metadata": {},
     "output_type": "execute_result"
    }
   ],
   "source": [
    "np.sort(out[0][out[1][:,0] == 1, 0])"
   ]
  },
  {
   "cell_type": "code",
   "execution_count": 121,
   "metadata": {},
   "outputs": [
    {
     "data": {
      "text/plain": [
       "(array([5.660e+02, 2.480e+03, 3.954e+03, 4.277e+03, 4.152e+03, 3.769e+03,\n",
       "        3.262e+03, 2.780e+03, 2.322e+03, 1.880e+03, 1.455e+03, 1.157e+03,\n",
       "        9.380e+02, 7.480e+02, 5.870e+02, 4.720e+02, 3.540e+02, 2.990e+02,\n",
       "        2.170e+02, 1.910e+02, 1.350e+02, 1.160e+02, 7.500e+01, 8.600e+01,\n",
       "        6.700e+01, 4.800e+01, 2.800e+01, 4.000e+01, 2.600e+01, 1.200e+01,\n",
       "        1.100e+01, 1.000e+01, 7.000e+00, 8.000e+00, 1.000e+01, 4.000e+00,\n",
       "        5.000e+00, 5.000e+00, 3.000e+00, 0.000e+00, 3.000e+00, 3.000e+00,\n",
       "        1.000e+00, 0.000e+00, 1.000e+00, 1.000e+00, 0.000e+00, 0.000e+00,\n",
       "        0.000e+00, 1.000e+00]),\n",
       " array([ 0.7490003,  1.0663557,  1.3837112,  1.7010666,  2.0184221,\n",
       "         2.3357775,  2.653133 ,  2.9704883,  3.2878437,  3.605199 ,\n",
       "         3.9225545,  4.23991  ,  4.5572653,  4.874621 ,  5.191976 ,\n",
       "         5.5093317,  5.8266873,  6.1440425,  6.461398 ,  6.7787533,\n",
       "         7.096109 ,  7.413464 ,  7.7308197,  8.048175 ,  8.365531 ,\n",
       "         8.682886 ,  9.000241 ,  9.317596 ,  9.634953 ,  9.952308 ,\n",
       "        10.269663 , 10.587019 , 10.904374 , 11.221729 , 11.539084 ,\n",
       "        11.856441 , 12.173796 , 12.491151 , 12.808507 , 13.125862 ,\n",
       "        13.443217 , 13.760572 , 14.077929 , 14.395284 , 14.712639 ,\n",
       "        15.029995 , 15.34735  , 15.664705 , 15.98206  , 16.299416 ,\n",
       "        16.616772 ], dtype=float32),\n",
       " <a list of 50 Patch objects>)"
      ]
     },
     "execution_count": 121,
     "metadata": {},
     "output_type": "execute_result"
    },
    {
     "data": {
      "image/png": "[encoded data removed]",
      "text/plain": [
       "<Figure size 432x288 with 1 Axes>"
      ]
     },
     "metadata": {
      "needs_background": "light"
     },
     "output_type": "display_data"
    }
   ],
   "source": [
    "plt.hist(out[0][out[1][:, 0] == 0, 0], bins = 50, alpha = 0.5, color = 'green')\n",
    "plt.hist(out[0][out[1][:, 0] == 1, 0], bins = 50, alpha = 0.2, color = 'green')\n",
    "plt.hist(out[0][out[1][:, 0] == 2, 0], bins = 50, alpha = 0.2, color = 'blue')\n",
    "plt.hist(out[0][out[1][:, 0] == 3, 0], bins = 50, alpha = 0.2, color = 'red')"
   ]
  },
  {
   "cell_type": "code",
   "execution_count": 122,
   "metadata": {},
   "outputs": [
    {
     "name": "stdout",
     "output_type": "stream",
     "text": [
      "20.500637\n",
      "17.52927\n",
      "14.810153\n",
      "16.616772\n"
     ]
    }
   ],
   "source": [
    "print(np.max(out[0][out[1][:, 0] == 0, 0]))\n",
    "print(np.max(out[0][out[1][:, 0] == 1, 0]))\n",
    "print(np.max(out[0][out[1][:, 0] == 2, 0]))\n",
    "print(np.max(out[0][out[1][:, 0] == 3, 0]))"
   ]
  },
  {
   "cell_type": "code",
   "execution_count": null,
   "metadata": {},
   "outputs": [],
   "source": [
    "binned_sims = bin_simulator_output(out = out,\n",
    "                                   n_bins = 256,\n",
    "                                   eps_correction = 1e-7,\n",
    "                                   params = ['v', 'a', 'w', 'g', 'ndt'])"
   ]
  },
  {
   "cell_type": "code",
   "execution_count": null,
   "metadata": {},
   "outputs": [],
   "source": [
    "plt.plot(binned_sims[1][:, 1])\n",
    "plt.plot(binned_sims[1][:, 0])"
   ]
  },
  {
   "cell_type": "code",
   "execution_count": null,
   "metadata": {},
   "outputs": [],
   "source": [
    "binned_sims[1][255, 1]"
   ]
  },
  {
   "cell_type": "code",
   "execution_count": null,
   "metadata": {},
   "outputs": [],
   "source": [
    "files_ = os.listdir('/media/data_cifs/afengler/data/kde/ddm/base_simulations_20000')"
   ]
  },
  {
   "cell_type": "code",
   "execution_count": null,
   "metadata": {},
   "outputs": [],
   "source": [
    "labels = np.zeros((250000, 500, 2))\n",
    "features = np.zeros((250000, 3))\n",
    "\n",
    "cnt = 0\n",
    "i = 0\n",
    "file_dim = 100\n",
    "for file_ in files_[:1000]:\n",
    "    if file_[:8] == 'ddm_flex':\n",
    "        out = pickle.load(open('/media/data_cifs/afengler/data/kde/ddm/base_simulations_20000/' + file_, 'rb'))\n",
    "        features[cnt], labels[cnt] = bin_simulator_output(out = out)\n",
    "        if cnt % file_dim == 0:\n",
    "            print(cnt)\n",
    "            pickle.dump((labels[(i * file_dim):((i + 1) * file_dim)], features[(i * file_dim):((i + 1) * file_dim)]), open('/media/data_cifs/afengler/data/kde/ddm/base_simulations_20000_binned/dataset_' + str(i), 'wb'))\n",
    "            i += 1\n",
    "        cnt += 1\n"
   ]
  },
  {
   "cell_type": "code",
   "execution_count": null,
   "metadata": {},
   "outputs": [],
   "source": [
    "# FULL DDM  \n",
    "repeats = 50\n",
    "my_means = np.zeros(repeats)\n",
    "for i in range(repeats):\n",
    "    out = cds.full_ddm(v = 0, \n",
    "                       a = 0.96,\n",
    "                       w = 0.5,\n",
    "                       ndt = 0.5,\n",
    "                       dw = 0.0,\n",
    "                       sdv = 0.0,\n",
    "                       dndt = 0.5,\n",
    "                       delta_t = 0.01, \n",
    "                       max_t = 20,\n",
    "                       n_samples = 10000,\n",
    "                       boundary_fun = bf.constant,\n",
    "                       boundary_multiplicative = True, \n",
    "                       boundary_params = {})\n",
    "    print(i)\n",
    "    \n",
    "    my_means[i] = np.mean(out[0][out[1] == 1])"
   ]
  },
  {
   "cell_type": "code",
   "execution_count": null,
   "metadata": {},
   "outputs": [],
   "source": [
    "plt.hist(out[0] * out[1], bins = 50)"
   ]
  },
  {
   "cell_type": "code",
   "execution_count": null,
   "metadata": {},
   "outputs": [],
   "source": [
    "int(50 / out[2]['delta_t'] + 1)"
   ]
  },
  {
   "cell_type": "code",
   "execution_count": null,
   "metadata": {},
   "outputs": [],
   "source": [
    "# LCA \n",
    "repeats = 1\n",
    "my_means = np.zeros(repeats)\n",
    "for i in range(repeats):\n",
    "    out = cds.lca(v = np.array([0, 0], dtype = np.float32), \n",
    "                  a = 2, \n",
    "                  w = np.array([0.5, 0.5], dtype = np.float32), \n",
    "                  ndt = np.array([1.0, 1.0], dtype = np.float32),\n",
    "                  g = -1.0,\n",
    "                  b = 1.0,\n",
    "                  delta_t = 0.01, \n",
    "                  max_t = 40,\n",
    "                  n_samples = 10000,\n",
    "                  boundary_fun = bf.constant,\n",
    "                  boundary_multiplicative = True, \n",
    "                  boundary_params = {})\n",
    "    print(i)\n",
    "    my_means[i] = np.mean(out[0][out[1] == 1])"
   ]
  },
  {
   "cell_type": "code",
   "execution_count": null,
   "metadata": {},
   "outputs": [],
   "source": [
    "out[1][out[1] == 0] = -1\n",
    "plt.hist(out[0] * out[1], bins = 50)"
   ]
  },
  {
   "cell_type": "code",
   "execution_count": null,
   "metadata": {},
   "outputs": [],
   "source": [
    "# LCA \n",
    "repeats = 10\n",
    "my_means = np.zeros(repeats)\n",
    "for i in range(repeats):\n",
    "    out = cds.ddm_flexbound(v = 0.0, \n",
    "                            a = 1.5, \n",
    "                            w = 0.5, \n",
    "                            ndt = 0.1,\n",
    "                            delta_t = 0.01, \n",
    "                            max_t = 40,\n",
    "                            n_samples = 10000,\n",
    "                            boundary_fun = bf.constant,\n",
    "                            boundary_multiplicative = True, \n",
    "                            boundary_params = {})\n",
    "    print(i)\n",
    "    my_means[i] = np.mean(out[0][out[1] == 1])"
   ]
  },
  {
   "cell_type": "code",
   "execution_count": null,
   "metadata": {},
   "outputs": [],
   "source": [
    "def foo(name, *args, **kwargs):\n",
    "    print (\"args: \", args)\n",
    "    print (\"Type of args: \", type(args))\n",
    "    if len(args)>2:\n",
    "        args = args[0], args[1]     #- Created Same name variable.\n",
    "    print (\"Temp args:\", args)"
   ]
  },
  {
   "cell_type": "code",
   "execution_count": null,
   "metadata": {},
   "outputs": [],
   "source": [
    "my_keys = []\n",
    "for key in test_dat.keys():\n",
    "    if key[0] == 'v':\n",
    "        my_keys.append(key)\n",
    "np.array(test_dat.loc[1, ['v_0', 'v_1']])"
   ]
  },
  {
   "cell_type": "code",
   "execution_count": null,
   "metadata": {},
   "outputs": [],
   "source": [
    "my_dat = mdlba.make_data_rt_choice(target_folder = my_target_folder)"
   ]
  },
  {
   "cell_type": "code",
   "execution_count": null,
   "metadata": {},
   "outputs": [],
   "source": [
    "np.max(my_dat['log_likelihood'])"
   ]
  },
  {
   "cell_type": "code",
   "execution_count": null,
   "metadata": {},
   "outputs": [],
   "source": [
    "data = np.concatenate([out[0], out[1]], axis = 1)"
   ]
  },
  {
   "cell_type": "code",
   "execution_count": null,
   "metadata": {},
   "outputs": [],
   "source": [
    "###\n",
    "cds.race_model(boundary_fun = bf.constant,\n",
    "              n_samples = 100000)"
   ]
  },
  {
   "cell_type": "code",
   "execution_count": null,
   "metadata": {},
   "outputs": [],
   "source": [
    "np.quantile(np.random.uniform(size = (10000,4)), q = [0.05, 0.10, 0.9, 0.95], axis = 0)"
   ]
  },
  {
   "cell_type": "code",
   "execution_count": null,
   "metadata": {},
   "outputs": [],
   "source": [
    "tuple(map(tuple, a))"
   ]
  },
  {
   "cell_type": "code",
   "execution_count": null,
   "metadata": {},
   "outputs": [],
   "source": [
    "tuple(np.apply_along_axis(my_func, 0, a, key_vec))"
   ]
  },
  {
   "cell_type": "code",
   "execution_count": null,
   "metadata": {},
   "outputs": [],
   "source": [
    "dict(zip(a[0,:], ['a' ,'b', 'c']))"
   ]
  },
  {
   "cell_type": "code",
   "execution_count": null,
   "metadata": {},
   "outputs": [],
   "source": [
    "def my_func(x = 0, key_vec = ['a' ,'b', 'c']):\n",
    "    return dict(zip(key_vec, x))"
   ]
  },
  {
   "cell_type": "code",
   "execution_count": null,
   "metadata": {},
   "outputs": [],
   "source": [
    "my_func_init = my_func(key_vec = ['d', 'e', 'f'])"
   ]
  },
  {
   "cell_type": "code",
   "execution_count": null,
   "metadata": {},
   "outputs": [],
   "source": [
    "test = yaml.load(open('config_files/config_data_generator.yaml'))"
   ]
  },
  {
   "cell_type": "code",
   "execution_count": 22,
   "metadata": {},
   "outputs": [
    {
     "name": "stderr",
     "output_type": "stream",
     "text": [
      "\n",
      "\n",
      "\n",
      "\n",
      "\n",
      "  0%|          | 0/100 [00:00<?, ?it/s]\u001b[A\u001b[A\u001b[A\u001b[A\u001b[A"
     ]
    },
    {
     "ename": "TypeError",
     "evalue": "starmap() got an unexpected keyword argument 'callback'",
     "output_type": "error",
     "traceback": [
      "\u001b[0;31m---------------------------------------------------------------------------\u001b[0m",
      "\u001b[0;31mTypeError\u001b[0m                                 Traceback (most recent call last)",
      "\u001b[0;32m<ipython-input-22-b1b17a601579>\u001b[0m in \u001b[0;36m<module>\u001b[0;34m\u001b[0m\n\u001b[1;32m     12\u001b[0m \u001b[0;34m\u001b[0m\u001b[0m\n\u001b[1;32m     13\u001b[0m \u001b[0mpool\u001b[0m \u001b[0;34m=\u001b[0m \u001b[0mPool\u001b[0m\u001b[0;34m(\u001b[0m\u001b[0;36m4\u001b[0m\u001b[0;34m)\u001b[0m\u001b[0;34m\u001b[0m\u001b[0;34m\u001b[0m\u001b[0m\n\u001b[0;32m---> 14\u001b[0;31m \u001b[0mpool\u001b[0m\u001b[0;34m.\u001b[0m\u001b[0mstarmap\u001b[0m\u001b[0;34m(\u001b[0m\u001b[0mmyfunc\u001b[0m\u001b[0;34m,\u001b[0m \u001b[0ma\u001b[0m\u001b[0;34m,\u001b[0m \u001b[0mcallback\u001b[0m \u001b[0;34m=\u001b[0m \u001b[0mupdate\u001b[0m\u001b[0;34m)\u001b[0m\u001b[0;34m\u001b[0m\u001b[0;34m\u001b[0m\u001b[0m\n\u001b[0m\u001b[1;32m     15\u001b[0m \u001b[0mpool\u001b[0m\u001b[0;34m.\u001b[0m\u001b[0mclose\u001b[0m\u001b[0;34m(\u001b[0m\u001b[0;34m)\u001b[0m\u001b[0;34m\u001b[0m\u001b[0;34m\u001b[0m\u001b[0m\n\u001b[1;32m     16\u001b[0m \u001b[0mpool\u001b[0m\u001b[0;34m.\u001b[0m\u001b[0mjoin\u001b[0m\u001b[0;34m(\u001b[0m\u001b[0;34m)\u001b[0m\u001b[0;34m\u001b[0m\u001b[0;34m\u001b[0m\u001b[0m\n",
      "\u001b[0;31mTypeError\u001b[0m: starmap() got an unexpected keyword argument 'callback'"
     ]
    }
   ],
   "source": [
    "from multiprocessing import Pool\n",
    "\n",
    "def myfunc(a):\n",
    "    return a ** 2\n",
    "pbar = tqdm(total = 100)\n",
    "def update():\n",
    "    pbar.update\n",
    "\n",
    "a = tuple()\n",
    "for i in range(pbar.total):\n",
    "    a += ((1, ), )\n",
    "    \n",
    "pool = Pool(4)\n",
    "pool.starmap(myfunc, a, callback = update)\n",
    "pool.close()\n",
    "pool.join()"
   ]
  },
  {
   "cell_type": "code",
   "execution_count": null,
   "metadata": {},
   "outputs": [],
   "source": [
    "def my_fun(*args):\n",
    "    print(args)"
   ]
  },
  {
   "cell_type": "code",
   "execution_count": null,
   "metadata": {},
   "outputs": [],
   "source": [
    "help(dg.make_dataset_r_dgp)"
   ]
  },
  {
   "cell_type": "code",
   "execution_count": null,
   "metadata": {},
   "outputs": [],
   "source": [
    "def zip_dict(x = [], \n",
    "             key_vec = ['a', 'b', 'c']):\n",
    "    return dict(zip(key_vec, x))"
   ]
  },
  {
   "cell_type": "code",
   "execution_count": null,
   "metadata": {},
   "outputs": [],
   "source": [
    "my_dg = dg.data_generator(file_id = 'TEST')"
   ]
  },
  {
   "cell_type": "code",
   "execution_count": null,
   "metadata": {},
   "outputs": [],
   "source": [
    "out = my_dg.make_dataset_perturbation_experiment(save = False)"
   ]
  },
  {
   "cell_type": "code",
   "execution_count": null,
   "metadata": {},
   "outputs": [],
   "source": [
    "out = my_dg.make_dataset_uniform(save = False)"
   ]
  },
  {
   "cell_type": "code",
   "execution_count": null,
   "metadata": {},
   "outputs": [],
   "source": [
    "my_dg.param_grid_perturbation_experiment()"
   ]
  },
  {
   "cell_type": "code",
   "execution_count": null,
   "metadata": {},
   "outputs": [],
   "source": [
    "param_grid = my_dg.param_grid_uniform()"
   ]
  },
  {
   "cell_type": "code",
   "execution_count": null,
   "metadata": {},
   "outputs": [],
   "source": [
    "%%timeit -n 1 -r 1\n",
    "tt = my_dg.generate_data_grid_parallel(param_grid = param_grid)"
   ]
  },
  {
   "cell_type": "code",
   "execution_count": null,
   "metadata": {},
   "outputs": [],
   "source": [
    "my_dg.config"
   ]
  },
  {
   "cell_type": "code",
   "execution_count": null,
   "metadata": {},
   "outputs": [],
   "source": []
  },
  {
   "cell_type": "code",
   "execution_count": null,
   "metadata": {},
   "outputs": [],
   "source": [
    "a = np.random.choice(10, size = (1000,1))"
   ]
  },
  {
   "cell_type": "code",
   "execution_count": 25,
   "metadata": {},
   "outputs": [
    {
     "name": "stdout",
     "output_type": "stream",
     "text": [
      "(1, 1, 1)\n"
     ]
    }
   ],
   "source": [
    "for i in zip([1,2,3], [1, 2, 3], [1]):\n",
    "    print( i )"
   ]
  }
 ],
 "metadata": {
  "kernelspec": {
   "display_name": "Python 3",
   "language": "python",
   "name": "python3"
  },
  "language_info": {
   "codemirror_mode": {
    "name": "ipython",
    "version": 3
   },
   "file_extension": ".py",
   "mimetype": "text/x-python",
   "name": "python",
   "nbconvert_exporter": "python",
   "pygments_lexer": "ipython3",
   "version": "3.7.3"
  }
 },
 "nbformat": 4,
 "nbformat_minor": 4
}
