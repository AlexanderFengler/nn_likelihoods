{
 "cells": [
  {
   "cell_type": "code",
   "execution_count": 1,
   "metadata": {},
   "outputs": [],
   "source": [
    "# Environ\n",
    "import scipy as scp\n",
    "import tensorflow as tf\n",
    "from scipy.stats import gamma\n",
    "import numpy as np\n",
    "import pandas as pd\n",
    "import matplotlib.pyplot as plt\n",
    "from sklearn.neighbors import KernelDensity\n",
    "import random\n",
    "import multiprocessing as mp\n",
    "import psutil\n",
    "import pickle \n",
    "import os\n",
    "import re\n",
    "\n",
    "# Own\n",
    "import ddm_data_simulation as ddm_sim\n",
    "import kde_training_utilities as kde_util\n",
    "import kde_class as kde\n",
    "import boundary_functions as bf"
   ]
  },
  {
   "cell_type": "code",
   "execution_count": 22,
   "metadata": {},
   "outputs": [],
   "source": [
    "# FULL DDM  \n",
    "out = ddm_sim.full_ddm(v = 0, \n",
    "                       a = 1, \n",
    "                       w = 0.5, \n",
    "                       dw = 0.1, \n",
    "                       sdv = 0.5, \n",
    "                       delta_t = 0.01, \n",
    "                       max_t = 20,\n",
    "                       n_samples = 10000,\n",
    "                       boundary_fun = bf.constant,\n",
    "                       boundary_multiplicative = True, \n",
    "                       boundary_params = {})"
   ]
  },
  {
   "cell_type": "code",
   "execution_count": 23,
   "metadata": {},
   "outputs": [
    {
     "data": {
      "text/plain": [
       "(array([2.000e+00, 0.000e+00, 2.000e+00, 0.000e+00, 2.000e+00, 1.000e+00,\n",
       "        2.000e+00, 3.000e+00, 1.400e+01, 1.600e+01, 1.400e+01, 2.000e+01,\n",
       "        4.300e+01, 4.400e+01, 6.900e+01, 1.140e+02, 1.480e+02, 2.220e+02,\n",
       "        3.710e+02, 5.000e+02, 7.660e+02, 1.117e+03, 1.408e+03, 2.310e+02,\n",
       "        1.175e+03, 1.144e+03, 8.130e+02, 5.550e+02, 3.670e+02, 2.530e+02,\n",
       "        1.860e+02, 1.280e+02, 8.600e+01, 4.800e+01, 4.000e+01, 3.500e+01,\n",
       "        1.900e+01, 1.800e+01, 6.000e+00, 3.000e+00, 6.000e+00, 3.000e+00,\n",
       "        0.000e+00, 0.000e+00, 1.000e+00, 2.000e+00, 2.000e+00, 0.000e+00,\n",
       "        0.000e+00, 1.000e+00]),\n",
       " array([-7.53  , -7.2114, -6.8928, -6.5742, -6.2556, -5.937 , -5.6184,\n",
       "        -5.2998, -4.9812, -4.6626, -4.344 , -4.0254, -3.7068, -3.3882,\n",
       "        -3.0696, -2.751 , -2.4324, -2.1138, -1.7952, -1.4766, -1.158 ,\n",
       "        -0.8394, -0.5208, -0.2022,  0.1164,  0.435 ,  0.7536,  1.0722,\n",
       "         1.3908,  1.7094,  2.028 ,  2.3466,  2.6652,  2.9838,  3.3024,\n",
       "         3.621 ,  3.9396,  4.2582,  4.5768,  4.8954,  5.214 ,  5.5326,\n",
       "         5.8512,  6.1698,  6.4884,  6.807 ,  7.1256,  7.4442,  7.7628,\n",
       "         8.0814,  8.4   ]),\n",
       " <a list of 50 Patch objects>)"
      ]
     },
     "execution_count": 23,
     "metadata": {},
     "output_type": "execute_result"
    },
    {
     "data": {
      "image/png": "[encoded data removed]",
      "text/plain": [
       "<Figure size 432x288 with 1 Axes>"
      ]
     },
     "metadata": {
      "needs_background": "light"
     },
     "output_type": "display_data"
    }
   ],
   "source": [
    "plt.hist(out[0] * out[1], bins = 50)"
   ]
  },
  {
   "cell_type": "code",
   "execution_count": 24,
   "metadata": {},
   "outputs": [
    {
     "data": {
      "text/plain": [
       "-0.0176"
      ]
     },
     "execution_count": 24,
     "metadata": {},
     "output_type": "execute_result"
    }
   ],
   "source": [
    "np.sum(out[1]) / 10000"
   ]
  },
  {
   "cell_type": "code",
   "execution_count": null,
   "metadata": {},
   "outputs": [],
   "source": []
  }
 ],
 "metadata": {
  "kernelspec": {
   "display_name": "Python 3",
   "language": "python",
   "name": "python3"
  },
  "language_info": {
   "codemirror_mode": {
    "name": "ipython",
    "version": 3
   },
   "file_extension": ".py",
   "mimetype": "text/x-python",
   "name": "python",
   "nbconvert_exporter": "python",
   "pygments_lexer": "ipython3",
   "version": "3.7.3"
  }
 },
 "nbformat": 4,
 "nbformat_minor": 2
}
