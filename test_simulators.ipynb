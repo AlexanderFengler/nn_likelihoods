{
 "cells": [
  {
   "cell_type": "code",
   "execution_count": 1,
   "metadata": {},
   "outputs": [],
   "source": [
    "# Environ\n",
    "import scipy as scp\n",
    "import tensorflow as tf\n",
    "from scipy.stats import gamma\n",
    "import numpy as np\n",
    "import pandas as pd\n",
    "import matplotlib.pyplot as plt\n",
    "from sklearn.neighbors import KernelDensity\n",
    "from statsmodels.distributions import ECDF\n",
    "import random\n",
    "import multiprocessing as mp\n",
    "import psutil\n",
    "import pickle\n",
    "import os\n",
    "import re\n",
    "import time\n",
    "\n",
    "# import dataset_generator as dg\n",
    "# import make_data_lba as mdlba\n",
    "# from tqdm import tqdm\n",
    "\n",
    "# Own\n",
    "#import ddm_data_simulation as ds\n",
    "import cddm_data_simulation as cds\n",
    "import kde_training_utilities as kde_util\n",
    "import kde_class as kde\n",
    "import boundary_functions as bf\n",
    "\n",
    "from cdwiener import batch_fptd\n",
    "from cdwiener import fptd"
   ]
  },
  {
   "cell_type": "code",
   "execution_count": 330,
   "metadata": {},
   "outputs": [],
   "source": [
    "def save_plot_fun(plot = None):\n",
    "    plot.savefig('testfile.png')\n",
    "def return_plot_fun():\n",
    "    fig = plt.figure(figsize = (8,8))\n",
    "    plt.plot(np.linspace(0, 100, 100), np.linspace(0, 100, 100))\n",
    "    plt.show()\n",
    "    return fig\n",
    "def return_plot():\n",
    "    a = plt.plot(np.linspace(0, 100, 100), np.linspace(0, 100, 100))\n",
    "    return a"
   ]
  },
  {
   "cell_type": "code",
   "execution_count": 2,
   "metadata": {},
   "outputs": [
    {
     "ename": "IndentationError",
     "evalue": "unexpected indent (<ipython-input-2-327d8ab3fb1d>, line 3)",
     "output_type": "error",
     "traceback": [
      "\u001b[0;36m  File \u001b[0;32m\"<ipython-input-2-327d8ab3fb1d>\"\u001b[0;36m, line \u001b[0;32m3\u001b[0m\n\u001b[0;31m    return cds.ddm_flexbound(v = theta[0],\u001b[0m\n\u001b[0m    ^\u001b[0m\n\u001b[0;31mIndentationError\u001b[0m\u001b[0;31m:\u001b[0m unexpected indent\n"
     ]
    }
   ],
   "source": [
    "angle_simulator(theta = [0, 1, 1, 0])\n",
    "weibull_sima\n",
    "    return cds.ddm_flexbound(v = theta[0],\n",
    "                            a = 2.0,\n",
    "                            w = 0.6,\n",
    "                            ndt = 0.9,\n",
    "                            delta_t = 0.01, \n",
    "                            s = 1,\n",
    "                            max_t = 20, \n",
    "                            n_samples = 20000,\n",
    "                            boundary_fun = bf.angle,\n",
    "                            boundary_multiplicative = False,\n",
    "                            boundary_params = {'theta': 0.5})"
   ]
  },
  {
   "cell_type": "code",
   "execution_count": 90,
   "metadata": {},
   "outputs": [],
   "source": [
    "# v = np.random.uniform(low = -2, high = 2, size = 100)\n",
    "# a = np.random.uniform(low = 0.5, high = 2.0, size = 100)\n",
    "# w = np.random.uniform(low = 0.2, high = 0.8, size = 100)\n",
    "\n",
    "# v = v[0]\n",
    "# a = a[0]\n",
    "# w = w[0]\n",
    "out = cds.ddm(v = v, \n",
    "              a = a,\n",
    "              w = w,\n",
    "              ndt = 0.0, \n",
    "              delta_t = 0.001, \n",
    "              s = 1,  #np.sqrt(2),\n",
    "              max_t = 20,\n",
    "              n_samples = 20000)"
   ]
  },
  {
   "cell_type": "code",
   "execution_count": 91,
   "metadata": {},
   "outputs": [],
   "source": [
    "from scipy.stats import gaussian_kde"
   ]
  },
  {
   "cell_type": "code",
   "execution_count": 92,
   "metadata": {},
   "outputs": [],
   "source": [
    "my_kde = gaussian_kde(np.log(out[0][out[1] == -1]))\n",
    "my_kde_2 = gaussian_kde(out[0][out[1] == -1])"
   ]
  },
  {
   "cell_type": "code",
   "execution_count": 97,
   "metadata": {},
   "outputs": [],
   "source": [
    "logpdf_ =  - np.log(out[0][out[1] == -1]) + my_kde.logpdf(np.log(out[0][out[1] == -1])) "
   ]
  },
  {
   "cell_type": "code",
   "execution_count": null,
   "metadata": {},
   "outputs": [],
   "source": [
    "# np.sum( 1 / (out[0][out[1] == -1]) * my_kde.logpdf(np.log(out[0][out[1] == -1])))"
   ]
  },
  {
   "cell_type": "code",
   "execution_count": 102,
   "metadata": {},
   "outputs": [],
   "source": [
    "logpdf_2 = my_kde_2.logpdf(out[0][out[1] == -1])"
   ]
  },
  {
   "cell_type": "code",
   "execution_count": 2,
   "metadata": {},
   "outputs": [],
   "source": [
    "out_1 =  cds.ddm_flexbound(v = -.427,\n",
    "                    a = 1.47,\n",
    "                    w = 0.55,\n",
    "                    ndt = 1.45,\n",
    "                    delta_t = 0.01, \n",
    "                    s = 1,\n",
    "                    max_t = 20, \n",
    "                    n_samples = 20000,\n",
    "                    boundary_fun = bf.angle,\n",
    "                    boundary_multiplicative = False,\n",
    "                    boundary_params = {'theta': 0.87})\n",
    "\n",
    "out_2 = cds.ddm_flexbound(v = -.29,\n",
    "                    a = 1.42,\n",
    "                    w = 0.56,\n",
    "                    ndt = 1.14,\n",
    "                    delta_t = 0.01, \n",
    "                    s = 1,\n",
    "                    max_t = 20, \n",
    "                    n_samples = 20000,\n",
    "                    boundary_fun = bf.angle,\n",
    "                    boundary_multiplicative = False,\n",
    "                    boundary_params = {'theta': 0.80})"
   ]
  },
  {
   "cell_type": "code",
   "execution_count": 5,
   "metadata": {},
   "outputs": [
    {
     "data": {
      "text/plain": [
       "(array([ 12.,  29., 100., 205., 274., 354., 470., 549., 626., 676., 709.,\n",
       "        562., 747., 839., 814., 709., 774., 640., 535., 435., 299., 177.,\n",
       "         56.,  14.,   3.,   0.,   0.,   0.,   0.,   0.,   0.,   0.,   0.,\n",
       "          0.,   0.,   0.,   0.,   0.,   0.,   0.,   0.,   0.,   0.,   0.,\n",
       "          0.,   0.,   0.,   0.,   0.,   0.,   0.,   0.,   0.,   0.,   0.,\n",
       "          0.,   0.,   0.,   0.,   0.,   0.,   0.,   0.,   0.,   0.,   0.,\n",
       "          0.,   0.,   0.,   0.,   0.,   0.,   0.,   0.,   1.,  16.,  91.,\n",
       "        158., 332., 441., 517., 569., 631., 595., 634., 635., 545., 589.,\n",
       "        448., 492., 434., 431., 429., 405., 326., 299., 196., 110.,  55.,\n",
       "         13.]),\n",
       " array([-2.45999908, -2.4108991 , -2.36179912, -2.31269914, -2.26359916,\n",
       "        -2.21449918, -2.16539919, -2.11629921, -2.06719923, -2.01809925,\n",
       "        -1.96899927, -1.91989928, -1.8707993 , -1.82169932, -1.77259934,\n",
       "        -1.72349936, -1.67439938, -1.62529939, -1.57619941, -1.52709943,\n",
       "        -1.47799945, -1.42889947, -1.37979949, -1.3306995 , -1.28159952,\n",
       "        -1.23249954, -1.18339956, -1.13429958, -1.08519959, -1.03609961,\n",
       "        -0.98699963, -0.93789965, -0.88879967, -0.83969969, -0.7905997 ,\n",
       "        -0.74149972, -0.69239974, -0.64329976, -0.59419978, -0.54509979,\n",
       "        -0.49599981, -0.44689983, -0.39779985, -0.34869987, -0.29959989,\n",
       "        -0.2504999 , -0.20139992, -0.15229994, -0.10319996, -0.05409998,\n",
       "        -0.005     ,  0.04409999,  0.09319997,  0.14229995,  0.19139993,\n",
       "         0.24049991,  0.2895999 ,  0.33869988,  0.38779986,  0.43689984,\n",
       "         0.48599982,  0.5350998 ,  0.58419979,  0.63329977,  0.68239975,\n",
       "         0.73149973,  0.78059971,  0.8296997 ,  0.87879968,  0.92789966,\n",
       "         0.97699964,  1.02609962,  1.0751996 ,  1.12429959,  1.17339957,\n",
       "         1.22249955,  1.27159953,  1.32069951,  1.36979949,  1.41889948,\n",
       "         1.46799946,  1.51709944,  1.56619942,  1.6152994 ,  1.66439939,\n",
       "         1.71349937,  1.76259935,  1.81169933,  1.86079931,  1.90989929,\n",
       "         1.95899928,  2.00809926,  2.05719924,  2.10629922,  2.1553992 ,\n",
       "         2.20449919,  2.25359917,  2.30269915,  2.35179913,  2.40089911,\n",
       "         2.44999909]),\n",
       " <a list of 100 Patch objects>)"
      ]
     },
     "execution_count": 5,
     "metadata": {},
     "output_type": "execute_result"
    },
    {
     "data": {
      "image/png": "[encoded data removed]",
      "text/plain": [
       "<Figure size 432x288 with 1 Axes>"
      ]
     },
     "metadata": {
      "needs_background": "light"
     },
     "output_type": "display_data"
    }
   ],
   "source": [
    "plt.hist(out_1[0] * out_1[1], color = 'green', bins = 100)\n",
    "plt.hist(out_2[0] * out_2[1], color = 'blue', bins = 100)"
   ]
  },
  {
   "cell_type": "code",
   "execution_count": 109,
   "metadata": {},
   "outputs": [
    {
     "data": {
      "text/plain": [
       "(array([ 31.,   0.,   0.,  27., 171., 163., 115., 106.,  77.,  82.,  57.,\n",
       "         45.,  46.,  42.,  31.,  15.,   0.,   0.,   0.,   0.,   0.,   6.,\n",
       "          6.,   0.,   0.,   0.,   5.,   6.,   0.,   0.,   0.,   0.,   0.,\n",
       "          0.,   0.,   0.,   0.,   0.,   0.,   0.,   0.,   0.,   0.,   0.,\n",
       "          1.,   0.,   0.,   0.,   0.,   1.]),\n",
       " array([0.03      , 0.08139988, 0.13279976, 0.18419965, 0.23559952,\n",
       "        0.2869994 , 0.33839926, 0.38979915, 0.44119903, 0.49259892,\n",
       "        0.5439988 , 0.59539866, 0.64679855, 0.69819844, 0.7495983 ,\n",
       "        0.8009982 , 0.85239804, 0.9037979 , 0.9551978 , 1.0065978 ,\n",
       "        1.0579976 , 1.1093974 , 1.1607974 , 1.2121972 , 1.2635971 ,\n",
       "        1.314997  , 1.3663969 , 1.4177967 , 1.4691966 , 1.5205965 ,\n",
       "        1.5719963 , 1.6233963 , 1.6747961 , 1.726196  , 1.7775959 ,\n",
       "        1.8289957 , 1.8803957 , 1.9317955 , 1.9831954 , 2.0345953 ,\n",
       "        2.0859952 , 2.1373951 , 2.1887949 , 2.2401948 , 2.2915947 ,\n",
       "        2.3429945 , 2.3943944 , 2.4457943 , 2.4971943 , 2.548594  ,\n",
       "        2.599994  ], dtype=float32),\n",
       " <a list of 50 Patch objects>)"
      ]
     },
     "execution_count": 109,
     "metadata": {},
     "output_type": "execute_result"
    },
    {
     "data": {
      "image/png": "[encoded data removed]",
      "text/plain": [
       "<Figure size 432x288 with 1 Axes>"
      ]
     },
     "metadata": {
      "needs_background": "light"
     },
     "output_type": "display_data"
    }
   ],
   "source": [
    "plt.hist(out_1[0][out[1] == -1][logpdf_ < logpdf_2], bins = 50)"
   ]
  },
  {
   "cell_type": "code",
   "execution_count": 101,
   "metadata": {},
   "outputs": [
    {
     "data": {
      "text/plain": [
       "293.6286582297605"
      ]
     },
     "execution_count": 101,
     "metadata": {},
     "output_type": "execute_result"
    }
   ],
   "source": [
    "logpdf_2"
   ]
  },
  {
   "cell_type": "code",
   "execution_count": 73,
   "metadata": {},
   "outputs": [
    {
     "data": {
      "text/plain": [
       "-1881.354850185424"
      ]
     },
     "execution_count": 73,
     "metadata": {},
     "output_type": "execute_result"
    }
   ],
   "source": [
    "np.sum( my_kde.logpdf(np.log(out[0][out[1] == -1])) )"
   ]
  },
  {
   "cell_type": "code",
   "execution_count": 56,
   "metadata": {},
   "outputs": [
    {
     "data": {
      "text/plain": [
       "[<matplotlib.lines.Line2D at 0x143355890>]"
      ]
     },
     "execution_count": 56,
     "metadata": {},
     "output_type": "execute_result"
    },
    {
     "data": {
      "image/png": "[encoded data removed]",
      "text/plain": [
       "<Figure size 432x288 with 1 Axes>"
      ]
     },
     "metadata": {
      "needs_background": "light"
     },
     "output_type": "display_data"
    }
   ],
   "source": [
    "plt.hist(np.log(out[0][out[1] == -1]), bins = 100, density = True)\n",
    "plt.plot(np.arange(-5, 1, 0.1), my_kde.pdf(np.arange(-5, 1, 0.1)), color = 'green')"
   ]
  },
  {
   "cell_type": "code",
   "execution_count": 108,
   "metadata": {},
   "outputs": [
    {
     "data": {
      "text/plain": [
       "[<matplotlib.lines.Line2D at 0x146d3ca10>]"
      ]
     },
     "execution_count": 108,
     "metadata": {},
     "output_type": "execute_result"
    },
    {
     "data": {
      "image/png": "[encoded data removed]",
      "text/plain": [
       "<Figure size 432x288 with 1 Axes>"
      ]
     },
     "metadata": {
      "needs_background": "light"
     },
     "output_type": "display_data"
    }
   ],
   "source": [
    "plt.hist(out[0][out[1] == -1], bins = 100, density = True, alpha = 0.2)\n",
    "plt.plot(np.arange(0, 5, 0.1), my_kde_2.pdf(np.arange(0, 5, 0.1)), color = 'green')\n",
    "\n",
    "y = np.exp(np.arange(-5, 1, 0.1))\n",
    "plt.plot(y, (1 / y) * my_kde.pdf(np.arange(-5, 1, 0.1)), color = 'red')"
   ]
  },
  {
   "cell_type": "code",
   "execution_count": 36,
   "metadata": {},
   "outputs": [
    {
     "data": {
      "text/plain": [
       "-1986.624764453648"
      ]
     },
     "execution_count": 36,
     "metadata": {},
     "output_type": "execute_result"
    }
   ],
   "source": [
    "np.sum(my_kde.logpdf(np.log(out[0][out[1] == -1])))"
   ]
  },
  {
   "cell_type": "code",
   "execution_count": 84,
   "metadata": {},
   "outputs": [
    {
     "data": {
      "text/plain": [
       "array([3.90808553e-01, 3.97089856e-01, 4.04106654e-01, 4.11952769e-01,\n",
       "       4.20735458e-01, 4.30577569e-01, 4.41620065e-01, 4.54024966e-01,\n",
       "       4.67978764e-01, 4.83696378e-01, 5.01425674e-01, 5.21452582e-01,\n",
       "       5.44106788e-01, 5.69767875e-01, 5.98871702e-01, 6.31916545e-01,\n",
       "       6.69468253e-01, 7.12163133e-01, 7.60706600e-01, 8.15864607e-01,\n",
       "       8.78443533e-01, 9.49252510e-01, 1.02904028e+00, 1.11839701e+00,\n",
       "       1.21761082e+00, 1.32647134e+00, 1.44402000e+00, 1.56826415e+00,\n",
       "       1.69590047e+00, 1.82213243e+00, 1.94070183e+00, 2.04425231e+00,\n",
       "       2.12504694e+00, 2.17583481e+00, 2.19038228e+00, 2.16319545e+00,\n",
       "       2.08878591e+00, 1.96242568e+00, 1.78482866e+00, 1.56964796e+00,\n",
       "       1.34635701e+00, 1.15009615e+00, 9.99307863e-01, 8.79553000e-01,\n",
       "       7.63070903e-01, 6.37010728e-01, 4.92989169e-01, 3.58475799e-01,\n",
       "       2.47916535e-01, 1.75194190e-01, 1.57418010e-01, 1.14839299e-01,\n",
       "       7.79238040e-02, 4.26931673e-02, 3.03559360e-02, 1.02157375e-02,\n",
       "       5.63219224e-03, 5.02193165e-03, 4.27671272e-04, 1.37969909e-10])"
      ]
     },
     "execution_count": 84,
     "metadata": {},
     "output_type": "execute_result"
    }
   ],
   "source": [
    "my_kde_2.pdf(np.exp(np.arange(-5, 1, 0.1)))"
   ]
  },
  {
   "cell_type": "code",
   "execution_count": 82,
   "metadata": {},
   "outputs": [
    {
     "data": {
      "text/plain": [
       "array([7.74188898e-23, 2.87713686e-20, 7.23194152e-18, 1.22956220e-15,\n",
       "       1.41411147e-13, 1.10032091e-11, 5.79395222e-10, 2.06568225e-08,\n",
       "       4.99087910e-07, 8.18548129e-06, 9.14191291e-05, 6.99463065e-04,\n",
       "       3.70844319e-03, 1.39168509e-02, 3.83434806e-02, 8.17749412e-02,\n",
       "       1.42682813e-01, 2.11367611e-01, 2.74983309e-01, 3.41470107e-01,\n",
       "       4.50599611e-01, 6.32168431e-01, 8.74432737e-01, 1.15011257e+00,\n",
       "       1.43325166e+00, 1.69606970e+00, 1.91725254e+00, 2.08624244e+00,\n",
       "       2.21226014e+00, 2.31751322e+00, 2.39645361e+00, 2.41696116e+00,\n",
       "       2.37809837e+00, 2.32587801e+00, 2.29504625e+00, 2.26112268e+00,\n",
       "       2.16678578e+00, 1.98658284e+00, 1.74825131e+00, 1.49946700e+00,\n",
       "       1.27822172e+00, 1.10257967e+00, 9.66281381e-01, 8.47177680e-01,\n",
       "       7.26337295e-01, 5.98461275e-01, 4.70029793e-01, 3.53748505e-01,\n",
       "       2.60884516e-01, 1.94197620e-01, 1.46858689e-01, 1.09272134e-01,\n",
       "       7.68614834e-02, 5.01654508e-02, 3.03503555e-02, 1.71006747e-02,\n",
       "       9.09919726e-03, 4.65578682e-03, 2.23511590e-03, 9.22667184e-04])"
      ]
     },
     "execution_count": 82,
     "metadata": {},
     "output_type": "execute_result"
    }
   ],
   "source": [
    "(1 / y) * my_kde.pdf(np.arange(-5, 1, 0.1))"
   ]
  },
  {
   "cell_type": "code",
   "execution_count": null,
   "metadata": {},
   "outputs": [],
   "source": []
  },
  {
   "cell_type": "code",
   "execution_count": 38,
   "metadata": {},
   "outputs": [
    {
     "data": {
      "text/plain": [
       "250.72488101114968"
      ]
     },
     "execution_count": 38,
     "metadata": {},
     "output_type": "execute_result"
    }
   ],
   "source": [
    "np.sum(my_kde_2.logpdf(out[0][out[1] == -1]))"
   ]
  },
  {
   "cell_type": "code",
   "execution_count": 39,
   "metadata": {},
   "outputs": [],
   "source": [
    "from statsmodels.nonparametric.kde import KDEUnivariate"
   ]
  },
  {
   "cell_type": "code",
   "execution_count": null,
   "metadata": {},
   "outputs": [],
   "source": [
    "KDEUnivariate()"
   ]
  },
  {
   "cell_type": "code",
   "execution_count": 2,
   "metadata": {},
   "outputs": [
    {
     "name": "stdout",
     "output_type": "stream",
     "text": [
      "0\n",
      "10\n",
      "20\n",
      "30\n",
      "40\n",
      "50\n",
      "60\n",
      "70\n",
      "80\n",
      "90\n",
      "0\n",
      "10\n",
      "20\n",
      "30\n",
      "40\n",
      "50\n",
      "60\n",
      "70\n",
      "80\n",
      "90\n",
      "0\n",
      "10\n",
      "20\n",
      "30\n",
      "40\n",
      "50\n",
      "60\n",
      "70\n",
      "80\n",
      "90\n",
      "0\n",
      "10\n",
      "20\n",
      "30\n",
      "40\n",
      "50\n",
      "60\n",
      "70\n",
      "80\n",
      "90\n",
      "0\n",
      "10\n",
      "20\n",
      "30\n",
      "40\n",
      "50\n",
      "60\n",
      "70\n",
      "80\n",
      "90\n",
      "0\n",
      "10\n",
      "20\n",
      "30\n",
      "40\n",
      "50\n",
      "60\n",
      "70\n",
      "80\n",
      "90\n",
      "0\n",
      "10\n",
      "20\n",
      "30\n",
      "40\n",
      "50\n",
      "60\n",
      "70\n",
      "80\n",
      "90\n",
      "0.7677662205696106\n"
     ]
    }
   ],
   "source": [
    "repeats = 100\n",
    "sample_sizes = [1024, 4096, 8192, 16384, 32768, 65536, 13172]\n",
    "timings = []\n",
    "v = np.random.uniform(low = -2, high = 2, size = 100)\n",
    "a = np.random.uniform(low = 0.5, high = 2.0, size = 100)\n",
    "w = np.random.uniform(low = 0.2, high = 0.8, size = 100)\n",
    "\n",
    "for sample_size in sample_sizes:\n",
    "    #kde_data = cds.ddm(n_samples = sample_size)\n",
    "    #kde_data = kde_data[:2]\n",
    "    #print('starting sample size: ', sample_size)\n",
    "    \n",
    "    now = time.time()\n",
    "    for i in range(repeats):\n",
    "#         print(v[i])\n",
    "#         print(a[i])\n",
    "#         print(w[i])\n",
    "        out = cds.ddm(v = v[i], \n",
    "                      a = a[i],\n",
    "                      w = w[i],\n",
    "                      ndt = 0.0, \n",
    "                      delta_t = 0.001, \n",
    "                      s = 1,  #np.sqrt(2),\n",
    "                      max_t = 20,\n",
    "                      n_samples = 100000)\n",
    "        #print('done simulating')\n",
    "\n",
    "        #my_kde = kde.logkde(out)\n",
    "        #evals = my_kde.kde_eval(data = kde_data)\n",
    "        #print('done with kde eval')\n",
    "\n",
    "        if i % 10 == 0:\n",
    "            print(i)\n",
    "    timings.append((time.time() - now) / repeats)\n",
    "\n",
    "print((time.time() - now) / repeats)"
   ]
  },
  {
   "cell_type": "code",
   "execution_count": 12,
   "metadata": {},
   "outputs": [
    {
     "name": "stdout",
     "output_type": "stream",
     "text": [
      "0\n",
      "2.4775609970092773\n"
     ]
    }
   ],
   "source": [
    "repeats = 1\n",
    "now = time.time()\n",
    "\n",
    "for i in range(repeats):\n",
    "    out2 = cds.ddm_flexbound_pre(v = 0.0, \n",
    "                                 a = 3.0,\n",
    "                                 w = 0.5,\n",
    "                                 ndt = 0.0, \n",
    "                                 delta_t = 0.001, \n",
    "                                 s = 1,  #np.sqrt(2),\n",
    "                                 max_t = 20,\n",
    "                                 n_samples = 10000,\n",
    "                                 boundary_fun = bf.constant,\n",
    "                                 boundary_multiplicative = False, \n",
    "                                 boundary_params = {'theta': 0.0})\n",
    "                                 #boundary_params = {\"theta\": 0.01})\n",
    "    if i % 10 == 0:\n",
    "        print(i)\n",
    "\n",
    "print((time.time() - now) / repeats)"
   ]
  },
  {
   "cell_type": "code",
   "execution_count": 19,
   "metadata": {},
   "outputs": [
    {
     "data": {
      "text/plain": [
       "(array([3.000e+00, 1.000e+00, 5.000e+00, 2.000e+00, 2.000e+00, 8.000e+00,\n",
       "        1.600e+01, 3.100e+01, 3.700e+01, 3.900e+01, 7.100e+01, 8.800e+01,\n",
       "        1.330e+02, 1.400e+02, 2.280e+02, 2.470e+02, 2.930e+02, 3.610e+02,\n",
       "        4.280e+02, 5.090e+02, 5.440e+02, 6.580e+02, 7.690e+02, 9.190e+02,\n",
       "        1.120e+03, 1.338e+03, 1.532e+03, 1.923e+03, 2.020e+03, 1.354e+03,\n",
       "        6.900e+01, 0.000e+00, 0.000e+00, 0.000e+00, 0.000e+00, 0.000e+00,\n",
       "        0.000e+00, 0.000e+00, 0.000e+00, 0.000e+00, 0.000e+00, 0.000e+00,\n",
       "        0.000e+00, 0.000e+00, 0.000e+00, 0.000e+00, 0.000e+00, 0.000e+00,\n",
       "        0.000e+00, 0.000e+00, 0.000e+00, 0.000e+00, 0.000e+00, 0.000e+00,\n",
       "        0.000e+00, 0.000e+00, 0.000e+00, 0.000e+00, 0.000e+00, 0.000e+00,\n",
       "        0.000e+00, 0.000e+00, 0.000e+00, 0.000e+00, 0.000e+00, 0.000e+00,\n",
       "        0.000e+00, 0.000e+00, 0.000e+00, 0.000e+00, 1.000e+00, 9.400e+01,\n",
       "        3.120e+02, 4.560e+02, 4.580e+02, 4.670e+02, 5.050e+02, 3.830e+02,\n",
       "        3.720e+02, 3.770e+02, 3.170e+02, 2.490e+02, 2.050e+02, 1.820e+02,\n",
       "        1.830e+02, 1.270e+02, 1.050e+02, 7.800e+01, 7.700e+01, 4.800e+01,\n",
       "        2.900e+01, 2.300e+01, 2.600e+01, 1.700e+01, 9.000e+00, 4.000e+00,\n",
       "        2.000e+00, 2.000e+00, 2.000e+00, 2.000e+00]),\n",
       " array([-2.38801217, -2.34058194, -2.29315172, -2.24572149, -2.19829126,\n",
       "        -2.15086104, -2.10343081, -2.05600058, -2.00857036, -1.96114013,\n",
       "        -1.9137099 , -1.86627968, -1.81884945, -1.77141922, -1.723989  ,\n",
       "        -1.67655877, -1.62912854, -1.58169832, -1.53426809, -1.48683786,\n",
       "        -1.43940763, -1.39197741, -1.34454718, -1.29711695, -1.24968673,\n",
       "        -1.2022565 , -1.15482627, -1.10739605, -1.05996582, -1.01253559,\n",
       "        -0.96510537, -0.91767514, -0.87024491, -0.82281469, -0.77538446,\n",
       "        -0.72795423, -0.68052401, -0.63309378, -0.58566355, -0.53823333,\n",
       "        -0.4908031 , -0.44337287, -0.39594265, -0.34851242, -0.30108219,\n",
       "        -0.25365196, -0.20622174, -0.15879151, -0.11136128, -0.06393106,\n",
       "        -0.01650083,  0.0309294 ,  0.07835962,  0.12578985,  0.17322008,\n",
       "         0.2206503 ,  0.26808053,  0.31551076,  0.36294098,  0.41037121,\n",
       "         0.45780144,  0.50523166,  0.55266189,  0.60009212,  0.64752234,\n",
       "         0.69495257,  0.7423828 ,  0.78981302,  0.83724325,  0.88467348,\n",
       "         0.93210371,  0.97953393,  1.02696416,  1.07439439,  1.12182461,\n",
       "         1.16925484,  1.21668507,  1.26411529,  1.31154552,  1.35897575,\n",
       "         1.40640597,  1.4538362 ,  1.50126643,  1.54869665,  1.59612688,\n",
       "         1.64355711,  1.69098733,  1.73841756,  1.78584779,  1.83327801,\n",
       "         1.88070824,  1.92813847,  1.9755687 ,  2.02299892,  2.07042915,\n",
       "         2.11785938,  2.1652896 ,  2.21271983,  2.26015006,  2.30758028,\n",
       "         2.35501051]),\n",
       " <a list of 100 Patch objects>)"
      ]
     },
     "execution_count": 19,
     "metadata": {},
     "output_type": "execute_result"
    },
    {
     "data": {
      "image/png": "[encoded data removed]",
      "text/plain": [
       "<Figure size 432x288 with 1 Axes>"
      ]
     },
     "metadata": {
      "needs_background": "light"
     },
     "output_type": "display_data"
    }
   ],
   "source": [
    "plt.hist(out[0]*out[1], bins = 100)"
   ]
  },
  {
   "cell_type": "code",
   "execution_count": 20,
   "metadata": {},
   "outputs": [
    {
     "name": "stdout",
     "output_type": "stream",
     "text": [
      "0\n",
      "0.20710887908935546\n"
     ]
    }
   ],
   "source": [
    "repeats = 10\n",
    "now = time.time()\n",
    "\n",
    "for i in range(repeats):\n",
    "    out = cds.ddm_flexbound(v = -0.5, \n",
    "                            a = 0.7,\n",
    "                            w = 0.4,\n",
    "                            ndt = 0.93, \n",
    "                            delta_t = 0.001, \n",
    "                            s = 1,  #np.sqrt(2),\n",
    "                            max_t = 20,\n",
    "                            n_samples = 20000,\n",
    "                            boundary_fun = bf.angle,\n",
    "                            boundary_multiplicative = False, \n",
    "                            boundary_params = {'theta': 0.3})\n",
    "                            #boundary_params = {\"theta\": 0.01})\n",
    "    if i % 10 == 0:\n",
    "        print(i)\n",
    "  \n",
    "print((time.time() - now) / repeats)"
   ]
  },
  {
   "cell_type": "code",
   "execution_count": 21,
   "metadata": {},
   "outputs": [
    {
     "data": {
      "text/plain": [
       "(array([4.000e+00, 1.000e+00, 2.000e+00, 6.000e+00, 8.000e+00, 1.100e+01,\n",
       "        2.200e+01, 3.000e+01, 3.800e+01, 5.000e+01, 5.900e+01, 1.150e+02,\n",
       "        1.260e+02, 1.480e+02, 1.820e+02, 2.370e+02, 2.770e+02, 3.620e+02,\n",
       "        4.440e+02, 5.730e+02, 6.280e+02, 7.520e+02, 8.710e+02, 1.039e+03,\n",
       "        1.280e+03, 1.492e+03, 1.700e+03, 2.017e+03, 1.771e+03, 4.610e+02,\n",
       "        0.000e+00, 0.000e+00, 0.000e+00, 0.000e+00, 0.000e+00, 0.000e+00,\n",
       "        0.000e+00, 0.000e+00, 0.000e+00, 0.000e+00, 0.000e+00, 0.000e+00,\n",
       "        0.000e+00, 0.000e+00, 0.000e+00, 0.000e+00, 0.000e+00, 0.000e+00,\n",
       "        0.000e+00, 0.000e+00, 0.000e+00, 0.000e+00, 0.000e+00, 0.000e+00,\n",
       "        0.000e+00, 0.000e+00, 0.000e+00, 0.000e+00, 0.000e+00, 0.000e+00,\n",
       "        0.000e+00, 0.000e+00, 0.000e+00, 0.000e+00, 0.000e+00, 0.000e+00,\n",
       "        0.000e+00, 0.000e+00, 0.000e+00, 0.000e+00, 6.800e+01, 3.020e+02,\n",
       "        4.480e+02, 5.170e+02, 5.120e+02, 4.760e+02, 4.680e+02, 4.060e+02,\n",
       "        3.670e+02, 3.270e+02, 2.700e+02, 2.630e+02, 1.530e+02, 1.410e+02,\n",
       "        1.350e+02, 1.140e+02, 8.300e+01, 5.800e+01, 5.200e+01, 3.700e+01,\n",
       "        3.300e+01, 1.700e+01, 2.000e+01, 1.600e+01, 5.000e+00, 2.000e+00,\n",
       "        3.000e+00, 0.000e+00, 0.000e+00, 1.000e+00]),\n",
       " array([-2.37201142, -2.32424118, -2.27647094, -2.2287007 , -2.18093045,\n",
       "        -2.13316021, -2.08538997, -2.03761972, -1.98984948, -1.94207924,\n",
       "        -1.894309  , -1.84653875, -1.79876851, -1.75099827, -1.70322803,\n",
       "        -1.65545778, -1.60768754, -1.5599173 , -1.51214705, -1.46437681,\n",
       "        -1.41660657, -1.36883633, -1.32106608, -1.27329584, -1.2255256 ,\n",
       "        -1.17775536, -1.12998511, -1.08221487, -1.03444463, -0.98667439,\n",
       "        -0.93890414, -0.8911339 , -0.84336366, -0.79559341, -0.74782317,\n",
       "        -0.70005293, -0.65228269, -0.60451244, -0.5567422 , -0.50897196,\n",
       "        -0.46120172, -0.41343147, -0.36566123, -0.31789099, -0.27012074,\n",
       "        -0.2223505 , -0.17458026, -0.12681002, -0.07903977, -0.03126953,\n",
       "         0.01650071,  0.06427095,  0.1120412 ,  0.15981144,  0.20758168,\n",
       "         0.25535192,  0.30312217,  0.35089241,  0.39866265,  0.4464329 ,\n",
       "         0.49420314,  0.54197338,  0.58974362,  0.63751387,  0.68528411,\n",
       "         0.73305435,  0.78082459,  0.82859484,  0.87636508,  0.92413532,\n",
       "         0.97190557,  1.01967581,  1.06744605,  1.11521629,  1.16298654,\n",
       "         1.21075678,  1.25852702,  1.30629726,  1.35406751,  1.40183775,\n",
       "         1.44960799,  1.49737823,  1.54514848,  1.59291872,  1.64068896,\n",
       "         1.68845921,  1.73622945,  1.78399969,  1.83176993,  1.87954018,\n",
       "         1.92731042,  1.97508066,  2.0228509 ,  2.07062115,  2.11839139,\n",
       "         2.16616163,  2.21393188,  2.26170212,  2.30947236,  2.3572426 ,\n",
       "         2.40501285]),\n",
       " <a list of 100 Patch objects>)"
      ]
     },
     "execution_count": 21,
     "metadata": {},
     "output_type": "execute_result"
    },
    {
     "data": {
      "image/png": "[encoded data removed]",
      "text/plain": [
       "<Figure size 432x288 with 1 Axes>"
      ]
     },
     "metadata": {
      "needs_background": "light"
     },
     "output_type": "display_data"
    }
   ],
   "source": [
    "plt.hist(out[0]*out[1], bins = 100)"
   ]
  },
  {
   "cell_type": "code",
   "execution_count": 11,
   "metadata": {},
   "outputs": [
    {
     "name": "stdout",
     "output_type": "stream",
     "text": [
      "0\n",
      "0.1838829517364502\n"
     ]
    }
   ],
   "source": [
    "# DDM\n",
    "now = time.time()\n",
    "repeats = 1\n",
    "my_means = np.zeros(repeats)\n",
    "\n",
    "v_vec = np.random.uniform(low = -3, high = 3, size = 5000)\n",
    "a_vec = np.random.uniform(low = 0.5, high = 2.5, size = 5000)\n",
    "w_vec = np.random.uniform(low = 0.2, high = 0.8, size = 5000)\n",
    "dw_vec = np.random.uniform(low = 0.05, high = 0.1, size = 5000)\n",
    "sdv_vec = np.random.uniform(low = -2.5, high = -2.5, size = 5000)\n",
    "dndt = 0.1\n",
    "ndt = 1\n",
    "\n",
    "\n",
    "\n",
    "for i in range(repeats):\n",
    "    out = cds.full_ddm(v = -0.12, \n",
    "                       a = 2.0,\n",
    "                       w = 0.99,\n",
    "                       ndt = 0.93, \n",
    "                       dw = 0,\n",
    "                       sdv = 0,\n",
    "                       dndt = 0,\n",
    "                       delta_t = 0.001, \n",
    "                       s = 1,  #np.sqrt(2),\n",
    "                       max_t = 20,\n",
    "                       n_samples = 20000,\n",
    "                       boundary_fun = bf.constant,\n",
    "                       boundary_multiplicative = True, \n",
    "                       boundary_params = {})\n",
    "                       #boundary_params = {\"theta\": 0.01})\n",
    "    if i % 100 == 0:\n",
    "        print(i)\n",
    "    \n",
    "    my_means[i] = np.mean(out[0][out[1] == 1])\n",
    "    \n",
    "print(time.time() - now)"
   ]
  },
  {
   "cell_type": "code",
   "execution_count": 7,
   "metadata": {},
   "outputs": [
    {
     "data": {
      "text/plain": [
       "array([ 9.68210300e-02, -2.50630771e-02,  6.32613612e-01, -5.41730074e-01,\n",
       "        4.92690684e-01, -5.27362446e-02, -9.45719158e-01, -6.00292601e-01,\n",
       "        1.03545782e+00, -4.51041286e-01, -5.92502382e-01, -7.73231594e-01,\n",
       "        4.22952152e-01, -9.03050808e-01,  9.13081343e-01,  7.73354314e-01,\n",
       "        1.95701594e-02,  1.45641079e+00,  1.12542351e+00,  1.82689034e+00,\n",
       "        1.88653215e+00, -2.35638584e-01,  3.07012865e-01,  7.25416684e-01,\n",
       "        1.54732993e+00,  4.17456462e-03, -8.27312168e-01,  1.39098540e+00,\n",
       "        6.45691376e-01,  1.76191991e+00, -5.35368453e-01,  8.49760735e-03,\n",
       "        1.04095366e+00, -7.38055654e-01, -2.93444344e-01,  4.86806733e-01,\n",
       "       -9.98708438e-01,  1.60121484e-01,  1.49868414e+00, -7.70565600e-01,\n",
       "        1.99795810e+00, -6.85388104e-01,  1.13876486e+00,  6.79229751e-01,\n",
       "       -7.83968061e-01, -7.96254508e-01,  1.30805971e+00, -4.58494793e-01,\n",
       "        3.09233865e-01,  4.19219572e-01,  4.99748299e-01,  8.78974332e-01,\n",
       "       -8.84283350e-01, -2.97773226e-01, -3.44555110e-01,  1.67246713e+00,\n",
       "        7.62224250e-02,  1.33326253e+00,  1.15270092e+00,  1.95543274e+00,\n",
       "       -8.97205705e-02,  1.18177714e+00, -1.60003046e-01,  3.95676419e-01,\n",
       "        1.90602719e+00,  1.00439473e+00,  6.91625286e-01, -5.84883681e-01,\n",
       "        9.57559153e-01,  1.47383367e+00,  6.15765804e-01,  5.33212816e-02,\n",
       "        1.61101334e+00,  2.03232409e-01,  1.25413241e+00, -6.95052214e-01,\n",
       "       -3.31798929e-01,  1.29377223e+00,  1.08247765e+00,  1.08586779e+00,\n",
       "       -3.47483588e-01,  1.10805910e+00, -3.10723012e-01,  6.90987080e-01,\n",
       "       -7.59221759e-01,  1.35123627e+00,  1.68566857e+00, -8.40521488e-01,\n",
       "       -9.43409364e-02,  1.73216549e+00, -6.16612238e-01, -2.41022814e-01,\n",
       "        1.90362123e+00,  1.49466694e+00, -4.03725040e-01,  5.81099811e-02,\n",
       "        1.97115133e+00, -3.05093201e-02,  1.39657251e+00,  4.78135459e-01,\n",
       "       -5.84598856e-01,  3.72523741e-01,  1.52555773e-01, -2.30432824e-01,\n",
       "       -9.03970709e-01,  1.23556437e+00,  1.30973790e+00,  1.81423403e+00,\n",
       "       -4.17872380e-01,  1.68471756e+00,  1.62011055e+00,  6.08412736e-01,\n",
       "       -5.59150483e-01,  1.60938456e+00,  1.53929495e+00,  5.55175536e-01,\n",
       "        8.56032894e-01,  8.06054504e-01, -2.55605486e-01,  8.86361573e-01,\n",
       "        1.41488547e+00,  1.50847494e-01,  1.50670357e+00, -8.25578833e-01,\n",
       "        4.86396668e-01, -5.39347833e-01,  2.25137784e-01,  6.70681606e-01,\n",
       "        1.65331602e-01,  1.34230078e+00,  1.46459395e+00,  1.69029347e+00,\n",
       "        1.37912244e+00,  6.05829214e-01, -4.19189033e-01,  7.80674250e-01,\n",
       "        1.99774876e+00, -7.17814429e-01, -1.27834672e-02,  4.62990189e-01,\n",
       "        1.39602527e+00,  8.58395492e-01,  6.17425475e-01,  3.90234478e-01,\n",
       "        1.33116234e+00, -4.59818582e-01,  3.99986155e-01,  1.19185178e+00,\n",
       "       -2.75646774e-01,  1.94647178e+00,  1.86566213e+00,  9.99098787e-01,\n",
       "        1.56251179e+00, -2.47484102e-01, -3.27005497e-02,  1.14523829e+00,\n",
       "        1.70537402e+00, -5.33605645e-01, -6.84324833e-02,  4.77597177e-01,\n",
       "       -5.17723155e-01, -4.65162363e-01, -9.70906626e-01,  7.70024504e-01,\n",
       "       -6.91219158e-01,  9.77816684e-01,  1.32415767e-01, -5.13641856e-01,\n",
       "        1.90460244e+00, -3.42961145e-01,  1.08360799e+00, -9.15997560e-01,\n",
       "       -5.23282214e-01,  1.18293911e+00,  2.28378212e-02,  1.09555129e-01,\n",
       "        1.45835811e+00, -8.79751460e-01,  1.24623209e+00, -8.12491136e-01,\n",
       "        1.09707048e+00,  1.30719341e+00,  1.80022170e+00,  7.35134979e-01,\n",
       "       -7.00720776e-01,  1.97074547e+00,  1.21856401e+00, -4.80578973e-03,\n",
       "       -8.03798762e-01,  5.58519831e-01, -6.70624927e-01, -9.93205435e-01,\n",
       "        1.48592172e-01,  4.25164990e-01,  1.77072419e+00, -8.94119824e-01,\n",
       "        1.52920684e+00, -1.11572217e-01,  3.90022072e-01, -7.11612509e-01,\n",
       "       -1.18097785e-01,  1.65645391e+00,  8.59814882e-01,  1.01631888e+00,\n",
       "        9.79452510e-01,  1.69495327e+00, -3.64238496e-01,  5.31254096e-01,\n",
       "        1.86934734e+00, -1.98968203e-01,  1.18208974e+00,  7.45702594e-01,\n",
       "       -8.98132687e-01,  8.63462958e-01,  1.77867750e+00, -9.36992752e-01,\n",
       "        1.56249945e+00,  1.42733255e+00,  8.32628616e-01,  9.28320894e-01,\n",
       "       -3.65604626e-01, -2.92520872e-01, -9.51158228e-01, -8.93902212e-01,\n",
       "        1.40602515e+00,  1.46626036e+00,  1.08856455e+00,  1.84572386e+00,\n",
       "        2.72207327e-02,  1.38519550e-01,  4.39634357e-01,  1.18694484e+00,\n",
       "        5.74843549e-01, -6.61842774e-03,  1.14292504e+00,  1.06720158e+00,\n",
       "       -7.92082992e-01,  2.48431923e-01,  6.03351121e-01, -6.24737320e-01,\n",
       "       -9.16280696e-01,  1.05744548e+00,  1.48872760e+00, -3.77375456e-01,\n",
       "        1.22942904e+00,  1.85889614e+00,  1.85712086e+00, -5.88262231e-01,\n",
       "       -7.23325765e-01, -9.20087546e-01,  1.79337991e-01, -5.73175798e-01,\n",
       "       -2.10772254e-01,  3.23689408e-01,  9.22360166e-01, -8.76904584e-01,\n",
       "        1.81675084e+00, -7.95634891e-01,  1.22278061e+00,  6.74046772e-01,\n",
       "       -2.39094698e-01, -4.14694995e-01,  5.64655547e-01,  1.48095832e+00,\n",
       "        2.28023103e-01,  1.06712493e+00,  1.23296817e+00,  5.33240068e-01,\n",
       "        8.15723092e-01,  7.71231602e-01,  8.67466209e-01,  1.46044038e+00,\n",
       "        1.40768094e+00,  1.16101782e+00,  1.54113928e+00, -2.60451325e-01,\n",
       "        7.11438203e-01,  1.18450272e-01,  1.89535781e+00, -4.57715271e-01,\n",
       "        1.04161065e+00,  3.53264767e-01, -1.20459200e-04,  9.21403127e-01,\n",
       "        8.95213475e-01, -5.59997060e-01,  3.62210451e-01,  8.09489772e-01,\n",
       "       -1.34783961e-01,  1.58373125e-01,  8.87133059e-01,  9.05489743e-01,\n",
       "        1.78650237e+00, -8.01079009e-01, -3.47286370e-01,  3.52611822e-01,\n",
       "        9.32291526e-01,  7.84567344e-02, -1.22918905e-01,  1.89645734e+00,\n",
       "        1.08759481e+00,  1.55345098e-01,  2.32776701e-01,  1.16608812e+00,\n",
       "        7.64677968e-01,  2.85951239e-02,  1.94830456e+00, -6.85443456e-01,\n",
       "        1.64846037e+00, -8.15586981e-01, -1.80323487e-01, -2.31356727e-01,\n",
       "        7.55171004e-01,  4.80957300e-01, -6.98575377e-02,  2.75319555e-01,\n",
       "        1.21269260e+00, -6.06965015e-01, -2.49164859e-01,  1.09942826e-01,\n",
       "        1.70066224e+00,  4.48340112e-01,  1.40481427e+00, -1.93455968e-01,\n",
       "        1.37042541e+00,  1.53205459e-01, -3.61538950e-02, -6.55304768e-01,\n",
       "        6.98222470e-01,  4.32252818e-02,  1.11323081e+00, -1.03803703e-01,\n",
       "        1.79594358e+00,  1.21357401e+00,  3.22179073e-01,  2.45920596e-01,\n",
       "       -7.98686010e-01,  1.02472374e+00,  1.90714926e+00,  1.11817840e+00,\n",
       "        1.64229609e+00,  1.77144833e+00,  1.41729645e+00,  6.30648825e-01,\n",
       "       -3.19803280e-01,  1.23998938e-01, -1.00878765e-01, -9.52833033e-01,\n",
       "       -6.75024936e-01, -1.13838476e-03, -7.41793724e-01,  1.08767009e+00,\n",
       "       -1.84382844e-01,  4.31616419e-01,  1.96120576e+00,  8.15154166e-01,\n",
       "        6.00873804e-01,  1.97755676e+00, -2.40212008e-01, -2.90725493e-01,\n",
       "       -1.35865242e-01,  7.63933598e-01,  1.51845712e+00, -7.62461393e-01,\n",
       "       -1.51103809e-01, -2.11593709e-01,  2.50732500e-02,  1.34123652e+00,\n",
       "        8.58478257e-01,  6.01319719e-01,  1.62945826e+00, -3.20667704e-01,\n",
       "        5.00453019e-01, -5.88460053e-01,  7.36216128e-01,  1.69460326e+00,\n",
       "        1.09857823e+00,  7.26433254e-01,  1.48788190e+00, -8.99682855e-01,\n",
       "       -1.73906710e-01,  3.08070069e-01,  6.48177399e-01,  9.14077995e-02,\n",
       "       -5.32956807e-01, -3.91197615e-01, -1.15438594e-01,  9.46770517e-01,\n",
       "        1.50040562e-02,  1.00841540e+00,  1.68550876e-01,  3.75044537e-01,\n",
       "       -1.72583949e-01,  4.76081856e-01,  1.91172621e+00,  6.24400118e-01,\n",
       "       -1.44244193e-01, -4.42602500e-01, -9.73693557e-01, -8.51801311e-02,\n",
       "        6.07343956e-01,  1.71233194e-01,  1.98545078e+00,  1.57200328e+00,\n",
       "        1.48486730e+00,  1.01910305e+00, -7.56261474e-01,  6.46710059e-01,\n",
       "        1.57489930e+00, -5.36264617e-01, -6.33825958e-02,  7.70552370e-01,\n",
       "       -3.96530825e-02,  1.47937970e+00,  1.73397145e+00,  1.27065216e+00,\n",
       "        1.37530243e+00, -7.07896573e-01,  1.35675568e+00, -6.72412164e-01,\n",
       "        7.27213578e-01,  1.97197478e+00,  7.88297354e-01,  1.02030588e+00,\n",
       "        1.33272358e+00, -7.55259169e-02,  1.50676833e+00,  4.00440828e-01,\n",
       "        7.90488739e-01, -5.04481484e-01,  7.75777834e-01,  1.95224766e+00,\n",
       "        1.80677878e+00,  4.97525905e-01,  5.99461676e-01, -4.48334277e-01,\n",
       "        1.78000350e+00,  1.59248752e+00,  2.45113471e-01,  1.50894333e+00,\n",
       "       -7.47287439e-01,  1.20362426e+00,  1.18287294e+00,  1.66554150e+00,\n",
       "       -3.18933786e-01,  1.97669104e+00,  9.82701783e-01,  1.98401674e+00,\n",
       "       -6.69606851e-01, -6.25605364e-01,  6.18241124e-01, -4.11322016e-01,\n",
       "        9.47544047e-01,  1.74978673e+00,  1.91622941e+00,  1.06505043e+00,\n",
       "       -8.99739817e-01,  7.12886394e-02, -2.65726578e-01,  1.18053499e+00,\n",
       "        1.28992639e+00,  8.92218863e-01, -1.38104569e-01,  1.33871170e+00,\n",
       "        6.25275572e-01,  7.00265694e-01,  1.97792298e+00,  7.64376202e-01,\n",
       "        1.28659951e+00, -2.90231721e-01,  1.12790260e+00,  1.81382951e-01,\n",
       "        5.23852654e-01, -7.63215193e-01, -4.03351030e-01, -6.95591093e-01,\n",
       "        6.98954244e-01, -5.18777787e-01,  1.76953392e+00,  1.26742166e-01,\n",
       "       -4.40699884e-01, -3.71814693e-01,  1.18084613e+00, -5.60463672e-01,\n",
       "        1.19027691e+00,  2.33228118e-01, -1.97466271e-01, -3.50193895e-01,\n",
       "       -6.93049674e-01,  3.89521489e-01,  1.46500603e+00, -6.48830663e-01,\n",
       "        1.28761255e+00,  1.23344598e-01,  1.11753141e-01,  1.01545838e+00,\n",
       "       -4.13679375e-01,  4.52551170e-01,  1.98238529e-01,  1.34311182e+00,\n",
       "       -3.28602875e-01,  1.20164545e+00,  1.39954721e+00,  1.70680540e+00,\n",
       "        1.81676425e+00,  1.09435864e+00,  1.93674700e+00, -3.97622271e-01,\n",
       "       -8.80660082e-02, -7.35347102e-01, -2.37391811e-01,  1.28016701e+00,\n",
       "        6.53503057e-01,  1.21312295e+00,  1.38175856e+00, -9.51111286e-01,\n",
       "        1.73178767e+00,  1.21679957e+00,  2.05181127e-01, -3.56447442e-01,\n",
       "        3.36150987e-01,  7.28994158e-01, -7.05223185e-01,  2.48736383e-01,\n",
       "        1.17413043e+00,  1.14725998e+00,  4.93299280e-02,  5.56543383e-01,\n",
       "        6.46693904e-01,  1.74216310e+00, -9.31778208e-01,  1.94447766e+00,\n",
       "        1.79145973e+00, -1.99848107e-01, -3.36348131e-01,  1.21621235e+00,\n",
       "        1.66093678e+00,  1.12760082e+00,  1.24113146e+00,  1.25885123e+00,\n",
       "       -1.35596353e-01, -4.45570329e-01,  3.70400173e-01, -6.74404028e-01,\n",
       "        1.93824964e+00, -1.59160914e-01,  3.45697077e-01,  2.68046481e-01,\n",
       "       -6.00810219e-02, -9.02128762e-01, -1.64805472e-01,  2.06103631e-01,\n",
       "        1.28209018e+00, -3.90990723e-01, -1.07834871e-01,  1.54652369e-01,\n",
       "        1.43658539e+00,  7.80223215e-01,  1.17344717e+00,  8.07554565e-01,\n",
       "        1.35382716e+00,  6.28312002e-01,  8.51038312e-01,  1.97691711e+00,\n",
       "       -4.25516724e-01,  9.80381215e-01,  1.31404372e+00, -6.90286292e-01,\n",
       "        2.09095234e-01,  1.33122120e+00,  1.65778443e+00,  3.52658014e-01,\n",
       "        1.40473535e+00,  1.91207045e+00, -1.53546196e-01, -4.05109039e-01,\n",
       "        7.76969467e-01,  4.56306635e-01, -2.84700362e-01,  8.30231243e-01,\n",
       "        1.69203620e+00,  1.80575233e+00, -1.29062158e-01,  1.05710946e-01,\n",
       "        8.76610211e-01,  1.74133386e+00,  1.12086030e+00,  1.77721545e-01,\n",
       "        1.51279082e+00,  1.99743197e+00,  1.06412422e+00, -9.51237625e-01,\n",
       "        2.96603977e-01,  1.13108075e+00,  5.37301390e-01, -9.92602952e-01,\n",
       "        1.05268366e+00,  1.51528212e+00,  1.73208415e+00,  9.51376785e-01,\n",
       "        1.01096224e+00, -5.58722885e-01,  1.40059430e+00,  1.98200876e+00,\n",
       "        1.60315046e+00,  3.60912097e-01, -6.14511703e-01, -8.79336706e-01,\n",
       "        7.25194381e-01,  6.13090587e-01,  1.92890520e+00, -5.04484737e-01,\n",
       "        1.96631854e+00, -1.45732321e-01, -6.12867554e-01,  1.23203526e+00,\n",
       "        6.47255264e-01, -5.06739467e-01,  1.34702824e+00,  1.29608571e-01,\n",
       "        8.48310048e-01,  1.70574443e+00,  4.51791243e-01,  4.44786808e-01,\n",
       "        1.68828796e+00,  4.58173372e-01, -7.41016881e-01, -8.99313441e-01,\n",
       "       -6.86363843e-01,  2.99751032e-01, -7.95317755e-01,  1.15423979e+00,\n",
       "        4.19084210e-01,  8.69820120e-01,  1.47514244e+00, -1.49927369e-01,\n",
       "       -7.81837118e-01, -6.54741955e-01, -7.82418636e-02, -7.79737484e-02,\n",
       "        8.31683207e-01,  1.68312331e-02,  1.40593313e+00, -5.34835066e-01,\n",
       "        2.69160164e-01,  9.13913479e-01, -2.39204375e-01,  1.74042523e+00,\n",
       "        1.05049372e+00,  6.65412126e-01,  1.59298842e+00,  1.32222107e+00,\n",
       "        1.86971094e+00,  1.83992837e+00,  1.62001203e+00,  1.86732180e+00,\n",
       "       -8.10161111e-01,  1.73075884e+00, -7.60115910e-02,  1.57274920e+00,\n",
       "        1.89464946e+00,  6.08221600e-01,  6.22951365e-01,  5.24181766e-01,\n",
       "        1.35693039e+00, -9.26371656e-02,  6.36455512e-01, -4.18567659e-01,\n",
       "        1.82992948e+00,  2.64683425e-01, -1.95226429e-01, -6.93269020e-01,\n",
       "        7.80271015e-01,  4.40630808e-01,  1.72684885e+00,  2.23704191e-03,\n",
       "        1.89822546e+00, -3.15485520e-01,  1.60260546e+00,  1.28349672e+00,\n",
       "       -5.17768141e-01,  1.19796450e+00,  4.97933962e-01,  1.90822250e+00,\n",
       "        1.72147306e+00,  1.72904057e+00,  1.29481788e+00,  1.94453961e+00,\n",
       "        7.37824772e-01,  5.84411889e-01, -5.79230313e-01,  2.58701307e-01,\n",
       "        5.95245742e-01,  7.32245162e-02, -6.44187110e-01,  1.15779811e+00,\n",
       "        7.84268807e-01,  1.05569041e+00,  4.64126462e-01, -5.98669415e-01,\n",
       "        1.23574282e+00,  2.17054484e-01,  1.08550760e+00,  1.11889441e+00,\n",
       "        1.33635719e+00, -4.20192709e-01,  1.16926068e+00,  5.33819195e-01,\n",
       "        1.96633048e+00,  7.94767210e-01,  3.61089441e-01, -7.08096832e-01,\n",
       "        8.53344054e-01,  8.33271032e-01,  1.19785392e+00,  1.99906089e+00,\n",
       "        9.86709449e-01, -1.30057323e-01,  2.16187172e-01,  7.65751629e-02,\n",
       "        1.97563426e-02,  3.30317695e-01, -1.96363292e-01,  1.38674840e+00,\n",
       "        1.94765628e+00, -9.27713926e-01,  1.57418985e+00,  1.22810198e+00,\n",
       "        1.64654245e+00,  1.09452180e+00, -9.92067406e-01,  1.99691447e+00,\n",
       "       -6.75457551e-01,  4.13498462e-01,  1.67657015e+00,  1.95940841e+00,\n",
       "       -5.99005960e-01, -2.62781427e-01,  1.90935475e+00,  1.86101764e+00,\n",
       "       -9.50626660e-02,  1.63904901e+00,  1.62583940e+00, -6.18328849e-02,\n",
       "       -9.07251034e-01,  1.50424501e+00, -5.16918707e-01,  3.59192346e-01,\n",
       "       -1.55927513e-01,  1.02080809e+00,  1.98439047e+00,  1.10987065e+00,\n",
       "        6.53924031e-01,  5.85772262e-01,  1.59808046e+00, -9.05947166e-01,\n",
       "        2.07589791e-01,  1.29766177e-01, -7.00969880e-01,  1.56792778e+00,\n",
       "        1.94953895e+00,  1.50729122e+00,  1.95928374e+00,  9.71827271e-01,\n",
       "       -8.21241940e-02,  5.46109183e-01,  8.40616721e-02,  6.69973326e-01,\n",
       "       -4.32399588e-02,  1.22007192e-01,  1.07307825e+00,  9.38773849e-01,\n",
       "       -6.28715068e-01, -1.11423980e-01,  4.94656212e-01,  1.54648573e+00,\n",
       "       -8.42086929e-01,  1.81650432e-02,  9.79315624e-01,  2.41754444e-01,\n",
       "        1.42231870e+00,  1.97080856e+00, -7.86465511e-01,  8.35144407e-01,\n",
       "       -1.94675828e-01,  1.14015087e+00, -5.08351715e-01, -7.45011951e-01,\n",
       "       -7.42853004e-01, -5.41524161e-01,  7.24613286e-01, -8.01007720e-01,\n",
       "       -9.10999389e-01,  3.71378350e-01,  5.68240499e-01,  1.40235030e+00,\n",
       "        1.51882403e+00,  5.10446013e-01, -3.33614162e-01,  8.92601032e-01,\n",
       "        1.16874973e+00,  5.53714118e-02, -6.05502464e-02, -9.05561990e-01,\n",
       "       -4.66185676e-01, -6.66335428e-01,  9.34679338e-01, -4.24756449e-01,\n",
       "       -8.90214172e-01,  1.83123782e+00, -7.69956813e-01,  5.58626629e-01,\n",
       "        1.37598156e+00, -7.67762136e-01,  1.44268883e+00, -8.44554634e-02,\n",
       "        1.72273228e+00,  1.03168448e-01,  1.61261517e+00, -9.95885044e-01,\n",
       "       -7.57144108e-01, -9.12353424e-01,  9.16488183e-01,  3.32983726e-01,\n",
       "        4.68430102e-01,  1.78635226e+00, -2.24156638e-01,  1.27812813e-01,\n",
       "        4.70914784e-01, -8.27562120e-02,  1.87763058e+00,  2.28797689e-01,\n",
       "        1.43253545e+00,  1.69080930e+00,  1.22987431e+00,  1.39281051e+00,\n",
       "       -6.56523256e-01, -9.23365147e-01,  1.10174599e+00, -2.30194473e-01,\n",
       "        1.66151200e+00,  1.26344515e+00, -3.40403036e-01, -7.80719471e-01,\n",
       "        4.43522187e-01,  9.36408215e-01,  1.80328228e+00,  3.82838700e-01,\n",
       "       -5.19996838e-01,  9.35480837e-01,  1.39018376e+00,  5.56312168e-01,\n",
       "       -3.96123955e-01,  9.88864399e-01, -5.71816734e-02, -8.71959777e-01,\n",
       "        4.76185127e-02,  1.57658498e+00,  1.39638030e+00,  1.05767980e+00,\n",
       "        3.38897582e-01,  1.12208469e+00,  5.62187837e-01,  1.62083958e+00,\n",
       "       -5.49356912e-01, -2.91904814e-01, -6.85199992e-01, -2.20575114e-03,\n",
       "        2.76635434e-02, -1.02224517e-01,  7.24264671e-01,  4.56714631e-01,\n",
       "        5.86230081e-01,  1.32708277e+00,  1.99010350e+00, -3.36761413e-01,\n",
       "        1.00693756e+00,  1.57071095e+00,  1.47022503e+00,  1.09151691e+00,\n",
       "        9.96601898e-01, -3.69053694e-01, -6.26062206e-02, -4.25257269e-02,\n",
       "        6.13860772e-01,  3.15972955e-01, -6.49278076e-01,  7.29357245e-01,\n",
       "       -7.80513344e-01,  1.76628207e+00, -3.93834854e-01,  8.70112539e-01,\n",
       "        1.30261390e+00, -9.62131425e-01, -1.71433556e-01, -8.09578563e-01,\n",
       "       -3.90271492e-01,  5.89363663e-02,  1.62218583e-01,  2.56473876e-01,\n",
       "        4.31252899e-01, -7.49967355e-01,  6.82247937e-01, -7.40347202e-01,\n",
       "        1.22802169e+00, -2.89958003e-01,  1.22201283e+00, -3.07532495e-01,\n",
       "        1.26771802e+00, -9.86197788e-02,  2.51564845e-01,  1.60681232e-01,\n",
       "        4.10284328e-01,  9.04892923e-01,  9.51560256e-01,  7.40055799e-01,\n",
       "        3.25293714e-01, -6.33334273e-01, -4.93261265e-01,  6.03597481e-01,\n",
       "        1.90509521e+00,  1.01690484e+00,  7.58252932e-01,  1.22627191e+00,\n",
       "        5.84058128e-01,  1.89880647e+00, -7.59509103e-01, -9.38919117e-01,\n",
       "        1.68345012e+00, -5.76453035e-01, -1.49224801e-01,  9.97487896e-01,\n",
       "        2.79467647e-01,  3.55200026e-01,  2.80040140e-01,  1.39375738e+00,\n",
       "       -4.22420493e-01, -4.81918330e-01,  5.48359140e-01,  3.21366718e-02,\n",
       "        1.16972495e+00,  4.04325772e-01,  1.21937033e+00, -8.09325764e-01,\n",
       "       -1.77276452e-01,  3.96061833e-01, -1.18420836e-01, -5.12261589e-01,\n",
       "        1.02490681e+00,  1.07823053e+00,  1.80664924e+00,  1.96168503e-01,\n",
       "        1.77534202e+00,  8.66132028e-02, -8.11713838e-01, -8.90187978e-01,\n",
       "        1.47210261e-01,  3.53233659e-01, -1.83206590e-01, -1.89767189e-01,\n",
       "        1.90313748e+00, -3.42239241e-01, -9.74368620e-01, -1.34827487e-01,\n",
       "        1.26499054e+00, -8.98352665e-01,  6.19907222e-01,  3.56108369e-01,\n",
       "        1.44121709e+00,  1.92995021e+00,  1.02698731e+00,  1.67517575e+00,\n",
       "       -6.54058655e-01,  1.94285219e+00,  1.90252491e+00,  1.96835374e+00,\n",
       "        1.06956780e+00,  4.35537828e-01,  3.27541315e-01,  1.58004286e+00,\n",
       "        1.72600971e+00,  4.61645430e-01,  1.07292186e+00,  1.24504651e+00,\n",
       "        1.94860772e+00, -4.69460434e-01,  8.33228857e-01,  8.69104672e-01,\n",
       "       -3.66258801e-01,  1.38223061e+00,  1.81476914e-01,  1.61265172e+00,\n",
       "        1.58507561e+00,  6.44712635e-01, -6.98460863e-01,  1.05312270e+00,\n",
       "       -9.25611536e-01, -9.31964912e-01, -2.52110983e-01, -6.53413234e-01])"
      ]
     },
     "execution_count": 7,
     "metadata": {},
     "output_type": "execute_result"
    }
   ],
   "source": [
    "np.random.uniform(low= -1, high = 2, size = 1000)"
   ]
  },
  {
   "cell_type": "code",
   "execution_count": 12,
   "metadata": {},
   "outputs": [
    {
     "data": {
      "text/plain": [
       "(array([1.65165165e-04, 0.00000000e+00, 4.95495495e-04, 0.00000000e+00,\n",
       "        8.25825826e-04, 0.00000000e+00, 6.60660661e-04, 3.30330330e-04,\n",
       "        3.30330330e-04, 4.95495495e-04, 4.95495495e-04, 3.30330330e-04,\n",
       "        8.25825826e-04, 9.90990991e-04, 9.90990991e-04, 3.30330330e-04,\n",
       "        9.90990991e-04, 1.32132132e-03, 8.25825826e-04, 8.25825826e-04,\n",
       "        9.90990991e-04, 1.48648649e-03, 9.90990991e-04, 1.15615616e-03,\n",
       "        1.98198198e-03, 1.98198198e-03, 2.47747748e-03, 2.97297297e-03,\n",
       "        2.80780781e-03, 2.80780781e-03, 4.12912913e-03, 2.97297297e-03,\n",
       "        3.13813814e-03, 2.64264264e-03, 5.45045045e-03, 2.80780781e-03,\n",
       "        3.30330330e-03, 4.78978979e-03, 6.44144144e-03, 3.79879880e-03,\n",
       "        2.97297297e-03, 2.31231231e-03, 6.60660661e-04, 0.00000000e+00,\n",
       "        0.00000000e+00, 0.00000000e+00, 0.00000000e+00, 0.00000000e+00,\n",
       "        0.00000000e+00, 0.00000000e+00, 0.00000000e+00, 0.00000000e+00,\n",
       "        2.84843844e+00, 1.91096096e-01, 5.05405405e-02, 2.92342342e-02,\n",
       "        1.93243243e-02, 1.46996997e-02, 9.57957958e-03, 7.26726727e-03,\n",
       "        5.94594595e-03, 6.27627628e-03, 2.97297297e-03, 5.94594595e-03,\n",
       "        3.79879880e-03, 4.12912913e-03, 2.97297297e-03, 2.97297297e-03,\n",
       "        2.80780781e-03, 1.48648649e-03, 9.90990991e-04, 1.32132132e-03,\n",
       "        8.25825826e-04, 1.81681682e-03, 4.95495495e-04, 9.90990991e-04,\n",
       "        1.32132132e-03, 1.32132132e-03, 3.30330330e-04, 4.95495495e-04,\n",
       "        1.65165165e-04, 3.30330330e-04, 4.95495495e-04, 1.65165165e-04,\n",
       "        3.30330330e-04, 1.65165165e-04, 4.95495495e-04, 0.00000000e+00,\n",
       "        3.30330330e-04, 0.00000000e+00, 0.00000000e+00, 3.30330330e-04,\n",
       "        0.00000000e+00, 4.95495495e-04, 6.60660661e-04, 3.30330330e-04,\n",
       "        0.00000000e+00, 0.00000000e+00, 0.00000000e+00]),\n",
       " array([-15.        , -14.6969697 , -14.39393939, -14.09090909,\n",
       "        -13.78787879, -13.48484848, -13.18181818, -12.87878788,\n",
       "        -12.57575758, -12.27272727, -11.96969697, -11.66666667,\n",
       "        -11.36363636, -11.06060606, -10.75757576, -10.45454545,\n",
       "        -10.15151515,  -9.84848485,  -9.54545455,  -9.24242424,\n",
       "         -8.93939394,  -8.63636364,  -8.33333333,  -8.03030303,\n",
       "         -7.72727273,  -7.42424242,  -7.12121212,  -6.81818182,\n",
       "         -6.51515152,  -6.21212121,  -5.90909091,  -5.60606061,\n",
       "         -5.3030303 ,  -5.        ,  -4.6969697 ,  -4.39393939,\n",
       "         -4.09090909,  -3.78787879,  -3.48484848,  -3.18181818,\n",
       "         -2.87878788,  -2.57575758,  -2.27272727,  -1.96969697,\n",
       "         -1.66666667,  -1.36363636,  -1.06060606,  -0.75757576,\n",
       "         -0.45454545,  -0.15151515,   0.15151515,   0.45454545,\n",
       "          0.75757576,   1.06060606,   1.36363636,   1.66666667,\n",
       "          1.96969697,   2.27272727,   2.57575758,   2.87878788,\n",
       "          3.18181818,   3.48484848,   3.78787879,   4.09090909,\n",
       "          4.39393939,   4.6969697 ,   5.        ,   5.3030303 ,\n",
       "          5.60606061,   5.90909091,   6.21212121,   6.51515152,\n",
       "          6.81818182,   7.12121212,   7.42424242,   7.72727273,\n",
       "          8.03030303,   8.33333333,   8.63636364,   8.93939394,\n",
       "          9.24242424,   9.54545455,   9.84848485,  10.15151515,\n",
       "         10.45454545,  10.75757576,  11.06060606,  11.36363636,\n",
       "         11.66666667,  11.96969697,  12.27272727,  12.57575758,\n",
       "         12.87878788,  13.18181818,  13.48484848,  13.78787879,\n",
       "         14.09090909,  14.39393939,  14.6969697 ,  15.        ]),\n",
       " <a list of 99 Patch objects>)"
      ]
     },
     "execution_count": 12,
     "metadata": {},
     "output_type": "execute_result"
    },
    {
     "data": {
      "image/png": "[encoded data removed]",
      "text/plain": [
       "<Figure size 432x288 with 1 Axes>"
      ]
     },
     "metadata": {
      "needs_background": "light"
     },
     "output_type": "display_data"
    }
   ],
   "source": [
    "plt.hist(out[0] * out[1], bins = np.linspace(-15, 15, 100), density = True)"
   ]
  },
  {
   "cell_type": "code",
   "execution_count": 6,
   "metadata": {},
   "outputs": [],
   "source": [
    "out = cds.ddm_sdv(v = -3,\n",
    "                  a = 2.5, \n",
    "                  w = 0.3,\n",
    "                  ndt = 1,\n",
    "                  sdv = 0,\n",
    "                  s = 1,\n",
    "                  boundary_fun = bf.constant, \n",
    "                  delta_t = 0.001,\n",
    "                  n_samples = 100000)"
   ]
  },
  {
   "cell_type": "code",
   "execution_count": 4,
   "metadata": {},
   "outputs": [
    {
     "data": {
      "text/plain": [
       "array([[-2.64002061],\n",
       "       [-1.83699274],\n",
       "       [-2.17499876],\n",
       "       ...,\n",
       "       [-2.72102451],\n",
       "       [-2.14299726],\n",
       "       [-3.4240067 ]])"
      ]
     },
     "execution_count": 4,
     "metadata": {},
     "output_type": "execute_result"
    }
   ],
   "source": [
    "out[0] * out[1]"
   ]
  },
  {
   "cell_type": "code",
   "execution_count": 2,
   "metadata": {},
   "outputs": [],
   "source": [
    "my_bins = np.arange(- 512, 513) * 20 / 1024"
   ]
  },
  {
   "cell_type": "code",
   "execution_count": 7,
   "metadata": {},
   "outputs": [],
   "source": [
    "analy_out = batch_fptd(t = my_bins.copy(),\n",
    "                       v = 3,\n",
    "                       a = 5,\n",
    "                       w = 0.7,\n",
    "                       ndt = 1,\n",
    "                       sdv = 0,\n",
    "                       eps = 1e-50)"
   ]
  },
  {
   "cell_type": "code",
   "execution_count": 11,
   "metadata": {},
   "outputs": [
    {
     "data": {
      "text/plain": [
       "(array([500, 501, 502, 512, 513, 514, 515, 527, 528, 529, 530, 531, 532,\n",
       "        533, 534, 535, 536, 537, 538, 539, 540, 541, 564, 565, 566, 567,\n",
       "        568, 569, 570, 571]),)"
      ]
     },
     "execution_count": 11,
     "metadata": {},
     "output_type": "execute_result"
    }
   ],
   "source": [
    "(analy_out <= 1e-48).nonzero()"
   ]
  },
  {
   "cell_type": "code",
   "execution_count": 6,
   "metadata": {},
   "outputs": [
    {
     "data": {
      "text/plain": [
       "array([1.00000000e-48, 1.00000000e-48, 1.00000000e-48, 5.50616556e-01,\n",
       "       3.22339017e-01, 1.53733429e-01, 5.36728989e-02, 1.12941078e-02,\n",
       "       9.67429341e-04, 1.33839486e-05, 1.81829580e-09, 1.74461203e-21,\n",
       "       1.00000000e-48, 1.00000000e-48, 1.00000000e-48, 1.00000000e-48,\n",
       "       1.10747000e-37, 4.68310627e-31, 1.13088050e-26, 1.43733582e-23,\n",
       "       2.91372804e-21, 1.74238274e-19, 5.35018169e-07, 3.96000533e-07,\n",
       "       2.92625196e-07, 2.15883993e-07, 3.69686945e-09, 1.00000000e-48,\n",
       "       1.00000000e-48, 1.00000000e-48, 1.00000000e-48, 1.00000000e-48,\n",
       "       1.00000000e-48, 1.00000000e-48, 1.00000000e-48, 1.00000000e-48,\n",
       "       1.00000000e-48, 1.00000000e-48, 1.00000000e-48, 1.00000000e-48,\n",
       "       1.00000000e-48, 1.00000000e-48, 5.44773932e-08, 4.58746556e-08,\n",
       "       3.86317258e-08, 3.25389056e-08, 2.74179696e-08, 2.31175490e-08,\n",
       "       1.95091806e-08, 1.64839255e-08])"
      ]
     },
     "execution_count": 6,
     "metadata": {},
     "output_type": "execute_result"
    }
   ],
   "source": [
    "analy_out[500:550]"
   ]
  },
  {
   "cell_type": "code",
   "execution_count": 37,
   "metadata": {},
   "outputs": [
    {
     "data": {
      "text/plain": [
       "[<matplotlib.lines.Line2D at 0x1a3efccd50>]"
      ]
     },
     "execution_count": 37,
     "metadata": {},
     "output_type": "execute_result"
    },
    {
     "data": {
      "image/png": "[encoded data removed]",
      "text/plain": [
       "<Figure size 432x288 with 1 Axes>"
      ]
     },
     "metadata": {
      "needs_background": "light"
     },
     "output_type": "display_data"
    }
   ],
   "source": [
    "plt.plot(my_bins, analy_out)"
   ]
  },
  {
   "cell_type": "code",
   "execution_count": 8,
   "metadata": {},
   "outputs": [
    {
     "data": {
      "text/plain": [
       "[<matplotlib.lines.Line2D at 0x1a40493510>]"
      ]
     },
     "execution_count": 8,
     "metadata": {},
     "output_type": "execute_result"
    },
    {
     "data": {
      "image/png": "[encoded data removed]",
      "text/plain": [
       "<Figure size 432x288 with 1 Axes>"
      ]
     },
     "metadata": {
      "needs_background": "light"
     },
     "output_type": "display_data"
    }
   ],
   "source": [
    "plt.hist(out[0] * out[1], \n",
    "         bins = np.arange(-512, 513) * 20/1024 , \n",
    "         alpha = 0.2, \n",
    "         color = 'red', \n",
    "         density = 1)\n",
    "\n",
    "plt.plot(my_bins, analy_out)"
   ]
  },
  {
   "cell_type": "code",
   "execution_count": 9,
   "metadata": {},
   "outputs": [],
   "source": [
    "cumsum = 0\n",
    "for i in range(1, analy_out.shape[0], 1):\n",
    "    cumsum += ((analy_out[i - 1] + analy_out[i]) / 2) * (my_bins[1] - my_bins[0])"
   ]
  },
  {
   "cell_type": "code",
   "execution_count": 10,
   "metadata": {},
   "outputs": [
    {
     "data": {
      "text/plain": [
       "0.999999999705487"
      ]
     },
     "execution_count": 10,
     "metadata": {},
     "output_type": "execute_result"
    }
   ],
   "source": [
    "cumsum"
   ]
  },
  {
   "cell_type": "code",
   "execution_count": 61,
   "metadata": {},
   "outputs": [
    {
     "data": {
      "text/plain": [
       "72004899337.38588"
      ]
     },
     "execution_count": 61,
     "metadata": {},
     "output_type": "execute_result"
    }
   ],
   "source": [
    "np.exp(25)"
   ]
  },
  {
   "cell_type": "code",
   "execution_count": 61,
   "metadata": {},
   "outputs": [
    {
     "data": {
      "text/plain": [
       "(1025,)"
      ]
     },
     "execution_count": 61,
     "metadata": {},
     "output_type": "execute_result"
    }
   ],
   "source": [
    "analy_out.shape"
   ]
  },
  {
   "cell_type": "code",
   "execution_count": 16,
   "metadata": {},
   "outputs": [
    {
     "data": {
      "text/plain": [
       "(array([  0.,   0.,   0.,   0.,   0.,   0.,   0.,   0.,   0.,   0.,   0.,\n",
       "          0.,   0.,   0.,   0.,   0.,   0.,   0.,   0.,   0.,   0.,   0.,\n",
       "          0.,   0.,   0.,   0.,   0.,  42., 213., 411., 644., 701., 840.,\n",
       "        836., 840., 742., 779., 755., 679., 620., 597., 557., 549., 540.,\n",
       "        482., 412., 448., 388., 341., 351., 268., 294., 260., 267., 232.,\n",
       "        214., 230., 181., 176., 183., 169., 158., 143., 129., 116., 135.,\n",
       "        139., 124.,  93., 104.,  82.,  93.,  73.,  87.,  63.,  63.,  62.,\n",
       "         61.,  57.,  49.,  53.,  43.,  44.,  35.,  31.,  26.,  21.,  23.,\n",
       "         31.,  32.,  19.,  19.,  21.,  15.,  15.,  11.,  20.,  21.,  12.,\n",
       "         18.,   5.,  11.,   8.,   6.,   7.,  10.,   7.,   5.,   6.,   1.,\n",
       "          2.,   7.,   5.,   5.,   7.,   2.,   4.,   3.,   3.,   4.,   4.,\n",
       "          2.,   3.,   6.,   2.,   1.,   4.,   1.,   0.,   3.,   2.,   4.,\n",
       "          2.,   2.,   2.,   0.,   1.,   1.,   3.,   0.,   1.,   1.,   0.,\n",
       "          0.,   1.,   1.,   0.,   0.,   1.,   0.,   1.,   0.,   0.,   0.,\n",
       "          0.,   0.,   1.,   0.,   0.,   0.,   0.,   1.,   0.,   0.,   0.,\n",
       "          0.,   0.,   0.,   0.,   0.,   0.,   0.,   0.,   0.,   0.,   0.,\n",
       "          0.,   0.,   0.,   0.,   0.,   0.,   0.,   0.,   0.,   0.,   0.,\n",
       "          0.,   0.,   0.,   0.,   0.,   0.,   0.,   0.,   0.,   1.,   0.,\n",
       "          0.,   0.,   0.,   0.,   0.,   0.,   0.,   0.,   0.,   0.,   0.,\n",
       "          0.,   0.,   0.,   0.,   0.,   0.,   0.,   0.,   0.,   0.,   0.,\n",
       "          0.,   0.,   0.,   0.,   0.,   0.,   0.,   0.,   0.,   0.,   0.,\n",
       "          0.,   0.,   0.,   0.,   0.,   0.,   0.,   0.,   0.,   0.,   0.,\n",
       "          0.,   0.,   0.,   0.,   0.,   0.,   0.,   0.,   0.,   0.,   0.,\n",
       "          0.,   0.,   0.,   0.,   0.,   0.,   0.,   0.,   0.,   0.,   0.,\n",
       "          0.,   0.,   0.,   0.,   0.,   0.,   0.,   0.,   0.,   0.,   0.,\n",
       "          0.,   0.,   0.,   0.,   0.,   0.,   0.,   0.,   0.,   0.,   0.,\n",
       "          0.,   0.,   0.,   0.,   0.,   0.,   0.,   0.,   0.,   0.,   0.,\n",
       "          0.,   0.,   0.,   0.,   0.,   0.,   0.,   0.,   0.,   0.,   0.,\n",
       "          0.,   0.,   0.,   0.,   0.,   0.,   0.,   0.,   0.,   0.,   0.,\n",
       "          0.,   0.,   0.,   0.,   0.,   0.,   0.,   0.,   0.,   0.,   0.,\n",
       "          0.,   0.,   0.,   0.,   0.,   0.,   0.,   0.,   0.,   0.,   0.,\n",
       "          0.,   0.,   0.,   0.,   0.,   0.,   0.,   0.,   0.,   0.,   0.,\n",
       "          0.,   0.,   0.,   0.,   0.,   0.,   0.,   0.,   0.,   0.,   0.,\n",
       "          0.,   0.,   0.,   0.,   0.,   0.,   0.,   0.,   0.,   0.,   0.,\n",
       "          0.,   0.,   0.,   0.,   0.,   0.,   0.,   0.,   0.,   0.,   0.,\n",
       "          0.,   0.,   0.,   0.,   0.,   0.,   0.,   0.,   0.,   0.,   0.,\n",
       "          0.,   0.,   0.,   0.,   0.,   0.,   0.,   0.,   0.,   0.,   0.,\n",
       "          0.,   0.,   0.,   0.,   0.,   0.,   0.,   0.,   0.,   0.,   0.,\n",
       "          0.,   0.,   0.,   0.,   0.,   0.,   0.,   0.,   0.,   0.,   0.,\n",
       "          0.,   0.,   0.,   0.,   0.,   0.,   0.,   0.,   0.,   0.,   0.,\n",
       "          0.,   0.,   0.,   0.,   0.,   0.,   0.,   0.,   0.,   0.,   0.,\n",
       "          0.,   0.,   0.,   0.,   0.,   0.,   0.,   0.,   0.,   0.,   0.,\n",
       "          0.,   0.,   0.,   0.,   0.,   0.,   0.,   0.,   0.,   0.,   0.,\n",
       "          0.,   0.,   0.,   0.,   0.,   0.,   0.,   0.,   0.,   0.,   0.,\n",
       "          0.,   0.,   0.,   0.,   0.,   0.,   0.,   0.,   0.,   0.,   0.,\n",
       "          0.,   0.,   0.,   0.,   0.,   0.,   0.,   0.,   0.,   0.,   0.,\n",
       "          0.,   0.,   0.,   0.,   0.]),\n",
       " array([ 0.       ,  0.0390625,  0.078125 ,  0.1171875,  0.15625  ,\n",
       "         0.1953125,  0.234375 ,  0.2734375,  0.3125   ,  0.3515625,\n",
       "         0.390625 ,  0.4296875,  0.46875  ,  0.5078125,  0.546875 ,\n",
       "         0.5859375,  0.625    ,  0.6640625,  0.703125 ,  0.7421875,\n",
       "         0.78125  ,  0.8203125,  0.859375 ,  0.8984375,  0.9375   ,\n",
       "         0.9765625,  1.015625 ,  1.0546875,  1.09375  ,  1.1328125,\n",
       "         1.171875 ,  1.2109375,  1.25     ,  1.2890625,  1.328125 ,\n",
       "         1.3671875,  1.40625  ,  1.4453125,  1.484375 ,  1.5234375,\n",
       "         1.5625   ,  1.6015625,  1.640625 ,  1.6796875,  1.71875  ,\n",
       "         1.7578125,  1.796875 ,  1.8359375,  1.875    ,  1.9140625,\n",
       "         1.953125 ,  1.9921875,  2.03125  ,  2.0703125,  2.109375 ,\n",
       "         2.1484375,  2.1875   ,  2.2265625,  2.265625 ,  2.3046875,\n",
       "         2.34375  ,  2.3828125,  2.421875 ,  2.4609375,  2.5      ,\n",
       "         2.5390625,  2.578125 ,  2.6171875,  2.65625  ,  2.6953125,\n",
       "         2.734375 ,  2.7734375,  2.8125   ,  2.8515625,  2.890625 ,\n",
       "         2.9296875,  2.96875  ,  3.0078125,  3.046875 ,  3.0859375,\n",
       "         3.125    ,  3.1640625,  3.203125 ,  3.2421875,  3.28125  ,\n",
       "         3.3203125,  3.359375 ,  3.3984375,  3.4375   ,  3.4765625,\n",
       "         3.515625 ,  3.5546875,  3.59375  ,  3.6328125,  3.671875 ,\n",
       "         3.7109375,  3.75     ,  3.7890625,  3.828125 ,  3.8671875,\n",
       "         3.90625  ,  3.9453125,  3.984375 ,  4.0234375,  4.0625   ,\n",
       "         4.1015625,  4.140625 ,  4.1796875,  4.21875  ,  4.2578125,\n",
       "         4.296875 ,  4.3359375,  4.375    ,  4.4140625,  4.453125 ,\n",
       "         4.4921875,  4.53125  ,  4.5703125,  4.609375 ,  4.6484375,\n",
       "         4.6875   ,  4.7265625,  4.765625 ,  4.8046875,  4.84375  ,\n",
       "         4.8828125,  4.921875 ,  4.9609375,  5.       ,  5.0390625,\n",
       "         5.078125 ,  5.1171875,  5.15625  ,  5.1953125,  5.234375 ,\n",
       "         5.2734375,  5.3125   ,  5.3515625,  5.390625 ,  5.4296875,\n",
       "         5.46875  ,  5.5078125,  5.546875 ,  5.5859375,  5.625    ,\n",
       "         5.6640625,  5.703125 ,  5.7421875,  5.78125  ,  5.8203125,\n",
       "         5.859375 ,  5.8984375,  5.9375   ,  5.9765625,  6.015625 ,\n",
       "         6.0546875,  6.09375  ,  6.1328125,  6.171875 ,  6.2109375,\n",
       "         6.25     ,  6.2890625,  6.328125 ,  6.3671875,  6.40625  ,\n",
       "         6.4453125,  6.484375 ,  6.5234375,  6.5625   ,  6.6015625,\n",
       "         6.640625 ,  6.6796875,  6.71875  ,  6.7578125,  6.796875 ,\n",
       "         6.8359375,  6.875    ,  6.9140625,  6.953125 ,  6.9921875,\n",
       "         7.03125  ,  7.0703125,  7.109375 ,  7.1484375,  7.1875   ,\n",
       "         7.2265625,  7.265625 ,  7.3046875,  7.34375  ,  7.3828125,\n",
       "         7.421875 ,  7.4609375,  7.5      ,  7.5390625,  7.578125 ,\n",
       "         7.6171875,  7.65625  ,  7.6953125,  7.734375 ,  7.7734375,\n",
       "         7.8125   ,  7.8515625,  7.890625 ,  7.9296875,  7.96875  ,\n",
       "         8.0078125,  8.046875 ,  8.0859375,  8.125    ,  8.1640625,\n",
       "         8.203125 ,  8.2421875,  8.28125  ,  8.3203125,  8.359375 ,\n",
       "         8.3984375,  8.4375   ,  8.4765625,  8.515625 ,  8.5546875,\n",
       "         8.59375  ,  8.6328125,  8.671875 ,  8.7109375,  8.75     ,\n",
       "         8.7890625,  8.828125 ,  8.8671875,  8.90625  ,  8.9453125,\n",
       "         8.984375 ,  9.0234375,  9.0625   ,  9.1015625,  9.140625 ,\n",
       "         9.1796875,  9.21875  ,  9.2578125,  9.296875 ,  9.3359375,\n",
       "         9.375    ,  9.4140625,  9.453125 ,  9.4921875,  9.53125  ,\n",
       "         9.5703125,  9.609375 ,  9.6484375,  9.6875   ,  9.7265625,\n",
       "         9.765625 ,  9.8046875,  9.84375  ,  9.8828125,  9.921875 ,\n",
       "         9.9609375, 10.       , 10.0390625, 10.078125 , 10.1171875,\n",
       "        10.15625  , 10.1953125, 10.234375 , 10.2734375, 10.3125   ,\n",
       "        10.3515625, 10.390625 , 10.4296875, 10.46875  , 10.5078125,\n",
       "        10.546875 , 10.5859375, 10.625    , 10.6640625, 10.703125 ,\n",
       "        10.7421875, 10.78125  , 10.8203125, 10.859375 , 10.8984375,\n",
       "        10.9375   , 10.9765625, 11.015625 , 11.0546875, 11.09375  ,\n",
       "        11.1328125, 11.171875 , 11.2109375, 11.25     , 11.2890625,\n",
       "        11.328125 , 11.3671875, 11.40625  , 11.4453125, 11.484375 ,\n",
       "        11.5234375, 11.5625   , 11.6015625, 11.640625 , 11.6796875,\n",
       "        11.71875  , 11.7578125, 11.796875 , 11.8359375, 11.875    ,\n",
       "        11.9140625, 11.953125 , 11.9921875, 12.03125  , 12.0703125,\n",
       "        12.109375 , 12.1484375, 12.1875   , 12.2265625, 12.265625 ,\n",
       "        12.3046875, 12.34375  , 12.3828125, 12.421875 , 12.4609375,\n",
       "        12.5      , 12.5390625, 12.578125 , 12.6171875, 12.65625  ,\n",
       "        12.6953125, 12.734375 , 12.7734375, 12.8125   , 12.8515625,\n",
       "        12.890625 , 12.9296875, 12.96875  , 13.0078125, 13.046875 ,\n",
       "        13.0859375, 13.125    , 13.1640625, 13.203125 , 13.2421875,\n",
       "        13.28125  , 13.3203125, 13.359375 , 13.3984375, 13.4375   ,\n",
       "        13.4765625, 13.515625 , 13.5546875, 13.59375  , 13.6328125,\n",
       "        13.671875 , 13.7109375, 13.75     , 13.7890625, 13.828125 ,\n",
       "        13.8671875, 13.90625  , 13.9453125, 13.984375 , 14.0234375,\n",
       "        14.0625   , 14.1015625, 14.140625 , 14.1796875, 14.21875  ,\n",
       "        14.2578125, 14.296875 , 14.3359375, 14.375    , 14.4140625,\n",
       "        14.453125 , 14.4921875, 14.53125  , 14.5703125, 14.609375 ,\n",
       "        14.6484375, 14.6875   , 14.7265625, 14.765625 , 14.8046875,\n",
       "        14.84375  , 14.8828125, 14.921875 , 14.9609375, 15.       ,\n",
       "        15.0390625, 15.078125 , 15.1171875, 15.15625  , 15.1953125,\n",
       "        15.234375 , 15.2734375, 15.3125   , 15.3515625, 15.390625 ,\n",
       "        15.4296875, 15.46875  , 15.5078125, 15.546875 , 15.5859375,\n",
       "        15.625    , 15.6640625, 15.703125 , 15.7421875, 15.78125  ,\n",
       "        15.8203125, 15.859375 , 15.8984375, 15.9375   , 15.9765625,\n",
       "        16.015625 , 16.0546875, 16.09375  , 16.1328125, 16.171875 ,\n",
       "        16.2109375, 16.25     , 16.2890625, 16.328125 , 16.3671875,\n",
       "        16.40625  , 16.4453125, 16.484375 , 16.5234375, 16.5625   ,\n",
       "        16.6015625, 16.640625 , 16.6796875, 16.71875  , 16.7578125,\n",
       "        16.796875 , 16.8359375, 16.875    , 16.9140625, 16.953125 ,\n",
       "        16.9921875, 17.03125  , 17.0703125, 17.109375 , 17.1484375,\n",
       "        17.1875   , 17.2265625, 17.265625 , 17.3046875, 17.34375  ,\n",
       "        17.3828125, 17.421875 , 17.4609375, 17.5      , 17.5390625,\n",
       "        17.578125 , 17.6171875, 17.65625  , 17.6953125, 17.734375 ,\n",
       "        17.7734375, 17.8125   , 17.8515625, 17.890625 , 17.9296875,\n",
       "        17.96875  , 18.0078125, 18.046875 , 18.0859375, 18.125    ,\n",
       "        18.1640625, 18.203125 , 18.2421875, 18.28125  , 18.3203125,\n",
       "        18.359375 , 18.3984375, 18.4375   , 18.4765625, 18.515625 ,\n",
       "        18.5546875, 18.59375  , 18.6328125, 18.671875 , 18.7109375,\n",
       "        18.75     , 18.7890625, 18.828125 , 18.8671875, 18.90625  ,\n",
       "        18.9453125, 18.984375 , 19.0234375, 19.0625   , 19.1015625,\n",
       "        19.140625 , 19.1796875, 19.21875  , 19.2578125, 19.296875 ,\n",
       "        19.3359375, 19.375    , 19.4140625, 19.453125 , 19.4921875,\n",
       "        19.53125  , 19.5703125, 19.609375 , 19.6484375, 19.6875   ,\n",
       "        19.7265625, 19.765625 , 19.8046875, 19.84375  , 19.8828125,\n",
       "        19.921875 , 19.9609375]),\n",
       " <a list of 511 Patch objects>)"
      ]
     },
     "execution_count": 16,
     "metadata": {},
     "output_type": "execute_result"
    },
    {
     "data": {
      "image/png": "[encoded data removed]",
      "text/plain": [
       "<Figure size 432x288 with 1 Axes>"
      ]
     },
     "metadata": {
      "needs_background": "light"
     },
     "output_type": "display_data"
    }
   ],
   "source": [
    "plt.hist(out[0][out[1][:, 0] == -1, 0], bins = np.arange(512) * 20/512 , alpha = 0.2, color = 'red')\n",
    "plt.hist(out[0][out[1][:, 0] == 1, 0], bins = np.arange(512) * 20/512 , alpha = 0.2, color = 'green')"
   ]
  },
  {
   "cell_type": "code",
   "execution_count": 23,
   "metadata": {},
   "outputs": [
    {
     "name": "stdout",
     "output_type": "stream",
     "text": [
      "2.0\n",
      "1.01\n"
     ]
    },
    {
     "data": {
      "image/png": "[encoded data removed]",
      "text/plain": [
       "<Figure size 432x288 with 1 Axes>"
      ]
     },
     "metadata": {
      "needs_background": "light"
     },
     "output_type": "display_data"
    }
   ],
   "source": [
    "# DDM  \n",
    "repeats = 1\n",
    "colors = ['green', 'red']\n",
    "my_means = np.zeros(repeats)\n",
    "cnt = 0\n",
    "for i in np.linspace(2, 1.01, 2):\n",
    "    out = cds.levy_flexbound(v = 0, \n",
    "                             a = 2.5,\n",
    "                             w = 0.5,\n",
    "                             alpha_diff = i,\n",
    "                             ndt = 0.5,\n",
    "                             delta_t = 0.001, \n",
    "                             max_t = 20,\n",
    "                             n_samples = 10000,\n",
    "                             boundary_fun = bf.constant,\n",
    "                             boundary_multiplicative = True, \n",
    "                             boundary_params = {})\n",
    "                            #boundary_params = {\"theta\": 0.01})\n",
    "    plt.hist(out[0] * out[1], bins = np.linspace(-15, 15, 100), density = True, alpha = 0.2, color = colors[cnt])\n",
    "    print(i)\n",
    "    cnt += 1\n",
    "    \n",
    "    #my_means[i] = np.mean(out[0][out[1] == 1])\n",
    "plt.show()"
   ]
  },
  {
   "cell_type": "code",
   "execution_count": 12,
   "metadata": {},
   "outputs": [],
   "source": [
    "def bin_simulator_output(out = [0, 0],\n",
    "                         bin_dt = 0.04,\n",
    "                         n_bins = 0,\n",
    "                         eps_correction = 1e-7, # min p for a bin\n",
    "                         params = ['v', 'a', 'w', 'ndt']\n",
    "                        ): # ['v', 'a', 'w', 'ndt', 'angle']\n",
    "\n",
    "    # Generate bins\n",
    "    if n_bins == 0:\n",
    "        n_bins = int(out[2]['max_t'] / bin_dt)\n",
    "        bins = np.linspace(0, out[2]['max_t'], n_bins)\n",
    "    else:    \n",
    "        bins = np.linspace(0, out[2]['max_t'], n_bins)\n",
    "        bins = np.append(bins, [100])\n",
    "        print(bins)\n",
    "    counts = []\n",
    "    cnt = 0\n",
    "    counts = np.zeros( (n_bins, len(out[2]['possible_choices']) ) )\n",
    "    counts_size = counts.shape[0] * counts.shape[1]\n",
    "    \n",
    "    for choice in out[2]['possible_choices']:\n",
    "        counts[:, cnt] = np.histogram(out[0][out[1] == choice], bins = bins)[0] / out[2]['n_samples']\n",
    "        cnt += 1\n",
    "    \n",
    "    # Apply correction for empty bins\n",
    "    n_small = 0\n",
    "    n_big = 0\n",
    "    n_small = np.sum(counts < eps_correction)\n",
    "    n_big = counts_size - n_small \n",
    "    \n",
    "    if eps_correction > 0:\n",
    "        counts[counts <= eps_correction] = eps_correction\n",
    "        counts[counts > eps_correction] -= (eps_correction * (n_small / n_big))\n",
    "\n",
    "    return ([out[2][param] for param in params], # features\n",
    "            counts, # labels\n",
    "            {'max_t': out[2]['max_t'], \n",
    "             'bin_dt': bin_dt, \n",
    "             'n_samples': out[2]['n_samples']} # meta data\n",
    "           )\n",
    "\n",
    "\n",
    "def bin_simulator_output(self, \n",
    "                         out = [0, 0],\n",
    "                         bin_dt = 0.04,\n",
    "                             nbins = 0): # ['v', 'a', 'w', 'ndt', 'angle']\n",
    "        \n",
    "        # Generate bins\n",
    "        if nbins == 0:\n",
    "            nbins = int(out[2]['max_t'] / bin_dt)\n",
    "            bins = np.zeros(nbins + 1)\n",
    "            bins[:nbins] = np.linspace(0, out[2]['max_t'], nbins)\n",
    "            bins[nbins] = np.inf\n",
    "        else:  \n",
    "            bins = np.zeros(nbins + 1)\n",
    "            bins[:nbins] = np.linspace(0, out[2]['max_t'], nbins)\n",
    "            bins[nbins] = np.inf\n",
    "\n",
    "        cnt = 0\n",
    "        counts = np.zeros( (nbins, len(out[2]['possible_choices']) ) )\n",
    "\n",
    "        for choice in out[2]['possible_choices']:\n",
    "            counts[:, cnt] = np.histogram(out[0][out[1] == choice], bins = bins)[0] / out[2]['n_samples']\n",
    "            cnt += 1\n",
    "        return counts"
   ]
  },
  {
   "cell_type": "code",
   "execution_count": null,
   "metadata": {},
   "outputs": [],
   "source": [
    "#%%timeit -n 1 -r 5\n",
    "a, b = bin_simulator_output(out = out)"
   ]
  },
  {
   "cell_type": "code",
   "execution_count": 184,
   "metadata": {},
   "outputs": [
    {
     "name": "stdout",
     "output_type": "stream",
     "text": [
      "36.2 s ± 0 ns per loop (mean ± std. dev. of 1 run, 5 loops each)\n"
     ]
    }
   ],
   "source": [
    "%%timeit -n 5 -r 1\n",
    "out = cds.ornstein_uhlenbeck(v = 0.0,\n",
    "                             a = 1.5,\n",
    "                             w = 0.5,\n",
    "                             g = 0,\n",
    "                             ndt = 0.92,\n",
    "                             delta_t = 0.001,\n",
    "                             boundary_fun = bf.constant,\n",
    "                             n_samples = 100000)"
   ]
  },
  {
   "cell_type": "code",
   "execution_count": null,
   "metadata": {},
   "outputs": [],
   "source": [
    "binned_sims = bin_simulator_output(out = out,\n",
    "                                   n_bins = 256,\n",
    "                                   eps_correction = 1e-7,\n",
    "                                   params = ['v', 'a', 'w', 'g', 'ndt'])"
   ]
  },
  {
   "cell_type": "code",
   "execution_count": 181,
   "metadata": {},
   "outputs": [
    {
     "name": "stdout",
     "output_type": "stream",
     "text": [
      "1min 10s ± 0 ns per loop (mean ± std. dev. of 1 run, 5 loops each)\n"
     ]
    }
   ],
   "source": [
    "%%timeit -n 5 -r 1\n",
    "out = cds.ddm_flexbound_seq2(v_h = 0,\n",
    "                             v_l_1 = 0,\n",
    "                             v_l_2 = 0,\n",
    "                             a = 1.5,\n",
    "                             w_h = 0.5,\n",
    "                             w_l_1 = 0.5,\n",
    "                             w_l_2 = 0.5,\n",
    "                             ndt = 0.5,\n",
    "                             s = 1,\n",
    "                             delta_t = 0.001,\n",
    "                             max_t = 20,\n",
    "                             n_samples = 100000,\n",
    "                             print_info = True,\n",
    "                             boundary_fun = bf.constant, # function of t (and potentially other parameters) that takes in (t, *args)\n",
    "                             boundary_multiplicative = True,\n",
    "                             boundary_params = {})"
   ]
  },
  {
   "cell_type": "code",
   "execution_count": 180,
   "metadata": {},
   "outputs": [
    {
     "name": "stdout",
     "output_type": "stream",
     "text": [
      "1min 9s ± 0 ns per loop (mean ± std. dev. of 1 run, 5 loops each)\n"
     ]
    }
   ],
   "source": [
    "%%timeit -n 5 -r 1\n",
    "out = cds.ddm_flexbound_par2(v_h = 0,\n",
    "                             v_l_1 = 0,\n",
    "                             v_l_2 = 0,\n",
    "                             a = 1.5,\n",
    "                             w_h = 0.5,\n",
    "                             w_l_1 = 0.5,\n",
    "                             w_l_2 = 0.5,\n",
    "                             ndt = 0.5,\n",
    "                             s = 1,\n",
    "                             delta_t = 0.001,\n",
    "                             max_t = 20,\n",
    "                             n_samples = 100000,\n",
    "                             print_info = True,\n",
    "                             boundary_fun = bf.constant, # function of t (and potentially other parameters) that takes in (t, *args)\n",
    "                             boundary_multiplicative = True,\n",
    "                             boundary_params = {})"
   ]
  },
  {
   "cell_type": "code",
   "execution_count": 178,
   "metadata": {},
   "outputs": [
    {
     "name": "stdout",
     "output_type": "stream",
     "text": [
      "1min 12s ± 0 ns per loop (mean ± std. dev. of 1 run, 5 loops each)\n"
     ]
    }
   ],
   "source": [
    "%%timeit -n 5 -r 1 \n",
    "out = cds.ddm_flexbound_mic2(v_h = 0.0,\n",
    "                             v_l_1 = 0.0,\n",
    "                             v_l_2 = 0.0,\n",
    "                             a = 1.5,\n",
    "                             w_h = 0.5,\n",
    "                             w_l_1 = 0.5,\n",
    "                             w_l_2 = 0.5,\n",
    "                             d = 1.0, \n",
    "                             ndt = 0.5,\n",
    "                             s = 1,\n",
    "                             delta_t = 0.001,\n",
    "                             max_t = 20,\n",
    "                             n_samples = 100000,\n",
    "                             print_info = True,\n",
    "                             boundary_fun = bf.constant, # function of t (and potentially other parameters) that takes in (t, *args)\n",
    "                             boundary_multiplicative = True,\n",
    "                             boundary_params = {})"
   ]
  },
  {
   "cell_type": "code",
   "execution_count": 217,
   "metadata": {},
   "outputs": [
    {
     "data": {
      "text/plain": [
       "(array([ 0.,  0.,  0.,  0.,  0.,  0.,  0.,  0.,  0.,  0.,  0.,  0.,  0.,\n",
       "         0.,  0.,  0.,  0.,  0.,  0.,  0.,  0.,  0.,  0.,  0.,  0.,  0.,\n",
       "         0.,  0.,  0.,  2.,  3.,  1.,  1.,  4.,  6.,  6.,  4., 10., 10.,\n",
       "         3., 10., 13.,  6., 11., 19., 19., 23., 20., 33., 22., 27., 17.,\n",
       "        33., 21., 31., 33., 17., 27., 21., 38., 24., 26., 35., 24., 19.,\n",
       "        24., 44., 33., 30., 39., 34., 52., 34., 35., 38., 43., 37., 34.,\n",
       "        36., 32., 37., 43., 28., 58., 30., 27., 46., 40., 46., 45., 36.,\n",
       "        44., 39., 41., 31., 51., 29., 44., 40., 36., 38., 37., 43., 37.,\n",
       "        34., 29., 25., 50., 44., 49., 41., 43., 42., 29., 41., 23., 36.,\n",
       "        27., 39., 35., 43., 36., 37., 37., 28., 39., 33., 25., 49., 35.,\n",
       "        52., 26., 31., 34., 44., 38., 49., 38., 30., 29., 34., 32., 26.,\n",
       "        26., 28., 33., 29., 35., 30., 32., 34., 40., 26., 32., 26., 29.,\n",
       "        38., 42., 32., 28., 30., 34., 26., 33., 28., 24., 40., 30., 24.,\n",
       "        29., 32., 28., 36., 34., 23., 30., 30., 26., 29., 27., 34., 17.,\n",
       "        30., 40., 34., 35., 30., 32., 24., 20., 26., 19., 32., 33., 27.,\n",
       "        27., 21., 20., 31., 17., 17., 28., 17., 27., 26., 33., 21., 18.,\n",
       "        20., 25., 25., 24., 29., 23., 27., 15., 19., 28., 19., 17., 32.,\n",
       "        27., 22., 12., 29., 18., 20., 25., 20., 25., 21., 23., 20., 23.,\n",
       "        20., 14., 24., 26., 20., 29., 17., 16., 10., 18., 14., 11., 15.,\n",
       "        21., 18., 24., 15., 21., 24., 21., 20., 11., 20., 19., 20., 14.,\n",
       "        15., 19., 13., 14., 19., 19., 14., 13., 18., 17., 15., 20., 12.,\n",
       "        22., 10., 14., 25., 12., 18., 12., 13.,  9., 17., 15., 14., 21.,\n",
       "        17., 16., 16., 12., 21., 17., 15., 21., 17., 20.,  9.,  9., 13.,\n",
       "        17., 13., 17., 15., 17., 16.,  9., 11., 21., 16., 17., 10., 20.,\n",
       "        16., 20.,  7., 15.,  9., 13., 12., 12., 14., 11., 11., 19., 11.,\n",
       "        13., 20., 14., 15., 10., 13., 15., 13., 16., 11.,  9., 10., 10.,\n",
       "        10.,  9., 10.,  9.,  8., 12., 13., 17.,  8., 13., 18.,  9., 11.,\n",
       "         8.,  9., 18., 10., 10.,  7., 11.,  8., 11.,  5., 13., 11., 10.,\n",
       "        13.,  8., 12., 12., 10., 13.,  9., 15.,  9.,  4., 12., 13., 13.,\n",
       "        10.,  8.,  9., 13., 12., 10., 12., 11.,  6., 14., 13.,  9., 14.,\n",
       "        11., 11., 11.,  7., 10.,  6., 13.,  9., 10., 13.,  8.,  5.,  9.,\n",
       "         8.,  6.,  3., 16.,  9.,  9.,  6.,  6., 11.,  3.,  5.,  5., 10.,\n",
       "         4., 13., 10.,  6., 12.,  8., 10.,  4.,  5., 10., 11., 10.,  5.,\n",
       "        11.,  3.,  7.,  8.,  6., 11.,  5.,  5.,  7.,  8.,  7.,  7.,  6.,\n",
       "         8.,  9., 10.,  6.,  3.,  2.,  6.,  9., 10.,  4.,  5.,  7.,  6.,\n",
       "         9.,  5.,  7.,  6.,  8.,  5.,  4.,  2.,  7., 11.,  8.,  4.,  6.,\n",
       "         3.,  6.,  7., 10.,  5.,  6.,  3.,  7.,  2.,  4.,  5.,  5.,  6.,\n",
       "         9.,  2.,  8.,  3.,  5.,  4.,  4.,  5.,  4.,  3.,  3.,  4.,  8.,\n",
       "         6.,  5.,  6.,  5.,  4.,  4.,  6.,  5.,  7.,  9.,  9.,  4.,  7.,\n",
       "         8.,  6.,  6.,  5.]),\n",
       " array([ 0.       ,  0.0390625,  0.078125 ,  0.1171875,  0.15625  ,\n",
       "         0.1953125,  0.234375 ,  0.2734375,  0.3125   ,  0.3515625,\n",
       "         0.390625 ,  0.4296875,  0.46875  ,  0.5078125,  0.546875 ,\n",
       "         0.5859375,  0.625    ,  0.6640625,  0.703125 ,  0.7421875,\n",
       "         0.78125  ,  0.8203125,  0.859375 ,  0.8984375,  0.9375   ,\n",
       "         0.9765625,  1.015625 ,  1.0546875,  1.09375  ,  1.1328125,\n",
       "         1.171875 ,  1.2109375,  1.25     ,  1.2890625,  1.328125 ,\n",
       "         1.3671875,  1.40625  ,  1.4453125,  1.484375 ,  1.5234375,\n",
       "         1.5625   ,  1.6015625,  1.640625 ,  1.6796875,  1.71875  ,\n",
       "         1.7578125,  1.796875 ,  1.8359375,  1.875    ,  1.9140625,\n",
       "         1.953125 ,  1.9921875,  2.03125  ,  2.0703125,  2.109375 ,\n",
       "         2.1484375,  2.1875   ,  2.2265625,  2.265625 ,  2.3046875,\n",
       "         2.34375  ,  2.3828125,  2.421875 ,  2.4609375,  2.5      ,\n",
       "         2.5390625,  2.578125 ,  2.6171875,  2.65625  ,  2.6953125,\n",
       "         2.734375 ,  2.7734375,  2.8125   ,  2.8515625,  2.890625 ,\n",
       "         2.9296875,  2.96875  ,  3.0078125,  3.046875 ,  3.0859375,\n",
       "         3.125    ,  3.1640625,  3.203125 ,  3.2421875,  3.28125  ,\n",
       "         3.3203125,  3.359375 ,  3.3984375,  3.4375   ,  3.4765625,\n",
       "         3.515625 ,  3.5546875,  3.59375  ,  3.6328125,  3.671875 ,\n",
       "         3.7109375,  3.75     ,  3.7890625,  3.828125 ,  3.8671875,\n",
       "         3.90625  ,  3.9453125,  3.984375 ,  4.0234375,  4.0625   ,\n",
       "         4.1015625,  4.140625 ,  4.1796875,  4.21875  ,  4.2578125,\n",
       "         4.296875 ,  4.3359375,  4.375    ,  4.4140625,  4.453125 ,\n",
       "         4.4921875,  4.53125  ,  4.5703125,  4.609375 ,  4.6484375,\n",
       "         4.6875   ,  4.7265625,  4.765625 ,  4.8046875,  4.84375  ,\n",
       "         4.8828125,  4.921875 ,  4.9609375,  5.       ,  5.0390625,\n",
       "         5.078125 ,  5.1171875,  5.15625  ,  5.1953125,  5.234375 ,\n",
       "         5.2734375,  5.3125   ,  5.3515625,  5.390625 ,  5.4296875,\n",
       "         5.46875  ,  5.5078125,  5.546875 ,  5.5859375,  5.625    ,\n",
       "         5.6640625,  5.703125 ,  5.7421875,  5.78125  ,  5.8203125,\n",
       "         5.859375 ,  5.8984375,  5.9375   ,  5.9765625,  6.015625 ,\n",
       "         6.0546875,  6.09375  ,  6.1328125,  6.171875 ,  6.2109375,\n",
       "         6.25     ,  6.2890625,  6.328125 ,  6.3671875,  6.40625  ,\n",
       "         6.4453125,  6.484375 ,  6.5234375,  6.5625   ,  6.6015625,\n",
       "         6.640625 ,  6.6796875,  6.71875  ,  6.7578125,  6.796875 ,\n",
       "         6.8359375,  6.875    ,  6.9140625,  6.953125 ,  6.9921875,\n",
       "         7.03125  ,  7.0703125,  7.109375 ,  7.1484375,  7.1875   ,\n",
       "         7.2265625,  7.265625 ,  7.3046875,  7.34375  ,  7.3828125,\n",
       "         7.421875 ,  7.4609375,  7.5      ,  7.5390625,  7.578125 ,\n",
       "         7.6171875,  7.65625  ,  7.6953125,  7.734375 ,  7.7734375,\n",
       "         7.8125   ,  7.8515625,  7.890625 ,  7.9296875,  7.96875  ,\n",
       "         8.0078125,  8.046875 ,  8.0859375,  8.125    ,  8.1640625,\n",
       "         8.203125 ,  8.2421875,  8.28125  ,  8.3203125,  8.359375 ,\n",
       "         8.3984375,  8.4375   ,  8.4765625,  8.515625 ,  8.5546875,\n",
       "         8.59375  ,  8.6328125,  8.671875 ,  8.7109375,  8.75     ,\n",
       "         8.7890625,  8.828125 ,  8.8671875,  8.90625  ,  8.9453125,\n",
       "         8.984375 ,  9.0234375,  9.0625   ,  9.1015625,  9.140625 ,\n",
       "         9.1796875,  9.21875  ,  9.2578125,  9.296875 ,  9.3359375,\n",
       "         9.375    ,  9.4140625,  9.453125 ,  9.4921875,  9.53125  ,\n",
       "         9.5703125,  9.609375 ,  9.6484375,  9.6875   ,  9.7265625,\n",
       "         9.765625 ,  9.8046875,  9.84375  ,  9.8828125,  9.921875 ,\n",
       "         9.9609375, 10.       , 10.0390625, 10.078125 , 10.1171875,\n",
       "        10.15625  , 10.1953125, 10.234375 , 10.2734375, 10.3125   ,\n",
       "        10.3515625, 10.390625 , 10.4296875, 10.46875  , 10.5078125,\n",
       "        10.546875 , 10.5859375, 10.625    , 10.6640625, 10.703125 ,\n",
       "        10.7421875, 10.78125  , 10.8203125, 10.859375 , 10.8984375,\n",
       "        10.9375   , 10.9765625, 11.015625 , 11.0546875, 11.09375  ,\n",
       "        11.1328125, 11.171875 , 11.2109375, 11.25     , 11.2890625,\n",
       "        11.328125 , 11.3671875, 11.40625  , 11.4453125, 11.484375 ,\n",
       "        11.5234375, 11.5625   , 11.6015625, 11.640625 , 11.6796875,\n",
       "        11.71875  , 11.7578125, 11.796875 , 11.8359375, 11.875    ,\n",
       "        11.9140625, 11.953125 , 11.9921875, 12.03125  , 12.0703125,\n",
       "        12.109375 , 12.1484375, 12.1875   , 12.2265625, 12.265625 ,\n",
       "        12.3046875, 12.34375  , 12.3828125, 12.421875 , 12.4609375,\n",
       "        12.5      , 12.5390625, 12.578125 , 12.6171875, 12.65625  ,\n",
       "        12.6953125, 12.734375 , 12.7734375, 12.8125   , 12.8515625,\n",
       "        12.890625 , 12.9296875, 12.96875  , 13.0078125, 13.046875 ,\n",
       "        13.0859375, 13.125    , 13.1640625, 13.203125 , 13.2421875,\n",
       "        13.28125  , 13.3203125, 13.359375 , 13.3984375, 13.4375   ,\n",
       "        13.4765625, 13.515625 , 13.5546875, 13.59375  , 13.6328125,\n",
       "        13.671875 , 13.7109375, 13.75     , 13.7890625, 13.828125 ,\n",
       "        13.8671875, 13.90625  , 13.9453125, 13.984375 , 14.0234375,\n",
       "        14.0625   , 14.1015625, 14.140625 , 14.1796875, 14.21875  ,\n",
       "        14.2578125, 14.296875 , 14.3359375, 14.375    , 14.4140625,\n",
       "        14.453125 , 14.4921875, 14.53125  , 14.5703125, 14.609375 ,\n",
       "        14.6484375, 14.6875   , 14.7265625, 14.765625 , 14.8046875,\n",
       "        14.84375  , 14.8828125, 14.921875 , 14.9609375, 15.       ,\n",
       "        15.0390625, 15.078125 , 15.1171875, 15.15625  , 15.1953125,\n",
       "        15.234375 , 15.2734375, 15.3125   , 15.3515625, 15.390625 ,\n",
       "        15.4296875, 15.46875  , 15.5078125, 15.546875 , 15.5859375,\n",
       "        15.625    , 15.6640625, 15.703125 , 15.7421875, 15.78125  ,\n",
       "        15.8203125, 15.859375 , 15.8984375, 15.9375   , 15.9765625,\n",
       "        16.015625 , 16.0546875, 16.09375  , 16.1328125, 16.171875 ,\n",
       "        16.2109375, 16.25     , 16.2890625, 16.328125 , 16.3671875,\n",
       "        16.40625  , 16.4453125, 16.484375 , 16.5234375, 16.5625   ,\n",
       "        16.6015625, 16.640625 , 16.6796875, 16.71875  , 16.7578125,\n",
       "        16.796875 , 16.8359375, 16.875    , 16.9140625, 16.953125 ,\n",
       "        16.9921875, 17.03125  , 17.0703125, 17.109375 , 17.1484375,\n",
       "        17.1875   , 17.2265625, 17.265625 , 17.3046875, 17.34375  ,\n",
       "        17.3828125, 17.421875 , 17.4609375, 17.5      , 17.5390625,\n",
       "        17.578125 , 17.6171875, 17.65625  , 17.6953125, 17.734375 ,\n",
       "        17.7734375, 17.8125   , 17.8515625, 17.890625 , 17.9296875,\n",
       "        17.96875  , 18.0078125, 18.046875 , 18.0859375, 18.125    ,\n",
       "        18.1640625, 18.203125 , 18.2421875, 18.28125  , 18.3203125,\n",
       "        18.359375 , 18.3984375, 18.4375   , 18.4765625, 18.515625 ,\n",
       "        18.5546875, 18.59375  , 18.6328125, 18.671875 , 18.7109375,\n",
       "        18.75     , 18.7890625, 18.828125 , 18.8671875, 18.90625  ,\n",
       "        18.9453125, 18.984375 , 19.0234375, 19.0625   , 19.1015625,\n",
       "        19.140625 , 19.1796875, 19.21875  , 19.2578125, 19.296875 ,\n",
       "        19.3359375, 19.375    , 19.4140625, 19.453125 , 19.4921875,\n",
       "        19.53125  , 19.5703125, 19.609375 , 19.6484375, 19.6875   ,\n",
       "        19.7265625, 19.765625 , 19.8046875, 19.84375  , 19.8828125,\n",
       "        19.921875 , 19.9609375]),\n",
       " <a list of 511 Patch objects>)"
      ]
     },
     "execution_count": 217,
     "metadata": {},
     "output_type": "execute_result"
    },
    {
     "data": {
      "image/png": "[encoded data removed]",
      "text/plain": [
       "<Figure size 432x288 with 1 Axes>"
      ]
     },
     "metadata": {
      "needs_background": "light"
     },
     "output_type": "display_data"
    }
   ],
   "source": [
    "plt.hist(out[0][out[1][:, 0] == 0, 0], bins = np.arange(512) * 20/512 , alpha = 0.2, color = 'red')\n",
    "plt.hist(out[0][out[1][:, 0] == 1, 0], bins = np.arange(512) * 20/512 , alpha = 0.2, color = 'green')\n",
    "#plt.hist(out[0][out[1][:, 0] == 2, 0], bins = np.arange(512) * 20/512 , alpha = 0.2, color = 'red')\n",
    "#plt.hist(out[0][out[1][:, 0] == 3, 0], bins = np.arange(512) * 20/512 , alpha = 0.2, color = 'green')"
   ]
  },
  {
   "cell_type": "code",
   "execution_count": 185,
   "metadata": {},
   "outputs": [],
   "source": [
    "import pickle\n",
    "import os\n"
   ]
  },
  {
   "cell_type": "code",
   "execution_count": 188,
   "metadata": {},
   "outputs": [
    {
     "data": {
      "text/plain": [
       "['ddm_seq2_nchoices_2_train_data_binned_1_nbins_512_n_100000_999.pickle']"
      ]
     },
     "execution_count": 188,
     "metadata": {},
     "output_type": "execute_result"
    }
   ],
   "source": [
    "os.listdir('/media/data_cifs/afengler/data/kde/ddm_seq2/training_data_binned_1_nbins_512_n_100000')"
   ]
  },
  {
   "cell_type": "code",
   "execution_count": 211,
   "metadata": {},
   "outputs": [],
   "source": [
    "tt = pickle.load(open('/media/data_cifs/afengler/data/kde/ddm_mic2/training_data_binned_1_nbins_512_n_100000/ddm_mic2_nchoices_2_train_data_binned_1_nbins_512_n_100000_999.pickle', 'rb'))"
   ]
  },
  {
   "cell_type": "code",
   "execution_count": 195,
   "metadata": {},
   "outputs": [
    {
     "data": {
      "text/plain": [
       "array([0.000e+00, 0.000e+00, 0.000e+00, 0.000e+00, 0.000e+00, 0.000e+00,\n",
       "       0.000e+00, 0.000e+00, 0.000e+00, 0.000e+00, 0.000e+00, 0.000e+00,\n",
       "       0.000e+00, 0.000e+00, 0.000e+00, 0.000e+00, 0.000e+00, 0.000e+00,\n",
       "       0.000e+00, 0.000e+00, 0.000e+00, 0.000e+00, 8.000e-05, 2.300e-04,\n",
       "       7.500e-04, 1.630e-03, 2.620e-03, 3.470e-03, 5.330e-03, 5.970e-03,\n",
       "       7.820e-03, 8.140e-03, 9.420e-03, 9.680e-03, 1.008e-02, 1.038e-02,\n",
       "       1.083e-02, 1.139e-02, 1.050e-02, 1.050e-02, 1.000e-02, 1.021e-02,\n",
       "       9.690e-03, 9.210e-03, 8.560e-03, 8.420e-03, 7.900e-03, 6.960e-03,\n",
       "       6.720e-03, 6.960e-03, 6.690e-03, 6.050e-03, 5.490e-03, 5.400e-03,\n",
       "       5.210e-03, 4.600e-03, 4.820e-03, 4.620e-03, 4.070e-03, 3.630e-03,\n",
       "       3.420e-03, 2.790e-03, 3.010e-03, 3.260e-03, 2.740e-03, 2.280e-03,\n",
       "       2.180e-03, 2.040e-03, 1.880e-03, 1.860e-03, 1.610e-03, 1.450e-03,\n",
       "       1.450e-03, 1.540e-03, 1.210e-03, 1.060e-03, 1.100e-03, 1.100e-03,\n",
       "       1.040e-03, 1.060e-03, 7.500e-04, 8.500e-04, 7.400e-04, 8.000e-04,\n",
       "       5.600e-04, 5.700e-04, 4.400e-04, 5.400e-04, 4.400e-04, 4.400e-04,\n",
       "       5.900e-04, 3.100e-04, 3.200e-04, 2.600e-04, 2.600e-04, 3.000e-04,\n",
       "       3.000e-04, 1.500e-04, 3.400e-04, 1.900e-04, 2.500e-04, 1.400e-04,\n",
       "       1.700e-04, 1.900e-04, 1.800e-04, 1.100e-04, 1.300e-04, 6.000e-05,\n",
       "       1.100e-04, 8.000e-05, 1.100e-04, 7.000e-05, 8.000e-05, 1.000e-05,\n",
       "       1.200e-04, 6.000e-05, 7.000e-05, 8.000e-05, 5.000e-05, 5.000e-05,\n",
       "       4.000e-05, 5.000e-05, 1.000e-05, 2.000e-05, 1.000e-05, 1.000e-05,\n",
       "       2.000e-05, 6.000e-05, 4.000e-05, 3.000e-05, 3.000e-05, 2.000e-05,\n",
       "       0.000e+00, 2.000e-05, 1.000e-05, 0.000e+00, 2.000e-05, 3.000e-05,\n",
       "       0.000e+00, 1.000e-05, 2.000e-05, 0.000e+00, 1.000e-05, 3.000e-05,\n",
       "       1.000e-05, 2.000e-05, 0.000e+00, 0.000e+00, 1.000e-05, 0.000e+00,\n",
       "       1.000e-05, 0.000e+00, 1.000e-05, 1.000e-05, 0.000e+00, 0.000e+00,\n",
       "       0.000e+00, 0.000e+00, 0.000e+00, 1.000e-05, 0.000e+00, 0.000e+00,\n",
       "       0.000e+00, 1.000e-05, 0.000e+00, 0.000e+00, 1.000e-05, 0.000e+00,\n",
       "       0.000e+00, 0.000e+00, 2.000e-05, 0.000e+00, 1.000e-05, 0.000e+00,\n",
       "       0.000e+00, 1.000e-05, 0.000e+00, 0.000e+00, 0.000e+00, 0.000e+00,\n",
       "       0.000e+00, 0.000e+00, 0.000e+00, 0.000e+00, 0.000e+00, 1.000e-05,\n",
       "       0.000e+00, 0.000e+00, 0.000e+00, 0.000e+00, 0.000e+00, 0.000e+00,\n",
       "       0.000e+00, 0.000e+00, 0.000e+00, 0.000e+00, 0.000e+00, 0.000e+00,\n",
       "       0.000e+00, 1.000e-05, 0.000e+00, 0.000e+00, 0.000e+00, 0.000e+00,\n",
       "       0.000e+00, 0.000e+00, 0.000e+00, 0.000e+00, 0.000e+00, 0.000e+00,\n",
       "       0.000e+00, 0.000e+00, 0.000e+00, 0.000e+00, 0.000e+00, 0.000e+00,\n",
       "       0.000e+00, 0.000e+00, 0.000e+00, 0.000e+00, 0.000e+00, 0.000e+00,\n",
       "       0.000e+00, 0.000e+00, 0.000e+00, 0.000e+00, 0.000e+00, 0.000e+00,\n",
       "       0.000e+00, 0.000e+00, 0.000e+00, 0.000e+00, 0.000e+00, 0.000e+00,\n",
       "       0.000e+00, 0.000e+00, 0.000e+00, 0.000e+00, 0.000e+00, 0.000e+00,\n",
       "       0.000e+00, 0.000e+00, 0.000e+00, 0.000e+00, 0.000e+00, 0.000e+00,\n",
       "       0.000e+00, 0.000e+00, 0.000e+00, 0.000e+00, 0.000e+00, 0.000e+00,\n",
       "       0.000e+00, 0.000e+00, 0.000e+00, 0.000e+00, 0.000e+00, 0.000e+00,\n",
       "       0.000e+00, 0.000e+00, 0.000e+00, 0.000e+00, 0.000e+00, 0.000e+00,\n",
       "       0.000e+00, 0.000e+00, 0.000e+00, 0.000e+00, 0.000e+00, 0.000e+00,\n",
       "       0.000e+00, 0.000e+00, 0.000e+00, 0.000e+00, 0.000e+00, 0.000e+00,\n",
       "       0.000e+00, 0.000e+00, 0.000e+00, 0.000e+00, 0.000e+00, 0.000e+00,\n",
       "       0.000e+00, 0.000e+00, 0.000e+00, 0.000e+00, 0.000e+00, 0.000e+00,\n",
       "       0.000e+00, 0.000e+00, 0.000e+00, 0.000e+00, 0.000e+00, 0.000e+00,\n",
       "       0.000e+00, 0.000e+00, 0.000e+00, 0.000e+00, 0.000e+00, 0.000e+00,\n",
       "       0.000e+00, 0.000e+00, 0.000e+00, 0.000e+00, 0.000e+00, 0.000e+00,\n",
       "       0.000e+00, 0.000e+00, 0.000e+00, 0.000e+00, 0.000e+00, 0.000e+00,\n",
       "       0.000e+00, 0.000e+00, 0.000e+00, 0.000e+00, 0.000e+00, 0.000e+00,\n",
       "       0.000e+00, 0.000e+00, 0.000e+00, 0.000e+00, 0.000e+00, 0.000e+00,\n",
       "       0.000e+00, 0.000e+00, 0.000e+00, 0.000e+00, 0.000e+00, 0.000e+00,\n",
       "       0.000e+00, 0.000e+00, 0.000e+00, 0.000e+00, 0.000e+00, 0.000e+00,\n",
       "       0.000e+00, 0.000e+00, 0.000e+00, 0.000e+00, 0.000e+00, 0.000e+00,\n",
       "       0.000e+00, 0.000e+00, 0.000e+00, 0.000e+00, 0.000e+00, 0.000e+00,\n",
       "       0.000e+00, 0.000e+00, 0.000e+00, 0.000e+00, 0.000e+00, 0.000e+00,\n",
       "       0.000e+00, 0.000e+00, 0.000e+00, 0.000e+00, 0.000e+00, 0.000e+00,\n",
       "       0.000e+00, 0.000e+00, 0.000e+00, 0.000e+00, 0.000e+00, 0.000e+00,\n",
       "       0.000e+00, 0.000e+00, 0.000e+00, 0.000e+00, 0.000e+00, 0.000e+00,\n",
       "       0.000e+00, 0.000e+00, 0.000e+00, 0.000e+00, 0.000e+00, 0.000e+00,\n",
       "       0.000e+00, 0.000e+00, 0.000e+00, 0.000e+00, 0.000e+00, 0.000e+00,\n",
       "       0.000e+00, 0.000e+00, 0.000e+00, 0.000e+00, 0.000e+00, 0.000e+00,\n",
       "       0.000e+00, 0.000e+00, 0.000e+00, 0.000e+00, 0.000e+00, 0.000e+00,\n",
       "       0.000e+00, 0.000e+00, 0.000e+00, 0.000e+00, 0.000e+00, 0.000e+00,\n",
       "       0.000e+00, 0.000e+00, 0.000e+00, 0.000e+00, 0.000e+00, 0.000e+00,\n",
       "       0.000e+00, 0.000e+00, 0.000e+00, 0.000e+00, 0.000e+00, 0.000e+00,\n",
       "       0.000e+00, 0.000e+00, 0.000e+00, 0.000e+00, 0.000e+00, 0.000e+00,\n",
       "       0.000e+00, 0.000e+00, 0.000e+00, 0.000e+00, 0.000e+00, 0.000e+00,\n",
       "       0.000e+00, 0.000e+00, 0.000e+00, 0.000e+00, 0.000e+00, 0.000e+00,\n",
       "       0.000e+00, 0.000e+00, 0.000e+00, 0.000e+00, 0.000e+00, 0.000e+00,\n",
       "       0.000e+00, 0.000e+00, 0.000e+00, 0.000e+00, 0.000e+00, 0.000e+00,\n",
       "       0.000e+00, 0.000e+00, 0.000e+00, 0.000e+00, 0.000e+00, 0.000e+00,\n",
       "       0.000e+00, 0.000e+00, 0.000e+00, 0.000e+00, 0.000e+00, 0.000e+00,\n",
       "       0.000e+00, 0.000e+00, 0.000e+00, 0.000e+00, 0.000e+00, 0.000e+00,\n",
       "       0.000e+00, 0.000e+00, 0.000e+00, 0.000e+00, 0.000e+00, 0.000e+00,\n",
       "       0.000e+00, 0.000e+00, 0.000e+00, 0.000e+00, 0.000e+00, 0.000e+00,\n",
       "       0.000e+00, 0.000e+00, 0.000e+00, 0.000e+00, 0.000e+00, 0.000e+00,\n",
       "       0.000e+00, 0.000e+00, 0.000e+00, 0.000e+00, 0.000e+00, 0.000e+00,\n",
       "       0.000e+00, 0.000e+00, 0.000e+00, 0.000e+00, 0.000e+00, 0.000e+00,\n",
       "       0.000e+00, 0.000e+00, 0.000e+00, 0.000e+00, 0.000e+00, 0.000e+00,\n",
       "       0.000e+00, 0.000e+00, 0.000e+00, 0.000e+00, 0.000e+00, 0.000e+00,\n",
       "       0.000e+00, 0.000e+00, 0.000e+00, 0.000e+00, 0.000e+00, 0.000e+00,\n",
       "       0.000e+00, 0.000e+00])"
      ]
     },
     "execution_count": 195,
     "metadata": {},
     "output_type": "execute_result"
    }
   ],
   "source": [
    "tt[1][0][:,0]"
   ]
  },
  {
   "cell_type": "code",
   "execution_count": 215,
   "metadata": {},
   "outputs": [
    {
     "data": {
      "text/plain": [
       "[<matplotlib.lines.Line2D at 0x7f6ccdd1ffd0>]"
      ]
     },
     "execution_count": 215,
     "metadata": {},
     "output_type": "execute_result"
    },
    {
     "data": {
      "image/png": "[encoded data removed]",
      "text/plain": [
       "<Figure size 432x288 with 1 Axes>"
      ]
     },
     "metadata": {
      "needs_background": "light"
     },
     "output_type": "display_data"
    }
   ],
   "source": [
    "plt.plot(tt[1][2, :,0])\n",
    "plt.plot(tt[1][2, :,1])\n",
    "plt.plot(tt[1][2, :,2])\n",
    "plt.plot(tt[1][2, :,3])"
   ]
  },
  {
   "cell_type": "code",
   "execution_count": 145,
   "metadata": {},
   "outputs": [
    {
     "name": "stdout",
     "output_type": "stream",
     "text": [
      "1.9529729\n",
      "1.9603328\n"
     ]
    }
   ],
   "source": [
    "print(np.mean(out[0][out[1][:, 0] == 0, 0]))\n",
    "print(np.mean(out[0][out[1][:, 0] == 1, 0]))\n",
    "#print(np.mean(out[0][out[1][:, 0] == 2, 0]))\n",
    "#print(np.mean(out[0][out[1][:, 0] == 3, 0]))"
   ]
  },
  {
   "cell_type": "code",
   "execution_count": 146,
   "metadata": {},
   "outputs": [
    {
     "name": "stdout",
     "output_type": "stream",
     "text": [
      "(24981,)\n",
      "(24776,)\n"
     ]
    }
   ],
   "source": [
    "print(np.shape(out[0][out[1][:, 0] == 0, 0]))\n",
    "print(np.shape(out[0][out[1][:, 0] == 1, 0]))\n",
    "#print(np.shape(out[0][out[1][:, 0] == 2, 0]))\n",
    "#print(np.shape(out[0][out[1][:, 0] == 3, 0]))"
   ]
  },
  {
   "cell_type": "code",
   "execution_count": 143,
   "metadata": {},
   "outputs": [
    {
     "data": {
      "text/plain": [
       "array([ 0.6530001,  0.6530001,  0.6530001, ...,  9.054827 ,  9.446985 ,\n",
       "       13.031434 ], dtype=float32)"
      ]
     },
     "execution_count": 143,
     "metadata": {},
     "output_type": "execute_result"
    }
   ],
   "source": [
    "np.sort(out[0][out[1][:,0] == 1, 0])"
   ]
  },
  {
   "cell_type": "code",
   "execution_count": 121,
   "metadata": {},
   "outputs": [
    {
     "data": {
      "text/plain": [
       "(array([5.660e+02, 2.480e+03, 3.954e+03, 4.277e+03, 4.152e+03, 3.769e+03,\n",
       "        3.262e+03, 2.780e+03, 2.322e+03, 1.880e+03, 1.455e+03, 1.157e+03,\n",
       "        9.380e+02, 7.480e+02, 5.870e+02, 4.720e+02, 3.540e+02, 2.990e+02,\n",
       "        2.170e+02, 1.910e+02, 1.350e+02, 1.160e+02, 7.500e+01, 8.600e+01,\n",
       "        6.700e+01, 4.800e+01, 2.800e+01, 4.000e+01, 2.600e+01, 1.200e+01,\n",
       "        1.100e+01, 1.000e+01, 7.000e+00, 8.000e+00, 1.000e+01, 4.000e+00,\n",
       "        5.000e+00, 5.000e+00, 3.000e+00, 0.000e+00, 3.000e+00, 3.000e+00,\n",
       "        1.000e+00, 0.000e+00, 1.000e+00, 1.000e+00, 0.000e+00, 0.000e+00,\n",
       "        0.000e+00, 1.000e+00]),\n",
       " array([ 0.7490003,  1.0663557,  1.3837112,  1.7010666,  2.0184221,\n",
       "         2.3357775,  2.653133 ,  2.9704883,  3.2878437,  3.605199 ,\n",
       "         3.9225545,  4.23991  ,  4.5572653,  4.874621 ,  5.191976 ,\n",
       "         5.5093317,  5.8266873,  6.1440425,  6.461398 ,  6.7787533,\n",
       "         7.096109 ,  7.413464 ,  7.7308197,  8.048175 ,  8.365531 ,\n",
       "         8.682886 ,  9.000241 ,  9.317596 ,  9.634953 ,  9.952308 ,\n",
       "        10.269663 , 10.587019 , 10.904374 , 11.221729 , 11.539084 ,\n",
       "        11.856441 , 12.173796 , 12.491151 , 12.808507 , 13.125862 ,\n",
       "        13.443217 , 13.760572 , 14.077929 , 14.395284 , 14.712639 ,\n",
       "        15.029995 , 15.34735  , 15.664705 , 15.98206  , 16.299416 ,\n",
       "        16.616772 ], dtype=float32),\n",
       " <a list of 50 Patch objects>)"
      ]
     },
     "execution_count": 121,
     "metadata": {},
     "output_type": "execute_result"
    },
    {
     "data": {
      "image/png": "[encoded data removed]",
      "text/plain": [
       "<Figure size 432x288 with 1 Axes>"
      ]
     },
     "metadata": {
      "needs_background": "light"
     },
     "output_type": "display_data"
    }
   ],
   "source": [
    "plt.hist(out[0][out[1][:, 0] == 0, 0], bins = 50, alpha = 0.5, color = 'green')\n",
    "plt.hist(out[0][out[1][:, 0] == 1, 0], bins = 50, alpha = 0.2, color = 'green')\n",
    "plt.hist(out[0][out[1][:, 0] == 2, 0], bins = 50, alpha = 0.2, color = 'blue')\n",
    "plt.hist(out[0][out[1][:, 0] == 3, 0], bins = 50, alpha = 0.2, color = 'red')"
   ]
  },
  {
   "cell_type": "code",
   "execution_count": 122,
   "metadata": {},
   "outputs": [
    {
     "name": "stdout",
     "output_type": "stream",
     "text": [
      "20.500637\n",
      "17.52927\n",
      "14.810153\n",
      "16.616772\n"
     ]
    }
   ],
   "source": [
    "print(np.max(out[0][out[1][:, 0] == 0, 0]))\n",
    "print(np.max(out[0][out[1][:, 0] == 1, 0]))\n",
    "print(np.max(out[0][out[1][:, 0] == 2, 0]))\n",
    "print(np.max(out[0][out[1][:, 0] == 3, 0]))"
   ]
  },
  {
   "cell_type": "code",
   "execution_count": null,
   "metadata": {},
   "outputs": [],
   "source": [
    "binned_sims = bin_simulator_output(out = out,\n",
    "                                   n_bins = 256,\n",
    "                                   eps_correction = 1e-7,\n",
    "                                   params = ['v', 'a', 'w', 'g', 'ndt'])"
   ]
  },
  {
   "cell_type": "code",
   "execution_count": null,
   "metadata": {},
   "outputs": [],
   "source": [
    "plt.plot(binned_sims[1][:, 1])\n",
    "plt.plot(binned_sims[1][:, 0])"
   ]
  },
  {
   "cell_type": "code",
   "execution_count": null,
   "metadata": {},
   "outputs": [],
   "source": [
    "binned_sims[1][255, 1]"
   ]
  },
  {
   "cell_type": "code",
   "execution_count": null,
   "metadata": {},
   "outputs": [],
   "source": [
    "files_ = os.listdir('/media/data_cifs/afengler/data/kde/ddm/base_simulations_20000')"
   ]
  },
  {
   "cell_type": "code",
   "execution_count": null,
   "metadata": {},
   "outputs": [],
   "source": [
    "labels = np.zeros((250000, 500, 2))\n",
    "features = np.zeros((250000, 3))\n",
    "\n",
    "cnt = 0\n",
    "i = 0\n",
    "file_dim = 100\n",
    "for file_ in files_[:1000]:\n",
    "    if file_[:8] == 'ddm_flex':\n",
    "        out = pickle.load(open('/media/data_cifs/afengler/data/kde/ddm/base_simulations_20000/' + file_, 'rb'))\n",
    "        features[cnt], labels[cnt] = bin_simulator_output(out = out)\n",
    "        if cnt % file_dim == 0:\n",
    "            print(cnt)\n",
    "            pickle.dump((labels[(i * file_dim):((i + 1) * file_dim)], features[(i * file_dim):((i + 1) * file_dim)]), open('/media/data_cifs/afengler/data/kde/ddm/base_simulations_20000_binned/dataset_' + str(i), 'wb'))\n",
    "            i += 1\n",
    "        cnt += 1\n"
   ]
  },
  {
   "cell_type": "code",
   "execution_count": null,
   "metadata": {},
   "outputs": [],
   "source": [
    "# FULL DDM  \n",
    "repeats = 50\n",
    "my_means = np.zeros(repeats)\n",
    "for i in range(repeats):\n",
    "    out = cds.full_ddm(v = 0, \n",
    "                       a = 0.96,\n",
    "                       w = 0.5,\n",
    "                       ndt = 0.5,\n",
    "                       dw = 0.0,\n",
    "                       sdv = 0.0,\n",
    "                       dndt = 0.5,\n",
    "                       delta_t = 0.01, \n",
    "                       max_t = 20,\n",
    "                       n_samples = 10000,\n",
    "                       boundary_fun = bf.constant,\n",
    "                       boundary_multiplicative = True, \n",
    "                       boundary_params = {})\n",
    "    print(i)\n",
    "    \n",
    "    my_means[i] = np.mean(out[0][out[1] == 1])"
   ]
  },
  {
   "cell_type": "code",
   "execution_count": null,
   "metadata": {},
   "outputs": [],
   "source": [
    "plt.hist(out[0] * out[1], bins = 50)"
   ]
  },
  {
   "cell_type": "code",
   "execution_count": null,
   "metadata": {},
   "outputs": [],
   "source": [
    "int(50 / out[2]['delta_t'] + 1)"
   ]
  },
  {
   "cell_type": "code",
   "execution_count": 209,
   "metadata": {},
   "outputs": [
    {
     "name": "stdout",
     "output_type": "stream",
     "text": [
      "0\n"
     ]
    }
   ],
   "source": [
    "# LCA \n",
    "repeats = 1\n",
    "my_means = np.zeros(repeats)\n",
    "for i in range(repeats):\n",
    "    out = cds.lca(v = np.array([0, 0.5, 1], dtype = np.float32), \n",
    "                  a = 2, \n",
    "                  w = np.array([0.5, 0.6, 0.7], dtype = np.float32), \n",
    "                  ndt = np.array([1.0], dtype = np.float32),\n",
    "                  g = 0,\n",
    "                  b = 1.0,\n",
    "                  delta_t = 0.01, \n",
    "                  max_t = 20,\n",
    "                  n_samples = 10000,\n",
    "                  boundary_fun = bf.constant,\n",
    "                  boundary_multiplicative = True, \n",
    "                  boundary_params = {})\n",
    "    print(i)\n",
    "    my_means[i] = np.mean(out[0][out[1] == 1])"
   ]
  },
  {
   "cell_type": "code",
   "execution_count": 202,
   "metadata": {},
   "outputs": [
    {
     "data": {
      "text/plain": [
       "{'v_0': 0.0,\n",
       " 'v_1': 0.5,\n",
       " 'v_2': 1.0,\n",
       " 'a': 2.0,\n",
       " 'w_0': 0.5,\n",
       " 'w_1': 0.6,\n",
       " 'w_2': 0.7,\n",
       " 'g': -1.0,\n",
       " 'b': 1.0,\n",
       " 'ndt': 1.0,\n",
       " 's': 1.0,\n",
       " 'delta_t': 0.009999999776482582,\n",
       " 'max_t': 40.0,\n",
       " 'n_samples': 10000,\n",
       " 'simulator': 'lca',\n",
       " 'boundary_fun_type': 'constant',\n",
       " 'possible_choices': [0, 1, 2]}"
      ]
     },
     "execution_count": 202,
     "metadata": {},
     "output_type": "execute_result"
    }
   ],
   "source": [
    "out[2]"
   ]
  },
  {
   "cell_type": "code",
   "execution_count": 211,
   "metadata": {},
   "outputs": [
    {
     "ename": "AttributeError",
     "evalue": "Unknown property zs",
     "output_type": "error",
     "traceback": [
      "\u001b[0;31m---------------------------------------------------------------------------\u001b[0m",
      "\u001b[0;31mAttributeError\u001b[0m                            Traceback (most recent call last)",
      "\u001b[0;32m<ipython-input-211-1b95effaf4d8>\u001b[0m in \u001b[0;36m<module>\u001b[0;34m\u001b[0m\n\u001b[1;32m     13\u001b[0m     \u001b[0;31m#xs = (bins[:-1] + bins[1:]) / 2\u001b[0m\u001b[0;34m\u001b[0m\u001b[0;34m\u001b[0m\u001b[0;34m\u001b[0m\u001b[0m\n\u001b[1;32m     14\u001b[0m     \u001b[0;31m#ax.bar(xs, hist, zs = z, zdir = 'y', color = c, ec = c, alpha=0.5)\u001b[0m\u001b[0;34m\u001b[0m\u001b[0;34m\u001b[0m\u001b[0;34m\u001b[0m\u001b[0m\n\u001b[0;32m---> 15\u001b[0;31m     \u001b[0max\u001b[0m\u001b[0;34m.\u001b[0m\u001b[0mhist\u001b[0m\u001b[0;34m(\u001b[0m\u001b[0mout\u001b[0m\u001b[0;34m[\u001b[0m\u001b[0;36m0\u001b[0m\u001b[0;34m]\u001b[0m\u001b[0;34m[\u001b[0m\u001b[0mout\u001b[0m\u001b[0;34m[\u001b[0m\u001b[0;36m1\u001b[0m\u001b[0;34m]\u001b[0m \u001b[0;34m==\u001b[0m \u001b[0mcnt\u001b[0m\u001b[0;34m]\u001b[0m\u001b[0;34m,\u001b[0m \u001b[0mbins\u001b[0m \u001b[0;34m=\u001b[0m \u001b[0;36m50\u001b[0m\u001b[0;34m,\u001b[0m \u001b[0mhisttype\u001b[0m \u001b[0;34m=\u001b[0m \u001b[0;34m'step'\u001b[0m \u001b[0;34m,\u001b[0m\u001b[0mzs\u001b[0m \u001b[0;34m=\u001b[0m \u001b[0mz\u001b[0m\u001b[0;34m)\u001b[0m\u001b[0;34m\u001b[0m\u001b[0;34m\u001b[0m\u001b[0m\n\u001b[0m\u001b[1;32m     16\u001b[0m     \u001b[0mcnt\u001b[0m \u001b[0;34m+=\u001b[0m \u001b[0;36m1\u001b[0m\u001b[0;34m\u001b[0m\u001b[0;34m\u001b[0m\u001b[0m\n\u001b[1;32m     17\u001b[0m \u001b[0max\u001b[0m\u001b[0;34m.\u001b[0m\u001b[0mset_xlabel\u001b[0m\u001b[0;34m(\u001b[0m\u001b[0;34m'X'\u001b[0m\u001b[0;34m)\u001b[0m\u001b[0;34m\u001b[0m\u001b[0;34m\u001b[0m\u001b[0m\n",
      "\u001b[0;32m~/opt/miniconda3/lib/python3.7/site-packages/matplotlib/__init__.py\u001b[0m in \u001b[0;36minner\u001b[0;34m(ax, data, *args, **kwargs)\u001b[0m\n\u001b[1;32m   1808\u001b[0m                         \u001b[0;34m\"the Matplotlib list!)\"\u001b[0m \u001b[0;34m%\u001b[0m \u001b[0;34m(\u001b[0m\u001b[0mlabel_namer\u001b[0m\u001b[0;34m,\u001b[0m \u001b[0mfunc\u001b[0m\u001b[0;34m.\u001b[0m\u001b[0m__name__\u001b[0m\u001b[0;34m)\u001b[0m\u001b[0;34m,\u001b[0m\u001b[0;34m\u001b[0m\u001b[0;34m\u001b[0m\u001b[0m\n\u001b[1;32m   1809\u001b[0m                         RuntimeWarning, stacklevel=2)\n\u001b[0;32m-> 1810\u001b[0;31m             \u001b[0;32mreturn\u001b[0m \u001b[0mfunc\u001b[0m\u001b[0;34m(\u001b[0m\u001b[0max\u001b[0m\u001b[0;34m,\u001b[0m \u001b[0;34m*\u001b[0m\u001b[0margs\u001b[0m\u001b[0;34m,\u001b[0m \u001b[0;34m**\u001b[0m\u001b[0mkwargs\u001b[0m\u001b[0;34m)\u001b[0m\u001b[0;34m\u001b[0m\u001b[0;34m\u001b[0m\u001b[0m\n\u001b[0m\u001b[1;32m   1811\u001b[0m \u001b[0;34m\u001b[0m\u001b[0m\n\u001b[1;32m   1812\u001b[0m         inner.__doc__ = _add_data_doc(inner.__doc__,\n",
      "\u001b[0;32m~/opt/miniconda3/lib/python3.7/site-packages/matplotlib/axes/_axes.py\u001b[0m in \u001b[0;36mhist\u001b[0;34m(self, x, bins, range, density, weights, cumulative, bottom, histtype, align, orientation, rwidth, log, color, label, stacked, normed, **kwargs)\u001b[0m\n\u001b[1;32m   6779\u001b[0m             \u001b[0;32mif\u001b[0m \u001b[0mpatch\u001b[0m\u001b[0;34m:\u001b[0m\u001b[0;34m\u001b[0m\u001b[0;34m\u001b[0m\u001b[0m\n\u001b[1;32m   6780\u001b[0m                 \u001b[0mp\u001b[0m \u001b[0;34m=\u001b[0m \u001b[0mpatch\u001b[0m\u001b[0;34m[\u001b[0m\u001b[0;36m0\u001b[0m\u001b[0;34m]\u001b[0m\u001b[0;34m\u001b[0m\u001b[0;34m\u001b[0m\u001b[0m\n\u001b[0;32m-> 6781\u001b[0;31m                 \u001b[0mp\u001b[0m\u001b[0;34m.\u001b[0m\u001b[0mupdate\u001b[0m\u001b[0;34m(\u001b[0m\u001b[0mkwargs\u001b[0m\u001b[0;34m)\u001b[0m\u001b[0;34m\u001b[0m\u001b[0;34m\u001b[0m\u001b[0m\n\u001b[0m\u001b[1;32m   6782\u001b[0m                 \u001b[0;32mif\u001b[0m \u001b[0mlbl\u001b[0m \u001b[0;32mis\u001b[0m \u001b[0;32mnot\u001b[0m \u001b[0;32mNone\u001b[0m\u001b[0;34m:\u001b[0m\u001b[0;34m\u001b[0m\u001b[0;34m\u001b[0m\u001b[0m\n\u001b[1;32m   6783\u001b[0m                     \u001b[0mp\u001b[0m\u001b[0;34m.\u001b[0m\u001b[0mset_label\u001b[0m\u001b[0;34m(\u001b[0m\u001b[0mlbl\u001b[0m\u001b[0;34m)\u001b[0m\u001b[0;34m\u001b[0m\u001b[0;34m\u001b[0m\u001b[0m\n",
      "\u001b[0;32m~/opt/miniconda3/lib/python3.7/site-packages/matplotlib/artist.py\u001b[0m in \u001b[0;36mupdate\u001b[0;34m(self, props)\u001b[0m\n\u001b[1;32m    914\u001b[0m \u001b[0;34m\u001b[0m\u001b[0m\n\u001b[1;32m    915\u001b[0m         \u001b[0;32mwith\u001b[0m \u001b[0mcbook\u001b[0m\u001b[0;34m.\u001b[0m\u001b[0m_setattr_cm\u001b[0m\u001b[0;34m(\u001b[0m\u001b[0mself\u001b[0m\u001b[0;34m,\u001b[0m \u001b[0meventson\u001b[0m\u001b[0;34m=\u001b[0m\u001b[0;32mFalse\u001b[0m\u001b[0;34m)\u001b[0m\u001b[0;34m:\u001b[0m\u001b[0;34m\u001b[0m\u001b[0;34m\u001b[0m\u001b[0m\n\u001b[0;32m--> 916\u001b[0;31m             \u001b[0mret\u001b[0m \u001b[0;34m=\u001b[0m \u001b[0;34m[\u001b[0m\u001b[0m_update_property\u001b[0m\u001b[0;34m(\u001b[0m\u001b[0mself\u001b[0m\u001b[0;34m,\u001b[0m \u001b[0mk\u001b[0m\u001b[0;34m,\u001b[0m \u001b[0mv\u001b[0m\u001b[0;34m)\u001b[0m \u001b[0;32mfor\u001b[0m \u001b[0mk\u001b[0m\u001b[0;34m,\u001b[0m \u001b[0mv\u001b[0m \u001b[0;32min\u001b[0m \u001b[0mprops\u001b[0m\u001b[0;34m.\u001b[0m\u001b[0mitems\u001b[0m\u001b[0;34m(\u001b[0m\u001b[0;34m)\u001b[0m\u001b[0;34m]\u001b[0m\u001b[0;34m\u001b[0m\u001b[0;34m\u001b[0m\u001b[0m\n\u001b[0m\u001b[1;32m    917\u001b[0m \u001b[0;34m\u001b[0m\u001b[0m\n\u001b[1;32m    918\u001b[0m         \u001b[0;32mif\u001b[0m \u001b[0mlen\u001b[0m\u001b[0;34m(\u001b[0m\u001b[0mret\u001b[0m\u001b[0;34m)\u001b[0m\u001b[0;34m:\u001b[0m\u001b[0;34m\u001b[0m\u001b[0;34m\u001b[0m\u001b[0m\n",
      "\u001b[0;32m~/opt/miniconda3/lib/python3.7/site-packages/matplotlib/artist.py\u001b[0m in \u001b[0;36m<listcomp>\u001b[0;34m(.0)\u001b[0m\n\u001b[1;32m    914\u001b[0m \u001b[0;34m\u001b[0m\u001b[0m\n\u001b[1;32m    915\u001b[0m         \u001b[0;32mwith\u001b[0m \u001b[0mcbook\u001b[0m\u001b[0;34m.\u001b[0m\u001b[0m_setattr_cm\u001b[0m\u001b[0;34m(\u001b[0m\u001b[0mself\u001b[0m\u001b[0;34m,\u001b[0m \u001b[0meventson\u001b[0m\u001b[0;34m=\u001b[0m\u001b[0;32mFalse\u001b[0m\u001b[0;34m)\u001b[0m\u001b[0;34m:\u001b[0m\u001b[0;34m\u001b[0m\u001b[0;34m\u001b[0m\u001b[0m\n\u001b[0;32m--> 916\u001b[0;31m             \u001b[0mret\u001b[0m \u001b[0;34m=\u001b[0m \u001b[0;34m[\u001b[0m\u001b[0m_update_property\u001b[0m\u001b[0;34m(\u001b[0m\u001b[0mself\u001b[0m\u001b[0;34m,\u001b[0m \u001b[0mk\u001b[0m\u001b[0;34m,\u001b[0m \u001b[0mv\u001b[0m\u001b[0;34m)\u001b[0m \u001b[0;32mfor\u001b[0m \u001b[0mk\u001b[0m\u001b[0;34m,\u001b[0m \u001b[0mv\u001b[0m \u001b[0;32min\u001b[0m \u001b[0mprops\u001b[0m\u001b[0;34m.\u001b[0m\u001b[0mitems\u001b[0m\u001b[0;34m(\u001b[0m\u001b[0;34m)\u001b[0m\u001b[0;34m]\u001b[0m\u001b[0;34m\u001b[0m\u001b[0;34m\u001b[0m\u001b[0m\n\u001b[0m\u001b[1;32m    917\u001b[0m \u001b[0;34m\u001b[0m\u001b[0m\n\u001b[1;32m    918\u001b[0m         \u001b[0;32mif\u001b[0m \u001b[0mlen\u001b[0m\u001b[0;34m(\u001b[0m\u001b[0mret\u001b[0m\u001b[0;34m)\u001b[0m\u001b[0;34m:\u001b[0m\u001b[0;34m\u001b[0m\u001b[0;34m\u001b[0m\u001b[0m\n",
      "\u001b[0;32m~/opt/miniconda3/lib/python3.7/site-packages/matplotlib/artist.py\u001b[0m in \u001b[0;36m_update_property\u001b[0;34m(self, k, v)\u001b[0m\n\u001b[1;32m    910\u001b[0m                 \u001b[0mfunc\u001b[0m \u001b[0;34m=\u001b[0m \u001b[0mgetattr\u001b[0m\u001b[0;34m(\u001b[0m\u001b[0mself\u001b[0m\u001b[0;34m,\u001b[0m \u001b[0;34m'set_'\u001b[0m \u001b[0;34m+\u001b[0m \u001b[0mk\u001b[0m\u001b[0;34m,\u001b[0m \u001b[0;32mNone\u001b[0m\u001b[0;34m)\u001b[0m\u001b[0;34m\u001b[0m\u001b[0;34m\u001b[0m\u001b[0m\n\u001b[1;32m    911\u001b[0m                 \u001b[0;32mif\u001b[0m \u001b[0;32mnot\u001b[0m \u001b[0mcallable\u001b[0m\u001b[0;34m(\u001b[0m\u001b[0mfunc\u001b[0m\u001b[0;34m)\u001b[0m\u001b[0;34m:\u001b[0m\u001b[0;34m\u001b[0m\u001b[0;34m\u001b[0m\u001b[0m\n\u001b[0;32m--> 912\u001b[0;31m                     \u001b[0;32mraise\u001b[0m \u001b[0mAttributeError\u001b[0m\u001b[0;34m(\u001b[0m\u001b[0;34m'Unknown property %s'\u001b[0m \u001b[0;34m%\u001b[0m \u001b[0mk\u001b[0m\u001b[0;34m)\u001b[0m\u001b[0;34m\u001b[0m\u001b[0;34m\u001b[0m\u001b[0m\n\u001b[0m\u001b[1;32m    913\u001b[0m                 \u001b[0;32mreturn\u001b[0m \u001b[0mfunc\u001b[0m\u001b[0;34m(\u001b[0m\u001b[0mv\u001b[0m\u001b[0;34m)\u001b[0m\u001b[0;34m\u001b[0m\u001b[0;34m\u001b[0m\u001b[0m\n\u001b[1;32m    914\u001b[0m \u001b[0;34m\u001b[0m\u001b[0m\n",
      "\u001b[0;31mAttributeError\u001b[0m: Unknown property zs"
     ]
    },
    {
     "ename": "AttributeError",
     "evalue": "'Polygon' object has no attribute 'do_3d_projection'",
     "output_type": "error",
     "traceback": [
      "\u001b[0;31m---------------------------------------------------------------------------\u001b[0m",
      "\u001b[0;31mAttributeError\u001b[0m                            Traceback (most recent call last)",
      "\u001b[0;32m~/opt/miniconda3/lib/python3.7/site-packages/IPython/core/formatters.py\u001b[0m in \u001b[0;36m__call__\u001b[0;34m(self, obj)\u001b[0m\n\u001b[1;32m    339\u001b[0m                 \u001b[0;32mpass\u001b[0m\u001b[0;34m\u001b[0m\u001b[0;34m\u001b[0m\u001b[0m\n\u001b[1;32m    340\u001b[0m             \u001b[0;32melse\u001b[0m\u001b[0;34m:\u001b[0m\u001b[0;34m\u001b[0m\u001b[0;34m\u001b[0m\u001b[0m\n\u001b[0;32m--> 341\u001b[0;31m                 \u001b[0;32mreturn\u001b[0m \u001b[0mprinter\u001b[0m\u001b[0;34m(\u001b[0m\u001b[0mobj\u001b[0m\u001b[0;34m)\u001b[0m\u001b[0;34m\u001b[0m\u001b[0;34m\u001b[0m\u001b[0m\n\u001b[0m\u001b[1;32m    342\u001b[0m             \u001b[0;31m# Finally look for special method names\u001b[0m\u001b[0;34m\u001b[0m\u001b[0;34m\u001b[0m\u001b[0;34m\u001b[0m\u001b[0m\n\u001b[1;32m    343\u001b[0m             \u001b[0mmethod\u001b[0m \u001b[0;34m=\u001b[0m \u001b[0mget_real_method\u001b[0m\u001b[0;34m(\u001b[0m\u001b[0mobj\u001b[0m\u001b[0;34m,\u001b[0m \u001b[0mself\u001b[0m\u001b[0;34m.\u001b[0m\u001b[0mprint_method\u001b[0m\u001b[0;34m)\u001b[0m\u001b[0;34m\u001b[0m\u001b[0;34m\u001b[0m\u001b[0m\n",
      "\u001b[0;32m~/opt/miniconda3/lib/python3.7/site-packages/IPython/core/pylabtools.py\u001b[0m in \u001b[0;36m<lambda>\u001b[0;34m(fig)\u001b[0m\n\u001b[1;32m    246\u001b[0m \u001b[0;34m\u001b[0m\u001b[0m\n\u001b[1;32m    247\u001b[0m     \u001b[0;32mif\u001b[0m \u001b[0;34m'png'\u001b[0m \u001b[0;32min\u001b[0m \u001b[0mformats\u001b[0m\u001b[0;34m:\u001b[0m\u001b[0;34m\u001b[0m\u001b[0;34m\u001b[0m\u001b[0m\n\u001b[0;32m--> 248\u001b[0;31m         \u001b[0mpng_formatter\u001b[0m\u001b[0;34m.\u001b[0m\u001b[0mfor_type\u001b[0m\u001b[0;34m(\u001b[0m\u001b[0mFigure\u001b[0m\u001b[0;34m,\u001b[0m \u001b[0;32mlambda\u001b[0m \u001b[0mfig\u001b[0m\u001b[0;34m:\u001b[0m \u001b[0mprint_figure\u001b[0m\u001b[0;34m(\u001b[0m\u001b[0mfig\u001b[0m\u001b[0;34m,\u001b[0m \u001b[0;34m'png'\u001b[0m\u001b[0;34m,\u001b[0m \u001b[0;34m**\u001b[0m\u001b[0mkwargs\u001b[0m\u001b[0;34m)\u001b[0m\u001b[0;34m)\u001b[0m\u001b[0;34m\u001b[0m\u001b[0;34m\u001b[0m\u001b[0m\n\u001b[0m\u001b[1;32m    249\u001b[0m     \u001b[0;32mif\u001b[0m \u001b[0;34m'retina'\u001b[0m \u001b[0;32min\u001b[0m \u001b[0mformats\u001b[0m \u001b[0;32mor\u001b[0m \u001b[0;34m'png2x'\u001b[0m \u001b[0;32min\u001b[0m \u001b[0mformats\u001b[0m\u001b[0;34m:\u001b[0m\u001b[0;34m\u001b[0m\u001b[0;34m\u001b[0m\u001b[0m\n\u001b[1;32m    250\u001b[0m         \u001b[0mpng_formatter\u001b[0m\u001b[0;34m.\u001b[0m\u001b[0mfor_type\u001b[0m\u001b[0;34m(\u001b[0m\u001b[0mFigure\u001b[0m\u001b[0;34m,\u001b[0m \u001b[0;32mlambda\u001b[0m \u001b[0mfig\u001b[0m\u001b[0;34m:\u001b[0m \u001b[0mretina_figure\u001b[0m\u001b[0;34m(\u001b[0m\u001b[0mfig\u001b[0m\u001b[0;34m,\u001b[0m \u001b[0;34m**\u001b[0m\u001b[0mkwargs\u001b[0m\u001b[0;34m)\u001b[0m\u001b[0;34m)\u001b[0m\u001b[0;34m\u001b[0m\u001b[0;34m\u001b[0m\u001b[0m\n",
      "\u001b[0;32m~/opt/miniconda3/lib/python3.7/site-packages/IPython/core/pylabtools.py\u001b[0m in \u001b[0;36mprint_figure\u001b[0;34m(fig, fmt, bbox_inches, **kwargs)\u001b[0m\n\u001b[1;32m    130\u001b[0m         \u001b[0mFigureCanvasBase\u001b[0m\u001b[0;34m(\u001b[0m\u001b[0mfig\u001b[0m\u001b[0;34m)\u001b[0m\u001b[0;34m\u001b[0m\u001b[0;34m\u001b[0m\u001b[0m\n\u001b[1;32m    131\u001b[0m \u001b[0;34m\u001b[0m\u001b[0m\n\u001b[0;32m--> 132\u001b[0;31m     \u001b[0mfig\u001b[0m\u001b[0;34m.\u001b[0m\u001b[0mcanvas\u001b[0m\u001b[0;34m.\u001b[0m\u001b[0mprint_figure\u001b[0m\u001b[0;34m(\u001b[0m\u001b[0mbytes_io\u001b[0m\u001b[0;34m,\u001b[0m \u001b[0;34m**\u001b[0m\u001b[0mkw\u001b[0m\u001b[0;34m)\u001b[0m\u001b[0;34m\u001b[0m\u001b[0;34m\u001b[0m\u001b[0m\n\u001b[0m\u001b[1;32m    133\u001b[0m     \u001b[0mdata\u001b[0m \u001b[0;34m=\u001b[0m \u001b[0mbytes_io\u001b[0m\u001b[0;34m.\u001b[0m\u001b[0mgetvalue\u001b[0m\u001b[0;34m(\u001b[0m\u001b[0;34m)\u001b[0m\u001b[0;34m\u001b[0m\u001b[0;34m\u001b[0m\u001b[0m\n\u001b[1;32m    134\u001b[0m     \u001b[0;32mif\u001b[0m \u001b[0mfmt\u001b[0m \u001b[0;34m==\u001b[0m \u001b[0;34m'svg'\u001b[0m\u001b[0;34m:\u001b[0m\u001b[0;34m\u001b[0m\u001b[0;34m\u001b[0m\u001b[0m\n",
      "\u001b[0;32m~/opt/miniconda3/lib/python3.7/site-packages/matplotlib/backend_bases.py\u001b[0m in \u001b[0;36mprint_figure\u001b[0;34m(self, filename, dpi, facecolor, edgecolor, orientation, format, bbox_inches, **kwargs)\u001b[0m\n\u001b[1;32m   2047\u001b[0m                         \u001b[0morientation\u001b[0m\u001b[0;34m=\u001b[0m\u001b[0morientation\u001b[0m\u001b[0;34m,\u001b[0m\u001b[0;34m\u001b[0m\u001b[0;34m\u001b[0m\u001b[0m\n\u001b[1;32m   2048\u001b[0m                         \u001b[0mdryrun\u001b[0m\u001b[0;34m=\u001b[0m\u001b[0;32mTrue\u001b[0m\u001b[0;34m,\u001b[0m\u001b[0;34m\u001b[0m\u001b[0;34m\u001b[0m\u001b[0m\n\u001b[0;32m-> 2049\u001b[0;31m                         **kwargs)\n\u001b[0m\u001b[1;32m   2050\u001b[0m                     \u001b[0mrenderer\u001b[0m \u001b[0;34m=\u001b[0m \u001b[0mself\u001b[0m\u001b[0;34m.\u001b[0m\u001b[0mfigure\u001b[0m\u001b[0;34m.\u001b[0m\u001b[0m_cachedRenderer\u001b[0m\u001b[0;34m\u001b[0m\u001b[0;34m\u001b[0m\u001b[0m\n\u001b[1;32m   2051\u001b[0m                     \u001b[0mbbox_artists\u001b[0m \u001b[0;34m=\u001b[0m \u001b[0mkwargs\u001b[0m\u001b[0;34m.\u001b[0m\u001b[0mpop\u001b[0m\u001b[0;34m(\u001b[0m\u001b[0;34m\"bbox_extra_artists\"\u001b[0m\u001b[0;34m,\u001b[0m \u001b[0;32mNone\u001b[0m\u001b[0;34m)\u001b[0m\u001b[0;34m\u001b[0m\u001b[0;34m\u001b[0m\u001b[0m\n",
      "\u001b[0;32m~/opt/miniconda3/lib/python3.7/site-packages/matplotlib/backends/backend_agg.py\u001b[0m in \u001b[0;36mprint_png\u001b[0;34m(self, filename_or_obj, *args, **kwargs)\u001b[0m\n\u001b[1;32m    508\u001b[0m \u001b[0;34m\u001b[0m\u001b[0m\n\u001b[1;32m    509\u001b[0m         \"\"\"\n\u001b[0;32m--> 510\u001b[0;31m         \u001b[0mFigureCanvasAgg\u001b[0m\u001b[0;34m.\u001b[0m\u001b[0mdraw\u001b[0m\u001b[0;34m(\u001b[0m\u001b[0mself\u001b[0m\u001b[0;34m)\u001b[0m\u001b[0;34m\u001b[0m\u001b[0;34m\u001b[0m\u001b[0m\n\u001b[0m\u001b[1;32m    511\u001b[0m         \u001b[0mrenderer\u001b[0m \u001b[0;34m=\u001b[0m \u001b[0mself\u001b[0m\u001b[0;34m.\u001b[0m\u001b[0mget_renderer\u001b[0m\u001b[0;34m(\u001b[0m\u001b[0;34m)\u001b[0m\u001b[0;34m\u001b[0m\u001b[0;34m\u001b[0m\u001b[0m\n\u001b[1;32m    512\u001b[0m \u001b[0;34m\u001b[0m\u001b[0m\n",
      "\u001b[0;32m~/opt/miniconda3/lib/python3.7/site-packages/matplotlib/backends/backend_agg.py\u001b[0m in \u001b[0;36mdraw\u001b[0;34m(self)\u001b[0m\n\u001b[1;32m    400\u001b[0m         \u001b[0mtoolbar\u001b[0m \u001b[0;34m=\u001b[0m \u001b[0mself\u001b[0m\u001b[0;34m.\u001b[0m\u001b[0mtoolbar\u001b[0m\u001b[0;34m\u001b[0m\u001b[0;34m\u001b[0m\u001b[0m\n\u001b[1;32m    401\u001b[0m         \u001b[0;32mtry\u001b[0m\u001b[0;34m:\u001b[0m\u001b[0;34m\u001b[0m\u001b[0;34m\u001b[0m\u001b[0m\n\u001b[0;32m--> 402\u001b[0;31m             \u001b[0mself\u001b[0m\u001b[0;34m.\u001b[0m\u001b[0mfigure\u001b[0m\u001b[0;34m.\u001b[0m\u001b[0mdraw\u001b[0m\u001b[0;34m(\u001b[0m\u001b[0mself\u001b[0m\u001b[0;34m.\u001b[0m\u001b[0mrenderer\u001b[0m\u001b[0;34m)\u001b[0m\u001b[0;34m\u001b[0m\u001b[0;34m\u001b[0m\u001b[0m\n\u001b[0m\u001b[1;32m    403\u001b[0m             \u001b[0;31m# A GUI class may be need to update a window using this draw, so\u001b[0m\u001b[0;34m\u001b[0m\u001b[0;34m\u001b[0m\u001b[0;34m\u001b[0m\u001b[0m\n\u001b[1;32m    404\u001b[0m             \u001b[0;31m# don't forget to call the superclass.\u001b[0m\u001b[0;34m\u001b[0m\u001b[0;34m\u001b[0m\u001b[0;34m\u001b[0m\u001b[0m\n",
      "\u001b[0;32m~/opt/miniconda3/lib/python3.7/site-packages/matplotlib/artist.py\u001b[0m in \u001b[0;36mdraw_wrapper\u001b[0;34m(artist, renderer, *args, **kwargs)\u001b[0m\n\u001b[1;32m     48\u001b[0m                 \u001b[0mrenderer\u001b[0m\u001b[0;34m.\u001b[0m\u001b[0mstart_filter\u001b[0m\u001b[0;34m(\u001b[0m\u001b[0;34m)\u001b[0m\u001b[0;34m\u001b[0m\u001b[0;34m\u001b[0m\u001b[0m\n\u001b[1;32m     49\u001b[0m \u001b[0;34m\u001b[0m\u001b[0m\n\u001b[0;32m---> 50\u001b[0;31m             \u001b[0;32mreturn\u001b[0m \u001b[0mdraw\u001b[0m\u001b[0;34m(\u001b[0m\u001b[0martist\u001b[0m\u001b[0;34m,\u001b[0m \u001b[0mrenderer\u001b[0m\u001b[0;34m,\u001b[0m \u001b[0;34m*\u001b[0m\u001b[0margs\u001b[0m\u001b[0;34m,\u001b[0m \u001b[0;34m**\u001b[0m\u001b[0mkwargs\u001b[0m\u001b[0;34m)\u001b[0m\u001b[0;34m\u001b[0m\u001b[0;34m\u001b[0m\u001b[0m\n\u001b[0m\u001b[1;32m     51\u001b[0m         \u001b[0;32mfinally\u001b[0m\u001b[0;34m:\u001b[0m\u001b[0;34m\u001b[0m\u001b[0;34m\u001b[0m\u001b[0m\n\u001b[1;32m     52\u001b[0m             \u001b[0;32mif\u001b[0m \u001b[0martist\u001b[0m\u001b[0;34m.\u001b[0m\u001b[0mget_agg_filter\u001b[0m\u001b[0;34m(\u001b[0m\u001b[0;34m)\u001b[0m \u001b[0;32mis\u001b[0m \u001b[0;32mnot\u001b[0m \u001b[0;32mNone\u001b[0m\u001b[0;34m:\u001b[0m\u001b[0;34m\u001b[0m\u001b[0;34m\u001b[0m\u001b[0m\n",
      "\u001b[0;32m~/opt/miniconda3/lib/python3.7/site-packages/matplotlib/figure.py\u001b[0m in \u001b[0;36mdraw\u001b[0;34m(self, renderer)\u001b[0m\n\u001b[1;32m   1647\u001b[0m \u001b[0;34m\u001b[0m\u001b[0m\n\u001b[1;32m   1648\u001b[0m             mimage._draw_list_compositing_images(\n\u001b[0;32m-> 1649\u001b[0;31m                 renderer, self, artists, self.suppressComposite)\n\u001b[0m\u001b[1;32m   1650\u001b[0m \u001b[0;34m\u001b[0m\u001b[0m\n\u001b[1;32m   1651\u001b[0m             \u001b[0mrenderer\u001b[0m\u001b[0;34m.\u001b[0m\u001b[0mclose_group\u001b[0m\u001b[0;34m(\u001b[0m\u001b[0;34m'figure'\u001b[0m\u001b[0;34m)\u001b[0m\u001b[0;34m\u001b[0m\u001b[0;34m\u001b[0m\u001b[0m\n",
      "\u001b[0;32m~/opt/miniconda3/lib/python3.7/site-packages/matplotlib/image.py\u001b[0m in \u001b[0;36m_draw_list_compositing_images\u001b[0;34m(renderer, parent, artists, suppress_composite)\u001b[0m\n\u001b[1;32m    136\u001b[0m     \u001b[0;32mif\u001b[0m \u001b[0mnot_composite\u001b[0m \u001b[0;32mor\u001b[0m \u001b[0;32mnot\u001b[0m \u001b[0mhas_images\u001b[0m\u001b[0;34m:\u001b[0m\u001b[0;34m\u001b[0m\u001b[0;34m\u001b[0m\u001b[0m\n\u001b[1;32m    137\u001b[0m         \u001b[0;32mfor\u001b[0m \u001b[0ma\u001b[0m \u001b[0;32min\u001b[0m \u001b[0martists\u001b[0m\u001b[0;34m:\u001b[0m\u001b[0;34m\u001b[0m\u001b[0;34m\u001b[0m\u001b[0m\n\u001b[0;32m--> 138\u001b[0;31m             \u001b[0ma\u001b[0m\u001b[0;34m.\u001b[0m\u001b[0mdraw\u001b[0m\u001b[0;34m(\u001b[0m\u001b[0mrenderer\u001b[0m\u001b[0;34m)\u001b[0m\u001b[0;34m\u001b[0m\u001b[0;34m\u001b[0m\u001b[0m\n\u001b[0m\u001b[1;32m    139\u001b[0m     \u001b[0;32melse\u001b[0m\u001b[0;34m:\u001b[0m\u001b[0;34m\u001b[0m\u001b[0;34m\u001b[0m\u001b[0m\n\u001b[1;32m    140\u001b[0m         \u001b[0;31m# Composite any adjacent images together\u001b[0m\u001b[0;34m\u001b[0m\u001b[0;34m\u001b[0m\u001b[0;34m\u001b[0m\u001b[0m\n",
      "\u001b[0;32m~/opt/miniconda3/lib/python3.7/site-packages/matplotlib/artist.py\u001b[0m in \u001b[0;36mdraw_wrapper\u001b[0;34m(artist, renderer, *args, **kwargs)\u001b[0m\n\u001b[1;32m     48\u001b[0m                 \u001b[0mrenderer\u001b[0m\u001b[0;34m.\u001b[0m\u001b[0mstart_filter\u001b[0m\u001b[0;34m(\u001b[0m\u001b[0;34m)\u001b[0m\u001b[0;34m\u001b[0m\u001b[0;34m\u001b[0m\u001b[0m\n\u001b[1;32m     49\u001b[0m \u001b[0;34m\u001b[0m\u001b[0m\n\u001b[0;32m---> 50\u001b[0;31m             \u001b[0;32mreturn\u001b[0m \u001b[0mdraw\u001b[0m\u001b[0;34m(\u001b[0m\u001b[0martist\u001b[0m\u001b[0;34m,\u001b[0m \u001b[0mrenderer\u001b[0m\u001b[0;34m,\u001b[0m \u001b[0;34m*\u001b[0m\u001b[0margs\u001b[0m\u001b[0;34m,\u001b[0m \u001b[0;34m**\u001b[0m\u001b[0mkwargs\u001b[0m\u001b[0;34m)\u001b[0m\u001b[0;34m\u001b[0m\u001b[0;34m\u001b[0m\u001b[0m\n\u001b[0m\u001b[1;32m     51\u001b[0m         \u001b[0;32mfinally\u001b[0m\u001b[0;34m:\u001b[0m\u001b[0;34m\u001b[0m\u001b[0;34m\u001b[0m\u001b[0m\n\u001b[1;32m     52\u001b[0m             \u001b[0;32mif\u001b[0m \u001b[0martist\u001b[0m\u001b[0;34m.\u001b[0m\u001b[0mget_agg_filter\u001b[0m\u001b[0;34m(\u001b[0m\u001b[0;34m)\u001b[0m \u001b[0;32mis\u001b[0m \u001b[0;32mnot\u001b[0m \u001b[0;32mNone\u001b[0m\u001b[0;34m:\u001b[0m\u001b[0;34m\u001b[0m\u001b[0;34m\u001b[0m\u001b[0m\n",
      "\u001b[0;32m~/opt/miniconda3/lib/python3.7/site-packages/mpl_toolkits/mplot3d/axes3d.py\u001b[0m in \u001b[0;36mdraw\u001b[0;34m(self, renderer)\u001b[0m\n\u001b[1;32m    290\u001b[0m                 sorted(self.patches,\n\u001b[1;32m    291\u001b[0m                        \u001b[0mkey\u001b[0m\u001b[0;34m=\u001b[0m\u001b[0;32mlambda\u001b[0m \u001b[0mpatch\u001b[0m\u001b[0;34m:\u001b[0m \u001b[0mpatch\u001b[0m\u001b[0;34m.\u001b[0m\u001b[0mdo_3d_projection\u001b[0m\u001b[0;34m(\u001b[0m\u001b[0mrenderer\u001b[0m\u001b[0;34m)\u001b[0m\u001b[0;34m,\u001b[0m\u001b[0;34m\u001b[0m\u001b[0;34m\u001b[0m\u001b[0m\n\u001b[0;32m--> 292\u001b[0;31m                        reverse=True)):\n\u001b[0m\u001b[1;32m    293\u001b[0m             \u001b[0mpatch\u001b[0m\u001b[0;34m.\u001b[0m\u001b[0mzorder\u001b[0m \u001b[0;34m=\u001b[0m \u001b[0mzorder_offset\u001b[0m \u001b[0;34m+\u001b[0m \u001b[0mi\u001b[0m\u001b[0;34m\u001b[0m\u001b[0;34m\u001b[0m\u001b[0m\n\u001b[1;32m    294\u001b[0m \u001b[0;34m\u001b[0m\u001b[0m\n",
      "\u001b[0;32m~/opt/miniconda3/lib/python3.7/site-packages/mpl_toolkits/mplot3d/axes3d.py\u001b[0m in \u001b[0;36m<lambda>\u001b[0;34m(patch)\u001b[0m\n\u001b[1;32m    289\u001b[0m         for i, patch in enumerate(\n\u001b[1;32m    290\u001b[0m                 sorted(self.patches,\n\u001b[0;32m--> 291\u001b[0;31m                        \u001b[0mkey\u001b[0m\u001b[0;34m=\u001b[0m\u001b[0;32mlambda\u001b[0m \u001b[0mpatch\u001b[0m\u001b[0;34m:\u001b[0m \u001b[0mpatch\u001b[0m\u001b[0;34m.\u001b[0m\u001b[0mdo_3d_projection\u001b[0m\u001b[0;34m(\u001b[0m\u001b[0mrenderer\u001b[0m\u001b[0;34m)\u001b[0m\u001b[0;34m,\u001b[0m\u001b[0;34m\u001b[0m\u001b[0;34m\u001b[0m\u001b[0m\n\u001b[0m\u001b[1;32m    292\u001b[0m                        reverse=True)):\n\u001b[1;32m    293\u001b[0m             \u001b[0mpatch\u001b[0m\u001b[0;34m.\u001b[0m\u001b[0mzorder\u001b[0m \u001b[0;34m=\u001b[0m \u001b[0mzorder_offset\u001b[0m \u001b[0;34m+\u001b[0m \u001b[0mi\u001b[0m\u001b[0;34m\u001b[0m\u001b[0;34m\u001b[0m\u001b[0m\n",
      "\u001b[0;31mAttributeError\u001b[0m: 'Polygon' object has no attribute 'do_3d_projection'"
     ]
    },
    {
     "data": {
      "text/plain": [
       "<Figure size 432x288 with 1 Axes>"
      ]
     },
     "metadata": {
      "needs_background": "light"
     },
     "output_type": "display_data"
    }
   ],
   "source": [
    "from mpl_toolkits.mplot3d import Axes3D\n",
    "import matplotlib.pyplot as plt\n",
    "import numpy as np\n",
    "\n",
    "fig = plt.figure()\n",
    "ax = fig.add_subplot(111, projection='3d')\n",
    "nbins = 100\n",
    "cnt = 0\n",
    "for c, z in zip(['r', 'g', 'b'], [0, 1, 2]):\n",
    "    #ys = np.random.normal(loc=10, scale=10, size=2000)\n",
    "\n",
    "    hist, bins = np.histogram(out[0][out[1] == cnt], bins = nbins, density = True)\n",
    "    #xs = (bins[:-1] + bins[1:]) / 2\n",
    "    #ax.bar(xs, hist, zs = z, zdir = 'y', color = c, ec = c, alpha=0.5)\n",
    "    ax.hist(out[0][out[1] == cnt], bins = 50, histtype = 'step' ,zs = z)\n",
    "    cnt += 1\n",
    "ax.set_xlabel('X')\n",
    "ax.set_ylabel('Y')\n",
    "ax.set_zlabel('Z')\n",
    "\n",
    "plt.show()"
   ]
  },
  {
   "cell_type": "code",
   "execution_count": null,
   "metadata": {},
   "outputs": [],
   "source": [
    "out[1][out[1] == 0] = -1\n",
    "plt.hist(out[0] * out[1], bins = 50)"
   ]
  },
  {
   "cell_type": "code",
   "execution_count": null,
   "metadata": {},
   "outputs": [],
   "source": [
    "# LCA \n",
    "repeats = 10\n",
    "my_means = np.zeros(repeats)\n",
    "for i in range(repeats):\n",
    "    out = cds.ddm_flexbound(v = 0.0, \n",
    "                            a = 1.5, \n",
    "                            w = 0.5, \n",
    "                            ndt = 0.1,\n",
    "                            delta_t = 0.01, \n",
    "                            max_t = 40,\n",
    "                            n_samples = 10000,\n",
    "                            boundary_fun = bf.constant,\n",
    "                            boundary_multiplicative = True, \n",
    "                            boundary_params = {})\n",
    "    print(i)\n",
    "    my_means[i] = np.mean(out[0][out[1] == 1])"
   ]
  },
  {
   "cell_type": "code",
   "execution_count": null,
   "metadata": {},
   "outputs": [],
   "source": [
    "def foo(name, *args, **kwargs):\n",
    "    print (\"args: \", args)\n",
    "    print (\"Type of args: \", type(args))\n",
    "    if len(args)>2:\n",
    "        args = args[0], args[1]     #- Created Same name variable.\n",
    "    print (\"Temp args:\", args)"
   ]
  },
  {
   "cell_type": "code",
   "execution_count": null,
   "metadata": {},
   "outputs": [],
   "source": [
    "my_keys = []\n",
    "for key in test_dat.keys():\n",
    "    if key[0] == 'v':\n",
    "        my_keys.append(key)\n",
    "np.array(test_dat.loc[1, ['v_0', 'v_1']])"
   ]
  },
  {
   "cell_type": "code",
   "execution_count": null,
   "metadata": {},
   "outputs": [],
   "source": [
    "my_dat = mdlba.make_data_rt_choice(target_folder = my_target_folder)"
   ]
  },
  {
   "cell_type": "code",
   "execution_count": null,
   "metadata": {},
   "outputs": [],
   "source": [
    "np.max(my_dat['log_likelihood'])"
   ]
  },
  {
   "cell_type": "code",
   "execution_count": null,
   "metadata": {},
   "outputs": [],
   "source": [
    "data = np.concatenate([out[0], out[1]], axis = 1)"
   ]
  },
  {
   "cell_type": "code",
   "execution_count": null,
   "metadata": {},
   "outputs": [],
   "source": [
    "###\n",
    "cds.race_model(boundary_fun = bf.constant,\n",
    "              n_samples = 100000)"
   ]
  },
  {
   "cell_type": "code",
   "execution_count": null,
   "metadata": {},
   "outputs": [],
   "source": [
    "np.quantile(np.random.uniform(size = (10000,4)), q = [0.05, 0.10, 0.9, 0.95], axis = 0)"
   ]
  },
  {
   "cell_type": "code",
   "execution_count": null,
   "metadata": {},
   "outputs": [],
   "source": [
    "tuple(map(tuple, a))"
   ]
  },
  {
   "cell_type": "code",
   "execution_count": null,
   "metadata": {},
   "outputs": [],
   "source": [
    "tuple(np.apply_along_axis(my_func, 0, a, key_vec))"
   ]
  },
  {
   "cell_type": "code",
   "execution_count": null,
   "metadata": {},
   "outputs": [],
   "source": [
    "dict(zip(a[0,:], ['a' ,'b', 'c']))"
   ]
  },
  {
   "cell_type": "code",
   "execution_count": null,
   "metadata": {},
   "outputs": [],
   "source": [
    "def my_func(x = 0, key_vec = ['a' ,'b', 'c']):\n",
    "    return dict(zip(key_vec, x))"
   ]
  },
  {
   "cell_type": "code",
   "execution_count": null,
   "metadata": {},
   "outputs": [],
   "source": [
    "my_func_init = my_func(key_vec = ['d', 'e', 'f'])"
   ]
  },
  {
   "cell_type": "code",
   "execution_count": null,
   "metadata": {},
   "outputs": [],
   "source": [
    "test = yaml.load(open('config_files/config_data_generator.yaml'))"
   ]
  },
  {
   "cell_type": "code",
   "execution_count": 22,
   "metadata": {},
   "outputs": [
    {
     "name": "stderr",
     "output_type": "stream",
     "text": [
      "\n",
      "\n",
      "\n",
      "\n",
      "\n",
      "  0%|          | 0/100 [00:00<?, ?it/s]\u001b[A\u001b[A\u001b[A\u001b[A\u001b[A"
     ]
    },
    {
     "ename": "TypeError",
     "evalue": "starmap() got an unexpected keyword argument 'callback'",
     "output_type": "error",
     "traceback": [
      "\u001b[0;31m---------------------------------------------------------------------------\u001b[0m",
      "\u001b[0;31mTypeError\u001b[0m                                 Traceback (most recent call last)",
      "\u001b[0;32m<ipython-input-22-b1b17a601579>\u001b[0m in \u001b[0;36m<module>\u001b[0;34m\u001b[0m\n\u001b[1;32m     12\u001b[0m \u001b[0;34m\u001b[0m\u001b[0m\n\u001b[1;32m     13\u001b[0m \u001b[0mpool\u001b[0m \u001b[0;34m=\u001b[0m \u001b[0mPool\u001b[0m\u001b[0;34m(\u001b[0m\u001b[0;36m4\u001b[0m\u001b[0;34m)\u001b[0m\u001b[0;34m\u001b[0m\u001b[0;34m\u001b[0m\u001b[0m\n\u001b[0;32m---> 14\u001b[0;31m \u001b[0mpool\u001b[0m\u001b[0;34m.\u001b[0m\u001b[0mstarmap\u001b[0m\u001b[0;34m(\u001b[0m\u001b[0mmyfunc\u001b[0m\u001b[0;34m,\u001b[0m \u001b[0ma\u001b[0m\u001b[0;34m,\u001b[0m \u001b[0mcallback\u001b[0m \u001b[0;34m=\u001b[0m \u001b[0mupdate\u001b[0m\u001b[0;34m)\u001b[0m\u001b[0;34m\u001b[0m\u001b[0;34m\u001b[0m\u001b[0m\n\u001b[0m\u001b[1;32m     15\u001b[0m \u001b[0mpool\u001b[0m\u001b[0;34m.\u001b[0m\u001b[0mclose\u001b[0m\u001b[0;34m(\u001b[0m\u001b[0;34m)\u001b[0m\u001b[0;34m\u001b[0m\u001b[0;34m\u001b[0m\u001b[0m\n\u001b[1;32m     16\u001b[0m \u001b[0mpool\u001b[0m\u001b[0;34m.\u001b[0m\u001b[0mjoin\u001b[0m\u001b[0;34m(\u001b[0m\u001b[0;34m)\u001b[0m\u001b[0;34m\u001b[0m\u001b[0;34m\u001b[0m\u001b[0m\n",
      "\u001b[0;31mTypeError\u001b[0m: starmap() got an unexpected keyword argument 'callback'"
     ]
    }
   ],
   "source": [
    "from multiprocessing import Pool\n",
    "\n",
    "def myfunc(a):\n",
    "    return a ** 2\n",
    "pbar = tqdm(total = 100)\n",
    "def update():\n",
    "    pbar.update\n",
    "\n",
    "a = tuple()\n",
    "for i in range(pbar.total):\n",
    "    a += ((1, ), )\n",
    "    \n",
    "pool = Pool(4)\n",
    "pool.starmap(myfunc, a, callback = update)\n",
    "pool.close()\n",
    "pool.join()"
   ]
  },
  {
   "cell_type": "code",
   "execution_count": null,
   "metadata": {},
   "outputs": [],
   "source": [
    "def my_fun(*args):\n",
    "    print(args)"
   ]
  },
  {
   "cell_type": "code",
   "execution_count": null,
   "metadata": {},
   "outputs": [],
   "source": [
    "help(dg.make_dataset_r_dgp)"
   ]
  },
  {
   "cell_type": "code",
   "execution_count": null,
   "metadata": {},
   "outputs": [],
   "source": [
    "def zip_dict(x = [], \n",
    "             key_vec = ['a', 'b', 'c']):\n",
    "    return dict(zip(key_vec, x))"
   ]
  },
  {
   "cell_type": "code",
   "execution_count": null,
   "metadata": {},
   "outputs": [],
   "source": [
    "my_dg = dg.data_generator(file_id = 'TEST')"
   ]
  },
  {
   "cell_type": "code",
   "execution_count": null,
   "metadata": {},
   "outputs": [],
   "source": [
    "out = my_dg.make_dataset_perturbation_experiment(save = False)"
   ]
  },
  {
   "cell_type": "code",
   "execution_count": null,
   "metadata": {},
   "outputs": [],
   "source": [
    "out = my_dg.make_dataset_uniform(save = False)"
   ]
  },
  {
   "cell_type": "code",
   "execution_count": null,
   "metadata": {},
   "outputs": [],
   "source": [
    "my_dg.param_grid_perturbation_experiment()"
   ]
  },
  {
   "cell_type": "code",
   "execution_count": null,
   "metadata": {},
   "outputs": [],
   "source": [
    "param_grid = my_dg.param_grid_uniform()"
   ]
  },
  {
   "cell_type": "code",
   "execution_count": null,
   "metadata": {},
   "outputs": [],
   "source": [
    "%%timeit -n 1 -r 1\n",
    "tt = my_dg.generate_data_grid_parallel(param_grid = param_grid)"
   ]
  },
  {
   "cell_type": "code",
   "execution_count": 22,
   "metadata": {},
   "outputs": [
    {
     "data": {
      "text/plain": [
       "27"
      ]
     },
     "execution_count": 22,
     "metadata": {},
     "output_type": "execute_result"
    }
   ],
   "source": [
    "3**3"
   ]
  },
  {
   "cell_type": "code",
   "execution_count": null,
   "metadata": {},
   "outputs": [],
   "source": [
    "a = np.random.choice(10, size = (1000,1))"
   ]
  },
  {
   "cell_type": "code",
   "execution_count": 25,
   "metadata": {},
   "outputs": [
    {
     "name": "stdout",
     "output_type": "stream",
     "text": [
      "(1, 1, 1)\n"
     ]
    }
   ],
   "source": [
    "for i in zip([1,2,3], [1, 2, 3], [1]):\n",
    "    print( i )"
   ]
  },
  {
   "cell_type": "code",
   "execution_count": 13,
   "metadata": {},
   "outputs": [],
   "source": [
    "from scipy.stats import truncnorm"
   ]
  },
  {
   "cell_type": "code",
   "execution_count": 19,
   "metadata": {},
   "outputs": [],
   "source": [
    "x = truncnorm.rvs(-1, 3, size = 10000)"
   ]
  },
  {
   "cell_type": "code",
   "execution_count": 22,
   "metadata": {},
   "outputs": [
    {
     "data": {
      "text/plain": [
       "(array([1365., 1729., 1850., 1708., 1387.,  969.,  552.,  276.,  122.,\n",
       "          42.]),\n",
       " array([ 9.50002079,  9.69642827,  9.89283574, 10.08924321, 10.28565068,\n",
       "        10.48205815, 10.67846562, 10.87487309, 11.07128056, 11.26768803,\n",
       "        11.4640955 ]),\n",
       " <a list of 10 Patch objects>)"
      ]
     },
     "execution_count": 22,
     "metadata": {},
     "output_type": "execute_result"
    },
    {
     "data": {
      "image/png": "[encoded data removed]",
      "text/plain": [
       "<Figure size 432x288 with 1 Axes>"
      ]
     },
     "metadata": {
      "needs_background": "light"
     },
     "output_type": "display_data"
    }
   ],
   "source": [
    "plt.hist(10 + x * 0.5)"
   ]
  },
  {
   "cell_type": "code",
   "execution_count": 22,
   "metadata": {},
   "outputs": [],
   "source": [
    "x = pickle.load(open('/users/afengler/OneDrive/project_nn_likelihoods/eLIFE_exps/summaries/IS_summary_weibull_cdf_N_1024.pickle', 'rb' ))"
   ]
  },
  {
   "cell_type": "code",
   "execution_count": 147,
   "metadata": {},
   "outputs": [],
   "source": [
    "x = pickle.load(open('/Users/afengler/OneDrive/project_nn_likelihoods/data/kde/weibull_cdf2/method_comparison/dnnregressor_weibull_cdf2_06_11_20_03_30_02/summary_post_samp_data_param_recov_unif_reps_1_n_1024_init_mle_1.pickle', 'rb'))"
   ]
  },
  {
   "cell_type": "code",
   "execution_count": 162,
   "metadata": {},
   "outputs": [],
   "source": [
    "x = pickle.load(open('/Users/afengler/OneDrive/project_sbi_experiments/posterior_samples/collapsed_angle_bindim_64_abcmethod_SNPE_nsimruns_100000_nsamplesl_1000_nsamplesh_50000_nobs_1000_bd743603c0504bb786265fc0fa231748.pickle', 'rb'))"
   ]
  },
  {
   "cell_type": "code",
   "execution_count": 191,
   "metadata": {},
   "outputs": [
    {
     "data": {
      "text/plain": [
       "'collapsed_full_ddm_bindim_64_abcmethod_SNPE_nsimruns_100000_nsamplesl_100_nsamplesh_10000_nobs_2000.pickle'"
      ]
     },
     "execution_count": 191,
     "metadata": {},
     "output_type": "execute_result"
    }
   ],
   "source": [
    "files_[0][:-40] + '.pickle'"
   ]
  },
  {
   "cell_type": "code",
   "execution_count": 195,
   "metadata": {},
   "outputs": [],
   "source": [
    "x = pickle.load(open('/Users/afengler/OneDrive/project_sbi_experiments/posterior_samples/collapsed_angle_bindim_64_abcmethod_SNPE_nsimruns_100000_nsamplesl_1000_nsamplesh_50000_nobs_1000.pickle', 'rb'))"
   ]
  },
  {
   "cell_type": "code",
   "execution_count": 196,
   "metadata": {},
   "outputs": [
    {
     "data": {
      "text/plain": [
       "(1000, 5)"
      ]
     },
     "execution_count": 196,
     "metadata": {},
     "output_type": "execute_result"
    }
   ],
   "source": [
    "x['gt'].shape"
   ]
  },
  {
   "cell_type": "code",
   "execution_count": 193,
   "metadata": {},
   "outputs": [
    {
     "name": "stdout",
     "output_type": "stream",
     "text": [
      "collapsed_full_ddm_bindim_64_abcmethod_SNPE_nsimruns_100000_nsamplesl_100_nsamplesh_10000_nobs_2000_73fc2cea64a44dcf8c674806854ff1cc.pickle\n",
      "collapsed_levy_bindim_64_abcmethod_SNPE_nsimruns_100000_nsamplesl_1000_nsamplesh_50000_nobs_2000_cb8af390da65465fb5dc1361ea48e09e.pickle\n",
      "collapsed_ornstein_bindim_64_abcmethod_SNPE_nsimruns_100000_nsamplesl_1000_nsamplesh_50000_nobs_1000_6c40a041eb3743e29255d87917a8e292.pickle\n",
      "collapsed_levy_bindim_64_abcmethod_SNPE_nsimruns_100000_nsamplesl_100_nsamplesh_10000_nobs_2000_2b560f099525455895d2d5499d7aea90.pickle\n",
      "collapsed_angle_bindim_64_abcmethod_SNPE_nsimruns_100000_nsamplesl_1000_nsamplesh_50000_nobs_1000_bd743603c0504bb786265fc0fa231748.pickle\n",
      "collapsed_ddm_sdv_bindim_64_abcmethod_SNPE_nsimruns_100000_nsamplesl_1000_nsamplesh_50000_nobs_2000_1a6b32ce77e94af7ac12ecee465dbac2.pickle\n",
      "collapsed_angle_bindim_64_abcmethod_SNPE_nsimruns_100000_nsamplesl_100_nsamplesh_10000_nobs_2000_62961a3a6205451aaa9af8f9b4a7453f.pickle\n",
      "collapsed_levy_bindim_64_abcmethod_SNPE_nsimruns_100000_nsamplesl_1000_nsamplesh_50000_nobs_1000_8d2635ec63e8485da2dbea4d82d916ed.pickle\n",
      "collapsed_weibull_cdf_bindim_64_abcmethod_SNPE_nsimruns_100000_nsamplesl_100_nsamplesh_10000_nobs_2000_4cfff97184764db2aac3d571f39944cd.pickle\n",
      "collapsed_ddm_sdv_bindim_64_abcmethod_SNPE_nsimruns_100000_nsamplesl_100_nsamplesh_10000_nobs_2000_84f1471caf4d4cb8bf9495ebd069fee0.pickle\n",
      "collapsed_ornstein_bindim_64_abcmethod_SNPE_nsimruns_100000_nsamplesl_1000_nsamplesh_50000_nobs_2000_ad9a82cd82394ffeb7999d1fdb0f4386.pickle\n",
      "collapsed_ddm_sdv_bindim_64_abcmethod_SNPE_nsimruns_100000_nsamplesl_1000_nsamplesh_50000_nobs_1000_c901a7c38a1441d7b95f99659926ed5b.pickle\n",
      "collapsed_levy_bindim_64_abcmethod_SNPE_nsimruns_100000_nsamplesl_100_nsamplesh_10000_nobs_1000_51bfa983f6ed4609a0344573eb25ba59.pickle\n",
      "collapsed_ornstein_bindim_64_abcmethod_SNPE_nsimruns_100000_nsamplesl_100_nsamplesh_10000_nobs_2000_3084c9429eda4135ba138f87c54356aa.pickle\n",
      "collapsed_full_ddm_bindim_64_abcmethod_SNPE_nsimruns_100000_nsamplesl_1000_nsamplesh_50000_nobs_2000_21722b0f7cd6475a824cd33b7b38e6ae.pickle\n",
      "collapsed_angle_bindim_64_abcmethod_SNPE_nsimruns_100000_nsamplesl_1000_nsamplesh_50000_nobs_2000_ecad120d5f04441da371c63f671c534a.pickle\n",
      "collapsed_weibull_cdf_bindim_64_abcmethod_SNPE_nsimruns_100000_nsamplesl_100_nsamplesh_10000_nobs_1000_d39ece150eb54c48b719f31207aba681.pickle\n",
      "collapsed_full_ddm_bindim_64_abcmethod_SNPE_nsimruns_100000_nsamplesl_100_nsamplesh_10000_nobs_1000_74439c4c4bff405da62c2f3aba3fa5cb.pickle\n",
      "collapsed_ornstein_bindim_64_abcmethod_SNPE_nsimruns_100000_nsamplesl_100_nsamplesh_10000_nobs_1000_98df92eb990d4c939527592a424181ae.pickle\n",
      "collapsed_ddm_sdv_bindim_64_abcmethod_SNPE_nsimruns_100000_nsamplesl_100_nsamplesh_10000_nobs_1000_f04ab8ec7ac3403fb91a4959e94a08a3.pickle\n",
      "collapsed_full_ddm_bindim_64_abcmethod_SNPE_nsimruns_100000_nsamplesl_1000_nsamplesh_50000_nobs_1000_5d03985f681a401382797d85e32fe107.pickle\n",
      "collapsed_weibull_cdf_bindim_64_abcmethod_SNPE_nsimruns_100000_nsamplesl_1000_nsamplesh_50000_nobs_2000_918e1f4e15a141ac8fac21a219a2621e.pickle\n",
      "collapsed_angle_bindim_64_abcmethod_SNPE_nsimruns_100000_nsamplesl_100_nsamplesh_10000_nobs_1000_65f60600b0ed46cf8c45bf9d1e4b3326.pickle\n",
      "collapsed_weibull_cdf_bindim_64_abcmethod_SNPE_nsimruns_100000_nsamplesl_1000_nsamplesh_50000_nobs_1000_2a3cc9e55d21474a9dd9a45512a6cdb8.pickle\n"
     ]
    }
   ],
   "source": [
    "dir_ = '/Users/afengler/OneDrive/project_sbi_experiments/posterior_samples/'\n",
    "files_ = os.listdir('/Users/afengler/OneDrive/project_sbi_experiments/posterior_samples/')\n",
    "for file_ in files_:\n",
    "    print(file_)\n",
    "    x = pickle.load(open(dir_ + file_, 'rb'))\n",
    "    x['gt'] = np.squeeze(x['gt'])\n",
    "    x['posterior_samples'] = np.squeeze(x['posterior_samples'])\n",
    "    x['posterior_samples_log_p'] = np.squeeze(x['posterior_samples_log_p'])\n",
    "    x['data'] = np.squeeze(x['data'])\n",
    "    x['maps'] = np.squeeze(x['maps'])\n",
    "    x['means'] = np.squeeze(x['means'])\n",
    "    x['timings'] = np.squeeze(x['timings'])\n",
    "    pickle.dump(x, open(dir_ + file_[:-40] + '.pickle','wb'))"
   ]
  },
  {
   "cell_type": "code",
   "execution_count": 166,
   "metadata": {},
   "outputs": [
    {
     "data": {
      "text/plain": [
       "(1000, 5)"
      ]
     },
     "execution_count": 166,
     "metadata": {},
     "output_type": "execute_result"
    }
   ],
   "source": [
    "np.squeeze(x['gt']).shape"
   ]
  },
  {
   "cell_type": "code",
   "execution_count": 169,
   "metadata": {},
   "outputs": [
    {
     "data": {
      "text/plain": [
       "(1000, 20000, 5)"
      ]
     },
     "execution_count": 169,
     "metadata": {},
     "output_type": "execute_result"
    }
   ],
   "source": [
    "np.squeeze(x['posterior_samples']).shape"
   ]
  },
  {
   "cell_type": "code",
   "execution_count": 172,
   "metadata": {},
   "outputs": [
    {
     "data": {
      "text/plain": [
       "(1000, 20000)"
      ]
     },
     "execution_count": 172,
     "metadata": {},
     "output_type": "execute_result"
    }
   ],
   "source": [
    "np.squeeze(x['posterior_samples_log_p']).shape"
   ]
  },
  {
   "cell_type": "code",
   "execution_count": 175,
   "metadata": {},
   "outputs": [
    {
     "data": {
      "text/plain": [
       "(1000, 64, 2)"
      ]
     },
     "execution_count": 175,
     "metadata": {},
     "output_type": "execute_result"
    }
   ],
   "source": [
    "np.squeeze(x['data']).shape"
   ]
  },
  {
   "cell_type": "code",
   "execution_count": 177,
   "metadata": {},
   "outputs": [
    {
     "data": {
      "text/plain": [
       "(1000, 5)"
      ]
     },
     "execution_count": 177,
     "metadata": {},
     "output_type": "execute_result"
    }
   ],
   "source": [
    "np.squeeze(x['maps']).shape"
   ]
  },
  {
   "cell_type": "code",
   "execution_count": 180,
   "metadata": {},
   "outputs": [
    {
     "data": {
      "text/plain": [
       "(1000,)"
      ]
     },
     "execution_count": 180,
     "metadata": {},
     "output_type": "execute_result"
    }
   ],
   "source": [
    "np.squeeze(x['timings']).shape"
   ]
  },
  {
   "cell_type": "code",
   "execution_count": 176,
   "metadata": {},
   "outputs": [
    {
     "data": {
      "text/plain": [
       "dict_keys(['gt', 'posterior_samples', 'posterior_samples_log_p', 'data', 'means', 'maps', 'timings'])"
      ]
     },
     "execution_count": 176,
     "metadata": {},
     "output_type": "execute_result"
    }
   ],
   "source": [
    "x['gt'] = np.squeeze(x['gt'])\n",
    "x['posterior_samples'] = np.squeeze(x['posterior_samples'])\n",
    "x['posterior_samples_log_p'] = np.squeeze(x['posterior_samples_log_p'])\n",
    "x['data'] = np.squeeze(x['data'])\n",
    "x['maps'] = np.squeeze(x['maps'])\n",
    "x['means'] = np.squeeze(x['means'])\n",
    "x['timings'] = np.squeeze(x['timings'])"
   ]
  },
  {
   "cell_type": "code",
   "execution_count": 65,
   "metadata": {},
   "outputs": [
    {
     "data": {
      "text/plain": [
       "(1000, 20000, 6)"
      ]
     },
     "execution_count": 65,
     "metadata": {},
     "output_type": "execute_result"
    }
   ],
   "source": [
    "x['posterior_samples'].shape"
   ]
  },
  {
   "cell_type": "code",
   "execution_count": 262,
   "metadata": {},
   "outputs": [],
   "source": [
    "x = pickle.load(open('/users/afengler/OneDrive/project_nn_likelihoods/eLIFE_exps/summaries/IS_summary_weibull_cdf_N_4096.pickle', 'rb' ))"
   ]
  },
  {
   "cell_type": "code",
   "execution_count": 23,
   "metadata": {},
   "outputs": [],
   "source": [
    "def a_of_t_data_prep(mcmc_dict = x,\n",
    "                     model = 'weibull_cdf',\n",
    "                     n_eval_points = 1000,\n",
    "                     max_t = 20,\n",
    "                     p_lims = [0.2, 0.8],\n",
    "                     n_posterior_subsample = 100,\n",
    "                     split_ecdf = False,\n",
    "                     bnd_epsilon = 0.2):\n",
    "    \n",
    "    n_posterior_samples = x['posterior_samples'].shape[1]\n",
    "    n_param_sets = x['gt'].shape[0]\n",
    "    n_choices = 2\n",
    "    cdf_list = []\n",
    "    eval_points = np.linspace(0, max_t, n_eval_points)\n",
    "    \n",
    "    # boundary_evals = \n",
    "    dist_in = np.zeros(n_param_sets)\n",
    "    dist_out = np.zeros(n_param_sets)\n",
    "    \n",
    "    for i in range(n_param_sets):\n",
    "        if (i % 10) == 0:\n",
    "            print(i)\n",
    "        if model == 'weibull_cdf':\n",
    "            out = cds.ddm_flexbound(v = mcmc_dict['gt'][i, 0],\n",
    "                        a = mcmc_dict['gt'][i, 1],\n",
    "                        w = mcmc_dict['gt'][i, 2],\n",
    "                        ndt = mcmc_dict['gt'][i, 3],\n",
    "                        delta_t = 0.001, \n",
    "                        s = 1,\n",
    "                        max_t = 20, \n",
    "                        n_samples = 20000,\n",
    "                        boundary_fun = bf.weibull_cdf,\n",
    "                        boundary_multiplicative = True,\n",
    "                        boundary_params = {'alpha': mcmc_dict['gt'][i, 4],\n",
    "                                           'beta': mcmc_dict['gt'][i, 5]})\n",
    "            \n",
    "            in_ = np.zeros(n_eval_points, dtype = np.bool)\n",
    "            if split_ecdf:\n",
    "                \n",
    "                bin_c = [0, 0]\n",
    "                if np.sum(out[1] == - 1) > 0:\n",
    "                    bin_c[0] = 1\n",
    "                    out_cdf_0 = ECDF(out[0][out[1] == - 1])\n",
    "                    out_cdf_0_eval = out_cdf_0(eval_points)\n",
    "                if np.sum(out[1] == 1) > 0:\n",
    "                    bin_c[1] = 1\n",
    "                    out_cdf_1 = ECDF(out[0][out[1] == 1])\n",
    "                    out_cdf_1_eval = out_cdf_1(eval_points)\n",
    "\n",
    "                cnt = 0\n",
    "#                 in_ = np.zeros(n_eval_points, dtype = np.bool)\n",
    "\n",
    "                for c in bin_c:\n",
    "                    if c == 1:\n",
    "                        if cnt == 0:\n",
    "                            in_ += ((out_cdf_0_eval > p_lims[0]) * (out_cdf_0_eval < p_lims[1]))\n",
    "                        if cnt == 1:\n",
    "                            in_ += ((out_cdf_1_eval > p_lims[0]) * (out_cdf_1_eval < p_lims[1]))\n",
    "                    cnt += 0\n",
    "                 \n",
    "            else:\n",
    "                out_cdf = ECDF(out[0][:, 0])\n",
    "                out_cdf_eval = out_cdf(eval_points)\n",
    "                in_ = ((out_cdf_eval > p_lims[0]) * (out_cdf_eval < p_lims[1]))\n",
    "                \n",
    "            out_ = np.invert(in_)\n",
    "            gt_bnd = mcmc_dict['gt'][i, 1] * bf.weibull_cdf(eval_points, \n",
    "                                                            alpha = mcmc_dict['gt'][i, 4],\n",
    "                                                            beta = mcmc_dict['gt'][i, 5])\n",
    "            \n",
    "            tmp_in = np.zeros(n_posterior_subsample)\n",
    "            tmp_out = np.zeros(n_posterior_subsample)\n",
    "            \n",
    "            for j in range(n_posterior_subsample):\n",
    "                idx = np.random.choice(n_posterior_samples)\n",
    "                post_bnd_tmp = mcmc_dict['posterior_samples'][i, idx, 1] * bf.weibull_cdf(eval_points,\n",
    "                                                                                            alpha = mcmc_dict['posterior_samples'][i, idx , 4],\n",
    "                                                                                            beta = mcmc_dict['posterior_samples'][i, idx , 5])\n",
    "                \n",
    "                \n",
    "                #np.mean(  np.square( np.maximum(gt_bnd[in_], 0) - np.maximum(post_bnd_tmp[in_], 0) ) )\n",
    "                \n",
    "                tmp_in[j] = np.mean(  np.square( np.maximum(gt_bnd[in_], 0) - np.maximum(post_bnd_tmp[in_], 0) ) [(gt_bnd[in_] > bnd_epsilon) * (post_bnd_tmp[in_] > bnd_epsilon)] )\n",
    "                tmp_out[j] = np.mean(  np.square( np.maximum(gt_bnd[out_], 0) - np.maximum(post_bnd_tmp[out_], 0) ) [(gt_bnd[out_] > bnd_epsilon) * (post_bnd_tmp[out_] > bnd_epsilon)] )\n",
    "            \n",
    "            dist_in[i] = np.mean(tmp_in)\n",
    "            dist_out[i] = np.mean(tmp_out)\n",
    "    return dist_in, dist_out"
   ]
  },
  {
   "cell_type": "code",
   "execution_count": 263,
   "metadata": {},
   "outputs": [],
   "source": [
    "def a_of_t_reg_data_prep(mcmc_dict = x,\n",
    "                         model = 'weibull_cdf',\n",
    "                         n_eval_points = 1000,\n",
    "                         max_t = 20,\n",
    "                         p_lims = [0.2, 0.8],\n",
    "                         n_posterior_subsample = 100,\n",
    "                         split_ecdf = False,\n",
    "                         bnd_epsilon = 0.2):\n",
    "    \n",
    "    n_posterior_samples = mcmc_dict['posterior_samples'].shape[1]\n",
    "    n_param_sets = mcmc_dict['gt'].shape[0]\n",
    "    n_choices = 2\n",
    "    cdf_list = []\n",
    "    eval_points = np.linspace(0, max_t, n_eval_points)\n",
    "    \n",
    "    # boundary_evals = \n",
    "    dist_in = np.zeros(n_param_sets)\n",
    "    dist_out = np.zeros(n_param_sets)\n",
    "    \n",
    "    gt_bnd_pos_mean_in = np.zeros(n_param_sets)\n",
    "    gt_bnd_pos_mean_out = np.zeros(n_param_sets)\n",
    "    post_bnd_pos_mean_in = np.zeros(n_param_sets)\n",
    "    post_bnd_pos_mean_out = np.zeros(n_param_sets)\n",
    "    \n",
    "    for i in range(n_param_sets):\n",
    "        if (i % 10) == 0:\n",
    "            print(i)\n",
    "        \n",
    "        if model == 'weibull_cdf':\n",
    "            out = cds.ddm_flexbound(v = mcmc_dict['gt'][i, 0],\n",
    "                                    a = mcmc_dict['gt'][i, 1],\n",
    "                                    w = mcmc_dict['gt'][i, 2],\n",
    "                                    ndt = 0,\n",
    "                                    #ndt = mcmc_dict['gt'][i, 3],\n",
    "                                    delta_t = 0.001, \n",
    "                                    s = 1,\n",
    "                                    max_t = 20, \n",
    "                                    n_samples = 2500,\n",
    "                                    boundary_fun = bf.weibull_cdf,\n",
    "                                    boundary_multiplicative = True,\n",
    "                                    boundary_params = {'alpha': mcmc_dict['gt'][i, 4],\n",
    "                                                       'beta': mcmc_dict['gt'][i, 5]})\n",
    "\n",
    "            in_ = np.zeros(n_eval_points, \n",
    "                           dtype = np.bool)\n",
    "            \n",
    "            if split_ecdf:\n",
    "                \n",
    "                bin_c = [0, 0]\n",
    "                if np.sum(out[1] == - 1) > 0:\n",
    "                    bin_c[0] = 1\n",
    "                    out_cdf_0 = ECDF(out[0][out[1] == - 1])\n",
    "                    out_cdf_0_eval = out_cdf_0(eval_points)\n",
    "                if np.sum(out[1] == 1) > 0:\n",
    "                    bin_c[1] = 1\n",
    "                    out_cdf_1 = ECDF(out[0][out[1] == 1])\n",
    "                    out_cdf_1_eval = out_cdf_1(eval_points)\n",
    "\n",
    "                cnt = 0\n",
    "\n",
    "                for c in bin_c:\n",
    "                    if c == 1:\n",
    "                        if cnt == 0:\n",
    "                            in_ += ((out_cdf_0_eval > p_lims[0]) * (out_cdf_0_eval < p_lims[1]))\n",
    "                        if cnt == 1:\n",
    "                            in_ += ((out_cdf_1_eval > p_lims[0]) * (out_cdf_1_eval < p_lims[1]))\n",
    "                    cnt += 0\n",
    "                 \n",
    "            else:\n",
    "                \n",
    "                out_cdf = ECDF(out[0][:, 0])\n",
    "                out_cdf_eval = out_cdf(eval_points)\n",
    "                in_ = ((out_cdf_eval > p_lims[0]) * (out_cdf_eval < p_lims[1]))\n",
    "                \n",
    "            out_ = np.invert(in_)\n",
    "            gt_bnd = mcmc_dict['gt'][i, 1] * bf.weibull_cdf(eval_points, \n",
    "                                                            alpha = mcmc_dict['gt'][i, 4],\n",
    "                                                            beta = mcmc_dict['gt'][i, 5])\n",
    "            \n",
    "            gt_bnd_pos = np.maximum(gt_bnd, 0)\n",
    "            \n",
    "            tmp_dist_in = np.zeros(n_posterior_subsample)\n",
    "            tmp_dist_out = np.zeros(n_posterior_subsample)\n",
    "            \n",
    "            post_bnd_pos_tmp = np.zeros(len(eval_points))\n",
    "            post_bnd_pos_mean_tmp_in = np.zeros(n_posterior_subsample)\n",
    "            post_bnd_pos_mean_tmp_out = np.zeros(n_posterior_subsample)\n",
    "            \n",
    "            for j in range(n_posterior_subsample):\n",
    "                idx = np.random.choice(n_posterior_samples)\n",
    "                post_bnd_pos_tmp[:] = np.maximum(mcmc_dict['posterior_samples'][i, idx, 1] * bf.weibull_cdf(eval_points,\n",
    "                                                                                                            alpha = mcmc_dict['posterior_samples'][i, idx , 4],\n",
    "                                                                                                            beta = mcmc_dict['posterior_samples'][i, idx , 5]),\n",
    "                                                 0)\n",
    "                \n",
    "                post_bnd_pos_mean_tmp_in[j] = np.mean(post_bnd_pos_tmp[in_] [(gt_bnd_pos[in_] > bnd_epsilon) * (post_bnd_pos_tmp[in_] > bnd_epsilon)] )\n",
    "                post_bnd_pos_mean_tmp_out[j] = np.mean(post_bnd_pos_tmp[out_] [(gt_bnd_pos[out_] > bnd_epsilon) * (post_bnd_pos_tmp[out_] > bnd_epsilon)] )\n",
    "                tmp_dist_in[j] = np.mean(  np.square( gt_bnd_pos[in_] - post_bnd_pos_tmp[in_] ) [(gt_bnd_pos[in_] > bnd_epsilon) * (post_bnd_pos_tmp[in_] > bnd_epsilon)] )\n",
    "                tmp_dist_out[j] = np.mean(  np.square( gt_bnd_pos[out_] - post_bnd_pos_tmp[out_] ) [(gt_bnd_pos[out_] > bnd_epsilon) * (post_bnd_pos_tmp[out_] > bnd_epsilon)] )\n",
    "            \n",
    "            \n",
    "            gt_bnd_pos_mean_in[i] = np.mean(gt_bnd_pos[in_][(gt_bnd_pos[in_] > bnd_epsilon)])\n",
    "            gt_bnd_pos_mean_out[i] = np.mean(gt_bnd_pos[out_][(gt_bnd_pos[out_] > bnd_epsilon)])\n",
    "            post_bnd_pos_mean_in[i] = np.mean(post_bnd_pos_mean_tmp_in)\n",
    "            post_bnd_pos_mean_out[i] = np.mean(post_bnd_pos_mean_tmp_out)\n",
    "            \n",
    "            dist_in[i] = np.mean(tmp_dist_in)\n",
    "            dist_out[i] = np.mean(tmp_dist_out)\n",
    "            \n",
    "    return dist_in, dist_out, gt_bnd_pos_mean_in, gt_bnd_pos_mean_out, post_bnd_pos_mean_in, post_bnd_pos_mean_out"
   ]
  },
  {
   "cell_type": "code",
   "execution_count": 264,
   "metadata": {},
   "outputs": [],
   "source": [
    "x2 = x.copy()\n",
    "#x2['gt'] = x2['gt'][:200, :]\n",
    "#x2['posterior_samples'] = x2['posterior_samples'][:200, :]"
   ]
  },
  {
   "cell_type": "code",
   "execution_count": 139,
   "metadata": {},
   "outputs": [
    {
     "data": {
      "text/plain": [
       "array([0.8586967 , 0.68127376, 0.3338968 , 0.9768481 , 1.2551044 ,\n",
       "       0.67258966], dtype=float32)"
      ]
     },
     "execution_count": 139,
     "metadata": {},
     "output_type": "execute_result"
    }
   ],
   "source": [
    "x2['gt'][10]"
   ]
  },
  {
   "cell_type": "code",
   "execution_count": 265,
   "metadata": {},
   "outputs": [],
   "source": [
    " out = cds.ddm_flexbound(v = x2['gt'][10, 0],\n",
    "                         a = x2['gt'][10, 1],\n",
    "                         w = x2['gt'][10, 2],\n",
    "                         ndt = x2['gt'][10, 3],\n",
    "                         delta_t = 0.001, \n",
    "                         s = 1,\n",
    "                         max_t = 20, \n",
    "                         n_samples = 2500,\n",
    "                         boundary_fun = bf.weibull_cdf,\n",
    "                         boundary_multiplicative = True,\n",
    "                         boundary_params = {'alpha': x2['gt'][10, 4],\n",
    "                                            'beta': x2['gt'][10, 5]})"
   ]
  },
  {
   "cell_type": "code",
   "execution_count": 266,
   "metadata": {},
   "outputs": [],
   "source": [
    " outp = cds.ddm_flexbound(v = x2['posterior_samples'][10, 1, 0],\n",
    "                          a = x2['posterior_samples'][10, 1, 1],\n",
    "                          w = x2['posterior_samples'][10, 1, 2],\n",
    "                          ndt = x2['posterior_samples'][10, 1, 3],\n",
    "                          delta_t = 0.001, \n",
    "                          s = 1,\n",
    "                          max_t = 20, \n",
    "                          n_samples = 2500,\n",
    "                          boundary_fun = bf.weibull_cdf,\n",
    "                          boundary_multiplicative = True,\n",
    "                          boundary_params = {'alpha': x2['posterior_samples'][10, 1, 4],\n",
    "                                             'beta': x2['posterior_samples'][10, 1, 5]})"
   ]
  },
  {
   "cell_type": "code",
   "execution_count": 135,
   "metadata": {},
   "outputs": [],
   "source": [
    "ndt = x2['posterior_samples'][10, 1, 3]"
   ]
  },
  {
   "cell_type": "code",
   "execution_count": 136,
   "metadata": {},
   "outputs": [
    {
     "data": {
      "text/plain": [
       "0.9632738759480256"
      ]
     },
     "execution_count": 136,
     "metadata": {},
     "output_type": "execute_result"
    }
   ],
   "source": [
    "ndt"
   ]
  },
  {
   "cell_type": "code",
   "execution_count": 267,
   "metadata": {},
   "outputs": [
    {
     "data": {
      "text/plain": [
       "[<matplotlib.lines.Line2D at 0x152a3b510>]"
      ]
     },
     "execution_count": 267,
     "metadata": {},
     "output_type": "execute_result"
    },
    {
     "data": {
      "image/png": "[encoded data removed]",
      "text/plain": [
       "<Figure size 432x288 with 1 Axes>"
      ]
     },
     "metadata": {
      "needs_background": "light"
     },
     "output_type": "display_data"
    }
   ],
   "source": [
    "plt.plot(np.linspace(0, 2, 1000), x2['posterior_samples'][10, 1, 1] * bf.weibull_cdf(np.linspace(0, 2, 1000), alpha = x2['posterior_samples'][10, 1, 4], beta = x2['posterior_samples'][10, 1, 5]))"
   ]
  },
  {
   "cell_type": "code",
   "execution_count": 268,
   "metadata": {},
   "outputs": [
    {
     "data": {
      "text/plain": [
       "[<matplotlib.lines.Line2D at 0x1529ead10>]"
      ]
     },
     "execution_count": 268,
     "metadata": {},
     "output_type": "execute_result"
    },
    {
     "data": {
      "image/png": "[encoded data removed]",
      "text/plain": [
       "<Figure size 432x288 with 1 Axes>"
      ]
     },
     "metadata": {
      "needs_background": "light"
     },
     "output_type": "display_data"
    }
   ],
   "source": [
    "plt.plot(np.linspace(0, 2, 1000), x2['gt'][10, 1] * bf.weibull_cdf(np.linspace(0, 2, 1000), alpha = x2['gt'][10, 4], beta = x2['gt'][10, 5]))"
   ]
  },
  {
   "cell_type": "code",
   "execution_count": 269,
   "metadata": {},
   "outputs": [
    {
     "data": {
      "text/plain": [
       "(array([  2.,   0.,   0.,   1.,   1.,   3.,   5.,   7.,   1.,   3.,  10.,\n",
       "          5.,   7.,   8.,   9.,  16.,  18.,  14.,  22.,  21.,  35.,  39.,\n",
       "         41.,  54.,  49.,  60.,  68.,  72.,  97., 101., 123., 132., 175.,\n",
       "        228., 203.,  83.,   0.,   0.,   0.,   0.,   0.,   0.,   0.,   0.,\n",
       "          0.,   0.,   0.,   0.,   0.,   0.,   0.,   0.,   0.,   0.,   0.,\n",
       "          0.,   0.,   1.,  10.,  28.,  43.,  67.,  50.,  62.,  60.,  73.,\n",
       "         57.,  48.,  40.,  39.,  28.,  28.,  24.,  21.,  20.,  22.,   9.,\n",
       "         11.,  13.,   5.,   6.,   5.,   4.,   4.,   2.,   0.,   0.,   1.,\n",
       "          1.,   1.,   0.,   0.,   0.,   1.,   0.,   1.,   0.,   0.,   0.,\n",
       "          2.]),\n",
       " array([-2.21964145, -2.17164857, -2.1236557 , -2.07566283, -2.02766995,\n",
       "        -1.97967708, -1.93168421, -1.88369133, -1.83569846, -1.78770559,\n",
       "        -1.73971272, -1.69171984, -1.64372697, -1.5957341 , -1.54774122,\n",
       "        -1.49974835, -1.45175548, -1.4037626 , -1.35576973, -1.30777686,\n",
       "        -1.25978398, -1.21179111, -1.16379824, -1.11580536, -1.06781249,\n",
       "        -1.01981962, -0.97182674, -0.92383387, -0.875841  , -0.82784812,\n",
       "        -0.77985525, -0.73186238, -0.6838695 , -0.63587663, -0.58788376,\n",
       "        -0.53989089, -0.49189801, -0.44390514, -0.39591227, -0.34791939,\n",
       "        -0.29992652, -0.25193365, -0.20394077, -0.1559479 , -0.10795503,\n",
       "        -0.05996215, -0.01196928,  0.03602359,  0.08401647,  0.13200934,\n",
       "         0.18000221,  0.22799509,  0.27598796,  0.32398083,  0.37197371,\n",
       "         0.41996658,  0.46795945,  0.51595232,  0.5639452 ,  0.61193807,\n",
       "         0.65993094,  0.70792382,  0.75591669,  0.80390956,  0.85190244,\n",
       "         0.89989531,  0.94788818,  0.99588106,  1.04387393,  1.0918668 ,\n",
       "         1.13985968,  1.18785255,  1.23584542,  1.2838383 ,  1.33183117,\n",
       "         1.37982404,  1.42781692,  1.47580979,  1.52380266,  1.57179554,\n",
       "         1.61978841,  1.66778128,  1.71577415,  1.76376703,  1.8117599 ,\n",
       "         1.85975277,  1.90774565,  1.95573852,  2.00373139,  2.05172427,\n",
       "         2.09971714,  2.14771001,  2.19570289,  2.24369576,  2.29168863,\n",
       "         2.33968151,  2.38767438,  2.43566725,  2.48366013,  2.531653  ,\n",
       "         2.57964587]),\n",
       " <a list of 100 Patch objects>)"
      ]
     },
     "execution_count": 269,
     "metadata": {},
     "output_type": "execute_result"
    },
    {
     "data": {
      "image/png": "[encoded data removed]",
      "text/plain": [
       "<Figure size 432x288 with 1 Axes>"
      ]
     },
     "metadata": {
      "needs_background": "light"
     },
     "output_type": "display_data"
    }
   ],
   "source": [
    "plt.hist(out[0] * out[1], bins = 100, alpha = 0.2)\n",
    "plt.hist(outp[0] * outp[1], bins = 100, alpha = 0.2)"
   ]
  },
  {
   "cell_type": "code",
   "execution_count": 270,
   "metadata": {},
   "outputs": [
    {
     "name": "stdout",
     "output_type": "stream",
     "text": [
      "0\n",
      "10\n",
      "20\n",
      "30\n",
      "40\n",
      "50\n",
      "60\n",
      "70\n",
      "80\n",
      "90\n",
      "100\n",
      "110\n",
      "120\n",
      "130\n",
      "140\n",
      "150\n",
      "160\n",
      "170\n",
      "180\n",
      "190\n",
      "200\n",
      "210\n",
      "220\n",
      "230\n",
      "240\n",
      "250\n",
      "260\n",
      "270\n",
      "280\n",
      "290\n",
      "300\n",
      "310\n",
      "320\n",
      "330\n",
      "340\n",
      "350\n",
      "360\n",
      "370\n",
      "380\n",
      "390\n",
      "400\n",
      "410\n",
      "420\n",
      "430\n",
      "440\n",
      "450\n",
      "460\n",
      "470\n",
      "480\n",
      "490\n",
      "500\n",
      "510\n",
      "520\n",
      "530\n",
      "540\n",
      "550\n",
      "560\n",
      "570\n",
      "580\n",
      "590\n",
      "600\n",
      "610\n",
      "620\n",
      "630\n",
      "640\n",
      "650\n",
      "660\n",
      "670\n",
      "680\n",
      "690\n",
      "700\n",
      "710\n",
      "720\n",
      "730\n",
      "740\n",
      "750\n",
      "760\n",
      "770\n",
      "780\n",
      "790\n",
      "800\n",
      "810\n",
      "820\n",
      "830\n",
      "840\n",
      "850\n",
      "860\n",
      "870\n",
      "880\n",
      "890\n",
      "900\n",
      "910\n",
      "920\n",
      "930\n",
      "940\n",
      "950\n",
      "960\n",
      "970\n",
      "980\n",
      "990\n"
     ]
    }
   ],
   "source": [
    "x2['a_of_t_dist_in'], x2['a_of_t_dist_out'], x2['a_of_t_gt_in'], x2['a_of_t_gt_out'], x2['a_of_t_post_in'], x2['a_of_t_post_out'] = a_of_t_reg_data_prep(mcmc_dict = x2,\n",
    "                                                                                                                                                   model = 'weibull_cdf',\n",
    "                                                                                                                                                   n_eval_points = 1000,\n",
    "                                                                                                                                                   max_t = 20,\n",
    "#                                                                                                                                                    p_lims = [0.01, 0.99],\n",
    "                                                                                                                                                   n_posterior_subsample = 10,\n",
    "                                                                                                                                                   split_ecdf = False,\n",
    "                                                                                                                                                   bnd_epsilon = 0.05)"
   ]
  },
  {
   "cell_type": "code",
   "execution_count": null,
   "metadata": {},
   "outputs": [],
   "source": [
    " x['a_of_t_gt_in'], x['a_of_t_gt_out'], x['a_of_t_post_in'], x['a_of_t_post_out']"
   ]
  },
  {
   "cell_type": "code",
   "execution_count": 271,
   "metadata": {},
   "outputs": [
    {
     "data": {
      "text/plain": [
       "<matplotlib.collections.PathCollection at 0x152d19a10>"
      ]
     },
     "execution_count": 271,
     "metadata": {},
     "output_type": "execute_result"
    },
    {
     "data": {
      "image/png": "[encoded data removed]",
      "text/plain": [
       "<Figure size 432x288 with 1 Axes>"
      ]
     },
     "metadata": {
      "needs_background": "light"
     },
     "output_type": "display_data"
    }
   ],
   "source": [
    "plt.scatter(x2['a_of_t_gt_in'],x2['a_of_t_post_in'])"
   ]
  },
  {
   "cell_type": "code",
   "execution_count": 272,
   "metadata": {},
   "outputs": [
    {
     "data": {
      "text/plain": [
       "<matplotlib.collections.PathCollection at 0x1535a08d0>"
      ]
     },
     "execution_count": 272,
     "metadata": {},
     "output_type": "execute_result"
    },
    {
     "data": {
      "image/png": "[encoded data removed]",
      "text/plain": [
       "<Figure size 432x288 with 1 Axes>"
      ]
     },
     "metadata": {
      "needs_background": "light"
     },
     "output_type": "display_data"
    }
   ],
   "source": [
    "plt.scatter( x2['a_of_t_gt_out'], x2['a_of_t_post_out'])"
   ]
  },
  {
   "cell_type": "code",
   "execution_count": 273,
   "metadata": {},
   "outputs": [],
   "source": [
    "from sklearn.linear_model import LinearRegression\n",
    "\n",
    "reg_out = LinearRegression().fit(np.asmatrix(x2['a_of_t_gt_out']).T, np.asmatrix(x2['a_of_t_post_out']).T)\n",
    "reg_in = LinearRegression().fit(np.asmatrix(x2['a_of_t_gt_in']).T, np.asmatrix(x2['a_of_t_post_in']).T)"
   ]
  },
  {
   "cell_type": "code",
   "execution_count": 274,
   "metadata": {},
   "outputs": [],
   "source": [
    "reg_out = LinearRegression().fit(np.asmatrix(x2['a_of_t_gt_out']).T, np.asmatrix(x2['a_of_t_post_out']).T)\n",
    "reg_in = LinearRegression().fit(np.asmatrix(x2['a_of_t_gt_in']).T, np.asmatrix(x2['a_of_t_post_in']).T)"
   ]
  },
  {
   "cell_type": "code",
   "execution_count": 275,
   "metadata": {},
   "outputs": [],
   "source": [
    "r_out = reg_out.score(np.asmatrix(x2['a_of_t_gt_out']).T, np.asmatrix(x2['a_of_t_post_out']).T)"
   ]
  },
  {
   "cell_type": "code",
   "execution_count": 276,
   "metadata": {},
   "outputs": [],
   "source": [
    "r_in = reg_in.score(np.asmatrix(x2['a_of_t_gt_in']).T, np.asmatrix(x2['a_of_t_post_in']).T)"
   ]
  },
  {
   "cell_type": "code",
   "execution_count": 277,
   "metadata": {},
   "outputs": [],
   "source": [
    "r_prime_out = 1/2 * np.log((1 + r_out) / (1 - r_out))\n",
    "r_prime_in = 1/2 * np.log((1 + r_in) / (1 - r_in))\n",
    "S = np.sqrt((1 / (1000 - 3) + 1 / (1000 - 3)))\n",
    "z = np.abs((r_prime_out - r_prime_in) / S)"
   ]
  },
  {
   "cell_type": "code",
   "execution_count": 285,
   "metadata": {},
   "outputs": [
    {
     "data": {
      "text/plain": [
       "8.776105382886197"
      ]
     },
     "execution_count": 285,
     "metadata": {},
     "output_type": "execute_result"
    }
   ],
   "source": [
    "z"
   ]
  },
  {
   "cell_type": "code",
   "execution_count": 284,
   "metadata": {},
   "outputs": [
    {
     "name": "stdout",
     "output_type": "stream",
     "text": [
      "0\n",
      "100\n",
      "200\n",
      "300\n",
      "400\n",
      "500\n",
      "600\n",
      "700\n",
      "800\n",
      "900\n",
      "1000\n",
      "1100\n",
      "1200\n",
      "1300\n",
      "1400\n",
      "1500\n",
      "1600\n",
      "1700\n",
      "1800\n",
      "1900\n",
      "2000\n",
      "2100\n",
      "2200\n",
      "2300\n",
      "2400\n",
      "2500\n",
      "2600\n",
      "2700\n",
      "2800\n",
      "2900\n",
      "3000\n",
      "3100\n",
      "3200\n",
      "3300\n",
      "3400\n",
      "3500\n",
      "3600\n",
      "3700\n",
      "3800\n",
      "3900\n",
      "4000\n",
      "4100\n",
      "4200\n",
      "4300\n",
      "4400\n",
      "4500\n",
      "4600\n",
      "4700\n",
      "4800\n",
      "4900\n",
      "5000\n",
      "5100\n",
      "5200\n",
      "5300\n",
      "5400\n",
      "5500\n",
      "5600\n",
      "5700\n",
      "5800\n",
      "5900\n",
      "6000\n",
      "6100\n",
      "6200\n",
      "6300\n",
      "6400\n",
      "6500\n",
      "6600\n",
      "6700\n",
      "6800\n",
      "6900\n",
      "7000\n",
      "7100\n",
      "7200\n",
      "7300\n",
      "7400\n",
      "7500\n",
      "7600\n",
      "7700\n",
      "7800\n",
      "7900\n",
      "8000\n",
      "8100\n",
      "8200\n",
      "8300\n",
      "8400\n",
      "8500\n",
      "8600\n",
      "8700\n",
      "8800\n",
      "8900\n",
      "9000\n",
      "9100\n",
      "9200\n",
      "9300\n",
      "9400\n",
      "9500\n",
      "9600\n",
      "9700\n",
      "9800\n",
      "9900\n"
     ]
    }
   ],
   "source": [
    "B = 10000\n",
    "r_diff = []\n",
    "for i in range(B):\n",
    "    sample = np.random.choice(x2['a_of_t_gt_out'].shape[0] , size = x2['a_of_t_gt_out'].shape[0] ,replace = True)\n",
    "    r_out_tmp = reg_out.score(np.asmatrix(x2['a_of_t_gt_out'][sample]).T, np.asmatrix(x2['a_of_t_post_out'][sample]).T)\n",
    "    r_in_tmp = reg_in.score(np.asmatrix(x2['a_of_t_gt_in'][sample]).T, np.asmatrix(x2['a_of_t_post_in'][sample]).T)\n",
    "    r_diff.append(r_in_tmp - r_out_tmp)\n",
    "    if i % 100 == 0:\n",
    "        print(i)"
   ]
  },
  {
   "cell_type": "code",
   "execution_count": 286,
   "metadata": {},
   "outputs": [],
   "source": [
    "r_diff_cdf = ECDF(r_diff)"
   ]
  },
  {
   "cell_type": "code",
   "execution_count": 287,
   "metadata": {},
   "outputs": [
    {
     "data": {
      "text/plain": [
       "0.03203203203203203"
      ]
     },
     "execution_count": 287,
     "metadata": {},
     "output_type": "execute_result"
    }
   ],
   "source": [
    "np.linspace(0,0.1, 1000)[r_diff_cdf(np.linspace(0,0.1, 1000)) < 0.05][-1]"
   ]
  },
  {
   "cell_type": "code",
   "execution_count": 312,
   "metadata": {},
   "outputs": [],
   "source": [
    "def a_of_t_panel():\n",
    "\n",
    "    fig, ax = plt.subplots(2, \n",
    "                           2, \n",
    "                           figsize = (10, 10), \n",
    "                           sharex = False, \n",
    "                           sharey = False)\n",
    "\n",
    "    ax[0, 0].scatter(x2['a_of_t_gt_in'],x2['a_of_t_post_in'], color = 'black', alpha = 0.5)\n",
    "    ax[0, 0].set_title('Boundary Recovery: At Data', fontsize = 16)\n",
    "    ax[0, 0].text(0.7, 0.1, \n",
    "                  '$R^2$: ' + str(round(r_in,2)), \n",
    "                  transform = ax[0, 0].transAxes, \n",
    "                  fontsize = 14)\n",
    "    ax[0, 0].set_xlabel('True', fontsize = 14)\n",
    "    ax[0, 0].set_ylabel('Recovered', fontsize = 14)\n",
    "    ax[0, 0].tick_params(labelsize = 12)\n",
    "\n",
    "\n",
    "    ax[0, 1].scatter(x2['a_of_t_gt_out'], x2['a_of_t_post_out'], color = 'black', alpha = 0.5)\n",
    "    ax[0, 1].set_title('Boundary Recovery: Out of Data', fontsize = 16)\n",
    "    ax[0, 1].text(0.7, 0.1,\n",
    "                 '$R^2$: ' + str(round(r_out, 2)), \n",
    "                  transform = ax[0, 1].transAxes, \n",
    "                  fontsize = 14)\n",
    "    ax[0, 1].set_xlabel('True', fontsize = 14)\n",
    "    ax[0, 1].set_ylabel('Recovered', fontsize = 14)\n",
    "    ax[0, 1].tick_params(labelsize = 12)\n",
    "\n",
    "\n",
    "    ax[1, 0].hist(r_diff, density = True, bins = 50, histtype = 'step', color = 'black')\n",
    "    ax[1, 0].axvline(x = np.linspace(0,0.1, 1000)[r_diff_cdf(np.linspace(0,0.1, 1000)) < 0.05][-1], color = 'red', linestyle = '-.')\n",
    "    ax[1, 0].axvline(x = np.linspace(0,0.1, 1000)[r_diff_cdf(np.linspace(0,0.1, 1000)) > 0.95][0], color = 'red', linestyle = '-.')\n",
    "    #ax[1, 0].text(0.14, 30, 'z-score: ' + str(round(z, 2)) , ha = 'center', fontsize = 14)\n",
    "    ax[1, 0].set_title('Bootstrap Correlation Difference', fontsize = 16)\n",
    "    ax[1, 0].set_xlim(left = 0.0) #, 0.2)\n",
    "    mylims_x = ax[1, 0].get_xlim()\n",
    "    mylims_y = ax[1, 0].get_ylim()\n",
    "    ax[1, 0].set_xlim(right = mylims_x[1] * 2)\n",
    "    mylims_x = ax[1, 0].get_xlim()\n",
    "    #mylims_y = ax[1, 0].get_ylim()\n",
    "    ax[1, 0].text(mylims_x[0] + (2 / 3) * (mylims_x[1] - mylims_x[0]), mylims_y[0] + (1/2) * (mylims_y[1] - mylims_y[0]), 'z-score: ' + str(round(z, 2)) , ha = 'center', fontsize = 14)\n",
    "    ax[1, 0].tick_params(axis = 'x', labelrotation = -45) # to Rotate Xticks Label Text\n",
    "    ax[1, 0].tick_params(labelsize = 12)\n",
    "\n",
    "    ax[1, 1].set_title(r'$\\frac{1}{T} \\int_T(GT(t) - Recovered(t))^2 dt$', fontsize = 16)\n",
    "    ax[1, 1].hist(x2['a_of_t_dist_in'][~np.isnan(x2['a_of_t_dist_in'])], bins = np.linspace(0, 0.5, 100), alpha = 0.2, color = 'red', label = 'At Data', density = True)\n",
    "    ax[1, 1].hist(x2['a_of_t_dist_out'][~np.isnan(x2['a_of_t_dist_out'])], bins = np.linspace(0, 0.5, 100), alpha = 0.2, color = 'black', label = 'Out of Data', density = True)\n",
    "    ax[1, 1].tick_params(labelsize = 12)\n",
    "    ax[1, 1].legend(fontsize = 12)\n",
    "    #mylims_y = ax[1, 0].get_ylim()\n",
    "    #mylims_x = ax[1, 0].get_xlim()\n",
    "    plt.tight_layout()\n",
    "    plt.show()\n",
    "    return mylims_y, mylims_x"
   ]
  },
  {
   "cell_type": "code",
   "execution_count": 313,
   "metadata": {},
   "outputs": [
    {
     "data": {
      "image/png": "[encoded data removed]",
      "text/plain": [
       "<Figure size 720x720 with 4 Axes>"
      ]
     },
     "metadata": {
      "needs_background": "light"
     },
     "output_type": "display_data"
    },
    {
     "data": {
      "text/plain": [
       "((0.0, 86.08807617060127), (0.0, 0.1204640306800053))"
      ]
     },
     "execution_count": 313,
     "metadata": {},
     "output_type": "execute_result"
    }
   ],
   "source": [
    "a_of_t_panel()"
   ]
  },
  {
   "cell_type": "code",
   "execution_count": 170,
   "metadata": {},
   "outputs": [
    {
     "data": {
      "text/plain": [
       "(array([441., 285., 118.,  48.,  50.,  20.,  12.,   7.,   3.,   2.,   1.,\n",
       "          1.,   2.,   2.,   2.,   0.,   0.,   1.,   1.,   0.,   1.,   0.,\n",
       "          0.,   1.,   0.,   0.,   0.,   0.,   0.,   0.,   0.,   0.,   1.,\n",
       "          0.,   0.,   0.,   0.,   0.,   0.,   1.]),\n",
       " array([0.00074016, 0.01598864, 0.03123711, 0.04648558, 0.06173406,\n",
       "        0.07698253, 0.092231  , 0.10747948, 0.12272795, 0.13797642,\n",
       "        0.1532249 , 0.16847337, 0.18372184, 0.19897032, 0.21421879,\n",
       "        0.22946726, 0.24471574, 0.25996421, 0.27521269, 0.29046116,\n",
       "        0.30570963, 0.32095811, 0.33620658, 0.35145505, 0.36670353,\n",
       "        0.381952  , 0.39720047, 0.41244895, 0.42769742, 0.44294589,\n",
       "        0.45819437, 0.47344284, 0.48869131, 0.50393979, 0.51918826,\n",
       "        0.53443673, 0.54968521, 0.56493368, 0.58018215, 0.59543063,\n",
       "        0.6106791 ]),\n",
       " <a list of 40 Patch objects>)"
      ]
     },
     "execution_count": 170,
     "metadata": {},
     "output_type": "execute_result"
    },
    {
     "data": {
      "image/png": "[encoded data removed]",
      "text/plain": [
       "<Figure size 432x288 with 1 Axes>"
      ]
     },
     "metadata": {
      "needs_background": "light"
     },
     "output_type": "display_data"
    }
   ],
   "source": [
    "plt.hist(x2['a_of_t_dist_in'][~np.isnan(x['a_of_t_dist_in'])], bins = 40, alpha = 0.2, color = 'red', )\n",
    "plt.hist(x['a_of_t_dist_out'][~np.isnan(x['a_of_t_dist_out'])], bins = 40, alpha = 0.2, color = 'black', )"
   ]
  },
  {
   "cell_type": "code",
   "execution_count": 163,
   "metadata": {},
   "outputs": [
    {
     "ename": "ValueError",
     "evalue": "Found input variables with inconsistent numbers of samples: [200, 1000]",
     "output_type": "error",
     "traceback": [
      "\u001b[0;31m---------------------------------------------------------------------------\u001b[0m",
      "\u001b[0;31mValueError\u001b[0m                                Traceback (most recent call last)",
      "\u001b[0;32m<ipython-input-163-67db594ad59d>\u001b[0m in \u001b[0;36m<module>\u001b[0;34m\u001b[0m\n\u001b[0;32m----> 1\u001b[0;31m \u001b[0mr_out\u001b[0m \u001b[0;34m=\u001b[0m \u001b[0mreg\u001b[0m \u001b[0;34m=\u001b[0m \u001b[0mLinearRegression\u001b[0m\u001b[0;34m(\u001b[0m\u001b[0;34m)\u001b[0m\u001b[0;34m.\u001b[0m\u001b[0mfit\u001b[0m\u001b[0;34m(\u001b[0m\u001b[0mnp\u001b[0m\u001b[0;34m.\u001b[0m\u001b[0masmatrix\u001b[0m\u001b[0;34m(\u001b[0m\u001b[0mx\u001b[0m\u001b[0;34m[\u001b[0m\u001b[0;34m'a_of_t_gt_out'\u001b[0m\u001b[0;34m]\u001b[0m\u001b[0;34m)\u001b[0m\u001b[0;34m.\u001b[0m\u001b[0mT\u001b[0m\u001b[0;34m,\u001b[0m \u001b[0mnp\u001b[0m\u001b[0;34m.\u001b[0m\u001b[0masmatrix\u001b[0m\u001b[0;34m(\u001b[0m\u001b[0mnorm_x\u001b[0m\u001b[0;34m)\u001b[0m\u001b[0;34m.\u001b[0m\u001b[0mT\u001b[0m \u001b[0;34m)\u001b[0m\u001b[0;34m\u001b[0m\u001b[0;34m\u001b[0m\u001b[0m\n\u001b[0m",
      "\u001b[0;32m~/opt/miniconda3/lib/python3.7/site-packages/sklearn/linear_model/base.py\u001b[0m in \u001b[0;36mfit\u001b[0;34m(self, X, y, sample_weight)\u001b[0m\n\u001b[1;32m    456\u001b[0m         \u001b[0mn_jobs_\u001b[0m \u001b[0;34m=\u001b[0m \u001b[0mself\u001b[0m\u001b[0;34m.\u001b[0m\u001b[0mn_jobs\u001b[0m\u001b[0;34m\u001b[0m\u001b[0;34m\u001b[0m\u001b[0m\n\u001b[1;32m    457\u001b[0m         X, y = check_X_y(X, y, accept_sparse=['csr', 'csc', 'coo'],\n\u001b[0;32m--> 458\u001b[0;31m                          y_numeric=True, multi_output=True)\n\u001b[0m\u001b[1;32m    459\u001b[0m \u001b[0;34m\u001b[0m\u001b[0m\n\u001b[1;32m    460\u001b[0m         \u001b[0;32mif\u001b[0m \u001b[0msample_weight\u001b[0m \u001b[0;32mis\u001b[0m \u001b[0;32mnot\u001b[0m \u001b[0;32mNone\u001b[0m \u001b[0;32mand\u001b[0m \u001b[0mnp\u001b[0m\u001b[0;34m.\u001b[0m\u001b[0matleast_1d\u001b[0m\u001b[0;34m(\u001b[0m\u001b[0msample_weight\u001b[0m\u001b[0;34m)\u001b[0m\u001b[0;34m.\u001b[0m\u001b[0mndim\u001b[0m \u001b[0;34m>\u001b[0m \u001b[0;36m1\u001b[0m\u001b[0;34m:\u001b[0m\u001b[0;34m\u001b[0m\u001b[0;34m\u001b[0m\u001b[0m\n",
      "\u001b[0;32m~/opt/miniconda3/lib/python3.7/site-packages/sklearn/utils/validation.py\u001b[0m in \u001b[0;36mcheck_X_y\u001b[0;34m(X, y, accept_sparse, accept_large_sparse, dtype, order, copy, force_all_finite, ensure_2d, allow_nd, multi_output, ensure_min_samples, ensure_min_features, y_numeric, warn_on_dtype, estimator)\u001b[0m\n\u001b[1;32m    764\u001b[0m         \u001b[0my\u001b[0m \u001b[0;34m=\u001b[0m \u001b[0my\u001b[0m\u001b[0;34m.\u001b[0m\u001b[0mastype\u001b[0m\u001b[0;34m(\u001b[0m\u001b[0mnp\u001b[0m\u001b[0;34m.\u001b[0m\u001b[0mfloat64\u001b[0m\u001b[0;34m)\u001b[0m\u001b[0;34m\u001b[0m\u001b[0;34m\u001b[0m\u001b[0m\n\u001b[1;32m    765\u001b[0m \u001b[0;34m\u001b[0m\u001b[0m\n\u001b[0;32m--> 766\u001b[0;31m     \u001b[0mcheck_consistent_length\u001b[0m\u001b[0;34m(\u001b[0m\u001b[0mX\u001b[0m\u001b[0;34m,\u001b[0m \u001b[0my\u001b[0m\u001b[0;34m)\u001b[0m\u001b[0;34m\u001b[0m\u001b[0;34m\u001b[0m\u001b[0m\n\u001b[0m\u001b[1;32m    767\u001b[0m \u001b[0;34m\u001b[0m\u001b[0m\n\u001b[1;32m    768\u001b[0m     \u001b[0;32mreturn\u001b[0m \u001b[0mX\u001b[0m\u001b[0;34m,\u001b[0m \u001b[0my\u001b[0m\u001b[0;34m\u001b[0m\u001b[0;34m\u001b[0m\u001b[0m\n",
      "\u001b[0;32m~/opt/miniconda3/lib/python3.7/site-packages/sklearn/utils/validation.py\u001b[0m in \u001b[0;36mcheck_consistent_length\u001b[0;34m(*arrays)\u001b[0m\n\u001b[1;32m    233\u001b[0m     \u001b[0;32mif\u001b[0m \u001b[0mlen\u001b[0m\u001b[0;34m(\u001b[0m\u001b[0muniques\u001b[0m\u001b[0;34m)\u001b[0m \u001b[0;34m>\u001b[0m \u001b[0;36m1\u001b[0m\u001b[0;34m:\u001b[0m\u001b[0;34m\u001b[0m\u001b[0;34m\u001b[0m\u001b[0m\n\u001b[1;32m    234\u001b[0m         raise ValueError(\"Found input variables with inconsistent numbers of\"\n\u001b[0;32m--> 235\u001b[0;31m                          \" samples: %r\" % [int(l) for l in lengths])\n\u001b[0m\u001b[1;32m    236\u001b[0m \u001b[0;34m\u001b[0m\u001b[0m\n\u001b[1;32m    237\u001b[0m \u001b[0;34m\u001b[0m\u001b[0m\n",
      "\u001b[0;31mValueError\u001b[0m: Found input variables with inconsistent numbers of samples: [200, 1000]"
     ]
    }
   ],
   "source": [
    "r_out = reg = LinearRegression().fit(np.asmatrix(x['a_of_t_gt_out']).T, np.asmatrix(norm_x).T )"
   ]
  },
  {
   "cell_type": "code",
   "execution_count": null,
   "metadata": {},
   "outputs": [],
   "source": [
    "r_in = reg.score(np.asmatrix(x['a_of_t_gt_out']).T, np.asmatrix(norm_x).T )"
   ]
  },
  {
   "cell_type": "code",
   "execution_count": 69,
   "metadata": {},
   "outputs": [
    {
     "data": {
      "text/plain": [
       "(1, 1000)"
      ]
     },
     "execution_count": 69,
     "metadata": {},
     "output_type": "execute_result"
    }
   ],
   "source": [
    "np.asmatrix(norm_x).shape"
   ]
  },
  {
   "cell_type": "code",
   "execution_count": 45,
   "metadata": {},
   "outputs": [
    {
     "data": {
      "text/plain": [
       "(1000,)"
      ]
     },
     "execution_count": 45,
     "metadata": {},
     "output_type": "execute_result"
    }
   ],
   "source": [
    "x['a_of_t_post_out'].shape"
   ]
  },
  {
   "cell_type": "code",
   "execution_count": 47,
   "metadata": {},
   "outputs": [
    {
     "data": {
      "text/plain": [
       "(1000,)"
      ]
     },
     "execution_count": 47,
     "metadata": {},
     "output_type": "execute_result"
    }
   ],
   "source": [
    "x['a_of_t_gt_out'].shape"
   ]
  },
  {
   "cell_type": "code",
   "execution_count": 75,
   "metadata": {},
   "outputs": [
    {
     "data": {
      "text/plain": [
       "0.9112401801890077"
      ]
     },
     "execution_count": 75,
     "metadata": {},
     "output_type": "execute_result"
    }
   ],
   "source": [
    "reg.score(np.asmatrix(x['a_of_t_gt_out']).T, np.asmatrix(x['a_of_t_post_out']).T)"
   ]
  },
  {
   "cell_type": "code",
   "execution_count": 85,
   "metadata": {},
   "outputs": [
    {
     "ename": "ValueError",
     "evalue": "operands could not be broadcast together with shapes (1000,) (3,) ",
     "output_type": "error",
     "traceback": [
      "\u001b[0;31m---------------------------------------------------------------------------\u001b[0m",
      "\u001b[0;31mValueError\u001b[0m                                Traceback (most recent call last)",
      "\u001b[0;32m<ipython-input-85-14dacdef2bf7>\u001b[0m in \u001b[0;36m<module>\u001b[0;34m\u001b[0m\n\u001b[0;32m----> 1\u001b[0;31m \u001b[0mbf\u001b[0m\u001b[0;34m.\u001b[0m\u001b[0mweibull_cdf\u001b[0m\u001b[0;34m(\u001b[0m\u001b[0mnp\u001b[0m\u001b[0;34m.\u001b[0m\u001b[0mlinspace\u001b[0m\u001b[0;34m(\u001b[0m\u001b[0;36m0\u001b[0m\u001b[0;34m,\u001b[0m \u001b[0;36m20\u001b[0m\u001b[0;34m,\u001b[0m \u001b[0;36m1000\u001b[0m\u001b[0;34m)\u001b[0m\u001b[0;34m,\u001b[0m \u001b[0malpha\u001b[0m \u001b[0;34m=\u001b[0m \u001b[0mnp\u001b[0m\u001b[0;34m.\u001b[0m\u001b[0marray\u001b[0m\u001b[0;34m(\u001b[0m\u001b[0;34m[\u001b[0m\u001b[0;36m1\u001b[0m\u001b[0;34m,\u001b[0m \u001b[0;36m2\u001b[0m\u001b[0;34m,\u001b[0m \u001b[0;36m3\u001b[0m\u001b[0;34m]\u001b[0m\u001b[0;34m)\u001b[0m\u001b[0;34m,\u001b[0m \u001b[0mbeta\u001b[0m \u001b[0;34m=\u001b[0m \u001b[0mnp\u001b[0m\u001b[0;34m.\u001b[0m\u001b[0marray\u001b[0m\u001b[0;34m(\u001b[0m\u001b[0;34m[\u001b[0m\u001b[0;36m1\u001b[0m\u001b[0;34m,\u001b[0m \u001b[0;36m2\u001b[0m\u001b[0;34m,\u001b[0m \u001b[0;36m3\u001b[0m\u001b[0;34m]\u001b[0m\u001b[0;34m)\u001b[0m\u001b[0;34m)\u001b[0m\u001b[0;34m\u001b[0m\u001b[0;34m\u001b[0m\u001b[0m\n\u001b[0m",
      "\u001b[0;32m~/OneDrive/git_repos/nn_likelihoods/boundary_functions.py\u001b[0m in \u001b[0;36mweibull_cdf\u001b[0;34m(t, alpha, beta)\u001b[0m\n\u001b[1;32m     26\u001b[0m                 \u001b[0malpha\u001b[0m  \u001b[0;34m=\u001b[0m \u001b[0;36m1\u001b[0m\u001b[0;34m,\u001b[0m\u001b[0;34m\u001b[0m\u001b[0;34m\u001b[0m\u001b[0m\n\u001b[1;32m     27\u001b[0m                 beta = 1):\n\u001b[0;32m---> 28\u001b[0;31m     \u001b[0;32mreturn\u001b[0m \u001b[0mnp\u001b[0m\u001b[0;34m.\u001b[0m\u001b[0mexp\u001b[0m\u001b[0;34m(\u001b[0m \u001b[0;34m-\u001b[0m \u001b[0mnp\u001b[0m\u001b[0;34m.\u001b[0m\u001b[0mpower\u001b[0m\u001b[0;34m(\u001b[0m \u001b[0mnp\u001b[0m\u001b[0;34m.\u001b[0m\u001b[0mdivide\u001b[0m\u001b[0;34m(\u001b[0m\u001b[0mt\u001b[0m\u001b[0;34m,\u001b[0m \u001b[0mbeta\u001b[0m\u001b[0;34m)\u001b[0m\u001b[0;34m,\u001b[0m \u001b[0malpha\u001b[0m\u001b[0;34m)\u001b[0m\u001b[0;34m)\u001b[0m\u001b[0;34m\u001b[0m\u001b[0;34m\u001b[0m\u001b[0m\n\u001b[0m\u001b[1;32m     29\u001b[0m \u001b[0;34m\u001b[0m\u001b[0m\n\u001b[1;32m     30\u001b[0m \u001b[0;31m# # Gamma shape: (additive)\u001b[0m\u001b[0;34m\u001b[0m\u001b[0;34m\u001b[0m\u001b[0;34m\u001b[0m\u001b[0m\n",
      "\u001b[0;31mValueError\u001b[0m: operands could not be broadcast together with shapes (1000,) (3,) "
     ]
    }
   ],
   "source": [
    "bf.weibull_cdf(np.linspace(0, 20, 1000), alpha = np.array([1, 2, 3]), beta = np.array([1, 2, 3]))"
   ]
  },
  {
   "cell_type": "code",
   "execution_count": 101,
   "metadata": {},
   "outputs": [],
   "source": [
    "in_ = np.zeros(100, dtype = np.bool)"
   ]
  },
  {
   "cell_type": "code",
   "execution_count": 18,
   "metadata": {},
   "outputs": [
    {
     "data": {
      "text/plain": [
       "array([[[0.   , 0.   ],\n",
       "        [0.423, 0.142],\n",
       "        [0.247, 0.188],\n",
       "        ...,\n",
       "        [0.   , 0.   ],\n",
       "        [0.   , 0.   ],\n",
       "        [0.   , 0.   ]],\n",
       "\n",
       "       [[0.017, 0.   ],\n",
       "        [0.198, 0.   ],\n",
       "        [0.134, 0.016],\n",
       "        ...,\n",
       "        [0.   , 0.   ],\n",
       "        [0.   , 0.   ],\n",
       "        [0.   , 0.   ]],\n",
       "\n",
       "       [[0.   , 0.   ],\n",
       "        [0.   , 0.   ],\n",
       "        [0.   , 0.   ],\n",
       "        ...,\n",
       "        [0.   , 0.   ],\n",
       "        [0.   , 0.   ],\n",
       "        [0.   , 0.   ]],\n",
       "\n",
       "       ...,\n",
       "\n",
       "       [[0.   , 0.   ],\n",
       "        [0.   , 0.   ],\n",
       "        [0.   , 0.   ],\n",
       "        ...,\n",
       "        [0.   , 0.   ],\n",
       "        [0.   , 0.   ],\n",
       "        [0.   , 0.   ]],\n",
       "\n",
       "       [[0.   , 0.   ],\n",
       "        [0.   , 0.   ],\n",
       "        [0.   , 0.   ],\n",
       "        ...,\n",
       "        [0.   , 0.   ],\n",
       "        [0.   , 0.   ],\n",
       "        [0.   , 0.   ]],\n",
       "\n",
       "       [[0.   , 0.   ],\n",
       "        [0.028, 0.   ],\n",
       "        [0.781, 0.027],\n",
       "        ...,\n",
       "        [0.   , 0.   ],\n",
       "        [0.   , 0.   ],\n",
       "        [0.   , 0.   ]]])"
      ]
     },
     "execution_count": 18,
     "metadata": {},
     "output_type": "execute_result"
    }
   ],
   "source": [
    "x['data']"
   ]
  },
  {
   "cell_type": "code",
   "execution_count": 24,
   "metadata": {},
   "outputs": [],
   "source": [
    "def a_of_t_histogram(mcmc_dict = None,\n",
    "                     model = 'None',\n",
    "                     save = True,\n",
    "                     data_signature = '',\n",
    "                     train_data_type = '',\n",
    "                     method = 'mlp'):\n",
    "    \n",
    "    plt.hist(mcmc_dict['a_of_t_dist_out'][ ~np.isnan(mcmc_dict['a_of_t_dist_out'])], \n",
    "             bins = 40, \n",
    "             alpha = 1,\n",
    "             color = 'red', \n",
    "             histtype = 'step',\n",
    "             edgecolor = 'red',\n",
    "             label = 'Out of Data')\n",
    "    plt.hist(mcmc_dict['a_of_t_dist_in'][ ~np.isnan(mcmc_dict['a_of_t_dist_in'])], \n",
    "             bins = 40, \n",
    "             alpha = 1.0, \n",
    "             color = 'black',\n",
    "             histtype = 'step',\n",
    "             edgecolor = 'black',\n",
    "             label = 'At Data')\n",
    "    plt.title(model.upper() + ': Boundary RMSE', size = 20)\n",
    "    plt.legend()\n",
    "    \n",
    "    if save == True:\n",
    "        if machine == 'home':\n",
    "            fig_dir = \"/users/afengler/OneDrive/git_repos/nn_likelihoods/figures/\" + method + \"/a_of_t\"\n",
    "            if not os.path.isdir(fig_dir):\n",
    "                os.mkdir(fig_dir)\n",
    "            \n",
    "            figure_name = 'a_of_t_plot_'\n",
    "            plt.savefig(fig_dir + '/' + figure_name + model + data_signature + '_' + train_data_type + '.png', dpi = 300, )\n",
    "            plt.close()\n",
    "            return\n",
    "    else:\n",
    "        return plt.show()"
   ]
  },
  {
   "cell_type": "code",
   "execution_count": 20,
   "metadata": {},
   "outputs": [
    {
     "ename": "KeyError",
     "evalue": "'a_of_t_dist_out'",
     "output_type": "error",
     "traceback": [
      "\u001b[0;31m---------------------------------------------------------------------------\u001b[0m",
      "\u001b[0;31mKeyError\u001b[0m                                  Traceback (most recent call last)",
      "\u001b[0;32m<ipython-input-20-7bc275bc60dd>\u001b[0m in \u001b[0;36m<module>\u001b[0;34m\u001b[0m\n\u001b[1;32m      2\u001b[0m                  \u001b[0mmodel\u001b[0m \u001b[0;34m=\u001b[0m \u001b[0;34m'weibull_cdf'\u001b[0m\u001b[0;34m,\u001b[0m\u001b[0;34m\u001b[0m\u001b[0;34m\u001b[0m\u001b[0m\n\u001b[1;32m      3\u001b[0m                  \u001b[0msave\u001b[0m \u001b[0;34m=\u001b[0m \u001b[0;32mFalse\u001b[0m\u001b[0;34m,\u001b[0m\u001b[0;34m\u001b[0m\u001b[0;34m\u001b[0m\u001b[0m\n\u001b[0;32m----> 4\u001b[0;31m                  method = 'mlp')\n\u001b[0m",
      "\u001b[0;32m<ipython-input-19-2630abdb33d5>\u001b[0m in \u001b[0;36ma_of_t_histogram\u001b[0;34m(mcmc_dict, model, save, data_signature, train_data_type, method)\u001b[0m\n\u001b[1;32m      6\u001b[0m                      method = 'mlp'):\n\u001b[1;32m      7\u001b[0m \u001b[0;34m\u001b[0m\u001b[0m\n\u001b[0;32m----> 8\u001b[0;31m     plt.hist(mcmc_dict['a_of_t_dist_out'][ ~np.isnan(mcmc_dict['a_of_t_dist_out'])], \n\u001b[0m\u001b[1;32m      9\u001b[0m              \u001b[0mbins\u001b[0m \u001b[0;34m=\u001b[0m \u001b[0;36m40\u001b[0m\u001b[0;34m,\u001b[0m\u001b[0;34m\u001b[0m\u001b[0;34m\u001b[0m\u001b[0m\n\u001b[1;32m     10\u001b[0m              \u001b[0malpha\u001b[0m \u001b[0;34m=\u001b[0m \u001b[0;36m1\u001b[0m\u001b[0;34m,\u001b[0m\u001b[0;34m\u001b[0m\u001b[0;34m\u001b[0m\u001b[0m\n",
      "\u001b[0;31mKeyError\u001b[0m: 'a_of_t_dist_out'"
     ]
    }
   ],
   "source": [
    "a_of_t_histogram(mcmc_dict = x,\n",
    "                 model = 'weibull_cdf',\n",
    "                 save = False,\n",
    "                 method = 'mlp')"
   ]
  },
  {
   "cell_type": "code",
   "execution_count": 25,
   "metadata": {},
   "outputs": [
    {
     "name": "stdout",
     "output_type": "stream",
     "text": [
      "0\n",
      "10\n"
     ]
    },
    {
     "name": "stderr",
     "output_type": "stream",
     "text": [
      "/Users/afengler/opt/miniconda3/lib/python3.7/site-packages/numpy/core/fromnumeric.py:3118: RuntimeWarning: Mean of empty slice.\n",
      "  out=out, **kwargs)\n",
      "/Users/afengler/opt/miniconda3/lib/python3.7/site-packages/numpy/core/_methods.py:85: RuntimeWarning: invalid value encountered in double_scalars\n",
      "  ret = ret.dtype.type(ret / rcount)\n"
     ]
    },
    {
     "name": "stdout",
     "output_type": "stream",
     "text": [
      "20\n",
      "30\n",
      "40\n",
      "50\n",
      "60\n",
      "70\n",
      "80\n",
      "90\n",
      "100\n",
      "110\n",
      "120\n",
      "130\n",
      "140\n",
      "150\n",
      "160\n",
      "170\n",
      "180\n",
      "190\n",
      "200\n",
      "210\n",
      "220\n",
      "230\n",
      "240\n",
      "250\n",
      "260\n",
      "270\n",
      "280\n",
      "290\n",
      "300\n",
      "310\n",
      "320\n",
      "330\n",
      "340\n",
      "350\n",
      "360\n",
      "370\n",
      "380\n",
      "390\n",
      "400\n",
      "410\n",
      "420\n",
      "430\n",
      "440\n",
      "450\n",
      "460\n",
      "470\n",
      "480\n",
      "490\n",
      "500\n",
      "510\n",
      "520\n",
      "530\n",
      "540\n",
      "550\n",
      "560\n",
      "570\n",
      "580\n",
      "590\n",
      "600\n",
      "610\n",
      "620\n",
      "630\n",
      "640\n",
      "650\n",
      "660\n",
      "670\n",
      "680\n",
      "690\n",
      "700\n",
      "710\n",
      "720\n",
      "730\n",
      "740\n",
      "750\n",
      "760\n",
      "770\n",
      "780\n",
      "790\n",
      "800\n",
      "810\n",
      "820\n",
      "830\n",
      "840\n",
      "850\n",
      "860\n",
      "870\n",
      "880\n",
      "890\n",
      "900\n",
      "910\n",
      "920\n",
      "930\n",
      "940\n",
      "950\n",
      "960\n",
      "970\n",
      "980\n",
      "990\n"
     ]
    }
   ],
   "source": [
    "x['a_of_t_dist_in'], x['a_of_t_dist_out'] = a_of_t_data_prep(mcmc_dict = x,\n",
    "                                                             model = 'weibull_cdf',\n",
    "                                                             n_eval_points = 2000,\n",
    "                                                             max_t = 20,\n",
    "                                                             p_lims = [0.01, 0.99],\n",
    "                                                             n_posterior_subsample = 100,\n",
    "                                                             split_ecdf = False,\n",
    "                                                             bnd_epsilon = 0.05)"
   ]
  },
  {
   "cell_type": "code",
   "execution_count": 150,
   "metadata": {},
   "outputs": [
    {
     "data": {
      "text/plain": [
       "(array([607., 161.,  78.,  32.,  31.,  21.,  16.,  15.,   5.,   5.,   2.,\n",
       "          4.,   3.,   3.,   2.,   3.,   3.,   2.,   0.,   0.,   0.,   2.,\n",
       "          0.,   0.,   0.,   0.,   0.,   0.,   0.,   2.,   1.,   0.,   1.,\n",
       "          0.,   0.,   0.,   0.,   0.,   0.,   1.]),\n",
       " array([1.88428837e-04, 3.41654443e-02, 6.81424599e-02, 1.02119475e-01,\n",
       "        1.36096491e-01, 1.70073506e-01, 2.04050522e-01, 2.38027537e-01,\n",
       "        2.72004553e-01, 3.05981568e-01, 3.39958584e-01, 3.73935599e-01,\n",
       "        4.07912615e-01, 4.41889630e-01, 4.75866646e-01, 5.09843662e-01,\n",
       "        5.43820677e-01, 5.77797693e-01, 6.11774708e-01, 6.45751724e-01,\n",
       "        6.79728739e-01, 7.13705755e-01, 7.47682770e-01, 7.81659786e-01,\n",
       "        8.15636801e-01, 8.49613817e-01, 8.83590832e-01, 9.17567848e-01,\n",
       "        9.51544863e-01, 9.85521879e-01, 1.01949889e+00, 1.05347591e+00,\n",
       "        1.08745293e+00, 1.12142994e+00, 1.15540696e+00, 1.18938397e+00,\n",
       "        1.22336099e+00, 1.25733800e+00, 1.29131502e+00, 1.32529203e+00,\n",
       "        1.35926905e+00]),\n",
       " <a list of 40 Patch objects>)"
      ]
     },
     "execution_count": 150,
     "metadata": {},
     "output_type": "execute_result"
    },
    {
     "data": {
      "image/png": "[encoded data removed]",
      "text/plain": [
       "<Figure size 432x288 with 1 Axes>"
      ]
     },
     "metadata": {
      "needs_background": "light"
     },
     "output_type": "display_data"
    }
   ],
   "source": [
    "plt.hist(x['a_of_t_dist_in'][~np.isnan(x['a_of_t_dist_in'])], bins = 40, alpha = 0.2, color = 'red', )\n",
    "plt.hist(x['a_of_t_dist_out'][~np.isnan(x['a_of_t_dist_out'])], bins = 40, alpha = 0.2, color = 'black', )"
   ]
  },
  {
   "cell_type": "code",
   "execution_count": null,
   "metadata": {},
   "outputs": [],
   "source": []
  },
  {
   "cell_type": "code",
   "execution_count": 130,
   "metadata": {},
   "outputs": [
    {
     "data": {
      "text/plain": [
       "array([1.33258586e-02, 1.36633599e-03, 7.30621996e-03, 2.67824998e-03,\n",
       "       8.49194590e-03, 5.66163628e-03, 6.77958516e-04, 1.53908580e-03,\n",
       "       3.80662050e-03, 7.90688851e-03, 9.96578262e-02, 1.16104324e-02,\n",
       "       7.97324279e-03, 5.13453525e-03, 2.03878032e-03, 1.41042441e-02,\n",
       "       4.00947141e-02, 1.20874617e-02, 1.73246167e-02, 2.67127414e-02,\n",
       "       3.26430063e-03, 2.42408286e-02, 6.07373855e-03, 2.85209921e-03,\n",
       "       1.52741315e-02, 9.33852631e-04, 1.82726507e-03, 1.22998353e-03,\n",
       "       4.51417070e-03, 4.33277249e-03, 4.17699466e-03, 1.14127747e-02,\n",
       "       3.66789657e-03, 3.70780577e-03, 6.09662485e-03, 1.24775166e-02,\n",
       "       6.12814615e-03, 3.71614395e-03, 1.30475686e-03, 4.80185589e-03,\n",
       "       5.93938128e-03, 2.35507539e-02, 1.58107925e-03, 2.79421971e-03,\n",
       "       9.01226055e-03, 2.07817301e-03, 5.32105011e-02, 1.59578824e-02,\n",
       "       2.21737577e-02, 1.48144997e-03, 6.51623479e-03, 3.55002289e-03,\n",
       "       3.87268301e-02, 7.71837302e-03, 5.11673715e-03, 8.35452826e-03,\n",
       "       3.32393654e-03, 3.30619204e-02, 2.78481357e-02, 1.14346588e-01,\n",
       "       3.13551112e-03, 4.05882658e-03, 1.30278834e-02, 1.83495557e-02,\n",
       "       7.44573033e-03, 5.31466007e-03, 5.49257589e-03, 9.79648769e-03,\n",
       "       5.97734110e-03, 9.13816483e-03, 3.16231239e-03, 8.84496099e-03,\n",
       "       7.09554868e-04, 2.44992275e-02, 2.05914303e-02, 8.10900149e-03,\n",
       "       9.85840008e-03, 1.65636343e-01, 1.87762728e-03, 6.64891130e-03,\n",
       "       5.38940406e-04, 5.36610282e-03, 2.37033060e-02, 7.43193894e-03,\n",
       "       1.37760806e-02, 2.06149532e-03, 1.12314187e-02, 2.08557832e-03,\n",
       "       6.55480158e-03, 2.84548303e-03, 1.62950300e-02, 3.48824047e-03,\n",
       "       2.43898402e-03, 6.67541155e-03, 7.66809514e-03, 2.29678489e-02,\n",
       "       7.26919853e-03, 2.32575269e-02, 1.27903528e-02, 2.52974881e-03,\n",
       "       1.94570190e-03, 2.64315443e-03, 3.04527059e-03, 1.12420785e-02,\n",
       "       2.73128459e-03, 7.94218397e-04, 1.09769530e-02, 2.81356133e-02,\n",
       "       7.38489658e-04, 4.90520612e-03, 1.06538025e-02, 4.89546379e-03,\n",
       "       3.25468440e-02, 7.58551237e-03, 3.37049796e-03, 7.17511435e-03,\n",
       "       7.64889767e-03, 1.02903184e-02, 2.65963025e-03, 2.86922571e-02,\n",
       "       2.41507238e-03, 2.43747786e-02, 1.56705278e-04, 9.88479818e-04,\n",
       "       1.04649998e-02, 7.27978973e-03, 1.33638333e-03, 7.23547325e-03,\n",
       "       3.43225440e-03, 5.51317023e-03, 6.83836263e-03, 3.10690312e-03,\n",
       "       7.90658822e-03, 3.28082046e-03, 3.29310427e-03, 1.34386211e-02,\n",
       "       2.41622246e-03, 1.74664210e-02, 3.99649087e-03, 2.05268250e-03,\n",
       "       4.76646278e-02, 1.39071427e-02, 2.11129870e-04, 6.42195597e-03,\n",
       "       1.58466431e-01, 2.28327001e-03, 2.25661239e-02, 2.76288029e-02,\n",
       "       3.98236072e-03, 1.00130243e-03, 1.03380177e-03, 3.43788942e-02,\n",
       "       1.24522539e-01, 3.60652497e-03, 5.61395649e-03, 6.04986591e-02,\n",
       "       4.75215648e-02, 2.25816853e-03, 1.97425579e-02, 1.16953452e-02,\n",
       "       1.49399817e-02, 7.73659851e-03, 9.90350070e-03, 4.39273415e-02,\n",
       "       2.90936048e-03, 8.34912914e-04, 3.28712297e-03, 2.52653128e-03,\n",
       "       3.95295903e-03, 5.35499040e-03, 6.49954874e-03, 3.15058228e-03,\n",
       "       8.36891471e-03, 3.74126935e-03, 2.20656594e-03, 6.82806383e-03,\n",
       "       4.79952685e-03, 1.37937025e-02, 8.98998024e-03, 2.95339549e-03,\n",
       "       3.65722915e-04, 2.67159770e-02, 1.64329273e-02, 3.85571741e-03,\n",
       "       2.44018596e-03, 2.69034369e-03, 7.90391549e-03, 4.29211081e-03,\n",
       "       1.26033335e-03, 1.57888174e-03, 5.55840802e-03, 1.84331505e-02,\n",
       "       1.85241924e-03, 1.23534090e-02, 5.06337561e-04, 7.56595190e-03,\n",
       "       1.69588448e-03, 2.12493329e-01, 1.33276004e-02, 5.91843852e-03,\n",
       "       7.95316722e-03, 1.00075185e-02, 6.13460987e-03, 1.64436230e-02,\n",
       "       6.96913033e-02, 7.09303036e-03, 1.61234709e-04, 1.08069102e-02,\n",
       "       1.68378622e-03, 1.14461192e-02, 3.49077825e-02, 1.80946250e-02,\n",
       "       2.80596615e-03, 1.32594004e-03, 7.42618566e-03, 1.59288672e-03,\n",
       "       7.78016637e-03, 3.55722941e-02, 5.36156552e-03, 1.05175847e-02,\n",
       "       1.34882811e-02, 1.56221098e-02, 4.89896710e-03, 7.57987626e-04,\n",
       "       1.91265167e-02, 7.85450248e-04, 1.61193864e-03, 1.49631163e-02,\n",
       "       3.68922522e-02, 4.57415501e-02, 1.32678121e-02, 5.75072980e-03,\n",
       "       1.03965621e-03, 4.61061771e-02, 2.58541807e-03, 1.13205624e-03,\n",
       "       1.63585969e-03, 1.25944658e-02, 7.32790291e-03, 5.51898653e-04,\n",
       "       4.27759549e-03, 2.08470511e-02, 4.34180289e-03, 1.52528874e-03,\n",
       "       5.21675744e-03, 6.44438772e-03, 1.72278851e-02, 3.61444544e-04,\n",
       "       5.61989841e-02, 8.96294097e-03, 1.13802763e-02, 2.84066447e-03,\n",
       "       4.84999750e-02, 4.69581564e-03, 1.73592444e-02, 5.13053943e-02,\n",
       "       5.44615744e-03, 4.69477977e-03, 1.41153399e-03, 2.44638374e-03,\n",
       "       6.41473251e-03, 7.83134052e-03, 1.31365303e-02, 1.74538398e-03,\n",
       "       3.74623313e-02, 2.62906368e-02, 1.05193797e-03, 1.78232763e-03,\n",
       "       6.39151387e-03, 3.88011542e-03, 2.86445161e-02, 2.86676916e-02,\n",
       "       3.07358277e-03, 2.52501823e-03, 3.45372450e-03, 4.19268061e-03,\n",
       "       1.78817751e-03, 7.11092515e-03, 2.61462792e-02, 8.29736337e-03,\n",
       "       2.00211164e-03, 3.24864068e-04, 4.14880933e-03, 6.79480743e-03,\n",
       "       2.19149126e-03, 1.25802949e-02, 1.41553782e-02, 1.04518586e-02,\n",
       "       2.94250789e-02, 2.09454882e-03, 1.33486011e-03, 1.06619294e-02,\n",
       "       6.84901611e-03, 4.66175427e-02, 3.57574722e-03, 7.43185401e-02,\n",
       "       7.46876487e-03, 1.86693389e-02, 4.38055302e-03, 7.24415350e-03,\n",
       "       2.70499153e-03, 7.95406287e-03, 1.55710096e-02, 2.28661374e-03,\n",
       "       1.34672277e-03, 1.20620604e-02, 2.00151814e-02, 5.69252531e-03,\n",
       "       1.84106404e-03, 1.70740735e-02, 3.33364214e-03, 5.31255086e-03,\n",
       "       5.18859780e-02, 2.55767804e-02, 8.75240281e-03, 1.17419662e-02,\n",
       "       2.58816260e-03, 3.80471580e-03, 7.32749452e-04, 8.64133225e-03,\n",
       "       2.64898702e-03, 2.45227228e-03, 1.20950275e-02, 2.98258913e-02,\n",
       "       2.27711997e-03, 1.28483254e-02, 1.69274163e-02, 2.32001521e-03,\n",
       "       2.85417208e-03, 9.98966937e-03, 5.18605418e-02, 7.53113604e-03,\n",
       "       1.32709917e-02, 4.30089197e-03, 1.71024155e-02, 6.21681380e-03,\n",
       "       4.39780321e-02, 1.40232811e-02, 8.68381959e-02, 6.43508848e-04,\n",
       "       3.77760589e-02, 1.05816795e-02, 1.47225708e-02, 5.96733386e-03,\n",
       "       1.72376052e-02, 1.72627459e-02, 8.44465751e-03, 6.13570946e-03,\n",
       "       3.98421222e-03, 5.70510799e-03, 6.24466329e-02, 5.81628524e-03,\n",
       "       1.25848785e-03, 7.83379836e-04, 2.40462099e-02, 4.63111183e-02,\n",
       "       8.51429178e-02, 6.90052747e-03, 1.03358268e-02, 7.53117351e-02,\n",
       "       5.01318298e-03, 4.49838408e-02, 5.85087521e-03, 1.20933547e-01,\n",
       "       2.14326400e-02, 1.26410153e-02, 6.03895777e-04, 9.47078699e-03,\n",
       "       1.31131509e-03, 3.19562582e-03, 2.19832191e-03, 2.93439071e-02,\n",
       "       1.22774967e-02, 1.43222984e-02, 3.79484934e-03, 2.07309728e-02,\n",
       "       1.05028250e-03, 4.84197703e-03, 1.50690528e-02, 5.27004776e-03,\n",
       "       3.74348966e-03, 1.08507588e-02, 1.98326073e-03, 8.64315463e-03,\n",
       "       1.35159537e-03, 6.87635874e-03, 1.19473379e-03, 6.47324284e-03,\n",
       "       2.54276568e-02, 3.41194053e-03, 5.20994152e-03, 3.71096680e-03,\n",
       "       9.41780094e-03, 4.90575270e-03, 4.15066510e-02, 1.00739617e-02,\n",
       "       1.19295422e-02, 3.37992242e-03, 4.06025140e-04, 2.60808595e-02,\n",
       "       8.09351786e-03, 5.90478861e-03, 1.41647898e-03, 1.87612960e-03,\n",
       "       1.53358171e-02, 5.26193577e-02, 1.44303811e-02, 2.64613687e-03,\n",
       "       3.18689697e-02, 9.95113210e-03, 6.39004389e-03, 2.93872773e-03,\n",
       "       4.50060551e-04, 5.46313731e-02, 9.03213076e-03, 9.91498679e-03,\n",
       "       2.08026086e-02, 2.01333712e-02, 9.77477599e-03, 8.56916963e-04,\n",
       "       3.12463176e-03, 4.32230855e-02, 3.58286019e-02, 4.45865673e-03,\n",
       "       2.22632038e-02, 9.15164739e-03, 9.02854715e-04, 1.05632833e-02,\n",
       "       6.15954168e-03, 6.62722181e-03, 3.02367693e-02, 4.75766601e-02,\n",
       "       7.34493100e-02, 3.45927279e-02, 2.65935468e-03, 8.29470220e-03,\n",
       "       1.92901769e-02, 2.77096727e-03, 4.84940692e-03, 5.35765081e-03,\n",
       "       2.09622670e-02, 3.43040363e-03, 7.94131861e-03, 6.17825682e-03,\n",
       "       2.73831255e-02, 6.20786101e-03, 1.10802485e-02, 1.12500965e-02,\n",
       "       5.69814815e-04, 1.93569434e-03, 2.11378160e-02, 3.70582234e-03,\n",
       "       3.60627223e-02, 7.21926253e-03, 3.13450827e-03, 5.06172201e-03,\n",
       "       3.33868964e-03, 4.55428756e-03, 9.29433763e-04, 3.50756083e-03,\n",
       "       6.40850043e-03, 4.41614796e-03, 5.72104766e-03, 6.02082567e-03,\n",
       "       2.43689225e-02, 3.51569308e-02, 1.40736318e-02, 2.75334063e-03,\n",
       "       1.13419109e-02, 1.96483521e-03, 2.26618384e-02, 1.43193510e-02,\n",
       "       5.98771079e-03, 1.18166727e-03, 2.54548237e-04, 2.13388146e-03,\n",
       "       9.29285146e-04, 2.03128648e-03, 4.43635305e-03, 1.12540682e-02,\n",
       "       2.80197150e-02, 3.32998221e-04, 2.01831169e-03, 7.31744797e-03,\n",
       "       8.72769201e-03, 4.57590905e-03, 1.76129183e-03, 9.53184132e-02,\n",
       "       4.94528958e-03, 1.22875630e-02, 1.88599854e-02, 1.52086850e-03,\n",
       "       3.83612986e-03, 6.08244216e-03, 1.93735786e-03, 3.15411645e-03,\n",
       "       3.60073673e-03, 5.52884208e-03, 1.16539400e-02, 1.17499771e-02,\n",
       "       1.28053541e-02, 1.08661236e-02, 2.47802949e-03, 2.21581275e-03,\n",
       "       8.15497731e-03, 1.58965122e-02, 1.02214938e-03, 6.43812865e-03,\n",
       "       5.08543725e-03, 3.30222009e-03, 1.45665523e-03, 8.45212424e-03,\n",
       "       2.66068819e-03, 3.57677680e-03, 7.11847041e-03, 6.05031427e-02,\n",
       "       4.74297552e-02, 1.19663473e-02, 1.35259704e-02, 1.61025059e-02,\n",
       "       2.54225116e-03, 3.20331434e-03, 2.22245510e-02, 1.65178480e-03,\n",
       "       1.03152254e-02, 4.82591106e-03, 8.63474778e-03, 7.88003176e-03,\n",
       "       2.10714251e-03, 4.41335924e-04, 3.64683468e-03, 4.21008086e-02,\n",
       "       8.93059962e-03, 4.99924580e-04, 7.81127821e-03, 4.04698692e-03,\n",
       "       1.05782442e-02, 4.90789992e-02, 2.40656513e-03, 3.72955173e-03,\n",
       "       1.54026685e-02, 3.73410489e-03, 2.05773538e-02, 7.78767229e-03,\n",
       "       2.95375236e-03, 7.55082128e-03, 9.54020567e-03, 1.05002667e-02,\n",
       "       1.50108382e-02, 3.26636849e-03, 8.47310176e-04, 9.49651969e-03,\n",
       "       2.13021805e-03, 9.46238706e-03, 7.55756419e-04, 2.19980108e-02,\n",
       "       2.45492199e-03, 6.49428713e-03, 6.25718614e-02, 1.47517778e-03,\n",
       "       7.17141161e-03, 1.48381194e-01, 5.68032460e-03, 1.48913565e-02,\n",
       "       5.32927251e-03, 3.66425320e-03, 3.70977247e-02, 2.36982883e-02,\n",
       "       2.43108889e-03, 1.45439641e-02, 9.07703821e-03, 6.70184220e-03,\n",
       "       3.25847337e-02, 4.30365285e-03, 6.30311898e-03, 6.40693565e-03,\n",
       "       8.85662539e-03, 6.16990710e-03, 3.79443410e-03, 1.08925580e-02,\n",
       "       1.93618409e-03, 5.32102129e-03, 1.48869018e-02, 4.92179300e-03,\n",
       "       2.78907372e-03, 1.15317825e-02, 7.95999194e-03, 4.65353629e-02,\n",
       "       7.58584965e-03, 3.77173397e-03, 1.92435009e-03, 1.12743880e-02,\n",
       "       1.17885125e-02, 3.37185590e-03, 4.80331933e-02, 1.99314442e-02,\n",
       "       9.72623306e-03, 2.72676954e-03, 6.20929367e-03, 2.87012304e-03,\n",
       "       3.32697755e-03, 2.28768693e-03, 5.59878665e-03, 2.51045746e-03,\n",
       "       2.91163408e-04, 3.28258060e-03, 4.81851541e-03, 6.98635579e-03,\n",
       "       5.01321613e-03, 1.20781061e-03, 3.49423627e-03, 1.07318796e-02,\n",
       "       2.05187112e-01, 7.99755517e-04, 3.24158287e-03, 6.38300655e-03,\n",
       "       3.58580885e-03, 1.33723297e-02, 1.82531197e-02, 1.49957432e-03,\n",
       "       3.55902570e-03, 5.91372717e-04, 7.87731207e-03, 1.95668645e-02,\n",
       "       2.23695851e-04, 5.88934324e-03, 1.10234384e-03, 2.68381402e-02,\n",
       "       4.45411770e-03, 5.12045812e-03, 8.54144300e-03, 1.31883907e-03,\n",
       "       6.27759764e-03, 8.07260326e-03, 1.77673804e-02, 5.69911524e-03,\n",
       "       2.31249898e-03, 2.85623267e-03, 8.20047871e-03, 1.27910133e-02,\n",
       "       1.12545200e-02, 1.97366275e-02, 8.94335307e-03, 3.76110940e-03,\n",
       "       2.03818554e-02, 3.70607221e-02, 3.49995123e-03, 1.11726941e-02,\n",
       "       2.75391854e-03, 6.58119484e-03, 1.00814548e-02, 2.75928223e-02,\n",
       "       1.84191910e-03, 1.13727353e-03, 3.75208473e-03, 2.87914385e-02,\n",
       "       9.08563293e-03, 1.03349113e-02, 1.51567283e-02, 1.80280319e-03,\n",
       "       1.83915513e-03, 2.41661069e-02, 5.38708992e-03, 6.89672939e-03,\n",
       "       1.57265237e-03, 7.14208998e-03, 6.66121919e-03, 8.02755508e-03,\n",
       "       9.85357776e-04, 2.01457950e-03, 3.54959692e-03, 2.07868208e-02,\n",
       "       2.96303222e-02, 6.05746745e-03, 1.01933770e-02, 1.10825485e-03,\n",
       "       1.46323613e-02, 5.39754828e-03, 1.63181371e-03, 4.66721126e-03,\n",
       "       2.16118889e-03, 5.15951457e-02, 6.89846596e-03, 2.22658023e-02,\n",
       "       5.24931467e-03, 3.53675541e-02, 9.81448645e-03, 5.77939447e-03,\n",
       "       3.87073661e-03, 3.95752144e-02, 4.91441744e-02, 3.98236283e-03,\n",
       "       7.83750296e-03, 3.17834217e-03, 4.10452624e-03, 1.49955555e-03,\n",
       "       1.59873378e-02, 1.54562904e-02, 1.74851930e-02, 8.38688047e-03,\n",
       "       2.12402397e-03, 1.44585545e-02, 2.61485181e-02, 3.01493400e-02,\n",
       "       5.27268685e-02, 3.70813082e-03, 7.47911051e-03, 3.27176779e-03,\n",
       "       1.15298013e-02, 2.98093412e-02, 2.48357960e-02, 2.00968304e-02,\n",
       "       1.79545934e-03, 3.85947169e-03, 9.67722720e-03, 6.73899299e-03,\n",
       "       3.13626246e-02, 7.77136754e-03, 1.12345712e-02, 1.55208271e-02,\n",
       "       2.09971851e-03, 9.05212018e-04, 1.62750921e-03, 4.28592983e-03,\n",
       "       1.72723129e-03, 5.36620189e-03, 2.97363264e-03, 7.74016177e-03,\n",
       "       3.73074916e-03, 5.05782367e-02, 5.47329794e-03, 4.18175803e-03,\n",
       "       4.80771821e-03, 6.67125464e-02, 4.29687766e-03, 1.11430302e-02,\n",
       "       4.70697500e-03, 2.39202314e-03, 1.53726722e-03, 1.27917806e-02,\n",
       "       1.90757043e-03, 6.78773643e-04, 2.00374024e-02, 2.28391569e-03,\n",
       "       2.38307791e-03, 1.43923454e-01, 2.41289266e-02, 6.88925425e-03,\n",
       "       6.34459566e-03, 1.56432995e-02, 1.38001184e-02, 6.67209695e-03,\n",
       "       1.58098587e-03, 8.40591381e-03, 5.75058457e-03, 1.74580993e-02,\n",
       "       1.07799950e-02, 1.35377179e-03, 1.23109813e-02, 3.94864619e-03,\n",
       "       2.93994019e-02, 3.95851080e-02, 4.05384809e-03, 2.92041233e-03,\n",
       "       4.05987219e-02, 4.94304667e-02, 1.06977010e-02, 3.86497653e-03,\n",
       "       5.09772043e-04, 8.46626241e-03, 1.10575252e-02, 7.34691041e-03,\n",
       "       2.93282462e-03, 3.02609817e-02, 1.36158656e-01, 3.57572696e-03,\n",
       "       6.61328595e-02, 1.00803296e-02, 1.01822024e-03, 4.02959502e-03,\n",
       "       1.83034058e-03, 6.02234399e-03, 3.67912284e-03, 3.20367635e-02,\n",
       "       8.21565745e-02, 1.93181115e-02, 7.43603953e-03, 6.82756988e-04,\n",
       "       2.57160759e-03, 3.79569144e-03, 1.26395410e-03, 1.85943633e-02,\n",
       "       1.27142761e-02, 7.19031210e-03, 2.95959011e-02, 6.12607613e-03,\n",
       "       4.90542334e-03, 1.18087904e-02, 8.09782541e-04, 8.77933374e-03,\n",
       "       1.73748898e-03, 5.61339855e-02, 7.17164243e-03, 1.12228365e-02,\n",
       "       2.64170576e-02, 2.40013807e-03, 1.31959829e-03, 9.32907540e-02,\n",
       "       2.33398558e-02, 6.54462425e-03, 1.20669186e-02, 4.62809667e-03,\n",
       "       1.50904130e-02, 1.15375319e-02, 3.43025581e-03, 3.83518715e-03,\n",
       "       1.77556218e-03, 4.01590639e-03, 2.63620441e-03, 1.61073639e-02,\n",
       "       5.92850992e-03, 5.21209235e-03, 5.36007819e-02, 5.24698060e-03,\n",
       "       1.48843243e-03, 7.59504511e-03, 1.80883298e-03, 2.27142483e-02,\n",
       "       3.60122860e-03, 1.20538385e-03, 1.10849001e-01, 2.28896437e-02,\n",
       "       1.32586837e-03, 1.11077292e-02, 1.60770274e-03, 5.35172525e-03,\n",
       "       2.70057068e-03, 1.14515201e-03, 3.54818632e-02, 2.04955960e-03,\n",
       "       5.40954693e-03, 3.33247397e-04, 3.00669393e-03, 4.38188843e-03,\n",
       "       4.46936272e-03, 1.56948957e-03, 1.86009854e-02, 1.85600944e-03,\n",
       "       6.99543049e-03, 2.38693795e-02, 1.24019021e-03, 1.19411124e-02,\n",
       "       9.11922468e-03, 4.19250140e-03, 9.90468474e-04, 1.66701862e-03,\n",
       "       5.94427363e-03, 6.58910869e-03, 2.32381603e-04, 4.66789387e-03,\n",
       "       1.84443496e-03, 4.18805806e-03, 2.01560824e-02, 2.48283467e-02,\n",
       "       6.59829613e-03, 2.25307826e-03, 2.53550479e-02, 9.02109767e-03,\n",
       "       2.22216573e-01, 3.20035236e-03, 2.69506999e-03, 6.10183745e-03,\n",
       "       3.88333646e-03, 4.09044975e-03, 2.21902685e-04, 1.15698635e-02,\n",
       "       9.58310269e-04, 3.70986758e-03, 2.95613551e-03, 9.92313883e-03,\n",
       "       5.80722522e-03, 2.10015727e-02, 5.56710701e-03, 5.24540125e-03])"
      ]
     },
     "execution_count": 130,
     "metadata": {},
     "output_type": "execute_result"
    }
   ],
   "source": [
    "x['a_of_t_dist_in'][~np.isnan(x['a_of_t_dist_in'])]"
   ]
  },
  {
   "cell_type": "code",
   "execution_count": 89,
   "metadata": {},
   "outputs": [
    {
     "data": {
      "text/plain": [
       "(array([819., 124.,  26.,  21.,   5.,   0.,   1.,   3.,   0.,   1.]),\n",
       " array([2.24631517e-05, 1.77305494e-02, 3.54386357e-02, 5.31467220e-02,\n",
       "        7.08548082e-02, 8.85628945e-02, 1.06270981e-01, 1.23979067e-01,\n",
       "        1.41687153e-01, 1.59395240e-01, 1.77103326e-01]),\n",
       " <a list of 10 Patch objects>)"
      ]
     },
     "execution_count": 89,
     "metadata": {},
     "output_type": "execute_result"
    },
    {
     "data": {
      "image/png": "[encoded data removed]",
      "text/plain": [
       "<Figure size 432x288 with 1 Axes>"
      ]
     },
     "metadata": {
      "needs_background": "light"
     },
     "output_type": "display_data"
    }
   ],
   "source": [
    "plt.hist(x['a_of_t_dist_out'])"
   ]
  },
  {
   "cell_type": "code",
   "execution_count": 66,
   "metadata": {},
   "outputs": [
    {
     "ename": "NameError",
     "evalue": "name 'mcmc_dict' is not defined",
     "output_type": "error",
     "traceback": [
      "\u001b[0;31m---------------------------------------------------------------------------\u001b[0m",
      "\u001b[0;31mNameError\u001b[0m                                 Traceback (most recent call last)",
      "\u001b[0;32m<ipython-input-66-d3fea1410791>\u001b[0m in \u001b[0;36m<module>\u001b[0;34m\u001b[0m\n\u001b[0;32m----> 1\u001b[0;31m out = cds.ddm_flexbound(v = mcmc_dict['gt'][i, 0],\n\u001b[0m\u001b[1;32m      2\u001b[0m                         \u001b[0ma\u001b[0m \u001b[0;34m=\u001b[0m \u001b[0mmcmc_dict\u001b[0m\u001b[0;34m[\u001b[0m\u001b[0;34m'gt'\u001b[0m\u001b[0;34m]\u001b[0m\u001b[0;34m[\u001b[0m\u001b[0mi\u001b[0m\u001b[0;34m,\u001b[0m \u001b[0;36m1\u001b[0m\u001b[0;34m]\u001b[0m\u001b[0;34m,\u001b[0m\u001b[0;34m\u001b[0m\u001b[0;34m\u001b[0m\u001b[0m\n\u001b[1;32m      3\u001b[0m                         \u001b[0mw\u001b[0m \u001b[0;34m=\u001b[0m \u001b[0mmcmc_dict\u001b[0m\u001b[0;34m[\u001b[0m\u001b[0;34m'gt'\u001b[0m\u001b[0;34m]\u001b[0m\u001b[0;34m[\u001b[0m\u001b[0mi\u001b[0m\u001b[0;34m,\u001b[0m \u001b[0;36m2\u001b[0m\u001b[0;34m]\u001b[0m\u001b[0;34m,\u001b[0m\u001b[0;34m\u001b[0m\u001b[0;34m\u001b[0m\u001b[0m\n\u001b[1;32m      4\u001b[0m                         \u001b[0mndt\u001b[0m \u001b[0;34m=\u001b[0m \u001b[0mmcmc_dict\u001b[0m\u001b[0;34m[\u001b[0m\u001b[0;34m'gt'\u001b[0m\u001b[0;34m]\u001b[0m\u001b[0;34m[\u001b[0m\u001b[0mi\u001b[0m\u001b[0;34m,\u001b[0m \u001b[0;36m3\u001b[0m\u001b[0;34m]\u001b[0m\u001b[0;34m,\u001b[0m\u001b[0;34m\u001b[0m\u001b[0;34m\u001b[0m\u001b[0m\n\u001b[1;32m      5\u001b[0m                         \u001b[0mdelta_t\u001b[0m \u001b[0;34m=\u001b[0m \u001b[0;36m0.01\u001b[0m\u001b[0;34m,\u001b[0m\u001b[0;34m\u001b[0m\u001b[0;34m\u001b[0m\u001b[0m\n",
      "\u001b[0;31mNameError\u001b[0m: name 'mcmc_dict' is not defined"
     ]
    }
   ],
   "source": [
    "out = cds.ddm_flexbound(v = mcmc_dict['gt'][i, 0],\n",
    "                        a = mcmc_dict['gt'][i, 1],\n",
    "                        w = mcmc_dict['gt'][i, 2],\n",
    "                        ndt = mcmc_dict['gt'][i, 3],\n",
    "                        delta_t = 0.01, \n",
    "                        s = 1,\n",
    "                        max_t = 20, \n",
    "                        n_samples = 20000,\n",
    "                        boundary_fun = bf.weibull_cdf,\n",
    "                        boundary_multiplicative = True,\n",
    "                        boundary_params = {'alpha': mcmc_dict['gt'][i, 4],\n",
    "                                           'beta': mcmc_dict['gt'][i, 5]})"
   ]
  },
  {
   "cell_type": "code",
   "execution_count": 114,
   "metadata": {},
   "outputs": [
    {
     "data": {
      "text/plain": [
       "(20000, 1)"
      ]
     },
     "execution_count": 114,
     "metadata": {},
     "output_type": "execute_result"
    }
   ],
   "source": [
    "out[0].shape"
   ]
  },
  {
   "cell_type": "code",
   "execution_count": 115,
   "metadata": {},
   "outputs": [
    {
     "data": {
      "text/plain": [
       "<statsmodels.distributions.empirical_distribution.ECDF at 0x14062dbd0>"
      ]
     },
     "execution_count": 115,
     "metadata": {},
     "output_type": "execute_result"
    }
   ],
   "source": [
    "ECDF(out[0][:,0])"
   ]
  },
  {
   "cell_type": "code",
   "execution_count": null,
   "metadata": {},
   "outputs": [],
   "source": [
    "os.listidir(IS_summary_weibull_cdf_N_1024.pickle"
   ]
  },
  {
   "cell_type": "code",
   "execution_count": 24,
   "metadata": {},
   "outputs": [],
   "source": [
    "out_cdf_0 = ECDF(out[0][out[1] == - 1])\n",
    "out_cdf_1 = ECDF(out[0][out[1] == 1])"
   ]
  },
  {
   "cell_type": "code",
   "execution_count": 27,
   "metadata": {},
   "outputs": [],
   "source": [
    "out_cdf_0_eval = out_cdf_0(np.linspace(0, 20, 1000))\n",
    "out_cdf_1_eval = out_cdf_1(np.linspace(0, 20, 1000))"
   ]
  },
  {
   "cell_type": "code",
   "execution_count": 32,
   "metadata": {},
   "outputs": [],
   "source": [
    "in_ = (out_cdf_0_eval > 0.01) * (out_cdf_0_eval < 0.99)\n",
    "out_ = np.invert(in_)"
   ]
  },
  {
   "cell_type": "code",
   "execution_count": 72,
   "metadata": {},
   "outputs": [
    {
     "data": {
      "text/plain": [
       "array([ True,  True,  True,  True,  True,  True,  True,  True,  True,\n",
       "        True,  True,  True,  True,  True,  True,  True,  True,  True,\n",
       "        True,  True,  True,  True,  True,  True,  True,  True,  True,\n",
       "        True,  True,  True,  True,  True,  True,  True,  True,  True,\n",
       "        True,  True,  True,  True,  True,  True,  True,  True,  True,\n",
       "        True,  True,  True,  True,  True,  True,  True,  True,  True,\n",
       "        True,  True,  True,  True,  True,  True,  True,  True,  True,\n",
       "        True,  True,  True,  True,  True,  True,  True,  True,  True,\n",
       "        True,  True,  True,  True,  True,  True,  True,  True,  True,\n",
       "        True,  True,  True,  True,  True,  True,  True,  True,  True,\n",
       "        True,  True,  True,  True,  True,  True,  True,  True,  True,\n",
       "        True,  True,  True,  True,  True,  True,  True,  True,  True,\n",
       "        True,  True,  True,  True,  True,  True,  True,  True,  True,\n",
       "        True,  True,  True,  True,  True,  True,  True,  True,  True,\n",
       "        True,  True,  True,  True,  True,  True,  True,  True,  True,\n",
       "        True,  True,  True,  True,  True,  True,  True,  True,  True,\n",
       "        True,  True,  True,  True,  True,  True,  True,  True,  True,\n",
       "        True,  True,  True,  True,  True,  True,  True,  True,  True,\n",
       "        True,  True,  True,  True,  True,  True,  True,  True,  True,\n",
       "        True,  True,  True,  True,  True,  True,  True,  True,  True,\n",
       "        True,  True,  True,  True,  True,  True,  True,  True,  True,\n",
       "        True,  True,  True,  True,  True,  True,  True,  True,  True,\n",
       "        True,  True,  True,  True,  True,  True,  True,  True,  True,\n",
       "        True,  True,  True,  True,  True,  True,  True,  True,  True,\n",
       "        True,  True,  True,  True,  True,  True,  True,  True,  True,\n",
       "        True,  True,  True,  True,  True,  True,  True,  True,  True,\n",
       "        True,  True,  True,  True,  True,  True,  True,  True,  True,\n",
       "        True,  True,  True,  True,  True,  True,  True,  True,  True,\n",
       "        True,  True,  True,  True,  True,  True,  True,  True,  True,\n",
       "        True,  True,  True,  True,  True,  True,  True,  True,  True,\n",
       "        True,  True,  True,  True,  True,  True,  True,  True,  True,\n",
       "        True,  True,  True,  True,  True,  True,  True,  True,  True,\n",
       "        True,  True,  True,  True,  True,  True,  True,  True,  True,\n",
       "        True,  True,  True,  True,  True,  True,  True,  True,  True,\n",
       "        True,  True,  True,  True,  True,  True,  True,  True,  True,\n",
       "        True,  True,  True,  True,  True,  True,  True,  True,  True,\n",
       "        True,  True,  True,  True,  True,  True,  True,  True,  True,\n",
       "        True,  True,  True,  True,  True,  True,  True,  True,  True,\n",
       "        True,  True,  True,  True,  True,  True,  True,  True,  True,\n",
       "        True,  True,  True,  True,  True,  True,  True,  True,  True,\n",
       "        True,  True,  True,  True,  True,  True,  True,  True,  True,\n",
       "        True,  True,  True,  True,  True,  True,  True,  True,  True,\n",
       "        True,  True,  True,  True,  True,  True,  True,  True,  True,\n",
       "        True,  True,  True,  True,  True,  True,  True,  True,  True,\n",
       "        True,  True,  True,  True,  True,  True,  True,  True,  True,\n",
       "        True,  True,  True,  True,  True,  True,  True,  True,  True,\n",
       "        True,  True,  True,  True,  True,  True,  True,  True,  True,\n",
       "        True,  True,  True,  True,  True,  True,  True,  True,  True,\n",
       "        True,  True,  True,  True,  True,  True,  True,  True,  True,\n",
       "        True,  True,  True,  True,  True,  True,  True,  True,  True,\n",
       "        True,  True,  True,  True,  True,  True,  True,  True,  True,\n",
       "        True,  True,  True,  True,  True,  True,  True,  True,  True,\n",
       "        True,  True,  True,  True,  True,  True,  True,  True,  True,\n",
       "        True,  True,  True,  True,  True,  True,  True,  True,  True,\n",
       "        True,  True,  True,  True,  True,  True,  True,  True,  True,\n",
       "        True,  True,  True,  True,  True,  True,  True,  True,  True,\n",
       "        True,  True,  True,  True,  True,  True,  True,  True,  True,\n",
       "        True,  True,  True,  True,  True,  True,  True,  True,  True,\n",
       "        True,  True,  True,  True,  True,  True,  True,  True,  True,\n",
       "        True,  True,  True,  True,  True,  True,  True,  True,  True,\n",
       "        True,  True,  True,  True,  True,  True,  True,  True,  True,\n",
       "        True,  True,  True,  True,  True,  True,  True,  True,  True,\n",
       "        True,  True,  True,  True,  True,  True,  True,  True,  True,\n",
       "        True,  True,  True,  True,  True,  True,  True,  True,  True,\n",
       "        True,  True,  True,  True,  True,  True,  True,  True,  True,\n",
       "        True,  True,  True,  True,  True,  True,  True,  True,  True,\n",
       "        True,  True,  True,  True,  True,  True,  True,  True,  True,\n",
       "        True,  True,  True,  True,  True,  True,  True,  True,  True,\n",
       "        True,  True,  True,  True,  True,  True,  True,  True,  True,\n",
       "        True,  True,  True,  True,  True,  True,  True,  True,  True,\n",
       "        True,  True,  True,  True,  True,  True,  True,  True,  True,\n",
       "        True,  True,  True,  True,  True,  True,  True,  True,  True,\n",
       "        True,  True,  True,  True,  True,  True,  True,  True,  True,\n",
       "        True,  True,  True,  True,  True,  True,  True,  True,  True,\n",
       "        True,  True,  True,  True,  True,  True,  True,  True,  True,\n",
       "        True,  True,  True,  True,  True,  True,  True,  True,  True,\n",
       "        True,  True,  True,  True,  True,  True,  True,  True,  True,\n",
       "        True,  True,  True,  True,  True,  True,  True,  True,  True,\n",
       "        True,  True,  True,  True,  True,  True,  True,  True,  True,\n",
       "        True,  True,  True,  True,  True,  True,  True,  True,  True,\n",
       "        True,  True,  True,  True,  True,  True,  True,  True,  True,\n",
       "        True,  True,  True,  True,  True,  True,  True,  True,  True,\n",
       "        True,  True,  True,  True,  True,  True,  True,  True,  True,\n",
       "        True,  True,  True,  True,  True,  True,  True,  True,  True,\n",
       "        True,  True,  True,  True,  True,  True,  True,  True,  True,\n",
       "        True,  True,  True,  True,  True,  True,  True,  True,  True,\n",
       "        True,  True,  True,  True,  True,  True,  True,  True,  True,\n",
       "        True,  True,  True,  True,  True,  True,  True,  True,  True,\n",
       "        True,  True,  True,  True,  True,  True,  True,  True,  True,\n",
       "        True,  True,  True,  True,  True,  True,  True,  True,  True,\n",
       "        True,  True,  True,  True,  True,  True,  True,  True,  True,\n",
       "        True,  True,  True,  True,  True,  True,  True,  True,  True,\n",
       "        True,  True,  True,  True,  True,  True,  True,  True,  True,\n",
       "        True,  True,  True,  True,  True,  True,  True,  True,  True,\n",
       "        True,  True,  True,  True,  True,  True,  True,  True,  True,\n",
       "        True,  True,  True,  True,  True,  True,  True,  True,  True,\n",
       "        True,  True,  True,  True,  True,  True,  True,  True,  True,\n",
       "        True,  True,  True,  True,  True,  True,  True,  True,  True,\n",
       "        True,  True,  True,  True,  True,  True,  True,  True,  True,\n",
       "        True,  True,  True,  True,  True,  True,  True,  True,  True,\n",
       "        True,  True,  True,  True,  True,  True,  True,  True,  True,\n",
       "        True,  True,  True,  True,  True,  True,  True,  True,  True,\n",
       "        True,  True,  True,  True,  True,  True,  True,  True,  True,\n",
       "        True,  True,  True,  True,  True,  True,  True,  True,  True,\n",
       "        True,  True,  True,  True,  True,  True,  True,  True,  True,\n",
       "        True,  True,  True,  True,  True,  True,  True,  True,  True,\n",
       "        True,  True,  True,  True,  True,  True,  True,  True,  True,\n",
       "        True,  True,  True,  True,  True,  True,  True,  True,  True,\n",
       "        True,  True,  True,  True,  True,  True,  True,  True,  True,\n",
       "        True,  True,  True,  True,  True,  True,  True,  True,  True,\n",
       "        True,  True,  True,  True,  True,  True,  True,  True,  True,\n",
       "        True])"
      ]
     },
     "execution_count": 72,
     "metadata": {},
     "output_type": "execute_result"
    }
   ],
   "source": [
    "out_ + in_"
   ]
  },
  {
   "cell_type": "code",
   "execution_count": 34,
   "metadata": {},
   "outputs": [],
   "source": [
    "eval_points = np.linspace(0, 20, 1000)"
   ]
  },
  {
   "cell_type": "code",
   "execution_count": 40,
   "metadata": {},
   "outputs": [
    {
     "data": {
      "text/plain": [
       "0.11843808675945207"
      ]
     },
     "execution_count": 40,
     "metadata": {},
     "output_type": "execute_result"
    }
   ],
   "source": [
    "np.mean(np.square(bf.angle(eval_points,theta = 0.5)[in_] - bf.angle(eval_points,theta = 0.4)[in_]))"
   ]
  },
  {
   "cell_type": "code",
   "execution_count": 52,
   "metadata": {},
   "outputs": [
    {
     "data": {
      "text/plain": [
       "0.0026031486737876893"
      ]
     },
     "execution_count": 52,
     "metadata": {},
     "output_type": "execute_result"
    }
   ],
   "source": [
    "np.mean(np.mean(  np.square(np.maximum(2 + bf.angle(eval_points,theta = 0.5)[out_], 0) - np.maximum(2 + bf.angle(eval_points,theta = 0.4)[out_], 0)) ) )"
   ]
  },
  {
   "cell_type": "code",
   "execution_count": 53,
   "metadata": {},
   "outputs": [
    {
     "data": {
      "text/plain": [
       "array([0.00000000e+00, 6.11403798e-06, 2.44561519e-05, 5.50263418e-05,\n",
       "       9.78246077e-05, 1.52850950e-04, 2.20105367e-04, 2.99587861e-04,\n",
       "       3.91298431e-04, 4.95237077e-04, 6.11403798e-04, 7.39798596e-04,\n",
       "       8.80421469e-04, 1.03327242e-03, 1.19835144e-03, 1.37565855e-03,\n",
       "       1.56519372e-03, 1.76695698e-03, 1.98094831e-03, 2.20716771e-03,\n",
       "       2.44561519e-03, 2.69629075e-03, 2.95919438e-03, 3.23432609e-03,\n",
       "       3.52168588e-03, 3.82127374e-03, 4.13308968e-03, 4.45713369e-03,\n",
       "       4.79340578e-03, 5.14190594e-03, 5.50263418e-03, 5.87559050e-03,\n",
       "       6.26077489e-03, 6.65818736e-03, 7.06782791e-03, 7.48969653e-03,\n",
       "       7.92379322e-03, 8.37011800e-03, 8.82867085e-03, 9.29945177e-03,\n",
       "       9.78246077e-03, 1.02776978e-02, 1.07851630e-02, 1.13048562e-02,\n",
       "       1.18367775e-02, 1.23809269e-02, 1.29373044e-02, 1.35059099e-02,\n",
       "       1.40867435e-02, 1.46798052e-02, 1.52850950e-02, 1.59026128e-02,\n",
       "       1.65323587e-02, 1.71743327e-02, 1.78285348e-02, 1.84949649e-02,\n",
       "       1.91736231e-02, 1.98645094e-02, 2.05676238e-02, 2.12829662e-02,\n",
       "       2.20105367e-02, 2.27503353e-02, 2.35023620e-02, 2.42666167e-02,\n",
       "       2.50430996e-02, 2.58318105e-02, 2.66327494e-02, 2.74459165e-02,\n",
       "       2.82713116e-02, 2.91089348e-02, 2.99587861e-02, 3.08208655e-02,\n",
       "       3.16951729e-02, 1.10574369e-01, 1.05016774e-01, 9.96024688e-02,\n",
       "       9.43314532e-02, 8.92037274e-02, 8.42192914e-02, 7.93781450e-02,\n",
       "       7.46802884e-02, 7.01257215e-02, 6.57144443e-02, 6.14464568e-02,\n",
       "       5.73217591e-02, 5.33403510e-02, 4.95022327e-02, 4.58074042e-02,\n",
       "       4.22558653e-02, 3.88476161e-02, 3.55826567e-02, 3.24609870e-02,\n",
       "       2.94826070e-02, 2.66475168e-02, 2.39557162e-02, 2.14072054e-02,\n",
       "       1.90019843e-02, 1.67400529e-02, 1.46214113e-02, 1.26460594e-02,\n",
       "       1.08139971e-02, 9.12522465e-03, 7.57974187e-03, 6.17754882e-03,\n",
       "       4.91864549e-03, 3.80303188e-03, 2.83070799e-03, 2.00167382e-03,\n",
       "       1.31592937e-03, 7.73474643e-04, 3.74309636e-04, 1.18434350e-04,\n",
       "       5.84878423e-06, 0.00000000e+00, 0.00000000e+00, 0.00000000e+00,\n",
       "       0.00000000e+00, 0.00000000e+00, 0.00000000e+00, 0.00000000e+00,\n",
       "       0.00000000e+00, 0.00000000e+00, 0.00000000e+00, 0.00000000e+00,\n",
       "       0.00000000e+00, 0.00000000e+00, 0.00000000e+00, 0.00000000e+00,\n",
       "       0.00000000e+00, 0.00000000e+00, 0.00000000e+00, 0.00000000e+00,\n",
       "       0.00000000e+00, 0.00000000e+00, 0.00000000e+00, 0.00000000e+00,\n",
       "       0.00000000e+00, 0.00000000e+00, 0.00000000e+00, 0.00000000e+00,\n",
       "       0.00000000e+00, 0.00000000e+00, 0.00000000e+00, 0.00000000e+00,\n",
       "       0.00000000e+00, 0.00000000e+00, 0.00000000e+00, 0.00000000e+00,\n",
       "       0.00000000e+00, 0.00000000e+00, 0.00000000e+00, 0.00000000e+00,\n",
       "       0.00000000e+00, 0.00000000e+00, 0.00000000e+00, 0.00000000e+00,\n",
       "       0.00000000e+00, 0.00000000e+00, 0.00000000e+00, 0.00000000e+00,\n",
       "       0.00000000e+00, 0.00000000e+00, 0.00000000e+00, 0.00000000e+00,\n",
       "       0.00000000e+00, 0.00000000e+00, 0.00000000e+00, 0.00000000e+00,\n",
       "       0.00000000e+00, 0.00000000e+00, 0.00000000e+00, 0.00000000e+00,\n",
       "       0.00000000e+00, 0.00000000e+00, 0.00000000e+00, 0.00000000e+00,\n",
       "       0.00000000e+00, 0.00000000e+00, 0.00000000e+00, 0.00000000e+00,\n",
       "       0.00000000e+00, 0.00000000e+00, 0.00000000e+00, 0.00000000e+00,\n",
       "       0.00000000e+00, 0.00000000e+00, 0.00000000e+00, 0.00000000e+00,\n",
       "       0.00000000e+00, 0.00000000e+00, 0.00000000e+00, 0.00000000e+00,\n",
       "       0.00000000e+00, 0.00000000e+00, 0.00000000e+00, 0.00000000e+00,\n",
       "       0.00000000e+00, 0.00000000e+00, 0.00000000e+00, 0.00000000e+00,\n",
       "       0.00000000e+00, 0.00000000e+00, 0.00000000e+00, 0.00000000e+00,\n",
       "       0.00000000e+00, 0.00000000e+00, 0.00000000e+00, 0.00000000e+00,\n",
       "       0.00000000e+00, 0.00000000e+00, 0.00000000e+00, 0.00000000e+00,\n",
       "       0.00000000e+00, 0.00000000e+00, 0.00000000e+00, 0.00000000e+00,\n",
       "       0.00000000e+00, 0.00000000e+00, 0.00000000e+00, 0.00000000e+00,\n",
       "       0.00000000e+00, 0.00000000e+00, 0.00000000e+00, 0.00000000e+00,\n",
       "       0.00000000e+00, 0.00000000e+00, 0.00000000e+00, 0.00000000e+00,\n",
       "       0.00000000e+00, 0.00000000e+00, 0.00000000e+00, 0.00000000e+00,\n",
       "       0.00000000e+00, 0.00000000e+00, 0.00000000e+00, 0.00000000e+00,\n",
       "       0.00000000e+00, 0.00000000e+00, 0.00000000e+00, 0.00000000e+00,\n",
       "       0.00000000e+00, 0.00000000e+00, 0.00000000e+00, 0.00000000e+00,\n",
       "       0.00000000e+00, 0.00000000e+00, 0.00000000e+00, 0.00000000e+00,\n",
       "       0.00000000e+00, 0.00000000e+00, 0.00000000e+00, 0.00000000e+00,\n",
       "       0.00000000e+00, 0.00000000e+00, 0.00000000e+00, 0.00000000e+00,\n",
       "       0.00000000e+00, 0.00000000e+00, 0.00000000e+00, 0.00000000e+00,\n",
       "       0.00000000e+00, 0.00000000e+00, 0.00000000e+00, 0.00000000e+00,\n",
       "       0.00000000e+00, 0.00000000e+00, 0.00000000e+00, 0.00000000e+00,\n",
       "       0.00000000e+00, 0.00000000e+00, 0.00000000e+00, 0.00000000e+00,\n",
       "       0.00000000e+00, 0.00000000e+00, 0.00000000e+00, 0.00000000e+00,\n",
       "       0.00000000e+00, 0.00000000e+00, 0.00000000e+00, 0.00000000e+00,\n",
       "       0.00000000e+00, 0.00000000e+00, 0.00000000e+00, 0.00000000e+00,\n",
       "       0.00000000e+00, 0.00000000e+00, 0.00000000e+00, 0.00000000e+00,\n",
       "       0.00000000e+00, 0.00000000e+00, 0.00000000e+00, 0.00000000e+00,\n",
       "       0.00000000e+00, 0.00000000e+00, 0.00000000e+00, 0.00000000e+00,\n",
       "       0.00000000e+00, 0.00000000e+00, 0.00000000e+00, 0.00000000e+00,\n",
       "       0.00000000e+00, 0.00000000e+00, 0.00000000e+00, 0.00000000e+00,\n",
       "       0.00000000e+00, 0.00000000e+00, 0.00000000e+00, 0.00000000e+00,\n",
       "       0.00000000e+00, 0.00000000e+00, 0.00000000e+00, 0.00000000e+00,\n",
       "       0.00000000e+00, 0.00000000e+00, 0.00000000e+00, 0.00000000e+00,\n",
       "       0.00000000e+00, 0.00000000e+00, 0.00000000e+00, 0.00000000e+00,\n",
       "       0.00000000e+00, 0.00000000e+00, 0.00000000e+00, 0.00000000e+00,\n",
       "       0.00000000e+00, 0.00000000e+00, 0.00000000e+00, 0.00000000e+00,\n",
       "       0.00000000e+00, 0.00000000e+00, 0.00000000e+00, 0.00000000e+00,\n",
       "       0.00000000e+00, 0.00000000e+00, 0.00000000e+00, 0.00000000e+00,\n",
       "       0.00000000e+00, 0.00000000e+00, 0.00000000e+00, 0.00000000e+00,\n",
       "       0.00000000e+00, 0.00000000e+00, 0.00000000e+00, 0.00000000e+00,\n",
       "       0.00000000e+00, 0.00000000e+00, 0.00000000e+00, 0.00000000e+00,\n",
       "       0.00000000e+00, 0.00000000e+00, 0.00000000e+00, 0.00000000e+00,\n",
       "       0.00000000e+00, 0.00000000e+00, 0.00000000e+00, 0.00000000e+00,\n",
       "       0.00000000e+00, 0.00000000e+00, 0.00000000e+00, 0.00000000e+00,\n",
       "       0.00000000e+00, 0.00000000e+00, 0.00000000e+00, 0.00000000e+00,\n",
       "       0.00000000e+00, 0.00000000e+00, 0.00000000e+00, 0.00000000e+00,\n",
       "       0.00000000e+00, 0.00000000e+00, 0.00000000e+00, 0.00000000e+00,\n",
       "       0.00000000e+00, 0.00000000e+00, 0.00000000e+00, 0.00000000e+00,\n",
       "       0.00000000e+00, 0.00000000e+00, 0.00000000e+00, 0.00000000e+00,\n",
       "       0.00000000e+00, 0.00000000e+00, 0.00000000e+00, 0.00000000e+00,\n",
       "       0.00000000e+00, 0.00000000e+00, 0.00000000e+00, 0.00000000e+00,\n",
       "       0.00000000e+00, 0.00000000e+00, 0.00000000e+00, 0.00000000e+00,\n",
       "       0.00000000e+00, 0.00000000e+00, 0.00000000e+00, 0.00000000e+00,\n",
       "       0.00000000e+00, 0.00000000e+00, 0.00000000e+00, 0.00000000e+00,\n",
       "       0.00000000e+00, 0.00000000e+00, 0.00000000e+00, 0.00000000e+00,\n",
       "       0.00000000e+00, 0.00000000e+00, 0.00000000e+00, 0.00000000e+00,\n",
       "       0.00000000e+00, 0.00000000e+00, 0.00000000e+00, 0.00000000e+00,\n",
       "       0.00000000e+00, 0.00000000e+00, 0.00000000e+00, 0.00000000e+00,\n",
       "       0.00000000e+00, 0.00000000e+00, 0.00000000e+00, 0.00000000e+00,\n",
       "       0.00000000e+00, 0.00000000e+00, 0.00000000e+00, 0.00000000e+00,\n",
       "       0.00000000e+00, 0.00000000e+00, 0.00000000e+00, 0.00000000e+00,\n",
       "       0.00000000e+00, 0.00000000e+00, 0.00000000e+00, 0.00000000e+00,\n",
       "       0.00000000e+00, 0.00000000e+00, 0.00000000e+00, 0.00000000e+00,\n",
       "       0.00000000e+00, 0.00000000e+00, 0.00000000e+00, 0.00000000e+00,\n",
       "       0.00000000e+00, 0.00000000e+00, 0.00000000e+00, 0.00000000e+00,\n",
       "       0.00000000e+00, 0.00000000e+00, 0.00000000e+00, 0.00000000e+00,\n",
       "       0.00000000e+00, 0.00000000e+00, 0.00000000e+00, 0.00000000e+00,\n",
       "       0.00000000e+00, 0.00000000e+00, 0.00000000e+00, 0.00000000e+00,\n",
       "       0.00000000e+00, 0.00000000e+00, 0.00000000e+00, 0.00000000e+00,\n",
       "       0.00000000e+00, 0.00000000e+00, 0.00000000e+00, 0.00000000e+00,\n",
       "       0.00000000e+00, 0.00000000e+00, 0.00000000e+00, 0.00000000e+00,\n",
       "       0.00000000e+00, 0.00000000e+00, 0.00000000e+00, 0.00000000e+00,\n",
       "       0.00000000e+00, 0.00000000e+00, 0.00000000e+00, 0.00000000e+00,\n",
       "       0.00000000e+00, 0.00000000e+00, 0.00000000e+00, 0.00000000e+00,\n",
       "       0.00000000e+00, 0.00000000e+00, 0.00000000e+00, 0.00000000e+00,\n",
       "       0.00000000e+00, 0.00000000e+00, 0.00000000e+00, 0.00000000e+00,\n",
       "       0.00000000e+00, 0.00000000e+00, 0.00000000e+00, 0.00000000e+00,\n",
       "       0.00000000e+00, 0.00000000e+00, 0.00000000e+00, 0.00000000e+00,\n",
       "       0.00000000e+00, 0.00000000e+00, 0.00000000e+00, 0.00000000e+00,\n",
       "       0.00000000e+00, 0.00000000e+00, 0.00000000e+00, 0.00000000e+00,\n",
       "       0.00000000e+00, 0.00000000e+00, 0.00000000e+00, 0.00000000e+00,\n",
       "       0.00000000e+00, 0.00000000e+00, 0.00000000e+00, 0.00000000e+00,\n",
       "       0.00000000e+00, 0.00000000e+00, 0.00000000e+00, 0.00000000e+00,\n",
       "       0.00000000e+00, 0.00000000e+00, 0.00000000e+00, 0.00000000e+00,\n",
       "       0.00000000e+00, 0.00000000e+00, 0.00000000e+00, 0.00000000e+00,\n",
       "       0.00000000e+00, 0.00000000e+00, 0.00000000e+00, 0.00000000e+00,\n",
       "       0.00000000e+00, 0.00000000e+00, 0.00000000e+00, 0.00000000e+00,\n",
       "       0.00000000e+00, 0.00000000e+00, 0.00000000e+00, 0.00000000e+00,\n",
       "       0.00000000e+00, 0.00000000e+00, 0.00000000e+00, 0.00000000e+00,\n",
       "       0.00000000e+00, 0.00000000e+00, 0.00000000e+00, 0.00000000e+00,\n",
       "       0.00000000e+00, 0.00000000e+00, 0.00000000e+00, 0.00000000e+00,\n",
       "       0.00000000e+00, 0.00000000e+00, 0.00000000e+00, 0.00000000e+00,\n",
       "       0.00000000e+00, 0.00000000e+00, 0.00000000e+00, 0.00000000e+00,\n",
       "       0.00000000e+00, 0.00000000e+00, 0.00000000e+00, 0.00000000e+00,\n",
       "       0.00000000e+00, 0.00000000e+00, 0.00000000e+00, 0.00000000e+00,\n",
       "       0.00000000e+00, 0.00000000e+00, 0.00000000e+00, 0.00000000e+00,\n",
       "       0.00000000e+00, 0.00000000e+00, 0.00000000e+00, 0.00000000e+00,\n",
       "       0.00000000e+00, 0.00000000e+00, 0.00000000e+00, 0.00000000e+00,\n",
       "       0.00000000e+00, 0.00000000e+00, 0.00000000e+00, 0.00000000e+00,\n",
       "       0.00000000e+00, 0.00000000e+00, 0.00000000e+00, 0.00000000e+00,\n",
       "       0.00000000e+00, 0.00000000e+00, 0.00000000e+00, 0.00000000e+00,\n",
       "       0.00000000e+00, 0.00000000e+00, 0.00000000e+00, 0.00000000e+00,\n",
       "       0.00000000e+00, 0.00000000e+00, 0.00000000e+00, 0.00000000e+00,\n",
       "       0.00000000e+00, 0.00000000e+00, 0.00000000e+00, 0.00000000e+00,\n",
       "       0.00000000e+00, 0.00000000e+00, 0.00000000e+00, 0.00000000e+00,\n",
       "       0.00000000e+00, 0.00000000e+00, 0.00000000e+00, 0.00000000e+00,\n",
       "       0.00000000e+00, 0.00000000e+00, 0.00000000e+00, 0.00000000e+00,\n",
       "       0.00000000e+00, 0.00000000e+00, 0.00000000e+00, 0.00000000e+00,\n",
       "       0.00000000e+00, 0.00000000e+00, 0.00000000e+00, 0.00000000e+00,\n",
       "       0.00000000e+00, 0.00000000e+00, 0.00000000e+00, 0.00000000e+00,\n",
       "       0.00000000e+00, 0.00000000e+00, 0.00000000e+00, 0.00000000e+00,\n",
       "       0.00000000e+00, 0.00000000e+00, 0.00000000e+00, 0.00000000e+00,\n",
       "       0.00000000e+00, 0.00000000e+00, 0.00000000e+00, 0.00000000e+00,\n",
       "       0.00000000e+00, 0.00000000e+00, 0.00000000e+00, 0.00000000e+00,\n",
       "       0.00000000e+00, 0.00000000e+00, 0.00000000e+00, 0.00000000e+00,\n",
       "       0.00000000e+00, 0.00000000e+00, 0.00000000e+00, 0.00000000e+00,\n",
       "       0.00000000e+00, 0.00000000e+00, 0.00000000e+00, 0.00000000e+00,\n",
       "       0.00000000e+00, 0.00000000e+00, 0.00000000e+00, 0.00000000e+00,\n",
       "       0.00000000e+00, 0.00000000e+00, 0.00000000e+00, 0.00000000e+00,\n",
       "       0.00000000e+00, 0.00000000e+00, 0.00000000e+00, 0.00000000e+00,\n",
       "       0.00000000e+00, 0.00000000e+00, 0.00000000e+00, 0.00000000e+00,\n",
       "       0.00000000e+00, 0.00000000e+00, 0.00000000e+00, 0.00000000e+00,\n",
       "       0.00000000e+00, 0.00000000e+00, 0.00000000e+00, 0.00000000e+00,\n",
       "       0.00000000e+00, 0.00000000e+00, 0.00000000e+00, 0.00000000e+00,\n",
       "       0.00000000e+00, 0.00000000e+00, 0.00000000e+00, 0.00000000e+00,\n",
       "       0.00000000e+00, 0.00000000e+00, 0.00000000e+00, 0.00000000e+00,\n",
       "       0.00000000e+00, 0.00000000e+00, 0.00000000e+00, 0.00000000e+00,\n",
       "       0.00000000e+00, 0.00000000e+00, 0.00000000e+00, 0.00000000e+00,\n",
       "       0.00000000e+00, 0.00000000e+00, 0.00000000e+00, 0.00000000e+00,\n",
       "       0.00000000e+00, 0.00000000e+00, 0.00000000e+00, 0.00000000e+00,\n",
       "       0.00000000e+00, 0.00000000e+00, 0.00000000e+00, 0.00000000e+00,\n",
       "       0.00000000e+00, 0.00000000e+00, 0.00000000e+00, 0.00000000e+00,\n",
       "       0.00000000e+00, 0.00000000e+00, 0.00000000e+00, 0.00000000e+00,\n",
       "       0.00000000e+00, 0.00000000e+00, 0.00000000e+00, 0.00000000e+00,\n",
       "       0.00000000e+00, 0.00000000e+00, 0.00000000e+00, 0.00000000e+00,\n",
       "       0.00000000e+00, 0.00000000e+00, 0.00000000e+00, 0.00000000e+00,\n",
       "       0.00000000e+00, 0.00000000e+00, 0.00000000e+00, 0.00000000e+00,\n",
       "       0.00000000e+00, 0.00000000e+00, 0.00000000e+00, 0.00000000e+00,\n",
       "       0.00000000e+00, 0.00000000e+00, 0.00000000e+00, 0.00000000e+00,\n",
       "       0.00000000e+00, 0.00000000e+00, 0.00000000e+00, 0.00000000e+00,\n",
       "       0.00000000e+00, 0.00000000e+00, 0.00000000e+00, 0.00000000e+00,\n",
       "       0.00000000e+00, 0.00000000e+00, 0.00000000e+00, 0.00000000e+00,\n",
       "       0.00000000e+00, 0.00000000e+00, 0.00000000e+00, 0.00000000e+00,\n",
       "       0.00000000e+00, 0.00000000e+00, 0.00000000e+00, 0.00000000e+00,\n",
       "       0.00000000e+00, 0.00000000e+00, 0.00000000e+00, 0.00000000e+00,\n",
       "       0.00000000e+00, 0.00000000e+00, 0.00000000e+00, 0.00000000e+00,\n",
       "       0.00000000e+00, 0.00000000e+00, 0.00000000e+00, 0.00000000e+00,\n",
       "       0.00000000e+00, 0.00000000e+00, 0.00000000e+00, 0.00000000e+00,\n",
       "       0.00000000e+00, 0.00000000e+00, 0.00000000e+00, 0.00000000e+00,\n",
       "       0.00000000e+00, 0.00000000e+00, 0.00000000e+00, 0.00000000e+00,\n",
       "       0.00000000e+00, 0.00000000e+00, 0.00000000e+00, 0.00000000e+00,\n",
       "       0.00000000e+00, 0.00000000e+00, 0.00000000e+00, 0.00000000e+00,\n",
       "       0.00000000e+00, 0.00000000e+00, 0.00000000e+00, 0.00000000e+00,\n",
       "       0.00000000e+00, 0.00000000e+00, 0.00000000e+00, 0.00000000e+00,\n",
       "       0.00000000e+00, 0.00000000e+00, 0.00000000e+00, 0.00000000e+00,\n",
       "       0.00000000e+00, 0.00000000e+00, 0.00000000e+00, 0.00000000e+00,\n",
       "       0.00000000e+00, 0.00000000e+00, 0.00000000e+00, 0.00000000e+00,\n",
       "       0.00000000e+00, 0.00000000e+00, 0.00000000e+00, 0.00000000e+00,\n",
       "       0.00000000e+00, 0.00000000e+00, 0.00000000e+00, 0.00000000e+00,\n",
       "       0.00000000e+00, 0.00000000e+00, 0.00000000e+00, 0.00000000e+00,\n",
       "       0.00000000e+00, 0.00000000e+00, 0.00000000e+00, 0.00000000e+00,\n",
       "       0.00000000e+00, 0.00000000e+00, 0.00000000e+00, 0.00000000e+00,\n",
       "       0.00000000e+00, 0.00000000e+00, 0.00000000e+00, 0.00000000e+00,\n",
       "       0.00000000e+00, 0.00000000e+00, 0.00000000e+00, 0.00000000e+00,\n",
       "       0.00000000e+00, 0.00000000e+00, 0.00000000e+00, 0.00000000e+00,\n",
       "       0.00000000e+00, 0.00000000e+00, 0.00000000e+00, 0.00000000e+00,\n",
       "       0.00000000e+00, 0.00000000e+00, 0.00000000e+00, 0.00000000e+00,\n",
       "       0.00000000e+00, 0.00000000e+00, 0.00000000e+00, 0.00000000e+00,\n",
       "       0.00000000e+00, 0.00000000e+00, 0.00000000e+00, 0.00000000e+00,\n",
       "       0.00000000e+00, 0.00000000e+00, 0.00000000e+00, 0.00000000e+00,\n",
       "       0.00000000e+00, 0.00000000e+00, 0.00000000e+00, 0.00000000e+00,\n",
       "       0.00000000e+00, 0.00000000e+00, 0.00000000e+00, 0.00000000e+00,\n",
       "       0.00000000e+00, 0.00000000e+00, 0.00000000e+00, 0.00000000e+00])"
      ]
     },
     "execution_count": 53,
     "metadata": {},
     "output_type": "execute_result"
    }
   ],
   "source": [
    " np.square(np.maximum(2 + bf.angle(eval_points,theta = 0.5)[out_], 0) - np.maximum(2 + bf.angle(eval_points,theta = 0.4)[out_], 0))"
   ]
  },
  {
   "cell_type": "code",
   "execution_count": 49,
   "metadata": {},
   "outputs": [
    {
     "data": {
      "text/plain": [
       "array([-0.,  0.,  0.,  0.,  0.,  0.,  0.,  0.,  0.,  0.,  0.,  0.,  0.,\n",
       "        0.,  0.,  0.,  0.,  0.,  0.,  0.,  0.,  0.,  0.,  0.,  0.,  0.,\n",
       "        0.,  0.,  0.,  0.,  0.,  0.,  0.,  0.,  0.,  0.,  0.,  0.,  0.,\n",
       "        0.,  0.,  0.,  0.,  0.,  0.,  0.,  0.,  0.,  0.,  0.,  0.,  0.,\n",
       "        0.,  0.,  0.,  0.,  0.,  0.,  0.,  0.,  0.,  0.,  0.,  0.,  0.,\n",
       "        0.,  0.,  0.,  0.,  0.,  0.,  0.,  0.,  0.,  0.,  0.,  0.,  0.,\n",
       "        0.,  0.,  0.,  0.,  0.,  0.,  0.,  0.,  0.,  0.,  0.,  0.,  0.,\n",
       "        0.,  0.,  0.,  0.,  0.,  0.,  0.,  0.,  0.,  0.,  0.,  0.,  0.,\n",
       "        0.,  0.,  0.,  0.,  0.,  0.,  0.,  0.,  0.,  0.,  0.,  0.,  0.,\n",
       "        0.,  0.,  0.,  0.,  0.,  0.,  0.,  0.,  0.,  0.,  0.,  0.,  0.,\n",
       "        0.,  0.,  0.,  0.,  0.,  0.,  0.,  0.,  0.,  0.,  0.,  0.,  0.,\n",
       "        0.,  0.,  0.,  0.,  0.,  0.,  0.,  0.,  0.,  0.,  0.,  0.,  0.,\n",
       "        0.,  0.,  0.,  0.,  0.,  0.,  0.,  0.,  0.,  0.,  0.,  0.,  0.,\n",
       "        0.,  0.,  0.,  0.,  0.,  0.,  0.,  0.,  0.,  0.,  0.,  0.,  0.,\n",
       "        0.,  0.,  0.,  0.,  0.,  0.,  0.,  0.,  0.,  0.,  0.,  0.,  0.,\n",
       "        0.,  0.,  0.,  0.,  0.,  0.,  0.,  0.,  0.,  0.,  0.,  0.,  0.,\n",
       "        0.,  0.,  0.,  0.,  0.,  0.,  0.,  0.,  0.,  0.,  0.,  0.,  0.,\n",
       "        0.,  0.,  0.,  0.,  0.,  0.,  0.,  0.,  0.,  0.,  0.,  0.,  0.,\n",
       "        0.,  0.,  0.,  0.,  0.,  0.,  0.,  0.,  0.,  0.,  0.,  0.,  0.,\n",
       "        0.,  0.,  0.,  0.,  0.,  0.,  0.,  0.,  0.,  0.,  0.,  0.,  0.,\n",
       "        0.,  0.,  0.,  0.,  0.,  0.,  0.,  0.,  0.,  0.,  0.,  0.,  0.,\n",
       "        0.,  0.,  0.,  0.,  0.,  0.,  0.,  0.,  0.,  0.,  0.,  0.,  0.,\n",
       "        0.,  0.,  0.,  0.,  0.,  0.,  0.,  0.,  0.,  0.,  0.,  0.,  0.,\n",
       "        0.,  0.,  0.,  0.,  0.,  0.,  0.,  0.,  0.,  0.,  0.,  0.,  0.,\n",
       "        0.,  0.,  0.,  0.,  0.,  0.,  0.,  0.,  0.,  0.,  0.,  0.,  0.,\n",
       "        0.,  0.,  0.,  0.,  0.,  0.,  0.,  0.,  0.,  0.,  0.,  0.,  0.,\n",
       "        0.,  0.,  0.,  0.,  0.,  0.,  0.,  0.,  0.,  0.,  0.,  0.,  0.,\n",
       "        0.,  0.,  0.,  0.,  0.,  0.,  0.,  0.,  0.,  0.,  0.,  0.,  0.,\n",
       "        0.,  0.,  0.,  0.,  0.,  0.,  0.,  0.,  0.,  0.,  0.,  0.,  0.,\n",
       "        0.,  0.,  0.,  0.,  0.,  0.,  0.,  0.,  0.,  0.,  0.,  0.,  0.,\n",
       "        0.,  0.,  0.,  0.,  0.,  0.,  0.,  0.,  0.,  0.,  0.,  0.,  0.,\n",
       "        0.,  0.,  0.,  0.,  0.,  0.,  0.,  0.,  0.,  0.,  0.,  0.,  0.,\n",
       "        0.,  0.,  0.,  0.,  0.,  0.,  0.,  0.,  0.,  0.,  0.,  0.,  0.,\n",
       "        0.,  0.,  0.,  0.,  0.,  0.,  0.,  0.,  0.,  0.,  0.,  0.,  0.,\n",
       "        0.,  0.,  0.,  0.,  0.,  0.,  0.,  0.,  0.,  0.,  0.,  0.,  0.,\n",
       "        0.,  0.,  0.,  0.,  0.,  0.,  0.,  0.,  0.,  0.,  0.,  0.,  0.,\n",
       "        0.,  0.,  0.,  0.,  0.,  0.,  0.,  0.,  0.,  0.,  0.,  0.,  0.,\n",
       "        0.,  0.,  0.,  0.,  0.,  0.,  0.,  0.,  0.,  0.,  0.,  0.,  0.,\n",
       "        0.,  0.,  0.,  0.,  0.,  0.,  0.,  0.,  0.,  0.,  0.,  0.,  0.,\n",
       "        0.,  0.,  0.,  0.,  0.,  0.,  0.,  0.,  0.,  0.,  0.,  0.,  0.,\n",
       "        0.,  0.,  0.,  0.,  0.,  0.,  0.,  0.,  0.,  0.,  0.,  0.,  0.,\n",
       "        0.,  0.,  0.,  0.,  0.,  0.,  0.,  0.,  0.,  0.,  0.,  0.,  0.,\n",
       "        0.,  0.,  0.,  0.,  0.,  0.,  0.,  0.,  0.,  0.,  0.,  0.,  0.,\n",
       "        0.,  0.,  0.,  0.,  0.,  0.,  0.,  0.,  0.,  0.,  0.,  0.,  0.,\n",
       "        0.,  0.,  0.,  0.,  0.,  0.,  0.,  0.,  0.,  0.,  0.,  0.,  0.,\n",
       "        0.,  0.,  0.,  0.,  0.,  0.,  0.,  0.,  0.,  0.,  0.,  0.,  0.,\n",
       "        0.,  0.,  0.,  0.,  0.,  0.,  0.,  0.,  0.,  0.,  0.,  0.,  0.,\n",
       "        0.,  0.,  0.,  0.,  0.,  0.,  0.,  0.,  0.,  0.,  0.,  0.,  0.,\n",
       "        0.,  0.,  0.,  0.,  0.,  0.,  0.,  0.,  0.,  0.,  0.,  0.,  0.,\n",
       "        0.,  0.,  0.,  0.,  0.,  0.,  0.,  0.,  0.,  0.,  0.,  0.,  0.,\n",
       "        0.,  0.,  0.,  0.,  0.,  0.,  0.,  0.,  0.,  0.,  0.,  0.,  0.,\n",
       "        0.,  0.,  0.,  0.,  0.,  0.,  0.,  0.,  0.,  0.,  0.,  0.,  0.,\n",
       "        0.,  0.,  0.,  0.,  0.,  0.,  0.,  0.,  0.,  0.,  0.,  0.,  0.,\n",
       "        0.,  0.,  0.,  0.,  0.,  0.,  0.,  0.,  0.,  0.,  0.,  0.,  0.,\n",
       "        0.,  0.,  0.,  0.,  0.,  0.,  0.,  0.,  0.,  0.,  0.,  0.,  0.,\n",
       "        0.,  0.,  0.,  0.,  0.,  0.,  0.,  0.,  0.,  0.,  0.,  0.,  0.,\n",
       "        0.,  0.,  0.,  0.,  0.,  0.,  0.,  0.,  0.,  0.,  0.,  0.,  0.,\n",
       "        0.,  0.,  0.,  0.,  0.,  0.,  0.,  0.,  0.,  0.,  0.,  0.,  0.,\n",
       "        0.,  0.,  0.,  0.,  0.,  0.,  0.,  0.,  0.,  0.,  0.,  0.,  0.,\n",
       "        0.,  0.,  0.,  0.,  0.,  0.,  0.,  0.,  0.,  0.,  0.,  0.,  0.,\n",
       "        0.,  0.,  0.,  0.,  0.,  0.,  0.,  0.,  0.,  0.,  0.,  0.,  0.,\n",
       "        0.,  0.,  0.,  0.,  0.,  0.,  0.,  0.,  0.,  0.,  0.,  0.,  0.,\n",
       "        0.,  0.,  0.,  0.,  0.,  0.,  0.,  0.,  0.,  0.,  0.,  0.,  0.,\n",
       "        0.,  0.,  0.,  0.,  0.,  0.,  0.,  0.,  0.,  0.,  0.,  0.,  0.,\n",
       "        0.,  0.,  0.,  0.,  0.,  0.,  0.,  0.,  0.,  0.,  0.,  0.,  0.,\n",
       "        0.,  0.,  0.,  0.,  0.,  0.,  0.,  0.,  0.,  0.,  0.,  0.,  0.,\n",
       "        0.,  0.,  0.,  0.,  0.,  0.,  0.,  0.,  0.,  0.,  0.,  0.,  0.,\n",
       "        0.,  0.,  0.,  0.,  0.])"
      ]
     },
     "execution_count": 49,
     "metadata": {},
     "output_type": "execute_result"
    }
   ],
   "source": [
    "np.maximum(bf.angle(eval_points,theta = 0.5)[out_], 0)"
   ]
  },
  {
   "cell_type": "code",
   "execution_count": 50,
   "metadata": {},
   "outputs": [
    {
     "data": {
      "text/plain": [
       "array([ -0.        ,  -0.01093699,  -0.02187397,  -0.03281096,\n",
       "        -0.04374795,  -0.05468493,  -0.06562192,  -0.07655891,\n",
       "        -0.08749589,  -0.09843288,  -0.10936987,  -0.12030685,\n",
       "        -0.13124384,  -0.14218083,  -0.15311781,  -0.1640548 ,\n",
       "        -0.17499179,  -0.18592878,  -0.19686576,  -0.20780275,\n",
       "        -0.21873974,  -0.22967672,  -0.24061371,  -0.2515507 ,\n",
       "        -0.26248768,  -0.27342467,  -0.28436166,  -0.29529864,\n",
       "        -0.30623563,  -0.31717262,  -0.3281096 ,  -0.33904659,\n",
       "        -0.34998358,  -0.36092056,  -0.37185755,  -0.38279454,\n",
       "        -0.39373152,  -0.40466851,  -0.4156055 ,  -0.42654248,\n",
       "        -0.43747947,  -0.44841646,  -0.45935344,  -0.47029043,\n",
       "        -0.48122742,  -0.49216441,  -0.50310139,  -0.51403838,\n",
       "        -0.52497537,  -0.53591235,  -0.54684934,  -0.55778633,\n",
       "        -0.56872331,  -0.5796603 ,  -0.59059729,  -0.60153427,\n",
       "        -0.61247126,  -0.62340825,  -0.63434523,  -0.64528222,\n",
       "        -0.65621921,  -0.66715619,  -0.67809318,  -0.68903017,\n",
       "        -0.69996715,  -0.71090414,  -0.72184113,  -0.73277811,\n",
       "        -0.7437151 ,  -0.75465209,  -0.76558907,  -0.77652606,\n",
       "        -0.78746305,  -2.1545864 ,  -2.16552338,  -2.17646037,\n",
       "        -2.18739736,  -2.19833434,  -2.20927133,  -2.22020832,\n",
       "        -2.2311453 ,  -2.24208229,  -2.25301928,  -2.26395626,\n",
       "        -2.27489325,  -2.28583024,  -2.29676722,  -2.30770421,\n",
       "        -2.3186412 ,  -2.32957818,  -2.34051517,  -2.35145216,\n",
       "        -2.36238915,  -2.37332613,  -2.38426312,  -2.39520011,\n",
       "        -2.40613709,  -2.41707408,  -2.42801107,  -2.43894805,\n",
       "        -2.44988504,  -2.46082203,  -2.47175901,  -2.482696  ,\n",
       "        -2.49363299,  -2.50456997,  -2.51550696,  -2.52644395,\n",
       "        -2.53738093,  -2.54831792,  -2.55925491,  -2.57019189,\n",
       "        -2.58112888,  -2.59206587,  -2.60300285,  -2.61393984,\n",
       "        -2.62487683,  -2.63581381,  -2.6467508 ,  -2.65768779,\n",
       "        -2.66862478,  -2.67956176,  -2.69049875,  -2.70143574,\n",
       "        -2.71237272,  -2.72330971,  -2.7342467 ,  -2.74518368,\n",
       "        -2.75612067,  -2.76705766,  -2.77799464,  -2.78893163,\n",
       "        -2.79986862,  -2.8108056 ,  -2.82174259,  -2.83267958,\n",
       "        -2.84361656,  -2.85455355,  -2.86549054,  -2.87642752,\n",
       "        -2.88736451,  -2.8983015 ,  -2.90923848,  -2.92017547,\n",
       "        -2.93111246,  -2.94204944,  -2.95298643,  -2.96392342,\n",
       "        -2.97486041,  -2.98579739,  -2.99673438,  -3.00767137,\n",
       "        -3.01860835,  -3.02954534,  -3.04048233,  -3.05141931,\n",
       "        -3.0623563 ,  -3.07329329,  -3.08423027,  -3.09516726,\n",
       "        -3.10610425,  -3.11704123,  -3.12797822,  -3.13891521,\n",
       "        -3.14985219,  -3.16078918,  -3.17172617,  -3.18266315,\n",
       "        -3.19360014,  -3.20453713,  -3.21547411,  -3.2264111 ,\n",
       "        -3.23734809,  -3.24828507,  -3.25922206,  -3.27015905,\n",
       "        -3.28109604,  -3.29203302,  -3.30297001,  -3.313907  ,\n",
       "        -3.32484398,  -3.33578097,  -3.34671796,  -3.35765494,\n",
       "        -3.36859193,  -3.37952892,  -3.3904659 ,  -3.40140289,\n",
       "        -3.41233988,  -3.42327686,  -3.43421385,  -3.44515084,\n",
       "        -3.45608782,  -3.46702481,  -3.4779618 ,  -3.48889878,\n",
       "        -3.49983577,  -3.51077276,  -3.52170974,  -3.53264673,\n",
       "        -3.54358372,  -3.5545207 ,  -3.56545769,  -3.57639468,\n",
       "        -3.58733167,  -3.59826865,  -3.60920564,  -3.62014263,\n",
       "        -3.63107961,  -3.6420166 ,  -3.65295359,  -3.66389057,\n",
       "        -3.67482756,  -3.68576455,  -3.69670153,  -3.70763852,\n",
       "        -3.71857551,  -3.72951249,  -3.74044948,  -3.75138647,\n",
       "        -3.76232345,  -3.77326044,  -3.78419743,  -3.79513441,\n",
       "        -3.8060714 ,  -3.81700839,  -3.82794537,  -3.83888236,\n",
       "        -3.84981935,  -3.86075633,  -3.87169332,  -3.88263031,\n",
       "        -3.89356729,  -3.90450428,  -3.91544127,  -3.92637826,\n",
       "        -3.93731524,  -3.94825223,  -3.95918922,  -3.9701262 ,\n",
       "        -3.98106319,  -3.99200018,  -4.00293716,  -4.01387415,\n",
       "        -4.02481114,  -4.03574812,  -4.04668511,  -4.0576221 ,\n",
       "        -4.06855908,  -4.07949607,  -4.09043306,  -4.10137004,\n",
       "        -4.11230703,  -4.12324402,  -4.134181  ,  -4.14511799,\n",
       "        -4.15605498,  -4.16699196,  -4.17792895,  -4.18886594,\n",
       "        -4.19980292,  -4.21073991,  -4.2216769 ,  -4.23261389,\n",
       "        -4.24355087,  -4.25448786,  -4.26542485,  -4.27636183,\n",
       "        -4.28729882,  -4.29823581,  -4.30917279,  -4.32010978,\n",
       "        -4.33104677,  -4.34198375,  -4.35292074,  -4.36385773,\n",
       "        -4.37479471,  -4.3857317 ,  -4.39666869,  -4.40760567,\n",
       "        -4.41854266,  -4.42947965,  -4.44041663,  -4.45135362,\n",
       "        -4.46229061,  -4.47322759,  -4.48416458,  -4.49510157,\n",
       "        -4.50603855,  -4.51697554,  -4.52791253,  -4.53884952,\n",
       "        -4.5497865 ,  -4.56072349,  -4.57166048,  -4.58259746,\n",
       "        -4.59353445,  -4.60447144,  -4.61540842,  -4.62634541,\n",
       "        -4.6372824 ,  -4.64821938,  -4.65915637,  -4.67009336,\n",
       "        -4.68103034,  -4.69196733,  -4.70290432,  -4.7138413 ,\n",
       "        -4.72477829,  -4.73571528,  -4.74665226,  -4.75758925,\n",
       "        -4.76852624,  -4.77946322,  -4.79040021,  -4.8013372 ,\n",
       "        -4.81227418,  -4.82321117,  -4.83414816,  -4.84508515,\n",
       "        -4.85602213,  -4.86695912,  -4.87789611,  -4.88883309,\n",
       "        -4.89977008,  -4.91070707,  -4.92164405,  -4.93258104,\n",
       "        -4.94351803,  -4.95445501,  -4.965392  ,  -4.97632899,\n",
       "        -4.98726597,  -4.99820296,  -5.00913995,  -5.02007693,\n",
       "        -5.03101392,  -5.04195091,  -5.05288789,  -5.06382488,\n",
       "        -5.07476187,  -5.08569885,  -5.09663584,  -5.10757283,\n",
       "        -5.11850981,  -5.1294468 ,  -5.14038379,  -5.15132078,\n",
       "        -5.16225776,  -5.17319475,  -5.18413174,  -5.19506872,\n",
       "        -5.20600571,  -5.2169427 ,  -5.22787968,  -5.23881667,\n",
       "        -5.24975366,  -5.26069064,  -5.27162763,  -5.28256462,\n",
       "        -5.2935016 ,  -5.30443859,  -5.31537558,  -5.32631256,\n",
       "        -5.33724955,  -5.34818654,  -5.35912352,  -5.37006051,\n",
       "        -5.3809975 ,  -5.39193448,  -5.40287147,  -5.41380846,\n",
       "        -5.42474544,  -5.43568243,  -5.44661942,  -5.45755641,\n",
       "        -5.46849339,  -5.47943038,  -5.49036737,  -5.50130435,\n",
       "        -5.51224134,  -5.52317833,  -5.53411531,  -5.5450523 ,\n",
       "        -5.55598929,  -5.56692627,  -5.57786326,  -5.58880025,\n",
       "        -5.59973723,  -5.61067422,  -5.62161121,  -5.63254819,\n",
       "        -5.64348518,  -5.65442217,  -5.66535915,  -5.67629614,\n",
       "        -5.68723313,  -5.69817011,  -5.7091071 ,  -5.72004409,\n",
       "        -5.73098107,  -5.74191806,  -5.75285505,  -5.76379203,\n",
       "        -5.77472902,  -5.78566601,  -5.796603  ,  -5.80753998,\n",
       "        -5.81847697,  -5.82941396,  -5.84035094,  -5.85128793,\n",
       "        -5.86222492,  -5.8731619 ,  -5.88409889,  -5.89503588,\n",
       "        -5.90597286,  -5.91690985,  -5.92784684,  -5.93878382,\n",
       "        -5.94972081,  -5.9606578 ,  -5.97159478,  -5.98253177,\n",
       "        -5.99346876,  -6.00440574,  -6.01534273,  -6.02627972,\n",
       "        -6.0372167 ,  -6.04815369,  -6.05909068,  -6.07002766,\n",
       "        -6.08096465,  -6.09190164,  -6.10283863,  -6.11377561,\n",
       "        -6.1247126 ,  -6.13564959,  -6.14658657,  -6.15752356,\n",
       "        -6.16846055,  -6.17939753,  -6.19033452,  -6.20127151,\n",
       "        -6.21220849,  -6.22314548,  -6.23408247,  -6.24501945,\n",
       "        -6.25595644,  -6.26689343,  -6.27783041,  -6.2887674 ,\n",
       "        -6.29970439,  -6.31064137,  -6.32157836,  -6.33251535,\n",
       "        -6.34345233,  -6.35438932,  -6.36532631,  -6.37626329,\n",
       "        -6.38720028,  -6.39813727,  -6.40907426,  -6.42001124,\n",
       "        -6.43094823,  -6.44188522,  -6.4528222 ,  -6.46375919,\n",
       "        -6.47469618,  -6.48563316,  -6.49657015,  -6.50750714,\n",
       "        -6.51844412,  -6.52938111,  -6.5403181 ,  -6.55125508,\n",
       "        -6.56219207,  -6.57312906,  -6.58406604,  -6.59500303,\n",
       "        -6.60594002,  -6.616877  ,  -6.62781399,  -6.63875098,\n",
       "        -6.64968796,  -6.66062495,  -6.67156194,  -6.68249892,\n",
       "        -6.69343591,  -6.7043729 ,  -6.71530989,  -6.72624687,\n",
       "        -6.73718386,  -6.74812085,  -6.75905783,  -6.76999482,\n",
       "        -6.78093181,  -6.79186879,  -6.80280578,  -6.81374277,\n",
       "        -6.82467975,  -6.83561674,  -6.84655373,  -6.85749071,\n",
       "        -6.8684277 ,  -6.87936469,  -6.89030167,  -6.90123866,\n",
       "        -6.91217565,  -6.92311263,  -6.93404962,  -6.94498661,\n",
       "        -6.95592359,  -6.96686058,  -6.97779757,  -6.98873455,\n",
       "        -6.99967154,  -7.01060853,  -7.02154552,  -7.0324825 ,\n",
       "        -7.04341949,  -7.05435648,  -7.06529346,  -7.07623045,\n",
       "        -7.08716744,  -7.09810442,  -7.10904141,  -7.1199784 ,\n",
       "        -7.13091538,  -7.14185237,  -7.15278936,  -7.16372634,\n",
       "        -7.17466333,  -7.18560032,  -7.1965373 ,  -7.20747429,\n",
       "        -7.21841128,  -7.22934826,  -7.24028525,  -7.25122224,\n",
       "        -7.26215922,  -7.27309621,  -7.2840332 ,  -7.29497018,\n",
       "        -7.30590717,  -7.31684416,  -7.32778115,  -7.33871813,\n",
       "        -7.34965512,  -7.36059211,  -7.37152909,  -7.38246608,\n",
       "        -7.39340307,  -7.40434005,  -7.41527704,  -7.42621403,\n",
       "        -7.43715101,  -7.448088  ,  -7.45902499,  -7.46996197,\n",
       "        -7.48089896,  -7.49183595,  -7.50277293,  -7.51370992,\n",
       "        -7.52464691,  -7.53558389,  -7.54652088,  -7.55745787,\n",
       "        -7.56839485,  -7.57933184,  -7.59026883,  -7.60120581,\n",
       "        -7.6121428 ,  -7.62307979,  -7.63401677,  -7.64495376,\n",
       "        -7.65589075,  -7.66682774,  -7.67776472,  -7.68870171,\n",
       "        -7.6996387 ,  -7.71057568,  -7.72151267,  -7.73244966,\n",
       "        -7.74338664,  -7.75432363,  -7.76526062,  -7.7761976 ,\n",
       "        -7.78713459,  -7.79807158,  -7.80900856,  -7.81994555,\n",
       "        -7.83088254,  -7.84181952,  -7.85275651,  -7.8636935 ,\n",
       "        -7.87463048,  -7.88556747,  -7.89650446,  -7.90744144,\n",
       "        -7.91837843,  -7.92931542,  -7.9402524 ,  -7.95118939,\n",
       "        -7.96212638,  -7.97306337,  -7.98400035,  -7.99493734,\n",
       "        -8.00587433,  -8.01681131,  -8.0277483 ,  -8.03868529,\n",
       "        -8.04962227,  -8.06055926,  -8.07149625,  -8.08243323,\n",
       "        -8.09337022,  -8.10430721,  -8.11524419,  -8.12618118,\n",
       "        -8.13711817,  -8.14805515,  -8.15899214,  -8.16992913,\n",
       "        -8.18086611,  -8.1918031 ,  -8.20274009,  -8.21367707,\n",
       "        -8.22461406,  -8.23555105,  -8.24648803,  -8.25742502,\n",
       "        -8.26836201,  -8.279299  ,  -8.29023598,  -8.30117297,\n",
       "        -8.31210996,  -8.32304694,  -8.33398393,  -8.34492092,\n",
       "        -8.3558579 ,  -8.36679489,  -8.37773188,  -8.38866886,\n",
       "        -8.39960585,  -8.41054284,  -8.42147982,  -8.43241681,\n",
       "        -8.4433538 ,  -8.45429078,  -8.46522777,  -8.47616476,\n",
       "        -8.48710174,  -8.49803873,  -8.50897572,  -8.5199127 ,\n",
       "        -8.53084969,  -8.54178668,  -8.55272366,  -8.56366065,\n",
       "        -8.57459764,  -8.58553463,  -8.59647161,  -8.6074086 ,\n",
       "        -8.61834559,  -8.62928257,  -8.64021956,  -8.65115655,\n",
       "        -8.66209353,  -8.67303052,  -8.68396751,  -8.69490449,\n",
       "        -8.70584148,  -8.71677847,  -8.72771545,  -8.73865244,\n",
       "        -8.74958943,  -8.76052641,  -8.7714634 ,  -8.78240039,\n",
       "        -8.79333737,  -8.80427436,  -8.81521135,  -8.82614833,\n",
       "        -8.83708532,  -8.84802231,  -8.85895929,  -8.86989628,\n",
       "        -8.88083327,  -8.89177026,  -8.90270724,  -8.91364423,\n",
       "        -8.92458122,  -8.9355182 ,  -8.94645519,  -8.95739218,\n",
       "        -8.96832916,  -8.97926615,  -8.99020314,  -9.00114012,\n",
       "        -9.01207711,  -9.0230141 ,  -9.03395108,  -9.04488807,\n",
       "        -9.05582506,  -9.06676204,  -9.07769903,  -9.08863602,\n",
       "        -9.099573  ,  -9.11050999,  -9.12144698,  -9.13238396,\n",
       "        -9.14332095,  -9.15425794,  -9.16519492,  -9.17613191,\n",
       "        -9.1870689 ,  -9.19800589,  -9.20894287,  -9.21987986,\n",
       "        -9.23081685,  -9.24175383,  -9.25269082,  -9.26362781,\n",
       "        -9.27456479,  -9.28550178,  -9.29643877,  -9.30737575,\n",
       "        -9.31831274,  -9.32924973,  -9.34018671,  -9.3511237 ,\n",
       "        -9.36206069,  -9.37299767,  -9.38393466,  -9.39487165,\n",
       "        -9.40580863,  -9.41674562,  -9.42768261,  -9.43861959,\n",
       "        -9.44955658,  -9.46049357,  -9.47143055,  -9.48236754,\n",
       "        -9.49330453,  -9.50424152,  -9.5151785 ,  -9.52611549,\n",
       "        -9.53705248,  -9.54798946,  -9.55892645,  -9.56986344,\n",
       "        -9.58080042,  -9.59173741,  -9.6026744 ,  -9.61361138,\n",
       "        -9.62454837,  -9.63548536,  -9.64642234,  -9.65735933,\n",
       "        -9.66829632,  -9.6792333 ,  -9.69017029,  -9.70110728,\n",
       "        -9.71204426,  -9.72298125,  -9.73391824,  -9.74485522,\n",
       "        -9.75579221,  -9.7667292 ,  -9.77766618,  -9.78860317,\n",
       "        -9.79954016,  -9.81047714,  -9.82141413,  -9.83235112,\n",
       "        -9.84328811,  -9.85422509,  -9.86516208,  -9.87609907,\n",
       "        -9.88703605,  -9.89797304,  -9.90891003,  -9.91984701,\n",
       "        -9.930784  ,  -9.94172099,  -9.95265797,  -9.96359496,\n",
       "        -9.97453195,  -9.98546893,  -9.99640592, -10.00734291,\n",
       "       -10.01827989, -10.02921688, -10.04015387, -10.05109085,\n",
       "       -10.06202784, -10.07296483, -10.08390181, -10.0948388 ,\n",
       "       -10.10577579, -10.11671277, -10.12764976, -10.13858675,\n",
       "       -10.14952374, -10.16046072, -10.17139771, -10.1823347 ,\n",
       "       -10.19327168, -10.20420867, -10.21514566, -10.22608264,\n",
       "       -10.23701963, -10.24795662, -10.2588936 , -10.26983059,\n",
       "       -10.28076758, -10.29170456, -10.30264155, -10.31357854,\n",
       "       -10.32451552, -10.33545251, -10.3463895 , -10.35732648,\n",
       "       -10.36826347, -10.37920046, -10.39013744, -10.40107443,\n",
       "       -10.41201142, -10.4229484 , -10.43388539, -10.44482238,\n",
       "       -10.45575937, -10.46669635, -10.47763334, -10.48857033,\n",
       "       -10.49950731, -10.5104443 , -10.52138129, -10.53231827,\n",
       "       -10.54325526, -10.55419225, -10.56512923, -10.57606622,\n",
       "       -10.58700321, -10.59794019, -10.60887718, -10.61981417,\n",
       "       -10.63075115, -10.64168814, -10.65262513, -10.66356211,\n",
       "       -10.6744991 , -10.68543609, -10.69637307, -10.70731006,\n",
       "       -10.71824705, -10.72918403, -10.74012102, -10.75105801,\n",
       "       -10.761995  , -10.77293198, -10.78386897, -10.79480596,\n",
       "       -10.80574294, -10.81667993, -10.82761692, -10.8385539 ,\n",
       "       -10.84949089, -10.86042788, -10.87136486, -10.88230185,\n",
       "       -10.89323884, -10.90417582, -10.91511281, -10.9260498 ])"
      ]
     },
     "execution_count": 50,
     "metadata": {},
     "output_type": "execute_result"
    }
   ],
   "source": [
    "bf.angle(eval_points,theta = 0.5)[out_]"
   ]
  },
  {
   "cell_type": "code",
   "execution_count": 13,
   "metadata": {},
   "outputs": [],
   "source": [
    "\n",
    "\n",
    "x = np.random.normal(size = 1000) \n",
    "x_cdf = ECDF(x)"
   ]
  },
  {
   "cell_type": "code",
   "execution_count": 18,
   "metadata": {},
   "outputs": [
    {
     "data": {
      "text/plain": [
       "0.487"
      ]
     },
     "execution_count": 18,
     "metadata": {},
     "output_type": "execute_result"
    }
   ],
   "source": [
    "x_cdf(0.0)"
   ]
  },
  {
   "cell_type": "code",
   "execution_count": 21,
   "metadata": {},
   "outputs": [
    {
     "data": {
      "text/plain": [
       "array([0.487, 0.492, 0.499, 0.5  , 0.502, 0.506, 0.51 , 0.516, 0.522,\n",
       "       0.525, 0.525, 0.529, 0.531, 0.536, 0.538, 0.54 , 0.542, 0.547,\n",
       "       0.551, 0.557, 0.561, 0.563, 0.567, 0.569, 0.571, 0.573, 0.577,\n",
       "       0.582, 0.59 , 0.591, 0.594, 0.601, 0.605, 0.607, 0.61 , 0.616,\n",
       "       0.619, 0.624, 0.626, 0.632, 0.634, 0.634, 0.639, 0.644, 0.645,\n",
       "       0.647, 0.653, 0.655, 0.657, 0.663, 0.67 , 0.673, 0.674, 0.677,\n",
       "       0.679, 0.68 , 0.685, 0.686, 0.69 , 0.693, 0.694, 0.695, 0.7  ,\n",
       "       0.702, 0.704, 0.709, 0.709, 0.717, 0.718, 0.72 , 0.723, 0.727,\n",
       "       0.731, 0.735, 0.738, 0.742, 0.746, 0.75 , 0.753, 0.756, 0.761,\n",
       "       0.764, 0.767, 0.77 , 0.773, 0.774, 0.777, 0.78 , 0.782, 0.785,\n",
       "       0.787, 0.792, 0.797, 0.802, 0.804, 0.806, 0.808, 0.811, 0.813,\n",
       "       0.818])"
      ]
     },
     "execution_count": 21,
     "metadata": {},
     "output_type": "execute_result"
    }
   ],
   "source": [
    "x_cdf(np.linspace(0, 1, 100))"
   ]
  },
  {
   "cell_type": "code",
   "execution_count": 252,
   "metadata": {},
   "outputs": [
    {
     "data": {
      "text/plain": [
       "1"
      ]
     },
     "execution_count": 252,
     "metadata": {},
     "output_type": "execute_result"
    }
   ],
   "source": [
    "(1,)[0]"
   ]
  },
  {
   "cell_type": "code",
   "execution_count": 212,
   "metadata": {},
   "outputs": [],
   "source": [
    "import kde_info"
   ]
  },
  {
   "cell_type": "code",
   "execution_count": 215,
   "metadata": {},
   "outputs": [],
   "source": [
    "x = kde_info.temp"
   ]
  },
  {
   "cell_type": "code",
   "execution_count": 219,
   "metadata": {},
   "outputs": [],
   "source": [
    "#x"
   ]
  },
  {
   "cell_type": "code",
   "execution_count": 220,
   "metadata": {},
   "outputs": [],
   "source": [
    "param_bounds = x['ddm']['param_bounds_network'] + x['ddm']['boundary_param_bounds_network']"
   ]
  },
  {
   "cell_type": "code",
   "execution_count": 225,
   "metadata": {},
   "outputs": [
    {
     "data": {
      "text/plain": [
       "[[-3.0, 3.0], [0.3, 2.5], [0.1, 0.9], [0.0, 2.0]]"
      ]
     },
     "execution_count": 225,
     "metadata": {},
     "output_type": "execute_result"
    }
   ],
   "source": []
  },
  {
   "cell_type": "code",
   "execution_count": 227,
   "metadata": {},
   "outputs": [],
   "source": [
    "bounds = [[i[0] for i in  param_bounds], [i[1] for i in  param_bounds]]"
   ]
  },
  {
   "cell_type": "code",
   "execution_count": 237,
   "metadata": {},
   "outputs": [
    {
     "data": {
      "text/plain": [
       "array([[ 0.44524397,  0.76234082,  0.37651613,  1.84556165],\n",
       "       [-1.52449251,  0.79031087,  0.28449276,  1.99840051],\n",
       "       [-2.76235844,  1.51309817,  0.50808862,  1.08631735],\n",
       "       [ 2.64559078,  2.01424065,  0.83617154,  1.17889445],\n",
       "       [-2.48103207,  1.73562785,  0.74040418,  1.33860833],\n",
       "       [-0.55533605,  0.56746907,  0.38665119,  0.49000592],\n",
       "       [-0.19563899,  2.13323768,  0.62821171,  1.99384363],\n",
       "       [ 0.45312707,  0.49547774,  0.20110256,  0.57315236],\n",
       "       [ 2.95902972,  0.45384035,  0.42219785,  1.58150862],\n",
       "       [ 0.26376415,  0.65957714,  0.37782415,  0.41363304],\n",
       "       [ 1.05638602,  0.83551228,  0.44972194,  0.39704634],\n",
       "       [ 1.5934926 ,  0.71419533,  0.66160518,  1.03662345],\n",
       "       [-2.77084804,  0.91409527,  0.32598216,  0.40680127],\n",
       "       [ 1.76766061,  1.69120541,  0.28260972,  0.93287897],\n",
       "       [ 2.96317726,  1.77248246,  0.28401883,  1.40867371],\n",
       "       [-1.77435772,  1.07414329,  0.20304277,  0.62484086],\n",
       "       [ 0.35302586,  1.91254183,  0.88109797,  1.19206872],\n",
       "       [-1.99697354,  1.93477473,  0.58557712,  0.48593119],\n",
       "       [-0.2800655 ,  0.87301213,  0.72426858,  0.68902074],\n",
       "       [ 1.30451712,  1.02487089,  0.37752407,  1.20581925],\n",
       "       [ 1.13972847,  0.84736017,  0.24682726,  1.78342057],\n",
       "       [ 0.80860448,  1.30951504,  0.56480195,  0.0092336 ],\n",
       "       [-0.96056334,  1.65871477,  0.16736535,  0.19466748],\n",
       "       [ 0.44895191,  1.31645045,  0.42860488,  0.43527571],\n",
       "       [-1.21926976,  1.60841474,  0.78214859,  0.77292549],\n",
       "       [ 1.95374346,  0.97270532,  0.77936076,  0.3823732 ],\n",
       "       [-1.86822454,  0.30090511,  0.27743134,  0.13854558],\n",
       "       [ 1.46642064,  1.75833269,  0.1277123 ,  0.57930827],\n",
       "       [-0.17818039,  0.92948689,  0.27839751,  1.72800936],\n",
       "       [ 1.38977859,  0.39268259,  0.81280479,  1.93586638],\n",
       "       [ 2.7395067 ,  0.76247191,  0.21585409,  0.45366169],\n",
       "       [ 2.15281444,  1.02654062,  0.37384743,  0.83680158],\n",
       "       [ 0.25207099,  0.4179518 ,  0.18228349,  1.04374934],\n",
       "       [ 0.84032499,  1.72821796,  0.5879695 ,  0.08424765],\n",
       "       [-1.56250921,  2.27116106,  0.20300562,  1.97395707],\n",
       "       [ 1.89902258,  1.78290011,  0.58581712,  1.87677543],\n",
       "       [ 1.7438618 ,  0.75505066,  0.18701151,  0.57327117],\n",
       "       [ 2.88380223,  1.26765253,  0.88003025,  0.53805752],\n",
       "       [-2.03559451,  2.03163297,  0.4639646 ,  1.08339426],\n",
       "       [ 0.75098935,  1.53391505,  0.23391492,  0.21860265],\n",
       "       [-0.78562977,  0.6631731 ,  0.8324315 ,  0.51767807],\n",
       "       [-0.67503506,  0.39323776,  0.56389045,  1.35307041],\n",
       "       [-2.63512017,  2.02802641,  0.71522205,  0.11933371],\n",
       "       [ 2.43941397,  0.64475088,  0.46983062,  1.80135072],\n",
       "       [-1.06622162,  0.90132478,  0.11655269,  0.78762786],\n",
       "       [-0.18845061,  1.0234148 ,  0.10686279,  0.6475231 ],\n",
       "       [ 2.50738315,  0.80146332,  0.34645443,  1.94390248],\n",
       "       [-2.51172316,  2.15880593,  0.69730426,  0.43699679],\n",
       "       [ 0.96734611,  0.87355278,  0.24122732,  1.79690569],\n",
       "       [-0.75794694,  0.90352429,  0.1036525 ,  1.88702278],\n",
       "       [-2.58876996,  1.01398228,  0.20428777,  1.58486964],\n",
       "       [-2.14642097,  1.77934303,  0.37535301,  0.65015017],\n",
       "       [-1.70987224,  2.10236316,  0.19151023,  0.45384612],\n",
       "       [ 1.95443398,  2.18548668,  0.75643168,  0.50363547],\n",
       "       [-1.19685603,  0.94427152,  0.28567778,  1.85083988],\n",
       "       [ 1.36142275,  0.41657143,  0.14443322,  0.17635054],\n",
       "       [ 2.75179668,  1.97840033,  0.82548085,  1.91867497],\n",
       "       [-0.20663938,  1.84956629,  0.68367567,  0.22381483],\n",
       "       [ 0.57104893,  1.67025665,  0.77537632,  0.08684388],\n",
       "       [-2.28020347,  1.74372977,  0.14433705,  1.71871162],\n",
       "       [-2.21577959,  2.27431276,  0.22366069,  1.85468422],\n",
       "       [ 0.555466  ,  1.51188168,  0.19045143,  0.39884492],\n",
       "       [ 2.8262087 ,  0.97814489,  0.57166283,  1.69507592],\n",
       "       [ 0.2339851 ,  1.32001965,  0.58115356,  1.85576947],\n",
       "       [ 0.13883618,  2.32563181,  0.42966134,  1.24111372],\n",
       "       [-1.27705661,  2.0778764 ,  0.12747556,  1.08316958],\n",
       "       [-0.3920557 ,  2.0158001 ,  0.81538233,  1.53895021],\n",
       "       [-0.35584791,  1.05419572,  0.3000092 ,  0.16160015],\n",
       "       [-1.81326588,  0.627148  ,  0.82456496,  1.85773564],\n",
       "       [ 0.09958706,  1.26889986,  0.69986734,  0.34009235],\n",
       "       [ 1.84379376,  2.35723808,  0.82748628,  0.36918684],\n",
       "       [-1.77009606,  1.00209662,  0.54925185,  0.34830683],\n",
       "       [-1.03050699,  1.62887384,  0.23140351,  0.06688037],\n",
       "       [-1.8264008 ,  1.27182194,  0.69483128,  1.73197412],\n",
       "       [ 0.12464526,  1.15935362,  0.73537932,  1.01441346],\n",
       "       [-2.68660199,  1.36372997,  0.7343598 ,  1.55415542],\n",
       "       [ 2.01202982,  2.40199599,  0.27443716,  0.82875821],\n",
       "       [ 2.71943324,  2.16406062,  0.74138099,  1.70936047],\n",
       "       [-0.55852007,  2.17320641,  0.81472885,  0.89579271],\n",
       "       [-2.02140789,  1.89174001,  0.78411395,  0.0244513 ],\n",
       "       [-0.52452098,  1.61101921,  0.45710356,  0.92028225],\n",
       "       [ 0.64711159,  1.70282605,  0.56268458,  0.19317021],\n",
       "       [ 2.93137811,  2.17203618,  0.23239391,  1.46592516],\n",
       "       [ 2.51389901,  1.01363627,  0.40221197,  1.49572301],\n",
       "       [ 1.72941957,  0.54915898,  0.39946441,  1.0622423 ],\n",
       "       [-0.19017697,  0.88883548,  0.55001378,  0.43696889],\n",
       "       [ 1.74345999,  0.81615392,  0.63803547,  1.11970349],\n",
       "       [-1.15687306,  1.16612621,  0.35973524,  0.82723079],\n",
       "       [ 0.30262148,  2.21529709,  0.83951063,  1.18234697],\n",
       "       [-1.69994333,  1.53768264,  0.10414171,  1.88158329],\n",
       "       [ 1.50435651,  2.27099746,  0.8722017 ,  0.10642344],\n",
       "       [ 1.7584015 ,  0.62182937,  0.7328936 ,  0.517065  ],\n",
       "       [ 2.77376703,  0.32512235,  0.7251409 ,  1.84573721],\n",
       "       [ 2.97181754,  1.07061598,  0.89960802,  0.08231083],\n",
       "       [ 1.2229182 ,  2.28708617,  0.79691445,  0.91653045],\n",
       "       [-1.38949251,  1.27705748,  0.32521166,  0.38389167],\n",
       "       [-2.4432283 ,  2.32197689,  0.45528297,  0.57336125],\n",
       "       [ 0.54980832,  1.88523944,  0.35110787,  0.53015782],\n",
       "       [ 1.19461861,  2.10738352,  0.6311993 ,  1.20762959],\n",
       "       [-2.12468572,  1.99544512,  0.18218153,  1.59172106]])"
      ]
     },
     "execution_count": 237,
     "metadata": {},
     "output_type": "execute_result"
    }
   ],
   "source": [
    "np.stack([np.random.uniform(low = bounds[0], high = bounds[1]) for i in range(100)])"
   ]
  },
  {
   "cell_type": "code",
   "execution_count": null,
   "metadata": {},
   "outputs": [],
   "source": [
    "param_bounds"
   ]
  },
  {
   "cell_type": "code",
   "execution_count": 222,
   "metadata": {},
   "outputs": [],
   "source": [
    "bounds_low = [i[0] for i in  param_bounds]\n",
    "# bounds_high = param_bounds[]"
   ]
  },
  {
   "cell_type": "code",
   "execution_count": 238,
   "metadata": {},
   "outputs": [],
   "source": [
    "x = np.zeros((10, 6))"
   ]
  },
  {
   "cell_type": "code",
   "execution_count": 242,
   "metadata": {},
   "outputs": [
    {
     "data": {
      "text/plain": [
       "[[0.0, 0.0, 0.0, 0.0, 0.0, 0.0],\n",
       " [0.0, 0.0, 0.0, 0.0, 0.0, 0.0],\n",
       " [0.0, 0.0, 0.0, 0.0, 0.0, 0.0],\n",
       " [0.0, 0.0, 0.0, 0.0, 0.0, 0.0],\n",
       " [0.0, 0.0, 0.0, 0.0, 0.0, 0.0],\n",
       " [0.0, 0.0, 0.0, 0.0, 0.0, 0.0],\n",
       " [0.0, 0.0, 0.0, 0.0, 0.0, 0.0],\n",
       " [0.0, 0.0, 0.0, 0.0, 0.0, 0.0],\n",
       " [0.0, 0.0, 0.0, 0.0, 0.0, 0.0],\n",
       " [0.0, 0.0, 0.0, 0.0, 0.0, 0.0]]"
      ]
     },
     "execution_count": 242,
     "metadata": {},
     "output_type": "execute_result"
    }
   ],
   "source": [
    "x.tolist()"
   ]
  },
  {
   "cell_type": "code",
   "execution_count": null,
   "metadata": {},
   "outputs": [],
   "source": [
    "        theta_tuple = [(np.random.uniform(low = self.config['param_bounds'][0], \n",
    "                                    high = self.config['param_bounds'][1])) for i in range(self.config['nparamsets'])]\n",
    "        "
   ]
  },
  {
   "cell_type": "code",
   "execution_count": 214,
   "metadata": {},
   "outputs": [
    {
     "data": {
      "text/plain": [
       "{'test': {'dgp': <function cddm_data_simulation.test>,\n",
       "  'boundary': <function boundary_functions.constant(t=0)>,\n",
       "  'boundary_multiplicative': True,\n",
       "  'method_folder': '/users/afengler/data/kde/test/',\n",
       "  'method_folder_x7': '/media/data_cifs/afengler/data/kde/test/',\n",
       "  'method_folder_home': '/Users/afengler/OneDrive/project_nn_likelihoods/data/kde/test/',\n",
       "  'data_folder': '/users/afengler/data/kde/test/train_test_data_ndt_20000/',\n",
       "  'data_folder_x7': '/media/data_cifs/afengler/data/kde/test/train_test_data_ndt_20000/',\n",
       "  'data_folder_fcn': '/users/afengler/data/analytic/test/fcn_train_test_data_2000',\n",
       "  'data_folder_fcn_x7': '/media/data_cifs/afengler/data/analytic/test/fcn_train_test_data_2000',\n",
       "  'output_folder': '/users/afengler/data/kde/test/method_comparison/',\n",
       "  'output_folder_x7': '/media/data_cifs/afengler/data/kde/test/method_comparison/',\n",
       "  'output_folder_home': '/Users/afengler/OneDrive/project_nn_likelihoods/data/kde/test/method_comparison/',\n",
       "  'model_folder': '/users/afengler/data/kde/test/keras_models/',\n",
       "  'model_folder_x7': '/media/data_cifs/afengler/data/kde/test/keras_models/',\n",
       "  'param_names': ['v', 'a', 'w', 'ndt'],\n",
       "  'boundary_param_names': [],\n",
       "  'param_bounds_network': [[-2.0, 2.0], [0.3, 2], [0.2, 0.8], [0.0, 2.0]],\n",
       "  'param_bounds_sampler': [[-1.9, 1.9], [0.6, 1.4], [0.31, 0.69], [0.1, 0.9]],\n",
       "  'param_bounds_cnn': [[-2.5, 2.5], [0.2, 2], [0.1, 0.9], [0.0, 2.0]],\n",
       "  'boundary_param_bounds_network': [],\n",
       "  'boundary_param_bounds_sampler': [],\n",
       "  'boundary_param_bounds_cnn': [],\n",
       "  'dgp_hyperparameters': [['s', 1.0],\n",
       "   ['delta_t', 0.01],\n",
       "   ['max_t', 20],\n",
       "   ['n_samples', 20000],\n",
       "   ['print_info', False],\n",
       "   ['boundary', <function boundary_functions.constant(t=0)>],\n",
       "   ['boundary_multiplicative', True]]},\n",
       " 'lba': {'dgp': <function clba.rlba>,\n",
       "  'method_folder': '/users/afengler/data/kde/lba/',\n",
       "  'method_folder_x7': '/media/data_cifs/afengler/data/kde/lba/',\n",
       "  'data_folder': '/users/afengler/data/kde/lba/train_test_data_ndt_20000/',\n",
       "  'data_folder_x7': '/media/data_cifs/afengler/data/kde/lba/train_test_data_ndt_20000/',\n",
       "  'output_folder': '/users/afengler/data/kde/lba/method_comparison/',\n",
       "  'output_folder_x7': '/media/data_cifs/afengler/data/kde/lba/method_comparison/',\n",
       "  'output_folder_home': '/Users/afengler/OneDrive/project_nn_likelihoods/data/kde/lba/method_comparison/',\n",
       "  'model_folder': '/users/afengler/data/kde/lba/keras_models/',\n",
       "  'model_folder_x7': '/media/data_cifs/afengler/data/kde/lba/keras_models/',\n",
       "  'param_names': ['v', 'A', 'b', 's', 'ndt'],\n",
       "  'param_depends_on_n_choice': [1, 0, 0, 0, 0],\n",
       "  'boundary_param_names': [],\n",
       "  'param_bounds_network': [[1.0, 2.0],\n",
       "   [1.0, 2.0],\n",
       "   [0.0, 1.0],\n",
       "   [1.5, 3.0],\n",
       "   [0.1, 0.2],\n",
       "   [0.0, 1.0]],\n",
       "  'param_bounds_sampler': [[1.25, 1.75],\n",
       "   [1.25, 1.75],\n",
       "   [0.2, 0.8],\n",
       "   [1.75, 2.75],\n",
       "   [0.11, 0.19],\n",
       "   [0.1, 0.9]],\n",
       "  'param_bounds_cnn': [[1.0, 2.0],\n",
       "   [1.0, 2.0],\n",
       "   [0.0, 1.0],\n",
       "   [1.5, 3.0],\n",
       "   [0.1, 0.2],\n",
       "   [0.0, 2.0]],\n",
       "  'boundary_param_bounds_network': [],\n",
       "  'boundary_param_bounds_sampler': [],\n",
       "  'boundary_param_bounds_cnn': [],\n",
       "  'dgp_hyperparameters': [['n_samples', 20000],\n",
       "   ['max_t', 20.0],\n",
       "   ['d_lower_lim', 0.01]]},\n",
       " 'lba_analytic': {'dgp': <function clba.rlba>,\n",
       "  'method_folder': '/users/afengler/data/analytic/lba/',\n",
       "  'method_folder_x7': '/media/data_cifs/afengler/data/analytic/lba/',\n",
       "  'data_folder': '/users/afengler/data/analytic/lba/train_test_data_kde_imit/',\n",
       "  'data_folder_x7': '/media/data_cifs/afengler/data/analytic/lba/train_test_data_kde_imit/',\n",
       "  'output_folder': '/users/afengler/data/analytic/lba/method_comparison/',\n",
       "  'output_folder_x7': '/media/data_cifs/afengler/data/analytic/lba/method_comparison/',\n",
       "  'output_folder_home': '/Users/afengler/OneDrive/project_nn_likelihoods/data/kde/lba_analytic/method_comparison/',\n",
       "  'model_folder': '/users/afengler/data/analytic/lba/keras_models/',\n",
       "  'model_folder_x7': '/media/data_cifs/afengler/data/analytic/lba/keras_models/',\n",
       "  'param_names': ['v', 'A', 'b', 's', 'ndt'],\n",
       "  'param_depends_on_n_choice': [1, 0, 0, 0, 0],\n",
       "  'boundary_param_names': [],\n",
       "  'param_bounds_network': [[1.0, 2.0],\n",
       "   [1.0, 2.0],\n",
       "   [0.0, 1.0],\n",
       "   [1.5, 3.0],\n",
       "   [0.1, 0.2],\n",
       "   [0.0, 1.0]],\n",
       "  'param_bounds_sampler': [[1.25, 1.75],\n",
       "   [1.25, 1.75],\n",
       "   [0.2, 0.8],\n",
       "   [1.75, 2.75],\n",
       "   [0.11, 0.19],\n",
       "   [0.1, 0.9]],\n",
       "  'param_bounds_cnn': [[1.0, 2.0],\n",
       "   [1.0, 2.0],\n",
       "   [0.0, 1.0],\n",
       "   [1.5, 3.0],\n",
       "   [0.1, 0.2],\n",
       "   [0.0, 2.0]],\n",
       "  'boundary_param_bounds_network': [],\n",
       "  'boundary_param_bounds_sampler': [],\n",
       "  'dgp_hyperparameters': [['n_samples', 20000],\n",
       "   ['max_t', 20.0],\n",
       "   ['d_lower_lim', 0.01]]},\n",
       " 'levy': {'dgp': <function cddm_data_simulation.levy_flexbound>,\n",
       "  'boundary': <function boundary_functions.constant(t=0)>,\n",
       "  'boundary_multiplicative': True,\n",
       "  'method_folder': '/users/afengler/data/kde/levy/',\n",
       "  'method_folder_x7': '/media/data_cifs/afengler/data/kde/levy/',\n",
       "  'method_folder_home': '/Users/afengler/OneDrive/project_nn_likelihoods/data/kde/levy/',\n",
       "  'data_folder': '/users/afengler/data/kde/levy/train_test_data_ndt_20000/',\n",
       "  'data_folder_x7': '/media/data_cifs/afengler/data/kde/levy/train_test_data_ndt_20000/',\n",
       "  'data_folder_fcn': '/users/afengler/data/analytic/levy/fcn_train_test_data_2000',\n",
       "  'data_folder_fcn_x7': '/media/data_cifs/afengler/data/analytic/levy/fcn_train_test_data_2000',\n",
       "  'output_folder': '/users/afengler/data/kde/levy/method_comparison/',\n",
       "  'output_folder_home': '/Users/afengler/OneDrive/project_nn_likelihoods/data/kde/levy/method_comparison/',\n",
       "  'output_folder_x7': '/media/data_cifs/afengler/data/kde/levy/method_comparison/',\n",
       "  'model_folder': '/users/afengler/data/kde/levy/keras_models/',\n",
       "  'model_folder_x7': '/media/data_cifs/afengler/data/kde/levy/keras_models/',\n",
       "  'param_names': ['v', 'a', 'w', 'alpha_diff', 'ndt'],\n",
       "  'boundary_param_names': [],\n",
       "  'param_bounds_network': [[-3.0, 3.0],\n",
       "   [0.3, 2.0],\n",
       "   [0.1, 0.9],\n",
       "   [1.0, 2.0],\n",
       "   [0.0, 2.0]],\n",
       "  'param_bounds_sampler': [[-2.7, 2.7],\n",
       "   [0.4, 1.7],\n",
       "   [0.3, 0.7],\n",
       "   [1.1, 1.9],\n",
       "   [0.1, 1.9]],\n",
       "  'param_bounds_cnn': [[-3, 3], [0.3, 2], [0.1, 0.9], [1.0, 2.0], [0.0, 2.0]],\n",
       "  'boundary_param_bounds_network': [],\n",
       "  'boundary_param_bounds_sampler': [],\n",
       "  'boundary_param_bounds_cnn': [],\n",
       "  'dgp_hyperparameters': [['s', 1.0],\n",
       "   ['delta_t', 0.01],\n",
       "   ['max_t', 20],\n",
       "   ['n_samples', 20000],\n",
       "   ['print_info', False],\n",
       "   ['boundary', <function boundary_functions.constant(t=0)>],\n",
       "   ['boundary_multiplicative', True]]},\n",
       " 'ddm': {'dgp': <function cddm_data_simulation.ddm_flexbound>,\n",
       "  'boundary': <function boundary_functions.constant(t=0)>,\n",
       "  'boundary_multiplicative': True,\n",
       "  'method_folder': '/users/afengler/data/kde/ddm/',\n",
       "  'method_folder_x7': '/media/data_cifs/afengler/data/kde/ddm/',\n",
       "  'method_folder_home': '/Users/afengler/OneDrive/project_nn_likelihoods/data/kde/ddm/',\n",
       "  'data_folder': '/users/afengler/data/kde/ddm/train_test_data_ndt_20000/',\n",
       "  'data_folder_x7': '/media/data_cifs/afengler/data/kde/ddm/train_test_data_ndt_20000/',\n",
       "  'data_folder_fcn': '/users/afengler/data/analytic/ddm/fcn_train_test_data_2000',\n",
       "  'data_folder_fcn_x7': '/media/data_cifs/afengler/data/analytic/ddm/fcn_train_test_data_2000',\n",
       "  'output_folder': '/users/afengler/data/kde/ddm/method_comparison/',\n",
       "  'output_folder_x7': '/media/data_cifs/afengler/data/kde/ddm/method_comparison/',\n",
       "  'output_folder_home': '/Users/afengler/OneDrive/project_nn_likelihoods/data/kde/ddm/method_comparison/',\n",
       "  'model_folder': '/users/afengler/data/kde/ddm/keras_models/',\n",
       "  'model_folder_x7': '/media/data_cifs/afengler/data/kde/ddm/keras_models/',\n",
       "  'param_names': ['v', 'a', 'w', 'ndt'],\n",
       "  'boundary_param_names': [],\n",
       "  'param_bounds_network': [[-3.0, 3.0], [0.3, 2.5], [0.1, 0.9], [0.0, 2.0]],\n",
       "  'param_bounds_sampler': [[-2.7, 2.7],\n",
       "   [0.4, 2.2],\n",
       "   [0.15, 0.85],\n",
       "   [0.05, 1.95]],\n",
       "  'param_bounds_cnn': [[-3.0, 3.0], [0.3, 2.5], [0.1, 0.9], [0.0, 2.0]],\n",
       "  'boundary_param_bounds_network': [],\n",
       "  'boundary_param_bounds_sampler': [],\n",
       "  'boundary_param_bounds_cnn': [],\n",
       "  'dgp_hyperparameters': [['s', 1.0],\n",
       "   ['delta_t', 0.01],\n",
       "   ['max_t', 20],\n",
       "   ['n_samples', 20000],\n",
       "   ['print_info', False],\n",
       "   ['boundary', <function boundary_functions.constant(t=0)>],\n",
       "   ['boundary_multiplicative', True]]},\n",
       " 'ddm_seq2': {'dgp': <function cddm_data_simulation.ddm_flexbound_seq2>,\n",
       "  'boundary': <function boundary_functions.constant(t=0)>,\n",
       "  'boundary_multiplicative': True,\n",
       "  'method_folder': '/users/afengler/data/kde/ddm_seq2/',\n",
       "  'method_folder_x7': '/media/data_cifs/afengler/data/kde/ddm_seq2/',\n",
       "  'method_folder_home': '/Users/afengler/OneDrive/project_nn_likelihoods/data/kde/ddm_seq2/',\n",
       "  'data_folder': '/users/afengler/data/kde/ddm_seq2/train_test_data_ndt_20000/',\n",
       "  'data_folder_x7': '/media/data_cifs/afengler/data/kde/ddm_seq2/train_test_data_ndt_20000/',\n",
       "  'data_folder_fcn': '/users/afengler/data/analytic/ddm_seq2/fcn_train_test_data_2000',\n",
       "  'data_folder_fcn_x7': '/media/data_cifs/afengler/data/analytic/ddm_seq2/fcn_train_test_data_2000',\n",
       "  'output_folder': '/users/afengler/data/kde/ddm_seq2/method_comparison/',\n",
       "  'output_folder_x7': '/media/data_cifs/afengler/data/kde/ddm_seq2/method_comparison/',\n",
       "  'output_folder_home': '/Users/afengler/OneDrive/project_nn_likelihoods/data/kde/ddm_seq2/method_comparison/',\n",
       "  'model_folder': '/users/afengler/data/kde/ddm_seq2/keras_models/',\n",
       "  'model_folder_x7': '/media/data_cifs/afengler/data/kde/ddm_seq2/keras_models/',\n",
       "  'param_names': ['v_h',\n",
       "   'v_l_1',\n",
       "   'v_l_2',\n",
       "   'a',\n",
       "   'w_h',\n",
       "   'w_l_1',\n",
       "   'w_l_2',\n",
       "   'ndt'],\n",
       "  'param_depends_on_n_choice': [0, 0, 0, 0, 0, 0, 0, 0],\n",
       "  'boundary_param_names': [],\n",
       "  'param_bounds_network': [[-2.0, 2.0],\n",
       "   [-2.0, 2.0],\n",
       "   [-2.0, 2.0],\n",
       "   [0.3, 2],\n",
       "   [0.2, 0.8],\n",
       "   [0.2, 0.8],\n",
       "   [0.2, 0.8],\n",
       "   [0.0, 2.0]],\n",
       "  'param_bounds_sampler': [[-1.9, 1.9], [0.6, 1.4], [0.31, 0.69], [0.1, 0.9]],\n",
       "  'param_bounds_cnn': [[-2.5, 2.5],\n",
       "   [-2.5, 2.5],\n",
       "   [-2.5, 2.5],\n",
       "   [0.2, 2],\n",
       "   [0.1, 0.9],\n",
       "   [0.1, 0.9],\n",
       "   [0.1, 0.9],\n",
       "   [0.0, 2.0]],\n",
       "  'boundary_param_bounds_network': [],\n",
       "  'boundary_param_bounds_sampler': [],\n",
       "  'boundary_param_bounds_cnn': [],\n",
       "  'dgp_hyperparameters': [['s', 1.0],\n",
       "   ['delta_t', 0.01],\n",
       "   ['max_t', 20],\n",
       "   ['n_samples', 20000],\n",
       "   ['print_info', False],\n",
       "   ['boundary', <function boundary_functions.constant(t=0)>],\n",
       "   ['boundary_multiplicative', True]]},\n",
       " 'ddm_seq2_angle': {'dgp': <function cddm_data_simulation.ddm_flexbound_seq2>,\n",
       "  'boundary': <function boundary_functions.angle(t=1, theta=1)>,\n",
       "  'boundary_multiplicative': False,\n",
       "  'method_folder': '/users/afengler/data/kde/ddm_seq2_angle/',\n",
       "  'method_folder_x7': '/media/data_cifs/afengler/data/kde/ddm_seq2_angle/',\n",
       "  'method_folder_home': '/Users/afengler/OneDrive/project_nn_likelihoods/data/kde/ddm_seq2_angle/',\n",
       "  'data_folder': '/users/afengler/data/kde/ddm_seq2_angle/train_test_data_ndt_20000/',\n",
       "  'data_folder_x7': '/media/data_cifs/afengler/data/kde/ddm_seq2_angle/train_test_data_ndt_20000/',\n",
       "  'data_folder_fcn': '/users/afengler/data/analytic/ddm_seq2_angle/fcn_train_test_data_2000',\n",
       "  'data_folder_fcn_x7': '/media/data_cifs/afengler/data/analytic/ddm_seq2_angle/fcn_train_test_data_2000',\n",
       "  'output_folder': '/users/afengler/data/kde/ddm_seq2_angle/method_comparison/',\n",
       "  'output_folder_x7': '/media/data_cifs/afengler/data/kde/ddm_seq2_angle/method_comparison/',\n",
       "  'output_folder_home': '/Users/afengler/OneDrive/project_nn_likelihoods/data/kde/ddm_seq2_angle/method_comparison/',\n",
       "  'model_folder': '/users/afengler/data/kde/ddm_seq2_angle/keras_models/',\n",
       "  'model_folder_x7': '/media/data_cifs/afengler/data/kde/ddm_seq2_angle/keras_models/',\n",
       "  'param_names': ['v_h',\n",
       "   'v_l_1',\n",
       "   'v_l_2',\n",
       "   'a',\n",
       "   'w_h',\n",
       "   'w_l_1',\n",
       "   'w_l_2',\n",
       "   'ndt'],\n",
       "  'param_depends_on_n_choice': [0, 0, 0, 0, 0, 0, 0, 0],\n",
       "  'boundary_param_names': ['theta'],\n",
       "  'param_bounds_network': [[-2.0, 2.0],\n",
       "   [-2.0, 2.0],\n",
       "   [-2.0, 2.0],\n",
       "   [0.3, 2],\n",
       "   [0.2, 0.8],\n",
       "   [0.2, 0.8],\n",
       "   [0.2, 0.8],\n",
       "   [0.0, 2.0]],\n",
       "  'param_bounds_sampler': [[-1.9, 1.9], [0.6, 1.4], [0.31, 0.69], [0.1, 0.9]],\n",
       "  'param_bounds_cnn': [[-2.5, 2.5],\n",
       "   [-2.5, 2.5],\n",
       "   [-2.5, 2.5],\n",
       "   [0.2, 2],\n",
       "   [0.1, 0.9],\n",
       "   [0.1, 0.9],\n",
       "   [0.1, 0.9],\n",
       "   [0.0, 2.0]],\n",
       "  'boundary_param_bounds_network': [[0, 1.3707963267948966]],\n",
       "  'boundary_param_bounds_sampler': [[0.05, 1.2707963267948965]],\n",
       "  'boundary_param_bounds_cnn': [[0, 1.3707963267948966]],\n",
       "  'dgp_hyperparameters': [['s', 1.0],\n",
       "   ['delta_t', 0.01],\n",
       "   ['max_t', 20],\n",
       "   ['n_samples', 20000],\n",
       "   ['print_info', False],\n",
       "   ['boundary', <function boundary_functions.angle(t=1, theta=1)>],\n",
       "   ['boundary_multiplicative', False]]},\n",
       " 'ddm_par2': {'dgp': <function cddm_data_simulation.ddm_flexbound_par2>,\n",
       "  'boundary': <function boundary_functions.constant(t=0)>,\n",
       "  'boundary_multiplicative': True,\n",
       "  'method_folder': '/users/afengler/data/kde/ddm_par2/',\n",
       "  'method_folder_x7': '/media/data_cifs/afengler/data/kde/ddm_par2/',\n",
       "  'method_folder_home': '/Users/afengler/OneDrive/project_nn_likelihoods/data/kde/ddm_par2/',\n",
       "  'data_folder': '/users/afengler/data/kde/ddm_par2/train_test_data_ndt_20000/',\n",
       "  'data_folder_x7': '/media/data_cifs/afengler/data/kde/ddm_par2/train_test_data_ndt_20000/',\n",
       "  'data_folder_fcn': '/users/afengler/data/analytic/ddm_par2/fcn_train_test_data_2000',\n",
       "  'data_folder_fcn_x7': '/media/data_cifs/afengler/data/analytic/ddm_par2/fcn_train_test_data_2000',\n",
       "  'output_folder': '/users/afengler/data/kde/ddm_par2/method_comparison/',\n",
       "  'output_folder_x7': '/media/data_cifs/afengler/data/kde/ddm_par2/method_comparison/',\n",
       "  'output_folder_home': '/Users/afengler/OneDrive/project_nn_likelihoods/data/kde/dm_par2/method_comparison/',\n",
       "  'model_folder': '/users/afengler/data/kde/ddm_par2/keras_models/',\n",
       "  'model_folder_x7': '/media/data_cifs/afengler/data/kde/ddm_par2/keras_models/',\n",
       "  'param_names': ['v_h',\n",
       "   'v_l_1',\n",
       "   'v_l_2',\n",
       "   'a',\n",
       "   'w_h',\n",
       "   'w_l_1',\n",
       "   'w_l_2',\n",
       "   'ndt'],\n",
       "  'param_depends_on_n_choice': [0, 0, 0, 0, 0, 0, 0, 0],\n",
       "  'boundary_param_names': [],\n",
       "  'param_bounds_network': [[-2.0, 2.0],\n",
       "   [-2.0, 2.0],\n",
       "   [-2.0, 2.0],\n",
       "   [0.3, 2],\n",
       "   [0.2, 0.8],\n",
       "   [0.2, 0.8],\n",
       "   [0.2, 0.8],\n",
       "   [0.0, 2.0]],\n",
       "  'param_bounds_sampler': [[-1.9, 1.9], [0.6, 1.4], [0.31, 0.69], [0.1, 0.9]],\n",
       "  'param_bounds_cnn': [[-2.5, 2.5],\n",
       "   [-2.5, 2.5],\n",
       "   [-2.5, 2.5],\n",
       "   [0.2, 2],\n",
       "   [0.1, 0.9],\n",
       "   [0.1, 0.9],\n",
       "   [0.1, 0.9],\n",
       "   [0.0, 2.0]],\n",
       "  'boundary_param_bounds_network': [],\n",
       "  'boundary_param_bounds_sampler': [],\n",
       "  'boundary_param_bounds_cnn': [],\n",
       "  'dgp_hyperparameters': [['s', 1.0],\n",
       "   ['delta_t', 0.01],\n",
       "   ['max_t', 20],\n",
       "   ['n_samples', 20000],\n",
       "   ['print_info', False],\n",
       "   ['boundary', <function boundary_functions.constant(t=0)>],\n",
       "   ['boundary_multiplicative', True]]},\n",
       " 'ddm_par2_angle': {'dgp': <function cddm_data_simulation.ddm_flexbound_par2>,\n",
       "  'boundary': <function boundary_functions.angle(t=1, theta=1)>,\n",
       "  'boundary_multiplicative': False,\n",
       "  'method_folder': '/users/afengler/data/kde/ddm_par2_angle/',\n",
       "  'method_folder_x7': '/media/data_cifs/afengler/data/kde/ddm_par2_angle/',\n",
       "  'method_folder_home': '/Users/afengler/OneDrive/project_nn_likelihoods/data/kde/ddm_par2_angle/',\n",
       "  'data_folder': '/users/afengler/data/kde/ddm_par2_angle/train_test_data_ndt_20000/',\n",
       "  'data_folder_x7': '/media/data_cifs/afengler/data/kde/ddm_par2_angle/train_test_data_ndt_20000/',\n",
       "  'data_folder_fcn': '/users/afengler/data/analytic/ddm_par2_angle/fcn_train_test_data_2000',\n",
       "  'data_folder_fcn_x7': '/media/data_cifs/afengler/data/analytic/ddm_par2_angle/fcn_train_test_data_2000',\n",
       "  'output_folder': '/users/afengler/data/kde/ddm_par2_angle/method_comparison/',\n",
       "  'output_folder_x7': '/media/data_cifs/afengler/data/kde/ddm_par2_angle/method_comparison/',\n",
       "  'output_folder_home': '/Users/afengler/OneDrive/project_nn_likelihoods/data/kde/ddm_par2_angle/method_comparison/',\n",
       "  'model_folder': '/users/afengler/data/kde/ddm_par2_angle/keras_models/',\n",
       "  'model_folder_x7': '/media/data_cifs/afengler/data/kde/ddm_par2_angle/keras_models/',\n",
       "  'param_names': ['v_h',\n",
       "   'v_l_1',\n",
       "   'v_l_2',\n",
       "   'a',\n",
       "   'w_h',\n",
       "   'w_l_1',\n",
       "   'w_l_2',\n",
       "   'ndt'],\n",
       "  'param_depends_on_n_choice': [0, 0, 0, 0, 0, 0, 0, 0],\n",
       "  'boundary_param_names': ['theta'],\n",
       "  'param_bounds_network': [[-2.0, 2.0],\n",
       "   [-2.0, 2.0],\n",
       "   [-2.0, 2.0],\n",
       "   [0.3, 2],\n",
       "   [0.2, 0.8],\n",
       "   [0.2, 0.8],\n",
       "   [0.2, 0.8],\n",
       "   [0.0, 2.0]],\n",
       "  'param_bounds_sampler': [[-1.9, 1.9], [0.6, 1.4], [0.31, 0.69], [0.1, 0.9]],\n",
       "  'param_bounds_cnn': [[-2.5, 2.5],\n",
       "   [-2.5, 2.5],\n",
       "   [-2.5, 2.5],\n",
       "   [0.2, 2],\n",
       "   [0.1, 0.9],\n",
       "   [0.1, 0.9],\n",
       "   [0.1, 0.9],\n",
       "   [0.0, 2.0]],\n",
       "  'boundary_param_bounds_network': [[0, 1.3707963267948966]],\n",
       "  'boundary_param_bounds_sampler': [[0.05, 1.2707963267948965]],\n",
       "  'boundary_param_bounds_cnn': [[0, 1.3707963267948966]],\n",
       "  'dgp_hyperparameters': [['s', 1.0],\n",
       "   ['delta_t', 0.01],\n",
       "   ['max_t', 20],\n",
       "   ['n_samples', 20000],\n",
       "   ['print_info', False],\n",
       "   ['boundary', <function boundary_functions.angle(t=1, theta=1)>],\n",
       "   ['boundary_multiplicative', False]]},\n",
       " 'ddm_mic2': {'dgp': <function cddm_data_simulation.ddm_flexbound_mic2>,\n",
       "  'boundary': <function boundary_functions.constant(t=0)>,\n",
       "  'boundary_multiplicative': True,\n",
       "  'method_folder': '/users/afengler/data/kde/ddm_mic2/',\n",
       "  'method_folder_x7': '/media/data_cifs/afengler/data/kde/ddm_mic2/',\n",
       "  'method_folder_home': '/Users/afengler/OneDrive/project_nn_likelihoods/data/kde/ddm_mic2/',\n",
       "  'data_folder': '/users/afengler/data/kde/ddm_mic2/train_test_data_ndt_20000/',\n",
       "  'data_folder_x7': '/media/data_cifs/afengler/data/kde/ddm_mic2/train_test_data_ndt_20000/',\n",
       "  'data_folder_fcn': '/users/afengler/data/analytic/ddm_mic2/fcn_train_test_data_2000',\n",
       "  'data_folder_fcn_x7': '/media/data_cifs/afengler/data/analytic/ddm_mic2/fcn_train_test_data_2000',\n",
       "  'output_folder': '/users/afengler/data/kde/ddm_mic2/method_comparison/',\n",
       "  'output_folder_x7': '/media/data_cifs/afengler/data/kde/ddm_mic2/method_comparison/',\n",
       "  'output_folder_home': '/Users/afengler/OneDrive/project_nn_likelihoods/data/kde/ddm_mic2/method_comparison/',\n",
       "  'model_folder': '/users/afengler/data/kde/ddm_mic2/keras_models/',\n",
       "  'model_folder_x7': '/media/data_cifs/afengler/data/kde/ddm_mic2/keras_models/',\n",
       "  'param_names': ['v_h',\n",
       "   'v_l_1',\n",
       "   'v_l_2',\n",
       "   'a',\n",
       "   'w_h',\n",
       "   'w_l_1',\n",
       "   'w_l_2',\n",
       "   'd',\n",
       "   'ndt'],\n",
       "  'param_depends_on_n_choice': [0, 0, 0, 0, 0, 0, 0, 0, 0],\n",
       "  'boundary_param_names': [],\n",
       "  'param_bounds_network': [[-2.0, 2.0],\n",
       "   [-2.0, 2.0],\n",
       "   [-2.0, 2.0],\n",
       "   [0.3, 2],\n",
       "   [0.2, 0.8],\n",
       "   [0.2, 0.8],\n",
       "   [0.2, 0.8],\n",
       "   [0.0, 1.0],\n",
       "   [0.0, 2.0]],\n",
       "  'param_bounds_sampler': [[-1.9, 1.9], [0.6, 1.4], [0.31, 0.69], [0.1, 0.9]],\n",
       "  'param_bounds_cnn': [[-2.5, 2.5],\n",
       "   [-2.5, 2.5],\n",
       "   [-2.5, 2.5],\n",
       "   [0.2, 2],\n",
       "   [0.1, 0.9],\n",
       "   [0.1, 0.9],\n",
       "   [0.1, 0.9],\n",
       "   [0.0, 1.0],\n",
       "   [0.0, 2.0]],\n",
       "  'boundary_param_bounds_network': [],\n",
       "  'boundary_param_bounds_sampler': [],\n",
       "  'boundary_param_bounds_cnn': [],\n",
       "  'dgp_hyperparameters': [['s', 1.0],\n",
       "   ['delta_t', 0.01],\n",
       "   ['max_t', 20],\n",
       "   ['n_samples', 20000],\n",
       "   ['print_info', False],\n",
       "   ['boundary', <function boundary_functions.constant(t=0)>],\n",
       "   ['boundary_multiplicative', True]]},\n",
       " 'ddm_mic2_angle': {'dgp': <function cddm_data_simulation.ddm_flexbound_mic2>,\n",
       "  'boundary': <function boundary_functions.angle(t=1, theta=1)>,\n",
       "  'boundary_multiplicative': False,\n",
       "  'method_folder': '/users/afengler/data/kde/ddm_mic2_angle/',\n",
       "  'method_folder_x7': '/media/data_cifs/afengler/data/kde/ddm_mic2_angle/',\n",
       "  'method_folder_home': '/Users/afengler/OneDrive/project_nn_likelihoods/data/kde/ddm_mic2_angle/',\n",
       "  'data_folder': '/users/afengler/data/kde/ddm_mic2_angle/train_test_data_ndt_20000/',\n",
       "  'data_folder_x7': '/media/data_cifs/afengler/data/kde/ddm_mic2_angle/train_test_data_ndt_20000/',\n",
       "  'data_folder_fcn': '/users/afengler/data/analytic/ddm_mic2_angle/fcn_train_test_data_2000',\n",
       "  'data_folder_fcn_x7': '/media/data_cifs/afengler/data/analytic/ddm_mic2_angle/fcn_train_test_data_2000',\n",
       "  'output_folder': '/users/afengler/data/kde/ddm_mic2_angle/method_comparison/',\n",
       "  'output_folder_x7': '/media/data_cifs/afengler/data/kde/ddm_mic2_angle/method_comparison/',\n",
       "  'output_folder_home': '/Users/afengler/OneDrive/project_nn_likelihoods/data/kde/ddm_mic2_angle/method_comparison/',\n",
       "  'model_folder': '/users/afengler/data/kde/ddm_mic2_angle/keras_models/',\n",
       "  'model_folder_x7': '/media/data_cifs/afengler/data/kde/ddm_mic2_angle/keras_models/',\n",
       "  'param_names': ['v_h',\n",
       "   'v_l_1',\n",
       "   'v_l_2',\n",
       "   'a',\n",
       "   'w_h',\n",
       "   'w_l_1',\n",
       "   'w_l_2',\n",
       "   'd',\n",
       "   'ndt'],\n",
       "  'param_depends_on_n_choice': [0, 0, 0, 0, 0, 0, 0, 0, 0],\n",
       "  'boundary_param_names': ['theta'],\n",
       "  'param_bounds_network': [[-2.0, 2.0],\n",
       "   [-2.0, 2.0],\n",
       "   [-2.0, 2.0],\n",
       "   [0.3, 2],\n",
       "   [0.2, 0.8],\n",
       "   [0.2, 0.8],\n",
       "   [0.2, 0.8],\n",
       "   [0.0, 1.0],\n",
       "   [0.0, 2.0]],\n",
       "  'param_bounds_sampler': [[-1.9, 1.9], [0.6, 1.4], [0.31, 0.69], [0.1, 0.9]],\n",
       "  'param_bounds_cnn': [[-2.5, 2.5],\n",
       "   [-2.5, 2.5],\n",
       "   [-2.5, 2.5],\n",
       "   [0.2, 2],\n",
       "   [0.1, 0.9],\n",
       "   [0.1, 0.9],\n",
       "   [0.1, 0.9],\n",
       "   [0.0, 1.0],\n",
       "   [0.0, 2.0]],\n",
       "  'boundary_param_bounds_network': [[0, 1.3707963267948966]],\n",
       "  'boundary_param_bounds_sampler': [[0.05, 1.2707963267948965]],\n",
       "  'boundary_param_bounds_cnn': [[0, 1.3707963267948966]],\n",
       "  'dgp_hyperparameters': [['s', 1.0],\n",
       "   ['delta_t', 0.001],\n",
       "   ['max_t', 20],\n",
       "   ['n_samples', 20000],\n",
       "   ['print_info', False],\n",
       "   ['boundary', <function boundary_functions.angle(t=1, theta=1)>],\n",
       "   ['boundary_multiplicative', False]]},\n",
       " 'ddm_analytic': {'dgp': <function cddm_data_simulation.ddm_flexbound>,\n",
       "  'boundary': <function boundary_functions.constant(t=0)>,\n",
       "  'boundary_multiplicative': True,\n",
       "  'method_folder': '/users/afengler/data/analytic/ddm/',\n",
       "  'method_folder_x7': '/media/data_cifs/afengler/data/analytic/ddm/',\n",
       "  'method_folder_home': '/Users/afengler/OneDrive/project_nn_likelihoods/data/analytic/ddm/',\n",
       "  'data_folder': '/users/afengler/data/analytic/ddm/train_test_data_ndt_20000/',\n",
       "  'data_folder_x7': '/media/data_cifs/afengler/data/analytic/ddm/train_test_data_ndt_20000/',\n",
       "  'output_folder': '/users/afengler/data/analytic/ddm/method_comparison/',\n",
       "  'output_folder_x7': '/media/data_cifs/afengler/data/analytic/ddm/method_comparison/',\n",
       "  'output_folder_home': '/Users/afengler/OneDrive/project_nn_likelihoods/data/analytic/ddm/method_comparison/',\n",
       "  'model_folder': '/users/afengler/data/analytic/ddm/keras_models/',\n",
       "  'model_folder_x7': '/media/data_cifs/afengler/data/analytic/ddm/keras_models/',\n",
       "  'model_folder_home': '/users/afengler/OneDrive/project_nn_likelihoods/data/analytic/ddm/keras_models/',\n",
       "  'param_names': ['v', 'a', 'w', 'ndt'],\n",
       "  'boundary_param_names': [],\n",
       "  'boundary_param_bounds_sampler': [],\n",
       "  'boundary_param_bounds_network': [],\n",
       "  'boundary_param_bounds_cnn': [],\n",
       "  'param_bounds_network': [[-3.0, 3.0], [0.3, 2.5], [0.1, 0.9], [0.0, 2.0]],\n",
       "  'param_bounds_sampler': [[-2.7, 2.7],\n",
       "   [0.4, 2.2],\n",
       "   [0.15, 0.85],\n",
       "   [0.05, 1.95]],\n",
       "  'param_bounds_cnn': [[-3.0, 3.0], [0.2, 2.2], [0.1, 0.9], [0.0, 2.0]],\n",
       "  'dgp_hyperparameters': [['s', 1.0],\n",
       "   ['delta_t', 0.001],\n",
       "   ['max_t', 20],\n",
       "   ['n_samples', 20000],\n",
       "   ['print_info', False],\n",
       "   ['boundary', <function boundary_functions.constant(t=0)>],\n",
       "   ['boundary_multiplicative', True]]},\n",
       " 'ddm_sdv_analytic': {'dgp': <function cddm_data_simulation.ddm_sdv>,\n",
       "  'boundary': <function boundary_functions.constant(t=0)>,\n",
       "  'boundary_multiplicative': True,\n",
       "  'method_folder': '/users/afengler/data/analytic/ddm_sdv/',\n",
       "  'method_folder_x7': '/media/data_cifs/afengler/data/analytic/ddm_sdv/',\n",
       "  'method_folder_home': '/Users/afengler/OneDrive/project_nn_likelihoods/data/analytic/ddm_sdv/',\n",
       "  'data_folder': '/users/afengler/data/analytic/ddm_sdv/train_test_data_20000',\n",
       "  'data_folder_x7': '/media/data_cifs/afengler/data/analytic/ddm_sdv/train_test_data_20000',\n",
       "  'output_folder': '/users/afengler/data/analytic/ddm_sdv/method_comparison/',\n",
       "  'output_folder_x7': '/media/data_cifs/afengler/data/analytic/ddm_sdv/method_comparison/',\n",
       "  'output_folder_home': '/Users/afengler/OneDrive/project_nn_likelihoods/data/analytic/ddm_sdv/method_comparison/',\n",
       "  'model_folder': '/users/afengler/data/analytic/ddm_sdv/keras_models/',\n",
       "  'model_folder_x7': '/media/data_cifs/afengler/data/analytic/ddm_sdv/keras_models/',\n",
       "  'param_names': ['v', 'a', 'w', 'ndt', 'sdv'],\n",
       "  'boundary_param_names': [],\n",
       "  'param_bounds_network': [[-3, 3],\n",
       "   [0.3, 2.5],\n",
       "   [0.1, 0.9],\n",
       "   [0.0, 2.0],\n",
       "   [0.0, 2.5]],\n",
       "  'param_bounds_sampler': [[-2.7, 2.7],\n",
       "   [0.5, 2.2],\n",
       "   [0.15, 0.85],\n",
       "   [0.05, 1.95],\n",
       "   [0.3, 2.2]],\n",
       "  'param_bounds_cnn': [[-3, 3],\n",
       "   [0.3, 2.5],\n",
       "   [0.1, 0.9],\n",
       "   [0.0, 2.0],\n",
       "   [0.0, 2.5]],\n",
       "  'boundary_param_bounds_network': [],\n",
       "  'boundary_param_bounds_sampler': [],\n",
       "  'boundary_param_bounds_cnn': [],\n",
       "  'dgp_hyperparameters': [['s', 1.0],\n",
       "   ['delta_t', 0.001],\n",
       "   ['max_t', 20],\n",
       "   ['n_samples', 20000],\n",
       "   ['print_info', False],\n",
       "   ['boundary', <function boundary_functions.constant(t=0)>],\n",
       "   ['boundary_multiplicative', True]]},\n",
       " 'ddm_sdv_red_analytic': {'dgp': <function cddm_data_simulation.ddm_sdv>,\n",
       "  'boundary': <function boundary_functions.constant(t=0)>,\n",
       "  'boundary_multiplicative': True,\n",
       "  'method_folder': '/users/afengler/data/analytic/ddm_sdv_red/',\n",
       "  'method_folder_x7': '/media/data_cifs/afengler/data/analytic/ddm_sdv_red/',\n",
       "  'method_folder_home': '/Users/afengler/OneDrive/project_nn_likelihoods/data/analytic/ddm_sdv_red/',\n",
       "  'data_folder': '/users/afengler/data/analytic/ddm_sdv_red/train_test_data_20000',\n",
       "  'data_folder_x7': '/media/data_cifs/afengler/data/analytic/ddm_sdv_red/train_test_data_20000',\n",
       "  'output_folder': '/users/afengler/data/analytic/ddm_sdv_red/method_comparison/',\n",
       "  'output_folder_x7': '/media/data_cifs/afengler/data/analytic/ddm_sdv_red/method_comparison/',\n",
       "  'output_folder_home': '/Users/afengler/OneDrive/project_nn_likelihoods/data/analytic/ddm_sdv_red/method_comparison/',\n",
       "  'model_folder': '/users/afengler/data/analytic/ddm_sdv_red/keras_models/',\n",
       "  'model_folder_x7': '/media/data_cifs/afengler/data/analytic/ddm_sdv_red/keras_models/',\n",
       "  'param_names': ['v', 'a', 'w', 'ndt', 'sdv'],\n",
       "  'boundary_param_names': [],\n",
       "  'param_bounds_network': [[-2.5, 2.5],\n",
       "   [0.5, 2.5],\n",
       "   [0.2, 0.8],\n",
       "   [0.0, 2.0],\n",
       "   [0.0, 2.0]],\n",
       "  'param_bounds_sampler': [[-2.2, 2.2],\n",
       "   [0.6, 2.2],\n",
       "   [0.25, 0.75],\n",
       "   [0.05, 1.95],\n",
       "   [0.3, 1.7]],\n",
       "  'param_bounds_cnn': [[-3, 3],\n",
       "   [0.3, 2.5],\n",
       "   [0.1, 0.9],\n",
       "   [0.0, 2.0],\n",
       "   [0.0, 2.5]],\n",
       "  'boundary_param_bounds_network': [],\n",
       "  'boundary_param_bounds_sampler': [],\n",
       "  'boundary_param_bounds_cnn': [],\n",
       "  'dgp_hyperparameters': [['s', 1.0],\n",
       "   ['delta_t', 0.001],\n",
       "   ['max_t', 20],\n",
       "   ['n_samples', 20000],\n",
       "   ['print_info', False],\n",
       "   ['boundary', <function boundary_functions.constant(t=0)>],\n",
       "   ['boundary_multiplicative', True]]},\n",
       " 'angle': {'dgp': <function cddm_data_simulation.ddm_flexbound>,\n",
       "  'boundary': <function boundary_functions.angle(t=1, theta=1)>,\n",
       "  'boundary_multiplicative': False,\n",
       "  'method_folder': '/users/afengler/data/kde/angle/',\n",
       "  'method_folder_x7': '/media/data_cifs/afengler/data/kde/angle/',\n",
       "  'method_folder_home': '/Users/afengler/OneDrive/project_nn_likelihoods/data/kde/angle/',\n",
       "  'data_folder': '/users/afengler/data/kde/angle/train_test_data_ndt_20000/',\n",
       "  'data_folder_x7': '/media/data_cifs/afengler/data/kde/angle/train_test_data_ndt_20000/',\n",
       "  'output_folder': '/users/afengler/data/kde/angle/method_comparison/',\n",
       "  'output_folder_x7': '/media/data_cifs/afengler/data/kde/angle/method_comparison/',\n",
       "  'output_folder_home': '/Users/afengler/OneDrive/project_nn_likelihoods/data/kde/angle/method_comparison/',\n",
       "  'model_folder': '/users/afengler/data/kde/angle/keras_models/',\n",
       "  'model_folder_x7': '/media/data_cifs/afengler/data/kde/angle/keras_models/',\n",
       "  'param_names': ['v', 'a', 'w', 'ndt'],\n",
       "  'boundary_param_names': ['theta'],\n",
       "  'param_bounds_network': [[-2.0, 2.0], [0.3, 2], [0.2, 0.8], [0.0, 2.0]],\n",
       "  'param_bounds_sampler': [[-1.9, 1.9], [0.4, 1.9], [0.25, 0.75], [0.1, 1.9]],\n",
       "  'param_bounds_cnn': [[-2.5, 2.5], [0.2, 2.0], [0.1, 0.9], [0.0, 2.0]],\n",
       "  'boundary_param_bounds_network': [[0, 1.4707963267948965]],\n",
       "  'boundary_param_bounds_sampler': [[0.05, 1.2707963267948965]],\n",
       "  'boundary_param_bounds_cnn': [[0, 1.3707963267948966]],\n",
       "  'dgp_hyperparameters': [['s', 1.0],\n",
       "   ['delta_t', 0.01],\n",
       "   ['max_t', 20],\n",
       "   ['n_samples', 20000],\n",
       "   ['print_info', False],\n",
       "   ['boundary', <function boundary_functions.angle(t=1, theta=1)>],\n",
       "   ['boundary_multiplicative', False]]},\n",
       " 'angle2': {'dgp': <function cddm_data_simulation.ddm_flexbound>,\n",
       "  'boundary': <function boundary_functions.angle(t=1, theta=1)>,\n",
       "  'boundary_multiplicative': False,\n",
       "  'method_folder': '/users/afengler/data/kde/angle2/',\n",
       "  'method_folder_x7': '/media/data_cifs/afengler/data/kde/angle2/',\n",
       "  'method_folder_home': '/Users/afengler/OneDrive/project_nn_likelihoods/data/kde/angle2/',\n",
       "  'data_folder': '/users/afengler/data/kde/angle2/train_test_data_ndt_20000/',\n",
       "  'data_folder_x7': '/media/data_cifs/afengler/data/kde/angle2/train_test_data_ndt_20000/',\n",
       "  'output_folder': '/users/afengler/data/kde/angle2/method_comparison/',\n",
       "  'output_folder_x7': '/media/data_cifs/afengler/data/kde/angle2/method_comparison/',\n",
       "  'output_folder_home': '/Users/afengler/OneDrive/project_nn_likelihoods/data/kde/angle2/method_comparison/',\n",
       "  'model_folder': '/users/afengler/data/kde/angle2/keras_models/',\n",
       "  'model_folder_x7': '/media/data_cifs/afengler/data/kde/angle2/keras_models/',\n",
       "  'param_names': ['v', 'a', 'w', 'ndt'],\n",
       "  'boundary_param_names': ['theta'],\n",
       "  'param_bounds_network': [[-3.0, 3.0], [0.3, 2], [0.2, 0.8], [0.0, 2.0]],\n",
       "  'param_bounds_sampler': [[-2.7, 2.7], [0.4, 1.7], [0.3, 0.7], [0.1, 1.9]],\n",
       "  'param_bounds_cnn': [[-3.0, 3.0], [0.3, 2], [0.1, 0.9], [0.0, 2.0]],\n",
       "  'boundary_param_bounds_network': [[-0.1, 1.4707963267948965]],\n",
       "  'boundary_param_bounds_sampler': [[-0.05, 1.2707963267948965]],\n",
       "  'boundary_param_bounds_cnn': [[0, 1.3707963267948966]],\n",
       "  'dgp_hyperparameters': [['s', 1.0],\n",
       "   ['delta_t', 0.01],\n",
       "   ['max_t', 20],\n",
       "   ['n_samples', 20000],\n",
       "   ['print_info', False],\n",
       "   ['boundary', <function boundary_functions.angle(t=1, theta=1)>],\n",
       "   ['boundary_multiplicative', False]]},\n",
       " 'weibull_cdf': {'dgp': <function cddm_data_simulation.ddm_flexbound>,\n",
       "  'boundary': <function boundary_functions.weibull_cdf(t=1, alpha=1, beta=1)>,\n",
       "  'boundary_multiplicative': True,\n",
       "  'method_folder': '/users/afengler/data/kde/weibull_cdf/',\n",
       "  'method_folder_x7': '/media/data_cifs/afengler/data/kde/weibull_cdf/',\n",
       "  'method_folder_home': '/Users/afengler/OneDrive/project_nn_likelihoods/data/kde/weibull_cdf/',\n",
       "  'data_folder': '/users/afengler/data/kde/weibull_cdf/train_test_data_ndt_20000/',\n",
       "  'data_folder_x7': '/media/data_cifs/afengler/data/kde/weibull_cdf/train_test_data_ndt_20000/',\n",
       "  'output_folder': '/users/afengler/data/kde/weibull_cdf/method_comparison/',\n",
       "  'output_folder_x7': '/media/data_cifs/afengler/data/kde/weibull_cdf/method_comparison/',\n",
       "  'output_folder_home': '/Users/afengler/OneDrive/project_nn_likelihoods/data/kde/weibull_cdf/method_comparison/',\n",
       "  'model_folder': '/users/afengler/data/kde/weibull_cdf/keras_models/',\n",
       "  'model_folder_x7': '/media/data_cifs/afengler/data/kde/weibull_cdf/keras_models/',\n",
       "  'param_names': ['v', 'a', 'w', 'ndt'],\n",
       "  'boundary_param_names': ['alpha', 'beta'],\n",
       "  'param_bounds_network': [[-2.0, 2.0], [0.3, 2], [0.2, 0.8], [0.0, 2.0]],\n",
       "  'param_bounds_sampler': [[-1.9, 1.9], [0.4, 1.9], [0.25, 0.75], [0.1, 1.9]],\n",
       "  'param_bounds_cnn': [[-2.5, 2.5], [0.2, 2.0], [0.1, 0.9], [0.0, 2.0]],\n",
       "  'boundary_param_bounds_network': [[0.3, 5.0], [0.3, 7.0]],\n",
       "  'boundary_param_bounds_sampler': [[0.55, 4.95], [0.55, 6.95]],\n",
       "  'boundary_param_bounds_cnn': [[0.5, 5.0], [0.5, 7.0]],\n",
       "  'dgp_hyperparameters': [['s', 1.0],\n",
       "   ['delta_t', 0.01],\n",
       "   ['max_t', 20],\n",
       "   ['n_samples', 20000],\n",
       "   ['print_info', False],\n",
       "   ['boundary',\n",
       "    <function boundary_functions.weibull_cdf(t=1, alpha=1, beta=1)>],\n",
       "   ['boundary_multiplicative', True]]},\n",
       " 'weibull_cdf2': {'dgp': <function cddm_data_simulation.ddm_flexbound>,\n",
       "  'boundary': <function boundary_functions.weibull_cdf(t=1, alpha=1, beta=1)>,\n",
       "  'boundary_multiplicative': True,\n",
       "  'method_folder': '/users/afengler/data/kde/weibull_cdf2/',\n",
       "  'method_folder_x7': '/media/data_cifs/afengler/data/kde/weibull_cdf2/',\n",
       "  'method_folder_home': '/Users/afengler/OneDrive/project_nn_likelihoods/data/kde/weibull_cdf2/',\n",
       "  'data_folder': '/users/afengler/data/kde/weibull_cdf2/train_test_data_ndt_20000/',\n",
       "  'data_folder_x7': '/media/data_cifs/afengler/data/kde/weibull_cdf2/train_test_data_ndt_20000/',\n",
       "  'output_folder': '/users/afengler/data/kde/weibull_cdf2/method_comparison/',\n",
       "  'output_folder_x7': '/media/data_cifs/afengler/data/kde/weibull_cdf2/method_comparison/',\n",
       "  'output_folder_home': '/Users/afengler/OneDrive/project_nn_likelihoods/data/kde/weibull_cdf2/method_comparison/',\n",
       "  'model_folder': '/users/afengler/data/kde/weibull_cdf2/keras_models/',\n",
       "  'model_folder_x7': '/media/data_cifs/afengler/data/kde/weibull_cdf2/keras_models/',\n",
       "  'param_names': ['v', 'a', 'w', 'ndt'],\n",
       "  'boundary_param_names': ['alpha', 'beta'],\n",
       "  'param_bounds_network': [[-3.0, 3.0], [0.3, 2], [0.2, 0.8], [0.0, 2.0]],\n",
       "  'param_bounds_sampler': [[-2.7, 2.7], [0.4, 1.7], [0.3, 0.7], [0.1, 1.9]],\n",
       "  'param_bounds_cnn': [[-3.0, 3.0], [0.3, 2.0], [0.1, 0.9], [0.0, 2.0]],\n",
       "  'boundary_param_bounds_network': [[0.3, 5.0], [0.3, 7.0]],\n",
       "  'boundary_param_bounds_sampler': [[0.5, 4.5], [0.5, 6.5]],\n",
       "  'boundary_param_bounds_cnn': [[0.3, 5.0], [0.3, 7.0]],\n",
       "  'dgp_hyperparameters': [['s', 1.0],\n",
       "   ['delta_t', 0.01],\n",
       "   ['max_t', 20],\n",
       "   ['n_samples', 20000],\n",
       "   ['print_info', False],\n",
       "   ['boundary',\n",
       "    <function boundary_functions.weibull_cdf(t=1, alpha=1, beta=1)>],\n",
       "   ['boundary_multiplicative', True]]},\n",
       " 'ornstein': {'dgp': <function cddm_data_simulation.ornstein_uhlenbeck>,\n",
       "  'boundary': <function boundary_functions.constant(t=0)>,\n",
       "  'boundary_multiplicative': True,\n",
       "  'method_folder': '/users/afengler/data/kde/ornstein/',\n",
       "  'method_folder_x7': '/media/data_cifs/afengler/data/kde/ornstein/',\n",
       "  'method_folder_home': '/Users/afengler/OneDrive/project_nn_likelihoods/data/kde/ornstein/',\n",
       "  'data_folder': '/users/afengler/data/kde/ornstein/train_test_data_20000/',\n",
       "  'data_folder_x7': '/media/data_cifs/afengler/data/kde/ornstein/train_test_data_20000/',\n",
       "  'output_folder': '/users/afengler/data/kde/ornstein/method_comparison/',\n",
       "  'output_folder_x7': '/media/data_cifs/afengler/data/kde/ornstein/method_comparison/',\n",
       "  'output_folder_home': '/Users/afengler/OneDrive/project_nn_likelihoods/data/kde/ornstein/method_comparison/',\n",
       "  'model_folder': '/users/afengler/data/kde/ornstein/keras_models/',\n",
       "  'model_folder_x7': '/media/data_cifs/afengler/data/kde/ornstein/keras_models/',\n",
       "  'param_names': ['v', 'a', 'w', 'g', 'ndt'],\n",
       "  'param_bounds_network': [[-2.0, 2.0],\n",
       "   [0.3, 2],\n",
       "   [0.2, 0.8],\n",
       "   [-1.0, 1.0],\n",
       "   [0.0, 2.0]],\n",
       "  'param_bounds_sampler': [[-1.9, 1.9],\n",
       "   [0.4, 1.9],\n",
       "   [0.25, 0.75],\n",
       "   [-0.9, 0.9],\n",
       "   [0.1, 1.9]],\n",
       "  'param_bounds_cnn': [[-2.5, 2.5],\n",
       "   [0.2, 2.0],\n",
       "   [0.1, 0.9],\n",
       "   [-1.0, 1.0],\n",
       "   [0.0, 2.0]],\n",
       "  'boundary_param_names': [],\n",
       "  'boundary_param_bounds_network': [],\n",
       "  'boundary_param_bounds_sampler': [],\n",
       "  'boundary_param_bounds_cnn': [],\n",
       "  'dgp_hyperparameters': [['s', 1.0],\n",
       "   ['delta_t', 0.01],\n",
       "   ['max_t', 20],\n",
       "   ['n_samples', 20000],\n",
       "   ['print_info', False],\n",
       "   ['boundary', <function boundary_functions.constant(t=0)>],\n",
       "   ['boundary_multiplicative', True]]},\n",
       " 'ornstein_pos': {'dgp': <function cddm_data_simulation.ornstein_uhlenbeck>,\n",
       "  'boundary': <function boundary_functions.constant(t=0)>,\n",
       "  'boundary_multiplicative': True,\n",
       "  'method_folder': '/users/afengler/data/kde/ornstein_pos/',\n",
       "  'method_folder_x7': '/media/data_cifs/afengler/data/kde/ornstein_pos/',\n",
       "  'method_folder_home': '/Users/afengler/OneDrive/project_nn_likelihoods/data/kde/ornstein_pos/',\n",
       "  'data_folder': '/users/afengler/data/kde/ornstein_pos/train_test_data_20000/',\n",
       "  'data_folder_x7': '/media/data_cifs/afengler/data/kde/ornstein_pos/train_test_data_20000/',\n",
       "  'output_folder': '/users/afengler/data/kde/ornstein_pos/method_comparison/',\n",
       "  'output_folder_x7': '/media/data_cifs/afengler/data/kde/ornstein_pos/method_comparison/',\n",
       "  'output_folder_home': '/Users/afengler/OneDrive/project_nn_likelihoods/data/kde/ornstein_pos/method_comparison/',\n",
       "  'model_folder': '/users/afengler/data/kde/ornstein_pos/keras_models/',\n",
       "  'model_folder_x7': '/media/data_cifs/afengler/data/kde/ornstein_pos/keras_models/',\n",
       "  'param_names': ['v', 'a', 'w', 'g', 'ndt'],\n",
       "  'param_bounds_network': [[-3, 3],\n",
       "   [0.3, 2.0],\n",
       "   [0.2, 0.8],\n",
       "   [0, 1.0],\n",
       "   [0.0, 2.0]],\n",
       "  'param_bounds_sampler': [[-2.7, 2.7],\n",
       "   [0.4, 1.9],\n",
       "   [0.25, 0.75],\n",
       "   [0.1, 0.9],\n",
       "   [0.1, 1.9]],\n",
       "  'param_bounds_cnn': [[-2.5, 2.5],\n",
       "   [0.2, 2.0],\n",
       "   [0.1, 0.9],\n",
       "   [0, 1.0],\n",
       "   [0.0, 2.0]],\n",
       "  'boundary_param_names': [],\n",
       "  'boundary_param_bounds_network': [],\n",
       "  'boundary_param_bounds_sampler': [],\n",
       "  'boundary_param_bounds_cnn': [],\n",
       "  'dgp_hyperparameters': [['s', 1.0],\n",
       "   ['delta_t', 0.01],\n",
       "   ['max_t', 20],\n",
       "   ['n_samples', 20000],\n",
       "   ['print_info', False],\n",
       "   ['boundary', <function boundary_functions.constant(t=0)>],\n",
       "   ['boundary_multiplicative', True]]},\n",
       " 'ornstein_angle': {},\n",
       " 'ornstein_weibull': {},\n",
       " 'full_ddm': {'dgp': <function cddm_data_simulation.full_ddm>,\n",
       "  'boundary': <function boundary_functions.constant(t=0)>,\n",
       "  'boundary_multiplicative': True,\n",
       "  'method_folder': '/users/afengler/data/kde/full_ddm/',\n",
       "  'method_folder_x7': '/media/data_cifs/afengler/data/kde/full_ddm/',\n",
       "  'method_folder_home': '/Users/afengler/OneDrive/project_nn_likelihoods/data/kde/full_ddm/',\n",
       "  'data_folder': '/users/afengler/data/kde/full_ddm/train_test_data_20000',\n",
       "  'data_folder_x7': '/media/data_cifs/afengler/data/kde/full_ddm/train_test_data_20000',\n",
       "  'output_folder': '/users/afengler/data/kde/full_ddm/method_comparison/',\n",
       "  'output_folder_x7': '/media/data_cifs/afengler/data/kde/full_ddm/method_comparison/',\n",
       "  'output_folder_home': '/Users/afengler/OneDrive/project_nn_likelihoods/data/kde/full_ddm/method_comparison/',\n",
       "  'model_folder': '/users/afengler/data/kde/full_ddm/keras_models/',\n",
       "  'model_folder_x7': '/media/data_cifs/afengler/data/kde/full_ddm/keras_models/',\n",
       "  'param_names': ['v', 'a', 'w', 'ndt', 'dw', 'sdv', 'dndt'],\n",
       "  'boundary_param_names': [],\n",
       "  'param_bounds_network': [[-2.0, 2.0],\n",
       "   [0.3, 2],\n",
       "   [0.3, 0.7],\n",
       "   [0.25, 2.25],\n",
       "   [0.0, 0.4],\n",
       "   [0, 0.5],\n",
       "   [0.0, 0.25]],\n",
       "  'param_bounds_sampler': [[-1.9, 1.9],\n",
       "   [0.4, 1.9],\n",
       "   [0.25, 0.65],\n",
       "   [0.3, 2.2],\n",
       "   [0.05, 0.35],\n",
       "   [0.05, 0.45],\n",
       "   [0.05, 0.2]],\n",
       "  'param_bounds_cnn': [[-2.5, 2.5],\n",
       "   [0.2, 2.0],\n",
       "   [0.1, 0.9],\n",
       "   [0.25, 2.5],\n",
       "   [0.0, 0.2],\n",
       "   [0.0, 1.0],\n",
       "   [0.0, 0.25]],\n",
       "  'boundary_param_bounds_network': [],\n",
       "  'boundary_param_bounds_sampler': [],\n",
       "  'boundary_param_bounds_cnn': [],\n",
       "  'dgp_hyperparameters': [['s', 1.0],\n",
       "   ['delta_t', 0.01],\n",
       "   ['max_t', 20],\n",
       "   ['n_samples', 20000],\n",
       "   ['print_info', False],\n",
       "   ['boundary', <function boundary_functions.constant(t=0)>],\n",
       "   ['boundary_multiplicative', True]]},\n",
       " 'full_ddm2': {'dgp': <function cddm_data_simulation.full_ddm>,\n",
       "  'boundary': <function boundary_functions.constant(t=0)>,\n",
       "  'boundary_multiplicative': True,\n",
       "  'method_folder': '/users/afengler/data/kde/full_ddm2/',\n",
       "  'method_folder_x7': '/media/data_cifs/afengler/data/kde/full_ddm2/',\n",
       "  'method_folder_home': '/Users/afengler/OneDrive/project_nn_likelihoods/data/kde/full_ddm2/',\n",
       "  'data_folder': '/users/afengler/data/kde/full_ddm2/train_test_data_20000',\n",
       "  'data_folder_x7': '/media/data_cifs/afengler/data/kde/full_ddm2/train_test_data_20000',\n",
       "  'output_folder': '/users/afengler/data/kde/full_ddm2/method_comparison/',\n",
       "  'output_folder_x7': '/media/data_cifs/afengler/data/kde/full_ddm2/method_comparison/',\n",
       "  'output_folder_home': '/Users/afengler/OneDrive/project_nn_likelihoods/data/kde/full_ddm2/method_comparison/',\n",
       "  'model_folder': '/users/afengler/data/kde/full_ddm2/keras_models/',\n",
       "  'model_folder_x7': '/media/data_cifs/afengler/data/kde/full_ddm2/keras_models/',\n",
       "  'param_names': ['v', 'a', 'w', 'ndt', 'dw', 'sdv', 'dndt'],\n",
       "  'boundary_param_names': [],\n",
       "  'param_bounds_network': [[-3, 3],\n",
       "   [0.3, 2],\n",
       "   [0.3, 0.7],\n",
       "   [0.25, 2.25],\n",
       "   [0.0, 0.3],\n",
       "   [0.0, 2.0],\n",
       "   [0.0, 0.25]],\n",
       "  'param_bounds_sampler': [[-2.5, 2.5],\n",
       "   [0.4, 1.8],\n",
       "   [0.25, 0.65],\n",
       "   [0.3, 2.2],\n",
       "   [0.05, 0.25],\n",
       "   [0.3, 1.7],\n",
       "   [0.05, 0.2]],\n",
       "  'param_bounds_cnn': [[-3.0, 3.0],\n",
       "   [0.3, 2.0],\n",
       "   [0.3, 0.7],\n",
       "   [0.25, 2.25],\n",
       "   [0.0, 0.4],\n",
       "   [0.0, 2.0],\n",
       "   [0.0, 0.25]],\n",
       "  'boundary_param_bounds_network': [],\n",
       "  'boundary_param_bounds_sampler': [],\n",
       "  'boundary_param_bounds_cnn': [],\n",
       "  'dgp_hyperparameters': [['s', 1.0],\n",
       "   ['delta_t', 0.01],\n",
       "   ['max_t', 20],\n",
       "   ['n_samples', 20000],\n",
       "   ['print_info', False],\n",
       "   ['boundary', <function boundary_functions.constant(t=0)>],\n",
       "   ['boundary_multiplicative', True]]},\n",
       " 'ddm_sdv_red': {'dgp': <function cddm_data_simulation.ddm_sdv>,\n",
       "  'boundary': <function boundary_functions.constant(t=0)>,\n",
       "  'boundary_multiplicative': True,\n",
       "  'method_folder': '/users/afengler/data/kde/ddm_sdv_red/',\n",
       "  'method_folder_x7': '/media/data_cifs/afengler/data/kde/ddm_sdv_red/',\n",
       "  'method_folder_home': '/Users/afengler/OneDrive/project_nn_likelihoods/data/kde/ddm_sdv_red/',\n",
       "  'data_folder': '/users/afengler/data/kde/ddm_sdv_red/train_test_data_20000',\n",
       "  'data_folder_x7': '/media/data_cifs/afengler/data/kde/ddm_sdv_red/train_test_data_20000',\n",
       "  'output_folder': '/users/afengler/data/kde/ddm_sdv_red/method_comparison/',\n",
       "  'output_folder_x7': '/media/data_cifs/afengler/data/kde/ddm_sdv_red/method_comparison/',\n",
       "  'output_folder_home': '/Users/afengler/OneDrive/project_nn_likelihoods/data/kde/ddm_sdv_red/method_comparison/',\n",
       "  'model_folder': '/users/afengler/data/kde/ddm_sdv_red/keras_models/',\n",
       "  'model_folder_x7': '/media/data_cifs/afengler/data/kde/ddm_sdv_red/keras_models/',\n",
       "  'param_names': ['v', 'a', 'w', 'ndt', 'sdv'],\n",
       "  'boundary_param_names': [],\n",
       "  'param_bounds_network': [[-3, 3],\n",
       "   [0.3, 2.5],\n",
       "   [0.1, 0.9],\n",
       "   [0.0, 2.0],\n",
       "   [0.0, 2.5]],\n",
       "  'param_bounds_sampler': [[-2.7, 2.7],\n",
       "   [0.5, 2.2],\n",
       "   [0.15, 0.85],\n",
       "   [0.05, 1.95],\n",
       "   [0.3, 2.2]],\n",
       "  'param_bounds_cnn': [[-3, 3],\n",
       "   [0.3, 2.5],\n",
       "   [0.1, 0.9],\n",
       "   [0.0, 2.0],\n",
       "   [0.0, 2.5]],\n",
       "  'boundary_param_bounds_network': [],\n",
       "  'boundary_param_bounds_sampler': [],\n",
       "  'boundary_param_bounds_cnn': [],\n",
       "  'dgp_hyperparameters': [['s', 1.0],\n",
       "   ['delta_t', 0.001],\n",
       "   ['max_t', 20],\n",
       "   ['n_samples', 20000],\n",
       "   ['print_info', False],\n",
       "   ['boundary', <function boundary_functions.constant(t=0)>],\n",
       "   ['boundary_multiplicative', True]]},\n",
       " 'ddm_sdv': {'dgp': <function cddm_data_simulation.ddm_sdv>,\n",
       "  'boundary': <function boundary_functions.constant(t=0)>,\n",
       "  'boundary_multiplicative': True,\n",
       "  'method_folder': '/users/afengler/data/kde/ddm_sdv/',\n",
       "  'method_folder_x7': '/media/data_cifs/afengler/data/kde/ddm_sdv/',\n",
       "  'method_folder_home': '/Users/afengler/OneDrive/project_nn_likelihoods/data/kde/ddm_sdv/',\n",
       "  'data_folder': '/users/afengler/data/kde/ddm_sdv/train_test_data_20000',\n",
       "  'data_folder_x7': '/media/data_cifs/afengler/data/kde/ddm_sdv/train_test_data_20000',\n",
       "  'output_folder': '/users/afengler/data/kde/ddm_sdv/method_comparison/',\n",
       "  'output_folder_x7': '/media/data_cifs/afengler/data/kde/ddm_sdv/method_comparison/',\n",
       "  'output_folder_home': '/Users/afengler/OneDrive/project_nn_likelihoods/data/kde/ddm_sdv/method_comparison/',\n",
       "  'model_folder': '/users/afengler/data/kde/ddm_sdv/keras_models/',\n",
       "  'model_folder_x7': '/media/data_cifs/afengler/data/kde/ddm_sdv/keras_models/',\n",
       "  'param_names': ['v', 'a', 'w', 'ndt', 'sdv'],\n",
       "  'boundary_param_names': [],\n",
       "  'param_bounds_network': [[-3, 3],\n",
       "   [0.3, 2.5],\n",
       "   [0.1, 0.9],\n",
       "   [0.0, 2.0],\n",
       "   [0.0, 2.5]],\n",
       "  'param_bounds_sampler': [[-2.7, 2.7],\n",
       "   [0.5, 2.2],\n",
       "   [0.15, 0.85],\n",
       "   [0.05, 1.95],\n",
       "   [0.3, 2.2]],\n",
       "  'param_bounds_cnn': [[-3, 3],\n",
       "   [0.3, 2.5],\n",
       "   [0.1, 0.9],\n",
       "   [0.0, 2.0],\n",
       "   [0.0, 2.5]],\n",
       "  'boundary_param_bounds_network': [],\n",
       "  'boundary_param_bounds_sampler': [],\n",
       "  'boundary_param_bounds_cnn': [],\n",
       "  'dgp_hyperparameters': [['s', 1.0],\n",
       "   ['delta_t', 0.001],\n",
       "   ['max_t', 20],\n",
       "   ['n_samples', 20000],\n",
       "   ['print_info', False],\n",
       "   ['boundary', <function boundary_functions.constant(t=0)>],\n",
       "   ['boundary_multiplicative', True]]},\n",
       " 'race_model': {'dgp': <function cddm_data_simulation.race_model>,\n",
       "  'boundary': <function boundary_functions.constant(t=0)>,\n",
       "  'boundary_multiplicative': True,\n",
       "  'method_folder': '/users/afengler/data/kde/race_model/',\n",
       "  'method_folder_x7': '/media/data_cifs/afengler/data/kde/race_model/',\n",
       "  'method_folder_home': '/Users/afengler/OneDrive/project_nn_likelihoods/data/kde/race_model/',\n",
       "  'data_folder': '/users/afengler/data/kde/race_model/train_test_data/',\n",
       "  'data_folder_x7': '/media/data_cifs/afengler/data/kde/race_model/train_test_data/',\n",
       "  'output_folder': '/users/afengler/data/kde/race_model/method_comparison/',\n",
       "  'output_folder_x7': '/media/data_cifs/afengler/data_kde/race_model/train_test_data/',\n",
       "  'output_folder_home': '/Users/afengler/OneDrive/project_nn_likelihoods/data/kde/race_model/method_comparison/',\n",
       "  'param_names': ['v', 'a', 'w', 'ndt'],\n",
       "  'param_depends_on_n_choice': [1, 0, 1, 0],\n",
       "  'boundary_param_names': [],\n",
       "  'param_bounds_network': [[0, 2.0], [1.0, 3.0], [0.2, 0.8], [0.0, 1.0]],\n",
       "  'param_bounds_sampler': [[0.1, 1.9], [1.1, 2.9], [0.21, 0.79], [0.1, 0.9]],\n",
       "  'param_bounds_cnn': [[0.0, 2.5], [1.0, 3.0], [0.1, 0.9], [0.0, 2.0]],\n",
       "  'boundary_param_bounds_network': [],\n",
       "  'boundary_param_bounds_sampler': [],\n",
       "  'boundary_param_bounds_cnn': [],\n",
       "  'dgp_hyperparameters': [['s', 1.0],\n",
       "   ['delta_t', 0.01],\n",
       "   ['max_t', 20],\n",
       "   ['n_samples', 20000],\n",
       "   ['print_info', False],\n",
       "   ['boundary', <function boundary_functions.constant(t=0)>],\n",
       "   ['boundary_multiplicative', True]]},\n",
       " 'race_model_3': {'dgp': <function cddm_data_simulation.race_model>,\n",
       "  'boundary': <function boundary_functions.constant(t=0)>,\n",
       "  'boundary_multiplicative': True,\n",
       "  'method_folder': '/users/afengler/data/kde/race_model_3/',\n",
       "  'method_folder_x7': '/media/data_cifs/afengler/data/kde/race_model_3/',\n",
       "  'method_folder_home': '/Users/afengler/OneDrive/project_nn_likelihoods/data/kde/race_model_3/',\n",
       "  'data_folder': '/users/afengler/data/kde/race_model_3/train_test_data/',\n",
       "  'data_folder_x7': '/media/data_cifs/afengler/data/kde/race_model_3/train_test_data/',\n",
       "  'output_folder': '/users/afengler/data/kde/race_model_3/method_comparison/',\n",
       "  'output_folder_x7': '/media/data_cifs/afengler/data_kde/race_model_3/train_test_data/',\n",
       "  'output_folder_home': '/Users/afengler/OneDrive/project_nn_likelihoods/data/kde/race_model_3/method_comparison/',\n",
       "  'param_names': ['v_0', 'v_1', 'v_2', 'a', 'w_0', 'w_1', 'w_2', 'ndt'],\n",
       "  'boundary_param_names': [],\n",
       "  'param_bounds_network': [[0, 2.0],\n",
       "   [0, 2.0],\n",
       "   [0, 2.0],\n",
       "   [1.0, 3.0],\n",
       "   [0.2, 0.8],\n",
       "   [0.2, 0.8],\n",
       "   [0.2, 0.8],\n",
       "   [0.0, 1.0]],\n",
       "  'param_bounds_sampler': [[0.1, 1.9],\n",
       "   [0.1, 1.9],\n",
       "   [0.1, 1.9],\n",
       "   [1.1, 2.9],\n",
       "   [0.21, 0.79],\n",
       "   [0.21, 0.79],\n",
       "   [0.21, 0.79],\n",
       "   [0.1, 0.9]],\n",
       "  'param_bounds_cnn': [[0.0, 2.5],\n",
       "   [0.0, 2.5],\n",
       "   [0.0, 2.5],\n",
       "   [1.0, 3.0],\n",
       "   [0.1, 0.9],\n",
       "   [0.1, 0.9],\n",
       "   [0.1, 0.9],\n",
       "   [0.0, 2.0]],\n",
       "  'boundary_param_bounds_network': [],\n",
       "  'boundary_param_bounds_sampler': [],\n",
       "  'boundary_param_bounds_cnn': [],\n",
       "  'dgp_hyperparameters': [['s', 1.0],\n",
       "   ['delta_t', 0.01],\n",
       "   ['max_t', 20],\n",
       "   ['n_samples', 20000],\n",
       "   ['print_info', False],\n",
       "   ['boundary', <function boundary_functions.constant(t=0)>],\n",
       "   ['boundary_multiplicative', True]]},\n",
       " 'race_model_4': {'dgp': <function cddm_data_simulation.race_model>,\n",
       "  'boundary': <function boundary_functions.constant(t=0)>,\n",
       "  'boundary_multiplicative': True,\n",
       "  'method_folder': '/users/afengler/data/kde/race_model_4/',\n",
       "  'method_folder_x7': '/media/data_cifs/afengler/data/kde/race_model_4/',\n",
       "  'method_folder_home': '/Users/afengler/OneDrive/project_nn_likelihoods/data/kde/race_model_4/',\n",
       "  'data_folder': '/users/afengler/data/kde/race_model_4/train_test_data/',\n",
       "  'data_folder_x7': '/media/data_cifs/afengler/data/kde/race_model_4/train_test_data/',\n",
       "  'output_folder': '/users/afengler/data/kde/race_model_4/method_comparison/',\n",
       "  'output_folder_x7': '/media/data_cifs/afengler/data_kde/race_model_4/train_test_data/',\n",
       "  'output_folder_home': '/Users/afengler/OneDrive/project_nn_likelihoods/data/kde/race_model_4/method_comparison/',\n",
       "  'param_names': ['v_0',\n",
       "   'v_1',\n",
       "   'v_2',\n",
       "   'v_3',\n",
       "   'a',\n",
       "   'w_0',\n",
       "   'w_1',\n",
       "   'w_2',\n",
       "   'w_3',\n",
       "   'ndt'],\n",
       "  'param_depends_on_n_choice': [1, 0, 1, 0],\n",
       "  'boundary_param_names': [],\n",
       "  'param_bounds_network': [[0, 2.0],\n",
       "   [0, 2.0],\n",
       "   [0, 2.0],\n",
       "   [0, 2.0],\n",
       "   [1.0, 3.0],\n",
       "   [0.2, 0.8],\n",
       "   [0.2, 0.8],\n",
       "   [0.2, 0.8],\n",
       "   [0.2, 0.8],\n",
       "   [0.0, 1.0]],\n",
       "  'param_bounds_sampler': [[0.1, 1.9],\n",
       "   [0.1, 1.9],\n",
       "   [0.1, 1.9],\n",
       "   [0.1, 1.9],\n",
       "   [1.1, 2.9],\n",
       "   [0.21, 0.79],\n",
       "   [0.21, 0.79],\n",
       "   [0.21, 0.79],\n",
       "   [0.21, 0.79],\n",
       "   [0.1, 0.9]],\n",
       "  'param_bounds_cnn': [[0.0, 2.5],\n",
       "   [0.0, 2.5],\n",
       "   [0.0, 2.5],\n",
       "   [0.0, 2.5],\n",
       "   [1.0, 3.0],\n",
       "   [0.1, 0.9],\n",
       "   [0.1, 0.9],\n",
       "   [0.1, 0.9],\n",
       "   [0.1, 0.9],\n",
       "   [0.0, 2.0]],\n",
       "  'boundary_param_bounds_network': [],\n",
       "  'boundary_param_bounds_sampler': [],\n",
       "  'boundary_param_bounds_cnn': [],\n",
       "  'dgp_hyperparameters': [['s', 1.0],\n",
       "   ['delta_t', 0.01],\n",
       "   ['max_t', 20],\n",
       "   ['n_samples', 20000],\n",
       "   ['print_info', False],\n",
       "   ['boundary', <function boundary_functions.constant(t=0)>],\n",
       "   ['boundary_multiplicative', True]]},\n",
       " 'lca_3': {'dgp': <function cddm_data_simulation.lca>,\n",
       "  'boundary': <function boundary_functions.constant(t=0)>,\n",
       "  'boundary_multiplicative': True,\n",
       "  'method_folder': '/users/afengler/data/kde/lca_3/',\n",
       "  'method_folder_x7': '/media/data_cifs/afengler/data/kde/lca_3/',\n",
       "  'method_folder_home': '/Users/afengler/OneDrive/project_nn_likelihoods/data/kde/lca_3/',\n",
       "  'data_folder': 'users/afengler/data/kde/lca_3/.../',\n",
       "  'data_folder_x7': 'users/afengler/data/kde/lca_3/.../',\n",
       "  'output_folder': '/users/afengler/data/kde/lca_3/method_comparison/',\n",
       "  'output_folder_x7': '/media/data_cifs/afengler/data/kde/lca_3/method_comparison/',\n",
       "  'output_folder_home': '/Users/afengler/OneDrive/project_nn_likelihoods/data/kde/lca_3/method_comparison/',\n",
       "  'param_names': ['v_0',\n",
       "   'v_1',\n",
       "   'v_2',\n",
       "   'a',\n",
       "   'w_0',\n",
       "   'w_1',\n",
       "   'w_2',\n",
       "   'g',\n",
       "   'b',\n",
       "   'ndt'],\n",
       "  'param_depends_on_n_choice': [1, 0, 1, 0, 0, 0],\n",
       "  'boundary_param_names': [],\n",
       "  'param_bounds_network': [[0, 2.0],\n",
       "   [0, 2.0],\n",
       "   [0, 2.0],\n",
       "   [1.0, 3.0],\n",
       "   [0.2, 0.8],\n",
       "   [0.2, 0.8],\n",
       "   [0.2, 0.8],\n",
       "   [-1.0, 1.0],\n",
       "   [-1.0, 1.0],\n",
       "   [0.0, 1.0]],\n",
       "  'param_bounds_sampler': [[0, 2.0],\n",
       "   [0, 2.0],\n",
       "   [0, 2.0],\n",
       "   [1.0, 3.0],\n",
       "   [0.2, 0.8],\n",
       "   [0.2, 0.8],\n",
       "   [0.2, 0.8],\n",
       "   [-0.9, 0.9],\n",
       "   [-0.9, 0.9],\n",
       "   [0.05, 0.95]],\n",
       "  'param_bounds_cnn': [[0, 2.5],\n",
       "   [0, 2.5],\n",
       "   [0, 2.5],\n",
       "   [1.0, 3.0],\n",
       "   [0.1, 0.9],\n",
       "   [0.1, 0.9],\n",
       "   [0.1, 0.9],\n",
       "   [-1.0, 1.0],\n",
       "   [-1.0, 1.0],\n",
       "   [0.0, 2.0]],\n",
       "  'boundary_param_bounds_cnn': [],\n",
       "  'boundary_param_bounds_network': [],\n",
       "  'boundary_param_bounds_sampler': [],\n",
       "  'dgp_hyperparameters': [['s', 1.0],\n",
       "   ['delta_t', 0.01],\n",
       "   ['max_t', 20],\n",
       "   ['n_samples', 20000],\n",
       "   ['print_info', False],\n",
       "   ['boundary', <function boundary_functions.constant(t=0)>],\n",
       "   ['boundary_multiplicative', True]]},\n",
       " 'lca_4': {'dgp': <function cddm_data_simulation.lca>,\n",
       "  'boundary': <function boundary_functions.constant(t=0)>,\n",
       "  'boundary_multiplicative': True,\n",
       "  'method_folder': '/users/afengler/data/kde/lca_4/',\n",
       "  'method_folder_x7': '/media/data_cifs/afengler/data/kde/lca_4/',\n",
       "  'method_folder_home': '/Users/afengler/OneDrive/project_nn_likelihoods/data/kde/lca_4/',\n",
       "  'data_folder': 'users/afengler/data/kde/lca_4/.../',\n",
       "  'data_folder_x7': 'users/afengler/data/kde/lca_4/.../',\n",
       "  'output_folder': '/users/afengler/data/kde/lca_4/method_comparison/',\n",
       "  'output_folder_x7': '/media/data_cifs/afengler/data/kde/lca_4/method_comparison/',\n",
       "  'output_folder_home': '/Users/afengler/OneDrive/project_nn_likelihoods/data/kde/lca_4/method_comparison/',\n",
       "  'param_names': ['v_0',\n",
       "   'v_1',\n",
       "   'v_2',\n",
       "   'v_3',\n",
       "   'a',\n",
       "   'w_0',\n",
       "   'w_1',\n",
       "   'w_2',\n",
       "   'w_3',\n",
       "   'g',\n",
       "   'b',\n",
       "   'ndt'],\n",
       "  'param_depends_on_n_choice': [1, 0, 1, 0, 0, 0],\n",
       "  'boundary_param_names': [],\n",
       "  'param_bounds_network': [[0, 2.0],\n",
       "   [0, 2.0],\n",
       "   [0, 2.0],\n",
       "   [0, 2.0],\n",
       "   [1.0, 3.0],\n",
       "   [0.2, 0.8],\n",
       "   [0.2, 0.8],\n",
       "   [0.2, 0.8],\n",
       "   [0.2, 0.8],\n",
       "   [-1.0, 1.0],\n",
       "   [-1.0, 1.0],\n",
       "   [0.0, 1.0]],\n",
       "  'param_bounds_sampler': [[0, 2.0],\n",
       "   [0, 2.0],\n",
       "   [0, 2.0],\n",
       "   [0, 2.0],\n",
       "   [1.0, 3.0],\n",
       "   [0.2, 0.8],\n",
       "   [0.2, 0.8],\n",
       "   [0.2, 0.8],\n",
       "   [0.2, 0.8],\n",
       "   [-0.9, 0.9],\n",
       "   [-0.9, 0.9],\n",
       "   [0.05, 0.95]],\n",
       "  'param_bounds_cnn': [[0, 2.5],\n",
       "   [0, 2.5],\n",
       "   [0, 2.5],\n",
       "   [0, 2.5],\n",
       "   [1.0, 3.0],\n",
       "   [0.1, 0.9],\n",
       "   [0.1, 0.9],\n",
       "   [0.1, 0.9],\n",
       "   [0.1, 0.9],\n",
       "   [-1.0, 1.0],\n",
       "   [-1.0, 1.0],\n",
       "   [0.0, 2.0]],\n",
       "  'boundary_param_bounds_cnn': [],\n",
       "  'boundary_param_bounds_network': [],\n",
       "  'boundary_param_bounds_sampler': [],\n",
       "  'dgp_hyperparameters': [['s', 1.0],\n",
       "   ['delta_t', 0.01],\n",
       "   ['max_t', 20],\n",
       "   ['n_samples', 20000],\n",
       "   ['print_info', False],\n",
       "   ['boundary', <function boundary_functions.constant(t=0)>],\n",
       "   ['boundary_multiplicative', True]]},\n",
       " 'lca': {'dgp': <function cddm_data_simulation.lca>,\n",
       "  'boundary': <function boundary_functions.constant(t=0)>,\n",
       "  'boundary_multiplicative': True,\n",
       "  'method_folder': '/users/afengler/data/kde/lca/',\n",
       "  'method_folder_x7': '/media/data_cifs/afengler/data/kde/lca/',\n",
       "  'method_folder_home': '/Users/afengler/OneDrive/project_nn_likelihoods/data/kde/lca/',\n",
       "  'data_folder': 'users/afengler/data/kde/lca/.../',\n",
       "  'data_folder_x7': 'users/afengler/data/kde/lca/.../',\n",
       "  'output_folder': '/users/afengler/data/kde/lca/method_comparison/',\n",
       "  'output_folder_x7': '/media/data_cifs/afengler/data/kde/lca/method_comparison/',\n",
       "  'output_folder_home': '/Users/afengler/OneDrive/project_nn_likelihoods/data/kde/lca/method_comparison/',\n",
       "  'param_names': ['v', 'a', 'w', 'g', 'b', 'ndt'],\n",
       "  'param_depends_on_n_choice': [1, 0, 1, 0, 0, 0],\n",
       "  'boundary_param_names': [],\n",
       "  'param_bounds_network': [[0, 2.0],\n",
       "   [1.0, 3.0],\n",
       "   [0.2, 0.8],\n",
       "   [-1.0, 1.0],\n",
       "   [-1.0, 1.0],\n",
       "   [0.0, 1.0]],\n",
       "  'param_bounds_sampler': [[0, 2.0],\n",
       "   [1.0, 3.0],\n",
       "   [0.2, 0.8],\n",
       "   [-0.9, 0.9],\n",
       "   [-0.9, 0.9],\n",
       "   [0.05, 0.95]],\n",
       "  'param_bounds_cnn': [[0, 2.5],\n",
       "   [1.0, 3.0],\n",
       "   [0.1, 0.9],\n",
       "   [-1.0, 1.0],\n",
       "   [-1.0, 1.0],\n",
       "   [0.0, 2.0]],\n",
       "  'boundary_param_bounds_cnn': [],\n",
       "  'boundary_param_bounds_network': [],\n",
       "  'boundary_param_bounds_sampler': [],\n",
       "  'dgp_hyperparameters': [['s', 1.0],\n",
       "   ['delta_t', 0.01],\n",
       "   ['max_t', 20],\n",
       "   ['n_samples', 20000],\n",
       "   ['print_info', False],\n",
       "   ['boundary', <function boundary_functions.constant(t=0)>],\n",
       "   ['boundary_multiplicative', True]]},\n",
       " 'ddm_fcn': {'dgp': <function cddm_data_simulation.ddm_flexbound>,\n",
       "  'boundary': <function boundary_functions.constant(t=0)>,\n",
       "  'boundary_multiplicative': True,\n",
       "  'data_folder': '/users/afengler/data/tony/kde/ddm/train_test_data_fcn',\n",
       "  'output_folder': '/users/afengler/data/kde/ddm/method_comparison_fcn/',\n",
       "  'output_folder_x7': '/media/data_cifs/afengler/data/kde/ddm/method_comparison_fcn/',\n",
       "  'param_names': ['v', 'a', 'w'],\n",
       "  'boundary_param_names': [],\n",
       "  'param_bounds': [[-2, 2], [0.6, 1.5], [0.3, 0.7]],\n",
       "  'boundary_param_bounds': []},\n",
       " 'ddm_tutorial': {'dgp': <function cddm_data_simulation.ddm_flexbound>,\n",
       "  'boundary': <function boundary_functions.constant(t=0)>,\n",
       "  'boundary_multiplicative': True,\n",
       "  'method_folder': '/users/afengler/data/kde/ddm_tutorial/',\n",
       "  'method_folder_x7': '/media/data_cifs/afengler/data/kde/ddm_tutorial/',\n",
       "  'method_folder_home': '/Users/afengler/OneDrive/project_nn_likelihoods/data/kde/ddm_tutorial/',\n",
       "  'data_folder': '/users/afengler/data/kde/ddm_tutorial/train_test_data_ndt_20000/',\n",
       "  'data_folder_x7': '/media/data_cifs/afengler/data/kde/ddm_tutorial/train_test_data_ndt_20000/',\n",
       "  'data_folder_fcn': '/users/afengler/data/analytic/ddm_tutorial/fcn_train_test_data_2000',\n",
       "  'data_folder_fcn_x7': '/media/data_cifs/afengler/data/analytic/ddm_tutorial/fcn_train_test_data_2000',\n",
       "  'output_folder': '/users/afengler/data/kde/ddm_tutorial/method_comparison/',\n",
       "  'output_folder_x7': '/media/data_cifs/afengler/data/kde/ddm_tutorial/method_comparison/',\n",
       "  'output_folder_home': '/Users/afengler/OneDrive/project_nn_likelihoods/data/kde/ddm_tutorial/method_comparison/',\n",
       "  'model_folder': '/users/afengler/data/kde/ddm_tutorial/keras_models/',\n",
       "  'model_folder_x7': '/media/data_cifs/afengler/data/kde/ddm_tutorial/keras_models/',\n",
       "  'param_names': ['v', 'a', 'w', 'ndt'],\n",
       "  'boundary_param_names': [],\n",
       "  'param_bounds_network': [[-3.0, 3.0], [0.3, 2.5], [0.1, 0.9], [0.0, 2.0]],\n",
       "  'param_bounds_sampler': [[-2.0, 2.0], [0.5, 2.0], [0.3, 0.7], [0.2, 1.8]],\n",
       "  'param_bounds_cnn': [[-3.0, 3.0], [0.3, 2.5], [0.1, 0.9], [0.0, 2.0]],\n",
       "  'boundary_param_bounds_network': [],\n",
       "  'boundary_param_bounds_sampler': [],\n",
       "  'boundary_param_bounds_cnn': [],\n",
       "  'dgp_hyperparameters': [['s', 1.0],\n",
       "   ['delta_t', 0.01],\n",
       "   ['max_t', 20],\n",
       "   ['n_samples', 20000],\n",
       "   ['print_info', False],\n",
       "   ['boundary', <function boundary_functions.constant(t=0)>],\n",
       "   ['boundary_multiplicative', True]]},\n",
       " 'angle_tutorial': {'dgp': <function cddm_data_simulation.ddm_flexbound>,\n",
       "  'boundary': <function boundary_functions.angle(t=1, theta=1)>,\n",
       "  'boundary_multiplicative': False,\n",
       "  'method_folder': '/users/afengler/data/kde/angle_tutorial/',\n",
       "  'method_folder_x7': '/media/data_cifs/afengler/data/kde/angle_tutorial/',\n",
       "  'method_folder_home': '/Users/afengler/OneDrive/project_nn_likelihoods/data/kde/angle_tutorial/',\n",
       "  'data_folder': '/users/afengler/data/kde/angle_tutorial/train_test_data_ndt_20000/',\n",
       "  'data_folder_x7': '/media/data_cifs/afengler/data/kde/angle_tutorial/train_test_data_ndt_20000/',\n",
       "  'output_folder': '/users/afengler/data/kde/angle_tutorial/method_comparison/',\n",
       "  'output_folder_x7': '/media/data_cifs/afengler/data/kde/angle_tutorial/method_comparison/',\n",
       "  'output_folder_home': '/Users/afengler/OneDrive/project_nn_likelihoods/data/kde/angle_tutorial/method_comparison/',\n",
       "  'model_folder': '/users/afengler/data/kde/angle_tutorial/keras_models/',\n",
       "  'model_folder_x7': '/media/data_cifs/afengler/data/kde/angle_tutorial/keras_models/',\n",
       "  'param_names': ['v', 'a', 'w', 'ndt'],\n",
       "  'boundary_param_names': ['theta'],\n",
       "  'param_bounds_network': [[-2.0, 2.0], [0.3, 2], [0.2, 0.8], [0.0, 2.0]],\n",
       "  'param_bounds_sampler': [[-2.0, 2.0], [0.5, 1.8], [0.3, 0.7], [0.2, 1.8]],\n",
       "  'param_bounds_cnn': [[-2.5, 2.5], [0.2, 2.0], [0.1, 0.9], [0.0, 2.0]],\n",
       "  'boundary_param_bounds_network': [[0, 1.4707963267948965]],\n",
       "  'boundary_param_bounds_sampler': [[0.2, 1.0707963267948966]],\n",
       "  'boundary_param_bounds_cnn': [[0, 1.3707963267948966]],\n",
       "  'dgp_hyperparameters': [['s', 1.0],\n",
       "   ['delta_t', 0.01],\n",
       "   ['max_t', 20],\n",
       "   ['n_samples', 20000],\n",
       "   ['print_info', False],\n",
       "   ['boundary', <function boundary_functions.angle(t=1, theta=1)>],\n",
       "   ['boundary_multiplicative', False]]},\n",
       " 'weibull_cdf_tutorial': {'dgp': <function cddm_data_simulation.ddm_flexbound>,\n",
       "  'boundary': <function boundary_functions.weibull_cdf(t=1, alpha=1, beta=1)>,\n",
       "  'boundary_multiplicative': True,\n",
       "  'method_folder': '/users/afengler/data/kde/weibull_cdf_tutorial/',\n",
       "  'method_folder_x7': '/media/data_cifs/afengler/data/kde/weibull_cdf_tutorial/',\n",
       "  'method_folder_home': '/Users/afengler/OneDrive/project_nn_likelihoods/data/kde/weibull_cdf_tutorial/',\n",
       "  'data_folder': '/users/afengler/data/kde/weibull_cdf_tutorial/train_test_data_ndt_20000/',\n",
       "  'data_folder_x7': '/media/data_cifs/afengler/data/kde/weibull_cdf_tutorial/train_test_data_ndt_20000/',\n",
       "  'output_folder': '/users/afengler/data/kde/weibull_cdf_tutorial/method_comparison/',\n",
       "  'output_folder_x7': '/media/data_cifs/afengler/data/kde/weibull_cdf_tutorial/method_comparison/',\n",
       "  'output_folder_home': '/Users/afengler/OneDrive/project_nn_likelihoods/data/kde/weibull_cdf_tutorial/method_comparison/',\n",
       "  'model_folder': '/users/afengler/data/kde/weibull_cdf_tutorial/keras_models/',\n",
       "  'model_folder_x7': '/media/data_cifs/afengler/data/kde/weibull_cdf_tutorial/keras_models/',\n",
       "  'param_names': ['v', 'a', 'w', 'ndt'],\n",
       "  'boundary_param_names': ['alpha', 'beta'],\n",
       "  'param_bounds_network': [[-3.0, 3.0], [0.3, 2], [0.2, 0.8], [0.0, 2.0]],\n",
       "  'param_bounds_sampler': [[-2.0, 2.0], [0.5, 1.7], [0.3, 0.7], [0.2, 1.8]],\n",
       "  'param_bounds_cnn': [[-3.0, 3.0], [0.3, 2.0], [0.1, 0.9], [0.0, 2.0]],\n",
       "  'boundary_param_bounds_network': [[0.3, 5.0], [0.3, 7.0]],\n",
       "  'boundary_param_bounds_sampler': [[1.0, 4.0], [1.0, 6.0]],\n",
       "  'boundary_param_bounds_cnn': [[0.3, 5.0], [0.3, 7.0]],\n",
       "  'dgp_hyperparameters': [['s', 1.0],\n",
       "   ['delta_t', 0.01],\n",
       "   ['max_t', 20],\n",
       "   ['n_samples', 20000],\n",
       "   ['print_info', False],\n",
       "   ['boundary',\n",
       "    <function boundary_functions.weibull_cdf(t=1, alpha=1, beta=1)>],\n",
       "   ['boundary_multiplicative', True]]}}"
      ]
     },
     "execution_count": 214,
     "metadata": {},
     "output_type": "execute_result"
    }
   ],
   "source": [
    "kde_info.temp"
   ]
  },
  {
   "cell_type": "code",
   "execution_count": null,
   "metadata": {},
   "outputs": [],
   "source": []
  },
  {
   "cell_type": "code",
   "execution_count": null,
   "metadata": {},
   "outputs": [],
   "source": []
  }
 ],
 "metadata": {
  "kernelspec": {
   "display_name": "Python 3.7.5 64-bit ('tf-cpu': conda)",
   "language": "python",
   "name": "python37564bittfcpuconda069d89951ccb49ea81a4f03d604ad601"
  },
  "language_info": {
   "codemirror_mode": {
    "name": "ipython",
    "version": 3
   },
   "file_extension": ".py",
   "mimetype": "text/x-python",
   "name": "python",
   "nbconvert_exporter": "python",
   "pygments_lexer": "ipython3",
   "version": "3.7.5"
  }
 },
 "nbformat": 4,
 "nbformat_minor": 4
}
