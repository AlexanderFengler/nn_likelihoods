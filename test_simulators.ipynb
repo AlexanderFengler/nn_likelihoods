{
 "cells": [
  {
   "cell_type": "code",
   "execution_count": 2,
   "metadata": {},
   "outputs": [],
   "source": [
    "# Environ\n",
    "import scipy as scp\n",
    "import tensorflow as tf\n",
    "from scipy.stats import gamma\n",
    "import numpy as np\n",
    "import pandas as pd\n",
    "import matplotlib.pyplot as plt\n",
    "from sklearn.neighbors import KernelDensity\n",
    "import random\n",
    "import multiprocessing as mp\n",
    "import psutil\n",
    "import pickle\n",
    "import os\n",
    "import re\n",
    "\n",
    "# Own\n",
    "import ddm_data_simulation as ds\n",
    "import cddm_data_simulation as cds\n",
    "import kde_training_utilities as kde_util\n",
    "import kde_class as kde\n",
    "import boundary_functions as bf"
   ]
  },
  {
   "cell_type": "code",
   "execution_count": 5,
   "metadata": {},
   "outputs": [
    {
     "name": "stdout",
     "output_type": "stream",
     "text": [
      "0\n"
     ]
    }
   ],
   "source": [
    "# DDM  \n",
    "repeats = 1\n",
    "my_means = np.zeros(repeats)\n",
    "for i in range(repeats):\n",
    "    out = cds.ddm_flexbound(v = 0, \n",
    "                            a = 0.96,\n",
    "                            w = 0.5,\n",
    "                            ndt = 0.5,\n",
    "                            delta_t = 0.01, \n",
    "                            max_t = 20,\n",
    "                            n_samples = 20000,\n",
    "                            boundary_fun = bf.weibull_cdf,\n",
    "                            boundary_multiplicative = False, \n",
    "                            boundary_params = {'a': 1, 'beta': 2})\n",
    "                            #boundary_params = {\"theta\": 0.01})\n",
    "    print(i)\n",
    "    \n",
    "    my_means[i] = np.mean(out[0][out[1] == 1])"
   ]
  },
  {
   "cell_type": "code",
   "execution_count": 39,
   "metadata": {},
   "outputs": [],
   "source": [
    "def bin_simulator_output(out = [0, 0],\n",
    "                         bin_dt = 0.04,\n",
    "                         eps_correction = 1e-7):\n",
    "\n",
    "    # hardcode 'max_t' to 20sec for now\n",
    "    n_bins = int(20.0 / bin_dt + 1)\n",
    "    #n_bins = int(out[2]['max_t'] / bin_dt + 1)\n",
    "    bins = np.linspace(0, out[2]['max_t'], 257)\n",
    "    counts = []\n",
    "    counts.append(np.histogram(out[0][out[1] == 1], bins = bins)[0] / out[2]['n_samples'])\n",
    "    counts.append(np.histogram(out[0][out[1] == -1], bins = bins)[0] / out[2]['n_samples'])\n",
    "\n",
    "    n_small = 0\n",
    "    n_big = 0\n",
    "\n",
    "    for i in range(len(counts)):\n",
    "        n_small += sum(counts[i] < eps_correction)\n",
    "        n_big += sum(counts[i] >= eps_correction)\n",
    "\n",
    "    for i in range(len(counts)):\n",
    "        counts[i][counts[i] <= eps_correction] = eps_correction\n",
    "        counts[i][counts[i] > eps_correction] = counts[i][counts[i] > eps_correction] - (eps_correction * (n_small / n_big))    \n",
    "\n",
    "    for i in range(len(counts)):\n",
    "        counts[i] =  np.asmatrix(counts[i]).T\n",
    "\n",
    "    label = np.concatenate(counts, axis = 1)\n",
    "    features = [out[2]['v'], out[2]['a'], out[2]['w']] # out[2]['ndt']]\n",
    "    return (features, label)"
   ]
  },
  {
   "cell_type": "code",
   "execution_count": 40,
   "metadata": {},
   "outputs": [],
   "source": [
    "#%%timeit -n 1 -r 5\n",
    "a, b = bin_simulator_output(out = out)"
   ]
  },
  {
   "cell_type": "code",
   "execution_count": 42,
   "metadata": {},
   "outputs": [
    {
     "data": {
      "text/plain": [
       "{'v': 0.0,\n",
       " 'a': 0.9599999785423279,\n",
       " 'w': 0.5,\n",
       " 'ndt': 0.5,\n",
       " 's': 1.0,\n",
       " 'theta': 0.01,\n",
       " 'delta_t': 0.009999999776482582,\n",
       " 'max_t': 20.0,\n",
       " 'n_samples': 20000,\n",
       " 'simulator': 'ddm_flexbound',\n",
       " 'boundary_fun_type': 'angle',\n",
       " 'possible_choices': [-1, 1]}"
      ]
     },
     "execution_count": 42,
     "metadata": {},
     "output_type": "execute_result"
    }
   ],
   "source": [
    "out[2]"
   ]
  },
  {
   "cell_type": "code",
   "execution_count": 5,
   "metadata": {},
   "outputs": [],
   "source": [
    "files_ = os.listdir('/media/data_cifs/afengler/data/kde/ddm/base_simulations_20000')"
   ]
  },
  {
   "cell_type": "code",
   "execution_count": 8,
   "metadata": {},
   "outputs": [
    {
     "name": "stdout",
     "output_type": "stream",
     "text": [
      "0\n",
      "100\n",
      "200\n",
      "300\n",
      "400\n",
      "500\n",
      "600\n",
      "700\n",
      "800\n",
      "900\n"
     ]
    }
   ],
   "source": [
    "labels = np.zeros((250000, 500, 2))\n",
    "features = np.zeros((250000, 3))\n",
    "\n",
    "cnt = 0\n",
    "i = 0\n",
    "file_dim = 100\n",
    "for file_ in files_[:1000]:\n",
    "    if file_[:8] == 'ddm_flex':\n",
    "        out = pickle.load(open('/media/data_cifs/afengler/data/kde/ddm/base_simulations_20000/' + file_, 'rb'))\n",
    "        features[cnt], labels[cnt] = bin_simulator_output(out = out)\n",
    "        if cnt % file_dim == 0:\n",
    "            print(cnt)\n",
    "            pickle.dump((labels[(i * file_dim):((i + 1) * file_dim)], features[(i * file_dim):((i + 1) * file_dim)]), open('/media/data_cifs/afengler/data/kde/ddm/base_simulations_20000_binned/dataset_' + str(i), 'wb'))\n",
    "            i += 1\n",
    "        cnt += 1\n"
   ]
  },
  {
   "cell_type": "code",
   "execution_count": 19,
   "metadata": {},
   "outputs": [
    {
     "data": {
      "text/plain": [
       "['ddm_flexbound_8f20ccdcb4a211e9bfa0b92c7f3bbbb3.pickle',\n",
       " 'ddm_flexbound_6e62f94cb4a811e9a2296161dd1187d4.pickle',\n",
       " 'ddm_flexbound_471fbd92b4a411e985f6ffa9521cc62b.pickle',\n",
       " 'ddm_flexbound_121436fcb49311e99f50856f5dfd3c68.pickle',\n",
       " 'ddm_flexbound_94a3b878b49211e9993d4b8b0deebcde.pickle',\n",
       " 'ddm_flexbound_82348a9eb49411e9a54c156d8f74be92.pickle',\n",
       " 'ddm_flexbound_4c553792b49f11e9b0187b49e7ec8e30.pickle',\n",
       " 'ddm_flexbound_150fda5cb4af11e9b63dc36fa94c651c.pickle',\n",
       " 'ddm_flexbound_1185fc1eb4a411e9a92c59bea83f0590.pickle',\n",
       " 'ddm_flexbound_3aa90a00b49f11e9b54705d8231d6519.pickle']"
      ]
     },
     "execution_count": 19,
     "metadata": {},
     "output_type": "execute_result"
    }
   ],
   "source": [
    "files_[0:10]"
   ]
  },
  {
   "cell_type": "code",
   "execution_count": 20,
   "metadata": {},
   "outputs": [
    {
     "data": {
      "text/plain": [
       "['ddm_flexbound_5837b522b4a811e9811e5bf9d656495d.pickle',\n",
       " 'ddm_flexbound_e4cfa5b0b49111e9b54705d8231d6519.pickle',\n",
       " 'ddm_flexbound_7299cb8cb49c11e9ab6a19eb39c3d16e.pickle',\n",
       " 'ddm_flexbound_6bfef1d6b4aa11e997417d415d78197e.pickle',\n",
       " 'ddm_flexbound_fb9c7be0b4a711e991da87d516367dec.pickle',\n",
       " 'ddm_flexbound_c9959f84b49111e9acc87dc8e438791b.pickle',\n",
       " 'ddm_flexbound_35ea3ffeb4a211e99fc52daf56a52c95.pickle',\n",
       " 'ddm_flexbound_d5c471eab49111e988acb30e98ec4b9a.pickle',\n",
       " 'ddm_flexbound_7da11050b4a911e9ab0afba0ff2c72f3.pickle',\n",
       " 'ddm_flexbound_bafec368b4a211e9b8291bebff384457.pickle']"
      ]
     },
     "execution_count": 20,
     "metadata": {},
     "output_type": "execute_result"
    }
   ],
   "source": [
    "random.shuffle(files_)\n",
    "files_[0:10]"
   ]
  },
  {
   "cell_type": "code",
   "execution_count": null,
   "metadata": {},
   "outputs": [],
   "source": [
    "# FULL DDM  \n",
    "repeats = 50\n",
    "my_means = np.zeros(repeats)\n",
    "for i in range(repeats):\n",
    "    out = cds.full_ddm(v = 0, \n",
    "                       a = 0.96,\n",
    "                       w = 0.5,\n",
    "                       ndt = 0.5,\n",
    "                       dw = 0.0,\n",
    "                       sdv = 0.0,\n",
    "                       dndt = 0.5,\n",
    "                       delta_t = 0.01, \n",
    "                       max_t = 20,\n",
    "                       n_samples = 10000,\n",
    "                       boundary_fun = bf.constant,\n",
    "                       boundary_multiplicative = True, \n",
    "                       boundary_params = {})\n",
    "    print(i)\n",
    "    \n",
    "    my_means[i] = np.mean(out[0][out[1] == 1])"
   ]
  },
  {
   "cell_type": "code",
   "execution_count": null,
   "metadata": {},
   "outputs": [],
   "source": []
  },
  {
   "cell_type": "code",
   "execution_count": null,
   "metadata": {},
   "outputs": [],
   "source": [
    "plt.hist(my_means, density = True)"
   ]
  },
  {
   "cell_type": "code",
   "execution_count": null,
   "metadata": {},
   "outputs": [],
   "source": [
    "np.mean(out[0][out[1] == 1])"
   ]
  },
  {
   "cell_type": "code",
   "execution_count": null,
   "metadata": {},
   "outputs": [],
   "source": [
    "plt.hist(out[0] * out[1], bins = 50)"
   ]
  },
  {
   "cell_type": "code",
   "execution_count": null,
   "metadata": {},
   "outputs": [],
   "source": [
    "int(50 / out[2]['delta_t'] + 1)"
   ]
  },
  {
   "cell_type": "code",
   "execution_count": null,
   "metadata": {},
   "outputs": [],
   "source": [
    "# LCA \n",
    "repeats = 1\n",
    "my_means = np.zeros(repeats)\n",
    "for i in range(repeats):\n",
    "    out = cds.lca(v = np.array([0, 0], dtype = np.float32), \n",
    "                  a = 2, \n",
    "                  w = np.array([0.5, 0.5], dtype = np.float32), \n",
    "                  ndt = np.array([1.0, 1.0], dtype = np.float32),\n",
    "                  g = -1.0,\n",
    "                  b = 1.0,\n",
    "                  delta_t = 0.01, \n",
    "                  max_t = 40,\n",
    "                  n_samples = 10000,\n",
    "                  boundary_fun = bf.constant,\n",
    "                  boundary_multiplicative = True, \n",
    "                  boundary_params = {})\n",
    "    print(i)\n",
    "    my_means[i] = np.mean(out[0][out[1] == 1])"
   ]
  },
  {
   "cell_type": "code",
   "execution_count": null,
   "metadata": {},
   "outputs": [],
   "source": [
    "out[1][out[1] == 0] = -1\n",
    "plt.hist(out[0] * out[1], bins = 50)"
   ]
  },
  {
   "cell_type": "code",
   "execution_count": null,
   "metadata": {},
   "outputs": [],
   "source": [
    "# LCA \n",
    "repeats = 10\n",
    "my_means = np.zeros(repeats)\n",
    "for i in range(repeats):\n",
    "    out = cds.ddm_flexbound(v = 0.0, \n",
    "                            a = 1.5, \n",
    "                            w = 0.5, \n",
    "                            ndt = 0.1,\n",
    "                            delta_t = 0.01, \n",
    "                            max_t = 40,\n",
    "                            n_samples = 10000,\n",
    "                            boundary_fun = bf.constant,\n",
    "                            boundary_multiplicative = True, \n",
    "                            boundary_params = {})\n",
    "    print(i)\n",
    "    my_means[i] = np.mean(out[0][out[1] == 1])"
   ]
  },
  {
   "cell_type": "code",
   "execution_count": null,
   "metadata": {},
   "outputs": [],
   "source": [
    "plt.hist(my_means, density = True)"
   ]
  },
  {
   "cell_type": "code",
   "execution_count": null,
   "metadata": {},
   "outputs": [],
   "source": [
    "out[1][out[1] == -1].shape"
   ]
  },
  {
   "cell_type": "code",
   "execution_count": null,
   "metadata": {},
   "outputs": [],
   "source": [
    "int((40 / 0.01) + 1)"
   ]
  },
  {
   "cell_type": "code",
   "execution_count": null,
   "metadata": {},
   "outputs": [],
   "source": [
    "my_bound = bf.constant"
   ]
  },
  {
   "cell_type": "code",
   "execution_count": null,
   "metadata": {},
   "outputs": [],
   "source": [
    "my_bound"
   ]
  },
  {
   "cell_type": "code",
   "execution_count": null,
   "metadata": {},
   "outputs": [],
   "source": [
    "my_bound(t = 100)"
   ]
  },
  {
   "cell_type": "code",
   "execution_count": null,
   "metadata": {},
   "outputs": [],
   "source": [
    "h_Test = (1, 1, 1)"
   ]
  },
  {
   "cell_type": "code",
   "execution_count": null,
   "metadata": {},
   "outputs": [],
   "source": [
    "h_Test + (1,2)"
   ]
  },
  {
   "cell_type": "code",
   "execution_count": null,
   "metadata": {},
   "outputs": [],
   "source": [
    "h = ({'c': 1}, {'c2': 2})"
   ]
  },
  {
   "cell_type": "code",
   "execution_count": null,
   "metadata": {},
   "outputs": [],
   "source": [
    "h_Test + h"
   ]
  },
  {
   "cell_type": "code",
   "execution_count": null,
   "metadata": {},
   "outputs": [],
   "source": [
    "a = ({'c': 1},)"
   ]
  },
  {
   "cell_type": "code",
   "execution_count": null,
   "metadata": {},
   "outputs": [],
   "source": [
    "h_Test + a"
   ]
  },
  {
   "cell_type": "code",
   "execution_count": null,
   "metadata": {},
   "outputs": [],
   "source": [
    "def foo(name, *args, **kwargs):\n",
    "    print (\"args: \", args)\n",
    "    print (\"Type of args: \", type(args))\n",
    "    if len(args)>2:\n",
    "        args = args[0], args[1]     #- Created Same name variable.\n",
    "    print (\"Temp args:\", args)"
   ]
  },
  {
   "cell_type": "code",
   "execution_count": null,
   "metadata": {},
   "outputs": [],
   "source": [
    "foo('hello', ('a', 'b', 'c'))"
   ]
  },
  {
   "cell_type": "code",
   "execution_count": null,
   "metadata": {},
   "outputs": [],
   "source": [
    "t = ('a', 'b', 'c')"
   ]
  },
  {
   "cell_type": "code",
   "execution_count": null,
   "metadata": {},
   "outputs": [],
   "source": [
    "t[0]"
   ]
  },
  {
   "cell_type": "code",
   "execution_count": null,
   "metadata": {},
   "outputs": [],
   "source": [
    "t2 = t[0], t[1]"
   ]
  },
  {
   "cell_type": "code",
   "execution_count": null,
   "metadata": {},
   "outputs": [],
   "source": [
    "t2"
   ]
  },
  {
   "cell_type": "code",
   "execution_count": null,
   "metadata": {},
   "outputs": [],
   "source": [
    "a = ['a']\n",
    "a = a + ['b', 'c']"
   ]
  },
  {
   "cell_type": "code",
   "execution_count": null,
   "metadata": {},
   "outputs": [],
   "source": [
    "a"
   ]
  },
  {
   "cell_type": "code",
   "execution_count": null,
   "metadata": {},
   "outputs": [],
   "source": [
    "test_dat = pd.DataFrame(np.zeros((10, 5)), columns = ['v_0', 'v_1', 'a', 'b', 'c'])"
   ]
  },
  {
   "cell_type": "code",
   "execution_count": null,
   "metadata": {},
   "outputs": [],
   "source": [
    "test_dat"
   ]
  },
  {
   "cell_type": "code",
   "execution_count": null,
   "metadata": {},
   "outputs": [],
   "source": [
    "np.array(test_dat.loc[1, ['v_0', 'v_1']])"
   ]
  },
  {
   "cell_type": "code",
   "execution_count": null,
   "metadata": {},
   "outputs": [],
   "source": [
    "my_keys = []\n",
    "for key in test_dat.keys():\n",
    "    if key[0] == 'v':\n",
    "        my_keys.append(key)\n",
    "np.array(test_dat.loc[1, ['v_0', 'v_1']])"
   ]
  },
  {
   "cell_type": "code",
   "execution_count": null,
   "metadata": {},
   "outputs": [],
   "source": [
    "my_target_folder = '/media/data_cifs/afengler/tmp/'"
   ]
  },
  {
   "cell_type": "code",
   "execution_count": null,
   "metadata": {},
   "outputs": [],
   "source": [
    "import make_data_lba as mdlba"
   ]
  },
  {
   "cell_type": "code",
   "execution_count": null,
   "metadata": {},
   "outputs": [],
   "source": [
    "my_dat = mdlba.make_data_rt_choice(target_folder = my_target_folder)"
   ]
  },
  {
   "cell_type": "code",
   "execution_count": null,
   "metadata": {},
   "outputs": [],
   "source": [
    "a = [1,2,3,4,5]"
   ]
  },
  {
   "cell_type": "code",
   "execution_count": null,
   "metadata": {},
   "outputs": [],
   "source": [
    "a[:-2]"
   ]
  },
  {
   "cell_type": "code",
   "execution_count": null,
   "metadata": {},
   "outputs": [],
   "source": [
    "np.isclose(0, 1e-15)"
   ]
  },
  {
   "cell_type": "code",
   "execution_count": null,
   "metadata": {},
   "outputs": [],
   "source": [
    "1.0 - 1e-29 == 1.0"
   ]
  },
  {
   "cell_type": "code",
   "execution_count": null,
   "metadata": {},
   "outputs": [],
   "source": [
    "np.max(my_dat['log_likelihood'])"
   ]
  },
  {
   "cell_type": "code",
   "execution_count": null,
   "metadata": {},
   "outputs": [],
   "source": [
    "data = np.concatenate([out[0], out[1]], axis = 1)"
   ]
  },
  {
   "cell_type": "code",
   "execution_count": null,
   "metadata": {},
   "outputs": [],
   "source": [
    "data[data[:,0] < 3, 0]"
   ]
  },
  {
   "cell_type": "code",
   "execution_count": null,
   "metadata": {},
   "outputs": [],
   "source": [
    "np.log(1e-100)"
   ]
  },
  {
   "cell_type": "code",
   "execution_count": null,
   "metadata": {},
   "outputs": [],
   "source": [
    "t = np.random.uniform(size = (1000, 10))"
   ]
  },
  {
   "cell_type": "code",
   "execution_count": null,
   "metadata": {},
   "outputs": [],
   "source": [
    "t[:,2] = t[:, 1] + np.random.uniform(size = 1000) / t[:, 3]"
   ]
  },
  {
   "cell_type": "code",
   "execution_count": null,
   "metadata": {},
   "outputs": [],
   "source": [
    "(np.random.uniform(size = (1000)) / t[:, 3]).shape"
   ]
  },
  {
   "cell_type": "code",
   "execution_count": null,
   "metadata": {},
   "outputs": [],
   "source": [
    "t[:, 2]"
   ]
  },
  {
   "cell_type": "code",
   "execution_count": 4,
   "metadata": {},
   "outputs": [
    {
     "data": {
      "text/plain": [
       "(array([[ 0.5749974 ],\n",
       "        [ 0.43499923],\n",
       "        [18.614454  ],\n",
       "        ...,\n",
       "        [ 0.451999  ],\n",
       "        [ 3.470938  ],\n",
       "        [ 0.5669975 ]], dtype=float32), array([[0],\n",
       "        [2],\n",
       "        [1],\n",
       "        ...,\n",
       "        [0],\n",
       "        [1],\n",
       "        [2]], dtype=int32), {'v_0': 0.0,\n",
       "  'v_1': 0.0,\n",
       "  'v_2': 0.0,\n",
       "  'a': 1.0,\n",
       "  'w_0': 0.0,\n",
       "  'w_1': 0.0,\n",
       "  'w_2': 0.0,\n",
       "  'ndt_0': 0.1,\n",
       "  'ndt_1': 0.1,\n",
       "  'ndt_2': 0.1,\n",
       "  's': array([1., 1., 1.], dtype=float32),\n",
       "  'delta_t': 0.0010000000474974513,\n",
       "  'max_t': 20.0,\n",
       "  'n_samples': 2000,\n",
       "  'simulator': 'race_model',\n",
       "  'boundary_fun_type': 'constant',\n",
       "  'possible_choices': [0, 1, 2]})"
      ]
     },
     "execution_count": 4,
     "metadata": {},
     "output_type": "execute_result"
    }
   ],
   "source": [
    "###\n",
    "cds.race_model(boundary_fun = bf.constant)"
   ]
  },
  {
   "cell_type": "code",
   "execution_count": 8,
   "metadata": {},
   "outputs": [
    {
     "data": {
      "text/plain": [
       "array([[ 2.40933536e+11,  4.57846247e-41,  2.40933536e+11,\n",
       "         4.57846247e-41,  1.50166318e-33,  3.09126441e-41,\n",
       "         1.50166318e-33,  3.09126441e-41,  1.40129846e-45,\n",
       "         0.00000000e+00],\n",
       "       [ 1.50170505e-33,  3.09126441e-41,  3.92363570e-44,\n",
       "         4.74212536e+16,  1.03772733e+10,  4.57846247e-41,\n",
       "         1.40129846e-45,  5.96514610e-07,  6.40983155e-10,\n",
       "         6.23532337e-10],\n",
       "       [ 1.40129846e-45,  0.00000000e+00,  3.50324616e-44,\n",
       "         1.46054880e-19,  1.50166905e-33,  3.09126441e-41,\n",
       "         3.04611328e+11,  4.57846247e-41,  1.40129846e-45,\n",
       "         1.02544151e-08],\n",
       "       [ 1.40129846e-45,  0.00000000e+00,  1.40129846e-45,\n",
       "         0.00000000e+00,  1.50168742e-33,  3.09126441e-41,\n",
       "         2.80259693e-45,  0.00000000e+00,  1.50168007e-33,\n",
       "         3.09126441e-41],\n",
       "       [ 1.50168375e-33,  3.09126441e-41,  2.38220739e-44,\n",
       "         3.09126441e-41,  2.27166579e-36,  3.09126441e-41,\n",
       "         2.38220739e-44,  1.30285140e-11,  2.27166579e-36,\n",
       "         3.09126441e-41],\n",
       "       [ 1.40129846e-45,  1.40129846e-44,  2.38220739e-44,\n",
       "         6.23532337e-10,  2.27114922e-36,  3.09126441e-41,\n",
       "         2.38220739e-44,  1.45849106e-19,  2.27114922e-36,\n",
       "         3.09126441e-41],\n",
       "       [ 1.40129846e-45,  2.10194770e-44,  3.36311631e-44,\n",
       "         1.64077917e-07, -5.95454014e+12,  4.57832234e-41,\n",
       "         1.40129846e-45,  1.70350316e+28,  1.50167934e-33,\n",
       "         3.09126441e-41],\n",
       "       [ 1.40129846e-45,  1.40129846e-44,  1.40129846e-45,\n",
       "         0.00000000e+00,  1.50169991e-33,  3.09126441e-41,\n",
       "         3.92363570e-44,  2.70026385e-06,  1.03772733e+10,\n",
       "         4.57846247e-41],\n",
       "       [ 1.40129846e-45,  1.23891096e+28,  1.46054880e-19,\n",
       "         6.33692210e-10,  1.40129846e-45,  3.92363570e-44,\n",
       "         3.50324616e-44,  1.35631564e-19,  1.50169256e-33,\n",
       "         3.09126441e-41],\n",
       "       [ 3.93213120e+07,  4.57846247e-41,  1.40129846e-45,\n",
       "         5.20015877e+22,  1.40129846e-45,  3.92363570e-44,\n",
       "         1.54199736e+10,  4.57846247e-41,  1.50169624e-33,\n",
       "         3.09126441e-41],\n",
       "       [ 2.24207754e-44,  4.57846247e-41,  1.50167273e-33,\n",
       "         3.09126441e-41,  1.50167640e-33,  3.09126441e-41,\n",
       "         1.50169109e-33,  3.09126441e-41,  1.40129846e-45,\n",
       "         0.00000000e+00],\n",
       "       [ 3.08285662e-44,  6.40968945e-10,  1.50170138e-33,\n",
       "         3.09126441e-41,  1.50167640e-33,  3.09126441e-41,\n",
       "         1.50167787e-33,  3.09126441e-41,  1.40129846e-45,\n",
       "         0.00000000e+00],\n",
       "       [ 3.08285662e-44,  6.40969056e-10,  1.40129846e-45,\n",
       "         0.00000000e+00,  2.80259693e-45,  4.50713181e+16,\n",
       "         1.50166758e-33,  3.09126441e-41,  2.50378429e-12,\n",
       "         4.00462996e-11],\n",
       "       [ 6.40969056e-10,  6.40900943e-10,  1.40129846e-45,\n",
       "         0.00000000e+00,  1.40129846e-45,  1.35671476e-19,\n",
       "         1.50166758e-33,  3.09126441e-41,  1.45849106e-19,\n",
       "         1.35631564e-19],\n",
       "       [ 1.35631564e-19,  3.38759186e-12,  1.35890420e-19,\n",
       "         1.35631564e-19,  5.82533133e-10,  6.40968945e-10,\n",
       "         6.23532337e-10,  1.35671476e-19,  6.40940634e-10,\n",
       "         8.14240168e-13],\n",
       "       [ 1.45849106e-19,  6.33692210e-10,  5.20015877e+22,\n",
       "         2.50378429e-12,  4.00462996e-11,  6.40969056e-10,\n",
       "         6.40900943e-10,  5.82533799e-10,  6.40968945e-10,\n",
       "         6.23532337e-10],\n",
       "       [ 1.94064627e+17,  1.35632572e-19,  1.35631564e-19,\n",
       "         4.11833727e-11,  1.67835239e-07,  1.05009867e-05,\n",
       "         5.82533799e-10,  6.40968945e-10,  6.23532337e-10,\n",
       "         1.35671476e-19],\n",
       "       [ 6.40940634e-10,  8.14240168e-13,  1.45849106e-19,\n",
       "         6.33692210e-10,  5.20015877e+22,  2.50378429e-12,\n",
       "         4.09557943e-11,  6.55606680e-10,  4.10176604e-08,\n",
       "         2.01898813e-19],\n",
       "       [ 1.35631564e-19,  9.10208020e-12,  1.04878870e-08,\n",
       "         8.14240439e-13,  1.45852415e-19,  1.35631564e-19,\n",
       "         1.35631564e-19,  3.38759186e-12,  4.00462996e-11,\n",
       "         6.40969056e-10],\n",
       "       [ 6.40900943e-10,  4.03089615e-08,  6.70158040e-10,\n",
       "         6.23532337e-10,  1.35671515e-19,  1.67806206e-07,\n",
       "         1.30278427e-11,  3.14355139e-12,  1.35890420e-19,\n",
       "         1.35631564e-19],\n",
       "       [ 1.52927358e-04,  6.82545647e-07,  6.23532337e-10,\n",
       "         1.35671489e-19,  6.40940634e-10,  8.14240168e-13,\n",
       "         1.45849106e-19,  1.35631564e-19,  1.35631564e-19,\n",
       "         3.38759186e-12],\n",
       "       [ 1.35631564e-19,  1.35631564e-19,  1.74418150e+28,\n",
       "         1.35631719e-19,  1.35631564e-19,  2.74539996e+20,\n",
       "         1.70351036e+28,  1.35631564e-19,  1.35631564e-19,\n",
       "         1.35631564e-19],\n",
       "       [ 1.35631564e-19,  3.38759186e-12,  4.00462996e-11,\n",
       "         6.40969056e-10,  6.40900943e-10,  5.82533799e-10,\n",
       "         6.40968945e-10,  6.23532337e-10,  1.35671476e-19,\n",
       "         6.40940634e-10],\n",
       "       [ 8.14240168e-13,  1.45849106e-19,  6.33692210e-10,\n",
       "         5.20015877e+22,  7.93480914e+17,  2.01898813e-19,\n",
       "         1.35631564e-19,  1.85606508e-19,  1.35631564e-19,\n",
       "         1.23891096e+28],\n",
       "       [ 1.46054880e-19,  1.35631564e-19,  1.35631564e-19,\n",
       "         3.38759186e-12,  1.35631564e-19,  1.35631564e-19,\n",
       "         1.74418150e+28,  1.35631719e-19,  1.35631564e-19,\n",
       "         2.74539996e+20],\n",
       "       [ 1.35672277e-19,  2.60741873e-09,  1.30285166e-11,\n",
       "         1.93875511e+17,  1.35632572e-19,  1.35631564e-19,\n",
       "         4.02736733e-11,  6.70129841e-10,  6.40900943e-10,\n",
       "         1.35631719e-19],\n",
       "       [ 1.35631564e-19,  2.74539996e+20,  1.35672277e-19,\n",
       "         6.40940634e-10,  8.14240168e-13,  1.45849106e-19,\n",
       "         1.66137237e-04,  5.34773543e+22,  2.61747156e-12,\n",
       "         4.00462996e-11],\n",
       "       [ 6.40969056e-10,  6.40900943e-10,  1.70350835e+28,\n",
       "         1.35631564e-19,  4.50713181e+16,  1.35631564e-19,\n",
       "         1.35631564e-19,  3.38759186e-12,  4.00462996e-11,\n",
       "         6.40969056e-10],\n",
       "       [ 6.40900943e-10,  1.49128653e-07,  2.69495670e-09,\n",
       "         6.30808572e-10,  1.35671553e-19,  6.40940634e-10,\n",
       "         8.14240168e-13,  1.45849106e-19,  6.33692210e-10,\n",
       "         5.20015877e+22],\n",
       "       [ 2.50378429e-12,  1.35890420e-19,  1.35631564e-19,\n",
       "         5.82533133e-10,  6.40968945e-10,  6.23532337e-10,\n",
       "         1.35671476e-19,  1.05607796e-05,  1.30285106e-11,\n",
       "         1.45872267e-19],\n",
       "       [ 6.33692210e-10,  5.20015877e+22,  2.50378429e-12,\n",
       "         4.00462996e-11,  6.40969056e-10,  6.40900943e-10,\n",
       "         5.82533799e-10,  6.40968945e-10,  6.23532337e-10,\n",
       "         1.94064627e+17],\n",
       "       [ 1.35632572e-19,  1.35631564e-19,  4.09559990e-11,\n",
       "         6.55606680e-10,  4.10176604e-08,  1.03190941e-05,\n",
       "         6.63860988e-07,  6.23532337e-10,  1.35671489e-19,\n",
       "         1.35631564e-19],\n",
       "       [ 1.23891096e+28,  1.46054880e-19,  6.33692210e-10,\n",
       "         5.20015877e+22,  2.50378429e-12,  4.09673406e-11,\n",
       "         6.48344489e-10,  4.10176604e-08,  2.01898813e-19,\n",
       "         1.35631564e-19],\n",
       "       [ 1.35631564e-19,  1.67806206e-07,  1.30278427e-11,\n",
       "         1.45865650e-19,  4.15380346e-05,  5.20073838e+22,\n",
       "         2.51799514e-12,  4.00462996e-11,  6.40969056e-10,\n",
       "         6.40900943e-10],\n",
       "       [ 5.82533799e-10,  6.40968945e-10,  6.23532337e-10,\n",
       "         1.35671476e-19,  6.40940634e-10,  8.14240168e-13,\n",
       "         3.14327384e-12,  1.35890420e-19,  1.35631564e-19,\n",
       "         5.83371573e-10],\n",
       "       [ 6.40968945e-10,  6.23532337e-10,  1.35671476e-19,\n",
       "         6.40940634e-10,  8.14240168e-13,  1.45849106e-19,\n",
       "         1.66137237e-04,  5.34773543e+22,  2.61747156e-12,\n",
       "         4.00462996e-11],\n",
       "       [ 6.40969056e-10,  6.40900943e-10,  5.82533799e-10,\n",
       "         6.40968945e-10,  6.23532337e-10,  1.70350304e+28,\n",
       "         1.35631564e-19,  1.35631564e-19,  6.33692210e-10,\n",
       "         5.20015877e+22],\n",
       "       [ 2.50378429e-12,  4.11831680e-11,  6.56440136e-07,\n",
       "         4.20039469e-05,  5.82533799e-10,  6.40968945e-10,\n",
       "         6.23532337e-10,  1.35671476e-19,  6.40940634e-10,\n",
       "         8.14240168e-13],\n",
       "       [ 1.45849106e-19,  6.33692210e-10,  5.20015877e+22,\n",
       "         7.93480914e+17,  2.01898813e-19,  1.35631564e-19,\n",
       "         1.85606508e-19,  2.60741873e-09,  1.30285166e-11,\n",
       "         1.45855723e-19],\n",
       "       [ 1.01393027e-08,  5.20108291e+22,  2.50378429e-12,\n",
       "         1.35631564e-19,  1.35631564e-19,  1.74418150e+28,\n",
       "         5.82533799e-10,  6.40968945e-10,  6.23532337e-10,\n",
       "         1.35671476e-19],\n",
       "       [ 2.75940442e-06,  1.30289529e-11,  1.93901899e+17,\n",
       "         1.35632572e-19,  1.35631564e-19,  4.00462996e-11,\n",
       "         6.40969056e-10,  6.40900943e-10,  1.35631719e-19,\n",
       "         1.35631564e-19],\n",
       "       [ 2.74539996e+20,  1.35672277e-19,  6.40940634e-10,\n",
       "         8.14240168e-13,  1.45849106e-19,  6.49017238e-07,\n",
       "         5.23002304e+22,  2.58904985e-12,  4.00462996e-11,\n",
       "         6.40969056e-10],\n",
       "       [ 6.40900943e-10,  1.70350835e+28,  1.35631564e-19,\n",
       "         4.50713181e+16,  6.33692210e-10,  5.20015877e+22,\n",
       "         2.50378429e-12,  4.00462996e-11,  6.40969056e-10,\n",
       "         6.40900943e-10],\n",
       "       [ 2.33013520e-09,  4.39204086e-05,  6.30808350e-10,\n",
       "         1.35671566e-19,  6.40940634e-10,  8.14240168e-13,\n",
       "         1.45849106e-19,  6.33692210e-10,  5.20015877e+22,\n",
       "         2.50378429e-12],\n",
       "       [ 1.35890420e-19,  1.35631564e-19,  5.82533133e-10,\n",
       "         6.40968945e-10,  6.23532337e-10,  1.35671476e-19,\n",
       "         2.74450304e-06,  8.14240385e-13,  1.45859032e-19,\n",
       "         1.62250856e-07],\n",
       "       [ 5.20073613e+22,  2.51799514e-12,  1.35631564e-19,\n",
       "         1.35631564e-19,  1.74418150e+28,  5.82533799e-10,\n",
       "         6.40968945e-10,  6.23532337e-10,  1.94064627e+17,\n",
       "         1.35632572e-19],\n",
       "       [ 1.35631564e-19,  4.09675453e-11,  6.41082742e-10,\n",
       "         4.10176604e-08,  3.81769350e-05,  6.55577703e-10,\n",
       "         6.30808294e-10,  1.35671540e-19,  1.09780167e-05,\n",
       "         8.14240439e-13],\n",
       "       [ 1.45852415e-19,  6.33692210e-10,  5.20015877e+22,\n",
       "         2.50378429e-12,  4.00462996e-11,  6.40969056e-10,\n",
       "         6.40900943e-10,  2.01898813e-19,  1.35631564e-19,\n",
       "         1.35631564e-19],\n",
       "       [ 6.40940634e-10,  8.14240168e-13,  1.45849106e-19,\n",
       "         6.33692210e-10,  5.20015877e+22,  2.50378429e-12,\n",
       "         4.00462996e-11,  6.40969056e-10,  6.40900943e-10,\n",
       "         5.96514610e-07],\n",
       "       [ 6.62924715e-10,  6.30808572e-10,  1.35671579e-19,\n",
       "         6.40940634e-10,  8.14240168e-13,  3.14327384e-12,\n",
       "         1.35890420e-19,  1.35631564e-19,  5.83371573e-10,\n",
       "         6.40968945e-10],\n",
       "       [ 6.23532337e-10,  1.35671476e-19,  6.40940634e-10,\n",
       "         8.14240168e-13,  1.45849106e-19,  1.66137237e-04,\n",
       "         5.34773543e+22,  2.61747156e-12,  4.00462996e-11,\n",
       "         6.40969056e-10],\n",
       "       [ 6.40900943e-10,  5.82533799e-10,  6.40968945e-10,\n",
       "         6.23532337e-10,  1.70350304e+28,  1.35631564e-19,\n",
       "         1.35631564e-19,  6.33692210e-10,  5.20015877e+22,\n",
       "         2.50378429e-12],\n",
       "       [ 4.00462996e-11,  6.40969056e-10,  6.40900943e-10,\n",
       "         5.82533799e-10,  6.40968945e-10,  6.23532337e-10,\n",
       "         1.35671476e-19,  6.40940634e-10,  8.14240168e-13,\n",
       "         1.45849106e-19],\n",
       "       [ 6.33692210e-10,  5.20015877e+22,  7.93480914e+17,\n",
       "         2.01898813e-19,  1.35631564e-19,  1.85606508e-19,\n",
       "         2.75940442e-06,  1.30289529e-11,  1.45875576e-19,\n",
       "         6.33692210e-10],\n",
       "       [ 5.20015877e+22,  2.50378429e-12,  4.00462996e-11,\n",
       "         6.40969056e-10,  6.40900943e-10,  5.82533799e-10,\n",
       "         6.40968945e-10,  6.23532337e-10,  1.35671476e-19,\n",
       "         4.24815262e-05],\n",
       "       [ 1.30289590e-11,  1.93888705e+17,  1.35632572e-19,\n",
       "         1.35631564e-19,  4.00462996e-11,  6.40969056e-10,\n",
       "         6.40900943e-10,  5.82533799e-10,  6.40968945e-10,\n",
       "         6.23532337e-10],\n",
       "       [ 1.35671476e-19,  6.40940634e-10,  8.14240168e-13,\n",
       "         1.45849106e-19,  4.05608489e-08,  5.31868180e+22,\n",
       "         2.60326071e-12,  4.00462996e-11,  6.40969056e-10,\n",
       "         6.40900943e-10],\n",
       "       [ 1.70350835e+28,  1.35631564e-19,  4.50713181e+16,\n",
       "         6.33692210e-10,  5.20015877e+22,  2.50378429e-12,\n",
       "         4.00462996e-11,  6.40969056e-10,  6.40900943e-10,\n",
       "         1.49128653e-07],\n",
       "       [ 1.69705089e-07,  6.23532337e-10,  9.10476122e-12,\n",
       "         1.04878870e-08,  8.14240439e-13,  1.45852415e-19,\n",
       "         1.35631564e-19,  1.35631564e-19,  3.38759186e-12,\n",
       "         1.35890420e-19],\n",
       "       [ 1.35631564e-19,  5.82533133e-10,  6.40968945e-10,\n",
       "         6.23532337e-10,  9.10475861e-12,  6.63774017e-07,\n",
       "         8.14240494e-13,  1.45859032e-19,  1.62254310e-07,\n",
       "         5.20016057e+22],\n",
       "       [ 2.57483900e-12,  4.20926627e-11,  6.59258870e-10,\n",
       "         2.56360377e-09,  5.82533799e-10,  6.40968945e-10,\n",
       "         6.23532337e-10,  1.94064627e+17,  1.35632572e-19,\n",
       "         1.35631564e-19],\n",
       "       [ 4.00465043e-11,  6.40969056e-10,  6.40900943e-10,\n",
       "         5.82533799e-10,  6.40968945e-10,  6.23532337e-10,\n",
       "         1.35671476e-19,  6.40940634e-10,  8.14240168e-13,\n",
       "         1.45849106e-19],\n",
       "       [ 6.33692210e-10,  5.20015877e+22,  2.50378429e-12,\n",
       "         4.05010470e-11,  1.04901572e-08,  1.05009867e-05,\n",
       "         2.01898813e-19,  1.35631564e-19,  1.35631564e-19,\n",
       "         6.40940634e-10],\n",
       "       [ 8.14240168e-13,  1.45849106e-19,  6.33692210e-10,\n",
       "         5.20015877e+22,  2.50378429e-12,  4.00462996e-11,\n",
       "         6.40969056e-10,  6.40900943e-10,  5.96514610e-07,\n",
       "         6.62924715e-10],\n",
       "       [ 6.30808572e-10,  1.35671579e-19,  6.40940634e-10,\n",
       "         8.14240168e-13,  3.14327384e-12,  1.35890420e-19,\n",
       "         1.35631564e-19,  5.83371573e-10,  6.40968945e-10,\n",
       "         6.23532337e-10],\n",
       "       [ 1.35671476e-19,  6.40940634e-10,  8.14240168e-13,\n",
       "         1.45849106e-19,  1.66137237e-04,  5.34773543e+22,\n",
       "         2.60326071e-12,  4.00462996e-11,  6.40969056e-10,\n",
       "         6.40900943e-10],\n",
       "       [ 5.82533799e-10,  6.40968945e-10,  6.23532337e-10,\n",
       "         1.70350304e+28,  1.35631564e-19,  1.35631564e-19,\n",
       "         6.33692210e-10,  5.20015877e+22,  2.50378429e-12,\n",
       "         4.11831680e-11],\n",
       "       [ 6.56440136e-07,  4.20039469e-05,  5.82533799e-10,\n",
       "         6.40968945e-10,  6.23532337e-10,  1.35671476e-19,\n",
       "         1.35631564e-19,  1.23891096e+28,  1.46054880e-19,\n",
       "         6.33692210e-10],\n",
       "       [ 5.20015877e+22,  7.93480914e+17,  2.01898813e-19,\n",
       "         1.35631564e-19,  1.85606508e-19,  2.66562616e-09,\n",
       "         1.30291802e-11,  1.45865650e-19,  6.33692210e-10,\n",
       "         5.20015877e+22],\n",
       "       [ 2.50378429e-12,  4.00462996e-11,  6.40969056e-10,\n",
       "         6.40900943e-10,  5.82533799e-10,  6.40968945e-10,\n",
       "         6.23532337e-10,  1.35671476e-19,  2.66999746e-06,\n",
       "         1.30287343e-11],\n",
       "       [ 1.93897501e+17,  1.35632572e-19,  1.35631564e-19,\n",
       "         4.00462996e-11,  6.40969056e-10,  6.40900943e-10,\n",
       "         5.82533799e-10,  6.40968945e-10,  6.23532337e-10,\n",
       "         1.35671476e-19],\n",
       "       [ 6.40940634e-10,  8.14240168e-13,  1.45849106e-19,\n",
       "         4.15333780e-05,  5.20085458e+22,  2.54641685e-12,\n",
       "         4.16494617e-11,  6.59187593e-10,  2.56360377e-09,\n",
       "         1.70350835e+28],\n",
       "       [ 1.35631564e-19,  4.50713181e+16,  1.35631564e-19,\n",
       "         1.35631564e-19,  3.38759186e-12,  4.00462996e-11,\n",
       "         6.40969056e-10,  6.40900943e-10,  1.61235846e-07,\n",
       "         4.34398462e-05],\n",
       "       [ 6.23532337e-10,  1.35671515e-19,  1.67806206e-07,\n",
       "         1.30278427e-11,  1.45865650e-19,  4.15380346e-05,\n",
       "         5.20073838e+22,  2.51799514e-12,  1.35890420e-19,\n",
       "         1.35631564e-19],\n",
       "       [ 5.82533133e-10,  6.40968945e-10,  6.23532337e-10,\n",
       "         1.35671476e-19,  2.72960187e-06,  1.30287378e-11,\n",
       "         1.45872267e-19,  6.33692210e-10,  5.20015877e+22,\n",
       "         2.50378429e-12],\n",
       "       [ 4.00462996e-11,  6.40969056e-10,  6.40900943e-10,\n",
       "         5.82533799e-10,  6.40968945e-10,  6.23532337e-10,\n",
       "         1.94064627e+17,  1.35632572e-19,  1.35631564e-19,\n",
       "         4.05012517e-11],\n",
       "       [ 1.04901572e-08,  1.05009867e-05,  5.82533799e-10,\n",
       "         6.40968945e-10,  6.23532337e-10,  1.35671476e-19,\n",
       "         6.40940634e-10,  8.14240168e-13,  1.45849106e-19,\n",
       "         6.33692210e-10],\n",
       "       [ 5.20015877e+22,  2.50378429e-12,  4.11831680e-11,\n",
       "         6.56440136e-07,  4.20039469e-05,  2.01898813e-19,\n",
       "         1.35631564e-19,  1.35631564e-19,  6.40940634e-10,\n",
       "         8.14240168e-13],\n",
       "       [ 1.45849106e-19,  6.33692210e-10,  5.20015877e+22,\n",
       "         2.50378429e-12,  4.00462996e-11,  6.40969056e-10,\n",
       "         6.40900943e-10,  5.82533799e-10,  6.40968945e-10,\n",
       "         6.23532337e-10],\n",
       "       [ 1.35671476e-19,  6.40940634e-10,  8.14240168e-13,\n",
       "         3.14327384e-12,  1.35890420e-19,  1.35631564e-19,\n",
       "         5.83371573e-10,  6.40968945e-10,  6.23532337e-10,\n",
       "         1.35671476e-19],\n",
       "       [ 6.40940634e-10,  8.14240168e-13,  1.45849106e-19,\n",
       "         1.66137237e-04,  5.34773543e+22,  2.61747156e-12,\n",
       "         4.00462996e-11,  6.40969056e-10,  6.40900943e-10,\n",
       "         1.35631719e-19],\n",
       "       [ 1.35631564e-19,  2.74539996e+20,  1.70351036e+28,\n",
       "         1.35631564e-19,  1.35631564e-19,  6.33692210e-10,\n",
       "         5.20015877e+22,  2.50378429e-12,  4.05010470e-11,\n",
       "         4.32023699e-05],\n",
       "       [ 6.56311670e-07,  5.82533799e-10,  6.40968945e-10,\n",
       "         6.23532337e-10,  1.35671476e-19,  6.40940634e-10,\n",
       "         8.14240168e-13,  1.45849106e-19,  6.33692210e-10,\n",
       "         5.20015877e+22],\n",
       "       [ 7.93480914e+17,  2.01898813e-19,  1.35631564e-19,\n",
       "         1.85606508e-19,  2.66999746e-06,  1.30287343e-11,\n",
       "         1.45872267e-19,  6.33692210e-10,  5.20015877e+22,\n",
       "         2.50378429e-12],\n",
       "       [ 4.00462996e-11,  6.40969056e-10,  6.40900943e-10,\n",
       "         5.82533799e-10,  6.40968945e-10,  6.23532337e-10,\n",
       "         1.35671476e-19,  1.75648194e-04,  8.14240494e-13,\n",
       "         1.93879909e+17],\n",
       "       [ 1.35632572e-19,  1.35631564e-19,  4.16494617e-11,\n",
       "         6.59187593e-10,  2.56360377e-09,  1.35631719e-19,\n",
       "         1.35631564e-19,  2.74539996e+20,  1.35672277e-19,\n",
       "         6.40940634e-10],\n",
       "       [ 8.14240168e-13,  1.45849106e-19,  2.59583908e-06,\n",
       "         5.20085278e+22,  2.54641685e-12,  4.18652890e-11,\n",
       "         6.41026121e-10,  6.56311670e-07,  1.70350835e+28,\n",
       "         1.35631564e-19],\n",
       "       [ 4.50713181e+16,  4.15380346e-05,  5.20073838e+22,\n",
       "         2.51799514e-12,  4.00462996e-11,  6.40969056e-10,\n",
       "         6.40900943e-10,  5.82533799e-10,  6.40968945e-10,\n",
       "         6.23532337e-10],\n",
       "       [ 1.35671476e-19,  6.40940634e-10,  8.14240168e-13,\n",
       "         1.45849106e-19,  6.33692210e-10,  5.20015877e+22,\n",
       "         2.50378429e-12,  1.35890420e-19,  1.35631564e-19,\n",
       "         5.82533133e-10],\n",
       "       [ 6.40968945e-10,  6.23532337e-10,  1.35671476e-19,\n",
       "         6.40940634e-10,  8.14240168e-13,  1.45849106e-19,\n",
       "         6.33692210e-10,  5.20015877e+22,  2.50378429e-12,\n",
       "         4.00462996e-11],\n",
       "       [ 6.40969056e-10,  6.40900943e-10,  5.82533799e-10,\n",
       "         6.40968945e-10,  6.23532337e-10,  1.94064627e+17,\n",
       "         1.35632572e-19,  1.35631564e-19,  4.00465043e-11,\n",
       "         6.40969056e-10],\n",
       "       [ 6.40900943e-10,  5.82533799e-10,  6.40968945e-10,\n",
       "         6.23532337e-10,  1.35671476e-19,  6.40940634e-10,\n",
       "         8.14240168e-13,  1.45849106e-19,  6.33692210e-10,\n",
       "         5.20015877e+22],\n",
       "       [ 2.50378429e-12,  4.11831680e-11,  6.56440136e-07,\n",
       "         4.20039469e-05,  2.01898813e-19,  1.35631564e-19,\n",
       "         1.35631564e-19,  6.40940634e-10,  8.14240168e-13,\n",
       "         1.45849106e-19],\n",
       "       [ 6.33692210e-10,  5.20015877e+22,  2.50378429e-12,\n",
       "         4.00462996e-11,  6.40969056e-10,  6.40900943e-10,\n",
       "         1.00772404e-08,  2.70026385e-06,  6.30808406e-10,\n",
       "         9.10475948e-12],\n",
       "       [ 1.04878870e-08,  8.14240439e-13,  3.14332935e-12,\n",
       "         1.35890420e-19,  1.35631564e-19,  1.35826779e-19,\n",
       "         1.35631564e-19,  2.74539996e+20,  1.35672277e-19,\n",
       "         6.40940634e-10],\n",
       "       [ 8.14240168e-13,  1.45849106e-19,  6.33692210e-10,\n",
       "         5.20015877e+22,  2.50378429e-12,  4.00462996e-11,\n",
       "         6.40969056e-10,  6.40900943e-10,  5.82533799e-10,\n",
       "         6.40968945e-10],\n",
       "       [ 6.23532337e-10,  1.70350304e+28,  1.35631564e-19,\n",
       "         1.35631564e-19,  6.33692210e-10,  5.20015877e+22,\n",
       "         2.50378429e-12,  4.14105417e-11,  6.78777099e-07,\n",
       "         1.05009867e-05],\n",
       "       [ 5.82533799e-10,  6.40968945e-10,  6.23532337e-10,\n",
       "         1.35671476e-19,  6.40940634e-10,  8.14240168e-13,\n",
       "         1.45849106e-19,  6.33692210e-10,  5.20015877e+22,\n",
       "         7.93480914e+17],\n",
       "       [ 2.01898813e-19,  1.35631564e-19,  1.85606508e-19,\n",
       "         1.02550546e-08,  8.14240168e-13,  1.45859032e-19,\n",
       "         1.62250856e-07,  5.20073613e+22,  2.51799514e-12,\n",
       "         1.35631564e-19],\n",
       "       [ 1.35631564e-19,  1.74418150e+28,  5.82533799e-10,\n",
       "         6.40968945e-10,  6.23532337e-10,  9.10475861e-12,\n",
       "         4.34352114e-05,  8.14240602e-13,  1.93879909e+17,\n",
       "         1.35632572e-19]], dtype=float32)"
      ]
     },
     "execution_count": 8,
     "metadata": {},
     "output_type": "execute_result"
    }
   ],
   "source": [
    "np.empty((100 ,10), dtype = np.float32)"
   ]
  },
  {
   "cell_type": "code",
   "execution_count": 16,
   "metadata": {},
   "outputs": [],
   "source": [
    "x = np.random.uniform(size = (20, 10))"
   ]
  },
  {
   "cell_type": "code",
   "execution_count": 14,
   "metadata": {},
   "outputs": [],
   "source": [
    "x[(x < 0.2)] = 1000"
   ]
  },
  {
   "cell_type": "code",
   "execution_count": 18,
   "metadata": {},
   "outputs": [
    {
     "data": {
      "text/plain": [
       "(10, 20)"
      ]
     },
     "execution_count": 18,
     "metadata": {},
     "output_type": "execute_result"
    }
   ],
   "source": [
    "x.T.shape"
   ]
  },
  {
   "cell_type": "code",
   "execution_count": 22,
   "metadata": {},
   "outputs": [],
   "source": [
    "t = tuple()"
   ]
  },
  {
   "cell_type": "code",
   "execution_count": 30,
   "metadata": {},
   "outputs": [],
   "source": [
    "t = t + (1,)"
   ]
  },
  {
   "cell_type": "code",
   "execution_count": 32,
   "metadata": {},
   "outputs": [
    {
     "ename": "IndexError",
     "evalue": "tuple index out of range",
     "output_type": "error",
     "traceback": [
      "\u001b[0;31m---------------------------------------------------------------------------\u001b[0m",
      "\u001b[0;31mIndexError\u001b[0m                                Traceback (most recent call last)",
      "\u001b[0;32m<ipython-input-32-ffcf538a4606>\u001b[0m in \u001b[0;36m<module>\u001b[0;34m\u001b[0m\n\u001b[0;32m----> 1\u001b[0;31m \u001b[0mt\u001b[0m\u001b[0;34m[\u001b[0m\u001b[0;36m1\u001b[0m\u001b[0;34m]\u001b[0m\u001b[0;34m\u001b[0m\u001b[0;34m\u001b[0m\u001b[0m\n\u001b[0m",
      "\u001b[0;31mIndexError\u001b[0m: tuple index out of range"
     ]
    }
   ],
   "source": [
    "t[1]"
   ]
  },
  {
   "cell_type": "code",
   "execution_count": 33,
   "metadata": {},
   "outputs": [
    {
     "data": {
      "text/plain": [
       "0.8174467801667573"
      ]
     },
     "execution_count": 33,
     "metadata": {},
     "output_type": "execute_result"
    }
   ],
   "source": [
    "np.random.uniform()"
   ]
  },
  {
   "cell_type": "code",
   "execution_count": null,
   "metadata": {},
   "outputs": [],
   "source": []
  }
 ],
 "metadata": {
  "kernelspec": {
   "display_name": "Python 3",
   "language": "python",
   "name": "python3"
  },
  "language_info": {
   "codemirror_mode": {
    "name": "ipython",
    "version": 3
   },
   "file_extension": ".py",
   "mimetype": "text/x-python",
   "name": "python",
   "nbconvert_exporter": "python",
   "pygments_lexer": "ipython3",
   "version": "3.7.3"
  }
 },
 "nbformat": 4,
 "nbformat_minor": 2
}
