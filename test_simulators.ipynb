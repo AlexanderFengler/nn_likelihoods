{
 "cells": [
  {
   "cell_type": "code",
   "execution_count": 1,
   "metadata": {},
   "outputs": [],
   "source": [
    "# Environ\n",
    "import scipy as scp\n",
    "import tensorflow as tf\n",
    "from scipy.stats import gamma\n",
    "import numpy as np\n",
    "import pandas as pd\n",
    "import matplotlib.pyplot as plt\n",
    "from sklearn.neighbors import KernelDensity\n",
    "import random\n",
    "import multiprocessing as mp\n",
    "import psutil\n",
    "import pickle\n",
    "import os\n",
    "import re\n",
    "\n",
    "# Own\n",
    "import ddm_data_simulation as ds\n",
    "import cddm_data_simulation as cds\n",
    "import kde_training_utilities as kde_util\n",
    "import kde_class as kde\n",
    "import boundary_functions as bf"
   ]
  },
  {
   "cell_type": "code",
   "execution_count": 26,
   "metadata": {},
   "outputs": [
    {
     "name": "stdout",
     "output_type": "stream",
     "text": [
      "0\n"
     ]
    }
   ],
   "source": [
    "# DDM  \n",
    "repeats = 1\n",
    "my_means = np.zeros(repeats)\n",
    "for i in range(repeats):\n",
    "    out = cds.ddm_flexbound(v = 0, \n",
    "                            a = 0.96,\n",
    "                            w = 0.5,\n",
    "                            ndt = 0.5,\n",
    "                            delta_t = 0.01, \n",
    "                            max_t = 20,\n",
    "                            n_samples = 20000,\n",
    "                            boundary_fun = bf.angle,\n",
    "                            boundary_multiplicative = False, \n",
    "                            boundary_params = {\"theta\": 0.01})\n",
    "    print(i)\n",
    "    \n",
    "    my_means[i] = np.mean(out[0][out[1] == 1])"
   ]
  },
  {
   "cell_type": "code",
   "execution_count": 39,
   "metadata": {},
   "outputs": [],
   "source": [
    "def bin_simulator_output(out = [0, 0],\n",
    "                         bin_dt = 0.04,\n",
    "                         eps_correction = 1e-7):\n",
    "\n",
    "    # hardcode 'max_t' to 20sec for now\n",
    "    n_bins = int(20.0 / bin_dt + 1)\n",
    "    #n_bins = int(out[2]['max_t'] / bin_dt + 1)\n",
    "    bins = np.linspace(0, out[2]['max_t'], 257)\n",
    "    counts = []\n",
    "    counts.append(np.histogram(out[0][out[1] == 1], bins = bins)[0] / out[2]['n_samples'])\n",
    "    counts.append(np.histogram(out[0][out[1] == -1], bins = bins)[0] / out[2]['n_samples'])\n",
    "\n",
    "    n_small = 0\n",
    "    n_big = 0\n",
    "\n",
    "    for i in range(len(counts)):\n",
    "        n_small += sum(counts[i] < eps_correction)\n",
    "        n_big += sum(counts[i] >= eps_correction)\n",
    "\n",
    "    for i in range(len(counts)):\n",
    "        counts[i][counts[i] <= eps_correction] = eps_correction\n",
    "        counts[i][counts[i] > eps_correction] = counts[i][counts[i] > eps_correction] - (eps_correction * (n_small / n_big))    \n",
    "\n",
    "    for i in range(len(counts)):\n",
    "        counts[i] =  np.asmatrix(counts[i]).T\n",
    "\n",
    "    label = np.concatenate(counts, axis = 1)\n",
    "    features = [out[2]['v'], out[2]['a'], out[2]['w']] # out[2]['ndt']]\n",
    "    return (features, label)"
   ]
  },
  {
   "cell_type": "code",
   "execution_count": 40,
   "metadata": {},
   "outputs": [],
   "source": [
    "#%%timeit -n 1 -r 5\n",
    "a, b = bin_simulator_output(out = out)"
   ]
  },
  {
   "cell_type": "code",
   "execution_count": 41,
   "metadata": {},
   "outputs": [
    {
     "data": {
      "text/plain": [
       "(256, 2)"
      ]
     },
     "execution_count": 41,
     "metadata": {},
     "output_type": "execute_result"
    }
   ],
   "source": [
    "b.shape"
   ]
  },
  {
   "cell_type": "code",
   "execution_count": 5,
   "metadata": {},
   "outputs": [],
   "source": [
    "files_ = os.listdir('/media/data_cifs/afengler/data/kde/ddm/base_simulations_20000')"
   ]
  },
  {
   "cell_type": "code",
   "execution_count": 8,
   "metadata": {},
   "outputs": [
    {
     "name": "stdout",
     "output_type": "stream",
     "text": [
      "0\n",
      "100\n",
      "200\n",
      "300\n",
      "400\n",
      "500\n",
      "600\n",
      "700\n",
      "800\n",
      "900\n"
     ]
    }
   ],
   "source": [
    "labels = np.zeros((250000, 500, 2))\n",
    "features = np.zeros((250000, 3))\n",
    "\n",
    "cnt = 0\n",
    "i = 0\n",
    "file_dim = 100\n",
    "for file_ in files_[:1000]:\n",
    "    if file_[:8] == 'ddm_flex':\n",
    "        out = pickle.load(open('/media/data_cifs/afengler/data/kde/ddm/base_simulations_20000/' + file_, 'rb'))\n",
    "        features[cnt], labels[cnt] = bin_simulator_output(out = out)\n",
    "        if cnt % file_dim == 0:\n",
    "            print(cnt)\n",
    "            pickle.dump((labels[(i * file_dim):((i + 1) * file_dim)], features[(i * file_dim):((i + 1) * file_dim)]), open('/media/data_cifs/afengler/data/kde/ddm/base_simulations_20000_binned/dataset_' + str(i), 'wb'))\n",
    "            i += 1\n",
    "        cnt += 1\n"
   ]
  },
  {
   "cell_type": "code",
   "execution_count": 19,
   "metadata": {},
   "outputs": [
    {
     "data": {
      "text/plain": [
       "['ddm_flexbound_8f20ccdcb4a211e9bfa0b92c7f3bbbb3.pickle',\n",
       " 'ddm_flexbound_6e62f94cb4a811e9a2296161dd1187d4.pickle',\n",
       " 'ddm_flexbound_471fbd92b4a411e985f6ffa9521cc62b.pickle',\n",
       " 'ddm_flexbound_121436fcb49311e99f50856f5dfd3c68.pickle',\n",
       " 'ddm_flexbound_94a3b878b49211e9993d4b8b0deebcde.pickle',\n",
       " 'ddm_flexbound_82348a9eb49411e9a54c156d8f74be92.pickle',\n",
       " 'ddm_flexbound_4c553792b49f11e9b0187b49e7ec8e30.pickle',\n",
       " 'ddm_flexbound_150fda5cb4af11e9b63dc36fa94c651c.pickle',\n",
       " 'ddm_flexbound_1185fc1eb4a411e9a92c59bea83f0590.pickle',\n",
       " 'ddm_flexbound_3aa90a00b49f11e9b54705d8231d6519.pickle']"
      ]
     },
     "execution_count": 19,
     "metadata": {},
     "output_type": "execute_result"
    }
   ],
   "source": [
    "files_[0:10]"
   ]
  },
  {
   "cell_type": "code",
   "execution_count": 20,
   "metadata": {},
   "outputs": [
    {
     "data": {
      "text/plain": [
       "['ddm_flexbound_5837b522b4a811e9811e5bf9d656495d.pickle',\n",
       " 'ddm_flexbound_e4cfa5b0b49111e9b54705d8231d6519.pickle',\n",
       " 'ddm_flexbound_7299cb8cb49c11e9ab6a19eb39c3d16e.pickle',\n",
       " 'ddm_flexbound_6bfef1d6b4aa11e997417d415d78197e.pickle',\n",
       " 'ddm_flexbound_fb9c7be0b4a711e991da87d516367dec.pickle',\n",
       " 'ddm_flexbound_c9959f84b49111e9acc87dc8e438791b.pickle',\n",
       " 'ddm_flexbound_35ea3ffeb4a211e99fc52daf56a52c95.pickle',\n",
       " 'ddm_flexbound_d5c471eab49111e988acb30e98ec4b9a.pickle',\n",
       " 'ddm_flexbound_7da11050b4a911e9ab0afba0ff2c72f3.pickle',\n",
       " 'ddm_flexbound_bafec368b4a211e9b8291bebff384457.pickle']"
      ]
     },
     "execution_count": 20,
     "metadata": {},
     "output_type": "execute_result"
    }
   ],
   "source": [
    "random.shuffle(files_)\n",
    "files_[0:10]"
   ]
  },
  {
   "cell_type": "code",
   "execution_count": null,
   "metadata": {},
   "outputs": [],
   "source": [
    "# FULL DDM  \n",
    "repeats = 50\n",
    "my_means = np.zeros(repeats)\n",
    "for i in range(repeats):\n",
    "    out = cds.full_ddm(v = 0, \n",
    "                       a = 0.96,\n",
    "                       w = 0.5,\n",
    "                       ndt = 0.5,\n",
    "                       dw = 0.0,\n",
    "                       sdv = 0.0,\n",
    "                       dndt = 0.5,\n",
    "                       delta_t = 0.01, \n",
    "                       max_t = 20,\n",
    "                       n_samples = 10000,\n",
    "                       boundary_fun = bf.constant,\n",
    "                       boundary_multiplicative = True, \n",
    "                       boundary_params = {})\n",
    "    print(i)\n",
    "    \n",
    "    my_means[i] = np.mean(out[0][out[1] == 1])"
   ]
  },
  {
   "cell_type": "code",
   "execution_count": null,
   "metadata": {},
   "outputs": [],
   "source": []
  },
  {
   "cell_type": "code",
   "execution_count": null,
   "metadata": {},
   "outputs": [],
   "source": [
    "plt.hist(my_means, density = True)"
   ]
  },
  {
   "cell_type": "code",
   "execution_count": null,
   "metadata": {},
   "outputs": [],
   "source": [
    "np.mean(out[0][out[1] == 1])"
   ]
  },
  {
   "cell_type": "code",
   "execution_count": null,
   "metadata": {},
   "outputs": [],
   "source": [
    "plt.hist(out[0] * out[1], bins = 50)"
   ]
  },
  {
   "cell_type": "code",
   "execution_count": null,
   "metadata": {},
   "outputs": [],
   "source": [
    "int(50 / out[2]['delta_t'] + 1)"
   ]
  },
  {
   "cell_type": "code",
   "execution_count": null,
   "metadata": {},
   "outputs": [],
   "source": [
    "# LCA \n",
    "repeats = 1\n",
    "my_means = np.zeros(repeats)\n",
    "for i in range(repeats):\n",
    "    out = cds.lca(v = np.array([0, 0], dtype = np.float32), \n",
    "                  a = 2, \n",
    "                  w = np.array([0.5, 0.5], dtype = np.float32), \n",
    "                  ndt = np.array([1.0, 1.0], dtype = np.float32),\n",
    "                  g = -1.0,\n",
    "                  b = 1.0,\n",
    "                  delta_t = 0.01, \n",
    "                  max_t = 40,\n",
    "                  n_samples = 10000,\n",
    "                  boundary_fun = bf.constant,\n",
    "                  boundary_multiplicative = True, \n",
    "                  boundary_params = {})\n",
    "    print(i)\n",
    "    my_means[i] = np.mean(out[0][out[1] == 1])"
   ]
  },
  {
   "cell_type": "code",
   "execution_count": null,
   "metadata": {},
   "outputs": [],
   "source": [
    "out[1][out[1] == 0] = -1\n",
    "plt.hist(out[0] * out[1], bins = 50)"
   ]
  },
  {
   "cell_type": "code",
   "execution_count": null,
   "metadata": {},
   "outputs": [],
   "source": [
    "# LCA \n",
    "repeats = 10\n",
    "my_means = np.zeros(repeats)\n",
    "for i in range(repeats):\n",
    "    out = cds.ddm_flexbound(v = 0.0, \n",
    "                            a = 1.5, \n",
    "                            w = 0.5, \n",
    "                            ndt = 0.1,\n",
    "                            delta_t = 0.01, \n",
    "                            max_t = 40,\n",
    "                            n_samples = 10000,\n",
    "                            boundary_fun = bf.constant,\n",
    "                            boundary_multiplicative = True, \n",
    "                            boundary_params = {})\n",
    "    print(i)\n",
    "    my_means[i] = np.mean(out[0][out[1] == 1])"
   ]
  },
  {
   "cell_type": "code",
   "execution_count": null,
   "metadata": {},
   "outputs": [],
   "source": [
    "plt.hist(my_means, density = True)"
   ]
  },
  {
   "cell_type": "code",
   "execution_count": null,
   "metadata": {},
   "outputs": [],
   "source": [
    "out[1][out[1] == -1].shape"
   ]
  },
  {
   "cell_type": "code",
   "execution_count": null,
   "metadata": {},
   "outputs": [],
   "source": [
    "int((40 / 0.01) + 1)"
   ]
  },
  {
   "cell_type": "code",
   "execution_count": null,
   "metadata": {},
   "outputs": [],
   "source": [
    "my_bound = bf.constant"
   ]
  },
  {
   "cell_type": "code",
   "execution_count": null,
   "metadata": {},
   "outputs": [],
   "source": [
    "my_bound"
   ]
  },
  {
   "cell_type": "code",
   "execution_count": null,
   "metadata": {},
   "outputs": [],
   "source": [
    "my_bound(t = 100)"
   ]
  },
  {
   "cell_type": "code",
   "execution_count": null,
   "metadata": {},
   "outputs": [],
   "source": [
    "h_Test = (1, 1, 1)"
   ]
  },
  {
   "cell_type": "code",
   "execution_count": null,
   "metadata": {},
   "outputs": [],
   "source": [
    "h_Test + (1,2)"
   ]
  },
  {
   "cell_type": "code",
   "execution_count": null,
   "metadata": {},
   "outputs": [],
   "source": [
    "h = ({'c': 1}, {'c2': 2})"
   ]
  },
  {
   "cell_type": "code",
   "execution_count": null,
   "metadata": {},
   "outputs": [],
   "source": [
    "h_Test + h"
   ]
  },
  {
   "cell_type": "code",
   "execution_count": null,
   "metadata": {},
   "outputs": [],
   "source": [
    "a = ({'c': 1},)"
   ]
  },
  {
   "cell_type": "code",
   "execution_count": null,
   "metadata": {},
   "outputs": [],
   "source": [
    "h_Test + a"
   ]
  },
  {
   "cell_type": "code",
   "execution_count": null,
   "metadata": {},
   "outputs": [],
   "source": [
    "def foo(name, *args, **kwargs):\n",
    "    print (\"args: \", args)\n",
    "    print (\"Type of args: \", type(args))\n",
    "    if len(args)>2:\n",
    "        args = args[0], args[1]     #- Created Same name variable.\n",
    "    print (\"Temp args:\", args)"
   ]
  },
  {
   "cell_type": "code",
   "execution_count": null,
   "metadata": {},
   "outputs": [],
   "source": [
    "foo('hello', ('a', 'b', 'c'))"
   ]
  },
  {
   "cell_type": "code",
   "execution_count": null,
   "metadata": {},
   "outputs": [],
   "source": [
    "t = ('a', 'b', 'c')"
   ]
  },
  {
   "cell_type": "code",
   "execution_count": null,
   "metadata": {},
   "outputs": [],
   "source": [
    "t[0]"
   ]
  },
  {
   "cell_type": "code",
   "execution_count": null,
   "metadata": {},
   "outputs": [],
   "source": [
    "t2 = t[0], t[1]"
   ]
  },
  {
   "cell_type": "code",
   "execution_count": null,
   "metadata": {},
   "outputs": [],
   "source": [
    "t2"
   ]
  },
  {
   "cell_type": "code",
   "execution_count": null,
   "metadata": {},
   "outputs": [],
   "source": [
    "a = ['a']\n",
    "a = a + ['b', 'c']"
   ]
  },
  {
   "cell_type": "code",
   "execution_count": null,
   "metadata": {},
   "outputs": [],
   "source": [
    "a"
   ]
  },
  {
   "cell_type": "code",
   "execution_count": null,
   "metadata": {},
   "outputs": [],
   "source": [
    "test_dat = pd.DataFrame(np.zeros((10, 5)), columns = ['v_0', 'v_1', 'a', 'b', 'c'])"
   ]
  },
  {
   "cell_type": "code",
   "execution_count": null,
   "metadata": {},
   "outputs": [],
   "source": [
    "test_dat"
   ]
  },
  {
   "cell_type": "code",
   "execution_count": null,
   "metadata": {},
   "outputs": [],
   "source": [
    "np.array(test_dat.loc[1, ['v_0', 'v_1']])"
   ]
  },
  {
   "cell_type": "code",
   "execution_count": null,
   "metadata": {},
   "outputs": [],
   "source": [
    "my_keys = []\n",
    "for key in test_dat.keys():\n",
    "    if key[0] == 'v':\n",
    "        my_keys.append(key)\n",
    "np.array(test_dat.loc[1, ['v_0', 'v_1']])"
   ]
  },
  {
   "cell_type": "code",
   "execution_count": null,
   "metadata": {},
   "outputs": [],
   "source": [
    "my_target_folder = '/media/data_cifs/afengler/tmp/'"
   ]
  },
  {
   "cell_type": "code",
   "execution_count": null,
   "metadata": {},
   "outputs": [],
   "source": [
    "import make_data_lba as mdlba"
   ]
  },
  {
   "cell_type": "code",
   "execution_count": null,
   "metadata": {},
   "outputs": [],
   "source": [
    "my_dat = mdlba.make_data_rt_choice(target_folder = my_target_folder)"
   ]
  },
  {
   "cell_type": "code",
   "execution_count": null,
   "metadata": {},
   "outputs": [],
   "source": [
    "a = [1,2,3,4,5]"
   ]
  },
  {
   "cell_type": "code",
   "execution_count": null,
   "metadata": {},
   "outputs": [],
   "source": [
    "a[:-2]"
   ]
  },
  {
   "cell_type": "code",
   "execution_count": null,
   "metadata": {},
   "outputs": [],
   "source": [
    "np.isclose(0, 1e-15)"
   ]
  },
  {
   "cell_type": "code",
   "execution_count": null,
   "metadata": {},
   "outputs": [],
   "source": [
    "1.0 - 1e-29 == 1.0"
   ]
  },
  {
   "cell_type": "code",
   "execution_count": null,
   "metadata": {},
   "outputs": [],
   "source": [
    "np.max(my_dat['log_likelihood'])"
   ]
  },
  {
   "cell_type": "code",
   "execution_count": null,
   "metadata": {},
   "outputs": [],
   "source": [
    "data = np.concatenate([out[0], out[1]], axis = 1)"
   ]
  },
  {
   "cell_type": "code",
   "execution_count": null,
   "metadata": {},
   "outputs": [],
   "source": [
    "data[data[:,0] < 3, 0]"
   ]
  },
  {
   "cell_type": "code",
   "execution_count": null,
   "metadata": {},
   "outputs": [],
   "source": [
    "np.log(1e-100)"
   ]
  },
  {
   "cell_type": "code",
   "execution_count": null,
   "metadata": {},
   "outputs": [],
   "source": [
    "t = np.random.uniform(size = (1000, 10))"
   ]
  },
  {
   "cell_type": "code",
   "execution_count": null,
   "metadata": {},
   "outputs": [],
   "source": [
    "t[:,2] = t[:, 1] + np.random.uniform(size = 1000) / t[:, 3]"
   ]
  },
  {
   "cell_type": "code",
   "execution_count": null,
   "metadata": {},
   "outputs": [],
   "source": [
    "(np.random.uniform(size = (1000)) / t[:, 3]).shape"
   ]
  },
  {
   "cell_type": "code",
   "execution_count": null,
   "metadata": {},
   "outputs": [],
   "source": [
    "t[:, 2]"
   ]
  },
  {
   "cell_type": "code",
   "execution_count": null,
   "metadata": {},
   "outputs": [],
   "source": []
  }
 ],
 "metadata": {
  "kernelspec": {
   "display_name": "Python 3",
   "language": "python",
   "name": "python3"
  },
  "language_info": {
   "codemirror_mode": {
    "name": "ipython",
    "version": 3
   },
   "file_extension": ".py",
   "mimetype": "text/x-python",
   "name": "python",
   "nbconvert_exporter": "python",
   "pygments_lexer": "ipython3",
   "version": "3.7.3"
  }
 },
 "nbformat": 4,
 "nbformat_minor": 2
}
