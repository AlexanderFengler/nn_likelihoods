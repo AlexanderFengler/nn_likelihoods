{
 "cells": [
  {
   "cell_type": "code",
   "execution_count": 1,
   "metadata": {},
   "outputs": [],
   "source": [
    "# Environ\n",
    "import scipy as scp\n",
    "import tensorflow as tf\n",
    "from scipy.stats import gamma\n",
    "import numpy as np\n",
    "import pandas as pd\n",
    "import matplotlib.pyplot as plt\n",
    "from sklearn.neighbors import KernelDensity\n",
    "import random\n",
    "import multiprocessing as mp\n",
    "import psutil\n",
    "import pickle\n",
    "import os\n",
    "import re\n",
    "\n",
    "# Own\n",
    "import ddm_data_simulation as ds\n",
    "import cddm_data_simulation as cds\n",
    "import kde_training_utilities as kde_util\n",
    "import kde_class as kde\n",
    "import boundary_functions as bf"
   ]
  },
  {
   "cell_type": "code",
   "execution_count": 8,
   "metadata": {},
   "outputs": [
    {
     "name": "stdout",
     "output_type": "stream",
     "text": [
      "0\n"
     ]
    }
   ],
   "source": [
    "# DDM  \n",
    "repeats = 1\n",
    "my_means = np.zeros(repeats)\n",
    "for i in range(repeats):\n",
    "    out = cds.ddm_flexbound(v = 0, \n",
    "                            a = 0.96,\n",
    "                            w = 0.5,\n",
    "                            ndt = 0.5,\n",
    "                            delta_t = 0.01, \n",
    "                            max_t = 20,\n",
    "                            n_samples = 10000,\n",
    "                            boundary_fun = bf.angle,\n",
    "                            boundary_multiplicative = False, \n",
    "                            boundary_params = {\"theta\": 0.01})\n",
    "    print(i)\n",
    "    \n",
    "    my_means[i] = np.mean(out[0][out[1] == 1])"
   ]
  },
  {
   "cell_type": "code",
   "execution_count": 7,
   "metadata": {},
   "outputs": [
    {
     "data": {
      "text/plain": [
       "-0.10033467208545054"
      ]
     },
     "execution_count": 7,
     "metadata": {},
     "output_type": "execute_result"
    }
   ],
   "source": [
    "- np.sin(0.1) / np.cos(0.1)"
   ]
  },
  {
   "cell_type": "code",
   "execution_count": null,
   "metadata": {},
   "outputs": [],
   "source": [
    "# FULL DDM  \n",
    "repeats = 50\n",
    "my_means = np.zeros(repeats)\n",
    "for i in range(repeats):\n",
    "    out = cds.full_ddm(v = 0, \n",
    "                       a = 0.96,\n",
    "                       w = 0.5,\n",
    "                       ndt = 0.5,\n",
    "                       dw = 0.0,\n",
    "                       sdv = 0.0,\n",
    "                       dndt = 0.5,\n",
    "                       delta_t = 0.01, \n",
    "                       max_t = 20,\n",
    "                       n_samples = 10000,\n",
    "                       boundary_fun = bf.constant,\n",
    "                       boundary_multiplicative = True, \n",
    "                       boundary_params = {})\n",
    "    print(i)\n",
    "    \n",
    "    my_means[i] = np.mean(out[0][out[1] == 1])"
   ]
  },
  {
   "cell_type": "code",
   "execution_count": null,
   "metadata": {},
   "outputs": [],
   "source": [
    "plt.hist(my_means, density = True)"
   ]
  },
  {
   "cell_type": "code",
   "execution_count": null,
   "metadata": {},
   "outputs": [],
   "source": [
    "np.mean(out[0][out[1] == 1])"
   ]
  },
  {
   "cell_type": "code",
   "execution_count": null,
   "metadata": {},
   "outputs": [],
   "source": [
    "plt.hist(out[0] * out[1], bins = 50)"
   ]
  },
  {
   "cell_type": "code",
   "execution_count": null,
   "metadata": {},
   "outputs": [],
   "source": [
    "int(50 / out[2]['delta_t'] + 1)"
   ]
  },
  {
   "cell_type": "code",
   "execution_count": null,
   "metadata": {},
   "outputs": [],
   "source": [
    "# LCA \n",
    "repeats = 1\n",
    "my_means = np.zeros(repeats)\n",
    "for i in range(repeats):\n",
    "    out = cds.lca(v = np.array([0, 0], dtype = np.float32), \n",
    "                  a = 2, \n",
    "                  w = np.array([0.5, 0.5], dtype = np.float32), \n",
    "                  ndt = np.array([1.0, 1.0], dtype = np.float32),\n",
    "                  g = -1.0,\n",
    "                  b = 1.0,\n",
    "                  delta_t = 0.01, \n",
    "                  max_t = 40,\n",
    "                  n_samples = 10000,\n",
    "                  boundary_fun = bf.constant,\n",
    "                  boundary_multiplicative = True, \n",
    "                  boundary_params = {})\n",
    "    print(i)\n",
    "    my_means[i] = np.mean(out[0][out[1] == 1])"
   ]
  },
  {
   "cell_type": "code",
   "execution_count": 9,
   "metadata": {},
   "outputs": [
    {
     "data": {
      "text/plain": [
       "(array([1.000e+00, 1.000e+00, 0.000e+00, 1.000e+00, 0.000e+00, 0.000e+00,\n",
       "        0.000e+00, 4.000e+00, 8.000e+00, 7.000e+00, 1.300e+01, 2.000e+01,\n",
       "        2.600e+01, 3.400e+01, 7.000e+01, 1.060e+02, 1.720e+02, 2.410e+02,\n",
       "        3.380e+02, 5.210e+02, 7.130e+02, 1.080e+03, 1.396e+03, 2.430e+02,\n",
       "        0.000e+00, 0.000e+00, 0.000e+00, 1.082e+03, 1.282e+03, 9.150e+02,\n",
       "        5.560e+02, 3.980e+02, 2.470e+02, 1.750e+02, 1.150e+02, 8.400e+01,\n",
       "        4.900e+01, 2.900e+01, 2.100e+01, 1.400e+01, 1.300e+01, 8.000e+00,\n",
       "        3.000e+00, 6.000e+00, 1.000e+00, 4.000e+00, 1.000e+00, 0.000e+00,\n",
       "        0.000e+00, 2.000e+00]),\n",
       " array([-8.17008018, -7.84587704, -7.52167389, -7.19747074, -6.87326759,\n",
       "        -6.54906445, -6.2248613 , -5.90065815, -5.576455  , -5.25225185,\n",
       "        -4.92804871, -4.60384556, -4.27964241, -3.95543926, -3.63123611,\n",
       "        -3.30703297, -2.98282982, -2.65862667, -2.33442352, -2.01022038,\n",
       "        -1.68601723, -1.36181408, -1.03761093, -0.71340778, -0.38920464,\n",
       "        -0.06500149,  0.25920166,  0.58340481,  0.90760796,  1.2318111 ,\n",
       "         1.55601425,  1.8802174 ,  2.20442055,  2.5286237 ,  2.85282684,\n",
       "         3.17702999,  3.50123314,  3.82543629,  4.14963943,  4.47384258,\n",
       "         4.79804573,  5.12224888,  5.44645203,  5.77065517,  6.09485832,\n",
       "         6.41906147,  6.74326462,  7.06746777,  7.39167091,  7.71587406,\n",
       "         8.04007721]),\n",
       " <a list of 50 Patch objects>)"
      ]
     },
     "execution_count": 9,
     "metadata": {},
     "output_type": "execute_result"
    },
    {
     "data": {
      "image/png": "[encoded data removed]",
      "text/plain": [
       "<Figure size 432x288 with 1 Axes>"
      ]
     },
     "metadata": {
      "needs_background": "light"
     },
     "output_type": "display_data"
    }
   ],
   "source": [
    "out[1][out[1] == 0] = -1\n",
    "plt.hist(out[0] * out[1], bins = 50)"
   ]
  },
  {
   "cell_type": "code",
   "execution_count": null,
   "metadata": {},
   "outputs": [],
   "source": [
    "# LCA \n",
    "repeats = 10\n",
    "my_means = np.zeros(repeats)\n",
    "for i in range(repeats):\n",
    "    out = cds.ddm_flexbound(v = 0.0, \n",
    "                            a = 1.5, \n",
    "                            w = 0.5, \n",
    "                            ndt = 0.1,\n",
    "                            delta_t = 0.01, \n",
    "                            max_t = 40,\n",
    "                            n_samples = 10000,\n",
    "                            boundary_fun = bf.constant,\n",
    "                            boundary_multiplicative = True, \n",
    "                            boundary_params = {})\n",
    "    print(i)\n",
    "    my_means[i] = np.mean(out[0][out[1] == 1])"
   ]
  },
  {
   "cell_type": "code",
   "execution_count": null,
   "metadata": {},
   "outputs": [],
   "source": [
    "plt.hist(my_means, density = True)"
   ]
  },
  {
   "cell_type": "code",
   "execution_count": null,
   "metadata": {},
   "outputs": [],
   "source": [
    "out[1][out[1] == -1].shape"
   ]
  },
  {
   "cell_type": "code",
   "execution_count": null,
   "metadata": {},
   "outputs": [],
   "source": [
    "int((40 / 0.01) + 1)"
   ]
  },
  {
   "cell_type": "code",
   "execution_count": null,
   "metadata": {},
   "outputs": [],
   "source": [
    "my_bound = bf.constant"
   ]
  },
  {
   "cell_type": "code",
   "execution_count": null,
   "metadata": {},
   "outputs": [],
   "source": [
    "my_bound"
   ]
  },
  {
   "cell_type": "code",
   "execution_count": null,
   "metadata": {},
   "outputs": [],
   "source": [
    "my_bound(t = 100)"
   ]
  },
  {
   "cell_type": "code",
   "execution_count": null,
   "metadata": {},
   "outputs": [],
   "source": [
    "h_Test = (1, 1, 1)"
   ]
  },
  {
   "cell_type": "code",
   "execution_count": null,
   "metadata": {},
   "outputs": [],
   "source": [
    "h_Test + (1,2)"
   ]
  },
  {
   "cell_type": "code",
   "execution_count": null,
   "metadata": {},
   "outputs": [],
   "source": [
    "h = ({'c': 1}, {'c2': 2})"
   ]
  },
  {
   "cell_type": "code",
   "execution_count": null,
   "metadata": {},
   "outputs": [],
   "source": [
    "h_Test + h"
   ]
  },
  {
   "cell_type": "code",
   "execution_count": null,
   "metadata": {},
   "outputs": [],
   "source": [
    "a = ({'c': 1},)"
   ]
  },
  {
   "cell_type": "code",
   "execution_count": null,
   "metadata": {},
   "outputs": [],
   "source": [
    "h_Test + a"
   ]
  },
  {
   "cell_type": "code",
   "execution_count": null,
   "metadata": {},
   "outputs": [],
   "source": [
    "def foo(name, *args, **kwargs):\n",
    "    print (\"args: \", args)\n",
    "    print (\"Type of args: \", type(args))\n",
    "    if len(args)>2:\n",
    "        args = args[0], args[1]     #- Created Same name variable.\n",
    "    print (\"Temp args:\", args)"
   ]
  },
  {
   "cell_type": "code",
   "execution_count": null,
   "metadata": {},
   "outputs": [],
   "source": [
    "foo('hello', ('a', 'b', 'c'))"
   ]
  },
  {
   "cell_type": "code",
   "execution_count": null,
   "metadata": {},
   "outputs": [],
   "source": [
    "t = ('a', 'b', 'c')"
   ]
  },
  {
   "cell_type": "code",
   "execution_count": null,
   "metadata": {},
   "outputs": [],
   "source": [
    "t[0]"
   ]
  },
  {
   "cell_type": "code",
   "execution_count": null,
   "metadata": {},
   "outputs": [],
   "source": [
    "t2 = t[0], t[1]"
   ]
  },
  {
   "cell_type": "code",
   "execution_count": null,
   "metadata": {},
   "outputs": [],
   "source": [
    "t2"
   ]
  },
  {
   "cell_type": "code",
   "execution_count": null,
   "metadata": {},
   "outputs": [],
   "source": [
    "a = ['a']\n",
    "a = a + ['b', 'c']"
   ]
  },
  {
   "cell_type": "code",
   "execution_count": null,
   "metadata": {},
   "outputs": [],
   "source": [
    "a"
   ]
  },
  {
   "cell_type": "code",
   "execution_count": null,
   "metadata": {},
   "outputs": [],
   "source": [
    "test_dat = pd.DataFrame(np.zeros((10, 5)), columns = ['v_0', 'v_1', 'a', 'b', 'c'])"
   ]
  },
  {
   "cell_type": "code",
   "execution_count": null,
   "metadata": {},
   "outputs": [],
   "source": [
    "test_dat"
   ]
  },
  {
   "cell_type": "code",
   "execution_count": null,
   "metadata": {},
   "outputs": [],
   "source": [
    "np.array(test_dat.loc[1, ['v_0', 'v_1']])"
   ]
  },
  {
   "cell_type": "code",
   "execution_count": null,
   "metadata": {},
   "outputs": [],
   "source": [
    "my_keys = []\n",
    "for key in test_dat.keys():\n",
    "    if key[0] == 'v':\n",
    "        my_keys.append(key)\n",
    "np.array(test_dat.loc[1, ['v_0', 'v_1']])"
   ]
  },
  {
   "cell_type": "code",
   "execution_count": null,
   "metadata": {},
   "outputs": [],
   "source": [
    "my_target_folder = '/media/data_cifs/afengler/tmp/'"
   ]
  },
  {
   "cell_type": "code",
   "execution_count": null,
   "metadata": {},
   "outputs": [],
   "source": [
    "import make_data_lba as mdlba"
   ]
  },
  {
   "cell_type": "code",
   "execution_count": null,
   "metadata": {},
   "outputs": [],
   "source": [
    "my_dat = mdlba.make_data_rt_choice(target_folder = my_target_folder)"
   ]
  },
  {
   "cell_type": "code",
   "execution_count": null,
   "metadata": {},
   "outputs": [],
   "source": [
    "a = [1,2,3,4,5]"
   ]
  },
  {
   "cell_type": "code",
   "execution_count": null,
   "metadata": {},
   "outputs": [],
   "source": [
    "a[:-2]"
   ]
  },
  {
   "cell_type": "code",
   "execution_count": null,
   "metadata": {},
   "outputs": [],
   "source": [
    "np.isclose(0, 1e-15)"
   ]
  },
  {
   "cell_type": "code",
   "execution_count": null,
   "metadata": {},
   "outputs": [],
   "source": [
    "1.0 - 1e-29 == 1.0"
   ]
  },
  {
   "cell_type": "code",
   "execution_count": null,
   "metadata": {},
   "outputs": [],
   "source": [
    "np.max(my_dat['log_likelihood'])"
   ]
  },
  {
   "cell_type": "code",
   "execution_count": null,
   "metadata": {},
   "outputs": [],
   "source": [
    "data = np.concatenate([out[0], out[1]], axis = 1)"
   ]
  },
  {
   "cell_type": "code",
   "execution_count": null,
   "metadata": {},
   "outputs": [],
   "source": [
    "data[data[:,0] < 3, 0]"
   ]
  },
  {
   "cell_type": "code",
   "execution_count": null,
   "metadata": {},
   "outputs": [],
   "source": [
    "np.log(1e-100)"
   ]
  },
  {
   "cell_type": "code",
   "execution_count": 17,
   "metadata": {},
   "outputs": [],
   "source": [
    "t = np.random.uniform(size = (1000, 10))"
   ]
  },
  {
   "cell_type": "code",
   "execution_count": 22,
   "metadata": {},
   "outputs": [],
   "source": [
    "t[:,2] = t[:, 1] + np.random.uniform(size = 1000) / t[:, 3]"
   ]
  },
  {
   "cell_type": "code",
   "execution_count": 21,
   "metadata": {},
   "outputs": [
    {
     "data": {
      "text/plain": [
       "(1000,)"
      ]
     },
     "execution_count": 21,
     "metadata": {},
     "output_type": "execute_result"
    }
   ],
   "source": [
    "(np.random.uniform(size = (1000)) / t[:, 3]).shape"
   ]
  },
  {
   "cell_type": "code",
   "execution_count": 23,
   "metadata": {},
   "outputs": [
    {
     "data": {
      "text/plain": [
       "array([6.73355565e-01, 1.78231464e+00, 1.92120204e+00, 7.13622407e-01,\n",
       "       1.79572554e+00, 1.19171282e+00, 3.60322467e+00, 8.02885610e-01,\n",
       "       1.77970552e+00, 2.31743722e+00, 6.39888990e+00, 2.40078834e+00,\n",
       "       1.46957252e+00, 8.52814679e-01, 5.37408825e+01, 4.86716677e+00,\n",
       "       1.50928662e+00, 4.10238348e+00, 5.37120144e+00, 1.24215298e+00,\n",
       "       1.28611861e+00, 1.45860993e+00, 1.87875178e+01, 1.92140800e+01,\n",
       "       4.76007043e+00, 4.80935713e+00, 2.20769019e+00, 1.36237335e+00,\n",
       "       2.13163860e+00, 2.46958863e+00, 1.07400501e+00, 1.72451320e+01,\n",
       "       1.36956059e+00, 1.45141445e+00, 1.38317689e+00, 7.70948386e-01,\n",
       "       6.08147489e-01, 1.30523494e+01, 2.09855120e+00, 5.54135642e-01,\n",
       "       1.94841050e+00, 1.37040782e+00, 3.34764688e+00, 2.20590103e+00,\n",
       "       2.69535138e+03, 1.97967203e+00, 3.34337952e+00, 9.25123899e-01,\n",
       "       7.41798900e+00, 5.53677931e+00, 1.01054445e+00, 3.71875623e-01,\n",
       "       1.65208837e+00, 2.97342942e+00, 1.52497010e+00, 2.12327871e+00,\n",
       "       2.29886236e+00, 4.29008057e-01, 1.41836229e+00, 9.33337747e+00,\n",
       "       1.14966486e+00, 1.08389202e+00, 5.81420991e-01, 1.02827587e+00,\n",
       "       8.70616753e-01, 3.64381633e+00, 3.71611500e-01, 2.22649165e+00,\n",
       "       1.42063196e+00, 5.95442906e-01, 7.23162003e-02, 2.10406295e+00,\n",
       "       1.30813480e+00, 2.91650411e+00, 3.61416613e+00, 8.46683596e-01,\n",
       "       8.02020798e-01, 1.51933200e+00, 1.28280937e+00, 7.11309986e-01,\n",
       "       1.41765633e+00, 1.82892201e+01, 1.20841190e+00, 1.55865229e+00,\n",
       "       2.97931883e+00, 1.33552464e+00, 2.34301169e+00, 1.08015599e+01,\n",
       "       1.01848780e+00, 7.27250504e-01, 8.23762262e-01, 1.03600406e+00,\n",
       "       1.15556260e+00, 6.17344602e-01, 7.42955328e-01, 3.36467282e+00,\n",
       "       8.00765537e-01, 9.58781230e+00, 2.57145609e+00, 1.07875572e+00,\n",
       "       2.39634126e+02, 1.30498260e+00, 3.71684981e+00, 6.29257017e+00,\n",
       "       1.64802259e+00, 1.85941152e+00, 1.85541712e+00, 7.05052846e-01,\n",
       "       1.33015315e+00, 1.11312604e+00, 3.32992551e-01, 5.83379274e-01,\n",
       "       1.21268657e+00, 1.60086688e+00, 2.45785853e+00, 4.83456358e+01,\n",
       "       5.55347069e-01, 1.52306661e+00, 8.12096552e-01, 9.50710392e-01,\n",
       "       2.13031294e+00, 5.81598453e-01, 1.00608402e+00, 9.93257713e-01,\n",
       "       1.09528440e+00, 6.02158414e-01, 4.01636304e+00, 1.19931734e+00,\n",
       "       6.65731152e-01, 9.31857325e-01, 8.48087261e-01, 1.08160295e+00,\n",
       "       2.16582493e+00, 2.23299810e+00, 1.41728138e+00, 1.70612883e+00,\n",
       "       3.81689297e+00, 3.70208175e+00, 1.65463193e+00, 1.29739868e-01,\n",
       "       1.74489210e+00, 3.40389170e+00, 7.04461754e-01, 1.10872513e+00,\n",
       "       7.03975247e-01, 9.36251076e-01, 1.67524459e+00, 3.53872903e+00,\n",
       "       9.17990223e-01, 9.78778507e-01, 4.28351851e+00, 1.17977500e+00,\n",
       "       1.60306907e+00, 8.92539358e-01, 9.54108091e-01, 2.08145857e-01,\n",
       "       8.14930969e+00, 1.91062588e+00, 4.59809383e+00, 7.60580898e+00,\n",
       "       3.25602926e-01, 1.01611889e+00, 2.28476617e+00, 1.38959521e+00,\n",
       "       1.56527045e+00, 2.00607696e+00, 3.67439224e+00, 1.97567100e+00,\n",
       "       6.59762009e-01, 1.24359753e+00, 2.78715492e+00, 1.85398745e+00,\n",
       "       6.82428814e-01, 2.62602046e+00, 1.19745331e+00, 9.27582870e-01,\n",
       "       1.97312651e+00, 5.79839860e-01, 1.54795584e+00, 8.83109514e-01,\n",
       "       1.57996317e+00, 1.58797044e+00, 7.31597999e-01, 1.49229741e+00,\n",
       "       2.75118349e+00, 1.99268210e+00, 3.25490934e+00, 2.65379155e+00,\n",
       "       6.65081194e-02, 1.28508749e+00, 4.98856249e+00, 1.14851493e+00,\n",
       "       8.19225491e-01, 2.05067431e+00, 2.03676553e+00, 7.42641585e-01,\n",
       "       3.22906616e+00, 1.98742032e+00, 8.52582680e-01, 1.36939913e+00,\n",
       "       1.94110384e+00, 1.85193649e+00, 1.09378008e+00, 1.54356556e+00,\n",
       "       1.84518129e+01, 1.32135597e+00, 3.16527990e-01, 1.34234308e+00,\n",
       "       1.70042357e+00, 2.72846075e+00, 2.55772840e+00, 1.06154011e+01,\n",
       "       1.96825611e+00, 2.32025625e-01, 1.44671560e+00, 1.55543036e+00,\n",
       "       5.16645849e+00, 5.56337893e-01, 2.12705580e+00, 1.31183112e+00,\n",
       "       1.43051738e+00, 3.70060961e-01, 1.55064998e+01, 9.73731318e+00,\n",
       "       1.79023444e+01, 1.26947096e+00, 1.84988554e+00, 1.46339587e+00,\n",
       "       1.05360962e+00, 1.35928217e+00, 1.93014014e+00, 9.40855636e-01,\n",
       "       5.29895894e-01, 1.19891859e+00, 2.44240528e+00, 1.29310113e+00,\n",
       "       1.46082284e+00, 6.54996001e-01, 3.94669238e+00, 6.16833363e-01,\n",
       "       4.50383525e-01, 1.09620802e+00, 2.10132916e+00, 6.66153333e-01,\n",
       "       2.20600642e+00, 1.34127472e+00, 1.09602072e+00, 1.51566511e+00,\n",
       "       1.76017339e+00, 1.97002497e+00, 2.22220200e+00, 2.50326177e+00,\n",
       "       1.30862363e+00, 1.96930813e+01, 7.36972393e-01, 1.22860155e+00,\n",
       "       1.19223016e+00, 1.04283821e+00, 1.83052505e+00, 2.45905161e+00,\n",
       "       1.50147515e+00, 2.70544550e+00, 5.64901303e+00, 1.79253751e+00,\n",
       "       3.69101492e+00, 1.22186044e+00, 2.63033436e+00, 7.81440469e+00,\n",
       "       2.64721710e+00, 1.45811910e+00, 1.47991872e+00, 1.52778508e+00,\n",
       "       1.46156393e+00, 7.94022774e-01, 1.04236575e+00, 1.04221901e+00,\n",
       "       1.23647701e+00, 2.37490137e+00, 2.06995413e+00, 1.06534519e+00,\n",
       "       2.35586650e-01, 2.17713864e+00, 1.66824482e+00, 1.23422113e+01,\n",
       "       4.59868223e-01, 5.29310740e-01, 1.38527516e+00, 8.44349353e-01,\n",
       "       8.56177644e+00, 4.36843312e+01, 1.67033828e+00, 1.21699110e+00,\n",
       "       7.28025397e-01, 1.46774561e+00, 1.34990193e+00, 8.09681825e-01,\n",
       "       8.77729189e-01, 8.33088216e+00, 7.48077637e+01, 1.18487669e+00,\n",
       "       7.68079604e-01, 7.66126336e-01, 2.37621185e+00, 1.62899445e+00,\n",
       "       2.40183401e+01, 3.41631810e+00, 6.07191139e-01, 1.12320783e+00,\n",
       "       2.90146759e+00, 2.97292018e-01, 8.15303957e-01, 1.09123381e+01,\n",
       "       4.30986856e-01, 4.09896795e+00, 1.21010498e+00, 1.89388117e+01,\n",
       "       6.32203906e-01, 1.91119784e-02, 1.69856560e+00, 5.68445351e+00,\n",
       "       1.65565232e+00, 1.36501560e+00, 2.57485039e+00, 1.01193442e+00,\n",
       "       3.09647789e-01, 1.39706995e+00, 1.01352293e+00, 9.80558563e-01,\n",
       "       1.35704539e+00, 1.88311221e+00, 5.70209295e-01, 2.56305271e+00,\n",
       "       1.13969038e+00, 1.09858502e+00, 9.59506831e-01, 2.09080297e+00,\n",
       "       4.54834170e+01, 1.28096597e+00, 6.85384445e-01, 1.66621357e+00,\n",
       "       1.11802480e+00, 4.65027581e+01, 1.06220984e+00, 3.18131600e+00,\n",
       "       1.43325650e+00, 2.08980144e+00, 1.85142224e+00, 1.86172950e+00,\n",
       "       4.90634355e+00, 1.45665994e+00, 2.07188736e+00, 1.29794822e+00,\n",
       "       6.58436567e-01, 2.15184192e+00, 1.57932550e+00, 1.24397370e+00,\n",
       "       1.35287816e+00, 3.45022048e+00, 1.79919583e+00, 1.23887255e+00,\n",
       "       1.36554521e+00, 8.74864955e-01, 1.75705481e+00, 1.42583252e+00,\n",
       "       1.48923735e+00, 2.94716958e+00, 1.06261974e+00, 8.98524632e-01,\n",
       "       5.86213383e+00, 9.76972657e+00, 2.32670448e+00, 2.33957278e+00,\n",
       "       4.46550438e+00, 3.10980667e-01, 2.09245286e+00, 1.30588929e+01,\n",
       "       3.04528635e+00, 1.21672271e+00, 6.78060974e-01, 1.40782011e+00,\n",
       "       1.16833933e+00, 5.74784260e+00, 2.36839864e+00, 1.91501785e+00,\n",
       "       1.30165488e+00, 2.11263978e+00, 1.27704366e+00, 1.12802294e+00,\n",
       "       3.24914089e+00, 1.39628311e+00, 2.43806807e+00, 8.99672152e-01,\n",
       "       2.05636880e+00, 2.66425044e+00, 1.52486179e+00, 1.12408379e+00,\n",
       "       1.65898095e+00, 4.34489358e+00, 6.41162135e+00, 5.25588435e+00,\n",
       "       8.21030194e-01, 2.00807617e+00, 6.36134556e-01, 1.72432820e+00,\n",
       "       1.22441564e+00, 1.81456543e+00, 1.02663126e+00, 4.90569919e-01,\n",
       "       1.06762872e+02, 9.46420267e-01, 1.13936689e+00, 1.42402456e+00,\n",
       "       1.19240992e+00, 3.70036014e-01, 1.09824368e+00, 1.07021020e+00,\n",
       "       4.07215820e+00, 9.00792524e+00, 1.63480173e+00, 1.22982761e+00,\n",
       "       1.24855041e+00, 3.42582303e+00, 1.74392323e+00, 2.75455730e+00,\n",
       "       9.16638762e-01, 1.07384129e+00, 1.31304677e+00, 6.97882844e-01,\n",
       "       1.10664426e+00, 5.80649766e-01, 4.45127317e-01, 2.49271471e+00,\n",
       "       5.61318168e-01, 3.52132369e+00, 8.15125609e-01, 9.97603178e+00,\n",
       "       8.09570707e+00, 5.72683659e-01, 1.37825118e+00, 1.72226105e+00,\n",
       "       8.49326831e-01, 4.28572093e+00, 1.84806839e+00, 2.19574302e+00,\n",
       "       5.92562686e+00, 1.31304816e+00, 1.60253412e+00, 5.85942123e-02,\n",
       "       4.35148961e+00, 8.71003550e-01, 9.97301083e+00, 1.91531820e+00,\n",
       "       2.47008413e-01, 8.41124654e-01, 3.72635181e+00, 2.89924940e+00,\n",
       "       9.87102889e-01, 1.10338986e+00, 4.27622814e+00, 1.16474813e+00,\n",
       "       1.66765886e+00, 7.48087033e-01, 1.73804667e+00, 3.11246696e+00,\n",
       "       4.19529889e-01, 1.65059863e+00, 1.38849847e+00, 8.96750493e-01,\n",
       "       1.03726013e+00, 8.78202542e+00, 1.57410334e+00, 2.77488029e+00,\n",
       "       1.72531056e+01, 8.08109761e-01, 4.82079201e+01, 7.72411950e+00,\n",
       "       1.98400530e-01, 4.87217915e+00, 1.45202980e+00, 5.15078645e-01,\n",
       "       1.58395003e+00, 2.63102704e+00, 1.06837155e+00, 1.57956399e+00,\n",
       "       1.17086466e+00, 3.77644402e+02, 9.79422020e+00, 3.35147494e-01,\n",
       "       8.93490976e-01, 1.06488450e+00, 6.25805048e-02, 9.09618273e+00,\n",
       "       2.57885642e+00, 1.87099682e+00, 2.46209264e+00, 7.27204152e-01,\n",
       "       8.10049514e-01, 1.61401329e+00, 8.90420808e-01, 6.18322491e+00,\n",
       "       1.19685253e+00, 3.23471533e+00, 5.29055306e-01, 3.63022842e+00,\n",
       "       3.79263593e-01, 1.38976182e+00, 1.51241280e+00, 1.03916772e+00,\n",
       "       8.94225625e+00, 1.06968857e+01, 3.97457679e+00, 1.28416279e+00,\n",
       "       1.48001361e+00, 1.22821195e+00, 8.12888644e-01, 1.07998948e+00,\n",
       "       5.28766319e-01, 6.00848861e-01, 1.65078999e+00, 1.49214873e+00,\n",
       "       1.01831634e+00, 1.79661922e+00, 7.41086956e-01, 5.09100961e-01,\n",
       "       9.44017223e-01, 1.92407966e+00, 1.06795422e+00, 1.47164990e+00,\n",
       "       1.35493406e+01, 1.58113312e+00, 8.86223527e-01, 4.90254177e+00,\n",
       "       4.08812745e-01, 1.33684700e+00, 1.76203189e+00, 1.18374000e+00,\n",
       "       1.14710539e+00, 3.48831960e+00, 5.96285167e+00, 1.50144100e+00,\n",
       "       9.90606195e-01, 1.53165892e+00, 1.77466839e+00, 2.50136864e+00,\n",
       "       5.41637546e+00, 8.27804369e+00, 1.58629378e+00, 2.80314997e+00,\n",
       "       1.02148511e+00, 7.77952028e-01, 1.96234482e+00, 8.23021917e+00,\n",
       "       3.95827231e+00, 3.20478050e+01, 1.62216755e+00, 8.20987335e-01,\n",
       "       7.47928064e-01, 1.88903633e+00, 8.02909106e-01, 8.83533564e-01,\n",
       "       7.04583519e-01, 9.90830597e-01, 1.72652087e+00, 1.64493134e+00,\n",
       "       1.59129204e+00, 6.24499586e+00, 1.68690254e+00, 1.34592314e+00,\n",
       "       1.43397621e+00, 2.93568394e+00, 7.06409111e+00, 1.38560185e+00,\n",
       "       1.10437687e+00, 1.28049792e+00, 5.85201872e-01, 1.05325132e+00,\n",
       "       9.98924887e-01, 5.76936052e-01, 1.98774755e+00, 2.57573076e+00,\n",
       "       4.74213822e+00, 5.02899594e-01, 5.08562081e+00, 6.50711757e-01,\n",
       "       3.37674973e+00, 5.98743108e-01, 9.15434424e-01, 9.16453553e-01,\n",
       "       2.51432549e+00, 2.58761688e+00, 1.72449905e+00, 1.53046562e+00,\n",
       "       5.52122159e+01, 1.04879473e+00, 1.15825825e-01, 7.27852445e-01,\n",
       "       2.02572637e+00, 1.41915602e+00, 1.11004491e+00, 1.79972711e+00,\n",
       "       1.86071042e+00, 6.82145164e-01, 1.70074489e+00, 2.06242902e+00,\n",
       "       1.64213421e+00, 3.24796319e+00, 2.47975456e+00, 3.51897527e+00,\n",
       "       1.20117607e+00, 3.33700784e-01, 1.55382060e+00, 4.39909202e+01,\n",
       "       1.32303972e+00, 1.51741633e+00, 5.60851100e-01, 8.82343393e-01,\n",
       "       1.91443925e+00, 2.46243164e+00, 2.07321028e+01, 1.16877675e+00,\n",
       "       2.29573282e+00, 1.67007378e+00, 3.10265899e+00, 1.09515016e+00,\n",
       "       3.71355881e+00, 3.96613020e+01, 5.29868998e+00, 1.40644939e+00,\n",
       "       7.07427327e-01, 4.92468387e-01, 2.73110250e-01, 9.44312377e-01,\n",
       "       1.46498185e+00, 2.14110013e+00, 1.49679430e+00, 1.84629849e+00,\n",
       "       2.75508121e+00, 2.46644402e+00, 8.12771200e-01, 5.38910974e+00,\n",
       "       1.48151631e+00, 2.14238071e+00, 1.86609115e-01, 5.26609318e-01,\n",
       "       3.69915249e-01, 1.90914900e+00, 3.77486250e+00, 6.68450689e-01,\n",
       "       3.35295250e+00, 1.41527683e+00, 2.03467966e+00, 1.20992182e+03,\n",
       "       1.16834712e+00, 1.52528851e+00, 1.43901032e+00, 1.07876047e+00,\n",
       "       1.25072028e+01, 1.76702748e+00, 1.65771121e+00, 6.75746769e-01,\n",
       "       2.03860333e-01, 6.54342926e-01, 2.47341449e+00, 1.26184196e+01,\n",
       "       3.40294590e+00, 8.70480546e-01, 5.86118590e-01, 1.85017429e+00,\n",
       "       1.27321535e+00, 9.12559579e-01, 8.47597032e-01, 7.59498435e-01,\n",
       "       8.84992847e+00, 1.20557558e+00, 2.17362675e+00, 1.07440220e+01,\n",
       "       9.82525296e-01, 3.75112377e+00, 3.50605747e+00, 1.16533171e+00,\n",
       "       2.57856826e+00, 1.21960390e+00, 1.28626466e+00, 1.47090216e+00,\n",
       "       2.19713785e+00, 6.90017676e-01, 4.96674272e-01, 1.67857810e+00,\n",
       "       1.06298612e+01, 1.53888341e+00, 1.21048474e+00, 1.74156333e+00,\n",
       "       1.33927519e+00, 1.14863796e+00, 5.50850062e-01, 1.00008681e+00,\n",
       "       1.62005216e+00, 2.87124330e+00, 1.34103445e+00, 2.06596828e+00,\n",
       "       1.48117955e+00, 1.33814369e+00, 1.80098974e+00, 3.00517697e+00,\n",
       "       3.12673401e-01, 4.29708704e-01, 9.80549559e-01, 3.21557039e+00,\n",
       "       1.49819992e+00, 1.20458113e+00, 9.26184508e-01, 1.34828469e+00,\n",
       "       5.07995900e-01, 2.73368146e+00, 3.90103542e+00, 1.14851270e+00,\n",
       "       1.13410007e+00, 1.23431954e+00, 4.23369030e+00, 1.55535711e+00,\n",
       "       3.74951943e+00, 7.17022856e-01, 2.22277874e+00, 4.82527209e+00,\n",
       "       9.91905270e+01, 1.58305606e+00, 5.30699643e+00, 2.20284962e+01,\n",
       "       3.98887482e+00, 8.52498186e-01, 1.87881654e+00, 1.45522677e+00,\n",
       "       2.30956637e-01, 1.47961526e+00, 3.90148361e+00, 1.67847102e+00,\n",
       "       6.17691008e-01, 3.77492452e+00, 1.03156765e+00, 1.31420148e+00,\n",
       "       2.36675022e+00, 2.00769660e+00, 6.47248617e-01, 6.19806860e+00,\n",
       "       2.28723888e+00, 8.53239508e-01, 1.87214816e+00, 7.44416965e+00,\n",
       "       2.53201035e+00, 8.75684804e-01, 1.82460757e+00, 1.05021879e+00,\n",
       "       1.26963362e+00, 9.20266516e+00, 1.68331759e+00, 1.18811429e+00,\n",
       "       1.19876657e+00, 7.53559085e-01, 9.30911688e-01, 8.69110696e-01,\n",
       "       8.00708773e+00, 1.88819532e+00, 6.32012014e-01, 6.12277794e-01,\n",
       "       1.24933144e+00, 7.92549546e-01, 1.23397182e+00, 2.42746665e+00,\n",
       "       3.61644088e+00, 6.00844686e-01, 1.06927281e+00, 6.71487967e-01,\n",
       "       1.09179786e+00, 8.52302058e-01, 2.86063308e+00, 5.66231237e-01,\n",
       "       2.38967158e+00, 6.45791266e+00, 2.12495966e+00, 8.91071048e-01,\n",
       "       9.96251956e-01, 3.16734278e+00, 1.62686354e+00, 1.74011711e+00,\n",
       "       9.39897209e-01, 7.71103000e-01, 2.71841991e+00, 1.64390891e+00,\n",
       "       4.86555335e+00, 1.91930001e+00, 2.54278370e+00, 1.09219970e+00,\n",
       "       3.84320658e+00, 1.01634246e+00, 5.66319843e+00, 1.14161855e+00,\n",
       "       1.13228548e+00, 1.76660089e+00, 2.27684991e+00, 1.26387783e+00,\n",
       "       1.45008111e+00, 6.42028475e+00, 7.59211370e-01, 1.64673171e+00,\n",
       "       7.19073742e+01, 2.63752738e+00, 2.99368309e+00, 3.08648343e+00,\n",
       "       4.16505276e-01, 1.04228394e+00, 2.37961985e+00, 2.87413211e+00,\n",
       "       8.47807213e-01, 1.95615787e+00, 7.99511807e-01, 1.12278111e+00,\n",
       "       1.28137158e+00, 2.23874295e+00, 3.54671373e+01, 2.59983874e+00,\n",
       "       1.21739272e+00, 1.11938067e+00, 2.70954704e+00, 8.89598569e+00,\n",
       "       6.01684473e+00, 6.89504986e-01, 1.74889500e+00, 1.92294719e+01,\n",
       "       7.13291884e-01, 2.26353114e+00, 2.79559124e+00, 9.90567097e-01,\n",
       "       8.98724338e-01, 8.44437754e-01, 2.51459685e+00, 1.57123339e-01,\n",
       "       9.34635518e-01, 1.23873918e+00, 1.13333921e+00, 1.38155452e+00,\n",
       "       7.70172133e+00, 8.44121537e-01, 1.26059560e+00, 1.14976537e+00,\n",
       "       1.11745113e+01, 1.54650361e+00, 1.76726373e+00, 2.09745395e+00,\n",
       "       1.59446579e+00, 1.01791040e+00, 3.97531882e-01, 7.52938726e-01,\n",
       "       8.16391495e+00, 2.07602853e+00, 7.43267898e-01, 1.32524215e+00,\n",
       "       1.04613078e+00, 5.01669246e-01, 1.20413069e+01, 6.71091432e-01,\n",
       "       6.66246560e-01, 1.07726470e+00, 1.22296575e+01, 2.14730715e+01,\n",
       "       7.70480266e-01, 6.44636496e+00, 1.67246762e+00, 1.52708234e+00,\n",
       "       3.14127984e+00, 1.45702643e+00, 2.14025792e+00, 2.13048869e+00,\n",
       "       3.98933420e-01, 1.12528802e+00, 1.73903706e+00, 9.64671521e-01,\n",
       "       1.78604758e+00, 5.08359118e-01, 1.92009525e+00, 6.31395081e-01,\n",
       "       1.29481199e+00, 1.73710711e+00, 1.81391330e+00, 8.72516880e-01,\n",
       "       8.45275828e-01, 3.51165706e-02, 1.67185504e+00, 1.35412142e+00,\n",
       "       2.94659580e+00, 2.43937023e+00, 1.31872823e+00, 5.09151310e+00,\n",
       "       1.61722780e+00, 1.65494558e+00, 7.35294381e-01, 1.83473081e-01,\n",
       "       1.25837270e+00, 2.26329368e+00, 7.76585635e+01, 4.48274748e-01,\n",
       "       2.05228203e+00, 1.21745383e+00, 1.75395501e+00, 1.15088282e+00,\n",
       "       6.61795404e-01, 2.91956248e+00, 1.15586354e+00, 1.38740112e+00,\n",
       "       1.13521874e+00, 2.24921129e+00, 1.62379734e+00, 2.27679605e+00,\n",
       "       1.73157359e+00, 2.75950125e+01, 8.99710776e-01, 1.47687643e+00,\n",
       "       5.01756583e+00, 2.43634072e+00, 2.46491629e+00, 8.99624544e-01,\n",
       "       3.30108097e+00, 1.03006888e+00, 8.10186072e-01, 5.11680096e+00,\n",
       "       2.95318823e+00, 1.30521787e+00, 1.84182969e+00, 6.70572541e-01,\n",
       "       2.42809349e+00, 7.21217941e-01, 7.17964900e+00, 1.08188237e+00,\n",
       "       6.17391362e-01, 8.57089767e-01, 2.84863149e+00, 2.15014227e+00,\n",
       "       5.09823257e+00, 1.54062427e+00, 1.25363617e+00, 1.49286123e+00,\n",
       "       1.37978327e+00, 1.77774648e+00, 3.23280011e-01, 1.52079648e+00,\n",
       "       8.84724401e-01, 1.95025188e+01, 6.12155189e-01, 1.22189927e+00,\n",
       "       2.57129579e-01, 3.68540810e+00, 1.64240065e+00, 1.48749571e+00,\n",
       "       1.94614045e+00, 4.83027605e+00, 1.12182448e+00, 8.67639731e-01,\n",
       "       1.61491913e+00, 2.57296385e+00, 1.91179943e+00, 3.63061080e+00,\n",
       "       2.56088932e+00, 4.49626911e+00, 3.80193034e-01, 4.17584849e-01,\n",
       "       3.92362609e-01, 4.83502338e+01, 4.23289493e-01, 2.66993673e+00,\n",
       "       7.65632426e-01, 2.06335598e+00, 8.46912332e-01, 3.21153932e+00,\n",
       "       2.85623558e+00, 9.55997283e-01, 1.87036788e+00, 2.43416423e+00,\n",
       "       1.15901177e+00, 1.36313146e+00, 1.73464362e+00, 7.69797277e-01,\n",
       "       2.20304183e+00, 1.32047964e+00, 7.05875278e-01, 1.06183821e+00,\n",
       "       1.90539687e+00, 3.64883334e+00, 1.39950910e+00, 2.36142112e+01,\n",
       "       7.61385900e-01, 7.17308757e-01, 2.06840972e+00, 7.84521797e-02,\n",
       "       6.98007022e+01, 2.97112968e+00, 3.78893781e-02, 9.33261849e-01,\n",
       "       1.28767315e+01, 1.52076237e+00, 2.49967907e+00, 8.26452228e-01])"
      ]
     },
     "execution_count": 23,
     "metadata": {},
     "output_type": "execute_result"
    }
   ],
   "source": [
    "t[:, 2]"
   ]
  },
  {
   "cell_type": "code",
   "execution_count": null,
   "metadata": {},
   "outputs": [],
   "source": []
  }
 ],
 "metadata": {
  "kernelspec": {
   "display_name": "Python 3",
   "language": "python",
   "name": "python3"
  },
  "language_info": {
   "codemirror_mode": {
    "name": "ipython",
    "version": 3
   },
   "file_extension": ".py",
   "mimetype": "text/x-python",
   "name": "python",
   "nbconvert_exporter": "python",
   "pygments_lexer": "ipython3",
   "version": "3.7.3"
  }
 },
 "nbformat": 4,
 "nbformat_minor": 2
}
