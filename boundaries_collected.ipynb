{
 "cells": [
  {
   "cell_type": "code",
   "execution_count": null,
   "metadata": {},
   "outputs": [],
   "source": [
    "# External \n",
    "import scipy as scp\n",
    "import tensorflow as tf\n",
    "from scipy.stats import gamma\n",
    "import numpy as np\n",
    "import pandas as pd\n",
    "import matplotlib.pyplot as plt\n",
    "from sklearn.neighbors import KernelDensity\n",
    "import random\n",
    "import multiprocessing as mp\n",
    "import psutil\n",
    "import pickle \n",
    "import os\n",
    "import re\n",
    "\n",
    "# Own\n",
    "import kde_training_utilities as kde_util\n",
    "import kde_class as kde\n",
    "import ddm_data_simulation as ddm_sim"
   ]
  },
  {
   "cell_type": "code",
   "execution_count": null,
   "metadata": {},
   "outputs": [],
   "source": [
    "# Simulate: RACE MODEL\n",
    "def my_boundary_race(t = 0, height = 1):\n",
    "    return height\n",
    "\n",
    "# Get samples\n",
    "my_samples_race  = ddm_sim.race_model(v = np.array([1, 0.5, 0, 0, 0], ndmin = 2).T,\n",
    "                                      w = np.array([0, 0, 0, 0, 0], ndmin = 2).T, \n",
    "                                      s = 1,\n",
    "                                      delta_t = 0.001,\n",
    "                                      max_t = 20,\n",
    "                                      n_samples = 3000,\n",
    "                                      print_info = True,\n",
    "                                      boundary_fun = my_boundary_race,\n",
    "                                      height = 2)"
   ]
  },
  {
   "cell_type": "code",
   "execution_count": null,
   "metadata": {},
   "outputs": [],
   "source": [
    "# Define boundary functions\n",
    "def gamma_shape_scale(t = 1,\n",
    "                      shape = 1.01,\n",
    "                      scale = 1):\n",
    "    return gamma.pdf(t, a = shape, scale = scale)"
   ]
  },
  {
   "cell_type": "code",
   "execution_count": null,
   "metadata": {},
   "outputs": [],
   "source": [
    "# Exponential decay (c2) with decay starting point (c1)\n",
    "def exp_c1_c2(t = 1, \n",
    "              c1 = 1,\n",
    "              c2 = 1):\n",
    "    \n",
    "    b = np.exp(- c2*(t-c1))\n",
    "    \n",
    "    if t >= c1:\n",
    "        \n",
    "        return b\n",
    "        \n",
    "    else:\n",
    "        return 1"
   ]
  },
  {
   "cell_type": "code",
   "execution_count": null,
   "metadata": {},
   "outputs": [],
   "source": [
    "# Linear collapse\n",
    "def linear_collapse(t = 1, \n",
    "                    node = 1,\n",
    "                    theta = 1):\n",
    "    if t >= node:\n",
    "        return (t - node) * (- np.sin(theta) / np.cos(theta))\n",
    "    else:\n",
    "        return 0"
   ]
  },
  {
   "cell_type": "code",
   "execution_count": null,
   "metadata": {},
   "outputs": [],
   "source": [
    "# Logistic\n",
    "def logistic_bound(t = 1,\n",
    "                   node = 1,\n",
    "                   k = 1,\n",
    "                   midpoint = 1,\n",
    "                   max_val  = 3):\n",
    "    \n",
    "    return - (max_val / (1 + np.exp(- k * ((t - midpoint)))))\n"
   ]
  },
  {
   "cell_type": "code",
   "execution_count": null,
   "metadata": {},
   "outputs": [],
   "source": [
    "# Generalized logistic bound\n",
    "def generalized_logistic_bnd(t = 1, \n",
    "                             B = 2.,\n",
    "                             M = 3.,\n",
    "                             v = 0.5):\n",
    "    return 1 - (1 / np.power(1 + np.exp(- B * (t - M)), 1 / v))"
   ]
  },
  {
   "cell_type": "code",
   "execution_count": null,
   "metadata": {},
   "outputs": [],
   "source": [
    "# Plot boundary multiplicative\n",
    "t_s = np.arange(0, 20, 0.01)\n",
    "boundary = np.zeros((len(t_s),2))\n",
    "\n",
    "a = 3\n",
    "node = 1\n",
    "for v in np.arange(0.1, 1.11, 0.5):\n",
    "    for B in np.arange(3, 4, 1):\n",
    "        cnt = 0\n",
    "        for i in t_s:\n",
    "            b = a * generalized_logistic_bnd(t = i,\n",
    "                                             B = 1,\n",
    "                                             v = v, \n",
    "                                             M = 1)   #B = B)\n",
    "            #print(b)\n",
    "            if b <= 0:\n",
    "                boundary[cnt, 0] = 0\n",
    "                boundary[cnt, 1] = 0\n",
    "            else: \n",
    "                boundary[cnt, 0] = b\n",
    "                boundary[cnt, 1] = - boundary[cnt, 0]\n",
    "            cnt += 1\n",
    "\n",
    "        plt.plot(t_s, boundary[:, 0])\n",
    "        plt.plot(t_s, boundary[:, 1]) "
   ]
  },
  {
   "cell_type": "code",
   "execution_count": null,
   "metadata": {},
   "outputs": [],
   "source": [
    "# Plot boundary additive\n",
    "t_s = np.arange(0, 1.5, 0.01)\n",
    "boundary = np.zeros((len(t_s),2))\n",
    "\n",
    "a = 1\n",
    "node = 1\n",
    "for a in range(1, 2, 1):\n",
    "    for theta in np.arange(0.01, (1/2 * np.pi), 0.1):\n",
    "        cnt = 0\n",
    "        for i in t_s:\n",
    "            b = a + linear_collapse(t = i, node = node, theta = theta)\n",
    "            if b <= 0:\n",
    "                boundary[cnt, 1] = 0\n",
    "                boundary[cnt, 0] = 0\n",
    "            else: \n",
    "                boundary[cnt, 1] = b\n",
    "                boundary[cnt, 0] = - b\n",
    "            cnt += 1\n",
    "\n",
    "        plt.plot(t_s, boundary[:, 0])\n",
    "        plt.plot(t_s, boundary[:, 1]) "
   ]
  },
  {
   "cell_type": "code",
   "execution_count": null,
   "metadata": {},
   "outputs": [],
   "source": [
    "# Simulations\n",
    "my_samples_flexb  = ddm_sim.ddm_flexbound_simulate(v = 0.5,\n",
    "                                                   a = 5,\n",
    "                                                   w = 0.5, \n",
    "                                                   s = 1,\n",
    "                                                   delta_t = 0.001,\n",
    "                                                   max_t = 20,\n",
    "                                                   n_samples = 1000,\n",
    "                                                   print_info = True,\n",
    "                                                   boundary_fun = linear_collapse,\n",
    "                                                   boundary_multiplicative = False,\n",
    "                                                   boundary_params = {'node': 0.1, 'theta': 1}\n",
    "                                                   )"
   ]
  }
 ],
 "metadata": {
  "kernelspec": {
   "display_name": "Python 3",
   "language": "python",
   "name": "python3"
  },
  "language_info": {
   "codemirror_mode": {
    "name": "ipython",
    "version": 3
   },
   "file_extension": ".py",
   "mimetype": "text/x-python",
   "name": "python",
   "nbconvert_exporter": "python",
   "pygments_lexer": "ipython3",
   "version": "3.7.2"
  }
 },
 "nbformat": 4,
 "nbformat_minor": 2
}
