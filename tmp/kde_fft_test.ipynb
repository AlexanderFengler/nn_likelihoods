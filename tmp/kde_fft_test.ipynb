{
 "cells": [
  {
   "cell_type": "code",
   "execution_count": 337,
   "metadata": {},
   "outputs": [],
   "source": [
    "import numpy as np\n",
    "import scipy as scp\n",
    "from scipy.interpolate import interp1d\n",
    "from scipy.stats import binned_statistic\n",
    "from scipy.fftpack import fft\n",
    "from scipy.fftpack import ifft\n",
    "from scipy.fftpack import rfft\n",
    "from scipy.fftpack import irfft\n",
    "from scipy.fftpack import fftshift\n",
    "import matplotlib.pyplot as plt"
   ]
  },
  {
   "cell_type": "code",
   "execution_count": 376,
   "metadata": {},
   "outputs": [],
   "source": [
    "# Calculate once\n",
    "N = 4096 * 4\n",
    "bins = np.linspace(5, 15, N + 1)\n",
    "d_bins = bins[2] - bins[1]\n",
    "bin_means = np.array([(bins[i] + bins[i - 1]) / 2 for i in range(1, len(bins))])\n",
    "freq = (1 / (d_bins * N) * bin_means * N)\n",
    "freq -= np.mean(freq)\n",
    "h = 0.1\n",
    "norm_ft = scp.stats.norm.pdf(freq * h, loc = 0, scale = 1)\n",
    "\n",
    "#x_discrete = bins[np.digitize(x, bins, right = False)]"
   ]
  },
  {
   "cell_type": "code",
   "execution_count": 377,
   "metadata": {},
   "outputs": [],
   "source": [
    "x = np.random.normal(size = 100000, loc = 10, scale = 0.5)"
   ]
  },
  {
   "cell_type": "code",
   "execution_count": 378,
   "metadata": {},
   "outputs": [
    {
     "data": {
      "text/plain": [
       "array([0.00000000e+00, 3.38813179e-21, 1.10114283e-20, ...,\n",
       "       9.72820056e-17, 1.33238329e-18, 6.10936775e-20])"
      ]
     },
     "execution_count": 378,
     "metadata": {},
     "output_type": "execute_result"
    }
   ],
   "source": [
    "#%%timeit -r 5\n",
    "# N = len(x_counts)\n",
    "# Get samples (we can assume samples having come binned)\n",
    "x_counts, _ = np.histogram(x, bins = bins)\n",
    "\n",
    "# Compute fft\n",
    "x_ft = fftshift(fft(x_counts / len(x))) \n",
    "kde = ifft(norm_ft * x_ft * np.sqrt(2 * np.pi))\n",
    "\n",
    "# # Compute interpolation function\n",
    "f = interp1d(bin_means, np.abs(np.real(kde)), copy = False, assume_sorted = True)\n",
    "f(x_interpolate)\n",
    "#L = np.arange(int(np.floor(N / 2)))"
   ]
  },
  {
   "cell_type": "code",
   "execution_count": 302,
   "metadata": {},
   "outputs": [
    {
     "data": {
      "text/plain": [
       "<matplotlib.collections.PathCollection at 0x7f1c12518be0>"
      ]
     },
     "execution_count": 302,
     "metadata": {},
     "output_type": "execute_result"
    },
    {
     "data": {
      "image/png": "[encoded data removed]",
      "text/plain": [
       "<Figure size 432x288 with 1 Axes>"
      ]
     },
     "metadata": {
      "needs_background": "light"
     },
     "output_type": "display_data"
    }
   ],
   "source": [
    "psd = x_ft * x_ft.conjugate() \n",
    "plt.scatter(freq, np.real(psd))"
   ]
  },
  {
   "cell_type": "code",
   "execution_count": 332,
   "metadata": {},
   "outputs": [],
   "source": [
    "x_counts, _ = np.histogram(x, bins = bins)"
   ]
  },
  {
   "cell_type": "code",
   "execution_count": 333,
   "metadata": {},
   "outputs": [
    {
     "data": {
      "text/plain": [
       "(16384,)"
      ]
     },
     "execution_count": 333,
     "metadata": {},
     "output_type": "execute_result"
    }
   ],
   "source": [
    "# Perform inverse fourier transform\n",
    "x_counts.shape"
   ]
  },
  {
   "cell_type": "code",
   "execution_count": 379,
   "metadata": {},
   "outputs": [
    {
     "data": {
      "text/plain": [
       "[<matplotlib.lines.Line2D at 0x7f1c100de710>]"
      ]
     },
     "execution_count": 379,
     "metadata": {},
     "output_type": "execute_result"
    },
    {
     "data": {
      "image/png": "[encoded data removed]",
      "text/plain": [
       "<Figure size 432x288 with 1 Axes>"
      ]
     },
     "metadata": {
      "needs_background": "light"
     },
     "output_type": "display_data"
    }
   ],
   "source": [
    "plt.plot(bin_means, np.real(abs(kde)), alpha = 0.3)\n",
    "plt.plot(bin_means, x_counts / len(x), alpha = 0.2, color = 'green')"
   ]
  },
  {
   "cell_type": "code",
   "execution_count": 225,
   "metadata": {},
   "outputs": [
    {
     "data": {
      "text/plain": [
       "[<matplotlib.lines.Line2D at 0x7f1c12e57fd0>]"
      ]
     },
     "execution_count": 225,
     "metadata": {},
     "output_type": "execute_result"
    },
    {
     "data": {
      "image/png": "[encoded data removed]",
      "text/plain": [
       "<Figure size 432x288 with 1 Axes>"
      ]
     },
     "metadata": {
      "needs_background": "light"
     },
     "output_type": "display_data"
    }
   ],
   "source": [
    "plt.plot(bin_means, x_counts / len(x), alpha = 0.2, color = 'green')"
   ]
  },
  {
   "cell_type": "code",
   "execution_count": 15,
   "metadata": {},
   "outputs": [
    {
     "data": {
      "text/plain": [
       "(array([  0,   0,   0,   0,   0,   0,   0,   0,   0,   0,   0,   0,   0,\n",
       "          0,   0,   0,   0,   0,   0,   0,   0,   0,   0,   0,   0,   0,\n",
       "          0,   0,   0,   0,   0,   0,   0,   0,   0,   0,   0,   0,   0,\n",
       "          0,   0,   0,   0,   0,   0,   0,   0,   0,   0,   0,   0,   0,\n",
       "          0,   0,   0,   0,   0,   0,   0,   0,   0,   0,   0,   0,   0,\n",
       "          0,   0,   0,   0,   0,   0,   0,   0,   0,   0,   0,   0,   0,\n",
       "          1,   0,   0,   2,   1,   1,   1,   1,   4,   1,   2,   6,   6,\n",
       "          8,  12,   6,  15,  13,  18,  24,  28,  25,  35,  47,  44,  59,\n",
       "         51,  62,  76,  91,  98, 126, 132, 143, 139, 170, 174, 192, 192,\n",
       "        226, 241, 253, 270, 309, 316, 295, 284, 307, 304, 303, 285, 344,\n",
       "        322, 302, 274, 307, 261, 259, 257, 222, 231, 199, 196, 171, 163,\n",
       "        142, 133, 122,  89,  89,  74,  72,  62,  49,  42,  44,  30,  25,\n",
       "         28,  22,  15,   7,  13,   7,   9,   1,   4,   5,   1,   4,   0,\n",
       "          1,   1,   0,   0,   0,   0,   0,   0,   0,   1,   1,   0,   0,\n",
       "          0,   0,   0,   0,   0,   0,   0,   0,   0,   0,   0,   0,   0,\n",
       "          0,   0,   0,   0,   0,   0,   0,   0,   0,   0,   0,   0,   0,\n",
       "          0,   0,   0,   0,   0,   0,   0,   0,   0,   0,   0,   0,   0,\n",
       "          0,   0,   0,   0,   0,   0,   0,   0,   0,   0,   0,   0,   0,\n",
       "          0,   0,   0,   0,   0,   0,   0,   0,   0,   0,   0,   0,   0,\n",
       "          0,   0,   0,   0,   0,   0,   0,   0]),\n",
       " array([-10.        ,  -9.92156863,  -9.84313725,  -9.76470588,\n",
       "         -9.68627451,  -9.60784314,  -9.52941176,  -9.45098039,\n",
       "         -9.37254902,  -9.29411765,  -9.21568627,  -9.1372549 ,\n",
       "         -9.05882353,  -8.98039216,  -8.90196078,  -8.82352941,\n",
       "         -8.74509804,  -8.66666667,  -8.58823529,  -8.50980392,\n",
       "         -8.43137255,  -8.35294118,  -8.2745098 ,  -8.19607843,\n",
       "         -8.11764706,  -8.03921569,  -7.96078431,  -7.88235294,\n",
       "         -7.80392157,  -7.7254902 ,  -7.64705882,  -7.56862745,\n",
       "         -7.49019608,  -7.41176471,  -7.33333333,  -7.25490196,\n",
       "         -7.17647059,  -7.09803922,  -7.01960784,  -6.94117647,\n",
       "         -6.8627451 ,  -6.78431373,  -6.70588235,  -6.62745098,\n",
       "         -6.54901961,  -6.47058824,  -6.39215686,  -6.31372549,\n",
       "         -6.23529412,  -6.15686275,  -6.07843137,  -6.        ,\n",
       "         -5.92156863,  -5.84313725,  -5.76470588,  -5.68627451,\n",
       "         -5.60784314,  -5.52941176,  -5.45098039,  -5.37254902,\n",
       "         -5.29411765,  -5.21568627,  -5.1372549 ,  -5.05882353,\n",
       "         -4.98039216,  -4.90196078,  -4.82352941,  -4.74509804,\n",
       "         -4.66666667,  -4.58823529,  -4.50980392,  -4.43137255,\n",
       "         -4.35294118,  -4.2745098 ,  -4.19607843,  -4.11764706,\n",
       "         -4.03921569,  -3.96078431,  -3.88235294,  -3.80392157,\n",
       "         -3.7254902 ,  -3.64705882,  -3.56862745,  -3.49019608,\n",
       "         -3.41176471,  -3.33333333,  -3.25490196,  -3.17647059,\n",
       "         -3.09803922,  -3.01960784,  -2.94117647,  -2.8627451 ,\n",
       "         -2.78431373,  -2.70588235,  -2.62745098,  -2.54901961,\n",
       "         -2.47058824,  -2.39215686,  -2.31372549,  -2.23529412,\n",
       "         -2.15686275,  -2.07843137,  -2.        ,  -1.92156863,\n",
       "         -1.84313725,  -1.76470588,  -1.68627451,  -1.60784314,\n",
       "         -1.52941176,  -1.45098039,  -1.37254902,  -1.29411765,\n",
       "         -1.21568627,  -1.1372549 ,  -1.05882353,  -0.98039216,\n",
       "         -0.90196078,  -0.82352941,  -0.74509804,  -0.66666667,\n",
       "         -0.58823529,  -0.50980392,  -0.43137255,  -0.35294118,\n",
       "         -0.2745098 ,  -0.19607843,  -0.11764706,  -0.03921569,\n",
       "          0.03921569,   0.11764706,   0.19607843,   0.2745098 ,\n",
       "          0.35294118,   0.43137255,   0.50980392,   0.58823529,\n",
       "          0.66666667,   0.74509804,   0.82352941,   0.90196078,\n",
       "          0.98039216,   1.05882353,   1.1372549 ,   1.21568627,\n",
       "          1.29411765,   1.37254902,   1.45098039,   1.52941176,\n",
       "          1.60784314,   1.68627451,   1.76470588,   1.84313725,\n",
       "          1.92156863,   2.        ,   2.07843137,   2.15686275,\n",
       "          2.23529412,   2.31372549,   2.39215686,   2.47058824,\n",
       "          2.54901961,   2.62745098,   2.70588235,   2.78431373,\n",
       "          2.8627451 ,   2.94117647,   3.01960784,   3.09803922,\n",
       "          3.17647059,   3.25490196,   3.33333333,   3.41176471,\n",
       "          3.49019608,   3.56862745,   3.64705882,   3.7254902 ,\n",
       "          3.80392157,   3.88235294,   3.96078431,   4.03921569,\n",
       "          4.11764706,   4.19607843,   4.2745098 ,   4.35294118,\n",
       "          4.43137255,   4.50980392,   4.58823529,   4.66666667,\n",
       "          4.74509804,   4.82352941,   4.90196078,   4.98039216,\n",
       "          5.05882353,   5.1372549 ,   5.21568627,   5.29411765,\n",
       "          5.37254902,   5.45098039,   5.52941176,   5.60784314,\n",
       "          5.68627451,   5.76470588,   5.84313725,   5.92156863,\n",
       "          6.        ,   6.07843137,   6.15686275,   6.23529412,\n",
       "          6.31372549,   6.39215686,   6.47058824,   6.54901961,\n",
       "          6.62745098,   6.70588235,   6.78431373,   6.8627451 ,\n",
       "          6.94117647,   7.01960784,   7.09803922,   7.17647059,\n",
       "          7.25490196,   7.33333333,   7.41176471,   7.49019608,\n",
       "          7.56862745,   7.64705882,   7.7254902 ,   7.80392157,\n",
       "          7.88235294,   7.96078431,   8.03921569,   8.11764706,\n",
       "          8.19607843,   8.2745098 ,   8.35294118,   8.43137255,\n",
       "          8.50980392,   8.58823529,   8.66666667,   8.74509804,\n",
       "          8.82352941,   8.90196078,   8.98039216,   9.05882353,\n",
       "          9.1372549 ,   9.21568627,   9.29411765,   9.37254902,\n",
       "          9.45098039,   9.52941176,   9.60784314,   9.68627451,\n",
       "          9.76470588,   9.84313725,   9.92156863,  10.        ]))"
      ]
     },
     "execution_count": 15,
     "metadata": {},
     "output_type": "execute_result"
    }
   ],
   "source": [
    "np.histogram(x, bins = bins)"
   ]
  },
  {
   "cell_type": "code",
   "execution_count": 232,
   "metadata": {},
   "outputs": [],
   "source": [
    "N = len(x_counts)\n",
    "x_ft = rfft(x_counts / len(x))\n",
    "psd = x_ft * x_ft.conjugate() \n",
    "freq = (1 / (d_bins * N) * bin_means * N)\n",
    "#freq -= np.mean(freq) \n",
    "#L = np.arange(int(np.floor(N / 2)))"
   ]
  },
  {
   "cell_type": "code",
   "execution_count": 251,
   "metadata": {},
   "outputs": [
    {
     "data": {
      "text/plain": [
       "-0.0006382633442377949"
      ]
     },
     "execution_count": 251,
     "metadata": {},
     "output_type": "execute_result"
    }
   ],
   "source": [
    "x_ft[40]"
   ]
  },
  {
   "cell_type": "code",
   "execution_count": 233,
   "metadata": {},
   "outputs": [
    {
     "data": {
      "text/plain": [
       "<matplotlib.collections.PathCollection at 0x7f1c12cd6160>"
      ]
     },
     "execution_count": 233,
     "metadata": {},
     "output_type": "execute_result"
    },
    {
     "data": {
      "image/png": "[encoded data removed]",
      "text/plain": [
       "<Figure size 432x288 with 1 Axes>"
      ]
     },
     "metadata": {
      "needs_background": "light"
     },
     "output_type": "display_data"
    }
   ],
   "source": [
    "plt.scatter(freq, np.real(psd))"
   ]
  },
  {
   "cell_type": "code",
   "execution_count": 234,
   "metadata": {},
   "outputs": [],
   "source": [
    "h = 0.1\n",
    "norm_ft = scp.stats.norm.pdf(freq * h, loc = 0, scale = 1)"
   ]
  },
  {
   "cell_type": "code",
   "execution_count": 237,
   "metadata": {},
   "outputs": [],
   "source": [
    "kde = irfft(norm_ft * x_ft)"
   ]
  },
  {
   "cell_type": "code",
   "execution_count": 238,
   "metadata": {},
   "outputs": [
    {
     "data": {
      "text/plain": [
       "[<matplotlib.lines.Line2D at 0x7f1c12c7def0>]"
      ]
     },
     "execution_count": 238,
     "metadata": {},
     "output_type": "execute_result"
    },
    {
     "data": {
      "image/png": "[encoded data removed]",
      "text/plain": [
       "<Figure size 432x288 with 1 Axes>"
      ]
     },
     "metadata": {
      "needs_background": "light"
     },
     "output_type": "display_data"
    }
   ],
   "source": [
    "plt.plot(bin_means, kde * np.sqrt(2 * np.pi), alpha = 0.3)\n",
    "plt.plot(bin_means, x_counts / len(x), alpha = 0.2, color = 'green')\n",
    "#plt.hist(x, bins = bins, alpha = 0.2, density = True)"
   ]
  },
  {
   "cell_type": "code",
   "execution_count": 306,
   "metadata": {},
   "outputs": [
    {
     "data": {
      "text/plain": [
       "array([ 5.        ,  5.00244141,  5.00488281, ..., 14.99511719,\n",
       "       14.99755859, 15.        ])"
      ]
     },
     "execution_count": 306,
     "metadata": {},
     "output_type": "execute_result"
    }
   ],
   "source": [
    "_"
   ]
  },
  {
   "cell_type": "code",
   "execution_count": 309,
   "metadata": {},
   "outputs": [
    {
     "data": {
      "text/plain": [
       "4096"
      ]
     },
     "execution_count": 309,
     "metadata": {},
     "output_type": "execute_result"
    }
   ],
   "source": [
    "N"
   ]
  },
  {
   "cell_type": "code",
   "execution_count": 346,
   "metadata": {},
   "outputs": [],
   "source": []
  },
  {
   "cell_type": "code",
   "execution_count": 356,
   "metadata": {},
   "outputs": [],
   "source": [
    "x_interpolate = np.sort(np.random.normal(size = 10000, loc = 10))\n"
   ]
  },
  {
   "cell_type": "code",
   "execution_count": 352,
   "metadata": {},
   "outputs": [
    {
     "data": {
      "text/plain": [
       "[<matplotlib.lines.Line2D at 0x7f1c1018a1d0>]"
      ]
     },
     "execution_count": 352,
     "metadata": {},
     "output_type": "execute_result"
    },
    {
     "data": {
      "image/png": "[encoded data removed]",
      "text/plain": [
       "<Figure size 432x288 with 1 Axes>"
      ]
     },
     "metadata": {
      "needs_background": "light"
     },
     "output_type": "display_data"
    }
   ],
   "source": [
    "plt.plot(x_interpolate, f(x_interpolate),)"
   ]
  },
  {
   "cell_type": "code",
   "execution_count": 360,
   "metadata": {},
   "outputs": [
    {
     "name": "stdout",
     "output_type": "stream",
     "text": [
      "312 µs ± 105 ns per loop (mean ± std. dev. of 5 runs, 1000 loops each)\n"
     ]
    }
   ],
   "source": [
    "%%timeit -r 5\n"
   ]
  },
  {
   "cell_type": "code",
   "execution_count": 386,
   "metadata": {},
   "outputs": [],
   "source": [
    "t = np.random.normal(size = 10000)"
   ]
  },
  {
   "cell_type": "code",
   "execution_count": 406,
   "metadata": {},
   "outputs": [
    {
     "ename": "ValueError",
     "evalue": "Number of samples, -4, must be non-negative.",
     "output_type": "error",
     "traceback": [
      "\u001b[0;31m---------------------------------------------------------------------------\u001b[0m",
      "\u001b[0;31mValueError\u001b[0m                                Traceback (most recent call last)",
      "\u001b[0;32m<ipython-input-406-a9bc55de2abe>\u001b[0m in \u001b[0;36m<module>\u001b[0;34m\u001b[0m\n\u001b[0;32m----> 1\u001b[0;31m \u001b[0ma\u001b[0m \u001b[0;34m=\u001b[0m \u001b[0mscp\u001b[0m\u001b[0;34m.\u001b[0m\u001b[0mstats\u001b[0m\u001b[0;34m.\u001b[0m\u001b[0mbinned_statistic\u001b[0m\u001b[0;34m(\u001b[0m\u001b[0;36m1\u001b[0m \u001b[0;34m,\u001b[0m\u001b[0mt\u001b[0m \u001b[0;34m,\u001b[0m \u001b[0mbins\u001b[0m \u001b[0;34m=\u001b[0m \u001b[0mnp\u001b[0m\u001b[0;34m.\u001b[0m\u001b[0marange\u001b[0m\u001b[0;34m(\u001b[0m\u001b[0;34m-\u001b[0m\u001b[0;36m5\u001b[0m\u001b[0;34m,\u001b[0m \u001b[0;36m5\u001b[0m\u001b[0;34m,\u001b[0m \u001b[0;36m100\u001b[0m\u001b[0;34m)\u001b[0m\u001b[0;34m,\u001b[0m \u001b[0mstatistic\u001b[0m \u001b[0;34m=\u001b[0m \u001b[0;34m'count'\u001b[0m\u001b[0;34m)\u001b[0m\u001b[0;34m\u001b[0m\u001b[0;34m\u001b[0m\u001b[0m\n\u001b[0m",
      "\u001b[0;32m~/miniconda3/envs/pytorch/lib/python3.7/site-packages/scipy/stats/_binned_statistic.py\u001b[0m in \u001b[0;36mbinned_statistic\u001b[0;34m(x, values, statistic, bins, range)\u001b[0m\n\u001b[1;32m    177\u001b[0m \u001b[0;34m\u001b[0m\u001b[0m\n\u001b[1;32m    178\u001b[0m     medians, edges, binnumbers = binned_statistic_dd(\n\u001b[0;32m--> 179\u001b[0;31m         [x], values, statistic, bins, range)\n\u001b[0m\u001b[1;32m    180\u001b[0m \u001b[0;34m\u001b[0m\u001b[0m\n\u001b[1;32m    181\u001b[0m     \u001b[0;32mreturn\u001b[0m \u001b[0mBinnedStatisticResult\u001b[0m\u001b[0;34m(\u001b[0m\u001b[0mmedians\u001b[0m\u001b[0;34m,\u001b[0m \u001b[0medges\u001b[0m\u001b[0;34m[\u001b[0m\u001b[0;36m0\u001b[0m\u001b[0;34m]\u001b[0m\u001b[0;34m,\u001b[0m \u001b[0mbinnumbers\u001b[0m\u001b[0;34m)\u001b[0m\u001b[0;34m\u001b[0m\u001b[0;34m\u001b[0m\u001b[0m\n",
      "\u001b[0;32m~/miniconda3/envs/pytorch/lib/python3.7/site-packages/scipy/stats/_binned_statistic.py\u001b[0m in \u001b[0;36mbinned_statistic_dd\u001b[0;34m(sample, values, statistic, bins, range, expand_binnumbers)\u001b[0m\n\u001b[1;32m    515\u001b[0m         \u001b[0;32mif\u001b[0m \u001b[0mnp\u001b[0m\u001b[0;34m.\u001b[0m\u001b[0misscalar\u001b[0m\u001b[0;34m(\u001b[0m\u001b[0mbins\u001b[0m\u001b[0;34m[\u001b[0m\u001b[0mi\u001b[0m\u001b[0;34m]\u001b[0m\u001b[0;34m)\u001b[0m\u001b[0;34m:\u001b[0m\u001b[0;34m\u001b[0m\u001b[0;34m\u001b[0m\u001b[0m\n\u001b[1;32m    516\u001b[0m             \u001b[0mnbin\u001b[0m\u001b[0;34m[\u001b[0m\u001b[0mi\u001b[0m\u001b[0;34m]\u001b[0m \u001b[0;34m=\u001b[0m \u001b[0mbins\u001b[0m\u001b[0;34m[\u001b[0m\u001b[0mi\u001b[0m\u001b[0;34m]\u001b[0m \u001b[0;34m+\u001b[0m \u001b[0;36m2\u001b[0m  \u001b[0;31m# +2 for outlier bins\u001b[0m\u001b[0;34m\u001b[0m\u001b[0;34m\u001b[0m\u001b[0m\n\u001b[0;32m--> 517\u001b[0;31m             \u001b[0medges\u001b[0m\u001b[0;34m[\u001b[0m\u001b[0mi\u001b[0m\u001b[0;34m]\u001b[0m \u001b[0;34m=\u001b[0m \u001b[0mnp\u001b[0m\u001b[0;34m.\u001b[0m\u001b[0mlinspace\u001b[0m\u001b[0;34m(\u001b[0m\u001b[0msmin\u001b[0m\u001b[0;34m[\u001b[0m\u001b[0mi\u001b[0m\u001b[0;34m]\u001b[0m\u001b[0;34m,\u001b[0m \u001b[0msmax\u001b[0m\u001b[0;34m[\u001b[0m\u001b[0mi\u001b[0m\u001b[0;34m]\u001b[0m\u001b[0;34m,\u001b[0m \u001b[0mnbin\u001b[0m\u001b[0;34m[\u001b[0m\u001b[0mi\u001b[0m\u001b[0;34m]\u001b[0m \u001b[0;34m-\u001b[0m \u001b[0;36m1\u001b[0m\u001b[0;34m)\u001b[0m\u001b[0;34m\u001b[0m\u001b[0;34m\u001b[0m\u001b[0m\n\u001b[0m\u001b[1;32m    518\u001b[0m         \u001b[0;32melse\u001b[0m\u001b[0;34m:\u001b[0m\u001b[0;34m\u001b[0m\u001b[0;34m\u001b[0m\u001b[0m\n\u001b[1;32m    519\u001b[0m             \u001b[0medges\u001b[0m\u001b[0;34m[\u001b[0m\u001b[0mi\u001b[0m\u001b[0;34m]\u001b[0m \u001b[0;34m=\u001b[0m \u001b[0mnp\u001b[0m\u001b[0;34m.\u001b[0m\u001b[0masarray\u001b[0m\u001b[0;34m(\u001b[0m\u001b[0mbins\u001b[0m\u001b[0;34m[\u001b[0m\u001b[0mi\u001b[0m\u001b[0;34m]\u001b[0m\u001b[0;34m,\u001b[0m \u001b[0mfloat\u001b[0m\u001b[0;34m)\u001b[0m\u001b[0;34m\u001b[0m\u001b[0;34m\u001b[0m\u001b[0m\n",
      "\u001b[0;32m~/miniconda3/envs/pytorch/lib/python3.7/site-packages/numpy/core/function_base.py\u001b[0m in \u001b[0;36mlinspace\u001b[0;34m(start, stop, num, endpoint, retstep, dtype, axis)\u001b[0m\n\u001b[1;32m    128\u001b[0m     \u001b[0mnum\u001b[0m \u001b[0;34m=\u001b[0m \u001b[0m_index_deprecate\u001b[0m\u001b[0;34m(\u001b[0m\u001b[0mnum\u001b[0m\u001b[0;34m)\u001b[0m\u001b[0;34m\u001b[0m\u001b[0;34m\u001b[0m\u001b[0m\n\u001b[1;32m    129\u001b[0m     \u001b[0;32mif\u001b[0m \u001b[0mnum\u001b[0m \u001b[0;34m<\u001b[0m \u001b[0;36m0\u001b[0m\u001b[0;34m:\u001b[0m\u001b[0;34m\u001b[0m\u001b[0;34m\u001b[0m\u001b[0m\n\u001b[0;32m--> 130\u001b[0;31m         \u001b[0;32mraise\u001b[0m \u001b[0mValueError\u001b[0m\u001b[0;34m(\u001b[0m\u001b[0;34m\"Number of samples, %s, must be non-negative.\"\u001b[0m \u001b[0;34m%\u001b[0m \u001b[0mnum\u001b[0m\u001b[0;34m)\u001b[0m\u001b[0;34m\u001b[0m\u001b[0;34m\u001b[0m\u001b[0m\n\u001b[0m\u001b[1;32m    131\u001b[0m     \u001b[0mdiv\u001b[0m \u001b[0;34m=\u001b[0m \u001b[0;34m(\u001b[0m\u001b[0mnum\u001b[0m \u001b[0;34m-\u001b[0m \u001b[0;36m1\u001b[0m\u001b[0;34m)\u001b[0m \u001b[0;32mif\u001b[0m \u001b[0mendpoint\u001b[0m \u001b[0;32melse\u001b[0m \u001b[0mnum\u001b[0m\u001b[0;34m\u001b[0m\u001b[0;34m\u001b[0m\u001b[0m\n\u001b[1;32m    132\u001b[0m \u001b[0;34m\u001b[0m\u001b[0m\n",
      "\u001b[0;31mValueError\u001b[0m: Number of samples, -4, must be non-negative."
     ]
    }
   ],
   "source": [
    "a = scp.stats.binned_statistic(1 , t , bins = np.arange(-5, 5, 100), statistic = 'count')"
   ]
  },
  {
   "cell_type": "code",
   "execution_count": 399,
   "metadata": {},
   "outputs": [
    {
     "ename": "ValueError",
     "evalue": "x and y must be the same size",
     "output_type": "error",
     "traceback": [
      "\u001b[0;31m---------------------------------------------------------------------------\u001b[0m",
      "\u001b[0;31mValueError\u001b[0m                                Traceback (most recent call last)",
      "\u001b[0;32m<ipython-input-399-a20a6aa0d43e>\u001b[0m in \u001b[0;36m<module>\u001b[0;34m\u001b[0m\n\u001b[0;32m----> 1\u001b[0;31m \u001b[0mplt\u001b[0m\u001b[0;34m.\u001b[0m\u001b[0mscatter\u001b[0m\u001b[0;34m(\u001b[0m\u001b[0ma\u001b[0m\u001b[0;34m[\u001b[0m\u001b[0;36m1\u001b[0m\u001b[0;34m]\u001b[0m\u001b[0;34m,\u001b[0m \u001b[0ma\u001b[0m\u001b[0;34m[\u001b[0m\u001b[0;36m0\u001b[0m\u001b[0;34m]\u001b[0m\u001b[0;34m)\u001b[0m\u001b[0;34m\u001b[0m\u001b[0;34m\u001b[0m\u001b[0m\n\u001b[0m",
      "\u001b[0;32m~/miniconda3/envs/pytorch/lib/python3.7/site-packages/matplotlib/pyplot.py\u001b[0m in \u001b[0;36mscatter\u001b[0;34m(x, y, s, c, marker, cmap, norm, vmin, vmax, alpha, linewidths, verts, edgecolors, plotnonfinite, data, **kwargs)\u001b[0m\n\u001b[1;32m   2839\u001b[0m         \u001b[0mverts\u001b[0m\u001b[0;34m=\u001b[0m\u001b[0mverts\u001b[0m\u001b[0;34m,\u001b[0m \u001b[0medgecolors\u001b[0m\u001b[0;34m=\u001b[0m\u001b[0medgecolors\u001b[0m\u001b[0;34m,\u001b[0m\u001b[0;34m\u001b[0m\u001b[0;34m\u001b[0m\u001b[0m\n\u001b[1;32m   2840\u001b[0m         plotnonfinite=plotnonfinite, **({\"data\": data} if data is not\n\u001b[0;32m-> 2841\u001b[0;31m         None else {}), **kwargs)\n\u001b[0m\u001b[1;32m   2842\u001b[0m     \u001b[0msci\u001b[0m\u001b[0;34m(\u001b[0m\u001b[0m__ret\u001b[0m\u001b[0;34m)\u001b[0m\u001b[0;34m\u001b[0m\u001b[0;34m\u001b[0m\u001b[0m\n\u001b[1;32m   2843\u001b[0m     \u001b[0;32mreturn\u001b[0m \u001b[0m__ret\u001b[0m\u001b[0;34m\u001b[0m\u001b[0;34m\u001b[0m\u001b[0m\n",
      "\u001b[0;32m~/miniconda3/envs/pytorch/lib/python3.7/site-packages/matplotlib/__init__.py\u001b[0m in \u001b[0;36minner\u001b[0;34m(ax, data, *args, **kwargs)\u001b[0m\n\u001b[1;32m   1587\u001b[0m     \u001b[0;32mdef\u001b[0m \u001b[0minner\u001b[0m\u001b[0;34m(\u001b[0m\u001b[0max\u001b[0m\u001b[0;34m,\u001b[0m \u001b[0;34m*\u001b[0m\u001b[0margs\u001b[0m\u001b[0;34m,\u001b[0m \u001b[0mdata\u001b[0m\u001b[0;34m=\u001b[0m\u001b[0;32mNone\u001b[0m\u001b[0;34m,\u001b[0m \u001b[0;34m**\u001b[0m\u001b[0mkwargs\u001b[0m\u001b[0;34m)\u001b[0m\u001b[0;34m:\u001b[0m\u001b[0;34m\u001b[0m\u001b[0;34m\u001b[0m\u001b[0m\n\u001b[1;32m   1588\u001b[0m         \u001b[0;32mif\u001b[0m \u001b[0mdata\u001b[0m \u001b[0;32mis\u001b[0m \u001b[0;32mNone\u001b[0m\u001b[0;34m:\u001b[0m\u001b[0;34m\u001b[0m\u001b[0;34m\u001b[0m\u001b[0m\n\u001b[0;32m-> 1589\u001b[0;31m             \u001b[0;32mreturn\u001b[0m \u001b[0mfunc\u001b[0m\u001b[0;34m(\u001b[0m\u001b[0max\u001b[0m\u001b[0;34m,\u001b[0m \u001b[0;34m*\u001b[0m\u001b[0mmap\u001b[0m\u001b[0;34m(\u001b[0m\u001b[0msanitize_sequence\u001b[0m\u001b[0;34m,\u001b[0m \u001b[0margs\u001b[0m\u001b[0;34m)\u001b[0m\u001b[0;34m,\u001b[0m \u001b[0;34m**\u001b[0m\u001b[0mkwargs\u001b[0m\u001b[0;34m)\u001b[0m\u001b[0;34m\u001b[0m\u001b[0;34m\u001b[0m\u001b[0m\n\u001b[0m\u001b[1;32m   1590\u001b[0m \u001b[0;34m\u001b[0m\u001b[0m\n\u001b[1;32m   1591\u001b[0m         \u001b[0mbound\u001b[0m \u001b[0;34m=\u001b[0m \u001b[0mnew_sig\u001b[0m\u001b[0;34m.\u001b[0m\u001b[0mbind\u001b[0m\u001b[0;34m(\u001b[0m\u001b[0max\u001b[0m\u001b[0;34m,\u001b[0m \u001b[0;34m*\u001b[0m\u001b[0margs\u001b[0m\u001b[0;34m,\u001b[0m \u001b[0;34m**\u001b[0m\u001b[0mkwargs\u001b[0m\u001b[0;34m)\u001b[0m\u001b[0;34m\u001b[0m\u001b[0;34m\u001b[0m\u001b[0m\n",
      "\u001b[0;32m~/miniconda3/envs/pytorch/lib/python3.7/site-packages/matplotlib/axes/_axes.py\u001b[0m in \u001b[0;36mscatter\u001b[0;34m(self, x, y, s, c, marker, cmap, norm, vmin, vmax, alpha, linewidths, verts, edgecolors, plotnonfinite, **kwargs)\u001b[0m\n\u001b[1;32m   4434\u001b[0m         \u001b[0my\u001b[0m \u001b[0;34m=\u001b[0m \u001b[0mnp\u001b[0m\u001b[0;34m.\u001b[0m\u001b[0mma\u001b[0m\u001b[0;34m.\u001b[0m\u001b[0mravel\u001b[0m\u001b[0;34m(\u001b[0m\u001b[0my\u001b[0m\u001b[0;34m)\u001b[0m\u001b[0;34m\u001b[0m\u001b[0;34m\u001b[0m\u001b[0m\n\u001b[1;32m   4435\u001b[0m         \u001b[0;32mif\u001b[0m \u001b[0mx\u001b[0m\u001b[0;34m.\u001b[0m\u001b[0msize\u001b[0m \u001b[0;34m!=\u001b[0m \u001b[0my\u001b[0m\u001b[0;34m.\u001b[0m\u001b[0msize\u001b[0m\u001b[0;34m:\u001b[0m\u001b[0;34m\u001b[0m\u001b[0;34m\u001b[0m\u001b[0m\n\u001b[0;32m-> 4436\u001b[0;31m             \u001b[0;32mraise\u001b[0m \u001b[0mValueError\u001b[0m\u001b[0;34m(\u001b[0m\u001b[0;34m\"x and y must be the same size\"\u001b[0m\u001b[0;34m)\u001b[0m\u001b[0;34m\u001b[0m\u001b[0;34m\u001b[0m\u001b[0m\n\u001b[0m\u001b[1;32m   4437\u001b[0m \u001b[0;34m\u001b[0m\u001b[0m\n\u001b[1;32m   4438\u001b[0m         \u001b[0;32mif\u001b[0m \u001b[0ms\u001b[0m \u001b[0;32mis\u001b[0m \u001b[0;32mNone\u001b[0m\u001b[0;34m:\u001b[0m\u001b[0;34m\u001b[0m\u001b[0;34m\u001b[0m\u001b[0m\n",
      "\u001b[0;31mValueError\u001b[0m: x and y must be the same size"
     ]
    },
    {
     "data": {
      "image/png": "[encoded data removed]",
      "text/plain": [
       "<Figure size 432x288 with 1 Axes>"
      ]
     },
     "metadata": {
      "needs_background": "light"
     },
     "output_type": "display_data"
    }
   ],
   "source": [
    "plt.scatter(a[1], a[0])"
   ]
  },
  {
   "cell_type": "code",
   "execution_count": 410,
   "metadata": {},
   "outputs": [
    {
     "data": {
      "text/plain": [
       "(array([  0,   0,   0,   0,   0,   0,   0,   0,   0,   1,   0,   0,   1,\n",
       "          0,   1,   2,   5,   3,   4,   3,   3,   7,   9,   9,   9,  26,\n",
       "         27,  42,  43,  69,  58,  77,  87,  98, 127, 166, 175, 170, 204,\n",
       "        213, 258, 256, 295, 326, 362, 337, 421, 400, 410, 386, 413, 402,\n",
       "        405, 384, 385, 338, 349, 314, 257, 215, 212, 203, 167, 158, 126,\n",
       "         90, 102,  81,  62,  50,  39,  32,  28,  29,  18,  17,  12,   7,\n",
       "          4,   3,   4,   1,   1,   0,   0,   1,   0,   0,   0,   0,   1,\n",
       "          0,   0,   0,   0,   0,   0,   0,   0]),\n",
       " array([-5.        , -4.8989899 , -4.7979798 , -4.6969697 , -4.5959596 ,\n",
       "        -4.49494949, -4.39393939, -4.29292929, -4.19191919, -4.09090909,\n",
       "        -3.98989899, -3.88888889, -3.78787879, -3.68686869, -3.58585859,\n",
       "        -3.48484848, -3.38383838, -3.28282828, -3.18181818, -3.08080808,\n",
       "        -2.97979798, -2.87878788, -2.77777778, -2.67676768, -2.57575758,\n",
       "        -2.47474747, -2.37373737, -2.27272727, -2.17171717, -2.07070707,\n",
       "        -1.96969697, -1.86868687, -1.76767677, -1.66666667, -1.56565657,\n",
       "        -1.46464646, -1.36363636, -1.26262626, -1.16161616, -1.06060606,\n",
       "        -0.95959596, -0.85858586, -0.75757576, -0.65656566, -0.55555556,\n",
       "        -0.45454545, -0.35353535, -0.25252525, -0.15151515, -0.05050505,\n",
       "         0.05050505,  0.15151515,  0.25252525,  0.35353535,  0.45454545,\n",
       "         0.55555556,  0.65656566,  0.75757576,  0.85858586,  0.95959596,\n",
       "         1.06060606,  1.16161616,  1.26262626,  1.36363636,  1.46464646,\n",
       "         1.56565657,  1.66666667,  1.76767677,  1.86868687,  1.96969697,\n",
       "         2.07070707,  2.17171717,  2.27272727,  2.37373737,  2.47474747,\n",
       "         2.57575758,  2.67676768,  2.77777778,  2.87878788,  2.97979798,\n",
       "         3.08080808,  3.18181818,  3.28282828,  3.38383838,  3.48484848,\n",
       "         3.58585859,  3.68686869,  3.78787879,  3.88888889,  3.98989899,\n",
       "         4.09090909,  4.19191919,  4.29292929,  4.39393939,  4.49494949,\n",
       "         4.5959596 ,  4.6969697 ,  4.7979798 ,  4.8989899 ,  5.        ]))"
      ]
     },
     "execution_count": 410,
     "metadata": {},
     "output_type": "execute_result"
    }
   ],
   "source": [
    "np.histogram(t, bins = np.linspace(-5, 5, 100))"
   ]
  },
  {
   "cell_type": "code",
   "execution_count": 412,
   "metadata": {},
   "outputs": [
    {
     "data": {
      "text/plain": [
       "array([-5.        , -4.8989899 , -4.7979798 , -4.6969697 , -4.5959596 ,\n",
       "       -4.49494949, -4.39393939, -4.29292929, -4.19191919, -4.09090909,\n",
       "       -3.98989899, -3.88888889, -3.78787879, -3.68686869, -3.58585859,\n",
       "       -3.48484848, -3.38383838, -3.28282828, -3.18181818, -3.08080808,\n",
       "       -2.97979798, -2.87878788, -2.77777778, -2.67676768, -2.57575758,\n",
       "       -2.47474747, -2.37373737, -2.27272727, -2.17171717, -2.07070707,\n",
       "       -1.96969697, -1.86868687, -1.76767677, -1.66666667, -1.56565657,\n",
       "       -1.46464646, -1.36363636, -1.26262626, -1.16161616, -1.06060606,\n",
       "       -0.95959596, -0.85858586, -0.75757576, -0.65656566, -0.55555556,\n",
       "       -0.45454545, -0.35353535, -0.25252525, -0.15151515, -0.05050505,\n",
       "        0.05050505,  0.15151515,  0.25252525,  0.35353535,  0.45454545,\n",
       "        0.55555556,  0.65656566,  0.75757576,  0.85858586,  0.95959596,\n",
       "        1.06060606,  1.16161616,  1.26262626,  1.36363636,  1.46464646,\n",
       "        1.56565657,  1.66666667,  1.76767677,  1.86868687,  1.96969697,\n",
       "        2.07070707,  2.17171717,  2.27272727,  2.37373737,  2.47474747,\n",
       "        2.57575758,  2.67676768,  2.77777778,  2.87878788,  2.97979798,\n",
       "        3.08080808,  3.18181818,  3.28282828,  3.38383838,  3.48484848,\n",
       "        3.58585859,  3.68686869,  3.78787879,  3.88888889,  3.98989899,\n",
       "        4.09090909,  4.19191919,  4.29292929,  4.39393939,  4.49494949,\n",
       "        4.5959596 ,  4.6969697 ,  4.7979798 ,  4.8989899 ,  5.        ])"
      ]
     },
     "execution_count": 412,
     "metadata": {},
     "output_type": "execute_result"
    }
   ],
   "source": [
    "np.linspace(-5, 5, 100)"
   ]
  },
  {
   "cell_type": "code",
   "execution_count": null,
   "metadata": {},
   "outputs": [],
   "source": []
  }
 ],
 "metadata": {
  "kernelspec": {
   "display_name": "Python 3",
   "language": "python",
   "name": "python3"
  },
  "language_info": {
   "codemirror_mode": {
    "name": "ipython",
    "version": 3
   },
   "file_extension": ".py",
   "mimetype": "text/x-python",
   "name": "python",
   "nbconvert_exporter": "python",
   "pygments_lexer": "ipython3",
   "version": "3.7.3"
  }
 },
 "nbformat": 4,
 "nbformat_minor": 2
}
