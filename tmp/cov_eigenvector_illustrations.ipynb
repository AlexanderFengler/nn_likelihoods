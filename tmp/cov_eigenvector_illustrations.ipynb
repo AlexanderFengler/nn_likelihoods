{
 "cells": [
  {
   "cell_type": "code",
   "execution_count": 27,
   "metadata": {},
   "outputs": [],
   "source": [
    "import seaborn as sns\n",
    "import numpy as np\n",
    "import scipy as scp\n",
    "import scipy.stats as scps\n",
    "import os\n",
    "import pandas as pd\n",
    "import matplotlib.pyplot as plt"
   ]
  },
  {
   "cell_type": "code",
   "execution_count": 133,
   "metadata": {},
   "outputs": [],
   "source": [
    "# Make covariance matrix\n",
    "var_1 = 1.6\n",
    "var_2 = 1\n",
    "corr = 1\n",
    "cov = np.array([[var_1, corr * np.sqrt(var_1) * np.sqrt(var_2)], [corr * np.sqrt(var_1) * np.sqrt(var_2), var_2]])"
   ]
  },
  {
   "cell_type": "code",
   "execution_count": 134,
   "metadata": {},
   "outputs": [],
   "source": [
    "w, V = np.linalg.eig(cov)"
   ]
  },
  {
   "cell_type": "code",
   "execution_count": 135,
   "metadata": {},
   "outputs": [
    {
     "data": {
      "text/plain": [
       "array([2.6, 0. ])"
      ]
     },
     "execution_count": 135,
     "metadata": {},
     "output_type": "execute_result"
    }
   ],
   "source": [
    "w"
   ]
  },
  {
   "cell_type": "code",
   "execution_count": 136,
   "metadata": {},
   "outputs": [
    {
     "data": {
      "text/plain": [
       "array([[ 0.78446454, -0.62017367],\n",
       "       [ 0.62017367,  0.78446454]])"
      ]
     },
     "execution_count": 136,
     "metadata": {},
     "output_type": "execute_result"
    }
   ],
   "source": [
    "V"
   ]
  },
  {
   "cell_type": "code",
   "execution_count": 137,
   "metadata": {},
   "outputs": [],
   "source": [
    "def line_from_vec_2d(vec = v, range = [-1,1]):\n",
    "    # Normalize vector\n",
    "    vec = vec / np.linalg.norm(v)\n",
    "    vec_out = np.zeros((2,1000))\n",
    "    cnt = 0\n",
    "    # Compute range that can be supplied to plot\n",
    "    for t in np.arange(range[0], range[1], (range[1] - range[0]) / 1000):\n",
    "        vec_out[:, cnt] = t * vec\n",
    "        cnt += 1\n",
    "        \n",
    "    return vec_out\n",
    "\n",
    "t = line_from_vec_2d(vec = np.array([[1,1]]), range = [-5, 5])"
   ]
  },
  {
   "cell_type": "code",
   "execution_count": 138,
   "metadata": {},
   "outputs": [
    {
     "data": {
      "image/png": "[encoded data removed]",
      "text/plain": [
       "<Figure size 432x288 with 1 Axes>"
      ]
     },
     "metadata": {
      "needs_background": "light"
     },
     "output_type": "display_data"
    }
   ],
   "source": [
    "evecs_to_plot = []\n",
    "\n",
    "# Eigenvectors\n",
    "for vec in V:\n",
    "    evecs_to_plot.append(line_from_vec_2d(vec = vec, range = [0, 1]))\n",
    "\n",
    "# Vector that I care about \n",
    "x = 0.2\n",
    "ref_vec = line_from_vec_2d(vec = [1, np.log((1 - x) / x)])\n",
    "\n",
    "for vec in evecs_to_plot:\n",
    "    plt.plot(vec[0,:], vec[1,:], 'r')\n",
    "    \n",
    "plt.plot(ref_vec[0, :], ref_vec[1,:], )\n",
    "    \n",
    "plt.plot()\n",
    "plt.xlim((-2, 2))\n",
    "plt.ylim((-2, 2))\n",
    "plt.show()"
   ]
  },
  {
   "cell_type": "code",
   "execution_count": null,
   "metadata": {},
   "outputs": [],
   "source": []
  },
  {
   "cell_type": "code",
   "execution_count": null,
   "metadata": {},
   "outputs": [],
   "source": []
  }
 ],
 "metadata": {
  "kernelspec": {
   "display_name": "tf",
   "language": "python",
   "name": "tf"
  },
  "language_info": {
   "codemirror_mode": {
    "name": "ipython",
    "version": 3
   },
   "file_extension": ".py",
   "mimetype": "text/x-python",
   "name": "python",
   "nbconvert_exporter": "python",
   "pygments_lexer": "ipython3",
   "version": "3.6.5"
  }
 },
 "nbformat": 4,
 "nbformat_minor": 2
}
