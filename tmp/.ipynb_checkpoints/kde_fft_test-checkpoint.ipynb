{
 "cells": [
  {
   "cell_type": "code",
   "execution_count": 69,
   "metadata": {},
   "outputs": [],
   "source": [
    "import numpy as np\n",
    "import scipy as scp\n",
    "from scipy.stats import binned_statistic\n",
    "from scipy.fftpack import fft\n",
    "from scipy.fftpack import ifft\n",
    "from scipy.fftpack import rfft\n",
    "import matplotlib.pyplot as plt"
   ]
  },
  {
   "cell_type": "code",
   "execution_count": 70,
   "metadata": {},
   "outputs": [],
   "source": [
    "x = np.random.normal(size = 100000, loc = 10)\n",
    "bins = np.linspace(5, 15, 1024)\n",
    "d_bins = bins[2] - bins[1]\n",
    "x_discrete = bins[np.digitize(x, bins, right = False)]\n",
    "x_counts, _ = np.histogram(x, bins = bins)\n",
    "#x_discrete = bins[x_binned]\n",
    "bin_means = np.array([(bins[i] + bins[i - 1]) / 2 for i in range(1, len(bins))])\n",
    "#x_proper_binned = [ for i in x]"
   ]
  },
  {
   "cell_type": "code",
   "execution_count": 72,
   "metadata": {},
   "outputs": [
    {
     "data": {
      "text/plain": [
       "511"
      ]
     },
     "execution_count": 72,
     "metadata": {},
     "output_type": "execute_result"
    }
   ],
   "source": [
    "len(x_counts)"
   ]
  },
  {
   "cell_type": "code",
   "execution_count": 61,
   "metadata": {},
   "outputs": [],
   "source": [
    "x_ft = rfft(x_counts)\n",
    "N = len(x_counts)"
   ]
  },
  {
   "cell_type": "code",
   "execution_count": 62,
   "metadata": {},
   "outputs": [],
   "source": [
    "psd = x_ft * x_ft.conjugate() / N\n",
    "freq = 1 / (d_bins * N) * bin_means * N\n",
    "L = np.arange(int(np.floor(N / 2)))"
   ]
  },
  {
   "cell_type": "code",
   "execution_count": 63,
   "metadata": {},
   "outputs": [
    {
     "data": {
      "image/png": "[encoded data removed]",
      "text/plain": [
       "<Figure size 432x288 with 1 Axes>"
      ]
     },
     "metadata": {
      "needs_background": "light"
     },
     "output_type": "display_data"
    }
   ],
   "source": [
    "plt.scatter(freq, np.real(psd))\n",
    "#plt.xlim(-5, 0)#* (psd[L] > 10000))\n",
    "\n",
    "h = 0.1\n",
    "norm_ft = scp.stats.norm.pdf(np.power(freq, 2), loc = 0, scale = 1 / h )"
   ]
  },
  {
   "cell_type": "code",
   "execution_count": 64,
   "metadata": {},
   "outputs": [],
   "source": [
    "kde = ifft(norm_ft * x_ft)"
   ]
  },
  {
   "cell_type": "code",
   "execution_count": 65,
   "metadata": {},
   "outputs": [
    {
     "data": {
      "text/plain": [
       "511"
      ]
     },
     "execution_count": 65,
     "metadata": {},
     "output_type": "execute_result"
    }
   ],
   "source": [
    "len(x_counts)"
   ]
  },
  {
   "cell_type": "code",
   "execution_count": 66,
   "metadata": {},
   "outputs": [
    {
     "data": {
      "text/plain": [
       "(array([1.24231035e-04, 2.73308276e-03, 2.70823655e-02, 1.13795628e-01,\n",
       "        2.87843307e-01, 3.92818531e-01, 2.80637907e-01, 1.11311007e-01,\n",
       "        2.34796655e-02, 2.48462069e-03]),\n",
       " array([ 5.59021632,  6.39516816,  7.20012001,  8.00507185,  8.81002369,\n",
       "         9.61497553, 10.41992737, 11.22487921, 12.02983105, 12.83478289,\n",
       "        13.63973473]),\n",
       " <a list of 10 Patch objects>)"
      ]
     },
     "execution_count": 66,
     "metadata": {},
     "output_type": "execute_result"
    },
    {
     "data": {
      "image/png": "[encoded data removed]",
      "text/plain": [
       "<Figure size 432x288 with 1 Axes>"
      ]
     },
     "metadata": {
      "needs_background": "light"
     },
     "output_type": "display_data"
    }
   ],
   "source": [
    "plt.scatter(bin_means, kde)\n",
    "plt.hist(x, density = True, alpha = 0.1)"
   ]
  },
  {
   "cell_type": "code",
   "execution_count": 15,
   "metadata": {},
   "outputs": [
    {
     "data": {
      "text/plain": [
       "(array([  0,   0,   0,   0,   0,   0,   0,   0,   0,   0,   0,   0,   0,\n",
       "          0,   0,   0,   0,   0,   0,   0,   0,   0,   0,   0,   0,   0,\n",
       "          0,   0,   0,   0,   0,   0,   0,   0,   0,   0,   0,   0,   0,\n",
       "          0,   0,   0,   0,   0,   0,   0,   0,   0,   0,   0,   0,   0,\n",
       "          0,   0,   0,   0,   0,   0,   0,   0,   0,   0,   0,   0,   0,\n",
       "          0,   0,   0,   0,   0,   0,   0,   0,   0,   0,   0,   0,   0,\n",
       "          1,   0,   0,   2,   1,   1,   1,   1,   4,   1,   2,   6,   6,\n",
       "          8,  12,   6,  15,  13,  18,  24,  28,  25,  35,  47,  44,  59,\n",
       "         51,  62,  76,  91,  98, 126, 132, 143, 139, 170, 174, 192, 192,\n",
       "        226, 241, 253, 270, 309, 316, 295, 284, 307, 304, 303, 285, 344,\n",
       "        322, 302, 274, 307, 261, 259, 257, 222, 231, 199, 196, 171, 163,\n",
       "        142, 133, 122,  89,  89,  74,  72,  62,  49,  42,  44,  30,  25,\n",
       "         28,  22,  15,   7,  13,   7,   9,   1,   4,   5,   1,   4,   0,\n",
       "          1,   1,   0,   0,   0,   0,   0,   0,   0,   1,   1,   0,   0,\n",
       "          0,   0,   0,   0,   0,   0,   0,   0,   0,   0,   0,   0,   0,\n",
       "          0,   0,   0,   0,   0,   0,   0,   0,   0,   0,   0,   0,   0,\n",
       "          0,   0,   0,   0,   0,   0,   0,   0,   0,   0,   0,   0,   0,\n",
       "          0,   0,   0,   0,   0,   0,   0,   0,   0,   0,   0,   0,   0,\n",
       "          0,   0,   0,   0,   0,   0,   0,   0,   0,   0,   0,   0,   0,\n",
       "          0,   0,   0,   0,   0,   0,   0,   0]),\n",
       " array([-10.        ,  -9.92156863,  -9.84313725,  -9.76470588,\n",
       "         -9.68627451,  -9.60784314,  -9.52941176,  -9.45098039,\n",
       "         -9.37254902,  -9.29411765,  -9.21568627,  -9.1372549 ,\n",
       "         -9.05882353,  -8.98039216,  -8.90196078,  -8.82352941,\n",
       "         -8.74509804,  -8.66666667,  -8.58823529,  -8.50980392,\n",
       "         -8.43137255,  -8.35294118,  -8.2745098 ,  -8.19607843,\n",
       "         -8.11764706,  -8.03921569,  -7.96078431,  -7.88235294,\n",
       "         -7.80392157,  -7.7254902 ,  -7.64705882,  -7.56862745,\n",
       "         -7.49019608,  -7.41176471,  -7.33333333,  -7.25490196,\n",
       "         -7.17647059,  -7.09803922,  -7.01960784,  -6.94117647,\n",
       "         -6.8627451 ,  -6.78431373,  -6.70588235,  -6.62745098,\n",
       "         -6.54901961,  -6.47058824,  -6.39215686,  -6.31372549,\n",
       "         -6.23529412,  -6.15686275,  -6.07843137,  -6.        ,\n",
       "         -5.92156863,  -5.84313725,  -5.76470588,  -5.68627451,\n",
       "         -5.60784314,  -5.52941176,  -5.45098039,  -5.37254902,\n",
       "         -5.29411765,  -5.21568627,  -5.1372549 ,  -5.05882353,\n",
       "         -4.98039216,  -4.90196078,  -4.82352941,  -4.74509804,\n",
       "         -4.66666667,  -4.58823529,  -4.50980392,  -4.43137255,\n",
       "         -4.35294118,  -4.2745098 ,  -4.19607843,  -4.11764706,\n",
       "         -4.03921569,  -3.96078431,  -3.88235294,  -3.80392157,\n",
       "         -3.7254902 ,  -3.64705882,  -3.56862745,  -3.49019608,\n",
       "         -3.41176471,  -3.33333333,  -3.25490196,  -3.17647059,\n",
       "         -3.09803922,  -3.01960784,  -2.94117647,  -2.8627451 ,\n",
       "         -2.78431373,  -2.70588235,  -2.62745098,  -2.54901961,\n",
       "         -2.47058824,  -2.39215686,  -2.31372549,  -2.23529412,\n",
       "         -2.15686275,  -2.07843137,  -2.        ,  -1.92156863,\n",
       "         -1.84313725,  -1.76470588,  -1.68627451,  -1.60784314,\n",
       "         -1.52941176,  -1.45098039,  -1.37254902,  -1.29411765,\n",
       "         -1.21568627,  -1.1372549 ,  -1.05882353,  -0.98039216,\n",
       "         -0.90196078,  -0.82352941,  -0.74509804,  -0.66666667,\n",
       "         -0.58823529,  -0.50980392,  -0.43137255,  -0.35294118,\n",
       "         -0.2745098 ,  -0.19607843,  -0.11764706,  -0.03921569,\n",
       "          0.03921569,   0.11764706,   0.19607843,   0.2745098 ,\n",
       "          0.35294118,   0.43137255,   0.50980392,   0.58823529,\n",
       "          0.66666667,   0.74509804,   0.82352941,   0.90196078,\n",
       "          0.98039216,   1.05882353,   1.1372549 ,   1.21568627,\n",
       "          1.29411765,   1.37254902,   1.45098039,   1.52941176,\n",
       "          1.60784314,   1.68627451,   1.76470588,   1.84313725,\n",
       "          1.92156863,   2.        ,   2.07843137,   2.15686275,\n",
       "          2.23529412,   2.31372549,   2.39215686,   2.47058824,\n",
       "          2.54901961,   2.62745098,   2.70588235,   2.78431373,\n",
       "          2.8627451 ,   2.94117647,   3.01960784,   3.09803922,\n",
       "          3.17647059,   3.25490196,   3.33333333,   3.41176471,\n",
       "          3.49019608,   3.56862745,   3.64705882,   3.7254902 ,\n",
       "          3.80392157,   3.88235294,   3.96078431,   4.03921569,\n",
       "          4.11764706,   4.19607843,   4.2745098 ,   4.35294118,\n",
       "          4.43137255,   4.50980392,   4.58823529,   4.66666667,\n",
       "          4.74509804,   4.82352941,   4.90196078,   4.98039216,\n",
       "          5.05882353,   5.1372549 ,   5.21568627,   5.29411765,\n",
       "          5.37254902,   5.45098039,   5.52941176,   5.60784314,\n",
       "          5.68627451,   5.76470588,   5.84313725,   5.92156863,\n",
       "          6.        ,   6.07843137,   6.15686275,   6.23529412,\n",
       "          6.31372549,   6.39215686,   6.47058824,   6.54901961,\n",
       "          6.62745098,   6.70588235,   6.78431373,   6.8627451 ,\n",
       "          6.94117647,   7.01960784,   7.09803922,   7.17647059,\n",
       "          7.25490196,   7.33333333,   7.41176471,   7.49019608,\n",
       "          7.56862745,   7.64705882,   7.7254902 ,   7.80392157,\n",
       "          7.88235294,   7.96078431,   8.03921569,   8.11764706,\n",
       "          8.19607843,   8.2745098 ,   8.35294118,   8.43137255,\n",
       "          8.50980392,   8.58823529,   8.66666667,   8.74509804,\n",
       "          8.82352941,   8.90196078,   8.98039216,   9.05882353,\n",
       "          9.1372549 ,   9.21568627,   9.29411765,   9.37254902,\n",
       "          9.45098039,   9.52941176,   9.60784314,   9.68627451,\n",
       "          9.76470588,   9.84313725,   9.92156863,  10.        ]))"
      ]
     },
     "execution_count": 15,
     "metadata": {},
     "output_type": "execute_result"
    }
   ],
   "source": [
    "np.histogram(x, bins = bins)"
   ]
  },
  {
   "cell_type": "code",
   "execution_count": 13,
   "metadata": {},
   "outputs": [
    {
     "data": {
      "text/plain": [
       "256"
      ]
     },
     "execution_count": 13,
     "metadata": {},
     "output_type": "execute_result"
    }
   ],
   "source": [
    "len(t2)"
   ]
  },
  {
   "cell_type": "code",
   "execution_count": 14,
   "metadata": {},
   "outputs": [
    {
     "data": {
      "text/plain": [
       "255"
      ]
     },
     "execution_count": 14,
     "metadata": {},
     "output_type": "execute_result"
    }
   ],
   "source": [
    "len(t)"
   ]
  },
  {
   "cell_type": "code",
   "execution_count": 19,
   "metadata": {},
   "outputs": [
    {
     "data": {
      "text/plain": [
       "255"
      ]
     },
     "execution_count": 19,
     "metadata": {},
     "output_type": "execute_result"
    }
   ],
   "source": [
    "len(bin_means)"
   ]
  },
  {
   "cell_type": "code",
   "execution_count": 67,
   "metadata": {},
   "outputs": [
    {
     "data": {
      "text/plain": [
       "array([0.+0.j, 0.-0.j, 0.-0.j, 0.-0.j, 0.-0.j, 0.-0.j, 0.-0.j, 0.-0.j,\n",
       "       0.-0.j, 0.-0.j, 0.-0.j, 0.-0.j, 0.-0.j, 0.-0.j, 0.-0.j, 0.-0.j,\n",
       "       0.-0.j, 0.-0.j, 0.-0.j, 0.-0.j, 0.-0.j, 0.-0.j, 0.-0.j, 0.-0.j,\n",
       "       0.-0.j, 0.-0.j, 0.-0.j, 0.-0.j, 0.-0.j, 0.-0.j, 0.-0.j, 0.-0.j,\n",
       "       0.-0.j, 0.-0.j, 0.-0.j, 0.-0.j, 0.-0.j, 0.-0.j, 0.-0.j, 0.-0.j,\n",
       "       0.-0.j, 0.-0.j, 0.-0.j, 0.-0.j, 0.-0.j, 0.-0.j, 0.-0.j, 0.-0.j,\n",
       "       0.-0.j, 0.-0.j, 0.-0.j, 0.-0.j, 0.-0.j, 0.-0.j, 0.-0.j, 0.-0.j,\n",
       "       0.-0.j, 0.-0.j, 0.-0.j, 0.-0.j, 0.-0.j, 0.-0.j, 0.-0.j, 0.-0.j,\n",
       "       0.-0.j, 0.-0.j, 0.-0.j, 0.-0.j, 0.-0.j, 0.-0.j, 0.-0.j, 0.-0.j,\n",
       "       0.-0.j, 0.-0.j, 0.-0.j, 0.-0.j, 0.-0.j, 0.-0.j, 0.-0.j, 0.-0.j,\n",
       "       0.-0.j, 0.-0.j, 0.-0.j, 0.-0.j, 0.-0.j, 0.-0.j, 0.-0.j, 0.-0.j,\n",
       "       0.-0.j, 0.-0.j, 0.-0.j, 0.-0.j, 0.-0.j, 0.-0.j, 0.-0.j, 0.-0.j,\n",
       "       0.-0.j, 0.-0.j, 0.-0.j, 0.-0.j, 0.-0.j, 0.-0.j, 0.-0.j, 0.-0.j,\n",
       "       0.-0.j, 0.-0.j, 0.-0.j, 0.-0.j, 0.-0.j, 0.-0.j, 0.-0.j, 0.-0.j,\n",
       "       0.-0.j, 0.-0.j, 0.-0.j, 0.-0.j, 0.-0.j, 0.-0.j, 0.-0.j, 0.-0.j,\n",
       "       0.-0.j, 0.-0.j, 0.-0.j, 0.-0.j, 0.-0.j, 0.-0.j, 0.-0.j, 0.-0.j,\n",
       "       0.-0.j, 0.-0.j, 0.-0.j, 0.-0.j, 0.-0.j, 0.-0.j, 0.-0.j, 0.-0.j,\n",
       "       0.-0.j, 0.-0.j, 0.-0.j, 0.-0.j, 0.-0.j, 0.-0.j, 0.-0.j, 0.-0.j,\n",
       "       0.-0.j, 0.-0.j, 0.-0.j, 0.-0.j, 0.-0.j, 0.-0.j, 0.-0.j, 0.-0.j,\n",
       "       0.-0.j, 0.-0.j, 0.-0.j, 0.-0.j, 0.-0.j, 0.-0.j, 0.-0.j, 0.-0.j,\n",
       "       0.-0.j, 0.-0.j, 0.-0.j, 0.-0.j, 0.-0.j, 0.-0.j, 0.-0.j, 0.-0.j,\n",
       "       0.-0.j, 0.-0.j, 0.-0.j, 0.-0.j, 0.-0.j, 0.-0.j, 0.-0.j, 0.-0.j,\n",
       "       0.-0.j, 0.-0.j, 0.-0.j, 0.-0.j, 0.-0.j, 0.-0.j, 0.-0.j, 0.-0.j,\n",
       "       0.-0.j, 0.-0.j, 0.-0.j, 0.-0.j, 0.-0.j, 0.-0.j, 0.-0.j, 0.-0.j,\n",
       "       0.-0.j, 0.-0.j, 0.-0.j, 0.-0.j, 0.-0.j, 0.-0.j, 0.-0.j, 0.-0.j,\n",
       "       0.-0.j, 0.-0.j, 0.-0.j, 0.-0.j, 0.-0.j, 0.-0.j, 0.-0.j, 0.-0.j,\n",
       "       0.-0.j, 0.-0.j, 0.-0.j, 0.-0.j, 0.-0.j, 0.-0.j, 0.-0.j, 0.-0.j,\n",
       "       0.-0.j, 0.-0.j, 0.-0.j, 0.-0.j, 0.-0.j, 0.-0.j, 0.-0.j, 0.-0.j,\n",
       "       0.-0.j, 0.-0.j, 0.-0.j, 0.-0.j, 0.-0.j, 0.-0.j, 0.-0.j, 0.-0.j,\n",
       "       0.-0.j, 0.-0.j, 0.-0.j, 0.-0.j, 0.-0.j, 0.-0.j, 0.-0.j, 0.-0.j,\n",
       "       0.-0.j, 0.-0.j, 0.-0.j, 0.-0.j, 0.-0.j, 0.-0.j, 0.-0.j, 0.-0.j,\n",
       "       0.-0.j, 0.-0.j, 0.-0.j, 0.-0.j, 0.-0.j, 0.-0.j, 0.-0.j, 0.-0.j,\n",
       "       0.+0.j, 0.+0.j, 0.+0.j, 0.+0.j, 0.+0.j, 0.+0.j, 0.+0.j, 0.+0.j,\n",
       "       0.+0.j, 0.+0.j, 0.+0.j, 0.+0.j, 0.+0.j, 0.+0.j, 0.+0.j, 0.+0.j,\n",
       "       0.+0.j, 0.+0.j, 0.+0.j, 0.+0.j, 0.+0.j, 0.+0.j, 0.+0.j, 0.+0.j,\n",
       "       0.+0.j, 0.+0.j, 0.+0.j, 0.+0.j, 0.+0.j, 0.+0.j, 0.+0.j, 0.+0.j,\n",
       "       0.+0.j, 0.+0.j, 0.+0.j, 0.+0.j, 0.+0.j, 0.+0.j, 0.+0.j, 0.+0.j,\n",
       "       0.+0.j, 0.+0.j, 0.+0.j, 0.+0.j, 0.+0.j, 0.+0.j, 0.+0.j, 0.+0.j,\n",
       "       0.+0.j, 0.+0.j, 0.+0.j, 0.+0.j, 0.+0.j, 0.+0.j, 0.+0.j, 0.+0.j,\n",
       "       0.+0.j, 0.+0.j, 0.+0.j, 0.+0.j, 0.+0.j, 0.+0.j, 0.+0.j, 0.+0.j,\n",
       "       0.+0.j, 0.+0.j, 0.+0.j, 0.+0.j, 0.+0.j, 0.+0.j, 0.+0.j, 0.+0.j,\n",
       "       0.+0.j, 0.+0.j, 0.+0.j, 0.+0.j, 0.+0.j, 0.+0.j, 0.+0.j, 0.+0.j,\n",
       "       0.+0.j, 0.+0.j, 0.+0.j, 0.+0.j, 0.+0.j, 0.+0.j, 0.+0.j, 0.+0.j,\n",
       "       0.+0.j, 0.+0.j, 0.+0.j, 0.+0.j, 0.+0.j, 0.+0.j, 0.+0.j, 0.+0.j,\n",
       "       0.+0.j, 0.+0.j, 0.+0.j, 0.+0.j, 0.+0.j, 0.+0.j, 0.+0.j, 0.+0.j,\n",
       "       0.+0.j, 0.+0.j, 0.+0.j, 0.+0.j, 0.+0.j, 0.+0.j, 0.+0.j, 0.+0.j,\n",
       "       0.+0.j, 0.+0.j, 0.+0.j, 0.+0.j, 0.+0.j, 0.+0.j, 0.+0.j, 0.+0.j,\n",
       "       0.+0.j, 0.+0.j, 0.+0.j, 0.+0.j, 0.+0.j, 0.+0.j, 0.+0.j, 0.+0.j,\n",
       "       0.+0.j, 0.+0.j, 0.+0.j, 0.+0.j, 0.+0.j, 0.+0.j, 0.+0.j, 0.+0.j,\n",
       "       0.+0.j, 0.+0.j, 0.+0.j, 0.+0.j, 0.+0.j, 0.+0.j, 0.+0.j, 0.+0.j,\n",
       "       0.+0.j, 0.+0.j, 0.+0.j, 0.+0.j, 0.+0.j, 0.+0.j, 0.+0.j, 0.+0.j,\n",
       "       0.+0.j, 0.+0.j, 0.+0.j, 0.+0.j, 0.+0.j, 0.+0.j, 0.+0.j, 0.+0.j,\n",
       "       0.+0.j, 0.+0.j, 0.+0.j, 0.+0.j, 0.+0.j, 0.+0.j, 0.+0.j, 0.+0.j,\n",
       "       0.+0.j, 0.+0.j, 0.+0.j, 0.+0.j, 0.+0.j, 0.+0.j, 0.+0.j, 0.+0.j,\n",
       "       0.+0.j, 0.+0.j, 0.+0.j, 0.+0.j, 0.+0.j, 0.+0.j, 0.+0.j, 0.+0.j,\n",
       "       0.+0.j, 0.+0.j, 0.+0.j, 0.+0.j, 0.+0.j, 0.+0.j, 0.+0.j, 0.+0.j,\n",
       "       0.+0.j, 0.+0.j, 0.+0.j, 0.+0.j, 0.+0.j, 0.+0.j, 0.+0.j, 0.+0.j,\n",
       "       0.+0.j, 0.+0.j, 0.+0.j, 0.+0.j, 0.+0.j, 0.+0.j, 0.+0.j, 0.+0.j,\n",
       "       0.+0.j, 0.+0.j, 0.+0.j, 0.+0.j, 0.+0.j, 0.+0.j, 0.+0.j, 0.+0.j,\n",
       "       0.+0.j, 0.+0.j, 0.+0.j, 0.+0.j, 0.+0.j, 0.+0.j, 0.+0.j, 0.+0.j,\n",
       "       0.+0.j, 0.+0.j, 0.+0.j, 0.+0.j, 0.+0.j, 0.+0.j, 0.+0.j, 0.+0.j,\n",
       "       0.+0.j, 0.+0.j, 0.+0.j, 0.+0.j, 0.+0.j, 0.+0.j, 0.+0.j, 0.+0.j,\n",
       "       0.+0.j, 0.+0.j, 0.+0.j, 0.+0.j, 0.+0.j, 0.+0.j, 0.+0.j, 0.+0.j,\n",
       "       0.+0.j, 0.+0.j, 0.+0.j, 0.+0.j, 0.+0.j, 0.+0.j, 0.+0.j])"
      ]
     },
     "execution_count": 67,
     "metadata": {},
     "output_type": "execute_result"
    }
   ],
   "source": [
    "kde"
   ]
  },
  {
   "cell_type": "code",
   "execution_count": null,
   "metadata": {},
   "outputs": [],
   "source": []
  }
 ],
 "metadata": {
  "kernelspec": {
   "display_name": "Python 3",
   "language": "python",
   "name": "python3"
  },
  "language_info": {
   "codemirror_mode": {
    "name": "ipython",
    "version": 3
   },
   "file_extension": ".py",
   "mimetype": "text/x-python",
   "name": "python",
   "nbconvert_exporter": "python",
   "pygments_lexer": "ipython3",
   "version": "3.7.3"
  }
 },
 "nbformat": 4,
 "nbformat_minor": 2
}
