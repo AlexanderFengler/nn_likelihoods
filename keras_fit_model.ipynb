{
 "cells": [
  {
   "cell_type": "code",
   "execution_count": 11,
   "metadata": {},
   "outputs": [],
   "source": [
    "# Load packages\n",
    "import tensorflow as tf\n",
    "from tensorflow import keras\n",
    "import numpy as np\n",
    "import pandas as pd\n",
    "import os\n",
    "import scipy as scp\n",
    "import scipy.stats as scps\n",
    "\n",
    "# Load my own functions\n",
    "import dnnregressor_train_eval_keras as dnnk\n",
    "import make_data_wfpt as mdw"
   ]
  },
  {
   "cell_type": "code",
   "execution_count": 11,
   "metadata": {},
   "outputs": [
    {
     "name": "stdout",
     "output_type": "stream",
     "text": [
      "datafile used to read in training data: data_storage/train_data_2500000_choice_probabilities_analytic_08_14_18_18_15_53.csv\n",
      "datafile used to read in test data: data_storage/test_data_2500000_choice_probabilities_analytic_08_14_18_18_15_53.csv\n"
     ]
    }
   ],
   "source": [
    "# Load data\n",
    "train_f, train_l, test_f, test_l = mdw.train_test_from_file_choice_probabilities(n_samples = 2500000,\n",
    "                                                            f_signature = '_choice_probabilities_analytic_',\n",
    "                                                                                backend = 'keras')"
   ]
  },
  {
   "cell_type": "code",
   "execution_count": 12,
   "metadata": {},
   "outputs": [],
   "source": [
    "# Make dnnk class (cpm for choice probability model)\n",
    "cpm = dnnk.dnn_trainer()\n",
    "cpm.data['train_features'] = train_f\n",
    "cpm.data['train_labels'] = train_l\n",
    "cpm.data['test_features'] = test_f\n",
    "cpm.data['test_labels'] = test_l"
   ]
  },
  {
   "cell_type": "code",
   "execution_count": 13,
   "metadata": {},
   "outputs": [
    {
     "data": {
      "text/plain": [
       "{'input_shape': 3,\n",
       " 'output_shape': 1,\n",
       " 'output_activation': 'sigmoid',\n",
       " 'hidden_layers': [20, 20, 20, 20],\n",
       " 'hidden_activations': ['relu', 'relu', 'relu', 'relu'],\n",
       " 'l1_activation': [0.0, 0.0, 0.0, 0.0],\n",
       " 'l2_activation': [0.0, 0.0, 0.0, 0.0],\n",
       " 'l1_kernel': [0.0, 0.0, 0.0, 0.0],\n",
       " 'l2_kernel': [0.0, 0.0, 0.0, 0.0],\n",
       " 'optimizer': 'Nadam',\n",
       " 'loss': 'mse',\n",
       " 'metrics': ['mse']}"
      ]
     },
     "execution_count": 13,
     "metadata": {},
     "output_type": "execute_result"
    }
   ],
   "source": [
    "# Make all parameters we can specify explicit\n",
    "# Model parameters\n",
    "cpm.model_params"
   ]
  },
  {
   "cell_type": "code",
   "execution_count": 14,
   "metadata": {},
   "outputs": [
    {
     "data": {
      "text/plain": [
       "{'callback_funs': ['ReduceLROnPlateau', 'EarlyStopping', 'ModelCheckpoint'],\n",
       " 'plateau_patience': 10,\n",
       " 'min_delta': 0.0001,\n",
       " 'early_stopping_patience': 15,\n",
       " 'callback_monitor': 'loss',\n",
       " 'min_learning_rate': 1e-07,\n",
       " 'red_coef_learning_rate': 0.1,\n",
       " 'ckpt_period': 10,\n",
       " 'ckpt_save_best_only': True,\n",
       " 'ckpt_save_weights_only': True,\n",
       " 'max_train_epochs': 2000,\n",
       " 'batch_size': 10000,\n",
       " 'warm_start': False,\n",
       " 'checkpoint': 'ckpt',\n",
       " 'model_cnt': 0}"
      ]
     },
     "execution_count": 14,
     "metadata": {},
     "output_type": "execute_result"
    }
   ],
   "source": [
    "# Parameters governing training\n",
    "cpm.train_params"
   ]
  },
  {
   "cell_type": "code",
   "execution_count": 15,
   "metadata": {},
   "outputs": [
    {
     "data": {
      "text/plain": [
       "{'data_type': 'choice_probabilities',\n",
       " 'model_directory': '/home/afengler/git_repos/nn_likelihoods/keras_models',\n",
       " 'checkpoint': 'ckpt',\n",
       " 'model_name': 'dnnregressor',\n",
       " 'data_type_signature': '_choice_probabilities_analytic_',\n",
       " 'timestamp': '09_03_18_17_28_21',\n",
       " 'training_data_size': 2500000}"
      ]
     },
     "execution_count": 15,
     "metadata": {},
     "output_type": "execute_result"
    }
   ],
   "source": [
    "# Parameters concerning data storage\n",
    "cpm.data_params"
   ]
  },
  {
   "cell_type": "code",
   "execution_count": 16,
   "metadata": {},
   "outputs": [],
   "source": [
    "# If necessary, specify new set of parameters here:\n"
   ]
  },
  {
   "cell_type": "code",
   "execution_count": 17,
   "metadata": {},
   "outputs": [],
   "source": [
    "# Make model\n",
    "cpm.keras_model_generate(save_model = True)"
   ]
  },
  {
   "cell_type": "code",
   "execution_count": 18,
   "metadata": {},
   "outputs": [
    {
     "name": "stdout",
     "output_type": "stream",
     "text": [
      "Train on 2000568 samples, validate on 499432 samples\n",
      "Epoch 1/2000\n",
      "2000568/2000568 [==============================] - 59s 29us/step - loss: 5.1235e-05 - mean_squared_error: 5.1235e-05 - val_loss: 8.2448e-07 - val_mean_squared_error: 8.2448e-07\n",
      "Epoch 2/2000\n",
      "2000568/2000568 [==============================] - 58s 29us/step - loss: 1.9111e-06 - mean_squared_error: 1.9111e-06 - val_loss: 6.5550e-07 - val_mean_squared_error: 6.5550e-07\n",
      "Epoch 3/2000\n",
      "2000568/2000568 [==============================] - 58s 29us/step - loss: 1.3329e-06 - mean_squared_error: 1.3329e-06 - val_loss: 6.1719e-07 - val_mean_squared_error: 6.1719e-07\n",
      "Epoch 4/2000\n",
      "2000568/2000568 [==============================] - 58s 29us/step - loss: 1.0733e-06 - mean_squared_error: 1.0733e-06 - val_loss: 1.0624e-06 - val_mean_squared_error: 1.0624e-06\n",
      "Epoch 5/2000\n",
      "2000568/2000568 [==============================] - 58s 29us/step - loss: 9.3511e-07 - mean_squared_error: 9.3511e-07 - val_loss: 4.0433e-07 - val_mean_squared_error: 4.0433e-07\n",
      "Epoch 6/2000\n",
      "2000568/2000568 [==============================] - 58s 29us/step - loss: 8.6148e-07 - mean_squared_error: 8.6148e-07 - val_loss: 6.8643e-07 - val_mean_squared_error: 6.8643e-07\n",
      "Epoch 7/2000\n",
      "2000568/2000568 [==============================] - 58s 29us/step - loss: 8.0642e-07 - mean_squared_error: 8.0642e-07 - val_loss: 4.1123e-07 - val_mean_squared_error: 4.1123e-07\n",
      "Epoch 8/2000\n",
      "2000568/2000568 [==============================] - 58s 29us/step - loss: 7.6265e-07 - mean_squared_error: 7.6265e-07 - val_loss: 1.7863e-07 - val_mean_squared_error: 1.7863e-07\n",
      "Epoch 9/2000\n",
      "2000568/2000568 [==============================] - 58s 29us/step - loss: 7.1145e-07 - mean_squared_error: 7.1145e-07 - val_loss: 5.7372e-07 - val_mean_squared_error: 5.7372e-07\n",
      "Epoch 10/2000\n",
      "2000568/2000568 [==============================] - 59s 29us/step - loss: 6.5704e-07 - mean_squared_error: 6.5704e-07 - val_loss: 1.7872e-06 - val_mean_squared_error: 1.7872e-06\n",
      "Epoch 11/2000\n",
      "2000568/2000568 [==============================] - 59s 29us/step - loss: 6.2040e-07 - mean_squared_error: 6.2040e-07 - val_loss: 2.1079e-07 - val_mean_squared_error: 2.1079e-07\n",
      "Epoch 12/2000\n",
      "2000568/2000568 [==============================] - 58s 29us/step - loss: 8.8252e-08 - mean_squared_error: 8.8252e-08 - val_loss: 9.4371e-08 - val_mean_squared_error: 9.4371e-08\n",
      "Epoch 13/2000\n",
      "2000568/2000568 [==============================] - 58s 29us/step - loss: 8.0169e-08 - mean_squared_error: 8.0169e-08 - val_loss: 7.7805e-08 - val_mean_squared_error: 7.7805e-08\n",
      "Epoch 14/2000\n",
      "2000568/2000568 [==============================] - 58s 29us/step - loss: 7.6199e-08 - mean_squared_error: 7.6199e-08 - val_loss: 7.1623e-08 - val_mean_squared_error: 7.1623e-08\n",
      "Epoch 15/2000\n",
      "2000568/2000568 [==============================] - 58s 29us/step - loss: 7.3520e-08 - mean_squared_error: 7.3520e-08 - val_loss: 7.9623e-08 - val_mean_squared_error: 7.9623e-08\n",
      "Epoch 16/2000\n",
      "2000568/2000568 [==============================] - 58s 29us/step - loss: 7.1505e-08 - mean_squared_error: 7.1505e-08 - val_loss: 8.2135e-08 - val_mean_squared_error: 8.2135e-08\n"
     ]
    },
    {
     "data": {
      "text/html": [
       "<div>\n",
       "<style scoped>\n",
       "    .dataframe tbody tr th:only-of-type {\n",
       "        vertical-align: middle;\n",
       "    }\n",
       "\n",
       "    .dataframe tbody tr th {\n",
       "        vertical-align: top;\n",
       "    }\n",
       "\n",
       "    .dataframe thead th {\n",
       "        text-align: right;\n",
       "    }\n",
       "</style>\n",
       "<table border=\"1\" class=\"dataframe\">\n",
       "  <thead>\n",
       "    <tr style=\"text-align: right;\">\n",
       "      <th></th>\n",
       "      <th>val_loss</th>\n",
       "      <th>val_mean_squared_error</th>\n",
       "      <th>loss</th>\n",
       "      <th>mean_squared_error</th>\n",
       "      <th>lr</th>\n",
       "    </tr>\n",
       "  </thead>\n",
       "  <tbody>\n",
       "    <tr>\n",
       "      <th>0</th>\n",
       "      <td>8.244822e-07</td>\n",
       "      <td>8.244822e-07</td>\n",
       "      <td>5.123538e-05</td>\n",
       "      <td>5.123538e-05</td>\n",
       "      <td>0.0020</td>\n",
       "    </tr>\n",
       "    <tr>\n",
       "      <th>1</th>\n",
       "      <td>6.554982e-07</td>\n",
       "      <td>6.554982e-07</td>\n",
       "      <td>1.911060e-06</td>\n",
       "      <td>1.911060e-06</td>\n",
       "      <td>0.0020</td>\n",
       "    </tr>\n",
       "    <tr>\n",
       "      <th>2</th>\n",
       "      <td>6.171949e-07</td>\n",
       "      <td>6.171949e-07</td>\n",
       "      <td>1.332883e-06</td>\n",
       "      <td>1.332883e-06</td>\n",
       "      <td>0.0020</td>\n",
       "    </tr>\n",
       "    <tr>\n",
       "      <th>3</th>\n",
       "      <td>1.062400e-06</td>\n",
       "      <td>1.062400e-06</td>\n",
       "      <td>1.073274e-06</td>\n",
       "      <td>1.073274e-06</td>\n",
       "      <td>0.0020</td>\n",
       "    </tr>\n",
       "    <tr>\n",
       "      <th>4</th>\n",
       "      <td>4.043287e-07</td>\n",
       "      <td>4.043287e-07</td>\n",
       "      <td>9.351061e-07</td>\n",
       "      <td>9.351061e-07</td>\n",
       "      <td>0.0020</td>\n",
       "    </tr>\n",
       "    <tr>\n",
       "      <th>5</th>\n",
       "      <td>6.864272e-07</td>\n",
       "      <td>6.864272e-07</td>\n",
       "      <td>8.614762e-07</td>\n",
       "      <td>8.614762e-07</td>\n",
       "      <td>0.0020</td>\n",
       "    </tr>\n",
       "    <tr>\n",
       "      <th>6</th>\n",
       "      <td>4.112297e-07</td>\n",
       "      <td>4.112297e-07</td>\n",
       "      <td>8.064198e-07</td>\n",
       "      <td>8.064198e-07</td>\n",
       "      <td>0.0020</td>\n",
       "    </tr>\n",
       "    <tr>\n",
       "      <th>7</th>\n",
       "      <td>1.786303e-07</td>\n",
       "      <td>1.786303e-07</td>\n",
       "      <td>7.626456e-07</td>\n",
       "      <td>7.626456e-07</td>\n",
       "      <td>0.0020</td>\n",
       "    </tr>\n",
       "    <tr>\n",
       "      <th>8</th>\n",
       "      <td>5.737249e-07</td>\n",
       "      <td>5.737249e-07</td>\n",
       "      <td>7.114478e-07</td>\n",
       "      <td>7.114478e-07</td>\n",
       "      <td>0.0020</td>\n",
       "    </tr>\n",
       "    <tr>\n",
       "      <th>9</th>\n",
       "      <td>1.787177e-06</td>\n",
       "      <td>1.787177e-06</td>\n",
       "      <td>6.570404e-07</td>\n",
       "      <td>6.570404e-07</td>\n",
       "      <td>0.0020</td>\n",
       "    </tr>\n",
       "    <tr>\n",
       "      <th>10</th>\n",
       "      <td>2.107892e-07</td>\n",
       "      <td>2.107892e-07</td>\n",
       "      <td>6.204031e-07</td>\n",
       "      <td>6.204031e-07</td>\n",
       "      <td>0.0020</td>\n",
       "    </tr>\n",
       "    <tr>\n",
       "      <th>11</th>\n",
       "      <td>9.437126e-08</td>\n",
       "      <td>9.437126e-08</td>\n",
       "      <td>8.825162e-08</td>\n",
       "      <td>8.825162e-08</td>\n",
       "      <td>0.0002</td>\n",
       "    </tr>\n",
       "    <tr>\n",
       "      <th>12</th>\n",
       "      <td>7.780512e-08</td>\n",
       "      <td>7.780512e-08</td>\n",
       "      <td>8.016908e-08</td>\n",
       "      <td>8.016908e-08</td>\n",
       "      <td>0.0002</td>\n",
       "    </tr>\n",
       "    <tr>\n",
       "      <th>13</th>\n",
       "      <td>7.162349e-08</td>\n",
       "      <td>7.162349e-08</td>\n",
       "      <td>7.619871e-08</td>\n",
       "      <td>7.619871e-08</td>\n",
       "      <td>0.0002</td>\n",
       "    </tr>\n",
       "    <tr>\n",
       "      <th>14</th>\n",
       "      <td>7.962332e-08</td>\n",
       "      <td>7.962332e-08</td>\n",
       "      <td>7.351999e-08</td>\n",
       "      <td>7.351999e-08</td>\n",
       "      <td>0.0002</td>\n",
       "    </tr>\n",
       "    <tr>\n",
       "      <th>15</th>\n",
       "      <td>8.213463e-08</td>\n",
       "      <td>8.213463e-08</td>\n",
       "      <td>7.150520e-08</td>\n",
       "      <td>7.150520e-08</td>\n",
       "      <td>0.0002</td>\n",
       "    </tr>\n",
       "  </tbody>\n",
       "</table>\n",
       "</div>"
      ],
      "text/plain": [
       "        val_loss  val_mean_squared_error          loss  mean_squared_error  \\\n",
       "0   8.244822e-07            8.244822e-07  5.123538e-05        5.123538e-05   \n",
       "1   6.554982e-07            6.554982e-07  1.911060e-06        1.911060e-06   \n",
       "2   6.171949e-07            6.171949e-07  1.332883e-06        1.332883e-06   \n",
       "3   1.062400e-06            1.062400e-06  1.073274e-06        1.073274e-06   \n",
       "4   4.043287e-07            4.043287e-07  9.351061e-07        9.351061e-07   \n",
       "5   6.864272e-07            6.864272e-07  8.614762e-07        8.614762e-07   \n",
       "6   4.112297e-07            4.112297e-07  8.064198e-07        8.064198e-07   \n",
       "7   1.786303e-07            1.786303e-07  7.626456e-07        7.626456e-07   \n",
       "8   5.737249e-07            5.737249e-07  7.114478e-07        7.114478e-07   \n",
       "9   1.787177e-06            1.787177e-06  6.570404e-07        6.570404e-07   \n",
       "10  2.107892e-07            2.107892e-07  6.204031e-07        6.204031e-07   \n",
       "11  9.437126e-08            9.437126e-08  8.825162e-08        8.825162e-08   \n",
       "12  7.780512e-08            7.780512e-08  8.016908e-08        8.016908e-08   \n",
       "13  7.162349e-08            7.162349e-08  7.619871e-08        7.619871e-08   \n",
       "14  7.962332e-08            7.962332e-08  7.351999e-08        7.351999e-08   \n",
       "15  8.213463e-08            8.213463e-08  7.150520e-08        7.150520e-08   \n",
       "\n",
       "        lr  \n",
       "0   0.0020  \n",
       "1   0.0020  \n",
       "2   0.0020  \n",
       "3   0.0020  \n",
       "4   0.0020  \n",
       "5   0.0020  \n",
       "6   0.0020  \n",
       "7   0.0020  \n",
       "8   0.0020  \n",
       "9   0.0020  \n",
       "10  0.0020  \n",
       "11  0.0002  \n",
       "12  0.0002  \n",
       "13  0.0002  \n",
       "14  0.0002  \n",
       "15  0.0002  "
      ]
     },
     "execution_count": 18,
     "metadata": {},
     "output_type": "execute_result"
    }
   ],
   "source": [
    "# Train model\n",
    "cpm.run_training(save_history = True, \n",
    "                 warm_start = False)"
   ]
  },
  {
   "cell_type": "code",
   "execution_count": 13,
   "metadata": {},
   "outputs": [],
   "source": [
    "p  = {'a': [1], 'c': [5], 'b': [5]}"
   ]
  },
  {
   "cell_type": "code",
   "execution_count": 29,
   "metadata": {},
   "outputs": [
    {
     "data": {
      "text/plain": [
       "array([[1, 5, 5]])"
      ]
     },
     "execution_count": 29,
     "metadata": {},
     "output_type": "execute_result"
    }
   ],
   "source": [
    "pd.DataFrame(p).values"
   ]
  },
  {
   "cell_type": "code",
   "execution_count": 26,
   "metadata": {},
   "outputs": [
    {
     "data": {
      "text/plain": [
       "(1, 3)"
      ]
     },
     "execution_count": 26,
     "metadata": {},
     "output_type": "execute_result"
    }
   ],
   "source": [
    "np.array(list(p.values())).T.shape"
   ]
  },
  {
   "cell_type": "code",
   "execution_count": null,
   "metadata": {},
   "outputs": [],
   "source": []
  }
 ],
 "metadata": {
  "kernelspec": {
   "display_name": "tf",
   "language": "python",
   "name": "tf"
  },
  "language_info": {
   "codemirror_mode": {
    "name": "ipython",
    "version": 3
   },
   "file_extension": ".py",
   "mimetype": "text/x-python",
   "name": "python",
   "nbconvert_exporter": "python",
   "pygments_lexer": "ipython3",
   "version": "3.6.5"
  }
 },
 "nbformat": 4,
 "nbformat_minor": 2
}
