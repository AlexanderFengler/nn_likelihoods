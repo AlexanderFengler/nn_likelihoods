{
 "cells": [
  {
   "cell_type": "code",
   "execution_count": 1,
   "metadata": {},
   "outputs": [],
   "source": [
    "import cddm_data_simulation as ddm_sim\n",
    "import scipy as scp\n",
    "import tensorflow as tf\n",
    "from scipy.stats import gamma\n",
    "import numpy as np\n",
    "import pandas as pd\n",
    "import matplotlib.pyplot as plt\n",
    "from sklearn.neighbors import KernelDensity\n",
    "import random\n",
    "#import kde_class\n",
    "import multiprocessing as mp\n",
    "import psutil\n",
    "import pickle \n",
    "import os\n",
    "import re\n",
    "\n",
    "import kde_training_utilities as kde_util\n",
    "import kde_class as kde\n",
    "import boundary_functions as bf\n",
    "import kde_training_utilities as kde_utils"
   ]
  },
  {
   "cell_type": "code",
   "execution_count": 2,
   "metadata": {},
   "outputs": [],
   "source": [
    "# Simulate from Standard DDM\n",
    "my_samples = ddm_sim.ddm_flexbound(v = 2, \n",
    "                                   a = 0.6, \n",
    "                                   w = 0.5, \n",
    "                                   ndt = 1,\n",
    "                                   s = 1,\n",
    "                                   boundary_fun = bf.constant,\n",
    "                                   boundary_multiplicative = True,\n",
    "                                   delta_t = 0.01,\n",
    "                                   max_t = 20,\n",
    "                                   n_samples = 1000,\n",
    "                                   print_info = True)"
   ]
  },
  {
   "cell_type": "code",
   "execution_count": 3,
   "metadata": {},
   "outputs": [
    {
     "name": "stdout",
     "output_type": "stream",
     "text": [
      "0\n"
     ]
    },
    {
     "data": {
      "text/plain": [
       "array([[ 1.84701751e+00, -1.00000000e+00, -5.01663141e+00],\n",
       "       [ 1.22595801e+00, -1.00000000e+00, -1.65231423e+00],\n",
       "       [ 1.33652600e+00, -1.00000000e+00, -2.24651705e+00],\n",
       "       [ 1.45852070e+00, -1.00000000e+00, -2.90829072e+00],\n",
       "       [ 1.08278508e+00, -1.00000000e+00, -1.23237826e+00],\n",
       "       [ 1.35304251e+00, -1.00000000e+00, -2.33604369e+00],\n",
       "       [ 1.45491321e+00, -1.00000000e+00, -2.88871416e+00],\n",
       "       [ 1.14753218e+00,  1.00000000e+00,  1.12548904e+00],\n",
       "       [ 1.40864447e+00,  1.00000000e+00, -2.37645526e-01],\n",
       "       [ 1.28727392e+00,  1.00000000e+00,  4.19926641e-01],\n",
       "       [ 1.10519633e+00,  1.00000000e+00,  1.22664372e+00],\n",
       "       [ 1.37615370e+00,  1.00000000e+00, -6.13786326e-02],\n",
       "       [ 1.55706757e+00,  1.00000000e+00, -1.04308942e+00],\n",
       "       [ 1.49888342e+00,  1.00000000e+00, -7.27329945e-01],\n",
       "       [ 1.06168698e+00,  1.00000000e+00,  9.07427660e-01],\n",
       "       [ 2.05020780e+00,  1.00000000e+00, -3.71933394e+00],\n",
       "       [ 1.07871750e+00,  1.00000000e+00,  1.13897737e+00],\n",
       "       [ 1.34134696e+00,  1.00000000e+00,  1.27356503e-01],\n",
       "       [ 1.11248440e+00,  1.00000000e+00,  1.22244794e+00],\n",
       "       [ 1.33820064e+00,  1.00000000e+00,  1.44408109e-01],\n",
       "       [ 1.26500052e+00,  1.00000000e+00,  5.39842618e-01],\n",
       "       [ 1.06983663e+00,  1.00000000e+00,  1.04551343e+00],\n",
       "       [ 1.13107766e+00,  1.00000000e+00,  1.18274592e+00],\n",
       "       [ 1.15178392e+00,  1.00000000e+00,  1.10849018e+00],\n",
       "       [ 1.71297431e+00,  1.00000000e+00, -1.88918613e+00],\n",
       "       [ 1.37379667e+00,  1.00000000e+00, -4.85937728e-02],\n",
       "       [ 1.33181349e+00,  1.00000000e+00,  1.79016824e-01],\n",
       "       [ 1.27254132e+00,  1.00000000e+00,  4.99311778e-01],\n",
       "       [ 1.20951426e+00,  1.00000000e+00,  8.33411666e-01],\n",
       "       [ 1.36547621e+00,  1.00000000e+00, -3.46633326e-03],\n",
       "       [ 1.58136017e+00,  1.00000000e+00, -1.17492367e+00],\n",
       "       [ 1.50831068e+00,  1.00000000e+00, -7.78490374e-01],\n",
       "       [ 1.35116238e+00,  1.00000000e+00,  7.41498423e-02],\n",
       "       [ 1.05499044e+00,  1.00000000e+00,  7.37852491e-01],\n",
       "       [ 1.19374699e+00,  1.00000000e+00,  9.13721496e-01],\n",
       "       [ 1.09887286e+00,  1.00000000e+00,  1.22284958e+00],\n",
       "       [ 1.13658014e+00,  1.00000000e+00,  1.16535446e+00],\n",
       "       [ 1.07512530e+00,  1.00000000e+00,  1.10688492e+00],\n",
       "       [ 1.16981438e+00,  1.00000000e+00,  1.02957716e+00],\n",
       "       [ 1.31956446e+00,  1.00000000e+00,  2.45357512e-01],\n",
       "       [ 1.10248865e+00,  1.00000000e+00,  1.22596891e+00],\n",
       "       [ 1.17362737e+00,  1.00000000e+00,  1.01179334e+00],\n",
       "       [ 1.43605365e+00,  1.00000000e+00, -3.86372038e-01],\n",
       "       [ 1.05488774e+00,  1.00000000e+00,  7.34737141e-01],\n",
       "       [ 1.75788277e+00,  1.00000000e+00, -2.13290192e+00],\n",
       "       [ 1.26287757e+00,  1.00000000e+00,  5.51237683e-01],\n",
       "       [ 1.24737472e+00,  1.00000000e+00,  6.34189465e-01],\n",
       "       [ 1.20331528e+00,  1.00000000e+00,  8.65254929e-01],\n",
       "       [ 1.11696834e+00,  1.00000000e+00,  1.21618563e+00],\n",
       "       [ 1.09616669e+00,  1.00000000e+00,  1.21865983e+00],\n",
       "       [ 1.40530629e+00,  1.00000000e+00, -2.19533297e-01],\n",
       "       [ 1.23153315e+00,  1.00000000e+00,  7.18302300e-01],\n",
       "       [ 1.42405751e+00,  1.00000000e+00, -3.21277145e-01],\n",
       "       [ 1.10956381e+00,  1.00000000e+00,  1.22509629e+00],\n",
       "       [ 1.29342211e+00,  1.00000000e+00,  3.86737664e-01],\n",
       "       [ 1.15622842e+00,  1.00000000e+00,  1.08997605e+00],\n",
       "       [ 1.22544858e+00,  1.00000000e+00,  7.50363904e-01],\n",
       "       [ 1.16313882e+00,  1.00000000e+00,  1.05989376e+00],\n",
       "       [ 1.03848009e+00,  1.00000000e+00, -9.80465537e-02],\n",
       "       [ 1.80991500e+00,  1.00000000e+00, -2.41527799e+00],\n",
       "       [ 1.26359047e+00,  1.00000000e+00,  5.47411946e-01],\n",
       "       [ 1.09214132e+00,  1.00000000e+00,  1.20907937e+00],\n",
       "       [ 1.01614384e+00,  1.00000000e+00, -5.22248838e+00],\n",
       "       [ 1.10793211e+00,  1.00000000e+00,  1.22603104e+00],\n",
       "       [ 1.15363406e+00,  1.00000000e+00,  1.10087012e+00],\n",
       "       [ 1.13903836e+00,  1.00000000e+00,  1.15696513e+00],\n",
       "       [ 1.02499992e+00,  1.00000000e+00, -1.94646427e+00],\n",
       "       [ 1.14687378e+00,  1.00000000e+00,  1.12805307e+00],\n",
       "       [ 1.13995324e+00,  1.00000000e+00,  1.15375385e+00],\n",
       "       [ 1.23528897e+00,  1.00000000e+00,  6.98436238e-01],\n",
       "       [ 1.03289909e+00,  1.00000000e+00, -6.45373748e-01],\n",
       "       [ 1.39176071e+00,  1.00000000e+00, -1.46042310e-01],\n",
       "       [ 1.11492619e+00,  1.00000000e+00,  1.21934771e+00],\n",
       "       [ 1.39416335e+00,  1.00000000e+00, -1.59077167e-01],\n",
       "       [ 1.02508706e+00,  1.00000000e+00, -1.92684816e+00],\n",
       "       [ 1.65435258e+00,  1.00000000e+00, -1.57104924e+00],\n",
       "       [ 1.05622698e+00,  1.00000000e+00,  7.74009347e-01],\n",
       "       [ 1.55060484e+00,  1.00000000e+00, -1.00801665e+00],\n",
       "       [ 1.32619231e+00,  1.00000000e+00,  2.09466652e-01],\n",
       "       [ 1.35522791e+00,  1.00000000e+00,  5.21072663e-02],\n",
       "       [ 1.65216368e+00,  1.00000000e+00, -1.55917018e+00],\n",
       "       [ 1.45634453e+00,  1.00000000e+00, -4.96481308e-01],\n",
       "       [ 1.55734759e+00,  1.00000000e+00, -1.04460905e+00],\n",
       "       [ 1.10093265e+00,  1.00000000e+00,  1.22495388e+00],\n",
       "       [ 1.19464644e+00,  1.00000000e+00,  9.09206058e-01],\n",
       "       [ 1.24511639e+00,  1.00000000e+00,  6.46227268e-01],\n",
       "       [ 1.32297361e+00,  1.00000000e+00,  2.26898188e-01],\n",
       "       [ 1.07279084e+00,  1.00000000e+00,  1.08206315e+00],\n",
       "       [ 1.29008942e+00,  1.00000000e+00,  4.04731773e-01],\n",
       "       [ 1.11410107e+00,  1.00000000e+00,  1.22048097e+00],\n",
       "       [ 1.71091344e+00,  1.00000000e+00, -1.87800189e+00],\n",
       "       [ 2.02016903e+00,  1.00000000e+00, -3.55631518e+00],\n",
       "       [ 1.55822332e+00,  1.00000000e+00, -1.04936161e+00],\n",
       "       [ 1.30845449e+00,  1.00000000e+00,  3.05483195e-01],\n",
       "       [ 1.23940195e+00,  1.00000000e+00,  6.76622898e-01],\n",
       "       [ 1.24668699e+00,  1.00000000e+00,  6.37856758e-01],\n",
       "       [ 1.63046128e+00,  1.00000000e+00, -1.44139248e+00],\n",
       "       [ 1.23258252e+00,  1.00000000e+00,  7.12757168e-01],\n",
       "       [ 1.27044004e+00,  1.00000000e+00,  5.10613918e-01],\n",
       "       [ 1.20975587e+00,  1.00000000e+00,  8.32164513e-01],\n",
       "       [ 6.09504709e+00, -1.00000000e+00, -2.80704573e+01],\n",
       "       [ 9.63754042e+00, -1.00000000e+00, -4.72953762e+01],\n",
       "       [ 1.34318183e+01, -1.00000000e+00, -6.78867161e+01],\n",
       "       [ 1.49106036e+00,  1.00000000e+00, -6.84875426e-01],\n",
       "       [ 1.60160545e+01, -1.00000000e+00, -8.19112256e+01],\n",
       "       [ 7.69526563e+00,  1.00000000e+00, -3.43547563e+01],\n",
       "       [ 1.78398807e+01, -1.00000000e+00, -9.18090315e+01],\n",
       "       [ 1.80489337e+01, -1.00000000e+00, -9.29435508e+01],\n",
       "       [ 1.40946907e+01,  1.00000000e+00, -6.90840887e+01],\n",
       "       [ 1.17420717e+01, -1.00000000e+00, -5.87165534e+01],\n",
       "       [ 1.37435776e+01,  1.00000000e+00, -6.71786167e+01],\n",
       "       [ 1.52063037e+01,  1.00000000e+00, -7.51167521e+01],\n",
       "       [ 1.89619085e+01, -1.00000000e+00, -9.78982153e+01],\n",
       "       [ 8.72546438e+00,  1.00000000e+00, -3.99455890e+01],\n",
       "       [ 1.12103765e+01, -1.00000000e+00, -5.58310720e+01],\n",
       "       [ 2.30785496e+00,  1.00000000e+00, -5.11757112e+00],\n",
       "       [ 1.96159935e+01, -1.00000000e+00, -1.01447899e+02],\n",
       "       [ 6.84631492e+00, -1.00000000e+00, -3.21475470e+01],\n",
       "       [ 1.92793213e+01, -1.00000000e+00, -9.96207978e+01],\n",
       "       [ 1.63883762e+01,  1.00000000e+00, -8.15317951e+01],\n",
       "       [ 5.11257859e+00,  1.00000000e+00, -2.03386540e+01],\n",
       "       [ 6.64643987e-01,  1.00000000e+00, -1.10524084e+02],\n",
       "       [ 1.92141688e+01,  1.00000000e+00, -9.68672184e+01],\n",
       "       [ 5.76567008e+00, -1.00000000e+00, -2.62829461e+01],\n",
       "       [ 1.81248535e+01,  1.00000000e+00, -9.09555634e+01],\n",
       "       [ 1.76588946e+01, -1.00000000e+00, -9.08268297e+01],\n",
       "       [ 9.18771016e+00,  1.00000000e+00, -4.24541717e+01],\n",
       "       [ 3.64702881e+00, -1.00000000e+00, -1.47851950e+01],\n",
       "       [ 3.89388886e+00, -1.00000000e+00, -1.61248911e+01],\n",
       "       [ 1.54740538e+01,  1.00000000e+00, -7.65698173e+01],\n",
       "       [ 7.02781740e+00, -1.00000000e+00, -3.31325511e+01],\n",
       "       [ 1.45218491e+01,  1.00000000e+00, -7.14022541e+01],\n",
       "       [ 1.56721092e+00,  1.00000000e+00, -1.09813664e+00],\n",
       "       [ 1.22948794e+01, -1.00000000e+00, -6.17166106e+01],\n",
       "       [ 1.61496385e+01,  1.00000000e+00, -8.02361786e+01],\n",
       "       [ 6.91816196e+00, -1.00000000e+00, -3.25374569e+01],\n",
       "       [ 1.50000532e+01, -1.00000000e+00, -7.63974420e+01],\n",
       "       [ 4.68189295e+00, -1.00000000e+00, -2.04013465e+01],\n",
       "       [ 9.02492122e+00, -1.00000000e+00, -4.39707251e+01],\n",
       "       [ 1.62738904e+01, -1.00000000e+00, -8.33104870e+01],\n",
       "       [ 1.87706716e+01, -1.00000000e+00, -9.68603833e+01],\n",
       "       [ 2.66301603e+00, -1.00000000e+00, -9.44501107e+00],\n",
       "       [ 1.30887963e+00,  1.00000000e+00,  3.03183361e-01],\n",
       "       [ 3.73842545e+00,  1.00000000e+00, -1.28811995e+01],\n",
       "       [ 2.35954581e+00, -1.00000000e+00, -7.79809466e+00],\n",
       "       [ 1.76889028e+01,  1.00000000e+00, -8.85896828e+01],\n",
       "       [ 7.91174006e+00,  1.00000000e+00, -3.55295513e+01],\n",
       "       [ 4.65649307e-01,  1.00000000e+00, -1.10524084e+02],\n",
       "       [ 1.15548765e+01, -1.00000000e+00, -5.77006549e+01],\n",
       "       [ 1.25959335e+01, -1.00000000e+00, -6.33504147e+01],\n",
       "       [ 1.03052010e+01, -1.00000000e+00, -5.09187338e+01],\n",
       "       [ 7.04889277e+00,  1.00000000e+00, -3.08469259e+01],\n",
       "       [ 1.90332314e+01,  1.00000000e+00, -9.58852807e+01],\n",
       "       [ 5.29050889e+00,  1.00000000e+00, -2.13042721e+01],\n",
       "       [ 1.20237944e+01,  1.00000000e+00, -5.78454467e+01],\n",
       "       [ 1.61435376e+01, -1.00000000e+00, -8.26030696e+01],\n",
       "       [ 9.42545686e+00,  1.00000000e+00, -4.37444101e+01],\n",
       "       [ 1.53419446e+01, -1.00000000e+00, -7.82528678e+01],\n",
       "       [ 1.28765690e+01,  1.00000000e+00, -6.24734082e+01],\n",
       "       [ 1.97910952e+01,  1.00000000e+00, -9.99981665e+01],\n",
       "       [ 4.99190245e+00,  1.00000000e+00, -1.96837511e+01],\n",
       "       [ 1.49394190e+01,  1.00000000e+00, -7.36683835e+01],\n",
       "       [ 1.04841769e+00, -1.00000000e+00, -1.90241440e+00],\n",
       "       [ 7.55489012e+00,  1.00000000e+00, -3.35929460e+01],\n",
       "       [ 8.84067589e+00, -1.00000000e+00, -4.29708357e+01],\n",
       "       [ 1.23170402e+00,  1.00000000e+00,  7.17399706e-01],\n",
       "       [ 5.70262319e+00, -1.00000000e+00, -2.59407940e+01],\n",
       "       [ 1.08384754e+01,  1.00000000e+00, -5.14127852e+01],\n",
       "       [ 2.82364017e+00, -1.00000000e+00, -1.03167095e+01],\n",
       "       [ 1.29840157e+01, -1.00000000e+00, -6.54565157e+01],\n",
       "       [ 1.32412798e+01,  1.00000000e+00, -6.44526743e+01],\n",
       "       [ 3.46871977e+00, -1.00000000e+00, -1.38175215e+01],\n",
       "       [ 9.30698621e+00, -1.00000000e+00, -4.55014765e+01],\n",
       "       [ 9.50524353e+00, -1.00000000e+00, -4.65774082e+01],\n",
       "       [ 7.32901377e+00,  1.00000000e+00, -3.23671273e+01],\n",
       "       [ 9.58021170e+00,  1.00000000e+00, -4.45842562e+01],\n",
       "       [ 2.96953426e+00, -1.00000000e+00, -1.11084688e+01],\n",
       "       [ 1.41056472e+01, -1.00000000e+00, -7.15435492e+01],\n",
       "       [ 1.90507022e+01,  1.00000000e+00, -9.59800942e+01],\n",
       "       [ 1.29114333e+01,  1.00000000e+00, -6.26626150e+01],\n",
       "       [ 1.35738705e+01, -1.00000000e+00, -6.86576260e+01],\n",
       "       [ 7.84512462e+00,  1.00000000e+00, -3.51680329e+01],\n",
       "       [ 1.64813508e+01,  1.00000000e+00, -8.20363634e+01],\n",
       "       [ 8.48186053e+00,  1.00000000e+00, -3.86235641e+01],\n",
       "       [ 4.49876833e-01, -1.00000000e+00, -1.10524084e+02],\n",
       "       [ 8.08628698e+00,  1.00000000e+00, -3.64768079e+01],\n",
       "       [ 1.23066621e+01, -1.00000000e+00, -6.17805544e+01],\n",
       "       [ 3.38983666e+00, -1.00000000e+00, -1.33894271e+01],\n",
       "       [ 8.87471485e+00,  1.00000000e+00, -4.07555632e+01],\n",
       "       [ 4.16879292e+00,  1.00000000e+00, -1.52167804e+01],\n",
       "       [ 1.46485819e+01,  1.00000000e+00, -7.20900262e+01],\n",
       "       [ 1.73869693e+01,  1.00000000e+00, -8.69511059e+01],\n",
       "       [ 5.53243288e+00, -1.00000000e+00, -2.50171805e+01],\n",
       "       [ 7.67912318e+00, -1.00000000e+00, -3.66671522e+01],\n",
       "       [ 8.50358940e+00, -1.00000000e+00, -4.11414856e+01],\n",
       "       [ 2.58889752e-01, -1.00000000e+00, -1.10524084e+02],\n",
       "       [ 8.69920142e+00, -1.00000000e+00, -4.22030614e+01],\n",
       "       [ 2.42093235e+00, -1.00000000e+00, -8.13123606e+00],\n",
       "       [ 7.98234891e+00,  1.00000000e+00, -3.59127416e+01],\n",
       "       [ 5.33044825e+00,  1.00000000e+00, -2.15210208e+01],\n",
       "       [-1.00081933e-01, -1.00000000e+00, -6.67749700e+01],\n",
       "       [-6.86993296e-01, -1.00000000e+00, -6.67749700e+01],\n",
       "       [-4.65069481e-01, -1.00000000e+00, -6.67749700e+01],\n",
       "       [-7.81162194e-01, -1.00000000e+00, -6.67749700e+01],\n",
       "       [-8.64544235e-02,  1.00000000e+00, -6.67749700e+01],\n",
       "       [-4.52985379e-01, -1.00000000e+00, -6.67749700e+01],\n",
       "       [-7.65052212e-01,  1.00000000e+00, -6.67749700e+01],\n",
       "       [-2.36969314e-01,  1.00000000e+00, -6.67749700e+01],\n",
       "       [-6.38607930e-01,  1.00000000e+00, -6.67749700e+01],\n",
       "       [-5.36726763e-01,  1.00000000e+00, -6.67749700e+01],\n",
       "       [-7.40965264e-01, -1.00000000e+00, -6.67749700e+01],\n",
       "       [-5.83829890e-01, -1.00000000e+00, -6.67749700e+01],\n",
       "       [-1.64923488e-01,  1.00000000e+00, -6.67749700e+01],\n",
       "       [-7.70491970e-01, -1.00000000e+00, -6.67749700e+01],\n",
       "       [-9.55747112e-01, -1.00000000e+00, -6.67749700e+01],\n",
       "       [-3.12686850e-01,  1.00000000e+00, -6.67749700e+01],\n",
       "       [-5.91039943e-01,  1.00000000e+00, -6.67749700e+01],\n",
       "       [-3.62823763e-01, -1.00000000e+00, -6.67749700e+01],\n",
       "       [-7.96641847e-01,  1.00000000e+00, -6.67749700e+01],\n",
       "       [-8.37812994e-01,  1.00000000e+00, -6.67749700e+01],\n",
       "       [-7.51764517e-01, -1.00000000e+00, -6.67749700e+01],\n",
       "       [-3.00072345e-01,  1.00000000e+00, -6.67749700e+01],\n",
       "       [-7.96031220e-01, -1.00000000e+00, -6.67749700e+01],\n",
       "       [-7.62656650e-01,  1.00000000e+00, -6.67749700e+01],\n",
       "       [-1.97257344e-01, -1.00000000e+00, -6.67749700e+01],\n",
       "       [-7.69815152e-01,  1.00000000e+00, -6.67749700e+01],\n",
       "       [-8.88366751e-01,  1.00000000e+00, -6.67749700e+01],\n",
       "       [-2.55168752e-01,  1.00000000e+00, -6.67749700e+01],\n",
       "       [-1.52617089e-01,  1.00000000e+00, -6.67749700e+01],\n",
       "       [-2.20831604e-01, -1.00000000e+00, -6.67749700e+01],\n",
       "       [-6.63598653e-01, -1.00000000e+00, -6.67749700e+01],\n",
       "       [-8.53390968e-01, -1.00000000e+00, -6.67749700e+01],\n",
       "       [-4.44660362e-01,  1.00000000e+00, -6.67749700e+01],\n",
       "       [-4.28905261e-02,  1.00000000e+00, -6.67749700e+01],\n",
       "       [-9.59657515e-01, -1.00000000e+00, -6.67749700e+01],\n",
       "       [-3.30673826e-01, -1.00000000e+00, -6.67749700e+01],\n",
       "       [-1.22280940e-01, -1.00000000e+00, -6.67749700e+01],\n",
       "       [-8.87293050e-01, -1.00000000e+00, -6.67749700e+01],\n",
       "       [-2.40151698e-01,  1.00000000e+00, -6.67749700e+01],\n",
       "       [-8.16995165e-01,  1.00000000e+00, -6.67749700e+01],\n",
       "       [-2.41114254e-01, -1.00000000e+00, -6.67749700e+01],\n",
       "       [-8.42593457e-01, -1.00000000e+00, -6.67749700e+01],\n",
       "       [-2.54353656e-01, -1.00000000e+00, -6.67749700e+01],\n",
       "       [-9.39038929e-01,  1.00000000e+00, -6.67749700e+01],\n",
       "       [-8.05652076e-01, -1.00000000e+00, -6.67749700e+01],\n",
       "       [-7.71023203e-01, -1.00000000e+00, -6.67749700e+01],\n",
       "       [-8.33882728e-01, -1.00000000e+00, -6.67749700e+01],\n",
       "       [-3.34012233e-01, -1.00000000e+00, -6.67749700e+01],\n",
       "       [-5.05043618e-02,  1.00000000e+00, -6.67749700e+01],\n",
       "       [-4.61067631e-01,  1.00000000e+00, -6.67749700e+01],\n",
       "       [-2.87742896e-01,  1.00000000e+00, -6.67749700e+01],\n",
       "       [-1.06599531e-02, -1.00000000e+00, -6.67749700e+01],\n",
       "       [-7.80100040e-01, -1.00000000e+00, -6.67749700e+01],\n",
       "       [-3.42003940e-01, -1.00000000e+00, -6.67749700e+01],\n",
       "       [-5.80817859e-01,  1.00000000e+00, -6.67749700e+01],\n",
       "       [-1.74199359e-02, -1.00000000e+00, -6.67749700e+01],\n",
       "       [-6.02643791e-01,  1.00000000e+00, -6.67749700e+01],\n",
       "       [-6.36993551e-01,  1.00000000e+00, -6.67749700e+01],\n",
       "       [-2.82596259e-01, -1.00000000e+00, -6.67749700e+01],\n",
       "       [-5.89022607e-01, -1.00000000e+00, -6.67749700e+01],\n",
       "       [-1.15792339e-01,  1.00000000e+00, -6.67749700e+01],\n",
       "       [-2.63911503e-01, -1.00000000e+00, -6.67749700e+01],\n",
       "       [-2.89726141e-02,  1.00000000e+00, -6.67749700e+01],\n",
       "       [-8.38052524e-02, -1.00000000e+00, -6.67749700e+01],\n",
       "       [-9.55407200e-01,  1.00000000e+00, -6.67749700e+01],\n",
       "       [-5.23346025e-01,  1.00000000e+00, -6.67749700e+01],\n",
       "       [-4.87814269e-01, -1.00000000e+00, -6.67749700e+01],\n",
       "       [-3.05957987e-01, -1.00000000e+00, -6.67749700e+01],\n",
       "       [-8.53165528e-01,  1.00000000e+00, -6.67749700e+01],\n",
       "       [-3.82365824e-01, -1.00000000e+00, -6.67749700e+01],\n",
       "       [-2.69645222e-01, -1.00000000e+00, -6.67749700e+01],\n",
       "       [-5.13450303e-01, -1.00000000e+00, -6.67749700e+01],\n",
       "       [-2.86842158e-01, -1.00000000e+00, -6.67749700e+01],\n",
       "       [-7.27278048e-01, -1.00000000e+00, -6.67749700e+01],\n",
       "       [-8.94403223e-01, -1.00000000e+00, -6.67749700e+01],\n",
       "       [-1.20295700e-01, -1.00000000e+00, -6.67749700e+01],\n",
       "       [-6.78323201e-01,  1.00000000e+00, -6.67749700e+01],\n",
       "       [-1.41971778e-01,  1.00000000e+00, -6.67749700e+01],\n",
       "       [-8.32350161e-01, -1.00000000e+00, -6.67749700e+01],\n",
       "       [-4.74140037e-01,  1.00000000e+00, -6.67749700e+01],\n",
       "       [-3.17247282e-01, -1.00000000e+00, -6.67749700e+01],\n",
       "       [-9.96402969e-01, -1.00000000e+00, -6.67749700e+01],\n",
       "       [-9.96956857e-01, -1.00000000e+00, -6.67749700e+01],\n",
       "       [-9.48019352e-01,  1.00000000e+00, -6.67749700e+01],\n",
       "       [-1.17741245e-01,  1.00000000e+00, -6.67749700e+01],\n",
       "       [-8.76698663e-01, -1.00000000e+00, -6.67749700e+01],\n",
       "       [-5.59041177e-01,  1.00000000e+00, -6.67749700e+01],\n",
       "       [-1.46861593e-01,  1.00000000e+00, -6.67749700e+01],\n",
       "       [-2.69575282e-01,  1.00000000e+00, -6.67749700e+01],\n",
       "       [-9.35814381e-01,  1.00000000e+00, -6.67749700e+01],\n",
       "       [-8.55574742e-01,  1.00000000e+00, -6.67749700e+01],\n",
       "       [-1.15293602e-02,  1.00000000e+00, -6.67749700e+01],\n",
       "       [-8.11834272e-01,  1.00000000e+00, -6.67749700e+01],\n",
       "       [-6.51868662e-01, -1.00000000e+00, -6.67749700e+01],\n",
       "       [-8.79543146e-01, -1.00000000e+00, -6.67749700e+01],\n",
       "       [-8.13289100e-01,  1.00000000e+00, -6.67749700e+01],\n",
       "       [-4.41381984e-01,  1.00000000e+00, -6.67749700e+01],\n",
       "       [-6.33499233e-01,  1.00000000e+00, -6.67749700e+01],\n",
       "       [-5.06469392e-02,  1.00000000e+00, -6.67749700e+01],\n",
       "       [-8.41899356e-01,  1.00000000e+00, -6.67749700e+01]])"
      ]
     },
     "execution_count": 3,
     "metadata": {},
     "output_type": "execute_result"
    }
   ],
   "source": [
    "kde_utils.make_fpdt_data(data = np.concatenate((my_samples[0], my_samples[1]), axis = 1),\n",
    "                         metadata = my_samples[2], \n",
    "                         keep_file = 1)"
   ]
  },
  {
   "cell_type": "code",
   "execution_count": 13,
   "metadata": {},
   "outputs": [
    {
     "data": {
      "text/plain": [
       "(1000, 2)"
      ]
     },
     "execution_count": 13,
     "metadata": {},
     "output_type": "execute_result"
    }
   ],
   "source": [
    "np.concatenate((my_samples[0], my_samples[1]), axis = 1).shape"
   ]
  },
  {
   "cell_type": "code",
   "execution_count": 8,
   "metadata": {},
   "outputs": [
    {
     "data": {
      "text/plain": [
       "(1000, 1)"
      ]
     },
     "execution_count": 8,
     "metadata": {},
     "output_type": "execute_result"
    }
   ],
   "source": [
    "my_samples[1].shape"
   ]
  },
  {
   "cell_type": "code",
   "execution_count": 60,
   "metadata": {},
   "outputs": [],
   "source": [
    "# Set up KDE \n",
    "my_log_kdes = kde.logkde(my_samples)\n",
    "dat_eval = np.arange(0.0001, 3, 0.01)\n",
    "dat_eval_len = len(dat_eval)\n",
    "\n",
    "# Evaluations on positive and negative axes\n",
    "evals_p1 = my_log_kdes.kde_eval(data = (dat_eval, \n",
    "                                        np.repeat(1, dat_eval_len)),\n",
    "                                log_eval = False)\n",
    "\n",
    "evals_m1 = my_log_kdes.kde_eval(data = (dat_eval, \n",
    "                                        np.repeat(-1, dat_eval_len)),\n",
    "                               log_eval = False)\n"
   ]
  },
  {
   "cell_type": "code",
   "execution_count": 61,
   "metadata": {},
   "outputs": [
    {
     "data": {
      "text/plain": [
       "(array([3.08166579e-04, 6.16333158e-04, 1.23266632e-03, 2.15716605e-03,\n",
       "        3.08166579e-03, 1.26348297e-02, 2.12634940e-02, 4.19106548e-02,\n",
       "        1.04468470e-01, 1.84283614e-01, 2.68104924e-02, 0.00000000e+00,\n",
       "        0.00000000e+00, 0.00000000e+00, 0.00000000e+00, 0.00000000e+00,\n",
       "        0.00000000e+00, 0.00000000e+00, 0.00000000e+00, 0.00000000e+00,\n",
       "        0.00000000e+00, 0.00000000e+00, 0.00000000e+00, 1.94576378e+00,\n",
       "        1.99291327e+00, 9.79661555e-01, 4.74576532e-01, 1.98151110e-01,\n",
       "        9.58398061e-02, 4.00616553e-02, 2.03389942e-02, 8.93683080e-03,\n",
       "        3.38983237e-03, 2.15716605e-03, 1.84899948e-03, 6.16333158e-04,\n",
       "        0.00000000e+00, 0.00000000e+00, 0.00000000e+00, 3.08166579e-04]),\n",
       " array([-2.72999859, -2.56774868, -2.40549877, -2.24324886, -2.08099895,\n",
       "        -1.91874903, -1.75649912, -1.59424921, -1.4319993 , -1.26974939,\n",
       "        -1.10749948, -0.94524957, -0.78299966, -0.62074975, -0.45849984,\n",
       "        -0.29624993, -0.13400002,  0.0282499 ,  0.19049981,  0.35274972,\n",
       "         0.51499963,  0.67724954,  0.83949945,  1.00174936,  1.16399927,\n",
       "         1.32624918,  1.48849909,  1.650749  ,  1.81299891,  1.97524883,\n",
       "         2.13749874,  2.29974865,  2.46199856,  2.62424847,  2.78649838,\n",
       "         2.94874829,  3.1109982 ,  3.27324811,  3.43549802,  3.59774793,\n",
       "         3.75999784]),\n",
       " <a list of 40 Patch objects>)"
      ]
     },
     "execution_count": 61,
     "metadata": {},
     "output_type": "execute_result"
    },
    {
     "data": {
      "image/png": "[encoded data removed]",
      "text/plain": [
       "<Figure size 432x288 with 1 Axes>"
      ]
     },
     "metadata": {
      "needs_background": "light"
     },
     "output_type": "display_data"
    }
   ],
   "source": [
    "plt.plot(dat_eval, evals_p1)\n",
    "plt.plot(-dat_eval, evals_m1)\n",
    "plt.hist(my_samples[0] * my_samples[1], bins = 40, density = True)"
   ]
  },
  {
   "cell_type": "code",
   "execution_count": null,
   "metadata": {},
   "outputs": [],
   "source": [
    "# Flexible \n",
    "v          0.532478\n",
    "a          4.135571\n",
    "w          0.332414\n",
    "node       1.684656\n",
    "theta      0.001445\n",
    "rt        54.513734\n",
    "choice    -1.000000"
   ]
  },
  {
   "cell_type": "code",
   "execution_count": 17,
   "metadata": {},
   "outputs": [
    {
     "name": "stdout",
     "output_type": "stream",
     "text": [
      "0  datapoints sampled\n",
      "1000  datapoints sampled\n",
      "2000  datapoints sampled\n"
     ]
    }
   ],
   "source": [
    "# Flexible bounds\n",
    "# Simulations\n",
    "process_params = {'v': 0.532478, \n",
    "                  'a': 4.135571, \n",
    "                  'w': 0.332413}\n",
    "\n",
    "simulator_params = {'s': 1,\n",
    "                    'delta_t': 0.01,\n",
    "                    'max_t': 20, \n",
    "                    'n_samples': 3000,\n",
    "                    'print_info': True}\n",
    "\n",
    "boundary_params = {'boundary_fun': bf.linear_collapse, \n",
    "                   'boundary_multiplicative': False, \n",
    "                   'boundary_params':  {'node': 1.684656, 'theta': 0.001445}}\n",
    "\n",
    "my_samples_flexb  = ddm_sim.ddm_flexbound_simulate(**process_params,\n",
    "                                                   **simulator_params,\n",
    "                                                   ** boundary_params)"
   ]
  },
  {
   "cell_type": "code",
   "execution_count": 16,
   "metadata": {},
   "outputs": [
    {
     "data": {
      "text/plain": [
       "20"
      ]
     },
     "execution_count": 16,
     "metadata": {},
     "output_type": "execute_result"
    }
   ],
   "source": [
    "my_samples_flexb[2]['max_t']"
   ]
  },
  {
   "cell_type": "code",
   "execution_count": 19,
   "metadata": {},
   "outputs": [],
   "source": [
    "# Set up KDE \n",
    "my_log_kdes_flexb = kde.logkde(my_samples_flexb)\n",
    "dat_eval = np.arange(0.0001, 5, 0.01)\n",
    "dat_eval_len = len(dat_eval)\n",
    "\n",
    "# Evaluations on positive and negative axes\n",
    "evals_p1 = my_log_kdes_flexb.kde_eval(data = (dat_eval, \n",
    "                                        np.repeat(1, dat_eval_len)),\n",
    "                                log_eval = False)\n",
    "\n",
    "evals_m1 = my_log_kdes_flexb.kde_eval(data = (dat_eval, \n",
    "                                        np.repeat(-1, dat_eval_len)),\n",
    "                               log_eval = False)"
   ]
  },
  {
   "cell_type": "code",
   "execution_count": 20,
   "metadata": {},
   "outputs": [
    {
     "data": {
      "text/plain": [
       "(array([0.00625, 0.00025, 0.00025, 0.00025, 0.00025, 0.00175, 0.00175,\n",
       "        0.001  , 0.00075, 0.0015 , 0.00375, 0.004  , 0.0085 , 0.00825,\n",
       "        0.00275, 0.     , 0.0085 , 0.045  , 0.07975, 0.091  , 0.09125,\n",
       "        0.09075, 0.072  , 0.054  , 0.04175, 0.037  , 0.025  , 0.02225,\n",
       "        0.01225, 0.03825]),\n",
       " array([-20.        , -18.66666667, -17.33333333, -16.        ,\n",
       "        -14.66666667, -13.33333333, -12.        , -10.66666667,\n",
       "         -9.33333333,  -8.        ,  -6.66666667,  -5.33333333,\n",
       "         -4.        ,  -2.66666667,  -1.33333333,   0.        ,\n",
       "          1.33333333,   2.66666667,   4.        ,   5.33333333,\n",
       "          6.66666667,   8.        ,   9.33333333,  10.66666667,\n",
       "         12.        ,  13.33333333,  14.66666667,  16.        ,\n",
       "         17.33333333,  18.66666667,  20.        ]),\n",
       " <a list of 30 Patch objects>)"
      ]
     },
     "execution_count": 20,
     "metadata": {},
     "output_type": "execute_result"
    },
    {
     "data": {
      "image/png": "[encoded data removed]",
      "text/plain": [
       "<Figure size 432x288 with 1 Axes>"
      ]
     },
     "metadata": {},
     "output_type": "display_data"
    }
   ],
   "source": [
    "# Plot data and kde\n",
    "plt.plot(dat_eval, evals_p1)\n",
    "plt.plot(-dat_eval, evals_m1)\n",
    "plt.hist(my_samples_flexb[0] * my_samples_flexb[1], bins = 30, density = True)"
   ]
  },
  {
   "cell_type": "code",
   "execution_count": 26,
   "metadata": {},
   "outputs": [
    {
     "data": {
      "text/plain": [
       "[<matplotlib.lines.Line2D at 0x7fb7ca949908>]"
      ]
     },
     "execution_count": 26,
     "metadata": {},
     "output_type": "execute_result"
    },
    {
     "data": {
      "image/png": "[encoded data removed]",
      "text/plain": [
       "<Figure size 432x288 with 1 Axes>"
      ]
     },
     "metadata": {
      "needs_background": "light"
     },
     "output_type": "display_data"
    }
   ],
   "source": [
    "# Plot bound\n",
    "t_s = np.arange(0, 5, 0.01)\n",
    "boundary = np.zeros((len(t_s),2))\n",
    "#a = process_params['a']\n",
    "\n",
    "cnt = 0\n",
    "for i in t_s:\n",
    "    b = 2*bf.weibull_cdf(t = i, alpha = 5, beta = 2)\n",
    "    if b <= 0:\n",
    "        boundary[cnt, 0] = 0\n",
    "        boundary[cnt, 1] = 0\n",
    "    else: \n",
    "        boundary[cnt, 0] = b\n",
    "        boundary[cnt, 1] = - boundary[cnt, 0]\n",
    "    cnt += 1\n",
    "\n",
    "plt.plot(t_s, boundary[:, 0])\n",
    "#plt.plot(t_s, boundary[:, 1]) "
   ]
  },
  {
   "cell_type": "code",
   "execution_count": null,
   "metadata": {},
   "outputs": [],
   "source": [
    "#kde_samples = \n",
    "kde_samples = my_log_kdes_flexb.kde_sample(n_samples = 10000)\n",
    "plt.hist(kde_samples[0]*kde_samples[1], color = 'blue', alpha = 0.3, density = True, bins = 50)\n",
    "plt.hist(my_samples_flexb[0] * my_samples_flexb[1], color = 'green', alpha = 0.3, density = True, bins = 50)\n",
    "#plt.hist(my_samples[0], color = 'blue', alpha = 0.3, density = True, bins = 50)"
   ]
  },
  {
   "cell_type": "code",
   "execution_count": null,
   "metadata": {},
   "outputs": [],
   "source": [
    "# Simulate: lca\n",
    "# Get samples\n",
    "my_samples_lca  = ddm_sim.lca(v = np.array([1, 0.5, 0.0, 0.0, 0.0], ndmin = 2).T,\n",
    "                              w = np.array([0.0, 0.0, 0.0, 0.0, 0.0], ndmin = 2).T, \n",
    "                              a = 2,\n",
    "                              b = 1.0,\n",
    "                              g = 0.1,\n",
    "                              s = 1.0,\n",
    "                              delta_t = 0.001,\n",
    "                              max_t = 20,\n",
    "                              n_samples = 3000,\n",
    "                              print_info = True)"
   ]
  },
  {
   "cell_type": "code",
   "execution_count": null,
   "metadata": {},
   "outputs": [],
   "source": [
    "# Make kde \n",
    "choices = np.unique(my_samples_lca[1])\n",
    "my_lca_kdes = kde_class.logkde()\n",
    "my_lca_kdes.attach_data_from_simulator(simulator_data = my_samples_lca)\n",
    "my_lca_kdes.generate_base_kdes()\n",
    "evals = my_lca_kdes.kde_eval(where  = np.expand_dims(np.linspace(0.00001, 10, num = 500),\n",
    "                                                     axis = 1), \n",
    "                             which = choices)"
   ]
  },
  {
   "cell_type": "code",
   "execution_count": null,
   "metadata": {},
   "outputs": [],
   "source": [
    "from mpl_toolkits.mplot3d import Axes3D"
   ]
  },
  {
   "cell_type": "code",
   "execution_count": null,
   "metadata": {},
   "outputs": [],
   "source": [
    "fig = plt.figure()\n",
    "ax = fig.gca(projection = '3d')\n",
    "ax.plot_trisurf(np.random.uniform(high=1, low = 0, size = 10000),\n",
    "                np.random.uniform(high=1, low = 0, size = 10000),\n",
    "                np.random.uniform(high=1, low = 0, size = 10000))"
   ]
  },
  {
   "cell_type": "code",
   "execution_count": null,
   "metadata": {},
   "outputs": [],
   "source": [
    "from_folder = os.getcwd() + '/data_storage/kde/base_simulations/'\n",
    "file_list = os.listdir(from_folder)\n",
    "\n",
    "cnt = 0\n",
    "forensics_data = dict(v = [], a = [])\n",
    "for file_ in file_list:\n",
    "    sim_dat = pickle.load( open( from_folder + file_, \"rb\" ) )\n",
    "    if np.sum(sim_dat[1] == 1) == 0 or np.sum(sim_dat[1] == -1) == 0:\n",
    "        print('cnt', cnt)\n",
    "        print('no data for some choice')\n",
    "        print(sim_dat[2])\n",
    "        forensics_data['v'].append(sim_dat[2]['v:'])\n",
    "        forensics_data['a'].append(sim_dat[2]['a'])\n",
    "        \n",
    "#     print('count:', cnt)\n",
    "#     print('c minus 1:', kde.bandwidth_silverman(sim_dat[0][sim_dat[1] == -1]))\n",
    "#     print('c 1:',kde.bandwidth_silverman(sim_dat[0][sim_dat[1] == 1]))\n",
    "    cnt += 1\n",
    "    if cnt % 1000 == 0: \n",
    "        print('1000 files opened')\n",
    "#to_folder = os.getcwd() + '/data_storage/kde/kde_base_dat/'\n",
    "# a = kde_util.generate_training_base_kde(from_folder = from_folder,\n",
    "#                                         to_folder = to_folder)\n",
    "\n",
    "\n",
    "#kde.bandwidth_silverman(sim_dat[0][sim_dat[1] == -1])"
   ]
  },
  {
   "cell_type": "code",
   "execution_count": null,
   "metadata": {},
   "outputs": [],
   "source": [
    "#pickle.dump([1, 2, my_lca_kdes], open( \"save.p\", \"wb\" ) )\n",
    "\n",
    "\n",
    "from_folder = os.getcwd() + '/data_storage/kde/base_simulations/'\n",
    "file_list = os.listdir(from_folder)\n",
    "\n",
    "cnt = 0\n",
    "forensics_data = dict(v = [], a = [])\n",
    "for file_ in file_list:\n",
    "    sim_dat = pickle.load( open( from_folder + file_, \"rb\" ) )\n",
    "    sim_dat[2]['v'] = sim_dat[2]['v:']\n",
    "    del sim_dat[2]['v:']\n",
    "    sim_dat[2]['possible_choices'] = [-1., 1.]\n",
    "    \n",
    "    pickle.dump(sim_dat, open( from_folder + file_[:21] + '_' + file_[21:], \"wb\" ) )\n",
    "    print(cnt)\n",
    "    cnt += 1\n",
    "#to_folder = os.getcwd() + '/data_storage/kde/kde_base_dat/'\n",
    "# a = kde_util.generate_training_base_kde(from_folder = from_folder,\n",
    "#                                         to_folder = to_folder)\n",
    "\n",
    "\n",
    "#kde.bandwidth_silverman(sim_dat[0][sim_dat[1] == -1])"
   ]
  },
  {
   "cell_type": "code",
   "execution_count": null,
   "metadata": {},
   "outputs": [],
   "source": [
    "#pickle.dump([1, 2, my_lca_kdes], open( \"save.p\", \"wb\" ) )\n",
    "\n",
    "\n",
    "from_folder = os.getcwd() + '/data_storage/kde/base_simulations/'\n",
    "file_list = os.listdir(from_folder)\n",
    "\n",
    "cnt = 0\n",
    "forensics_data = dict(v = [], a = [])\n",
    "for file_ in file_list:\n",
    "    char_cnt = 0\n",
    "    for i in file_[::-1]:\n",
    "        if i == '_':\n",
    "            print(char_cnt)\n",
    "            break\n",
    "        char_cnt += 1\n",
    "    \n",
    "    if char_cnt == 41:\n",
    "        os.remove(from_folder + file_)\n",
    "        print('removed:', file_)\n",
    "    else:\n",
    "        print('kept:', file_)\n",
    "#     sim_dat = pickle.load( open( from_folder + file_, \"rb\" ) )\n",
    "#     sim_dat[2]['v'] = sim_dat[2]['v:']\n",
    "#     del sim_dat[2]['v:']\n",
    "#     sim_dat[2]['possible_choices'] = [-1., 1.]\n",
    "    \n",
    "#     pickle.dump(sim_dat, open( from_folder + file_[:21] + '_' + file_[21:], \"wb\" ) )\n",
    "    \n",
    "    print(cnt)\n",
    "    cnt += 1\n",
    "#to_folder = os.getcwd() + '/data_storage/kde/kde_base_dat/'\n",
    "# a = kde_util.generate_training_base_kde(from_folder = from_folder,\n",
    "#                                         to_folder = to_folder)\n",
    "\n",
    "\n",
    "#kde.bandwidth_silverman(sim_dat[0][sim_dat[1] == -1])"
   ]
  },
  {
   "cell_type": "code",
   "execution_count": 26,
   "metadata": {},
   "outputs": [
    {
     "data": {
      "text/plain": [
       "array([[0.69314718, 1.        , 2.        , 3.        ]])"
      ]
     },
     "execution_count": 26,
     "metadata": {},
     "output_type": "execute_result"
    }
   ],
   "source": [
    "np.maximum(np.array([[0,1,2,3]]), np.log(2))"
   ]
  }
 ],
 "metadata": {
  "kernelspec": {
   "display_name": "Python 3",
   "language": "python",
   "name": "python3"
  },
  "language_info": {
   "codemirror_mode": {
    "name": "ipython",
    "version": 3
   },
   "file_extension": ".py",
   "mimetype": "text/x-python",
   "name": "python",
   "nbconvert_exporter": "python",
   "pygments_lexer": "ipython3",
   "version": "3.7.4"
  }
 },
 "nbformat": 4,
 "nbformat_minor": 4
}
