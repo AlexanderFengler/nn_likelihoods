{
 "cells": [
  {
   "cell_type": "code",
   "execution_count": 1,
   "metadata": {},
   "outputs": [],
   "source": [
    "import pickle\n",
    "import os\n",
    "import numpy as np\n",
    "import boundary_functions as bf\n",
    "import matplotlib.pyplot as plt\n",
    "import matplotlib\n",
    "import seaborn as sns"
   ]
  },
  {
   "cell_type": "code",
   "execution_count": 7,
   "metadata": {},
   "outputs": [],
   "source": [
    "def bin_simulator_output(out = [0, 0],\n",
    "                         bin_dt = 0.04,\n",
    "                         nbins = 0): # ['v', 'a', 'w', 'ndt', 'angle']\n",
    "        \n",
    "        # Generate bins\n",
    "        if nbins == 0:\n",
    "            nbins = int(out[2]['max_t'] / bin_dt)\n",
    "            bins = np.zeros(nbins + 1)\n",
    "            bins[:nbins] = np.linspace(0, out[2]['max_t'], nbins)\n",
    "            bins[nbins] = np.inf\n",
    "        else:  \n",
    "            bins = np.zeros(nbins + 1)\n",
    "            bins[:nbins] = np.linspace(0, out[2]['max_t'], nbins)\n",
    "            bins[nbins] = np.inf\n",
    "\n",
    "        cnt = 0\n",
    "        counts = np.zeros( (nbins, len(out[2]['possible_choices']) ) )\n",
    "\n",
    "        for choice in out[2]['possible_choices']:\n",
    "            counts[:, cnt] = np.histogram(out[0][out[1] == choice], bins = bins)[0] / out[2]['n_samples']\n",
    "            cnt += 1\n",
    "        return counts"
   ]
  },
  {
   "cell_type": "code",
   "execution_count": 62,
   "metadata": {},
   "outputs": [],
   "source": [
    "# data = pickle.load(open('/Users/afengler/OneDrive/project_nn_likelihoods/data/kde/ddm_elife/parameter_recovery_data_binned_0_nbins_0_n_4096/elife_ddm_nchoices_2_parameter_recovery_binned_0_nbins_0_nreps_1_n_4096.pickle', 'rb'))\n",
    "# data[2]['possible_choices'] = [-1, 1]\n",
    "n_str = '4096'\n",
    "model_str = 'ddm'"
   ]
  },
  {
   "cell_type": "code",
   "execution_count": 63,
   "metadata": {},
   "outputs": [],
   "source": [
    "data = pickle.load(open('/Users/afengler/OneDrive/project_nn_likelihoods/data/kde/' + model_str + \\\n",
    "                        '_elife/parameter_recovery_data_binned_0_nbins_0_n_' + n_str + \\\n",
    "                        '/elife_' + model_str + \\\n",
    "                        '_nchoices_2_parameter_recovery_binned_0_nbins_0_nreps_1_n_' + n_str + '.pickle', 'rb'))\n",
    "data[2]['possible_choices'] = [-1, 1]\n",
    "\n",
    "# change max_t to 10s because that's what CNN was trained\n",
    "data[2]['max_t'] = 10.0\n",
    "\n"
   ]
  },
  {
   "cell_type": "code",
   "execution_count": 64,
   "metadata": {},
   "outputs": [
    {
     "name": "stdout",
     "output_type": "stream",
     "text": [
      "0\n",
      "100\n",
      "200\n",
      "300\n",
      "400\n",
      "500\n",
      "600\n",
      "700\n",
      "800\n",
      "900\n"
     ]
    }
   ],
   "source": [
    "data_binned_256 = []\n",
    "data_binned_256.append(data[0])\n",
    "data_binned_512 = []\n",
    "data_binned_512.append(data[0])\n",
    "\n",
    "binned_tmp_256 = np.zeros((1, 1000, 256, 2))\n",
    "binned_tmp_512 = np.zeros((1, 1000, 512, 2))\n",
    "\n",
    "\n",
    "for i in range(1000):\n",
    "    out = []\n",
    "    out.append(data[1][0, i, :, 0])\n",
    "    out.append(data[1][0, i, :, 1])\n",
    "    out.append(data[2])\n",
    "    \n",
    "    x_256 = bin_simulator_output(out = out,\n",
    "                                 nbins = 256)\n",
    "    x_512 = bin_simulator_output(out = out,\n",
    "                                 nbins = 512)\n",
    "    \n",
    "    binned_tmp_256[0, i, :, :] = x_256\n",
    "    binned_tmp_512[0, i, :, :] = x_512\n",
    "    \n",
    "    if i % 100 == 0:\n",
    "        print(i)\n",
    "\n",
    "data_binned_256.append(binned_tmp_256)\n",
    "data_binned_512.append(binned_tmp_512)\n",
    "    \n",
    "data_binned_256.append(data[2])\n",
    "data_binned_512.append(data[2])"
   ]
  },
  {
   "cell_type": "code",
   "execution_count": 35,
   "metadata": {},
   "outputs": [],
   "source": [
    "pickle.dump(data_binned_256, open('/Users/afengler/OneDrive/project_nn_likelihoods/data/kde/' + model_str + '_elife/parameter_recovery_data_binned_1_nbins_256_n_' + n_str + \\\n",
    "                                  '/elife_' + model_str + '_nchoices_2_parameter_recovery_binned_1_nbins_256_nreps_1_n_' + n_str + '.pickle', 'wb'), \n",
    "            protocol = 2)"
   ]
  },
  {
   "cell_type": "code",
   "execution_count": 36,
   "metadata": {},
   "outputs": [],
   "source": [
    "pickle.dump(data_binned_512, open('/Users/afengler/OneDrive/project_nn_likelihoods/data/kde/' + model_str + '_elife/parameter_recovery_data_binned_1_nbins_512_n_' + n_str + \\\n",
    "                                  '/elife_' + model_str + '_nchoices_2_parameter_recovery_binned_1_nbins_512_nreps_1_n_' + n_str + '.pickle', 'wb'), \n",
    "            protocol = 2)"
   ]
  },
  {
   "cell_type": "code",
   "execution_count": 4,
   "metadata": {},
   "outputs": [],
   "source": [
    "# SOME TESTS\n",
    "import cddm_data_simulation as cds\n"
   ]
  },
  {
   "cell_type": "code",
   "execution_count": 57,
   "metadata": {},
   "outputs": [
    {
     "data": {
      "text/plain": [
       "[<matplotlib.lines.Line2D at 0x11c1a3a90>]"
      ]
     },
     "execution_count": 57,
     "metadata": {},
     "output_type": "execute_result"
    },
    {
     "data": {
      "image/png": "[encoded data removed]",
      "text/plain": [
       "<Figure size 432x288 with 1 Axes>"
      ]
     },
     "metadata": {
      "needs_background": "light"
     },
     "output_type": "display_data"
    }
   ],
   "source": [
    "i = 100\n",
    "    \n",
    "out = cds.ddm_flexbound(v = data_binned_512[0][i, 0], \n",
    "                        a = data_binned_512[0][i, 1],\n",
    "                        w = data_binned_512[0][i, 2],\n",
    "                        ndt = data_binned_512[0][i, 3], \n",
    "                        delta_t = 0.001, \n",
    "                        s = 1,  #np.sqrt(2),\n",
    "                        max_t = 10,\n",
    "                        boundary_fun = bf.constant,\n",
    "                        n_samples = 20000)\n",
    "\n",
    "binned = bin_simulator_output(out = out,\n",
    "                              nbins = 512)\n",
    "\n",
    "\n",
    "    \n",
    "plt.plot(binned[:, 0], color = 'black', alpha = 0.5)\n",
    "plt.plot(binned[:, 1], color = 'red', alpha = 0.5)\n",
    "plt.plot(data_binned_512[1][0][i][:, 0], color = 'black')\n",
    "plt.plot(data_binned_512[1][0][i][:, 1], color = 'red')"
   ]
  },
  {
   "cell_type": "code",
   "execution_count": 45,
   "metadata": {},
   "outputs": [
    {
     "data": {
      "text/plain": [
       "[<matplotlib.lines.Line2D at 0x1196c0c10>]"
      ]
     },
     "execution_count": 45,
     "metadata": {},
     "output_type": "execute_result"
    },
    {
     "data": {
      "image/png": "[encoded data removed]",
      "text/plain": [
       "<Figure size 432x288 with 1 Axes>"
      ]
     },
     "metadata": {
      "needs_background": "light"
     },
     "output_type": "display_data"
    }
   ],
   "source": [
    "plt.plot(binned[:, 0], color = 'black', alpha = 0.5)\n",
    "plt.plot(binned[:, 1], color = 'red', alpha = 0.5)\n",
    "plt.plot(data_binned_512[1][0][0][:, 0], color = 'black')\n",
    "plt.plot(data_binned_512[1][0][0][:, 1], color = 'red')"
   ]
  },
  {
   "cell_type": "code",
   "execution_count": 32,
   "metadata": {},
   "outputs": [
    {
     "data": {
      "text/plain": [
       "(1000, 512, 2)"
      ]
     },
     "execution_count": 32,
     "metadata": {},
     "output_type": "execute_result"
    }
   ],
   "source": [
    "data_binned_512[1][0]"
   ]
  },
  {
   "cell_type": "code",
   "execution_count": 65,
   "metadata": {},
   "outputs": [
    {
     "data": {
      "text/plain": [
       "array([[ 0.29013616,  0.5732122 ,  0.56510556,  0.6202364 ],\n",
       "       [ 2.3652787 ,  0.7475329 ,  0.6085406 ,  0.45740852],\n",
       "       [-1.9124724 ,  1.0613471 ,  0.5251666 ,  0.22333424],\n",
       "       ...,\n",
       "       [ 1.2240385 ,  1.0580128 ,  0.4856123 ,  1.7803314 ],\n",
       "       [-2.2178957 ,  1.6264052 ,  0.27447334,  1.5300837 ],\n",
       "       [-0.02114056,  0.7334838 ,  0.39837652,  0.87968767]],\n",
       "      dtype=float32)"
      ]
     },
     "execution_count": 65,
     "metadata": {},
     "output_type": "execute_result"
    }
   ],
   "source": [
    "data[0]"
   ]
  },
  {
   "cell_type": "code",
   "execution_count": 54,
   "metadata": {},
   "outputs": [],
   "source": [
    "n_str = '1024'\n",
    "model_str = 'ddm'\n",
    "\n",
    "data_ = pickle.load(open('/Users/afengler/OneDrive/project_nn_likelihoods/data/kde/' + model_str + \\\n",
    "                        '_elife/parameter_recovery_data_binned_1_nbins_512_n_' + n_str + \\\n",
    "                        '/elife_' + model_str + \\\n",
    "                        '_nchoices_2_parameter_recovery_binned_1_nbins_512_nreps_1_n_' + n_str + '.pickle', 'rb'))"
   ]
  },
  {
   "cell_type": "code",
   "execution_count": 55,
   "metadata": {},
   "outputs": [
    {
     "data": {
      "text/plain": [
       "[array([[ 1.3078684 ,  1.5692139 ,  0.40353978,  0.7989374 ],\n",
       "        [ 0.15081045,  2.1154125 ,  0.5016084 ,  1.4090556 ],\n",
       "        [-2.0069778 ,  1.6092589 ,  0.712587  ,  1.4454311 ],\n",
       "        ...,\n",
       "        [ 2.4429796 ,  1.2634765 ,  0.7085911 ,  1.6392365 ],\n",
       "        [ 2.1372757 ,  1.6593502 ,  0.32406518,  1.9461266 ],\n",
       "        [ 0.7318187 ,  1.8007475 ,  0.7009304 ,  1.5478374 ]],\n",
       "       dtype=float32),\n",
       " array([[[[0.        , 0.        ],\n",
       "          [0.        , 0.        ],\n",
       "          [0.        , 0.        ],\n",
       "          ...,\n",
       "          [0.        , 0.        ],\n",
       "          [0.        , 0.        ],\n",
       "          [0.        , 0.        ]],\n",
       " \n",
       "         [[0.        , 0.        ],\n",
       "          [0.        , 0.        ],\n",
       "          [0.        , 0.        ],\n",
       "          ...,\n",
       "          [0.        , 0.00097656],\n",
       "          [0.        , 0.00097656],\n",
       "          [0.03710938, 0.0703125 ]],\n",
       " \n",
       "         [[0.        , 0.        ],\n",
       "          [0.        , 0.        ],\n",
       "          [0.        , 0.        ],\n",
       "          ...,\n",
       "          [0.        , 0.        ],\n",
       "          [0.        , 0.        ],\n",
       "          [0.        , 0.        ]],\n",
       " \n",
       "         ...,\n",
       " \n",
       "         [[0.        , 0.        ],\n",
       "          [0.        , 0.        ],\n",
       "          [0.        , 0.        ],\n",
       "          ...,\n",
       "          [0.        , 0.        ],\n",
       "          [0.        , 0.        ],\n",
       "          [0.        , 0.        ]],\n",
       " \n",
       "         [[0.        , 0.        ],\n",
       "          [0.        , 0.        ],\n",
       "          [0.        , 0.        ],\n",
       "          ...,\n",
       "          [0.        , 0.        ],\n",
       "          [0.        , 0.        ],\n",
       "          [0.        , 0.        ]],\n",
       " \n",
       "         [[0.        , 0.        ],\n",
       "          [0.        , 0.        ],\n",
       "          [0.        , 0.        ],\n",
       "          ...,\n",
       "          [0.        , 0.        ],\n",
       "          [0.        , 0.        ],\n",
       "          [0.00097656, 0.00195312]]]]),\n",
       " {'s': 1.0,\n",
       "  'delta_t': 0.001,\n",
       "  'max_t': 10.0,\n",
       "  'n_samples': 1024,\n",
       "  'print_info': False,\n",
       "  'boundary_multiplicative': True,\n",
       "  'possible_choices': [-1, 1]}]"
      ]
     },
     "execution_count": 55,
     "metadata": {},
     "output_type": "execute_result"
    }
   ],
   "source": [
    "data_"
   ]
  },
  {
   "cell_type": "code",
   "execution_count": 2,
   "metadata": {},
   "outputs": [],
   "source": [
    "import cddm_data_simulation as cds"
   ]
  },
  {
   "cell_type": "code",
   "execution_count": 4,
   "metadata": {},
   "outputs": [],
   "source": [
    "out = cds.test()"
   ]
  },
  {
   "cell_type": "code",
   "execution_count": 23,
   "metadata": {},
   "outputs": [],
   "source": [
    "out_arr = np.concatenate([out[0], out[1]], axis = 1)"
   ]
  },
  {
   "cell_type": "code",
   "execution_count": 25,
   "metadata": {},
   "outputs": [
    {
     "output_type": "execute_result",
     "data": {
      "text/plain": [
       "(20000, 2)"
      ]
     },
     "metadata": {},
     "execution_count": 25
    }
   ],
   "source": [
    "out_arr.shape"
   ]
  },
  {
   "cell_type": "code",
   "execution_count": 32,
   "metadata": {},
   "outputs": [
    {
     "output_type": "execute_result",
     "data": {
      "text/plain": [
       "True"
      ]
     },
     "metadata": {},
     "execution_count": 32
    }
   ],
   "source": [
    "type(out) == tuple\n"
   ]
  },
  {
   "cell_type": "code",
   "execution_count": 30,
   "metadata": {},
   "outputs": [
    {
     "output_type": "execute_result",
     "data": {
      "text/plain": [
       "True"
      ]
     },
     "metadata": {},
     "execution_count": 30
    }
   ],
   "source": [
    "type(out_arr) == np.ndarray"
   ]
  },
  {
   "cell_type": "code",
   "execution_count": 33,
   "metadata": {},
   "outputs": [
    {
     "output_type": "execute_result",
     "data": {
      "text/plain": [
       "(20000, 1)"
      ]
     },
     "metadata": {},
     "execution_count": 33
    }
   ],
   "source": [
    "out[0].shape"
   ]
  },
  {
   "cell_type": "code",
   "execution_count": 38,
   "metadata": {},
   "outputs": [
    {
     "output_type": "execute_result",
     "data": {
      "text/plain": [
       "(20000, 1)"
      ]
     },
     "metadata": {},
     "execution_count": 38
    }
   ],
   "source": [
    "np.expand_dims(out_arr[:, 0], axis = 1).shape"
   ]
  },
  {
   "cell_type": "code",
   "execution_count": 39,
   "metadata": {},
   "outputs": [],
   "source": [
    "import pickle"
   ]
  },
  {
   "cell_type": "code",
   "execution_count": 40,
   "metadata": {},
   "outputs": [
    {
     "output_type": "execute_result",
     "data": {
      "text/plain": [
       "(array([[ 0.74327415,  0.645841  ,  0.6400955 ,  0.46597812],\n",
       "        [-0.33610138,  1.1981581 ,  0.5164657 ,  0.7851524 ],\n",
       "        [-1.2525686 ,  1.1945591 ,  0.31144702,  0.7034199 ],\n",
       "        [ 1.4751217 ,  0.97497964,  0.6629451 ,  0.2682129 ],\n",
       "        [ 0.7982579 ,  0.794083  ,  0.55831426,  0.6507257 ],\n",
       "        [-0.98591936,  1.0263612 ,  0.679222  ,  0.2326981 ],\n",
       "        [ 0.35309684,  1.0299312 ,  0.46966428,  0.6159006 ],\n",
       "        [ 0.8568966 ,  1.2028342 ,  0.48996052,  0.7993983 ],\n",
       "        [-0.39936328,  1.2334279 ,  0.41773105,  0.79922897],\n",
       "        [ 0.4332882 ,  1.1419479 ,  0.49621826,  0.6636164 ],\n",
       "        [ 0.11822534,  0.74837047,  0.4982322 ,  0.42108163],\n",
       "        [ 1.0013398 ,  0.9467556 ,  0.53612936,  0.40108737],\n",
       "        [-0.5581848 ,  1.239694  ,  0.34700498,  0.8415847 ],\n",
       "        [ 0.76857096,  0.8098346 ,  0.31781563,  0.5355541 ],\n",
       "        [ 0.6289541 ,  1.2678409 ,  0.45325345,  0.39593735],\n",
       "        [ 0.15958482,  1.3289692 ,  0.5839242 ,  0.8139067 ],\n",
       "        [ 0.8695265 ,  1.0805892 ,  0.34403747,  0.17443709],\n",
       "        [ 1.1877043 ,  1.0819908 ,  0.34782273,  0.4344788 ],\n",
       "        [ 1.2838607 ,  0.75566274,  0.43485776,  0.6601725 ],\n",
       "        [ 1.7269948 ,  1.0990348 ,  0.6280084 ,  0.75683093],\n",
       "        [ 1.3104506 ,  1.1362796 ,  0.34122923,  0.6247969 ],\n",
       "        [ 1.724625  ,  1.073918  ,  0.35784394,  0.6334208 ],\n",
       "        [-0.02706474,  0.87476724,  0.32185316,  0.61272675],\n",
       "        [-0.7768609 ,  1.2500448 ,  0.31983268,  0.37517425],\n",
       "        [-1.014136  ,  1.0808626 ,  0.4263928 ,  0.39254045],\n",
       "        [-1.541407  ,  0.8711262 ,  0.6179701 ,  0.70270586],\n",
       "        [-0.47249386,  0.79211366,  0.4305391 ,  0.55498   ],\n",
       "        [ 0.47952595,  0.78091985,  0.44187048,  0.6327945 ],\n",
       "        [ 1.4289001 ,  1.1126704 ,  0.3683568 ,  0.31180477],\n",
       "        [-0.9912597 ,  0.6311231 ,  0.61996436,  0.12359907],\n",
       "        [-0.88114643,  1.0013198 ,  0.66660357,  0.6153725 ],\n",
       "        [ 0.14786707,  1.2981428 ,  0.3333916 ,  0.1060356 ],\n",
       "        [-0.8078968 ,  0.994529  ,  0.6832375 ,  0.405285  ],\n",
       "        [-0.23695168,  0.66492796,  0.37616912,  0.5094314 ],\n",
       "        [-1.3093259 ,  0.935879  ,  0.5157253 ,  0.49590576],\n",
       "        [-0.7178446 ,  0.6721953 ,  0.35611022,  0.64235014],\n",
       "        [ 0.18031418,  0.6370022 ,  0.5164689 ,  0.13913222],\n",
       "        [-0.133305  ,  0.6665887 ,  0.34558126,  0.85967726],\n",
       "        [-0.99032503,  1.2804561 ,  0.6166006 ,  0.8619605 ],\n",
       "        [ 0.98494864,  1.2015868 ,  0.56561077,  0.73191977],\n",
       "        [-0.30003658,  0.79319125,  0.53434366,  0.23655374],\n",
       "        [ 0.19062339,  1.3494592 ,  0.3543335 ,  0.5531937 ],\n",
       "        [ 0.7163353 ,  1.1848465 ,  0.4062145 ,  0.6807221 ],\n",
       "        [ 1.6370884 ,  0.6264606 ,  0.67016727,  0.82554746],\n",
       "        [-0.25769556,  1.3969157 ,  0.678305  ,  0.23258969],\n",
       "        [ 1.5868396 ,  1.1302958 ,  0.6015088 ,  0.20976071],\n",
       "        [ 0.3674968 ,  0.8496816 ,  0.4476836 ,  0.11014859],\n",
       "        [-0.89381826,  1.2918451 ,  0.47194833,  0.13816075],\n",
       "        [ 1.820659  ,  0.71522963,  0.5312794 ,  0.37128702],\n",
       "        [-1.8043419 ,  0.8231317 ,  0.61898977,  0.62727666],\n",
       "        [-1.397686  ,  0.8495226 ,  0.4170671 ,  0.8510168 ],\n",
       "        [ 1.4126556 ,  1.2565393 ,  0.54818094,  0.28063166],\n",
       "        [-0.4592708 ,  1.2113786 ,  0.5951209 ,  0.16104712],\n",
       "        [-0.12204286,  0.8520102 ,  0.38018653,  0.52500284],\n",
       "        [-1.5598879 ,  1.3602246 ,  0.5529542 ,  0.42174843],\n",
       "        [-0.60653245,  0.64940155,  0.45759118,  0.46710292],\n",
       "        [-1.7416849 ,  0.9204663 ,  0.5265716 ,  0.33645892],\n",
       "        [ 0.7066839 ,  1.0919032 ,  0.60439223,  0.4383126 ],\n",
       "        [-0.8496231 ,  0.6399959 ,  0.5162153 ,  0.18427621],\n",
       "        [ 1.7196432 ,  1.0519972 ,  0.5685873 ,  0.5339089 ],\n",
       "        [ 0.4057149 ,  1.3960254 ,  0.61601895,  0.7103027 ],\n",
       "        [ 1.6474392 ,  0.71891654,  0.44892266,  0.47699767],\n",
       "        [-1.0068549 ,  0.8860074 ,  0.33610684,  0.8513751 ],\n",
       "        [ 1.2375046 ,  0.88538796,  0.603313  ,  0.2799937 ],\n",
       "        [-1.6859176 ,  1.0617014 ,  0.66762006,  0.5488606 ],\n",
       "        [-0.32583147,  0.9203597 ,  0.55409706,  0.61257774],\n",
       "        [-1.0442986 ,  1.1356282 ,  0.43036985,  0.22759716],\n",
       "        [-1.5120448 ,  1.1433119 ,  0.64839834,  0.8844182 ],\n",
       "        [-0.950111  ,  1.2389562 ,  0.40667263,  0.44004473],\n",
       "        [ 0.768536  ,  1.3731527 ,  0.6662203 ,  0.88384444],\n",
       "        [-1.3382659 ,  0.74333614,  0.6663173 ,  0.53977865],\n",
       "        [-0.33492634,  1.1738327 ,  0.3321856 ,  0.6553405 ],\n",
       "        [ 0.43023613,  0.67468286,  0.5325808 ,  0.39378786],\n",
       "        [ 0.9167968 ,  0.8521395 ,  0.62756914,  0.44654816],\n",
       "        [-1.474796  ,  0.88566226,  0.47592774,  0.24138042],\n",
       "        [ 1.704391  ,  1.2884445 ,  0.36625794,  0.64618295],\n",
       "        [-0.7967814 ,  1.1898919 ,  0.3672081 ,  0.33694962],\n",
       "        [ 0.23055893,  0.7338215 ,  0.5581262 ,  0.36718482],\n",
       "        [ 1.6456146 ,  0.6757716 ,  0.60234976,  0.4203133 ],\n",
       "        [ 0.6992561 ,  0.7359225 ,  0.5966138 ,  0.21068853],\n",
       "        [ 0.8275458 ,  1.0679252 ,  0.5526658 ,  0.10467421],\n",
       "        [-1.6899979 ,  0.92978364,  0.54076844,  0.7166114 ],\n",
       "        [-0.12616256,  1.1201217 ,  0.4195928 ,  0.8268099 ],\n",
       "        [ 1.1895291 ,  1.151514  ,  0.59009594,  0.4111393 ],\n",
       "        [-1.3409467 ,  1.159408  ,  0.46368045,  0.3878925 ],\n",
       "        [ 0.7459673 ,  0.76653194,  0.4927343 ,  0.58522797],\n",
       "        [-1.2307005 ,  0.73975563,  0.6071419 ,  0.8618629 ],\n",
       "        [ 0.08461665,  1.2048334 ,  0.31390125,  0.19392025],\n",
       "        [ 0.35738966,  0.79825026,  0.5204336 ,  0.42352048],\n",
       "        [-1.8154192 ,  1.3752799 ,  0.48406532,  0.6455816 ],\n",
       "        [-1.5957042 ,  1.3987123 ,  0.63700414,  0.7293407 ],\n",
       "        [-1.3414469 ,  1.3928292 ,  0.3880813 ,  0.6435982 ],\n",
       "        [ 1.7920482 ,  0.8960052 ,  0.6115355 ,  0.28237143],\n",
       "        [ 0.5515032 ,  1.1601809 ,  0.34456527,  0.24205428],\n",
       "        [-1.8667651 ,  1.0848346 ,  0.6410045 ,  0.7661598 ],\n",
       "        [ 0.96068335,  1.2176826 ,  0.43059477,  0.550657  ],\n",
       "        [-1.7887325 ,  0.7610483 ,  0.6853049 ,  0.59786683],\n",
       "        [ 0.89594114,  0.89794046,  0.3757296 ,  0.32257062],\n",
       "        [-1.5360096 ,  1.3847874 ,  0.50786644,  0.5009248 ],\n",
       "        [ 0.9578369 ,  0.94660985,  0.3139671 ,  0.33894333]],\n",
       "       dtype=float32), array([[[[ 0.6779784 ,  1.        ],\n",
       "          [ 0.64197826,  1.        ],\n",
       "          [ 0.91697586,  1.        ],\n",
       "          ...,\n",
       "          [ 0.6409783 ,  1.        ],\n",
       "          [ 0.83297694, -1.        ],\n",
       "          [ 0.66697836,  1.        ]],\n",
       " \n",
       "         [[ 2.9711764 , -1.        ],\n",
       "          [ 1.5321463 , -1.        ],\n",
       "          [ 2.278166  , -1.        ],\n",
       "          ...,\n",
       "          [ 1.085152  ,  1.        ],\n",
       "          [ 1.9941528 , -1.        ],\n",
       "          [ 1.8511462 , -1.        ]],\n",
       " \n",
       "         [[ 1.5184131 , -1.        ],\n",
       "          [ 1.0184194 , -1.        ],\n",
       "          [ 1.6454114 , -1.        ],\n",
       "          ...,\n",
       "          [ 1.0254194 , -1.        ],\n",
       "          [ 1.6624112 , -1.        ],\n",
       "          [ 1.2574164 , -1.        ]],\n",
       " \n",
       "         ...,\n",
       " \n",
       "         [[ 0.7415688 ,  1.        ],\n",
       "          [ 0.52757084,  1.        ],\n",
       "          [ 1.2545621 ,  1.        ],\n",
       "          ...,\n",
       "          [ 0.87056714,  1.        ],\n",
       "          [ 0.8195678 ,  1.        ],\n",
       "          [ 0.9045667 ,  1.        ]],\n",
       " \n",
       "         [[ 0.72292507, -1.        ],\n",
       "          [ 1.14892   , -1.        ],\n",
       "          [ 1.5269167 , -1.        ],\n",
       "          ...,\n",
       "          [ 1.0989207 , -1.        ],\n",
       "          [ 2.1899476 , -1.        ],\n",
       "          [ 1.1969194 , -1.        ]],\n",
       " \n",
       "         [[ 0.7719413 , -1.        ],\n",
       "          [ 1.46594   , -1.        ],\n",
       "          [ 1.2439352 ,  1.        ],\n",
       "          ...,\n",
       "          [ 0.49294347, -1.        ],\n",
       "          [ 0.70494217,  1.        ],\n",
       "          [ 2.1599724 ,  1.        ]]]], dtype=float32), {'s': 1.0,\n",
       "  'delta_t': 0.001,\n",
       "  'max_t': 20,\n",
       "  'binned_max_t': 20.0,\n",
       "  'n_samples': 1000,\n",
       "  'print_info': False,\n",
       "  'boundary': <function boundary_functions.constant(t=0)>,\n",
       "  'boundary_multiplicative': True,\n",
       "  'possible_choices': [-1, 1]})"
      ]
     },
     "metadata": {},
     "execution_count": 40
    }
   ],
   "source": [
    "pickle.load(open('/Users/afengler/OneDrive/project_nn_likelihoods/data/tests/models/test/parameter_recovery_data_binned_0_nbins_0_n_1000/test_nchoices_2_parameter_recovery_binned_0_nbins_0_nreps_1_n_1000.pickle', 'rb'))"
   ]
  },
  {
   "cell_type": "code",
   "execution_count": 41,
   "metadata": {},
   "outputs": [],
   "source": [
    "binned256 = pickle.load(open('/Users/afengler/OneDrive/project_nn_likelihoods/data/tests/models/test/parameter_recovery_data_binned_1_nbins_256_n_1000/test_nchoices_2_parameter_recovery_binned_1_nbins_256_nreps_1_n_1000.pickle', 'rb'))"
   ]
  },
  {
   "cell_type": "code",
   "execution_count": 46,
   "metadata": {},
   "outputs": [
    {
     "output_type": "execute_result",
     "data": {
      "text/plain": [
       "array([[0.   , 0.   ],\n",
       "       [0.   , 0.   ],\n",
       "       [0.   , 0.   ],\n",
       "       [0.   , 0.   ],\n",
       "       [0.   , 0.   ],\n",
       "       [0.   , 0.   ],\n",
       "       [0.001, 0.126],\n",
       "       [0.019, 0.168],\n",
       "       [0.021, 0.13 ],\n",
       "       [0.021, 0.095],\n",
       "       [0.02 , 0.089],\n",
       "       [0.016, 0.055],\n",
       "       [0.013, 0.022],\n",
       "       [0.012, 0.026],\n",
       "       [0.008, 0.027],\n",
       "       [0.002, 0.022],\n",
       "       [0.01 , 0.017],\n",
       "       [0.004, 0.013],\n",
       "       [0.004, 0.015],\n",
       "       [0.003, 0.015],\n",
       "       [0.002, 0.005],\n",
       "       [0.001, 0.001],\n",
       "       [0.   , 0.004],\n",
       "       [0.002, 0.001],\n",
       "       [0.002, 0.001],\n",
       "       [0.001, 0.001],\n",
       "       [0.   , 0.   ],\n",
       "       [0.   , 0.   ],\n",
       "       [0.   , 0.003],\n",
       "       [0.   , 0.   ],\n",
       "       [0.   , 0.   ],\n",
       "       [0.   , 0.   ],\n",
       "       [0.   , 0.   ],\n",
       "       [0.001, 0.   ],\n",
       "       [0.   , 0.   ],\n",
       "       [0.   , 0.   ],\n",
       "       [0.   , 0.   ],\n",
       "       [0.   , 0.001],\n",
       "       [0.   , 0.   ],\n",
       "       [0.   , 0.   ],\n",
       "       [0.   , 0.   ],\n",
       "       [0.   , 0.   ],\n",
       "       [0.   , 0.   ],\n",
       "       [0.   , 0.   ],\n",
       "       [0.   , 0.   ],\n",
       "       [0.   , 0.   ],\n",
       "       [0.   , 0.   ],\n",
       "       [0.   , 0.   ],\n",
       "       [0.   , 0.   ],\n",
       "       [0.   , 0.   ],\n",
       "       [0.   , 0.   ],\n",
       "       [0.   , 0.   ],\n",
       "       [0.   , 0.   ],\n",
       "       [0.   , 0.   ],\n",
       "       [0.   , 0.   ],\n",
       "       [0.   , 0.   ],\n",
       "       [0.   , 0.   ],\n",
       "       [0.   , 0.   ],\n",
       "       [0.   , 0.   ],\n",
       "       [0.   , 0.   ],\n",
       "       [0.   , 0.   ],\n",
       "       [0.   , 0.   ],\n",
       "       [0.   , 0.   ],\n",
       "       [0.   , 0.   ],\n",
       "       [0.   , 0.   ],\n",
       "       [0.   , 0.   ],\n",
       "       [0.   , 0.   ],\n",
       "       [0.   , 0.   ],\n",
       "       [0.   , 0.   ],\n",
       "       [0.   , 0.   ],\n",
       "       [0.   , 0.   ],\n",
       "       [0.   , 0.   ],\n",
       "       [0.   , 0.   ],\n",
       "       [0.   , 0.   ],\n",
       "       [0.   , 0.   ],\n",
       "       [0.   , 0.   ],\n",
       "       [0.   , 0.   ],\n",
       "       [0.   , 0.   ],\n",
       "       [0.   , 0.   ],\n",
       "       [0.   , 0.   ],\n",
       "       [0.   , 0.   ],\n",
       "       [0.   , 0.   ],\n",
       "       [0.   , 0.   ],\n",
       "       [0.   , 0.   ],\n",
       "       [0.   , 0.   ],\n",
       "       [0.   , 0.   ],\n",
       "       [0.   , 0.   ],\n",
       "       [0.   , 0.   ],\n",
       "       [0.   , 0.   ],\n",
       "       [0.   , 0.   ],\n",
       "       [0.   , 0.   ],\n",
       "       [0.   , 0.   ],\n",
       "       [0.   , 0.   ],\n",
       "       [0.   , 0.   ],\n",
       "       [0.   , 0.   ],\n",
       "       [0.   , 0.   ],\n",
       "       [0.   , 0.   ],\n",
       "       [0.   , 0.   ],\n",
       "       [0.   , 0.   ],\n",
       "       [0.   , 0.   ]], dtype=float32)"
      ]
     },
     "metadata": {},
     "execution_count": 46
    }
   ],
   "source": [
    "binned256[1][0,0,:100, :]"
   ]
  },
  {
   "cell_type": "code",
   "execution_count": 47,
   "metadata": {},
   "outputs": [],
   "source": [
    "binned512 = pickle.load(open('/Users/afengler/OneDrive/project_nn_likelihoods/data/tests/models/test/parameter_recovery_data_binned_1_nbins_512_n_1000/test_nchoices_2_parameter_recovery_binned_1_nbins_512_nreps_1_n_1000.pickle', 'rb'))"
   ]
  },
  {
   "cell_type": "code",
   "execution_count": 48,
   "metadata": {},
   "outputs": [
    {
     "output_type": "execute_result",
     "data": {
      "text/plain": [
       "array([[0.   , 0.   ],\n",
       "       [0.   , 0.   ],\n",
       "       [0.   , 0.   ],\n",
       "       [0.   , 0.   ],\n",
       "       [0.   , 0.   ],\n",
       "       [0.   , 0.   ],\n",
       "       [0.   , 0.   ],\n",
       "       [0.   , 0.   ],\n",
       "       [0.   , 0.   ],\n",
       "       [0.   , 0.   ],\n",
       "       [0.   , 0.   ],\n",
       "       [0.   , 0.   ],\n",
       "       [0.   , 0.031],\n",
       "       [0.   , 0.092],\n",
       "       [0.01 , 0.086],\n",
       "       [0.01 , 0.084],\n",
       "       [0.013, 0.076],\n",
       "       [0.008, 0.055],\n",
       "       [0.009, 0.051],\n",
       "       [0.012, 0.041],\n",
       "       [0.008, 0.05 ],\n",
       "       [0.012, 0.042],\n",
       "       [0.01 , 0.029],\n",
       "       [0.005, 0.022],\n",
       "       [0.009, 0.013],\n",
       "       [0.004, 0.013],\n",
       "       [0.007, 0.016],\n",
       "       [0.006, 0.009],\n",
       "       [0.002, 0.015],\n",
       "       [0.006, 0.013],\n",
       "       [0.   , 0.01 ],\n",
       "       [0.002, 0.012],\n",
       "       [0.005, 0.008],\n",
       "       [0.005, 0.009],\n",
       "       [0.002, 0.007],\n",
       "       [0.002, 0.006],\n",
       "       [0.003, 0.006],\n",
       "       [0.001, 0.009],\n",
       "       [0.   , 0.007],\n",
       "       [0.003, 0.007],\n",
       "       [0.001, 0.005],\n",
       "       [0.001, 0.001],\n",
       "       [0.001, 0.001],\n",
       "       [0.   , 0.   ],\n",
       "       [0.   , 0.001],\n",
       "       [0.   , 0.002],\n",
       "       [0.   , 0.002],\n",
       "       [0.002, 0.   ],\n",
       "       [0.002, 0.001],\n",
       "       [0.   , 0.   ],\n",
       "       [0.001, 0.001],\n",
       "       [0.   , 0.   ],\n",
       "       [0.   , 0.   ],\n",
       "       [0.   , 0.   ],\n",
       "       [0.   , 0.   ],\n",
       "       [0.   , 0.   ],\n",
       "       [0.   , 0.002],\n",
       "       [0.   , 0.001],\n",
       "       [0.   , 0.   ],\n",
       "       [0.   , 0.   ],\n",
       "       [0.   , 0.   ],\n",
       "       [0.   , 0.   ],\n",
       "       [0.   , 0.   ],\n",
       "       [0.   , 0.   ],\n",
       "       [0.   , 0.   ],\n",
       "       [0.   , 0.   ],\n",
       "       [0.   , 0.   ],\n",
       "       [0.001, 0.   ],\n",
       "       [0.   , 0.   ],\n",
       "       [0.   , 0.   ],\n",
       "       [0.   , 0.   ],\n",
       "       [0.   , 0.   ],\n",
       "       [0.   , 0.   ],\n",
       "       [0.   , 0.   ],\n",
       "       [0.   , 0.001],\n",
       "       [0.   , 0.   ],\n",
       "       [0.   , 0.   ],\n",
       "       [0.   , 0.   ],\n",
       "       [0.   , 0.   ],\n",
       "       [0.   , 0.   ],\n",
       "       [0.   , 0.   ],\n",
       "       [0.   , 0.   ],\n",
       "       [0.   , 0.   ],\n",
       "       [0.   , 0.   ],\n",
       "       [0.   , 0.   ],\n",
       "       [0.   , 0.   ],\n",
       "       [0.   , 0.   ],\n",
       "       [0.   , 0.   ],\n",
       "       [0.   , 0.   ],\n",
       "       [0.   , 0.   ],\n",
       "       [0.   , 0.   ],\n",
       "       [0.   , 0.   ],\n",
       "       [0.   , 0.   ],\n",
       "       [0.   , 0.   ],\n",
       "       [0.   , 0.   ],\n",
       "       [0.   , 0.   ],\n",
       "       [0.   , 0.   ],\n",
       "       [0.   , 0.   ],\n",
       "       [0.   , 0.   ],\n",
       "       [0.   , 0.   ]], dtype=float32)"
      ]
     },
     "metadata": {},
     "execution_count": 48
    }
   ],
   "source": [
    "binned512[1][0,0,:100, :]"
   ]
  }
 ],
 "metadata": {
  "kernelspec": {
   "display_name": "Python 3.7.5 64-bit ('tf-cpu': conda)",
   "language": "python",
   "name": "python37564bittfcpuconda069d89951ccb49ea81a4f03d604ad601"
  },
  "language_info": {
   "codemirror_mode": {
    "name": "ipython",
    "version": 3
   },
   "file_extension": ".py",
   "mimetype": "text/x-python",
   "name": "python",
   "nbconvert_exporter": "python",
   "pygments_lexer": "ipython3",
   "version": "3.7.5-final"
  }
 },
 "nbformat": 4,
 "nbformat_minor": 4
}