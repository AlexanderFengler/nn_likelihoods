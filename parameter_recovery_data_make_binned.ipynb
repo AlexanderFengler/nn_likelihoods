{
 "cells": [
  {
   "cell_type": "code",
   "execution_count": 62,
   "metadata": {},
   "outputs": [],
   "source": [
    "import pickle\n",
    "import os\n",
    "import numpy as np"
   ]
  },
  {
   "cell_type": "code",
   "execution_count": 63,
   "metadata": {},
   "outputs": [],
   "source": [
    "def bin_simulator_output(out = [0, 0],\n",
    "                         bin_dt = 0.04,\n",
    "                         nbins = 0): # ['v', 'a', 'w', 'ndt', 'angle']\n",
    "        \n",
    "        # Generate bins\n",
    "        if nbins == 0:\n",
    "            nbins = int(out[2]['max_t'] / bin_dt)\n",
    "            bins = np.zeros(nbins + 1)\n",
    "            bins[:nbins] = np.linspace(0, out[2]['max_t'], nbins)\n",
    "            bins[nbins] = np.inf\n",
    "        else:  \n",
    "            bins = np.zeros(nbins + 1)\n",
    "            bins[:nbins] = np.linspace(0, out[2]['max_t'], nbins)\n",
    "            bins[nbins] = np.inf\n",
    "\n",
    "        cnt = 0\n",
    "        counts = np.zeros( (nbins, len(out[2]['possible_choices']) ) )\n",
    "\n",
    "        for choice in out[2]['possible_choices']:\n",
    "            counts[:, cnt] = np.histogram(out[0][out[1] == choice], bins = bins)[0] / out[2]['n_samples']\n",
    "            cnt += 1\n",
    "        return counts"
   ]
  },
  {
   "cell_type": "code",
   "execution_count": 57,
   "metadata": {},
   "outputs": [],
   "source": [
    "# data = pickle.load(open('/Users/afengler/OneDrive/project_nn_likelihoods/data/kde/ddm_elife/parameter_recovery_data_binned_0_nbins_0_n_4096/elife_ddm_nchoices_2_parameter_recovery_binned_0_nbins_0_nreps_1_n_4096.pickle', 'rb'))\n",
    "# data[2]['possible_choices'] = [-1, 1]"
   ]
  },
  {
   "cell_type": "code",
   "execution_count": 68,
   "metadata": {},
   "outputs": [],
   "source": [
    "data = pickle.load(open('/Users/afengler/OneDrive/project_nn_likelihoods/data/kde/ddm_sdv_elife/parameter_recovery_data_binned_0_nbins_0_n_4096/elife_ddm_sdv_nchoices_2_parameter_recovery_binned_0_nbins_0_nreps_1_n_4096.pickle', 'rb'))\n",
    "data[2]['possible_choices'] = [-1, 1]"
   ]
  },
  {
   "cell_type": "code",
   "execution_count": 69,
   "metadata": {},
   "outputs": [
    {
     "name": "stdout",
     "output_type": "stream",
     "text": [
      "0\n",
      "100\n",
      "200\n",
      "300\n",
      "400\n",
      "500\n",
      "600\n",
      "700\n",
      "800\n",
      "900\n"
     ]
    }
   ],
   "source": [
    "data_binned_256 = []\n",
    "data_binned_256.append(data[0])\n",
    "data_binned_512 = []\n",
    "data_binned_512.append(data[0])\n",
    "\n",
    "binned_tmp_256 = np.zeros((1, 1000, 256, 2))\n",
    "binned_tmp_512 = np.zeros((1, 1000, 512, 2))\n",
    "\n",
    "for i in range(1000):\n",
    "    out = []\n",
    "    out.append(data[1][0, i, :, 0])\n",
    "    out.append(data[1][0, i, :, 1])\n",
    "    out.append(data[2])\n",
    "    \n",
    "    x_256 = bin_simulator_output(out = out,\n",
    "                                 nbins = 256)\n",
    "    x_512 = bin_simulator_output(out = out,\n",
    "                                 nbins = 512)\n",
    "    \n",
    "    binned_tmp_256[0, i, :, :] = x_256\n",
    "    binned_tmp_512[0, i, :, :] = x_512\n",
    "    \n",
    "    if i % 100 == 0:\n",
    "        print(i)\n",
    "\n",
    "data_binned_256.append(binned_tmp_256)\n",
    "data_binned_512.append(binned_tmp_512)\n",
    "    \n",
    "data_binned_256.append(data[2])\n",
    "data_binned_512.append(data[2])"
   ]
  },
  {
   "cell_type": "code",
   "execution_count": 70,
   "metadata": {},
   "outputs": [],
   "source": [
    "pickle.dump(data_binned_256, open('/Users/afengler/OneDrive/project_nn_likelihoods/data/kde/ddm_sdv/parameter_recovery_data_binned_1_nbins_256_n_4096/elife_ddm_sdv_nchoices_2_parameter_recovery_binned_1_nbins_256_nreps_1_n_4096.pickle', 'wb'), \n",
    "            protocol = 2)"
   ]
  },
  {
   "cell_type": "code",
   "execution_count": 71,
   "metadata": {},
   "outputs": [],
   "source": [
    "pickle.dump(data_binned_512, open('/Users/afengler/OneDrive/project_nn_likelihoods/data/kde/ddm_sdv/parameter_recovery_data_binned_1_nbins_512_n_4096/elife_ddm_sdv_nchoices_2_parameter_recovery_binned_1_nbins_512_nreps_1_n_4096.pickle', 'wb'), \n",
    "            protocol = 2)"
   ]
  }
 ],
 "metadata": {
  "kernelspec": {
   "display_name": "Python 3",
   "language": "python",
   "name": "python3"
  },
  "language_info": {
   "codemirror_mode": {
    "name": "ipython",
    "version": 3
   },
   "file_extension": ".py",
   "mimetype": "text/x-python",
   "name": "python",
   "nbconvert_exporter": "python",
   "pygments_lexer": "ipython3",
   "version": "3.7.4"
  }
 },
 "nbformat": 4,
 "nbformat_minor": 4
}
