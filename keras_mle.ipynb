{
 "cells": [
  {
   "cell_type": "code",
   "execution_count": 51,
   "metadata": {},
   "outputs": [],
   "source": [
    "# Load packages\n",
    "import tensorflow as tf\n",
    "from tensorflow import keras\n",
    "import numpy as np\n",
    "import pandas as pd\n",
    "import os\n",
    "import scipy as scp\n",
    "import scipy.stats as scps\n",
    "from scipy.optimize import differential_evolution\n",
    "from scipy.optimize import minimize\n",
    "from datetime import datetime\n",
    "import matplotlib.pyplot as plt\n",
    "from sklearn.linear_model import LinearRegression\n",
    "\n",
    "# Load my own functions\n",
    "import dnnregressor_train_eval_keras as dnnk\n",
    "import make_data_wfpt as mdw\n",
    "from kde_training_utilities import kde_load_data\n",
    "import ddm_data_simulation as ddm_sim"
   ]
  },
  {
   "cell_type": "code",
   "execution_count": 52,
   "metadata": {},
   "outputs": [
    {
     "data": {
      "text/plain": [
       "<tensorflow.python.training.checkpointable.util.CheckpointLoadStatus at 0x7fca39d0d940>"
      ]
     },
     "execution_count": 52,
     "metadata": {},
     "output_type": "execute_result"
    }
   ],
   "source": [
    "# Load Model\n",
    "model_path = os.getcwd() + '/keras_models/dnnregressor_kde_ddm_flexbound_05_03_19_20_15_59/model_0' \n",
    "ckpt_path = os.getcwd() + '/keras_models/dnnregressor_kde_ddm_flexbound_05_03_19_20_15_59/ckpt_0_80'\n",
    "model = keras.models.load_model(model_path)\n",
    "model.load_weights(ckpt_path)"
   ]
  },
  {
   "cell_type": "code",
   "execution_count": null,
   "metadata": {},
   "outputs": [],
   "source": [
    "# Define the likelihood function DDM\n",
    "def log_p_ddm(params = [0, 1, 0.9], model = [], data = []):\n",
    "    feature_pd = pd.DataFrame(np.zeros((data[0].shape[0], 5)), columns = ['v', 'a', 'w', 'rt', 'choice'])\n",
    "    feature_pd['rt'] = data[0]\n",
    "    feature_pd['choice'] = data[1]\n",
    "    feature_pd['v'] = params[0]\n",
    "    feature_pd['a'] = params[1]\n",
    "    feature_pd['w'] = params[2]\n",
    "    prediction = model.predict(feature_pd)\n",
    "    prediction[prediction < 1e-29] = 1e-29\n",
    "    return(- np.sum(np.log(prediction)))"
   ]
  },
  {
   "cell_type": "code",
   "execution_count": 53,
   "metadata": {},
   "outputs": [],
   "source": [
    "# Define the likelihood function DDM-FLEXBOUND\n",
    "def log_p_flexbound(params = [0, 1, 0.9], model = [], data = []):\n",
    "    feature_pd = pd.DataFrame(np.zeros((data[0].shape[0], 7)), columns = ['v', 'a', 'w', 'c1', 'c2', 'rt', 'choice'])\n",
    "    feature_pd['rt'] = data[0]\n",
    "    feature_pd['choice'] = data[1]\n",
    "    feature_pd['v'] = params[0]\n",
    "    feature_pd['a'] = params[1]\n",
    "    feature_pd['w'] = params[2]\n",
    "    feature_pd['c1'] = params[3]\n",
    "    feature_pd['c2'] = params[4]\n",
    "    prediction = model.predict(feature_pd)\n",
    "    prediction[prediction < 1e-29] = 1e-29\n",
    "    return(- np.sum(np.log(prediction)))"
   ]
  },
  {
   "cell_type": "code",
   "execution_count": null,
   "metadata": {},
   "outputs": [
    {
     "name": "stdout",
     "output_type": "stream",
     "text": [
      "{'boundary_fun': <function exp_c1_c2 at 0x7fcaf006f2f0>}\n",
      "0  datapoints sampled\n",
      "1000  datapoints sampled\n",
      "2000  datapoints sampled\n",
      "[-3.47945818e-01  2.99900000e+00  5.00953174e-01  7.75063102e-04\n",
      "  5.85446794e-01]\n",
      "1\n",
      "{'boundary_fun': <function exp_c1_c2 at 0x7fcaf006f2f0>}\n",
      "0  datapoints sampled\n",
      "1000  datapoints sampled\n",
      "2000  datapoints sampled\n",
      "[-4.89198441e-01  2.99907951e+00  5.00804030e-01  6.85981278e-04\n",
      "  5.47837603e-01]\n",
      "2\n",
      "{'boundary_fun': <function exp_c1_c2 at 0x7fcaf006f2f0>}\n",
      "0  datapoints sampled\n",
      "1000  datapoints sampled\n",
      "2000  datapoints sampled\n",
      "[-4.22849800e-02  3.00029731e+00  5.00718297e-01  6.19065001e-04\n",
      "  7.07855643e-01]\n",
      "3\n",
      "{'boundary_fun': <function exp_c1_c2 at 0x7fcaf006f2f0>}\n",
      "0  datapoints sampled\n",
      "1000  datapoints sampled\n",
      "2000  datapoints sampled\n",
      "[-1.76385326e-01  2.99925557e+00  4.99000000e-01  5.95747247e-04\n",
      "  7.77406769e-01]\n",
      "4\n",
      "{'boundary_fun': <function exp_c1_c2 at 0x7fcaf006f2f0>}\n",
      "0  datapoints sampled\n",
      "1000  datapoints sampled\n",
      "2000  datapoints sampled\n",
      "[1.21226958e-01 3.00021307e+00 5.00221907e-01 3.07181611e-04\n",
      " 4.13359721e-01]\n",
      "5\n",
      "{'boundary_fun': <function exp_c1_c2 at 0x7fcaf006f2f0>}\n",
      "0  datapoints sampled\n",
      "1000  datapoints sampled\n",
      "2000  datapoints sampled\n",
      "[-3.63991587e-01  2.99920126e+00  5.00708042e-01  7.94299520e-04\n",
      "  8.42655591e-01]\n",
      "6\n",
      "{'boundary_fun': <function exp_c1_c2 at 0x7fcaf006f2f0>}\n",
      "0  datapoints sampled\n",
      "1000  datapoints sampled\n",
      "2000  datapoints sampled\n",
      "[-4.90213884e-01  2.99926162e+00  5.00991708e-01  5.34283017e-04\n",
      "  6.34900304e-01]\n",
      "7\n",
      "{'boundary_fun': <function exp_c1_c2 at 0x7fcaf006f2f0>}\n",
      "0  datapoints sampled\n",
      "1000  datapoints sampled\n",
      "2000  datapoints sampled\n",
      "[4.46014795e-01 3.00018987e+00 5.01000000e-01 3.69513275e-04\n",
      " 5.72831275e-01]\n",
      "8\n",
      "{'boundary_fun': <function exp_c1_c2 at 0x7fcaf006f2f0>}\n",
      "0  datapoints sampled\n",
      "1000  datapoints sampled\n",
      "2000  datapoints sampled\n",
      "[-7.70827067e-01  3.00050320e+00  5.00414327e-01  3.42163755e-04\n",
      "  5.47793432e-01]\n",
      "9\n",
      "{'boundary_fun': <function exp_c1_c2 at 0x7fcaf006f2f0>}\n",
      "0  datapoints sampled\n",
      "1000  datapoints sampled\n",
      "2000  datapoints sampled\n"
     ]
    }
   ],
   "source": [
    "# Run MLE \n",
    "ddm_model = 'flexbound'\n",
    "\n",
    "# Initializations -----\n",
    "n_runs = 200\n",
    "n_samples = 2500\n",
    "v_range = [-1, 1]\n",
    "a_range = [2.999, 3.001] # previous [1,2] # previous [2, 3]\n",
    "w_range = [0.499, 0.501]\n",
    "\n",
    "if ddm_model == 'ddm':\n",
    "    optim_results = pd.DataFrame(np.zeros((n_runs, 7)), columns = ['v_sim', \n",
    "                                                                   'a_sim', \n",
    "                                                                   'w_sim', \n",
    "                                                                   'v_mle', \n",
    "                                                                   'a_mle', \n",
    "                                                                   'w_mle', \n",
    "                                                                   'n_samples'])\n",
    "\n",
    "if ddm_model == 'flexbound':\n",
    "    optim_results = pd.DataFrame(np.zeros((n_runs, 11)), columns = ['v_sim', \n",
    "                                                                   'a_sim', \n",
    "                                                                   'w_sim',\n",
    "                                                                   'c1_sim', # note these are boundary function parameters\n",
    "                                                                   'c2_sim', # which ones go here depends on the boundary function\n",
    "                                                                   'v_mle', \n",
    "                                                                   'a_mle', \n",
    "                                                                   'w_mle', \n",
    "                                                                   'c1_mle',\n",
    "                                                                   'c2_mle',\n",
    "                                                                   'n_samples'])\n",
    "    \n",
    "    # Define boundary function \n",
    "    def exp_c1_c2(t = 1, \n",
    "                  c1 = 1,\n",
    "                  c2 = 1):\n",
    "\n",
    "        b = np.exp(- c2*(t-c1))\n",
    "\n",
    "        if t >= c1:\n",
    "\n",
    "            return b\n",
    "\n",
    "        else:\n",
    "            return 1\n",
    "        \n",
    "    # Define appropriate range of parameters\n",
    "    c1_range = [0, 0.001]\n",
    "    c2_range = [1/3, 1]\n",
    "# ---------------------\n",
    "\n",
    "# Main loop ----------- TD: Parallelize\n",
    "cnt = 1\n",
    "for i in range(0, n_runs, 1): \n",
    "    \n",
    "    # Sample parameters\n",
    "    v_sim = np.random.uniform(high = v_range[1], low = v_range[0])\n",
    "    a_sim = np.random.uniform(high = a_range[1], low = a_range[0])\n",
    "    w_sim = np.random.uniform(high = w_range[1], low = w_range[0])\n",
    "    \n",
    "    if ddm_model == 'ddm':\n",
    "        optim_results.iloc[i, 0:3] = [v_sim, a_sim, w_sim,]\n",
    "        optim_results.iloc[i, 6] = n_samples\n",
    "        \n",
    "    if ddm_model == 'flexbound':\n",
    "        c1_sim = np.random.uniform(high = c1_range[1], low = c1_range[0])\n",
    "        c2_sim = np.random.uniform(high = c2_range[1], low = c2_range[0])\n",
    "        \n",
    "        # Store in output file\n",
    "        optim_results.iloc[i, 0:5] = [v_sim, a_sim, w_sim, c1_sim, c2_sim]\n",
    "        optim_results.iloc[i, 10] = n_samples\n",
    "        \n",
    "    \n",
    "    if ddm_model == 'ddm':\n",
    "        ddm_dat_tmp = ddm_sim.ddm_simulate(a = a_sim, \n",
    "                                           v = v_sim, \n",
    "                                           w = w_sim, \n",
    "                                           n_samples = n_samples)\n",
    "    \n",
    "    if ddm_model == 'flexbound':\n",
    "        ddm_dat_tmp = ddm_sim.ddm_flexbound_simulate(v = v_sim,\n",
    "                                                     a = a_sim,\n",
    "                                                     w = w_sim,\n",
    "                                                     s = 1,\n",
    "                                                     delta_t = 0.001,\n",
    "                                                     max_t = 20,\n",
    "                                                     n_samples = n_samples,\n",
    "                                                     boundary_fun = exp_c1_c2, # function of t (and potentially other parameters) that takes in (t, *args)\n",
    "                                                     boundary_fun_type = 'exp_c1_c2',\n",
    "                                                     boundary_params = {'c1': c1_sim, 'c2': c2_sim})\n",
    "    \n",
    "    # Run optimizer\n",
    "    if ddm_model == 'ddm':\n",
    "        out = differential_evolution(log_p_ddm, \n",
    "                                     bounds = [(v_range[0],v_range[1]), \n",
    "                                               (a_range[0], a_range[1]), \n",
    "                                               (w_range[0], w_range[1]),\n",
    "                                               (c1_range[0], c1_range[1]),\n",
    "                                               (c2_range[0], c2_range[1])], \n",
    "                                     args = (model, ddm_dat_tmp), \n",
    "                                     popsize = 30)\n",
    "    if ddm_model == 'flexbound':\n",
    "        out = differential_evolution(log_p_flexbound, \n",
    "                                     bounds = [(v_range[0],v_range[1]), \n",
    "                                               (a_range[0], a_range[1]), \n",
    "                                               (w_range[0], w_range[1]),\n",
    "                                               (c1_range[0], c1_range[1]),\n",
    "                                               (c2_range[0], c2_range[1])], \n",
    "                                     args = (model, ddm_dat_tmp), \n",
    "                                     popsize = 30)\n",
    "    \n",
    "    print(out.x)\n",
    "    \n",
    "    # Store result in output file\n",
    "    if ddm_model == 'ddm':\n",
    "        optim_results.iloc[i, 3:6] = out.x\n",
    "        \n",
    "    if ddm_model == 'flexbound':\n",
    "        optim_results.iloc[i, 5:10] = out.x\n",
    "    \n",
    "    #Print and update counter\n",
    "    print(cnt)\n",
    "    cnt += 1\n",
    "# -----------------------\n",
    "\n",
    "\n",
    "# Save optimization results to file\n",
    "optim_results.to_csv(os.getcwd() + '/experiments/ddm_flexbound_kde_mle_fix_a_3_c1_0_w_unbiased_vrange_mid/optim_results.csv')"
   ]
  },
  {
   "cell_type": "code",
   "execution_count": null,
   "metadata": {},
   "outputs": [],
   "source": [
    "# Run MLE on real data\n",
    "ddm_model = 'flexbound'\n",
    "data_file = os.getcwd() + 'data_storage/michael_bg_nn_data/bg_stn_full.csv'\n",
    "data = pd.read_csv(data_file)\n",
    "files_ = np.unique(data['file'])\n",
    "\n",
    "# Initializations -----\n",
    "v_range = [-2, 2]\n",
    "a_range = [1, 3] # previous [1,2] # previous [2, 3]\n",
    "w_range = [0.499, 0.501]\n",
    "\n",
    "if ddm_model == 'ddm':\n",
    "    optim_results = pd.DataFrame(np.zeros((n_runs, 7)), columns = ['file',\n",
    "                                                                   'v_mle', \n",
    "                                                                   'a_mle', \n",
    "                                                                   'w_mle', \n",
    "                                                                   'n_samples'])\n",
    "\n",
    "if ddm_model == 'flexbound':\n",
    "    optim_results = pd.DataFrame(np.zeros((n_runs, 11)), columns = ['file'\n",
    "                                                                   'v_mle', \n",
    "                                                                   'a_mle', \n",
    "                                                                   'w_mle', \n",
    "                                                                   'c1_mle',\n",
    "                                                                   'c2_mle',\n",
    "                                                                   'n_samples'])\n",
    "    \n",
    "    # Define boundary function \n",
    "    def exp_c1_c2(t = 1, \n",
    "                  c1 = 1,\n",
    "                  c2 = 1):\n",
    "\n",
    "        b = np.exp(- c2*(t-c1))\n",
    "\n",
    "        if t >= c1:\n",
    "\n",
    "            return b\n",
    "\n",
    "        else:\n",
    "            return 1\n",
    "        \n",
    "    # Define appropriate range of parameters\n",
    "    c1_range = [0, 0.0001]\n",
    "    c2_range = [1/3, 1]\n",
    "# ---------------------\n",
    "\n",
    "# Main loop ----------- TD: Parallelize\n",
    "cnt = 1\n",
    "for file_ in files_: \n",
    "    \n",
    "    data_tmp = data.loc[data['file'] == file_,]\n",
    "    data_feed_tmp = [data_tmp['avg_cycle'].values, data_tmp['cnt_err'].values]\n",
    "\n",
    "    # Sample parameters\n",
    "    v_sim = np.random.uniform(high = v_range[1], low = v_range[0])\n",
    "    a_sim = np.random.uniform(high = a_range[1], low = a_range[0])\n",
    "    w_sim = np.random.uniform(high = w_range[1], low = w_range[0])\n",
    "    \n",
    "    if ddm_model == 'ddm':\n",
    "        optim_results.iloc[i, 0] = file_\n",
    "        optim_results.iloc[i, 4] = n_samples\n",
    "        \n",
    "    if ddm_model == 'flexbound':\n",
    "        c1_sim = np.random.uniform(high = c1_range[1], low = c1_range[0])\n",
    "        c2_sim = np.random.uniform(high = c2_range[1], low = c2_range[0])\n",
    "        \n",
    "        # Store in output file\n",
    "        optim_results.iloc[i, 0] = file_\n",
    "        optim_results.iloc[i, 6] = data_tmp.shape[0]\n",
    "\n",
    "\n",
    "    \n",
    "    \n",
    "    if ddm_model == 'ddm':\n",
    "        ddm_dat_tmp = ddm_sim.ddm_simulate(a = a_sim, \n",
    "                                           v = v_sim, \n",
    "                                           w = w_sim, \n",
    "                                           n_samples = n_samples)\n",
    "    \n",
    "    if ddm_model == 'flexbound':\n",
    "        ddm_dat_tmp = ddm_sim.ddm_flexbound_simulate(v = v_sim,\n",
    "                                                     a = a_sim,\n",
    "                                                     w = w_sim,\n",
    "                                                     s = 1,\n",
    "                                                     delta_t = 0.001,\n",
    "                                                     max_t = 20,\n",
    "                                                     n_samples = n_samples,\n",
    "                                                     boundary_fun = exp_c1_c2, # function of t (and potentially other parameters) that takes in (t, *args)\n",
    "                                                     boundary_fun_type = 'exp_c1_c2',\n",
    "                                                     boundary_params = {'c1': c1_sim, 'c2': c2_sim})\n",
    "    \n",
    "    # Run optimizer\n",
    "    if ddm_model == 'ddm':\n",
    "        out = differential_evolution(log_p_ddm, \n",
    "                                     bounds = [(v_range[0],v_range[1]), \n",
    "                                               (a_range[0], a_range[1]), \n",
    "                                               (w_range[0], w_range[1]),\n",
    "                                               (c1_range[0], c1_range[1]),\n",
    "                                               (c2_range[0], c2_range[1])], \n",
    "                                     args = (model, data_feed_tmp), \n",
    "                                     popsize = 30)\n",
    "    if ddm_model == 'flexbound':\n",
    "        out = differential_evolution(log_p_flexbound, \n",
    "                                     bounds = [(v_range[0],v_range[1]), \n",
    "                                               (a_range[0], a_range[1]), \n",
    "                                               (w_range[0], w_range[1]),\n",
    "                                               (c1_range[0], c1_range[1]),\n",
    "                                               (c2_range[0], c2_range[1])], \n",
    "                                     args = (model, data_feed_tmp), \n",
    "                                     popsize = 30)\n",
    "    \n",
    "    print(out.x)\n",
    "    \n",
    "    # Store result in output file\n",
    "    if ddm_model == 'ddm':\n",
    "        optim_results.iloc[i, 1:4] = out.x\n",
    "        \n",
    "    if ddm_model == 'flexbound':\n",
    "        optim_results.iloc[i, 1:6] = out.x\n",
    "    \n",
    "    #Print and update counter\n",
    "    print(cnt)\n",
    "    cnt += 1\n",
    "# -----------------------\n",
    "\n",
    "\n",
    "# Save optimization results to file\n",
    "optim_results.to_csv(os.getcwd() + '/experiments/ddm_flexbound_kde_mle_fix_a_3_c1_0_v_0_w_unbiased/optim_results.csv')"
   ]
  },
  {
   "cell_type": "code",
   "execution_count": 5,
   "metadata": {},
   "outputs": [],
   "source": [
    "optim_results.to_csv(os.getcwd() + '/experiments/optim_results.csv')"
   ]
  },
  {
   "cell_type": "code",
   "execution_count": 81,
   "metadata": {},
   "outputs": [],
   "source": [
    "optim_results = pd.read_csv(os.getcwd() + '/experiments/ddm_flexbound_kde_mle_restricted_range_a_1_2/optim_results.csv')"
   ]
  },
  {
   "cell_type": "code",
   "execution_count": 103,
   "metadata": {},
   "outputs": [],
   "source": [
    "optim_results.to_csv(os.getcwd() + '/experiments/ddm_flexbound_kde_mle_fix_a_3_c1_0_v_0_w_unbiased/optim_results.csv')"
   ]
  },
  {
   "cell_type": "code",
   "execution_count": 104,
   "metadata": {},
   "outputs": [
    {
     "data": {
      "text/plain": [
       "<matplotlib.collections.PathCollection at 0x7fca3883e828>"
      ]
     },
     "execution_count": 104,
     "metadata": {},
     "output_type": "execute_result"
    },
    {
     "data": {
      "image/png": "[encoded data removed]",
      "text/plain": [
       "<Figure size 432x288 with 1 Axes>"
      ]
     },
     "metadata": {},
     "output_type": "display_data"
    }
   ],
   "source": [
    "plt.scatter(optim_results['v_sim'], optim_results['v_mle'])"
   ]
  },
  {
   "cell_type": "code",
   "execution_count": 105,
   "metadata": {},
   "outputs": [
    {
     "data": {
      "text/plain": [
       "0.9331841003536874"
      ]
     },
     "execution_count": 105,
     "metadata": {},
     "output_type": "execute_result"
    }
   ],
   "source": [
    "# Regression for v\n",
    "reg = LinearRegression().fit(np.expand_dims(optim_results['v_mle'], 1), np.expand_dims(optim_results['v_sim'], 1))\n",
    "reg.score(np.expand_dims(optim_results['v_mle'], 1), np.expand_dims(optim_results['v_sim'], 1))"
   ]
  },
  {
   "cell_type": "code",
   "execution_count": 106,
   "metadata": {},
   "outputs": [
    {
     "data": {
      "text/plain": [
       "<matplotlib.collections.PathCollection at 0x7fca3880e6a0>"
      ]
     },
     "execution_count": 106,
     "metadata": {},
     "output_type": "execute_result"
    },
    {
     "data": {
      "image/png": "[encoded data removed]",
      "text/plain": [
       "<Figure size 432x288 with 1 Axes>"
      ]
     },
     "metadata": {},
     "output_type": "display_data"
    }
   ],
   "source": [
    "plt.scatter(optim_results['a_sim'], optim_results['a_mle'])"
   ]
  },
  {
   "cell_type": "code",
   "execution_count": 85,
   "metadata": {},
   "outputs": [
    {
     "data": {
      "text/plain": [
       "0.6443843705736809"
      ]
     },
     "execution_count": 85,
     "metadata": {},
     "output_type": "execute_result"
    }
   ],
   "source": [
    "# Regression for a\n",
    "reg = LinearRegression().fit(np.expand_dims(optim_results['a_mle'], 1), np.expand_dims(optim_results['a_sim'], 1))\n",
    "reg.score(np.expand_dims(optim_results['a_mle'], 1), np.expand_dims(optim_results['a_sim'], 1))"
   ]
  },
  {
   "cell_type": "code",
   "execution_count": 107,
   "metadata": {},
   "outputs": [
    {
     "data": {
      "text/plain": [
       "<matplotlib.collections.PathCollection at 0x7fca387f2438>"
      ]
     },
     "execution_count": 107,
     "metadata": {},
     "output_type": "execute_result"
    },
    {
     "data": {
      "image/png": "[encoded data removed]",
      "text/plain": [
       "<Figure size 432x288 with 1 Axes>"
      ]
     },
     "metadata": {},
     "output_type": "display_data"
    }
   ],
   "source": [
    "plt.scatter(optim_results['w_sim'], optim_results['w_mle'])"
   ]
  },
  {
   "cell_type": "code",
   "execution_count": 95,
   "metadata": {},
   "outputs": [
    {
     "data": {
      "text/plain": [
       "0.9537800734751378"
      ]
     },
     "execution_count": 95,
     "metadata": {},
     "output_type": "execute_result"
    }
   ],
   "source": [
    "# Regression for w\n",
    "reg = LinearRegression().fit(np.expand_dims(optim_results['w_mle'], 1), np.expand_dims(optim_results['w_sim'], 1))\n",
    "reg.score(np.expand_dims(optim_results['w_mle'], 1), np.expand_dims(optim_results['w_sim'], 1))"
   ]
  },
  {
   "cell_type": "code",
   "execution_count": 108,
   "metadata": {},
   "outputs": [
    {
     "data": {
      "text/plain": [
       "<matplotlib.collections.PathCollection at 0x7fca387532b0>"
      ]
     },
     "execution_count": 108,
     "metadata": {},
     "output_type": "execute_result"
    },
    {
     "data": {
      "image/png": "[encoded data removed]",
      "text/plain": [
       "<Figure size 432x288 with 1 Axes>"
      ]
     },
     "metadata": {},
     "output_type": "display_data"
    }
   ],
   "source": [
    "plt.scatter(optim_results['c1_sim'], optim_results['c1_mle'])"
   ]
  },
  {
   "cell_type": "code",
   "execution_count": 96,
   "metadata": {},
   "outputs": [
    {
     "data": {
      "text/plain": [
       "0.5987484115699703"
      ]
     },
     "execution_count": 96,
     "metadata": {},
     "output_type": "execute_result"
    }
   ],
   "source": [
    "# Regression for c1\n",
    "reg = LinearRegression().fit(np.expand_dims(optim_results['c1_mle'], 1), np.expand_dims(optim_results['c1_sim'], 1))\n",
    "reg.score(np.expand_dims(optim_results['c1_mle'], 1), np.expand_dims(optim_results['c1_sim'], 1))"
   ]
  },
  {
   "cell_type": "code",
   "execution_count": 109,
   "metadata": {},
   "outputs": [
    {
     "data": {
      "text/plain": [
       "<matplotlib.collections.PathCollection at 0x7fca388de400>"
      ]
     },
     "execution_count": 109,
     "metadata": {},
     "output_type": "execute_result"
    },
    {
     "data": {
      "image/png": "[encoded data removed]",
      "text/plain": [
       "<Figure size 432x288 with 1 Axes>"
      ]
     },
     "metadata": {},
     "output_type": "display_data"
    }
   ],
   "source": [
    "plt.scatter(optim_results['c2_sim'], optim_results['c2_mle'])"
   ]
  },
  {
   "cell_type": "code",
   "execution_count": 110,
   "metadata": {},
   "outputs": [
    {
     "data": {
      "text/plain": [
       "0.9554382114887374"
      ]
     },
     "execution_count": 110,
     "metadata": {},
     "output_type": "execute_result"
    }
   ],
   "source": [
    "# Regression for w\n",
    "reg = LinearRegression().fit(np.expand_dims(optim_results['c2_mle'], 1), np.expand_dims(optim_results['c2_sim'], 1))\n",
    "reg.score(np.expand_dims(optim_results['c2_mle'], 1), np.expand_dims(optim_results['c2_sim'], 1))"
   ]
  },
  {
   "cell_type": "code",
   "execution_count": null,
   "metadata": {},
   "outputs": [],
   "source": [
    "# Code for running other optimization methods... (didn't work though)\n",
    "#     out = minimize(log_p,\n",
    "    #                    x0 = np.array([0, 1, 0.5]),\n",
    "    #                    bounds = [(v_range[0],v_range[1]), \n",
    "    #                                            (a_range[0], a_range[1]), \n",
    "    #                                            (w_range[0], w_range[1])],\n",
    "    #                   args = (model, ddm_dat_tmp),\n",
    "    #                   method = 'Nelder-Mead'\n",
    "    #                   )\n",
    "    \n",
    "    # Print current result"
   ]
  }
 ],
 "metadata": {
  "kernelspec": {
   "display_name": "tf-gpu",
   "language": "python",
   "name": "tf-gpu"
  },
  "language_info": {
   "codemirror_mode": {
    "name": "ipython",
    "version": 3
   },
   "file_extension": ".py",
   "mimetype": "text/x-python",
   "name": "python",
   "nbconvert_exporter": "python",
   "pygments_lexer": "ipython3",
   "version": "3.6.6"
  }
 },
 "nbformat": 4,
 "nbformat_minor": 2
}
