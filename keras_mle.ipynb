{
 "cells": [
  {
   "cell_type": "code",
   "execution_count": 2,
   "metadata": {},
   "outputs": [],
   "source": [
    "# Load packages\n",
    "import tensorflow as tf\n",
    "from tensorflow import keras\n",
    "import numpy as np\n",
    "import pandas as pd\n",
    "import os\n",
    "import scipy as scp\n",
    "import scipy.stats as scps\n",
    "from scipy.optimize import differential_evolution\n",
    "from scipy.optimize import minimize\n",
    "from datetime import datetime\n",
    "import matplotlib.pyplot as plt\n",
    "from sklearn.linear_model import LinearRegression\n",
    "\n",
    "# Load my own functions\n",
    "import dnnregressor_train_eval_keras as dnnk\n",
    "import make_data_wfpt as mdw\n",
    "from kde_training_utilities import kde_load_data\n",
    "import ddm_data_simulation as ddm_sim"
   ]
  },
  {
   "cell_type": "code",
   "execution_count": 6,
   "metadata": {},
   "outputs": [
    {
     "data": {
      "text/plain": [
       "<tensorflow.python.training.checkpointable.util.CheckpointLoadStatus at 0x7f89c01a3080>"
      ]
     },
     "execution_count": 6,
     "metadata": {},
     "output_type": "execute_result"
    }
   ],
   "source": [
    "# Load Model\n",
    "model_path = os.getcwd() + '/keras_models/ddm_kde_hyp_opt_test_kde_ddm_small_fan_out_04_23_19_15_28_09/model_0' \n",
    "ckpt_path = os.getcwd() + '/keras_models/ddm_kde_hyp_opt_test_kde_ddm_small_fan_out_04_23_19_15_28_09/ckpt_0_85'\n",
    "model = keras.models.load_model(model_path)\n",
    "model.load_weights(ckpt_path)"
   ]
  },
  {
   "cell_type": "code",
   "execution_count": 7,
   "metadata": {},
   "outputs": [],
   "source": [
    "# Define the likelihood function\n",
    "def log_p(params = [0, 1, 0.9], model = [], data = []):\n",
    "    feature_pd = pd.DataFrame(np.zeros((data[0].shape[0], 5)), columns = ['v', 'a', 'w', 'rt', 'choice'])\n",
    "    feature_pd['rt'] = data[0]\n",
    "    feature_pd['choice'] = data[1]\n",
    "    feature_pd['v'] = params[0]\n",
    "    feature_pd['a'] = params[1]\n",
    "    feature_pd['w'] = params[2]\n",
    "    prediction = model.predict(feature_pd)\n",
    "    prediction[prediction < 1e-29] = 1e-29\n",
    "    return(- np.sum(np.log(prediction)))"
   ]
  },
  {
   "cell_type": "code",
   "execution_count": 13,
   "metadata": {},
   "outputs": [
    {
     "name": "stdout",
     "output_type": "stream",
     "text": [
      "0  datapoints sampled\n",
      "1000  datapoints sampled\n",
      "2000  datapoints sampled\n",
      "3000  datapoints sampled\n",
      "4000  datapoints sampled\n",
      "finished: {'v': -1.494173052372204, 'a': 1.1544464649205652, 'w': 0.25411016650589496, 's': 1, 'delta_t': 0.001, 'max_t': 20, 'n_samples': 5000, 'simulator': 'ddm', 'boundary_fun_type': 'constant'}\n",
      "[-1.18073124  1.10519633  0.22664446]\n",
      "1\n"
     ]
    }
   ],
   "source": [
    "# Run MLE \n",
    "\n",
    "# Initializations -----\n",
    "n_runs = 1\n",
    "n_samples = 5000\n",
    "v_range = [-2.5, 2.5]\n",
    "a_range = [0.5, 3]\n",
    "w_range = [0.15, 0.85]\n",
    "\n",
    "optim_results = pd.DataFrame(np.zeros((n_runs, 7)), columns = ['v_sim', \n",
    "                                                               'a_sim', \n",
    "                                                               'w_sim', \n",
    "                                                               'v_mle', \n",
    "                                                               'a_mle', \n",
    "                                                               'w_mle', \n",
    "                                                               'n_samples'])\n",
    "# ---------------------\n",
    "\n",
    "# Main loop ----------- TD: Parallelize\n",
    "cnt = 1\n",
    "for i in range(0, n_runs, 1): \n",
    "    \n",
    "    # Sample parameters\n",
    "    v_sim = np.random.uniform(high = v_range[1], low = v_range[0])\n",
    "    a_sim = np.random.uniform(high = a_range[1], low = a_range[0])\n",
    "    w_sim = np.random.uniform(high = w_range[1], low = w_range[0])\n",
    "    \n",
    "    # Store in output file\n",
    "    optim_results.iloc[i, 0:3] = [v_sim, a_sim, w_sim]\n",
    "    optim_results.iloc[i, 6] = n_samples\n",
    "    \n",
    "    ddm_dat_tmp = ddm_sim.ddm_simulate(a = a_sim, \n",
    "                                       v = v_sim, \n",
    "                                       w = w_sim, \n",
    "                                       n_samples = n_samples)\n",
    "    \n",
    "    \n",
    "    # Run optimizer\n",
    "    out = differential_evolution(log_p, \n",
    "                                 bounds = [(v_range[0],v_range[1]), \n",
    "                                           (a_range[0], a_range[1]), \n",
    "                                           (w_range[0], w_range[1])], \n",
    "                                 args = (model, ddm_dat_tmp), \n",
    "                                 popsize = 30)\n",
    "    \n",
    "#     out = minimize(log_p,\n",
    "#                    x0 = np.array([0, 1, 0.5]),\n",
    "#                    bounds = [(v_range[0],v_range[1]), \n",
    "#                                            (a_range[0], a_range[1]), \n",
    "#                                            (w_range[0], w_range[1])],\n",
    "#                   args = (model, ddm_dat_tmp),\n",
    "#                   method = 'Nelder-Mead'\n",
    "#                   )\n",
    "    \n",
    "    # Print current result\n",
    "    print(out.x)\n",
    "    \n",
    "    # Store result in output file\n",
    "    optim_results.iloc[i, 3:6] = out.x\n",
    "    \n",
    "    #Print and update counter\n",
    "    print(cnt)\n",
    "    cnt += 1\n",
    "# -----------------------"
   ]
  },
  {
   "cell_type": "code",
   "execution_count": 5,
   "metadata": {},
   "outputs": [],
   "source": [
    "optim_results.to_csv(os.getcwd() + '/experiments/ddm_kde_mle_1/optim_results_nelder_mead.csv')"
   ]
  },
  {
   "cell_type": "code",
   "execution_count": 14,
   "metadata": {},
   "outputs": [
    {
     "data": {
      "text/html": [
       "<div>\n",
       "<style scoped>\n",
       "    .dataframe tbody tr th:only-of-type {\n",
       "        vertical-align: middle;\n",
       "    }\n",
       "\n",
       "    .dataframe tbody tr th {\n",
       "        vertical-align: top;\n",
       "    }\n",
       "\n",
       "    .dataframe thead th {\n",
       "        text-align: right;\n",
       "    }\n",
       "</style>\n",
       "<table border=\"1\" class=\"dataframe\">\n",
       "  <thead>\n",
       "    <tr style=\"text-align: right;\">\n",
       "      <th></th>\n",
       "      <th>v_sim</th>\n",
       "      <th>a_sim</th>\n",
       "      <th>w_sim</th>\n",
       "      <th>v_mle</th>\n",
       "      <th>a_mle</th>\n",
       "      <th>w_mle</th>\n",
       "      <th>n_samples</th>\n",
       "    </tr>\n",
       "  </thead>\n",
       "  <tbody>\n",
       "    <tr>\n",
       "      <th>0</th>\n",
       "      <td>-1.494173</td>\n",
       "      <td>1.154446</td>\n",
       "      <td>0.25411</td>\n",
       "      <td>-1.180731</td>\n",
       "      <td>1.105196</td>\n",
       "      <td>0.226644</td>\n",
       "      <td>5000.0</td>\n",
       "    </tr>\n",
       "  </tbody>\n",
       "</table>\n",
       "</div>"
      ],
      "text/plain": [
       "      v_sim     a_sim    w_sim     v_mle     a_mle     w_mle  n_samples\n",
       "0 -1.494173  1.154446  0.25411 -1.180731  1.105196  0.226644     5000.0"
      ]
     },
     "execution_count": 14,
     "metadata": {},
     "output_type": "execute_result"
    }
   ],
   "source": [
    "optim_results"
   ]
  },
  {
   "cell_type": "code",
   "execution_count": 10,
   "metadata": {},
   "outputs": [
    {
     "data": {
      "text/plain": [
       "<matplotlib.collections.PathCollection at 0x7f9900503668>"
      ]
     },
     "execution_count": 10,
     "metadata": {},
     "output_type": "execute_result"
    },
    {
     "data": {
      "image/png": "[encoded data removed]",
      "text/plain": [
       "<Figure size 432x288 with 1 Axes>"
      ]
     },
     "metadata": {
      "needs_background": "light"
     },
     "output_type": "display_data"
    }
   ],
   "source": [
    "plt.scatter(optim_results['v_sim'], optim_results['v_mle'])"
   ]
  },
  {
   "cell_type": "code",
   "execution_count": 37,
   "metadata": {},
   "outputs": [
    {
     "data": {
      "text/plain": [
       "0.9174881140826349"
      ]
     },
     "execution_count": 37,
     "metadata": {},
     "output_type": "execute_result"
    }
   ],
   "source": [
    "# Regression for v\n",
    "reg = LinearRegression().fit(np.expand_dims(optim_results['v_mle'], 1), np.expand_dims(optim_results['v_sim'], 1))\n",
    "reg.score(np.expand_dims(optim_results['v_mle'], 1), np.expand_dims(optim_results['v_sim'], 1))"
   ]
  },
  {
   "cell_type": "code",
   "execution_count": 11,
   "metadata": {},
   "outputs": [
    {
     "data": {
      "text/plain": [
       "<matplotlib.collections.PathCollection at 0x7f99004dff28>"
      ]
     },
     "execution_count": 11,
     "metadata": {},
     "output_type": "execute_result"
    },
    {
     "data": {
      "image/png": "[encoded data removed]",
      "text/plain": [
       "<Figure size 432x288 with 1 Axes>"
      ]
     },
     "metadata": {
      "needs_background": "light"
     },
     "output_type": "display_data"
    }
   ],
   "source": [
    "plt.scatter(optim_results['a_sim'], optim_results['a_mle'])"
   ]
  },
  {
   "cell_type": "code",
   "execution_count": 36,
   "metadata": {},
   "outputs": [
    {
     "data": {
      "text/plain": [
       "0.9341689917325401"
      ]
     },
     "execution_count": 36,
     "metadata": {},
     "output_type": "execute_result"
    }
   ],
   "source": [
    "# Regression for a\n",
    "reg = LinearRegression().fit(np.expand_dims(optim_results['a_mle'], 1), np.expand_dims(optim_results['a_sim'], 1))\n",
    "reg.score(np.expand_dims(optim_results['a_mle'], 1), np.expand_dims(optim_results['a_sim'], 1))"
   ]
  },
  {
   "cell_type": "code",
   "execution_count": 14,
   "metadata": {},
   "outputs": [
    {
     "data": {
      "text/plain": [
       "<matplotlib.collections.PathCollection at 0x7f990044f208>"
      ]
     },
     "execution_count": 14,
     "metadata": {},
     "output_type": "execute_result"
    },
    {
     "data": {
      "image/png": "[encoded data removed]",
      "text/plain": [
       "<Figure size 432x288 with 1 Axes>"
      ]
     },
     "metadata": {
      "needs_background": "light"
     },
     "output_type": "display_data"
    }
   ],
   "source": [
    "plt.scatter(optim_results['w_sim'], optim_results['w_mle'])"
   ]
  },
  {
   "cell_type": "code",
   "execution_count": 35,
   "metadata": {},
   "outputs": [
    {
     "data": {
      "text/plain": [
       "0.9535084220225417"
      ]
     },
     "execution_count": 35,
     "metadata": {},
     "output_type": "execute_result"
    }
   ],
   "source": [
    "# Regression for w\n",
    "reg = LinearRegression().fit(np.expand_dims(optim_results['w_mle'], 1), np.expand_dims(optim_results['w_sim'], 1))\n",
    "reg.score(np.expand_dims(optim_results['w_mle'], 1), np.expand_dims(optim_results['w_sim'], 1))"
   ]
  },
  {
   "cell_type": "code",
   "execution_count": 5,
   "metadata": {},
   "outputs": [
    {
     "data": {
      "text/plain": [
       "array([1, 2, 3])"
      ]
     },
     "execution_count": 5,
     "metadata": {},
     "output_type": "execute_result"
    }
   ],
   "source": [
    "np.array([1,2,3])"
   ]
  },
  {
   "cell_type": "code",
   "execution_count": null,
   "metadata": {},
   "outputs": [],
   "source": []
  }
 ],
 "metadata": {
  "kernelspec": {
   "display_name": "tf",
   "language": "python",
   "name": "tf"
  },
  "language_info": {
   "codemirror_mode": {
    "name": "ipython",
    "version": 3
   },
   "file_extension": ".py",
   "mimetype": "text/x-python",
   "name": "python",
   "nbconvert_exporter": "python",
   "pygments_lexer": "ipython3",
   "version": "3.6.5"
  }
 },
 "nbformat": 4,
 "nbformat_minor": 2
}
