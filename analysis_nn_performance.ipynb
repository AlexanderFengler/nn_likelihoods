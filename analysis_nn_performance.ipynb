{
 "cells": [
  {
   "cell_type": "code",
   "execution_count": 71,
   "metadata": {},
   "outputs": [
    {
     "name": "stderr",
     "output_type": "stream",
     "text": [
      "/home/afengler/miniconda3/envs/pytorch/lib/python3.7/site-packages/ipykernel_launcher.py:35: YAMLLoadWarning: calling yaml.load() without Loader=... is deprecated, as the default Loader is unsafe. Please read https://msg.pyyaml.org/load for full details.\n"
     ]
    }
   ],
   "source": [
    "# import tensorflow as tf\n",
    "# from tensorflow import keras\n",
    "import numpy as np\n",
    "import yaml\n",
    "import pandas as pd\n",
    "from itertools import product\n",
    "#from samplers import SliceSampler\n",
    "import pickle\n",
    "import uuid\n",
    "\n",
    "#import boundary_functions as bf\n",
    "#import multiprocessing as mp\n",
    "#import cddm_data_simulation as cd\n",
    "#from cdwiener import batch_fptd\n",
    "#from np_network import np_predict\n",
    "#from kde_info import KDEStats\n",
    "\n",
    "import ckeras_to_numpy as ktnp\n",
    "import matplotlib.pyplot as plt\n",
    "\n",
    "# INITIALIZATIONS -------------------------------------------------------------\n",
    "# INSERT HERE\n",
    "network_path = ''\n",
    "training_file_folder = ''\n",
    "\n",
    "machine = 'x7' # put custom if you want to keep your network_path\n",
    "method = 'ddm'\n",
    "n_data_samples = 2500\n",
    "n_slice_samples = 5000\n",
    "n_sims = 10\n",
    "n_cpus = 'all'\n",
    "\n",
    "if machine == 'x7':\n",
    "    stats = pickle.load(open(\"/media/data_cifs/afengler/git_repos/nn_likelihoods/kde_stats.pickle\", \"rb\"))\n",
    "    method_params = stats[method]\n",
    "    output_folder = method_params['output_folder_x7']\n",
    "    with open(\"model_paths_x7.yaml\") as tmp_file:\n",
    "        network_path = yaml.load(tmp_file)[method]\n",
    "if machine == 'ccv':\n",
    "    stats = pickle.load(open(\"/users/afengler/git_repos/nn_likelihoods/kde_stats.pickle\", \"rb\"))\n",
    "    method_params = stats[method]\n",
    "    output_folder = method_params['output_folder']\n",
    "    with open(\"model_paths.yaml\") as tmp_file:\n",
    "        network_path = yaml.load(tmp_file)[method]\n",
    "\n",
    "# if machine =='ccv' or machine == 'x7':\n",
    "#     print(stats)\n",
    "#     print(method_params)\n",
    "\n",
    "# model = keras.models.load_model(network_path, custom_objects=custom_objects)\n",
    "# fcn = keras.models.load_model(fcn_path, custom_objects=fcn_custom_objects)\n",
    "\n",
    "# Load weights, biases and activations of current network --------\n",
    "with open(network_path + \"weights.pickle\", \"rb\") as tmp_file:\n",
    "    weights = pickle.load(tmp_file)\n",
    "with open(network_path + 'biases.pickle', 'rb') as tmp_file:\n",
    "    biases = pickle.load(tmp_file)\n",
    "with open(network_path + 'activations.pickle', 'rb') as tmp_file:\n",
    "    activations = pickle.load(tmp_file)"
   ]
  },
  {
   "cell_type": "code",
   "execution_count": 73,
   "metadata": {},
   "outputs": [],
   "source": [
    "# Load training data \n",
    "import os\n",
    "training_file_folder = '/media/data_cifs/afengler/data/kde/ddm/train_test_data_20000/'\n",
    "training_files = os.listdir(training_file_folder)\n",
    "train_dat = pickle.load(open(training_file_folder + training_files[10], 'rb'))"
   ]
  },
  {
   "cell_type": "code",
   "execution_count": 13,
   "metadata": {},
   "outputs": [],
   "source": [
    "# Preprocess\n",
    "train_dat.loc[train_dat['log_l'] < np.log(1e-7), 'log_l'] = np.log(1e-7)"
   ]
  },
  {
   "cell_type": "code",
   "execution_count": 14,
   "metadata": {},
   "outputs": [],
   "source": [
    "# Predict Likelihoods\n",
    "out = ktnp.predict(train_dat.iloc[:, :-1], weights, biases, activations, len(activations))"
   ]
  },
  {
   "cell_type": "code",
   "execution_count": 61,
   "metadata": {},
   "outputs": [],
   "source": [
    "# Store \n",
    "train_dat['prediction'] = np.maximum(out, np.log(1e-7))\n",
    "abs_prediction_error = np.abs(train_dat['prediction'] - train_dat['log_l'])"
   ]
  },
  {
   "cell_type": "code",
   "execution_count": 68,
   "metadata": {},
   "outputs": [
    {
     "data": {
      "text/plain": [
       "(array([6.80023e+05, 2.04029e+05, 5.41290e+04, 1.84350e+04, 8.33100e+03,\n",
       "        4.44300e+03, 2.92300e+03, 2.02100e+03, 1.52800e+03, 1.20300e+03,\n",
       "        1.04100e+03, 7.61000e+02, 7.06000e+02, 6.19000e+02, 5.30000e+02,\n",
       "        4.87000e+02, 4.44000e+02, 3.89000e+02, 3.50000e+02, 3.80000e+02,\n",
       "        3.23000e+02, 2.85000e+02, 2.79000e+02, 2.56000e+02, 2.63000e+02,\n",
       "        2.19000e+02, 2.12000e+02, 2.26000e+02, 2.08000e+02, 1.91000e+02,\n",
       "        1.77000e+02, 1.53000e+02, 1.65000e+02, 1.51000e+02, 1.39000e+02,\n",
       "        1.20000e+02, 1.25000e+02, 1.34000e+02, 1.33000e+02, 1.21000e+02,\n",
       "        1.15000e+02, 9.50000e+01, 1.05000e+02, 9.70000e+01, 9.80000e+01,\n",
       "        1.11000e+02, 9.10000e+01, 8.40000e+01, 9.70000e+01, 8.40000e+01,\n",
       "        9.50000e+01, 8.70000e+01, 7.10000e+01, 7.10000e+01, 6.90000e+01,\n",
       "        6.80000e+01, 6.00000e+01, 7.70000e+01, 7.00000e+01, 5.50000e+01,\n",
       "        5.70000e+01, 6.30000e+01, 6.10000e+01, 6.20000e+01, 4.30000e+01,\n",
       "        5.30000e+01, 5.20000e+01, 5.10000e+01, 5.70000e+01, 4.60000e+01,\n",
       "        3.70000e+01, 5.00000e+01, 3.20000e+01, 3.90000e+01, 3.90000e+01,\n",
       "        5.40000e+01, 3.90000e+01, 4.10000e+01, 4.40000e+01, 3.30000e+01,\n",
       "        3.70000e+01, 3.70000e+01, 4.20000e+01, 3.10000e+01, 4.90000e+01,\n",
       "        3.80000e+01, 4.20000e+01, 3.10000e+01, 3.00000e+01, 3.20000e+01,\n",
       "        3.50000e+01, 2.30000e+01, 3.80000e+01, 3.80000e+01, 3.40000e+01,\n",
       "        3.20000e+01, 3.30000e+01, 4.10000e+01, 2.70000e+01]),\n",
       " array([0.  , 0.02, 0.04, 0.06, 0.08, 0.1 , 0.12, 0.14, 0.16, 0.18, 0.2 ,\n",
       "        0.22, 0.24, 0.26, 0.28, 0.3 , 0.32, 0.34, 0.36, 0.38, 0.4 , 0.42,\n",
       "        0.44, 0.46, 0.48, 0.5 , 0.52, 0.54, 0.56, 0.58, 0.6 , 0.62, 0.64,\n",
       "        0.66, 0.68, 0.7 , 0.72, 0.74, 0.76, 0.78, 0.8 , 0.82, 0.84, 0.86,\n",
       "        0.88, 0.9 , 0.92, 0.94, 0.96, 0.98, 1.  , 1.02, 1.04, 1.06, 1.08,\n",
       "        1.1 , 1.12, 1.14, 1.16, 1.18, 1.2 , 1.22, 1.24, 1.26, 1.28, 1.3 ,\n",
       "        1.32, 1.34, 1.36, 1.38, 1.4 , 1.42, 1.44, 1.46, 1.48, 1.5 , 1.52,\n",
       "        1.54, 1.56, 1.58, 1.6 , 1.62, 1.64, 1.66, 1.68, 1.7 , 1.72, 1.74,\n",
       "        1.76, 1.78, 1.8 , 1.82, 1.84, 1.86, 1.88, 1.9 , 1.92, 1.94, 1.96,\n",
       "        1.98]),\n",
       " <a list of 99 Patch objects>)"
      ]
     },
     "execution_count": 68,
     "metadata": {},
     "output_type": "execute_result"
    },
    {
     "data": {
      "image/png": "[encoded data removed]",
      "text/plain": [
       "<Figure size 432x288 with 1 Axes>"
      ]
     },
     "metadata": {
      "needs_background": "light"
     },
     "output_type": "display_data"
    }
   ],
   "source": [
    "# Distribution of Absolute Prediction Errors\n",
    "plt.hist(abs_prediction_error, bins = np.arange(0, 2, 0.02))"
   ]
  },
  {
   "cell_type": "code",
   "execution_count": 67,
   "metadata": {},
   "outputs": [
    {
     "data": {
      "text/plain": [
       "(array([2.10000e+01, 2.80000e+01, 2.70000e+01, 2.10000e+01, 2.80000e+01,\n",
       "        1.80000e+01, 2.10000e+01, 2.90000e+01, 2.20000e+01, 3.00000e+01,\n",
       "        2.30000e+01, 3.00000e+01, 1.90000e+01, 2.40000e+01, 1.60000e+01,\n",
       "        2.60000e+01, 2.70000e+01, 2.90000e+01, 2.00000e+01, 3.80000e+01,\n",
       "        2.50000e+01, 3.60000e+01, 2.60000e+01, 3.10000e+01, 3.00000e+01,\n",
       "        3.80000e+01, 2.30000e+01, 3.60000e+01, 3.30000e+01, 2.80000e+01,\n",
       "        3.60000e+01, 3.90000e+01, 3.70000e+01, 3.40000e+01, 3.20000e+01,\n",
       "        4.10000e+01, 3.80000e+01, 4.20000e+01, 4.80000e+01, 4.00000e+01,\n",
       "        4.00000e+01, 3.80000e+01, 4.50000e+01, 5.10000e+01, 4.40000e+01,\n",
       "        4.90000e+01, 5.30000e+01, 3.90000e+01, 4.10000e+01, 5.60000e+01,\n",
       "        6.10000e+01, 6.70000e+01, 6.30000e+01, 6.40000e+01, 5.70000e+01,\n",
       "        6.00000e+01, 6.30000e+01, 6.40000e+01, 7.10000e+01, 7.50000e+01,\n",
       "        9.10000e+01, 8.70000e+01, 7.00000e+01, 8.40000e+01, 7.80000e+01,\n",
       "        9.60000e+01, 8.60000e+01, 9.70000e+01, 9.50000e+01, 1.05000e+02,\n",
       "        1.21000e+02, 1.33000e+02, 1.23000e+02, 1.53000e+02, 1.47000e+02,\n",
       "        1.63000e+02, 1.53000e+02, 1.67000e+02, 2.01000e+02, 2.26000e+02,\n",
       "        2.35000e+02, 2.67000e+02, 3.03000e+02, 3.41000e+02, 4.03000e+02,\n",
       "        4.93000e+02, 5.63000e+02, 7.79000e+02, 9.26000e+02, 1.16200e+03,\n",
       "        1.59600e+03, 2.27900e+03, 3.44500e+03, 5.45800e+03, 9.05100e+03,\n",
       "        1.74820e+04, 3.55630e+04, 6.87710e+04, 1.13428e+05, 2.39853e+05,\n",
       "        2.14653e+05, 1.12089e+05, 6.55710e+04, 3.41240e+04, 1.78780e+04,\n",
       "        9.71800e+03, 5.69700e+03, 3.83500e+03, 2.64800e+03, 1.80800e+03,\n",
       "        1.35900e+03, 9.96000e+02, 8.49000e+02, 7.32000e+02, 5.99000e+02,\n",
       "        5.26000e+02, 4.92000e+02, 3.92000e+02, 3.80000e+02, 3.21000e+02,\n",
       "        3.27000e+02, 2.87000e+02, 2.47000e+02, 1.94000e+02, 2.07000e+02,\n",
       "        1.89000e+02, 1.92000e+02, 1.51000e+02, 1.45000e+02, 1.31000e+02,\n",
       "        1.48000e+02, 1.39000e+02, 1.27000e+02, 1.34000e+02, 1.05000e+02,\n",
       "        1.10000e+02, 9.40000e+01, 1.02000e+02, 9.50000e+01, 1.07000e+02,\n",
       "        8.90000e+01, 8.80000e+01, 8.30000e+01, 7.50000e+01, 8.20000e+01,\n",
       "        8.00000e+01, 6.90000e+01, 6.00000e+01, 6.80000e+01, 6.70000e+01,\n",
       "        6.40000e+01, 5.80000e+01, 6.40000e+01, 5.60000e+01, 6.00000e+01,\n",
       "        7.30000e+01, 6.40000e+01, 4.80000e+01, 5.60000e+01, 5.70000e+01,\n",
       "        4.90000e+01, 4.00000e+01, 3.60000e+01, 3.70000e+01, 4.90000e+01,\n",
       "        4.30000e+01, 4.00000e+01, 4.00000e+01, 3.80000e+01, 2.60000e+01,\n",
       "        2.60000e+01, 3.30000e+01, 3.70000e+01, 2.90000e+01, 3.50000e+01,\n",
       "        3.10000e+01, 3.50000e+01, 4.10000e+01, 2.60000e+01, 3.40000e+01,\n",
       "        2.60000e+01, 3.10000e+01, 1.90000e+01, 2.00000e+01, 3.10000e+01,\n",
       "        3.20000e+01, 3.70000e+01, 1.70000e+01, 1.80000e+01, 2.70000e+01,\n",
       "        3.30000e+01, 2.60000e+01, 2.00000e+01, 2.10000e+01, 1.40000e+01,\n",
       "        2.40000e+01, 2.90000e+01, 2.00000e+01, 1.20000e+01]),\n",
       " array([-1.0000000e+00, -9.9000000e-01, -9.8000000e-01, -9.7000000e-01,\n",
       "        -9.6000000e-01, -9.5000000e-01, -9.4000000e-01, -9.3000000e-01,\n",
       "        -9.2000000e-01, -9.1000000e-01, -9.0000000e-01, -8.9000000e-01,\n",
       "        -8.8000000e-01, -8.7000000e-01, -8.6000000e-01, -8.5000000e-01,\n",
       "        -8.4000000e-01, -8.3000000e-01, -8.2000000e-01, -8.1000000e-01,\n",
       "        -8.0000000e-01, -7.9000000e-01, -7.8000000e-01, -7.7000000e-01,\n",
       "        -7.6000000e-01, -7.5000000e-01, -7.4000000e-01, -7.3000000e-01,\n",
       "        -7.2000000e-01, -7.1000000e-01, -7.0000000e-01, -6.9000000e-01,\n",
       "        -6.8000000e-01, -6.7000000e-01, -6.6000000e-01, -6.5000000e-01,\n",
       "        -6.4000000e-01, -6.3000000e-01, -6.2000000e-01, -6.1000000e-01,\n",
       "        -6.0000000e-01, -5.9000000e-01, -5.8000000e-01, -5.7000000e-01,\n",
       "        -5.6000000e-01, -5.5000000e-01, -5.4000000e-01, -5.3000000e-01,\n",
       "        -5.2000000e-01, -5.1000000e-01, -5.0000000e-01, -4.9000000e-01,\n",
       "        -4.8000000e-01, -4.7000000e-01, -4.6000000e-01, -4.5000000e-01,\n",
       "        -4.4000000e-01, -4.3000000e-01, -4.2000000e-01, -4.1000000e-01,\n",
       "        -4.0000000e-01, -3.9000000e-01, -3.8000000e-01, -3.7000000e-01,\n",
       "        -3.6000000e-01, -3.5000000e-01, -3.4000000e-01, -3.3000000e-01,\n",
       "        -3.2000000e-01, -3.1000000e-01, -3.0000000e-01, -2.9000000e-01,\n",
       "        -2.8000000e-01, -2.7000000e-01, -2.6000000e-01, -2.5000000e-01,\n",
       "        -2.4000000e-01, -2.3000000e-01, -2.2000000e-01, -2.1000000e-01,\n",
       "        -2.0000000e-01, -1.9000000e-01, -1.8000000e-01, -1.7000000e-01,\n",
       "        -1.6000000e-01, -1.5000000e-01, -1.4000000e-01, -1.3000000e-01,\n",
       "        -1.2000000e-01, -1.1000000e-01, -1.0000000e-01, -9.0000000e-02,\n",
       "        -8.0000000e-02, -7.0000000e-02, -6.0000000e-02, -5.0000000e-02,\n",
       "        -4.0000000e-02, -3.0000000e-02, -2.0000000e-02, -1.0000000e-02,\n",
       "         8.8817842e-16,  1.0000000e-02,  2.0000000e-02,  3.0000000e-02,\n",
       "         4.0000000e-02,  5.0000000e-02,  6.0000000e-02,  7.0000000e-02,\n",
       "         8.0000000e-02,  9.0000000e-02,  1.0000000e-01,  1.1000000e-01,\n",
       "         1.2000000e-01,  1.3000000e-01,  1.4000000e-01,  1.5000000e-01,\n",
       "         1.6000000e-01,  1.7000000e-01,  1.8000000e-01,  1.9000000e-01,\n",
       "         2.0000000e-01,  2.1000000e-01,  2.2000000e-01,  2.3000000e-01,\n",
       "         2.4000000e-01,  2.5000000e-01,  2.6000000e-01,  2.7000000e-01,\n",
       "         2.8000000e-01,  2.9000000e-01,  3.0000000e-01,  3.1000000e-01,\n",
       "         3.2000000e-01,  3.3000000e-01,  3.4000000e-01,  3.5000000e-01,\n",
       "         3.6000000e-01,  3.7000000e-01,  3.8000000e-01,  3.9000000e-01,\n",
       "         4.0000000e-01,  4.1000000e-01,  4.2000000e-01,  4.3000000e-01,\n",
       "         4.4000000e-01,  4.5000000e-01,  4.6000000e-01,  4.7000000e-01,\n",
       "         4.8000000e-01,  4.9000000e-01,  5.0000000e-01,  5.1000000e-01,\n",
       "         5.2000000e-01,  5.3000000e-01,  5.4000000e-01,  5.5000000e-01,\n",
       "         5.6000000e-01,  5.7000000e-01,  5.8000000e-01,  5.9000000e-01,\n",
       "         6.0000000e-01,  6.1000000e-01,  6.2000000e-01,  6.3000000e-01,\n",
       "         6.4000000e-01,  6.5000000e-01,  6.6000000e-01,  6.7000000e-01,\n",
       "         6.8000000e-01,  6.9000000e-01,  7.0000000e-01,  7.1000000e-01,\n",
       "         7.2000000e-01,  7.3000000e-01,  7.4000000e-01,  7.5000000e-01,\n",
       "         7.6000000e-01,  7.7000000e-01,  7.8000000e-01,  7.9000000e-01,\n",
       "         8.0000000e-01,  8.1000000e-01,  8.2000000e-01,  8.3000000e-01,\n",
       "         8.4000000e-01,  8.5000000e-01,  8.6000000e-01,  8.7000000e-01,\n",
       "         8.8000000e-01,  8.9000000e-01,  9.0000000e-01,  9.1000000e-01,\n",
       "         9.2000000e-01,  9.3000000e-01,  9.4000000e-01,  9.5000000e-01,\n",
       "         9.6000000e-01,  9.7000000e-01,  9.8000000e-01,  9.9000000e-01]),\n",
       " <a list of 199 Patch objects>)"
      ]
     },
     "execution_count": 67,
     "metadata": {},
     "output_type": "execute_result"
    },
    {
     "data": {
      "image/png": "[encoded data removed]",
      "text/plain": [
       "<Figure size 432x288 with 1 Axes>"
      ]
     },
     "metadata": {
      "needs_background": "light"
     },
     "output_type": "display_data"
    }
   ],
   "source": [
    "# Distribution of Prediction Errors\n",
    "prediction_error =(train_dat['prediction'] - train_dat['log_l'])\n",
    "plt.hist(prediction_error, bins = np.arange(-1, 1, 0.01))"
   ]
  },
  {
   "cell_type": "code",
   "execution_count": 59,
   "metadata": {},
   "outputs": [
    {
     "data": {
      "text/plain": [
       "Text(0, 0.5, 'number of samples with pred_err > 1')"
      ]
     },
     "execution_count": 59,
     "metadata": {},
     "output_type": "execute_result"
    },
    {
     "data": {
      "image/png": "[encoded data removed]",
      "text/plain": [
       "<Figure size 432x288 with 1 Axes>"
      ]
     },
     "metadata": {
      "needs_background": "light"
     },
     "output_type": "display_data"
    }
   ],
   "source": [
    "# Graph showing number of cases where prediction error is larger than 1, with loglikelihood of prediction on the x axis\n",
    "cnts = []\n",
    "for i in range(17):\n",
    "    cnts.append(np.sum(np.asarray(prediction_error > 1) * np.asarray(train_dat['prediction'] > -i)))\n",
    "\n",
    "plt.scatter(-np.arange(0, 17, 1), cnts)\n",
    "plt.xlabel('log likelihood')\n",
    "plt.ylabel('number of samples with pred_err > 1')"
   ]
  },
  {
   "cell_type": "code",
   "execution_count": 69,
   "metadata": {},
   "outputs": [
    {
     "data": {
      "text/plain": [
       "(array([163654.,   3300.,   1222.,    563.,    343.,    349.,    333.,\n",
       "           378.,    379.,    443.,    489.,    491.,    549.,    635.,\n",
       "           684.,    676.,    762.,    797.,    821.,    795.,    893.,\n",
       "           889.,    955.,   1014.,   1125.,   1322.,   1446.,   1687.,\n",
       "          2117.,   2634.,   3415.,   4607.,   6343.,   8393.,  11661.,\n",
       "         15972.,  21701.,  28942.,  38717.,  50709.,  65711.,  83551.,\n",
       "         96838., 113341., 105459.,  74709.,  44941.,  19947.,   5008.,\n",
       "           546.]),\n",
       " array([-1.63564230e+01, -1.59928326e+01, -1.56292422e+01, -1.52656518e+01,\n",
       "        -1.49020614e+01, -1.45384710e+01, -1.41748806e+01, -1.38112902e+01,\n",
       "        -1.34476998e+01, -1.30841094e+01, -1.27205190e+01, -1.23569286e+01,\n",
       "        -1.19933382e+01, -1.16297478e+01, -1.12661574e+01, -1.09025670e+01,\n",
       "        -1.05389766e+01, -1.01753862e+01, -9.81179581e+00, -9.44820542e+00,\n",
       "        -9.08461502e+00, -8.72102462e+00, -8.35743423e+00, -7.99384383e+00,\n",
       "        -7.63025343e+00, -7.26666303e+00, -6.90307264e+00, -6.53948224e+00,\n",
       "        -6.17589184e+00, -5.81230145e+00, -5.44871105e+00, -5.08512065e+00,\n",
       "        -4.72153026e+00, -4.35793986e+00, -3.99434946e+00, -3.63075907e+00,\n",
       "        -3.26716867e+00, -2.90357827e+00, -2.53998788e+00, -2.17639748e+00,\n",
       "        -1.81280708e+00, -1.44921669e+00, -1.08562629e+00, -7.22035893e-01,\n",
       "        -3.58445496e-01,  5.14490053e-03,  3.68735297e-01,  7.32325694e-01,\n",
       "         1.09591609e+00,  1.45950649e+00,  1.82309688e+00]),\n",
       " <a list of 50 Patch objects>)"
      ]
     },
     "execution_count": 69,
     "metadata": {},
     "output_type": "execute_result"
    },
    {
     "data": {
      "image/png": "[encoded data removed]",
      "text/plain": [
       "<Figure size 432x288 with 1 Axes>"
      ]
     },
     "metadata": {
      "needs_background": "light"
     },
     "output_type": "display_data"
    }
   ],
   "source": [
    "#plt.hist(out, bins = 50)"
   ]
  }
 ],
 "metadata": {
  "kernelspec": {
   "display_name": "Python 3",
   "language": "python",
   "name": "python3"
  },
  "language_info": {
   "codemirror_mode": {
    "name": "ipython",
    "version": 3
   },
   "file_extension": ".py",
   "mimetype": "text/x-python",
   "name": "python",
   "nbconvert_exporter": "python",
   "pygments_lexer": "ipython3",
   "version": "3.7.3"
  }
 },
 "nbformat": 4,
 "nbformat_minor": 4
}
