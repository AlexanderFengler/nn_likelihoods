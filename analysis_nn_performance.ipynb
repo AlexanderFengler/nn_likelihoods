{
 "cells": [
  {
   "cell_type": "code",
   "execution_count": 133,
   "metadata": {},
   "outputs": [
    {
     "name": "stdout",
     "output_type": "stream",
     "text": [
      "{'lba': {'dgp': <built-in function rlba>, 'data_folder': '/users/afengler/data/kde/lba/train_test_data_20000', 'data_folder_x7': '/media/data_cifs/afengler/data/kde/lba/train_test_data_20000', 'output_folder': '/users/afengler/data/kde/lba/posterior_samples/', 'output_folder_x7': '/media/data_cifs/afengler/data/kde/lba/posterior_samples/', 'model_folder': '/users/afengler/data/kde/lba/keras_models/', 'model_folder_x7': '/media/data_cifs/afengler/data/kde/lba/keras_models/', 'param_names': ['v_0', 'v_1', 'A', 'b', 's'], 'boundary_param_names': [], 'param_bounds': [[1.0, 2.0], [1.0, 2.0], [0.0, 1.0], [1.5, 3.0], [0.1, 0.2]], 'boundary_param_bounds': []}, 'lba_ndt': {'dgp': <built-in function rlba>, 'data_folder': '/users/afengler/data/kde/lba/train_test_data_ndt_20000', 'data_folder_x7': '/media/data_cifs/afengler/data/kde/lba/train_test_data_ndt_20000', 'output_folder': '/users/afengler/data/kde/lba/method_comparison/', 'output_folder_x7': '/media/data_cifs/afengler/data/kde/lba/method_comparison/', 'model_folder': '/users/afengler/data/kde/lba/keras_models/', 'model_folder_x7': '/media/data_cifs/afengler/data/kde/lba/keras_models/', 'param_names': ['v_0', 'v_1', 'A', 'b', 's', 'ndt'], 'boundary_param_names': [], 'param_bounds': [[1.0, 2.0], [1.0, 2.0], [0.0, 1.0], [1.5, 3.0], [0.1, 0.2], [0.0, 1.0]], 'boundary_param_bounds': []}, 'lba_analytic': {'dgp': <built-in function rlba>, 'data_folder': '/users/afengler/data/analytic/lba/train_test_data_kde_imit', 'data_folder_x7': '/media/data_cifs/afengler/data/analytic/lba/train_test_data_kde_imit', 'output_folder': '/users/afengler/data/analytic/lba/posterior_samples/', 'output_folder_x7': '/media/data_cifs/afengler/data/analytic/lba/posterior_samples/', 'model_folder': '/users/afengler/data/analytic/lba/keras_models/', 'model_folder_x7': '/media/data_cifs/afengler/data/analytic/lba/keras_models/', 'param_names': ['v_0', 'v_1', 'A', 'b', 's'], 'boundary_param_names': [], 'param_bounds': [[1.0, 2.0], [1.0, 2.0], [0.0, 1.0], [1.5, 3.0], [0.1, 0.2]], 'boundary_param_bounds': []}, 'ddm_ndt': {'dgp': <built-in function ddm_flexbound>, 'boundary': <function constant at 0x7fc05002aa60>, 'boundary_multiplicative': True, 'data_folder': '/users/afengler/data/kde/ddm/train_test_data_ndt_20000', 'data_folder_x7': '/media/data_cifs/afengler/data/kde/ddm/train_test_data_ndt_20000', 'output_folder': '/users/afengler/data/kde/ddm/method_comparison/', 'output_folder_x7': '/media/data_cifs/afengler/data/kde/ddm/method_comparison/', 'model_folder': '/users/afengler/data/kde/ddm/keras_models/', 'model_folder_x7': '/media/data_cifs/afengler/data/kde/ddm/keras_models/', 'param_names': ['v', 'a', 'w', 'ndt'], 'boundary_param_names': [], 'param_bounds': [[-2.0, 2.0], [0.6, 1.5], [0.3, 0.7], [0.0, 1.0]], 'boundary_param_bounds': []}, 'ddm': {'dgp': <built-in function ddm_flexbound>, 'boundary': <function constant at 0x7fc05002aa60>, 'boundary_multiplicative': True, 'data_folder': '/users/afengler/data/kde/ddm/train_test_data_20000', 'output_folder': '/users/afengler/data/kde/ddm/method_comparison/', 'output_folder_x7': '/media/data_cifs/afengler/data/kde/ddm/method_comparison/', 'param_names': ['v', 'a', 'w'], 'boundary_param_names': [], 'param_bounds': [[-1.9, 1.9], [0.6, 1.5], [0.31, 0.69]], 'boundary_param_bounds': []}, 'angle_ndt': {'dgp': <built-in function ddm_flexbound>, 'boundary': <function angle at 0x7fc02c9b6268>, 'boundary_multiplicative': False, 'data_folder': '/users/afengler/data/kde/angle/train_test_data_ndt_20000', 'data_folder_x7': '/media/data_cifs/afengler/data/kde/angle/train_test_data_ndt_20000', 'output_folder': '/users/afengler/data/kde/angle/method_comparison/', 'output_folder_x7': '/media/data_cifs/afengler/data/kde/angle/method_comparison/', 'model_folder': '/users/afengler/data/kde/angle/keras_models/', 'model_folder_x7': '/media/data_cifs/afengler/data/kde/angle/keras_models/', 'param_names': ['v', 'a', 'w', 'ndt'], 'boundary_param_names': ['theta'], 'param_bounds': [[-1.5, 1.5], [0.6, 1.5], [0.31, 0.69], [0, 1]], 'boundary_param_bounds': [[0, 1.3707963267948966]]}, 'ornstein': {'dgp': <built-in function ornstein_uhlenbeck>, 'boundary': <function constant at 0x7fc05002aa60>, 'boundary_multiplicative': True, 'data_folder': '/users/afengler/data/kde/ornstein_uhlenbeck/train_test_data_20000', 'output_folder': '/users/afengler/data/kde/ornstein_uhlenbeck/method_comparison/', 'output_folder_x7': '/media/data_cifs/afengler/data/kde/ornstein_uhlenbeck/method_comparison/', 'param_names': ['v', 'a', 'w', 'g'], 'boundary_param_names': [], 'boundary_param_bounds': [], 'param_bounds': [[-1.9, 1.9], [0.65, 1.5], [0.31, 0.69], [-0.9, 0.9]]}, 'full': {'dgp': <built-in function full_ddm>, 'boundary': <function constant at 0x7fc05002aa60>, 'boundary_multiplicative': True, 'data_folder': '/users/afengler/data/kde/full_ddm/train_test_data_20000', 'output_folder': '/users/afengler/data/kde/full_ddm/method_comparison/', 'output_folder_x7': '/media/data_cifs/afengler/data/kde/full_ddm/method_comparison/', 'param_names': ['v', 'a', 'w', 'dw', 'sdv'], 'boundary_param_names': [], 'boundary_param_bounds': [], 'param_bounds': [[-2, 2], [0.6, 1.5], [0.3, 0.7], [0, 0.1], [0, 0.5]]}, 'ddm_fcn': {'dgp': <built-in function ddm_flexbound>, 'boundary': <function constant at 0x7fc05002aa60>, 'boundary_multiplicative': True, 'data_folder': '/users/afengler/data/tony/kde/ddm/train_test_data_fcn', 'output_folder': '/users/afengler/data/kde/ddm/method_comparison_fcn/', 'output_folder_x7': '/media/data_cifs/afengler/data/kde/ddm/method_comparison_fcn/', 'param_names': ['v', 'a', 'w'], 'boundary_param_names': [], 'param_bounds': [[-2, 2], [0.6, 1.5], [0.3, 0.7]], 'boundary_param_bounds': []}}\n",
      "{'dgp': <built-in function ddm_flexbound>, 'boundary': <function constant at 0x7fc05002aa60>, 'boundary_multiplicative': True, 'data_folder': '/users/afengler/data/kde/ddm/train_test_data_ndt_20000', 'data_folder_x7': '/media/data_cifs/afengler/data/kde/ddm/train_test_data_ndt_20000', 'output_folder': '/users/afengler/data/kde/ddm/method_comparison/', 'output_folder_x7': '/media/data_cifs/afengler/data/kde/ddm/method_comparison/', 'model_folder': '/users/afengler/data/kde/ddm/keras_models/', 'model_folder_x7': '/media/data_cifs/afengler/data/kde/ddm/keras_models/', 'param_names': ['v', 'a', 'w', 'ndt'], 'boundary_param_names': [], 'param_bounds': [[-2.0, 2.0], [0.6, 1.5], [0.3, 0.7], [0.0, 1.0]], 'boundary_param_bounds': []}\n"
     ]
    },
    {
     "name": "stderr",
     "output_type": "stream",
     "text": [
      "/home/afengler/miniconda3/envs/pytorch/lib/python3.7/site-packages/ipykernel_launcher.py:38: YAMLLoadWarning: calling yaml.load() without Loader=... is deprecated, as the default Loader is unsafe. Please read https://msg.pyyaml.org/load for full details.\n"
     ]
    }
   ],
   "source": [
    "# import tensorflow as tf\n",
    "# from tensorflow import keras\n",
    "import numpy as np\n",
    "import yaml\n",
    "import pandas as pd\n",
    "from itertools import product\n",
    "from samplers import SliceSampler\n",
    "#from slice_sampler import SliceSampler\n",
    "import pickle\n",
    "import uuid\n",
    "\n",
    "import boundary_functions as bf\n",
    "import multiprocessing as mp\n",
    "import cddm_data_simulation as cd\n",
    "from cdwiener import batch_fptd\n",
    "#from np_network import np_predict\n",
    "#from kde_info import KDEStats\n",
    "\n",
    "import keras_to_numpy as ktnp\n",
    "import matplotlib.pyplot as plt\n",
    "\n",
    "# INITIALIZATIONS -------------------------------------------------------------\n",
    "machine = 'x7'\n",
    "method = 'ddm_ndt'\n",
    "n_data_samples = 2500\n",
    "n_slice_samples = 5000\n",
    "n_sims = 10\n",
    "n_cpus = 'all'\n",
    "\n",
    "#stats = pickle.load(open(\"kde_stats.pickle\", \"rb\"))\n",
    "#method_params = stats[method]\n",
    "\n",
    "if machine == 'x7':\n",
    "    stats = pickle.load(open(\"/media/data_cifs/afengler/git_repos/nn_likelihoods/kde_stats.pickle\", \"rb\"))\n",
    "    method_params = stats[method]\n",
    "    output_folder = method_params['output_folder_x7']\n",
    "    with open(\"model_paths_x7.yaml\") as tmp_file:\n",
    "        network_path = yaml.load(tmp_file)[method]\n",
    "if machine == 'ccv':\n",
    "    stats = pickle.load(open(\"/users/afengler/git_repos/nn_likelihoods/kde_stats.pickle\", \"rb\"))\n",
    "    method_params = stats[method]\n",
    "    output_folder = method_params['output_folder']\n",
    "    with open(\"model_paths.yaml\") as tmp_file:\n",
    "        network_path = yaml.load(tmp_file)[method]\n",
    "        \n",
    "print(stats)\n",
    "print(method_params)\n",
    "\n",
    "# model = keras.models.load_model(network_path, custom_objects=custom_objects)\n",
    "# fcn = keras.models.load_model(fcn_path, custom_objects=fcn_custom_objects)\n",
    "\n",
    "# Load weights, biases and activations of current network --------\n",
    "with open(network_path + \"weights.pickle\", \"rb\") as tmp_file:\n",
    "    weights = pickle.load(tmp_file)\n",
    "with open(network_path + 'biases.pickle', 'rb') as tmp_file:\n",
    "    biases = pickle.load(tmp_file)\n",
    "with open(network_path + 'activations.pickle', 'rb') as tmp_file:\n",
    "    activations = pickle.load(tmp_file)"
   ]
  },
  {
   "cell_type": "code",
   "execution_count": 146,
   "metadata": {},
   "outputs": [],
   "source": [
    "# Load training data \n",
    "import os\n",
    "training_files = os.listdir('/media/data_cifs/afengler/data/kde/ddm/train_test_data_ndt_20000')\n",
    "train_dat = pickle.load(open('/media/data_cifs/afengler/data/kde/ddm/train_test_data_ndt_20000/' + training_files[1], 'rb'))"
   ]
  },
  {
   "cell_type": "code",
   "execution_count": 147,
   "metadata": {},
   "outputs": [],
   "source": [
    "train_dat.loc[train_dat['log_l'] < np.log(1e-7), 'log_l'] = np.log(1e-7)"
   ]
  },
  {
   "cell_type": "code",
   "execution_count": 148,
   "metadata": {},
   "outputs": [],
   "source": [
    "out = ktnp.predict(train_dat.iloc[:, :-1], weights, biases, activations)"
   ]
  },
  {
   "cell_type": "code",
   "execution_count": 149,
   "metadata": {},
   "outputs": [],
   "source": [
    "train_dat['prediction'] = out"
   ]
  },
  {
   "cell_type": "code",
   "execution_count": 150,
   "metadata": {},
   "outputs": [],
   "source": [
    "prediction_error = np.abs(train_dat['prediction'] - train_dat['log_l'])"
   ]
  },
  {
   "cell_type": "code",
   "execution_count": 151,
   "metadata": {},
   "outputs": [
    {
     "data": {
      "text/plain": [
       "(array([9.72363e+05, 7.86000e+03, 2.95700e+03, 1.75500e+03, 1.14200e+03,\n",
       "        8.91000e+02, 6.70000e+02, 5.23000e+02, 4.56000e+02, 3.82000e+02,\n",
       "        3.35000e+02, 3.14000e+02, 2.50000e+02, 2.40000e+02, 1.82000e+02,\n",
       "        1.97000e+02, 1.62000e+02, 1.92000e+02, 1.59000e+02, 1.30000e+02,\n",
       "        1.08000e+02, 1.04000e+02, 1.03000e+02, 8.40000e+01, 9.20000e+01,\n",
       "        7.70000e+01, 6.30000e+01, 6.40000e+01, 6.10000e+01, 3.60000e+01,\n",
       "        5.40000e+01, 4.10000e+01, 3.60000e+01, 3.10000e+01, 1.60000e+01,\n",
       "        2.00000e+01, 1.30000e+01, 1.80000e+01, 2.00000e+01, 1.00000e+01,\n",
       "        9.00000e+00, 9.00000e+00, 7.00000e+00, 6.00000e+00, 6.00000e+00,\n",
       "        3.00000e+00, 1.00000e+00, 2.00000e+00, 1.00000e+00, 1.00000e+00]),\n",
       " array([9.82897674e-09, 1.44297035e-01, 2.88594059e-01, 4.32891084e-01,\n",
       "        5.77188109e-01, 7.21485133e-01, 8.65782158e-01, 1.01007918e+00,\n",
       "        1.15437621e+00, 1.29867323e+00, 1.44297026e+00, 1.58726728e+00,\n",
       "        1.73156431e+00, 1.87586133e+00, 2.02015836e+00, 2.16445538e+00,\n",
       "        2.30875240e+00, 2.45304943e+00, 2.59734645e+00, 2.74164348e+00,\n",
       "        2.88594050e+00, 3.03023753e+00, 3.17453455e+00, 3.31883158e+00,\n",
       "        3.46312860e+00, 3.60742563e+00, 3.75172265e+00, 3.89601968e+00,\n",
       "        4.04031670e+00, 4.18461373e+00, 4.32891075e+00, 4.47320777e+00,\n",
       "        4.61750480e+00, 4.76180182e+00, 4.90609885e+00, 5.05039587e+00,\n",
       "        5.19469290e+00, 5.33898992e+00, 5.48328695e+00, 5.62758397e+00,\n",
       "        5.77188100e+00, 5.91617802e+00, 6.06047505e+00, 6.20477207e+00,\n",
       "        6.34906910e+00, 6.49336612e+00, 6.63766315e+00, 6.78196017e+00,\n",
       "        6.92625719e+00, 7.07055422e+00, 7.21485124e+00]),\n",
       " <a list of 50 Patch objects>)"
      ]
     },
     "execution_count": 151,
     "metadata": {},
     "output_type": "execute_result"
    },
    {
     "data": {
      "image/png": "[encoded data removed]",
      "text/plain": [
       "<Figure size 432x288 with 1 Axes>"
      ]
     },
     "metadata": {
      "needs_background": "light"
     },
     "output_type": "display_data"
    }
   ],
   "source": [
    "plt.hist(prediction_error, bins = 50)"
   ]
  },
  {
   "cell_type": "code",
   "execution_count": 138,
   "metadata": {},
   "outputs": [],
   "source": [
    "prediction_error = np.abs(train_dat['prediction'] - train_dat['log_l'])"
   ]
  },
  {
   "cell_type": "code",
   "execution_count": 169,
   "metadata": {},
   "outputs": [
    {
     "data": {
      "text/plain": [
       "<matplotlib.collections.PathCollection at 0x7fc0192a1be0>"
      ]
     },
     "execution_count": 169,
     "metadata": {},
     "output_type": "execute_result"
    },
    {
     "data": {
      "image/png": "[encoded data removed]",
      "text/plain": [
       "<Figure size 432x288 with 1 Axes>"
      ]
     },
     "metadata": {
      "needs_background": "light"
     },
     "output_type": "display_data"
    }
   ],
   "source": [
    "plt.scatter(train_dat.loc[prediction_error > 1, 'log_l'], train_dat.loc[prediction_error > 1, 'v'])"
   ]
  },
  {
   "cell_type": "code",
   "execution_count": 145,
   "metadata": {},
   "outputs": [
    {
     "data": {
      "text/plain": [
       "(array([6207., 1738., 2556., 3144., 3194., 3412., 4031., 2835.,  667.,\n",
       "          85.]), array([-16.35226326, -14.58969761, -12.82713196, -11.06456631,\n",
       "         -9.30200066,  -7.53943501,  -5.77686936,  -4.01430371,\n",
       "         -2.25173806,  -0.48917241,   1.27339324]), <a list of 10 Patch objects>)"
      ]
     },
     "execution_count": 145,
     "metadata": {},
     "output_type": "execute_result"
    },
    {
     "data": {
      "image/png": "[encoded data removed]",
      "text/plain": [
       "<Figure size 432x288 with 1 Axes>"
      ]
     },
     "metadata": {
      "needs_background": "light"
     },
     "output_type": "display_data"
    }
   ],
   "source": [
    "plt.hist(train_dat.loc[prediction_error > 0.1, 'prediction'], bins = 10)"
   ]
  },
  {
   "cell_type": "code",
   "execution_count": 68,
   "metadata": {},
   "outputs": [
    {
     "data": {
      "text/plain": [
       "array([-4.76514324])"
      ]
     },
     "execution_count": 68,
     "metadata": {},
     "output_type": "execute_result"
    }
   ],
   "source": [
    "np.unique(out[prediction_error > 9])"
   ]
  },
  {
   "cell_type": "code",
   "execution_count": 141,
   "metadata": {},
   "outputs": [
    {
     "data": {
      "text/plain": [
       "(array([162869.,   3294.,   1315.,    547.,    349.,    351.,    319.,\n",
       "           374.,    414.,    420.,    474.,    539.,    542.,    629.,\n",
       "           688.,    738.,    756.,    786.,    775.,    833.,    910.,\n",
       "           923.,    958.,   1026.,   1075.,   1265.,   1428.,   1681.,\n",
       "          2086.,   2768.,   3353.,   4578.,   6100.,   8197.,  11084.,\n",
       "         15169.,  20697.,  27962.,  37413.,  48480.,  63181.,  79072.,\n",
       "         92538., 107647., 110568.,  82708.,  50412.,  22567.,   7995.,\n",
       "          1403.]),\n",
       " array([-16.35226326, -15.99086906, -15.62947486, -15.26808066,\n",
       "        -14.90668645, -14.54529225, -14.18389805, -13.82250384,\n",
       "        -13.46110964, -13.09971544, -12.73832124, -12.37692703,\n",
       "        -12.01553283, -11.65413863, -11.29274442, -10.93135022,\n",
       "        -10.56995602, -10.20856182,  -9.84716761,  -9.48577341,\n",
       "         -9.12437921,  -8.76298501,  -8.4015908 ,  -8.0401966 ,\n",
       "         -7.6788024 ,  -7.31740819,  -6.95601399,  -6.59461979,\n",
       "         -6.23322559,  -5.87183138,  -5.51043718,  -5.14904298,\n",
       "         -4.78764877,  -4.42625457,  -4.06486037,  -3.70346617,\n",
       "         -3.34207196,  -2.98067776,  -2.61928356,  -2.25788936,\n",
       "         -1.89649515,  -1.53510095,  -1.17370675,  -0.81231254,\n",
       "         -0.45091834,  -0.08952414,   0.27187006,   0.63326427,\n",
       "          0.99465847,   1.35605267,   1.71744688]),\n",
       " <a list of 50 Patch objects>)"
      ]
     },
     "execution_count": 141,
     "metadata": {},
     "output_type": "execute_result"
    },
    {
     "data": {
      "image/png": "[encoded data removed]",
      "text/plain": [
       "<Figure size 432x288 with 1 Axes>"
      ]
     },
     "metadata": {
      "needs_background": "light"
     },
     "output_type": "display_data"
    }
   ],
   "source": [
    "plt.hist(out, bins = 50)"
   ]
  },
  {
   "cell_type": "code",
   "execution_count": 128,
   "metadata": {},
   "outputs": [
    {
     "data": {
      "text/plain": [
       "array([-16.43996964])"
      ]
     },
     "execution_count": 128,
     "metadata": {},
     "output_type": "execute_result"
    }
   ],
   "source": [
    "min(out)"
   ]
  },
  {
   "cell_type": "code",
   "execution_count": 129,
   "metadata": {},
   "outputs": [
    {
     "data": {
      "text/plain": [
       "-16.11809565095832"
      ]
     },
     "execution_count": 129,
     "metadata": {},
     "output_type": "execute_result"
    }
   ],
   "source": [
    "np.log(1e-7)"
   ]
  },
  {
   "cell_type": "code",
   "execution_count": null,
   "metadata": {},
   "outputs": [],
   "source": []
  }
 ],
 "metadata": {
  "kernelspec": {
   "display_name": "Python 3",
   "language": "python",
   "name": "python3"
  },
  "language_info": {
   "codemirror_mode": {
    "name": "ipython",
    "version": 3
   },
   "file_extension": ".py",
   "mimetype": "text/x-python",
   "name": "python",
   "nbconvert_exporter": "python",
   "pygments_lexer": "ipython3",
   "version": "3.7.3"
  }
 },
 "nbformat": 4,
 "nbformat_minor": 2
}
