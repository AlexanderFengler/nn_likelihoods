{
 "cells": [
  {
   "cell_type": "code",
   "execution_count": 2,
   "metadata": {},
   "outputs": [],
   "source": [
    "import numpy as np\n",
    "import pickle\n",
    "import os\n",
    "from scipy.stats import norm\n",
    "# Plotting\n",
    "import matplotlib.pyplot as plt"
   ]
  },
  {
   "cell_type": "code",
   "execution_count": null,
   "metadata": {},
   "outputs": [],
   "source": [
    "def rlba(v = np.array([1, 1]), \n",
    "         A = 1, \n",
    "         b = 1.5, \n",
    "         s = 0.1,\n",
    "         n_samples = 1000):\n",
    "    rts = np.zeros((n_samples, 1))\n",
    "    choices = np.zeros((n_samples, 1))\n",
    "    \n",
    "    n_choices = len(v)\n",
    "    for i in range(n_samples):\n",
    "        d = np.array([-0.1]*n_choices)\n",
    "        while np.max(d) < 0:\n",
    "            k = np.random.uniform(low = 0, high = A, size = n_choices)\n",
    "            d = np.random.normal(loc = v, scale = s)\n",
    "            tmp_rt = (b - k) / d\n",
    "        \n",
    "        rts[i] = np.min(tmp_rt)\n",
    "        choices[i]  = np.argmin(tmp_rt)\n",
    "    \n",
    "    # Create some dics\n",
    "    v_dict = {}\n",
    "    for i in range(n_choices):\n",
    "        v_dict['v_' + str(i)] = v[i]\n",
    "\n",
    "    return (rts, choices, {**v_dict,\n",
    "                           'A': A,\n",
    "                           'b': b,\n",
    "                           's': s,\n",
    "                           'delta_t': 0,\n",
    "                           'max_t': 1000,\n",
    "                           'n_samples': n_samples,\n",
    "                           'simulator': 'lba',\n",
    "                           'boundary_fun_type': 'none',\n",
    "                           'possible_choices': [i for i in range(n_choices)]})"
   ]
  },
  {
   "cell_type": "code",
   "execution_count": null,
   "metadata": {},
   "outputs": [],
   "source": [
    "def dlba(rt = 0.5, \n",
    "         choice = 0,\n",
    "         v = np.array([1, 1]),\n",
    "         A = 1,\n",
    "         b = 1.5,\n",
    "         s = 0.1,\n",
    "         return_log = True):\n",
    "    n_choices = len(v)\n",
    "    l_f_t = 0\n",
    "    \n",
    "#     if len(s) == 1:\n",
    "#         s = np.array([s[0]] * n_choices)\n",
    "    \n",
    "    for i in range(n_choices):\n",
    "        if i == choice:\n",
    "            tmp = flba(rt = rt, A = A, b = b, v = v[i], s = s)\n",
    "            if tmp < 1e-29:\n",
    "                tmp = 1e-29\n",
    "            l_f_t += np.log(tmp)\n",
    "        else:\n",
    "            tmp = Flba(rt = rt, A = A, b = b, v = v[i], s = s)\n",
    "            \n",
    "            # numerical robustness catches\n",
    "            if tmp < 1e-29:\n",
    "                tmp = 1e-29\n",
    "            if tmp > (1.0 - 1e-29):\n",
    "                tmp = (1.0 - 1e-29)\n",
    "            l_f_t += np.log(1.0 - tmp)\n",
    "            \n",
    "    if return_log: \n",
    "        return l_f_t\n",
    "    else:\n",
    "        return np.exp(l_f_t)"
   ]
  },
  {
   "cell_type": "code",
   "execution_count": null,
   "metadata": {},
   "outputs": [],
   "source": [
    "def Flba(rt = 0.5, \n",
    "         v = 1,\n",
    "         A = 1,\n",
    "         b = 1.5,\n",
    "         s = 0.1):\n",
    "    return (1 + ((1 / A) * ((b - A - (rt * v)) * norm.cdf((b - A - (rt * v)) / (rt * s))) - \\\n",
    "        (b - (rt * v)) * norm.cdf((b - (rt * v)) / (rt * s)) + \\\n",
    "                    (rt * s) * (norm.pdf((b - A - (rt * v)) / (rt * s)) - norm.pdf((b - (rt * v)) / (rt * s)))))"
   ]
  },
  {
   "cell_type": "code",
   "execution_count": null,
   "metadata": {},
   "outputs": [],
   "source": [
    "def flba(rt = 0.5, \n",
    "         v = 1,\n",
    "         A = 1,\n",
    "         b = 1.5,\n",
    "         s = 0.1):\n",
    "    return ((1 / A) * ( (-v) * norm.cdf((b - A - (rt * v)) / (rt * s)) + \\\n",
    "                     s * norm.pdf((b - A - (rt * v)) / (rt * s)) + \\\n",
    "                     v * norm.cdf((b - (rt * v)) / (rt * s)) + \\\n",
    "                     (-s) * norm.pdf((b - (rt * v)) / (rt * s)) ))"
   ]
  },
  {
   "cell_type": "code",
   "execution_count": null,
   "metadata": {},
   "outputs": [],
   "source": [
    "out = rlba(n_samples = 20000, v = np.array([1.5, 1]), b = 1.5, A = 1)"
   ]
  },
  {
   "cell_type": "code",
   "execution_count": null,
   "metadata": {},
   "outputs": [],
   "source": [
    "out[0][out[1] == 0] = out[0][out[1] == 0] * -1"
   ]
  },
  {
   "cell_type": "code",
   "execution_count": null,
   "metadata": {},
   "outputs": [],
   "source": [
    "import pickle\n",
    "out = pickle.load(open('/media/data_cifs/afengler/tmp/lba_8085c794bf7a11e9b003530bce13c5b4.pickle', 'rb'))"
   ]
  },
  {
   "cell_type": "code",
   "execution_count": null,
   "metadata": {},
   "outputs": [],
   "source": [
    "out[0][out[1] == 0] = out[0][out[1] == 0] * (-1)"
   ]
  },
  {
   "cell_type": "code",
   "execution_count": null,
   "metadata": {},
   "outputs": [],
   "source": [
    "plt.hist(out[0], bins = 50, density = True, alpha = 0.3)\n",
    "plt.plot(-my_grid, np.exp(f_test_vals[:, 0]), color = 'green')\n",
    "plt.plot(my_grid, np.exp(f_test_vals[:, 1]), color = 'green')"
   ]
  },
  {
   "cell_type": "code",
   "execution_count": null,
   "metadata": {},
   "outputs": [],
   "source": []
  },
  {
   "cell_type": "code",
   "execution_count": null,
   "metadata": {},
   "outputs": [],
   "source": []
  },
  {
   "cell_type": "code",
   "execution_count": null,
   "metadata": {},
   "outputs": [],
   "source": [
    "[i for i in range(4)]"
   ]
  },
  {
   "cell_type": "code",
   "execution_count": null,
   "metadata": {},
   "outputs": [],
   "source": [
    "out"
   ]
  },
  {
   "cell_type": "code",
   "execution_count": 3,
   "metadata": {},
   "outputs": [],
   "source": [
    "#import lba\n",
    "import lba\n",
    "import clba\n",
    "import numpy as np\n",
    "import pickle\n",
    "import os\n",
    "import kde_training_utilities as kde_utils\n",
    "import kde_class as kdec"
   ]
  },
  {
   "cell_type": "code",
   "execution_count": null,
   "metadata": {},
   "outputs": [],
   "source": [
    "#%%timeit -n 1 -r 5\n",
    "out_p = lba.rlba(v = np.array([1.1657, 1.118401]), \n",
    "               A = 0.852575, \n",
    "               b = 1.860735, \n",
    "               s = 0.170644,\n",
    "               n_samples = 1000)"
   ]
  },
  {
   "cell_type": "code",
   "execution_count": 4,
   "metadata": {},
   "outputs": [],
   "source": [
    "#%%timeit -n 1 -r 5\n",
    "out_c = clba.rlba(v = np.array([1, 1]), \n",
    "                  A = 1.0, \n",
    "                  b = 2, \n",
    "                  s = 0.4,\n",
    "                  ndt = 0.4,\n",
    "                  n_samples = 2500)\n",
    "\n",
    "my_grid = np.linspace(0.01, 4.0, 1000)\n",
    "f_test_vals = np.zeros((len(my_grid),2))\n",
    "for c in range(2):\n",
    "    cnt = 0\n",
    "    for i in my_grid:\n",
    "        f_test_vals[cnt, c] = clba.dlba(rt = i, choice = c, v = np.array([1, 1]), ndt = 0.4, b = 2, s = 0.4)\n",
    "        cnt += 1"
   ]
  },
  {
   "cell_type": "code",
   "execution_count": 5,
   "metadata": {},
   "outputs": [
    {
     "data": {
      "text/plain": [
       "[<matplotlib.lines.Line2D at 0x7f0573d89668>]"
      ]
     },
     "execution_count": 5,
     "metadata": {},
     "output_type": "execute_result"
    },
    {
     "data": {
      "image/png": "[encoded data removed]",
      "text/plain": [
       "<Figure size 432x288 with 1 Axes>"
      ]
     },
     "metadata": {
      "needs_background": "light"
     },
     "output_type": "display_data"
    }
   ],
   "source": [
    "out_c[0][out_c[1] == 0] = out_c[0][out_c[1] == 0] * (-1)\n",
    "#out_p[0][out_p[1] == 0] = out_p[0][out_p[1] == 0] * (-1)\n",
    "\n",
    "plt.hist(out_c[0], bins = 50, density = True, alpha = 0.3, color = 'red')\n",
    "plt.plot(my_grid, np.exp(f_test_vals[:, 1]))\n",
    "plt.plot(-my_grid, np.exp(f_test_vals[:, 0]))\n",
    "#plt.hist(out_p[0], bins = 50, density = True, alpha = 0.3, color = 'black')"
   ]
  },
  {
   "cell_type": "code",
   "execution_count": null,
   "metadata": {},
   "outputs": [],
   "source": [
    "my_lbakde = kdec.logkde(out)"
   ]
  },
  {
   "cell_type": "code",
   "execution_count": null,
   "metadata": {},
   "outputs": [],
   "source": [
    "os.listdir('/media/data_cifs/afengler/data/kde/lba/base_simulations_20000')[0]"
   ]
  },
  {
   "cell_type": "code",
   "execution_count": null,
   "metadata": {},
   "outputs": [],
   "source": [
    "kde_out = my_lbakde.kde_sample()"
   ]
  },
  {
   "cell_type": "code",
   "execution_count": null,
   "metadata": {},
   "outputs": [],
   "source": [
    "np.max(kde_out[0])"
   ]
  },
  {
   "cell_type": "code",
   "execution_count": null,
   "metadata": {},
   "outputs": [],
   "source": [
    "out_p"
   ]
  },
  {
   "cell_type": "code",
   "execution_count": null,
   "metadata": {},
   "outputs": [],
   "source": [
    "np.random.uniform(low = 0, high = 0)"
   ]
  },
  {
   "cell_type": "code",
   "execution_count": null,
   "metadata": {},
   "outputs": [],
   "source": [
    "a = [1]"
   ]
  },
  {
   "cell_type": "code",
   "execution_count": null,
   "metadata": {},
   "outputs": [],
   "source": [
    "rts = np.random.normal(size = 1000) + 2\n",
    "choices = np.random.choice(2, size = 1000)"
   ]
  },
  {
   "cell_type": "code",
   "execution_count": 6,
   "metadata": {},
   "outputs": [
    {
     "name": "stdout",
     "output_type": "stream",
     "text": [
      "-46668.66247944382\n",
      "-46668.66247944382\n",
      "-46668.66247944382\n",
      "-46668.66247944382\n",
      "-46668.66247944382\n",
      "8.67 ms ± 1.31 ms per loop (mean ± std. dev. of 5 runs, 1 loop each)\n"
     ]
    }
   ],
   "source": [
    "%%timeit -n 1 -r 5\n",
    "print(clba.batch_dlba2(rt = np.squeeze(out_c[0]), choice = np.squeeze(out_c[1]), v = np.array([1, 1]),\n",
    "                       A = 0.9,\n",
    "                       b = 2, \n",
    "                       s = 0.4,\n",
    "                       ndt = 0.4))"
   ]
  },
  {
   "cell_type": "code",
   "execution_count": 7,
   "metadata": {},
   "outputs": [
    {
     "name": "stdout",
     "output_type": "stream",
     "text": [
      "[-49802.66851898]\n"
     ]
    }
   ],
   "source": [
    "#%%timeit -n 1 -r 5\n",
    "tmp = 0\n",
    "for i in range(len(out_c[0])):\n",
    "    tmp += clba.dlba(rt = out_c[0][i], choice = out_c[1][i], ndt = 0.4, A = 0.9, b = 2)\n",
    "    #if i % 100 == 0:\n",
    "        #print(i)\n",
    "print(tmp)"
   ]
  },
  {
   "cell_type": "code",
   "execution_count": null,
   "metadata": {},
   "outputs": [],
   "source": []
  },
  {
   "cell_type": "code",
   "execution_count": null,
   "metadata": {},
   "outputs": [],
   "source": [
    "A = 1\n",
    "b = 1.5\n",
    "v = np.array([1, 1])\n",
    "s = 0.1\n",
    "rt = np.squeeze(out_c[0])\n",
    "eps = 1e-16"
   ]
  },
  {
   "cell_type": "code",
   "execution_count": null,
   "metadata": {},
   "outputs": [],
   "source": [
    "tmp = np.zeros((2, len(rt), 2))\n",
    "tmp[0, :, 0] = clba.flba(rt = rt, A = A, b = b, v = v[0], s = s)\n",
    "tmp[0, tmp[0, :, 0] < eps, 0] = np.log(eps)\n",
    "tmp[0, :, 1] = clba.flba(rt = rt, A = A, b = b, v = v[1], s = s)\n",
    "tmp[0, tmp[0, :, 1] < eps, 1] = np.log(eps)\n",
    "tmp[1, :, 0] = 1 - clba.Flba(rt = rt, A = A, b = b, v = v[1], s = s)\n",
    "tmp[1, tmp[1, : , 0] < eps, 0] = np.log(eps)\n",
    "tmp[1, :, 1] = 1 - clba.Flba(rt = rt, A = A, b = b, v = v[0], s = s)\n",
    "tmp[1, tmp[1, : , 1] < eps, 1] = np.log(eps)\n",
    "tmp = tmp[0, :, :] + tmp [1, :, :]\n",
    "tmp[rt <= 0, :] = np.log(np.sqrt(eps))"
   ]
  },
  {
   "cell_type": "code",
   "execution_count": null,
   "metadata": {},
   "outputs": [],
   "source": [
    "np.min(tmp)"
   ]
  },
  {
   "cell_type": "code",
   "execution_count": null,
   "metadata": {},
   "outputs": [],
   "source": [
    "np.log(0.000000000000000000000000000000001)"
   ]
  },
  {
   "cell_type": "code",
   "execution_count": null,
   "metadata": {},
   "outputs": [],
   "source": []
  }
 ],
 "metadata": {
  "kernelspec": {
   "display_name": "Python 3",
   "language": "python",
   "name": "python3"
  },
  "language_info": {
   "codemirror_mode": {
    "name": "ipython",
    "version": 3
   },
   "file_extension": ".py",
   "mimetype": "text/x-python",
   "name": "python",
   "nbconvert_exporter": "python",
   "pygments_lexer": "ipython3",
   "version": "3.7.3"
  }
 },
 "nbformat": 4,
 "nbformat_minor": 2
}
