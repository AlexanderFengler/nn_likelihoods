{
 "cells": [
  {
   "cell_type": "code",
   "execution_count": 42,
   "metadata": {},
   "outputs": [],
   "source": [
    "import numpy as np\n",
    "import pickle\n",
    "import os\n",
    "from scipy.stats import norm\n",
    "# Plotting\n",
    "import matplotlib.pyplot as plt"
   ]
  },
  {
   "cell_type": "code",
   "execution_count": 167,
   "metadata": {},
   "outputs": [],
   "source": [
    "def rlba(v = np.array([1, 1]), \n",
    "         A = 1, \n",
    "         b = 1.5, \n",
    "         s = 0.1,\n",
    "         n_samples = 1000):\n",
    "    rts = np.zeros((n_samples, 1))\n",
    "    choices = np.zeros((n_samples, 1))\n",
    "    \n",
    "    n_choices = len(v)\n",
    "    for i in range(n_samples):\n",
    "        d = np.array([-0.1]*n_choices)\n",
    "        while np.max(d) < 0:\n",
    "            k = np.random.uniform(low = 0, high = A, size = n_choices)\n",
    "            d = np.random.normal(loc = v, scale = s)\n",
    "            tmp_rt = (b - k) / d\n",
    "        \n",
    "        rts[i] = np.min(tmp_rt)\n",
    "        choices[i]  = np.argmin(tmp_rt)\n",
    "    \n",
    "    # Create some dics\n",
    "    v_dict = {}\n",
    "    for i in range(n_choices):\n",
    "        v_dict['v_' + str(i)] = v[i]\n",
    "\n",
    "    return (rts, choices, {**v_dict,\n",
    "                           'A': A,\n",
    "                           'b': b,\n",
    "                           's': s,\n",
    "                           'delta_t': 0,\n",
    "                           'max_t': 1000,\n",
    "                           'n_samples': n_samples,\n",
    "                           'simulator': 'lba',\n",
    "                           'boundary_fun_type': 'none',\n",
    "                           'possible_choices': [i for i in range(n_choices)]})"
   ]
  },
  {
   "cell_type": "code",
   "execution_count": 177,
   "metadata": {},
   "outputs": [],
   "source": [
    "def dlba(rt = 0.5, \n",
    "         choice = 0,\n",
    "         v = np.array([1, 1]),\n",
    "         A = 1,\n",
    "         b = 1.5,\n",
    "         s = 0.1,\n",
    "         return_log = True):\n",
    "    n_choices = len(v)\n",
    "    l_f_t = 0\n",
    "    \n",
    "#     if len(s) == 1:\n",
    "#         s = np.array([s[0]] * n_choices)\n",
    "    \n",
    "    for i in range(n_choices):\n",
    "        if i == choice:\n",
    "            tmp = flba(rt = rt, A = A, b = b, v = v[i], s = s)\n",
    "            if tmp < 1e-29:\n",
    "                tmp = 1e-29\n",
    "            l_f_t += np.log(tmp)\n",
    "        else:\n",
    "            tmp = Flba(rt = rt, A = A, b = b, v = v[i], s = s)\n",
    "            \n",
    "            # numerical robustness catches\n",
    "            if tmp < 1e-29:\n",
    "                tmp = 1e-29\n",
    "            if tmp > (1.0 - 1e-29):\n",
    "                tmp = (1.0 - 1e-29)\n",
    "            l_f_t += np.log(1.0 - tmp)\n",
    "            \n",
    "    if return_log: \n",
    "        return l_f_t\n",
    "    else:\n",
    "        return np.exp(l_f_t)"
   ]
  },
  {
   "cell_type": "code",
   "execution_count": 170,
   "metadata": {},
   "outputs": [],
   "source": [
    "def Flba(rt = 0.5, \n",
    "         v = 1,\n",
    "         A = 1,\n",
    "         b = 1.5,\n",
    "         s = 0.1):\n",
    "    return (1 + ((1 / A) * ((b - A - (rt * v)) * norm.cdf((b - A - (rt * v)) / (rt * s))) - \\\n",
    "        (b - (rt * v)) * norm.cdf((b - (rt * v)) / (rt * s)) + \\\n",
    "                    (rt * s) * (norm.pdf((b - A - (rt * v)) / (rt * s)) - norm.pdf((b - (rt * v)) / (rt * s)))))"
   ]
  },
  {
   "cell_type": "code",
   "execution_count": 171,
   "metadata": {},
   "outputs": [],
   "source": [
    "def flba(rt = 0.5, \n",
    "         v = 1,\n",
    "         A = 1,\n",
    "         b = 1.5,\n",
    "         s = 0.1):\n",
    "    return ((1 / A) * ( (-v) * norm.cdf((b - A - (rt * v)) / (rt * s)) + \\\n",
    "                     s * norm.pdf((b - A - (rt * v)) / (rt * s)) + \\\n",
    "                     v * norm.cdf((b - (rt * v)) / (rt * s)) + \\\n",
    "                     (-s) * norm.pdf((b - (rt * v)) / (rt * s)) ))"
   ]
  },
  {
   "cell_type": "code",
   "execution_count": 172,
   "metadata": {},
   "outputs": [],
   "source": [
    "out = rlba(n_samples = 20000, v = np.array([1.5, 1]), b = 1.5, A = 1)"
   ]
  },
  {
   "cell_type": "code",
   "execution_count": 173,
   "metadata": {},
   "outputs": [],
   "source": [
    "out[0][out[1] == 0] = out[0][out[1] == 0] * -1"
   ]
  },
  {
   "cell_type": "code",
   "execution_count": 77,
   "metadata": {},
   "outputs": [],
   "source": [
    "import pickle\n",
    "out = pickle.load(open('/media/data_cifs/afengler/tmp/lba_8085c794bf7a11e9b003530bce13c5b4.pickle', 'rb'))"
   ]
  },
  {
   "cell_type": "code",
   "execution_count": 40,
   "metadata": {},
   "outputs": [],
   "source": [
    "out[0][out[1] == 0] = out[0][out[1] == 0] * (-1)"
   ]
  },
  {
   "cell_type": "code",
   "execution_count": 44,
   "metadata": {},
   "outputs": [
    {
     "ename": "NameError",
     "evalue": "name 'f_test_vals' is not defined",
     "output_type": "error",
     "traceback": [
      "\u001b[0;31m---------------------------------------------------------------------------\u001b[0m",
      "\u001b[0;31mNameError\u001b[0m                                 Traceback (most recent call last)",
      "\u001b[0;32m<ipython-input-44-ae837e3f2980>\u001b[0m in \u001b[0;36m<module>\u001b[0;34m\u001b[0m\n\u001b[1;32m      1\u001b[0m \u001b[0mplt\u001b[0m\u001b[0;34m.\u001b[0m\u001b[0mhist\u001b[0m\u001b[0;34m(\u001b[0m\u001b[0mout\u001b[0m\u001b[0;34m[\u001b[0m\u001b[0;36m0\u001b[0m\u001b[0;34m]\u001b[0m\u001b[0;34m,\u001b[0m \u001b[0mbins\u001b[0m \u001b[0;34m=\u001b[0m \u001b[0;36m50\u001b[0m\u001b[0;34m,\u001b[0m \u001b[0mdensity\u001b[0m \u001b[0;34m=\u001b[0m \u001b[0;32mTrue\u001b[0m\u001b[0;34m,\u001b[0m \u001b[0malpha\u001b[0m \u001b[0;34m=\u001b[0m \u001b[0;36m0.3\u001b[0m\u001b[0;34m)\u001b[0m\u001b[0;34m\u001b[0m\u001b[0;34m\u001b[0m\u001b[0m\n\u001b[0;32m----> 2\u001b[0;31m \u001b[0mplt\u001b[0m\u001b[0;34m.\u001b[0m\u001b[0mplot\u001b[0m\u001b[0;34m(\u001b[0m\u001b[0;34m-\u001b[0m\u001b[0mmy_grid\u001b[0m\u001b[0;34m,\u001b[0m \u001b[0mnp\u001b[0m\u001b[0;34m.\u001b[0m\u001b[0mexp\u001b[0m\u001b[0;34m(\u001b[0m\u001b[0mf_test_vals\u001b[0m\u001b[0;34m[\u001b[0m\u001b[0;34m:\u001b[0m\u001b[0;34m,\u001b[0m \u001b[0;36m0\u001b[0m\u001b[0;34m]\u001b[0m\u001b[0;34m)\u001b[0m\u001b[0;34m,\u001b[0m \u001b[0mcolor\u001b[0m \u001b[0;34m=\u001b[0m \u001b[0;34m'green'\u001b[0m\u001b[0;34m)\u001b[0m\u001b[0;34m\u001b[0m\u001b[0;34m\u001b[0m\u001b[0m\n\u001b[0m\u001b[1;32m      3\u001b[0m \u001b[0mplt\u001b[0m\u001b[0;34m.\u001b[0m\u001b[0mplot\u001b[0m\u001b[0;34m(\u001b[0m\u001b[0mmy_grid\u001b[0m\u001b[0;34m,\u001b[0m \u001b[0mnp\u001b[0m\u001b[0;34m.\u001b[0m\u001b[0mexp\u001b[0m\u001b[0;34m(\u001b[0m\u001b[0mf_test_vals\u001b[0m\u001b[0;34m[\u001b[0m\u001b[0;34m:\u001b[0m\u001b[0;34m,\u001b[0m \u001b[0;36m1\u001b[0m\u001b[0;34m]\u001b[0m\u001b[0;34m)\u001b[0m\u001b[0;34m,\u001b[0m \u001b[0mcolor\u001b[0m \u001b[0;34m=\u001b[0m \u001b[0;34m'green'\u001b[0m\u001b[0;34m)\u001b[0m\u001b[0;34m\u001b[0m\u001b[0;34m\u001b[0m\u001b[0m\n",
      "\u001b[0;31mNameError\u001b[0m: name 'f_test_vals' is not defined"
     ]
    },
    {
     "data": {
      "image/png": "[encoded data removed]",
      "text/plain": [
       "<Figure size 432x288 with 1 Axes>"
      ]
     },
     "metadata": {
      "needs_background": "light"
     },
     "output_type": "display_data"
    }
   ],
   "source": [
    "plt.hist(out[0], bins = 50, density = True, alpha = 0.3)\n",
    "plt.plot(-my_grid, np.exp(f_test_vals[:, 0]), color = 'green')\n",
    "plt.plot(my_grid, np.exp(f_test_vals[:, 1]), color = 'green')"
   ]
  },
  {
   "cell_type": "code",
   "execution_count": 43,
   "metadata": {},
   "outputs": [],
   "source": [
    "my_grid = np.linspace(0.01, 2.0, 1000)"
   ]
  },
  {
   "cell_type": "code",
   "execution_count": 178,
   "metadata": {},
   "outputs": [],
   "source": [
    "f_test_vals = np.zeros((len(my_grid),2))\n",
    "for c in range(2):\n",
    "    cnt = 0\n",
    "    for i in my_grid:\n",
    "        f_test_vals[cnt, c] = clba.dlba(rt = i, choice = c, v = np.array([1.5, 1]))\n",
    "        cnt += 1"
   ]
  },
  {
   "cell_type": "code",
   "execution_count": 54,
   "metadata": {},
   "outputs": [
    {
     "data": {
      "text/plain": [
       "[0, 1, 2, 3]"
      ]
     },
     "execution_count": 54,
     "metadata": {},
     "output_type": "execute_result"
    }
   ],
   "source": [
    "[i for i in range(4)]"
   ]
  },
  {
   "cell_type": "code",
   "execution_count": 69,
   "metadata": {},
   "outputs": [
    {
     "data": {
      "text/plain": [
       "(array([[0.6368266 ],\n",
       "        [0.6662889 ],\n",
       "        [0.59495118],\n",
       "        ...,\n",
       "        [0.35798089],\n",
       "        [0.57274787],\n",
       "        [1.03822317]]), array([[0.],\n",
       "        [1.],\n",
       "        [0.],\n",
       "        ...,\n",
       "        [0.],\n",
       "        [1.],\n",
       "        [0.]]), {'v_0': 1.5,\n",
       "  'v_1': 1.0,\n",
       "  'A': 1,\n",
       "  'b': 1.5,\n",
       "  's': 0.1,\n",
       "  'delta_t': 0,\n",
       "  'max_t': 1000,\n",
       "  'n_samples': 20000,\n",
       "  'simulator': 'lba',\n",
       "  'boundary_fun_type': 'none',\n",
       "  'possible_choices': [0, 1]})"
      ]
     },
     "execution_count": 69,
     "metadata": {},
     "output_type": "execute_result"
    }
   ],
   "source": [
    "out"
   ]
  },
  {
   "cell_type": "code",
   "execution_count": 32,
   "metadata": {},
   "outputs": [],
   "source": [
    "import lba\n",
    "import clba\n",
    "import numpy as np\n",
    "import pickle\n",
    "import os\n",
    "import kde_training_utilities as kde_utils\n",
    "import kde_class as kdec"
   ]
  },
  {
   "cell_type": "code",
   "execution_count": 81,
   "metadata": {},
   "outputs": [],
   "source": [
    "#%%timeit -n 1 -r 5\n",
    "out_p = lba.rlba(v = np.array([1.1657, 1.118401]), \n",
    "               A = 0.852575, \n",
    "               b = 1.860735, \n",
    "               s = 0.170644,\n",
    "               n_samples = 100000)"
   ]
  },
  {
   "cell_type": "code",
   "execution_count": 82,
   "metadata": {},
   "outputs": [],
   "source": [
    "#%%timeit -n 1 -r 5\n",
    "out_c = clba.rlba(v = np.array([1.1657, 1.118401]), \n",
    "                A = 0.852575, \n",
    "                b = 1.860735, \n",
    "                s = 0.170644,\n",
    "                n_samples = 100000)"
   ]
  },
  {
   "cell_type": "code",
   "execution_count": 85,
   "metadata": {},
   "outputs": [
    {
     "data": {
      "text/plain": [
       "(array([3.21210652e-04, 7.49491521e-04, 1.39191282e-03, 3.53331717e-03,\n",
       "        1.22060048e-02, 2.55897819e-02, 6.16724451e-02, 1.31375157e-01,\n",
       "        2.42192831e-01, 4.07937528e-01, 6.33855686e-01, 7.84610552e-01,\n",
       "        9.47892633e-01, 9.90613650e-01, 8.86434328e-01, 5.53445953e-01,\n",
       "        1.95296076e-01, 2.16281839e-02, 4.28280869e-04, 0.00000000e+00,\n",
       "        0.00000000e+00, 0.00000000e+00, 0.00000000e+00, 0.00000000e+00,\n",
       "        0.00000000e+00, 0.00000000e+00, 0.00000000e+00, 0.00000000e+00,\n",
       "        0.00000000e+00, 0.00000000e+00, 4.28280869e-04, 2.96584502e-02,\n",
       "        1.96795059e-01, 5.23466292e-01, 7.52703627e-01, 8.27117428e-01,\n",
       "        7.58592489e-01, 6.28395105e-01, 4.62222128e-01, 2.97976415e-01,\n",
       "        1.73025471e-01, 8.66198057e-02, 4.09008230e-02, 1.72383050e-02,\n",
       "        7.17370455e-03, 2.14140434e-03, 6.42421303e-04, 3.21210652e-04,\n",
       "        2.14140434e-04, 2.14140434e-04]),\n",
       " array([-2.27253468, -2.17913803, -2.08574138, -1.99234472, -1.89894807,\n",
       "        -1.80555142, -1.71215476, -1.61875811, -1.52536146, -1.4319648 ,\n",
       "        -1.33856815, -1.24517149, -1.15177484, -1.05837819, -0.96498153,\n",
       "        -0.87158488, -0.77818823, -0.68479157, -0.59139492, -0.49799826,\n",
       "        -0.40460161, -0.31120496, -0.2178083 , -0.12441165, -0.031015  ,\n",
       "         0.06238166,  0.15577831,  0.24917496,  0.34257162,  0.43596827,\n",
       "         0.52936493,  0.62276158,  0.71615823,  0.80955489,  0.90295154,\n",
       "         0.99634819,  1.08974485,  1.1831415 ,  1.27653816,  1.36993481,\n",
       "         1.46333146,  1.55672812,  1.65012477,  1.74352142,  1.83691808,\n",
       "         1.93031473,  2.02371139,  2.11710804,  2.21050469,  2.30390135,\n",
       "         2.397298  ]),\n",
       " <a list of 50 Patch objects>)"
      ]
     },
     "execution_count": 85,
     "metadata": {},
     "output_type": "execute_result"
    },
    {
     "data": {
      "image/png": "[encoded data removed]",
      "text/plain": [
       "<Figure size 432x288 with 1 Axes>"
      ]
     },
     "metadata": {
      "needs_background": "light"
     },
     "output_type": "display_data"
    }
   ],
   "source": [
    "out_c[0][out_c[1] == 0] = out_c[0][out_c[1] == 0] * (-1)\n",
    "out_p[0][out_p[1] == 0] = out_p[0][out_p[1] == 0] * (-1)\n",
    "\n",
    "plt.hist(out_c[0], bins = 50, density = True, alpha = 0.3, color = 'red')\n",
    "plt.hist(out_p[0], bins = 50, density = True, alpha = 0.3, color = 'black')"
   ]
  },
  {
   "cell_type": "code",
   "execution_count": 27,
   "metadata": {},
   "outputs": [],
   "source": [
    "my_lbakde = kdec.logkde(out)"
   ]
  },
  {
   "cell_type": "code",
   "execution_count": 12,
   "metadata": {},
   "outputs": [
    {
     "ename": "FileNotFoundError",
     "evalue": "[Errno 2] No such file or directory: '/media/data_cifs/afengler/data/kde/lba/base_simulations_20000'",
     "output_type": "error",
     "traceback": [
      "\u001b[0;31m---------------------------------------------------------------------------\u001b[0m",
      "\u001b[0;31mFileNotFoundError\u001b[0m                         Traceback (most recent call last)",
      "\u001b[0;32m<ipython-input-12-e154f8ebdb5a>\u001b[0m in \u001b[0;36m<module>\u001b[0;34m\u001b[0m\n\u001b[0;32m----> 1\u001b[0;31m \u001b[0mos\u001b[0m\u001b[0;34m.\u001b[0m\u001b[0mlistdir\u001b[0m\u001b[0;34m(\u001b[0m\u001b[0;34m'/media/data_cifs/afengler/data/kde/lba/base_simulations_20000'\u001b[0m\u001b[0;34m)\u001b[0m\u001b[0;34m[\u001b[0m\u001b[0;36m0\u001b[0m\u001b[0;34m]\u001b[0m\u001b[0;34m\u001b[0m\u001b[0;34m\u001b[0m\u001b[0m\n\u001b[0m",
      "\u001b[0;31mFileNotFoundError\u001b[0m: [Errno 2] No such file or directory: '/media/data_cifs/afengler/data/kde/lba/base_simulations_20000'"
     ]
    }
   ],
   "source": [
    "os.listdir('/media/data_cifs/afengler/data/kde/lba/base_simulations_20000')[0]"
   ]
  },
  {
   "cell_type": "code",
   "execution_count": 28,
   "metadata": {},
   "outputs": [],
   "source": [
    "kde_out = my_lbakde.kde_sample()"
   ]
  },
  {
   "cell_type": "code",
   "execution_count": 31,
   "metadata": {},
   "outputs": [
    {
     "data": {
      "text/plain": [
       "1.5138218411607995"
      ]
     },
     "execution_count": 31,
     "metadata": {},
     "output_type": "execute_result"
    }
   ],
   "source": [
    "np.max(kde_out[0])"
   ]
  },
  {
   "cell_type": "code",
   "execution_count": 53,
   "metadata": {},
   "outputs": [
    {
     "data": {
      "text/plain": [
       "(array([[1.01622899],\n",
       "        [0.96866581],\n",
       "        [0.92010415],\n",
       "        ...,\n",
       "        [0.93691211],\n",
       "        [1.3230074 ],\n",
       "        [0.83087953]]), array([[0.],\n",
       "        [1.],\n",
       "        [1.],\n",
       "        ...,\n",
       "        [1.],\n",
       "        [0.],\n",
       "        [1.]]), {'v_0': 1.1657,\n",
       "  'v_1': 1.518401,\n",
       "  'A': 0.852575,\n",
       "  'b': 1.860735,\n",
       "  's': 0.170644,\n",
       "  'delta_t': 0,\n",
       "  'max_t': 10000,\n",
       "  'n_samples': 20000,\n",
       "  'simulator': 'lba',\n",
       "  'boundary_fun_type': 'none',\n",
       "  'possible_choices': [0, 1]})"
      ]
     },
     "execution_count": 53,
     "metadata": {},
     "output_type": "execute_result"
    }
   ],
   "source": [
    "out_p"
   ]
  },
  {
   "cell_type": "code",
   "execution_count": null,
   "metadata": {},
   "outputs": [],
   "source": []
  }
 ],
 "metadata": {
  "kernelspec": {
   "display_name": "Python 3",
   "language": "python",
   "name": "python3"
  },
  "language_info": {
   "codemirror_mode": {
    "name": "ipython",
    "version": 3
   },
   "file_extension": ".py",
   "mimetype": "text/x-python",
   "name": "python",
   "nbconvert_exporter": "python",
   "pygments_lexer": "ipython3",
   "version": "3.7.3"
  }
 },
 "nbformat": 4,
 "nbformat_minor": 2
}
