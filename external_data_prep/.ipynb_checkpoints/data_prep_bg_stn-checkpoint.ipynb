{
 "cells": [
  {
   "cell_type": "code",
   "execution_count": 41,
   "metadata": {},
   "outputs": [],
   "source": [
    "# Load packages\n",
    "#import tensorflow as tf\n",
    "#from tensorflow import keras\n",
    "import pickle \n",
    "import numpy as np\n",
    "import pandas as pd\n",
    "import os\n",
    "import glob\n",
    "import scipy as scp\n",
    "import scipy.stats as scps\n",
    "from scipy.optimize import differential_evolution\n",
    "from scipy.optimize import minimize\n",
    "from datetime import datetime\n",
    "import matplotlib.pyplot as plt\n",
    "from sklearn.linear_model import LinearRegression\n",
    "from dataset_generator import bin_arbitrary_fptd\n",
    "\n",
    "# Load my own functions\n",
    "#import dnnregressor_train_eval_keras as dnnk\n",
    "#import make_data_wfpt as mdw\n",
    "#from kde_training_utilities import kde_load_data\n",
    "import ddm_data_simulation as ddm_sim"
   ]
  },
  {
   "cell_type": "code",
   "execution_count": 17,
   "metadata": {},
   "outputs": [],
   "source": [
    "# Get Base files\n",
    "dir_ = '/media/data_cifs/afengler/data/michael_bg_stn/'\n",
    "file_list = glob.glob(dir_ + 'loconf*')\n",
    "file_list.extend(glob.glob(dir_ + 'hiconf*'))"
   ]
  },
  {
   "cell_type": "code",
   "execution_count": 18,
   "metadata": {},
   "outputs": [
    {
     "data": {
      "text/plain": [
       "['/media/data_cifs/afengler/data/michael_bg_stn/loconf7_go_stnhi.txt',\n",
       " '/media/data_cifs/afengler/data/michael_bg_stn/loconf7_go_stnlo.txt',\n",
       " '/media/data_cifs/afengler/data/michael_bg_stn/loconf7_go_stnmid.txt',\n",
       " '/media/data_cifs/afengler/data/michael_bg_stn/hiconf_go_stnmid.txt',\n",
       " '/media/data_cifs/afengler/data/michael_bg_stn/hiconf_go_stnhi.txt',\n",
       " '/media/data_cifs/afengler/data/michael_bg_stn/hiconf_go_stnlo.txt']"
      ]
     },
     "execution_count": 18,
     "metadata": {},
     "output_type": "execute_result"
    }
   ],
   "source": [
    "# Make full dataset and write to csv\n",
    "pd_list = []\n",
    "\n",
    "for file_ in file_list:\n",
    "    pd_tmp = pd.read_csv(file_, sep = '\\t')\n",
    "    pd_list.append(pd_tmp)\n",
    "data = pd.concat(pd_list)\n",
    "\n",
    "# Preprocess\n",
    "data['rt'] = (data['avg_cycles'] * 10) / 1000\n",
    "data.loc[data['cnt_err'] == 0, 'cnt_err'] = - 1\n",
    "data['choice'] = data['cnt_err']\n",
    "# Write to file\n",
    "data.to_csv(dir_ + 'bg_stn_full.csv', index = False)"
   ]
  },
  {
   "cell_type": "code",
   "execution_count": 21,
   "metadata": {},
   "outputs": [],
   "source": [
    "# Read from file if desired\n",
    "data = pd.read_csv(dir_ + 'bg_stn_full.csv')"
   ]
  },
  {
   "cell_type": "code",
   "execution_count": 26,
   "metadata": {},
   "outputs": [],
   "source": [
    "# Make data array\n",
    "files_ = np.unique(data['file'])\n",
    "data_arr = np.zeros((len(files_), int(data.shape[0] / len(files_)), 2))\n",
    "cnt = 0\n",
    "step = 5000\n",
    "for file_ in files_:\n",
    "    data_array[cnt] = data[data['file'] == file_].iloc[:, -2:]\n",
    "    cnt += 1\n",
    "    \n",
    "pickle.dump((data_array, list(files_)), open('/media/data_cifs/afengler/data/michael_bg_stn/bg_stn_sampling_ready.pickle', 'wb'))"
   ]
  },
  {
   "cell_type": "code",
   "execution_count": 57,
   "metadata": {},
   "outputs": [],
   "source": [
    "# Make binned data\n",
    "binned_data = np.zeros((data_array[0].shape[0], 256, 2))\n",
    "for i in range(binned_data.shape[0]):\n",
    "    data_tmp = data_array[0][i].copy()\n",
    "    data_tmp[:, 0] = data_tmp[:, 0] \n",
    "    binned_data[i] = bin_arbitrary_fptd(out = data_tmp,\n",
    "                                        max_t = 10)\n",
    "    \n",
    "pickle.dump((binned_data, data[1]), \n",
    "            open('/media/data_cifs/afengler/data/real/bg_stn_binned.pickle', 'wb'), \n",
    "            protocol = 2)"
   ]
  },
  {
   "cell_type": "code",
   "execution_count": null,
   "metadata": {},
   "outputs": [],
   "source": [
    "# Unused\n",
    "for i in zip(data_arr,['random' for i in range(data_arr.shape[0])]):\n",
    "    print(i)"
   ]
  }
 ],
 "metadata": {
  "kernelspec": {
   "display_name": "Python 3",
   "language": "python",
   "name": "python3"
  },
  "language_info": {
   "codemirror_mode": {
    "name": "ipython",
    "version": 3
   },
   "file_extension": ".py",
   "mimetype": "text/x-python",
   "name": "python",
   "nbconvert_exporter": "python",
   "pygments_lexer": "ipython3",
   "version": "3.7.3"
  }
 },
 "nbformat": 4,
 "nbformat_minor": 4
}
