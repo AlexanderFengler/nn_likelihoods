{
 "cells": [
  {
   "cell_type": "code",
   "execution_count": 128,
   "metadata": {},
   "outputs": [],
   "source": [
    "# imports\n",
    "import numpy as np\n",
    "import pandas as pd\n",
    "import scipy as scp\n",
    "import pickle \n",
    "import os\n",
    "import matplotlib.pyplot as plt"
   ]
  },
  {
   "cell_type": "code",
   "execution_count": 129,
   "metadata": {},
   "outputs": [],
   "source": [
    "# support function\n",
    "def bin_simulator_output(out = [0, 0],\n",
    "                         bin_dt = 0.04,\n",
    "                         choices = [-1, 1],\n",
    "                         max_t = 20,\n",
    "                         nbins = 0): # ['v', 'a', 'w', 'ndt', 'angle']\n",
    "        \n",
    "        # Generate bins\n",
    "        if nbins == 0:\n",
    "            nbins = int(max_t / bin_dt)\n",
    "            bins = np.zeros(nbins + 1)\n",
    "            bins[:nbins] = np.linspace(0, max_t, nbins)\n",
    "            bins[nbins] = np.inf\n",
    "        else:  \n",
    "            bins = np.zeros(nbins + 1)\n",
    "            bins[:nbins] = np.linspace(0, max_t, nbins)\n",
    "            bins[nbins] = np.inf\n",
    "\n",
    "        cnt = 0\n",
    "        counts = np.zeros( (nbins, len(choices)) )\n",
    "\n",
    "        for choice in choices:\n",
    "            counts[:, cnt] = np.histogram(out[0][out[1] == choice], bins = bins)[0]\n",
    "            cnt += 1\n",
    "        return counts"
   ]
  },
  {
   "cell_type": "code",
   "execution_count": 130,
   "metadata": {},
   "outputs": [],
   "source": [
    "# load original data\n",
    "tt = pd.read_csv('/media/data_cifs/afengler/data/real/HDDMDATA.csv')"
   ]
  },
  {
   "cell_type": "code",
   "execution_count": 131,
   "metadata": {},
   "outputs": [
    {
     "data": {
      "image/png": "[encoded data removed]",
      "text/plain": [
       "<Figure size 432x288 with 1 Axes>"
      ]
     },
     "metadata": {
      "needs_background": "light"
     },
     "output_type": "display_data"
    }
   ],
   "source": [
    "# basic rt graph\n",
    "for i in range(1, 5, 1):\n",
    "    plt.hist(tt.loc[tt['condi'] == i]['rt'].ravel(), alpha = 0.2, bins = 20)"
   ]
  },
  {
   "cell_type": "code",
   "execution_count": 145,
   "metadata": {},
   "outputs": [],
   "source": [
    "# Make data usable for mlp and cnn\n",
    "data_binned = np.zeros((len(np.unique(tt['condi'])), 512, 2))\n",
    "data = dict()\n",
    "\n",
    "for i in range(4):\n",
    "    out = [np.array(tt.loc[tt['condi'] == i + 1]['rt'])]\n",
    "    out.append(np.array(tt.loc[tt['condi'] == i + 1]['response']))\n",
    "    data_binned[i, :, :] = bin_simulator_output(out = out,\n",
    "                                                bin_dt = 0.04,\n",
    "                                                choices = np.unique((tt['response'])),\n",
    "                                                max_t = 20,\n",
    "                                                nbins = 512)\n",
    "    data[i] = np.array(tt.loc[tt['condi'] == i + 1][['rt', 'response']])\n",
    "    \n",
    "# Save data\n",
    "pickle.dump([tt, data], open('/media/data_cifs/afengler/data/real/hddmdata.pickle', 'wb'), protocol = 3)\n",
    "pickle.dump([tt, data_binned], open('/media/data_cifs/afengler/data/real/hddmdata_binned.pickle', 'wb'), protocol = 2)"
   ]
  },
  {
   "cell_type": "code",
   "execution_count": 147,
   "metadata": {},
   "outputs": [],
   "source": [
    "# test load data\n",
    "mlp_test = pickle.load(open('/media/data_cifs/afengler/data/real/hddmdata.pickle', 'rb'))\n",
    "cnn_test = pickle.load(open('/media/data_cifs/afengler/data/real/hddmdata_binned.pickle', 'rb'), encoding = 'latin1')"
   ]
  },
  {
   "cell_type": "code",
   "execution_count": 148,
   "metadata": {},
   "outputs": [
    {
     "data": {
      "text/plain": [
       "<matplotlib.image.AxesImage at 0x7fc47e357400>"
      ]
     },
     "execution_count": 148,
     "metadata": {},
     "output_type": "execute_result"
    },
    {
     "data": {
      "image/png": "[encoded data removed]",
      "text/plain": [
       "<Figure size 432x288 with 4 Axes>"
      ]
     },
     "metadata": {
      "needs_background": "light"
     },
     "output_type": "display_data"
    }
   ],
   "source": [
    "# Graph illustrating (rt, choice) behavior across conditions\n",
    "f, (ax1, ax2, ax3, ax4) = plt.subplots(1, 4, sharey = True)\n",
    "ax1.imshow(cnn_test[1][0,:,:], aspect = 'auto')\n",
    "ax2.imshow(cnn_test[1][1,:,:], aspect = 'auto')\n",
    "ax3.imshow(cnn_test[1][2,:,:], aspect = 'auto')\n",
    "ax4.imshow(cnn_test[1][3,:,:], aspect = 'auto')"
   ]
  },
  {
   "cell_type": "code",
   "execution_count": 115,
   "metadata": {},
   "outputs": [
    {
     "data": {
      "text/plain": [
       "array([[1.108, 1.   ],\n",
       "       [1.653, 1.   ],\n",
       "       [2.094, 1.   ],\n",
       "       ...,\n",
       "       [0.902, 1.   ],\n",
       "       [1.034, 1.   ],\n",
       "       [0.955, 1.   ]])"
      ]
     },
     "execution_count": 115,
     "metadata": {},
     "output_type": "execute_result"
    }
   ],
   "source": [
    "np.array(tt.loc[tt['condi'] == 1][['rt', 'response']])"
   ]
  }
 ],
 "metadata": {
  "kernelspec": {
   "display_name": "Python 3",
   "language": "python",
   "name": "python3"
  },
  "language_info": {
   "codemirror_mode": {
    "name": "ipython",
    "version": 3
   },
   "file_extension": ".py",
   "mimetype": "text/x-python",
   "name": "python",
   "nbconvert_exporter": "python",
   "pygments_lexer": "ipython3",
   "version": "3.7.6"
  }
 },
 "nbformat": 4,
 "nbformat_minor": 4
}
