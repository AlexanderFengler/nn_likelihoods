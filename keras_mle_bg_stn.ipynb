{
 "cells": [
  {
   "cell_type": "code",
   "execution_count": 1,
   "metadata": {},
   "outputs": [],
   "source": [
    "# Load packages\n",
    "import tensorflow as tf\n",
    "from tensorflow import keras\n",
    "import numpy as np\n",
    "import pandas as pd\n",
    "import os\n",
    "import scipy as scp\n",
    "import scipy.stats as scps\n",
    "from scipy.optimize import differential_evolution\n",
    "from scipy.optimize import minimize\n",
    "from datetime import datetime\n",
    "import matplotlib.pyplot as plt\n",
    "from sklearn.linear_model import LinearRegression\n",
    "\n",
    "# Load my own functions\n",
    "import dnnregressor_train_eval_keras as dnnk\n",
    "import make_data_wfpt as mdw\n",
    "from kde_training_utilities import kde_load_data\n",
    "import ddm_data_simulation as ddm_sim"
   ]
  },
  {
   "cell_type": "code",
   "execution_count": 2,
   "metadata": {},
   "outputs": [
    {
     "data": {
      "text/plain": [
       "<tensorflow.python.training.checkpointable.util.CheckpointLoadStatus at 0x7f5e4d874080>"
      ]
     },
     "execution_count": 2,
     "metadata": {},
     "output_type": "execute_result"
    }
   ],
   "source": [
    "# Load Model\n",
    "model_path = os.getcwd() + '/keras_models/dnnregressor_kde_ddm_flexbound_05_03_19_20_15_59/model_0' \n",
    "ckpt_path = os.getcwd() + '/keras_models/dnnregressor_kde_ddm_flexbound_05_03_19_20_15_59/ckpt_0_80'\n",
    "model = keras.models.load_model(model_path)\n",
    "model.load_weights(ckpt_path)"
   ]
  },
  {
   "cell_type": "code",
   "execution_count": 3,
   "metadata": {},
   "outputs": [],
   "source": [
    "# Define the likelihood function DDM\n",
    "def log_p_ddm(params = [0, 1, 0.9], model = [], data = []):\n",
    "    feature_pd = pd.DataFrame(np.zeros((data[0].shape[0], 5)), columns = ['v', 'a', 'w', 'rt', 'choice'])\n",
    "    feature_pd['rt'] = data[0]\n",
    "    feature_pd['choice'] = data[1]\n",
    "    feature_pd['v'] = params[0]\n",
    "    feature_pd['a'] = params[1]\n",
    "    feature_pd['w'] = params[2]\n",
    "    prediction = model.predict(feature_pd)\n",
    "    prediction[prediction < 1e-29] = 1e-29\n",
    "    return(- np.sum(np.log(prediction)))"
   ]
  },
  {
   "cell_type": "code",
   "execution_count": 4,
   "metadata": {},
   "outputs": [],
   "source": [
    "# Define the likelihood function DDM-FLEXBOUND\n",
    "def log_p_flexbound(params = [0, 1, 0.9], model = [], data = []):\n",
    "    feature_pd = pd.DataFrame(np.zeros((data[0].shape[0], 7)), columns = ['v', 'a', 'w', 'c1', 'c2', 'rt', 'choice'])\n",
    "    feature_pd['rt'] = data[0]\n",
    "    feature_pd['choice'] = data[1]\n",
    "    feature_pd['v'] = params[0]\n",
    "    feature_pd['a'] = params[1]\n",
    "    feature_pd['w'] = params[2]\n",
    "    feature_pd['c1'] = params[3]\n",
    "    feature_pd['c2'] = params[4]\n",
    "    prediction = model.predict(feature_pd)\n",
    "    prediction[prediction < 1e-29] = 1e-29\n",
    "    return(- np.sum(np.log(prediction)))"
   ]
  },
  {
   "cell_type": "code",
   "execution_count": 5,
   "metadata": {},
   "outputs": [],
   "source": [
    "ddm_model = 'flexbound'\n",
    "data_file = os.getcwd() + '/data_storage/michael_bg_nn_data/bg_stn_full.csv'\n",
    "data = pd.read_csv(data_file)\n",
    "files_ = np.unique(data['file'])"
   ]
  },
  {
   "cell_type": "code",
   "execution_count": 6,
   "metadata": {},
   "outputs": [],
   "source": [
    "data_tmp = data.loc[data['file'] == files_[0],].copy()"
   ]
  },
  {
   "cell_type": "code",
   "execution_count": 7,
   "metadata": {},
   "outputs": [
    {
     "name": "stdout",
     "output_type": "stream",
     "text": [
      "[1.48167556e-01 8.55217594e-01 4.99394698e-01 6.64780204e-05\n",
      " 9.99944225e-01]\n",
      "hiconf_go_stnhi.txt\n",
      "0\n",
      "[2.05930484e-01 8.13055578e-01 5.00888658e-01 3.87922228e-05\n",
      " 9.99926019e-01]\n",
      "hiconf_go_stnlo.txt\n",
      "1\n",
      "[2.68498712e-01 7.69732354e-01 4.99000000e-01 4.18919095e-05\n",
      " 9.99963333e-01]\n",
      "hiconf_go_stnmid.txt\n",
      "2\n",
      "[1.34157675e+00 1.09527911e+00 4.99021273e-01 3.36456419e-05\n",
      " 9.99960073e-01]\n",
      "loconf7_go_stnhi.txt\n",
      "3\n",
      "[1.23395792e+00 9.08539052e-01 4.99006153e-01 2.72049064e-05\n",
      " 9.99970619e-01]\n",
      "loconf7_go_stnlo.txt\n",
      "4\n",
      "[1.33469775e+00 1.06272591e+00 4.99000923e-01 2.06380831e-05\n",
      " 9.99999221e-01]\n",
      "loconf7_go_stnmid.txt\n",
      "5\n"
     ]
    }
   ],
   "source": [
    "# Run MLE on real data\n",
    "ddm_model = 'flexbound'\n",
    "data_file = os.getcwd() + '/data_storage/michael_bg_nn_data/bg_stn_full.csv'\n",
    "data = pd.read_csv(data_file)\n",
    "files_ = np.unique(data['file'])\n",
    "\n",
    "# Initializations -----\n",
    "v_range = [-2, 2]\n",
    "a_range = [0.5, 3] # previous [1,2] # previous [2, 3]\n",
    "w_range = [0.499, 0.501]\n",
    "\n",
    "if ddm_model == 'ddm':\n",
    "    optim_results = pd.DataFrame(np.zeros((len(files_), 6)), columns = ['file',\n",
    "                                                                        'ndt',\n",
    "                                                                   'v_mle', \n",
    "                                                                   'a_mle', \n",
    "                                                                   'w_mle', \n",
    "                                                                   'n_samples'])\n",
    "\n",
    "if ddm_model == 'flexbound':\n",
    "    optim_results = pd.DataFrame(np.zeros((len(files_), 8)), columns = ['file',\n",
    "                                                                        'ndt',\n",
    "                                                                   'v_mle', \n",
    "                                                                   'a_mle', \n",
    "                                                                   'w_mle', \n",
    "                                                                   'c1_mle',\n",
    "                                                                   'c2_mle',\n",
    "                                                                   'n_samples'])\n",
    "    \n",
    "    # Define boundary function \n",
    "    def exp_c1_c2(t = 1, \n",
    "                  c1 = 1,\n",
    "                  c2 = 1):\n",
    "\n",
    "        b = np.exp(- c2*(t-c1))\n",
    "\n",
    "        if t >= c1:\n",
    "\n",
    "            return b\n",
    "\n",
    "        else:\n",
    "            return 1\n",
    "        \n",
    "    # Define appropriate range of parameters\n",
    "    c1_range = [0, 0.0001]\n",
    "    c2_range = [1/3, 1]\n",
    "# ---------------------\n",
    "\n",
    "# Main loop ----------- TD: Parallelize\n",
    "cnt = 0\n",
    "for file_ in files_: \n",
    "    \n",
    "    data_tmp = data.loc[data['file'] == file_,].copy()\n",
    "    ndt = (min(data_tmp['avg_cycles']) - 0.1)\n",
    "    data_tmp['avg_cycles'] = data_tmp['avg_cycles'] - ndt\n",
    "    data_feed_tmp = [data_tmp['avg_cycles'].values, data_tmp['cnt_err'].values]\n",
    "\n",
    "    # Sample parameters\n",
    "    v_sim = np.random.uniform(high = v_range[1], low = v_range[0])\n",
    "    a_sim = np.random.uniform(high = a_range[1], low = a_range[0])\n",
    "    w_sim = np.random.uniform(high = w_range[1], low = w_range[0])\n",
    "    \n",
    "    if ddm_model == 'ddm':\n",
    "        optim_results.iloc[cnt, 0] = file_\n",
    "        optim_results.iloc[cnt, 1] = ndt\n",
    "        optim_results.iloc[cnt, 5] = n_samples\n",
    "        \n",
    "    if ddm_model == 'flexbound':\n",
    "        c1_sim = np.random.uniform(high = c1_range[1], low = c1_range[0])\n",
    "        c2_sim = np.random.uniform(high = c2_range[1], low = c2_range[0])\n",
    "        \n",
    "        # Store in output file\n",
    "        optim_results.iloc[cnt, 0] = file_\n",
    "        optim_results.iloc[cnt, 1] = ndt\n",
    "        optim_results.iloc[cnt, 7] = data_tmp.shape[0]\n",
    "\n",
    "\n",
    "    # Run optimizer\n",
    "    if ddm_model == 'ddm':\n",
    "        out = differential_evolution(log_p_ddm, \n",
    "                                     bounds = [(v_range[0],v_range[1]), \n",
    "                                               (a_range[0], a_range[1]), \n",
    "                                               (w_range[0], w_range[1]),\n",
    "                                               (c1_range[0], c1_range[1]),\n",
    "                                               (c2_range[0], c2_range[1])], \n",
    "                                     args = (model, data_feed_tmp), \n",
    "                                     popsize = 30)\n",
    "    \n",
    "    if ddm_model == 'flexbound':\n",
    "        out = differential_evolution(log_p_flexbound, \n",
    "                                     bounds = [(v_range[0],v_range[1]), \n",
    "                                               (a_range[0], a_range[1]), \n",
    "                                               (w_range[0], w_range[1]),\n",
    "                                               (c1_range[0], c1_range[1]),\n",
    "                                               (c2_range[0], c2_range[1])], \n",
    "                                     args = (model, data_feed_tmp), \n",
    "                                     popsize = 30)\n",
    "    \n",
    "    print(out.x)\n",
    "    \n",
    "    # Store result in output file\n",
    "    if ddm_model == 'ddm':\n",
    "        optim_results.iloc[cnt, 2:5] = out.x\n",
    "        \n",
    "    if ddm_model == 'flexbound':\n",
    "        optim_results.iloc[cnt, 2:7] = out.x\n",
    "    \n",
    "    #Print and update counter\n",
    "    print(file_)\n",
    "    print(cnt)\n",
    "    cnt += 1\n",
    "# -----------------------\n",
    "\n",
    "\n",
    "# Save optimization results to file\n",
    "optim_results.to_csv(os.getcwd() + '/experiments/ddm_flexbound_kde_bg_stn_full_ndt_1/optim_results.csv')"
   ]
  },
  {
   "cell_type": "code",
   "execution_count": null,
   "metadata": {},
   "outputs": [],
   "source": [
    "optim_results.iloc[0,0:3]"
   ]
  },
  {
   "cell_type": "code",
   "execution_count": 11,
   "metadata": {},
   "outputs": [
    {
     "name": "stdout",
     "output_type": "stream",
     "text": [
      "{'boundary_fun': <function exp_c1_c2 at 0x7f5e282baae8>}\n",
      "(20001, 2)\n",
      "0  datapoints sampled\n",
      "1000  datapoints sampled\n",
      "2000  datapoints sampled\n",
      "3000  datapoints sampled\n",
      "4000  datapoints sampled\n"
     ]
    }
   ],
   "source": [
    "# NEW DIAGNOSTIC GRAPHS HERE\n",
    "ddm_dat_tmp = ddm_sim.ddm_flexbound_simulate(v = optim_results.iloc[0, 2],\n",
    "                                                     a = optim_results.iloc[0, 3],\n",
    "                                                     w = optim_results.iloc[0, 4],\n",
    "                                                     s = 1,\n",
    "                                                     delta_t = 0.001,\n",
    "                                                     max_t = 20,\n",
    "                                                     n_samples = 5000,\n",
    "                                                     boundary_fun = exp_c1_c2, # function of t (and potentially other parameters) that takes in (t, *args)\n",
    "                                                     boundary_fun_type = 'exp_c1_c2',\n",
    "                                                     boundary_params = {'c1': optim_results.iloc[0, 5], 'c2': optim_results.iloc[0, 6]})"
   ]
  },
  {
   "cell_type": "code",
   "execution_count": 12,
   "metadata": {},
   "outputs": [
    {
     "data": {
      "text/plain": [
       "(array([  7.,   6.,   8.,  41.,  78., 125., 227., 295., 375., 451., 468.,\n",
       "        192.,   1.,   0.,   0.,   0.,   0.,  99., 507., 581., 460., 399.,\n",
       "        287., 180., 108.,  65.,  26.,  11.,   1.,   2.]),\n",
       " array([-1.461     , -1.36133333, -1.26166667, -1.162     , -1.06233333,\n",
       "        -0.96266667, -0.863     , -0.76333333, -0.66366667, -0.564     ,\n",
       "        -0.46433333, -0.36466667, -0.265     , -0.16533333, -0.06566667,\n",
       "         0.034     ,  0.13366667,  0.23333333,  0.333     ,  0.43266667,\n",
       "         0.53233333,  0.632     ,  0.73166667,  0.83133333,  0.931     ,\n",
       "         1.03066667,  1.13033333,  1.23      ,  1.32966667,  1.42933333,\n",
       "         1.529     ]),\n",
       " <a list of 30 Patch objects>)"
      ]
     },
     "execution_count": 12,
     "metadata": {},
     "output_type": "execute_result"
    },
    {
     "data": {
      "image/png": "[encoded data removed]",
      "text/plain": [
       "<Figure size 432x288 with 1 Axes>"
      ]
     },
     "metadata": {
      "needs_background": "light"
     },
     "output_type": "display_data"
    }
   ],
   "source": [
    "plt.hist((ddm_dat_tmp[0] + optim_results.iloc[0, 1]) * ddm_dat_tmp[1], bins = 30)"
   ]
  },
  {
   "cell_type": "code",
   "execution_count": null,
   "metadata": {},
   "outputs": [],
   "source": [
    "min(ddm_dat_tmp[0])"
   ]
  },
  {
   "cell_type": "code",
   "execution_count": 9,
   "metadata": {},
   "outputs": [
    {
     "data": {
      "text/plain": [
       "(array([1.000e+01, 2.500e+01, 4.300e+01, 6.400e+01, 9.900e+01, 1.940e+02,\n",
       "        3.220e+02, 5.960e+02, 4.200e+02, 7.100e+01, 1.000e+00, 0.000e+00,\n",
       "        0.000e+00, 0.000e+00, 0.000e+00, 0.000e+00, 0.000e+00, 0.000e+00,\n",
       "        7.300e+01, 5.200e+02, 1.076e+03, 6.550e+02, 3.910e+02, 1.680e+02,\n",
       "        1.300e+02, 8.200e+01, 3.600e+01, 1.700e+01, 5.000e+00, 2.000e+00]),\n",
       " array([-1.21      , -1.12466667, -1.03933333, -0.954     , -0.86866667,\n",
       "        -0.78333333, -0.698     , -0.61266667, -0.52733333, -0.442     ,\n",
       "        -0.35666667, -0.27133333, -0.186     , -0.10066667, -0.01533333,\n",
       "         0.07      ,  0.15533333,  0.24066667,  0.326     ,  0.41133333,\n",
       "         0.49666667,  0.582     ,  0.66733333,  0.75266667,  0.838     ,\n",
       "         0.92333333,  1.00866667,  1.094     ,  1.17933333,  1.26466667,\n",
       "         1.35      ]),\n",
       " <a list of 30 Patch objects>)"
      ]
     },
     "execution_count": 9,
     "metadata": {},
     "output_type": "execute_result"
    },
    {
     "data": {
      "image/png": "[encoded data removed]",
      "text/plain": [
       "<Figure size 432x288 with 1 Axes>"
      ]
     },
     "metadata": {
      "needs_background": "light"
     },
     "output_type": "display_data"
    }
   ],
   "source": [
    "dat_tmp = data.loc[data['file'] == optim_results.iloc[0, 0], ]\n",
    "plt.hist(dat_tmp['avg_cycles'] * dat_tmp['cnt_err'], bins = 30)"
   ]
  },
  {
   "cell_type": "code",
   "execution_count": null,
   "metadata": {},
   "outputs": [],
   "source": [
    "- (min(dat_tmp['avg_cycles']) - 0.1)"
   ]
  },
  {
   "cell_type": "code",
   "execution_count": null,
   "metadata": {},
   "outputs": [],
   "source": [
    "dat_tmp = data.loc[data['file'] == optim_results.iloc[6, 0], ]"
   ]
  },
  {
   "cell_type": "code",
   "execution_count": null,
   "metadata": {},
   "outputs": [],
   "source": [
    "optim_results = pd.read_csv(os.getcwd() + '/experiments/ddm_flexbound_kde_mle_restricted_range_a_1_2/optim_results.csv')"
   ]
  },
  {
   "cell_type": "code",
   "execution_count": null,
   "metadata": {},
   "outputs": [],
   "source": [
    "optim_results"
   ]
  },
  {
   "cell_type": "code",
   "execution_count": null,
   "metadata": {},
   "outputs": [],
   "source": [
    "plt.scatter(optim_results['v_sim'], optim_results['v_mle'])"
   ]
  },
  {
   "cell_type": "code",
   "execution_count": null,
   "metadata": {},
   "outputs": [],
   "source": [
    "# Regression for v\n",
    "reg = LinearRegression().fit(np.expand_dims(optim_results['v_mle'], 1), np.expand_dims(optim_results['v_sim'], 1))\n",
    "reg.score(np.expand_dims(optim_results['v_mle'], 1), np.expand_dims(optim_results['v_sim'], 1))"
   ]
  },
  {
   "cell_type": "code",
   "execution_count": null,
   "metadata": {},
   "outputs": [],
   "source": [
    "plt.scatter(optim_results['a_sim'], optim_results['a_mle'])"
   ]
  },
  {
   "cell_type": "code",
   "execution_count": null,
   "metadata": {},
   "outputs": [],
   "source": [
    "# Regression for a\n",
    "reg = LinearRegression().fit(np.expand_dims(optim_results['a_mle'], 1), np.expand_dims(optim_results['a_sim'], 1))\n",
    "reg.score(np.expand_dims(optim_results['a_mle'], 1), np.expand_dims(optim_results['a_sim'], 1))"
   ]
  },
  {
   "cell_type": "code",
   "execution_count": null,
   "metadata": {},
   "outputs": [],
   "source": [
    "plt.scatter(optim_results['w_sim'], optim_results['w_mle'])"
   ]
  },
  {
   "cell_type": "code",
   "execution_count": null,
   "metadata": {},
   "outputs": [],
   "source": [
    "# Regression for w\n",
    "reg = LinearRegression().fit(np.expand_dims(optim_results['w_mle'], 1), np.expand_dims(optim_results['w_sim'], 1))\n",
    "reg.score(np.expand_dims(optim_results['w_mle'], 1), np.expand_dims(optim_results['w_sim'], 1))"
   ]
  },
  {
   "cell_type": "code",
   "execution_count": null,
   "metadata": {},
   "outputs": [],
   "source": [
    "plt.scatter(optim_results['c1_sim'], optim_results['c1_mle'])"
   ]
  },
  {
   "cell_type": "code",
   "execution_count": null,
   "metadata": {},
   "outputs": [],
   "source": [
    "# Regression for c1\n",
    "reg = LinearRegression().fit(np.expand_dims(optim_results['c1_mle'], 1), np.expand_dims(optim_results['c1_sim'], 1))\n",
    "reg.score(np.expand_dims(optim_results['c1_mle'], 1), np.expand_dims(optim_results['c1_sim'], 1))"
   ]
  },
  {
   "cell_type": "code",
   "execution_count": null,
   "metadata": {},
   "outputs": [],
   "source": [
    "plt.scatter(optim_results['c2_sim'], optim_results['c2_mle'])"
   ]
  },
  {
   "cell_type": "code",
   "execution_count": null,
   "metadata": {},
   "outputs": [],
   "source": [
    "# Regression for w\n",
    "reg = LinearRegression().fit(np.expand_dims(optim_results['c2_mle'], 1), np.expand_dims(optim_results['c2_sim'], 1))\n",
    "reg.score(np.expand_dims(optim_results['c2_mle'], 1), np.expand_dims(optim_results['c2_sim'], 1))"
   ]
  },
  {
   "cell_type": "code",
   "execution_count": null,
   "metadata": {},
   "outputs": [],
   "source": [
    "# Code for running other optimization methods... (didn't work though)\n",
    "#     out = minimize(log_p,\n",
    "    #                    x0 = np.array([0, 1, 0.5]),\n",
    "    #                    bounds = [(v_range[0],v_range[1]), \n",
    "    #                                            (a_range[0], a_range[1]), \n",
    "    #                                            (w_range[0], w_range[1])],\n",
    "    #                   args = (model, ddm_dat_tmp),\n",
    "    #                   method = 'Nelder-Mead'\n",
    "    #                   )\n",
    "    \n",
    "    # Print current result"
   ]
  }
 ],
 "metadata": {
  "kernelspec": {
   "display_name": "tf",
   "language": "python",
   "name": "tf"
  },
  "language_info": {
   "codemirror_mode": {
    "name": "ipython",
    "version": 3
   },
   "file_extension": ".py",
   "mimetype": "text/x-python",
   "name": "python",
   "nbconvert_exporter": "python",
   "pygments_lexer": "ipython3",
   "version": "3.6.5"
  }
 },
 "nbformat": 4,
 "nbformat_minor": 2
}
