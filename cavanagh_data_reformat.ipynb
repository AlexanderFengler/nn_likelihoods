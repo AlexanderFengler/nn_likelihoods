{
 "cells": [
  {
   "cell_type": "code",
   "execution_count": 35,
   "metadata": {},
   "outputs": [],
   "source": [
    "import numpy as np\n",
    "import pandas as pd\n",
    "import scipy as scp\n",
    "import pickle \n",
    "import os\n",
    "import matplotlib.pyplot as plt"
   ]
  },
  {
   "cell_type": "code",
   "execution_count": 5,
   "metadata": {},
   "outputs": [],
   "source": [
    "tt = pd.read_csv('/media/data_cifs/afengler/data/real/HDDMDATA.csv')"
   ]
  },
  {
   "cell_type": "code",
   "execution_count": 46,
   "metadata": {},
   "outputs": [
    {
     "data": {
      "image/png": "[encoded data removed]",
      "text/plain": [
       "<Figure size 432x288 with 1 Axes>"
      ]
     },
     "metadata": {
      "needs_background": "light"
     },
     "output_type": "display_data"
    }
   ],
   "source": [
    "# \n",
    "for i in range(1, 5, 1):\n",
    "    plt.hist(tt.loc[tt['condi'] == i]['rt'].ravel(), alpha = 0.2, bins = 20)"
   ]
  },
  {
   "cell_type": "code",
   "execution_count": 48,
   "metadata": {},
   "outputs": [],
   "source": [
    "# def bin_simulator_output(out = [0, 0],\n",
    "#                          bin_dt = 0.04,\n",
    "#                          n_bins = 0,\n",
    "#                          eps_correction = 1e-7, # min p for a bin\n",
    "#                          params = ['v', 'a', 'w', 'ndt']\n",
    "#                         ): # ['v', 'a', 'w', 'ndt', 'angle']\n",
    "\n",
    "#     # Generate bins\n",
    "#     if n_bins == 0:\n",
    "#         n_bins = int(out[2]['max_t'] / bin_dt)\n",
    "#         bins[:nbins] = np.linspace(0, out[2]['max_t'], n_bins)\n",
    "#     else:    \n",
    "#         bins = np.linspace(0, out[2]['max_t'], n_bins)\n",
    "#         bins = np.append(bins, [100])\n",
    "#         print(bins)\n",
    "#     counts = []\n",
    "#     cnt = 0\n",
    "#     counts = np.zeros( (n_bins, len(out[2]['possible_choices']) ) )\n",
    "#     counts_size = counts.shape[0] * counts.shape[1]\n",
    "    \n",
    "#     for choice in out[2]['possible_choices']:\n",
    "#         counts[:, cnt] = np.histogram(out[0][out[1] == choice], bins = bins)[0] / out[2]['n_samples']\n",
    "#         cnt += 1\n",
    "    \n",
    "#     # Apply correction for empty bins\n",
    "#     n_small = 0\n",
    "#     n_big = 0\n",
    "#     n_small = np.sum(counts < eps_correction)\n",
    "#     n_big = counts_size - n_small \n",
    "    \n",
    "#     if eps_correction > 0:\n",
    "#         counts[counts <= eps_correction] = eps_correction\n",
    "#         counts[counts > eps_correction] -= (eps_correction * (n_small / n_big))\n",
    "\n",
    "#     return ([out[2][param] for param in params], # features\n",
    "#             counts, # labels\n",
    "#             {'max_t': out[2]['max_t'], \n",
    "#              'bin_dt': bin_dt, \n",
    "#              'n_samples': out[2]['n_samples']} # meta data\n",
    "#            )\n",
    "\n",
    "\n",
    "def bin_simulator_output(out = [0, 0],\n",
    "                         bin_dt = 0.04,\n",
    "                         choices = [-1, 1],\n",
    "                         max_t = 20,\n",
    "                         nbins = 0): # ['v', 'a', 'w', 'ndt', 'angle']\n",
    "        \n",
    "        # Generate bins\n",
    "        if nbins == 0:\n",
    "            nbins = int(max_t / bin_dt)\n",
    "            bins = np.zeros(nbins + 1)\n",
    "            bins[:nbins] = np.linspace(0, max_t, nbins)\n",
    "            bins[nbins] = np.inf\n",
    "        else:  \n",
    "            bins = np.zeros(nbins + 1)\n",
    "            bins[:nbins] = np.linspace(0, max_t, nbins)\n",
    "            bins[nbins] = np.inf\n",
    "\n",
    "        cnt = 0\n",
    "        counts = np.zeros( (nbins, len(choices)) )\n",
    "\n",
    "        for choice in choices:\n",
    "            counts[:, cnt] = np.histogram(out[0][out[1] == choice], bins = bins)[0]\n",
    "            cnt += 1\n",
    "        return counts"
   ]
  },
  {
   "cell_type": "code",
   "execution_count": 65,
   "metadata": {},
   "outputs": [],
   "source": [
    "out = [np.array(tt['rt'])]\n",
    "out.append(np.array(tt['response']))\n",
    "#out = np.array(tt[['rt', 'response']])"
   ]
  },
  {
   "cell_type": "code",
   "execution_count": 123,
   "metadata": {},
   "outputs": [],
   "source": [
    "data_binned = np.zeros((len(np.unique(tt['condi'])), 512, 2))\n",
    "data = dict()\n",
    "\n",
    "for i in range(4):\n",
    "    out = [np.array(tt.loc[tt['condi'] == i + 1]['rt'])]\n",
    "    out.append(np.array(tt.loc[tt['condi'] == i + 1]['response']))\n",
    "    data_binned[i, :, :] = bin_simulator_output(out = out,\n",
    "                                                bin_dt = 0.04,\n",
    "                                                choices = np.unique((tt['response'])),\n",
    "                                                max_t = 20,\n",
    "                                                nbins = 512)\n",
    "    data[i] = np.array(tt.loc[tt['condi'] == i + 1][['rt', 'response']])\n",
    "    \n",
    "# data_out.append(test)\n",
    "# data_out.append(tt)\n",
    "\n",
    "# Save data\n",
    "pickle.dump([data, tt], open('/media/data_cifs/afengler/data/real/hddmdata.pickle', 'wb'), protocol = 3)\n",
    "pickle.dump([data_binned, tt], open('/media/data_cifs/afengler/data/real/hddmdata_binned.pickle', 'wb'), protocol = 2)"
   ]
  },
  {
   "cell_type": "code",
   "execution_count": 89,
   "metadata": {},
   "outputs": [],
   "source": [
    "dat = pickle.load(open('/media/data_cifs/afengler/data/real/hddmdata.pickle', 'rb'))"
   ]
  },
  {
   "cell_type": "code",
   "execution_count": 115,
   "metadata": {},
   "outputs": [
    {
     "data": {
      "text/plain": [
       "array([[1.108, 1.   ],\n",
       "       [1.653, 1.   ],\n",
       "       [2.094, 1.   ],\n",
       "       ...,\n",
       "       [0.902, 1.   ],\n",
       "       [1.034, 1.   ],\n",
       "       [0.955, 1.   ]])"
      ]
     },
     "execution_count": 115,
     "metadata": {},
     "output_type": "execute_result"
    }
   ],
   "source": [
    "np.array(tt.loc[tt['condi'] == 1][['rt', 'response']])"
   ]
  },
  {
   "cell_type": "code",
   "execution_count": 122,
   "metadata": {},
   "outputs": [
    {
     "ename": "KeyError",
     "evalue": "4",
     "output_type": "error",
     "traceback": [
      "\u001b[0;31m---------------------------------------------------------------------------\u001b[0m",
      "\u001b[0;31mKeyError\u001b[0m                                  Traceback (most recent call last)",
      "\u001b[0;32m<ipython-input-122-38679d5bb23a>\u001b[0m in \u001b[0;36m<module>\u001b[0;34m\u001b[0m\n\u001b[0;32m----> 1\u001b[0;31m \u001b[0mdata\u001b[0m\u001b[0;34m[\u001b[0m\u001b[0;36m4\u001b[0m\u001b[0;34m]\u001b[0m\u001b[0;34m\u001b[0m\u001b[0;34m\u001b[0m\u001b[0m\n\u001b[0m",
      "\u001b[0;31mKeyError\u001b[0m: 4"
     ]
    }
   ],
   "source": [
    "data[4]"
   ]
  },
  {
   "cell_type": "code",
   "execution_count": 63,
   "metadata": {},
   "outputs": [
    {
     "data": {
      "text/plain": [
       "array([-1.,  1.])"
      ]
     },
     "execution_count": 63,
     "metadata": {},
     "output_type": "execute_result"
    }
   ],
   "source": [
    "#np.unique(out[:, 1])"
   ]
  },
  {
   "cell_type": "code",
   "execution_count": 97,
   "metadata": {},
   "outputs": [
    {
     "name": "stdout",
     "output_type": "stream",
     "text": [
      "('a', array([[0., 0.],\n",
      "       [0., 0.],\n",
      "       [0., 0.],\n",
      "       [0., 0.],\n",
      "       [0., 0.],\n",
      "       [0., 0.],\n",
      "       [0., 0.],\n",
      "       [0., 0.],\n",
      "       [0., 0.],\n",
      "       [0., 0.]]))\n",
      "('b', array([[0., 0.],\n",
      "       [0., 0.],\n",
      "       [0., 0.],\n",
      "       [0., 0.],\n",
      "       [0., 0.],\n",
      "       [0., 0.],\n",
      "       [0., 0.],\n",
      "       [0., 0.],\n",
      "       [0., 0.],\n",
      "       [0., 0.]]))\n"
     ]
    }
   ],
   "source": [
    "for i in zip({'a': [20], 'b': [20]} , np.zeros((2, 10, 2))):\n",
    "    print(i)"
   ]
  },
  {
   "cell_type": "code",
   "execution_count": 105,
   "metadata": {},
   "outputs": [],
   "source": [
    "ha = {1: 10, '1': 9}"
   ]
  },
  {
   "cell_type": "code",
   "execution_count": 108,
   "metadata": {},
   "outputs": [
    {
     "ename": "AttributeError",
     "evalue": "'dict' object has no attribute 'insert'",
     "output_type": "error",
     "traceback": [
      "\u001b[0;31m---------------------------------------------------------------------------\u001b[0m",
      "\u001b[0;31mAttributeError\u001b[0m                            Traceback (most recent call last)",
      "\u001b[0;32m<ipython-input-108-76b8361a0af2>\u001b[0m in \u001b[0;36m<module>\u001b[0;34m\u001b[0m\n\u001b[0;32m----> 1\u001b[0;31m \u001b[0mha\u001b[0m\u001b[0;34m.\u001b[0m\u001b[0minsert\u001b[0m\u001b[0;34m(\u001b[0m\u001b[0;34m{\u001b[0m\u001b[0;36m10\u001b[0m\u001b[0;34m:\u001b[0m\u001b[0;36m10\u001b[0m\u001b[0;34m}\u001b[0m\u001b[0;34m)\u001b[0m\u001b[0;34m\u001b[0m\u001b[0;34m\u001b[0m\u001b[0m\n\u001b[0m",
      "\u001b[0;31mAttributeError\u001b[0m: 'dict' object has no attribute 'insert'"
     ]
    }
   ],
   "source": [
    "ha.insert({10:10})"
   ]
  },
  {
   "cell_type": "code",
   "execution_count": 110,
   "metadata": {},
   "outputs": [],
   "source": [
    "ha = dict()"
   ]
  },
  {
   "cell_type": "code",
   "execution_count": 111,
   "metadata": {},
   "outputs": [],
   "source": [
    "ha[1] = 10"
   ]
  },
  {
   "cell_type": "code",
   "execution_count": 112,
   "metadata": {},
   "outputs": [
    {
     "data": {
      "text/plain": [
       "10"
      ]
     },
     "execution_count": 112,
     "metadata": {},
     "output_type": "execute_result"
    }
   ],
   "source": [
    "ha[1]"
   ]
  },
  {
   "cell_type": "code",
   "execution_count": null,
   "metadata": {},
   "outputs": [],
   "source": []
  }
 ],
 "metadata": {
  "kernelspec": {
   "display_name": "Python 3",
   "language": "python",
   "name": "python3"
  },
  "language_info": {
   "codemirror_mode": {
    "name": "ipython",
    "version": 3
   },
   "file_extension": ".py",
   "mimetype": "text/x-python",
   "name": "python",
   "nbconvert_exporter": "python",
   "pygments_lexer": "ipython3",
   "version": "3.7.3"
  }
 },
 "nbformat": 4,
 "nbformat_minor": 4
}
