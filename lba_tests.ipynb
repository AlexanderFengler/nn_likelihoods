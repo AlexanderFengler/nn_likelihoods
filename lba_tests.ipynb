{
 "cells": [
  {
   "cell_type": "code",
   "execution_count": 80,
   "metadata": {},
   "outputs": [],
   "source": [
    "import numpy as np\n",
    "import pickle\n",
    "import os\n",
    "from scipy.stats import norm\n",
    "# Plotting\n",
    "import matplotlib.pyplot as plt"
   ]
  },
  {
   "cell_type": "code",
   "execution_count": 67,
   "metadata": {},
   "outputs": [],
   "source": [
    "def rlba(v = np.array([1, 1]), \n",
    "         A = 1, \n",
    "         b = 1.5, \n",
    "         s = 0.1,\n",
    "         n_samples = 1000):\n",
    "    rts = np.zeros((n_samples, 1))\n",
    "    choices = np.zeros((n_samples, 1))\n",
    "    \n",
    "    n_choices = len(v)\n",
    "    for i in range(n_samples):\n",
    "        d = np.array([-0.1]*n_choices)\n",
    "        while np.max(d) < 0:\n",
    "            k = np.random.uniform(low = 0, high = A, size = n_choices)\n",
    "            d = np.random.normal(loc = v, scale = s)\n",
    "            tmp_rt = (b - k) / d\n",
    "        \n",
    "        rts[i] = np.min(tmp_rt)\n",
    "        choices[i]  = np.argmin(tmp_rt)\n",
    "    \n",
    "    # Create some dics\n",
    "    v_dict = {}\n",
    "    for i in range(n_choices):\n",
    "        v_dict['v_' + str(i)] = v[i]\n",
    "\n",
    "    return (rts, choices, {**v_dict,\n",
    "                           'A': A,\n",
    "                           'b': b,\n",
    "                           's': s,\n",
    "                           'delta_t': 0,\n",
    "                           'max_t': 1000,\n",
    "                           'n_samples': n_samples,\n",
    "                           'simulator': 'lba',\n",
    "                           'boundary_fun_type': 'none',\n",
    "                           'possible_choices': [i for i in range(n_choices)]})"
   ]
  },
  {
   "cell_type": "code",
   "execution_count": 28,
   "metadata": {},
   "outputs": [],
   "source": [
    "def dlba(rt = 0.5, \n",
    "         choice = 0,\n",
    "         v = np.array([1, 1]),\n",
    "         A = 1,\n",
    "         b = 1.5,\n",
    "         s = s,\n",
    "         return_log = True):\n",
    "    n_choices = len(v)\n",
    "    l_f_t = 0\n",
    "    \n",
    "    if len(s) == 1:\n",
    "        s = np.array([s[0]] * n_choices)\n",
    "    \n",
    "    for i in range(n_choices):\n",
    "        if i == choice:\n",
    "            tmp = flba(rt = rt, A = A, b = b, v = v[i], s = s)\n",
    "            if tmp < 1e-29:\n",
    "                tmp = 1e-29\n",
    "            l_f_t += np.log(tmp)\n",
    "        else:\n",
    "            tmp = Flba(rt = rt, A = A, b = b, v = v[i], s = s)\n",
    "            \n",
    "            # numerical robustness catches\n",
    "            if tmp < 1e-29:\n",
    "                tmp = 1e-29\n",
    "            if tmp > (1.0 - 1e-29):\n",
    "                tmp = (1.0 - 1e-29)\n",
    "            l_f_t += np.log(1.0 - tmp)\n",
    "            \n",
    "    if return_log: \n",
    "        return l_f_t\n",
    "    else:\n",
    "        return np.exp(l_f_t)"
   ]
  },
  {
   "cell_type": "code",
   "execution_count": 4,
   "metadata": {},
   "outputs": [],
   "source": [
    "def Flba(rt = 0.5, \n",
    "         v = 1,\n",
    "         A = 1,\n",
    "         b = 1.5,\n",
    "         s = 0.1):\n",
    "    return (1 + ((1 / A) * ((b - A - (rt * v)) * norm.cdf((b - A - (rt * v)) / (rt * s))) - \\\n",
    "        (b - (rt * v)) * norm.cdf((b - (rt * v)) / (rt * s)) + \\\n",
    "                    (rt * s) * (norm.pdf((b - A - (rt * v)) / (rt * s)) - norm.pdf((b - (rt * v)) / (rt * s)))))"
   ]
  },
  {
   "cell_type": "code",
   "execution_count": 5,
   "metadata": {},
   "outputs": [],
   "source": [
    "def flba(rt = 0.5, \n",
    "         v = 1,\n",
    "         A = 1,\n",
    "         b = 1.5,\n",
    "         s = 0.1):\n",
    "    return ((1 / A) * ( (-v) * norm.cdf((b - A - (rt * v)) / (rt * s)) + \\\n",
    "                     s * norm.pdf((b - A - (rt * v)) / (rt * s)) + \\\n",
    "                     v * norm.cdf((b - (rt * v)) / (rt * s)) + \\\n",
    "                     (-s) * norm.pdf((b - (rt * v)) / (rt * s)) ))"
   ]
  },
  {
   "cell_type": "code",
   "execution_count": 82,
   "metadata": {},
   "outputs": [],
   "source": [
    "import lba\n",
    "out = lba.rlba(n_samples = 20000, v = np.array([1.5, 1]), b = 1.5)"
   ]
  },
  {
   "cell_type": "code",
   "execution_count": 83,
   "metadata": {},
   "outputs": [],
   "source": [
    "out[0][out[1] == 0] = out[0][out[1] == 0] * -1"
   ]
  },
  {
   "cell_type": "code",
   "execution_count": 77,
   "metadata": {},
   "outputs": [],
   "source": [
    "import pickle\n",
    "out = pickle.load(open('/media/data_cifs/afengler/tmp/lba_8085c794bf7a11e9b003530bce13c5b4.pickle', 'rb'))"
   ]
  },
  {
   "cell_type": "code",
   "execution_count": 78,
   "metadata": {},
   "outputs": [],
   "source": [
    "out[0][out[1] == 0] = out[0][out[1] == 0] * (-1)"
   ]
  },
  {
   "cell_type": "code",
   "execution_count": 87,
   "metadata": {},
   "outputs": [
    {
     "data": {
      "text/plain": [
       "[<matplotlib.lines.Line2D at 0x7f8bbcc18470>]"
      ]
     },
     "execution_count": 87,
     "metadata": {},
     "output_type": "execute_result"
    },
    {
     "data": {
      "image/png": "[encoded data removed]",
      "text/plain": [
       "<Figure size 432x288 with 1 Axes>"
      ]
     },
     "metadata": {
      "needs_background": "light"
     },
     "output_type": "display_data"
    }
   ],
   "source": [
    "plt.hist(out[0], bins = 50, density = True, alpha = 0.3)\n",
    "plt.plot(-my_grid, np.exp(f_test_vals[:, 0]), color = 'green')\n",
    "plt.plot(my_grid, np.exp(f_test_vals[:, 1]), color = 'green')"
   ]
  },
  {
   "cell_type": "code",
   "execution_count": 85,
   "metadata": {},
   "outputs": [],
   "source": [
    "my_grid = np.linspace(0.01, 2.0, 1000)"
   ]
  },
  {
   "cell_type": "code",
   "execution_count": 86,
   "metadata": {},
   "outputs": [],
   "source": [
    "f_test_vals = np.zeros((len(my_grid),2))\n",
    "for c in range(2):\n",
    "    cnt = 0\n",
    "    for i in my_grid:\n",
    "        f_test_vals[cnt, c] = lba.dlba(rt = i, choice = c, v = np.array([1.5, 1]))\n",
    "        cnt += 1"
   ]
  },
  {
   "cell_type": "code",
   "execution_count": 54,
   "metadata": {},
   "outputs": [
    {
     "data": {
      "text/plain": [
       "[0, 1, 2, 3]"
      ]
     },
     "execution_count": 54,
     "metadata": {},
     "output_type": "execute_result"
    }
   ],
   "source": [
    "[i for i in range(4)]"
   ]
  },
  {
   "cell_type": "code",
   "execution_count": 69,
   "metadata": {},
   "outputs": [
    {
     "data": {
      "text/plain": [
       "(array([[0.6368266 ],\n",
       "        [0.6662889 ],\n",
       "        [0.59495118],\n",
       "        ...,\n",
       "        [0.35798089],\n",
       "        [0.57274787],\n",
       "        [1.03822317]]), array([[0.],\n",
       "        [1.],\n",
       "        [0.],\n",
       "        ...,\n",
       "        [0.],\n",
       "        [1.],\n",
       "        [0.]]), {'v_0': 1.5,\n",
       "  'v_1': 1.0,\n",
       "  'A': 1,\n",
       "  'b': 1.5,\n",
       "  's': 0.1,\n",
       "  'delta_t': 0,\n",
       "  'max_t': 1000,\n",
       "  'n_samples': 20000,\n",
       "  'simulator': 'lba',\n",
       "  'boundary_fun_type': 'none',\n",
       "  'possible_choices': [0, 1]})"
      ]
     },
     "execution_count": 69,
     "metadata": {},
     "output_type": "execute_result"
    }
   ],
   "source": [
    "out"
   ]
  },
  {
   "cell_type": "code",
   "execution_count": null,
   "metadata": {},
   "outputs": [],
   "source": []
  }
 ],
 "metadata": {
  "kernelspec": {
   "display_name": "Python 3",
   "language": "python",
   "name": "python3"
  },
  "language_info": {
   "codemirror_mode": {
    "name": "ipython",
    "version": 3
   },
   "file_extension": ".py",
   "mimetype": "text/x-python",
   "name": "python",
   "nbconvert_exporter": "python",
   "pygments_lexer": "ipython3",
   "version": "3.7.3"
  }
 },
 "nbformat": 4,
 "nbformat_minor": 2
}
