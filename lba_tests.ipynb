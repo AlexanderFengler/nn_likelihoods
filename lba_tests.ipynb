{
 "cells": [
  {
   "cell_type": "code",
   "execution_count": null,
   "metadata": {},
   "outputs": [],
   "source": [
    "import numpy as np\n",
    "import pickle\n",
    "import os\n",
    "from scipy.stats import norm\n",
    "# Plotting\n",
    "import matplotlib.pyplot as plt"
   ]
  },
  {
   "cell_type": "code",
   "execution_count": 67,
   "metadata": {},
   "outputs": [],
   "source": [
    "def rlba(v = np.array([1, 1]), \n",
    "         A = 1, \n",
    "         b = 1.5, \n",
    "         s = 0.1,\n",
    "         n_samples = 1000):\n",
    "    rts = np.zeros((n_samples, 1))\n",
    "    choices = np.zeros((n_samples, 1))\n",
    "    \n",
    "    n_choices = len(v)\n",
    "    for i in range(n_samples):\n",
    "        d = np.array([-0.1]*n_choices)\n",
    "        while np.max(d) < 0:\n",
    "            k = np.random.uniform(low = 0, high = A, size = n_choices)\n",
    "            d = np.random.normal(loc = v, scale = s)\n",
    "            tmp_rt = (b - k) / d\n",
    "        \n",
    "        rts[i] = np.min(tmp_rt)\n",
    "        choices[i]  = np.argmin(tmp_rt)\n",
    "    \n",
    "    # Create some dics\n",
    "    v_dict = {}\n",
    "    for i in range(n_choices):\n",
    "        v_dict['v_' + str(i)] = v[i]\n",
    "\n",
    "    return (rts, choices, {**v_dict,\n",
    "                           'A': A,\n",
    "                           'b': b,\n",
    "                           's': s,\n",
    "                           'delta_t': 0,\n",
    "                           'max_t': 1000,\n",
    "                           'n_samples': n_samples,\n",
    "                           'simulator': 'lba',\n",
    "                           'boundary_fun_type': 'none',\n",
    "                           'possible_choices': [i for i in range(n_choices)]})"
   ]
  },
  {
   "cell_type": "code",
   "execution_count": 28,
   "metadata": {},
   "outputs": [],
   "source": [
    "def dlba(rt = 0.5, \n",
    "         choice = 0,\n",
    "         v = np.array([1, 1]),\n",
    "         A = 1,\n",
    "         b = 1.5,\n",
    "         s = s,\n",
    "         return_log = True):\n",
    "    n_choices = len(v)\n",
    "    l_f_t = 0\n",
    "    \n",
    "    if len(s) == 1:\n",
    "        s = np.array([s[0]] * n_choices)\n",
    "    \n",
    "    for i in range(n_choices):\n",
    "        if i == choice:\n",
    "            tmp = flba(rt = rt, A = A, b = b, v = v[i], s = s)\n",
    "            if tmp < 1e-29:\n",
    "                tmp = 1e-29\n",
    "            l_f_t += np.log(tmp)\n",
    "        else:\n",
    "            tmp = Flba(rt = rt, A = A, b = b, v = v[i], s = s)\n",
    "            \n",
    "            # numerical robustness catches\n",
    "            if tmp < 1e-29:\n",
    "                tmp = 1e-29\n",
    "            if tmp > (1.0 - 1e-29):\n",
    "                tmp = (1.0 - 1e-29)\n",
    "            l_f_t += np.log(1.0 - tmp)\n",
    "            \n",
    "    if return_log: \n",
    "        return l_f_t\n",
    "    else:\n",
    "        return np.exp(l_f_t)"
   ]
  },
  {
   "cell_type": "code",
   "execution_count": 4,
   "metadata": {},
   "outputs": [],
   "source": [
    "def Flba(rt = 0.5, \n",
    "         v = 1,\n",
    "         A = 1,\n",
    "         b = 1.5,\n",
    "         s = 0.1):\n",
    "    return (1 + ((1 / A) * ((b - A - (rt * v)) * norm.cdf((b - A - (rt * v)) / (rt * s))) - \\\n",
    "        (b - (rt * v)) * norm.cdf((b - (rt * v)) / (rt * s)) + \\\n",
    "                    (rt * s) * (norm.pdf((b - A - (rt * v)) / (rt * s)) - norm.pdf((b - (rt * v)) / (rt * s)))))"
   ]
  },
  {
   "cell_type": "code",
   "execution_count": 5,
   "metadata": {},
   "outputs": [],
   "source": [
    "def flba(rt = 0.5, \n",
    "         v = 1,\n",
    "         A = 1,\n",
    "         b = 1.5,\n",
    "         s = 0.1):\n",
    "    return ((1 / A) * ( (-v) * norm.cdf((b - A - (rt * v)) / (rt * s)) + \\\n",
    "                     s * norm.pdf((b - A - (rt * v)) / (rt * s)) + \\\n",
    "                     v * norm.cdf((b - (rt * v)) / (rt * s)) + \\\n",
    "                     (-s) * norm.pdf((b - (rt * v)) / (rt * s)) ))"
   ]
  },
  {
   "cell_type": "code",
   "execution_count": 68,
   "metadata": {},
   "outputs": [],
   "source": [
    "out = rlba(n_samples = 20000, v = np.array([1.5, 1]), b = 1.5)"
   ]
  },
  {
   "cell_type": "code",
   "execution_count": 70,
   "metadata": {},
   "outputs": [],
   "source": [
    "out[0][out[1] == 0] = out[0][out[1] == 0] * -1"
   ]
  },
  {
   "cell_type": "code",
   "execution_count": 77,
   "metadata": {},
   "outputs": [],
   "source": [
    "import pickle\n",
    "out = pickle.load(open('/media/data_cifs/afengler/tmp/lba_8085c794bf7a11e9b003530bce13c5b4.pickle', 'rb'))"
   ]
  },
  {
   "cell_type": "code",
   "execution_count": 78,
   "metadata": {},
   "outputs": [],
   "source": [
    "out[0][out[1] == 0] = out[0][out[1] == 0] * (-1)"
   ]
  },
  {
   "cell_type": "code",
   "execution_count": 79,
   "metadata": {},
   "outputs": [
    {
     "data": {
      "text/plain": [
       "(array([0.02051654, 0.03077481, 0.07180789, 0.15387405, 0.40007254,\n",
       "        0.85143643, 1.24125069, 2.27733598, 3.45703705, 3.95969229,\n",
       "        4.87267834, 5.2624926 , 6.13444557, 5.98057152, 6.31909443,\n",
       "        5.94979671, 6.14470384, 5.7446313 , 5.82669746, 5.847214  ,\n",
       "        5.73437303, 6.25754481, 5.83695573, 5.9190219 , 6.31909443,\n",
       "        5.60101552, 6.06263768, 6.05237941, 6.33961097, 5.847214  ,\n",
       "        5.81643919, 6.19599519, 6.1241873 , 6.06263768, 5.66256514,\n",
       "        5.83695573, 6.13444557, 6.03186287, 4.9547445 , 5.44714147,\n",
       "        4.78035391, 3.53910321, 3.06722278, 2.14397847, 1.30280031,\n",
       "        0.85143643, 0.40007254, 0.19490713, 0.07180789, 0.03077481]),\n",
       " array([1.56700717, 1.57188129, 1.5767554 , 1.58162952, 1.58650364,\n",
       "        1.59137775, 1.59625187, 1.60112598, 1.6060001 , 1.61087422,\n",
       "        1.61574833, 1.62062245, 1.62549656, 1.63037068, 1.6352448 ,\n",
       "        1.64011891, 1.64499303, 1.64986715, 1.65474126, 1.65961538,\n",
       "        1.66448949, 1.66936361, 1.67423773, 1.67911184, 1.68398596,\n",
       "        1.68886007, 1.69373419, 1.69860831, 1.70348242, 1.70835654,\n",
       "        1.71323065, 1.71810477, 1.72297889, 1.727853  , 1.73272712,\n",
       "        1.73760124, 1.74247535, 1.74734947, 1.75222358, 1.7570977 ,\n",
       "        1.76197182, 1.76684593, 1.77172005, 1.77659416, 1.78146828,\n",
       "        1.7863424 , 1.79121651, 1.79609063, 1.80096474, 1.80583886,\n",
       "        1.81071298]),\n",
       " <a list of 50 Patch objects>)"
      ]
     },
     "execution_count": 79,
     "metadata": {},
     "output_type": "execute_result"
    },
    {
     "data": {
      "image/png": "[encoded data removed]",
      "text/plain": [
       "<Figure size 432x288 with 1 Axes>"
      ]
     },
     "metadata": {
      "needs_background": "light"
     },
     "output_type": "display_data"
    }
   ],
   "source": [
    "plt.hist(out[0], bins = 50, density = True, alpha = 0.3)\n",
    "#plt.plot(-my_grid, np.exp(f_test_vals[:, 0]), color = 'green')\n",
    "#plt.plot(my_grid, np.exp(f_test_vals[:, 1]), color = 'green')"
   ]
  },
  {
   "cell_type": "code",
   "execution_count": 24,
   "metadata": {},
   "outputs": [],
   "source": [
    "my_grid = np.linspace(0.01, 2.0, 1000)"
   ]
  },
  {
   "cell_type": "code",
   "execution_count": 73,
   "metadata": {},
   "outputs": [],
   "source": [
    "f_test_vals = np.zeros((len(my_grid),2))\n",
    "for c in range(2):\n",
    "    cnt = 0\n",
    "    for i in my_grid:\n",
    "        f_test_vals[cnt, c] = dlba(rt = i, choice = c, v = np.array([1.5, 1]))\n",
    "        cnt += 1"
   ]
  },
  {
   "cell_type": "code",
   "execution_count": 54,
   "metadata": {},
   "outputs": [
    {
     "data": {
      "text/plain": [
       "[0, 1, 2, 3]"
      ]
     },
     "execution_count": 54,
     "metadata": {},
     "output_type": "execute_result"
    }
   ],
   "source": [
    "[i for i in range(4)]"
   ]
  },
  {
   "cell_type": "code",
   "execution_count": 69,
   "metadata": {},
   "outputs": [
    {
     "data": {
      "text/plain": [
       "(array([[0.6368266 ],\n",
       "        [0.6662889 ],\n",
       "        [0.59495118],\n",
       "        ...,\n",
       "        [0.35798089],\n",
       "        [0.57274787],\n",
       "        [1.03822317]]), array([[0.],\n",
       "        [1.],\n",
       "        [0.],\n",
       "        ...,\n",
       "        [0.],\n",
       "        [1.],\n",
       "        [0.]]), {'v_0': 1.5,\n",
       "  'v_1': 1.0,\n",
       "  'A': 1,\n",
       "  'b': 1.5,\n",
       "  's': 0.1,\n",
       "  'delta_t': 0,\n",
       "  'max_t': 1000,\n",
       "  'n_samples': 20000,\n",
       "  'simulator': 'lba',\n",
       "  'boundary_fun_type': 'none',\n",
       "  'possible_choices': [0, 1]})"
      ]
     },
     "execution_count": 69,
     "metadata": {},
     "output_type": "execute_result"
    }
   ],
   "source": [
    "out"
   ]
  },
  {
   "cell_type": "code",
   "execution_count": null,
   "metadata": {},
   "outputs": [],
   "source": []
  }
 ],
 "metadata": {
  "kernelspec": {
   "display_name": "Python 3",
   "language": "python",
   "name": "python3"
  },
  "language_info": {
   "codemirror_mode": {
    "name": "ipython",
    "version": 3
   },
   "file_extension": ".py",
   "mimetype": "text/x-python",
   "name": "python",
   "nbconvert_exporter": "python",
   "pygments_lexer": "ipython3",
   "version": "3.7.3"
  }
 },
 "nbformat": 4,
 "nbformat_minor": 2
}
