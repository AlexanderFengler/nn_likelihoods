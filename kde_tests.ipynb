{
 "cells": [
  {
   "cell_type": "code",
   "execution_count": null,
   "metadata": {},
   "outputs": [],
   "source": [
    "import ddm_data_simulation as ddm_sim\n",
    "import scipy as scp\n",
    "import numpy as np\n",
    "import matplotlib.pyplot as plt\n",
    "from sklearn.neighbors import KernelDensity\n",
    "import kde_class"
   ]
  },
  {
   "cell_type": "code",
   "execution_count": null,
   "metadata": {},
   "outputs": [],
   "source": [
    "# Simulate a couple samples\n",
    "# Standard DDM\n",
    "my_samples = ddm_sim.ddm_simulate(v = 0, \n",
    "                         a = 1, \n",
    "                         w = 0.5, \n",
    "                         s = 1,\n",
    "                         delta_t = 0.01,\n",
    "                         max_t = 20,\n",
    "                         n_samples = 2000,\n",
    "                         print_info = True)"
   ]
  },
  {
   "cell_type": "code",
   "execution_count": null,
   "metadata": {},
   "outputs": [],
   "source": [
    "# Set up KDE \n",
    "my_log_kdes = kde_class.logkde(my_samples, my_samples[2])\n",
    "evals, __ = my_log_kdes.kde_eval(where  = np.expand_dims(np.linspace(0.00001, 10, num = 500),\n",
    "                                                      axis = 1), \n",
    "                              which = [1, -1])"
   ]
  },
  {
   "cell_type": "code",
   "execution_count": null,
   "metadata": {},
   "outputs": [],
   "source": [
    "#kde_samples = \n",
    "samples, __ = my_log_kdes.kde_sample(n_samples = 1000)\n",
    "plt.hist(samples[1])"
   ]
  },
  {
   "cell_type": "code",
   "execution_count": null,
   "metadata": {},
   "outputs": [],
   "source": [
    "# Plot \n",
    "plt.hist(my_samples[0] * my_samples[1], bins = 50, density = True)\n",
    "plt.plot(my_log_kdes.data[0][1] * np.linspace(0.00001, 10, num = 500), np.exp(evals[0]))\n",
    "plt.plot(my_log_kdes.data[1][1] * np.linspace(0.00001, 10, num = 500), np.exp(evals[1]))"
   ]
  },
  {
   "cell_type": "code",
   "execution_count": 2,
   "metadata": {},
   "outputs": [
    {
     "data": {
      "text/plain": [
       "[<matplotlib.lines.Line2D at 0x1a187b2c88>]"
      ]
     },
     "execution_count": 2,
     "metadata": {},
     "output_type": "execute_result"
    },
    {
     "data": {
      "image/png": "[encoded data removed]",
      "text/plain": [
       "<Figure size 432x288 with 1 Axes>"
      ]
     },
     "metadata": {},
     "output_type": "display_data"
    }
   ],
   "source": [
    "# Simulate a couple samples\n",
    "# DDM with arbitrary boundary\n",
    "# Define boundary function\n",
    "def my_boundary(t = 1, \n",
    "                c1 = 1,\n",
    "                c2 = 1):\n",
    "    return [- c2 - np.exp(- t * c1), + c2 + np.exp(- t * c1)]\n",
    "\n",
    "# Plot boundaries for illustration\n",
    "t_space = np.linspace(0.000001, 10, num = 200)\n",
    "bounds = np.zeros((len(t_space), 2))\n",
    "\n",
    "for i in range(0,len(t_space),1):\n",
    "    bounds[i,:] = my_boundary(t = t_space[i], c1 = 1, c2 = 0.5)\n",
    "    \n",
    "plt.plot(np.linspace(0.000001, 10, num = 200), bounds[:, 0])\n",
    "plt.plot(np.linspace(0.000001, 10, num = 200), bounds[:, 1])"
   ]
  },
  {
   "cell_type": "code",
   "execution_count": 3,
   "metadata": {},
   "outputs": [
    {
     "name": "stdout",
     "output_type": "stream",
     "text": [
      "{'boundary_fun': <function my_boundary at 0x1a187a39d8>}\n",
      "0  datapoints sampled\n",
      "1000  datapoints sampled\n",
      "2000  datapoints sampled\n",
      "3000  datapoints sampled\n",
      "4000  datapoints sampled\n",
      "5000  datapoints sampled\n",
      "6000  datapoints sampled\n",
      "7000  datapoints sampled\n",
      "8000  datapoints sampled\n",
      "9000  datapoints sampled\n"
     ]
    },
    {
     "ename": "NameError",
     "evalue": "name 'a' is not defined",
     "output_type": "error",
     "traceback": [
      "\u001b[0;31m---------------------------------------------------------------------------\u001b[0m",
      "\u001b[0;31mNameError\u001b[0m                                 Traceback (most recent call last)",
      "\u001b[0;32m<ipython-input-3-996cee531670>\u001b[0m in \u001b[0;36m<module>\u001b[0;34m()\u001b[0m\n\u001b[1;32m      9\u001b[0m                                                    \u001b[0mboundary_fun\u001b[0m \u001b[0;34m=\u001b[0m \u001b[0mmy_boundary\u001b[0m\u001b[0;34m,\u001b[0m\u001b[0;34m\u001b[0m\u001b[0m\n\u001b[1;32m     10\u001b[0m                                                    \u001b[0mc1\u001b[0m \u001b[0;34m=\u001b[0m \u001b[0;36m1\u001b[0m\u001b[0;34m,\u001b[0m\u001b[0;34m\u001b[0m\u001b[0m\n\u001b[0;32m---> 11\u001b[0;31m                                                    c2 = 0.5)\n\u001b[0m",
      "\u001b[0;32m~/OneDrive/git_repos/nn_likelihoods/ddm_data_simulation.py\u001b[0m in \u001b[0;36mddm_flexbound_simulate\u001b[0;34m(v, w, s, delta_t, max_t, n_samples, print_info, boundary_fun, **boundary_params)\u001b[0m\n\u001b[1;32m    106\u001b[0m                 \u001b[0mprint\u001b[0m\u001b[0;34m(\u001b[0m\u001b[0mn\u001b[0m\u001b[0;34m,\u001b[0m \u001b[0;34m' datapoints sampled'\u001b[0m\u001b[0;34m)\u001b[0m\u001b[0;34m\u001b[0m\u001b[0m\n\u001b[1;32m    107\u001b[0m     return (rts, choices,  {'v:': v,\n\u001b[0;32m--> 108\u001b[0;31m                            \u001b[0;34m'a'\u001b[0m\u001b[0;34m:\u001b[0m \u001b[0ma\u001b[0m\u001b[0;34m,\u001b[0m\u001b[0;34m\u001b[0m\u001b[0m\n\u001b[0m\u001b[1;32m    109\u001b[0m                            \u001b[0;34m'w'\u001b[0m\u001b[0;34m:\u001b[0m \u001b[0mw\u001b[0m\u001b[0;34m,\u001b[0m\u001b[0;34m\u001b[0m\u001b[0m\n\u001b[1;32m    110\u001b[0m                            \u001b[0;34m's'\u001b[0m\u001b[0;34m:\u001b[0m \u001b[0ms\u001b[0m\u001b[0;34m,\u001b[0m\u001b[0;34m\u001b[0m\u001b[0m\n",
      "\u001b[0;31mNameError\u001b[0m: name 'a' is not defined"
     ]
    }
   ],
   "source": [
    "# Get samples\n",
    "my_samples_flexb  = ddm_sim.ddm_flexbound_simulate(v = 0,\n",
    "                                                   w = 0.5, \n",
    "                                                   s = 1,\n",
    "                                                   delta_t = 0.001,\n",
    "                                                   max_t = 20,\n",
    "                                                   n_samples = 10000,\n",
    "                                                   print_info = True,\n",
    "                                                   boundary_fun = my_boundary,\n",
    "                                                   c1 = 1,\n",
    "                                                   c2 = 0.5)"
   ]
  },
  {
   "cell_type": "code",
   "execution_count": null,
   "metadata": {},
   "outputs": [],
   "source": [
    "# Set up KDE \n",
    "my_log_kdes  = kde_class.logkde()\n",
    "my_log_kdes.attach_data_from_simulator(simulator_data = my_samples_flexb)\n",
    "my_log_kdes.generate_base_kdes()\n",
    "evals = my_log_kdes.kde_eval(where  = np.expand_dims(np.linspace(0.00001, 10, num = 500),\n",
    "                                                     axis = 1), \n",
    "                             which = [1, -1])"
   ]
  },
  {
   "cell_type": "code",
   "execution_count": null,
   "metadata": {},
   "outputs": [],
   "source": [
    "# Plot \n",
    "plt.hist(my_samples_flexb[0] * my_samples_flexb[1], bins = 50, density = True)\n",
    "plt.plot(my_log_kdes.data[0][1] * np.linspace(0.00001, 10, num = 500), np.exp(evals[0]))\n",
    "plt.plot(my_log_kdes.data[1][1] * np.linspace(0.00001, 10, num = 500), np.exp(evals[1]))"
   ]
  },
  {
   "cell_type": "code",
   "execution_count": null,
   "metadata": {},
   "outputs": [],
   "source": [
    "# Simulate: RACE MODEL\n",
    "def my_boundary_race(t = 0, height = 1):\n",
    "    return height\n",
    "\n",
    "# Get samples\n",
    "my_samples_race  = ddm_sim.race_model(v = np.array([1, 0.5, 0, 0, 0], ndmin = 2).T,\n",
    "                                      w = np.array([0, 0, 0, 0, 0], ndmin = 2).T, \n",
    "                                      s = 1,\n",
    "                                      delta_t = 0.001,\n",
    "                                      max_t = 20,\n",
    "                                      n_samples = 3000,\n",
    "                                      print_info = True,\n",
    "                                      boundary_fun = my_boundary_race,\n",
    "                                      height = 2)"
   ]
  },
  {
   "cell_type": "code",
   "execution_count": null,
   "metadata": {},
   "outputs": [],
   "source": [
    "# Make kde \n",
    "choices = np.unique(my_samples_race[1])\n",
    "my_race_kdes = kde_class.logkde()\n",
    "my_race_kdes.attach_data_from_simulator(simulator_data = my_samples_race)\n",
    "my_race_kdes.generate_base_kdes()\n",
    "evals = my_race_kdes.kde_eval(where  = np.expand_dims(np.linspace(0.00001, 10, num = 500),\n",
    "                                                     axis = 1), \n",
    "                             which = choices)"
   ]
  },
  {
   "cell_type": "code",
   "execution_count": null,
   "metadata": {},
   "outputs": [],
   "source": [
    "plt.plot(np.linspace(0.00001, 10, num = 500), np.exp(evals[0]), color = 'blue')\n",
    "plt.plot(np.linspace(0.00001, 10, num = 500), np.exp(evals[1]), color = 'green')\n",
    "plt.plot(np.linspace(0.00001, 10, num = 500), np.exp(evals[2]), color = 'yellow')\n",
    "plt.plot(np.linspace(0.00001, 10, num = 500), np.exp(evals[3]), color = 'orange')\n",
    "plt.plot(np.linspace(0.00001, 10, num = 500), np.exp(evals[4]), color = 'red')"
   ]
  },
  {
   "cell_type": "code",
   "execution_count": null,
   "metadata": {},
   "outputs": [],
   "source": [
    "plt.hist(my_samples_race[0][my_samples_race[1] == 0], bins = 30, density = True, alpha = 0.3)\n",
    "plt.hist(my_samples_race[0][my_samples_race[1] == 1], bins = 30, density = True, alpha = 0.3)\n",
    "plt.hist(my_samples_race[0][my_samples_race[1] == 2], bins = 30, density = True, alpha = 0.3)"
   ]
  },
  {
   "cell_type": "code",
   "execution_count": null,
   "metadata": {},
   "outputs": [],
   "source": [
    "my_race_kdes.data"
   ]
  },
  {
   "cell_type": "code",
   "execution_count": null,
   "metadata": {},
   "outputs": [],
   "source": [
    "my_linspace = np.linspace(0.00001, 10, num = 500)\n",
    "diff = my_linspace[1] - my_linspace[0]\n",
    "\n",
    "my_sum = 0\n",
    "for j in range(0, len(evals), 1):\n",
    "    for i in range(0, len(my_linspace), 1):\n",
    "        my_sum += diff * np.exp(evals[j][i])"
   ]
  },
  {
   "cell_type": "code",
   "execution_count": null,
   "metadata": {},
   "outputs": [],
   "source": [
    "a = [1,2,-3]\n"
   ]
  },
  {
   "cell_type": "code",
   "execution_count": null,
   "metadata": {},
   "outputs": [],
   "source": [
    "np.maximum(a, 0)"
   ]
  },
  {
   "cell_type": "code",
   "execution_count": null,
   "metadata": {},
   "outputs": [],
   "source": [
    "# Simulate: lca\n",
    "# Get samples\n",
    "my_samples_lca  = ddm_sim.lca(v = np.array([1, 0.5, 0.0, 0.0, 0.0], ndmin = 2).T,\n",
    "                              w = np.array([0.0, 0.0, 0.0, 0.0, 0.0], ndmin = 2).T, \n",
    "                              a = 2,\n",
    "                              b = 1.0,\n",
    "                              g = 0.1,\n",
    "                              s = 1.0,\n",
    "                              delta_t = 0.001,\n",
    "                              max_t = 20,\n",
    "                              n_samples = 3000,\n",
    "                              print_info = True)"
   ]
  },
  {
   "cell_type": "code",
   "execution_count": null,
   "metadata": {},
   "outputs": [],
   "source": [
    "# Make kde \n",
    "choices = np.unique(my_samples_lca[1])\n",
    "my_lca_kdes = kde_class.logkde()\n",
    "my_lca_kdes.attach_data_from_simulator(simulator_data = my_samples_lca)\n",
    "my_lca_kdes.generate_base_kdes()\n",
    "evals = my_lca_kdes.kde_eval(where  = np.expand_dims(np.linspace(0.00001, 10, num = 500),\n",
    "                                                     axis = 1), \n",
    "                             which = choices)"
   ]
  },
  {
   "cell_type": "code",
   "execution_count": null,
   "metadata": {},
   "outputs": [],
   "source": [
    "# Plot\n",
    "plt.plot(np.linspace(0.00001, 10, num = 500), np.exp(evals[0]), color = 'blue')\n",
    "plt.plot(np.linspace(0.00001, 10, num = 500), np.exp(evals[1]), color = 'green')\n",
    "plt.plot(np.linspace(0.00001, 10, num = 500), np.exp(evals[2]), color = 'yellow')\n",
    "plt.plot(np.linspace(0.00001, 10, num = 500), np.exp(evals[3]), color = 'orange')\n",
    "plt.plot(np.linspace(0.00001, 10, num = 500), np.exp(evals[4]), color = 'red')"
   ]
  },
  {
   "cell_type": "code",
   "execution_count": null,
   "metadata": {},
   "outputs": [],
   "source": [
    "# Save a dictionary into a pickle file.\n",
    "import pickle \n",
    "pickle.dump([1, 2, my_lca_kdes], open( \"save.p\", \"wb\" ) )\n"
   ]
  },
  {
   "cell_type": "code",
   "execution_count": null,
   "metadata": {},
   "outputs": [],
   "source": [
    "test = pickle.load( open( \"save.p\", \"rb\" ) )"
   ]
  },
  {
   "cell_type": "code",
   "execution_count": null,
   "metadata": {},
   "outputs": [],
   "source": [
    "test[2]"
   ]
  },
  {
   "cell_type": "code",
   "execution_count": null,
   "metadata": {},
   "outputs": [],
   "source": [
    "import multiprocessing as mp\n",
    "import psutil"
   ]
  },
  {
   "cell_type": "code",
   "execution_count": null,
   "metadata": {},
   "outputs": [],
   "source": [
    "mp.cpu_count(logical = False)"
   ]
  },
  {
   "cell_type": "code",
   "execution_count": null,
   "metadata": {},
   "outputs": [],
   "source": [
    "[(1,0.5, 1, 0.001, 20, i) for i in range(1000, 8001, 1000)]\n",
    "# v = 0, \n",
    "#                          a = 1, \n",
    "#                          w = 0.5, \n",
    "#                          s = 1,\n",
    "#                          delta_t = 0.001,\n",
    "#                          max_t = 20,\n",
    "#                          n_samples = 10000,\n",
    "#                          print_info = True)"
   ]
  },
  {
   "cell_type": "code",
   "execution_count": null,
   "metadata": {},
   "outputs": [],
   "source": [
    "from  multiprocessing import Process\n",
    "from  multiprocessing import Pool\n",
    "\n",
    "with Pool(processes = 4) as pool:\n",
    "    res = pool.starmap(ddm_sim.ddm_simulate,[(0,1,0.5, 1, 0.001, 20, i) for i in range(1000, 8001, 1000)])"
   ]
  },
  {
   "cell_type": "code",
   "execution_count": null,
   "metadata": {},
   "outputs": [],
   "source": [
    "res[0][2]"
   ]
  },
  {
   "cell_type": "code",
   "execution_count": null,
   "metadata": {},
   "outputs": [],
   "source": [
    "b = {'a': 1}"
   ]
  },
  {
   "cell_type": "code",
   "execution_count": null,
   "metadata": {},
   "outputs": [],
   "source": [
    "b['a']"
   ]
  },
  {
   "cell_type": "code",
   "execution_count": null,
   "metadata": {},
   "outputs": [],
   "source": [
    "a = np.unique(res[0][1])"
   ]
  },
  {
   "cell_type": "code",
   "execution_count": null,
   "metadata": {},
   "outputs": [],
   "source": [
    "a.sort()"
   ]
  },
  {
   "cell_type": "code",
   "execution_count": null,
   "metadata": {},
   "outputs": [],
   "source": [
    "a[::-1]"
   ]
  },
  {
   "cell_type": "code",
   "execution_count": null,
   "metadata": {},
   "outputs": [],
   "source": [
    "np.flip(a, axis=0)"
   ]
  },
  {
   "cell_type": "code",
   "execution_count": null,
   "metadata": {},
   "outputs": [],
   "source": [
    "np.unique([1,0])"
   ]
  },
  {
   "cell_type": "code",
   "execution_count": null,
   "metadata": {},
   "outputs": [],
   "source": [
    "evals"
   ]
  },
  {
   "cell_type": "code",
   "execution_count": null,
   "metadata": {},
   "outputs": [],
   "source": [
    "__"
   ]
  },
  {
   "cell_type": "code",
   "execution_count": null,
   "metadata": {},
   "outputs": [],
   "source": [
    "samples[]"
   ]
  },
  {
   "cell_type": "code",
   "execution_count": null,
   "metadata": {},
   "outputs": [],
   "source": [
    "__"
   ]
  },
  {
   "cell_type": "code",
   "execution_count": null,
   "metadata": {},
   "outputs": [],
   "source": [
    "a = {'a':1 , 'b': 2, 'c': 3}"
   ]
  },
  {
   "cell_type": "code",
   "execution_count": null,
   "metadata": {},
   "outputs": [],
   "source": [
    "len(a)"
   ]
  },
  {
   "cell_type": "code",
   "execution_count": null,
   "metadata": {},
   "outputs": [],
   "source": [
    "a[0]"
   ]
  },
  {
   "cell_type": "code",
   "execution_count": null,
   "metadata": {},
   "outputs": [],
   "source": [
    "a = [3,2,1]"
   ]
  },
  {
   "cell_type": "code",
   "execution_count": null,
   "metadata": {},
   "outputs": [],
   "source": [
    "a.sort()"
   ]
  },
  {
   "cell_type": "code",
   "execution_count": null,
   "metadata": {},
   "outputs": [],
   "source": [
    "a"
   ]
  },
  {
   "cell_type": "code",
   "execution_count": null,
   "metadata": {},
   "outputs": [],
   "source": [
    "my_log_kdes.simulator_info"
   ]
  },
  {
   "cell_type": "code",
   "execution_count": null,
   "metadata": {},
   "outputs": [],
   "source": [
    "{'a': 3}.append({'c1': 1, 'c2': 0.5})"
   ]
  },
  {
   "cell_type": "code",
   "execution_count": 7,
   "metadata": {},
   "outputs": [
    {
     "name": "stdout",
     "output_type": "stream",
     "text": [
      "<function my_boundary at 0x1a187a39d8>\n"
     ]
    }
   ],
   "source": [
    "print(my_boundary)"
   ]
  },
  {
   "cell_type": "code",
   "execution_count": 10,
   "metadata": {},
   "outputs": [
    {
     "name": "stdout",
     "output_type": "stream",
     "text": [
      "def my_boundary(t = 1, \n",
      "                c1 = 1,\n",
      "                c2 = 1):\n",
      "    return [- c2 - np.exp(- t * c1), + c2 + np.exp(- t * c1)]\n",
      "\n"
     ]
    }
   ],
   "source": [
    "import inspect\n",
    "code, line_no = inspect.getsourcelines(my_boundary)\n",
    "print(''.join(code))"
   ]
  },
  {
   "cell_type": "code",
   "execution_count": 12,
   "metadata": {},
   "outputs": [],
   "source": [
    "from mpl_toolkits.mplot3d import Axes3D"
   ]
  },
  {
   "cell_type": "code",
   "execution_count": 15,
   "metadata": {},
   "outputs": [
    {
     "data": {
      "text/plain": [
       "<mpl_toolkits.mplot3d.art3d.Poly3DCollection at 0x1a1a9c0fd0>"
      ]
     },
     "execution_count": 15,
     "metadata": {},
     "output_type": "execute_result"
    },
    {
     "data": {
      "image/png": "[encoded data removed]",
      "text/plain": [
       "<Figure size 432x288 with 1 Axes>"
      ]
     },
     "metadata": {},
     "output_type": "display_data"
    }
   ],
   "source": [
    "fig = plt.figure()\n",
    "ax = fig.gca(projection = '3d')\n",
    "ax.plot_trisurf(np.random.uniform(high=1, low = 0, size = 10000),\n",
    "                np.random.uniform(high=1, low = 0, size = 10000),\n",
    "                np.random.uniform(high=1, low = 0, size = 10000))"
   ]
  },
  {
   "cell_type": "code",
   "execution_count": null,
   "metadata": {},
   "outputs": [],
   "source": []
  }
 ],
 "metadata": {
  "kernelspec": {
   "display_name": "Python [conda root]",
   "language": "python",
   "name": "conda-root-py"
  },
  "language_info": {
   "codemirror_mode": {
    "name": "ipython",
    "version": 3
   },
   "file_extension": ".py",
   "mimetype": "text/x-python",
   "name": "python",
   "nbconvert_exporter": "python",
   "pygments_lexer": "ipython3",
   "version": "3.6.1"
  }
 },
 "nbformat": 4,
 "nbformat_minor": 2
}
