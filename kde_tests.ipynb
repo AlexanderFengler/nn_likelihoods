{
 "cells": [
  {
   "cell_type": "code",
   "execution_count": 2,
   "metadata": {},
   "outputs": [],
   "source": [
    "import cddm_data_simulation as ddm_sim\n",
    "import scipy as scp\n",
    "import tensorflow as tf\n",
    "from scipy.stats import gamma\n",
    "import numpy as np\n",
    "import pandas as pd\n",
    "import matplotlib.pyplot as plt\n",
    "from sklearn.neighbors import KernelDensity\n",
    "import random\n",
    "#import kde_class\n",
    "import multiprocessing as mp\n",
    "import psutil\n",
    "import pickle \n",
    "import os\n",
    "import re\n",
    "\n",
    "import kde_training_utilities as kde_util\n",
    "import kde_class as kde\n",
    "import boundary_functions as bf"
   ]
  },
  {
   "cell_type": "code",
   "execution_count": 59,
   "metadata": {},
   "outputs": [],
   "source": [
    "# Simulate from Standard DDM\n",
    "my_samples = ddm_sim.ddm_flexbound(v = 2, \n",
    "                                   a = 0.6, \n",
    "                                   w = 0.5, \n",
    "                                   ndt = 1,\n",
    "                                   s = 1,\n",
    "                                   boundary_fun = bf.constant,\n",
    "                                   boundary_multiplicative = True,\n",
    "                                   delta_t = 0.01,\n",
    "                                   max_t = 20,\n",
    "                                   n_samples = 20000,\n",
    "                                   print_info = True)"
   ]
  },
  {
   "cell_type": "code",
   "execution_count": 60,
   "metadata": {},
   "outputs": [],
   "source": [
    "# Set up KDE \n",
    "my_log_kdes = kde.logkde(my_samples)\n",
    "dat_eval = np.arange(0.0001, 3, 0.01)\n",
    "dat_eval_len = len(dat_eval)\n",
    "\n",
    "# Evaluations on positive and negative axes\n",
    "evals_p1 = my_log_kdes.kde_eval(data = (dat_eval, \n",
    "                                        np.repeat(1, dat_eval_len)),\n",
    "                                log_eval = False)\n",
    "\n",
    "evals_m1 = my_log_kdes.kde_eval(data = (dat_eval, \n",
    "                                        np.repeat(-1, dat_eval_len)),\n",
    "                               log_eval = False)\n"
   ]
  },
  {
   "cell_type": "code",
   "execution_count": 61,
   "metadata": {},
   "outputs": [
    {
     "data": {
      "text/plain": [
       "(array([3.08166579e-04, 6.16333158e-04, 1.23266632e-03, 2.15716605e-03,\n",
       "        3.08166579e-03, 1.26348297e-02, 2.12634940e-02, 4.19106548e-02,\n",
       "        1.04468470e-01, 1.84283614e-01, 2.68104924e-02, 0.00000000e+00,\n",
       "        0.00000000e+00, 0.00000000e+00, 0.00000000e+00, 0.00000000e+00,\n",
       "        0.00000000e+00, 0.00000000e+00, 0.00000000e+00, 0.00000000e+00,\n",
       "        0.00000000e+00, 0.00000000e+00, 0.00000000e+00, 1.94576378e+00,\n",
       "        1.99291327e+00, 9.79661555e-01, 4.74576532e-01, 1.98151110e-01,\n",
       "        9.58398061e-02, 4.00616553e-02, 2.03389942e-02, 8.93683080e-03,\n",
       "        3.38983237e-03, 2.15716605e-03, 1.84899948e-03, 6.16333158e-04,\n",
       "        0.00000000e+00, 0.00000000e+00, 0.00000000e+00, 3.08166579e-04]),\n",
       " array([-2.72999859, -2.56774868, -2.40549877, -2.24324886, -2.08099895,\n",
       "        -1.91874903, -1.75649912, -1.59424921, -1.4319993 , -1.26974939,\n",
       "        -1.10749948, -0.94524957, -0.78299966, -0.62074975, -0.45849984,\n",
       "        -0.29624993, -0.13400002,  0.0282499 ,  0.19049981,  0.35274972,\n",
       "         0.51499963,  0.67724954,  0.83949945,  1.00174936,  1.16399927,\n",
       "         1.32624918,  1.48849909,  1.650749  ,  1.81299891,  1.97524883,\n",
       "         2.13749874,  2.29974865,  2.46199856,  2.62424847,  2.78649838,\n",
       "         2.94874829,  3.1109982 ,  3.27324811,  3.43549802,  3.59774793,\n",
       "         3.75999784]),\n",
       " <a list of 40 Patch objects>)"
      ]
     },
     "execution_count": 61,
     "metadata": {},
     "output_type": "execute_result"
    },
    {
     "data": {
      "image/png": "[encoded data removed]",
      "text/plain": [
       "<Figure size 432x288 with 1 Axes>"
      ]
     },
     "metadata": {
      "needs_background": "light"
     },
     "output_type": "display_data"
    }
   ],
   "source": [
    "plt.plot(dat_eval, evals_p1)\n",
    "plt.plot(-dat_eval, evals_m1)\n",
    "plt.hist(my_samples[0] * my_samples[1], bins = 40, density = True)"
   ]
  },
  {
   "cell_type": "code",
   "execution_count": null,
   "metadata": {},
   "outputs": [],
   "source": [
    "# Flexible \n",
    "v          0.532478\n",
    "a          4.135571\n",
    "w          0.332414\n",
    "node       1.684656\n",
    "theta      0.001445\n",
    "rt        54.513734\n",
    "choice    -1.000000"
   ]
  },
  {
   "cell_type": "code",
   "execution_count": 17,
   "metadata": {},
   "outputs": [
    {
     "name": "stdout",
     "output_type": "stream",
     "text": [
      "0  datapoints sampled\n",
      "1000  datapoints sampled\n",
      "2000  datapoints sampled\n"
     ]
    }
   ],
   "source": [
    "# Flexible bounds\n",
    "# Simulations\n",
    "process_params = {'v': 0.532478, \n",
    "                  'a': 4.135571, \n",
    "                  'w': 0.332413}\n",
    "\n",
    "simulator_params = {'s': 1,\n",
    "                    'delta_t': 0.01,\n",
    "                    'max_t': 20, \n",
    "                    'n_samples': 3000,\n",
    "                    'print_info': True}\n",
    "\n",
    "boundary_params = {'boundary_fun': bf.linear_collapse, \n",
    "                   'boundary_multiplicative': False, \n",
    "                   'boundary_params':  {'node': 1.684656, 'theta': 0.001445}}\n",
    "\n",
    "my_samples_flexb  = ddm_sim.ddm_flexbound_simulate(**process_params,\n",
    "                                                   **simulator_params,\n",
    "                                                   ** boundary_params)"
   ]
  },
  {
   "cell_type": "code",
   "execution_count": 16,
   "metadata": {},
   "outputs": [
    {
     "data": {
      "text/plain": [
       "20"
      ]
     },
     "execution_count": 16,
     "metadata": {},
     "output_type": "execute_result"
    }
   ],
   "source": [
    "my_samples_flexb[2]['max_t']"
   ]
  },
  {
   "cell_type": "code",
   "execution_count": 19,
   "metadata": {},
   "outputs": [],
   "source": [
    "# Set up KDE \n",
    "my_log_kdes_flexb = kde.logkde(my_samples_flexb)\n",
    "dat_eval = np.arange(0.0001, 5, 0.01)\n",
    "dat_eval_len = len(dat_eval)\n",
    "\n",
    "# Evaluations on positive and negative axes\n",
    "evals_p1 = my_log_kdes_flexb.kde_eval(data = (dat_eval, \n",
    "                                        np.repeat(1, dat_eval_len)),\n",
    "                                log_eval = False)\n",
    "\n",
    "evals_m1 = my_log_kdes_flexb.kde_eval(data = (dat_eval, \n",
    "                                        np.repeat(-1, dat_eval_len)),\n",
    "                               log_eval = False)"
   ]
  },
  {
   "cell_type": "code",
   "execution_count": 20,
   "metadata": {},
   "outputs": [
    {
     "data": {
      "text/plain": [
       "(array([0.00625, 0.00025, 0.00025, 0.00025, 0.00025, 0.00175, 0.00175,\n",
       "        0.001  , 0.00075, 0.0015 , 0.00375, 0.004  , 0.0085 , 0.00825,\n",
       "        0.00275, 0.     , 0.0085 , 0.045  , 0.07975, 0.091  , 0.09125,\n",
       "        0.09075, 0.072  , 0.054  , 0.04175, 0.037  , 0.025  , 0.02225,\n",
       "        0.01225, 0.03825]),\n",
       " array([-20.        , -18.66666667, -17.33333333, -16.        ,\n",
       "        -14.66666667, -13.33333333, -12.        , -10.66666667,\n",
       "         -9.33333333,  -8.        ,  -6.66666667,  -5.33333333,\n",
       "         -4.        ,  -2.66666667,  -1.33333333,   0.        ,\n",
       "          1.33333333,   2.66666667,   4.        ,   5.33333333,\n",
       "          6.66666667,   8.        ,   9.33333333,  10.66666667,\n",
       "         12.        ,  13.33333333,  14.66666667,  16.        ,\n",
       "         17.33333333,  18.66666667,  20.        ]),\n",
       " <a list of 30 Patch objects>)"
      ]
     },
     "execution_count": 20,
     "metadata": {},
     "output_type": "execute_result"
    },
    {
     "data": {
      "image/png": "[encoded data removed]",
      "text/plain": [
       "<Figure size 432x288 with 1 Axes>"
      ]
     },
     "metadata": {},
     "output_type": "display_data"
    }
   ],
   "source": [
    "# Plot data and kde\n",
    "plt.plot(dat_eval, evals_p1)\n",
    "plt.plot(-dat_eval, evals_m1)\n",
    "plt.hist(my_samples_flexb[0] * my_samples_flexb[1], bins = 30, density = True)"
   ]
  },
  {
   "cell_type": "code",
   "execution_count": 18,
   "metadata": {},
   "outputs": [
    {
     "data": {
      "text/plain": [
       "[<matplotlib.lines.Line2D at 0x7fb7cacaeeb8>]"
      ]
     },
     "execution_count": 18,
     "metadata": {},
     "output_type": "execute_result"
    },
    {
     "data": {
      "image/png": "[encoded data removed]",
      "text/plain": [
       "<Figure size 432x288 with 1 Axes>"
      ]
     },
     "metadata": {
      "needs_background": "light"
     },
     "output_type": "display_data"
    }
   ],
   "source": [
    "# Plot bound\n",
    "t_s = np.arange(0, 5, 0.01)\n",
    "boundary = np.zeros((len(t_s),2))\n",
    "#a = process_params['a']\n",
    "\n",
    "cnt = 0\n",
    "for i in t_s:\n",
    "    b = 2 + bf.weibull_cdf(t = i, alpha = 5, beta = 2)\n",
    "    if b <= 0:\n",
    "        boundary[cnt, 0] = 0\n",
    "        boundary[cnt, 1] = 0\n",
    "    else: \n",
    "        boundary[cnt, 0] = b\n",
    "        boundary[cnt, 1] = - boundary[cnt, 0]\n",
    "    cnt += 1\n",
    "\n",
    "plt.plot(t_s, boundary[:, 0])\n",
    "#plt.plot(t_s, boundary[:, 1]) "
   ]
  },
  {
   "cell_type": "code",
   "execution_count": null,
   "metadata": {},
   "outputs": [],
   "source": [
    "#kde_samples = \n",
    "kde_samples = my_log_kdes_flexb.kde_sample(n_samples = 10000)\n",
    "plt.hist(kde_samples[0]*kde_samples[1], color = 'blue', alpha = 0.3, density = True, bins = 50)\n",
    "plt.hist(my_samples_flexb[0] * my_samples_flexb[1], color = 'green', alpha = 0.3, density = True, bins = 50)\n",
    "#plt.hist(my_samples[0], color = 'blue', alpha = 0.3, density = True, bins = 50)"
   ]
  },
  {
   "cell_type": "code",
   "execution_count": null,
   "metadata": {},
   "outputs": [],
   "source": [
    "# Simulate: lca\n",
    "# Get samples\n",
    "my_samples_lca  = ddm_sim.lca(v = np.array([1, 0.5, 0.0, 0.0, 0.0], ndmin = 2).T,\n",
    "                              w = np.array([0.0, 0.0, 0.0, 0.0, 0.0], ndmin = 2).T, \n",
    "                              a = 2,\n",
    "                              b = 1.0,\n",
    "                              g = 0.1,\n",
    "                              s = 1.0,\n",
    "                              delta_t = 0.001,\n",
    "                              max_t = 20,\n",
    "                              n_samples = 3000,\n",
    "                              print_info = True)"
   ]
  },
  {
   "cell_type": "code",
   "execution_count": null,
   "metadata": {},
   "outputs": [],
   "source": [
    "# Make kde \n",
    "choices = np.unique(my_samples_lca[1])\n",
    "my_lca_kdes = kde_class.logkde()\n",
    "my_lca_kdes.attach_data_from_simulator(simulator_data = my_samples_lca)\n",
    "my_lca_kdes.generate_base_kdes()\n",
    "evals = my_lca_kdes.kde_eval(where  = np.expand_dims(np.linspace(0.00001, 10, num = 500),\n",
    "                                                     axis = 1), \n",
    "                             which = choices)"
   ]
  },
  {
   "cell_type": "code",
   "execution_count": null,
   "metadata": {},
   "outputs": [],
   "source": [
    "from mpl_toolkits.mplot3d import Axes3D"
   ]
  },
  {
   "cell_type": "code",
   "execution_count": null,
   "metadata": {},
   "outputs": [],
   "source": [
    "fig = plt.figure()\n",
    "ax = fig.gca(projection = '3d')\n",
    "ax.plot_trisurf(np.random.uniform(high=1, low = 0, size = 10000),\n",
    "                np.random.uniform(high=1, low = 0, size = 10000),\n",
    "                np.random.uniform(high=1, low = 0, size = 10000))"
   ]
  },
  {
   "cell_type": "code",
   "execution_count": null,
   "metadata": {},
   "outputs": [],
   "source": [
    "from_folder = os.getcwd() + '/data_storage/kde/base_simulations/'\n",
    "file_list = os.listdir(from_folder)\n",
    "\n",
    "cnt = 0\n",
    "forensics_data = dict(v = [], a = [])\n",
    "for file_ in file_list:\n",
    "    sim_dat = pickle.load( open( from_folder + file_, \"rb\" ) )\n",
    "    if np.sum(sim_dat[1] == 1) == 0 or np.sum(sim_dat[1] == -1) == 0:\n",
    "        print('cnt', cnt)\n",
    "        print('no data for some choice')\n",
    "        print(sim_dat[2])\n",
    "        forensics_data['v'].append(sim_dat[2]['v:'])\n",
    "        forensics_data['a'].append(sim_dat[2]['a'])\n",
    "        \n",
    "#     print('count:', cnt)\n",
    "#     print('c minus 1:', kde.bandwidth_silverman(sim_dat[0][sim_dat[1] == -1]))\n",
    "#     print('c 1:',kde.bandwidth_silverman(sim_dat[0][sim_dat[1] == 1]))\n",
    "    cnt += 1\n",
    "    if cnt % 1000 == 0: \n",
    "        print('1000 files opened')\n",
    "#to_folder = os.getcwd() + '/data_storage/kde/kde_base_dat/'\n",
    "# a = kde_util.generate_training_base_kde(from_folder = from_folder,\n",
    "#                                         to_folder = to_folder)\n",
    "\n",
    "\n",
    "#kde.bandwidth_silverman(sim_dat[0][sim_dat[1] == -1])"
   ]
  },
  {
   "cell_type": "code",
   "execution_count": null,
   "metadata": {},
   "outputs": [],
   "source": [
    "#pickle.dump([1, 2, my_lca_kdes], open( \"save.p\", \"wb\" ) )\n",
    "\n",
    "\n",
    "from_folder = os.getcwd() + '/data_storage/kde/base_simulations/'\n",
    "file_list = os.listdir(from_folder)\n",
    "\n",
    "cnt = 0\n",
    "forensics_data = dict(v = [], a = [])\n",
    "for file_ in file_list:\n",
    "    sim_dat = pickle.load( open( from_folder + file_, \"rb\" ) )\n",
    "    sim_dat[2]['v'] = sim_dat[2]['v:']\n",
    "    del sim_dat[2]['v:']\n",
    "    sim_dat[2]['possible_choices'] = [-1., 1.]\n",
    "    \n",
    "    pickle.dump(sim_dat, open( from_folder + file_[:21] + '_' + file_[21:], \"wb\" ) )\n",
    "    print(cnt)\n",
    "    cnt += 1\n",
    "#to_folder = os.getcwd() + '/data_storage/kde/kde_base_dat/'\n",
    "# a = kde_util.generate_training_base_kde(from_folder = from_folder,\n",
    "#                                         to_folder = to_folder)\n",
    "\n",
    "\n",
    "#kde.bandwidth_silverman(sim_dat[0][sim_dat[1] == -1])"
   ]
  },
  {
   "cell_type": "code",
   "execution_count": null,
   "metadata": {},
   "outputs": [],
   "source": [
    "#pickle.dump([1, 2, my_lca_kdes], open( \"save.p\", \"wb\" ) )\n",
    "\n",
    "\n",
    "from_folder = os.getcwd() + '/data_storage/kde/base_simulations/'\n",
    "file_list = os.listdir(from_folder)\n",
    "\n",
    "cnt = 0\n",
    "forensics_data = dict(v = [], a = [])\n",
    "for file_ in file_list:\n",
    "    char_cnt = 0\n",
    "    for i in file_[::-1]:\n",
    "        if i == '_':\n",
    "            print(char_cnt)\n",
    "            break\n",
    "        char_cnt += 1\n",
    "    \n",
    "    if char_cnt == 41:\n",
    "        os.remove(from_folder + file_)\n",
    "        print('removed:', file_)\n",
    "    else:\n",
    "        print('kept:', file_)\n",
    "#     sim_dat = pickle.load( open( from_folder + file_, \"rb\" ) )\n",
    "#     sim_dat[2]['v'] = sim_dat[2]['v:']\n",
    "#     del sim_dat[2]['v:']\n",
    "#     sim_dat[2]['possible_choices'] = [-1., 1.]\n",
    "    \n",
    "#     pickle.dump(sim_dat, open( from_folder + file_[:21] + '_' + file_[21:], \"wb\" ) )\n",
    "    \n",
    "    print(cnt)\n",
    "    cnt += 1\n",
    "#to_folder = os.getcwd() + '/data_storage/kde/kde_base_dat/'\n",
    "# a = kde_util.generate_training_base_kde(from_folder = from_folder,\n",
    "#                                         to_folder = to_folder)\n",
    "\n",
    "\n",
    "#kde.bandwidth_silverman(sim_dat[0][sim_dat[1] == -1])"
   ]
  },
  {
   "cell_type": "code",
   "execution_count": 26,
   "metadata": {},
   "outputs": [
    {
     "data": {
      "text/plain": [
       "array([[0.69314718, 1.        , 2.        , 3.        ]])"
      ]
     },
     "execution_count": 26,
     "metadata": {},
     "output_type": "execute_result"
    }
   ],
   "source": [
    "np.maximum(np.array([[0,1,2,3]]), np.log(2))\n"
   ]
  },
  {
   "cell_type": "code",
   "execution_count": null,
   "metadata": {},
   "outputs": [],
   "source": []
  }
 ],
 "metadata": {
  "kernelspec": {
   "display_name": "Python 3",
   "language": "python",
   "name": "python3"
  },
  "language_info": {
   "codemirror_mode": {
    "name": "ipython",
    "version": 3
   },
   "file_extension": ".py",
   "mimetype": "text/x-python",
   "name": "python",
   "nbconvert_exporter": "python",
   "pygments_lexer": "ipython3",
   "version": "3.7.3"
  }
 },
 "nbformat": 4,
 "nbformat_minor": 2
}
