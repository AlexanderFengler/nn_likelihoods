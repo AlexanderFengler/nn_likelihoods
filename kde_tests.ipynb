{
 "cells": [
  {
   "cell_type": "code",
   "execution_count": 1,
   "metadata": {},
   "outputs": [],
   "source": [
    "import ddm_data_simulation as ddm_sim\n",
    "import scipy as scp\n",
    "import tensorflow as tf\n",
    "from scipy.stats import gamma\n",
    "import numpy as np\n",
    "import pandas as pd\n",
    "import matplotlib.pyplot as plt\n",
    "from sklearn.neighbors import KernelDensity\n",
    "import random\n",
    "#import kde_class\n",
    "import multiprocessing as mp\n",
    "import psutil\n",
    "import pickle \n",
    "import os\n",
    "import re\n",
    "\n",
    "import kde_training_utilities as kde_util\n",
    "import kde_class as kde\n",
    "import boundary_functions as bf"
   ]
  },
  {
   "cell_type": "code",
   "execution_count": null,
   "metadata": {},
   "outputs": [],
   "source": [
    "# Simulate from Standard DDM\n",
    "my_samples = ddm_sim.ddm_simulate(v = 0, \n",
    "                                  a = 3, \n",
    "                                  w = 0.5, \n",
    "                                  s = 1,\n",
    "                                  delta_t = 0.01,\n",
    "                                  max_t = 20,\n",
    "                                  n_samples = 10000,\n",
    "                                  print_info = True)"
   ]
  },
  {
   "cell_type": "code",
   "execution_count": null,
   "metadata": {},
   "outputs": [],
   "source": [
    "# Set up KDE \n",
    "my_log_kdes = kde.logkde(my_samples)\n",
    "dat_eval = np.arange(0.0001, 20, 0.01)\n",
    "dat_eval_len = len(dat_eval)\n",
    "\n",
    "# Evaluations on positive and negative axes\n",
    "evals_p1 = my_log_kdes.kde_eval(data = (dat_eval, \n",
    "                                        np.repeat(1, dat_eval_len)),\n",
    "                                log_eval = False)\n",
    "\n",
    "evals_m1 = my_log_kdes.kde_eval(data = (dat_eval, \n",
    "                                        np.repeat(-1, dat_eval_len)),\n",
    "                               log_eval = False)\n"
   ]
  },
  {
   "cell_type": "code",
   "execution_count": null,
   "metadata": {},
   "outputs": [],
   "source": [
    "plt.plot(dat_eval, evals_p1)\n",
    "plt.plot(-dat_eval, evals_m1)\n",
    "plt.hist(my_samples[0] * my_samples[1], bins = 30, density = True)"
   ]
  },
  {
   "cell_type": "code",
   "execution_count": null,
   "metadata": {},
   "outputs": [],
   "source": [
    "# Flexible \n"
   ]
  },
  {
   "cell_type": "code",
   "execution_count": 7,
   "metadata": {},
   "outputs": [
    {
     "name": "stdout",
     "output_type": "stream",
     "text": [
      "0  datapoints sampled\n",
      "1000  datapoints sampled\n",
      "2000  datapoints sampled\n"
     ]
    }
   ],
   "source": [
    "# Flexible bounds\n",
    "# Simulations\n",
    "process_params = {'v': 0.5, \n",
    "                  'a': 2, \n",
    "                  'w': 0.5}\n",
    "\n",
    "simulator_params = {'s':1,\n",
    "                    'delta_t': 0.001,\n",
    "                    'max_t': 20, \n",
    "                    'n_samples': 3000,\n",
    "                    'print_info': True}\n",
    "\n",
    "boundary_params = {'boundary_fun': bf.weibull_bnd, \n",
    "                   'boundary_multiplicative': False, \n",
    "                   'boundary_params':  {'node': 1, 'shape': 2, 'scale': 1}}\n",
    "\n",
    "my_samples_flexb  = ddm_sim.ddm_flexbound_simulate(**process_params,\n",
    "                                                   **simulator_params,\n",
    "                                                   ** boundary_params)"
   ]
  },
  {
   "cell_type": "code",
   "execution_count": 11,
   "metadata": {},
   "outputs": [],
   "source": [
    "# Set up KDE \n",
    "my_log_kdes_flexb = kde.logkde(my_samples_flexb)\n",
    "dat_eval = np.arange(0.0001, 20, 0.01)\n",
    "dat_eval_len = len(dat_eval)\n",
    "\n",
    "# Evaluations on positive and negative axes\n",
    "evals_p1 = my_log_kdes_flexb.kde_eval(data = (dat_eval, \n",
    "                                        np.repeat(1, dat_eval_len)),\n",
    "                                log_eval = False)\n",
    "\n",
    "evals_m1 = my_log_kdes_flexb.kde_eval(data = (dat_eval, \n",
    "                                        np.repeat(-1, dat_eval_len)),\n",
    "                               log_eval = False)"
   ]
  },
  {
   "cell_type": "code",
   "execution_count": 12,
   "metadata": {},
   "outputs": [
    {
     "data": {
      "text/plain": [
       "(array([0.00088062, 0.00088062, 0.00029354, 0.00088062, 0.00117416,\n",
       "        0.00264185, 0.00499017, 0.00763202, 0.00851264, 0.00968679,\n",
       "        0.0202542 , 0.02084128, 0.01174157, 0.01761235, 0.13062494,\n",
       "        0.24128922, 0.17905891, 0.0883553 , 0.0531306 , 0.03228931,\n",
       "        0.01408988, 0.01262219, 0.00939325, 0.00587078, 0.00352247,\n",
       "        0.00088062, 0.00029354, 0.00029354, 0.        , 0.00088062]),\n",
       " array([-15.328     , -14.19243333, -13.05686667, -11.9213    ,\n",
       "        -10.78573333,  -9.65016667,  -8.5146    ,  -7.37903333,\n",
       "         -6.24346667,  -5.1079    ,  -3.97233333,  -2.83676667,\n",
       "         -1.7012    ,  -0.56563333,   0.56993333,   1.7055    ,\n",
       "          2.84106667,   3.97663333,   5.1122    ,   6.24776667,\n",
       "          7.38333333,   8.5189    ,   9.65446667,  10.79003333,\n",
       "         11.9256    ,  13.06116667,  14.19673333,  15.3323    ,\n",
       "         16.46786667,  17.60343333,  18.739     ]),\n",
       " <a list of 30 Patch objects>)"
      ]
     },
     "execution_count": 12,
     "metadata": {},
     "output_type": "execute_result"
    },
    {
     "data": {
      "image/png": "[encoded data removed]",
      "text/plain": [
       "<Figure size 432x288 with 1 Axes>"
      ]
     },
     "metadata": {},
     "output_type": "display_data"
    }
   ],
   "source": [
    "# Plot data and kde\n",
    "plt.plot(dat_eval, evals_p1)\n",
    "plt.plot(-dat_eval, evals_m1)\n",
    "plt.hist(my_samples_flexb[0] * my_samples_flexb[1], bins = 30, density = True)"
   ]
  },
  {
   "cell_type": "code",
   "execution_count": 13,
   "metadata": {},
   "outputs": [
    {
     "data": {
      "text/plain": [
       "[<matplotlib.lines.Line2D at 0x7fd12525c198>]"
      ]
     },
     "execution_count": 13,
     "metadata": {},
     "output_type": "execute_result"
    },
    {
     "data": {
      "image/png": "[encoded data removed]",
      "text/plain": [
       "<Figure size 432x288 with 1 Axes>"
      ]
     },
     "metadata": {},
     "output_type": "display_data"
    }
   ],
   "source": [
    "# Plot bound\n",
    "t_s = np.arange(0, 5, 0.01)\n",
    "boundary = np.zeros((len(t_s),2))\n",
    "a = process_params['a']\n",
    "\n",
    "cnt = 0\n",
    "for i in t_s:\n",
    "    b = a + bf.weibull_bnd(t = i,\n",
    "                       **boundary_params['boundary_params'])\n",
    "    if b <= 0:\n",
    "        boundary[cnt, 0] = 0\n",
    "        boundary[cnt, 1] = 0\n",
    "    else: \n",
    "        boundary[cnt, 0] = b\n",
    "        boundary[cnt, 1] = - boundary[cnt, 0]\n",
    "    cnt += 1\n",
    "\n",
    "plt.plot(t_s, boundary[:, 0])\n",
    "plt.plot(t_s, boundary[:, 1]) "
   ]
  },
  {
   "cell_type": "code",
   "execution_count": null,
   "metadata": {},
   "outputs": [],
   "source": [
    "#kde_samples = \n",
    "kde_samples = my_log_kdes_flexb.kde_sample(n_samples = 10000)\n",
    "plt.hist(kde_samples[0]*kde_samples[1], color = 'blue', alpha = 0.3, density = True, bins = 50)\n",
    "plt.hist(my_samples_flexb[0] * my_samples_flexb[1], color = 'green', alpha = 0.3, density = True, bins = 50)\n",
    "#plt.hist(my_samples[0], color = 'blue', alpha = 0.3, density = True, bins = 50)"
   ]
  },
  {
   "cell_type": "code",
   "execution_count": null,
   "metadata": {},
   "outputs": [],
   "source": [
    "# Simulate: lca\n",
    "# Get samples\n",
    "my_samples_lca  = ddm_sim.lca(v = np.array([1, 0.5, 0.0, 0.0, 0.0], ndmin = 2).T,\n",
    "                              w = np.array([0.0, 0.0, 0.0, 0.0, 0.0], ndmin = 2).T, \n",
    "                              a = 2,\n",
    "                              b = 1.0,\n",
    "                              g = 0.1,\n",
    "                              s = 1.0,\n",
    "                              delta_t = 0.001,\n",
    "                              max_t = 20,\n",
    "                              n_samples = 3000,\n",
    "                              print_info = True)"
   ]
  },
  {
   "cell_type": "code",
   "execution_count": null,
   "metadata": {},
   "outputs": [],
   "source": [
    "# Make kde \n",
    "choices = np.unique(my_samples_lca[1])\n",
    "my_lca_kdes = kde_class.logkde()\n",
    "my_lca_kdes.attach_data_from_simulator(simulator_data = my_samples_lca)\n",
    "my_lca_kdes.generate_base_kdes()\n",
    "evals = my_lca_kdes.kde_eval(where  = np.expand_dims(np.linspace(0.00001, 10, num = 500),\n",
    "                                                     axis = 1), \n",
    "                             which = choices)"
   ]
  },
  {
   "cell_type": "code",
   "execution_count": null,
   "metadata": {},
   "outputs": [],
   "source": [
    "from mpl_toolkits.mplot3d import Axes3D"
   ]
  },
  {
   "cell_type": "code",
   "execution_count": null,
   "metadata": {},
   "outputs": [],
   "source": [
    "fig = plt.figure()\n",
    "ax = fig.gca(projection = '3d')\n",
    "ax.plot_trisurf(np.random.uniform(high=1, low = 0, size = 10000),\n",
    "                np.random.uniform(high=1, low = 0, size = 10000),\n",
    "                np.random.uniform(high=1, low = 0, size = 10000))"
   ]
  },
  {
   "cell_type": "code",
   "execution_count": null,
   "metadata": {},
   "outputs": [],
   "source": [
    "from_folder = os.getcwd() + '/data_storage/kde/base_simulations/'\n",
    "file_list = os.listdir(from_folder)\n",
    "\n",
    "cnt = 0\n",
    "forensics_data = dict(v = [], a = [])\n",
    "for file_ in file_list:\n",
    "    sim_dat = pickle.load( open( from_folder + file_, \"rb\" ) )\n",
    "    if np.sum(sim_dat[1] == 1) == 0 or np.sum(sim_dat[1] == -1) == 0:\n",
    "        print('cnt', cnt)\n",
    "        print('no data for some choice')\n",
    "        print(sim_dat[2])\n",
    "        forensics_data['v'].append(sim_dat[2]['v:'])\n",
    "        forensics_data['a'].append(sim_dat[2]['a'])\n",
    "        \n",
    "#     print('count:', cnt)\n",
    "#     print('c minus 1:', kde.bandwidth_silverman(sim_dat[0][sim_dat[1] == -1]))\n",
    "#     print('c 1:',kde.bandwidth_silverman(sim_dat[0][sim_dat[1] == 1]))\n",
    "    cnt += 1\n",
    "    if cnt % 1000 == 0: \n",
    "        print('1000 files opened')\n",
    "#to_folder = os.getcwd() + '/data_storage/kde/kde_base_dat/'\n",
    "# a = kde_util.generate_training_base_kde(from_folder = from_folder,\n",
    "#                                         to_folder = to_folder)\n",
    "\n",
    "\n",
    "#kde.bandwidth_silverman(sim_dat[0][sim_dat[1] == -1])"
   ]
  },
  {
   "cell_type": "code",
   "execution_count": null,
   "metadata": {},
   "outputs": [],
   "source": [
    "#pickle.dump([1, 2, my_lca_kdes], open( \"save.p\", \"wb\" ) )\n",
    "\n",
    "\n",
    "from_folder = os.getcwd() + '/data_storage/kde/base_simulations/'\n",
    "file_list = os.listdir(from_folder)\n",
    "\n",
    "cnt = 0\n",
    "forensics_data = dict(v = [], a = [])\n",
    "for file_ in file_list:\n",
    "    sim_dat = pickle.load( open( from_folder + file_, \"rb\" ) )\n",
    "    sim_dat[2]['v'] = sim_dat[2]['v:']\n",
    "    del sim_dat[2]['v:']\n",
    "    sim_dat[2]['possible_choices'] = [-1., 1.]\n",
    "    \n",
    "    pickle.dump(sim_dat, open( from_folder + file_[:21] + '_' + file_[21:], \"wb\" ) )\n",
    "    print(cnt)\n",
    "    cnt += 1\n",
    "#to_folder = os.getcwd() + '/data_storage/kde/kde_base_dat/'\n",
    "# a = kde_util.generate_training_base_kde(from_folder = from_folder,\n",
    "#                                         to_folder = to_folder)\n",
    "\n",
    "\n",
    "#kde.bandwidth_silverman(sim_dat[0][sim_dat[1] == -1])"
   ]
  },
  {
   "cell_type": "code",
   "execution_count": null,
   "metadata": {},
   "outputs": [],
   "source": [
    "#pickle.dump([1, 2, my_lca_kdes], open( \"save.p\", \"wb\" ) )\n",
    "\n",
    "\n",
    "from_folder = os.getcwd() + '/data_storage/kde/base_simulations/'\n",
    "file_list = os.listdir(from_folder)\n",
    "\n",
    "cnt = 0\n",
    "forensics_data = dict(v = [], a = [])\n",
    "for file_ in file_list:\n",
    "    char_cnt = 0\n",
    "    for i in file_[::-1]:\n",
    "        if i == '_':\n",
    "            print(char_cnt)\n",
    "            break\n",
    "        char_cnt += 1\n",
    "    \n",
    "    if char_cnt == 41:\n",
    "        os.remove(from_folder + file_)\n",
    "        print('removed:', file_)\n",
    "    else:\n",
    "        print('kept:', file_)\n",
    "#     sim_dat = pickle.load( open( from_folder + file_, \"rb\" ) )\n",
    "#     sim_dat[2]['v'] = sim_dat[2]['v:']\n",
    "#     del sim_dat[2]['v:']\n",
    "#     sim_dat[2]['possible_choices'] = [-1., 1.]\n",
    "    \n",
    "#     pickle.dump(sim_dat, open( from_folder + file_[:21] + '_' + file_[21:], \"wb\" ) )\n",
    "    \n",
    "    print(cnt)\n",
    "    cnt += 1\n",
    "#to_folder = os.getcwd() + '/data_storage/kde/kde_base_dat/'\n",
    "# a = kde_util.generate_training_base_kde(from_folder = from_folder,\n",
    "#                                         to_folder = to_folder)\n",
    "\n",
    "\n",
    "#kde.bandwidth_silverman(sim_dat[0][sim_dat[1] == -1])"
   ]
  },
  {
   "cell_type": "code",
   "execution_count": null,
   "metadata": {},
   "outputs": [],
   "source": []
  }
 ],
 "metadata": {
  "kernelspec": {
   "display_name": "tf-gpu",
   "language": "python",
   "name": "tf-gpu"
  },
  "language_info": {
   "codemirror_mode": {
    "name": "ipython",
    "version": 3
   },
   "file_extension": ".py",
   "mimetype": "text/x-python",
   "name": "python",
   "nbconvert_exporter": "python",
   "pygments_lexer": "ipython3",
   "version": "3.6.6"
  }
 },
 "nbformat": 4,
 "nbformat_minor": 2
}
