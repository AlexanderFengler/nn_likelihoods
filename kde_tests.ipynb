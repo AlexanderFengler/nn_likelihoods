{
 "cells": [
  {
   "cell_type": "code",
   "execution_count": null,
   "metadata": {},
   "outputs": [],
   "source": [
    "import ddm_data_simulation as ddm_sim\n",
    "import scipy as scp\n",
    "from scipy.stats import gamma\n",
    "import numpy as np\n",
    "import pandas as pd\n",
    "import matplotlib.pyplot as plt\n",
    "from sklearn.neighbors import KernelDensity\n",
    "#import kde_class\n",
    "import multiprocessing as mp\n",
    "import psutil\n",
    "import pickle \n",
    "import os\n",
    "import re\n",
    "\n",
    "import kde_training_utilities as kde_util\n",
    "import kde_class as kde"
   ]
  },
  {
   "cell_type": "code",
   "execution_count": null,
   "metadata": {},
   "outputs": [],
   "source": [
    "# Simulate a couple samples\n",
    "# Standard DDM\n",
    "my_samples = ddm_sim.ddm_simulate(v = -3, \n",
    "                                  a = 3, \n",
    "                                  w = 0.5, \n",
    "                                  s = 1,\n",
    "                                  delta_t = 0.01,\n",
    "                                  max_t = 20,\n",
    "                                  n_samples = 10000,\n",
    "                                  print_info = True)"
   ]
  },
  {
   "cell_type": "code",
   "execution_count": null,
   "metadata": {},
   "outputs": [],
   "source": []
  },
  {
   "cell_type": "code",
   "execution_count": null,
   "metadata": {},
   "outputs": [],
   "source": [
    "# Set up KDE \n",
    "my_log_kdes = kde.logkde(my_samples)\n",
    "# evals, __ = my_log_kdes.kde_eval(where  = np.expand_dims(np.linspace(0.00001, 10, num = 500),\n",
    "#                                                       axis = 1), \n",
    "#                               which = [1, -1])\n",
    "\n",
    "#evals = my_log_kdes.kde_eval_2(my_samples[:2])\n",
    "\n",
    "my_log_kdes.bandwidths"
   ]
  },
  {
   "cell_type": "code",
   "execution_count": null,
   "metadata": {},
   "outputs": [],
   "source": [
    "my_log_kdes.data\n",
    "my_choices = np.unique(my_log_kdes.data[1])"
   ]
  },
  {
   "cell_type": "code",
   "execution_count": null,
   "metadata": {},
   "outputs": [],
   "source": [
    "sum(my_log_kdes.data['choice_proportions'])"
   ]
  },
  {
   "cell_type": "code",
   "execution_count": null,
   "metadata": {},
   "outputs": [],
   "source": [
    "plt.hist(np.exp(evals))"
   ]
  },
  {
   "cell_type": "code",
   "execution_count": null,
   "metadata": {},
   "outputs": [],
   "source": [
    "my_log_kdes.data['choices'].index(-1)"
   ]
  },
  {
   "cell_type": "code",
   "execution_count": null,
   "metadata": {},
   "outputs": [],
   "source": [
    "#kde_samples = \n",
    "samples = my_log_kdes.kde_sample(n_samples = 10000)\n",
    "plt.hist(samples[0], color = 'green', alpha = 0.3, density = True, bins = 50)\n",
    "plt.hist(my_samples[0], color = 'blue', alpha = 0.3, density = True, bins = 50)"
   ]
  },
  {
   "cell_type": "code",
   "execution_count": null,
   "metadata": {},
   "outputs": [],
   "source": [
    "# Plot \n",
    "plt.hist(my_samples[0] * my_samples[1], bins = 50, density = True)\n",
    "plt.plot(my_log_kdes.data[0][1] * np.linspace(0.00001, 10, num = 500), np.exp(evals[0]))\n",
    "plt.plot(my_log_kdes.data[1][1] * np.linspace(0.00001, 10, num = 500), np.exp(evals[1]))"
   ]
  },
  {
   "cell_type": "code",
   "execution_count": null,
   "metadata": {},
   "outputs": [],
   "source": [
    "# Simulate a couple samples\n",
    "# DDM with arbitrary boundary\n",
    "# Define boundary function\n",
    "def my_boundary(t = 1, \n",
    "                c1 = 1,\n",
    "                c2 = 1):\n",
    "    return [- c2 - np.exp(- t * c1), + c2 + np.exp(- t * c1)]\n",
    "\n",
    "# Plot boundaries for illustration\n",
    "t_space = np.linspace(0.000001, 10, num = 200)\n",
    "bounds = np.zeros((len(t_space), 2))\n",
    "\n",
    "for i in range(0,len(t_space),1):\n",
    "    bounds[i,:] = my_boundary(t = t_space[i], c1 = 1, c2 = 0.5)\n",
    "    \n",
    "plt.plot(np.linspace(0.000001, 10, num = 200), bounds[:, 0])\n",
    "plt.plot(np.linspace(0.000001, 10, num = 200), bounds[:, 1])"
   ]
  },
  {
   "cell_type": "code",
   "execution_count": null,
   "metadata": {},
   "outputs": [],
   "source": [
    "# Get samples\n",
    "my_samples_flexb  = ddm_sim.ddm_flexbound_simulate(v = 0,\n",
    "                                                   w = 0.5, \n",
    "                                                   s = 1,\n",
    "                                                   delta_t = 0.001,\n",
    "                                                   max_t = 20,\n",
    "                                                   n_samples = 10000,\n",
    "                                                   print_info = True,\n",
    "                                                   boundary_fun = my_boundary,\n",
    "                                                   c1 = 1,\n",
    "                                                   c2 = 0.5)"
   ]
  },
  {
   "cell_type": "code",
   "execution_count": null,
   "metadata": {},
   "outputs": [],
   "source": [
    "# Set up KDE \n",
    "my_log_kdes  = kde_class.logkde()\n",
    "my_log_kdes.attach_data_from_simulator(simulator_data = my_samples_flexb)\n",
    "my_log_kdes.generate_base_kdes()\n",
    "evals = my_log_kdes.kde_eval(where  = np.expand_dims(np.linspace(0.00001, 10, num = 500),\n",
    "                                                     axis = 1), \n",
    "                             which = [1, -1])"
   ]
  },
  {
   "cell_type": "code",
   "execution_count": null,
   "metadata": {},
   "outputs": [],
   "source": [
    "# Plot \n",
    "plt.hist(my_samples_flexb[0] * my_samples_flexb[1], bins = 50, density = True)\n",
    "plt.plot(my_log_kdes.data[0][1] * np.linspace(0.00001, 10, num = 500), np.exp(evals[0]))\n",
    "plt.plot(my_log_kdes.data[1][1] * np.linspace(0.00001, 10, num = 500), np.exp(evals[1]))"
   ]
  },
  {
   "cell_type": "code",
   "execution_count": null,
   "metadata": {},
   "outputs": [],
   "source": [
    "# Simulate: RACE MODEL\n",
    "def my_boundary_race(t = 0, height = 1):\n",
    "    return height\n",
    "\n",
    "# Get samples\n",
    "my_samples_race  = ddm_sim.race_model(v = np.array([1, 0.5, 0, 0, 0], ndmin = 2).T,\n",
    "                                      w = np.array([0, 0, 0, 0, 0], ndmin = 2).T, \n",
    "                                      s = 1,\n",
    "                                      delta_t = 0.001,\n",
    "                                      max_t = 20,\n",
    "                                      n_samples = 3000,\n",
    "                                      print_info = True,\n",
    "                                      boundary_fun = my_boundary_race,\n",
    "                                      height = 2)"
   ]
  },
  {
   "cell_type": "code",
   "execution_count": null,
   "metadata": {},
   "outputs": [],
   "source": [
    "# Make kde \n",
    "choices = np.unique(my_samples_race[1])\n",
    "my_race_kdes = kde_class.logkde()\n",
    "my_race_kdes.attach_data_from_simulator(simulator_data = my_samples_race)\n",
    "my_race_kdes.generate_base_kdes()\n",
    "evals = my_race_kdes.kde_eval(where  = np.expand_dims(np.linspace(0.00001, 10, num = 500),\n",
    "                                                     axis = 1), \n",
    "                             which = choices)"
   ]
  },
  {
   "cell_type": "code",
   "execution_count": null,
   "metadata": {},
   "outputs": [],
   "source": [
    "plt.plot(np.linspace(0.00001, 10, num = 500), np.exp(evals[0]), color = 'blue')\n",
    "plt.plot(np.linspace(0.00001, 10, num = 500), np.exp(evals[1]), color = 'green')\n",
    "plt.plot(np.linspace(0.00001, 10, num = 500), np.exp(evals[2]), color = 'yellow')\n",
    "plt.plot(np.linspace(0.00001, 10, num = 500), np.exp(evals[3]), color = 'orange')\n",
    "plt.plot(np.linspace(0.00001, 10, num = 500), np.exp(evals[4]), color = 'red')"
   ]
  },
  {
   "cell_type": "code",
   "execution_count": null,
   "metadata": {},
   "outputs": [],
   "source": [
    "plt.hist(my_samples_race[0][my_samples_race[1] == 0], bins = 30, density = True, alpha = 0.3)\n",
    "plt.hist(my_samples_race[0][my_samples_race[1] == 1], bins = 30, density = True, alpha = 0.3)\n",
    "plt.hist(my_samples_race[0][my_samples_race[1] == 2], bins = 30, density = True, alpha = 0.3)"
   ]
  },
  {
   "cell_type": "code",
   "execution_count": null,
   "metadata": {},
   "outputs": [],
   "source": [
    "my_race_kdes.data"
   ]
  },
  {
   "cell_type": "code",
   "execution_count": null,
   "metadata": {},
   "outputs": [],
   "source": [
    "my_linspace = np.linspace(0.00001, 10, num = 500)\n",
    "diff = my_linspace[1] - my_linspace[0]\n",
    "\n",
    "my_sum = 0\n",
    "for j in range(0, len(evals), 1):\n",
    "    for i in range(0, len(my_linspace), 1):\n",
    "        my_sum += diff * np.exp(evals[j][i])"
   ]
  },
  {
   "cell_type": "code",
   "execution_count": null,
   "metadata": {},
   "outputs": [],
   "source": [
    "a = [1,2,-3]\n"
   ]
  },
  {
   "cell_type": "code",
   "execution_count": null,
   "metadata": {},
   "outputs": [],
   "source": [
    "np.maximum(a, 0)"
   ]
  },
  {
   "cell_type": "code",
   "execution_count": null,
   "metadata": {},
   "outputs": [],
   "source": [
    "# Simulate: lca\n",
    "# Get samples\n",
    "my_samples_lca  = ddm_sim.lca(v = np.array([1, 0.5, 0.0, 0.0, 0.0], ndmin = 2).T,\n",
    "                              w = np.array([0.0, 0.0, 0.0, 0.0, 0.0], ndmin = 2).T, \n",
    "                              a = 2,\n",
    "                              b = 1.0,\n",
    "                              g = 0.1,\n",
    "                              s = 1.0,\n",
    "                              delta_t = 0.001,\n",
    "                              max_t = 20,\n",
    "                              n_samples = 3000,\n",
    "                              print_info = True)"
   ]
  },
  {
   "cell_type": "code",
   "execution_count": null,
   "metadata": {},
   "outputs": [],
   "source": [
    "# Make kde \n",
    "choices = np.unique(my_samples_lca[1])\n",
    "my_lca_kdes = kde_class.logkde()\n",
    "my_lca_kdes.attach_data_from_simulator(simulator_data = my_samples_lca)\n",
    "my_lca_kdes.generate_base_kdes()\n",
    "evals = my_lca_kdes.kde_eval(where  = np.expand_dims(np.linspace(0.00001, 10, num = 500),\n",
    "                                                     axis = 1), \n",
    "                             which = choices)"
   ]
  },
  {
   "cell_type": "code",
   "execution_count": null,
   "metadata": {},
   "outputs": [],
   "source": [
    "# Plot\n",
    "plt.plot(np.linspace(0.00001, 10, num = 500), np.exp(evals[0]), color = 'blue')\n",
    "plt.plot(np.linspace(0.00001, 10, num = 500), np.exp(evals[1]), color = 'green')\n",
    "plt.plot(np.linspace(0.00001, 10, num = 500), np.exp(evals[2]), color = 'yellow')\n",
    "plt.plot(np.linspace(0.00001, 10, num = 500), np.exp(evals[3]), color = 'orange')\n",
    "plt.plot(np.linspace(0.00001, 10, num = 500), np.exp(evals[4]), color = 'red')"
   ]
  },
  {
   "cell_type": "code",
   "execution_count": null,
   "metadata": {},
   "outputs": [],
   "source": [
    "# Save a dictionary into a pickle file.\n",
    "\n",
    "pickle.dump([1, 2, my_lca_kdes], open( \"save.p\", \"wb\" ) )\n"
   ]
  },
  {
   "cell_type": "code",
   "execution_count": null,
   "metadata": {},
   "outputs": [],
   "source": [
    "test = pickle.load( open( \"data_storage/kde/base_simulations/ddm_03_31_19_22_10_204cceb59a542311e9940f91dddba7e031.pickle\", \"rb\" ) )"
   ]
  },
  {
   "cell_type": "code",
   "execution_count": null,
   "metadata": {},
   "outputs": [],
   "source": [
    "test"
   ]
  },
  {
   "cell_type": "code",
   "execution_count": null,
   "metadata": {},
   "outputs": [],
   "source": [
    "choices = np.array([2,3,4,2])\n",
    "choices[np.where(choices == 2)]"
   ]
  },
  {
   "cell_type": "code",
   "execution_count": null,
   "metadata": {},
   "outputs": [],
   "source": [
    "mp.cpu_count(logical = False)"
   ]
  },
  {
   "cell_type": "code",
   "execution_count": null,
   "metadata": {},
   "outputs": [],
   "source": [
    "[(1,0.5, 1, 0.001, 20, i) for i in range(1000, 8001, 1000)]\n",
    "# v = 0, \n",
    "#                          a = 1, \n",
    "#                          w = 0.5, \n",
    "#                          s = 1,\n",
    "#                          delta_t = 0.001,\n",
    "#                          max_t = 20,\n",
    "#                          n_samples = 10000,\n",
    "#                          print_info = True)"
   ]
  },
  {
   "cell_type": "code",
   "execution_count": null,
   "metadata": {},
   "outputs": [],
   "source": [
    "from  multiprocessing import Process\n",
    "from  multiprocessing import Pool\n",
    "\n",
    "with Pool(processes = 4) as pool:\n",
    "    res = pool.starmap(ddm_sim.ddm_simulate,[(0,1,0.5, 1, 0.001, 20, i) for i in range(1000, 8001, 1000)])"
   ]
  },
  {
   "cell_type": "code",
   "execution_count": null,
   "metadata": {},
   "outputs": [],
   "source": [
    "my_log_kdes.simulator_info"
   ]
  },
  {
   "cell_type": "code",
   "execution_count": null,
   "metadata": {},
   "outputs": [],
   "source": [
    "my_samples[0] + my_samples[0] + my_samples[0]"
   ]
  },
  {
   "cell_type": "code",
   "execution_count": null,
   "metadata": {},
   "outputs": [],
   "source": [
    "print(my_boundary)"
   ]
  },
  {
   "cell_type": "code",
   "execution_count": null,
   "metadata": {},
   "outputs": [],
   "source": [
    "import inspect\n",
    "code, line_no = inspect.getsourcelines(my_boundary)\n",
    "print(''.join(code))"
   ]
  },
  {
   "cell_type": "code",
   "execution_count": null,
   "metadata": {},
   "outputs": [],
   "source": [
    "from mpl_toolkits.mplot3d import Axes3D"
   ]
  },
  {
   "cell_type": "code",
   "execution_count": null,
   "metadata": {},
   "outputs": [],
   "source": [
    "fig = plt.figure()\n",
    "ax = fig.gca(projection = '3d')\n",
    "ax.plot_trisurf(np.random.uniform(high=1, low = 0, size = 10000),\n",
    "                np.random.uniform(high=1, low = 0, size = 10000),\n",
    "                np.random.uniform(high=1, low = 0, size = 10000))"
   ]
  },
  {
   "cell_type": "code",
   "execution_count": null,
   "metadata": {},
   "outputs": [],
   "source": [
    "my_samples[1].shape"
   ]
  },
  {
   "cell_type": "code",
   "execution_count": null,
   "metadata": {},
   "outputs": [],
   "source": [
    "# try getting data from the kde\n",
    "my_log_kdes.kde_sample(n_samples = 2000, which = [-1, 1])[0]"
   ]
  },
  {
   "cell_type": "code",
   "execution_count": null,
   "metadata": {},
   "outputs": [],
   "source": [
    "a = np.ones((10,5))\n",
    "pda = pd.DataFrame(data= a, columns = ['a', 'b', 'c', 'd', 'e'] )"
   ]
  },
  {
   "cell_type": "code",
   "execution_count": null,
   "metadata": {},
   "outputs": [],
   "source": [
    "['a', 'b', 'c', 'd', 'e'].index('a')"
   ]
  },
  {
   "cell_type": "code",
   "execution_count": null,
   "metadata": {},
   "outputs": [],
   "source": [
    "pda.iloc[0:2, ['a', 'b', 'c', 'd', 'e'].index('a')] = 10"
   ]
  },
  {
   "cell_type": "code",
   "execution_count": null,
   "metadata": {},
   "outputs": [],
   "source": [
    "pda"
   ]
  },
  {
   "cell_type": "code",
   "execution_count": null,
   "metadata": {},
   "outputs": [],
   "source": [
    "pda[['a']].iloc[1:3] = 50"
   ]
  },
  {
   "cell_type": "code",
   "execution_count": null,
   "metadata": {},
   "outputs": [],
   "source": [
    "pda"
   ]
  },
  {
   "cell_type": "code",
   "execution_count": null,
   "metadata": {},
   "outputs": [],
   "source": [
    "pda.loc[2:, ['a','b']]  = ['a','b']"
   ]
  },
  {
   "cell_type": "code",
   "execution_count": null,
   "metadata": {},
   "outputs": [],
   "source": [
    "pda.loc[2:, ]"
   ]
  },
  {
   "cell_type": "code",
   "execution_count": null,
   "metadata": {},
   "outputs": [],
   "source": [
    "pda.iloc[0:3, 1:2]"
   ]
  },
  {
   "cell_type": "code",
   "execution_count": null,
   "metadata": {},
   "outputs": [],
   "source": [
    "a = 'helloooooo'"
   ]
  },
  {
   "cell_type": "code",
   "execution_count": null,
   "metadata": {},
   "outputs": [],
   "source": [
    "a[-4:]"
   ]
  },
  {
   "cell_type": "code",
   "execution_count": null,
   "metadata": {},
   "outputs": [],
   "source": [
    "os.getcwd()"
   ]
  },
  {
   "cell_type": "code",
   "execution_count": null,
   "metadata": {},
   "outputs": [],
   "source": [
    "from_folder = os.getcwd() + '/data_storage/kde/base_simulations/'\n",
    "file_list = os.listdir(from_folder)\n",
    "sim_dat = pickle.load( open( from_folder + file_list[2530], \"rb\" ) )\n",
    "#to_folder = os.getcwd() + '/data_storage/kde/kde_base_dat/'\n",
    "# a = kde_util.generate_training_base_kde(from_folder = from_folder,\n",
    "#                                         to_folder = to_folder)"
   ]
  },
  {
   "cell_type": "code",
   "execution_count": null,
   "metadata": {},
   "outputs": [],
   "source": [
    "\n",
    "text = 'ddm_aisdojasjdkasjd'\n",
    "simulator = ''\n",
    "for char_ in text:\n",
    "    if char_ == '_':\n",
    "        break\n",
    "    simulator += char_"
   ]
  },
  {
   "cell_type": "code",
   "execution_count": null,
   "metadata": {},
   "outputs": [],
   "source": [
    "tmp_file = 'ddm_04_01_19_15_54_32f7966dee54b711e9a642538a99cae90e.csv'\n",
    "pd.read_csv(to_folder + tmp_file, index_col = 0)"
   ]
  },
  {
   "cell_type": "code",
   "execution_count": null,
   "metadata": {},
   "outputs": [],
   "source": [
    "plt.hist(sim_dat[0] * sim_dat[1], bins =  50)"
   ]
  },
  {
   "cell_type": "code",
   "execution_count": null,
   "metadata": {},
   "outputs": [],
   "source": [
    "sim_dat"
   ]
  },
  {
   "cell_type": "code",
   "execution_count": null,
   "metadata": {},
   "outputs": [],
   "source": [
    "from_folder = os.getcwd() + '/data_storage/kde/base_simulations/'\n",
    "file_list = os.listdir(from_folder)\n",
    "\n",
    "cnt = 0\n",
    "forensics_data = dict(v = [], a = [])\n",
    "for file_ in file_list:\n",
    "    sim_dat = pickle.load( open( from_folder + file_, \"rb\" ) )\n",
    "    if np.sum(sim_dat[1] == 1) == 0 or np.sum(sim_dat[1] == -1) == 0:\n",
    "        print('cnt', cnt)\n",
    "        print('no data for some choice')\n",
    "        print(sim_dat[2])\n",
    "        forensics_data['v'].append(sim_dat[2]['v:'])\n",
    "        forensics_data['a'].append(sim_dat[2]['a'])\n",
    "        \n",
    "#     print('count:', cnt)\n",
    "#     print('c minus 1:', kde.bandwidth_silverman(sim_dat[0][sim_dat[1] == -1]))\n",
    "#     print('c 1:',kde.bandwidth_silverman(sim_dat[0][sim_dat[1] == 1]))\n",
    "    cnt += 1\n",
    "    if cnt % 1000 == 0: \n",
    "        print('1000 files opened')\n",
    "#to_folder = os.getcwd() + '/data_storage/kde/kde_base_dat/'\n",
    "# a = kde_util.generate_training_base_kde(from_folder = from_folder,\n",
    "#                                         to_folder = to_folder)\n",
    "\n",
    "\n",
    "#kde.bandwidth_silverman(sim_dat[0][sim_dat[1] == -1])"
   ]
  },
  {
   "cell_type": "code",
   "execution_count": null,
   "metadata": {},
   "outputs": [],
   "source": [
    "#pickle.dump([1, 2, my_lca_kdes], open( \"save.p\", \"wb\" ) )\n",
    "\n",
    "\n",
    "from_folder = os.getcwd() + '/data_storage/kde/base_simulations/'\n",
    "file_list = os.listdir(from_folder)\n",
    "\n",
    "cnt = 0\n",
    "forensics_data = dict(v = [], a = [])\n",
    "for file_ in file_list:\n",
    "    sim_dat = pickle.load( open( from_folder + file_, \"rb\" ) )\n",
    "    sim_dat[2]['v'] = sim_dat[2]['v:']\n",
    "    del sim_dat[2]['v:']\n",
    "    sim_dat[2]['possible_choices'] = [-1., 1.]\n",
    "    \n",
    "    pickle.dump(sim_dat, open( from_folder + file_[:21] + '_' + file_[21:], \"wb\" ) )\n",
    "    print(cnt)\n",
    "    cnt += 1\n",
    "#to_folder = os.getcwd() + '/data_storage/kde/kde_base_dat/'\n",
    "# a = kde_util.generate_training_base_kde(from_folder = from_folder,\n",
    "#                                         to_folder = to_folder)\n",
    "\n",
    "\n",
    "#kde.bandwidth_silverman(sim_dat[0][sim_dat[1] == -1])"
   ]
  },
  {
   "cell_type": "code",
   "execution_count": null,
   "metadata": {},
   "outputs": [],
   "source": [
    "#pickle.dump([1, 2, my_lca_kdes], open( \"save.p\", \"wb\" ) )\n",
    "\n",
    "\n",
    "from_folder = os.getcwd() + '/data_storage/kde/base_simulations/'\n",
    "file_list = os.listdir(from_folder)\n",
    "\n",
    "cnt = 0\n",
    "forensics_data = dict(v = [], a = [])\n",
    "for file_ in file_list:\n",
    "    char_cnt = 0\n",
    "    for i in file_[::-1]:\n",
    "        if i == '_':\n",
    "            print(char_cnt)\n",
    "            break\n",
    "        char_cnt += 1\n",
    "    \n",
    "    if char_cnt == 41:\n",
    "        os.remove(from_folder + file_)\n",
    "        print('removed:', file_)\n",
    "    else:\n",
    "        print('kept:', file_)\n",
    "#     sim_dat = pickle.load( open( from_folder + file_, \"rb\" ) )\n",
    "#     sim_dat[2]['v'] = sim_dat[2]['v:']\n",
    "#     del sim_dat[2]['v:']\n",
    "#     sim_dat[2]['possible_choices'] = [-1., 1.]\n",
    "    \n",
    "#     pickle.dump(sim_dat, open( from_folder + file_[:21] + '_' + file_[21:], \"wb\" ) )\n",
    "    \n",
    "    print(cnt)\n",
    "    cnt += 1\n",
    "#to_folder = os.getcwd() + '/data_storage/kde/kde_base_dat/'\n",
    "# a = kde_util.generate_training_base_kde(from_folder = from_folder,\n",
    "#                                         to_folder = to_folder)\n",
    "\n",
    "\n",
    "#kde.bandwidth_silverman(sim_dat[0][sim_dat[1] == -1])\n",
    "\n",
    "\n",
    "\n"
   ]
  },
  {
   "cell_type": "code",
   "execution_count": null,
   "metadata": {},
   "outputs": [],
   "source": [
    "file_list"
   ]
  },
  {
   "cell_type": "code",
   "execution_count": null,
   "metadata": {},
   "outputs": [],
   "source": [
    "#kde.bandwidth_silverman(sim_dat[0][sim_dat[1] == 1])\n",
    "file_name = 'ddm_04_03_19_02_46_31_36eeac3e55dc11e98defd58e25f6fa70.pickle'\n",
    "from_folder = os.getcwd() + '/data_storage/kde/kde_base_dat/'\n",
    "#file_list = os.listdir(from_folder)\n",
    "sim_dat = pd.read_pickle(from_folder + file_name)\n",
    "#sim_dat = pickle.load( open( from_folder + file_name, \"rb\" ) )"
   ]
  },
  {
   "cell_type": "code",
   "execution_count": null,
   "metadata": {},
   "outputs": [],
   "source": [
    "sim_dat = pd.read_pickle(os.getcwd() + '/data_storage/kde/kde_training_dat/ddm_04_06_19_20_52_36/batch_37016.pickle')"
   ]
  },
  {
   "cell_type": "code",
   "execution_count": null,
   "metadata": {},
   "outputs": [],
   "source": [
    "len(np.unique(sim_dat['v']))"
   ]
  },
  {
   "cell_type": "code",
   "execution_count": null,
   "metadata": {},
   "outputs": [],
   "source": [
    "sim_dat.sample(frac = 1).reset_index(drop = True)\n",
    "sim_dat['group'] = np.repeat([1,2,3], 1000)\n",
    "sim_dat[sim_dat['group'] == 1]"
   ]
  },
  {
   "cell_type": "code",
   "execution_count": null,
   "metadata": {},
   "outputs": [],
   "source": [
    "sim_dat.drop(['group'], axis = 1)"
   ]
  },
  {
   "cell_type": "code",
   "execution_count": null,
   "metadata": {},
   "outputs": [],
   "source": [
    "new_sim_dat = sim_dat.groupby('group')"
   ]
  },
  {
   "cell_type": "code",
   "execution_count": null,
   "metadata": {},
   "outputs": [],
   "source": [
    "new_sim_dat.get_group(1).drop(['group'], axis = 1)"
   ]
  },
  {
   "cell_type": "code",
   "execution_count": null,
   "metadata": {},
   "outputs": [],
   "source": [
    "plt.scatter(forensics_data['v'], forensics_data['a'])"
   ]
  },
  {
   "cell_type": "code",
   "execution_count": null,
   "metadata": {},
   "outputs": [],
   "source": [
    "def bandwidth_silverman(sample = [0,0,0]):\n",
    "    std = np.std(sample)\n",
    "    n = len(sample)\n",
    "    return np.power((4/3), 1/5) * std * np.power(n, (-1/5))"
   ]
  },
  {
   "cell_type": "code",
   "execution_count": null,
   "metadata": {},
   "outputs": [],
   "source": [
    "# Load some file and extract column names to be kept going forward\n",
    "test = pickle.load(open(os.getcwd() + '/data_storage/kde/kde_base_dat/kde_ddm_flexbound_fff84ea0681f11e98948897ab099f7d4.pickle', 'rb'))\n",
    "col_names = list(test)\n",
    "test_frame = pd.DataFrame(columns = ['cols_to_keep', 'kde_type', 'bandwidth_rule', 'mixture'])\n",
    "test_frame.loc[0] = [col_names[:8], test['kde_type'][0], test['bandwidth_rule'][0], test['mixture'][0]]"
   ]
  },
  {
   "cell_type": "code",
   "execution_count": null,
   "metadata": {},
   "outputs": [],
   "source": [
    "# Write meta file that stores the columns we are interested in in a csv\n",
    "test_frame.to_csv(os.getcwd() + '/data_storage/kde/kde_base_dat/meta_data.csv', index = False)"
   ]
  },
  {
   "cell_type": "code",
   "execution_count": null,
   "metadata": {},
   "outputs": [],
   "source": [
    "# Initializations\n",
    "meta = pd.read_csv(os.getcwd() + '/data_storage/kde/kde_base_dat/meta_data.csv')\n",
    "simulator = 'kde_ddm'\n",
    "to_folder = os.getcwd() + '/data_storage/kde/kde_base_dat/' # + simulator + '_' + 'test_full' \n",
    "test_folder = os.getcwd() + '/data_storage/kde/kde_training_dat/' + simulator + '_' + 'reduced_files' \n",
    "final_folder = os.getcwd() + '/data_storage/kde/kde_training_dat/' + simulator + '_' + 'final_train_test'\n",
    "file_list = os.listdir(to_folder)"
   ]
  },
  {
   "cell_type": "code",
   "execution_count": null,
   "metadata": {},
   "outputs": [],
   "source": [
    "# Make reduced data (dropping unnecessary column w.r.t network training)\n",
    "cnt = 0\n",
    "for file_ in file_list:\n",
    "    if file_ != 'meta_data.csv':\n",
    "        my_mat = pickle.load(open(to_folder + '/' + file_, 'rb'))\n",
    "        my_mat = my_mat[eval(meta['cols_to_keep'][0])]\n",
    "        pickle.dump(my_mat, open(test_folder + '/' + file_, \"wb\"))\n",
    "        cnt += 1\n",
    "    print(cnt)"
   ]
  },
  {
   "cell_type": "code",
   "execution_count": null,
   "metadata": {},
   "outputs": [],
   "source": [
    "# Make train test split now\n",
    "file_list = os.listdir(test_folder)\n",
    "file_list_with_dir = [test_folder + '/' + file for file in file_list]\n",
    "df = pd.concat([pd.read_pickle(fp) for fp in file_list_with_dir], ignore_index = True)"
   ]
  },
  {
   "cell_type": "code",
   "execution_count": null,
   "metadata": {},
   "outputs": [],
   "source": [
    "# Get training and test labels\n",
    "train_id = np.random.choice(a = [True, False], \n",
    "                            size = df.shape[0], \n",
    "                            replace = True, \n",
    "                            p = [0.8, 0.2])\n",
    "test_id  = np.invert(train_id)"
   ]
  },
  {
   "cell_type": "code",
   "execution_count": null,
   "metadata": {},
   "outputs": [],
   "source": [
    "# Store training and test data to file \n",
    "df.iloc[train_id, :5].to_pickle(final_folder + '/train_features.pickle' , protocol = 4)\n",
    "df.iloc[test_id, :5].to_pickle(final_folder + '/test_features.pickle', protocol = 4)\n",
    "df.iloc[train_id, 5].to_pickle(final_folder + '/train_labels.pickle', protocol = 4)\n",
    "df.iloc[test_id, 5].to_pickle(final_folder + '/test_labels.pickle', protocol = 4)"
   ]
  },
  {
   "cell_type": "code",
   "execution_count": null,
   "metadata": {},
   "outputs": [],
   "source": [
    "# Define boundary functions\n",
    "def gamma_shape_scale(t = 1,\n",
    "                      shape = 1.01,\n",
    "                      scale = 1):\n",
    "    return gamma.pdf(t, a = shape, scale = scale)"
   ]
  },
  {
   "cell_type": "code",
   "execution_count": null,
   "metadata": {},
   "outputs": [],
   "source": [
    "t_s = np.arange(0, 20, 0.01)\n",
    "boundary = np.zeros((len(t_s),2))\n",
    "#a = 5\n",
    "\n",
    "for a in range(1, 10, 1):\n",
    "    cnt = 0\n",
    "    for i in t_s:\n",
    "        boundary[cnt, 0] = a * gamma_shape_scale(t = i,\n",
    "                                                 shape = 1.01,\n",
    "                                                 scale = 10)\n",
    "        boundary[cnt, 1] = - boundary[cnt, 0]\n",
    "        cnt += 1\n",
    "        \n",
    "    plt.plot(t_s, boundary[:, 0])\n",
    "    plt.plot(t_s, boundary[:, 1])       "
   ]
  },
  {
   "cell_type": "code",
   "execution_count": 61,
   "metadata": {},
   "outputs": [],
   "source": [
    "def exp_c1_c2(t = 1, \n",
    "              c1 = 1,\n",
    "              c2 = 1):\n",
    "    \n",
    "    b = np.exp(- c2*(t-c1))\n",
    "    \n",
    "    if t >= c1:\n",
    "        \n",
    "        return b\n",
    "        \n",
    "    else:\n",
    "        return 1"
   ]
  },
  {
   "cell_type": "code",
   "execution_count": 127,
   "metadata": {},
   "outputs": [],
   "source": [
    "def linear_collapse(t = 1, \n",
    "                    node = 1,\n",
    "                    theta = 1):\n",
    "    if t >= node:\n",
    "        return (t - node) * (- np.sin(theta) / np.cos(theta))\n",
    "    else:\n",
    "        return 0"
   ]
  },
  {
   "cell_type": "code",
   "execution_count": 129,
   "metadata": {},
   "outputs": [],
   "source": [
    "my_fun_list = [linear_collapse, generalized_logistic_bnd]"
   ]
  },
  {
   "cell_type": "code",
   "execution_count": 132,
   "metadata": {},
   "outputs": [
    {
     "data": {
      "text/plain": [
       "'linear_collapse'"
      ]
     },
     "execution_count": 132,
     "metadata": {},
     "output_type": "execute_result"
    }
   ],
   "source": [
    "my_fun_list[0].__name__"
   ]
  },
  {
   "cell_type": "code",
   "execution_count": 135,
   "metadata": {},
   "outputs": [
    {
     "data": {
      "image/png": "[encoded data removed]",
      "text/plain": [
       "<Figure size 432x288 with 1 Axes>"
      ]
     },
     "metadata": {
      "needs_background": "light"
     },
     "output_type": "display_data"
    }
   ],
   "source": [
    "t_s = np.arange(0, 1.5, 0.01)\n",
    "boundary = np.zeros((len(t_s),2))\n",
    "\n",
    "a = 1\n",
    "node = 1\n",
    "for a in range(1, 2, 1):\n",
    "    for theta in np.arange(0.01, (1/2 * np.pi), 0.1):\n",
    "        cnt = 0\n",
    "        for i in t_s:\n",
    "            b = a + linear_collapse(t = i, node = node, theta = theta)\n",
    "            if b <= 0:\n",
    "                boundary[cnt, 1] = 0\n",
    "                boundary[cnt, 0] = 0\n",
    "            else: \n",
    "                boundary[cnt, 1] = b\n",
    "                boundary[cnt, 0] = 0 #- boundary[cnt, 0]\n",
    "            cnt += 1\n",
    "\n",
    "        plt.plot(t_s, boundary[:, 0])\n",
    "        plt.plot(t_s, boundary[:, 1]) "
   ]
  },
  {
   "cell_type": "code",
   "execution_count": null,
   "metadata": {},
   "outputs": [],
   "source": []
  },
  {
   "cell_type": "code",
   "execution_count": 53,
   "metadata": {},
   "outputs": [],
   "source": [
    "def logistic_bound(t = 1,\n",
    "                   node = 1,\n",
    "                   k = 1,\n",
    "                   midpoint = 1,\n",
    "                   max_val  = 3):\n",
    "    \n",
    "    return - (max_val / (1 + np.exp(- k * ((t - midpoint)))))\n"
   ]
  },
  {
   "cell_type": "code",
   "execution_count": 45,
   "metadata": {},
   "outputs": [
    {
     "data": {
      "text/plain": [
       "-0.04742587317756678"
      ]
     },
     "execution_count": 45,
     "metadata": {},
     "output_type": "execute_result"
    }
   ],
   "source": [
    "logistic_bound(t = 1.0, node = 1.0, midpoint = 3, k = 1)"
   ]
  },
  {
   "cell_type": "code",
   "execution_count": 22,
   "metadata": {},
   "outputs": [
    {
     "data": {
      "text/plain": [
       "0.36787944117144233"
      ]
     },
     "execution_count": 22,
     "metadata": {},
     "output_type": "execute_result"
    }
   ],
   "source": [
    "np.exp(-1)"
   ]
  },
  {
   "cell_type": "code",
   "execution_count": 59,
   "metadata": {},
   "outputs": [
    {
     "data": {
      "image/png": "[encoded data removed]",
      "text/plain": [
       "<Figure size 432x288 with 1 Axes>"
      ]
     },
     "metadata": {
      "needs_background": "light"
     },
     "output_type": "display_data"
    }
   ],
   "source": [
    "t_s = np.arange(0, 20, 0.01)\n",
    "boundary = np.zeros((len(t_s),2))\n",
    "\n",
    "a = 1\n",
    "node = 1\n",
    "for a in range(1, 2, 1):\n",
    "    for midpoint in np.arange(1, 2, 1):\n",
    "        cnt = 0\n",
    "        for i in t_s:\n",
    "            b = a + logistic_bound(t = i, node = 1, k = 10, midpoint = 2, max_val = a)\n",
    "            if b <= 0:\n",
    "                boundary[cnt, 0] = 0\n",
    "                boundary[cnt, 1] = 0\n",
    "            else: \n",
    "                boundary[cnt, 0] = b\n",
    "                boundary[cnt, 1] = - boundary[cnt, 0]\n",
    "            cnt += 1\n",
    "\n",
    "        plt.plot(t_s, boundary[:, 0])\n",
    "        plt.plot(t_s, boundary[:, 1]) "
   ]
  },
  {
   "cell_type": "code",
   "execution_count": 97,
   "metadata": {},
   "outputs": [],
   "source": [
    "# Generalized logistic bound\n",
    "def generalized_logistic_bnd(t = 1, \n",
    "                             B = 2.,\n",
    "                             M = 3.,\n",
    "                             v = 0.5):\n",
    "    return 1 - (1 / np.power(1 + np.exp(- B * (t - M)), 1 / v))"
   ]
  },
  {
   "cell_type": "code",
   "execution_count": 126,
   "metadata": {},
   "outputs": [
    {
     "data": {
      "image/png": "[encoded data removed]",
      "text/plain": [
       "<Figure size 432x288 with 1 Axes>"
      ]
     },
     "metadata": {
      "needs_background": "light"
     },
     "output_type": "display_data"
    }
   ],
   "source": [
    "t_s = np.arange(0, 20, 0.01)\n",
    "boundary = np.zeros((len(t_s),2))\n",
    "\n",
    "a = 3\n",
    "node = 1\n",
    "for v in np.arange(0.1, 1.11, 0.5):\n",
    "    for B in np.arange(3, 4, 1):\n",
    "        cnt = 0\n",
    "        for i in t_s:\n",
    "            b = a * generalized_logistic_bnd(t = i,\n",
    "                                             B = 1,\n",
    "                                             v = v, \n",
    "                                             M = 1)   #B = B)\n",
    "            #print(b)\n",
    "            if b <= 0:\n",
    "                boundary[cnt, 0] = 0\n",
    "                boundary[cnt, 1] = 0\n",
    "            else: \n",
    "                boundary[cnt, 0] = b\n",
    "                boundary[cnt, 1] = - boundary[cnt, 0]\n",
    "            cnt += 1\n",
    "\n",
    "        plt.plot(t_s, boundary[:, 0])\n",
    "        plt.plot(t_s, boundary[:, 1]) "
   ]
  },
  {
   "cell_type": "code",
   "execution_count": 122,
   "metadata": {},
   "outputs": [
    {
     "data": {
      "text/plain": [
       "1024.0"
      ]
     },
     "execution_count": 122,
     "metadata": {},
     "output_type": "execute_result"
    }
   ],
   "source": [
    "np.power(1/2,  - 1. / 0.1)"
   ]
  },
  {
   "cell_type": "code",
   "execution_count": 79,
   "metadata": {},
   "outputs": [
    {
     "data": {
      "text/plain": [
       "9"
      ]
     },
     "execution_count": 79,
     "metadata": {},
     "output_type": "execute_result"
    }
   ],
   "source": [
    "np.power(3, 2)"
   ]
  },
  {
   "cell_type": "code",
   "execution_count": 63,
   "metadata": {},
   "outputs": [
    {
     "data": {
      "image/png": "[encoded data removed]",
      "text/plain": [
       "<Figure size 432x288 with 1 Axes>"
      ]
     },
     "metadata": {
      "needs_background": "light"
     },
     "output_type": "display_data"
    }
   ],
   "source": [
    "t_s = np.arange(0, 20, 0.01)\n",
    "boundary = np.zeros((len(t_s),2))\n",
    "\n",
    "a = 0.5\n",
    "for a in range(0, 5, 1):\n",
    "    for c2 in np.arange(0, 3, 0.1):\n",
    "        cnt = 0\n",
    "        for i in t_s:\n",
    "            boundary[cnt, 0] = a * exp_c1_c2(t = i,\n",
    "                                             c1 = 0,\n",
    "                                             c2 = c2)\n",
    "            boundary[cnt, 1] = - boundary[cnt, 0]\n",
    "            cnt += 1\n",
    "\n",
    "        plt.plot(t_s, boundary[:, 0])\n",
    "        plt.plot(t_s, boundary[:, 1])   \n"
   ]
  },
  {
   "cell_type": "code",
   "execution_count": null,
   "metadata": {},
   "outputs": [],
   "source": []
  },
  {
   "cell_type": "code",
   "execution_count": 136,
   "metadata": {},
   "outputs": [
    {
     "name": "stdout",
     "output_type": "stream",
     "text": [
      "0  datapoints sampled\n"
     ]
    }
   ],
   "source": [
    "my_samples_flexb  = ddm_sim.ddm_flexbound_simulate(v = 0.5,\n",
    "                                                   a = 2,\n",
    "                                                   w = 0.5, \n",
    "                                                   s = 1,\n",
    "                                                   delta_t = 0.001,\n",
    "                                                   max_t = 20,\n",
    "                                                   n_samples = 1000,\n",
    "                                                   print_info = True,\n",
    "                                                   boundary_fun = linear_collapse,\n",
    "                                                   boundary_multiplicative = False,\n",
    "                                                   boundary_params = {'node': 0.1, 'theta': 1}\n",
    "                                                   )"
   ]
  },
  {
   "cell_type": "code",
   "execution_count": 137,
   "metadata": {},
   "outputs": [
    {
     "data": {
      "text/plain": [
       "(-5, 5)"
      ]
     },
     "execution_count": 137,
     "metadata": {},
     "output_type": "execute_result"
    },
    {
     "data": {
      "image/png": "[encoded data removed]",
      "text/plain": [
       "<Figure size 432x288 with 1 Axes>"
      ]
     },
     "metadata": {
      "needs_background": "light"
     },
     "output_type": "display_data"
    }
   ],
   "source": [
    "plt.hist(my_samples_flexb[0] * my_samples_flexb[1], bins = 40)\n",
    "plt.xlim((-5, 5))"
   ]
  },
  {
   "cell_type": "code",
   "execution_count": null,
   "metadata": {},
   "outputs": [],
   "source": []
  }
 ],
 "metadata": {
  "kernelspec": {
   "display_name": "Python 3",
   "language": "python",
   "name": "python3"
  },
  "language_info": {
   "codemirror_mode": {
    "name": "ipython",
    "version": 3
   },
   "file_extension": ".py",
   "mimetype": "text/x-python",
   "name": "python",
   "nbconvert_exporter": "python",
   "pygments_lexer": "ipython3",
   "version": "3.7.2"
  }
 },
 "nbformat": 4,
 "nbformat_minor": 2
}
