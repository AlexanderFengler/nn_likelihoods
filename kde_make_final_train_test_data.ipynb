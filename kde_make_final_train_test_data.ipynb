{
 "cells": [
  {
   "cell_type": "code",
   "execution_count": null,
   "metadata": {},
   "outputs": [],
   "source": [
    "import ddm_data_simulation as ddm_sim\n",
    "import scipy as scp\n",
    "import numpy as np\n",
    "import pandas as pd\n",
    "import matplotlib.pyplot as plt\n",
    "from sklearn.neighbors import KernelDensity\n",
    "#import kde_class\n",
    "import multiprocessing as mp\n",
    "import psutil\n",
    "import pickle \n",
    "import os\n",
    "import re\n",
    "\n",
    "import kde_training_utilities as kde_util\n",
    "import kde_class as kde"
   ]
  },
  {
   "cell_type": "code",
   "execution_count": null,
   "metadata": {},
   "outputs": [],
   "source": [
    "kde_util.kde_train_test_from_simulations_flexbound(base_simulation_folder = os.getcwd() + '/data_storage/kde/base_simulations/',\n",
    "                                         target_folder = os.getcwd() + '/data_storage/kde/kde_ddm_flexbound_train_test_extended_params_2/',\n",
    "                                         n_total = 55000000,\n",
    "                                         p_train = 0.9,\n",
    "                                         mixture_p = [0.8, 0.1, 0.1],\n",
    "                                         model = 'ddm_flexbound',\n",
    "                                         print_info = False,\n",
    "                                         target_file_format = 'pickle',\n",
    "                                         n_files_max = 'all')"
   ]
  }
 ],
 "metadata": {
  "kernelspec": {
   "display_name": "tf",
   "language": "python",
   "name": "tf"
  },
  "language_info": {
   "codemirror_mode": {
    "name": "ipython",
    "version": 3
   },
   "file_extension": ".py",
   "mimetype": "text/x-python",
   "name": "python",
   "nbconvert_exporter": "python",
   "pygments_lexer": "ipython3",
   "version": "3.6.5"
  }
 },
 "nbformat": 4,
 "nbformat_minor": 2
}
