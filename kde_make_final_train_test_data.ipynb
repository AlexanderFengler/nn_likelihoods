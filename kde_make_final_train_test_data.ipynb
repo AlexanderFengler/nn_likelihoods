{
 "cells": [
  {
   "cell_type": "code",
   "execution_count": 1,
   "metadata": {},
   "outputs": [],
   "source": [
    "import ddm_data_simulation as ddm_sim\n",
    "import scipy as scp\n",
    "import numpy as np\n",
    "import pandas as pd\n",
    "import matplotlib.pyplot as plt\n",
    "from sklearn.neighbors import KernelDensity\n",
    "#import kde_class\n",
    "import multiprocessing as mp\n",
    "import psutil\n",
    "import pickle \n",
    "import os\n",
    "import re\n",
    "\n",
    "import kde_training_utilities as kde_util\n",
    "import kde_class as kde"
   ]
  },
  {
   "cell_type": "code",
   "execution_count": null,
   "metadata": {},
   "outputs": [],
   "source": [
    "# Load some file and extract column names to be kept going forward\n",
    "test = pickle.load(open(os.getcwd() + '/data_storage/kde/flexbound/kde_base_dat/kde_ddm_flexbound_fff84ea0681f11e98948897ab099f7d4.pickle', 'rb'))\n",
    "col_names = list(test)\n",
    "test_frame = pd.DataFrame(columns = ['cols_to_keep', 'kde_type', 'bandwidth_rule', 'mixture'])\n",
    "test_frame.loc[0] = [col_names[:8], test['kde_type'][0], test['bandwidth_rule'][0], test['mixture'][0]]"
   ]
  },
  {
   "cell_type": "code",
   "execution_count": null,
   "metadata": {},
   "outputs": [],
   "source": [
    "# Write meta file that stores the columns we are interested in in a csv\n",
    "test_frame.to_csv(os.getcwd() + '/data_storage/kde/kde_base_dat/meta_data.csv', index = False)"
   ]
  },
  {
   "cell_type": "code",
   "execution_count": 3,
   "metadata": {},
   "outputs": [],
   "source": [
    "# Initializations\n",
    "#meta = pd.read_csv(os.getcwd() + '/data_storage/kde/kde_base_dat/meta_data.csv')\n",
    "simulator = 'kde_ddm_flexbound'\n",
    "#to_folder = os.getcwd() + '/data_storage/kde/kde_base_dat/' # + simulator + '_' + 'test_full' \n",
    "test_folder = os.getcwd() + '/data_storage/kde/flexbound/' + simulator + '_' + 'reduced_files' \n",
    "final_folder = os.getcwd() + '/data_storage/kde/flexbound/' + simulator + '_' + 'final_train_test'\n",
    "#file_list = os.listdir(to_folder)"
   ]
  },
  {
   "cell_type": "code",
   "execution_count": null,
   "metadata": {},
   "outputs": [],
   "source": [
    "# Make reduced data (dropping unnecessary column w.r.t network training)\n",
    "cnt = 0\n",
    "for file_ in file_list:\n",
    "    if file_ != 'meta_data.csv':\n",
    "        my_mat = pickle.load(open(to_folder + '/' + file_, 'rb'))\n",
    "        my_mat = my_mat[eval(meta['cols_to_keep'][0])]\n",
    "        pickle.dump(my_mat, open(test_folder + '/' + file_, \"wb\"))\n",
    "        cnt += 1\n",
    "    print(cnt)"
   ]
  },
  {
   "cell_type": "code",
   "execution_count": 4,
   "metadata": {},
   "outputs": [],
   "source": [
    "# Make train test split now\n",
    "file_list = os.listdir(test_folder)\n",
    "file_list_with_dir = [test_folder + '/' + file for file in file_list]\n",
    "df = pd.concat([pd.read_pickle(fp) for fp in file_list_with_dir], ignore_index = True)"
   ]
  },
  {
   "cell_type": "code",
   "execution_count": 5,
   "metadata": {},
   "outputs": [],
   "source": [
    "# Get training and test labels\n",
    "train_id = np.random.choice(a = [True, False], \n",
    "                            size = df.shape[0], \n",
    "                            replace = True, \n",
    "                            p = [0.8, 0.2])\n",
    "test_id  = np.invert(train_id)"
   ]
  },
  {
   "cell_type": "code",
   "execution_count": 10,
   "metadata": {},
   "outputs": [],
   "source": [
    "# Store training and test data to file \n",
    "df.iloc[train_id, :7].to_pickle(final_folder + '/train_features.pickle' , protocol = 4)\n",
    "df.iloc[test_id, :7].to_pickle(final_folder + '/test_features.pickle', protocol = 4)\n",
    "df.iloc[train_id, 7].to_pickle(final_folder + '/train_labels.pickle', protocol = 4)\n",
    "df.iloc[test_id, 7].to_pickle(final_folder + '/test_labels.pickle', protocol = 4)"
   ]
  },
  {
   "cell_type": "code",
   "execution_count": 9,
   "metadata": {},
   "outputs": [
    {
     "data": {
      "text/plain": [
       "v        -2.038474\n",
       "a         1.503047\n",
       "w         0.552430\n",
       "c1        2.515306\n",
       "c2        0.665409\n",
       "rt        0.804790\n",
       "choice   -1.000000\n",
       "Name: 0, dtype: float64"
      ]
     },
     "execution_count": 9,
     "metadata": {},
     "output_type": "execute_result"
    }
   ],
   "source": [
    "df.iloc[0,:7]"
   ]
  },
  {
   "cell_type": "code",
   "execution_count": null,
   "metadata": {},
   "outputs": [],
   "source": []
  }
 ],
 "metadata": {
  "kernelspec": {
   "display_name": "tf",
   "language": "python",
   "name": "tf"
  },
  "language_info": {
   "codemirror_mode": {
    "name": "ipython",
    "version": 3
   },
   "file_extension": ".py",
   "mimetype": "text/x-python",
   "name": "python",
   "nbconvert_exporter": "python",
   "pygments_lexer": "ipython3",
   "version": "3.6.5"
  }
 },
 "nbformat": 4,
 "nbformat_minor": 2
}
