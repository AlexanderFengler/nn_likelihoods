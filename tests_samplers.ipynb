{
 "cells": [
  {
   "cell_type": "code",
   "execution_count": 3,
   "metadata": {},
   "outputs": [],
   "source": [
    "from slice_sampler import SliceSampler\n",
    "from mh_componentwise import MetropolisHastingsComponentwise\n",
    "import de_mcmc_one_core as demcmc\n",
    "import numpy as np\n",
    "import scipy.stats as scps\n",
    "import matplotlib.pyplot as plt"
   ]
  },
  {
   "cell_type": "code",
   "execution_count": 4,
   "metadata": {},
   "outputs": [],
   "source": [
    "def normal_target(params, data):\n",
    "    lp = 0\n",
    "    for i in range(data.shape[0]):\n",
    "        lp += scps.norm.logpdf(data[i], loc = params[0], scale = params[1])\n",
    "    return lp"
   ]
  },
  {
   "cell_type": "code",
   "execution_count": 5,
   "metadata": {},
   "outputs": [],
   "source": [
    "data = np.random.normal(loc = 0, scale = 2, size = 100)\n",
    "bounds = np.array([[-10, 10], [0.1, 5]])"
   ]
  },
  {
   "cell_type": "code",
   "execution_count": null,
   "metadata": {},
   "outputs": [],
   "source": [
    "my_slice_sampler = SliceSampler(bounds = bounds, target = normal_target)"
   ]
  },
  {
   "cell_type": "code",
   "execution_count": null,
   "metadata": {},
   "outputs": [],
   "source": [
    "my_slice_sampler.sample(data, num_samples = 10, method = 'doubling', init_loc = 'random', add = True)"
   ]
  },
  {
   "cell_type": "code",
   "execution_count": null,
   "metadata": {},
   "outputs": [],
   "source": [
    "plt.plot(my_slice_sampler.samples[500:, 0], my_slice_sampler.samples[500:, 1])\n",
    "plt.xlabel('mean')\n",
    "plt.ylabel('sd')"
   ]
  },
  {
   "cell_type": "code",
   "execution_count": null,
   "metadata": {},
   "outputs": [],
   "source": [
    "plt.hist(my_slice_sampler.samples[500:, 0])"
   ]
  },
  {
   "cell_type": "code",
   "execution_count": null,
   "metadata": {},
   "outputs": [],
   "source": [
    "plt.hist(my_slice_sampler.samples[500:, 1])"
   ]
  },
  {
   "cell_type": "code",
   "execution_count": null,
   "metadata": {},
   "outputs": [],
   "source": [
    "my_slice_sampler.samples.shape"
   ]
  },
  {
   "cell_type": "code",
   "execution_count": null,
   "metadata": {},
   "outputs": [],
   "source": [
    "# Metropolis Hastings componentwise\n",
    "mh_sampler = MetropolisHastingsComponentwise(dims = 2,\n",
    "                                             num_chains = 4, \n",
    "                                             bounds = bounds, \n",
    "                                             target = normal_target, \n",
    "                                             proposal_var = 0.1)"
   ]
  },
  {
   "cell_type": "code",
   "execution_count": null,
   "metadata": {},
   "outputs": [],
   "source": [
    "mh_sampler.sample(data = data, num_samples = 500, add = True, n_cores = 4)"
   ]
  },
  {
   "cell_type": "code",
   "execution_count": null,
   "metadata": {},
   "outputs": [],
   "source": [
    "# SOME GRAPHS\n",
    "plt.scatter(mh_sampler.samples[:, 2, :][:, 0], mh_sampler.samples[:, 2, :][:, 1], alpha = 0.01)"
   ]
  },
  {
   "cell_type": "code",
   "execution_count": null,
   "metadata": {},
   "outputs": [],
   "source": [
    "plt.plot(np.arange(0, 3000, 1), mh_sampler.samples[:, 1, :][:, 1])"
   ]
  },
  {
   "cell_type": "code",
   "execution_count": null,
   "metadata": {},
   "outputs": [],
   "source": [
    "plt.plot(np.arange(0, 3000, 1), mh_sampler.samples[:, 1, :][:, 0])"
   ]
  },
  {
   "cell_type": "code",
   "execution_count": null,
   "metadata": {},
   "outputs": [],
   "source": [
    "plt.hist(mh_sampler.samples[1500:, 2, :][:, 0], bins = 30)"
   ]
  },
  {
   "cell_type": "code",
   "execution_count": null,
   "metadata": {},
   "outputs": [],
   "source": [
    "plt.hist(mh_sampler.samples[1500:, 2, :][:, 1], bins = 30)"
   ]
  },
  {
   "cell_type": "code",
   "execution_count": null,
   "metadata": {},
   "outputs": [],
   "source": [
    "mh_sampler.samples[101, :, :]"
   ]
  },
  {
   "cell_type": "code",
   "execution_count": null,
   "metadata": {},
   "outputs": [],
   "source": []
  },
  {
   "cell_type": "code",
   "execution_count": 22,
   "metadata": {},
   "outputs": [],
   "source": [
    "# DEMCMC\n",
    "my_demcmc = demcmc.DifferentialEvolutionSequential(bounds = bounds, target = normal_target)"
   ]
  },
  {
   "cell_type": "code",
   "execution_count": 23,
   "metadata": {},
   "outputs": [
    {
     "name": "stdout",
     "output_type": "stream",
     "text": [
      "Beginning sampling:\n",
      "Iteration 100\n",
      "Iteration 200\n",
      "Iteration 300\n",
      "Iteration 400\n",
      "Iteration 500\n",
      "Iteration 600\n",
      "Iteration 700\n",
      "Iteration 800\n",
      "Iteration 900\n",
      "Iteration 1000\n",
      "Iteration 1100\n",
      "Iteration 1200\n",
      "Iteration 1300\n",
      "Iteration 1400\n",
      "Iteration 1500\n",
      "Iteration 1600\n",
      "Iteration 1700\n",
      "Iteration 1800\n",
      "Iteration 1900\n"
     ]
    },
    {
     "data": {
      "text/plain": [
       "(array([[[-4.30376711,  3.13662696],\n",
       "         [ 2.48716735,  2.99846604],\n",
       "         [-5.85995936,  2.17631597],\n",
       "         ...,\n",
       "         [ 5.37629846,  2.93257003],\n",
       "         [ 2.36357794,  2.47046457],\n",
       "         [ 4.42121241,  0.91177637]],\n",
       " \n",
       "        [[-4.30376711,  3.14076242],\n",
       "         [ 0.18269883,  3.64785977],\n",
       "         [-3.48797181,  2.17631597],\n",
       "         ...,\n",
       "         [ 5.37629846,  2.93257003],\n",
       "         [ 2.36357794,  2.54002594],\n",
       "         [ 4.42121241,  0.91177637]],\n",
       " \n",
       "        [[-0.42686008,  2.52810697],\n",
       "         [ 0.18269883,  3.64785977],\n",
       "         [-3.48797181,  2.17631597],\n",
       "         ...,\n",
       "         [ 5.37629846,  2.93257003],\n",
       "         [ 2.36357794,  2.54002594],\n",
       "         [ 4.42121241,  0.91177637]],\n",
       " \n",
       "        ...,\n",
       " \n",
       "        [[-0.01321313,  1.94361592],\n",
       "         [-0.11608079,  2.11803471],\n",
       "         [-0.2701543 ,  2.18258019],\n",
       "         ...,\n",
       "         [ 0.0411207 ,  2.05154188],\n",
       "         [-0.09828943,  2.01695231],\n",
       "         [ 0.18347195,  2.40249035]],\n",
       " \n",
       "        [[-0.04586618,  1.94361592],\n",
       "         [ 0.05807999,  2.11803471],\n",
       "         [-0.2701543 ,  2.18146388],\n",
       "         ...,\n",
       "         [ 0.0411207 ,  2.05154188],\n",
       "         [-0.09828943,  2.01695231],\n",
       "         [ 0.18347195,  2.38314188]],\n",
       " \n",
       "        [[-0.04586618,  1.91973309],\n",
       "         [ 0.05807999,  2.05637943],\n",
       "         [-0.03946617,  2.21545624],\n",
       "         ...,\n",
       "         [ 0.02990646,  2.05154188],\n",
       "         [-0.09828943,  1.78130419],\n",
       "         [ 0.18347195,  2.18739948]]]),\n",
       " array([[ -318.4695414 ,  -261.40389938,  -567.44331232, ...,\n",
       "          -396.40911317,  -265.22248757, -1548.71919784],\n",
       "        [ -318.30586414,  -237.2738926 ,  -336.98979991, ...,\n",
       "          -396.40911317,  -263.52150424, -1548.71919784],\n",
       "        [ -218.35719987,  -237.2738926 ,  -336.98979991, ...,\n",
       "          -396.40911317,  -263.52150424, -1548.71919784],\n",
       "        ...,\n",
       "        [ -213.77513135,  -213.59866317,  -214.27262301, ...,\n",
       "          -213.61238443,  -213.48694583,  -216.35638612],\n",
       "        [ -213.73816822,  -213.76677269,  -214.26684269, ...,\n",
       "          -213.61238443,  -213.48694583,  -216.14794595],\n",
       "        [ -213.88850925,  -213.66248855,  -214.07405562, ...,\n",
       "          -213.5836573 ,  -215.57135233,  -214.57264829]]))"
      ]
     },
     "execution_count": 23,
     "metadata": {},
     "output_type": "execute_result"
    }
   ],
   "source": [
    "my_demcmc.sample(data = data, num_samples = 2000, add = False, crossover = True, anneal_k = 1 / 50)"
   ]
  },
  {
   "cell_type": "code",
   "execution_count": 24,
   "metadata": {},
   "outputs": [
    {
     "data": {
      "text/plain": [
       "[<matplotlib.lines.Line2D at 0x7fd5516de8d0>]"
      ]
     },
     "execution_count": 24,
     "metadata": {},
     "output_type": "execute_result"
    },
    {
     "data": {
      "image/png": "[encoded data removed]",
      "text/plain": [
       "<Figure size 432x288 with 1 Axes>"
      ]
     },
     "metadata": {
      "needs_background": "light"
     },
     "output_type": "display_data"
    }
   ],
   "source": [
    "plt.plot(np.arange(0, 2000, 1), my_demcmc.samples[:, 3, :][:, 0])"
   ]
  },
  {
   "cell_type": "code",
   "execution_count": 25,
   "metadata": {},
   "outputs": [
    {
     "data": {
      "text/plain": [
       "[<matplotlib.lines.Line2D at 0x7fd55165b4e0>]"
      ]
     },
     "execution_count": 25,
     "metadata": {},
     "output_type": "execute_result"
    },
    {
     "data": {
      "image/png": "[encoded data removed]",
      "text/plain": [
       "<Figure size 432x288 with 1 Axes>"
      ]
     },
     "metadata": {
      "needs_background": "light"
     },
     "output_type": "display_data"
    }
   ],
   "source": [
    "plt.plot(np.arange(0,2000, 1), my_demcmc.samples[:, 3, :][:, 1])"
   ]
  },
  {
   "cell_type": "code",
   "execution_count": 36,
   "metadata": {},
   "outputs": [
    {
     "data": {
      "text/plain": [
       "(array([ 32.,  97., 221., 389., 314., 260., 107.,  65.,  13.,   2.]),\n",
       " array([1.709985  , 1.7974677 , 1.88495041, 1.97243311, 2.05991582,\n",
       "        2.14739852, 2.23488123, 2.32236393, 2.40984664, 2.49732934,\n",
       "        2.58481205]),\n",
       " <a list of 10 Patch objects>)"
      ]
     },
     "execution_count": 36,
     "metadata": {},
     "output_type": "execute_result"
    },
    {
     "data": {
      "image/png": "[encoded data removed]",
      "text/plain": [
       "<Figure size 432x288 with 1 Axes>"
      ]
     },
     "metadata": {
      "needs_background": "light"
     },
     "output_type": "display_data"
    }
   ],
   "source": [
    "plt.hist(my_demcmc.samples[:, 4, :][500:, 1], bins = 10)"
   ]
  },
  {
   "cell_type": "code",
   "execution_count": 16,
   "metadata": {},
   "outputs": [],
   "source": [
    "def flipped_logistic(x = 0, x_0 = 100, k = 1, L = 10):\n",
    "    return 1 + 2*L - (2*L / (1 + np.exp(-k * (x - x_0))))"
   ]
  },
  {
   "cell_type": "code",
   "execution_count": 17,
   "metadata": {},
   "outputs": [],
   "source": [
    "t = np.linspace(0, 2000, 1000)\n",
    "x = np.zeros(1000)\n",
    "y = np.zeros(1000)"
   ]
  },
  {
   "cell_type": "code",
   "execution_count": 18,
   "metadata": {},
   "outputs": [],
   "source": [
    "x_0 = 100\n",
    "k = 1\n",
    "L = 10\n",
    "cnt = 0\n",
    "for tmp in t:\n",
    "    x[cnt] = flipped_logistic(x = tmp, x_0 = 0, k = 1/50, L = 10)\n",
    "    cnt += 1"
   ]
  },
  {
   "cell_type": "code",
   "execution_count": 19,
   "metadata": {},
   "outputs": [
    {
     "data": {
      "text/plain": [
       "[<matplotlib.lines.Line2D at 0x7fd55170e5f8>]"
      ]
     },
     "execution_count": 19,
     "metadata": {},
     "output_type": "execute_result"
    },
    {
     "data": {
      "image/png": "[encoded data removed]",
      "text/plain": [
       "<Figure size 432x288 with 1 Axes>"
      ]
     },
     "metadata": {
      "needs_background": "light"
     },
     "output_type": "display_data"
    }
   ],
   "source": [
    "plt.plot(t, x)"
   ]
  },
  {
   "cell_type": "code",
   "execution_count": 21,
   "metadata": {},
   "outputs": [
    {
     "data": {
      "text/plain": [
       "1.0000000404059932"
      ]
     },
     "execution_count": 21,
     "metadata": {},
     "output_type": "execute_result"
    }
   ],
   "source": [
    "x[500]"
   ]
  },
  {
   "cell_type": "code",
   "execution_count": 27,
   "metadata": {},
   "outputs": [
    {
     "data": {
      "text/plain": [
       "2.0455124640963187"
      ]
     },
     "execution_count": 27,
     "metadata": {},
     "output_type": "execute_result"
    }
   ],
   "source": [
    "np.sqrt(np.var(data))"
   ]
  },
  {
   "cell_type": "code",
   "execution_count": 28,
   "metadata": {},
   "outputs": [
    {
     "data": {
      "text/plain": [
       "-0.07230241803522647"
      ]
     },
     "execution_count": 28,
     "metadata": {},
     "output_type": "execute_result"
    }
   ],
   "source": [
    "np.mean(data)"
   ]
  },
  {
   "cell_type": "code",
   "execution_count": null,
   "metadata": {},
   "outputs": [],
   "source": []
  }
 ],
 "metadata": {
  "kernelspec": {
   "display_name": "Python 3",
   "language": "python",
   "name": "python3"
  },
  "language_info": {
   "codemirror_mode": {
    "name": "ipython",
    "version": 3
   },
   "file_extension": ".py",
   "mimetype": "text/x-python",
   "name": "python",
   "nbconvert_exporter": "python",
   "pygments_lexer": "ipython3",
   "version": "3.7.3"
  }
 },
 "nbformat": 4,
 "nbformat_minor": 2
}
