{
 "cells": [
  {
   "cell_type": "code",
   "execution_count": 2,
   "metadata": {},
   "outputs": [],
   "source": [
    "#from slice_sampler import SliceSampler\n",
    "#from mh_componentwise import MetropolisHastingsComponentwise\n",
    "from samplers import SliceSampler\n",
    "#import de_mcmc_one_core as demcmc\n",
    "import numpy as np\n",
    "import scipy.stats as scps\n",
    "import pickle\n",
    "import matplotlib.pyplot as plt"
   ]
  },
  {
   "cell_type": "code",
   "execution_count": 4,
   "metadata": {},
   "outputs": [],
   "source": [
    "def normal_target(params, data):\n",
    "    lp = 0\n",
    "    for i in range(data.shape[0]):\n",
    "        lp += scps.norm.logpdf(data[i], loc = params[0], scale = params[1])\n",
    "    return lp"
   ]
  },
  {
   "cell_type": "code",
   "execution_count": 5,
   "metadata": {},
   "outputs": [],
   "source": [
    "data = np.random.normal(loc = 0, scale = 2, size = 100)\n",
    "bounds = np.array([[-10, 10], [0.1, 5]])"
   ]
  },
  {
   "cell_type": "code",
   "execution_count": 6,
   "metadata": {},
   "outputs": [],
   "source": [
    "my_slice_sampler = SliceSampler(bounds = bounds, target = normal_target)"
   ]
  },
  {
   "cell_type": "code",
   "execution_count": 7,
   "metadata": {},
   "outputs": [
    {
     "name": "stdout",
     "output_type": "stream",
     "text": [
      "Beginning sampling...\n",
      "Iteration 1\n",
      "Iteration 2\n",
      "Iteration 3\n",
      "Iteration 4\n",
      "Iteration 5\n",
      "Iteration 6\n",
      "Iteration 7\n",
      "Iteration 8\n",
      "Iteration 9\n",
      "Iteration 10\n",
      "Iteration 11\n",
      "Iteration 12\n",
      "Iteration 13\n",
      "Iteration 14\n",
      "Iteration 15\n",
      "Iteration 16\n",
      "Iteration 17\n",
      "Iteration 18\n",
      "Iteration 19\n",
      "Iteration 20\n",
      "Iteration 21\n",
      "Iteration 22\n",
      "Iteration 23\n",
      "Iteration 24\n",
      "Iteration 25\n",
      "Iteration 26\n",
      "Iteration 27\n",
      "Iteration 28\n",
      "Iteration 29\n",
      "Iteration 30\n",
      "Iteration 31\n",
      "Iteration 32\n",
      "Iteration 33\n",
      "Iteration 34\n",
      "Iteration 35\n",
      "Iteration 36\n",
      "Iteration 37\n",
      "Iteration 38\n",
      "Iteration 39\n",
      "Iteration 40\n",
      "Iteration 41\n",
      "Iteration 42\n",
      "Iteration 43\n",
      "Iteration 44\n",
      "Iteration 45\n",
      "Iteration 46\n",
      "Iteration 47\n",
      "Iteration 48\n",
      "Iteration 49\n",
      "Iteration 50\n",
      "Iteration 51\n",
      "Iteration 52\n",
      "Iteration 53\n",
      "Iteration 54\n",
      "Iteration 55\n",
      "Iteration 56\n",
      "Iteration 57\n",
      "Iteration 58\n",
      "Iteration 59\n",
      "Iteration 60\n",
      "Iteration 61\n",
      "Iteration 62\n",
      "Iteration 63\n",
      "Iteration 64\n",
      "Iteration 65\n",
      "Iteration 66\n",
      "Iteration 67\n",
      "Iteration 68\n",
      "Iteration 69\n",
      "Iteration 70\n",
      "Iteration 71\n",
      "Iteration 72\n",
      "Iteration 73\n",
      "Iteration 74\n",
      "Iteration 75\n",
      "Iteration 76\n",
      "Iteration 77\n",
      "Iteration 78\n",
      "Iteration 79\n",
      "Iteration 80\n",
      "Iteration 81\n",
      "Iteration 82\n",
      "Iteration 83\n",
      "Iteration 84\n",
      "Iteration 85\n",
      "Iteration 86\n",
      "Iteration 87\n",
      "Iteration 88\n",
      "Iteration 89\n",
      "Iteration 90\n",
      "Iteration 91\n",
      "Iteration 92\n",
      "Iteration 93\n",
      "Iteration 94\n",
      "Iteration 95\n",
      "Iteration 96\n",
      "Iteration 97\n",
      "Iteration 98\n",
      "Iteration 99\n"
     ]
    }
   ],
   "source": [
    "my_slice_sampler.sample(data, num_samples = 100, method = 'doubling', init = 'random', add = False)"
   ]
  },
  {
   "cell_type": "code",
   "execution_count": null,
   "metadata": {},
   "outputs": [],
   "source": [
    "plt.scatter(my_slice_sampler.samples[400:, 0], my_slice_sampler.samples[400:, 1])\n",
    "plt.xlabel('mean')\n",
    "plt.ylabel('sd')"
   ]
  },
  {
   "cell_type": "code",
   "execution_count": null,
   "metadata": {},
   "outputs": [],
   "source": [
    "plt.hist(my_slice_sampler.samples[400:, 0])"
   ]
  },
  {
   "cell_type": "code",
   "execution_count": null,
   "metadata": {},
   "outputs": [],
   "source": [
    "plt.hist(my_slice_sampler.samples[400:, 1])"
   ]
  },
  {
   "cell_type": "code",
   "execution_count": null,
   "metadata": {},
   "outputs": [],
   "source": [
    "my_slice_sampler.samples.shape"
   ]
  },
  {
   "cell_type": "code",
   "execution_count": null,
   "metadata": {},
   "outputs": [],
   "source": [
    "# Metropolis Hastings componentwise\n",
    "mh_sampler = MetropolisHastingsComponentwise(dims = 2,\n",
    "                                             num_chains = 4, \n",
    "                                             bounds = bounds, \n",
    "                                             target = normal_target, \n",
    "                                             proposal_var = 0.1)"
   ]
  },
  {
   "cell_type": "code",
   "execution_count": null,
   "metadata": {},
   "outputs": [],
   "source": [
    "mh_sampler.sample(data = data, num_samples = 500, add = True, n_cores = 4)"
   ]
  },
  {
   "cell_type": "code",
   "execution_count": null,
   "metadata": {},
   "outputs": [],
   "source": [
    "# SOME GRAPHS\n",
    "plt.scatter(mh_sampler.samples[:, 2, :][:, 0], mh_sampler.samples[:, 2, :][:, 1], alpha = 0.01)"
   ]
  },
  {
   "cell_type": "code",
   "execution_count": null,
   "metadata": {},
   "outputs": [],
   "source": [
    "plt.plot(np.arange(0, 3000, 1), mh_sampler.samples[:, 1, :][:, 1])"
   ]
  },
  {
   "cell_type": "code",
   "execution_count": null,
   "metadata": {},
   "outputs": [],
   "source": [
    "plt.plot(np.arange(0, 3000, 1), mh_sampler.samples[:, 1, :][:, 0])"
   ]
  },
  {
   "cell_type": "code",
   "execution_count": null,
   "metadata": {},
   "outputs": [],
   "source": [
    "plt.hist(mh_sampler.samples[1500:, 2, :][:, 0], bins = 30)"
   ]
  },
  {
   "cell_type": "code",
   "execution_count": null,
   "metadata": {},
   "outputs": [],
   "source": [
    "plt.hist(mh_sampler.samples[1500:, 2, :][:, 1], bins = 30)"
   ]
  },
  {
   "cell_type": "code",
   "execution_count": null,
   "metadata": {},
   "outputs": [],
   "source": [
    "mh_sampler.samples[101, :, :]"
   ]
  },
  {
   "cell_type": "code",
   "execution_count": null,
   "metadata": {},
   "outputs": [],
   "source": []
  },
  {
   "cell_type": "code",
   "execution_count": null,
   "metadata": {},
   "outputs": [],
   "source": [
    "# DEMCMC\n",
    "my_demcmc = demcmc.DifferentialEvolutionSequential(bounds = bounds, target = normal_target)"
   ]
  },
  {
   "cell_type": "code",
   "execution_count": null,
   "metadata": {},
   "outputs": [],
   "source": [
    "my_demcmc.sample(data = data, num_samples = 2000, add = False, crossover = True, anneal_k = 1 / 50)"
   ]
  },
  {
   "cell_type": "code",
   "execution_count": null,
   "metadata": {},
   "outputs": [],
   "source": [
    "plt.plot(np.arange(0, 2000, 1), my_demcmc.samples[:, 3, :][:, 0])"
   ]
  },
  {
   "cell_type": "code",
   "execution_count": null,
   "metadata": {},
   "outputs": [],
   "source": [
    "plt.plot(np.arange(0,2000, 1), my_demcmc.samples[:, 3, :][:, 1])"
   ]
  },
  {
   "cell_type": "code",
   "execution_count": null,
   "metadata": {},
   "outputs": [],
   "source": [
    "plt.hist(my_demcmc.samples[:, 4, :][500:, 1], bins = 10)"
   ]
  },
  {
   "cell_type": "code",
   "execution_count": null,
   "metadata": {},
   "outputs": [],
   "source": [
    "def flipped_logistic(x = 0, x_0 = 100, k = 1, L = 10):\n",
    "    return 1 + 2*L - (2*L / (1 + np.exp(-k * (x - x_0))))"
   ]
  },
  {
   "cell_type": "code",
   "execution_count": null,
   "metadata": {},
   "outputs": [],
   "source": [
    "t = np.linspace(0, 2000, 1000)\n",
    "x = np.zeros(1000)\n",
    "y = np.zeros(1000)"
   ]
  },
  {
   "cell_type": "code",
   "execution_count": null,
   "metadata": {},
   "outputs": [],
   "source": [
    "x_0 = 100\n",
    "k = 1\n",
    "L = 10\n",
    "cnt = 0\n",
    "for tmp in t:\n",
    "    x[cnt] = flipped_logistic(x = tmp, x_0 = 0, k = 1/50, L = 10)\n",
    "    cnt += 1"
   ]
  },
  {
   "cell_type": "code",
   "execution_count": null,
   "metadata": {},
   "outputs": [],
   "source": [
    "plt.plot(t, x)"
   ]
  },
  {
   "cell_type": "code",
   "execution_count": null,
   "metadata": {},
   "outputs": [],
   "source": [
    "x[500]"
   ]
  },
  {
   "cell_type": "code",
   "execution_count": null,
   "metadata": {},
   "outputs": [],
   "source": [
    "np.sqrt(np.var(data))"
   ]
  },
  {
   "cell_type": "code",
   "execution_count": null,
   "metadata": {},
   "outputs": [],
   "source": [
    "np.mean(data)"
   ]
  },
  {
   "cell_type": "code",
   "execution_count": null,
   "metadata": {},
   "outputs": [],
   "source": [
    "h = 0"
   ]
  },
  {
   "cell_type": "code",
   "execution_count": null,
   "metadata": {},
   "outputs": [],
   "source": [
    "h == 'hello'"
   ]
  },
  {
   "cell_type": "code",
   "execution_count": 60,
   "metadata": {},
   "outputs": [],
   "source": [
    "file_params = '/media/data_cifs/afengler/data/kde/ddm/parameter_recovery_data_binned_0_nbins_0_n_1024/ddm_nchoices_2_parameter_recovery_binned_0_nbins_0_nreps_1_n_1024.pickle' \n",
    "file_samples = '/media/data_cifs/afengler/data/kde/ddm/method_comparison/post_samp_data_param_recov_unif_reps_1_n_1024_1_1.pickle'\n",
    "tmp = '/media/data_cifs/afengler/data/kde/angle/parameter_recovery_data_binned_0_nbins_0_n_1024/angle_nchoices_2_parameter_recovery_binned_0_nbins_0_nreps_1_n_1024.pickle'\n",
    "params = pickle.load(open(file_params, 'rb'))\n",
    "samples = pickle.load(open(file_samples, 'rb'))\n",
    "tmp_ = pickle.load(open(tmp, 'rb'))"
   ]
  },
  {
   "cell_type": "code",
   "execution_count": 66,
   "metadata": {},
   "outputs": [
    {
     "data": {
      "text/plain": [
       "(array([ 81.,  96.,  92., 114.,  97., 122.,  99., 116.,  82., 101.]),\n",
       " array([0.3001921 , 0.3401541 , 0.38011616, 0.42007822, 0.46004024,\n",
       "        0.50000226, 0.5399643 , 0.5799264 , 0.6198884 , 0.6598504 ,\n",
       "        0.6998125 ], dtype=float32),\n",
       " <a list of 10 Patch objects>)"
      ]
     },
     "execution_count": 66,
     "metadata": {},
     "output_type": "execute_result"
    },
    {
     "data": {
      "image/png": "[encoded data removed]",
      "text/plain": [
       "<Figure size 432x288 with 1 Axes>"
      ]
     },
     "metadata": {
      "needs_background": "light"
     },
     "output_type": "display_data"
    }
   ],
   "source": [
    "plt.hist(tmp_[0][:, 3])"
   ]
  },
  {
   "cell_type": "code",
   "execution_count": 13,
   "metadata": {},
   "outputs": [],
   "source": [
    "samples_new = samples[2].reshape((-1, 5000, 4))"
   ]
  },
  {
   "cell_type": "code",
   "execution_count": 32,
   "metadata": {},
   "outputs": [],
   "source": [
    "samples_new = samples[2][:, 500:2200, :].reshape(1, -1, 4)"
   ]
  },
  {
   "cell_type": "code",
   "execution_count": 33,
   "metadata": {},
   "outputs": [
    {
     "data": {
      "text/plain": [
       "(array([  78.,  455., 1907., 4296., 6392., 6627., 4695., 1920.,  660.,\n",
       "         170.]),\n",
       " array([0.95881779, 0.99157137, 1.02432496, 1.05707854, 1.08983213,\n",
       "        1.12258571, 1.15533929, 1.18809288, 1.22084646, 1.25360004,\n",
       "        1.28635363]),\n",
       " <a list of 10 Patch objects>)"
      ]
     },
     "execution_count": 33,
     "metadata": {},
     "output_type": "execute_result"
    },
    {
     "data": {
      "image/png": "[encoded data removed]",
      "text/plain": [
       "<Figure size 432x288 with 1 Axes>"
      ]
     },
     "metadata": {
      "needs_background": "light"
     },
     "output_type": "display_data"
    }
   ],
   "source": [
    "plt.hist(samples_new[0, :, 0])"
   ]
  },
  {
   "cell_type": "code",
   "execution_count": 35,
   "metadata": {},
   "outputs": [
    {
     "data": {
      "text/plain": [
       "(array([ 192., 1815., 4705., 6600., 7069., 4449., 1787.,  496.,   69.,\n",
       "          18.]),\n",
       " array([0.96902016, 0.98509573, 1.00117129, 1.01724686, 1.03332242,\n",
       "        1.04939799, 1.06547355, 1.08154912, 1.09762469, 1.11370025,\n",
       "        1.12977582]),\n",
       " <a list of 10 Patch objects>)"
      ]
     },
     "execution_count": 35,
     "metadata": {},
     "output_type": "execute_result"
    },
    {
     "data": {
      "image/png": "[encoded data removed]",
      "text/plain": [
       "<Figure size 432x288 with 1 Axes>"
      ]
     },
     "metadata": {
      "needs_background": "light"
     },
     "output_type": "display_data"
    }
   ],
   "source": [
    "plt.hist(samples_new[0, :, 1])"
   ]
  },
  {
   "cell_type": "code",
   "execution_count": 34,
   "metadata": {},
   "outputs": [
    {
     "data": {
      "text/plain": [
       "(array([  92.,  394., 1611., 4079., 5861., 6288., 5435., 2405.,  894.,\n",
       "         141.]),\n",
       " array([0.46511685, 0.47486465, 0.48461246, 0.49436026, 0.50410807,\n",
       "        0.51385587, 0.52360367, 0.53335148, 0.54309928, 0.55284708,\n",
       "        0.56259489]),\n",
       " <a list of 10 Patch objects>)"
      ]
     },
     "execution_count": 34,
     "metadata": {},
     "output_type": "execute_result"
    },
    {
     "data": {
      "image/png": "[encoded data removed]",
      "text/plain": [
       "<Figure size 432x288 with 1 Axes>"
      ]
     },
     "metadata": {
      "needs_background": "light"
     },
     "output_type": "display_data"
    }
   ],
   "source": [
    "plt.hist(samples_new[0, :, 2])"
   ]
  },
  {
   "cell_type": "code",
   "execution_count": 36,
   "metadata": {},
   "outputs": [
    {
     "data": {
      "text/plain": [
       "(array([  82.,  260., 1308., 3342., 5989., 6744., 5905., 2929.,  575.,\n",
       "          66.]),\n",
       " array([0.34244191, 0.35099   , 0.3595381 , 0.36808619, 0.37663429,\n",
       "        0.38518239, 0.39373048, 0.40227858, 0.41082667, 0.41937477,\n",
       "        0.42792286]),\n",
       " <a list of 10 Patch objects>)"
      ]
     },
     "execution_count": 36,
     "metadata": {},
     "output_type": "execute_result"
    },
    {
     "data": {
      "image/png": "[encoded data removed]",
      "text/plain": [
       "<Figure size 432x288 with 1 Axes>"
      ]
     },
     "metadata": {
      "needs_background": "light"
     },
     "output_type": "display_data"
    }
   ],
   "source": [
    "plt.hist(samples_new[0, :, 3])"
   ]
  },
  {
   "cell_type": "code",
   "execution_count": 39,
   "metadata": {},
   "outputs": [
    {
     "data": {
      "text/plain": [
       "array([1.1310825, 1.063528 , 0.509888 , 0.3825516], dtype=float32)"
      ]
     },
     "execution_count": 39,
     "metadata": {},
     "output_type": "execute_result"
    }
   ],
   "source": [
    "params[0][0]"
   ]
  },
  {
   "cell_type": "code",
   "execution_count": 58,
   "metadata": {},
   "outputs": [
    {
     "ename": "IndexError",
     "evalue": "index 4 is out of bounds for axis 1 with size 4",
     "output_type": "error",
     "traceback": [
      "\u001b[0;31m---------------------------------------------------------------------------\u001b[0m",
      "\u001b[0;31mIndexError\u001b[0m                                Traceback (most recent call last)",
      "\u001b[0;32m<ipython-input-58-3f3b9c55acbc>\u001b[0m in \u001b[0;36m<module>\u001b[0;34m\u001b[0m\n\u001b[0;32m----> 1\u001b[0;31m \u001b[0mplt\u001b[0m\u001b[0;34m.\u001b[0m\u001b[0mhist\u001b[0m\u001b[0;34m(\u001b[0m\u001b[0msamples\u001b[0m\u001b[0;34m[\u001b[0m\u001b[0;36m0\u001b[0m\u001b[0;34m]\u001b[0m\u001b[0;34m[\u001b[0m\u001b[0;34m:\u001b[0m\u001b[0;34m,\u001b[0m\u001b[0;36m4\u001b[0m\u001b[0;34m]\u001b[0m\u001b[0;34m)\u001b[0m\u001b[0;34m\u001b[0m\u001b[0;34m\u001b[0m\u001b[0m\n\u001b[0m",
      "\u001b[0;31mIndexError\u001b[0m: index 4 is out of bounds for axis 1 with size 4"
     ]
    }
   ],
   "source": [
    "plt.hist(samples[0][:,4])"
   ]
  },
  {
   "cell_type": "code",
   "execution_count": 53,
   "metadata": {},
   "outputs": [
    {
     "data": {
      "text/plain": [
       "array([ 1.13108253e+00,  1.50595546e+00,  2.64030037e-04,  1.03945255e+00,\n",
       "        9.72060680e-01,  1.47717023e+00,  1.62994063e+00, -5.03942907e-01,\n",
       "        1.46707082e+00, -1.69532347e+00,  4.48494673e-01,  1.04588509e+00,\n",
       "       -1.45120132e+00, -8.92239332e-01,  1.86450750e-01,  1.46479321e+00,\n",
       "       -7.90214837e-01,  1.64221418e+00, -6.01738155e-01, -1.68785167e+00,\n",
       "        1.60145247e+00,  1.03708422e+00,  1.58776748e+00,  8.81571546e-02,\n",
       "       -5.79399407e-01,  5.74788511e-01,  1.38699383e-01,  1.49429381e+00,\n",
       "        9.04295266e-01, -1.32516444e+00, -1.40527487e+00, -9.78312850e-01,\n",
       "        2.89856177e-02, -9.87210393e-01,  1.34342492e+00, -1.68402329e-01,\n",
       "        1.62008494e-01,  1.43110931e+00, -9.86820817e-01,  7.88139045e-01,\n",
       "        2.11264491e-01, -1.50952458e+00, -3.22155617e-02,  8.58386159e-01,\n",
       "        9.04539227e-01,  9.09530222e-01, -1.21955323e+00, -1.52911520e+00,\n",
       "        8.74643847e-02, -5.99075973e-01, -1.16029930e+00, -2.80007541e-01,\n",
       "       -1.18576789e+00, -1.43895602e+00, -2.35067174e-01, -3.65236402e-02,\n",
       "       -8.00750554e-01,  7.09087968e-01, -1.23519111e+00,  1.58584762e+00,\n",
       "        1.02140272e+00, -1.00045002e+00,  1.31264031e+00,  4.63000536e-01,\n",
       "       -7.19064415e-01, -2.52789080e-01,  6.97542489e-01,  1.18014479e+00,\n",
       "       -2.07567498e-01,  1.23842108e+00, -6.32145345e-01,  2.60873705e-01,\n",
       "       -4.88277256e-01,  5.77101298e-02,  1.13794875e+00,  8.68011892e-01,\n",
       "       -1.62156367e+00, -1.46707106e+00, -1.04560828e+00, -1.48689270e+00,\n",
       "       -3.10746372e-01, -4.72349793e-01,  1.48603117e+00, -2.31268182e-01,\n",
       "        7.94293642e-01,  1.45402563e+00, -1.48353672e+00, -1.15122056e+00,\n",
       "       -1.66029549e+00, -6.00026011e-01,  5.38863361e-01, -4.20290351e-01,\n",
       "        5.99612832e-01,  9.75390449e-02, -1.37269580e+00, -1.47102201e+00,\n",
       "        8.90816391e-01,  1.56482935e+00,  1.54685318e+00, -4.50129330e-01,\n",
       "       -8.74535084e-01, -5.47054291e-01,  1.44165897e+00,  7.50425518e-01,\n",
       "       -1.36058223e+00, -1.65307212e+00, -8.67593102e-03,  1.63423848e+00,\n",
       "       -7.95625985e-01,  2.92112797e-01, -2.88694173e-01, -1.45742083e+00,\n",
       "        6.38485730e-01, -7.16749355e-02, -1.57095027e+00,  1.07647371e+00,\n",
       "       -1.56680298e+00,  5.71121931e-01,  1.43058705e+00,  1.15048492e+00,\n",
       "       -3.30537915e-01, -5.88566422e-01,  7.06498623e-02,  5.74774027e-01,\n",
       "        5.01576066e-01, -1.04104722e+00, -2.79292583e-01,  1.38383186e+00,\n",
       "       -9.27980125e-01, -1.02797377e+00,  6.70485795e-01,  1.47156310e+00,\n",
       "        4.51857716e-01, -1.12240233e-01,  3.46353799e-01,  1.17852485e+00,\n",
       "       -9.52269018e-01, -5.15420258e-01,  1.22851186e-01,  5.86112142e-01,\n",
       "        1.17798018e+00, -6.05938770e-02, -1.36941648e+00, -6.31287098e-01,\n",
       "        5.31127095e-01,  1.22371411e+00,  1.34405088e+00, -7.90661693e-01,\n",
       "       -1.08617115e+00,  7.86252141e-01, -1.36620724e+00, -1.10233140e+00,\n",
       "        7.96144545e-01,  1.32568276e+00,  6.32420719e-01, -1.02073169e+00,\n",
       "        1.55660284e+00, -4.60666001e-01, -1.56057191e+00, -1.93021163e-01,\n",
       "       -2.75778085e-01, -1.29375339e+00, -9.85950768e-01, -1.17628908e+00,\n",
       "       -2.33156487e-01,  4.08416480e-01, -1.38838613e+00,  1.46259058e+00,\n",
       "        4.80840445e-01, -1.36438465e+00,  7.56940007e-01,  2.82096475e-01,\n",
       "       -7.74599135e-01,  1.11110115e+00,  1.67384338e+00,  4.31571722e-01,\n",
       "       -3.80043864e-01,  1.51291028e-01,  1.43306446e+00,  3.34791124e-01,\n",
       "        7.74930120e-01, -4.25977021e-01,  1.44726539e+00, -3.40472370e-01,\n",
       "       -7.73340940e-01,  1.24853492e+00, -4.36541438e-01, -1.50154591e+00,\n",
       "       -1.20334673e+00, -1.02074647e+00, -1.48090315e+00, -6.14963651e-01,\n",
       "       -6.22171104e-01,  1.44978452e+00, -1.47328627e+00,  1.47930992e+00,\n",
       "        9.75481331e-01,  1.24273396e+00, -1.20666993e+00,  2.57751226e-01,\n",
       "        1.66310787e+00,  1.46002936e+00, -7.63288617e-01,  7.82868981e-01,\n",
       "       -6.48041070e-01,  5.36064468e-02, -1.37487245e+00,  1.57100058e+00,\n",
       "       -6.43231153e-01, -8.66945505e-01,  1.26602873e-01,  3.79897416e-01,\n",
       "       -8.53826702e-01, -1.03397453e+00,  4.70587946e-02,  5.22095025e-01,\n",
       "       -1.92266792e-01, -7.75298893e-01,  1.51003671e+00,  1.68690276e+00,\n",
       "        7.83181489e-01, -1.01786983e+00,  8.12993348e-02,  1.34908989e-01,\n",
       "        1.24770272e+00, -9.81622279e-01,  1.27859199e+00,  3.79348546e-01,\n",
       "        1.73966039e-03,  1.01815188e+00,  6.52964413e-01,  3.18844676e-01,\n",
       "        7.61029065e-01, -4.61840004e-01, -1.12228048e+00,  3.39227974e-01,\n",
       "        2.83609182e-01,  1.08803463e+00,  1.35254669e+00,  1.37840438e+00,\n",
       "        6.89062297e-01, -1.34648418e+00, -5.79475284e-01, -3.84397954e-02,\n",
       "       -5.14601246e-02,  8.67371559e-02, -1.37671030e+00, -1.19635201e+00,\n",
       "        1.27381814e+00, -1.10905004e+00,  4.63186026e-01, -5.14656365e-01,\n",
       "        1.57303691e+00, -8.43304515e-01,  1.11853194e+00, -7.49473274e-01,\n",
       "        3.75232011e-01, -1.55526066e+00, -1.58647752e+00,  4.58968692e-02,\n",
       "        1.69968057e+00,  2.35649750e-01,  1.68865132e+00,  1.17855215e+00,\n",
       "       -9.18133020e-01, -4.04826581e-01, -1.49348259e+00, -1.64554083e+00,\n",
       "        5.78091860e-01,  1.09997475e+00,  1.27994192e+00, -3.07063997e-01,\n",
       "        1.19818294e+00, -4.64569271e-01, -1.45356584e+00, -4.38759178e-01,\n",
       "        9.52347159e-01,  1.31320685e-01,  4.62106735e-01,  8.47924829e-01,\n",
       "       -3.61051023e-01, -1.63917506e+00,  8.37428942e-02,  6.99730635e-01,\n",
       "       -4.22066361e-01, -2.06319004e-01, -1.05051370e-02,  1.42157817e+00,\n",
       "        6.49719313e-02, -1.19029117e+00, -1.15076756e+00, -1.59592283e+00,\n",
       "       -1.30055797e+00, -8.08645785e-01,  1.30555594e+00, -4.63651627e-01,\n",
       "        9.46641505e-01, -9.91524816e-01, -1.53346407e+00,  1.01676977e+00,\n",
       "        5.27103245e-01,  8.74961257e-01, -9.29156482e-01, -1.18753636e+00,\n",
       "       -1.09198046e+00,  1.68191636e+00,  1.39102137e+00,  5.59270144e-01,\n",
       "        6.58944368e-01, -3.61266211e-02, -6.29194379e-01,  9.47371602e-01,\n",
       "        1.27840006e+00,  3.16404402e-01,  1.54390407e+00, -1.12472546e+00,\n",
       "       -1.47743738e+00, -6.89820409e-01, -1.25396407e+00,  9.56521630e-01,\n",
       "        4.36248481e-01,  1.50363743e+00, -1.14520502e+00,  3.41925621e-01,\n",
       "       -1.03067112e+00, -1.21184301e+00, -9.78245854e-01,  3.61577451e-01,\n",
       "        1.43792367e+00,  1.61049962e+00, -9.61700380e-01,  1.62913859e+00,\n",
       "       -1.42921925e+00, -1.21463156e+00, -1.35636497e+00,  1.24260950e+00,\n",
       "        1.53249428e-01, -7.32771009e-02,  6.59473121e-01,  8.31759274e-01,\n",
       "       -1.14045811e+00, -1.60360932e+00, -7.59832978e-01, -5.88596821e-01,\n",
       "        9.65291202e-01, -3.05697381e-01,  1.87830940e-01,  6.67730689e-01,\n",
       "       -3.18075836e-01,  8.52040112e-01, -5.66484094e-01,  4.19711411e-01,\n",
       "       -1.43618548e+00,  9.25918996e-01, -7.53793567e-02, -1.52961707e+00,\n",
       "        9.18468714e-01, -9.18267295e-02,  1.43896019e+00, -8.49256516e-01,\n",
       "        6.44616008e-01,  7.75953710e-01,  1.44376075e+00,  4.23500985e-01,\n",
       "       -3.17849636e-01, -8.02009284e-01,  9.11340177e-01, -1.65702927e+00,\n",
       "       -1.16157055e+00, -5.25399387e-01,  3.21476072e-01, -1.44600070e+00,\n",
       "        1.02729023e+00, -5.00941455e-01,  4.97553140e-01,  5.96480191e-01,\n",
       "        5.17163277e-01,  1.12542063e-01, -4.45840299e-01, -1.81671396e-01,\n",
       "        2.14194402e-01,  1.54753327e+00,  1.05370331e+00, -9.28688169e-01,\n",
       "        2.44238764e-01,  5.62989712e-01, -1.53132570e+00,  8.79923105e-01,\n",
       "       -8.45232904e-01, -1.67968166e+00,  1.05361199e+00, -6.29681110e-01,\n",
       "        1.45417762e+00, -1.64217186e+00,  3.81895900e-02, -5.91222405e-01,\n",
       "        4.42144237e-02,  1.64382422e+00, -1.41852692e-01,  1.32435918e+00,\n",
       "        6.35313570e-01, -8.78075957e-01,  2.43377239e-01,  1.24550843e+00,\n",
       "        3.74154717e-01, -6.41979873e-01,  1.66700518e+00, -1.97076555e-02,\n",
       "       -1.59912431e+00, -1.88907400e-01,  1.54828513e+00, -1.25743163e+00,\n",
       "        2.60654420e-01,  1.67843103e+00, -3.93684834e-01,  2.52633452e-01,\n",
       "       -6.66704178e-01, -3.98273885e-01, -1.37671316e+00,  8.22034597e-01,\n",
       "        1.10569930e+00, -1.44105625e+00, -6.51027024e-01, -1.48211670e+00,\n",
       "       -6.53051496e-01,  1.44821990e+00,  4.09215361e-01, -7.85513639e-01,\n",
       "       -8.87748525e-02, -5.42148063e-03, -1.53884441e-01, -7.61254251e-01,\n",
       "       -1.61404371e+00, -1.01910543e+00,  4.14106220e-01,  8.93014908e-01,\n",
       "       -6.26494765e-01, -1.65166235e+00,  2.19649971e-01,  2.01192573e-01,\n",
       "       -6.83785558e-01,  1.24941850e+00, -8.39336753e-01,  1.57663298e+00,\n",
       "       -1.50574374e+00,  1.47901642e+00, -5.99644780e-01, -8.19105387e-01,\n",
       "       -1.62835360e+00,  4.64336455e-01, -1.53431308e+00,  1.48060501e-01,\n",
       "        3.74294847e-01, -4.87789035e-01,  7.08026532e-03,  5.95847547e-01,\n",
       "       -1.34553170e+00,  9.96418476e-01, -5.10376036e-01, -8.71938348e-01,\n",
       "        1.47378647e+00, -2.28767797e-01,  1.22085977e+00,  3.27839345e-01,\n",
       "       -1.39615571e+00,  1.49059165e+00, -1.05329454e+00,  1.08889413e+00,\n",
       "       -8.56136441e-01,  1.14035428e+00, -2.84376323e-01,  8.17165673e-01,\n",
       "       -4.84481782e-01,  1.38244641e+00, -1.47329414e+00, -6.75696731e-01,\n",
       "       -1.64024711e+00,  1.20070207e+00, -1.10416198e-02, -1.01064563e+00,\n",
       "        1.50270653e+00,  3.02333385e-01, -1.25464439e-01, -7.72215962e-01,\n",
       "        9.47585464e-01, -1.05802453e+00,  1.43121600e+00,  4.43120718e-01,\n",
       "        7.12903678e-01,  1.44827807e+00, -3.08265179e-01, -1.28711224e+00,\n",
       "       -5.78638852e-01, -5.52955389e-01,  1.42137945e-01, -8.96693647e-01,\n",
       "        6.90687299e-01,  5.26579857e-01,  1.48024023e+00,  7.01856256e-01,\n",
       "       -1.05369759e+00, -8.82272840e-01,  1.52098691e+00, -7.36726284e-01,\n",
       "        5.71691729e-02,  5.39927423e-01,  2.64360040e-01,  1.62631083e+00,\n",
       "       -1.38266838e+00,  3.14562500e-01,  4.05636460e-01,  8.79185438e-01,\n",
       "       -7.79420584e-02,  1.52149403e+00,  8.98656473e-02,  5.53400815e-01,\n",
       "        9.66656208e-01, -5.94133258e-01,  1.00154662e+00, -5.81501015e-02,\n",
       "        1.10681462e+00,  7.17848003e-01, -1.48192656e+00, -1.04902446e+00,\n",
       "       -7.65731394e-01,  7.06398547e-01,  9.27015960e-01, -1.40373659e+00,\n",
       "        6.58448696e-01,  6.50477588e-01, -7.91251719e-01, -1.13748634e+00,\n",
       "        1.37163877e+00, -1.18800473e+00,  1.57562745e+00, -1.58574179e-01,\n",
       "        1.16606001e-02, -7.01151729e-01, -7.46760249e-01, -8.53375793e-01,\n",
       "       -6.76892340e-01, -1.40329480e+00,  1.47797930e+00,  1.24823570e+00,\n",
       "       -1.10358760e-01, -6.23724580e-01, -7.77995944e-01,  1.31391382e+00,\n",
       "        5.55048823e-01, -4.90076303e-01,  4.57340926e-01,  9.95023191e-01,\n",
       "        1.54014695e+00,  2.24445120e-01,  1.06842721e+00,  1.39243925e+00,\n",
       "        1.65489078e+00, -1.67124979e-02,  1.55317080e+00,  9.70071852e-01,\n",
       "       -1.18709862e+00, -6.82618558e-01, -1.73157156e-01,  1.56211483e+00,\n",
       "        6.76565170e-01,  1.62531030e+00,  5.00896394e-01,  1.63060987e+00,\n",
       "        1.24315965e+00,  1.13039088e+00, -9.26157176e-01, -9.70940769e-01,\n",
       "        1.41639829e-01, -1.05210543e-01, -1.15614867e+00,  5.69836199e-01,\n",
       "       -1.23171520e+00, -1.48408055e-01, -8.51304978e-02, -9.29087937e-01,\n",
       "        7.85261810e-01, -1.66060841e+00,  1.22033668e+00, -9.96542335e-01,\n",
       "       -2.69472867e-01, -1.60447240e+00, -2.27238789e-01,  3.91282856e-01,\n",
       "       -9.41350877e-01, -1.52048945e+00, -1.63868845e+00,  1.60796869e+00,\n",
       "        5.41846395e-01, -1.60252917e+00,  4.74450648e-01, -7.04811931e-01,\n",
       "       -1.64842331e+00,  1.06144536e+00,  5.07544339e-01,  1.66479266e+00,\n",
       "        7.35323191e-01, -6.66032791e-01, -2.55782306e-01,  1.17388356e+00,\n",
       "       -1.12504017e+00,  7.35232681e-02,  7.32860923e-01, -1.65558410e+00,\n",
       "        1.67852536e-01, -3.99053812e-01, -1.25512373e+00, -5.06182075e-01,\n",
       "       -8.37771118e-01, -8.06840539e-01, -5.23983777e-01, -1.01342463e+00,\n",
       "       -9.64920700e-01, -3.68220299e-01,  3.43635499e-01,  4.18886185e-01,\n",
       "       -1.28720129e+00, -1.25838792e+00,  9.27058980e-02,  1.54798865e+00,\n",
       "       -1.14177930e+00,  2.30589211e-01, -1.59843791e+00,  2.38405153e-01,\n",
       "       -1.43220913e+00,  1.46912324e+00,  9.61934924e-01,  6.15966618e-01,\n",
       "        2.72849292e-01, -7.60219812e-01,  1.23625207e+00,  1.49338877e+00,\n",
       "       -4.96872663e-01,  7.04947591e-01,  9.76242959e-01,  6.71035126e-02,\n",
       "        1.17148900e+00, -1.66597092e+00,  6.29764199e-01,  7.52077878e-01,\n",
       "       -1.58504760e+00, -1.22774696e+00,  1.88460097e-01, -2.95069873e-01,\n",
       "        8.88717413e-01,  9.15150046e-01, -5.83601534e-01, -1.20926619e+00,\n",
       "        9.64348674e-01, -1.58625031e+00,  1.28574109e+00, -1.04310167e+00,\n",
       "       -1.04530537e+00,  1.46641779e+00,  3.07879120e-01, -1.09899318e+00,\n",
       "        1.51276243e+00, -1.40632725e+00, -1.08999598e+00,  9.87855971e-01,\n",
       "        1.22157443e+00,  1.59944749e+00, -8.54809761e-01,  1.55297804e+00,\n",
       "        8.65966260e-01, -2.74822503e-01,  4.58998889e-01, -1.66923571e+00,\n",
       "        1.35452294e+00,  6.23035967e-01, -1.96342558e-01, -4.33976948e-01,\n",
       "        7.96020985e-01,  1.02309000e+00, -1.34982634e+00, -2.53522217e-01,\n",
       "        1.31325305e+00,  6.14211321e-01,  7.46204257e-01,  1.42355156e+00,\n",
       "        1.44758940e+00,  1.17215478e+00,  1.27664983e+00,  8.79800081e-01,\n",
       "       -1.00901330e+00,  3.15187238e-02,  1.55634552e-01,  5.96771121e-01,\n",
       "        1.44026172e+00, -1.61455011e+00,  1.40331030e+00,  2.18108624e-01,\n",
       "        1.29484868e+00, -1.47418439e+00,  6.64555490e-01,  2.18087777e-01,\n",
       "       -3.08553547e-01, -1.40297508e+00, -7.95420170e-01, -1.25082880e-01,\n",
       "        1.71450242e-01, -1.26104856e+00,  5.98055065e-01, -1.55110395e+00,\n",
       "       -1.28014362e+00,  5.52963376e-01, -1.05002713e+00, -1.94731385e-01,\n",
       "       -9.08106685e-01,  1.14187646e+00, -1.32317030e+00,  1.62603188e+00,\n",
       "       -9.14941281e-02, -3.69664520e-01,  1.60165811e+00, -1.49317741e+00,\n",
       "        7.59450793e-01, -1.30247808e+00, -1.69879127e+00,  7.68098056e-01,\n",
       "        7.12192476e-01, -1.01995289e+00,  1.39773476e+00, -1.20884848e+00,\n",
       "       -1.55291557e+00,  1.22043347e+00, -7.87137628e-01, -1.24234366e+00,\n",
       "        1.26900637e+00,  1.34467316e+00,  1.23391473e+00,  1.07248199e+00,\n",
       "       -8.66830111e-01,  8.00978601e-01,  1.67004973e-01,  1.40324378e+00,\n",
       "       -1.32059538e+00,  1.55869377e+00,  1.04935479e+00,  1.38329649e+00,\n",
       "       -3.93673658e-01,  5.04875481e-01, -1.04761505e+00, -1.62818146e+00,\n",
       "        3.55906129e-01,  1.87366903e-01,  7.04107583e-01,  8.40511203e-01,\n",
       "       -1.39115477e+00, -1.49324596e+00,  2.97642708e-01, -1.48911640e-01,\n",
       "        1.52339041e+00,  1.69362295e+00, -1.30817282e+00, -2.21741661e-01,\n",
       "       -1.35084677e+00,  1.49114144e+00, -1.00244343e+00,  1.66651475e+00,\n",
       "        1.42415583e+00, -1.54784703e+00, -1.03585649e+00, -1.24531162e+00,\n",
       "       -6.19530439e-01,  1.12337053e+00, -6.33497655e-01, -1.05333209e+00,\n",
       "       -1.00555480e+00, -8.53053689e-01, -2.55105346e-01,  4.98617560e-01,\n",
       "       -1.52339065e+00,  1.22958899e+00,  1.01459932e+00, -7.29023516e-01,\n",
       "       -8.73657167e-01, -1.03104389e+00,  8.78403485e-01,  5.60675450e-02,\n",
       "       -1.43186241e-01,  4.39856201e-01, -2.51252890e-01,  1.08457422e+00,\n",
       "        5.84483035e-02,  1.58035076e+00, -5.80734074e-01,  1.14493144e+00,\n",
       "        1.51653433e+00, -4.12665099e-01, -7.78844059e-02,  1.69066715e+00,\n",
       "        1.11292017e+00, -8.57251406e-01,  6.45893693e-01, -9.58004475e-01,\n",
       "        1.45149338e+00, -3.71851951e-01,  3.93485487e-01, -6.88755333e-01,\n",
       "       -4.05315638e-01, -3.07010412e-01,  1.00449514e+00,  1.64019656e+00,\n",
       "       -1.66261888e+00, -1.15071261e+00, -6.93223894e-01,  1.62789249e+00,\n",
       "        8.67367864e-01,  4.39941399e-02, -1.46806192e+00,  6.59894824e-01,\n",
       "        5.04350185e-01,  7.30060279e-01, -1.16309059e+00,  1.07781506e+00,\n",
       "       -1.19424796e+00,  6.03027105e-01, -1.31411278e+00, -4.54943106e-02,\n",
       "        1.37124920e+00, -5.79419911e-01,  1.18505013e+00,  1.43977940e+00,\n",
       "        6.77254856e-01, -5.44286788e-01, -9.42075014e-01,  1.35816479e+00,\n",
       "        6.01069070e-02, -9.82051909e-01, -3.62601399e-01, -5.18632948e-01,\n",
       "        7.27635741e-01, -4.32746261e-01, -2.92029798e-01,  1.18419755e+00,\n",
       "       -2.00835869e-01,  2.70614713e-01,  1.29026306e+00,  1.90494776e-01,\n",
       "       -1.03077841e+00, -5.40713429e-01,  1.31995273e+00,  2.69402564e-01,\n",
       "       -1.12582552e+00, -1.31416833e+00,  5.55130422e-01, -1.08184314e+00,\n",
       "        2.60671288e-01, -9.43701744e-01, -1.47339439e+00,  1.68244570e-01,\n",
       "        8.39880645e-01, -1.44588083e-01,  3.51364672e-01, -2.74140298e-01,\n",
       "       -7.60244966e-01, -7.67273366e-01, -7.08493739e-02, -1.91017359e-01,\n",
       "       -1.28407848e+00, -9.15230870e-01, -8.07345927e-01,  2.74577171e-01,\n",
       "       -5.69256067e-01, -9.11393464e-01,  7.11749017e-01,  5.15170515e-01,\n",
       "       -8.28318477e-01, -8.00161541e-01, -1.18180406e+00, -3.81566405e-01,\n",
       "       -1.40764630e+00, -9.14823890e-01,  1.04014301e+00, -1.02882183e+00,\n",
       "        2.99381196e-01,  1.06154191e+00,  1.71015218e-01, -1.52399874e+00,\n",
       "        8.38338196e-01, -1.59131360e+00,  3.36923927e-01, -5.53737998e-01,\n",
       "       -8.25170517e-01,  6.77862048e-01, -1.35311794e+00, -4.31588441e-02,\n",
       "        8.75471532e-01, -1.57919896e+00,  8.75847697e-01,  1.34785926e+00,\n",
       "        7.29616523e-01, -7.08025917e-02, -4.38252389e-01, -1.05023682e+00,\n",
       "        5.83817303e-01, -4.41493899e-01,  1.35158300e+00, -8.84662211e-01,\n",
       "       -2.50924021e-01, -1.36156893e+00,  1.38184106e+00, -1.18036556e+00,\n",
       "       -1.55512226e+00,  2.21162453e-01,  9.82922673e-01,  1.56936800e+00,\n",
       "        1.05134833e+00, -3.35740983e-01,  3.53770256e-01, -8.81455600e-01,\n",
       "        1.50566983e+00,  1.64670932e+00, -7.13335752e-01, -1.02095807e+00,\n",
       "       -1.59030569e+00,  1.52595508e+00,  8.75006735e-01, -4.47254270e-01,\n",
       "       -6.42577827e-01,  1.61455131e+00, -1.58028460e+00, -1.11238539e+00,\n",
       "       -3.95714283e-01,  7.10700452e-01,  9.35103953e-01,  4.92751032e-01,\n",
       "        7.27047741e-01,  1.23251653e+00, -1.69598043e+00,  1.20845997e+00,\n",
       "        4.57592636e-01,  1.52279377e-01, -9.74741697e-01,  2.95509994e-01,\n",
       "       -4.26859200e-01, -3.17940742e-01, -1.69519567e+00, -1.24822593e+00,\n",
       "       -2.15721935e-01, -1.68182409e+00,  3.17140996e-01, -1.50563693e+00,\n",
       "       -5.19973457e-01, -6.70166016e-01, -4.37640846e-01,  1.50482655e+00,\n",
       "       -2.27725446e-01,  8.87328923e-01,  1.67861104e+00, -2.93426037e-01,\n",
       "       -1.43118644e+00, -1.66710281e+00,  1.52796912e+00,  3.04619431e-01,\n",
       "        1.35438371e+00, -1.66544819e+00,  1.49598646e+00, -1.06346774e+00,\n",
       "       -6.96837679e-02,  1.11608887e+00,  1.19431090e+00,  3.15431952e-01,\n",
       "        1.67356861e+00, -1.51136696e+00, -1.21057320e+00,  1.47422338e+00,\n",
       "        1.69042969e+00, -1.17704737e+00,  1.11227643e+00,  6.16229475e-01,\n",
       "       -1.01068008e+00, -7.02231467e-01,  6.75629318e-01,  1.34391114e-01,\n",
       "        1.13251603e+00, -1.16959441e+00, -1.02755308e-01,  1.59571564e+00,\n",
       "       -6.94789946e-01, -8.04952458e-02,  1.67945409e+00, -1.57204792e-02,\n",
       "        7.10764229e-01,  1.10585779e-01, -1.46333873e+00,  1.55464613e+00,\n",
       "        1.27626777e+00,  4.82359588e-01, -5.84607780e-01, -1.80144593e-01,\n",
       "       -3.06337655e-01,  1.04664266e+00,  8.82043302e-01,  2.49588698e-01],\n",
       "      dtype=float32)"
      ]
     },
     "execution_count": 53,
     "metadata": {},
     "output_type": "execute_result"
    }
   ],
   "source": [
    "samples[0][:,0]"
   ]
  },
  {
   "cell_type": "code",
   "execution_count": null,
   "metadata": {},
   "outputs": [],
   "source": []
  }
 ],
 "metadata": {
  "kernelspec": {
   "display_name": "Python 3",
   "language": "python",
   "name": "python3"
  },
  "language_info": {
   "codemirror_mode": {
    "name": "ipython",
    "version": 3
   },
   "file_extension": ".py",
   "mimetype": "text/x-python",
   "name": "python",
   "nbconvert_exporter": "python",
   "pygments_lexer": "ipython3",
   "version": "3.7.3"
  }
 },
 "nbformat": 4,
 "nbformat_minor": 4
}
