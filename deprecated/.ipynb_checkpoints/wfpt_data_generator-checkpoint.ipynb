{
 "cells": [
  {
   "cell_type": "code",
   "execution_count": 6,
   "metadata": {},
   "outputs": [],
   "source": [
    "# Use this notebook as a convenient interface to the ddm data generation functions\n",
    "# For convenience, we can plot aspects of the data to make sure it is suitable as a training set\n",
    "\n",
    "# Loading necessary packages\n",
    "import make_data_wfpt as mdw\n",
    "import matplotlib.pyplot as plt"
   ]
  },
  {
   "cell_type": "code",
   "execution_count": 7,
   "metadata": {},
   "outputs": [
    {
     "name": "stdout",
     "output_type": "stream",
     "text": [
      "datapoint 0 generated\n",
      "datapoint 1000 generated\n",
      "datapoint 2000 generated\n",
      "datapoint 3000 generated\n",
      "datapoint 4000 generated\n",
      "datapoint 5000 generated\n",
      "datapoint 6000 generated\n",
      "datapoint 7000 generated\n",
      "datapoint 8000 generated\n",
      "datapoint 9000 generated\n",
      "datapoint 10000 generated\n",
      "datapoint 11000 generated\n",
      "datapoint 12000 generated\n",
      "datapoint 13000 generated\n",
      "datapoint 14000 generated\n",
      "datapoint 15000 generated\n",
      "datapoint 16000 generated\n",
      "datapoint 17000 generated\n",
      "datapoint 18000 generated\n",
      "datapoint 19000 generated\n",
      "datapoint 20000 generated\n",
      "datapoint 21000 generated\n",
      "datapoint 22000 generated\n",
      "datapoint 23000 generated\n",
      "datapoint 24000 generated\n",
      "datapoint 25000 generated\n",
      "datapoint 26000 generated\n",
      "datapoint 27000 generated\n",
      "datapoint 28000 generated\n",
      "datapoint 29000 generated\n",
      "datapoint 30000 generated\n",
      "datapoint 31000 generated\n",
      "datapoint 32000 generated\n",
      "datapoint 33000 generated\n",
      "datapoint 34000 generated\n",
      "datapoint 35000 generated\n",
      "datapoint 36000 generated\n",
      "datapoint 37000 generated\n",
      "datapoint 38000 generated\n",
      "datapoint 39000 generated\n",
      "datapoint 40000 generated\n",
      "datapoint 41000 generated\n",
      "datapoint 42000 generated\n",
      "datapoint 43000 generated\n",
      "datapoint 44000 generated\n",
      "datapoint 45000 generated\n",
      "datapoint 46000 generated\n",
      "datapoint 47000 generated\n",
      "datapoint 48000 generated\n",
      "datapoint 49000 generated\n",
      "label 0 generated\n",
      "label 1000 generated\n",
      "label 2000 generated\n",
      "label 3000 generated\n",
      "label 4000 generated\n",
      "label 5000 generated\n",
      "label 6000 generated\n",
      "label 7000 generated\n",
      "label 8000 generated\n",
      "label 9000 generated\n",
      "label 10000 generated\n",
      "label 11000 generated\n",
      "label 12000 generated\n",
      "label 13000 generated\n",
      "label 14000 generated\n",
      "label 15000 generated\n",
      "label 16000 generated\n",
      "label 17000 generated\n",
      "label 18000 generated\n",
      "label 19000 generated\n",
      "label 20000 generated\n",
      "label 21000 generated\n",
      "label 22000 generated\n",
      "label 23000 generated\n",
      "label 24000 generated\n",
      "label 25000 generated\n",
      "label 26000 generated\n",
      "label 27000 generated\n",
      "label 28000 generated\n",
      "label 29000 generated\n",
      "label 30000 generated\n",
      "label 31000 generated\n",
      "label 32000 generated\n",
      "label 33000 generated\n",
      "label 34000 generated\n",
      "label 35000 generated\n",
      "label 36000 generated\n",
      "label 37000 generated\n",
      "label 38000 generated\n",
      "label 39000 generated\n",
      "label 40000 generated\n",
      "label 41000 generated\n",
      "label 42000 generated\n",
      "label 43000 generated\n",
      "label 44000 generated\n",
      "label 45000 generated\n",
      "label 46000 generated\n",
      "label 47000 generated\n",
      "label 48000 generated\n",
      "label 49000 generated\n"
     ]
    }
   ],
   "source": [
    "# The data generator (rt and choice coming from actual model simulation)\n",
    "data_sim, time_stamp_sim, _ = mdw.make_data_rt_choice(v_range = [-3, 3],\n",
    "                                            a_range = [0.1, 3],\n",
    "                                            w_range = [0, 1],\n",
    "                                            n_samples = 50000,\n",
    "                                            f_signature = 'from_simulator_',\n",
    "                                            method = 'sim',\n",
    "                                            write_to_file = True,\n",
    "                                            print_detailed_cnt = False\n",
    "                                            )"
   ]
  },
  {
   "cell_type": "code",
   "execution_count": 8,
   "metadata": {},
   "outputs": [
    {
     "name": "stdout",
     "output_type": "stream",
     "text": [
      "datapoint 0 generated\n",
      "datapoint 1000 generated\n",
      "datapoint 2000 generated\n",
      "datapoint 3000 generated\n",
      "datapoint 4000 generated\n",
      "datapoint 5000 generated\n",
      "datapoint 6000 generated\n",
      "datapoint 7000 generated\n",
      "datapoint 8000 generated\n",
      "datapoint 9000 generated\n",
      "datapoint 10000 generated\n",
      "datapoint 11000 generated\n",
      "datapoint 12000 generated\n",
      "datapoint 13000 generated\n",
      "datapoint 14000 generated\n",
      "datapoint 15000 generated\n",
      "datapoint 16000 generated\n",
      "datapoint 17000 generated\n",
      "datapoint 18000 generated\n",
      "datapoint 19000 generated\n",
      "datapoint 20000 generated\n",
      "datapoint 21000 generated\n",
      "datapoint 22000 generated\n",
      "datapoint 23000 generated\n",
      "datapoint 24000 generated\n",
      "datapoint 25000 generated\n",
      "datapoint 26000 generated\n",
      "datapoint 27000 generated\n",
      "datapoint 28000 generated\n",
      "datapoint 29000 generated\n",
      "datapoint 30000 generated\n",
      "datapoint 31000 generated\n",
      "datapoint 32000 generated\n",
      "datapoint 33000 generated\n",
      "datapoint 34000 generated\n",
      "datapoint 35000 generated\n",
      "datapoint 36000 generated\n",
      "datapoint 37000 generated\n",
      "datapoint 38000 generated\n",
      "datapoint 39000 generated\n",
      "datapoint 40000 generated\n",
      "datapoint 41000 generated\n",
      "datapoint 42000 generated\n",
      "datapoint 43000 generated\n",
      "datapoint 44000 generated\n",
      "datapoint 45000 generated\n",
      "datapoint 46000 generated\n",
      "datapoint 47000 generated\n",
      "datapoint 48000 generated\n",
      "datapoint 49000 generated\n",
      "label 0 generated\n",
      "label 1000 generated\n",
      "label 2000 generated\n",
      "label 3000 generated\n",
      "label 4000 generated\n",
      "label 5000 generated\n",
      "label 6000 generated\n",
      "label 7000 generated\n",
      "label 8000 generated\n",
      "label 9000 generated\n",
      "label 10000 generated\n",
      "label 11000 generated\n",
      "label 12000 generated\n",
      "label 13000 generated\n",
      "label 14000 generated\n",
      "label 15000 generated\n",
      "label 16000 generated\n",
      "label 17000 generated\n",
      "label 18000 generated\n",
      "label 19000 generated\n",
      "label 20000 generated\n",
      "label 21000 generated\n",
      "label 22000 generated\n",
      "label 23000 generated\n",
      "label 24000 generated\n",
      "label 25000 generated\n",
      "label 26000 generated\n",
      "label 27000 generated\n",
      "label 28000 generated\n",
      "label 29000 generated\n",
      "label 30000 generated\n",
      "label 31000 generated\n",
      "label 32000 generated\n",
      "label 33000 generated\n",
      "label 34000 generated\n",
      "label 35000 generated\n",
      "label 36000 generated\n",
      "label 37000 generated\n",
      "label 38000 generated\n",
      "label 39000 generated\n",
      "label 40000 generated\n",
      "label 41000 generated\n",
      "label 42000 generated\n",
      "label 43000 generated\n",
      "label 44000 generated\n",
      "label 45000 generated\n",
      "label 46000 generated\n",
      "label 47000 generated\n",
      "label 48000 generated\n",
      "label 49000 generated\n"
     ]
    }
   ],
   "source": [
    "# The data generator (rt and choices randomly sampled (exact distributions in specified in .py file)\n",
    "data_rand, time_stamp_rand, _ = mdw.make_data_rt_choice(v_range = [-3, 3],\n",
    "                                            a_range = [0.1, 3],\n",
    "                                            w_range = [0, 1],\n",
    "                                            n_samples = 50000,\n",
    "                                            f_signature = '',\n",
    "                                            method = 'random',\n",
    "                                            write_to_file = True,\n",
    "                                            print_detailed_cnt = False\n",
    "                                            )"
   ]
  },
  {
   "cell_type": "code",
   "execution_count": 10,
   "metadata": {},
   "outputs": [
    {
     "data": {
      "text/plain": [
       "(0, 150)"
      ]
     },
     "execution_count": 10,
     "metadata": {},
     "output_type": "execute_result"
    },
    {
     "data": {
      "image/png": "[encoded data removed]",
      "text/plain": [
       "<Figure size 432x288 with 1 Axes>"
      ]
     },
     "metadata": {},
     "output_type": "display_data"
    }
   ],
   "source": [
    "# Histogram of Likelihood Values (data from model simulations)\n",
    "plt.hist(data_sim['nf_likelihood'])\n",
    "plt.xlim((0,150))"
   ]
  },
  {
   "cell_type": "code",
   "execution_count": 11,
   "metadata": {},
   "outputs": [
    {
     "data": {
      "text/plain": [
       "(0, 150)"
      ]
     },
     "execution_count": 11,
     "metadata": {},
     "output_type": "execute_result"
    },
    {
     "data": {
      "image/png": "[encoded data removed]",
      "text/plain": [
       "<Figure size 432x288 with 1 Axes>"
      ]
     },
     "metadata": {},
     "output_type": "display_data"
    }
   ],
   "source": [
    "# Histogram of Likelihood Values (data generated randomly)\n",
    "plt.hist(data_rand['nf_likelihood'])\n",
    "plt.xlim((0,150))"
   ]
  },
  {
   "cell_type": "code",
   "execution_count": null,
   "metadata": {},
   "outputs": [],
   "source": []
  }
 ],
 "metadata": {
  "kernelspec": {
   "display_name": "Python [conda env:tensorflow]",
   "language": "python",
   "name": "conda-env-tensorflow-py"
  },
  "language_info": {
   "codemirror_mode": {
    "name": "ipython",
    "version": 3
   },
   "file_extension": ".py",
   "mimetype": "text/x-python",
   "name": "python",
   "nbconvert_exporter": "python",
   "pygments_lexer": "ipython3",
   "version": "3.6.5"
  }
 },
 "nbformat": 4,
 "nbformat_minor": 2
}
