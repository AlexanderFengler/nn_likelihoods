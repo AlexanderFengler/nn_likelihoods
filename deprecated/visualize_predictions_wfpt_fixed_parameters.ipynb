{
 "cells": [
  {
   "cell_type": "code",
   "execution_count": 1,
   "metadata": {},
   "outputs": [],
   "source": [
    "# Import necessary packages\n",
    "import numpy as np\n",
    "import pandas as pd\n",
    "import tensorflow as tf\n",
    "import scipy as scp\n",
    "import matplotlib.pyplot as plt\n",
    "import os\n",
    "import dnnregressor_predictor as dnn_pred\n",
    "import dnnregressor_model_and_input_fn as dnn_model_input\n",
    "import make_data_wfpt as mdw\n",
    "import seaborn as sns"
   ]
  },
  {
   "cell_type": "code",
   "execution_count": 2,
   "metadata": {},
   "outputs": [],
   "source": [
    "hyper_params = pd.read_csv('/Users/admin/OneDrive/git_repos/nn_likelihoods/tensorflow_models/dnnregressor_mse_from_simulation_mix_fixparams_v_1_a_2_w_5_08_15_18_12_11_54/dnn_training_results_mse_from_simulation_mix_fixparams_v_1_a_2_w_5_08_15_18_12_11_54.csv',\n",
    "                          converters = {'hidden_units':eval,\n",
    "                                        'activations':eval})\n",
    "\n",
    "model_params = hyper_params.to_dict(orient = 'list')\n",
    "for key in model_params.keys():\n",
    "    model_params[key] = model_params[key][0]"
   ]
  },
  {
   "cell_type": "code",
   "execution_count": 5,
   "metadata": {},
   "outputs": [
    {
     "name": "stdout",
     "output_type": "stream",
     "text": [
      "datapoint 0 generated\n",
      "datapoint 1000 generated\n",
      "datapoint 2000 generated\n",
      "datapoint 3000 generated\n",
      "datapoint 4000 generated\n",
      "datapoint 5000 generated\n",
      "datapoint 6000 generated\n",
      "datapoint 7000 generated\n",
      "datapoint 8000 generated\n",
      "datapoint 9000 generated\n",
      "label 0 generated\n",
      "label 1000 generated\n",
      "label 2000 generated\n",
      "label 3000 generated\n",
      "label 4000 generated\n",
      "label 5000 generated\n",
      "label 6000 generated\n",
      "label 7000 generated\n",
      "label 8000 generated\n",
      "label 9000 generated\n"
     ]
    }
   ],
   "source": [
    "# Generate a dataset (choice_probabilities)\n",
    "dataset,_, __ = mdw.make_data_rt_choice(v_range = [1, 1], # uniform [0.6, 0.6]\n",
    "                                        a_range = [2, 2], # unifor\n",
    "                                        w_range = [0.5, 0.5],  # uniform\n",
    "                                        n_samples = 10000,\n",
    "                                        mixture_p = 0.1,\n",
    "                                        method = 'sim',\n",
    "                                        write_to_file = False)"
   ]
  },
  {
   "cell_type": "code",
   "execution_count": 7,
   "metadata": {},
   "outputs": [],
   "source": [
    "# Make dataset feedable to tensorflow (wfpt)\n",
    "features, labels, __, ___ = mdw.train_test_split_rt_choice(data = dataset,\n",
    "                                                           p_train = 1,\n",
    "                                                           write_to_file = False,\n",
    "                                                           from_file = False)"
   ]
  },
  {
   "cell_type": "code",
   "execution_count": 8,
   "metadata": {},
   "outputs": [],
   "source": [
    "# Make feature columns (wfpt)\n",
    "feature_columns = dnn_model_input.make_feature_columns_numeric(features = features)\n",
    "model_params['feature_columns'] = feature_columns"
   ]
  },
  {
   "cell_type": "code",
   "execution_count": 9,
   "metadata": {},
   "outputs": [],
   "source": [
    "# Reinstantiate model\n",
    "my_predictor = dnn_pred.get_dnnreg_predictor(model_directory = '/Users/admin/OneDrive/git_repos/nn_likelihoods/tensorflow_models/dnnregressor_mse_from_simulation_mix_fixparams_v_1_a_2_w_5_08_15_18_12_11_54/',\n",
    "                                             params = model_params)"
   ]
  },
  {
   "cell_type": "code",
   "execution_count": 10,
   "metadata": {},
   "outputs": [],
   "source": [
    "# Get Predictions (wfpt)\n",
    "my_checkpoint = 'model.ckpt-800000'\n",
    "my_predictions = dnn_pred.get_predictions(regressor = my_predictor,\n",
    "                                         features = features,\n",
    "                                         labels = labels,\n",
    "                                         checkpoint = \"/Users/admin/OneDrive/git_repos/nn_likelihoods/tensorflow_models/dnnregressor_mse_from_simulation_mix_fixparams_v_1_a_2_w_5_08_15_18_12_11_54/\" + my_checkpoint)\n"
   ]
  },
  {
   "cell_type": "code",
   "execution_count": 11,
   "metadata": {},
   "outputs": [],
   "source": [
    "# concatenate predictions with dataset\n",
    "new_col = pd.DataFrame(my_predictions, columns = ['pred_likelihood'])\n",
    "data_pred = pd.concat([dataset, new_col], axis = 1)"
   ]
  },
  {
   "cell_type": "code",
   "execution_count": 17,
   "metadata": {},
   "outputs": [],
   "source": [
    "# Prepare for plotting\n",
    "data_pred.sort_values('rt', axis=0, ascending=True, inplace=True, kind='quicksort', na_position='last')\n",
    "data_pred_long = data_pred.melt(id_vars = ['rt', 'choice'], value_vars = ['nf_likelihood', \n",
    "                                              'pred_likelihood'], \n",
    "                                               var_name = 'group', \n",
    "                                               value_name = 'likelihood')"
   ]
  },
  {
   "cell_type": "code",
   "execution_count": 18,
   "metadata": {},
   "outputs": [
    {
     "data": {
      "image/png": "[encoded data removed]",
      "text/plain": [
       "<Figure size 432x288 with 1 Axes>"
      ]
     },
     "metadata": {},
     "output_type": "display_data"
    }
   ],
   "source": [
    "# Plot\n",
    "ax = sns.lineplot(x = \"rt\", \n",
    "                  y = \"likelihood\", \n",
    "                  data = data_pred_long, \n",
    "                  hue = 'group',\n",
    "                  style = 'choice',\n",
    "                  alpha = 0.5)\n",
    "\n",
    "\n",
    "# g.add_legend(title=\"Meal\")\n",
    "# g.set_axis_labels(\"Total bill ($)\", \"\")\n",
    "# g.set(xlim=(0, 60), yticklabels=[\"Thursday\", \"Friday\", \"Saturday\", \"Sunday\"])\n",
    "# g.despine(trim=True)\n",
    "# g.fig.set_size_inches(6.5, 3.5)\n",
    "# g.ax.set_xticks([5, 15, 25, 35, 45, 55], minor=True);\n",
    "# plt.setp(g.ax.get_yticklabels(), rotation=30);"
   ]
  }
 ],
 "metadata": {
  "kernelspec": {
   "display_name": "Python 3",
   "language": "python",
   "name": "python3"
  },
  "language_info": {
   "codemirror_mode": {
    "name": "ipython",
    "version": 3
   },
   "file_extension": ".py",
   "mimetype": "text/x-python",
   "name": "python",
   "nbconvert_exporter": "python",
   "pygments_lexer": "ipython3",
   "version": "3.7.4"
  }
 },
 "nbformat": 4,
 "nbformat_minor": 4
}
