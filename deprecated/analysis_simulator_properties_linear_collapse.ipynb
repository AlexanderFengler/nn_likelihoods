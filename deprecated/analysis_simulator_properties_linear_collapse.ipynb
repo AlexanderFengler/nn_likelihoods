{
 "cells": [
  {
   "cell_type": "code",
   "execution_count": null,
   "metadata": {},
   "outputs": [],
   "source": [
    "# Basic python utilities\n",
    "import numpy as np\n",
    "import scipy as scp \n",
    "from scipy.stats import gamma\n",
    "from scipy.stats import mode\n",
    "from scipy.stats import itemfreq\n",
    "from scipy.stats import mode\n",
    "\n",
    "import pandas as pd\n",
    "\n",
    "# Parallelization\n",
    "import multiprocessing as mp\n",
    "from  multiprocessing import Process\n",
    "from  multiprocessing import Pool\n",
    "import psutil\n",
    "\n",
    "# System utilities\n",
    "from datetime import datetime\n",
    "import time\n",
    "import os\n",
    "import pickle \n",
    "import uuid\n",
    "\n",
    "# My own code\n",
    "import kde_class as kde\n",
    "import kde_training_utilities as kde_utils\n",
    "import ddm_data_simulation as ddm_simulator \n",
    "import boundary_functions as bf\n",
    "\n",
    "# Plotting\n",
    "import matplotlib.pyplot as plt"
   ]
  },
  {
   "cell_type": "code",
   "execution_count": 2,
   "metadata": {},
   "outputs": [],
   "source": [
    "# Get the folder where base simulations live\n",
    "folder_ = '/home/afengler/git_repos/nn_likelihoods/data_storage/kde/linear_collapse/base_simulations/'\n",
    "files_ = os.listdir(folder_)\n",
    "n_files = len(files_)\n",
    "init_file = pickle.load(open( folder_ + files_[0], 'rb' ))\n",
    "init_cols = list(init_file[2].keys())"
   ]
  },
  {
   "cell_type": "code",
   "execution_count": null,
   "metadata": {},
   "outputs": [],
   "source": [
    "# If 'sim_stat_data' file exists and its 'file' columns has all files in the folder, we skip creation\n",
    "\n",
    "# TD \n",
    "#\n",
    "#"
   ]
  },
  {
   "cell_type": "code",
   "execution_count": 9,
   "metadata": {},
   "outputs": [
    {
     "data": {
      "text/plain": [
       "10384"
      ]
     },
     "execution_count": 9,
     "metadata": {},
     "output_type": "execute_result"
    }
   ],
   "source": [
    "np.sum(sim_stat_data['keep_file'])"
   ]
  },
  {
   "cell_type": "code",
   "execution_count": 8,
   "metadata": {},
   "outputs": [
    {
     "name": "stdout",
     "output_type": "stream",
     "text": [
      "1000\n",
      "2000\n",
      "3000\n",
      "4000\n",
      "5000\n",
      "6000\n",
      "7000\n",
      "8000\n",
      "9000\n",
      "10000\n",
      "11000\n",
      "12000\n",
      "13000\n",
      "14000\n",
      "15000\n",
      "16000\n",
      "17000\n",
      "18000\n",
      "19000\n",
      "20000\n",
      "21000\n",
      "22000\n",
      "23000\n",
      "24000\n",
      "25000\n",
      "26000\n",
      "27000\n",
      "28000\n",
      "29000\n",
      "30000\n",
      "31000\n",
      "32000\n",
      "33000\n",
      "34000\n",
      "35000\n",
      "36000\n",
      "37000\n",
      "38000\n",
      "39000\n",
      "40000\n",
      "41000\n",
      "42000\n",
      "43000\n",
      "44000\n",
      "45000\n",
      "46000\n",
      "47000\n",
      "48000\n",
      "49000\n",
      "50000\n",
      "51000\n",
      "52000\n",
      "53000\n",
      "54000\n",
      "55000\n",
      "56000\n",
      "57000\n",
      "58000\n",
      "59000\n",
      "60000\n",
      "61000\n",
      "62000\n",
      "63000\n",
      "64000\n",
      "65000\n",
      "66000\n",
      "67000\n",
      "68000\n",
      "69000\n",
      "70000\n",
      "71000\n",
      "72000\n",
      "73000\n",
      "74000\n",
      "75000\n",
      "76000\n",
      "77000\n",
      "78000\n",
      "79000\n",
      "80000\n",
      "81000\n",
      "82000\n",
      "83000\n",
      "84000\n",
      "85000\n",
      "86000\n",
      "87000\n",
      "88000\n",
      "89000\n",
      "90000\n",
      "91000\n",
      "92000\n",
      "93000\n",
      "94000\n",
      "95000\n",
      "96000\n",
      "97000\n",
      "98000\n",
      "99000\n",
      "100000\n",
      "101000\n",
      "102000\n",
      "103000\n",
      "104000\n",
      "105000\n",
      "106000\n",
      "107000\n",
      "108000\n",
      "109000\n",
      "110000\n",
      "111000\n",
      "112000\n",
      "113000\n",
      "114000\n",
      "115000\n",
      "116000\n",
      "117000\n",
      "118000\n",
      "119000\n",
      "120000\n",
      "121000\n",
      "122000\n",
      "123000\n",
      "124000\n",
      "125000\n",
      "126000\n",
      "127000\n",
      "128000\n",
      "129000\n",
      "130000\n",
      "131000\n",
      "132000\n",
      "133000\n",
      "134000\n",
      "135000\n",
      "136000\n",
      "137000\n",
      "138000\n",
      "139000\n",
      "140000\n",
      "141000\n",
      "142000\n",
      "143000\n",
      "144000\n",
      "145000\n",
      "146000\n"
     ]
    }
   ],
   "source": [
    "sim_stat_data = kde_utils.filter_simulations(base_simulation_folder = folder_, param_ranges = {'a': [0.5, 2],\n",
    "               'w': [0.3, 0.7],\n",
    "               'v': [-1, 1],\n",
    "               'theta': [0, np.pi/2.2],\n",
    "               'node': [0, 5]})"
   ]
  },
  {
   "cell_type": "code",
   "execution_count": null,
   "metadata": {},
   "outputs": [],
   "source": [
    "# Initialize data frame\n",
    "sim_stat_data = pd.DataFrame(np.zeros((n_files, len(init_cols))), columns = init_cols)"
   ]
  },
  {
   "cell_type": "code",
   "execution_count": null,
   "metadata": {},
   "outputs": [],
   "source": [
    "# MAX RT BY SIMULATION: TEST SHOULD BE CONSISTENT\n",
    "n_simulations = init_file[2]['n_samples']\n",
    "n_choices = len(init_file[2]['possible_choices'])\n",
    "\n",
    "max_rts = []\n",
    "max_ts = []\n",
    "\n",
    "stds = np.zeros((n_files, n_choices))\n",
    "mean_rts = np.zeros((n_files, n_choices))\n",
    "choice_cnts = np.zeros((n_files, n_choices))\n",
    "modes = np.zeros((n_files, n_choices))\n",
    "mode_cnts = np.zeros((n_files, n_choices))\n",
    "\n",
    "sim_stat_data = [None] * n_files\n",
    "\n",
    "cnt = 0\n",
    "for file_ in files_:\n",
    "    tmp = pickle.load(open( folder_ + file_ , 'rb'))\n",
    "    max_rts.append(tmp[0].max().round(2))\n",
    "    max_ts.append(tmp[2]['max_t'])\n",
    "    \n",
    "    # Standard deviation of reaction times\n",
    "    choice_cnt = 0\n",
    "    for choice_tmp in tmp[2]['possible_choices']:\n",
    "        \n",
    "        tmp_rts = tmp[0][tmp[1] == choice_tmp]\n",
    "        n_c = len(tmp_rts)\n",
    "        choice_cnts[cnt, choice_cnt] = n_c\n",
    "        \n",
    "        mode_tmp = mode(tmp_rts)\n",
    "\n",
    "        if n_c > 0:\n",
    "            mean_rts[cnt, choice_cnt] = np.mean(tmp_rts)\n",
    "            stds[cnt, choice_cnt] = np.std(tmp_rts)\n",
    "            modes[cnt, choice_cnt] = float(mode_tmp[0])\n",
    "            mode_cnts[cnt, choice_cnt] = int(mode_tmp[1])\n",
    "        else:\n",
    "            mean_rts[cnt, choice_cnt] = -1\n",
    "            stds[cnt, choice_cnt] = -1\n",
    "            modes[cnt, choice_cnt] = -1\n",
    "            mode_cnts[cnt, choice_cnt] = 0\n",
    "        \n",
    "        choice_cnt += 1\n",
    "    \n",
    "    # Basic data column\n",
    "    sim_stat_data[cnt] = [tmp[2][key] for key in list(tmp[2].keys())]\n",
    "    \n",
    "    cnt += 1\n",
    "    if cnt % 1000 == 0:\n",
    "        print(cnt)\n",
    "\n",
    "sim_stat_data = pd.DataFrame(sim_stat_data, columns = init_file[2].keys())\n",
    "\n",
    "for i in range(0, n_choices, 1):\n",
    "    # Columns directly from stats collected in previous loop\n",
    "    sim_stat_data['mean_rt_' + str(i)] = mean_rts[:, i]\n",
    "    sim_stat_data['std_' + str(i)] = stds[:, i]\n",
    "    sim_stat_data['choice_cnt_' + str(i)] = choice_cnts[:,i]\n",
    "    sim_stat_data['mode_' + str(i)] = modes[:, i]\n",
    "    sim_stat_data['mode_cnt_' + str(i)] = mode_cnts[:, i]\n",
    "    \n",
    "    # Derived Columns\n",
    "    sim_stat_data['choice_prop_' + str(i)] = sim_stat_data['choice_cnt_' + str(i)] / n_simulations\n",
    "    sim_stat_data['mode_cnt_rel_' + str(i)] = sim_stat_data['mode_cnt_' + str(i)] / sim_stat_data['choice_cnt_' + str(i)]\n",
    "    \n",
    "sim_stat_data['file'] = files_\n",
    "        \n",
    "# check that max_t is consistently the same value across simulations\n",
    "assert len(np.unique(max_ts)) == 1\n",
    "\n",
    "# check that max_rt is <= max_t + 0.00001 (adding for rounding)\n",
    "assert max(max_rts) <= np.unique(max_ts)[0] + 0.0001"
   ]
  },
  {
   "cell_type": "code",
   "execution_count": null,
   "metadata": {},
   "outputs": [],
   "source": [
    "# SOME GRAPHS TO ILLUSTRATE BEHAVIOR OF SIMULATOR\n",
    "grayscale_map = plt.get_cmap('seismic')\n",
    "plt.figure()\n",
    "\n",
    "plt.scatter(sim_stat_data['a'], \n",
    "            sim_stat_data['mean_rt_1'],\n",
    "            c = sim_stat_data['v'], \n",
    "            cmap = grayscale_map, \n",
    "            alpha = 0.1)\n",
    "\n",
    "plt.colorbar()\n",
    "plt.show()"
   ]
  },
  {
   "cell_type": "code",
   "execution_count": null,
   "metadata": {},
   "outputs": [],
   "source": [
    "# SOME GRAPHS TO ILLUSTRATE BEHAVIOR OF SIMULATOR\n",
    "grayscale_map = plt.get_cmap('seismic')\n",
    "plt.figure()\n",
    "\n",
    "plt.scatter(sim_stat_data['a'], sim_stat_data['mean_rt_0'],\n",
    "            c = sim_stat_data['v'], \n",
    "            cmap = grayscale_map, \n",
    "            alpha = 0.3)\n",
    "\n",
    "plt.colorbar()\n",
    "plt.show()"
   ]
  },
  {
   "cell_type": "code",
   "execution_count": null,
   "metadata": {},
   "outputs": [],
   "source": [
    "# VARIANCE RELATIONSHIP WITH A\n",
    "# SOME GRAPHS TO ILLUSTRATE BEHAVIOR OF SIMULATOR\n",
    "grayscale_map = plt.get_cmap('seismic')\n",
    "plt.figure()\n",
    "\n",
    "plt.scatter(sim_stat_data['a'], sim_stat_data['stds_0'],\n",
    "            c = sim_stat_data['v'], \n",
    "            cmap = grayscale_map, \n",
    "            alpha = 0.3)\n",
    "\n",
    "plt.colorbar()\n",
    "plt.show()"
   ]
  },
  {
   "cell_type": "code",
   "execution_count": null,
   "metadata": {},
   "outputs": [],
   "source": [
    "# VARIANCE RELATIONSHIP WITH A\n",
    "# SOME GRAPHS TO ILLUSTRATE BEHAVIOR OF SIMULATOR\n",
    "grayscale_map = plt.get_cmap('seismic')\n",
    "plt.figure()\n",
    "\n",
    "plt.scatter(sim_stat_data['a'], sim_stat_data['stds_1'],\n",
    "            c = sim_stat_data['v'], \n",
    "            cmap = grayscale_map, \n",
    "            alpha = 0.3)\n",
    "\n",
    "plt.colorbar()\n",
    "plt.show()"
   ]
  },
  {
   "cell_type": "code",
   "execution_count": null,
   "metadata": {},
   "outputs": [],
   "source": [
    "from scipy.stats import itemfreq\n",
    "from scipy.stats import mode"
   ]
  },
  {
   "cell_type": "code",
   "execution_count": null,
   "metadata": {},
   "outputs": [],
   "source": [
    "sim_stat_data"
   ]
  },
  {
   "cell_type": "code",
   "execution_count": null,
   "metadata": {},
   "outputs": [],
   "source": [
    "# Set conditions for exclusion:\n",
    "\n",
    "# mode == 20 exclude\n",
    "# choice_cnt < 10 exclude\n",
    "# choice_cnt >= 10 but std = 0 \n",
    "# mean_rt > 15 exclude \n",
    "\n",
    "np.where(sim_stat_data['mode_0'] == 20.0)"
   ]
  },
  {
   "cell_type": "code",
   "execution_count": null,
   "metadata": {},
   "outputs": [],
   "source": [
    "sim_stat_data = sim_stat_data.round(decimals = 2)\n",
    "sim_stat_data = sim_stat_data.fillna(value = 0)"
   ]
  },
  {
   "cell_type": "code",
   "execution_count": null,
   "metadata": {},
   "outputs": [],
   "source": [
    "# Apply parameter filter\n",
    "param_ranges = {'a': [0.5, 2],\n",
    "                'w': [0.3, 0.7],\n",
    "                'v': [-1, 1],\n",
    "                'theta': [0, np.pi/2.2],\n",
    "                'node': [0, 5]}\n",
    "cnt = 0\n",
    "for param in param_ranges.keys():\n",
    "    if cnt == 0:\n",
    "        keep = (sim_stat_data[param] >= param_ranges[param][0]) & (sim_stat_data[param] <= param_ranges[param][1])\n",
    "    else:\n",
    "        keep = (keep) & \\\n",
    "               (sim_stat_data[param] >= param_ranges[param][0]) & (sim_stat_data[param] <= param_ranges[param][1])\n",
    "    cnt += 1\n",
    "\n",
    "# Apply sanity checks \n",
    "keep =  (keep) & \\\n",
    "        (sim_stat_data['mode_0'] != 20) & (sim_stat_data['mode_1'] != 20) & \\\n",
    "        (sim_stat_data['choice_cnt_0'] > 10) & (sim_stat_data['choice_cnt_1'] > 10) & \\\n",
    "        (sim_stat_data['mean_rt_0'] < 15) & (sim_stat_data['mean_rt_1'] < 15) & \\\n",
    "        (sim_stat_data['std_0'] > 0) & (sim_stat_data['std_1'] > 0) & \\\n",
    "        (sim_stat_data['mode_cnt_rel_0'] < 0.5) & (sim_stat_data['mode_cnt_rel_1'] < 0.5)"
   ]
  },
  {
   "cell_type": "code",
   "execution_count": 17,
   "metadata": {},
   "outputs": [
    {
     "data": {
      "text/plain": [
       "0         1.629883\n",
       "1         1.610352\n",
       "2         2.419922\n",
       "3         3.089844\n",
       "4         3.050781\n",
       "5         3.179688\n",
       "6         2.619141\n",
       "7         2.689453\n",
       "8         0.959961\n",
       "9         1.440430\n",
       "10        4.101562\n",
       "11        4.769531\n",
       "12        2.099609\n",
       "13        4.019531\n",
       "14        1.660156\n",
       "15        3.490234\n",
       "16        1.160156\n",
       "17        4.839844\n",
       "18        3.419922\n",
       "19        2.560547\n",
       "20        4.261719\n",
       "21        0.740234\n",
       "22        0.750000\n",
       "23        3.380859\n",
       "24        4.851562\n",
       "25        4.210938\n",
       "26        1.000000\n",
       "27        4.171875\n",
       "28        0.970215\n",
       "29        4.128906\n",
       "            ...   \n",
       "145973    4.199219\n",
       "145974    1.860352\n",
       "145975    2.000000\n",
       "145976    3.179688\n",
       "145977    3.279297\n",
       "145978    3.050781\n",
       "145979    3.830078\n",
       "145980    3.060547\n",
       "145981    3.470703\n",
       "145982    4.531250\n",
       "145983    1.969727\n",
       "145984    2.580078\n",
       "145985    4.660156\n",
       "145986    4.320312\n",
       "145987    1.209961\n",
       "145988    1.330078\n",
       "145989    3.900391\n",
       "145990    1.049805\n",
       "145991    4.300781\n",
       "145992    4.179688\n",
       "145993    3.849609\n",
       "145994    0.930176\n",
       "145995    4.531250\n",
       "145996    2.800781\n",
       "145997    1.080078\n",
       "145998    3.539062\n",
       "145999    1.660156\n",
       "146000    0.729980\n",
       "146001    4.441406\n",
       "146002    4.281250\n",
       "Name: a, Length: 146003, dtype: float32"
      ]
     },
     "execution_count": 17,
     "metadata": {},
     "output_type": "execute_result"
    }
   ],
   "source": [
    "sim_stat_data['a'].astype(np.float32, copy = False)"
   ]
  },
  {
   "cell_type": "code",
   "execution_count": 18,
   "metadata": {},
   "outputs": [
    {
     "data": {
      "text/plain": [
       "dtype('float16')"
      ]
     },
     "execution_count": 18,
     "metadata": {},
     "output_type": "execute_result"
    }
   ],
   "source": [
    "sim_stat_data['a'].dtype"
   ]
  },
  {
   "cell_type": "code",
   "execution_count": null,
   "metadata": {},
   "outputs": [],
   "source": [
    "# Check n remaining files\n",
    "np.sum(keep)"
   ]
  },
  {
   "cell_type": "code",
   "execution_count": null,
   "metadata": {},
   "outputs": [],
   "source": [
    "list(sim_stat_data.loc[keep, 'file'])"
   ]
  },
  {
   "cell_type": "code",
   "execution_count": null,
   "metadata": {},
   "outputs": [],
   "source": [
    "sim_stat_data_keep = sim_stat_data.loc[keep, :]"
   ]
  },
  {
   "cell_type": "code",
   "execution_count": null,
   "metadata": {},
   "outputs": [],
   "source": [
    "sim_stat_data_throw = sim_stat_data.loc[np.invert(keep), :]"
   ]
  },
  {
   "cell_type": "code",
   "execution_count": null,
   "metadata": {},
   "outputs": [],
   "source": [
    "# Write to file\n",
    "pickle.dump(list(sim_stat_data_keep['file']), open(folder_ + '/keep_files.pickle', 'wb'))\n",
    "pickle.dump(sim_stat_data, open(folder_ + '/simulator_statistics.pickle', 'wb'))"
   ]
  },
  {
   "cell_type": "code",
   "execution_count": null,
   "metadata": {},
   "outputs": [],
   "source": [
    "# Problem: max_rt\n",
    "grayscale_map = plt.get_cmap('seismic')\n",
    "plt.figure()\n",
    "\n",
    "plt.scatter(sim_stat_data_throw.loc[sim_stat_data_throw['mode_0'] == 20,'a'], \n",
    "            sim_stat_data_throw.loc[sim_stat_data_throw['mode_0'] == 20, 'v'], \n",
    "            c = sim_stat_data_throw.loc[sim_stat_data_throw['mode_0'] == 20, 'w'],\n",
    "            cmap = grayscale_map,\n",
    "            alpha = 0.5)\n",
    "\n",
    "plt.ylim((-2.5, 2.5))\n",
    "\n",
    "plt.colorbar()\n",
    "plt.show()"
   ]
  },
  {
   "cell_type": "code",
   "execution_count": null,
   "metadata": {},
   "outputs": [],
   "source": [
    "# Problem: choice_cnt_0 < 10\n",
    "grayscale_map = plt.get_cmap('seismic')\n",
    "plt.figure()\n",
    "\n",
    "plt.scatter(sim_stat_data_throw.loc[sim_stat_data_throw['choice_cnt_0'] < 10,'a'], \n",
    "            sim_stat_data_throw.loc[sim_stat_data_throw['choice_cnt_0'] < 10, 'v'],\n",
    "            c = sim_stat_data_throw.loc[sim_stat_data_throw['choice_cnt_0'] < 10, 'w'],\n",
    "            cmap = grayscale_map,\n",
    "            alpha = 0.1)\n",
    "\n",
    "plt.colorbar()\n",
    "plt.show()"
   ]
  },
  {
   "cell_type": "code",
   "execution_count": null,
   "metadata": {},
   "outputs": [],
   "source": [
    "# Problem: choice_cnt_1 < 10\n",
    "grayscale_map = plt.get_cmap('seismic')\n",
    "plt.figure()\n",
    "\n",
    "plt.scatter(sim_stat_data_throw.loc[sim_stat_data_throw['choice_cnt_1'] < 10,'a'], \n",
    "            sim_stat_data_throw.loc[sim_stat_data_throw['choice_cnt_1'] < 10, 'v'],\n",
    "            c = sim_stat_data_throw.loc[sim_stat_data_throw['choice_cnt_1'] < 10, 'w'],\n",
    "            cmap = grayscale_map,\n",
    "            alpha = 0.1)\n",
    "\n",
    "plt.colorbar()\n",
    "plt.show()"
   ]
  },
  {
   "cell_type": "code",
   "execution_count": null,
   "metadata": {},
   "outputs": [],
   "source": [
    "# Problem: choice_cnt_1 < 10\n",
    "grayscale_map = plt.get_cmap('seismic')\n",
    "plt.figure()\n",
    "\n",
    "plt.scatter(sim_stat_data_throw.loc[sim_stat_data_throw['choice_cnt_1'] < 10,'a'], \n",
    "            sim_stat_data_throw.loc[sim_stat_data_throw['choice_cnt_1'] < 10, 'v'],\n",
    "            c = sim_stat_data_throw.loc[sim_stat_data_throw['choice_cnt_1'] < 10, 'theta'],\n",
    "            cmap = grayscale_map,\n",
    "            alpha = 0.05)\n",
    "\n",
    "plt.colorbar()\n",
    "plt.show()"
   ]
  },
  {
   "cell_type": "code",
   "execution_count": null,
   "metadata": {},
   "outputs": [],
   "source": [
    "# Problem: std_0 = 0 while choices observed\n",
    "grayscale_map = plt.get_cmap('seismic')\n",
    "plt.figure()\n",
    "\n",
    "plt.scatter(sim_stat_data_throw.loc[(sim_stat_data_throw['std_0'] == 0.0) & (sim_stat_data_throw['choice_cnt_0'] >= 10),'a'], \n",
    "            sim_stat_data_throw.loc[(sim_stat_data_throw['std_0'] == 0.0) & (sim_stat_data_throw['choice_cnt_0'] >= 10), 'v'],\n",
    "            c = sim_stat_data_throw.loc[(sim_stat_data_throw['std_0'] == 0.0) & (sim_stat_data_throw['choice_cnt_0'] >= 10), 'theta'],\n",
    "            cmap = grayscale_map,\n",
    "            alpha = 0.1)\n",
    "\n",
    "plt.colorbar()\n",
    "plt.show()"
   ]
  },
  {
   "cell_type": "code",
   "execution_count": null,
   "metadata": {},
   "outputs": [],
   "source": [
    "# Problem: std_0 = 0 and lack of choices\n",
    "grayscale_map = plt.get_cmap('seismic')\n",
    "plt.figure()\n",
    "\n",
    "plt.scatter(sim_stat_data_throw.loc[(sim_stat_data_throw['std_0'] == 0.0) & (sim_stat_data_throw['choice_cnt_0'] < 2),'a'], \n",
    "            sim_stat_data_throw.loc[(sim_stat_data_throw['std_0'] == 0.0) & (sim_stat_data_throw['choice_cnt_0'] < 2), 'v'],\n",
    "            c = sim_stat_data_throw.loc[(sim_stat_data_throw['std_0'] == 0.0) & (sim_stat_data_throw['choice_cnt_0'] < 2), 'theta'],\n",
    "            cmap = grayscale_map,\n",
    "            alpha = 0.1)\n",
    "\n",
    "plt.colorbar()\n",
    "plt.show()"
   ]
  },
  {
   "cell_type": "code",
   "execution_count": null,
   "metadata": {},
   "outputs": [],
   "source": [
    "# Problem: mode_cnt_rel_1\n",
    "grayscale_map = plt.get_cmap('seismic')\n",
    "plt.figure()\n",
    "\n",
    "plt.scatter(sim_stat_data_throw.loc[(sim_stat_data_throw['mode_cnt_rel_1'] > 0.5) & (sim_stat_data_throw['mode_1'] < 20),'a'], \n",
    "            sim_stat_data_throw.loc[(sim_stat_data_throw['mode_cnt_rel_1'] > 0.5) & (sim_stat_data_throw['mode_1'] < 20), 'v'],\n",
    "            c = sim_stat_data_throw.loc[(sim_stat_data_throw['mode_cnt_rel_1'] > 0.5) & (sim_stat_data_throw['mode_1'] < 20), 'mean_rt_1'],\n",
    "            cmap = grayscale_map,\n",
    "            alpha = 0.1)\n",
    "\n",
    "plt.colorbar()\n",
    "plt.show()"
   ]
  },
  {
   "cell_type": "code",
   "execution_count": null,
   "metadata": {},
   "outputs": [],
   "source": [
    "# Problem: mode_cnt_rel_0\n",
    "grayscale_map = plt.get_cmap('seismic')\n",
    "plt.figure()\n",
    "\n",
    "plt.scatter(sim_stat_data_throw.loc[(sim_stat_data_throw['mode_cnt_rel_0'] > 0.5) & (sim_stat_data_throw['mode_0'] < 20),'a'], \n",
    "            sim_stat_data_throw.loc[(sim_stat_data_throw['mode_cnt_rel_0'] > 0.5) & (sim_stat_data_throw['mode_0'] < 20), 'v'],\n",
    "            c = sim_stat_data_throw.loc[(sim_stat_data_throw['mode_cnt_rel_0'] > 0.5) & (sim_stat_data_throw['mode_0'] < 20), 'mean_rt_0'],\n",
    "            cmap = grayscale_map,\n",
    "            alpha = 0.1)\n",
    "\n",
    "plt.colorbar()\n",
    "plt.show()"
   ]
  },
  {
   "cell_type": "code",
   "execution_count": null,
   "metadata": {},
   "outputs": [],
   "source": [
    "# PROPERTIES OF KEPT DATA\n",
    "grayscale_map = plt.get_cmap('seismic')\n",
    "plt.figure()\n",
    "\n",
    "plt.scatter(sim_stat_data_keep['v'], \n",
    "            sim_stat_data_keep['w'], \n",
    "            c = sim_stat_data_keep['a'], \n",
    "            cmap = grayscale_map,\n",
    "            alpha = 0.1)\n",
    "\n",
    "plt.colorbar()\n",
    "plt.show()"
   ]
  },
  {
   "cell_type": "code",
   "execution_count": null,
   "metadata": {},
   "outputs": [],
   "source": []
  },
  {
   "cell_type": "code",
   "execution_count": null,
   "metadata": {},
   "outputs": [],
   "source": []
  }
 ],
 "metadata": {
  "kernelspec": {
   "display_name": "Python 3",
   "language": "python",
   "name": "python3"
  },
  "language_info": {
   "codemirror_mode": {
    "name": "ipython",
    "version": 3
   },
   "file_extension": ".py",
   "mimetype": "text/x-python",
   "name": "python",
   "nbconvert_exporter": "python",
   "pygments_lexer": "ipython3",
   "version": "3.7.4"
  }
 },
 "nbformat": 4,
 "nbformat_minor": 4
}
