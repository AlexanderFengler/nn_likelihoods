{
 "cells": [
  {
   "cell_type": "code",
   "execution_count": 24,
   "metadata": {},
   "outputs": [],
   "source": [
    "import os \n",
    "import glob \n",
    "import pickle\n",
    "from tqdm import tqdm\n",
    "import numpy as np"
   ]
  },
  {
   "cell_type": "code",
   "execution_count": 115,
   "metadata": {},
   "outputs": [
    {
     "name": "stdout",
     "output_type": "stream",
     "text": [
      "post_samp_perturbation_experiment_nexp_1_n_3000_*\n",
      "['/media/data_cifs/afengler/data/kde/ddm/method_comparison/post_samp_perturbation_experiment_nexp_1_n_3000_53bb784d88-f5d8-11e9-9b2c-89046ff20708.pickle', '/media/data_cifs/afengler/data/kde/ddm/method_comparison/post_samp_perturbation_experiment_nexp_1_n_3000_9e73c89b8-f5bd-11e9-920a-893bf5c6c890.pickle', '/media/data_cifs/afengler/data/kde/ddm/method_comparison/post_samp_perturbation_experiment_nexp_1_n_3000_25c138eb72-f5c6-11e9-a29b-b93e5718479b.pickle', '/media/data_cifs/afengler/data/kde/ddm/method_comparison/post_samp_perturbation_experiment_nexp_1_n_3000_6813daf9cc-f5e2-11e9-9130-ab227c6db3c8.pickle', '/media/data_cifs/afengler/data/kde/ddm/method_comparison/post_samp_perturbation_experiment_nexp_1_n_3000_63f8614154-f5d4-11e9-b140-85722610dc5d.pickle', '/media/data_cifs/afengler/data/kde/ddm/method_comparison/post_samp_perturbation_experiment_nexp_1_n_3000_51f1c0c192-f5d6-11e9-b6a4-6f5491d50b10.pickle', '/media/data_cifs/afengler/data/kde/ddm/method_comparison/post_samp_perturbation_experiment_nexp_1_n_3000_500ec4134a-f5d5-11e9-a3dd-7bcca3865551.pickle', '/media/data_cifs/afengler/data/kde/ddm/method_comparison/post_samp_perturbation_experiment_nexp_1_n_3000_83bb58495c-f5ec-11e9-acd1-65e85caaa9bf.pickle', '/media/data_cifs/afengler/data/kde/ddm/method_comparison/post_samp_perturbation_experiment_nexp_1_n_3000_358289cf2e-f5c9-11e9-8536-39992c4ce396.pickle', '/media/data_cifs/afengler/data/kde/ddm/method_comparison/post_samp_perturbation_experiment_nexp_1_n_3000_555a1a51ea-f5cd-11e9-804d-5d37be5013b2.pickle', '/media/data_cifs/afengler/data/kde/ddm/method_comparison/post_samp_perturbation_experiment_nexp_1_n_3000_86b009bfca-f5ee-11e9-ae54-f173db58e6f1.pickle', '/media/data_cifs/afengler/data/kde/ddm/method_comparison/post_samp_perturbation_experiment_nexp_1_n_3000_8176cb6ae6-f5ef-11e9-a500-fdbf4d106375.pickle', '/media/data_cifs/afengler/data/kde/ddm/method_comparison/post_samp_perturbation_experiment_nexp_1_n_3000_21604d92a2-f5be-11e9-b7b2-f7800b726c78.pickle', '/media/data_cifs/afengler/data/kde/ddm/method_comparison/post_samp_perturbation_experiment_nexp_1_n_3000_41026aa514-f5d0-11e9-99a4-9783e6cfa9f3.pickle', '/media/data_cifs/afengler/data/kde/ddm/method_comparison/post_samp_perturbation_experiment_nexp_1_n_3000_15c11d7ad4-f5b9-11e9-afc2-8b981b6e1317.pickle', '/media/data_cifs/afengler/data/kde/ddm/method_comparison/post_samp_perturbation_experiment_nexp_1_n_3000_476fc4b548-f5d8-11e9-8a15-1b73e222e559.pickle', '/media/data_cifs/afengler/data/kde/ddm/method_comparison/post_samp_perturbation_experiment_nexp_1_n_3000_7354d4e0b0-f5e6-11e9-aaef-55550cd85bd1.pickle', '/media/data_cifs/afengler/data/kde/ddm/method_comparison/post_samp_perturbation_experiment_nexp_1_n_3000_943b2138b0-f5f7-11e9-946b-914816dc8a72.pickle', '/media/data_cifs/afengler/data/kde/ddm/method_comparison/post_samp_perturbation_experiment_nexp_1_n_3000_457f2077fc-f5d3-11e9-a363-e57793993cf1.pickle', '/media/data_cifs/afengler/data/kde/ddm/method_comparison/post_samp_perturbation_experiment_nexp_1_n_3000_16439816ba-f5c2-11e9-a122-131291ced0ef.pickle', '/media/data_cifs/afengler/data/kde/ddm/method_comparison/post_samp_perturbation_experiment_nexp_1_n_3000_795c5878e2-f5e6-11e9-9c38-b12e156676fd.pickle', '/media/data_cifs/afengler/data/kde/ddm/method_comparison/post_samp_perturbation_experiment_nexp_1_n_3000_100e7913336-f5ff-11e9-acc3-0546db8de01d.pickle', '/media/data_cifs/afengler/data/kde/ddm/method_comparison/post_samp_perturbation_experiment_nexp_1_n_3000_66c4705b8-f5b2-11e9-9d42-fd822a1f4f07.pickle', '/media/data_cifs/afengler/data/kde/ddm/method_comparison/post_samp_perturbation_experiment_nexp_1_n_3000_72debb010c-f5e0-11e9-8682-41a4312a67b4.pickle', '/media/data_cifs/afengler/data/kde/ddm/method_comparison/post_samp_perturbation_experiment_nexp_1_n_3000_3415a7d1ae-f5cd-11e9-b1ee-397e6ba9d700.pickle', '/media/data_cifs/afengler/data/kde/ddm/method_comparison/post_samp_perturbation_experiment_nexp_1_n_3000_52f69a6a2e-f5db-11e9-b69b-4f62e012452b.pickle', '/media/data_cifs/afengler/data/kde/ddm/method_comparison/post_samp_perturbation_experiment_nexp_1_n_3000_266d163b08-f5e4-11e9-9318-45c4c2a687c9.pickle', '/media/data_cifs/afengler/data/kde/ddm/method_comparison/post_samp_perturbation_experiment_nexp_1_n_3000_65d126cac2-f5df-11e9-9a94-1f7890e20116.pickle', '/media/data_cifs/afengler/data/kde/ddm/method_comparison/post_samp_perturbation_experiment_nexp_1_n_3000_64dbfbcdb6-f5d6-11e9-9d2d-27af9fb09aef.pickle', '/media/data_cifs/afengler/data/kde/ddm/method_comparison/post_samp_perturbation_experiment_nexp_1_n_3000_10db1d22a2-f5b6-11e9-9934-ef3ba48c22d6.pickle', '/media/data_cifs/afengler/data/kde/ddm/method_comparison/post_samp_perturbation_experiment_nexp_1_n_3000_968543665e-f5f5-11e9-8fb4-4f3f4f88dfd2.pickle', '/media/data_cifs/afengler/data/kde/ddm/method_comparison/post_samp_perturbation_experiment_nexp_1_n_3000_85a83154d6-f5ec-11e9-b13c-d9ce3a4d2831.pickle', '/media/data_cifs/afengler/data/kde/ddm/method_comparison/post_samp_perturbation_experiment_nexp_1_n_3000_93adf3c15e-f5ee-11e9-bcdc-f7e85ee6a77f.pickle', '/media/data_cifs/afengler/data/kde/ddm/method_comparison/post_samp_perturbation_experiment_nexp_1_n_3000_3977e31560-f5c1-11e9-a973-01b4dba3104d.pickle', '/media/data_cifs/afengler/data/kde/ddm/method_comparison/post_samp_perturbation_experiment_nexp_1_n_3000_4a5ce5416-f5ae-11e9-8b72-6b1f5a0a1e42.pickle', '/media/data_cifs/afengler/data/kde/ddm/method_comparison/post_samp_perturbation_experiment_nexp_1_n_3000_740475f0e-f5c0-11e9-bbd2-bb0ca70bded1.pickle', '/media/data_cifs/afengler/data/kde/ddm/method_comparison/post_samp_perturbation_experiment_nexp_1_n_3000_75fb105ac2-f5e1-11e9-aff1-01b8687ccdda.pickle', '/media/data_cifs/afengler/data/kde/ddm/method_comparison/post_samp_perturbation_experiment_nexp_1_n_3000_33be36a32-f5b3-11e9-824d-3fa6fc56c877.pickle', '/media/data_cifs/afengler/data/kde/ddm/method_comparison/post_samp_perturbation_experiment_nexp_1_n_3000_14a7fea8d6-f5bc-11e9-99af-d964a24ec89c.pickle', '/media/data_cifs/afengler/data/kde/ddm/method_comparison/post_samp_perturbation_experiment_nexp_1_n_3000_849d9337aa-f5e8-11e9-a2e7-c3ffaf7fb1ec.pickle', '/media/data_cifs/afengler/data/kde/ddm/method_comparison/post_samp_perturbation_experiment_nexp_1_n_3000_9207da3c08-f5ee-11e9-86c7-a7e4dd8ff449.pickle', '/media/data_cifs/afengler/data/kde/ddm/method_comparison/post_samp_perturbation_experiment_nexp_1_n_3000_69e753cfde-f5df-11e9-8c03-bfe4a853b5e0.pickle', '/media/data_cifs/afengler/data/kde/ddm/method_comparison/post_samp_perturbation_experiment_nexp_1_n_3000_547113a81a-f5e6-11e9-b124-85df6e9d09b1.pickle', '/media/data_cifs/afengler/data/kde/ddm/method_comparison/post_samp_perturbation_experiment_nexp_1_n_3000_29bbbfa486-f5c3-11e9-a4f5-853c5a2bc43a.pickle', '/media/data_cifs/afengler/data/kde/ddm/method_comparison/post_samp_perturbation_experiment_nexp_1_n_3000_33fdd68d00-f5c1-11e9-a75e-c924b90b921f.pickle', '/media/data_cifs/afengler/data/kde/ddm/method_comparison/post_samp_perturbation_experiment_nexp_1_n_3000_6257e6835a-f5d5-11e9-8e15-4f9e6c8c8010.pickle', '/media/data_cifs/afengler/data/kde/ddm/method_comparison/post_samp_perturbation_experiment_nexp_1_n_3000_78876b278a-f5e3-11e9-8b61-19455c1d5d70.pickle', '/media/data_cifs/afengler/data/kde/ddm/method_comparison/post_samp_perturbation_experiment_nexp_1_n_3000_569bcb700c-f5e5-11e9-84d7-1323d85bc36a.pickle', '/media/data_cifs/afengler/data/kde/ddm/method_comparison/post_samp_perturbation_experiment_nexp_1_n_3000_441862cd00-f5d6-11e9-a6cd-97c025436fb0.pickle', '/media/data_cifs/afengler/data/kde/ddm/method_comparison/post_samp_perturbation_experiment_nexp_1_n_3000_20f92efa88-f5c3-11e9-abce-43f0e9cb5040.pickle', '/media/data_cifs/afengler/data/kde/ddm/method_comparison/post_samp_perturbation_experiment_nexp_1_n_3000_2719fdcbc8-f5be-11e9-ba38-0113ff03f9ab.pickle', '/media/data_cifs/afengler/data/kde/ddm/method_comparison/post_samp_perturbation_experiment_nexp_1_n_3000_6718108d8c-f5e1-11e9-a7eb-9504b0b2f2bb.pickle', '/media/data_cifs/afengler/data/kde/ddm/method_comparison/post_samp_perturbation_experiment_nexp_1_n_3000_57ebaede46-f5dc-11e9-b594-0ddf9ce842e9.pickle', '/media/data_cifs/afengler/data/kde/ddm/method_comparison/post_samp_perturbation_experiment_nexp_1_n_3000_98848dd74e-f5fa-11e9-997a-4d4e919fd7f5.pickle', '/media/data_cifs/afengler/data/kde/ddm/method_comparison/post_samp_perturbation_experiment_nexp_1_n_3000_80f476de00-f5de-11e9-afc1-5188fa47a257.pickle', '/media/data_cifs/afengler/data/kde/ddm/method_comparison/post_samp_perturbation_experiment_nexp_1_n_3000_1314846d0-f5c5-11e9-8174-0dc810566618.pickle', '/media/data_cifs/afengler/data/kde/ddm/method_comparison/post_samp_perturbation_experiment_nexp_1_n_3000_74e1c489da-f5eb-11e9-8ea9-9d271bb7b3d5.pickle', '/media/data_cifs/afengler/data/kde/ddm/method_comparison/post_samp_perturbation_experiment_nexp_1_n_3000_1251dae472-f5b4-11e9-8301-e304c0f020c1.pickle', '/media/data_cifs/afengler/data/kde/ddm/method_comparison/post_samp_perturbation_experiment_nexp_1_n_3000_88f9e5629c-f5ea-11e9-a4a3-bd7bc56b6511.pickle', '/media/data_cifs/afengler/data/kde/ddm/method_comparison/post_samp_perturbation_experiment_nexp_1_n_3000_3157edab06-f5c3-11e9-a31d-b7d826424991.pickle', '/media/data_cifs/afengler/data/kde/ddm/method_comparison/post_samp_perturbation_experiment_nexp_1_n_3000_19cb98550a-f5ba-11e9-8a22-ed9ee27748a6.pickle', '/media/data_cifs/afengler/data/kde/ddm/method_comparison/post_samp_perturbation_experiment_nexp_1_n_3000_422f7595a6-f5d4-11e9-8ae4-afdf0c64ddac.pickle', '/media/data_cifs/afengler/data/kde/ddm/method_comparison/post_samp_perturbation_experiment_nexp_1_n_3000_23c0a988d8-f5c6-11e9-801f-27b2f0b1cdd3.pickle', '/media/data_cifs/afengler/data/kde/ddm/method_comparison/post_samp_perturbation_experiment_nexp_1_n_3000_60a53fe374-f5dc-11e9-ae69-e13f0d43ec6b.pickle', '/media/data_cifs/afengler/data/kde/ddm/method_comparison/post_samp_perturbation_experiment_nexp_1_n_3000_9982279b00-f5fc-11e9-ae3d-7be7b3e7b7e2.pickle', '/media/data_cifs/afengler/data/kde/ddm/method_comparison/post_samp_perturbation_experiment_nexp_1_n_3000_768eb624e6-f5e7-11e9-946f-45afc18c6710.pickle', '/media/data_cifs/afengler/data/kde/ddm/method_comparison/post_samp_perturbation_experiment_nexp_1_n_3000_46a39228bc-f5d6-11e9-9114-336d6741a007.pickle', '/media/data_cifs/afengler/data/kde/ddm/method_comparison/post_samp_perturbation_experiment_nexp_1_n_3000_481b5d0932-f5d4-11e9-b774-b3057584b9e4.pickle', '/media/data_cifs/afengler/data/kde/ddm/method_comparison/post_samp_perturbation_experiment_nexp_1_n_3000_497bfc33de-f5da-11e9-8183-6bec9e055a31.pickle', '/media/data_cifs/afengler/data/kde/ddm/method_comparison/post_samp_perturbation_experiment_nexp_1_n_3000_89f145fe3a-f5ef-11e9-b154-d1fe91cef30a.pickle', '/media/data_cifs/afengler/data/kde/ddm/method_comparison/post_samp_perturbation_experiment_nexp_1_n_3000_2291a05c4e-f5b5-11e9-9b6a-6d7802e3f9a6.pickle', '/media/data_cifs/afengler/data/kde/ddm/method_comparison/post_samp_perturbation_experiment_nexp_1_n_3000_2572d9362-f5b3-11e9-9d24-bd3b6cb078a2.pickle', '/media/data_cifs/afengler/data/kde/ddm/method_comparison/post_samp_perturbation_experiment_nexp_1_n_3000_95b7151a96-f5f1-11e9-b695-79d75e346abd.pickle', '/media/data_cifs/afengler/data/kde/ddm/method_comparison/post_samp_perturbation_experiment_nexp_1_n_3000_32f0c711f4-f5c4-11e9-a2bd-6df2314f6bfe.pickle', '/media/data_cifs/afengler/data/kde/ddm/method_comparison/post_samp_perturbation_experiment_nexp_1_n_3000_59af648f2-f5bb-11e9-a004-09b1072a0e69.pickle', '/media/data_cifs/afengler/data/kde/ddm/method_comparison/post_samp_perturbation_experiment_nexp_1_n_3000_66234d0cc2-f5df-11e9-a6f5-c7c1f55de172.pickle', '/media/data_cifs/afengler/data/kde/ddm/method_comparison/post_samp_perturbation_experiment_nexp_1_n_3000_596af43fe0-f5db-11e9-b19d-c90b05de71be.pickle', '/media/data_cifs/afengler/data/kde/ddm/method_comparison/post_samp_perturbation_experiment_nexp_1_n_3000_387a46b1a6-f5ce-11e9-adfc-abfd6f246932.pickle', '/media/data_cifs/afengler/data/kde/ddm/method_comparison/post_samp_perturbation_experiment_nexp_1_n_3000_7003f1f112-f5df-11e9-9951-6f90ad93ce1d.pickle', '/media/data_cifs/afengler/data/kde/ddm/method_comparison/post_samp_perturbation_experiment_nexp_1_n_3000_829223fcdc-f5e4-11e9-8561-bbc63b28a8e5.pickle', '/media/data_cifs/afengler/data/kde/ddm/method_comparison/post_samp_perturbation_experiment_nexp_1_n_3000_24c25997d6-f5bc-11e9-b824-dbd3c22d6424.pickle', '/media/data_cifs/afengler/data/kde/ddm/method_comparison/post_samp_perturbation_experiment_nexp_1_n_3000_17a6dcde2a-f5c4-11e9-9e80-236b029e6843.pickle', '/media/data_cifs/afengler/data/kde/ddm/method_comparison/post_samp_perturbation_experiment_nexp_1_n_3000_91ca4cd3de-f5f0-11e9-8431-8172e6561e9c.pickle', '/media/data_cifs/afengler/data/kde/ddm/method_comparison/post_samp_perturbation_experiment_nexp_1_n_3000_111d3c14f4-f5b2-11e9-9027-2f7e1c9dc8af.pickle', '/media/data_cifs/afengler/data/kde/ddm/method_comparison/post_samp_perturbation_experiment_nexp_1_n_3000_975b61355a-f5fa-11e9-8080-f97bea6ee731.pickle', '/media/data_cifs/afengler/data/kde/ddm/method_comparison/post_samp_perturbation_experiment_nexp_1_n_3000_800fb1c94-f5bd-11e9-af24-b93341c9362c.pickle', '/media/data_cifs/afengler/data/kde/ddm/method_comparison/post_samp_perturbation_experiment_nexp_1_n_3000_61d10cdfca-f5d7-11e9-a7b9-8b39baff187b.pickle', '/media/data_cifs/afengler/data/kde/ddm/method_comparison/post_samp_perturbation_experiment_nexp_1_n_3000_18de9e3dd0-f5bb-11e9-b0f3-a98767e09209.pickle', '/media/data_cifs/afengler/data/kde/ddm/method_comparison/post_samp_perturbation_experiment_nexp_1_n_3000_58c3ffe496-f5d5-11e9-9d58-85c21dee678d.pickle', '/media/data_cifs/afengler/data/kde/ddm/method_comparison/post_samp_perturbation_experiment_nexp_1_n_3000_4345a211b8-f5d1-11e9-9a89-d530284e8363.pickle', '/media/data_cifs/afengler/data/kde/ddm/method_comparison/post_samp_perturbation_experiment_nexp_1_n_3000_77b0825e02-f5e5-11e9-98c8-e53058fcf059.pickle', '/media/data_cifs/afengler/data/kde/ddm/method_comparison/post_samp_perturbation_experiment_nexp_1_n_3000_30d43901aa-f5c9-11e9-90e7-45b43c152bd1.pickle', '/media/data_cifs/afengler/data/kde/ddm/method_comparison/post_samp_perturbation_experiment_nexp_1_n_3000_40904186f2-f5ce-11e9-93dd-412e8501bd7e.pickle', '/media/data_cifs/afengler/data/kde/ddm/method_comparison/post_samp_perturbation_experiment_nexp_1_n_3000_28edd2f3ae-f5bb-11e9-b543-d3feff8659cc.pickle', '/media/data_cifs/afengler/data/kde/ddm/method_comparison/post_samp_perturbation_experiment_nexp_1_n_3000_37d37038be-f5c5-11e9-af70-cb8c3694b942.pickle', '/media/data_cifs/afengler/data/kde/ddm/method_comparison/post_samp_perturbation_experiment_nexp_1_n_3000_3621e1760a-f5c8-11e9-a327-a974049c55df.pickle', '/media/data_cifs/afengler/data/kde/ddm/method_comparison/post_samp_perturbation_experiment_nexp_1_n_3000_87ed94a36c-f5f5-11e9-8d88-6ba8e6e17930.pickle', '/media/data_cifs/afengler/data/kde/ddm/method_comparison/post_samp_perturbation_experiment_nexp_1_n_3000_717e1f6332-f5e1-11e9-a3bb-6137e2d86591.pickle', '/media/data_cifs/afengler/data/kde/ddm/method_comparison/post_samp_perturbation_experiment_nexp_1_n_3000_9098067602-f5f3-11e9-b758-2bb96cf27f3e.pickle', '/media/data_cifs/afengler/data/kde/ddm/method_comparison/post_samp_perturbation_experiment_nexp_1_n_3000_13a9c7efe2-f5c1-11e9-89d8-4bc532aec0ca.pickle']\n"
     ]
    }
   ],
   "source": [
    "# FILE CONCATENATOR\n",
    "cwd =  '/media/data_cifs/afengler/data/kde/ddm/method_comparison/'\n",
    "nexp = 1\n",
    "nreps = 1\n",
    "n_samples = 3000\n",
    "file_signature = 'post_samp_perturbation_experiment_nexp_' + str(nexp) + '_n_' + str(n_samples) + '_*' \n",
    "out_file_signature = 'post_samp_perturbation_experiment_nexp_' + str(100) + '_nreps_1_n_' + str(n_samples) + '.pickle' \n",
    "print(file_signature)\n",
    "files_ = glob.glob(cwd + file_signature)\n",
    "print(files_)\n",
    "cnt = 0\n",
    "param_grids = []\n",
    "data_grids = []\n",
    "preds = []\n",
    "meta_data = list()\n",
    "\n",
    "for file_ in files_:\n",
    "    #print(file_)\n",
    "    tmp = pickle.load(open(file_, 'rb'))\n",
    "    param_grids.append(np.expand_dims(tmp[0], axis = 0))\n",
    "    data_grids.append(np.expand_dims(tmp[1], axis = 0))\n",
    "    preds.append(np.expand_dims(tmp[2], axis = 0))\n",
    "#     if cnt == 0:\n",
    "#         meta_data = tmp[2]\n",
    "#         cnt += 1\n",
    "        \n",
    "param_grid = np.array(param_grids)\n",
    "data_grid = np.array(data_grids)\n",
    "preds = np.array(preds)\n",
    "#pickle.dump((param_grid, data_grid, meta_data), open(cwd + out_file_signature, 'wb'), protocol = 2)\n",
    "pickle.dump((param_grid, data_grid, preds), open(cwd + out_file_signature, 'wb'), protocol = 2)"
   ]
  },
  {
   "cell_type": "code",
   "execution_count": 102,
   "metadata": {},
   "outputs": [
    {
     "name": "stdout",
     "output_type": "stream",
     "text": [
      "(1, 13, 250, 2)\n",
      "(1, 13, 250, 2)\n",
      "(1, 13, 250, 2)\n",
      "(1, 13, 250, 2)\n",
      "(1, 13, 250, 2)\n",
      "(1, 13, 250, 2)\n",
      "(1, 13, 250, 2)\n",
      "(1, 13, 250, 2)\n",
      "(1, 13, 250, 2)\n",
      "(1, 13, 250, 2)\n",
      "(1, 13, 250, 2)\n",
      "(1, 13, 250, 2)\n",
      "(1, 13, 250, 2)\n",
      "(1, 13, 250, 2)\n",
      "(1, 13, 250, 2)\n",
      "(1, 13, 250, 2)\n",
      "(1, 13, 250, 2)\n",
      "(1, 13, 250, 2)\n",
      "(1, 13, 250, 2)\n",
      "(1, 13, 250, 2)\n",
      "(1, 13, 250, 2)\n",
      "(1, 13, 250, 2)\n",
      "(1, 13, 250, 2)\n",
      "(1, 13, 250, 2)\n",
      "(1, 13, 250, 2)\n",
      "(1, 13, 250, 2)\n",
      "(1, 13, 250, 2)\n",
      "(1, 13, 250, 2)\n",
      "(1, 13, 250, 2)\n",
      "(1, 13, 250, 2)\n",
      "(1, 13, 250, 2)\n",
      "(1, 13, 250, 2)\n",
      "(1, 13, 250, 2)\n",
      "(1, 13, 250, 2)\n",
      "(1, 13, 250, 2)\n",
      "(1, 13, 250, 2)\n",
      "(1, 13, 250, 2)\n",
      "(1, 13, 250, 2)\n",
      "(1, 13, 250, 2)\n",
      "(1, 13, 250, 2)\n",
      "(1, 13, 250, 2)\n",
      "(1, 13, 250, 2)\n",
      "(1, 13, 250, 2)\n",
      "(1, 13, 250, 2)\n",
      "(1, 13, 250, 2)\n",
      "(1, 13, 250, 2)\n",
      "(1, 13, 250, 2)\n",
      "(1, 13, 250, 2)\n",
      "(1, 13, 250, 2)\n",
      "(1, 13, 250, 2)\n",
      "(1, 13, 250, 2)\n",
      "(1, 13, 250, 2)\n",
      "(1, 13, 250, 2)\n",
      "(1, 13, 250, 2)\n",
      "(1, 13, 250, 2)\n",
      "(1, 13, 250, 2)\n",
      "(1, 13, 250, 2)\n",
      "(1, 13, 250, 2)\n",
      "(1, 13, 250, 2)\n",
      "(1, 13, 250, 2)\n",
      "(1, 13, 250, 2)\n",
      "(1, 13, 250, 2)\n",
      "(1, 13, 250, 2)\n",
      "(1, 13, 250, 2)\n",
      "(1, 13, 250, 2)\n",
      "(1, 13, 250, 2)\n",
      "(1, 13, 250, 2)\n",
      "(1, 13, 250, 2)\n",
      "(1, 13, 250, 2)\n",
      "(1, 13, 250, 2)\n",
      "(1, 13, 250, 2)\n",
      "(1, 13, 250, 2)\n",
      "(1, 13, 250, 2)\n",
      "(1, 13, 250, 2)\n",
      "(1, 13, 250, 2)\n",
      "(1, 13, 250, 2)\n",
      "(1, 13, 250, 2)\n",
      "(1, 13, 250, 2)\n",
      "(1, 13, 250, 2)\n",
      "(1, 13, 250, 2)\n",
      "(1, 13, 250, 2)\n",
      "(1, 13, 250, 2)\n",
      "(1, 13, 250, 2)\n",
      "(1, 13, 250, 2)\n",
      "(1, 13, 250, 2)\n",
      "(1, 13, 250, 2)\n",
      "(1, 13, 250, 2)\n",
      "(1, 13, 250, 2)\n",
      "(1, 13, 250, 2)\n",
      "(1, 13, 250, 2)\n",
      "(1, 13, 250, 2)\n",
      "(1, 13, 250, 2)\n",
      "(1, 13, 250, 2)\n",
      "(1, 13, 250, 2)\n",
      "(1, 13, 250, 2)\n",
      "(1, 13, 250, 2)\n",
      "(1, 13, 250, 2)\n",
      "(1, 13, 250, 2)\n",
      "(1, 13, 250, 2)\n",
      "(1, 13, 250, 2)\n"
     ]
    }
   ],
   "source": [
    "for data_grid in data_grids:\n",
    "    print(data_grid.shape)"
   ]
  },
  {
   "cell_type": "code",
   "execution_count": 96,
   "metadata": {},
   "outputs": [
    {
     "ename": "TypeError",
     "evalue": "list indices must be integers or slices, not tuple",
     "output_type": "error",
     "traceback": [
      "\u001b[0;31m---------------------------------------------------------------------------\u001b[0m",
      "\u001b[0;31mTypeError\u001b[0m                                 Traceback (most recent call last)",
      "\u001b[0;32m<ipython-input-96-24e381cae5e8>\u001b[0m in \u001b[0;36m<module>\u001b[0;34m\u001b[0m\n\u001b[0;32m----> 1\u001b[0;31m \u001b[0mdata_grids\u001b[0m\u001b[0;34m[\u001b[0m\u001b[0;36m0\u001b[0m\u001b[0;34m,\u001b[0m \u001b[0;34m:\u001b[0m\u001b[0;34m,\u001b[0m \u001b[0;34m:\u001b[0m\u001b[0;34m,\u001b[0m \u001b[0;34m:\u001b[0m\u001b[0;34m]\u001b[0m\u001b[0;34m\u001b[0m\u001b[0;34m\u001b[0m\u001b[0m\n\u001b[0m",
      "\u001b[0;31mTypeError\u001b[0m: list indices must be integers or slices, not tuple"
     ]
    }
   ],
   "source": [
    "data_grids[0, :, :, :]"
   ]
  },
  {
   "cell_type": "code",
   "execution_count": 34,
   "metadata": {},
   "outputs": [],
   "source": [
    "test = np.array(param_grids)"
   ]
  },
  {
   "cell_type": "code",
   "execution_count": 30,
   "metadata": {},
   "outputs": [
    {
     "data": {
      "text/plain": [
       "(3, 1)"
      ]
     },
     "execution_count": 30,
     "metadata": {},
     "output_type": "execute_result"
    }
   ],
   "source": [
    "np.expand_dims(test, axis = 1).shape"
   ]
  },
  {
   "cell_type": "code",
   "execution_count": 35,
   "metadata": {},
   "outputs": [
    {
     "data": {
      "text/plain": [
       "(100, 1, 13, 4)"
      ]
     },
     "execution_count": 35,
     "metadata": {},
     "output_type": "execute_result"
    }
   ],
   "source": [
    "test.shape"
   ]
  },
  {
   "cell_type": "code",
   "execution_count": 124,
   "metadata": {},
   "outputs": [],
   "source": [
    "s = 1\n",
    "np.zeros((3))[:] = 1.0"
   ]
  },
  {
   "cell_type": "code",
   "execution_count": 120,
   "metadata": {},
   "outputs": [
    {
     "data": {
      "text/plain": [
       "array([1., 1., 1.])"
      ]
     },
     "execution_count": 120,
     "metadata": {},
     "output_type": "execute_result"
    }
   ],
   "source": [
    "t"
   ]
  },
  {
   "cell_type": "code",
   "execution_count": 135,
   "metadata": {},
   "outputs": [
    {
     "data": {
      "text/plain": [
       "array([0.69240206, 0.02219047, 0.9090342 , 0.16239984, 0.2350252 ,\n",
       "       0.6302917 , 0.28511032, 0.50074875, 0.31615797, 0.10656768],\n",
       "      dtype=float32)"
      ]
     },
     "execution_count": 135,
     "metadata": {},
     "output_type": "execute_result"
    }
   ],
   "source": [
    "np.random.uniform(size = 10).astype(np.float32)"
   ]
  },
  {
   "cell_type": "code",
   "execution_count": 136,
   "metadata": {},
   "outputs": [
    {
     "data": {
      "text/plain": [
       "array([0.9460555 , 0.7345241 , 0.39383292, 0.8820081 , 0.28323907,\n",
       "       0.13430743, 0.79362   , 0.3032497 , 0.5787424 , 0.32368183],\n",
       "      dtype=float32)"
      ]
     },
     "execution_count": 136,
     "metadata": {},
     "output_type": "execute_result"
    }
   ],
   "source": [
    "np.float32(np.random.uniform(size = 10))"
   ]
  },
  {
   "cell_type": "code",
   "execution_count": 153,
   "metadata": {},
   "outputs": [],
   "source": [
    "a = {'a': 10, 'b': 20}"
   ]
  },
  {
   "cell_type": "code",
   "execution_count": 139,
   "metadata": {},
   "outputs": [
    {
     "data": {
      "text/plain": [
       "10"
      ]
     },
     "execution_count": 139,
     "metadata": {},
     "output_type": "execute_result"
    }
   ],
   "source": [
    "a.pop('a')"
   ]
  },
  {
   "cell_type": "code",
   "execution_count": 146,
   "metadata": {},
   "outputs": [
    {
     "name": "stdout",
     "output_type": "stream",
     "text": [
      "hello\n"
     ]
    }
   ],
   "source": [
    "if 'a' in a.keys():\n",
    "    print('hello')"
   ]
  },
  {
   "cell_type": "code",
   "execution_count": 145,
   "metadata": {},
   "outputs": [
    {
     "data": {
      "text/plain": [
       "dict_keys(['a', 'b'])"
      ]
     },
     "execution_count": 145,
     "metadata": {},
     "output_type": "execute_result"
    }
   ],
   "source": [
    "a.keys()"
   ]
  },
  {
   "cell_type": "code",
   "execution_count": 154,
   "metadata": {},
   "outputs": [],
   "source": [
    "b = a.copy()\n"
   ]
  },
  {
   "cell_type": "code",
   "execution_count": 155,
   "metadata": {},
   "outputs": [
    {
     "data": {
      "text/plain": [
       "{'a': 10, 'b': 20}"
      ]
     },
     "execution_count": 155,
     "metadata": {},
     "output_type": "execute_result"
    }
   ],
   "source": [
    "b"
   ]
  },
  {
   "cell_type": "code",
   "execution_count": 156,
   "metadata": {},
   "outputs": [
    {
     "data": {
      "text/plain": [
       "10"
      ]
     },
     "execution_count": 156,
     "metadata": {},
     "output_type": "execute_result"
    }
   ],
   "source": [
    "b.pop('a')"
   ]
  },
  {
   "cell_type": "code",
   "execution_count": 157,
   "metadata": {},
   "outputs": [
    {
     "data": {
      "text/plain": [
       "{'a': 10, 'b': 20}"
      ]
     },
     "execution_count": 157,
     "metadata": {},
     "output_type": "execute_result"
    }
   ],
   "source": [
    "a"
   ]
  },
  {
   "cell_type": "code",
   "execution_count": 172,
   "metadata": {},
   "outputs": [],
   "source": [
    "t = np.random.uniform(low = 0.5, high = 0.0, size = 100)"
   ]
  },
  {
   "cell_type": "code",
   "execution_count": 173,
   "metadata": {},
   "outputs": [
    {
     "data": {
      "text/plain": [
       "array([0.36508152, 0.08855611, 0.37185627, 0.38211775, 0.3322765 ,\n",
       "       0.17844721, 0.38910915, 0.26674325, 0.11731493, 0.30679182,\n",
       "       0.03206849, 0.39457146, 0.24758699, 0.4064238 , 0.40824798,\n",
       "       0.10314418, 0.39231826, 0.03082251, 0.07738817, 0.4207353 ,\n",
       "       0.18848036, 0.0466662 , 0.31549642, 0.13006441, 0.27762197,\n",
       "       0.07186626, 0.31390029, 0.17817106, 0.17757161, 0.23572943,\n",
       "       0.32082105, 0.17827703, 0.17575709, 0.38152599, 0.31606054,\n",
       "       0.43981349, 0.05138198, 0.18046642, 0.24470487, 0.16659555,\n",
       "       0.36457043, 0.33066135, 0.22385974, 0.41799466, 0.25506451,\n",
       "       0.08505351, 0.483184  , 0.05605949, 0.00385551, 0.34973035,\n",
       "       0.29892381, 0.06128946, 0.17009357, 0.0268915 , 0.15976005,\n",
       "       0.31952503, 0.48907443, 0.1278912 , 0.03202546, 0.04046004,\n",
       "       0.46160635, 0.17037664, 0.3972776 , 0.34879272, 0.13840321,\n",
       "       0.11044323, 0.3663074 , 0.17320812, 0.33931898, 0.03354025,\n",
       "       0.04344675, 0.46083757, 0.10597399, 0.14509954, 0.3070604 ,\n",
       "       0.22834738, 0.11960729, 0.11912456, 0.36464906, 0.39806999,\n",
       "       0.29342139, 0.409149  , 0.45636328, 0.20782102, 0.11094672,\n",
       "       0.1360132 , 0.18387097, 0.02614755, 0.12824426, 0.40906506,\n",
       "       0.46138232, 0.25363113, 0.15777606, 0.25398411, 0.44882273,\n",
       "       0.01792062, 0.05634688, 0.06635837, 0.30064233, 0.1707644 ])"
      ]
     },
     "execution_count": 173,
     "metadata": {},
     "output_type": "execute_result"
    }
   ],
   "source": [
    "t"
   ]
  },
  {
   "cell_type": "code",
   "execution_count": null,
   "metadata": {},
   "outputs": [],
   "source": []
  }
 ],
 "metadata": {
  "kernelspec": {
   "display_name": "Python 3",
   "language": "python",
   "name": "python3"
  },
  "language_info": {
   "codemirror_mode": {
    "name": "ipython",
    "version": 3
   },
   "file_extension": ".py",
   "mimetype": "text/x-python",
   "name": "python",
   "nbconvert_exporter": "python",
   "pygments_lexer": "ipython3",
   "version": "3.7.3"
  }
 },
 "nbformat": 4,
 "nbformat_minor": 4
}
