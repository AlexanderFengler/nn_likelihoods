{
 "cells": [
  {
   "cell_type": "code",
   "execution_count": 9,
   "metadata": {},
   "outputs": [],
   "source": [
    "# Load packages\n",
    "import tensorflow as tf\n",
    "import pandas as pd\n",
    "from tensorflow import keras\n",
    "import numpy as np\n",
    "import pandas as pd\n",
    "import os\n",
    "import scipy as scp\n",
    "import scipy.stats as scps\n",
    "\n",
    "# Load my own functions\n",
    "import dnnregressor_train_eval_keras as dnnk\n",
    "from kde_training_utilities import kde_load_data\n",
    "import make_data_wfpt as mdw\n",
    "\n",
    "os.environ['CUDA_VISIBLE_DEVICES'] = ['1','2','3']"
   ]
  },
  {
   "cell_type": "code",
   "execution_count": 10,
   "metadata": {},
   "outputs": [
    {
     "data": {
      "text/plain": [
       "'2.1.6-tf'"
      ]
     },
     "execution_count": 10,
     "metadata": {},
     "output_type": "execute_result"
    }
   ],
   "source": [
    "keras.__version__"
   ]
  },
  {
   "cell_type": "code",
   "execution_count": 11,
   "metadata": {},
   "outputs": [],
   "source": [
    "# Make dnnk class (cpm for choice probability model)\n",
    "cpm = dnnk.dnn_trainer()\n",
    "\n",
    "# Load data\n",
    "data_folder = os.getcwd() + '/data_storage/kde/kde_ddm_flexbound_train_test_extended_params/'\n",
    "\n",
    "# rt_choice\n",
    "cpm.data['train_features'], cpm.data['train_labels'], cpm.data['test_features'], cpm.data['test_labels'] = kde_load_data(folder = data_folder)\n"
   ]
  },
  {
   "cell_type": "code",
   "execution_count": 12,
   "metadata": {},
   "outputs": [
    {
     "data": {
      "text/plain": [
       "{'input_shape': 3,\n",
       " 'output_shape': 1,\n",
       " 'output_activation': 'sigmoid',\n",
       " 'hidden_layers': [20, 20, 20, 20],\n",
       " 'hidden_activations': ['relu', 'relu', 'relu', 'relu'],\n",
       " 'l1_activation': [0.0, 0.0, 0.0, 0.0],\n",
       " 'l2_activation': [0.0, 0.0, 0.0, 0.0],\n",
       " 'l1_kernel': [0.0, 0.0, 0.0, 0.0],\n",
       " 'l2_kernel': [0.0, 0.0, 0.0, 0.0],\n",
       " 'optimizer': 'Nadam',\n",
       " 'loss': 'mse',\n",
       " 'metrics': ['mse']}"
      ]
     },
     "execution_count": 12,
     "metadata": {},
     "output_type": "execute_result"
    }
   ],
   "source": [
    "# Make all parameters we can specify explicit\n",
    "# Model parameters\n",
    "cpm.model_params"
   ]
  },
  {
   "cell_type": "code",
   "execution_count": 13,
   "metadata": {},
   "outputs": [
    {
     "data": {
      "text/plain": [
       "{'callback_funs': ['ReduceLROnPlateau', 'EarlyStopping', 'ModelCheckpoint'],\n",
       " 'plateau_patience': 10,\n",
       " 'min_delta': 0.0001,\n",
       " 'early_stopping_patience': 15,\n",
       " 'callback_monitor': 'loss',\n",
       " 'min_learning_rate': 1e-07,\n",
       " 'red_coef_learning_rate': 0.1,\n",
       " 'ckpt_period': 10,\n",
       " 'ckpt_save_best_only': True,\n",
       " 'ckpt_save_weights_only': True,\n",
       " 'max_train_epochs': 2000,\n",
       " 'batch_size': 10000,\n",
       " 'warm_start': False,\n",
       " 'checkpoint': 'ckpt',\n",
       " 'model_cnt': 0}"
      ]
     },
     "execution_count": 13,
     "metadata": {},
     "output_type": "execute_result"
    }
   ],
   "source": [
    "# Parameters governing training\n",
    "cpm.train_params"
   ]
  },
  {
   "cell_type": "code",
   "execution_count": 14,
   "metadata": {},
   "outputs": [
    {
     "data": {
      "text/plain": [
       "{'data_type': 'choice_probabilities',\n",
       " 'model_directory': '/home/afengler/git_repos/nn_likelihoods/keras_models',\n",
       " 'checkpoint': 'ckpt',\n",
       " 'model_name': 'dnnregressor',\n",
       " 'data_type_signature': '_choice_probabilities_analytic_',\n",
       " 'timestamp': '06_02_19_15_25_32',\n",
       " 'training_data_size': 2500000}"
      ]
     },
     "execution_count": 14,
     "metadata": {},
     "output_type": "execute_result"
    }
   ],
   "source": [
    "# Parameters concerning data storage\n",
    "cpm.data_params"
   ]
  },
  {
   "cell_type": "code",
   "execution_count": 15,
   "metadata": {},
   "outputs": [],
   "source": [
    "# If necessary, specify new set of parameters here:\n",
    "# Model params\n",
    "cpm.model_params['output_activation'] = 'linear'\n",
    "cpm.model_params['hidden_layers'] = [20, 40, 60, 80, 100, 120]\n",
    "cpm.model_params['hidden_activations'] = ['relu', 'relu', 'relu', 'relu', 'relu', 'relu']\n",
    "cpm.model_params['input_shape'] = cpm.data['train_features'].shape[1]\n",
    "cpm.model_params['l1_activation'] = [0.0, 0.0, 0.0, 0.0, 0.0, 0.0]\n",
    "cpm.model_params['l2_activation'] = [0.0, 0.0, 0.0, 0.0, 0.0, 0.0]\n",
    "cpm.model_params['l1_kernel'] = [0.0, 0.0, 0.0, 0.0, 0.0, 0.0]\n",
    "cpm.model_params['l2_kernel'] = [0.0, 0.0, 0.0, 0.0, 0.0, 0.0]\n",
    "# Train params\n",
    "cpm.train_params['batch_size'] = 200000\n",
    "cpm.train_params['max_train_epochs'] = 200\n",
    "\n",
    "# Data params\n",
    "cpm.data_params['data_type'] = 'wfpt'\n",
    "cpm.data_params['data_type_signature'] = '_kde_ddm_flexbnd_c1_c2'\n",
    "cpm.data_params['training_data_size'] = cpm.data['train_features'].shape[0]"
   ]
  },
  {
   "cell_type": "code",
   "execution_count": 16,
   "metadata": {},
   "outputs": [],
   "source": [
    "# Make model\n",
    "cpm.keras_model_generate(save_model = True)"
   ]
  },
  {
   "cell_type": "code",
   "execution_count": null,
   "metadata": {},
   "outputs": [
    {
     "name": "stdout",
     "output_type": "stream",
     "text": [
      "Train on 197646506 samples, validate on 21961430 samples\n",
      "Epoch 1/200\n",
      "197646506/197646506 [==============================] - 319s 2us/step - loss: 0.1220 - mean_squared_error: 0.1220 - val_loss: 0.0805 - val_mean_squared_error: 0.0805\n",
      "Epoch 2/200\n",
      "197646506/197646506 [==============================] - 318s 2us/step - loss: 0.0373 - mean_squared_error: 0.0373 - val_loss: 0.0196 - val_mean_squared_error: 0.0196\n",
      "Epoch 3/200\n",
      "197646506/197646506 [==============================] - 317s 2us/step - loss: 0.0231 - mean_squared_error: 0.0231 - val_loss: 0.0177 - val_mean_squared_error: 0.0177\n",
      "Epoch 4/200\n",
      "197646506/197646506 [==============================] - 319s 2us/step - loss: 0.0171 - mean_squared_error: 0.0171 - val_loss: 0.0140 - val_mean_squared_error: 0.0140\n",
      "Epoch 5/200\n",
      "197646506/197646506 [==============================] - 320s 2us/step - loss: 0.0138 - mean_squared_error: 0.0138 - val_loss: 0.0134 - val_mean_squared_error: 0.0134\n",
      "Epoch 6/200\n",
      "197646506/197646506 [==============================] - 318s 2us/step - loss: 0.0116 - mean_squared_error: 0.0116 - val_loss: 0.0096 - val_mean_squared_error: 0.0096\n",
      "Epoch 7/200\n",
      "197646506/197646506 [==============================] - 319s 2us/step - loss: 0.0101 - mean_squared_error: 0.0101 - val_loss: 0.0078 - val_mean_squared_error: 0.0078\n",
      "Epoch 8/200\n",
      "197646506/197646506 [==============================] - 320s 2us/step - loss: 0.0089 - mean_squared_error: 0.0089 - val_loss: 0.0091 - val_mean_squared_error: 0.0091\n",
      "Epoch 9/200\n",
      "197646506/197646506 [==============================] - 319s 2us/step - loss: 0.0080 - mean_squared_error: 0.0080 - val_loss: 0.0059 - val_mean_squared_error: 0.0059\n",
      "Epoch 10/200\n",
      "197646506/197646506 [==============================] - 320s 2us/step - loss: 0.0074 - mean_squared_error: 0.0074 - val_loss: 0.0080 - val_mean_squared_error: 0.0080\n",
      "\n",
      "Epoch 00010: val_loss improved from inf to 0.00804, saving model to /home/afengler/git_repos/nn_likelihoods/keras_models/dnnregressor_kde_ddm_flexbnd_c1_c206_02_19_15_25_32/ckpt_0_10\n",
      "Epoch 11/200\n",
      "197646506/197646506 [==============================] - 320s 2us/step - loss: 0.0068 - mean_squared_error: 0.0068 - val_loss: 0.0055 - val_mean_squared_error: 0.0055\n",
      "Epoch 12/200\n",
      "197646506/197646506 [==============================] - 317s 2us/step - loss: 0.0064 - mean_squared_error: 0.0064 - val_loss: 0.0084 - val_mean_squared_error: 0.0084\n",
      "Epoch 13/200\n",
      "197646506/197646506 [==============================] - 320s 2us/step - loss: 0.0060 - mean_squared_error: 0.0060 - val_loss: 0.0080 - val_mean_squared_error: 0.0080\n",
      "Epoch 14/200\n",
      "197646506/197646506 [==============================] - 321s 2us/step - loss: 0.0056 - mean_squared_error: 0.0056 - val_loss: 0.0042 - val_mean_squared_error: 0.0042\n",
      "Epoch 15/200\n",
      "197646506/197646506 [==============================] - 320s 2us/step - loss: 0.0055 - mean_squared_error: 0.0055 - val_loss: 0.0050 - val_mean_squared_error: 0.0050\n",
      "Epoch 16/200\n",
      "197646506/197646506 [==============================] - 319s 2us/step - loss: 0.0059 - mean_squared_error: 0.0059 - val_loss: 0.0062 - val_mean_squared_error: 0.0062\n",
      "Epoch 17/200\n",
      "197646506/197646506 [==============================] - 319s 2us/step - loss: 0.0051 - mean_squared_error: 0.0051 - val_loss: 0.0051 - val_mean_squared_error: 0.0051\n",
      "Epoch 18/200\n",
      "197646506/197646506 [==============================] - 321s 2us/step - loss: 0.0050 - mean_squared_error: 0.0050 - val_loss: 0.0057 - val_mean_squared_error: 0.0057\n",
      "Epoch 19/200\n",
      "197646506/197646506 [==============================] - 319s 2us/step - loss: 0.0050 - mean_squared_error: 0.0050 - val_loss: 0.0047 - val_mean_squared_error: 0.0047\n",
      "Epoch 20/200\n",
      "197646506/197646506 [==============================] - 318s 2us/step - loss: 0.0049 - mean_squared_error: 0.0049 - val_loss: 0.0054 - val_mean_squared_error: 0.0054\n",
      "\n",
      "Epoch 00020: val_loss improved from 0.00804 to 0.00538, saving model to /home/afengler/git_repos/nn_likelihoods/keras_models/dnnregressor_kde_ddm_flexbnd_c1_c206_02_19_15_25_32/ckpt_0_20\n",
      "Epoch 21/200\n",
      "197646506/197646506 [==============================] - 319s 2us/step - loss: 0.0046 - mean_squared_error: 0.0046 - val_loss: 0.0040 - val_mean_squared_error: 0.0040\n",
      "Epoch 22/200\n",
      "197646506/197646506 [==============================] - 320s 2us/step - loss: 0.0046 - mean_squared_error: 0.0046 - val_loss: 0.0042 - val_mean_squared_error: 0.0042\n",
      "Epoch 23/200\n",
      "197646506/197646506 [==============================] - 324s 2us/step - loss: 0.0045 - mean_squared_error: 0.0045 - val_loss: 0.0043 - val_mean_squared_error: 0.0043\n",
      "Epoch 24/200\n",
      "197646506/197646506 [==============================] - 320s 2us/step - loss: 0.0046 - mean_squared_error: 0.0046 - val_loss: 0.0039 - val_mean_squared_error: 0.0039\n",
      "Epoch 25/200\n",
      "197646506/197646506 [==============================] - 318s 2us/step - loss: 0.0042 - mean_squared_error: 0.0042 - val_loss: 0.0035 - val_mean_squared_error: 0.0035\n",
      "Epoch 26/200\n",
      "197646506/197646506 [==============================] - 319s 2us/step - loss: 0.0042 - mean_squared_error: 0.0042 - val_loss: 0.0039 - val_mean_squared_error: 0.0039\n",
      "Epoch 27/200\n",
      "197646506/197646506 [==============================] - 319s 2us/step - loss: 0.0038 - mean_squared_error: 0.0038 - val_loss: 0.0031 - val_mean_squared_error: 0.0031\n",
      "Epoch 28/200\n",
      "197646506/197646506 [==============================] - 321s 2us/step - loss: 0.0040 - mean_squared_error: 0.0040 - val_loss: 0.0066 - val_mean_squared_error: 0.0066\n",
      "Epoch 29/200\n",
      "197646506/197646506 [==============================] - 320s 2us/step - loss: 0.0038 - mean_squared_error: 0.0038 - val_loss: 0.0041 - val_mean_squared_error: 0.0041\n",
      "Epoch 30/200\n",
      "197646506/197646506 [==============================] - 319s 2us/step - loss: 0.0051 - mean_squared_error: 0.0051 - val_loss: 0.0038 - val_mean_squared_error: 0.0038\n",
      "\n",
      "Epoch 00030: val_loss improved from 0.00538 to 0.00383, saving model to /home/afengler/git_repos/nn_likelihoods/keras_models/dnnregressor_kde_ddm_flexbnd_c1_c206_02_19_15_25_32/ckpt_0_30\n",
      "Epoch 31/200\n",
      "197646506/197646506 [==============================] - 320s 2us/step - loss: 0.0039 - mean_squared_error: 0.0039 - val_loss: 0.0050 - val_mean_squared_error: 0.0050\n",
      "Epoch 32/200\n",
      "197646506/197646506 [==============================] - 319s 2us/step - loss: 0.0043 - mean_squared_error: 0.0043 - val_loss: 0.0070 - val_mean_squared_error: 0.0070\n",
      "Epoch 33/200\n",
      "197646506/197646506 [==============================] - 322s 2us/step - loss: 0.0041 - mean_squared_error: 0.0041 - val_loss: 0.0058 - val_mean_squared_error: 0.0058\n",
      "Epoch 34/200\n",
      "197646506/197646506 [==============================] - 321s 2us/step - loss: 0.0041 - mean_squared_error: 0.0041 - val_loss: 0.0047 - val_mean_squared_error: 0.0047\n",
      "Epoch 35/200\n",
      "197646506/197646506 [==============================] - 320s 2us/step - loss: 0.0038 - mean_squared_error: 0.0038 - val_loss: 0.0046 - val_mean_squared_error: 0.0046\n",
      "Epoch 36/200\n",
      "197646506/197646506 [==============================] - 321s 2us/step - loss: 0.0034 - mean_squared_error: 0.0034 - val_loss: 0.0029 - val_mean_squared_error: 0.0029\n",
      "Epoch 37/200\n",
      "197646506/197646506 [==============================] - 323s 2us/step - loss: 0.0039 - mean_squared_error: 0.0039 - val_loss: 0.0022 - val_mean_squared_error: 0.0022\n",
      "Epoch 38/200\n",
      "197646506/197646506 [==============================] - 321s 2us/step - loss: 0.0040 - mean_squared_error: 0.0040 - val_loss: 0.0037 - val_mean_squared_error: 0.0037\n",
      "Epoch 39/200\n",
      "197646506/197646506 [==============================] - 319s 2us/step - loss: 0.0037 - mean_squared_error: 0.0037 - val_loss: 0.0036 - val_mean_squared_error: 0.0036\n",
      "Epoch 40/200\n",
      "197646506/197646506 [==============================] - 319s 2us/step - loss: 0.0031 - mean_squared_error: 0.0031 - val_loss: 0.0028 - val_mean_squared_error: 0.0028\n",
      "\n",
      "Epoch 00040: val_loss improved from 0.00383 to 0.00278, saving model to /home/afengler/git_repos/nn_likelihoods/keras_models/dnnregressor_kde_ddm_flexbnd_c1_c206_02_19_15_25_32/ckpt_0_40\n",
      "Epoch 41/200\n",
      "197646506/197646506 [==============================] - 320s 2us/step - loss: 0.0026 - mean_squared_error: 0.0026 - val_loss: 0.0027 - val_mean_squared_error: 0.0027\n",
      "Epoch 42/200\n"
     ]
    },
    {
     "name": "stdout",
     "output_type": "stream",
     "text": [
      "197646506/197646506 [==============================] - 318s 2us/step - loss: 0.0024 - mean_squared_error: 0.0024 - val_loss: 0.0022 - val_mean_squared_error: 0.0022\n",
      "Epoch 43/200\n",
      "197646506/197646506 [==============================] - 320s 2us/step - loss: 0.0023 - mean_squared_error: 0.0023 - val_loss: 0.0022 - val_mean_squared_error: 0.0022\n",
      "Epoch 44/200\n",
      "197646506/197646506 [==============================] - 322s 2us/step - loss: 0.0022 - mean_squared_error: 0.0022 - val_loss: 0.0022 - val_mean_squared_error: 0.0022\n",
      "Epoch 45/200\n",
      "197646506/197646506 [==============================] - 320s 2us/step - loss: 0.0029 - mean_squared_error: 0.0029 - val_loss: 0.0036 - val_mean_squared_error: 0.0036\n",
      "Epoch 46/200\n",
      "197646506/197646506 [==============================] - 321s 2us/step - loss: 0.0022 - mean_squared_error: 0.0022 - val_loss: 0.0027 - val_mean_squared_error: 0.0027\n",
      "Epoch 47/200\n",
      "197646506/197646506 [==============================] - 320s 2us/step - loss: 0.0027 - mean_squared_error: 0.0027 - val_loss: 0.0046 - val_mean_squared_error: 0.0046\n",
      "Epoch 48/200\n",
      "  3000000/197646506 [..............................] - ETA: 16:03 - loss: 0.0027 - mean_squared_error: 0.0027"
     ]
    }
   ],
   "source": [
    "# Train model\n",
    "cpm.run_training(save_history = True, \n",
    "                 warm_start = False)"
   ]
  },
  {
   "cell_type": "code",
   "execution_count": null,
   "metadata": {},
   "outputs": [],
   "source": []
  }
 ],
 "metadata": {
  "kernelspec": {
   "display_name": "tf-gpu",
   "language": "python",
   "name": "tf-gpu"
  },
  "language_info": {
   "codemirror_mode": {
    "name": "ipython",
    "version": 3
   },
   "file_extension": ".py",
   "mimetype": "text/x-python",
   "name": "python",
   "nbconvert_exporter": "python",
   "pygments_lexer": "ipython3",
   "version": "3.6.6"
  }
 },
 "nbformat": 4,
 "nbformat_minor": 2
}
