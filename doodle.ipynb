{
 "cells": [
  {
   "cell_type": "code",
   "execution_count": 1,
   "metadata": {},
   "outputs": [],
   "source": [
    "# Load packages\n",
    "import tensorflow as tf\n",
    "import pandas as pd\n",
    "from tensorflow import keras\n",
    "import numpy as np\n",
    "import pandas as pd\n",
    "import os\n",
    "import scipy as scp\n",
    "import scipy.stats as scps\n",
    "import pickle\n",
    "\n",
    "# Load my own functions\n",
    "import dnnregressor_train_eval_keras as dnnk\n",
    "from kde_training_utilities import kde_load_data\n",
    "import make_data_wfpt as mdw\n"
   ]
  },
  {
   "cell_type": "code",
   "execution_count": null,
   "metadata": {},
   "outputs": [],
   "source": [
    "from tensorflow.keras.layers import Input, Dense\n",
    "from tensorflow.keras.models import Model"
   ]
  },
  {
   "cell_type": "code",
   "execution_count": null,
   "metadata": {},
   "outputs": [],
   "source": [
    "inputs = Input(shape = (7,))\n",
    "x = Dense(20, activation = 'relu')(inputs)\n",
    "x = Dense(40, activation = 'relu')(x)\n",
    "x = Dense(60, activation = 'relu')(x)\n",
    "x = Dense(80, activation = 'relu')(x)\n",
    "x = Dense(100, activation = 'relu')(x)\n",
    "x = Dense(120, activation = 'relu')(x)\n",
    "predictions = Dense(1, activation = 'linear')(x)\n",
    "model = Model(inputs = inputs, outputs = predictions)\n",
    "model.compile(optimizer = 'nadam',\n",
    "              loss = 'mse',\n",
    "              metrics = ['mse'])"
   ]
  },
  {
   "cell_type": "code",
   "execution_count": null,
   "metadata": {},
   "outputs": [],
   "source": [
    "data = np.random.uniform(low = -1, high = 1, size = ((100000000, 7)))\n",
    "labels = np.matmul(data, np.array([1, 2, 3, 4, 5, 6, 7]))\n",
    "labels = labels + np.random.normal(loc = 0, scale = 0.1, size = 100000000)\n",
    "#labesl = np.random.uniform(low = -1, high = 1, size = ((100000000, 1)))"
   ]
  },
  {
   "cell_type": "code",
   "execution_count": null,
   "metadata": {},
   "outputs": [],
   "source": [
    "data_test = np.random.uniform(low = -1, high = 1, size = ((10000000, 7)))\n",
    "labels_test = np.matmul(data_test, np.array([1, 2, 3, 4, 5, 6, 7]))\n",
    "labels_test = labels_test + np.random.normal(loc = 0, scale = 0.1, size = 10000000)"
   ]
  },
  {
   "cell_type": "code",
   "execution_count": null,
   "metadata": {},
   "outputs": [],
   "source": [
    "out = model.fit(data[:,:7],\n",
    "                  labels,\n",
    "                  epochs = 20,\n",
    "                  validation_data = ((data_test, labels_test)),\n",
    "                  batch_size = 200000)"
   ]
  },
  {
   "cell_type": "code",
   "execution_count": null,
   "metadata": {},
   "outputs": [],
   "source": [
    "from scipy.stats import gamma\n",
    "from scipy.stats import weibull"
   ]
  },
  {
   "cell_type": "code",
   "execution_count": null,
   "metadata": {},
   "outputs": [],
   "source": [
    "gamma.(1, a = 1, scale = 0.1)"
   ]
  },
  {
   "cell_type": "code",
   "execution_count": null,
   "metadata": {},
   "outputs": [],
   "source": [
    "weibull.pdf(a = 1, scale = 0.1)"
   ]
  },
  {
   "cell_type": "code",
   "execution_count": null,
   "metadata": {},
   "outputs": [],
   "source": [
    "np.power(3, 1/3)"
   ]
  },
  {
   "cell_type": "code",
   "execution_count": null,
   "metadata": {},
   "outputs": [],
   "source": [
    "(0) ** (1/3)"
   ]
  },
  {
   "cell_type": "code",
   "execution_count": null,
   "metadata": {},
   "outputs": [],
   "source": [
    "a = ['a', 'b', 'c'] + ['d', 'e']"
   ]
  },
  {
   "cell_type": "code",
   "execution_count": 8,
   "metadata": {},
   "outputs": [],
   "source": [
    "dir_ = '/home/afengler/git_repos/nn_likelihoods/data_storage/kde/weibull/train_test_data/'\n",
    "files_ = os.listdir(dir_)\n",
    "files_.sort()\n",
    "test_label_files = []\n",
    "train_label_files = []\n",
    "test_features_files = []\n",
    "train_features_files = []\n",
    "\n",
    "for file_ in files_:\n",
    "    if file_[:6] == 'test_l':\n",
    "        test_label_files.append(file_)\n",
    "    if file_[:6] == 'test_f':\n",
    "        test_features_files.append(file_)\n",
    "    if file_[:7] == 'train_l':\n",
    "        train_label_files.append(file_)\n",
    "    if file_[:7] == 'train_f':\n",
    "        train_features_files.append(file_)"
   ]
  },
  {
   "cell_type": "code",
   "execution_count": 9,
   "metadata": {},
   "outputs": [
    {
     "data": {
      "text/plain": [
       "'train_features.pickle'"
      ]
     },
     "execution_count": 9,
     "metadata": {},
     "output_type": "execute_result"
    }
   ],
   "source": [
    "test_label_files.pop(0)\n",
    "test_features_files.pop(0)\n",
    "train_label_files.pop(0)\n",
    "train_features_files.pop(0)"
   ]
  },
  {
   "cell_type": "code",
   "execution_count": 15,
   "metadata": {},
   "outputs": [
    {
     "data": {
      "text/plain": [
       "['train_labels_1.pickle',\n",
       " 'train_labels_2.pickle',\n",
       " 'train_labels_3.pickle',\n",
       " 'train_labels_4.pickle',\n",
       " 'train_labels_5.pickle',\n",
       " 'train_labels_6.pickle',\n",
       " 'train_labels_7.pickle',\n",
       " 'train_labels_8.pickle']"
      ]
     },
     "execution_count": 15,
     "metadata": {},
     "output_type": "execute_result"
    }
   ],
   "source": [
    "test_label_files\n",
    "train_label_files"
   ]
  },
  {
   "cell_type": "code",
   "execution_count": null,
   "metadata": {},
   "outputs": [],
   "source": [
    "data = pd.concat([pd.read_pickle(dir_ + file_) for file_ in test_label_files])\n",
    "data.reset_index(drop = True, inplace = True)\n",
    "data.to_pickle('/home/afengler/git_repos/nn_likelihoods/data_storage/kde/weibull/train_test_data/test_labels.pickle',\n",
    "              protocol = 4)"
   ]
  },
  {
   "cell_type": "code",
   "execution_count": null,
   "metadata": {},
   "outputs": [],
   "source": []
  },
  {
   "cell_type": "code",
   "execution_count": null,
   "metadata": {},
   "outputs": [],
   "source": [
    "data = pd.concat([pd.read_pickle(dir_ + file_) for file_ in test_features_files])\n",
    "data.reset_index(drop = True, inplace = True)\n",
    "data.to_pickle('/home/afengler/git_repos/nn_likelihoods/data_storage/kde/weibull/train_test_data/test_features.pickle',\n",
    "              protocol = 4)"
   ]
  },
  {
   "cell_type": "code",
   "execution_count": null,
   "metadata": {},
   "outputs": [],
   "source": []
  },
  {
   "cell_type": "code",
   "execution_count": null,
   "metadata": {},
   "outputs": [],
   "source": [
    "data = pd.concat([pd.read_pickle(dir_ + file_) for file_ in train_features_files])\n",
    "data.reset_index(drop = True, inplace = True)\n",
    "data.to_pickle('/home/afengler/git_repos/nn_likelihoods/data_storage/kde/weibull/train_test_data/train_features.pickle',\n",
    "              protocol = 4)"
   ]
  },
  {
   "cell_type": "code",
   "execution_count": null,
   "metadata": {},
   "outputs": [],
   "source": []
  },
  {
   "cell_type": "code",
   "execution_count": null,
   "metadata": {},
   "outputs": [],
   "source": [
    "data = pd.concat([pd.read_pickle(dir_ + file_) for file_ in train_label_files])\n",
    "data.reset_index(drop = True, inplace = True)\n",
    "data.to_pickle('/home/afengler/git_repos/nn_likelihoods/data_storage/kde/weibull/train_test_data/train_labels.pickle',\n",
    "              protocol = 4)"
   ]
  },
  {
   "cell_type": "code",
   "execution_count": null,
   "metadata": {},
   "outputs": [],
   "source": [
    "data.to_pickle('/home/afengler/git_repos/nn_likelihoods/data_storage/kde/weibull/train_test_data/train_labels.pickle',\n",
    "              protocol = 4)"
   ]
  },
  {
   "cell_type": "code",
   "execution_count": null,
   "metadata": {},
   "outputs": [],
   "source": [
    "train_features, train_labels, test_features, test_labels = kde_load_data(folder = '/home/afengler/git_repos/nn_likelihoods/data_storage/kde/weibull/train_test_data/')"
   ]
  },
  {
   "cell_type": "code",
   "execution_count": null,
   "metadata": {},
   "outputs": [],
   "source": [
    "train_features.shape"
   ]
  },
  {
   "cell_type": "code",
   "execution_count": null,
   "metadata": {},
   "outputs": [],
   "source": [
    "train_labels.shape"
   ]
  },
  {
   "cell_type": "code",
   "execution_count": null,
   "metadata": {},
   "outputs": [],
   "source": [
    "test_features.shape"
   ]
  },
  {
   "cell_type": "code",
   "execution_count": null,
   "metadata": {},
   "outputs": [],
   "source": [
    "test_labels.shape"
   ]
  },
  {
   "cell_type": "code",
   "execution_count": null,
   "metadata": {},
   "outputs": [],
   "source": [
    "test_file = train_features.values"
   ]
  },
  {
   "cell_type": "code",
   "execution_count": null,
   "metadata": {},
   "outputs": [],
   "source": [
    "test_file.shape"
   ]
  },
  {
   "cell_type": "code",
   "execution_count": null,
   "metadata": {},
   "outputs": [],
   "source": [
    "177986205 + 19768803"
   ]
  },
  {
   "cell_type": "code",
   "execution_count": null,
   "metadata": {},
   "outputs": [],
   "source": [
    "#np.random.normal(size = (10, 10))\n",
    "t = pd.DataFrame(np.random.normal(size = (10, 10)))"
   ]
  },
  {
   "cell_type": "code",
   "execution_count": null,
   "metadata": {},
   "outputs": [],
   "source": [
    "t.reset_index(drop = True, inplace = True)"
   ]
  },
  {
   "cell_type": "code",
   "execution_count": null,
   "metadata": {},
   "outputs": [],
   "source": [
    "np.random.shuffle(t.values)"
   ]
  },
  {
   "cell_type": "code",
   "execution_count": null,
   "metadata": {},
   "outputs": [],
   "source": [
    "t"
   ]
  },
  {
   "cell_type": "code",
   "execution_count": null,
   "metadata": {},
   "outputs": [],
   "source": []
  }
 ],
 "metadata": {
  "kernelspec": {
   "display_name": "tf-gpu",
   "language": "python",
   "name": "tf-gpu"
  },
  "language_info": {
   "codemirror_mode": {
    "name": "ipython",
    "version": 3
   },
   "file_extension": ".py",
   "mimetype": "text/x-python",
   "name": "python",
   "nbconvert_exporter": "python",
   "pygments_lexer": "ipython3",
   "version": "3.6.8"
  }
 },
 "nbformat": 4,
 "nbformat_minor": 2
}
