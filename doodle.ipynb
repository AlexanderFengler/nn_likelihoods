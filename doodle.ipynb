{
 "cells": [
  {
   "cell_type": "code",
   "execution_count": 9,
   "metadata": {},
   "outputs": [],
   "source": [
    "# Load packages\n",
    "import tensorflow as tf\n",
    "import pandas as pd\n",
    "from tensorflow import keras\n",
    "import numpy as np\n",
    "import pandas as pd\n",
    "import os\n",
    "import scipy as scp\n",
    "import scipy.stats as scps\n",
    "import pickle\n",
    "\n",
    "# Load my own functions\n",
    "import dnnregressor_train_eval_keras as dnnk\n",
    "from kde_training_utilities import kde_load_data\n",
    "import make_data_wfpt as mdw\n"
   ]
  },
  {
   "cell_type": "code",
   "execution_count": null,
   "metadata": {},
   "outputs": [],
   "source": [
    "from tensorflow.keras.layers import Input, Dense\n",
    "from tensorflow.keras.models import Model"
   ]
  },
  {
   "cell_type": "code",
   "execution_count": 10,
   "metadata": {},
   "outputs": [
    {
     "data": {
      "text/plain": [
       "'0.24.2'"
      ]
     },
     "execution_count": 10,
     "metadata": {},
     "output_type": "execute_result"
    }
   ],
   "source": [
    "pd.__version__"
   ]
  },
  {
   "cell_type": "code",
   "execution_count": null,
   "metadata": {},
   "outputs": [],
   "source": [
    "inputs = Input(shape = (7,))\n",
    "x = Dense(20, activation = 'relu')(inputs)\n",
    "x = Dense(40, activation = 'relu')(x)\n",
    "x = Dense(60, activation = 'relu')(x)\n",
    "x = Dense(80, activation = 'relu')(x)\n",
    "x = Dense(100, activation = 'relu')(x)\n",
    "x = Dense(120, activation = 'relu')(x)\n",
    "predictions = Dense(1, activation = 'linear')(x)\n",
    "model = Model(inputs = inputs, outputs = predictions)\n",
    "model.compile(optimizer = 'nadam',\n",
    "              loss = 'mse',\n",
    "              metrics = ['mse'])"
   ]
  },
  {
   "cell_type": "code",
   "execution_count": null,
   "metadata": {},
   "outputs": [],
   "source": [
    "data = np.random.uniform(low = -1, high = 1, size = ((100000000, 7)))\n",
    "labels = np.matmul(data, np.array([1, 2, 3, 4, 5, 6, 7]))\n",
    "labels = labels + np.random.normal(loc = 0, scale = 0.1, size = 100000000)\n",
    "#labesl = np.random.uniform(low = -1, high = 1, size = ((100000000, 1)))"
   ]
  },
  {
   "cell_type": "code",
   "execution_count": null,
   "metadata": {},
   "outputs": [],
   "source": [
    "data_test = np.random.uniform(low = -1, high = 1, size = ((10000000, 7)))\n",
    "labels_test = np.matmul(data_test, np.array([1, 2, 3, 4, 5, 6, 7]))\n",
    "labels_test = labels_test + np.random.normal(loc = 0, scale = 0.1, size = 10000000)"
   ]
  },
  {
   "cell_type": "code",
   "execution_count": null,
   "metadata": {},
   "outputs": [],
   "source": [
    "out = model.fit(data[:,:7],\n",
    "                  labels,\n",
    "                  epochs = 20,\n",
    "                  validation_data = ((data_test, labels_test)),\n",
    "                  batch_size = 200000)"
   ]
  },
  {
   "cell_type": "code",
   "execution_count": null,
   "metadata": {},
   "outputs": [],
   "source": [
    "from scipy.stats import gamma\n",
    "from scipy.stats import weibull"
   ]
  },
  {
   "cell_type": "code",
   "execution_count": null,
   "metadata": {},
   "outputs": [],
   "source": [
    "gamma.(1, a = 1, scale = 0.1)"
   ]
  },
  {
   "cell_type": "code",
   "execution_count": null,
   "metadata": {},
   "outputs": [],
   "source": [
    "weibull.pdf(a = 1, scale = 0.1)"
   ]
  },
  {
   "cell_type": "code",
   "execution_count": null,
   "metadata": {},
   "outputs": [],
   "source": [
    "np.power(3, 1/3)"
   ]
  },
  {
   "cell_type": "code",
   "execution_count": null,
   "metadata": {},
   "outputs": [],
   "source": [
    "(0) ** (1/3)"
   ]
  },
  {
   "cell_type": "code",
   "execution_count": null,
   "metadata": {},
   "outputs": [],
   "source": [
    "a = ['a', 'b', 'c'] + ['d', 'e']"
   ]
  },
  {
   "cell_type": "code",
   "execution_count": null,
   "metadata": {},
   "outputs": [],
   "source": [
    "dir_ = '/home/afengler/git_repos/nn_likelihoods/data_storage/kde/weibull/train_test_data/'\n",
    "files_ = os.listdir(dir_)\n",
    "files_.sort()\n",
    "test_label_files = []\n",
    "train_label_files = []\n",
    "test_features_files = []\n",
    "train_features_files = []\n",
    "\n",
    "for file_ in files_:\n",
    "    if file_[:6] == 'test_l':\n",
    "        test_label_files.append(file_)\n",
    "    if file_[:6] == 'test_f':\n",
    "        test_features_files.append(file_)\n",
    "    if file_[:7] == 'train_l':\n",
    "        train_label_files.append(file_)\n",
    "    if file_[:7] == 'train_f':\n",
    "        train_features_files.append(file_)"
   ]
  },
  {
   "cell_type": "code",
   "execution_count": null,
   "metadata": {},
   "outputs": [],
   "source": [
    "test_label_files.pop(0)\n",
    "test_features_files.pop(0)\n",
    "train_label_files.pop(0)\n",
    "train_features_files.pop(0)"
   ]
  },
  {
   "cell_type": "code",
   "execution_count": null,
   "metadata": {},
   "outputs": [],
   "source": [
    "test_label_files\n",
    "train_label_files"
   ]
  },
  {
   "cell_type": "code",
   "execution_count": null,
   "metadata": {},
   "outputs": [],
   "source": [
    "data = pd.concat([pd.read_pickle(dir_ + file_) for file_ in test_label_files])\n",
    "data.reset_index(drop = True, inplace = True)\n",
    "data.to_pickle('/home/afengler/git_repos/nn_likelihoods/data_storage/kde/weibull/train_test_data/test_labels.pickle',\n",
    "              protocol = 4)"
   ]
  },
  {
   "cell_type": "code",
   "execution_count": null,
   "metadata": {},
   "outputs": [],
   "source": []
  },
  {
   "cell_type": "code",
   "execution_count": null,
   "metadata": {},
   "outputs": [],
   "source": [
    "data = pd.concat([pd.read_pickle(dir_ + file_) for file_ in test_features_files])\n",
    "data.reset_index(drop = True, inplace = True)\n",
    "data.to_pickle('/home/afengler/git_repos/nn_likelihoods/data_storage/kde/weibull/train_test_data/test_features.pickle',\n",
    "              protocol = 4)"
   ]
  },
  {
   "cell_type": "code",
   "execution_count": null,
   "metadata": {},
   "outputs": [],
   "source": []
  },
  {
   "cell_type": "code",
   "execution_count": null,
   "metadata": {},
   "outputs": [],
   "source": [
    "data = pd.concat([pd.read_pickle(dir_ + file_) for file_ in train_features_files])\n",
    "data.reset_index(drop = True, inplace = True)\n",
    "data.to_pickle('/home/afengler/git_repos/nn_likelihoods/data_storage/kde/weibull/train_test_data/train_features.pickle',\n",
    "              protocol = 4)"
   ]
  },
  {
   "cell_type": "code",
   "execution_count": null,
   "metadata": {},
   "outputs": [],
   "source": []
  },
  {
   "cell_type": "code",
   "execution_count": null,
   "metadata": {},
   "outputs": [],
   "source": [
    "data = pd.concat([pd.read_pickle(dir_ + file_) for file_ in train_label_files])\n",
    "data.reset_index(drop = True, inplace = True)\n",
    "data.to_pickle('/home/afengler/git_repos/nn_likelihoods/data_storage/kde/weibull/train_test_data/train_labels.pickle',\n",
    "              protocol = 4)"
   ]
  },
  {
   "cell_type": "code",
   "execution_count": null,
   "metadata": {},
   "outputs": [],
   "source": [
    "data.to_pickle('/home/afengler/git_repos/nn_likelihoods/data_storage/kde/weibull/train_test_data/train_labels.pickle',\n",
    "              protocol = 4)"
   ]
  },
  {
   "cell_type": "code",
   "execution_count": null,
   "metadata": {},
   "outputs": [],
   "source": [
    "train_features, train_labels, test_features, test_labels = kde_load_data(folder = '/home/afengler/git_repos/nn_likelihoods/data_storage/kde/weibull/train_test_data/')"
   ]
  },
  {
   "cell_type": "code",
   "execution_count": null,
   "metadata": {},
   "outputs": [],
   "source": [
    "train_features.shape"
   ]
  },
  {
   "cell_type": "code",
   "execution_count": null,
   "metadata": {},
   "outputs": [],
   "source": [
    "train_labels.shape"
   ]
  },
  {
   "cell_type": "code",
   "execution_count": null,
   "metadata": {},
   "outputs": [],
   "source": [
    "test_features.shape"
   ]
  },
  {
   "cell_type": "code",
   "execution_count": null,
   "metadata": {},
   "outputs": [],
   "source": [
    "test_labels.shape"
   ]
  },
  {
   "cell_type": "code",
   "execution_count": null,
   "metadata": {},
   "outputs": [],
   "source": [
    "test_file = train_features.values"
   ]
  },
  {
   "cell_type": "code",
   "execution_count": null,
   "metadata": {},
   "outputs": [],
   "source": [
    "test_file.shape"
   ]
  },
  {
   "cell_type": "code",
   "execution_count": null,
   "metadata": {},
   "outputs": [],
   "source": [
    "177986205 + 19768803"
   ]
  },
  {
   "cell_type": "code",
   "execution_count": null,
   "metadata": {},
   "outputs": [],
   "source": [
    "#np.random.normal(size = (10, 10))\n",
    "t = pd.DataFrame(np.random.normal(size = (10, 10)))"
   ]
  },
  {
   "cell_type": "code",
   "execution_count": null,
   "metadata": {},
   "outputs": [],
   "source": [
    "t.reset_index(drop = True, inplace = True)"
   ]
  },
  {
   "cell_type": "code",
   "execution_count": null,
   "metadata": {},
   "outputs": [],
   "source": [
    "np.random.shuffle(t.values)"
   ]
  },
  {
   "cell_type": "code",
   "execution_count": null,
   "metadata": {},
   "outputs": [],
   "source": [
    "t"
   ]
  },
  {
   "cell_type": "code",
   "execution_count": 2,
   "metadata": {},
   "outputs": [],
   "source": [
    "import kde_training_utilities as kde_utils"
   ]
  },
  {
   "cell_type": "code",
   "execution_count": 3,
   "metadata": {},
   "outputs": [
    {
     "name": "stdout",
     "output_type": "stream",
     "text": [
      "writing test labels to file\n",
      "writing test features to file\n",
      "writing train labels to file\n",
      "writing train features to file\n"
     ]
    },
    {
     "data": {
      "text/plain": [
       "'success'"
      ]
     },
     "execution_count": 3,
     "metadata": {},
     "output_type": "execute_result"
    }
   ],
   "source": [
    "kde_utils.kde_make_train_test_split(folder = '/home/afengler/git_repos/nn_likelihoods/data_storage/kde/linear_collapse/train_test_data/')"
   ]
  },
  {
   "cell_type": "code",
   "execution_count": 3,
   "metadata": {},
   "outputs": [],
   "source": [
    "import numpy as np\n",
    "import matplotlib.pyplot as plt"
   ]
  },
  {
   "cell_type": "code",
   "execution_count": 5,
   "metadata": {},
   "outputs": [],
   "source": [
    "tada = np.random.uniform(low = 0, high = 50, size = 50000)\n"
   ]
  },
  {
   "cell_type": "code",
   "execution_count": 8,
   "metadata": {},
   "outputs": [
    {
     "data": {
      "text/plain": [
       "(array([56., 58., 42., 46., 55., 45., 49., 55., 50., 55., 60., 67., 54.,\n",
       "        42., 50., 47., 49., 42., 53., 42., 49., 36., 49., 51., 57., 52.,\n",
       "        57., 59., 48., 52., 53., 49., 51., 50., 51., 35., 52., 50., 53.,\n",
       "        50., 55., 48., 54., 58., 46., 42., 58., 56., 44., 46., 61., 44.,\n",
       "        38., 56., 51., 43., 72., 46., 49., 48., 39., 47., 37., 52., 51.,\n",
       "        58., 49., 48., 60., 59., 54., 48., 49., 53., 38., 55., 46., 42.,\n",
       "        44., 41., 54., 61., 56., 45., 44., 39., 54., 58., 54., 56., 57.,\n",
       "        43., 56., 64., 48., 55., 50., 47., 47., 40., 53., 45., 38., 42.,\n",
       "        30., 45., 55., 66., 51., 58., 58., 55., 44., 64., 63., 56., 48.,\n",
       "        50., 39., 40., 62., 48., 34., 52., 42., 44., 52., 51., 51., 52.,\n",
       "        61., 62., 48., 50., 54., 60., 48., 43., 61., 49., 52., 47., 49.,\n",
       "        50., 42., 47., 62., 55., 52., 35., 57., 57., 56., 48., 41., 56.,\n",
       "        48., 42., 44., 48., 36., 53., 47., 47., 50., 43., 52., 50., 47.,\n",
       "        55., 55., 47., 56., 57., 43., 48., 52., 44., 66., 50., 49., 46.,\n",
       "        57., 53., 49., 61., 63., 51., 63., 48., 54., 58., 56., 50., 57.,\n",
       "        52., 42., 49., 49., 43., 43., 47., 56., 58., 50., 41., 47., 42.,\n",
       "        57., 47., 48., 52., 44., 60., 44., 53., 60., 40., 55., 59., 50.,\n",
       "        37., 54., 55., 38., 40., 63., 37., 40., 43., 44., 37., 49., 56.,\n",
       "        51., 52., 52., 50., 64., 45., 42., 57., 59., 65., 55., 60., 50.,\n",
       "        48., 53., 49., 52., 48., 60., 50., 53., 50., 46., 47., 56., 50.,\n",
       "        53., 44., 58., 44., 53., 45., 44., 63., 38., 45., 44., 55., 76.,\n",
       "        54., 57., 59., 57., 47., 56., 49., 35., 42., 50., 47., 49., 67.,\n",
       "        57., 48., 49., 51., 51., 68., 58., 56., 58., 50., 44., 50., 51.,\n",
       "        59., 52., 52., 48., 45., 42., 45., 55., 51., 46., 46., 40., 43.,\n",
       "        51., 47., 52., 46., 51., 48., 45., 46., 48., 53., 53., 53., 51.,\n",
       "        51., 63., 62., 58., 48., 63., 49., 59., 52., 51., 46., 43., 43.,\n",
       "        53., 47., 52., 47., 52., 55., 49., 55., 31., 36., 54., 55., 40.,\n",
       "        48., 56., 40., 43., 52., 57., 51., 46., 53., 60., 58., 47., 52.,\n",
       "        41., 41., 43., 47., 60., 54., 41., 56., 52., 51., 50., 41., 50.,\n",
       "        47., 53., 47., 48., 50., 55., 51., 47., 41., 41., 54., 48., 61.,\n",
       "        48., 59., 39., 62., 65., 48., 47., 65., 58., 74., 52., 33., 56.,\n",
       "        57., 42., 46., 48., 51., 52., 56., 41., 52., 55., 66., 43., 48.,\n",
       "        48., 55., 54., 49., 52., 50., 48., 50., 45., 36., 52., 49., 44.,\n",
       "        50., 46., 53., 39., 62., 71., 34., 49., 45., 46., 52., 44., 43.,\n",
       "        57., 53., 46., 44., 57., 44., 60., 56., 52., 45., 43., 48., 40.,\n",
       "        46., 51., 51., 51., 37., 52., 61., 43., 60., 54., 50., 31., 41.,\n",
       "        54., 48., 58., 59., 49., 48., 35., 45., 42., 51., 59., 30., 55.,\n",
       "        62., 55., 62., 59., 45., 56., 52., 39., 53., 41., 61., 62., 54.,\n",
       "        54., 44., 57., 43., 49., 49., 44., 44., 43., 40., 40., 52., 41.,\n",
       "        49., 46., 58., 46., 42., 54., 55., 35., 48., 40., 38., 38., 47.,\n",
       "        50., 60., 43., 45., 55., 49., 44., 46., 58., 32., 52., 60., 50.,\n",
       "        57., 56., 45., 55., 53., 48., 57., 53., 44., 43., 46., 51., 52.,\n",
       "        49., 49., 52., 46., 45., 44., 50., 58., 47., 61., 62., 42., 46.,\n",
       "        59., 48., 56., 49., 42., 54., 64., 43., 53., 50., 37., 57., 42.,\n",
       "        33., 45., 61., 48., 44., 39., 51., 38., 44., 53., 64., 46., 51.,\n",
       "        46., 45., 57., 36., 59., 54., 51., 42., 56., 67., 40., 30., 59.,\n",
       "        56., 41., 47., 48., 37., 46., 57., 54., 46., 49., 55., 47., 49.,\n",
       "        50., 49., 62., 61., 51., 48., 46., 48., 48., 42., 50., 46., 54.,\n",
       "        48., 31., 54., 56., 55., 37., 55., 44., 59., 53., 49., 56., 58.,\n",
       "        47., 53., 52., 60., 34., 51., 54., 51., 57., 45., 61., 39., 55.,\n",
       "        42., 50., 56., 34., 49., 52., 48., 60., 54., 57., 43., 67., 42.,\n",
       "        40., 54., 46., 55., 45., 51., 55., 41., 51., 59., 58., 51., 54.,\n",
       "        48., 62., 51., 48., 47., 56., 49., 46., 54., 50., 40., 51., 53.,\n",
       "        45., 46., 41., 45., 58., 46., 49., 48., 40., 44., 48., 48., 50.,\n",
       "        60., 49., 72., 46., 48., 51., 46., 59., 53., 46., 58., 48., 61.,\n",
       "        53., 44., 44., 37., 47., 55., 44., 45., 49., 42., 52., 47., 51.,\n",
       "        54., 48., 47., 41., 45., 48., 41., 58., 47., 46., 45., 57., 54.,\n",
       "        42., 51., 63., 52., 49., 43., 53., 43., 59., 60., 52., 46., 55.,\n",
       "        52., 52., 60., 46., 48., 67., 56., 39., 41., 46., 52., 39., 56.,\n",
       "        47., 44., 59., 37., 46., 50., 49., 54., 45., 56., 46., 39., 43.,\n",
       "        49., 52., 56., 58., 54., 43., 43., 39., 56., 49., 42., 49., 46.,\n",
       "        37., 47., 44., 56., 65., 38., 32., 62., 44., 54., 68., 62., 34.,\n",
       "        51., 52., 44., 48., 46., 49., 36., 61., 54., 58., 39., 41., 47.,\n",
       "        54., 63., 68., 58., 56., 49., 42., 73., 39., 52., 38., 43., 53.,\n",
       "        64., 46., 55., 42., 51., 58., 37., 53., 51., 59., 55., 57., 47.,\n",
       "        59., 55., 50., 47., 57., 41., 50., 41., 59., 44., 45., 50., 51.,\n",
       "        53., 72., 61., 46., 49., 42., 48., 58., 60., 51., 38., 54., 43.,\n",
       "        48., 46., 58., 49., 54., 41., 52., 58., 51., 45., 66., 39., 43.,\n",
       "        52., 42., 48., 61., 46., 52., 47., 47., 46., 58., 51., 43., 53.,\n",
       "        45., 58., 49., 54., 48., 49., 44., 84., 56., 44., 69., 51., 50.,\n",
       "        46., 56., 43., 47., 49., 57., 41., 49., 53., 51., 56., 43., 48.,\n",
       "        48., 45., 37., 45., 44., 55., 48., 52., 54., 40., 59., 58., 52.,\n",
       "        62., 39., 51., 65., 42., 64., 45., 48., 54., 40., 43., 55., 51.,\n",
       "        49., 56., 48., 38., 49., 39., 57., 53., 35., 41., 51., 43., 73.,\n",
       "        38., 53., 58., 49., 52., 53., 47., 40., 43., 62., 57., 51., 46.,\n",
       "        41., 46., 60., 37., 58., 54., 42., 40., 40., 51., 30., 46., 44.,\n",
       "        58., 48., 59., 58., 52., 52., 52., 51., 48., 35., 45., 54.]),\n",
       " array([1.17573308e-03, 5.11734707e-02, 1.01171208e-01, ...,\n",
       "        4.98989179e+01, 4.99489156e+01, 4.99989134e+01]),\n",
       " <a list of 1000 Patch objects>)"
      ]
     },
     "execution_count": 8,
     "metadata": {},
     "output_type": "execute_result"
    },
    {
     "data": {
      "image/png": "[encoded data removed]",
      "text/plain": [
       "<Figure size 432x288 with 1 Axes>"
      ]
     },
     "metadata": {},
     "output_type": "display_data"
    }
   ],
   "source": [
    "plt.hist(tada, bins = 1000)"
   ]
  },
  {
   "cell_type": "code",
   "execution_count": null,
   "metadata": {},
   "outputs": [],
   "source": []
  }
 ],
 "metadata": {
  "kernelspec": {
   "display_name": "Python 3",
   "language": "python",
   "name": "python3"
  },
  "language_info": {
   "codemirror_mode": {
    "name": "ipython",
    "version": 3
   },
   "file_extension": ".py",
   "mimetype": "text/x-python",
   "name": "python",
   "nbconvert_exporter": "python",
   "pygments_lexer": "ipython3",
   "version": "3.7.3"
  }
 },
 "nbformat": 4,
 "nbformat_minor": 2
}
