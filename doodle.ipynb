{
 "cells": [
  {
   "cell_type": "code",
   "execution_count": 1,
   "metadata": {},
   "outputs": [
    {
     "name": "stderr",
     "output_type": "stream",
     "text": [
      "/home/afengler/miniconda3/envs/pytorch/lib/python3.7/site-packages/tensorflow/python/framework/dtypes.py:516: FutureWarning: Passing (type, 1) or '1type' as a synonym of type is deprecated; in a future version of numpy, it will be understood as (type, (1,)) / '(1,)type'.\n",
      "  _np_qint8 = np.dtype([(\"qint8\", np.int8, 1)])\n",
      "/home/afengler/miniconda3/envs/pytorch/lib/python3.7/site-packages/tensorflow/python/framework/dtypes.py:517: FutureWarning: Passing (type, 1) or '1type' as a synonym of type is deprecated; in a future version of numpy, it will be understood as (type, (1,)) / '(1,)type'.\n",
      "  _np_quint8 = np.dtype([(\"quint8\", np.uint8, 1)])\n",
      "/home/afengler/miniconda3/envs/pytorch/lib/python3.7/site-packages/tensorflow/python/framework/dtypes.py:518: FutureWarning: Passing (type, 1) or '1type' as a synonym of type is deprecated; in a future version of numpy, it will be understood as (type, (1,)) / '(1,)type'.\n",
      "  _np_qint16 = np.dtype([(\"qint16\", np.int16, 1)])\n",
      "/home/afengler/miniconda3/envs/pytorch/lib/python3.7/site-packages/tensorflow/python/framework/dtypes.py:519: FutureWarning: Passing (type, 1) or '1type' as a synonym of type is deprecated; in a future version of numpy, it will be understood as (type, (1,)) / '(1,)type'.\n",
      "  _np_quint16 = np.dtype([(\"quint16\", np.uint16, 1)])\n",
      "/home/afengler/miniconda3/envs/pytorch/lib/python3.7/site-packages/tensorflow/python/framework/dtypes.py:520: FutureWarning: Passing (type, 1) or '1type' as a synonym of type is deprecated; in a future version of numpy, it will be understood as (type, (1,)) / '(1,)type'.\n",
      "  _np_qint32 = np.dtype([(\"qint32\", np.int32, 1)])\n",
      "/home/afengler/miniconda3/envs/pytorch/lib/python3.7/site-packages/tensorflow/python/framework/dtypes.py:525: FutureWarning: Passing (type, 1) or '1type' as a synonym of type is deprecated; in a future version of numpy, it will be understood as (type, (1,)) / '(1,)type'.\n",
      "  np_resource = np.dtype([(\"resource\", np.ubyte, 1)])\n",
      "/home/afengler/miniconda3/envs/pytorch/lib/python3.7/site-packages/tensorboard/compat/tensorflow_stub/dtypes.py:541: FutureWarning: Passing (type, 1) or '1type' as a synonym of type is deprecated; in a future version of numpy, it will be understood as (type, (1,)) / '(1,)type'.\n",
      "  _np_qint8 = np.dtype([(\"qint8\", np.int8, 1)])\n",
      "/home/afengler/miniconda3/envs/pytorch/lib/python3.7/site-packages/tensorboard/compat/tensorflow_stub/dtypes.py:542: FutureWarning: Passing (type, 1) or '1type' as a synonym of type is deprecated; in a future version of numpy, it will be understood as (type, (1,)) / '(1,)type'.\n",
      "  _np_quint8 = np.dtype([(\"quint8\", np.uint8, 1)])\n",
      "/home/afengler/miniconda3/envs/pytorch/lib/python3.7/site-packages/tensorboard/compat/tensorflow_stub/dtypes.py:543: FutureWarning: Passing (type, 1) or '1type' as a synonym of type is deprecated; in a future version of numpy, it will be understood as (type, (1,)) / '(1,)type'.\n",
      "  _np_qint16 = np.dtype([(\"qint16\", np.int16, 1)])\n",
      "/home/afengler/miniconda3/envs/pytorch/lib/python3.7/site-packages/tensorboard/compat/tensorflow_stub/dtypes.py:544: FutureWarning: Passing (type, 1) or '1type' as a synonym of type is deprecated; in a future version of numpy, it will be understood as (type, (1,)) / '(1,)type'.\n",
      "  _np_quint16 = np.dtype([(\"quint16\", np.uint16, 1)])\n",
      "/home/afengler/miniconda3/envs/pytorch/lib/python3.7/site-packages/tensorboard/compat/tensorflow_stub/dtypes.py:545: FutureWarning: Passing (type, 1) or '1type' as a synonym of type is deprecated; in a future version of numpy, it will be understood as (type, (1,)) / '(1,)type'.\n",
      "  _np_qint32 = np.dtype([(\"qint32\", np.int32, 1)])\n",
      "/home/afengler/miniconda3/envs/pytorch/lib/python3.7/site-packages/tensorboard/compat/tensorflow_stub/dtypes.py:550: FutureWarning: Passing (type, 1) or '1type' as a synonym of type is deprecated; in a future version of numpy, it will be understood as (type, (1,)) / '(1,)type'.\n",
      "  np_resource = np.dtype([(\"resource\", np.ubyte, 1)])\n"
     ]
    }
   ],
   "source": [
    "# Load packages\n",
    "import tensorflow as tf\n",
    "import pandas as pd\n",
    "from tensorflow import keras\n",
    "import numpy as np\n",
    "import pandas as pd\n",
    "import os\n",
    "import scipy as scp\n",
    "import scipy.stats as scps\n",
    "import pickle\n",
    "import matplotlib.pyplot as plt\n",
    "from datetime import datetime\n",
    "\n",
    "# Load my own functions\n",
    "#import dnnregressor_train_eval_keras as dnnk\n",
    "#from kde_training_utilities import kde_load_data\n",
    "import make_data_wfpt as mdw"
   ]
  },
  {
   "cell_type": "code",
   "execution_count": 2,
   "metadata": {},
   "outputs": [],
   "source": [
    "import samplers.diagnostics as diag_\n"
   ]
  },
  {
   "cell_type": "code",
   "execution_count": null,
   "metadata": {},
   "outputs": [],
   "source": []
  },
  {
   "cell_type": "code",
   "execution_count": null,
   "metadata": {},
   "outputs": [],
   "source": [
    "from tensorflow.keras.layers import Input, Dense\n",
    "from tensorflow.keras.models import Model"
   ]
  },
  {
   "cell_type": "code",
   "execution_count": 4,
   "metadata": {},
   "outputs": [
    {
     "data": {
      "text/plain": [
       "'0.25.3'"
      ]
     },
     "execution_count": 4,
     "metadata": {},
     "output_type": "execute_result"
    }
   ],
   "source": [
    "pd.__version__"
   ]
  },
  {
   "cell_type": "code",
   "execution_count": null,
   "metadata": {},
   "outputs": [],
   "source": [
    "inputs = Input(shape = (7,))\n",
    "x = Dense(20, activation = 'relu')(inputs)\n",
    "x = Dense(40, activation = 'relu')(x)\n",
    "x = Dense(60, activation = 'relu')(x)\n",
    "x = Dense(80, activation = 'relu')(x)\n",
    "x = Dense(100, activation = 'relu')(x)\n",
    "x = Dense(120, activation = 'relu')(x)\n",
    "predictions = Dense(1, activation = 'linear')(x)\n",
    "model = Model(inputs = inputs, outputs = predictions)\n",
    "model.compile(optimizer = 'nadam',\n",
    "              loss = 'mse',\n",
    "              metrics = ['mse'])"
   ]
  },
  {
   "cell_type": "code",
   "execution_count": null,
   "metadata": {},
   "outputs": [],
   "source": [
    "data = np.random.uniform(low = -1, high = 1, size = ((100000000, 7)))\n",
    "labels = np.matmul(data, np.array([1, 2, 3, 4, 5, 6, 7]))\n",
    "labels = labels + np.random.normal(loc = 0, scale = 0.1, size = 100000000)\n",
    "#labesl = np.random.uniform(low = -1, high = 1, size = ((100000000, 1)))"
   ]
  },
  {
   "cell_type": "code",
   "execution_count": null,
   "metadata": {},
   "outputs": [],
   "source": [
    "data_test = np.random.uniform(low = -1, high = 1, size = ((10000000, 7)))\n",
    "labels_test = np.matmul(data_test, np.array([1, 2, 3, 4, 5, 6, 7]))\n",
    "labels_test = labels_test + np.random.normal(loc = 0, scale = 0.1, size = 10000000)"
   ]
  },
  {
   "cell_type": "code",
   "execution_count": null,
   "metadata": {},
   "outputs": [],
   "source": [
    "out = model.fit(data[:,:7],\n",
    "                  labels,\n",
    "                  epochs = 20,\n",
    "                  validation_data = ((data_test, labels_test)),\n",
    "                  batch_size = 200000)"
   ]
  },
  {
   "cell_type": "code",
   "execution_count": null,
   "metadata": {},
   "outputs": [],
   "source": [
    "from scipy.stats import gamma\n",
    "from scipy.stats import weibull"
   ]
  },
  {
   "cell_type": "code",
   "execution_count": null,
   "metadata": {},
   "outputs": [],
   "source": [
    "gamma.(1, a = 1, scale = 0.1)"
   ]
  },
  {
   "cell_type": "code",
   "execution_count": null,
   "metadata": {},
   "outputs": [],
   "source": [
    "weibull.pdf(a = 1, scale = 0.1)"
   ]
  },
  {
   "cell_type": "code",
   "execution_count": null,
   "metadata": {},
   "outputs": [],
   "source": [
    "np.power(3, 1/3)"
   ]
  },
  {
   "cell_type": "code",
   "execution_count": null,
   "metadata": {},
   "outputs": [],
   "source": [
    "(0) ** (1/3)"
   ]
  },
  {
   "cell_type": "code",
   "execution_count": null,
   "metadata": {},
   "outputs": [],
   "source": [
    "a = ['a', 'b', 'c'] + ['d', 'e']"
   ]
  },
  {
   "cell_type": "code",
   "execution_count": null,
   "metadata": {},
   "outputs": [],
   "source": [
    "dir_ = '/home/afengler/git_repos/nn_likelihoods/data_storage/kde/weibull/train_test_data/'\n",
    "files_ = os.listdir(dir_)\n",
    "files_.sort()\n",
    "test_label_files = []\n",
    "train_label_files = []\n",
    "test_features_files = []\n",
    "train_features_files = []\n",
    "\n",
    "for file_ in files_:\n",
    "    if file_[:6] == 'test_l':\n",
    "        test_label_files.append(file_)\n",
    "    if file_[:6] == 'test_f':\n",
    "        test_features_files.append(file_)\n",
    "    if file_[:7] == 'train_l':\n",
    "        train_label_files.append(file_)\n",
    "    if file_[:7] == 'train_f':\n",
    "        train_features_files.append(file_)"
   ]
  },
  {
   "cell_type": "code",
   "execution_count": null,
   "metadata": {},
   "outputs": [],
   "source": [
    "test_label_files.pop(0)\n",
    "test_features_files.pop(0)\n",
    "train_label_files.pop(0)\n",
    "train_features_files.pop(0)"
   ]
  },
  {
   "cell_type": "code",
   "execution_count": null,
   "metadata": {},
   "outputs": [],
   "source": [
    "test_label_files\n",
    "train_label_files"
   ]
  },
  {
   "cell_type": "code",
   "execution_count": null,
   "metadata": {},
   "outputs": [],
   "source": [
    "data = pd.concat([pd.read_pickle(dir_ + file_) for file_ in test_label_files])\n",
    "data.reset_index(drop = True, inplace = True)\n",
    "data.to_pickle('/home/afengler/git_repos/nn_likelihoods/data_storage/kde/weibull/train_test_data/test_labels.pickle',\n",
    "              protocol = 4)"
   ]
  },
  {
   "cell_type": "code",
   "execution_count": null,
   "metadata": {},
   "outputs": [],
   "source": []
  },
  {
   "cell_type": "code",
   "execution_count": null,
   "metadata": {},
   "outputs": [],
   "source": [
    "data = pd.concat([pd.read_pickle(dir_ + file_) for file_ in test_features_files])\n",
    "data.reset_index(drop = True, inplace = True)\n",
    "data.to_pickle('/home/afengler/git_repos/nn_likelihoods/data_storage/kde/weibull/train_test_data/test_features.pickle',\n",
    "              protocol = 4)"
   ]
  },
  {
   "cell_type": "code",
   "execution_count": null,
   "metadata": {},
   "outputs": [],
   "source": []
  },
  {
   "cell_type": "code",
   "execution_count": null,
   "metadata": {},
   "outputs": [],
   "source": [
    "data = pd.concat([pd.read_pickle(dir_ + file_) for file_ in train_features_files])\n",
    "data.reset_index(drop = True, inplace = True)\n",
    "data.to_pickle('/home/afengler/git_repos/nn_likelihoods/data_storage/kde/weibull/train_test_data/train_features.pickle',\n",
    "              protocol = 4)"
   ]
  },
  {
   "cell_type": "code",
   "execution_count": null,
   "metadata": {},
   "outputs": [],
   "source": []
  },
  {
   "cell_type": "code",
   "execution_count": null,
   "metadata": {},
   "outputs": [],
   "source": [
    "data = pd.concat([pd.read_pickle(dir_ + file_) for file_ in train_label_files])\n",
    "data.reset_index(drop = True, inplace = True)\n",
    "data.to_pickle('/home/afengler/git_repos/nn_likelihoods/data_storage/kde/weibull/train_test_data/train_labels.pickle',\n",
    "              protocol = 4)"
   ]
  },
  {
   "cell_type": "code",
   "execution_count": null,
   "metadata": {},
   "outputs": [],
   "source": [
    "data.to_pickle('/home/afengler/git_repos/nn_likelihoods/data_storage/kde/weibull/train_test_data/train_labels.pickle',\n",
    "              protocol = 4)"
   ]
  },
  {
   "cell_type": "code",
   "execution_count": null,
   "metadata": {},
   "outputs": [],
   "source": [
    "train_features, train_labels, test_features, test_labels = kde_load_data(folder = '/home/afengler/git_repos/nn_likelihoods/data_storage/kde/weibull/train_test_data/')"
   ]
  },
  {
   "cell_type": "code",
   "execution_count": null,
   "metadata": {},
   "outputs": [],
   "source": [
    "train_features.shape"
   ]
  },
  {
   "cell_type": "code",
   "execution_count": null,
   "metadata": {},
   "outputs": [],
   "source": [
    "train_labels.shape"
   ]
  },
  {
   "cell_type": "code",
   "execution_count": null,
   "metadata": {},
   "outputs": [],
   "source": [
    "test_features.shape"
   ]
  },
  {
   "cell_type": "code",
   "execution_count": null,
   "metadata": {},
   "outputs": [],
   "source": [
    "test_labels.shape"
   ]
  },
  {
   "cell_type": "code",
   "execution_count": null,
   "metadata": {},
   "outputs": [],
   "source": [
    "test_file = train_features.values"
   ]
  },
  {
   "cell_type": "code",
   "execution_count": null,
   "metadata": {},
   "outputs": [],
   "source": [
    "test_file.shape"
   ]
  },
  {
   "cell_type": "code",
   "execution_count": null,
   "metadata": {},
   "outputs": [],
   "source": [
    "177986205 + 19768803"
   ]
  },
  {
   "cell_type": "code",
   "execution_count": null,
   "metadata": {},
   "outputs": [],
   "source": [
    "#np.random.normal(size = (10, 10))\n",
    "t = pd.DataFrame(np.random.normal(size = (10, 10)))"
   ]
  },
  {
   "cell_type": "code",
   "execution_count": null,
   "metadata": {},
   "outputs": [],
   "source": [
    "t.reset_index(drop = True, inplace = True)"
   ]
  },
  {
   "cell_type": "code",
   "execution_count": null,
   "metadata": {},
   "outputs": [],
   "source": [
    "np.random.shuffle(t.values)"
   ]
  },
  {
   "cell_type": "code",
   "execution_count": null,
   "metadata": {},
   "outputs": [],
   "source": [
    "t"
   ]
  },
  {
   "cell_type": "code",
   "execution_count": 2,
   "metadata": {},
   "outputs": [],
   "source": [
    "import kde_training_utilities as kde_utils"
   ]
  },
  {
   "cell_type": "code",
   "execution_count": 3,
   "metadata": {},
   "outputs": [
    {
     "name": "stdout",
     "output_type": "stream",
     "text": [
      "writing test labels to file\n",
      "writing test features to file\n",
      "writing train labels to file\n",
      "writing train features to file\n"
     ]
    },
    {
     "data": {
      "text/plain": [
       "'success'"
      ]
     },
     "execution_count": 3,
     "metadata": {},
     "output_type": "execute_result"
    }
   ],
   "source": [
    "kde_utils.kde_make_train_test_split(folder = '/home/afengler/git_repos/nn_likelihoods/data_storage/kde/linear_collapse/train_test_data/')"
   ]
  },
  {
   "cell_type": "code",
   "execution_count": 3,
   "metadata": {},
   "outputs": [],
   "source": [
    "import numpy as np\n",
    "import matplotlib.pyplot as plt"
   ]
  },
  {
   "cell_type": "code",
   "execution_count": 5,
   "metadata": {},
   "outputs": [],
   "source": [
    "tada = np.random.uniform(low = 0, high = 50, size = 50000)\n"
   ]
  },
  {
   "cell_type": "code",
   "execution_count": 8,
   "metadata": {},
   "outputs": [
    {
     "data": {
      "text/plain": [
       "(array([56., 58., 42., 46., 55., 45., 49., 55., 50., 55., 60., 67., 54.,\n",
       "        42., 50., 47., 49., 42., 53., 42., 49., 36., 49., 51., 57., 52.,\n",
       "        57., 59., 48., 52., 53., 49., 51., 50., 51., 35., 52., 50., 53.,\n",
       "        50., 55., 48., 54., 58., 46., 42., 58., 56., 44., 46., 61., 44.,\n",
       "        38., 56., 51., 43., 72., 46., 49., 48., 39., 47., 37., 52., 51.,\n",
       "        58., 49., 48., 60., 59., 54., 48., 49., 53., 38., 55., 46., 42.,\n",
       "        44., 41., 54., 61., 56., 45., 44., 39., 54., 58., 54., 56., 57.,\n",
       "        43., 56., 64., 48., 55., 50., 47., 47., 40., 53., 45., 38., 42.,\n",
       "        30., 45., 55., 66., 51., 58., 58., 55., 44., 64., 63., 56., 48.,\n",
       "        50., 39., 40., 62., 48., 34., 52., 42., 44., 52., 51., 51., 52.,\n",
       "        61., 62., 48., 50., 54., 60., 48., 43., 61., 49., 52., 47., 49.,\n",
       "        50., 42., 47., 62., 55., 52., 35., 57., 57., 56., 48., 41., 56.,\n",
       "        48., 42., 44., 48., 36., 53., 47., 47., 50., 43., 52., 50., 47.,\n",
       "        55., 55., 47., 56., 57., 43., 48., 52., 44., 66., 50., 49., 46.,\n",
       "        57., 53., 49., 61., 63., 51., 63., 48., 54., 58., 56., 50., 57.,\n",
       "        52., 42., 49., 49., 43., 43., 47., 56., 58., 50., 41., 47., 42.,\n",
       "        57., 47., 48., 52., 44., 60., 44., 53., 60., 40., 55., 59., 50.,\n",
       "        37., 54., 55., 38., 40., 63., 37., 40., 43., 44., 37., 49., 56.,\n",
       "        51., 52., 52., 50., 64., 45., 42., 57., 59., 65., 55., 60., 50.,\n",
       "        48., 53., 49., 52., 48., 60., 50., 53., 50., 46., 47., 56., 50.,\n",
       "        53., 44., 58., 44., 53., 45., 44., 63., 38., 45., 44., 55., 76.,\n",
       "        54., 57., 59., 57., 47., 56., 49., 35., 42., 50., 47., 49., 67.,\n",
       "        57., 48., 49., 51., 51., 68., 58., 56., 58., 50., 44., 50., 51.,\n",
       "        59., 52., 52., 48., 45., 42., 45., 55., 51., 46., 46., 40., 43.,\n",
       "        51., 47., 52., 46., 51., 48., 45., 46., 48., 53., 53., 53., 51.,\n",
       "        51., 63., 62., 58., 48., 63., 49., 59., 52., 51., 46., 43., 43.,\n",
       "        53., 47., 52., 47., 52., 55., 49., 55., 31., 36., 54., 55., 40.,\n",
       "        48., 56., 40., 43., 52., 57., 51., 46., 53., 60., 58., 47., 52.,\n",
       "        41., 41., 43., 47., 60., 54., 41., 56., 52., 51., 50., 41., 50.,\n",
       "        47., 53., 47., 48., 50., 55., 51., 47., 41., 41., 54., 48., 61.,\n",
       "        48., 59., 39., 62., 65., 48., 47., 65., 58., 74., 52., 33., 56.,\n",
       "        57., 42., 46., 48., 51., 52., 56., 41., 52., 55., 66., 43., 48.,\n",
       "        48., 55., 54., 49., 52., 50., 48., 50., 45., 36., 52., 49., 44.,\n",
       "        50., 46., 53., 39., 62., 71., 34., 49., 45., 46., 52., 44., 43.,\n",
       "        57., 53., 46., 44., 57., 44., 60., 56., 52., 45., 43., 48., 40.,\n",
       "        46., 51., 51., 51., 37., 52., 61., 43., 60., 54., 50., 31., 41.,\n",
       "        54., 48., 58., 59., 49., 48., 35., 45., 42., 51., 59., 30., 55.,\n",
       "        62., 55., 62., 59., 45., 56., 52., 39., 53., 41., 61., 62., 54.,\n",
       "        54., 44., 57., 43., 49., 49., 44., 44., 43., 40., 40., 52., 41.,\n",
       "        49., 46., 58., 46., 42., 54., 55., 35., 48., 40., 38., 38., 47.,\n",
       "        50., 60., 43., 45., 55., 49., 44., 46., 58., 32., 52., 60., 50.,\n",
       "        57., 56., 45., 55., 53., 48., 57., 53., 44., 43., 46., 51., 52.,\n",
       "        49., 49., 52., 46., 45., 44., 50., 58., 47., 61., 62., 42., 46.,\n",
       "        59., 48., 56., 49., 42., 54., 64., 43., 53., 50., 37., 57., 42.,\n",
       "        33., 45., 61., 48., 44., 39., 51., 38., 44., 53., 64., 46., 51.,\n",
       "        46., 45., 57., 36., 59., 54., 51., 42., 56., 67., 40., 30., 59.,\n",
       "        56., 41., 47., 48., 37., 46., 57., 54., 46., 49., 55., 47., 49.,\n",
       "        50., 49., 62., 61., 51., 48., 46., 48., 48., 42., 50., 46., 54.,\n",
       "        48., 31., 54., 56., 55., 37., 55., 44., 59., 53., 49., 56., 58.,\n",
       "        47., 53., 52., 60., 34., 51., 54., 51., 57., 45., 61., 39., 55.,\n",
       "        42., 50., 56., 34., 49., 52., 48., 60., 54., 57., 43., 67., 42.,\n",
       "        40., 54., 46., 55., 45., 51., 55., 41., 51., 59., 58., 51., 54.,\n",
       "        48., 62., 51., 48., 47., 56., 49., 46., 54., 50., 40., 51., 53.,\n",
       "        45., 46., 41., 45., 58., 46., 49., 48., 40., 44., 48., 48., 50.,\n",
       "        60., 49., 72., 46., 48., 51., 46., 59., 53., 46., 58., 48., 61.,\n",
       "        53., 44., 44., 37., 47., 55., 44., 45., 49., 42., 52., 47., 51.,\n",
       "        54., 48., 47., 41., 45., 48., 41., 58., 47., 46., 45., 57., 54.,\n",
       "        42., 51., 63., 52., 49., 43., 53., 43., 59., 60., 52., 46., 55.,\n",
       "        52., 52., 60., 46., 48., 67., 56., 39., 41., 46., 52., 39., 56.,\n",
       "        47., 44., 59., 37., 46., 50., 49., 54., 45., 56., 46., 39., 43.,\n",
       "        49., 52., 56., 58., 54., 43., 43., 39., 56., 49., 42., 49., 46.,\n",
       "        37., 47., 44., 56., 65., 38., 32., 62., 44., 54., 68., 62., 34.,\n",
       "        51., 52., 44., 48., 46., 49., 36., 61., 54., 58., 39., 41., 47.,\n",
       "        54., 63., 68., 58., 56., 49., 42., 73., 39., 52., 38., 43., 53.,\n",
       "        64., 46., 55., 42., 51., 58., 37., 53., 51., 59., 55., 57., 47.,\n",
       "        59., 55., 50., 47., 57., 41., 50., 41., 59., 44., 45., 50., 51.,\n",
       "        53., 72., 61., 46., 49., 42., 48., 58., 60., 51., 38., 54., 43.,\n",
       "        48., 46., 58., 49., 54., 41., 52., 58., 51., 45., 66., 39., 43.,\n",
       "        52., 42., 48., 61., 46., 52., 47., 47., 46., 58., 51., 43., 53.,\n",
       "        45., 58., 49., 54., 48., 49., 44., 84., 56., 44., 69., 51., 50.,\n",
       "        46., 56., 43., 47., 49., 57., 41., 49., 53., 51., 56., 43., 48.,\n",
       "        48., 45., 37., 45., 44., 55., 48., 52., 54., 40., 59., 58., 52.,\n",
       "        62., 39., 51., 65., 42., 64., 45., 48., 54., 40., 43., 55., 51.,\n",
       "        49., 56., 48., 38., 49., 39., 57., 53., 35., 41., 51., 43., 73.,\n",
       "        38., 53., 58., 49., 52., 53., 47., 40., 43., 62., 57., 51., 46.,\n",
       "        41., 46., 60., 37., 58., 54., 42., 40., 40., 51., 30., 46., 44.,\n",
       "        58., 48., 59., 58., 52., 52., 52., 51., 48., 35., 45., 54.]),\n",
       " array([1.17573308e-03, 5.11734707e-02, 1.01171208e-01, ...,\n",
       "        4.98989179e+01, 4.99489156e+01, 4.99989134e+01]),\n",
       " <a list of 1000 Patch objects>)"
      ]
     },
     "execution_count": 8,
     "metadata": {},
     "output_type": "execute_result"
    },
    {
     "data": {
      "image/png": "[encoded data removed]",
      "text/plain": [
       "<Figure size 432x288 with 1 Axes>"
      ]
     },
     "metadata": {},
     "output_type": "display_data"
    }
   ],
   "source": [
    "plt.hist(tada, bins = 1000)"
   ]
  },
  {
   "cell_type": "code",
   "execution_count": 1,
   "metadata": {},
   "outputs": [],
   "source": [
    "mylist = []"
   ]
  },
  {
   "cell_type": "code",
   "execution_count": 4,
   "metadata": {},
   "outputs": [
    {
     "data": {
      "text/plain": [
       "(2,)"
      ]
     },
     "execution_count": 4,
     "metadata": {},
     "output_type": "execute_result"
    }
   ],
   "source": [
    "import numpy as np\n"
   ]
  },
  {
   "cell_type": "code",
   "execution_count": 6,
   "metadata": {},
   "outputs": [],
   "source": [
    "mylist.append(np.array([1,1]))"
   ]
  },
  {
   "cell_type": "code",
   "execution_count": 7,
   "metadata": {},
   "outputs": [
    {
     "data": {
      "text/plain": [
       "[array([1, 1]), array([1, 1])]"
      ]
     },
     "execution_count": 7,
     "metadata": {},
     "output_type": "execute_result"
    }
   ],
   "source": [
    "mylist"
   ]
  },
  {
   "cell_type": "code",
   "execution_count": 10,
   "metadata": {},
   "outputs": [
    {
     "data": {
      "text/plain": [
       "array([0.53072802, 0.27524779])"
      ]
     },
     "execution_count": 10,
     "metadata": {},
     "output_type": "execute_result"
    }
   ],
   "source": [
    "np.random.uniform(size = 2)"
   ]
  },
  {
   "cell_type": "code",
   "execution_count": 11,
   "metadata": {},
   "outputs": [
    {
     "data": {
      "text/plain": [
       "[0, 0, 0]"
      ]
     },
     "execution_count": 11,
     "metadata": {},
     "output_type": "execute_result"
    }
   ],
   "source": [
    "[0] * 3"
   ]
  },
  {
   "cell_type": "code",
   "execution_count": 12,
   "metadata": {},
   "outputs": [
    {
     "data": {
      "text/plain": [
       "array([0, 0, 0])"
      ]
     },
     "execution_count": 12,
     "metadata": {},
     "output_type": "execute_result"
    }
   ],
   "source": [
    "np.array([0]*3)"
   ]
  },
  {
   "cell_type": "code",
   "execution_count": 9,
   "metadata": {},
   "outputs": [],
   "source": [
    "test_list = ['a', 'v', 'w']"
   ]
  },
  {
   "cell_type": "code",
   "execution_count": 18,
   "metadata": {},
   "outputs": [
    {
     "data": {
      "text/plain": [
       "0"
      ]
     },
     "execution_count": 18,
     "metadata": {},
     "output_type": "execute_result"
    }
   ],
   "source": [
    "test_list.index('a')"
   ]
  },
  {
   "cell_type": "code",
   "execution_count": 34,
   "metadata": {},
   "outputs": [],
   "source": [
    "def adjust_params_for_multiple_subjects(params = ['v', 'a', 'w'], \n",
    "                                        params_bounds = [(0,1), (0, 2), (0, 1)], \n",
    "                                        params_vary = ['v', 'w'],\n",
    "                                        n_subjects = 3):\n",
    "    params_adj = []\n",
    "    params_bounds_adj = []\n",
    "    cnt = 0\n",
    "    for p in params:\n",
    "        if p in params_vary:\n",
    "            for i in range(n_subjects):\n",
    "                params_adj.append(p + '_' + str(i))\n",
    "                params_bounds_adj.append(params_bounds[cnt])\n",
    "        else:\n",
    "            params_adj.append(p)\n",
    "            params_bounds_adj.append(params_bounds[cnt])\n",
    "        cnt += 1\n",
    "    return params_adj, params_bounds_adj"
   ]
  },
  {
   "cell_type": "code",
   "execution_count": 35,
   "metadata": {},
   "outputs": [
    {
     "data": {
      "text/plain": [
       "(['v_0', 'v_1', 'v_2', 'a', 'w_0', 'w_1', 'w_2'],\n",
       " [(0, 1), (0, 1), (0, 1), (0, 2), (0, 1), (0, 1), (0, 1)])"
      ]
     },
     "execution_count": 35,
     "metadata": {},
     "output_type": "execute_result"
    }
   ],
   "source": [
    "adjust_params_for_multiple_subjects()"
   ]
  },
  {
   "cell_type": "code",
   "execution_count": 45,
   "metadata": {},
   "outputs": [],
   "source": [
    "def get_subj_params(params = [0, 1, 2, 3, 4],\n",
    "                   params_ordered = ['v', 'a', 'w'],\n",
    "                   param_varies = [0, 0, 1],\n",
    "                   params_names = ['v', 'a', 'w_0', 'w_1', 'w_2'],\n",
    "                   subj_idx = 0):\n",
    "    # Get parameters for current dataset\n",
    "        n_params = len(params_ordered)\n",
    "        params_tmp = []\n",
    "        for j in range(n_params):\n",
    "            if param_varies[j] == 1:\n",
    "                params_tmp.append(params[params_names.index(params_ordered[j] + '_' + str(subj_idx))])\n",
    "            else:\n",
    "                params_tmp.append(params[params_names.index(params_ordered[j])])\n",
    "        return params_tmp"
   ]
  },
  {
   "cell_type": "code",
   "execution_count": 46,
   "metadata": {},
   "outputs": [
    {
     "data": {
      "text/plain": [
       "[0, 1, 2]"
      ]
     },
     "execution_count": 46,
     "metadata": {},
     "output_type": "execute_result"
    }
   ],
   "source": [
    "get_subj_params()"
   ]
  },
  {
   "cell_type": "code",
   "execution_count": 8,
   "metadata": {},
   "outputs": [
    {
     "name": "stdout",
     "output_type": "stream",
     "text": [
      "11\n"
     ]
    }
   ],
   "source": [
    "cnt = 0\n",
    "while True:\n",
    "    cnt += 1\n",
    "    if cnt > 10:\n",
    "        print(cnt)\n",
    "        break"
   ]
  },
  {
   "cell_type": "code",
   "execution_count": 10,
   "metadata": {},
   "outputs": [
    {
     "ename": "IndentationError",
     "evalue": "unindent does not match any outer indentation level (<tokenize>, line 5)",
     "output_type": "error",
     "traceback": [
      "\u001b[0;36m  File \u001b[0;32m\"<tokenize>\"\u001b[0;36m, line \u001b[0;32m5\u001b[0m\n\u001b[0;31m    def sample(self, data, num_particles = 10000, max_iter = 20):\u001b[0m\n\u001b[0m    ^\u001b[0m\n\u001b[0;31mIndentationError\u001b[0m\u001b[0;31m:\u001b[0m unindent does not match any outer indentation level\n"
     ]
    }
   ],
   "source": [
    "def calculate_weights(self):\n",
    "        out = self.p.starmap(self.target, zip(self.particles, self.data_tile))\n",
    "        return np.fromiter(out, np.float)\n",
    "\n",
    "    def sample(self, data, num_particles = 10000, max_iter = 20):\n",
    "        self.particles = np.zeros((num_particles, self.dims))\n",
    "\n",
    "        self.data = data\n",
    "        self.data_tile = np.tile(self.data, (self.particles.shape[0], 1, 1))\n",
    "        self.p = mp.Pool(mp.cpu_count())"
   ]
  },
  {
   "cell_type": "code",
   "execution_count": 28,
   "metadata": {},
   "outputs": [],
   "source": [
    "data = np.random.uniform(size = (10,5))"
   ]
  },
  {
   "cell_type": "code",
   "execution_count": 29,
   "metadata": {},
   "outputs": [],
   "source": [
    "particles = np.ones((10, 5))"
   ]
  },
  {
   "cell_type": "code",
   "execution_count": 38,
   "metadata": {},
   "outputs": [],
   "source": [
    "my_tile = np.tile(data, (particles.shape[0], 1, 1))"
   ]
  },
  {
   "cell_type": "code",
   "execution_count": 43,
   "metadata": {},
   "outputs": [
    {
     "name": "stdout",
     "output_type": "stream",
     "text": [
      "(array([1., 1., 1., 1., 1.]), array([[0.57238097, 0.67623494, 0.78288829, 0.67937377, 0.7936706 ],\n",
      "       [0.30049997, 0.86235713, 0.26035501, 0.57428152, 0.52260716],\n",
      "       [0.69369302, 0.9290034 , 0.94152368, 0.4315618 , 0.74936872],\n",
      "       [0.26012553, 0.08012147, 0.10086657, 0.47626701, 0.78529835],\n",
      "       [0.08812225, 0.4056827 , 0.75775738, 0.32627397, 0.55574205],\n",
      "       [0.44218858, 0.16884444, 0.97674247, 0.34895098, 0.59240901],\n",
      "       [0.70592777, 0.50837883, 0.08340832, 0.96430742, 0.35946586],\n",
      "       [0.83536121, 0.81687745, 0.59137712, 0.56383022, 0.8255326 ],\n",
      "       [0.05355611, 0.03065841, 0.41643992, 0.53558903, 0.58171467],\n",
      "       [0.25193875, 0.34300263, 0.23430708, 0.91700736, 0.91331397]]))\n",
      "(array([1., 1., 1., 1., 1.]), array([[0.57238097, 0.67623494, 0.78288829, 0.67937377, 0.7936706 ],\n",
      "       [0.30049997, 0.86235713, 0.26035501, 0.57428152, 0.52260716],\n",
      "       [0.69369302, 0.9290034 , 0.94152368, 0.4315618 , 0.74936872],\n",
      "       [0.26012553, 0.08012147, 0.10086657, 0.47626701, 0.78529835],\n",
      "       [0.08812225, 0.4056827 , 0.75775738, 0.32627397, 0.55574205],\n",
      "       [0.44218858, 0.16884444, 0.97674247, 0.34895098, 0.59240901],\n",
      "       [0.70592777, 0.50837883, 0.08340832, 0.96430742, 0.35946586],\n",
      "       [0.83536121, 0.81687745, 0.59137712, 0.56383022, 0.8255326 ],\n",
      "       [0.05355611, 0.03065841, 0.41643992, 0.53558903, 0.58171467],\n",
      "       [0.25193875, 0.34300263, 0.23430708, 0.91700736, 0.91331397]]))\n",
      "(array([1., 1., 1., 1., 1.]), array([[0.57238097, 0.67623494, 0.78288829, 0.67937377, 0.7936706 ],\n",
      "       [0.30049997, 0.86235713, 0.26035501, 0.57428152, 0.52260716],\n",
      "       [0.69369302, 0.9290034 , 0.94152368, 0.4315618 , 0.74936872],\n",
      "       [0.26012553, 0.08012147, 0.10086657, 0.47626701, 0.78529835],\n",
      "       [0.08812225, 0.4056827 , 0.75775738, 0.32627397, 0.55574205],\n",
      "       [0.44218858, 0.16884444, 0.97674247, 0.34895098, 0.59240901],\n",
      "       [0.70592777, 0.50837883, 0.08340832, 0.96430742, 0.35946586],\n",
      "       [0.83536121, 0.81687745, 0.59137712, 0.56383022, 0.8255326 ],\n",
      "       [0.05355611, 0.03065841, 0.41643992, 0.53558903, 0.58171467],\n",
      "       [0.25193875, 0.34300263, 0.23430708, 0.91700736, 0.91331397]]))\n",
      "(array([1., 1., 1., 1., 1.]), array([[0.57238097, 0.67623494, 0.78288829, 0.67937377, 0.7936706 ],\n",
      "       [0.30049997, 0.86235713, 0.26035501, 0.57428152, 0.52260716],\n",
      "       [0.69369302, 0.9290034 , 0.94152368, 0.4315618 , 0.74936872],\n",
      "       [0.26012553, 0.08012147, 0.10086657, 0.47626701, 0.78529835],\n",
      "       [0.08812225, 0.4056827 , 0.75775738, 0.32627397, 0.55574205],\n",
      "       [0.44218858, 0.16884444, 0.97674247, 0.34895098, 0.59240901],\n",
      "       [0.70592777, 0.50837883, 0.08340832, 0.96430742, 0.35946586],\n",
      "       [0.83536121, 0.81687745, 0.59137712, 0.56383022, 0.8255326 ],\n",
      "       [0.05355611, 0.03065841, 0.41643992, 0.53558903, 0.58171467],\n",
      "       [0.25193875, 0.34300263, 0.23430708, 0.91700736, 0.91331397]]))\n",
      "(array([1., 1., 1., 1., 1.]), array([[0.57238097, 0.67623494, 0.78288829, 0.67937377, 0.7936706 ],\n",
      "       [0.30049997, 0.86235713, 0.26035501, 0.57428152, 0.52260716],\n",
      "       [0.69369302, 0.9290034 , 0.94152368, 0.4315618 , 0.74936872],\n",
      "       [0.26012553, 0.08012147, 0.10086657, 0.47626701, 0.78529835],\n",
      "       [0.08812225, 0.4056827 , 0.75775738, 0.32627397, 0.55574205],\n",
      "       [0.44218858, 0.16884444, 0.97674247, 0.34895098, 0.59240901],\n",
      "       [0.70592777, 0.50837883, 0.08340832, 0.96430742, 0.35946586],\n",
      "       [0.83536121, 0.81687745, 0.59137712, 0.56383022, 0.8255326 ],\n",
      "       [0.05355611, 0.03065841, 0.41643992, 0.53558903, 0.58171467],\n",
      "       [0.25193875, 0.34300263, 0.23430708, 0.91700736, 0.91331397]]))\n",
      "(array([1., 1., 1., 1., 1.]), array([[0.57238097, 0.67623494, 0.78288829, 0.67937377, 0.7936706 ],\n",
      "       [0.30049997, 0.86235713, 0.26035501, 0.57428152, 0.52260716],\n",
      "       [0.69369302, 0.9290034 , 0.94152368, 0.4315618 , 0.74936872],\n",
      "       [0.26012553, 0.08012147, 0.10086657, 0.47626701, 0.78529835],\n",
      "       [0.08812225, 0.4056827 , 0.75775738, 0.32627397, 0.55574205],\n",
      "       [0.44218858, 0.16884444, 0.97674247, 0.34895098, 0.59240901],\n",
      "       [0.70592777, 0.50837883, 0.08340832, 0.96430742, 0.35946586],\n",
      "       [0.83536121, 0.81687745, 0.59137712, 0.56383022, 0.8255326 ],\n",
      "       [0.05355611, 0.03065841, 0.41643992, 0.53558903, 0.58171467],\n",
      "       [0.25193875, 0.34300263, 0.23430708, 0.91700736, 0.91331397]]))\n",
      "(array([1., 1., 1., 1., 1.]), array([[0.57238097, 0.67623494, 0.78288829, 0.67937377, 0.7936706 ],\n",
      "       [0.30049997, 0.86235713, 0.26035501, 0.57428152, 0.52260716],\n",
      "       [0.69369302, 0.9290034 , 0.94152368, 0.4315618 , 0.74936872],\n",
      "       [0.26012553, 0.08012147, 0.10086657, 0.47626701, 0.78529835],\n",
      "       [0.08812225, 0.4056827 , 0.75775738, 0.32627397, 0.55574205],\n",
      "       [0.44218858, 0.16884444, 0.97674247, 0.34895098, 0.59240901],\n",
      "       [0.70592777, 0.50837883, 0.08340832, 0.96430742, 0.35946586],\n",
      "       [0.83536121, 0.81687745, 0.59137712, 0.56383022, 0.8255326 ],\n",
      "       [0.05355611, 0.03065841, 0.41643992, 0.53558903, 0.58171467],\n",
      "       [0.25193875, 0.34300263, 0.23430708, 0.91700736, 0.91331397]]))\n",
      "(array([1., 1., 1., 1., 1.]), array([[0.57238097, 0.67623494, 0.78288829, 0.67937377, 0.7936706 ],\n",
      "       [0.30049997, 0.86235713, 0.26035501, 0.57428152, 0.52260716],\n",
      "       [0.69369302, 0.9290034 , 0.94152368, 0.4315618 , 0.74936872],\n",
      "       [0.26012553, 0.08012147, 0.10086657, 0.47626701, 0.78529835],\n",
      "       [0.08812225, 0.4056827 , 0.75775738, 0.32627397, 0.55574205],\n",
      "       [0.44218858, 0.16884444, 0.97674247, 0.34895098, 0.59240901],\n",
      "       [0.70592777, 0.50837883, 0.08340832, 0.96430742, 0.35946586],\n",
      "       [0.83536121, 0.81687745, 0.59137712, 0.56383022, 0.8255326 ],\n",
      "       [0.05355611, 0.03065841, 0.41643992, 0.53558903, 0.58171467],\n",
      "       [0.25193875, 0.34300263, 0.23430708, 0.91700736, 0.91331397]]))\n",
      "(array([1., 1., 1., 1., 1.]), array([[0.57238097, 0.67623494, 0.78288829, 0.67937377, 0.7936706 ],\n",
      "       [0.30049997, 0.86235713, 0.26035501, 0.57428152, 0.52260716],\n",
      "       [0.69369302, 0.9290034 , 0.94152368, 0.4315618 , 0.74936872],\n",
      "       [0.26012553, 0.08012147, 0.10086657, 0.47626701, 0.78529835],\n",
      "       [0.08812225, 0.4056827 , 0.75775738, 0.32627397, 0.55574205],\n",
      "       [0.44218858, 0.16884444, 0.97674247, 0.34895098, 0.59240901],\n",
      "       [0.70592777, 0.50837883, 0.08340832, 0.96430742, 0.35946586],\n",
      "       [0.83536121, 0.81687745, 0.59137712, 0.56383022, 0.8255326 ],\n",
      "       [0.05355611, 0.03065841, 0.41643992, 0.53558903, 0.58171467],\n",
      "       [0.25193875, 0.34300263, 0.23430708, 0.91700736, 0.91331397]]))\n",
      "(array([1., 1., 1., 1., 1.]), array([[0.57238097, 0.67623494, 0.78288829, 0.67937377, 0.7936706 ],\n",
      "       [0.30049997, 0.86235713, 0.26035501, 0.57428152, 0.52260716],\n",
      "       [0.69369302, 0.9290034 , 0.94152368, 0.4315618 , 0.74936872],\n",
      "       [0.26012553, 0.08012147, 0.10086657, 0.47626701, 0.78529835],\n",
      "       [0.08812225, 0.4056827 , 0.75775738, 0.32627397, 0.55574205],\n",
      "       [0.44218858, 0.16884444, 0.97674247, 0.34895098, 0.59240901],\n",
      "       [0.70592777, 0.50837883, 0.08340832, 0.96430742, 0.35946586],\n",
      "       [0.83536121, 0.81687745, 0.59137712, 0.56383022, 0.8255326 ],\n",
      "       [0.05355611, 0.03065841, 0.41643992, 0.53558903, 0.58171467],\n",
      "       [0.25193875, 0.34300263, 0.23430708, 0.91700736, 0.91331397]]))\n"
     ]
    }
   ],
   "source": [
    "for j in zip(particles, my_tile):\n",
    "    print(j)"
   ]
  },
  {
   "cell_type": "code",
   "execution_count": 44,
   "metadata": {},
   "outputs": [
    {
     "data": {
      "text/plain": [
       "array([0.11128695, 0.48407282, 0.82680959])"
      ]
     },
     "execution_count": 44,
     "metadata": {},
     "output_type": "execute_result"
    }
   ],
   "source": [
    "np.random.uniform(0, 1, 3)"
   ]
  },
  {
   "cell_type": "code",
   "execution_count": 5,
   "metadata": {},
   "outputs": [
    {
     "data": {
      "text/plain": [
       "['_expanded_bounds__7.pickle',\n",
       " '.ipynb_checkpoints',\n",
       " '_expanded_bounds__6.pickle',\n",
       " '_expanded_bounds__11.pickle',\n",
       " '_expanded_bounds__4.pickle',\n",
       " '_expanded_bounds__9.pickle',\n",
       " '_expanded_bounds__18.pickle',\n",
       " '_expanded_bounds__16.pickle',\n",
       " '_expanded_bounds__3.pickle',\n",
       " '_expanded_bounds__15.pickle',\n",
       " '_expanded_bounds__23.pickle',\n",
       " '_expanded_bounds__2.pickle',\n",
       " '_expanded_bounds__20.pickle',\n",
       " '_expanded_bounds__13.pickle',\n",
       " '_expanded_bounds__25.pickle',\n",
       " 'ornstein_uhlenbeck_kde_sim_random.pickle',\n",
       " '_expanded_bounds__10.pickle',\n",
       " '_expanded_bounds__22.pickle',\n",
       " '_expanded_bounds__21.pickle',\n",
       " '_expanded_bounds__19.pickle',\n",
       " '_expanded_bounds_test__999.pickle',\n",
       " '_expanded_bounds__1.pickle',\n",
       " '_expanded_bounds__5.pickle',\n",
       " '_expanded_bounds__17.pickle',\n",
       " '_expanded_bounds__12.pickle',\n",
       " '_expanded_bounds__8.pickle',\n",
       " '_expanded_bounds__24.pickle',\n",
       " '_expanded_bounds__14.pickle']"
      ]
     },
     "execution_count": 5,
     "metadata": {},
     "output_type": "execute_result"
    }
   ],
   "source": [
    "os.listdir('/media/data_cifs/afengler/data/kde/ornstein/method_comparison/')"
   ]
  },
  {
   "cell_type": "code",
   "execution_count": 3,
   "metadata": {},
   "outputs": [],
   "source": [
    "t = pickle.load(open('/media/data_cifs/afengler/data/kde/ornstein/method_comparison/_expanded_bounds_test__999.pickle', 'rb'))"
   ]
  },
  {
   "cell_type": "code",
   "execution_count": 27,
   "metadata": {},
   "outputs": [
    {
     "data": {
      "text/plain": [
       "array([[[-0.60803503,  1.15883852,  0.30277242, -0.54329505,\n",
       "          1.16506866],\n",
       "        [-0.6251384 ,  1.2038119 ,  0.58977254,  0.25235419,\n",
       "          0.45398726],\n",
       "        [ 1.79101753,  1.54192591,  0.40756767,  0.78925179,\n",
       "          1.47303705],\n",
       "        ...,\n",
       "        [-1.63028195,  1.53487474,  0.60488254,  0.94356938,\n",
       "          1.55713028],\n",
       "        [ 0.85522472,  1.27985177,  0.7846262 ,  0.71513361,\n",
       "          0.87410719],\n",
       "        [ 1.33993638,  1.33371793,  0.58592248, -0.4254879 ,\n",
       "          0.08377577]],\n",
       "\n",
       "       [[-0.60803503,  1.15883852,  0.30277242, -0.54329505,\n",
       "          1.16506866],\n",
       "        [ 0.31327606,  1.2038119 ,  0.66567155,  0.11059546,\n",
       "          0.26132258],\n",
       "        [ 1.79101753,  1.54192591,  0.33020334,  0.86638659,\n",
       "          1.47303705],\n",
       "        ...,\n",
       "        [-1.6352345 ,  1.53487474,  0.6241722 ,  0.94356938,\n",
       "          1.55713028],\n",
       "        [-0.03883323,  1.27985177,  0.7846262 ,  0.71513361,\n",
       "          0.87410719],\n",
       "        [ 1.33993638,  1.15230349,  0.58592248, -1.        ,\n",
       "          0.        ]],\n",
       "\n",
       "       [[-0.60803503,  1.15883852,  0.30277242, -0.54329505,\n",
       "          1.16506866],\n",
       "        [ 0.31327606,  1.2038119 ,  0.66567155,  0.11059546,\n",
       "          0.26132258],\n",
       "        [ 1.79101753,  1.57267772,  0.33020334,  0.86638659,\n",
       "          1.47303705],\n",
       "        ...,\n",
       "        [-1.6352345 ,  1.53487474,  0.6241722 ,  0.94356938,\n",
       "          1.55713028],\n",
       "        [-0.03883323,  1.27985177,  0.7846262 ,  0.71513361,\n",
       "          0.87410719],\n",
       "        [ 0.99435766,  1.15230349,  0.36154374, -1.        ,\n",
       "          0.        ]],\n",
       "\n",
       "       ...,\n",
       "\n",
       "       [[ 0.3274215 ,  0.44454257,  0.53574761,  1.        ,\n",
       "          0.40399397],\n",
       "        [ 0.25629722,  0.48103555,  0.53704047, -0.6627513 ,\n",
       "          0.3982757 ],\n",
       "        [ 0.36718889,  0.44424704,  0.52833598,  1.        ,\n",
       "          0.40362868],\n",
       "        ...,\n",
       "        [ 0.29699574,  0.48148392,  0.53972381, -0.72146016,\n",
       "          0.401727  ],\n",
       "        [ 0.19249474,  0.48033122,  0.54973791, -0.77986733,\n",
       "          0.40173744],\n",
       "        [ 0.35286093,  0.44131269,  0.53658684,  1.        ,\n",
       "          0.40250783]],\n",
       "\n",
       "       [[ 0.3274215 ,  0.44454257,  0.53574761,  1.        ,\n",
       "          0.40399397],\n",
       "        [ 0.25629722,  0.48103555,  0.53704047, -0.6627513 ,\n",
       "          0.3982757 ],\n",
       "        [ 0.36718889,  0.44424704,  0.52833598,  1.        ,\n",
       "          0.40362868],\n",
       "        ...,\n",
       "        [ 0.29699574,  0.48148392,  0.53972381, -0.72146016,\n",
       "          0.401727  ],\n",
       "        [ 0.19249474,  0.48033122,  0.54973791, -0.77986733,\n",
       "          0.40173744],\n",
       "        [ 0.35286093,  0.44131269,  0.53658684,  1.        ,\n",
       "          0.40250783]],\n",
       "\n",
       "       [[ 0.3274215 ,  0.44454257,  0.53574761,  1.        ,\n",
       "          0.40399397],\n",
       "        [ 0.25629722,  0.48103555,  0.53704047, -0.6627513 ,\n",
       "          0.3982757 ],\n",
       "        [ 0.36718889,  0.44424704,  0.52833598,  1.        ,\n",
       "          0.40362868],\n",
       "        ...,\n",
       "        [ 0.30976798,  0.48148392,  0.53972381, -0.72146016,\n",
       "          0.401727  ],\n",
       "        [ 0.19249474,  0.48033122,  0.54973791, -0.77986733,\n",
       "          0.40173744],\n",
       "        [ 0.35286093,  0.44131269,  0.53658684,  1.        ,\n",
       "          0.40250783]]])"
      ]
     },
     "execution_count": 27,
     "metadata": {},
     "output_type": "execute_result"
    }
   ],
   "source": [
    "t[2]"
   ]
  },
  {
   "cell_type": "code",
   "execution_count": 28,
   "metadata": {},
   "outputs": [
    {
     "data": {
      "text/plain": [
       "[<matplotlib.lines.Line2D at 0x7f98fc39e128>]"
      ]
     },
     "execution_count": 28,
     "metadata": {},
     "output_type": "execute_result"
    },
    {
     "data": {
      "image/png": "[encoded data removed]",
      "text/plain": [
       "<Figure size 432x288 with 1 Axes>"
      ]
     },
     "metadata": {
      "needs_background": "light"
     },
     "output_type": "display_data"
    }
   ],
   "source": [
    "plt.plot(t[2][:,1,0])"
   ]
  },
  {
   "cell_type": "code",
   "execution_count": 10,
   "metadata": {},
   "outputs": [
    {
     "data": {
      "text/plain": [
       "[<matplotlib.lines.Line2D at 0x7fabcf187cf8>]"
      ]
     },
     "execution_count": 10,
     "metadata": {},
     "output_type": "execute_result"
    },
    {
     "data": {
      "image/png": "[encoded data removed]",
      "text/plain": [
       "<Figure size 432x288 with 1 Axes>"
      ]
     },
     "metadata": {
      "needs_background": "light"
     },
     "output_type": "display_data"
    }
   ],
   "source": [
    "plt.plot(t[2][:,1,1])"
   ]
  },
  {
   "cell_type": "code",
   "execution_count": 11,
   "metadata": {},
   "outputs": [
    {
     "data": {
      "text/plain": [
       "[<matplotlib.lines.Line2D at 0x7fabcf0f9dd8>]"
      ]
     },
     "execution_count": 11,
     "metadata": {},
     "output_type": "execute_result"
    },
    {
     "data": {
      "image/png": "[encoded data removed]",
      "text/plain": [
       "<Figure size 432x288 with 1 Axes>"
      ]
     },
     "metadata": {
      "needs_background": "light"
     },
     "output_type": "display_data"
    }
   ],
   "source": [
    "plt.plot(t[2][:,1,2])"
   ]
  },
  {
   "cell_type": "code",
   "execution_count": 12,
   "metadata": {},
   "outputs": [
    {
     "data": {
      "text/plain": [
       "[<matplotlib.lines.Line2D at 0x7fabcf064b70>]"
      ]
     },
     "execution_count": 12,
     "metadata": {},
     "output_type": "execute_result"
    },
    {
     "data": {
      "image/png": "[encoded data removed]",
      "text/plain": [
       "<Figure size 432x288 with 1 Axes>"
      ]
     },
     "metadata": {
      "needs_background": "light"
     },
     "output_type": "display_data"
    }
   ],
   "source": [
    "plt.plot(t[2][:,1,3])"
   ]
  },
  {
   "cell_type": "code",
   "execution_count": 29,
   "metadata": {},
   "outputs": [
    {
     "ename": "NameError",
     "evalue": "name 'test' is not defined",
     "output_type": "error",
     "traceback": [
      "\u001b[0;31m---------------------------------------------------------------------------\u001b[0m",
      "\u001b[0;31mNameError\u001b[0m                                 Traceback (most recent call last)",
      "\u001b[0;32m<ipython-input-29-031c19480ae9>\u001b[0m in \u001b[0;36m<module>\u001b[0;34m\u001b[0m\n\u001b[0;32m----> 1\u001b[0;31m \u001b[0mplt\u001b[0m\u001b[0;34m.\u001b[0m\u001b[0mhist\u001b[0m\u001b[0;34m(\u001b[0m\u001b[0mtest\u001b[0m\u001b[0;34m[\u001b[0m\u001b[0;34m:\u001b[0m\u001b[0;34m,\u001b[0m\u001b[0;36m3\u001b[0m\u001b[0;34m]\u001b[0m\u001b[0;34m,\u001b[0m \u001b[0mbins\u001b[0m \u001b[0;34m=\u001b[0m \u001b[0;36m30\u001b[0m\u001b[0;34m)\u001b[0m\u001b[0;34m\u001b[0m\u001b[0;34m\u001b[0m\u001b[0m\n\u001b[0m",
      "\u001b[0;31mNameError\u001b[0m: name 'test' is not defined"
     ]
    }
   ],
   "source": [
    "plt.hist(test[:,3], bins = 30)"
   ]
  },
  {
   "cell_type": "code",
   "execution_count": 30,
   "metadata": {},
   "outputs": [],
   "source": [
    "test = np.reshape(t[2][2000:3999, 3:18, :],newshape = (-1, 5))"
   ]
  },
  {
   "cell_type": "code",
   "execution_count": 31,
   "metadata": {},
   "outputs": [
    {
     "data": {
      "text/plain": [
       "(4000, 20, 5)"
      ]
     },
     "execution_count": 31,
     "metadata": {},
     "output_type": "execute_result"
    }
   ],
   "source": [
    "t[2].shape"
   ]
  },
  {
   "cell_type": "code",
   "execution_count": 32,
   "metadata": {},
   "outputs": [
    {
     "data": {
      "text/plain": [
       "(29985, 5)"
      ]
     },
     "execution_count": 32,
     "metadata": {},
     "output_type": "execute_result"
    }
   ],
   "source": [
    "test.shape"
   ]
  },
  {
   "cell_type": "code",
   "execution_count": 213,
   "metadata": {},
   "outputs": [],
   "source": [
    "def get_W(chains):\n",
    "    return np.sum(np.square((chains - np.mean(chains, axis = 1, keepdims = 1))), axis = (0, 1)) / (chains.shape[0] * (chains.shape[1] - 1))\n",
    "    \n",
    "def get_B_div_n(chains):\n",
    "    return np.sum(np.square(np.mean(chains, axis = 1, keepdims = 1) - np.mean(chains, axis = (0,1), keepdims = 1)), axis = (0, 1)) / (chains.shape[0] - 1)\n",
    "    \n",
    "def get_gelman_rubin_univ(chains, \n",
    "                          burn_in = 1000):\n",
    "    W = get_W(chains[:, burn_in:, :])\n",
    "    B_div_n = get_B_div_n(chains[:, burn_in:, :])\n",
    "    V = (chains[:, burn_in:, :].shape[1] - 1) / chains[:, burn_in:, :].shape[1] * W + B_div_n \n",
    "    R_hat = V / W\n",
    "    return R_hat"
   ]
  },
  {
   "cell_type": "code",
   "execution_count": 8,
   "metadata": {},
   "outputs": [
    {
     "data": {
      "text/plain": [
       "(0, 1.0065918828633091)"
      ]
     },
     "execution_count": 8,
     "metadata": {},
     "output_type": "execute_result"
    }
   ],
   "source": [
    "diag_.get_gelman_rubin_mv(t_swapped, burn_in = 1000)"
   ]
  },
  {
   "cell_type": "code",
   "execution_count": 4,
   "metadata": {},
   "outputs": [],
   "source": [
    "t_swapped = np.swapaxes(t[2],0, 1)"
   ]
  },
  {
   "cell_type": "code",
   "execution_count": 5,
   "metadata": {},
   "outputs": [],
   "source": [
    "t_swapped.shape\n",
    "t_swapped = t_swapped[3:18, :, :]"
   ]
  },
  {
   "cell_type": "code",
   "execution_count": 35,
   "metadata": {},
   "outputs": [],
   "source": [
    "#(t_swapped[:,1,:] \n",
    "W = np.sum(np.square((t_swapped - np.mean(t_swapped, axis = 1, keepdims = 1))), axis = (0, 1)) / (t_swapped.shape[0] * (t_swapped.shape[1] - 1))"
   ]
  },
  {
   "cell_type": "code",
   "execution_count": 36,
   "metadata": {},
   "outputs": [],
   "source": [
    "B_div_n = np.sum(np.square(np.mean(t_swapped, axis = 1, keepdims = 1) - np.mean(t_swapped, axis = (0,1), keepdims = 1)), axis = (0, 1)) / (t_swapped.shape[0] - 1)"
   ]
  },
  {
   "cell_type": "code",
   "execution_count": 37,
   "metadata": {},
   "outputs": [],
   "source": [
    "V = (t_swapped.shape[1] - 1) / (t_swapped.shape[1]) * W + B_div_n"
   ]
  },
  {
   "cell_type": "code",
   "execution_count": 38,
   "metadata": {},
   "outputs": [
    {
     "data": {
      "text/plain": [
       "array([1.06130532, 1.02016818, 1.04186833, 1.05915103, 1.03040361])"
      ]
     },
     "execution_count": 38,
     "metadata": {},
     "output_type": "execute_result"
    }
   ],
   "source": [
    "V / W"
   ]
  },
  {
   "cell_type": "code",
   "execution_count": 127,
   "metadata": {},
   "outputs": [
    {
     "data": {
      "text/plain": [
       "array([1.67361155e-06, 8.67288567e-08, 1.33998623e-08, 9.48741919e-05,\n",
       "       4.50000222e-08])"
      ]
     },
     "execution_count": 127,
     "metadata": {},
     "output_type": "execute_result"
    }
   ],
   "source": [
    "B / t_swapped.shape[1]"
   ]
  },
  {
   "cell_type": "code",
   "execution_count": 95,
   "metadata": {},
   "outputs": [
    {
     "data": {
      "text/plain": [
       "array([0.04295023, 0.00741185, 0.00091622, 0.02183918, 0.00543918])"
      ]
     },
     "execution_count": 95,
     "metadata": {},
     "output_type": "execute_result"
    }
   ],
   "source": [
    "W"
   ]
  },
  {
   "cell_type": "code",
   "execution_count": 97,
   "metadata": {},
   "outputs": [
    {
     "data": {
      "text/plain": [
       "array([6.69444620e-03, 3.46915427e-04, 5.35994493e-05, 3.79496768e-01,\n",
       "       1.80000089e-04])"
      ]
     },
     "execution_count": 97,
     "metadata": {},
     "output_type": "execute_result"
    }
   ],
   "source": [
    "B"
   ]
  },
  {
   "cell_type": "code",
   "execution_count": 99,
   "metadata": {},
   "outputs": [
    {
     "data": {
      "text/plain": [
       "array([0.04294117, 0.00741008, 0.000916  , 0.0219286 , 0.00543786])"
      ]
     },
     "execution_count": 99,
     "metadata": {},
     "output_type": "execute_result"
    }
   ],
   "source": [
    "V"
   ]
  },
  {
   "cell_type": "code",
   "execution_count": null,
   "metadata": {},
   "outputs": [],
   "source": [
    "np.cov()"
   ]
  },
  {
   "cell_type": "code",
   "execution_count": 40,
   "metadata": {},
   "outputs": [
    {
     "data": {
      "text/plain": [
       "(15, 3500, 5)"
      ]
     },
     "execution_count": 40,
     "metadata": {},
     "output_type": "execute_result"
    }
   ],
   "source": [
    "t_swapped.shape"
   ]
  },
  {
   "cell_type": "code",
   "execution_count": 11,
   "metadata": {},
   "outputs": [],
   "source": [
    "def get_W_mv(chains):\n",
    "    tmp = np.zeros((chains.shape[2], chains.shape[2]))\n",
    "    for i in range(chains.shape[0]):\n",
    "        tmp += np.cov(chains[i].T)\n",
    "    return tmp / chains.shape[0]"
   ]
  },
  {
   "cell_type": "code",
   "execution_count": 12,
   "metadata": {},
   "outputs": [],
   "source": [
    "W_mv = get_W_mv(chains = t_swapped)"
   ]
  },
  {
   "cell_type": "code",
   "execution_count": 13,
   "metadata": {},
   "outputs": [],
   "source": [
    "def get_B_div_n_mv(chains):\n",
    "    phi_dot = np.mean(chains, axis = 1)\n",
    "    #phi_dot_dot = np.mean(phi_dot, axis = 0)\n",
    "    return np.cov(phi_dot.T) / chains.shape[0]  "
   ]
  },
  {
   "cell_type": "code",
   "execution_count": 18,
   "metadata": {},
   "outputs": [],
   "source": [
    "def get_gel_rub_mv(chains):\n",
    "    W = get_W_mv(chains)\n",
    "    B_div_n = get_B_div_n_mv(chains)\n",
    "    W_inv = np.linalg.inv(W)\n",
    "    lambda_1 = np.sort(np.linalg.eigvals(np.dot(W_inv, B_div_n)))[-1]\n",
    "    print(np.sort(np.linalg.eigvals(np.dot(W_inv, B_div_n))))\n",
    "    print(lambda_1)\n",
    "    R_hat = (chains.shape[1] - 1) / chains.shape[1] + ((chains.shape[0] + 1) / chains.shape[0]) * lambda_1\n",
    "    return R_hat"
   ]
  },
  {
   "cell_type": "code",
   "execution_count": 19,
   "metadata": {},
   "outputs": [
    {
     "name": "stdout",
     "output_type": "stream",
     "text": [
      "[0.00014434 0.00057147 0.00163968 0.00229057 0.00893636]\n",
      "0.008936359880899393\n"
     ]
    },
    {
     "data": {
      "text/plain": [
       "1.0092821172062927"
      ]
     },
     "execution_count": 19,
     "metadata": {},
     "output_type": "execute_result"
    }
   ],
   "source": [
    "get_gel_rub_mv(t_swapped)"
   ]
  },
  {
   "cell_type": "code",
   "execution_count": null,
   "metadata": {},
   "outputs": [],
   "source": [
    "def compute_geweke():"
   ]
  },
  {
   "cell_type": "code",
   "execution_count": 8,
   "metadata": {},
   "outputs": [
    {
     "name": "stdout",
     "output_type": "stream",
     "text": [
      "Device 0: GeForce GTX TITAN X\n",
      "\t Compute Capability: 5.2\n",
      "\t Total Memory: 12212 megabytes\n",
      "Device 1: GeForce GTX TITAN X\n",
      "\t Compute Capability: 5.2\n",
      "\t Total Memory: 12212 megabytes\n",
      "Device 2: GeForce GTX TITAN X\n",
      "\t Compute Capability: 5.2\n",
      "\t Total Memory: 12212 megabytes\n",
      "Device 3: GeForce GTX 670\n",
      "\t Compute Capability: 3.0\n",
      "\t Total Memory: 1999 megabytes\n"
     ]
    }
   ],
   "source": [
    "import pycuda.driver as drv\n",
    "drv.init()\n",
    "print('Detected {} CUDA Capable device(s)'.format(drv.Device.count()))\n",
    "\n",
    "for i in range(drv.Device.count()):\n",
    "     gpu_device = drv.Device(i)\n",
    "     print('Device {}: {}'.format( i, gpu_device.name() ))\n",
    "     compute_capability = float( '%d.%d' % gpu_device.compute_capability() )\n",
    "     print('\\t Compute Capability: {}'.format(compute_capability))\n",
    "     print('\\t Total Memory: {} megabytes'.format(gpu_device.total_memory()//(1024**2)))"
   ]
  },
  {
   "cell_type": "code",
   "execution_count": 14,
   "metadata": {},
   "outputs": [],
   "source": [
    "device_attributes_tuples = gpu_device.get_attributes().items()\n",
    "device_attributes = {}\n",
    "    \n",
    "for k, v in device_attributes_tuples:\n",
    "    device_attributes[str(k)] = v"
   ]
  },
  {
   "cell_type": "code",
   "execution_count": 15,
   "metadata": {},
   "outputs": [],
   "source": [
    "gpu_device.get_attributes().items()\n",
    "num_mp = device_attributes['MULTIPROCESSOR_COUNT']"
   ]
  },
  {
   "cell_type": "code",
   "execution_count": 16,
   "metadata": {},
   "outputs": [
    {
     "data": {
      "text/plain": [
       "7"
      ]
     },
     "execution_count": 16,
     "metadata": {},
     "output_type": "execute_result"
    }
   ],
   "source": [
    "num_mp"
   ]
  },
  {
   "cell_type": "code",
   "execution_count": 17,
   "metadata": {},
   "outputs": [
    {
     "data": {
      "text/plain": [
       "3.0"
      ]
     },
     "execution_count": 17,
     "metadata": {},
     "output_type": "execute_result"
    }
   ],
   "source": [
    "compute_capability"
   ]
  },
  {
   "cell_type": "code",
   "execution_count": 18,
   "metadata": {},
   "outputs": [],
   "source": [
    "cuda_cores_per_mp = {3.0: 16, 5.0 : 128, 5.1 : 128, 5.2 : 128, 6.0 : 64, 6.1 : 128, 6.2 : 128}[compute_capability]"
   ]
  },
  {
   "cell_type": "code",
   "execution_count": 19,
   "metadata": {},
   "outputs": [
    {
     "data": {
      "text/plain": [
       "16"
      ]
     },
     "execution_count": 19,
     "metadata": {},
     "output_type": "execute_result"
    }
   ],
   "source": [
    "cuda_cores_per_mp"
   ]
  },
  {
   "cell_type": "code",
   "execution_count": 20,
   "metadata": {},
   "outputs": [
    {
     "name": "stdout",
     "output_type": "stream",
     "text": [
      "\t (7) Multiprocessors, (16) CUDA Cores / Multiprocessor: 112 CUDA Cores\n"
     ]
    }
   ],
   "source": [
    "print('\\t ({}) Multiprocessors, ({}) CUDA Cores / Multiprocessor: {} CUDA Cores'.format(num_mp, cuda_cores_per_mp, num_mp * cuda_cores_per_mp))\n",
    " "
   ]
  },
  {
   "cell_type": "code",
   "execution_count": 22,
   "metadata": {},
   "outputs": [
    {
     "name": "stdout",
     "output_type": "stream",
     "text": [
      "\t ASYNC_ENGINE_COUNT: 1\n",
      "\t CAN_MAP_HOST_MEMORY: 1\n",
      "\t CLOCK_RATE: 980000\n",
      "\t COMPUTE_CAPABILITY_MAJOR: 3\n",
      "\t COMPUTE_CAPABILITY_MINOR: 0\n",
      "\t COMPUTE_MODE: DEFAULT\n",
      "\t CONCURRENT_KERNELS: 1\n",
      "\t ECC_ENABLED: 0\n",
      "\t GLOBAL_L1_CACHE_SUPPORTED: 0\n",
      "\t GLOBAL_MEMORY_BUS_WIDTH: 256\n",
      "\t GPU_OVERLAP: 1\n",
      "\t INTEGRATED: 0\n",
      "\t KERNEL_EXEC_TIMEOUT: 1\n",
      "\t L2_CACHE_SIZE: 524288\n",
      "\t LOCAL_L1_CACHE_SUPPORTED: 1\n",
      "\t MANAGED_MEMORY: 1\n",
      "\t MAXIMUM_SURFACE1D_LAYERED_LAYERS: 2048\n",
      "\t MAXIMUM_SURFACE1D_LAYERED_WIDTH: 65536\n",
      "\t MAXIMUM_SURFACE1D_WIDTH: 65536\n",
      "\t MAXIMUM_SURFACE2D_HEIGHT: 32768\n",
      "\t MAXIMUM_SURFACE2D_LAYERED_HEIGHT: 32768\n",
      "\t MAXIMUM_SURFACE2D_LAYERED_LAYERS: 2048\n",
      "\t MAXIMUM_SURFACE2D_LAYERED_WIDTH: 65536\n",
      "\t MAXIMUM_SURFACE2D_WIDTH: 65536\n",
      "\t MAXIMUM_SURFACE3D_DEPTH: 2048\n",
      "\t MAXIMUM_SURFACE3D_HEIGHT: 32768\n",
      "\t MAXIMUM_SURFACE3D_WIDTH: 65536\n",
      "\t MAXIMUM_SURFACECUBEMAP_LAYERED_LAYERS: 2046\n",
      "\t MAXIMUM_SURFACECUBEMAP_LAYERED_WIDTH: 32768\n",
      "\t MAXIMUM_SURFACECUBEMAP_WIDTH: 32768\n",
      "\t MAXIMUM_TEXTURE1D_LAYERED_LAYERS: 2048\n",
      "\t MAXIMUM_TEXTURE1D_LAYERED_WIDTH: 16384\n",
      "\t MAXIMUM_TEXTURE1D_LINEAR_WIDTH: 134217728\n",
      "\t MAXIMUM_TEXTURE1D_MIPMAPPED_WIDTH: 16384\n",
      "\t MAXIMUM_TEXTURE1D_WIDTH: 65536\n",
      "\t MAXIMUM_TEXTURE2D_ARRAY_HEIGHT: 16384\n",
      "\t MAXIMUM_TEXTURE2D_ARRAY_NUMSLICES: 2048\n",
      "\t MAXIMUM_TEXTURE2D_ARRAY_WIDTH: 16384\n",
      "\t MAXIMUM_TEXTURE2D_GATHER_HEIGHT: 16384\n",
      "\t MAXIMUM_TEXTURE2D_GATHER_WIDTH: 16384\n",
      "\t MAXIMUM_TEXTURE2D_HEIGHT: 65536\n",
      "\t MAXIMUM_TEXTURE2D_LINEAR_HEIGHT: 65000\n",
      "\t MAXIMUM_TEXTURE2D_LINEAR_PITCH: 1048544\n",
      "\t MAXIMUM_TEXTURE2D_LINEAR_WIDTH: 65000\n",
      "\t MAXIMUM_TEXTURE2D_MIPMAPPED_HEIGHT: 16384\n",
      "\t MAXIMUM_TEXTURE2D_MIPMAPPED_WIDTH: 16384\n",
      "\t MAXIMUM_TEXTURE2D_WIDTH: 65536\n",
      "\t MAXIMUM_TEXTURE3D_DEPTH: 4096\n",
      "\t MAXIMUM_TEXTURE3D_DEPTH_ALTERNATE: 16384\n",
      "\t MAXIMUM_TEXTURE3D_HEIGHT: 4096\n",
      "\t MAXIMUM_TEXTURE3D_HEIGHT_ALTERNATE: 2048\n",
      "\t MAXIMUM_TEXTURE3D_WIDTH: 4096\n",
      "\t MAXIMUM_TEXTURE3D_WIDTH_ALTERNATE: 2048\n",
      "\t MAXIMUM_TEXTURECUBEMAP_LAYERED_LAYERS: 2046\n",
      "\t MAXIMUM_TEXTURECUBEMAP_LAYERED_WIDTH: 16384\n",
      "\t MAXIMUM_TEXTURECUBEMAP_WIDTH: 16384\n",
      "\t MAX_BLOCK_DIM_X: 1024\n",
      "\t MAX_BLOCK_DIM_Y: 1024\n",
      "\t MAX_BLOCK_DIM_Z: 64\n",
      "\t MAX_GRID_DIM_X: 2147483647\n",
      "\t MAX_GRID_DIM_Y: 65535\n",
      "\t MAX_GRID_DIM_Z: 65535\n",
      "\t MAX_PITCH: 2147483647\n",
      "\t MAX_REGISTERS_PER_BLOCK: 65536\n",
      "\t MAX_REGISTERS_PER_MULTIPROCESSOR: 65536\n",
      "\t MAX_SHARED_MEMORY_PER_BLOCK: 49152\n",
      "\t MAX_SHARED_MEMORY_PER_MULTIPROCESSOR: 49152\n",
      "\t MAX_THREADS_PER_BLOCK: 1024\n",
      "\t MAX_THREADS_PER_MULTIPROCESSOR: 2048\n",
      "\t MEMORY_CLOCK_RATE: 3004000\n",
      "\t MULTI_GPU_BOARD: 0\n",
      "\t MULTI_GPU_BOARD_GROUP_ID: 3\n",
      "\t PCI_BUS_ID: 2\n",
      "\t PCI_DEVICE_ID: 0\n",
      "\t PCI_DOMAIN_ID: 0\n",
      "\t STREAM_PRIORITIES_SUPPORTED: 0\n",
      "\t SURFACE_ALIGNMENT: 512\n",
      "\t TCC_DRIVER: 0\n",
      "\t TEXTURE_ALIGNMENT: 512\n",
      "\t TEXTURE_PITCH_ALIGNMENT: 32\n",
      "\t TOTAL_CONSTANT_MEMORY: 65536\n",
      "\t UNIFIED_ADDRESSING: 1\n",
      "\t WARP_SIZE: 32\n"
     ]
    }
   ],
   "source": [
    "device_attributes.pop('MULTIPROCESSOR_COUNT')\n",
    "for k in device_attributes.keys():\n",
    "    print('\\t {}: {}'.format(k, device_attributes[k]))"
   ]
  },
  {
   "cell_type": "code",
   "execution_count": 22,
   "metadata": {},
   "outputs": [
    {
     "name": "stderr",
     "output_type": "stream",
     "text": [
      "/home/afengler/miniconda3/envs/pytorch/lib/python3.7/site-packages/statsmodels/tsa/stattools.py:572: FutureWarning: fft=True will become the default in a future version of statsmodels. To suppress this warning, explicitly set fft=False.\n",
      "  FutureWarning\n"
     ]
    },
    {
     "ename": "ValueError",
     "evalue": "x is required to have ndim 1 but has ndim 2",
     "output_type": "error",
     "traceback": [
      "\u001b[0;31m---------------------------------------------------------------------------\u001b[0m",
      "\u001b[0;31mValueError\u001b[0m                                Traceback (most recent call last)",
      "\u001b[0;32m<ipython-input-22-9de35f93ebf8>\u001b[0m in \u001b[0;36m<module>\u001b[0;34m\u001b[0m\n\u001b[0;32m----> 1\u001b[0;31m \u001b[0macf\u001b[0m\u001b[0;34m(\u001b[0m\u001b[0mt_swapped\u001b[0m\u001b[0;34m[\u001b[0m\u001b[0;36m0\u001b[0m\u001b[0;34m,\u001b[0m \u001b[0;34m:\u001b[0m\u001b[0;34m,\u001b[0m \u001b[0;34m:\u001b[0m\u001b[0;34m]\u001b[0m\u001b[0;34m)\u001b[0m\u001b[0;34m\u001b[0m\u001b[0;34m\u001b[0m\u001b[0m\n\u001b[0m",
      "\u001b[0;32m~/miniconda3/envs/pytorch/lib/python3.7/site-packages/statsmodels/tsa/stattools.py\u001b[0m in \u001b[0;36macf\u001b[0;34m(x, unbiased, nlags, qstat, fft, alpha, missing)\u001b[0m\n\u001b[1;32m    573\u001b[0m         )\n\u001b[1;32m    574\u001b[0m         \u001b[0mfft\u001b[0m \u001b[0;34m=\u001b[0m \u001b[0;32mFalse\u001b[0m\u001b[0;34m\u001b[0m\u001b[0;34m\u001b[0m\u001b[0m\n\u001b[0;32m--> 575\u001b[0;31m     \u001b[0mx\u001b[0m \u001b[0;34m=\u001b[0m \u001b[0marray_like\u001b[0m\u001b[0;34m(\u001b[0m\u001b[0mx\u001b[0m\u001b[0;34m,\u001b[0m \u001b[0;34m'x'\u001b[0m\u001b[0;34m)\u001b[0m\u001b[0;34m\u001b[0m\u001b[0;34m\u001b[0m\u001b[0m\n\u001b[0m\u001b[1;32m    576\u001b[0m     \u001b[0mnobs\u001b[0m \u001b[0;34m=\u001b[0m \u001b[0mlen\u001b[0m\u001b[0;34m(\u001b[0m\u001b[0mx\u001b[0m\u001b[0;34m)\u001b[0m  \u001b[0;31m# TODO: should this shrink for missing='drop' and NaNs in x?\u001b[0m\u001b[0;34m\u001b[0m\u001b[0;34m\u001b[0m\u001b[0m\n\u001b[1;32m    577\u001b[0m     \u001b[0mavf\u001b[0m \u001b[0;34m=\u001b[0m \u001b[0macovf\u001b[0m\u001b[0;34m(\u001b[0m\u001b[0mx\u001b[0m\u001b[0;34m,\u001b[0m \u001b[0munbiased\u001b[0m\u001b[0;34m=\u001b[0m\u001b[0munbiased\u001b[0m\u001b[0;34m,\u001b[0m \u001b[0mdemean\u001b[0m\u001b[0;34m=\u001b[0m\u001b[0;32mTrue\u001b[0m\u001b[0;34m,\u001b[0m \u001b[0mfft\u001b[0m\u001b[0;34m=\u001b[0m\u001b[0mfft\u001b[0m\u001b[0;34m,\u001b[0m \u001b[0mmissing\u001b[0m\u001b[0;34m=\u001b[0m\u001b[0mmissing\u001b[0m\u001b[0;34m)\u001b[0m\u001b[0;34m\u001b[0m\u001b[0;34m\u001b[0m\u001b[0m\n",
      "\u001b[0;32m~/miniconda3/envs/pytorch/lib/python3.7/site-packages/statsmodels/tools/validation/validation.py\u001b[0m in \u001b[0;36marray_like\u001b[0;34m(obj, name, dtype, ndim, maxdim, shape, order, contiguous, optional)\u001b[0m\n\u001b[1;32m    134\u001b[0m         \u001b[0;32mif\u001b[0m \u001b[0marr\u001b[0m\u001b[0;34m.\u001b[0m\u001b[0mndim\u001b[0m \u001b[0;34m!=\u001b[0m \u001b[0mndim\u001b[0m\u001b[0;34m:\u001b[0m\u001b[0;34m\u001b[0m\u001b[0;34m\u001b[0m\u001b[0m\n\u001b[1;32m    135\u001b[0m             \u001b[0mmsg\u001b[0m \u001b[0;34m=\u001b[0m \u001b[0;34m'{0} is required to have ndim {1} but has ndim {2}'\u001b[0m\u001b[0;34m\u001b[0m\u001b[0;34m\u001b[0m\u001b[0m\n\u001b[0;32m--> 136\u001b[0;31m             \u001b[0;32mraise\u001b[0m \u001b[0mValueError\u001b[0m\u001b[0;34m(\u001b[0m\u001b[0mmsg\u001b[0m\u001b[0;34m.\u001b[0m\u001b[0mformat\u001b[0m\u001b[0;34m(\u001b[0m\u001b[0mname\u001b[0m\u001b[0;34m,\u001b[0m \u001b[0mndim\u001b[0m\u001b[0;34m,\u001b[0m \u001b[0marr\u001b[0m\u001b[0;34m.\u001b[0m\u001b[0mndim\u001b[0m\u001b[0;34m)\u001b[0m\u001b[0;34m)\u001b[0m\u001b[0;34m\u001b[0m\u001b[0;34m\u001b[0m\u001b[0m\n\u001b[0m\u001b[1;32m    137\u001b[0m     \u001b[0;32mif\u001b[0m \u001b[0mshape\u001b[0m \u001b[0;32mis\u001b[0m \u001b[0;32mnot\u001b[0m \u001b[0;32mNone\u001b[0m\u001b[0;34m:\u001b[0m\u001b[0;34m\u001b[0m\u001b[0;34m\u001b[0m\u001b[0m\n\u001b[1;32m    138\u001b[0m         \u001b[0;32mfor\u001b[0m \u001b[0mactual\u001b[0m\u001b[0;34m,\u001b[0m \u001b[0mreq\u001b[0m \u001b[0;32min\u001b[0m \u001b[0mzip\u001b[0m\u001b[0;34m(\u001b[0m\u001b[0marr\u001b[0m\u001b[0;34m.\u001b[0m\u001b[0mshape\u001b[0m\u001b[0;34m,\u001b[0m \u001b[0mshape\u001b[0m\u001b[0;34m)\u001b[0m\u001b[0;34m:\u001b[0m\u001b[0;34m\u001b[0m\u001b[0;34m\u001b[0m\u001b[0m\n",
      "\u001b[0;31mValueError\u001b[0m: x is required to have ndim 1 but has ndim 2"
     ]
    }
   ],
   "source": [
    "acf(t_swapped[0, :, :])"
   ]
  },
  {
   "cell_type": "code",
   "execution_count": 40,
   "metadata": {},
   "outputs": [
    {
     "data": {
      "text/plain": [
       "42.29423329027796"
      ]
     },
     "execution_count": 40,
     "metadata": {},
     "output_type": "execute_result"
    }
   ],
   "source": [
    "t_swapped.shape[1] / (1 + 2 * np.sum(acf(t_swapped[0, 500:, 0], nlags = 200)))"
   ]
  },
  {
   "cell_type": "code",
   "execution_count": 41,
   "metadata": {},
   "outputs": [],
   "source": [
    "acf_vals = acf(t_swapped[0, 1000:, 0], nlags = 200)\n",
    "\n"
   ]
  },
  {
   "cell_type": "code",
   "execution_count": 58,
   "metadata": {},
   "outputs": [
    {
     "data": {
      "text/plain": [
       "10"
      ]
     },
     "execution_count": 58,
     "metadata": {},
     "output_type": "execute_result"
    }
   ],
   "source": [
    "len(np.argwhere(acf_vals < -.01))"
   ]
  },
  {
   "cell_type": "code",
   "execution_count": 21,
   "metadata": {},
   "outputs": [],
   "source": [
    "from statsmodels.tsa.ar_model import AutoReg, ar_select_order\n",
    "from statsmodels.tsa.api import acf, pacf, graphics"
   ]
  },
  {
   "cell_type": "code",
   "execution_count": 15,
   "metadata": {},
   "outputs": [],
   "source": [
    "mod = AutoReg(t_swapped[0, :, 2].T, 100)\n",
    "res = mod.fit()"
   ]
  },
  {
   "cell_type": "code",
   "execution_count": 28,
   "metadata": {},
   "outputs": [
    {
     "ename": "AttributeError",
     "evalue": "'AutoRegResults' object has no attribute 'sd'",
     "output_type": "error",
     "traceback": [
      "\u001b[0;31m---------------------------------------------------------------------------\u001b[0m",
      "\u001b[0;31mAttributeError\u001b[0m                            Traceback (most recent call last)",
      "\u001b[0;32m<ipython-input-28-e0bd58a512b4>\u001b[0m in \u001b[0;36m<module>\u001b[0;34m\u001b[0m\n\u001b[1;32m      2\u001b[0m \u001b[0msel\u001b[0m\u001b[0;34m.\u001b[0m\u001b[0mar_lags\u001b[0m\u001b[0;34m\u001b[0m\u001b[0;34m\u001b[0m\u001b[0m\n\u001b[1;32m      3\u001b[0m \u001b[0mres\u001b[0m \u001b[0;34m=\u001b[0m \u001b[0msel\u001b[0m\u001b[0;34m.\u001b[0m\u001b[0mmodel\u001b[0m\u001b[0;34m.\u001b[0m\u001b[0mfit\u001b[0m\u001b[0;34m(\u001b[0m\u001b[0;34m)\u001b[0m\u001b[0;34m\u001b[0m\u001b[0;34m\u001b[0m\u001b[0m\n\u001b[0;32m----> 4\u001b[0;31m \u001b[0mres\u001b[0m\u001b[0;34m.\u001b[0m\u001b[0msd\u001b[0m\u001b[0;34m\u001b[0m\u001b[0;34m\u001b[0m\u001b[0m\n\u001b[0m",
      "\u001b[0;32m~/miniconda3/envs/pytorch/lib/python3.7/site-packages/statsmodels/base/wrapper.py\u001b[0m in \u001b[0;36m__getattribute__\u001b[0;34m(self, attr)\u001b[0m\n\u001b[1;32m     34\u001b[0m             \u001b[0;32mpass\u001b[0m\u001b[0;34m\u001b[0m\u001b[0;34m\u001b[0m\u001b[0m\n\u001b[1;32m     35\u001b[0m \u001b[0;34m\u001b[0m\u001b[0m\n\u001b[0;32m---> 36\u001b[0;31m         \u001b[0mobj\u001b[0m \u001b[0;34m=\u001b[0m \u001b[0mgetattr\u001b[0m\u001b[0;34m(\u001b[0m\u001b[0mresults\u001b[0m\u001b[0;34m,\u001b[0m \u001b[0mattr\u001b[0m\u001b[0;34m)\u001b[0m\u001b[0;34m\u001b[0m\u001b[0;34m\u001b[0m\u001b[0m\n\u001b[0m\u001b[1;32m     37\u001b[0m         \u001b[0mdata\u001b[0m \u001b[0;34m=\u001b[0m \u001b[0mresults\u001b[0m\u001b[0;34m.\u001b[0m\u001b[0mmodel\u001b[0m\u001b[0;34m.\u001b[0m\u001b[0mdata\u001b[0m\u001b[0;34m\u001b[0m\u001b[0;34m\u001b[0m\u001b[0m\n\u001b[1;32m     38\u001b[0m         \u001b[0mhow\u001b[0m \u001b[0;34m=\u001b[0m \u001b[0mself\u001b[0m\u001b[0;34m.\u001b[0m\u001b[0m_wrap_attrs\u001b[0m\u001b[0;34m.\u001b[0m\u001b[0mget\u001b[0m\u001b[0;34m(\u001b[0m\u001b[0mattr\u001b[0m\u001b[0;34m)\u001b[0m\u001b[0;34m\u001b[0m\u001b[0;34m\u001b[0m\u001b[0m\n",
      "\u001b[0;31mAttributeError\u001b[0m: 'AutoRegResults' object has no attribute 'sd'"
     ]
    }
   ],
   "source": [
    "sel = ar_select_order(t_swapped[0, :, 1],maxlag = 10, seasonal = False)\n",
    "sel.ar_lags\n",
    "res = sel.model.fit()"
   ]
  },
  {
   "cell_type": "code",
   "execution_count": 60,
   "metadata": {},
   "outputs": [
    {
     "data": {
      "text/plain": [
       "array([ 0.38502249, -1.35027308, -8.09199891])"
      ]
     },
     "execution_count": 60,
     "metadata": {},
     "output_type": "execute_result"
    }
   ],
   "source": [
    "np.random.normal(loc = 0 , scale = [0.1, 1, 20], size = 3)"
   ]
  },
  {
   "cell_type": "code",
   "execution_count": 63,
   "metadata": {},
   "outputs": [
    {
     "data": {
      "text/plain": [
       "(3,)"
      ]
     },
     "execution_count": 63,
     "metadata": {},
     "output_type": "execute_result"
    }
   ],
   "source": [
    "np.array([0, 1, 2]).shape"
   ]
  },
  {
   "cell_type": "code",
   "execution_count": 29,
   "metadata": {},
   "outputs": [
    {
     "data": {
      "text/plain": [
       "dict_keys(['_results', '__doc__'])"
      ]
     },
     "execution_count": 29,
     "metadata": {},
     "output_type": "execute_result"
    }
   ],
   "source": [
    "res.__dict__.keys()"
   ]
  },
  {
   "cell_type": "code",
   "execution_count": 34,
   "metadata": {},
   "outputs": [
    {
     "data": {
      "text/html": [
       "<table class=\"simpletable\">\n",
       "<caption>AutoReg Model Results</caption>\n",
       "<tr>\n",
       "  <th>Dep. Variable:</th>         <td>y</td>        <th>  No. Observations:  </th>   <td>3500</td>   \n",
       "</tr>\n",
       "<tr>\n",
       "  <th>Model:</th>            <td>AutoReg(1)</td>    <th>  Log Likelihood     </th> <td>21380.195</td>\n",
       "</tr>\n",
       "<tr>\n",
       "  <th>Method:</th>         <td>Conditional MLE</td> <th>  S.D. of innovations</th>   <td>0.001</td>  \n",
       "</tr>\n",
       "<tr>\n",
       "  <th>Date:</th>          <td>Mon, 27 Jan 2020</td> <th>  AIC                </th>  <td>-15.057</td> \n",
       "</tr>\n",
       "<tr>\n",
       "  <th>Time:</th>              <td>18:34:02</td>     <th>  BIC                </th>  <td>-15.052</td> \n",
       "</tr>\n",
       "<tr>\n",
       "  <th>Sample:</th>                <td>1</td>        <th>  HQIC               </th>  <td>-15.055</td> \n",
       "</tr>\n",
       "<tr>\n",
       "  <th></th>                     <td>3500</td>       <th>                     </th>     <td> </td>    \n",
       "</tr>\n",
       "</table>\n",
       "<table class=\"simpletable\">\n",
       "<tr>\n",
       "      <td></td>         <th>coef</th>     <th>std err</th>      <th>z</th>      <th>P>|z|</th>  <th>[0.025</th>    <th>0.975]</th>  \n",
       "</tr>\n",
       "<tr>\n",
       "  <th>intercept</th> <td>    0.0078</td> <td>    0.001</td> <td>    5.318</td> <td> 0.000</td> <td>    0.005</td> <td>    0.011</td>\n",
       "</tr>\n",
       "<tr>\n",
       "  <th>y.L1</th>      <td>    0.9838</td> <td>    0.003</td> <td>  322.906</td> <td> 0.000</td> <td>    0.978</td> <td>    0.990</td>\n",
       "</tr>\n",
       "</table>\n",
       "<table class=\"simpletable\">\n",
       "<caption>Roots</caption>\n",
       "<tr>\n",
       "    <td></td>   <th>            Real</th>  <th>         Imaginary</th> <th>         Modulus</th>  <th>        Frequency</th>\n",
       "</tr>\n",
       "<tr>\n",
       "  <th>AR.1</th> <td>           1.0165</td> <td>          +0.0000j</td> <td>           1.0165</td> <td>           0.0000</td>\n",
       "</tr>\n",
       "</table>"
      ],
      "text/plain": [
       "<class 'statsmodels.iolib.summary.Summary'>\n",
       "\"\"\"\n",
       "                            AutoReg Model Results                             \n",
       "==============================================================================\n",
       "Dep. Variable:                      y   No. Observations:                 3500\n",
       "Model:                     AutoReg(1)   Log Likelihood               21380.195\n",
       "Method:               Conditional MLE   S.D. of innovations              0.001\n",
       "Date:                Mon, 27 Jan 2020   AIC                            -15.057\n",
       "Time:                        18:34:02   BIC                            -15.052\n",
       "Sample:                             1   HQIC                           -15.055\n",
       "                                 3500                                         \n",
       "==============================================================================\n",
       "                 coef    std err          z      P>|z|      [0.025      0.975]\n",
       "------------------------------------------------------------------------------\n",
       "intercept      0.0078      0.001      5.318      0.000       0.005       0.011\n",
       "y.L1           0.9838      0.003    322.906      0.000       0.978       0.990\n",
       "                                    Roots                                    \n",
       "=============================================================================\n",
       "                  Real          Imaginary           Modulus         Frequency\n",
       "-----------------------------------------------------------------------------\n",
       "AR.1            1.0165           +0.0000j            1.0165            0.0000\n",
       "-----------------------------------------------------------------------------\n",
       "\"\"\""
      ]
     },
     "execution_count": 34,
     "metadata": {},
     "output_type": "execute_result"
    }
   ],
   "source": [
    "res.summary()"
   ]
  },
  {
   "cell_type": "code",
   "execution_count": 51,
   "metadata": {},
   "outputs": [
    {
     "data": {
      "text/plain": [
       "array([0.00781153, 0.98379882])"
      ]
     },
     "execution_count": 51,
     "metadata": {},
     "output_type": "execute_result"
    }
   ],
   "source": [
    "res.params"
   ]
  },
  {
   "cell_type": "code",
   "execution_count": 52,
   "metadata": {},
   "outputs": [
    {
     "data": {
      "text/plain": [
       "2.8848486721030227e-07"
      ]
     },
     "execution_count": 52,
     "metadata": {},
     "output_type": "execute_result"
    }
   ],
   "source": [
    "res.sigma2"
   ]
  },
  {
   "cell_type": "code",
   "execution_count": 55,
   "metadata": {},
   "outputs": [
    {
     "data": {
      "text/plain": [
       "0.0010990816295487348"
      ]
     },
     "execution_count": 55,
     "metadata": {},
     "output_type": "execute_result"
    }
   ],
   "source": [
    "#res.sigma2 / np.square(1 - np.sum(res.params[1:]))"
   ]
  },
  {
   "cell_type": "code",
   "execution_count": 198,
   "metadata": {},
   "outputs": [],
   "source": [
    "def get_geweke_diags(chains, \n",
    "                     split = 0.3, \n",
    "                     skip = 0.5):\n",
    "    \n",
    "    \"\"\"Function computes geweke statistic for markov chains\"\"\"\n",
    "    # Check dimensionality of chains\n",
    "    # If single chain add dimesion\n",
    "    n_dims = len(chains.shape)\n",
    "    if n_dims == 2:\n",
    "        chains = np.expand_dims(chains, axis = 0)\n",
    "\n",
    "    # Compute split demarcations as integers to be used for indexing\n",
    "    n_floor = int(chains.shape[1] * (split + skip))\n",
    "    n_skip = int(chains.shape[1] * (skip))\n",
    "    \n",
    "    # Initialize the vector in which we store z-scores\n",
    "    z_scores = np.zeros(chains.shape[0] * chains.shape[2])\n",
    "    \n",
    "    # Main loop that computes statistics of interest\n",
    "    for i in range(chains.shape[0]):\n",
    "        for j in range(chains.shape[2]):\n",
    "            # Get Autoregression coefficients for each part of split of chain\n",
    "            sel_1 = ar_select_order(chains[i, n_skip:n_floor, j], maxlag = 10, seasonal = False)\n",
    "            sel_2 = ar_select_order(chains[i, n_floor:, j], maxlag = 10, seasonal = False)\n",
    "            res_1 = sel_1.model.fit()\n",
    "            res_2 = sel_2.model.fit()\n",
    "            \n",
    "            # Compute the Autoregression corrected respective standard deviations\n",
    "            s_1 = res_1.sigma2 / np.square(1 - np.sum(res_1.params[1:]))\n",
    "            s_2 = res_2.sigma2 / np.square(1 - np.sum(res_2.params[1:]))\n",
    "            \n",
    "            # Compute (absolute) z scores that form the basis of the test of whether or not to continue sampling\n",
    "            z_scores[i * chains.shape[2] + j] = np.abs((np.mean(chains[i, n_skip:n_floor, j]) - np.mean(chains[i, n_floor:, j])) / np.sqrt((1 / (n_floor - n_skip)) * s_1  + (1 / (chains.shape[1] - n_floor)) * s_2))\n",
    "    \n",
    "    # Continuation check: All absolute z scores below 2? If yes stop sampling\n",
    "    continue_ = int((np.sum(z_scores > 2)) > 0)\n",
    "    return continue_, z_scores"
   ]
  },
  {
   "cell_type": "code",
   "execution_count": 196,
   "metadata": {},
   "outputs": [
    {
     "name": "stdout",
     "output_type": "stream",
     "text": [
      "(1, 3500, 5)\n"
     ]
    }
   ],
   "source": [
    "c, z = get_geweke_diags(chains = t_swapped[7, :, :])"
   ]
  },
  {
   "cell_type": "code",
   "execution_count": 223,
   "metadata": {},
   "outputs": [
    {
     "data": {
      "text/plain": [
       "(array([0.83208228, 0.37451127, 0.32953347, 1.02749706, 0.93862603]), 0)"
      ]
     },
     "execution_count": 223,
     "metadata": {},
     "output_type": "execute_result"
    }
   ],
   "source": [
    "z,c"
   ]
  },
  {
   "cell_type": "code",
   "execution_count": 110,
   "metadata": {},
   "outputs": [
    {
     "data": {
      "text/plain": [
       "[<matplotlib.lines.Line2D at 0x7f0ae405c358>]"
      ]
     },
     "execution_count": 110,
     "metadata": {},
     "output_type": "execute_result"
    },
    {
     "data": {
      "image/png": "[encoded data removed]",
      "text/plain": [
       "<Figure size 432x288 with 1 Axes>"
      ]
     },
     "metadata": {
      "needs_background": "light"
     },
     "output_type": "display_data"
    }
   ],
   "source": [
    "plt.plot(t_swapped[10, :, 1])"
   ]
  },
  {
   "cell_type": "code",
   "execution_count": 231,
   "metadata": {},
   "outputs": [],
   "source": []
  },
  {
   "cell_type": "code",
   "execution_count": 79,
   "metadata": {},
   "outputs": [
    {
     "data": {
      "text/plain": [
       "[<matplotlib.lines.Line2D at 0x7f0aeda315c0>]"
      ]
     },
     "execution_count": 79,
     "metadata": {},
     "output_type": "execute_result"
    },
    {
     "data": {
      "image/png": "[encoded data removed]",
      "text/plain": [
       "<Figure size 432x288 with 1 Axes>"
      ]
     },
     "metadata": {
      "needs_background": "light"
     },
     "output_type": "display_data"
    }
   ],
   "source": [
    "plt.plot(t[2][:, 6, 1])"
   ]
  },
  {
   "cell_type": "code",
   "execution_count": 76,
   "metadata": {},
   "outputs": [
    {
     "data": {
      "text/plain": [
       "(4000, 20, 5)"
      ]
     },
     "execution_count": 76,
     "metadata": {},
     "output_type": "execute_result"
    }
   ],
   "source": [
    "dia_"
   ]
  }
 ],
 "metadata": {
  "kernelspec": {
   "display_name": "Python 3",
   "language": "python",
   "name": "python3"
  },
  "language_info": {
   "codemirror_mode": {
    "name": "ipython",
    "version": 3
   },
   "file_extension": ".py",
   "mimetype": "text/x-python",
   "name": "python",
   "nbconvert_exporter": "python",
   "pygments_lexer": "ipython3",
   "version": "3.7.3"
  }
 },
 "nbformat": 4,
 "nbformat_minor": 4
}
