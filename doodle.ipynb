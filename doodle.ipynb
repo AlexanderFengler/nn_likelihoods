{
 "cells": [
  {
   "cell_type": "code",
   "execution_count": 1,
   "metadata": {},
   "outputs": [],
   "source": [
    "# Load packages\n",
    "import tensorflow as tf\n",
    "import pandas as pd\n",
    "from tensorflow import keras\n",
    "import numpy as np\n",
    "import pandas as pd\n",
    "import os\n",
    "import scipy as scp\n",
    "import scipy.stats as scps\n",
    "import pickle\n",
    "import matplotlib.pyplot as plt\n",
    "from datetime import datetime\n",
    "import time\n",
    "import scipy.optimize as scp_opt\n",
    "\n",
    "# Load my own functions\n",
    "#import dnnregressor_train_eval_keras as dnnk\n",
    "#from kde_training_utilities import kde_load_data\n",
    "#import make_data_wfpt as mdw"
   ]
  },
  {
   "cell_type": "code",
   "execution_count": 3,
   "metadata": {},
   "outputs": [],
   "source": [
    "import samplers.diagnostics as diag_"
   ]
  },
  {
   "cell_type": "code",
   "execution_count": 4,
   "metadata": {},
   "outputs": [],
   "source": [
    "from tensorflow.keras.layers import Input, Dense\n",
    "from tensorflow.keras.models import Model"
   ]
  },
  {
   "cell_type": "code",
   "execution_count": 4,
   "metadata": {},
   "outputs": [
    {
     "data": {
      "text/plain": [
       "'0.25.3'"
      ]
     },
     "execution_count": 4,
     "metadata": {},
     "output_type": "execute_result"
    }
   ],
   "source": [
    "pd.__version__"
   ]
  },
  {
   "cell_type": "code",
   "execution_count": 10,
   "metadata": {},
   "outputs": [],
   "source": [
    "x = [0, 1, 2]"
   ]
  },
  {
   "cell_type": "code",
   "execution_count": 11,
   "metadata": {},
   "outputs": [],
   "source": [
    "x_tiled = np.tile(x, (10, 1))"
   ]
  },
  {
   "cell_type": "code",
   "execution_count": 13,
   "metadata": {},
   "outputs": [
    {
     "data": {
      "text/plain": [
       "(10, 3)"
      ]
     },
     "execution_count": 13,
     "metadata": {},
     "output_type": "execute_result"
    }
   ],
   "source": [
    "x_tiled.shape"
   ]
  },
  {
   "cell_type": "code",
   "execution_count": 3,
   "metadata": {},
   "outputs": [],
   "source": [
    "x = np.linspace(1, 100)"
   ]
  },
  {
   "cell_type": "code",
   "execution_count": 7,
   "metadata": {},
   "outputs": [],
   "source": [
    "from scipy.stats import mode\n",
    "a, b = mode(x)"
   ]
  },
  {
   "cell_type": "code",
   "execution_count": 9,
   "metadata": {},
   "outputs": [
    {
     "data": {
      "text/plain": [
       "array([1])"
      ]
     },
     "execution_count": 9,
     "metadata": {},
     "output_type": "execute_result"
    }
   ],
   "source": [
    "b"
   ]
  },
  {
   "cell_type": "code",
   "execution_count": 52,
   "metadata": {},
   "outputs": [
    {
     "data": {
      "text/plain": [
       "array([  0,   1,   2,   3,   4,   5,   6,   7,   8,   9,  10,  11,  12,\n",
       "        13,  14,  15,  16,  17,  18,  19,  20,  21,  22,  23,  24,  25,\n",
       "        26,  27,  28,  29,  30,  31,  32,  33,  34,  35,  36,  37,  38,\n",
       "        39,  40,  41,  42,  43,  44,  45,  46,  47,  48,  49,  50,  51,\n",
       "        52,  53,  54,  55,  56,  57,  58,  59,  60,  61,  62,  63,  64,\n",
       "        65,  66,  67,  68,  69,  70,  71,  72,  73,  74,  75,  76,  77,\n",
       "        78,  79,  80,  81,  82,  83,  84,  85,  86,  87,  88,  89,  90,\n",
       "        91,  92,  93,  94,  95,  96,  97,  98,  99, 100, 101, 102, 103,\n",
       "       104, 105, 106, 107, 108, 109, 110, 111, 112, 113, 114, 115, 116,\n",
       "       117, 118, 119, 120, 121, 122, 123, 124, 125, 126, 127, 128, 129,\n",
       "       130, 131, 132, 133, 134, 135, 136, 137, 138, 139, 140, 141, 142,\n",
       "       143, 144, 145, 146, 147, 148, 149])"
      ]
     },
     "execution_count": 52,
     "metadata": {},
     "output_type": "execute_result"
    }
   ],
   "source": [
    "np.arange(0, 150, 1)"
   ]
  },
  {
   "cell_type": "code",
   "execution_count": null,
   "metadata": {},
   "outputs": [],
   "source": [
    "inputs = Input(shape = (7,))\n",
    "x = Dense(20, activation = 'relu')(inputs)\n",
    "x = Dense(40, activation = 'relu')(x)\n",
    "x = Dense(60, activation = 'relu')(x)\n",
    "x = Dense(80, activation = 'relu')(x)\n",
    "x = Dense(100, activation = 'relu')(x)\n",
    "x = Dense(120, activation = 'relu')(x)\n",
    "predictions = Dense(1, activation = 'linear')(x)\n",
    "model = Model(inputs = inputs, outputs = predictions)\n",
    "model.compile(optimizer = 'nadam',\n",
    "              loss = 'mse',\n",
    "              metrics = ['mse'])"
   ]
  },
  {
   "cell_type": "code",
   "execution_count": null,
   "metadata": {},
   "outputs": [],
   "source": [
    "data = np.random.uniform(low = -1, high = 1, size = ((100000000, 7)))\n",
    "labels = np.matmul(data, np.array([1, 2, 3, 4, 5, 6, 7]))\n",
    "labels = labels + np.random.normal(loc = 0, scale = 0.1, size = 100000000)\n",
    "#labesl = np.random.uniform(low = -1, high = 1, size = ((100000000, 1)))"
   ]
  },
  {
   "cell_type": "code",
   "execution_count": null,
   "metadata": {},
   "outputs": [],
   "source": [
    "data_test = np.random.uniform(low = -1, high = 1, size = ((10000000, 7)))\n",
    "labels_test = np.matmul(data_test, np.array([1, 2, 3, 4, 5, 6, 7]))\n",
    "labels_test = labels_test + np.random.normal(loc = 0, scale = 0.1, size = 10000000)"
   ]
  },
  {
   "cell_type": "code",
   "execution_count": null,
   "metadata": {},
   "outputs": [],
   "source": [
    "out = model.fit(data[:,:7],\n",
    "                  labels,\n",
    "                  epochs = 20,\n",
    "                  validation_data = ((data_test, labels_test)),\n",
    "                  batch_size = 200000)"
   ]
  },
  {
   "cell_type": "code",
   "execution_count": null,
   "metadata": {},
   "outputs": [],
   "source": [
    "from scipy.stats import gamma\n",
    "from scipy.stats import weibull"
   ]
  },
  {
   "cell_type": "code",
   "execution_count": null,
   "metadata": {},
   "outputs": [],
   "source": [
    "gamma.(1, a = 1, scale = 0.1)"
   ]
  },
  {
   "cell_type": "code",
   "execution_count": null,
   "metadata": {},
   "outputs": [],
   "source": [
    "weibull.pdf(a = 1, scale = 0.1)"
   ]
  },
  {
   "cell_type": "code",
   "execution_count": null,
   "metadata": {},
   "outputs": [],
   "source": [
    "np.power(3, 1/3)"
   ]
  },
  {
   "cell_type": "code",
   "execution_count": null,
   "metadata": {},
   "outputs": [],
   "source": [
    "(0) ** (1/3)"
   ]
  },
  {
   "cell_type": "code",
   "execution_count": null,
   "metadata": {},
   "outputs": [],
   "source": [
    "a = ['a', 'b', 'c'] + ['d', 'e']"
   ]
  },
  {
   "cell_type": "code",
   "execution_count": null,
   "metadata": {},
   "outputs": [],
   "source": [
    "dir_ = '/home/afengler/git_repos/nn_likelihoods/data_storage/kde/weibull/train_test_data/'\n",
    "files_ = os.listdir(dir_)\n",
    "files_.sort()\n",
    "test_label_files = []\n",
    "train_label_files = []\n",
    "test_features_files = []\n",
    "train_features_files = []\n",
    "\n",
    "for file_ in files_:\n",
    "    if file_[:6] == 'test_l':\n",
    "        test_label_files.append(file_)\n",
    "    if file_[:6] == 'test_f':\n",
    "        test_features_files.append(file_)\n",
    "    if file_[:7] == 'train_l':\n",
    "        train_label_files.append(file_)\n",
    "    if file_[:7] == 'train_f':\n",
    "        train_features_files.append(file_)"
   ]
  },
  {
   "cell_type": "code",
   "execution_count": null,
   "metadata": {},
   "outputs": [],
   "source": [
    "test_label_files.pop(0)\n",
    "test_features_files.pop(0)\n",
    "train_label_files.pop(0)\n",
    "train_features_files.pop(0)"
   ]
  },
  {
   "cell_type": "code",
   "execution_count": null,
   "metadata": {},
   "outputs": [],
   "source": [
    "test_label_files\n",
    "train_label_files"
   ]
  },
  {
   "cell_type": "code",
   "execution_count": null,
   "metadata": {},
   "outputs": [],
   "source": [
    "data = pd.concat([pd.read_pickle(dir_ + file_) for file_ in test_label_files])\n",
    "data.reset_index(drop = True, inplace = True)\n",
    "data.to_pickle('/home/afengler/git_repos/nn_likelihoods/data_storage/kde/weibull/train_test_data/test_labels.pickle',\n",
    "              protocol = 4)"
   ]
  },
  {
   "cell_type": "code",
   "execution_count": null,
   "metadata": {},
   "outputs": [],
   "source": []
  },
  {
   "cell_type": "code",
   "execution_count": null,
   "metadata": {},
   "outputs": [],
   "source": [
    "data = pd.concat([pd.read_pickle(dir_ + file_) for file_ in test_features_files])\n",
    "data.reset_index(drop = True, inplace = True)\n",
    "data.to_pickle('/home/afengler/git_repos/nn_likelihoods/data_storage/kde/weibull/train_test_data/test_features.pickle',\n",
    "              protocol = 4)"
   ]
  },
  {
   "cell_type": "code",
   "execution_count": null,
   "metadata": {},
   "outputs": [],
   "source": []
  },
  {
   "cell_type": "code",
   "execution_count": null,
   "metadata": {},
   "outputs": [],
   "source": [
    "data = pd.concat([pd.read_pickle(dir_ + file_) for file_ in train_features_files])\n",
    "data.reset_index(drop = True, inplace = True)\n",
    "data.to_pickle('/home/afengler/git_repos/nn_likelihoods/data_storage/kde/weibull/train_test_data/train_features.pickle',\n",
    "              protocol = 4)"
   ]
  },
  {
   "cell_type": "code",
   "execution_count": null,
   "metadata": {},
   "outputs": [],
   "source": []
  },
  {
   "cell_type": "code",
   "execution_count": null,
   "metadata": {},
   "outputs": [],
   "source": [
    "data = pd.concat([pd.read_pickle(dir_ + file_) for file_ in train_label_files])\n",
    "data.reset_index(drop = True, inplace = True)\n",
    "data.to_pickle('/home/afengler/git_repos/nn_likelihoods/data_storage/kde/weibull/train_test_data/train_labels.pickle',\n",
    "              protocol = 4)"
   ]
  },
  {
   "cell_type": "code",
   "execution_count": null,
   "metadata": {},
   "outputs": [],
   "source": [
    "data.to_pickle('/home/afengler/git_repos/nn_likelihoods/data_storage/kde/weibull/train_test_data/train_labels.pickle',\n",
    "              protocol = 4)"
   ]
  },
  {
   "cell_type": "code",
   "execution_count": null,
   "metadata": {},
   "outputs": [],
   "source": [
    "train_features, train_labels, test_features, test_labels = kde_load_data(folder = '/home/afengler/git_repos/nn_likelihoods/data_storage/kde/weibull/train_test_data/')"
   ]
  },
  {
   "cell_type": "code",
   "execution_count": null,
   "metadata": {},
   "outputs": [],
   "source": [
    "train_features.shape"
   ]
  },
  {
   "cell_type": "code",
   "execution_count": null,
   "metadata": {},
   "outputs": [],
   "source": [
    "train_labels.shape"
   ]
  },
  {
   "cell_type": "code",
   "execution_count": null,
   "metadata": {},
   "outputs": [],
   "source": [
    "test_features.shape"
   ]
  },
  {
   "cell_type": "code",
   "execution_count": null,
   "metadata": {},
   "outputs": [],
   "source": [
    "test_labels.shape"
   ]
  },
  {
   "cell_type": "code",
   "execution_count": null,
   "metadata": {},
   "outputs": [],
   "source": [
    "test_file = train_features.values"
   ]
  },
  {
   "cell_type": "code",
   "execution_count": null,
   "metadata": {},
   "outputs": [],
   "source": [
    "test_file.shape"
   ]
  },
  {
   "cell_type": "code",
   "execution_count": null,
   "metadata": {},
   "outputs": [],
   "source": [
    "177986205 + 19768803"
   ]
  },
  {
   "cell_type": "code",
   "execution_count": null,
   "metadata": {},
   "outputs": [],
   "source": [
    "#np.random.normal(size = (10, 10))\n",
    "t = pd.DataFrame(np.random.normal(size = (10, 10)))"
   ]
  },
  {
   "cell_type": "code",
   "execution_count": null,
   "metadata": {},
   "outputs": [],
   "source": [
    "t.reset_index(drop = True, inplace = True)"
   ]
  },
  {
   "cell_type": "code",
   "execution_count": null,
   "metadata": {},
   "outputs": [],
   "source": [
    "np.random.shuffle(t.values)"
   ]
  },
  {
   "cell_type": "code",
   "execution_count": null,
   "metadata": {},
   "outputs": [],
   "source": [
    "t"
   ]
  },
  {
   "cell_type": "code",
   "execution_count": 2,
   "metadata": {},
   "outputs": [],
   "source": [
    "import kde_training_utilities as kde_utils"
   ]
  },
  {
   "cell_type": "code",
   "execution_count": 3,
   "metadata": {},
   "outputs": [
    {
     "name": "stdout",
     "output_type": "stream",
     "text": [
      "writing test labels to file\n",
      "writing test features to file\n",
      "writing train labels to file\n",
      "writing train features to file\n"
     ]
    },
    {
     "data": {
      "text/plain": [
       "'success'"
      ]
     },
     "execution_count": 3,
     "metadata": {},
     "output_type": "execute_result"
    }
   ],
   "source": [
    "kde_utils.kde_make_train_test_split(folder = '/home/afengler/git_repos/nn_likelihoods/data_storage/kde/linear_collapse/train_test_data/')"
   ]
  },
  {
   "cell_type": "code",
   "execution_count": 3,
   "metadata": {},
   "outputs": [],
   "source": [
    "import numpy as np\n",
    "import matplotlib.pyplot as plt"
   ]
  },
  {
   "cell_type": "code",
   "execution_count": 5,
   "metadata": {},
   "outputs": [],
   "source": [
    "tada = np.random.uniform(low = 0, high = 50, size = 50000)\n"
   ]
  },
  {
   "cell_type": "code",
   "execution_count": 8,
   "metadata": {},
   "outputs": [
    {
     "data": {
      "text/plain": [
       "(array([56., 58., 42., 46., 55., 45., 49., 55., 50., 55., 60., 67., 54.,\n",
       "        42., 50., 47., 49., 42., 53., 42., 49., 36., 49., 51., 57., 52.,\n",
       "        57., 59., 48., 52., 53., 49., 51., 50., 51., 35., 52., 50., 53.,\n",
       "        50., 55., 48., 54., 58., 46., 42., 58., 56., 44., 46., 61., 44.,\n",
       "        38., 56., 51., 43., 72., 46., 49., 48., 39., 47., 37., 52., 51.,\n",
       "        58., 49., 48., 60., 59., 54., 48., 49., 53., 38., 55., 46., 42.,\n",
       "        44., 41., 54., 61., 56., 45., 44., 39., 54., 58., 54., 56., 57.,\n",
       "        43., 56., 64., 48., 55., 50., 47., 47., 40., 53., 45., 38., 42.,\n",
       "        30., 45., 55., 66., 51., 58., 58., 55., 44., 64., 63., 56., 48.,\n",
       "        50., 39., 40., 62., 48., 34., 52., 42., 44., 52., 51., 51., 52.,\n",
       "        61., 62., 48., 50., 54., 60., 48., 43., 61., 49., 52., 47., 49.,\n",
       "        50., 42., 47., 62., 55., 52., 35., 57., 57., 56., 48., 41., 56.,\n",
       "        48., 42., 44., 48., 36., 53., 47., 47., 50., 43., 52., 50., 47.,\n",
       "        55., 55., 47., 56., 57., 43., 48., 52., 44., 66., 50., 49., 46.,\n",
       "        57., 53., 49., 61., 63., 51., 63., 48., 54., 58., 56., 50., 57.,\n",
       "        52., 42., 49., 49., 43., 43., 47., 56., 58., 50., 41., 47., 42.,\n",
       "        57., 47., 48., 52., 44., 60., 44., 53., 60., 40., 55., 59., 50.,\n",
       "        37., 54., 55., 38., 40., 63., 37., 40., 43., 44., 37., 49., 56.,\n",
       "        51., 52., 52., 50., 64., 45., 42., 57., 59., 65., 55., 60., 50.,\n",
       "        48., 53., 49., 52., 48., 60., 50., 53., 50., 46., 47., 56., 50.,\n",
       "        53., 44., 58., 44., 53., 45., 44., 63., 38., 45., 44., 55., 76.,\n",
       "        54., 57., 59., 57., 47., 56., 49., 35., 42., 50., 47., 49., 67.,\n",
       "        57., 48., 49., 51., 51., 68., 58., 56., 58., 50., 44., 50., 51.,\n",
       "        59., 52., 52., 48., 45., 42., 45., 55., 51., 46., 46., 40., 43.,\n",
       "        51., 47., 52., 46., 51., 48., 45., 46., 48., 53., 53., 53., 51.,\n",
       "        51., 63., 62., 58., 48., 63., 49., 59., 52., 51., 46., 43., 43.,\n",
       "        53., 47., 52., 47., 52., 55., 49., 55., 31., 36., 54., 55., 40.,\n",
       "        48., 56., 40., 43., 52., 57., 51., 46., 53., 60., 58., 47., 52.,\n",
       "        41., 41., 43., 47., 60., 54., 41., 56., 52., 51., 50., 41., 50.,\n",
       "        47., 53., 47., 48., 50., 55., 51., 47., 41., 41., 54., 48., 61.,\n",
       "        48., 59., 39., 62., 65., 48., 47., 65., 58., 74., 52., 33., 56.,\n",
       "        57., 42., 46., 48., 51., 52., 56., 41., 52., 55., 66., 43., 48.,\n",
       "        48., 55., 54., 49., 52., 50., 48., 50., 45., 36., 52., 49., 44.,\n",
       "        50., 46., 53., 39., 62., 71., 34., 49., 45., 46., 52., 44., 43.,\n",
       "        57., 53., 46., 44., 57., 44., 60., 56., 52., 45., 43., 48., 40.,\n",
       "        46., 51., 51., 51., 37., 52., 61., 43., 60., 54., 50., 31., 41.,\n",
       "        54., 48., 58., 59., 49., 48., 35., 45., 42., 51., 59., 30., 55.,\n",
       "        62., 55., 62., 59., 45., 56., 52., 39., 53., 41., 61., 62., 54.,\n",
       "        54., 44., 57., 43., 49., 49., 44., 44., 43., 40., 40., 52., 41.,\n",
       "        49., 46., 58., 46., 42., 54., 55., 35., 48., 40., 38., 38., 47.,\n",
       "        50., 60., 43., 45., 55., 49., 44., 46., 58., 32., 52., 60., 50.,\n",
       "        57., 56., 45., 55., 53., 48., 57., 53., 44., 43., 46., 51., 52.,\n",
       "        49., 49., 52., 46., 45., 44., 50., 58., 47., 61., 62., 42., 46.,\n",
       "        59., 48., 56., 49., 42., 54., 64., 43., 53., 50., 37., 57., 42.,\n",
       "        33., 45., 61., 48., 44., 39., 51., 38., 44., 53., 64., 46., 51.,\n",
       "        46., 45., 57., 36., 59., 54., 51., 42., 56., 67., 40., 30., 59.,\n",
       "        56., 41., 47., 48., 37., 46., 57., 54., 46., 49., 55., 47., 49.,\n",
       "        50., 49., 62., 61., 51., 48., 46., 48., 48., 42., 50., 46., 54.,\n",
       "        48., 31., 54., 56., 55., 37., 55., 44., 59., 53., 49., 56., 58.,\n",
       "        47., 53., 52., 60., 34., 51., 54., 51., 57., 45., 61., 39., 55.,\n",
       "        42., 50., 56., 34., 49., 52., 48., 60., 54., 57., 43., 67., 42.,\n",
       "        40., 54., 46., 55., 45., 51., 55., 41., 51., 59., 58., 51., 54.,\n",
       "        48., 62., 51., 48., 47., 56., 49., 46., 54., 50., 40., 51., 53.,\n",
       "        45., 46., 41., 45., 58., 46., 49., 48., 40., 44., 48., 48., 50.,\n",
       "        60., 49., 72., 46., 48., 51., 46., 59., 53., 46., 58., 48., 61.,\n",
       "        53., 44., 44., 37., 47., 55., 44., 45., 49., 42., 52., 47., 51.,\n",
       "        54., 48., 47., 41., 45., 48., 41., 58., 47., 46., 45., 57., 54.,\n",
       "        42., 51., 63., 52., 49., 43., 53., 43., 59., 60., 52., 46., 55.,\n",
       "        52., 52., 60., 46., 48., 67., 56., 39., 41., 46., 52., 39., 56.,\n",
       "        47., 44., 59., 37., 46., 50., 49., 54., 45., 56., 46., 39., 43.,\n",
       "        49., 52., 56., 58., 54., 43., 43., 39., 56., 49., 42., 49., 46.,\n",
       "        37., 47., 44., 56., 65., 38., 32., 62., 44., 54., 68., 62., 34.,\n",
       "        51., 52., 44., 48., 46., 49., 36., 61., 54., 58., 39., 41., 47.,\n",
       "        54., 63., 68., 58., 56., 49., 42., 73., 39., 52., 38., 43., 53.,\n",
       "        64., 46., 55., 42., 51., 58., 37., 53., 51., 59., 55., 57., 47.,\n",
       "        59., 55., 50., 47., 57., 41., 50., 41., 59., 44., 45., 50., 51.,\n",
       "        53., 72., 61., 46., 49., 42., 48., 58., 60., 51., 38., 54., 43.,\n",
       "        48., 46., 58., 49., 54., 41., 52., 58., 51., 45., 66., 39., 43.,\n",
       "        52., 42., 48., 61., 46., 52., 47., 47., 46., 58., 51., 43., 53.,\n",
       "        45., 58., 49., 54., 48., 49., 44., 84., 56., 44., 69., 51., 50.,\n",
       "        46., 56., 43., 47., 49., 57., 41., 49., 53., 51., 56., 43., 48.,\n",
       "        48., 45., 37., 45., 44., 55., 48., 52., 54., 40., 59., 58., 52.,\n",
       "        62., 39., 51., 65., 42., 64., 45., 48., 54., 40., 43., 55., 51.,\n",
       "        49., 56., 48., 38., 49., 39., 57., 53., 35., 41., 51., 43., 73.,\n",
       "        38., 53., 58., 49., 52., 53., 47., 40., 43., 62., 57., 51., 46.,\n",
       "        41., 46., 60., 37., 58., 54., 42., 40., 40., 51., 30., 46., 44.,\n",
       "        58., 48., 59., 58., 52., 52., 52., 51., 48., 35., 45., 54.]),\n",
       " array([1.17573308e-03, 5.11734707e-02, 1.01171208e-01, ...,\n",
       "        4.98989179e+01, 4.99489156e+01, 4.99989134e+01]),\n",
       " <a list of 1000 Patch objects>)"
      ]
     },
     "execution_count": 8,
     "metadata": {},
     "output_type": "execute_result"
    },
    {
     "data": {
      "image/png": "[encoded data removed]",
      "text/plain": [
       "<Figure size 432x288 with 1 Axes>"
      ]
     },
     "metadata": {},
     "output_type": "display_data"
    }
   ],
   "source": [
    "plt.hist(tada, bins = 1000)"
   ]
  },
  {
   "cell_type": "code",
   "execution_count": 1,
   "metadata": {},
   "outputs": [],
   "source": [
    "mylist = []"
   ]
  },
  {
   "cell_type": "code",
   "execution_count": 4,
   "metadata": {},
   "outputs": [
    {
     "data": {
      "text/plain": [
       "(2,)"
      ]
     },
     "execution_count": 4,
     "metadata": {},
     "output_type": "execute_result"
    }
   ],
   "source": [
    "import numpy as np\n"
   ]
  },
  {
   "cell_type": "code",
   "execution_count": 6,
   "metadata": {},
   "outputs": [],
   "source": [
    "mylist.append(np.array([1,1]))"
   ]
  },
  {
   "cell_type": "code",
   "execution_count": 7,
   "metadata": {},
   "outputs": [
    {
     "data": {
      "text/plain": [
       "[array([1, 1]), array([1, 1])]"
      ]
     },
     "execution_count": 7,
     "metadata": {},
     "output_type": "execute_result"
    }
   ],
   "source": [
    "mylist"
   ]
  },
  {
   "cell_type": "code",
   "execution_count": 10,
   "metadata": {},
   "outputs": [
    {
     "data": {
      "text/plain": [
       "array([0.53072802, 0.27524779])"
      ]
     },
     "execution_count": 10,
     "metadata": {},
     "output_type": "execute_result"
    }
   ],
   "source": [
    "np.random.uniform(size = 2)"
   ]
  },
  {
   "cell_type": "code",
   "execution_count": 11,
   "metadata": {},
   "outputs": [
    {
     "data": {
      "text/plain": [
       "[0, 0, 0]"
      ]
     },
     "execution_count": 11,
     "metadata": {},
     "output_type": "execute_result"
    }
   ],
   "source": [
    "[0] * 3"
   ]
  },
  {
   "cell_type": "code",
   "execution_count": 12,
   "metadata": {},
   "outputs": [
    {
     "data": {
      "text/plain": [
       "array([0, 0, 0])"
      ]
     },
     "execution_count": 12,
     "metadata": {},
     "output_type": "execute_result"
    }
   ],
   "source": [
    "np.array([0]*3)"
   ]
  },
  {
   "cell_type": "code",
   "execution_count": 9,
   "metadata": {},
   "outputs": [],
   "source": [
    "test_list = ['a', 'v', 'w']"
   ]
  },
  {
   "cell_type": "code",
   "execution_count": 18,
   "metadata": {},
   "outputs": [
    {
     "data": {
      "text/plain": [
       "0"
      ]
     },
     "execution_count": 18,
     "metadata": {},
     "output_type": "execute_result"
    }
   ],
   "source": [
    "test_list.index('a')"
   ]
  },
  {
   "cell_type": "code",
   "execution_count": 34,
   "metadata": {},
   "outputs": [],
   "source": [
    "def adjust_params_for_multiple_subjects(params = ['v', 'a', 'w'], \n",
    "                                        params_bounds = [(0,1), (0, 2), (0, 1)], \n",
    "                                        params_vary = ['v', 'w'],\n",
    "                                        n_subjects = 3):\n",
    "    params_adj = []\n",
    "    params_bounds_adj = []\n",
    "    cnt = 0\n",
    "    for p in params:\n",
    "        if p in params_vary:\n",
    "            for i in range(n_subjects):\n",
    "                params_adj.append(p + '_' + str(i))\n",
    "                params_bounds_adj.append(params_bounds[cnt])\n",
    "        else:\n",
    "            params_adj.append(p)\n",
    "            params_bounds_adj.append(params_bounds[cnt])\n",
    "        cnt += 1\n",
    "    return params_adj, params_bounds_adj"
   ]
  },
  {
   "cell_type": "code",
   "execution_count": 35,
   "metadata": {},
   "outputs": [
    {
     "data": {
      "text/plain": [
       "(['v_0', 'v_1', 'v_2', 'a', 'w_0', 'w_1', 'w_2'],\n",
       " [(0, 1), (0, 1), (0, 1), (0, 2), (0, 1), (0, 1), (0, 1)])"
      ]
     },
     "execution_count": 35,
     "metadata": {},
     "output_type": "execute_result"
    }
   ],
   "source": [
    "adjust_params_for_multiple_subjects()"
   ]
  },
  {
   "cell_type": "code",
   "execution_count": 45,
   "metadata": {},
   "outputs": [],
   "source": [
    "def get_subj_params(params = [0, 1, 2, 3, 4],\n",
    "                   params_ordered = ['v', 'a', 'w'],\n",
    "                   param_varies = [0, 0, 1],\n",
    "                   params_names = ['v', 'a', 'w_0', 'w_1', 'w_2'],\n",
    "                   subj_idx = 0):\n",
    "    # Get parameters for current dataset\n",
    "        n_params = len(params_ordered)\n",
    "        params_tmp = []\n",
    "        for j in range(n_params):\n",
    "            if param_varies[j] == 1:\n",
    "                params_tmp.append(params[params_names.index(params_ordered[j] + '_' + str(subj_idx))])\n",
    "            else:\n",
    "                params_tmp.append(params[params_names.index(params_ordered[j])])\n",
    "        return params_tmp"
   ]
  },
  {
   "cell_type": "code",
   "execution_count": 46,
   "metadata": {},
   "outputs": [
    {
     "data": {
      "text/plain": [
       "[0, 1, 2]"
      ]
     },
     "execution_count": 46,
     "metadata": {},
     "output_type": "execute_result"
    }
   ],
   "source": [
    "get_subj_params()"
   ]
  },
  {
   "cell_type": "code",
   "execution_count": 8,
   "metadata": {},
   "outputs": [
    {
     "name": "stdout",
     "output_type": "stream",
     "text": [
      "11\n"
     ]
    }
   ],
   "source": [
    "cnt = 0\n",
    "while True:\n",
    "    cnt += 1\n",
    "    if cnt > 10:\n",
    "        print(cnt)\n",
    "        break"
   ]
  },
  {
   "cell_type": "code",
   "execution_count": 10,
   "metadata": {},
   "outputs": [
    {
     "ename": "IndentationError",
     "evalue": "unindent does not match any outer indentation level (<tokenize>, line 5)",
     "output_type": "error",
     "traceback": [
      "\u001b[0;36m  File \u001b[0;32m\"<tokenize>\"\u001b[0;36m, line \u001b[0;32m5\u001b[0m\n\u001b[0;31m    def sample(self, data, num_particles = 10000, max_iter = 20):\u001b[0m\n\u001b[0m    ^\u001b[0m\n\u001b[0;31mIndentationError\u001b[0m\u001b[0;31m:\u001b[0m unindent does not match any outer indentation level\n"
     ]
    }
   ],
   "source": [
    "def calculate_weights(self):\n",
    "        out = self.p.starmap(self.target, zip(self.particles, self.data_tile))\n",
    "        return np.fromiter(out, np.float)\n",
    "\n",
    "    def sample(self, data, num_particles = 10000, max_iter = 20):\n",
    "        self.particles = np.zeros((num_particles, self.dims))\n",
    "\n",
    "        self.data = data\n",
    "        self.data_tile = np.tile(self.data, (self.particles.shape[0], 1, 1))\n",
    "        self.p = mp.Pool(mp.cpu_count())"
   ]
  },
  {
   "cell_type": "code",
   "execution_count": 28,
   "metadata": {},
   "outputs": [],
   "source": [
    "data = np.random.uniform(size = (10,5))"
   ]
  },
  {
   "cell_type": "code",
   "execution_count": 29,
   "metadata": {},
   "outputs": [],
   "source": [
    "particles = np.ones((10, 5))"
   ]
  },
  {
   "cell_type": "code",
   "execution_count": 38,
   "metadata": {},
   "outputs": [],
   "source": [
    "my_tile = np.tile(data, (particles.shape[0], 1, 1))"
   ]
  },
  {
   "cell_type": "code",
   "execution_count": 43,
   "metadata": {},
   "outputs": [
    {
     "name": "stdout",
     "output_type": "stream",
     "text": [
      "(array([1., 1., 1., 1., 1.]), array([[0.57238097, 0.67623494, 0.78288829, 0.67937377, 0.7936706 ],\n",
      "       [0.30049997, 0.86235713, 0.26035501, 0.57428152, 0.52260716],\n",
      "       [0.69369302, 0.9290034 , 0.94152368, 0.4315618 , 0.74936872],\n",
      "       [0.26012553, 0.08012147, 0.10086657, 0.47626701, 0.78529835],\n",
      "       [0.08812225, 0.4056827 , 0.75775738, 0.32627397, 0.55574205],\n",
      "       [0.44218858, 0.16884444, 0.97674247, 0.34895098, 0.59240901],\n",
      "       [0.70592777, 0.50837883, 0.08340832, 0.96430742, 0.35946586],\n",
      "       [0.83536121, 0.81687745, 0.59137712, 0.56383022, 0.8255326 ],\n",
      "       [0.05355611, 0.03065841, 0.41643992, 0.53558903, 0.58171467],\n",
      "       [0.25193875, 0.34300263, 0.23430708, 0.91700736, 0.91331397]]))\n",
      "(array([1., 1., 1., 1., 1.]), array([[0.57238097, 0.67623494, 0.78288829, 0.67937377, 0.7936706 ],\n",
      "       [0.30049997, 0.86235713, 0.26035501, 0.57428152, 0.52260716],\n",
      "       [0.69369302, 0.9290034 , 0.94152368, 0.4315618 , 0.74936872],\n",
      "       [0.26012553, 0.08012147, 0.10086657, 0.47626701, 0.78529835],\n",
      "       [0.08812225, 0.4056827 , 0.75775738, 0.32627397, 0.55574205],\n",
      "       [0.44218858, 0.16884444, 0.97674247, 0.34895098, 0.59240901],\n",
      "       [0.70592777, 0.50837883, 0.08340832, 0.96430742, 0.35946586],\n",
      "       [0.83536121, 0.81687745, 0.59137712, 0.56383022, 0.8255326 ],\n",
      "       [0.05355611, 0.03065841, 0.41643992, 0.53558903, 0.58171467],\n",
      "       [0.25193875, 0.34300263, 0.23430708, 0.91700736, 0.91331397]]))\n",
      "(array([1., 1., 1., 1., 1.]), array([[0.57238097, 0.67623494, 0.78288829, 0.67937377, 0.7936706 ],\n",
      "       [0.30049997, 0.86235713, 0.26035501, 0.57428152, 0.52260716],\n",
      "       [0.69369302, 0.9290034 , 0.94152368, 0.4315618 , 0.74936872],\n",
      "       [0.26012553, 0.08012147, 0.10086657, 0.47626701, 0.78529835],\n",
      "       [0.08812225, 0.4056827 , 0.75775738, 0.32627397, 0.55574205],\n",
      "       [0.44218858, 0.16884444, 0.97674247, 0.34895098, 0.59240901],\n",
      "       [0.70592777, 0.50837883, 0.08340832, 0.96430742, 0.35946586],\n",
      "       [0.83536121, 0.81687745, 0.59137712, 0.56383022, 0.8255326 ],\n",
      "       [0.05355611, 0.03065841, 0.41643992, 0.53558903, 0.58171467],\n",
      "       [0.25193875, 0.34300263, 0.23430708, 0.91700736, 0.91331397]]))\n",
      "(array([1., 1., 1., 1., 1.]), array([[0.57238097, 0.67623494, 0.78288829, 0.67937377, 0.7936706 ],\n",
      "       [0.30049997, 0.86235713, 0.26035501, 0.57428152, 0.52260716],\n",
      "       [0.69369302, 0.9290034 , 0.94152368, 0.4315618 , 0.74936872],\n",
      "       [0.26012553, 0.08012147, 0.10086657, 0.47626701, 0.78529835],\n",
      "       [0.08812225, 0.4056827 , 0.75775738, 0.32627397, 0.55574205],\n",
      "       [0.44218858, 0.16884444, 0.97674247, 0.34895098, 0.59240901],\n",
      "       [0.70592777, 0.50837883, 0.08340832, 0.96430742, 0.35946586],\n",
      "       [0.83536121, 0.81687745, 0.59137712, 0.56383022, 0.8255326 ],\n",
      "       [0.05355611, 0.03065841, 0.41643992, 0.53558903, 0.58171467],\n",
      "       [0.25193875, 0.34300263, 0.23430708, 0.91700736, 0.91331397]]))\n",
      "(array([1., 1., 1., 1., 1.]), array([[0.57238097, 0.67623494, 0.78288829, 0.67937377, 0.7936706 ],\n",
      "       [0.30049997, 0.86235713, 0.26035501, 0.57428152, 0.52260716],\n",
      "       [0.69369302, 0.9290034 , 0.94152368, 0.4315618 , 0.74936872],\n",
      "       [0.26012553, 0.08012147, 0.10086657, 0.47626701, 0.78529835],\n",
      "       [0.08812225, 0.4056827 , 0.75775738, 0.32627397, 0.55574205],\n",
      "       [0.44218858, 0.16884444, 0.97674247, 0.34895098, 0.59240901],\n",
      "       [0.70592777, 0.50837883, 0.08340832, 0.96430742, 0.35946586],\n",
      "       [0.83536121, 0.81687745, 0.59137712, 0.56383022, 0.8255326 ],\n",
      "       [0.05355611, 0.03065841, 0.41643992, 0.53558903, 0.58171467],\n",
      "       [0.25193875, 0.34300263, 0.23430708, 0.91700736, 0.91331397]]))\n",
      "(array([1., 1., 1., 1., 1.]), array([[0.57238097, 0.67623494, 0.78288829, 0.67937377, 0.7936706 ],\n",
      "       [0.30049997, 0.86235713, 0.26035501, 0.57428152, 0.52260716],\n",
      "       [0.69369302, 0.9290034 , 0.94152368, 0.4315618 , 0.74936872],\n",
      "       [0.26012553, 0.08012147, 0.10086657, 0.47626701, 0.78529835],\n",
      "       [0.08812225, 0.4056827 , 0.75775738, 0.32627397, 0.55574205],\n",
      "       [0.44218858, 0.16884444, 0.97674247, 0.34895098, 0.59240901],\n",
      "       [0.70592777, 0.50837883, 0.08340832, 0.96430742, 0.35946586],\n",
      "       [0.83536121, 0.81687745, 0.59137712, 0.56383022, 0.8255326 ],\n",
      "       [0.05355611, 0.03065841, 0.41643992, 0.53558903, 0.58171467],\n",
      "       [0.25193875, 0.34300263, 0.23430708, 0.91700736, 0.91331397]]))\n",
      "(array([1., 1., 1., 1., 1.]), array([[0.57238097, 0.67623494, 0.78288829, 0.67937377, 0.7936706 ],\n",
      "       [0.30049997, 0.86235713, 0.26035501, 0.57428152, 0.52260716],\n",
      "       [0.69369302, 0.9290034 , 0.94152368, 0.4315618 , 0.74936872],\n",
      "       [0.26012553, 0.08012147, 0.10086657, 0.47626701, 0.78529835],\n",
      "       [0.08812225, 0.4056827 , 0.75775738, 0.32627397, 0.55574205],\n",
      "       [0.44218858, 0.16884444, 0.97674247, 0.34895098, 0.59240901],\n",
      "       [0.70592777, 0.50837883, 0.08340832, 0.96430742, 0.35946586],\n",
      "       [0.83536121, 0.81687745, 0.59137712, 0.56383022, 0.8255326 ],\n",
      "       [0.05355611, 0.03065841, 0.41643992, 0.53558903, 0.58171467],\n",
      "       [0.25193875, 0.34300263, 0.23430708, 0.91700736, 0.91331397]]))\n",
      "(array([1., 1., 1., 1., 1.]), array([[0.57238097, 0.67623494, 0.78288829, 0.67937377, 0.7936706 ],\n",
      "       [0.30049997, 0.86235713, 0.26035501, 0.57428152, 0.52260716],\n",
      "       [0.69369302, 0.9290034 , 0.94152368, 0.4315618 , 0.74936872],\n",
      "       [0.26012553, 0.08012147, 0.10086657, 0.47626701, 0.78529835],\n",
      "       [0.08812225, 0.4056827 , 0.75775738, 0.32627397, 0.55574205],\n",
      "       [0.44218858, 0.16884444, 0.97674247, 0.34895098, 0.59240901],\n",
      "       [0.70592777, 0.50837883, 0.08340832, 0.96430742, 0.35946586],\n",
      "       [0.83536121, 0.81687745, 0.59137712, 0.56383022, 0.8255326 ],\n",
      "       [0.05355611, 0.03065841, 0.41643992, 0.53558903, 0.58171467],\n",
      "       [0.25193875, 0.34300263, 0.23430708, 0.91700736, 0.91331397]]))\n",
      "(array([1., 1., 1., 1., 1.]), array([[0.57238097, 0.67623494, 0.78288829, 0.67937377, 0.7936706 ],\n",
      "       [0.30049997, 0.86235713, 0.26035501, 0.57428152, 0.52260716],\n",
      "       [0.69369302, 0.9290034 , 0.94152368, 0.4315618 , 0.74936872],\n",
      "       [0.26012553, 0.08012147, 0.10086657, 0.47626701, 0.78529835],\n",
      "       [0.08812225, 0.4056827 , 0.75775738, 0.32627397, 0.55574205],\n",
      "       [0.44218858, 0.16884444, 0.97674247, 0.34895098, 0.59240901],\n",
      "       [0.70592777, 0.50837883, 0.08340832, 0.96430742, 0.35946586],\n",
      "       [0.83536121, 0.81687745, 0.59137712, 0.56383022, 0.8255326 ],\n",
      "       [0.05355611, 0.03065841, 0.41643992, 0.53558903, 0.58171467],\n",
      "       [0.25193875, 0.34300263, 0.23430708, 0.91700736, 0.91331397]]))\n",
      "(array([1., 1., 1., 1., 1.]), array([[0.57238097, 0.67623494, 0.78288829, 0.67937377, 0.7936706 ],\n",
      "       [0.30049997, 0.86235713, 0.26035501, 0.57428152, 0.52260716],\n",
      "       [0.69369302, 0.9290034 , 0.94152368, 0.4315618 , 0.74936872],\n",
      "       [0.26012553, 0.08012147, 0.10086657, 0.47626701, 0.78529835],\n",
      "       [0.08812225, 0.4056827 , 0.75775738, 0.32627397, 0.55574205],\n",
      "       [0.44218858, 0.16884444, 0.97674247, 0.34895098, 0.59240901],\n",
      "       [0.70592777, 0.50837883, 0.08340832, 0.96430742, 0.35946586],\n",
      "       [0.83536121, 0.81687745, 0.59137712, 0.56383022, 0.8255326 ],\n",
      "       [0.05355611, 0.03065841, 0.41643992, 0.53558903, 0.58171467],\n",
      "       [0.25193875, 0.34300263, 0.23430708, 0.91700736, 0.91331397]]))\n"
     ]
    }
   ],
   "source": [
    "for j in zip(particles, my_tile):\n",
    "    print(j)"
   ]
  },
  {
   "cell_type": "code",
   "execution_count": 44,
   "metadata": {},
   "outputs": [
    {
     "data": {
      "text/plain": [
       "array([0.11128695, 0.48407282, 0.82680959])"
      ]
     },
     "execution_count": 44,
     "metadata": {},
     "output_type": "execute_result"
    }
   ],
   "source": [
    "np.random.uniform(0, 1, 3)"
   ]
  },
  {
   "cell_type": "code",
   "execution_count": 5,
   "metadata": {},
   "outputs": [
    {
     "data": {
      "text/plain": [
       "['_expanded_bounds__7.pickle',\n",
       " '.ipynb_checkpoints',\n",
       " '_expanded_bounds__6.pickle',\n",
       " '_expanded_bounds__11.pickle',\n",
       " '_expanded_bounds__4.pickle',\n",
       " '_expanded_bounds__9.pickle',\n",
       " '_expanded_bounds__18.pickle',\n",
       " '_expanded_bounds__16.pickle',\n",
       " '_expanded_bounds__3.pickle',\n",
       " '_expanded_bounds__15.pickle',\n",
       " '_expanded_bounds__23.pickle',\n",
       " '_expanded_bounds__2.pickle',\n",
       " '_expanded_bounds__20.pickle',\n",
       " '_expanded_bounds__13.pickle',\n",
       " '_expanded_bounds__25.pickle',\n",
       " 'ornstein_uhlenbeck_kde_sim_random.pickle',\n",
       " '_expanded_bounds__10.pickle',\n",
       " '_expanded_bounds__22.pickle',\n",
       " '_expanded_bounds__21.pickle',\n",
       " '_expanded_bounds__19.pickle',\n",
       " '_expanded_bounds_test__999.pickle',\n",
       " '_expanded_bounds__1.pickle',\n",
       " '_expanded_bounds__5.pickle',\n",
       " '_expanded_bounds__17.pickle',\n",
       " '_expanded_bounds__12.pickle',\n",
       " '_expanded_bounds__8.pickle',\n",
       " '_expanded_bounds__24.pickle',\n",
       " '_expanded_bounds__14.pickle']"
      ]
     },
     "execution_count": 5,
     "metadata": {},
     "output_type": "execute_result"
    }
   ],
   "source": [
    "os.listdir('/media/data_cifs/afengler/data/kde/ornstein/method_comparison/')"
   ]
  },
  {
   "cell_type": "code",
   "execution_count": 3,
   "metadata": {},
   "outputs": [],
   "source": [
    "t = pickle.load(open('/media/data_cifs/afengler/data/kde/ornstein/method_comparison/_expanded_bounds_test__999.pickle', 'rb'))"
   ]
  },
  {
   "cell_type": "code",
   "execution_count": 27,
   "metadata": {},
   "outputs": [
    {
     "data": {
      "text/plain": [
       "array([[[-0.60803503,  1.15883852,  0.30277242, -0.54329505,\n",
       "          1.16506866],\n",
       "        [-0.6251384 ,  1.2038119 ,  0.58977254,  0.25235419,\n",
       "          0.45398726],\n",
       "        [ 1.79101753,  1.54192591,  0.40756767,  0.78925179,\n",
       "          1.47303705],\n",
       "        ...,\n",
       "        [-1.63028195,  1.53487474,  0.60488254,  0.94356938,\n",
       "          1.55713028],\n",
       "        [ 0.85522472,  1.27985177,  0.7846262 ,  0.71513361,\n",
       "          0.87410719],\n",
       "        [ 1.33993638,  1.33371793,  0.58592248, -0.4254879 ,\n",
       "          0.08377577]],\n",
       "\n",
       "       [[-0.60803503,  1.15883852,  0.30277242, -0.54329505,\n",
       "          1.16506866],\n",
       "        [ 0.31327606,  1.2038119 ,  0.66567155,  0.11059546,\n",
       "          0.26132258],\n",
       "        [ 1.79101753,  1.54192591,  0.33020334,  0.86638659,\n",
       "          1.47303705],\n",
       "        ...,\n",
       "        [-1.6352345 ,  1.53487474,  0.6241722 ,  0.94356938,\n",
       "          1.55713028],\n",
       "        [-0.03883323,  1.27985177,  0.7846262 ,  0.71513361,\n",
       "          0.87410719],\n",
       "        [ 1.33993638,  1.15230349,  0.58592248, -1.        ,\n",
       "          0.        ]],\n",
       "\n",
       "       [[-0.60803503,  1.15883852,  0.30277242, -0.54329505,\n",
       "          1.16506866],\n",
       "        [ 0.31327606,  1.2038119 ,  0.66567155,  0.11059546,\n",
       "          0.26132258],\n",
       "        [ 1.79101753,  1.57267772,  0.33020334,  0.86638659,\n",
       "          1.47303705],\n",
       "        ...,\n",
       "        [-1.6352345 ,  1.53487474,  0.6241722 ,  0.94356938,\n",
       "          1.55713028],\n",
       "        [-0.03883323,  1.27985177,  0.7846262 ,  0.71513361,\n",
       "          0.87410719],\n",
       "        [ 0.99435766,  1.15230349,  0.36154374, -1.        ,\n",
       "          0.        ]],\n",
       "\n",
       "       ...,\n",
       "\n",
       "       [[ 0.3274215 ,  0.44454257,  0.53574761,  1.        ,\n",
       "          0.40399397],\n",
       "        [ 0.25629722,  0.48103555,  0.53704047, -0.6627513 ,\n",
       "          0.3982757 ],\n",
       "        [ 0.36718889,  0.44424704,  0.52833598,  1.        ,\n",
       "          0.40362868],\n",
       "        ...,\n",
       "        [ 0.29699574,  0.48148392,  0.53972381, -0.72146016,\n",
       "          0.401727  ],\n",
       "        [ 0.19249474,  0.48033122,  0.54973791, -0.77986733,\n",
       "          0.40173744],\n",
       "        [ 0.35286093,  0.44131269,  0.53658684,  1.        ,\n",
       "          0.40250783]],\n",
       "\n",
       "       [[ 0.3274215 ,  0.44454257,  0.53574761,  1.        ,\n",
       "          0.40399397],\n",
       "        [ 0.25629722,  0.48103555,  0.53704047, -0.6627513 ,\n",
       "          0.3982757 ],\n",
       "        [ 0.36718889,  0.44424704,  0.52833598,  1.        ,\n",
       "          0.40362868],\n",
       "        ...,\n",
       "        [ 0.29699574,  0.48148392,  0.53972381, -0.72146016,\n",
       "          0.401727  ],\n",
       "        [ 0.19249474,  0.48033122,  0.54973791, -0.77986733,\n",
       "          0.40173744],\n",
       "        [ 0.35286093,  0.44131269,  0.53658684,  1.        ,\n",
       "          0.40250783]],\n",
       "\n",
       "       [[ 0.3274215 ,  0.44454257,  0.53574761,  1.        ,\n",
       "          0.40399397],\n",
       "        [ 0.25629722,  0.48103555,  0.53704047, -0.6627513 ,\n",
       "          0.3982757 ],\n",
       "        [ 0.36718889,  0.44424704,  0.52833598,  1.        ,\n",
       "          0.40362868],\n",
       "        ...,\n",
       "        [ 0.30976798,  0.48148392,  0.53972381, -0.72146016,\n",
       "          0.401727  ],\n",
       "        [ 0.19249474,  0.48033122,  0.54973791, -0.77986733,\n",
       "          0.40173744],\n",
       "        [ 0.35286093,  0.44131269,  0.53658684,  1.        ,\n",
       "          0.40250783]]])"
      ]
     },
     "execution_count": 27,
     "metadata": {},
     "output_type": "execute_result"
    }
   ],
   "source": [
    "t[2]"
   ]
  },
  {
   "cell_type": "code",
   "execution_count": 21,
   "metadata": {},
   "outputs": [
    {
     "data": {
      "text/plain": [
       "[<matplotlib.lines.Line2D at 0x7f8760120ac8>]"
      ]
     },
     "execution_count": 21,
     "metadata": {},
     "output_type": "execute_result"
    },
    {
     "data": {
      "image/png": "[encoded data removed]",
      "text/plain": [
       "<Figure size 432x288 with 1 Axes>"
      ]
     },
     "metadata": {
      "needs_background": "light"
     },
     "output_type": "display_data"
    }
   ],
   "source": [
    "plt.plot(t[2][3,:,0])"
   ]
  },
  {
   "cell_type": "code",
   "execution_count": 20,
   "metadata": {},
   "outputs": [
    {
     "data": {
      "text/plain": [
       "[<matplotlib.lines.Line2D at 0x7f8760124cf8>]"
      ]
     },
     "execution_count": 20,
     "metadata": {},
     "output_type": "execute_result"
    },
    {
     "data": {
      "image/png": "[encoded data removed]",
      "text/plain": [
       "<Figure size 432x288 with 1 Axes>"
      ]
     },
     "metadata": {
      "needs_background": "light"
     },
     "output_type": "display_data"
    }
   ],
   "source": [
    "plt.plot(t[2][3,:,1])"
   ]
  },
  {
   "cell_type": "code",
   "execution_count": 19,
   "metadata": {},
   "outputs": [
    {
     "data": {
      "text/plain": [
       "[<matplotlib.lines.Line2D at 0x7f876015e908>]"
      ]
     },
     "execution_count": 19,
     "metadata": {},
     "output_type": "execute_result"
    },
    {
     "data": {
      "image/png": "[encoded data removed]",
      "text/plain": [
       "<Figure size 432x288 with 1 Axes>"
      ]
     },
     "metadata": {
      "needs_background": "light"
     },
     "output_type": "display_data"
    }
   ],
   "source": [
    "plt.plot(t[2][3,:,2])"
   ]
  },
  {
   "cell_type": "code",
   "execution_count": 18,
   "metadata": {},
   "outputs": [
    {
     "data": {
      "text/plain": [
       "[<matplotlib.lines.Line2D at 0x7f87649b3be0>]"
      ]
     },
     "execution_count": 18,
     "metadata": {},
     "output_type": "execute_result"
    },
    {
     "data": {
      "image/png": "[encoded data removed]",
      "text/plain": [
       "<Figure size 432x288 with 1 Axes>"
      ]
     },
     "metadata": {
      "needs_background": "light"
     },
     "output_type": "display_data"
    }
   ],
   "source": [
    "plt.plot(t[2][3,:,3])"
   ]
  },
  {
   "cell_type": "code",
   "execution_count": 14,
   "metadata": {},
   "outputs": [
    {
     "data": {
      "text/plain": [
       "[<matplotlib.lines.Line2D at 0x7fdc46e57908>]"
      ]
     },
     "execution_count": 14,
     "metadata": {},
     "output_type": "execute_result"
    },
    {
     "data": {
      "image/png": "[encoded data removed]",
      "text/plain": [
       "<Figure size 432x288 with 1 Axes>"
      ]
     },
     "metadata": {
      "needs_background": "light"
     },
     "output_type": "display_data"
    }
   ],
   "source": [
    "plt.plot(t[2][1,:,4])"
   ]
  },
  {
   "cell_type": "code",
   "execution_count": 12,
   "metadata": {},
   "outputs": [
    {
     "data": {
      "text/plain": [
       "(array([1.9500e+02, 1.1200e+02, 4.3000e+01, 2.4000e+01, 2.0000e+00,\n",
       "        5.0000e+00, 3.4000e+01, 3.1000e+01, 3.7000e+01, 5.7000e+01,\n",
       "        5.4000e+01, 6.8000e+01, 1.6000e+01, 3.3000e+01, 4.9000e+01,\n",
       "        9.0000e+01, 8.9000e+01, 2.5700e+02, 2.7900e+02, 4.9300e+04,\n",
       "        4.8562e+04, 3.5000e+01, 6.7000e+01, 4.0000e+00, 1.7000e+01,\n",
       "        7.0000e+00, 1.2000e+01, 6.0000e+00, 8.0000e+00, 1.4000e+01,\n",
       "        1.0000e+00, 5.0000e+00, 3.0000e+00, 2.0000e+00, 1.0000e+00,\n",
       "        2.0000e+01, 3.0000e+00, 5.7000e+01, 1.3000e+01, 4.6000e+01,\n",
       "        0.0000e+00, 0.0000e+00, 1.2000e+01, 4.0000e+00, 0.0000e+00,\n",
       "        4.0000e+00, 5.0000e+00, 1.6000e+01, 4.0000e+00, 9.0000e+00,\n",
       "        1.0000e+01, 1.5000e+01, 8.0000e+00, 3.0000e+00, 1.3000e+01,\n",
       "        1.6000e+01, 1.0000e+00, 5.0000e+00, 1.1000e+01, 3.0000e+00,\n",
       "        1.6000e+01, 4.0000e+00, 1.0000e+00, 2.0000e+00, 1.0000e+01,\n",
       "        7.0000e+00, 0.0000e+00, 0.0000e+00, 2.0000e+00, 8.0000e+00,\n",
       "        6.0000e+00, 0.0000e+00, 3.0000e+00, 0.0000e+00, 0.0000e+00,\n",
       "        0.0000e+00, 1.0000e+00, 1.8000e+01, 0.0000e+00, 0.0000e+00,\n",
       "        3.0000e+00, 2.0000e+00, 3.0000e+00, 9.0000e+00, 5.7000e+01,\n",
       "        4.0000e+00, 1.0000e+00, 1.0000e+00, 1.1000e+01, 0.0000e+00,\n",
       "        0.0000e+00, 1.0000e+00, 0.0000e+00, 1.0000e+00, 0.0000e+00,\n",
       "        0.0000e+00, 3.0000e+00, 3.0000e+00, 6.0000e+00, 2.0000e+01]),\n",
       " array([0.  , 0.02, 0.04, 0.06, 0.08, 0.1 , 0.12, 0.14, 0.16, 0.18, 0.2 ,\n",
       "        0.22, 0.24, 0.26, 0.28, 0.3 , 0.32, 0.34, 0.36, 0.38, 0.4 , 0.42,\n",
       "        0.44, 0.46, 0.48, 0.5 , 0.52, 0.54, 0.56, 0.58, 0.6 , 0.62, 0.64,\n",
       "        0.66, 0.68, 0.7 , 0.72, 0.74, 0.76, 0.78, 0.8 , 0.82, 0.84, 0.86,\n",
       "        0.88, 0.9 , 0.92, 0.94, 0.96, 0.98, 1.  , 1.02, 1.04, 1.06, 1.08,\n",
       "        1.1 , 1.12, 1.14, 1.16, 1.18, 1.2 , 1.22, 1.24, 1.26, 1.28, 1.3 ,\n",
       "        1.32, 1.34, 1.36, 1.38, 1.4 , 1.42, 1.44, 1.46, 1.48, 1.5 , 1.52,\n",
       "        1.54, 1.56, 1.58, 1.6 , 1.62, 1.64, 1.66, 1.68, 1.7 , 1.72, 1.74,\n",
       "        1.76, 1.78, 1.8 , 1.82, 1.84, 1.86, 1.88, 1.9 , 1.92, 1.94, 1.96,\n",
       "        1.98, 2.  ]),\n",
       " <a list of 100 Patch objects>)"
      ]
     },
     "execution_count": 12,
     "metadata": {},
     "output_type": "execute_result"
    },
    {
     "data": {
      "image/png": "[encoded data removed]",
      "text/plain": [
       "<Figure size 432x288 with 1 Axes>"
      ]
     },
     "metadata": {
      "needs_background": "light"
     },
     "output_type": "display_data"
    }
   ],
   "source": [
    "plt.hist(np.reshape(t[2][:,:,4], (-1)), bins = 100)"
   ]
  },
  {
   "cell_type": "code",
   "execution_count": 4,
   "metadata": {},
   "outputs": [
    {
     "data": {
      "text/plain": [
       "(100000,)"
      ]
     },
     "execution_count": 4,
     "metadata": {},
     "output_type": "execute_result"
    }
   ],
   "source": [
    "np.reshape(t[2][:,:,3], (-1)).shape"
   ]
  },
  {
   "cell_type": "code",
   "execution_count": 30,
   "metadata": {},
   "outputs": [],
   "source": [
    "test = np.reshape(t[2][2000:3999, 3:18, :],newshape = (-1, 5))"
   ]
  },
  {
   "cell_type": "code",
   "execution_count": 17,
   "metadata": {},
   "outputs": [
    {
     "data": {
      "text/plain": [
       "array([[ 0.26585883,  0.49002238,  0.54051205, -0.7072323 ,  0.39883825],\n",
       "       [ 0.25563692,  0.48685861,  0.54325216, -0.71065534,  0.39872636],\n",
       "       [ 0.25624101,  0.48922619,  0.5425784 , -0.72128814,  0.40046545],\n",
       "       [ 0.35292722,  0.44575428,  0.53115565,  0.99130355,  0.40368201],\n",
       "       [ 0.27222596,  0.49309157,  0.54191142, -0.72652175,  0.39652496],\n",
       "       [ 0.25566393,  0.48324216,  0.54414272, -0.70598152,  0.40248493],\n",
       "       [ 0.34829359,  0.44395068,  0.53102762,  0.9734636 ,  0.4052844 ],\n",
       "       [ 0.24782184,  0.48136249,  0.54513677, -0.6823409 ,  0.39950618],\n",
       "       [ 0.24986   ,  0.44528783,  0.51022719,  0.91831832,  0.44097718],\n",
       "       [ 0.27126892,  0.4831012 ,  0.54222726, -0.69867466,  0.39861212],\n",
       "       [ 0.25962883,  0.4812597 ,  0.54577979, -0.69791552,  0.40456312],\n",
       "       [ 0.25516733,  0.49075977,  0.54282699, -0.7099814 ,  0.39739531],\n",
       "       [ 0.31593762,  0.44187367,  0.5287673 ,  0.97247086,  0.40928883],\n",
       "       [ 0.3443579 ,  0.44038034,  0.53237746,  0.99973775,  0.40491648],\n",
       "       [ 0.25666716,  0.48159278,  0.53954805, -0.69849195,  0.40187151],\n",
       "       [ 0.22242545,  0.503535  ,  0.54774553, -0.71263185,  0.39635915],\n",
       "       [ 0.24728061,  0.4837279 ,  0.54485545, -0.70584621,  0.39894468],\n",
       "       [ 0.25319342,  0.48910962,  0.54237687, -0.70123907,  0.39549351],\n",
       "       [ 0.25644029,  0.48349097,  0.54480015, -0.70197238,  0.39842155],\n",
       "       [ 0.29210787,  0.55601654,  0.53944415, -0.72415515,  0.3846563 ]])"
      ]
     },
     "execution_count": 17,
     "metadata": {},
     "output_type": "execute_result"
    }
   ],
   "source": [
    "np.mean(t[2][:, :, :], axis = 1)"
   ]
  },
  {
   "cell_type": "code",
   "execution_count": 31,
   "metadata": {},
   "outputs": [
    {
     "data": {
      "text/html": [
       "<div>\n",
       "<style scoped>\n",
       "    .dataframe tbody tr th:only-of-type {\n",
       "        vertical-align: middle;\n",
       "    }\n",
       "\n",
       "    .dataframe tbody tr th {\n",
       "        vertical-align: top;\n",
       "    }\n",
       "\n",
       "    .dataframe thead th {\n",
       "        text-align: right;\n",
       "    }\n",
       "</style>\n",
       "<table border=\"1\" class=\"dataframe\">\n",
       "  <thead>\n",
       "    <tr style=\"text-align: right;\">\n",
       "      <th></th>\n",
       "      <th>0</th>\n",
       "      <th>1</th>\n",
       "      <th>2</th>\n",
       "      <th>3</th>\n",
       "      <th>4</th>\n",
       "    </tr>\n",
       "  </thead>\n",
       "  <tbody>\n",
       "    <tr>\n",
       "      <th>0</th>\n",
       "      <td>1.000000</td>\n",
       "      <td>0.055932</td>\n",
       "      <td>-0.930726</td>\n",
       "      <td>-0.312491</td>\n",
       "      <td>-0.276649</td>\n",
       "    </tr>\n",
       "    <tr>\n",
       "      <th>1</th>\n",
       "      <td>0.055932</td>\n",
       "      <td>1.000000</td>\n",
       "      <td>0.026616</td>\n",
       "      <td>0.587780</td>\n",
       "      <td>-0.183619</td>\n",
       "    </tr>\n",
       "    <tr>\n",
       "      <th>2</th>\n",
       "      <td>-0.930726</td>\n",
       "      <td>0.026616</td>\n",
       "      <td>1.000000</td>\n",
       "      <td>0.306837</td>\n",
       "      <td>0.279118</td>\n",
       "    </tr>\n",
       "    <tr>\n",
       "      <th>3</th>\n",
       "      <td>-0.312491</td>\n",
       "      <td>0.587780</td>\n",
       "      <td>0.306837</td>\n",
       "      <td>1.000000</td>\n",
       "      <td>-0.240376</td>\n",
       "    </tr>\n",
       "    <tr>\n",
       "      <th>4</th>\n",
       "      <td>-0.276649</td>\n",
       "      <td>-0.183619</td>\n",
       "      <td>0.279118</td>\n",
       "      <td>-0.240376</td>\n",
       "      <td>1.000000</td>\n",
       "    </tr>\n",
       "  </tbody>\n",
       "</table>\n",
       "</div>"
      ],
      "text/plain": [
       "          0         1         2         3         4\n",
       "0  1.000000  0.055932 -0.930726 -0.312491 -0.276649\n",
       "1  0.055932  1.000000  0.026616  0.587780 -0.183619\n",
       "2 -0.930726  0.026616  1.000000  0.306837  0.279118\n",
       "3 -0.312491  0.587780  0.306837  1.000000 -0.240376\n",
       "4 -0.276649 -0.183619  0.279118 -0.240376  1.000000"
      ]
     },
     "execution_count": 31,
     "metadata": {},
     "output_type": "execute_result"
    }
   ],
   "source": [
    "pd.DataFrame(t[2][4, :, :]).corr()"
   ]
  },
  {
   "cell_type": "code",
   "execution_count": 6,
   "metadata": {},
   "outputs": [],
   "source": [
    "def get_W(chains):\n",
    "    return np.sum(np.square((chains - np.mean(chains, axis = 1, keepdims = 1))), axis = (0, 1)) / (chains.shape[0] * (chains.shape[1] - 1))\n",
    "    \n",
    "def get_B_div_n(chains):\n",
    "    return np.sum(np.square(np.mean(chains, axis = 1, keepdims = 1) - np.mean(chains, axis = (0,1), keepdims = 1)), axis = (0, 1)) / (chains.shape[0] - 1)\n",
    "    \n",
    "def get_gelman_rubin_univ(chains, \n",
    "                          burn_in = 1000):\n",
    "    W = get_W(chains[:, burn_in:, :])\n",
    "    B_div_n = get_B_div_n(chains[:, burn_in:, :])\n",
    "    V = (chains[:, burn_in:, :].shape[1] - 1) / chains[:, burn_in:, :].shape[1] * W + B_div_n \n",
    "    R_hat = V / W\n",
    "    return R_hat"
   ]
  },
  {
   "cell_type": "code",
   "execution_count": 15,
   "metadata": {},
   "outputs": [
    {
     "data": {
      "text/plain": [
       "(1, array([1.79437426, 1.36001188, 0.67764767, 0.84421776, 0.56581082,\n",
       "        1.18285617, 0.51745841, 1.32641342, 0.40502762, 1.4969179 ,\n",
       "        1.24534516, 3.15681877, 0.6866149 , 3.20286059, 1.82947968,\n",
       "        0.00589037, 0.97838106, 0.2557124 , 0.65831706, 1.78929032,\n",
       "        1.43815587, 0.61327277, 0.67826246, 1.19823853, 0.1226644 ,\n",
       "        0.20139363, 0.28005795, 0.07889789, 0.16804288, 0.78626334,\n",
       "        0.39583814, 0.41345633, 0.39742325, 0.43416393, 0.59222402,\n",
       "        0.20662212, 2.90561335, 1.02732611, 0.98196504, 1.6029301 ,\n",
       "        0.31860208, 0.99339989, 0.80603878, 0.79803325, 1.13395908,\n",
       "        0.18803923, 1.5223989 , 0.74340093, 1.05055816, 1.5617504 ,\n",
       "        1.04345653, 0.2240382 , 0.89197146, 0.31890123, 1.34206853,\n",
       "        1.62273797, 1.17842707, 1.47907629, 0.03148971, 0.12764727,\n",
       "        0.84355897, 0.12769152, 0.85494222, 0.59178994, 0.92604072,\n",
       "        1.28909643, 1.6745565 , 1.22874216, 0.28756638, 0.8458726 ,\n",
       "        0.97321975, 2.7152594 , 1.75253391, 2.49605298, 2.62394525,\n",
       "        0.89975982, 1.9131152 , 1.49409578, 1.98505367, 0.31941967,\n",
       "        0.24055861, 1.81426225, 0.67136143, 0.71872147, 2.05161255,\n",
       "        0.1749277 , 0.01325262, 0.51774044, 0.45746294, 0.14471389,\n",
       "        0.29366304, 0.04845006, 0.85712818, 0.67516158, 0.48982923,\n",
       "        1.47332788, 0.13748337, 1.57999204, 0.42905581, 0.94814213]))"
      ]
     },
     "execution_count": 15,
     "metadata": {},
     "output_type": "execute_result"
    }
   ],
   "source": [
    "diag_.get_geweke_diags(t[2])"
   ]
  },
  {
   "cell_type": "code",
   "execution_count": 4,
   "metadata": {},
   "outputs": [],
   "source": [
    "t_swapped = np.swapaxes(t[2],0, 1)"
   ]
  },
  {
   "cell_type": "code",
   "execution_count": 5,
   "metadata": {},
   "outputs": [],
   "source": [
    "t_swapped.shape\n",
    "t_swapped = t_swapped[3:18, :, :]"
   ]
  },
  {
   "cell_type": "code",
   "execution_count": 35,
   "metadata": {},
   "outputs": [],
   "source": [
    "#(t_swapped[:,1,:] \n",
    "W = np.sum(np.square((t_swapped - np.mean(t_swapped, axis = 1, keepdims = 1))), axis = (0, 1)) / (t_swapped.shape[0] * (t_swapped.shape[1] - 1))"
   ]
  },
  {
   "cell_type": "code",
   "execution_count": 36,
   "metadata": {},
   "outputs": [],
   "source": [
    "B_div_n = np.sum(np.square(np.mean(t_swapped, axis = 1, keepdims = 1) - np.mean(t_swapped, axis = (0,1), keepdims = 1)), axis = (0, 1)) / (t_swapped.shape[0] - 1)"
   ]
  },
  {
   "cell_type": "code",
   "execution_count": 37,
   "metadata": {},
   "outputs": [],
   "source": [
    "V = (t_swapped.shape[1] - 1) / (t_swapped.shape[1]) * W + B_div_n"
   ]
  },
  {
   "cell_type": "code",
   "execution_count": 38,
   "metadata": {},
   "outputs": [
    {
     "data": {
      "text/plain": [
       "array([1.06130532, 1.02016818, 1.04186833, 1.05915103, 1.03040361])"
      ]
     },
     "execution_count": 38,
     "metadata": {},
     "output_type": "execute_result"
    }
   ],
   "source": [
    "V / W"
   ]
  },
  {
   "cell_type": "code",
   "execution_count": 127,
   "metadata": {},
   "outputs": [
    {
     "data": {
      "text/plain": [
       "array([1.67361155e-06, 8.67288567e-08, 1.33998623e-08, 9.48741919e-05,\n",
       "       4.50000222e-08])"
      ]
     },
     "execution_count": 127,
     "metadata": {},
     "output_type": "execute_result"
    }
   ],
   "source": [
    "B / t_swapped.shape[1]"
   ]
  },
  {
   "cell_type": "code",
   "execution_count": 95,
   "metadata": {},
   "outputs": [
    {
     "data": {
      "text/plain": [
       "array([0.04295023, 0.00741185, 0.00091622, 0.02183918, 0.00543918])"
      ]
     },
     "execution_count": 95,
     "metadata": {},
     "output_type": "execute_result"
    }
   ],
   "source": [
    "W"
   ]
  },
  {
   "cell_type": "code",
   "execution_count": 97,
   "metadata": {},
   "outputs": [
    {
     "data": {
      "text/plain": [
       "array([6.69444620e-03, 3.46915427e-04, 5.35994493e-05, 3.79496768e-01,\n",
       "       1.80000089e-04])"
      ]
     },
     "execution_count": 97,
     "metadata": {},
     "output_type": "execute_result"
    }
   ],
   "source": [
    "B"
   ]
  },
  {
   "cell_type": "code",
   "execution_count": 99,
   "metadata": {},
   "outputs": [
    {
     "data": {
      "text/plain": [
       "array([0.04294117, 0.00741008, 0.000916  , 0.0219286 , 0.00543786])"
      ]
     },
     "execution_count": 99,
     "metadata": {},
     "output_type": "execute_result"
    }
   ],
   "source": [
    "V"
   ]
  },
  {
   "cell_type": "code",
   "execution_count": null,
   "metadata": {},
   "outputs": [],
   "source": [
    "np.cov()"
   ]
  },
  {
   "cell_type": "code",
   "execution_count": 40,
   "metadata": {},
   "outputs": [
    {
     "data": {
      "text/plain": [
       "(15, 3500, 5)"
      ]
     },
     "execution_count": 40,
     "metadata": {},
     "output_type": "execute_result"
    }
   ],
   "source": [
    "t_swapped.shape"
   ]
  },
  {
   "cell_type": "code",
   "execution_count": 11,
   "metadata": {},
   "outputs": [],
   "source": [
    "def get_W_mv(chains):\n",
    "    tmp = np.zeros((chains.shape[2], chains.shape[2]))\n",
    "    for i in range(chains.shape[0]):\n",
    "        tmp += np.cov(chains[i].T)\n",
    "    return tmp / chains.shape[0]"
   ]
  },
  {
   "cell_type": "code",
   "execution_count": 12,
   "metadata": {},
   "outputs": [],
   "source": [
    "W_mv = get_W_mv(chains = t_swapped)"
   ]
  },
  {
   "cell_type": "code",
   "execution_count": 13,
   "metadata": {},
   "outputs": [],
   "source": [
    "def get_B_div_n_mv(chains):\n",
    "    phi_dot = np.mean(chains, axis = 1)\n",
    "    #phi_dot_dot = np.mean(phi_dot, axis = 0)\n",
    "    return np.cov(phi_dot.T) / chains.shape[0]  "
   ]
  },
  {
   "cell_type": "code",
   "execution_count": 18,
   "metadata": {},
   "outputs": [],
   "source": [
    "def get_gel_rub_mv(chains):\n",
    "    W = get_W_mv(chains)\n",
    "    B_div_n = get_B_div_n_mv(chains)\n",
    "    W_inv = np.linalg.inv(W)\n",
    "    lambda_1 = np.sort(np.linalg.eigvals(np.dot(W_inv, B_div_n)))[-1]\n",
    "    print(np.sort(np.linalg.eigvals(np.dot(W_inv, B_div_n))))\n",
    "    print(lambda_1)\n",
    "    R_hat = (chains.shape[1] - 1) / chains.shape[1] + ((chains.shape[0] + 1) / chains.shape[0]) * lambda_1\n",
    "    return R_hat"
   ]
  },
  {
   "cell_type": "code",
   "execution_count": 19,
   "metadata": {},
   "outputs": [
    {
     "name": "stdout",
     "output_type": "stream",
     "text": [
      "[0.00014434 0.00057147 0.00163968 0.00229057 0.00893636]\n",
      "0.008936359880899393\n"
     ]
    },
    {
     "data": {
      "text/plain": [
       "1.0092821172062927"
      ]
     },
     "execution_count": 19,
     "metadata": {},
     "output_type": "execute_result"
    }
   ],
   "source": [
    "get_gel_rub_mv(t_swapped)"
   ]
  },
  {
   "cell_type": "code",
   "execution_count": null,
   "metadata": {},
   "outputs": [],
   "source": [
    "def compute_geweke():"
   ]
  },
  {
   "cell_type": "code",
   "execution_count": 8,
   "metadata": {},
   "outputs": [
    {
     "name": "stdout",
     "output_type": "stream",
     "text": [
      "Device 0: GeForce GTX TITAN X\n",
      "\t Compute Capability: 5.2\n",
      "\t Total Memory: 12212 megabytes\n",
      "Device 1: GeForce GTX TITAN X\n",
      "\t Compute Capability: 5.2\n",
      "\t Total Memory: 12212 megabytes\n",
      "Device 2: GeForce GTX TITAN X\n",
      "\t Compute Capability: 5.2\n",
      "\t Total Memory: 12212 megabytes\n",
      "Device 3: GeForce GTX 670\n",
      "\t Compute Capability: 3.0\n",
      "\t Total Memory: 1999 megabytes\n"
     ]
    }
   ],
   "source": [
    "import pycuda.driver as drv\n",
    "drv.init()\n",
    "print('Detected {} CUDA Capable device(s)'.format(drv.Device.count()))\n",
    "\n",
    "for i in range(drv.Device.count()):\n",
    "     gpu_device = drv.Device(i)\n",
    "     print('Device {}: {}'.format( i, gpu_device.name() ))\n",
    "     compute_capability = float( '%d.%d' % gpu_device.compute_capability() )\n",
    "     print('\\t Compute Capability: {}'.format(compute_capability))\n",
    "     print('\\t Total Memory: {} megabytes'.format(gpu_device.total_memory()//(1024**2)))"
   ]
  },
  {
   "cell_type": "code",
   "execution_count": 14,
   "metadata": {},
   "outputs": [],
   "source": [
    "device_attributes_tuples = gpu_device.get_attributes().items()\n",
    "device_attributes = {}\n",
    "    \n",
    "for k, v in device_attributes_tuples:\n",
    "    device_attributes[str(k)] = v"
   ]
  },
  {
   "cell_type": "code",
   "execution_count": 15,
   "metadata": {},
   "outputs": [],
   "source": [
    "gpu_device.get_attributes().items()\n",
    "num_mp = device_attributes['MULTIPROCESSOR_COUNT']"
   ]
  },
  {
   "cell_type": "code",
   "execution_count": 16,
   "metadata": {},
   "outputs": [
    {
     "data": {
      "text/plain": [
       "7"
      ]
     },
     "execution_count": 16,
     "metadata": {},
     "output_type": "execute_result"
    }
   ],
   "source": [
    "num_mp"
   ]
  },
  {
   "cell_type": "code",
   "execution_count": 17,
   "metadata": {},
   "outputs": [
    {
     "data": {
      "text/plain": [
       "3.0"
      ]
     },
     "execution_count": 17,
     "metadata": {},
     "output_type": "execute_result"
    }
   ],
   "source": [
    "compute_capability"
   ]
  },
  {
   "cell_type": "code",
   "execution_count": 18,
   "metadata": {},
   "outputs": [],
   "source": [
    "cuda_cores_per_mp = {3.0: 16, 5.0 : 128, 5.1 : 128, 5.2 : 128, 6.0 : 64, 6.1 : 128, 6.2 : 128}[compute_capability]"
   ]
  },
  {
   "cell_type": "code",
   "execution_count": 19,
   "metadata": {},
   "outputs": [
    {
     "data": {
      "text/plain": [
       "16"
      ]
     },
     "execution_count": 19,
     "metadata": {},
     "output_type": "execute_result"
    }
   ],
   "source": [
    "cuda_cores_per_mp"
   ]
  },
  {
   "cell_type": "code",
   "execution_count": 20,
   "metadata": {},
   "outputs": [
    {
     "name": "stdout",
     "output_type": "stream",
     "text": [
      "\t (7) Multiprocessors, (16) CUDA Cores / Multiprocessor: 112 CUDA Cores\n"
     ]
    }
   ],
   "source": [
    "print('\\t ({}) Multiprocessors, ({}) CUDA Cores / Multiprocessor: {} CUDA Cores'.format(num_mp, cuda_cores_per_mp, num_mp * cuda_cores_per_mp))\n",
    " "
   ]
  },
  {
   "cell_type": "code",
   "execution_count": 22,
   "metadata": {},
   "outputs": [
    {
     "name": "stdout",
     "output_type": "stream",
     "text": [
      "\t ASYNC_ENGINE_COUNT: 1\n",
      "\t CAN_MAP_HOST_MEMORY: 1\n",
      "\t CLOCK_RATE: 980000\n",
      "\t COMPUTE_CAPABILITY_MAJOR: 3\n",
      "\t COMPUTE_CAPABILITY_MINOR: 0\n",
      "\t COMPUTE_MODE: DEFAULT\n",
      "\t CONCURRENT_KERNELS: 1\n",
      "\t ECC_ENABLED: 0\n",
      "\t GLOBAL_L1_CACHE_SUPPORTED: 0\n",
      "\t GLOBAL_MEMORY_BUS_WIDTH: 256\n",
      "\t GPU_OVERLAP: 1\n",
      "\t INTEGRATED: 0\n",
      "\t KERNEL_EXEC_TIMEOUT: 1\n",
      "\t L2_CACHE_SIZE: 524288\n",
      "\t LOCAL_L1_CACHE_SUPPORTED: 1\n",
      "\t MANAGED_MEMORY: 1\n",
      "\t MAXIMUM_SURFACE1D_LAYERED_LAYERS: 2048\n",
      "\t MAXIMUM_SURFACE1D_LAYERED_WIDTH: 65536\n",
      "\t MAXIMUM_SURFACE1D_WIDTH: 65536\n",
      "\t MAXIMUM_SURFACE2D_HEIGHT: 32768\n",
      "\t MAXIMUM_SURFACE2D_LAYERED_HEIGHT: 32768\n",
      "\t MAXIMUM_SURFACE2D_LAYERED_LAYERS: 2048\n",
      "\t MAXIMUM_SURFACE2D_LAYERED_WIDTH: 65536\n",
      "\t MAXIMUM_SURFACE2D_WIDTH: 65536\n",
      "\t MAXIMUM_SURFACE3D_DEPTH: 2048\n",
      "\t MAXIMUM_SURFACE3D_HEIGHT: 32768\n",
      "\t MAXIMUM_SURFACE3D_WIDTH: 65536\n",
      "\t MAXIMUM_SURFACECUBEMAP_LAYERED_LAYERS: 2046\n",
      "\t MAXIMUM_SURFACECUBEMAP_LAYERED_WIDTH: 32768\n",
      "\t MAXIMUM_SURFACECUBEMAP_WIDTH: 32768\n",
      "\t MAXIMUM_TEXTURE1D_LAYERED_LAYERS: 2048\n",
      "\t MAXIMUM_TEXTURE1D_LAYERED_WIDTH: 16384\n",
      "\t MAXIMUM_TEXTURE1D_LINEAR_WIDTH: 134217728\n",
      "\t MAXIMUM_TEXTURE1D_MIPMAPPED_WIDTH: 16384\n",
      "\t MAXIMUM_TEXTURE1D_WIDTH: 65536\n",
      "\t MAXIMUM_TEXTURE2D_ARRAY_HEIGHT: 16384\n",
      "\t MAXIMUM_TEXTURE2D_ARRAY_NUMSLICES: 2048\n",
      "\t MAXIMUM_TEXTURE2D_ARRAY_WIDTH: 16384\n",
      "\t MAXIMUM_TEXTURE2D_GATHER_HEIGHT: 16384\n",
      "\t MAXIMUM_TEXTURE2D_GATHER_WIDTH: 16384\n",
      "\t MAXIMUM_TEXTURE2D_HEIGHT: 65536\n",
      "\t MAXIMUM_TEXTURE2D_LINEAR_HEIGHT: 65000\n",
      "\t MAXIMUM_TEXTURE2D_LINEAR_PITCH: 1048544\n",
      "\t MAXIMUM_TEXTURE2D_LINEAR_WIDTH: 65000\n",
      "\t MAXIMUM_TEXTURE2D_MIPMAPPED_HEIGHT: 16384\n",
      "\t MAXIMUM_TEXTURE2D_MIPMAPPED_WIDTH: 16384\n",
      "\t MAXIMUM_TEXTURE2D_WIDTH: 65536\n",
      "\t MAXIMUM_TEXTURE3D_DEPTH: 4096\n",
      "\t MAXIMUM_TEXTURE3D_DEPTH_ALTERNATE: 16384\n",
      "\t MAXIMUM_TEXTURE3D_HEIGHT: 4096\n",
      "\t MAXIMUM_TEXTURE3D_HEIGHT_ALTERNATE: 2048\n",
      "\t MAXIMUM_TEXTURE3D_WIDTH: 4096\n",
      "\t MAXIMUM_TEXTURE3D_WIDTH_ALTERNATE: 2048\n",
      "\t MAXIMUM_TEXTURECUBEMAP_LAYERED_LAYERS: 2046\n",
      "\t MAXIMUM_TEXTURECUBEMAP_LAYERED_WIDTH: 16384\n",
      "\t MAXIMUM_TEXTURECUBEMAP_WIDTH: 16384\n",
      "\t MAX_BLOCK_DIM_X: 1024\n",
      "\t MAX_BLOCK_DIM_Y: 1024\n",
      "\t MAX_BLOCK_DIM_Z: 64\n",
      "\t MAX_GRID_DIM_X: 2147483647\n",
      "\t MAX_GRID_DIM_Y: 65535\n",
      "\t MAX_GRID_DIM_Z: 65535\n",
      "\t MAX_PITCH: 2147483647\n",
      "\t MAX_REGISTERS_PER_BLOCK: 65536\n",
      "\t MAX_REGISTERS_PER_MULTIPROCESSOR: 65536\n",
      "\t MAX_SHARED_MEMORY_PER_BLOCK: 49152\n",
      "\t MAX_SHARED_MEMORY_PER_MULTIPROCESSOR: 49152\n",
      "\t MAX_THREADS_PER_BLOCK: 1024\n",
      "\t MAX_THREADS_PER_MULTIPROCESSOR: 2048\n",
      "\t MEMORY_CLOCK_RATE: 3004000\n",
      "\t MULTI_GPU_BOARD: 0\n",
      "\t MULTI_GPU_BOARD_GROUP_ID: 3\n",
      "\t PCI_BUS_ID: 2\n",
      "\t PCI_DEVICE_ID: 0\n",
      "\t PCI_DOMAIN_ID: 0\n",
      "\t STREAM_PRIORITIES_SUPPORTED: 0\n",
      "\t SURFACE_ALIGNMENT: 512\n",
      "\t TCC_DRIVER: 0\n",
      "\t TEXTURE_ALIGNMENT: 512\n",
      "\t TEXTURE_PITCH_ALIGNMENT: 32\n",
      "\t TOTAL_CONSTANT_MEMORY: 65536\n",
      "\t UNIFIED_ADDRESSING: 1\n",
      "\t WARP_SIZE: 32\n"
     ]
    }
   ],
   "source": [
    "device_attributes.pop('MULTIPROCESSOR_COUNT')\n",
    "for k in device_attributes.keys():\n",
    "    print('\\t {}: {}'.format(k, device_attributes[k]))"
   ]
  },
  {
   "cell_type": "code",
   "execution_count": 37,
   "metadata": {},
   "outputs": [],
   "source": [
    "import numpy as numpy\n",
    "import pycuda.autoinit\n",
    "from pycuda import gpuarray\n",
    "from time import time\n",
    "from pycuda.elementwise import ElementwiseKernel\n",
    "host_data = np.float32( np.random.random(50000000) )\n",
    "gpu_2x_ker = ElementwiseKernel(\"float *in, float *out\",\n",
    "                               \"out[i] = 2 * in[i];\",\n",
    "                               \"gpu_2x_ker\")"
   ]
  },
  {
   "cell_type": "code",
   "execution_count": 42,
   "metadata": {},
   "outputs": [],
   "source": [
    "def speedcomparison():\n",
    "    t1 = time()\n",
    "    host_data_2x = host_data * np.float32(2)\n",
    "    t2 = time()\n",
    "    print('total time to compute on CPU:', (t2 - t1))\n",
    "    device_data = gpuarray.to_gpu(host_data)\n",
    "    device_data_2x = gpuarray.empty_like(device_data)\n",
    "    t1 = time()\n",
    "    gpu_2x_ker(device_data, device_data_2x)\n",
    "    t2 = time()\n",
    "    \n",
    "    from_device  = device_data_2x.get()\n",
    "    \n",
    "    print('total time to compute on GPU:', (t2 - t1))\n",
    "    print(np.allclose(from_device, host_data_2x))"
   ]
  },
  {
   "cell_type": "code",
   "execution_count": 46,
   "metadata": {},
   "outputs": [
    {
     "name": "stdout",
     "output_type": "stream",
     "text": [
      "total time to compute on CPU: 0.17718839645385742\n",
      "total time to compute on GPU: 0.00014066696166992188\n",
      "True\n"
     ]
    }
   ],
   "source": [
    "speedcomparison()"
   ]
  },
  {
   "cell_type": "code",
   "execution_count": 22,
   "metadata": {},
   "outputs": [
    {
     "name": "stderr",
     "output_type": "stream",
     "text": [
      "/home/afengler/miniconda3/envs/pytorch/lib/python3.7/site-packages/statsmodels/tsa/stattools.py:572: FutureWarning: fft=True will become the default in a future version of statsmodels. To suppress this warning, explicitly set fft=False.\n",
      "  FutureWarning\n"
     ]
    },
    {
     "ename": "ValueError",
     "evalue": "x is required to have ndim 1 but has ndim 2",
     "output_type": "error",
     "traceback": [
      "\u001b[0;31m---------------------------------------------------------------------------\u001b[0m",
      "\u001b[0;31mValueError\u001b[0m                                Traceback (most recent call last)",
      "\u001b[0;32m<ipython-input-22-9de35f93ebf8>\u001b[0m in \u001b[0;36m<module>\u001b[0;34m\u001b[0m\n\u001b[0;32m----> 1\u001b[0;31m \u001b[0macf\u001b[0m\u001b[0;34m(\u001b[0m\u001b[0mt_swapped\u001b[0m\u001b[0;34m[\u001b[0m\u001b[0;36m0\u001b[0m\u001b[0;34m,\u001b[0m \u001b[0;34m:\u001b[0m\u001b[0;34m,\u001b[0m \u001b[0;34m:\u001b[0m\u001b[0;34m]\u001b[0m\u001b[0;34m)\u001b[0m\u001b[0;34m\u001b[0m\u001b[0;34m\u001b[0m\u001b[0m\n\u001b[0m",
      "\u001b[0;32m~/miniconda3/envs/pytorch/lib/python3.7/site-packages/statsmodels/tsa/stattools.py\u001b[0m in \u001b[0;36macf\u001b[0;34m(x, unbiased, nlags, qstat, fft, alpha, missing)\u001b[0m\n\u001b[1;32m    573\u001b[0m         )\n\u001b[1;32m    574\u001b[0m         \u001b[0mfft\u001b[0m \u001b[0;34m=\u001b[0m \u001b[0;32mFalse\u001b[0m\u001b[0;34m\u001b[0m\u001b[0;34m\u001b[0m\u001b[0m\n\u001b[0;32m--> 575\u001b[0;31m     \u001b[0mx\u001b[0m \u001b[0;34m=\u001b[0m \u001b[0marray_like\u001b[0m\u001b[0;34m(\u001b[0m\u001b[0mx\u001b[0m\u001b[0;34m,\u001b[0m \u001b[0;34m'x'\u001b[0m\u001b[0;34m)\u001b[0m\u001b[0;34m\u001b[0m\u001b[0;34m\u001b[0m\u001b[0m\n\u001b[0m\u001b[1;32m    576\u001b[0m     \u001b[0mnobs\u001b[0m \u001b[0;34m=\u001b[0m \u001b[0mlen\u001b[0m\u001b[0;34m(\u001b[0m\u001b[0mx\u001b[0m\u001b[0;34m)\u001b[0m  \u001b[0;31m# TODO: should this shrink for missing='drop' and NaNs in x?\u001b[0m\u001b[0;34m\u001b[0m\u001b[0;34m\u001b[0m\u001b[0m\n\u001b[1;32m    577\u001b[0m     \u001b[0mavf\u001b[0m \u001b[0;34m=\u001b[0m \u001b[0macovf\u001b[0m\u001b[0;34m(\u001b[0m\u001b[0mx\u001b[0m\u001b[0;34m,\u001b[0m \u001b[0munbiased\u001b[0m\u001b[0;34m=\u001b[0m\u001b[0munbiased\u001b[0m\u001b[0;34m,\u001b[0m \u001b[0mdemean\u001b[0m\u001b[0;34m=\u001b[0m\u001b[0;32mTrue\u001b[0m\u001b[0;34m,\u001b[0m \u001b[0mfft\u001b[0m\u001b[0;34m=\u001b[0m\u001b[0mfft\u001b[0m\u001b[0;34m,\u001b[0m \u001b[0mmissing\u001b[0m\u001b[0;34m=\u001b[0m\u001b[0mmissing\u001b[0m\u001b[0;34m)\u001b[0m\u001b[0;34m\u001b[0m\u001b[0;34m\u001b[0m\u001b[0m\n",
      "\u001b[0;32m~/miniconda3/envs/pytorch/lib/python3.7/site-packages/statsmodels/tools/validation/validation.py\u001b[0m in \u001b[0;36marray_like\u001b[0;34m(obj, name, dtype, ndim, maxdim, shape, order, contiguous, optional)\u001b[0m\n\u001b[1;32m    134\u001b[0m         \u001b[0;32mif\u001b[0m \u001b[0marr\u001b[0m\u001b[0;34m.\u001b[0m\u001b[0mndim\u001b[0m \u001b[0;34m!=\u001b[0m \u001b[0mndim\u001b[0m\u001b[0;34m:\u001b[0m\u001b[0;34m\u001b[0m\u001b[0;34m\u001b[0m\u001b[0m\n\u001b[1;32m    135\u001b[0m             \u001b[0mmsg\u001b[0m \u001b[0;34m=\u001b[0m \u001b[0;34m'{0} is required to have ndim {1} but has ndim {2}'\u001b[0m\u001b[0;34m\u001b[0m\u001b[0;34m\u001b[0m\u001b[0m\n\u001b[0;32m--> 136\u001b[0;31m             \u001b[0;32mraise\u001b[0m \u001b[0mValueError\u001b[0m\u001b[0;34m(\u001b[0m\u001b[0mmsg\u001b[0m\u001b[0;34m.\u001b[0m\u001b[0mformat\u001b[0m\u001b[0;34m(\u001b[0m\u001b[0mname\u001b[0m\u001b[0;34m,\u001b[0m \u001b[0mndim\u001b[0m\u001b[0;34m,\u001b[0m \u001b[0marr\u001b[0m\u001b[0;34m.\u001b[0m\u001b[0mndim\u001b[0m\u001b[0;34m)\u001b[0m\u001b[0;34m)\u001b[0m\u001b[0;34m\u001b[0m\u001b[0;34m\u001b[0m\u001b[0m\n\u001b[0m\u001b[1;32m    137\u001b[0m     \u001b[0;32mif\u001b[0m \u001b[0mshape\u001b[0m \u001b[0;32mis\u001b[0m \u001b[0;32mnot\u001b[0m \u001b[0;32mNone\u001b[0m\u001b[0;34m:\u001b[0m\u001b[0;34m\u001b[0m\u001b[0;34m\u001b[0m\u001b[0m\n\u001b[1;32m    138\u001b[0m         \u001b[0;32mfor\u001b[0m \u001b[0mactual\u001b[0m\u001b[0;34m,\u001b[0m \u001b[0mreq\u001b[0m \u001b[0;32min\u001b[0m \u001b[0mzip\u001b[0m\u001b[0;34m(\u001b[0m\u001b[0marr\u001b[0m\u001b[0;34m.\u001b[0m\u001b[0mshape\u001b[0m\u001b[0;34m,\u001b[0m \u001b[0mshape\u001b[0m\u001b[0;34m)\u001b[0m\u001b[0;34m:\u001b[0m\u001b[0;34m\u001b[0m\u001b[0;34m\u001b[0m\u001b[0m\n",
      "\u001b[0;31mValueError\u001b[0m: x is required to have ndim 1 but has ndim 2"
     ]
    }
   ],
   "source": [
    "acf(t_swapped[0, :, :])"
   ]
  },
  {
   "cell_type": "code",
   "execution_count": 40,
   "metadata": {},
   "outputs": [
    {
     "data": {
      "text/plain": [
       "42.29423329027796"
      ]
     },
     "execution_count": 40,
     "metadata": {},
     "output_type": "execute_result"
    }
   ],
   "source": [
    "t_swapped.shape[1] / (1 + 2 * np.sum(acf(t_swapped[0, 500:, 0], nlags = 200)))"
   ]
  },
  {
   "cell_type": "code",
   "execution_count": 41,
   "metadata": {},
   "outputs": [],
   "source": [
    "acf_vals = acf(t_swapped[0, 1000:, 0], nlags = 200)\n",
    "\n"
   ]
  },
  {
   "cell_type": "code",
   "execution_count": 58,
   "metadata": {},
   "outputs": [
    {
     "data": {
      "text/plain": [
       "10"
      ]
     },
     "execution_count": 58,
     "metadata": {},
     "output_type": "execute_result"
    }
   ],
   "source": [
    "len(np.argwhere(acf_vals < -.01))"
   ]
  },
  {
   "cell_type": "code",
   "execution_count": 21,
   "metadata": {},
   "outputs": [],
   "source": [
    "from statsmodels.tsa.ar_model import AutoReg, ar_select_order\n",
    "from statsmodels.tsa.api import acf, pacf, graphics"
   ]
  },
  {
   "cell_type": "code",
   "execution_count": 15,
   "metadata": {},
   "outputs": [],
   "source": [
    "mod = AutoReg(t_swapped[0, :, 2].T, 100)\n",
    "res = mod.fit()"
   ]
  },
  {
   "cell_type": "code",
   "execution_count": 28,
   "metadata": {},
   "outputs": [
    {
     "ename": "AttributeError",
     "evalue": "'AutoRegResults' object has no attribute 'sd'",
     "output_type": "error",
     "traceback": [
      "\u001b[0;31m---------------------------------------------------------------------------\u001b[0m",
      "\u001b[0;31mAttributeError\u001b[0m                            Traceback (most recent call last)",
      "\u001b[0;32m<ipython-input-28-e0bd58a512b4>\u001b[0m in \u001b[0;36m<module>\u001b[0;34m\u001b[0m\n\u001b[1;32m      2\u001b[0m \u001b[0msel\u001b[0m\u001b[0;34m.\u001b[0m\u001b[0mar_lags\u001b[0m\u001b[0;34m\u001b[0m\u001b[0;34m\u001b[0m\u001b[0m\n\u001b[1;32m      3\u001b[0m \u001b[0mres\u001b[0m \u001b[0;34m=\u001b[0m \u001b[0msel\u001b[0m\u001b[0;34m.\u001b[0m\u001b[0mmodel\u001b[0m\u001b[0;34m.\u001b[0m\u001b[0mfit\u001b[0m\u001b[0;34m(\u001b[0m\u001b[0;34m)\u001b[0m\u001b[0;34m\u001b[0m\u001b[0;34m\u001b[0m\u001b[0m\n\u001b[0;32m----> 4\u001b[0;31m \u001b[0mres\u001b[0m\u001b[0;34m.\u001b[0m\u001b[0msd\u001b[0m\u001b[0;34m\u001b[0m\u001b[0;34m\u001b[0m\u001b[0m\n\u001b[0m",
      "\u001b[0;32m~/miniconda3/envs/pytorch/lib/python3.7/site-packages/statsmodels/base/wrapper.py\u001b[0m in \u001b[0;36m__getattribute__\u001b[0;34m(self, attr)\u001b[0m\n\u001b[1;32m     34\u001b[0m             \u001b[0;32mpass\u001b[0m\u001b[0;34m\u001b[0m\u001b[0;34m\u001b[0m\u001b[0m\n\u001b[1;32m     35\u001b[0m \u001b[0;34m\u001b[0m\u001b[0m\n\u001b[0;32m---> 36\u001b[0;31m         \u001b[0mobj\u001b[0m \u001b[0;34m=\u001b[0m \u001b[0mgetattr\u001b[0m\u001b[0;34m(\u001b[0m\u001b[0mresults\u001b[0m\u001b[0;34m,\u001b[0m \u001b[0mattr\u001b[0m\u001b[0;34m)\u001b[0m\u001b[0;34m\u001b[0m\u001b[0;34m\u001b[0m\u001b[0m\n\u001b[0m\u001b[1;32m     37\u001b[0m         \u001b[0mdata\u001b[0m \u001b[0;34m=\u001b[0m \u001b[0mresults\u001b[0m\u001b[0;34m.\u001b[0m\u001b[0mmodel\u001b[0m\u001b[0;34m.\u001b[0m\u001b[0mdata\u001b[0m\u001b[0;34m\u001b[0m\u001b[0;34m\u001b[0m\u001b[0m\n\u001b[1;32m     38\u001b[0m         \u001b[0mhow\u001b[0m \u001b[0;34m=\u001b[0m \u001b[0mself\u001b[0m\u001b[0;34m.\u001b[0m\u001b[0m_wrap_attrs\u001b[0m\u001b[0;34m.\u001b[0m\u001b[0mget\u001b[0m\u001b[0;34m(\u001b[0m\u001b[0mattr\u001b[0m\u001b[0;34m)\u001b[0m\u001b[0;34m\u001b[0m\u001b[0;34m\u001b[0m\u001b[0m\n",
      "\u001b[0;31mAttributeError\u001b[0m: 'AutoRegResults' object has no attribute 'sd'"
     ]
    }
   ],
   "source": [
    "sel = ar_select_order(t_swapped[0, :, 1],maxlag = 10, seasonal = False)\n",
    "sel.ar_lags\n",
    "res = sel.model.fit()"
   ]
  },
  {
   "cell_type": "code",
   "execution_count": 60,
   "metadata": {},
   "outputs": [
    {
     "data": {
      "text/plain": [
       "array([ 0.38502249, -1.35027308, -8.09199891])"
      ]
     },
     "execution_count": 60,
     "metadata": {},
     "output_type": "execute_result"
    }
   ],
   "source": [
    "np.random.normal(loc = 0 , scale = [0.1, 1, 20], size = 3)"
   ]
  },
  {
   "cell_type": "code",
   "execution_count": 63,
   "metadata": {},
   "outputs": [
    {
     "data": {
      "text/plain": [
       "(3,)"
      ]
     },
     "execution_count": 63,
     "metadata": {},
     "output_type": "execute_result"
    }
   ],
   "source": [
    "np.array([0, 1, 2]).shape"
   ]
  },
  {
   "cell_type": "code",
   "execution_count": 29,
   "metadata": {},
   "outputs": [
    {
     "data": {
      "text/plain": [
       "dict_keys(['_results', '__doc__'])"
      ]
     },
     "execution_count": 29,
     "metadata": {},
     "output_type": "execute_result"
    }
   ],
   "source": [
    "res.__dict__.keys()"
   ]
  },
  {
   "cell_type": "code",
   "execution_count": 34,
   "metadata": {},
   "outputs": [
    {
     "data": {
      "text/html": [
       "<table class=\"simpletable\">\n",
       "<caption>AutoReg Model Results</caption>\n",
       "<tr>\n",
       "  <th>Dep. Variable:</th>         <td>y</td>        <th>  No. Observations:  </th>   <td>3500</td>   \n",
       "</tr>\n",
       "<tr>\n",
       "  <th>Model:</th>            <td>AutoReg(1)</td>    <th>  Log Likelihood     </th> <td>21380.195</td>\n",
       "</tr>\n",
       "<tr>\n",
       "  <th>Method:</th>         <td>Conditional MLE</td> <th>  S.D. of innovations</th>   <td>0.001</td>  \n",
       "</tr>\n",
       "<tr>\n",
       "  <th>Date:</th>          <td>Mon, 27 Jan 2020</td> <th>  AIC                </th>  <td>-15.057</td> \n",
       "</tr>\n",
       "<tr>\n",
       "  <th>Time:</th>              <td>18:34:02</td>     <th>  BIC                </th>  <td>-15.052</td> \n",
       "</tr>\n",
       "<tr>\n",
       "  <th>Sample:</th>                <td>1</td>        <th>  HQIC               </th>  <td>-15.055</td> \n",
       "</tr>\n",
       "<tr>\n",
       "  <th></th>                     <td>3500</td>       <th>                     </th>     <td> </td>    \n",
       "</tr>\n",
       "</table>\n",
       "<table class=\"simpletable\">\n",
       "<tr>\n",
       "      <td></td>         <th>coef</th>     <th>std err</th>      <th>z</th>      <th>P>|z|</th>  <th>[0.025</th>    <th>0.975]</th>  \n",
       "</tr>\n",
       "<tr>\n",
       "  <th>intercept</th> <td>    0.0078</td> <td>    0.001</td> <td>    5.318</td> <td> 0.000</td> <td>    0.005</td> <td>    0.011</td>\n",
       "</tr>\n",
       "<tr>\n",
       "  <th>y.L1</th>      <td>    0.9838</td> <td>    0.003</td> <td>  322.906</td> <td> 0.000</td> <td>    0.978</td> <td>    0.990</td>\n",
       "</tr>\n",
       "</table>\n",
       "<table class=\"simpletable\">\n",
       "<caption>Roots</caption>\n",
       "<tr>\n",
       "    <td></td>   <th>            Real</th>  <th>         Imaginary</th> <th>         Modulus</th>  <th>        Frequency</th>\n",
       "</tr>\n",
       "<tr>\n",
       "  <th>AR.1</th> <td>           1.0165</td> <td>          +0.0000j</td> <td>           1.0165</td> <td>           0.0000</td>\n",
       "</tr>\n",
       "</table>"
      ],
      "text/plain": [
       "<class 'statsmodels.iolib.summary.Summary'>\n",
       "\"\"\"\n",
       "                            AutoReg Model Results                             \n",
       "==============================================================================\n",
       "Dep. Variable:                      y   No. Observations:                 3500\n",
       "Model:                     AutoReg(1)   Log Likelihood               21380.195\n",
       "Method:               Conditional MLE   S.D. of innovations              0.001\n",
       "Date:                Mon, 27 Jan 2020   AIC                            -15.057\n",
       "Time:                        18:34:02   BIC                            -15.052\n",
       "Sample:                             1   HQIC                           -15.055\n",
       "                                 3500                                         \n",
       "==============================================================================\n",
       "                 coef    std err          z      P>|z|      [0.025      0.975]\n",
       "------------------------------------------------------------------------------\n",
       "intercept      0.0078      0.001      5.318      0.000       0.005       0.011\n",
       "y.L1           0.9838      0.003    322.906      0.000       0.978       0.990\n",
       "                                    Roots                                    \n",
       "=============================================================================\n",
       "                  Real          Imaginary           Modulus         Frequency\n",
       "-----------------------------------------------------------------------------\n",
       "AR.1            1.0165           +0.0000j            1.0165            0.0000\n",
       "-----------------------------------------------------------------------------\n",
       "\"\"\""
      ]
     },
     "execution_count": 34,
     "metadata": {},
     "output_type": "execute_result"
    }
   ],
   "source": [
    "res.summary()"
   ]
  },
  {
   "cell_type": "code",
   "execution_count": 51,
   "metadata": {},
   "outputs": [
    {
     "data": {
      "text/plain": [
       "array([0.00781153, 0.98379882])"
      ]
     },
     "execution_count": 51,
     "metadata": {},
     "output_type": "execute_result"
    }
   ],
   "source": [
    "res.params"
   ]
  },
  {
   "cell_type": "code",
   "execution_count": 52,
   "metadata": {},
   "outputs": [
    {
     "data": {
      "text/plain": [
       "2.8848486721030227e-07"
      ]
     },
     "execution_count": 52,
     "metadata": {},
     "output_type": "execute_result"
    }
   ],
   "source": [
    "res.sigma2"
   ]
  },
  {
   "cell_type": "code",
   "execution_count": 55,
   "metadata": {},
   "outputs": [
    {
     "data": {
      "text/plain": [
       "0.0010990816295487348"
      ]
     },
     "execution_count": 55,
     "metadata": {},
     "output_type": "execute_result"
    }
   ],
   "source": [
    "#res.sigma2 / np.square(1 - np.sum(res.params[1:]))"
   ]
  },
  {
   "cell_type": "code",
   "execution_count": 198,
   "metadata": {},
   "outputs": [],
   "source": [
    "def get_geweke_diags(chains, \n",
    "                     split = 0.3, \n",
    "                     skip = 0.5):\n",
    "    \n",
    "    \"\"\"Function computes geweke statistic for markov chains\"\"\"\n",
    "    # Check dimensionality of chains\n",
    "    # If single chain add dimesion\n",
    "    n_dims = len(chains.shape)\n",
    "    if n_dims == 2:\n",
    "        chains = np.expand_dims(chains, axis = 0)\n",
    "\n",
    "    # Compute split demarcations as integers to be used for indexing\n",
    "    n_floor = int(chains.shape[1] * (split + skip))\n",
    "    n_skip = int(chains.shape[1] * (skip))\n",
    "    \n",
    "    # Initialize the vector in which we store z-scores\n",
    "    z_scores = np.zeros(chains.shape[0] * chains.shape[2])\n",
    "    \n",
    "    # Main loop that computes statistics of interest\n",
    "    for i in range(chains.shape[0]):\n",
    "        for j in range(chains.shape[2]):\n",
    "            # Get Autoregression coefficients for each part of split of chain\n",
    "            sel_1 = ar_select_order(chains[i, n_skip:n_floor, j], maxlag = 10, seasonal = False)\n",
    "            sel_2 = ar_select_order(chains[i, n_floor:, j], maxlag = 10, seasonal = False)\n",
    "            res_1 = sel_1.model.fit()\n",
    "            res_2 = sel_2.model.fit()\n",
    "            \n",
    "            # Compute the Autoregression corrected respective standard deviations\n",
    "            s_1 = res_1.sigma2 / np.square(1 - np.sum(res_1.params[1:]))\n",
    "            s_2 = res_2.sigma2 / np.square(1 - np.sum(res_2.params[1:]))\n",
    "            \n",
    "            # Compute (absolute) z scores that form the basis of the test of whether or not to continue sampling\n",
    "            z_scores[i * chains.shape[2] + j] = np.abs((np.mean(chains[i, n_skip:n_floor, j]) - np.mean(chains[i, n_floor:, j])) / np.sqrt((1 / (n_floor - n_skip)) * s_1  + (1 / (chains.shape[1] - n_floor)) * s_2))\n",
    "    \n",
    "    # Continuation check: All absolute z scores below 2? If yes stop sampling\n",
    "    continue_ = int((np.sum(z_scores > 2)) > 0)\n",
    "    return continue_, z_scores"
   ]
  },
  {
   "cell_type": "code",
   "execution_count": 196,
   "metadata": {},
   "outputs": [
    {
     "name": "stdout",
     "output_type": "stream",
     "text": [
      "(1, 3500, 5)\n"
     ]
    }
   ],
   "source": [
    "c, z = get_geweke_diags(chains = t_swapped[7, :, :])"
   ]
  },
  {
   "cell_type": "code",
   "execution_count": 110,
   "metadata": {},
   "outputs": [
    {
     "data": {
      "text/plain": [
       "[<matplotlib.lines.Line2D at 0x7f0ae405c358>]"
      ]
     },
     "execution_count": 110,
     "metadata": {},
     "output_type": "execute_result"
    },
    {
     "data": {
      "image/png": "[encoded data removed]",
      "text/plain": [
       "<Figure size 432x288 with 1 Axes>"
      ]
     },
     "metadata": {
      "needs_background": "light"
     },
     "output_type": "display_data"
    }
   ],
   "source": [
    "plt.plot(t_swapped[10, :, 1])"
   ]
  },
  {
   "cell_type": "code",
   "execution_count": 31,
   "metadata": {},
   "outputs": [],
   "source": [
    "X = np.random.uniform(low = -1.0, high = 1.0, size = (10000, 6))\n",
    "mult_vec = np.random.normal(size = (6, 1))\n",
    "y = np.matmul(X[:, :], mult_vec)\n",
    "\n",
    "X = np.float32(X)\n",
    "y = np.float32(y)\n",
    "\n",
    "bounds = [(-1.0, 1.0) for i in  range(6)]"
   ]
  },
  {
   "cell_type": "code",
   "execution_count": 37,
   "metadata": {},
   "outputs": [
    {
     "data": {
      "text/plain": [
       "<tensorflow.python.keras.layers.core.Dense at 0x1a3bc22810>"
      ]
     },
     "execution_count": 37,
     "metadata": {},
     "output_type": "execute_result"
    }
   ],
   "source": []
  },
  {
   "cell_type": "code",
   "execution_count": 16,
   "metadata": {},
   "outputs": [],
   "source": [
    "def loss_fun(x):\n",
    "    return np.square(model.predict(np.reshape(x, (1, 6))) - y[0])[0, 0]"
   ]
  },
  {
   "cell_type": "code",
   "execution_count": 38,
   "metadata": {},
   "outputs": [
    {
     "data": {
      "text/plain": [
       "array([[1.4986428]], dtype=float32)"
      ]
     },
     "execution_count": 38,
     "metadata": {},
     "output_type": "execute_result"
    }
   ],
   "source": [
    "model.predict(np.reshape(np.array([-0.48600431,  0.96750214,  0.41143705,  0.3160704 ,  0.1586281 ,\n",
    "       -0.20384907]), (1, 6)))"
   ]
  },
  {
   "cell_type": "code",
   "execution_count": null,
   "metadata": {},
   "outputs": [],
   "source": [
    "model(np.reshape(np.array([-0.17751179,  0.32534568, -0.12299329,  0.51399916, -0.12694001,\n",
    "        0.50496293])"
   ]
  },
  {
   "cell_type": "code",
   "execution_count": 30,
   "metadata": {},
   "outputs": [],
   "source": [
    "model = keras.Sequential()\n",
    "model.add(keras.layers.Dense(units = 256, \n",
    "                             activation = 'tanh', \n",
    "                             input_dim = 6))\n",
    "model.add(keras.layers.Reshape([16, 16, 1]))\n",
    "model.add(keras.layers.Conv2D(filters = 32, \n",
    "                              kernel_size = (9, 9), \n",
    "                              strides = 1, \n",
    "                              padding = 'valid',\n",
    "                              activation= 'tanh',\n",
    "                              data_format = 'channels_last'\n",
    "                              ))\n",
    "# model.add(keras.layers.MaxPool2D(pool_size = (2, 2)))\n",
    "model.add(keras.layers.Conv2D(filters = 64,\n",
    "                              kernel_size = (6, 6),\n",
    "                              strides = 2,\n",
    "                              padding = 'valid',\n",
    "                              activation='tanh',\n",
    "                              data_format = 'channels_last'))\n",
    "\n",
    "# model.add(keras.layers.Conv2D(filters = 64, \n",
    "#                               kernel_size = (4, 4), \n",
    "#                               strides = 2, \n",
    "#                               padding = 'valid',\n",
    "#                               activation= 'tanh',\n",
    "#                               data_format = 'channels_last'\n",
    "#                               ))\n",
    "\n",
    "#model.add(keras.layers.Flatten())\n",
    "# model.add(keras.layers.Reshape([128, 1]))\n",
    "# model.add(keras.layers.Conv1D(filters = 64,\n",
    "#                               kernel_size = 16,\n",
    "#                               strides = 1,\n",
    "#                               padding = 'valid',\n",
    "#                               activation = 'tanh',\n",
    "#                               data_format = 'channels_last'))\n",
    "model.add(keras.layers.Flatten())\n",
    "model.add(keras.layers.Dense(units = 1, activation = None))\n",
    "model.compile(loss = tf.losses.mse,\n",
    "              optimizer = \"adam\")"
   ]
  },
  {
   "cell_type": "code",
   "execution_count": 32,
   "metadata": {},
   "outputs": [
    {
     "name": "stdout",
     "output_type": "stream",
     "text": [
      "Train on 9000 samples, validate on 1000 samples\n",
      "Epoch 1/50\n",
      "9000/9000 [==============================] - 1s 121us/sample - loss: 0.6287 - val_loss: 0.0767\n",
      "Epoch 2/50\n",
      "9000/9000 [==============================] - 0s 44us/sample - loss: 0.1135 - val_loss: 0.0298\n",
      "Epoch 3/50\n",
      "9000/9000 [==============================] - 0s 47us/sample - loss: 0.0287 - val_loss: 0.0341\n",
      "Epoch 4/50\n",
      "9000/9000 [==============================] - 0s 47us/sample - loss: 0.0172 - val_loss: 0.0029\n",
      "Epoch 5/50\n",
      "9000/9000 [==============================] - 0s 46us/sample - loss: 0.0067 - val_loss: 0.0030\n",
      "Epoch 6/50\n",
      "9000/9000 [==============================] - 0s 42us/sample - loss: 0.0016 - val_loss: 0.0028\n",
      "Epoch 7/50\n",
      "9000/9000 [==============================] - 0s 44us/sample - loss: 0.0011 - val_loss: 5.9324e-04\n",
      "Epoch 8/50\n",
      "9000/9000 [==============================] - 0s 45us/sample - loss: 5.8259e-04 - val_loss: 1.8298e-04\n",
      "Epoch 9/50\n",
      "9000/9000 [==============================] - 0s 44us/sample - loss: 2.2713e-04 - val_loss: 1.9917e-04\n",
      "Epoch 10/50\n",
      "9000/9000 [==============================] - 0s 43us/sample - loss: 1.4162e-04 - val_loss: 1.5863e-04\n",
      "Epoch 11/50\n",
      "9000/9000 [==============================] - 0s 43us/sample - loss: 1.1940e-04 - val_loss: 1.0454e-04\n",
      "Epoch 12/50\n",
      "9000/9000 [==============================] - 0s 45us/sample - loss: 1.0607e-04 - val_loss: 9.5773e-05\n",
      "Epoch 13/50\n",
      "9000/9000 [==============================] - 0s 46us/sample - loss: 1.0064e-04 - val_loss: 9.2115e-05\n",
      "Epoch 14/50\n",
      "9000/9000 [==============================] - 0s 48us/sample - loss: 9.7553e-05 - val_loss: 9.1810e-05\n",
      "Epoch 15/50\n",
      "9000/9000 [==============================] - 0s 52us/sample - loss: 9.6723e-05 - val_loss: 9.1766e-05\n",
      "Epoch 16/50\n",
      "9000/9000 [==============================] - 0s 43us/sample - loss: 9.6573e-05 - val_loss: 9.1434e-05\n",
      "Epoch 17/50\n",
      "9000/9000 [==============================] - 0s 43us/sample - loss: 9.5888e-05 - val_loss: 9.1354e-05\n",
      "Epoch 18/50\n",
      "9000/9000 [==============================] - 0s 42us/sample - loss: 9.5642e-05 - val_loss: 9.1227e-05\n",
      "Epoch 19/50\n",
      "9000/9000 [==============================] - 0s 43us/sample - loss: 9.5964e-05 - val_loss: 9.0723e-05\n",
      "Epoch 20/50\n",
      "9000/9000 [==============================] - 0s 43us/sample - loss: 9.5446e-05 - val_loss: 9.2043e-05\n",
      "Epoch 21/50\n",
      "9000/9000 [==============================] - 0s 43us/sample - loss: 9.5551e-05 - val_loss: 9.0580e-05\n",
      "Epoch 22/50\n",
      "9000/9000 [==============================] - 0s 44us/sample - loss: 9.5459e-05 - val_loss: 9.0564e-05\n",
      "Epoch 23/50\n",
      "9000/9000 [==============================] - 0s 44us/sample - loss: 9.5156e-05 - val_loss: 9.0816e-05\n",
      "Epoch 24/50\n",
      "9000/9000 [==============================] - 0s 42us/sample - loss: 9.5154e-05 - val_loss: 8.9654e-05\n",
      "Epoch 25/50\n",
      "9000/9000 [==============================] - 0s 47us/sample - loss: 9.5635e-05 - val_loss: 9.0337e-05\n",
      "Epoch 26/50\n",
      "9000/9000 [==============================] - 0s 43us/sample - loss: 9.5231e-05 - val_loss: 9.0905e-05\n",
      "Epoch 27/50\n",
      "9000/9000 [==============================] - 0s 44us/sample - loss: 9.5166e-05 - val_loss: 9.4953e-05\n",
      "Epoch 28/50\n",
      "9000/9000 [==============================] - 0s 42us/sample - loss: 9.6315e-05 - val_loss: 9.1049e-05\n",
      "Epoch 29/50\n",
      "9000/9000 [==============================] - 0s 42us/sample - loss: 9.5632e-05 - val_loss: 9.0480e-05\n",
      "Epoch 30/50\n",
      "9000/9000 [==============================] - 0s 44us/sample - loss: 9.5706e-05 - val_loss: 9.0936e-05\n",
      "Epoch 31/50\n",
      "9000/9000 [==============================] - 0s 44us/sample - loss: 9.4794e-05 - val_loss: 8.9921e-05\n",
      "Epoch 32/50\n",
      "9000/9000 [==============================] - 0s 43us/sample - loss: 9.3918e-05 - val_loss: 8.9460e-05\n",
      "Epoch 33/50\n",
      "9000/9000 [==============================] - 0s 42us/sample - loss: 9.3977e-05 - val_loss: 8.9026e-05\n",
      "Epoch 34/50\n",
      "9000/9000 [==============================] - 0s 42us/sample - loss: 9.4393e-05 - val_loss: 9.1486e-05\n",
      "Epoch 35/50\n",
      "9000/9000 [==============================] - 0s 42us/sample - loss: 9.4771e-05 - val_loss: 9.0081e-05\n",
      "Epoch 36/50\n",
      "9000/9000 [==============================] - 0s 43us/sample - loss: 9.4074e-05 - val_loss: 8.9273e-05\n",
      "Epoch 37/50\n",
      "9000/9000 [==============================] - 0s 44us/sample - loss: 9.3825e-05 - val_loss: 9.2048e-05\n",
      "Epoch 38/50\n",
      "9000/9000 [==============================] - 0s 42us/sample - loss: 9.4490e-05 - val_loss: 8.9663e-05\n",
      "Epoch 39/50\n",
      "9000/9000 [==============================] - 0s 47us/sample - loss: 9.3776e-05 - val_loss: 8.9731e-05\n",
      "Epoch 40/50\n",
      "9000/9000 [==============================] - 0s 45us/sample - loss: 9.4223e-05 - val_loss: 9.2380e-05\n",
      "Epoch 41/50\n",
      "9000/9000 [==============================] - 0s 47us/sample - loss: 9.4412e-05 - val_loss: 8.9429e-05\n",
      "Epoch 42/50\n",
      "9000/9000 [==============================] - 0s 45us/sample - loss: 9.3901e-05 - val_loss: 9.1249e-05\n",
      "Epoch 43/50\n",
      "9000/9000 [==============================] - 0s 49us/sample - loss: 9.5142e-05 - val_loss: 9.0248e-05\n",
      "Epoch 44/50\n",
      "9000/9000 [==============================] - 0s 47us/sample - loss: 9.3650e-05 - val_loss: 9.1007e-05\n",
      "Epoch 45/50\n",
      "9000/9000 [==============================] - 0s 45us/sample - loss: 9.3404e-05 - val_loss: 8.9769e-05\n",
      "Epoch 46/50\n",
      "9000/9000 [==============================] - 0s 44us/sample - loss: 9.2830e-05 - val_loss: 8.7198e-05\n",
      "Epoch 47/50\n",
      "9000/9000 [==============================] - 0s 48us/sample - loss: 9.2999e-05 - val_loss: 8.7631e-05\n",
      "Epoch 48/50\n",
      "9000/9000 [==============================] - 0s 45us/sample - loss: 9.2578e-05 - val_loss: 8.6842e-05\n",
      "Epoch 49/50\n",
      "9000/9000 [==============================] - 0s 44us/sample - loss: 9.1885e-05 - val_loss: 8.7506e-05\n",
      "Epoch 50/50\n",
      "9000/9000 [==============================] - 0s 43us/sample - loss: 9.1923e-05 - val_loss: 8.7708e-05\n"
     ]
    }
   ],
   "source": [
    "now = time.time()\n",
    "out = model.fit(X, y, validation_split = 0.1, epochs = 50, batch_size = 1000, shuffle = True, verbose = 1)"
   ]
  },
  {
   "cell_type": "code",
   "execution_count": 4,
   "metadata": {},
   "outputs": [],
   "source": [
    "model2 = keras.Sequential()\n",
    "model2.add(keras.layers.Dense(units = 100, \n",
    "                             activation = 'tanh', \n",
    "                             input_dim = 6))\n",
    "model2.add(keras.layers.Dense(units = 100,\n",
    "                             activation = 'tanh'))\n",
    "model2.add(keras.layers.Dense(units = 120,\n",
    "                             activation = 'tanh'))\n",
    "model2.add(keras.layers.Dense(units = 1, activation = None))\n",
    "model2.compile(loss = tf.losses.mse, optimizer = \"adam\")"
   ]
  },
  {
   "cell_type": "code",
   "execution_count": 5,
   "metadata": {},
   "outputs": [
    {
     "name": "stdout",
     "output_type": "stream",
     "text": [
      "Train on 9000 samples, validate on 1000 samples\n",
      "Epoch 1/50\n",
      "9000/9000 [==============================] - 0s 46us/sample - loss: 0.6848 - val_loss: 0.0294\n",
      "Epoch 2/50\n",
      "9000/9000 [==============================] - 0s 3us/sample - loss: 0.1008 - val_loss: 0.0404\n",
      "Epoch 3/50\n",
      "9000/9000 [==============================] - 0s 3us/sample - loss: 0.0282 - val_loss: 0.0345\n",
      "Epoch 4/50\n",
      "9000/9000 [==============================] - 0s 3us/sample - loss: 0.0191 - val_loss: 0.0082\n",
      "Epoch 5/50\n",
      "9000/9000 [==============================] - 0s 3us/sample - loss: 0.0092 - val_loss: 0.0054\n",
      "Epoch 6/50\n",
      "9000/9000 [==============================] - 0s 3us/sample - loss: 0.0050 - val_loss: 0.0040\n",
      "Epoch 7/50\n",
      "9000/9000 [==============================] - 0s 3us/sample - loss: 0.0038 - val_loss: 0.0033\n",
      "Epoch 8/50\n",
      "9000/9000 [==============================] - 0s 3us/sample - loss: 0.0032 - val_loss: 0.0027\n",
      "Epoch 9/50\n",
      "9000/9000 [==============================] - 0s 3us/sample - loss: 0.0029 - val_loss: 0.0025\n",
      "Epoch 10/50\n",
      "9000/9000 [==============================] - 0s 3us/sample - loss: 0.0028 - val_loss: 0.0024\n",
      "Epoch 11/50\n",
      "9000/9000 [==============================] - 0s 4us/sample - loss: 0.0027 - val_loss: 0.0023\n",
      "Epoch 12/50\n",
      "9000/9000 [==============================] - 0s 4us/sample - loss: 0.0026 - val_loss: 0.0023\n",
      "Epoch 13/50\n",
      "9000/9000 [==============================] - 0s 3us/sample - loss: 0.0025 - val_loss: 0.0022\n",
      "Epoch 14/50\n",
      "9000/9000 [==============================] - 0s 4us/sample - loss: 0.0024 - val_loss: 0.0021\n",
      "Epoch 15/50\n",
      "9000/9000 [==============================] - 0s 3us/sample - loss: 0.0024 - val_loss: 0.0021\n",
      "Epoch 16/50\n",
      "9000/9000 [==============================] - 0s 4us/sample - loss: 0.0023 - val_loss: 0.0020\n",
      "Epoch 17/50\n",
      "9000/9000 [==============================] - 0s 3us/sample - loss: 0.0023 - val_loss: 0.0020\n",
      "Epoch 18/50\n",
      "9000/9000 [==============================] - 0s 3us/sample - loss: 0.0022 - val_loss: 0.0020\n",
      "Epoch 19/50\n",
      "9000/9000 [==============================] - 0s 3us/sample - loss: 0.0022 - val_loss: 0.0019\n",
      "Epoch 20/50\n",
      "9000/9000 [==============================] - 0s 3us/sample - loss: 0.0021 - val_loss: 0.0019\n",
      "Epoch 21/50\n",
      "9000/9000 [==============================] - 0s 3us/sample - loss: 0.0021 - val_loss: 0.0019\n",
      "Epoch 22/50\n",
      "9000/9000 [==============================] - 0s 3us/sample - loss: 0.0020 - val_loss: 0.0018\n",
      "Epoch 23/50\n",
      "9000/9000 [==============================] - 0s 3us/sample - loss: 0.0020 - val_loss: 0.0018\n",
      "Epoch 24/50\n",
      "9000/9000 [==============================] - 0s 3us/sample - loss: 0.0019 - val_loss: 0.0018\n",
      "Epoch 25/50\n",
      "9000/9000 [==============================] - 0s 3us/sample - loss: 0.0019 - val_loss: 0.0017\n",
      "Epoch 26/50\n",
      "9000/9000 [==============================] - 0s 3us/sample - loss: 0.0018 - val_loss: 0.0017\n",
      "Epoch 27/50\n",
      "9000/9000 [==============================] - 0s 3us/sample - loss: 0.0018 - val_loss: 0.0016\n",
      "Epoch 28/50\n",
      "9000/9000 [==============================] - 0s 3us/sample - loss: 0.0018 - val_loss: 0.0016\n",
      "Epoch 29/50\n",
      "9000/9000 [==============================] - 0s 3us/sample - loss: 0.0017 - val_loss: 0.0016\n",
      "Epoch 30/50\n",
      "9000/9000 [==============================] - 0s 3us/sample - loss: 0.0017 - val_loss: 0.0015\n",
      "Epoch 31/50\n",
      "9000/9000 [==============================] - 0s 3us/sample - loss: 0.0017 - val_loss: 0.0015\n",
      "Epoch 32/50\n",
      "9000/9000 [==============================] - 0s 3us/sample - loss: 0.0016 - val_loss: 0.0015\n",
      "Epoch 33/50\n",
      "9000/9000 [==============================] - 0s 3us/sample - loss: 0.0016 - val_loss: 0.0015\n",
      "Epoch 34/50\n",
      "9000/9000 [==============================] - 0s 3us/sample - loss: 0.0016 - val_loss: 0.0015\n",
      "Epoch 35/50\n",
      "9000/9000 [==============================] - 0s 3us/sample - loss: 0.0016 - val_loss: 0.0014\n",
      "Epoch 36/50\n",
      "9000/9000 [==============================] - 0s 3us/sample - loss: 0.0015 - val_loss: 0.0014\n",
      "Epoch 37/50\n",
      "9000/9000 [==============================] - 0s 3us/sample - loss: 0.0015 - val_loss: 0.0014\n",
      "Epoch 38/50\n",
      "9000/9000 [==============================] - 0s 3us/sample - loss: 0.0015 - val_loss: 0.0014\n",
      "Epoch 39/50\n",
      "9000/9000 [==============================] - 0s 3us/sample - loss: 0.0015 - val_loss: 0.0014\n",
      "Epoch 40/50\n",
      "9000/9000 [==============================] - 0s 3us/sample - loss: 0.0014 - val_loss: 0.0013\n",
      "Epoch 41/50\n",
      "9000/9000 [==============================] - 0s 3us/sample - loss: 0.0014 - val_loss: 0.0013\n",
      "Epoch 42/50\n",
      "9000/9000 [==============================] - 0s 3us/sample - loss: 0.0014 - val_loss: 0.0013\n",
      "Epoch 43/50\n",
      "9000/9000 [==============================] - 0s 3us/sample - loss: 0.0014 - val_loss: 0.0013\n",
      "Epoch 44/50\n",
      "9000/9000 [==============================] - 0s 3us/sample - loss: 0.0014 - val_loss: 0.0013\n",
      "Epoch 45/50\n",
      "9000/9000 [==============================] - 0s 3us/sample - loss: 0.0013 - val_loss: 0.0012\n",
      "Epoch 46/50\n",
      "9000/9000 [==============================] - 0s 4us/sample - loss: 0.0013 - val_loss: 0.0012\n",
      "Epoch 47/50\n",
      "9000/9000 [==============================] - 0s 4us/sample - loss: 0.0013 - val_loss: 0.0012\n",
      "Epoch 48/50\n",
      "9000/9000 [==============================] - 0s 3us/sample - loss: 0.0013 - val_loss: 0.0012\n",
      "Epoch 49/50\n",
      "9000/9000 [==============================] - 0s 4us/sample - loss: 0.0012 - val_loss: 0.0012\n",
      "Epoch 50/50\n",
      "9000/9000 [==============================] - 0s 3us/sample - loss: 0.0012 - val_loss: 0.0012\n",
      "1.9365310668945312\n"
     ]
    }
   ],
   "source": [
    "now = time.time()\n",
    "out2 = model2.fit(X, y, validation_split = 0.1, epochs = 50, batch_size = 1000, shuffle = True, verbose = 1) \n",
    "print(time.time() - now)"
   ]
  },
  {
   "cell_type": "code",
   "execution_count": 10,
   "metadata": {},
   "outputs": [
    {
     "name": "stdout",
     "output_type": "stream",
     "text": [
      "Train on 9000 samples, validate on 1000 samples\n",
      "Epoch 1/2\n",
      "9000/9000 [==============================] - 1s 63us/sample - loss: 6.1040e-04 - val_loss: 5.5717e-04\n",
      "Epoch 2/2\n",
      "9000/9000 [==============================] - 0s 52us/sample - loss: 6.0650e-04 - val_loss: 5.5302e-04\n"
     ]
    }
   ],
   "source": [
    "out = model.fit(X, y, validation_split = 0.1, epochs = 2, batch_size = 1000, shuffle = True, verbose = 1)"
   ]
  },
  {
   "cell_type": "code",
   "execution_count": 245,
   "metadata": {},
   "outputs": [
    {
     "name": "stdout",
     "output_type": "stream",
     "text": [
      "Model: \"sequential_67\"\n",
      "_________________________________________________________________\n",
      "Layer (type)                 Output Shape              Param #   \n",
      "=================================================================\n",
      "dense_82 (Dense)             (None, 256)               1792      \n",
      "_________________________________________________________________\n",
      "reshape_49 (Reshape)         (None, 16, 16, 1)         0         \n",
      "_________________________________________________________________\n",
      "conv2d_42 (Conv2D)           (None, 8, 8, 32)          2624      \n",
      "_________________________________________________________________\n",
      "conv2d_43 (Conv2D)           (None, 2, 2, 64)          73792     \n",
      "_________________________________________________________________\n",
      "flatten_66 (Flatten)         (None, 256)               0         \n",
      "_________________________________________________________________\n",
      "dense_83 (Dense)             (None, 1)                 257       \n",
      "=================================================================\n",
      "Total params: 78,465\n",
      "Trainable params: 78,465\n",
      "Non-trainable params: 0\n",
      "_________________________________________________________________\n"
     ]
    }
   ],
   "source": [
    "model.summary()"
   ]
  },
  {
   "cell_type": "code",
   "execution_count": 56,
   "metadata": {},
   "outputs": [
    {
     "ename": "AttributeError",
     "evalue": "'ResourceVariable' object has no attribute 'to_numpy'",
     "output_type": "error",
     "traceback": [
      "\u001b[0;31m---------------------------------------------------------------------------\u001b[0m",
      "\u001b[0;31mAttributeError\u001b[0m                            Traceback (most recent call last)",
      "\u001b[0;32m<ipython-input-56-dcdb002dea56>\u001b[0m in \u001b[0;36m<module>\u001b[0;34m\u001b[0m\n\u001b[0;32m----> 1\u001b[0;31m \u001b[0mmodel\u001b[0m\u001b[0;34m.\u001b[0m\u001b[0mlayers\u001b[0m\u001b[0;34m[\u001b[0m\u001b[0;36m0\u001b[0m\u001b[0;34m]\u001b[0m\u001b[0;34m.\u001b[0m\u001b[0mweights\u001b[0m\u001b[0;34m[\u001b[0m\u001b[0;36m1\u001b[0m\u001b[0;34m]\u001b[0m\u001b[0;34m.\u001b[0m\u001b[0mto_numpy\u001b[0m\u001b[0;34m(\u001b[0m\u001b[0;34m)\u001b[0m\u001b[0;34m\u001b[0m\u001b[0;34m\u001b[0m\u001b[0m\n\u001b[0m",
      "\u001b[0;31mAttributeError\u001b[0m: 'ResourceVariable' object has no attribute 'to_numpy'"
     ]
    }
   ],
   "source": [
    "model.layers[0].weights[1]."
   ]
  },
  {
   "cell_type": "code",
   "execution_count": 143,
   "metadata": {},
   "outputs": [],
   "source": [
    "weights = []\n",
    "for layer in model.layers:\n",
    "    weights.append(layer.get_weights())"
   ]
  },
  {
   "cell_type": "code",
   "execution_count": 157,
   "metadata": {},
   "outputs": [
    {
     "data": {
      "text/plain": [
       "(6, 1, 128)"
      ]
     },
     "execution_count": 157,
     "metadata": {},
     "output_type": "execute_result"
    }
   ],
   "source": [
    "weights[3][0].shape"
   ]
  },
  {
   "cell_type": "code",
   "execution_count": 70,
   "metadata": {},
   "outputs": [
    {
     "ename": "AttributeError",
     "evalue": "'ResourceVariable' object has no attribute 'tensor_shape'",
     "output_type": "error",
     "traceback": [
      "\u001b[0;31m---------------------------------------------------------------------------\u001b[0m",
      "\u001b[0;31mAttributeError\u001b[0m                            Traceback (most recent call last)",
      "\u001b[0;32m<ipython-input-70-d4c28086ffdd>\u001b[0m in \u001b[0;36m<module>\u001b[0;34m\u001b[0m\n\u001b[0;32m----> 1\u001b[0;31m \u001b[0mx\u001b[0m \u001b[0;34m=\u001b[0m \u001b[0mtf\u001b[0m\u001b[0;34m.\u001b[0m\u001b[0mmake_ndarray\u001b[0m\u001b[0;34m(\u001b[0m\u001b[0mmodel\u001b[0m\u001b[0;34m.\u001b[0m\u001b[0mlayers\u001b[0m\u001b[0;34m[\u001b[0m\u001b[0;36m5\u001b[0m\u001b[0;34m]\u001b[0m\u001b[0;34m.\u001b[0m\u001b[0mweights\u001b[0m\u001b[0;34m[\u001b[0m\u001b[0;36m0\u001b[0m\u001b[0;34m]\u001b[0m\u001b[0;34m)\u001b[0m\u001b[0;34m\u001b[0m\u001b[0;34m\u001b[0m\u001b[0m\n\u001b[0m",
      "\u001b[0;32m~/opt/miniconda3/lib/python3.7/site-packages/tensorflow_core/python/framework/tensor_util.py\u001b[0m in \u001b[0;36mMakeNdarray\u001b[0;34m(tensor)\u001b[0m\n",
      "\u001b[0;31mAttributeError\u001b[0m: 'ResourceVariable' object has no attribute 'tensor_shape'"
     ]
    }
   ],
   "source": [
    "x = tf.make_ndarray(model.layers[5].weights[0])"
   ]
  },
  {
   "cell_type": "code",
   "execution_count": 84,
   "metadata": {},
   "outputs": [
    {
     "data": {
      "text/plain": [
       "array([-0.00140154], dtype=float32)"
      ]
     },
     "execution_count": 84,
     "metadata": {},
     "output_type": "execute_result"
    }
   ],
   "source": [
    "model.layers[5].get_weights()"
   ]
  },
  {
   "cell_type": "code",
   "execution_count": 129,
   "metadata": {},
   "outputs": [
    {
     "ename": "AttributeError",
     "evalue": "The layer has never been called and thus has no defined input shape.",
     "output_type": "error",
     "traceback": [
      "\u001b[0;31m---------------------------------------------------------------------------\u001b[0m",
      "\u001b[0;31mAttributeError\u001b[0m                            Traceback (most recent call last)",
      "\u001b[0;32m<ipython-input-129-86df747bb925>\u001b[0m in \u001b[0;36m<module>\u001b[0;34m\u001b[0m\n\u001b[1;32m      1\u001b[0m \u001b[0;32mfor\u001b[0m \u001b[0mlayer\u001b[0m \u001b[0;32min\u001b[0m \u001b[0mmodel\u001b[0m\u001b[0;34m.\u001b[0m\u001b[0mlayers\u001b[0m\u001b[0;34m:\u001b[0m\u001b[0;34m\u001b[0m\u001b[0;34m\u001b[0m\u001b[0m\n\u001b[0;32m----> 2\u001b[0;31m     \u001b[0mprint\u001b[0m\u001b[0;34m(\u001b[0m\u001b[0mlayer\u001b[0m\u001b[0;34m.\u001b[0m\u001b[0minput_shape\u001b[0m\u001b[0;34m)\u001b[0m\u001b[0;34m\u001b[0m\u001b[0;34m\u001b[0m\u001b[0m\n\u001b[0m",
      "\u001b[0;32m~/opt/miniconda3/lib/python3.7/site-packages/tensorflow_core/python/keras/engine/base_layer.py\u001b[0m in \u001b[0;36minput_shape\u001b[0;34m(self)\u001b[0m\n\u001b[1;32m   1571\u001b[0m     \"\"\"\n\u001b[1;32m   1572\u001b[0m     \u001b[0;32mif\u001b[0m \u001b[0;32mnot\u001b[0m \u001b[0mself\u001b[0m\u001b[0;34m.\u001b[0m\u001b[0m_inbound_nodes\u001b[0m\u001b[0;34m:\u001b[0m\u001b[0;34m\u001b[0m\u001b[0;34m\u001b[0m\u001b[0m\n\u001b[0;32m-> 1573\u001b[0;31m       raise AttributeError('The layer has never been called '\n\u001b[0m\u001b[1;32m   1574\u001b[0m                            'and thus has no defined input shape.')\n\u001b[1;32m   1575\u001b[0m     all_input_shapes = set(\n",
      "\u001b[0;31mAttributeError\u001b[0m: The layer has never been called and thus has no defined input shape."
     ]
    }
   ],
   "source": [
    "for layer in model.layers:\n",
    "    print(layer.input_shape)"
   ]
  },
  {
   "cell_type": "code",
   "execution_count": 77,
   "metadata": {},
   "outputs": [
    {
     "name": "stdout",
     "output_type": "stream",
     "text": [
      "Model: \"sequential_11\"\n",
      "_________________________________________________________________\n",
      "Layer (type)                 Output Shape              Param #   \n",
      "=================================================================\n",
      "conv1d_20 (Conv1D)           multiple                  896       \n",
      "_________________________________________________________________\n",
      "conv1d_21 (Conv1D)           multiple                  769       \n",
      "_________________________________________________________________\n",
      "flatten_10 (Flatten)         multiple                  0         \n",
      "_________________________________________________________________\n",
      "dense_10 (Dense)             multiple                  4         \n",
      "=================================================================\n",
      "Total params: 1,669\n",
      "Trainable params: 1,669\n",
      "Non-trainable params: 0\n",
      "_________________________________________________________________\n"
     ]
    }
   ],
   "source": [
    "model.summary()"
   ]
  },
  {
   "cell_type": "code",
   "execution_count": 6,
   "metadata": {},
   "outputs": [],
   "source": [
    "from tensorflow.keras.layers import Dense, Flatten, Conv2D, MaxPool2D, Dropout, Concatenate\n",
    "from tensorflow.keras import Model\n",
    "class MyModel(Model):\n",
    "    def __init__(self):\n",
    "        super(MyModel, self).__init__()\n",
    "#         self.Dense = Conv2D(4, 4, strides= (2, 2), padding = \"same\", activation = 'relu')\n",
    "#         self.conv2 = Conv2D(4, 2, strides= (2, 2), padding = \"same\", activation = 'relu')\n",
    "#         self.pool1 = MaxPool2D((2,2))\n",
    "#         self.flatten1 = Flatten()\n",
    "        self.dense0 = Dense(100, activation = 'tanh', input_shape = (6,))\n",
    "        self.dense1 = Dense(100, activation = 'tanh')\n",
    "        self.dense2 = Dense(1, activation = None)\n",
    "#         self.dense1 = Dense(1, activation = 'relu')\n",
    "#         self.dense2 = Dense(50, activation = 'relu')\n",
    "#         self.dense3 = Dense(10, activation = 'softmax')\n",
    "#         self.concat = Concatenate()\n",
    "\n",
    "    #self.conv2 = Conv2D(7, 2, strides = (1, 1), padding = \"same\", activation = 'relu')\n",
    "    #self.pool1 = MaxPool2D((2, 2))\n",
    "    def call(self, x):\n",
    "        x = self.dense0(x)\n",
    "        x = self.dense1(x)\n",
    "        x = self.dense1(x)\n",
    "        x = self.dense2(x)\n",
    "#         z = self.dense1(x)\n",
    "#         y = self.dense2(x)\n",
    "#         concat = self.concat([z, y])\n",
    "#         out = self.dense3(concat)\n",
    "        return x"
   ]
  },
  {
   "cell_type": "code",
   "execution_count": 7,
   "metadata": {},
   "outputs": [],
   "source": [
    "model = MyModel()\n",
    "loss_object = tf.keras.losses.MeanSquaredError()\n",
    "optimizer = tf.keras.optimizers.Adam()\n",
    "\n",
    "train_loss = tf.keras.metrics.Mean(name = 'train_loss')\n",
    "test_loss = tf.keras.metrics.Mean(name = 'test_loss')\n",
    "train_accuracy = tf.keras.metrics.MeanSquaredError(name = 'train_accuracy')\n",
    "test_accuracy = tf.keras.metrics.MeanSquaredError(name = 'test_accuracy')"
   ]
  },
  {
   "cell_type": "code",
   "execution_count": 8,
   "metadata": {},
   "outputs": [],
   "source": [
    "@tf.function\n",
    "def train_step(images, labels):\n",
    "    with tf.GradientTape() as tape:\n",
    "        predictions = model(images)\n",
    "        loss = loss_object(labels, predictions)\n",
    "        gradients = tape.gradient(loss, model.trainable_variables)\n",
    "        optimizer.apply_gradients(zip(gradients, model.trainable_variables))\n",
    "    train_loss(loss)\n",
    "    train_accuracy(labels, predictions)\n",
    "\n",
    "\n",
    "@tf.function\n",
    "def eval_step(images, labels):\n",
    "    predictions = model(images)\n",
    "    test_accuracy(labels, predictions)\n",
    "    loss = loss_object(labels, predictions)\n",
    "    test_loss(loss)"
   ]
  },
  {
   "cell_type": "code",
   "execution_count": 9,
   "metadata": {},
   "outputs": [
    {
     "name": "stdout",
     "output_type": "stream",
     "text": [
      "Epoch:  1 Train Loss:  0.76082796 Train Accuracy:  76.08279585838318\n",
      "Epoch:  1 Eval Loss:  0.064416505 Eval Accuracy:  6.441650539636612\n",
      "Epoch:  2 Train Loss:  0.06397109 Train Accuracy:  6.397108733654022\n",
      "Epoch:  2 Eval Loss:  0.13815363 Eval Accuracy:  13.815362751483917\n",
      "Epoch:  3 Train Loss:  0.07109569 Train Accuracy:  7.109569013118744\n",
      "Epoch:  3 Eval Loss:  0.0056236545 Eval Accuracy:  0.5623654462397099\n",
      "Epoch:  4 Train Loss:  0.016405798 Train Accuracy:  1.6405798494815826\n",
      "Epoch:  4 Eval Loss:  0.02920593 Eval Accuracy:  2.920592948794365\n",
      "Epoch:  5 Train Loss:  0.017045707 Train Accuracy:  1.7045708373188972\n",
      "Epoch:  5 Eval Loss:  0.0050159087 Eval Accuracy:  0.5015908740460873\n",
      "Epoch:  6 Train Loss:  0.0057878476 Train Accuracy:  0.5787847563624382\n",
      "Epoch:  6 Eval Loss:  0.00773444 Eval Accuracy:  0.7734439801424742\n",
      "Epoch:  7 Train Loss:  0.0054249526 Train Accuracy:  0.54249526001513\n",
      "Epoch:  7 Eval Loss:  0.003525819 Eval Accuracy:  0.352581893093884\n",
      "Epoch:  8 Train Loss:  0.0036393062 Train Accuracy:  0.3639306640252471\n",
      "Epoch:  8 Eval Loss:  0.004312307 Eval Accuracy:  0.4312307108193636\n",
      "Epoch:  9 Train Loss:  0.0033045965 Train Accuracy:  0.33045969903469086\n",
      "Epoch:  9 Eval Loss:  0.003253206 Eval Accuracy:  0.32532059121876955\n",
      "Epoch:  10 Train Loss:  0.0030711025 Train Accuracy:  0.3071102546527982\n",
      "Epoch:  10 Eval Loss:  0.0031843989 Eval Accuracy:  0.31843988690525293\n",
      "Epoch:  11 Train Loss:  0.002840059 Train Accuracy:  0.2840059343725443\n",
      "Epoch:  11 Eval Loss:  0.0032050952 Eval Accuracy:  0.3205095184966922\n",
      "Epoch:  12 Train Loss:  0.002812249 Train Accuracy:  0.281224912032485\n",
      "Epoch:  12 Eval Loss:  0.0030345777 Eval Accuracy:  0.3034577704966068\n",
      "Epoch:  13 Train Loss:  0.002730674 Train Accuracy:  0.27306738775223494\n",
      "Epoch:  13 Eval Loss:  0.00296913 Eval Accuracy:  0.296912994235754\n",
      "Epoch:  14 Train Loss:  0.0026670576 Train Accuracy:  0.26670575607568026\n",
      "Epoch:  14 Eval Loss:  0.002948657 Eval Accuracy:  0.29486569110304117\n",
      "Epoch:  15 Train Loss:  0.0026264647 Train Accuracy:  0.26264647021889687\n",
      "Epoch:  15 Eval Loss:  0.0028797346 Eval Accuracy:  0.2879734616726637\n",
      "Epoch:  16 Train Loss:  0.0025800185 Train Accuracy:  0.25800184812396765\n",
      "Epoch:  16 Eval Loss:  0.00282823 Eval Accuracy:  0.2828229917213321\n",
      "Epoch:  17 Train Loss:  0.0025335704 Train Accuracy:  0.2533570397645235\n",
      "Epoch:  17 Eval Loss:  0.0027901335 Eval Accuracy:  0.27901334688067436\n",
      "Epoch:  18 Train Loss:  0.0024930923 Train Accuracy:  0.2493092091754079\n",
      "Epoch:  18 Eval Loss:  0.0027385976 Eval Accuracy:  0.2738597569987178\n",
      "Epoch:  19 Train Loss:  0.0024518808 Train Accuracy:  0.24518808349967003\n",
      "Epoch:  19 Eval Loss:  0.0026942322 Eval Accuracy:  0.26942321565002203\n",
      "Epoch:  20 Train Loss:  0.0024119748 Train Accuracy:  0.24119748268276453\n",
      "Epoch:  20 Eval Loss:  0.0026523792 Eval Accuracy:  0.26523792184889317\n",
      "Epoch:  21 Train Loss:  0.002374428 Train Accuracy:  0.2374428091570735\n",
      "Epoch:  21 Eval Loss:  0.002608304 Eval Accuracy:  0.2608303911983967\n",
      "Epoch:  22 Train Loss:  0.002337392 Train Accuracy:  0.23373921867460012\n",
      "Epoch:  22 Eval Loss:  0.0025675555 Eval Accuracy:  0.2567555522546172\n",
      "Epoch:  23 Train Loss:  0.0023017912 Train Accuracy:  0.23017912171781063\n",
      "Epoch:  23 Eval Loss:  0.0025273117 Eval Accuracy:  0.25273116771131754\n",
      "Epoch:  24 Train Loss:  0.0022674045 Train Accuracy:  0.226740469224751\n",
      "Epoch:  24 Eval Loss:  0.0024876795 Eval Accuracy:  0.24876794777810574\n",
      "Epoch:  25 Train Loss:  0.0022338666 Train Accuracy:  0.22338666021823883\n",
      "Epoch:  25 Eval Loss:  0.0024497833 Eval Accuracy:  0.24497832637280226\n",
      "Epoch:  26 Train Loss:  0.0022014934 Train Accuracy:  0.2201493363827467\n",
      "Epoch:  26 Eval Loss:  0.002412419 Eval Accuracy:  0.2412419067695737\n",
      "Epoch:  27 Train Loss:  0.0021699748 Train Accuracy:  0.2169974846765399\n",
      "Epoch:  27 Eval Loss:  0.002376368 Eval Accuracy:  0.2376368036493659\n",
      "Epoch:  28 Train Loss:  0.0021393565 Train Accuracy:  0.21393566858023405\n",
      "Epoch:  28 Eval Loss:  0.0023413368 Eval Accuracy:  0.2341336803510785\n",
      "Epoch:  29 Train Loss:  0.0021096068 Train Accuracy:  0.21096067503094673\n",
      "Epoch:  29 Eval Loss:  0.0023072879 Eval Accuracy:  0.2307287883013487\n",
      "Epoch:  30 Train Loss:  0.0020806196 Train Accuracy:  0.20806193351745605\n",
      "Epoch:  30 Eval Loss:  0.00227438 Eval Accuracy:  0.22743800655007362\n",
      "Epoch:  31 Train Loss:  0.0020524275 Train Accuracy:  0.2052427502349019\n",
      "Epoch:  31 Eval Loss:  0.0022424 Eval Accuracy:  0.22424000781029463\n",
      "Epoch:  32 Train Loss:  0.0020249472 Train Accuracy:  0.20249471999704838\n",
      "Epoch:  32 Eval Loss:  0.0022114674 Eval Accuracy:  0.22114673629403114\n",
      "Epoch:  33 Train Loss:  0.0019981805 Train Accuracy:  0.19981805235147476\n",
      "Epoch:  33 Eval Loss:  0.0021814613 Eval Accuracy:  0.2181461313739419\n",
      "Epoch:  34 Train Loss:  0.0019720905 Train Accuracy:  0.1972090220078826\n",
      "Epoch:  34 Eval Loss:  0.002152394 Eval Accuracy:  0.2152394037693739\n",
      "Epoch:  35 Train Loss:  0.0019466591 Train Accuracy:  0.19466590601950884\n",
      "Epoch:  35 Eval Loss:  0.0021242124 Eval Accuracy:  0.21242124494165182\n",
      "Epoch:  36 Train Loss:  0.0019218649 Train Accuracy:  0.19218645757064223\n",
      "Epoch:  36 Eval Loss:  0.0020968888 Eval Accuracy:  0.2096888842061162\n",
      "Epoch:  37 Train Loss:  0.0018976883 Train Accuracy:  0.1897688489407301\n",
      "Epoch:  37 Eval Loss:  0.0020703918 Eval Accuracy:  0.2070391783490777\n",
      "Epoch:  38 Train Loss:  0.0018741122 Train Accuracy:  0.1874112174846232\n",
      "Epoch:  38 Eval Loss:  0.0020446817 Eval Accuracy:  0.2044681692495942\n",
      "Epoch:  39 Train Loss:  0.0018511158 Train Accuracy:  0.1851115725003183\n",
      "Epoch:  39 Eval Loss:  0.0020197397 Eval Accuracy:  0.20197397097945213\n",
      "Epoch:  40 Train Loss:  0.0018286838 Train Accuracy:  0.18286838894709945\n",
      "Epoch:  40 Eval Loss:  0.0019955318 Eval Accuracy:  0.19955318421125412\n",
      "Epoch:  41 Train Loss:  0.0018067955 Train Accuracy:  0.18067954806610942\n",
      "Epoch:  41 Eval Loss:  0.0019720315 Eval Accuracy:  0.19720315467566252\n",
      "Epoch:  42 Train Loss:  0.0017854339 Train Accuracy:  0.17854338511824608\n",
      "Epoch:  42 Eval Loss:  0.0019492176 Eval Accuracy:  0.19492176361382008\n",
      "Epoch:  43 Train Loss:  0.0017645812 Train Accuracy:  0.1764581073075533\n",
      "Epoch:  43 Eval Loss:  0.0019270654 Eval Accuracy:  0.19270654302090406\n",
      "Epoch:  44 Train Loss:  0.0017442186 Train Accuracy:  0.174421863630414\n",
      "Epoch:  44 Eval Loss:  0.0019055525 Eval Accuracy:  0.19055524608120322\n",
      "Epoch:  45 Train Loss:  0.0017243307 Train Accuracy:  0.17243307083845139\n",
      "Epoch:  45 Eval Loss:  0.0018846581 Eval Accuracy:  0.1884658122435212\n",
      "Epoch:  46 Train Loss:  0.001704898 Train Accuracy:  0.1704897964373231\n",
      "Epoch:  46 Eval Loss:  0.0018643654 Eval Accuracy:  0.18643654184415936\n",
      "Epoch:  47 Train Loss:  0.0016859035 Train Accuracy:  0.16859035240486264\n",
      "Epoch:  47 Eval Loss:  0.0018446508 Eval Accuracy:  0.18446508329361677\n",
      "Epoch:  48 Train Loss:  0.0016673313 Train Accuracy:  0.16673312056809664\n",
      "Epoch:  48 Eval Loss:  0.0018254996 Eval Accuracy:  0.18254995811730623\n",
      "Epoch:  49 Train Loss:  0.0016491639 Train Accuracy:  0.16491638962179422\n",
      "Epoch:  49 Eval Loss:  0.0018068929 Eval Accuracy:  0.18068929202854633\n",
      "Epoch:  50 Train Loss:  0.0016313866 Train Accuracy:  0.16313866944983602\n",
      "Epoch:  50 Eval Loss:  0.0017888118 Eval Accuracy:  0.1788811758160591\n",
      "Running:  50  epochs,  9000  datapoints,  1000  batch size\n",
      "1.6813530921936035\n"
     ]
    }
   ],
   "source": [
    "EPOCHS = 50\n",
    "batch_size = 1000\n",
    "now = time.time()\n",
    "for epoch in range(EPOCHS):\n",
    "    \n",
    "    for i in range(8):\n",
    "        train_step(X[i * batch_size:(i+1)*batch_size, :], y[i*batch_size:(i + 1) * batch_size])\n",
    "        #print('train step completed...')\n",
    "\n",
    "    for i in range(8, 9, 1):\n",
    "        eval_step(X[i * batch_size: (i+1)*batch_size, :], y[i*batch_size:(i + 1) * batch_size])\n",
    "\n",
    "    #model.save_weights('/content', save_format = 'tf')\n",
    "    print('Epoch: ', str(epoch + 1), 'Train Loss: ', str(train_loss.result().numpy()), 'Train Accuracy: ', str(train_accuracy.result().numpy() * 100))\n",
    "    print('Epoch: ', str(epoch + 1), 'Eval Loss: ', str(test_loss.result().numpy()), 'Eval Accuracy: ', str(test_accuracy.result().numpy() * 100))\n",
    "\n",
    "\n",
    "    #train_loss_history.append(train_loss.result().numpy())\n",
    "    #test_loss_history.append(test_loss.result().numpy())\n",
    "    train_loss.reset_states()\n",
    "    train_accuracy.reset_states()\n",
    "    test_loss.reset_states()\n",
    "    test_accuracy.reset_states()\n",
    "\n",
    "print('Running: ', EPOCHS, ' epochs, ', 9000, ' datapoints, ', batch_size, ' batch size')\n",
    "print(time.time() - now)"
   ]
  },
  {
   "cell_type": "code",
   "execution_count": 10,
   "metadata": {},
   "outputs": [
    {
     "name": "stdout",
     "output_type": "stream",
     "text": [
      "0.0018636288642883301\n"
     ]
    }
   ],
   "source": [
    "now = time.time()\n",
    "for i in range(100):\n",
    "    for j in range(10):\n",
    "        model(X[(j*1000):((j+1)*1000)])\n",
    "print((time.time() - now) / 1000)"
   ]
  },
  {
   "cell_type": "code",
   "execution_count": 11,
   "metadata": {},
   "outputs": [],
   "source": [
    "model.save_weights('./tmp/tf2_model_test')"
   ]
  },
  {
   "cell_type": "code",
   "execution_count": 12,
   "metadata": {},
   "outputs": [],
   "source": [
    "model_reloaded = MyModel()"
   ]
  },
  {
   "cell_type": "code",
   "execution_count": 13,
   "metadata": {},
   "outputs": [
    {
     "data": {
      "text/plain": [
       "<tensorflow.python.training.tracking.util.CheckpointLoadStatus at 0x1a41b7de90>"
      ]
     },
     "execution_count": 13,
     "metadata": {},
     "output_type": "execute_result"
    }
   ],
   "source": [
    "model_reloaded.load_weights('./tmp/tf2_model_test')"
   ]
  },
  {
   "cell_type": "code",
   "execution_count": 22,
   "metadata": {},
   "outputs": [
    {
     "name": "stdout",
     "output_type": "stream",
     "text": [
      "0.0021431517601013185\n"
     ]
    }
   ],
   "source": [
    "now = time.time()\n",
    "for i in range(100):\n",
    "    for j in range(10):\n",
    "        model_reloaded(X[(j * 1000):((j + 1) * 1000)])\n",
    "print((time.time() - now) / 1000)"
   ]
  },
  {
   "cell_type": "code",
   "execution_count": 15,
   "metadata": {},
   "outputs": [
    {
     "name": "stdout",
     "output_type": "stream",
     "text": [
      "0.0327267529964447\n"
     ]
    }
   ],
   "source": [
    "now = time.time()\n",
    "for i in range(100):\n",
    "    for j in range(10):\n",
    "        model_reloaded.predict((X[(j * 1000):((j + 1) * 1000)]))\n",
    "print((time.time() - now) / 1000)"
   ]
  },
  {
   "cell_type": "code",
   "execution_count": 71,
   "metadata": {},
   "outputs": [],
   "source": [
    "model_ddm = keras.models.load_model('/Users/afengler/OneDrive/project_nn_likelihoods/data/kde/ddm/keras_models/dnnregressor_ddm_05_03_20_19_58_07/model_final.h5', compile = False)"
   ]
  },
  {
   "cell_type": "code",
   "execution_count": 76,
   "metadata": {},
   "outputs": [
    {
     "data": {
      "text/plain": [
       "-1000.0"
      ]
     },
     "execution_count": 76,
     "metadata": {},
     "output_type": "execute_result"
    }
   ],
   "source": [
    "np.sum(np.core.umath.maximum((model_ddm(np.zeros((1000, 6)))), -1))"
   ]
  },
  {
   "cell_type": "code",
   "execution_count": 23,
   "metadata": {},
   "outputs": [
    {
     "name": "stdout",
     "output_type": "stream",
     "text": [
      "0.0008058590888977051\n"
     ]
    }
   ],
   "source": [
    "now = time.time()\n",
    "for i in range(100):\n",
    "    for j in range(10):\n",
    "        model_reloaded.predict_on_batch(X[(j * 1000):((j + 1) * 1000)])\n",
    "print((time.time() - now) / 1000)"
   ]
  },
  {
   "cell_type": "code",
   "execution_count": 25,
   "metadata": {},
   "outputs": [
    {
     "name": "stdout",
     "output_type": "stream",
     "text": [
      "0.004635860919952392\n"
     ]
    }
   ],
   "source": [
    "now = time.time()\n",
    "for i in range(100):\n",
    "    model_reloaded.predict_on_batch(X)\n",
    "print((time.time() - now) / 100)"
   ]
  },
  {
   "cell_type": "code",
   "execution_count": 85,
   "metadata": {},
   "outputs": [],
   "source": [
    "t = ()"
   ]
  },
  {
   "cell_type": "code",
   "execution_count": 87,
   "metadata": {},
   "outputs": [
    {
     "data": {
      "text/plain": [
       "((1, 2),)"
      ]
     },
     "execution_count": 87,
     "metadata": {},
     "output_type": "execute_result"
    }
   ],
   "source": [
    "t"
   ]
  },
  {
   "cell_type": "code",
   "execution_count": 89,
   "metadata": {},
   "outputs": [
    {
     "data": {
      "text/plain": [
       "2.0"
      ]
     },
     "execution_count": 89,
     "metadata": {},
     "output_type": "execute_result"
    }
   ],
   "source": [
    "2 / (4 / 4)\n"
   ]
  },
  {
   "cell_type": "code",
   "execution_count": 41,
   "metadata": {},
   "outputs": [
    {
     "data": {
      "text/plain": [
       "5.0"
      ]
     },
     "execution_count": 41,
     "metadata": {},
     "output_type": "execute_result"
    }
   ],
   "source": [
    "np.log2(32)\n"
   ]
  },
  {
   "cell_type": "code",
   "execution_count": 45,
   "metadata": {},
   "outputs": [
    {
     "data": {
      "text/plain": [
       "(511, 1)"
      ]
     },
     "execution_count": 45,
     "metadata": {},
     "output_type": "execute_result"
    }
   ],
   "source": [
    "np.zeros((1000, 1))[np.invert(np.random.choice([True, False], size = 1000)),:].shape"
   ]
  },
  {
   "cell_type": "code",
   "execution_count": 49,
   "metadata": {},
   "outputs": [],
   "source": [
    "a = np.random.choice([True, False], size = 1000)"
   ]
  },
  {
   "cell_type": "code",
   "execution_count": 50,
   "metadata": {},
   "outputs": [
    {
     "data": {
      "text/plain": [
       "array([False,  True, False, False, False, False, False, False,  True,\n",
       "        True,  True, False,  True, False, False,  True,  True, False,\n",
       "        True, False, False,  True,  True, False,  True,  True, False,\n",
       "       False, False,  True, False,  True,  True,  True, False,  True,\n",
       "       False,  True,  True,  True, False, False, False, False, False,\n",
       "       False, False, False, False,  True,  True,  True,  True, False,\n",
       "       False,  True,  True, False, False,  True, False, False,  True,\n",
       "       False, False, False, False, False,  True,  True,  True, False,\n",
       "        True, False, False,  True, False, False, False, False,  True,\n",
       "       False, False,  True, False,  True,  True, False,  True, False,\n",
       "       False,  True,  True,  True, False,  True,  True, False, False,\n",
       "        True,  True, False,  True,  True, False, False, False, False,\n",
       "       False,  True, False,  True,  True,  True,  True,  True, False,\n",
       "       False, False, False,  True, False,  True,  True, False,  True,\n",
       "        True, False, False, False,  True,  True, False,  True,  True,\n",
       "        True,  True,  True, False, False,  True,  True,  True, False,\n",
       "       False,  True,  True,  True, False,  True,  True, False,  True,\n",
       "        True, False,  True, False,  True,  True, False,  True, False,\n",
       "        True, False, False, False,  True,  True,  True,  True, False,\n",
       "        True, False,  True,  True, False, False,  True,  True,  True,\n",
       "       False,  True,  True, False, False, False, False, False, False,\n",
       "       False,  True,  True,  True,  True,  True,  True, False,  True,\n",
       "       False,  True, False, False,  True, False,  True, False, False,\n",
       "        True,  True, False,  True, False, False, False, False, False,\n",
       "        True,  True,  True, False, False,  True,  True,  True, False,\n",
       "        True, False, False, False, False,  True, False,  True, False,\n",
       "       False,  True, False, False,  True, False, False, False, False,\n",
       "       False,  True,  True, False,  True,  True,  True,  True,  True,\n",
       "        True,  True, False, False,  True,  True,  True, False,  True,\n",
       "       False,  True, False,  True,  True,  True,  True, False,  True,\n",
       "       False,  True, False, False,  True,  True,  True, False, False,\n",
       "        True, False,  True,  True,  True, False, False,  True, False,\n",
       "       False,  True, False, False, False,  True, False,  True, False,\n",
       "       False, False, False,  True, False, False, False,  True,  True,\n",
       "       False, False,  True,  True, False,  True,  True, False, False,\n",
       "        True,  True, False, False, False, False,  True, False,  True,\n",
       "       False, False,  True,  True, False,  True, False, False,  True,\n",
       "        True, False, False, False,  True, False,  True,  True, False,\n",
       "       False, False,  True, False, False, False, False, False, False,\n",
       "       False,  True, False,  True,  True, False, False,  True,  True,\n",
       "       False,  True, False, False,  True,  True, False,  True,  True,\n",
       "       False,  True,  True, False,  True,  True,  True,  True, False,\n",
       "       False,  True,  True,  True,  True, False,  True, False, False,\n",
       "        True,  True,  True,  True,  True,  True,  True, False,  True,\n",
       "        True,  True,  True, False,  True, False, False, False, False,\n",
       "       False,  True, False, False,  True, False, False, False,  True,\n",
       "        True, False,  True,  True, False,  True, False,  True, False,\n",
       "        True, False, False,  True,  True,  True, False, False,  True,\n",
       "        True, False, False, False,  True, False,  True,  True,  True,\n",
       "        True, False,  True, False, False, False, False,  True, False,\n",
       "       False,  True, False,  True,  True, False,  True, False, False,\n",
       "       False, False, False, False, False,  True,  True, False,  True,\n",
       "        True,  True, False, False, False,  True,  True,  True,  True,\n",
       "        True,  True, False, False,  True, False,  True, False,  True,\n",
       "        True,  True,  True,  True,  True,  True, False,  True, False,\n",
       "        True, False,  True,  True,  True,  True,  True, False,  True,\n",
       "       False, False, False, False,  True,  True, False, False, False,\n",
       "       False, False, False, False, False,  True, False, False, False,\n",
       "       False, False,  True,  True, False, False,  True,  True, False,\n",
       "       False, False, False,  True,  True, False,  True, False, False,\n",
       "        True, False,  True,  True,  True, False,  True,  True, False,\n",
       "       False,  True, False, False, False,  True, False, False, False,\n",
       "        True, False,  True, False,  True,  True, False, False,  True,\n",
       "       False, False, False, False, False,  True,  True, False, False,\n",
       "       False, False, False, False, False,  True,  True,  True,  True,\n",
       "        True, False, False, False,  True,  True, False,  True, False,\n",
       "        True, False, False, False, False, False,  True,  True, False,\n",
       "        True, False,  True,  True, False, False,  True,  True,  True,\n",
       "       False,  True, False,  True,  True,  True, False, False,  True,\n",
       "        True, False, False,  True,  True,  True, False,  True, False,\n",
       "       False, False, False,  True, False, False,  True, False,  True,\n",
       "        True,  True, False, False,  True, False,  True, False, False,\n",
       "        True, False,  True,  True,  True, False, False,  True, False,\n",
       "       False,  True, False, False, False, False,  True,  True, False,\n",
       "       False, False, False, False, False,  True, False, False, False,\n",
       "        True, False,  True,  True,  True, False,  True,  True,  True,\n",
       "       False,  True, False, False, False,  True, False, False, False,\n",
       "       False,  True, False, False, False, False,  True,  True,  True,\n",
       "        True, False, False, False,  True,  True, False,  True,  True,\n",
       "        True, False,  True, False,  True,  True,  True, False, False,\n",
       "        True, False,  True, False, False, False, False, False, False,\n",
       "       False, False,  True,  True, False,  True, False,  True, False,\n",
       "        True,  True,  True,  True, False, False,  True,  True,  True,\n",
       "        True, False,  True,  True,  True,  True,  True,  True, False,\n",
       "        True,  True, False,  True, False, False,  True,  True, False,\n",
       "       False, False, False, False, False,  True, False, False, False,\n",
       "        True,  True, False, False,  True, False, False,  True, False,\n",
       "       False,  True,  True,  True, False, False,  True,  True,  True,\n",
       "        True,  True,  True, False, False, False, False, False,  True,\n",
       "       False,  True,  True, False, False, False,  True,  True,  True,\n",
       "       False,  True,  True,  True,  True, False,  True,  True, False,\n",
       "       False,  True,  True,  True,  True, False,  True,  True,  True,\n",
       "       False, False,  True, False, False,  True, False, False,  True,\n",
       "       False, False,  True, False, False, False, False, False,  True,\n",
       "        True, False, False, False, False,  True,  True,  True, False,\n",
       "       False, False, False, False,  True,  True, False, False, False,\n",
       "       False, False, False, False,  True, False, False,  True,  True,\n",
       "       False,  True,  True,  True, False,  True, False, False, False,\n",
       "       False,  True, False, False, False, False, False, False,  True,\n",
       "        True, False,  True, False,  True,  True,  True, False, False,\n",
       "       False,  True, False, False,  True,  True, False, False, False,\n",
       "        True, False,  True, False,  True,  True, False, False,  True,\n",
       "       False, False, False, False, False,  True,  True,  True, False,\n",
       "       False, False, False, False, False, False, False, False,  True,\n",
       "        True,  True,  True, False, False,  True,  True,  True, False,\n",
       "       False,  True, False, False,  True,  True,  True,  True, False,\n",
       "        True, False, False,  True, False, False,  True, False, False,\n",
       "        True,  True,  True,  True, False, False,  True, False,  True,\n",
       "        True, False,  True,  True, False,  True, False, False, False,\n",
       "        True,  True,  True, False, False, False, False,  True, False,\n",
       "       False,  True, False, False, False, False, False,  True,  True,\n",
       "        True])"
      ]
     },
     "execution_count": 50,
     "metadata": {},
     "output_type": "execute_result"
    }
   ],
   "source": [
    "a"
   ]
  },
  {
   "cell_type": "code",
   "execution_count": 51,
   "metadata": {},
   "outputs": [
    {
     "data": {
      "text/plain": [
       "array([ True, False,  True,  True,  True,  True,  True,  True, False,\n",
       "       False, False,  True, False,  True,  True, False, False,  True,\n",
       "       False,  True,  True, False, False,  True, False, False,  True,\n",
       "        True,  True, False,  True, False, False, False,  True, False,\n",
       "        True, False, False, False,  True,  True,  True,  True,  True,\n",
       "        True,  True,  True,  True, False, False, False, False,  True,\n",
       "        True, False, False,  True,  True, False,  True,  True, False,\n",
       "        True,  True,  True,  True,  True, False, False, False,  True,\n",
       "       False,  True,  True, False,  True,  True,  True,  True, False,\n",
       "        True,  True, False,  True, False, False,  True, False,  True,\n",
       "        True, False, False, False,  True, False, False,  True,  True,\n",
       "       False, False,  True, False, False,  True,  True,  True,  True,\n",
       "        True, False,  True, False, False, False, False, False,  True,\n",
       "        True,  True,  True, False,  True, False, False,  True, False,\n",
       "       False,  True,  True,  True, False, False,  True, False, False,\n",
       "       False, False, False,  True,  True, False, False, False,  True,\n",
       "        True, False, False, False,  True, False, False,  True, False,\n",
       "       False,  True, False,  True, False, False,  True, False,  True,\n",
       "       False,  True,  True,  True, False, False, False, False,  True,\n",
       "       False,  True, False, False,  True,  True, False, False, False,\n",
       "        True, False, False,  True,  True,  True,  True,  True,  True,\n",
       "        True, False, False, False, False, False, False,  True, False,\n",
       "        True, False,  True,  True, False,  True, False,  True,  True,\n",
       "       False, False,  True, False,  True,  True,  True,  True,  True,\n",
       "       False, False, False,  True,  True, False, False, False,  True,\n",
       "       False,  True,  True,  True,  True, False,  True, False,  True,\n",
       "        True, False,  True,  True, False,  True,  True,  True,  True,\n",
       "        True, False, False,  True, False, False, False, False, False,\n",
       "       False, False,  True,  True, False, False, False,  True, False,\n",
       "        True, False,  True, False, False, False, False,  True, False,\n",
       "        True, False,  True,  True, False, False, False,  True,  True,\n",
       "       False,  True, False, False, False,  True,  True, False,  True,\n",
       "        True, False,  True,  True,  True, False,  True, False,  True,\n",
       "        True,  True,  True, False,  True,  True,  True, False, False,\n",
       "        True,  True, False, False,  True, False, False,  True,  True,\n",
       "       False, False,  True,  True,  True,  True, False,  True, False,\n",
       "        True,  True, False, False,  True, False,  True,  True, False,\n",
       "       False,  True,  True,  True, False,  True, False, False,  True,\n",
       "        True,  True, False,  True,  True,  True,  True,  True,  True,\n",
       "        True, False,  True, False, False,  True,  True, False, False,\n",
       "        True, False,  True,  True, False, False,  True, False, False,\n",
       "        True, False, False,  True, False, False, False, False,  True,\n",
       "        True, False, False, False, False,  True, False,  True,  True,\n",
       "       False, False, False, False, False, False, False,  True, False,\n",
       "       False, False, False,  True, False,  True,  True,  True,  True,\n",
       "        True, False,  True,  True, False,  True,  True,  True, False,\n",
       "       False,  True, False, False,  True, False,  True, False,  True,\n",
       "       False,  True,  True, False, False, False,  True,  True, False,\n",
       "       False,  True,  True,  True, False,  True, False, False, False,\n",
       "       False,  True, False,  True,  True,  True,  True, False,  True,\n",
       "        True, False,  True, False, False,  True, False,  True,  True,\n",
       "        True,  True,  True,  True,  True, False, False,  True, False,\n",
       "       False, False,  True,  True,  True, False, False, False, False,\n",
       "       False, False,  True,  True, False,  True, False,  True, False,\n",
       "       False, False, False, False, False, False,  True, False,  True,\n",
       "       False,  True, False, False, False, False, False,  True, False,\n",
       "        True,  True,  True,  True, False, False,  True,  True,  True,\n",
       "        True,  True,  True,  True,  True, False,  True,  True,  True,\n",
       "        True,  True, False, False,  True,  True, False, False,  True,\n",
       "        True,  True,  True, False, False,  True, False,  True,  True,\n",
       "       False,  True, False, False, False,  True, False, False,  True,\n",
       "        True, False,  True,  True,  True, False,  True,  True,  True,\n",
       "       False,  True, False,  True, False, False,  True,  True, False,\n",
       "        True,  True,  True,  True,  True, False, False,  True,  True,\n",
       "        True,  True,  True,  True,  True, False, False, False, False,\n",
       "       False,  True,  True,  True, False, False,  True, False,  True,\n",
       "       False,  True,  True,  True,  True,  True, False, False,  True,\n",
       "       False,  True, False, False,  True,  True, False, False, False,\n",
       "        True, False,  True, False, False, False,  True,  True, False,\n",
       "       False,  True,  True, False, False, False,  True, False,  True,\n",
       "        True,  True,  True, False,  True,  True, False,  True, False,\n",
       "       False, False,  True,  True, False,  True, False,  True,  True,\n",
       "       False,  True, False, False, False,  True,  True, False,  True,\n",
       "        True, False,  True,  True,  True,  True, False, False,  True,\n",
       "        True,  True,  True,  True,  True, False,  True,  True,  True,\n",
       "       False,  True, False, False, False,  True, False, False, False,\n",
       "        True, False,  True,  True,  True, False,  True,  True,  True,\n",
       "        True, False,  True,  True,  True,  True, False, False, False,\n",
       "       False,  True,  True,  True, False, False,  True, False, False,\n",
       "       False,  True, False,  True, False, False, False,  True,  True,\n",
       "       False,  True, False,  True,  True,  True,  True,  True,  True,\n",
       "        True,  True, False, False,  True, False,  True, False,  True,\n",
       "       False, False, False, False,  True,  True, False, False, False,\n",
       "       False,  True, False, False, False, False, False, False,  True,\n",
       "       False, False,  True, False,  True,  True, False, False,  True,\n",
       "        True,  True,  True,  True,  True, False,  True,  True,  True,\n",
       "       False, False,  True,  True, False,  True,  True, False,  True,\n",
       "        True, False, False, False,  True,  True, False, False, False,\n",
       "       False, False, False,  True,  True,  True,  True,  True, False,\n",
       "        True, False, False,  True,  True,  True, False, False, False,\n",
       "        True, False, False, False, False,  True, False, False,  True,\n",
       "        True, False, False, False, False,  True, False, False, False,\n",
       "        True,  True, False,  True,  True, False,  True,  True, False,\n",
       "        True,  True, False,  True,  True,  True,  True,  True, False,\n",
       "       False,  True,  True,  True,  True, False, False, False,  True,\n",
       "        True,  True,  True,  True, False, False,  True,  True,  True,\n",
       "        True,  True,  True,  True, False,  True,  True, False, False,\n",
       "        True, False, False, False,  True, False,  True,  True,  True,\n",
       "        True, False,  True,  True,  True,  True,  True,  True, False,\n",
       "       False,  True, False,  True, False, False, False,  True,  True,\n",
       "        True, False,  True,  True, False, False,  True,  True,  True,\n",
       "       False,  True, False,  True, False, False,  True,  True, False,\n",
       "        True,  True,  True,  True,  True, False, False, False,  True,\n",
       "        True,  True,  True,  True,  True,  True,  True,  True, False,\n",
       "       False, False, False,  True,  True, False, False, False,  True,\n",
       "        True, False,  True,  True, False, False, False, False,  True,\n",
       "       False,  True,  True, False,  True,  True, False,  True,  True,\n",
       "       False, False, False, False,  True,  True, False,  True, False,\n",
       "       False,  True, False, False,  True, False,  True,  True,  True,\n",
       "       False, False, False,  True,  True,  True,  True, False,  True,\n",
       "        True, False,  True,  True,  True,  True,  True, False, False,\n",
       "       False])"
      ]
     },
     "execution_count": 51,
     "metadata": {},
     "output_type": "execute_result"
    }
   ],
   "source": [
    "np.invert(a)"
   ]
  },
  {
   "cell_type": "code",
   "execution_count": 87,
   "metadata": {},
   "outputs": [
    {
     "data": {
      "text/plain": [
       "1"
      ]
     },
     "execution_count": 87,
     "metadata": {},
     "output_type": "execute_result"
    }
   ],
   "source": [
    "np.arange(0, 10, 10).shape[0]"
   ]
  },
  {
   "cell_type": "code",
   "execution_count": null,
   "metadata": {},
   "outputs": [],
   "source": [
    "len('post_samp_data_"
   ]
  }
 ],
 "metadata": {
  "kernelspec": {
   "display_name": "Python 3",
   "language": "python",
   "name": "python3"
  },
  "language_info": {
   "codemirror_mode": {
    "name": "ipython",
    "version": 3
   },
   "file_extension": ".py",
   "mimetype": "text/x-python",
   "name": "python",
   "nbconvert_exporter": "python",
   "pygments_lexer": "ipython3",
   "version": "3.7.4"
  }
 },
 "nbformat": 4,
 "nbformat_minor": 4
}
