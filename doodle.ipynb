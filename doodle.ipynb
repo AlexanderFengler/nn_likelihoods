{
 "cells": [
  {
   "cell_type": "code",
   "execution_count": 2,
   "metadata": {},
   "outputs": [],
   "source": [
    "# Load packages\n",
    "import tensorflow as tf\n",
    "import pandas as pd\n",
    "from tensorflow import keras\n",
    "import numpy as np\n",
    "import pandas as pd\n",
    "import os\n",
    "import scipy as scp\n",
    "import scipy.stats as scps\n",
    "import pickle\n",
    "\n",
    "# Load my own functions\n",
    "import dnnregressor_train_eval_keras as dnnk\n",
    "from kde_training_utilities import kde_load_data\n",
    "import make_data_wfpt as mdw\n"
   ]
  },
  {
   "cell_type": "code",
   "execution_count": null,
   "metadata": {},
   "outputs": [],
   "source": [
    "from tensorflow.keras.layers import Input, Dense\n",
    "from tensorflow.keras.models import Model"
   ]
  },
  {
   "cell_type": "code",
   "execution_count": null,
   "metadata": {},
   "outputs": [],
   "source": [
    "inputs = Input(shape = (7,))\n",
    "x = Dense(20, activation = 'relu')(inputs)\n",
    "x = Dense(40, activation = 'relu')(x)\n",
    "x = Dense(60, activation = 'relu')(x)\n",
    "x = Dense(80, activation = 'relu')(x)\n",
    "x = Dense(100, activation = 'relu')(x)\n",
    "x = Dense(120, activation = 'relu')(x)\n",
    "predictions = Dense(1, activation = 'linear')(x)\n",
    "model = Model(inputs = inputs, outputs = predictions)\n",
    "model.compile(optimizer = 'nadam',\n",
    "              loss = 'mse',\n",
    "              metrics = ['mse'])"
   ]
  },
  {
   "cell_type": "code",
   "execution_count": null,
   "metadata": {},
   "outputs": [],
   "source": [
    "data = np.random.uniform(low = -1, high = 1, size = ((100000000, 7)))\n",
    "labels = np.matmul(data, np.array([1, 2, 3, 4, 5, 6, 7]))\n",
    "labels = labels + np.random.normal(loc = 0, scale = 0.1, size = 100000000)\n",
    "#labesl = np.random.uniform(low = -1, high = 1, size = ((100000000, 1)))"
   ]
  },
  {
   "cell_type": "code",
   "execution_count": null,
   "metadata": {},
   "outputs": [],
   "source": [
    "data_test = np.random.uniform(low = -1, high = 1, size = ((10000000, 7)))\n",
    "labels_test = np.matmul(data_test, np.array([1, 2, 3, 4, 5, 6, 7]))\n",
    "labels_test = labels_test + np.random.normal(loc = 0, scale = 0.1, size = 10000000)"
   ]
  },
  {
   "cell_type": "code",
   "execution_count": null,
   "metadata": {},
   "outputs": [],
   "source": [
    "out = model.fit(data[:,:7],\n",
    "                  labels,\n",
    "                  epochs = 20,\n",
    "                  validation_data = ((data_test, labels_test)),\n",
    "                  batch_size = 200000)"
   ]
  },
  {
   "cell_type": "code",
   "execution_count": null,
   "metadata": {},
   "outputs": [],
   "source": [
    "from scipy.stats import gamma\n",
    "from scipy.stats import weibull"
   ]
  },
  {
   "cell_type": "code",
   "execution_count": null,
   "metadata": {},
   "outputs": [],
   "source": [
    "gamma.(1, a = 1, scale = 0.1)"
   ]
  },
  {
   "cell_type": "code",
   "execution_count": null,
   "metadata": {},
   "outputs": [],
   "source": [
    "weibull.pdf(a = 1, scale = 0.1)"
   ]
  },
  {
   "cell_type": "code",
   "execution_count": null,
   "metadata": {},
   "outputs": [],
   "source": [
    "np.power(3, 1/3)"
   ]
  },
  {
   "cell_type": "code",
   "execution_count": null,
   "metadata": {},
   "outputs": [],
   "source": [
    "(0) ** (1/3)"
   ]
  },
  {
   "cell_type": "code",
   "execution_count": null,
   "metadata": {},
   "outputs": [],
   "source": [
    "a = ['a', 'b', 'c'] + ['d', 'e']"
   ]
  },
  {
   "cell_type": "code",
   "execution_count": 32,
   "metadata": {},
   "outputs": [],
   "source": [
    "dir_ = '/home/afengler/git_repos/nn_likelihoods/data_storage/kde/kde_ddm_flexbound_train_test_extended_params/'\n",
    "files_ = os.listdir(dir_)\n",
    "files_.sort()\n",
    "test_label_files = []\n",
    "train_label_files = []\n",
    "test_features_files = []\n",
    "train_features_files = []\n",
    "\n",
    "for file_ in files_:\n",
    "    if file_[:6] == 'test_l':\n",
    "        test_label_files.append(file_)\n",
    "    if file_[:6] == 'test_f':\n",
    "        test_features_files.append(file_)\n",
    "    if file_[:7] == 'train_l':\n",
    "        train_label_files.append(file_)\n",
    "    if file_[:7] == 'train_f':\n",
    "        train_features_files.append(file_)"
   ]
  },
  {
   "cell_type": "code",
   "execution_count": 23,
   "metadata": {},
   "outputs": [],
   "source": [
    "data = pd.concat([pd.read_pickle(dir_ + file_) for file_ in test_label_files])\n",
    "data.reset_index(drop = True, inplace = True)\n",
    "data.to_pickle('/home/afengler/git_repos/nn_likelihoods/data_storage/kde/kde_ddm_flexbound_train_test_extended_params/test_labels.pickle',\n",
    "              protocol = 4)"
   ]
  },
  {
   "cell_type": "code",
   "execution_count": 26,
   "metadata": {},
   "outputs": [],
   "source": [
    "data = pd.concat([pd.read_pickle(dir_ + file_) for file_ in test_features_files])\n",
    "data.reset_index(drop = True, inplace = True)"
   ]
  },
  {
   "cell_type": "code",
   "execution_count": 28,
   "metadata": {},
   "outputs": [],
   "source": [
    "data.to_pickle('/home/afengler/git_repos/nn_likelihoods/data_storage/kde/kde_ddm_flexbound_train_test_extended_params/test_features.pickle',\n",
    "              protocol = 4)"
   ]
  },
  {
   "cell_type": "code",
   "execution_count": 33,
   "metadata": {},
   "outputs": [],
   "source": [
    "data = pd.concat([pd.read_pickle(dir_ + file_) for file_ in train_features_files])\n",
    "data.reset_index(drop = True, inplace = True)"
   ]
  },
  {
   "cell_type": "code",
   "execution_count": 34,
   "metadata": {},
   "outputs": [],
   "source": [
    "data.to_pickle('/home/afengler/git_repos/nn_likelihoods/data_storage/kde/kde_ddm_flexbound_train_test_extended_params/train_features.pickle',\n",
    "              protocol = 4)"
   ]
  },
  {
   "cell_type": "code",
   "execution_count": 36,
   "metadata": {},
   "outputs": [],
   "source": [
    "data = pd.concat([pd.read_pickle(dir_ + file_) for file_ in train_label_files])\n",
    "data.reset_index(drop = True, inplace = True)"
   ]
  },
  {
   "cell_type": "code",
   "execution_count": 37,
   "metadata": {},
   "outputs": [],
   "source": [
    "data.to_pickle('/home/afengler/git_repos/nn_likelihoods/data_storage/kde/kde_ddm_flexbound_train_test_extended_params/train_labels.pickle',\n",
    "              protocol = 4)"
   ]
  },
  {
   "cell_type": "code",
   "execution_count": 38,
   "metadata": {},
   "outputs": [],
   "source": [
    "train_features, train_labels, test_features, test_labels = kde_load_data(folder = '/home/afengler/git_repos/nn_likelihoods/data_storage/kde/kde_ddm_flexbound_train_test_extended_params/')"
   ]
  },
  {
   "cell_type": "code",
   "execution_count": 39,
   "metadata": {},
   "outputs": [
    {
     "data": {
      "text/plain": [
       "(197646506, 7)"
      ]
     },
     "execution_count": 39,
     "metadata": {},
     "output_type": "execute_result"
    }
   ],
   "source": [
    "train_features.shape"
   ]
  },
  {
   "cell_type": "code",
   "execution_count": 40,
   "metadata": {},
   "outputs": [
    {
     "data": {
      "text/plain": [
       "(197646506, 1)"
      ]
     },
     "execution_count": 40,
     "metadata": {},
     "output_type": "execute_result"
    }
   ],
   "source": [
    "train_labels.shape"
   ]
  },
  {
   "cell_type": "code",
   "execution_count": 41,
   "metadata": {},
   "outputs": [
    {
     "data": {
      "text/plain": [
       "(21961430, 7)"
      ]
     },
     "execution_count": 41,
     "metadata": {},
     "output_type": "execute_result"
    }
   ],
   "source": [
    "test_features.shape"
   ]
  },
  {
   "cell_type": "code",
   "execution_count": 42,
   "metadata": {},
   "outputs": [
    {
     "data": {
      "text/plain": [
       "(21961430, 1)"
      ]
     },
     "execution_count": 42,
     "metadata": {},
     "output_type": "execute_result"
    }
   ],
   "source": [
    "test_labels.shape"
   ]
  },
  {
   "cell_type": "code",
   "execution_count": 43,
   "metadata": {},
   "outputs": [],
   "source": [
    "test_file = train_features.values"
   ]
  },
  {
   "cell_type": "code",
   "execution_count": 44,
   "metadata": {},
   "outputs": [
    {
     "data": {
      "text/plain": [
       "(197646506, 7)"
      ]
     },
     "execution_count": 44,
     "metadata": {},
     "output_type": "execute_result"
    }
   ],
   "source": [
    "test_file.shape"
   ]
  },
  {
   "cell_type": "code",
   "execution_count": 23,
   "metadata": {},
   "outputs": [],
   "source": [
    "#np.random.normal(size = (10, 10))\n",
    "t = pd.DataFrame(np.random.normal(size = (10, 10)))"
   ]
  },
  {
   "cell_type": "code",
   "execution_count": 8,
   "metadata": {},
   "outputs": [],
   "source": [
    "t.reset_index(drop = True, inplace = True)"
   ]
  },
  {
   "cell_type": "code",
   "execution_count": 25,
   "metadata": {},
   "outputs": [],
   "source": [
    "np.random.shuffle(t.values)"
   ]
  },
  {
   "cell_type": "code",
   "execution_count": 26,
   "metadata": {},
   "outputs": [
    {
     "data": {
      "text/html": [
       "<div>\n",
       "<style scoped>\n",
       "    .dataframe tbody tr th:only-of-type {\n",
       "        vertical-align: middle;\n",
       "    }\n",
       "\n",
       "    .dataframe tbody tr th {\n",
       "        vertical-align: top;\n",
       "    }\n",
       "\n",
       "    .dataframe thead th {\n",
       "        text-align: right;\n",
       "    }\n",
       "</style>\n",
       "<table border=\"1\" class=\"dataframe\">\n",
       "  <thead>\n",
       "    <tr style=\"text-align: right;\">\n",
       "      <th></th>\n",
       "      <th>0</th>\n",
       "      <th>1</th>\n",
       "      <th>2</th>\n",
       "      <th>3</th>\n",
       "      <th>4</th>\n",
       "      <th>5</th>\n",
       "      <th>6</th>\n",
       "      <th>7</th>\n",
       "      <th>8</th>\n",
       "      <th>9</th>\n",
       "    </tr>\n",
       "  </thead>\n",
       "  <tbody>\n",
       "    <tr>\n",
       "      <th>0</th>\n",
       "      <td>-1.771502</td>\n",
       "      <td>1.689947</td>\n",
       "      <td>1.501462</td>\n",
       "      <td>0.161631</td>\n",
       "      <td>0.593106</td>\n",
       "      <td>-1.063122</td>\n",
       "      <td>-0.127407</td>\n",
       "      <td>-1.581613</td>\n",
       "      <td>-0.158417</td>\n",
       "      <td>0.487024</td>\n",
       "    </tr>\n",
       "    <tr>\n",
       "      <th>1</th>\n",
       "      <td>1.537146</td>\n",
       "      <td>-0.054534</td>\n",
       "      <td>1.003723</td>\n",
       "      <td>0.034936</td>\n",
       "      <td>0.701629</td>\n",
       "      <td>-1.652743</td>\n",
       "      <td>-0.216659</td>\n",
       "      <td>1.187906</td>\n",
       "      <td>-0.573159</td>\n",
       "      <td>-0.750105</td>\n",
       "    </tr>\n",
       "    <tr>\n",
       "      <th>2</th>\n",
       "      <td>1.770495</td>\n",
       "      <td>-0.058938</td>\n",
       "      <td>-1.005024</td>\n",
       "      <td>-1.659164</td>\n",
       "      <td>-0.007590</td>\n",
       "      <td>-1.807557</td>\n",
       "      <td>0.866412</td>\n",
       "      <td>-0.048335</td>\n",
       "      <td>0.192104</td>\n",
       "      <td>-1.867347</td>\n",
       "    </tr>\n",
       "    <tr>\n",
       "      <th>3</th>\n",
       "      <td>-0.408854</td>\n",
       "      <td>0.067325</td>\n",
       "      <td>0.178154</td>\n",
       "      <td>-2.731687</td>\n",
       "      <td>0.328677</td>\n",
       "      <td>0.378567</td>\n",
       "      <td>-1.885901</td>\n",
       "      <td>0.650359</td>\n",
       "      <td>0.690982</td>\n",
       "      <td>-2.888929</td>\n",
       "    </tr>\n",
       "    <tr>\n",
       "      <th>4</th>\n",
       "      <td>-0.579516</td>\n",
       "      <td>1.486295</td>\n",
       "      <td>0.090608</td>\n",
       "      <td>0.337404</td>\n",
       "      <td>-1.486145</td>\n",
       "      <td>0.347475</td>\n",
       "      <td>1.220381</td>\n",
       "      <td>0.268492</td>\n",
       "      <td>-0.775415</td>\n",
       "      <td>0.425727</td>\n",
       "    </tr>\n",
       "    <tr>\n",
       "      <th>5</th>\n",
       "      <td>-2.036128</td>\n",
       "      <td>-0.337222</td>\n",
       "      <td>-0.420846</td>\n",
       "      <td>-1.423281</td>\n",
       "      <td>-0.509736</td>\n",
       "      <td>-0.487674</td>\n",
       "      <td>-0.832205</td>\n",
       "      <td>1.248485</td>\n",
       "      <td>-0.810082</td>\n",
       "      <td>2.531477</td>\n",
       "    </tr>\n",
       "    <tr>\n",
       "      <th>6</th>\n",
       "      <td>-0.366051</td>\n",
       "      <td>-1.424753</td>\n",
       "      <td>-0.151458</td>\n",
       "      <td>0.705435</td>\n",
       "      <td>0.084518</td>\n",
       "      <td>-1.455251</td>\n",
       "      <td>-0.477419</td>\n",
       "      <td>-1.371230</td>\n",
       "      <td>0.151248</td>\n",
       "      <td>1.723548</td>\n",
       "    </tr>\n",
       "    <tr>\n",
       "      <th>7</th>\n",
       "      <td>0.166247</td>\n",
       "      <td>1.184066</td>\n",
       "      <td>0.477576</td>\n",
       "      <td>-0.319086</td>\n",
       "      <td>-0.052626</td>\n",
       "      <td>-1.319654</td>\n",
       "      <td>-0.537558</td>\n",
       "      <td>-0.424687</td>\n",
       "      <td>-0.334830</td>\n",
       "      <td>-0.424441</td>\n",
       "    </tr>\n",
       "    <tr>\n",
       "      <th>8</th>\n",
       "      <td>-0.799583</td>\n",
       "      <td>-0.619843</td>\n",
       "      <td>-1.001733</td>\n",
       "      <td>-0.182371</td>\n",
       "      <td>-0.079835</td>\n",
       "      <td>-0.184605</td>\n",
       "      <td>-1.693846</td>\n",
       "      <td>1.042965</td>\n",
       "      <td>0.544086</td>\n",
       "      <td>2.157615</td>\n",
       "    </tr>\n",
       "    <tr>\n",
       "      <th>9</th>\n",
       "      <td>-0.031799</td>\n",
       "      <td>-0.001501</td>\n",
       "      <td>-0.255812</td>\n",
       "      <td>-1.097071</td>\n",
       "      <td>-0.019740</td>\n",
       "      <td>2.165596</td>\n",
       "      <td>-0.797340</td>\n",
       "      <td>0.263333</td>\n",
       "      <td>-2.627371</td>\n",
       "      <td>-1.446824</td>\n",
       "    </tr>\n",
       "  </tbody>\n",
       "</table>\n",
       "</div>"
      ],
      "text/plain": [
       "          0         1         2         3         4         5         6  \\\n",
       "0 -1.771502  1.689947  1.501462  0.161631  0.593106 -1.063122 -0.127407   \n",
       "1  1.537146 -0.054534  1.003723  0.034936  0.701629 -1.652743 -0.216659   \n",
       "2  1.770495 -0.058938 -1.005024 -1.659164 -0.007590 -1.807557  0.866412   \n",
       "3 -0.408854  0.067325  0.178154 -2.731687  0.328677  0.378567 -1.885901   \n",
       "4 -0.579516  1.486295  0.090608  0.337404 -1.486145  0.347475  1.220381   \n",
       "5 -2.036128 -0.337222 -0.420846 -1.423281 -0.509736 -0.487674 -0.832205   \n",
       "6 -0.366051 -1.424753 -0.151458  0.705435  0.084518 -1.455251 -0.477419   \n",
       "7  0.166247  1.184066  0.477576 -0.319086 -0.052626 -1.319654 -0.537558   \n",
       "8 -0.799583 -0.619843 -1.001733 -0.182371 -0.079835 -0.184605 -1.693846   \n",
       "9 -0.031799 -0.001501 -0.255812 -1.097071 -0.019740  2.165596 -0.797340   \n",
       "\n",
       "          7         8         9  \n",
       "0 -1.581613 -0.158417  0.487024  \n",
       "1  1.187906 -0.573159 -0.750105  \n",
       "2 -0.048335  0.192104 -1.867347  \n",
       "3  0.650359  0.690982 -2.888929  \n",
       "4  0.268492 -0.775415  0.425727  \n",
       "5  1.248485 -0.810082  2.531477  \n",
       "6 -1.371230  0.151248  1.723548  \n",
       "7 -0.424687 -0.334830 -0.424441  \n",
       "8  1.042965  0.544086  2.157615  \n",
       "9  0.263333 -2.627371 -1.446824  "
      ]
     },
     "execution_count": 26,
     "metadata": {},
     "output_type": "execute_result"
    }
   ],
   "source": [
    "t"
   ]
  },
  {
   "cell_type": "code",
   "execution_count": null,
   "metadata": {},
   "outputs": [],
   "source": []
  }
 ],
 "metadata": {
  "kernelspec": {
   "display_name": "tf-gpu",
   "language": "python",
   "name": "tf-gpu"
  },
  "language_info": {
   "codemirror_mode": {
    "name": "ipython",
    "version": 3
   },
   "file_extension": ".py",
   "mimetype": "text/x-python",
   "name": "python",
   "nbconvert_exporter": "python",
   "pygments_lexer": "ipython3",
   "version": "3.6.8"
  }
 },
 "nbformat": 4,
 "nbformat_minor": 2
}
