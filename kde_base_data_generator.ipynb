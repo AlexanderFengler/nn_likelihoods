{
 "cells": [
  {
   "cell_type": "code",
   "execution_count": 11,
   "metadata": {},
   "outputs": [],
   "source": [
    "# Basic python utilities\n",
    "import numpy as np\n",
    "import scipy as scp \n",
    "\n",
    "# Parallelization\n",
    "import multiprocessing as mp\n",
    "from  multiprocessing import Process\n",
    "from  multiprocessing import Pool\n",
    "import psutil\n",
    "\n",
    "# System utilities\n",
    "from datetime import datetime\n",
    "import time\n",
    "import os\n",
    "import pickle \n",
    "import uuid\n",
    "\n",
    "# My own code\n",
    "import kde_class as kde\n",
    "import ddm_data_simulation as ddm_simulator "
   ]
  },
  {
   "cell_type": "code",
   "execution_count": 12,
   "metadata": {},
   "outputs": [],
   "source": [
    "# Get cpu cnt\n",
    "n_cpus = psutil.cpu_count(logical = False)"
   ]
  },
  {
   "cell_type": "code",
   "execution_count": 13,
   "metadata": {},
   "outputs": [],
   "source": [
    "# Parameter ranges (for the simulator)\n",
    "v = [-2.5, 2.5]\n",
    "w = [0.15, 0.85]\n",
    "a = [0.5, 3]\n",
    "\n",
    "# Simulator parameters \n",
    "simulator = 'ddm'\n",
    "s = 1\n",
    "delta_t = 0.01\n",
    "max_t = 20\n",
    "n_samples = 10000\n",
    "print_info = False\n",
    "\n",
    "# Number of kdes to generate\n",
    "n_kdes = 10"
   ]
  },
  {
   "cell_type": "code",
   "execution_count": 14,
   "metadata": {},
   "outputs": [],
   "source": [
    "# Make function input tuples\n",
    "v_sample = np.random.uniform(low = v[0], high = v[1], size = n_kdes)\n",
    "w_sample = np.random.uniform(low = w[0], high = w[1], size = n_kdes)\n",
    "a_sample = np.random.uniform(low = a[0], high = a[1], size = n_kdes)\n",
    "\n",
    "args_list = []\n",
    "for i in range(0, n_kdes, 1):\n",
    "    args_list.append((v_sample[i], a_sample[i], w_sample[i], s, delta_t, max_t, n_samples, print_info))"
   ]
  },
  {
   "cell_type": "code",
   "execution_count": 15,
   "metadata": {},
   "outputs": [],
   "source": [
    "# Defining main function to iterate over:\n",
    "def data_generator(*args):\n",
    "    simulator_data = ddm_simulator.ddm_simulate(*args)\n",
    "    file_name = simulator + '_' + datetime.now().strftime('%m_%d_%y_%H_%M_%S') + uuid.uuid1().hex \n",
    "    pickle.dump(simulator_data, open( file_name + '.pickle', \"wb\" ) )"
   ]
  },
  {
   "cell_type": "code",
   "execution_count": 16,
   "metadata": {},
   "outputs": [
    {
     "name": "stdout",
     "output_type": "stream",
     "text": [
      "finished: {'v:': -0.2741291333255096, 'a': 1.0094376018811488, 'w': 0.8412280130115959, 's': 1, 'delta_t': 0.01, 'max_t': 20, 'n_samples': 10000, 'simulator': 'ddm', 'boundary_fun_type': 'constant'}\n",
      "finished: {'v:': 1.603143152208573, 'a': 2.2924383299702207, 'w': 0.7324977733527329, 's': 1, 'delta_t': 0.01, 'max_t': 20, 'n_samples': 10000, 'simulator': 'ddm', 'boundary_fun_type': 'constant'}\n",
      "finished: {'v:': 0.20992828285405274, 'a': 2.0136634236947355, 'w': 0.6421393522767416, 's': 1, 'delta_t': 0.01, 'max_t': 20, 'n_samples': 10000, 'simulator': 'ddm', 'boundary_fun_type': 'constant'}\n",
      "finished: {'v:': 1.7778013388261575, 'a': 1.749642806107032, 'w': 0.3208533980865266, 's': 1, 'delta_t': 0.01, 'max_t': 20, 'n_samples': 10000, 'simulator': 'ddm', 'boundary_fun_type': 'constant'}\n",
      "finished: {'v:': -1.6801779170483226, 'a': 2.1378593109066055, 'w': 0.7011561775155708, 's': 1, 'delta_t': 0.01, 'max_t': 20, 'n_samples': 10000, 'simulator': 'ddm', 'boundary_fun_type': 'constant'}\n",
      "finished: {'v:': -2.3536671279658683, 'a': 0.5376035729110222, 'w': 0.4265312252433353, 's': 1, 'delta_t': 0.01, 'max_t': 20, 'n_samples': 10000, 'simulator': 'ddm', 'boundary_fun_type': 'constant'}\n",
      "finished: {'v:': -1.1835902578986763, 'a': 1.1758119972971268, 'w': 0.15687215168781546, 's': 1, 'delta_t': 0.01, 'max_t': 20, 'n_samples': 10000, 'simulator': 'ddm', 'boundary_fun_type': 'constant'}\n",
      "finished: {'v:': -1.222775615277771, 'a': 2.686088479951856, 'w': 0.6367256658876566, 's': 1, 'delta_t': 0.01, 'max_t': 20, 'n_samples': 10000, 'simulator': 'ddm', 'boundary_fun_type': 'constant'}\n",
      "finished: {'v:': 0.3153821661057723, 'a': 2.0401273295713565, 'w': 0.7179347799796807, 's': 1, 'delta_t': 0.01, 'max_t': 20, 'n_samples': 10000, 'simulator': 'ddm', 'boundary_fun_type': 'constant'}\n",
      "finished: {'v:': -1.2910777579481176, 'a': 2.1619901783637205, 'w': 0.6951936602287521, 's': 1, 'delta_t': 0.01, 'max_t': 20, 'n_samples': 10000, 'simulator': 'ddm', 'boundary_fun_type': 'constant'}\n"
     ]
    }
   ],
   "source": [
    "# Parallel Loop\n",
    "with Pool(processes = n_cpus) as pool:\n",
    "    res = pool.starmap(data_generator, args_list)"
   ]
  },
  {
   "cell_type": "code",
   "execution_count": 3,
   "metadata": {},
   "outputs": [],
   "source": [
    "# For reference\n",
    "test = pickle.load( open( \"ddm_03_31_19_21_37_44bf3d5ab4541e11e9bd30b8f6b116b4a7.picklew\", \"rb\" ) )"
   ]
  },
  {
   "cell_type": "code",
   "execution_count": null,
   "metadata": {},
   "outputs": [],
   "source": []
  }
 ],
 "metadata": {
  "kernelspec": {
   "display_name": "Python [conda root]",
   "language": "python",
   "name": "conda-root-py"
  },
  "language_info": {
   "codemirror_mode": {
    "name": "ipython",
    "version": 3
   },
   "file_extension": ".py",
   "mimetype": "text/x-python",
   "name": "python",
   "nbconvert_exporter": "python",
   "pygments_lexer": "ipython3",
   "version": "3.6.1"
  }
 },
 "nbformat": 4,
 "nbformat_minor": 2
}
