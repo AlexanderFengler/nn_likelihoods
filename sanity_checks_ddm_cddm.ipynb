{
 "cells": [
  {
   "cell_type": "code",
   "execution_count": 2,
   "metadata": {},
   "outputs": [],
   "source": [
    "import cddm_data_simulation as cds\n",
    "import ddm_data_simulation as ds\n",
    "import numpy as np\n",
    "import matplotlib.pyplot as plt\n",
    "import boundary_functions as bf"
   ]
  },
  {
   "cell_type": "code",
   "execution_count": 17,
   "metadata": {},
   "outputs": [],
   "source": [
    "# DDM\n",
    "#cdat = cds.ddm(a = 3, v = 1, n_samples = 100000)\n",
    "#cdat = cds.ddm_flexbound(a = 1, w = 0.7, v = 0.5, boundary_fun = bf.constant, n_samples = 100000)\n",
    "# cdat = cds.full_ddm(v = 0.5,\n",
    "#                     w = 0.7, \n",
    "#                     a = 2, \n",
    "#                     dw = 0.05, \n",
    "#                     sdv = 0.1,\n",
    "#                     boundary_fun = bf.constant, \n",
    "#                     boundary_params = {}, \n",
    "#                     n_samples = 100000)\n",
    "# cdat = cds.ornstein_uhlenbeck(a = 0.6, \n",
    "#                               v = 1,\n",
    "#                               g = -3, \n",
    "#                               n_samples = 5000, \n",
    "#                               boundary_fun = bf.constant, \n",
    "#                               boundary_params = {})\n",
    "# cdat = cds.race_model(v = np.array([0.3, 0.3, 0], dtype = np.float32),\n",
    "#                       w = np.array([0, 0.5, 0.7], dtype = np.float32),\n",
    "#                       a = 4.0, \n",
    "#                       boundary_fun = bf.constant,\n",
    "#                       boundary_params = {},\n",
    "#                       n_samples = 20000)\n",
    "# cdat = cds.lca(v = np.array([0, 1, 0], dtype = np.float32),\n",
    "#                w = np.array([0.5, 0.7, 0.5], dtype = np.float32),\n",
    "#                a = 2,\n",
    "#                g = -1,\n",
    "#                b = 2,\n",
    "#                boundary_fun = bf.constant,\n",
    "#                boundary_params = {},\n",
    "#                n_samples = 5000)"
   ]
  },
  {
   "cell_type": "code",
   "execution_count": 18,
   "metadata": {},
   "outputs": [
    {
     "data": {
      "text/plain": [
       "(array([47., 85., 87., 39., 34., 24., 22., 10., 10.,  9.,  4.,  5.,  2.,\n",
       "         1.,  0.,  0.,  2.,  1.,  0.,  1.]),\n",
       " array([0.09600002, 0.37033892, 0.6446778 , 0.9190167 , 1.1933556 ,\n",
       "        1.4676945 , 1.7420334 , 2.0163722 , 2.2907112 , 2.5650501 ,\n",
       "        2.839389  , 3.1137278 , 3.3880668 , 3.6624057 , 3.9367447 ,\n",
       "        4.2110834 , 4.4854226 , 4.7597613 , 5.0341    , 5.3084393 ,\n",
       "        5.582778  ], dtype=float32),\n",
       " <a list of 20 Patch objects>)"
      ]
     },
     "execution_count": 18,
     "metadata": {},
     "output_type": "execute_result"
    },
    {
     "data": {
      "image/png": "[encoded data removed]",
      "text/plain": [
       "<Figure size 432x288 with 1 Axes>"
      ]
     },
     "metadata": {
      "needs_background": "light"
     },
     "output_type": "display_data"
    }
   ],
   "source": [
    "plt.hist(cdat[0][cdat[1] == 0], alpha = 0.3, bins = 20)\n",
    "plt.hist(cdat[0][cdat[1] == 1], alpha = 0.3, bins = 20)\n",
    "plt.hist(cdat[0][cdat[1] == 2], alpha = 0.3, bins = 20)"
   ]
  },
  {
   "cell_type": "code",
   "execution_count": null,
   "metadata": {},
   "outputs": [],
   "source": [
    "plt.hist(cdat[0] * cdat[1], bins = np.arange(-15, 15, 0.5))\n",
    "plt.xlim(- 15, 15)"
   ]
  },
  {
   "cell_type": "code",
   "execution_count": null,
   "metadata": {},
   "outputs": [],
   "source": [
    "plt.hist(dat[0] * dat[1], bins = np.arange(-15, 15, 0.5))\n",
    "plt.xlim(- 15, 15)"
   ]
  },
  {
   "cell_type": "code",
   "execution_count": null,
   "metadata": {},
   "outputs": [],
   "source": [
    "# DDM Flexbound\n",
    "cdat = cds.ddm_flexbound(a = 1, boundary_fun = bf.constant, n_samples = 5000)"
   ]
  },
  {
   "cell_type": "code",
   "execution_count": null,
   "metadata": {},
   "outputs": [],
   "source": [
    "dat = ds.ddm_flexbound_simulate(a = 1, boundary_fun = bf.constant, boundary_params = {}, n_samples = 5000)"
   ]
  },
  {
   "cell_type": "code",
   "execution_count": null,
   "metadata": {},
   "outputs": [],
   "source": [
    "plt.hist(cdat[0] * cdat[1], bins = np.arange(-15, 15, 0.5))"
   ]
  },
  {
   "cell_type": "code",
   "execution_count": null,
   "metadata": {},
   "outputs": [],
   "source": [
    "plt.hist(dat[0] * dat[1], bins = np.arange(-15, 15, 0.5))"
   ]
  },
  {
   "cell_type": "code",
   "execution_count": null,
   "metadata": {},
   "outputs": [],
   "source": [
    "# Full ddm\n",
    "dat = ds.full_ddm(boundary_fun = bf.constant,\n",
    "                  boundary_params = {}, n_samples = 5000)"
   ]
  },
  {
   "cell_type": "code",
   "execution_count": null,
   "metadata": {},
   "outputs": [],
   "source": [
    "cdat = cds.full_ddm(boundary_fun = bf.constant, \n",
    "                    boundary_params = {}, n_samples = 5000,\n",
    "                    w = 0.7, v = 0.5, a = 2, dw = 0.05)"
   ]
  },
  {
   "cell_type": "code",
   "execution_count": null,
   "metadata": {},
   "outputs": [],
   "source": [
    "plt.hist(dat[0] * dat[1], bins = np.arange(-5, 5, 0.25))"
   ]
  },
  {
   "cell_type": "code",
   "execution_count": null,
   "metadata": {},
   "outputs": [],
   "source": [
    "plt.hist(cdat[0] * cdat[1], bins = np.arange(-5, 4, 0.25))"
   ]
  }
 ],
 "metadata": {
  "kernelspec": {
   "display_name": "Python 3",
   "language": "python",
   "name": "python3"
  },
  "language_info": {
   "codemirror_mode": {
    "name": "ipython",
    "version": 3
   },
   "file_extension": ".py",
   "mimetype": "text/x-python",
   "name": "python",
   "nbconvert_exporter": "python",
   "pygments_lexer": "ipython3",
   "version": "3.7.3"
  }
 },
 "nbformat": 4,
 "nbformat_minor": 2
}
