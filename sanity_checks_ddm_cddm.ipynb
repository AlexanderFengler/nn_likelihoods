{
 "cells": [
  {
   "cell_type": "code",
   "execution_count": 1,
   "metadata": {},
   "outputs": [],
   "source": [
    "import cddm_data_simulation as cds\n",
    "import ddm_data_simulation as ds\n",
    "import numpy as np\n",
    "import matplotlib.pyplot as plt"
   ]
  },
  {
   "cell_type": "code",
   "execution_count": 2,
   "metadata": {},
   "outputs": [
    {
     "name": "stdout",
     "output_type": "stream",
     "text": [
      "0  datapoints sampled\n",
      "1000  datapoints sampled\n",
      "2000  datapoints sampled\n",
      "3000  datapoints sampled\n",
      "4000  datapoints sampled\n",
      "5000  datapoints sampled\n",
      "6000  datapoints sampled\n",
      "7000  datapoints sampled\n",
      "8000  datapoints sampled\n",
      "9000  datapoints sampled\n"
     ]
    }
   ],
   "source": [
    "# DDM\n",
    "cdat = cds.ddm_simulate(a = 3, n_samples = 10000)\n",
    "dat = ds.ddm_simulate(a = 3, n_samples = 10000)"
   ]
  },
  {
   "cell_type": "code",
   "execution_count": null,
   "metadata": {},
   "outputs": [],
   "source": []
  }
 ],
 "metadata": {
  "kernelspec": {
   "display_name": "Python 3",
   "language": "python",
   "name": "python3"
  },
  "language_info": {
   "codemirror_mode": {
    "name": "ipython",
    "version": 3
   },
   "file_extension": ".py",
   "mimetype": "text/x-python",
   "name": "python",
   "nbconvert_exporter": "python",
   "pygments_lexer": "ipython3",
   "version": "3.7.3"
  }
 },
 "nbformat": 4,
 "nbformat_minor": 2
}
